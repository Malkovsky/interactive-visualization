{
 "cells": [
  {
   "cell_type": "markdown",
   "metadata": {},
   "source": [
    "# Кратчайшие пути"
   ]
  },
  {
   "cell_type": "markdown",
   "metadata": {},
   "source": [
    "Существуют вариации в зависимости от конкретного случая, но обычно базовой задачей о кратчайших путях считают следующую: дана вершина $s$, найти пути миниальной длины (длина пути -- сумма длин образующих его ребер) до всех остальных вершин. В случае, если длины всех ребер одинаковы, то эта задача решается с помощью базового обхода в ширину, в общем случае его недостаточно, одна есть похожий по простоте метод, на котором основано подавляющее большинство методов нахождения кратчайших путей."
   ]
  },
  {
   "cell_type": "markdown",
   "metadata": {},
   "source": [
    "### Обозначения\n",
    "\\begin{align}\n",
    "u\\rightarrow v~-~& ребро~из~u~в~v \\\\\n",
    "u\\rightsquigarrow v~-~& путь~из~u~в~v \\\\\n",
    "u\\rightsquigarrow z\\rightsquigarrow v~-~& путь~из~u~в~v,~проходящий~через~z \\\\\n",
    "u\\rightsquigarrow z\\rightarrow v~-~& путь~из~u~в~v,~в~котором~последнее~ребро~начинается~в~z \\\\\n",
    "u\\rightarrow z\\rightsquigarrow v~-~& путь~из~u~в~v,~в~котором~первое~ребро~ведет~в~z \\\\\n",
    "u_i\\rightsquigarrow_{i=1}^{n-1} u_{i+1}=u_1\\rightarrow\\ldots\\rightarrow u_n ~-~& путь,~состоящий~из~ребер~u_1\\rightarrow u_2,~u_2\\rightarrow u_3,\\ldots,~u_{n-1}\\rightarrow~u_n. \\\\\n",
    "\\omega(u\\rightarrow v)~-~ & длина~ребра~u\\rightarrow v. \\\\\n",
    "\\omega(u_i\\rightsquigarrow_{i=1}^{n-1} u_{i+1})=\\sum_{i=1}^{n-1}\\omega(u_i\\rightarrow u_{i+1})~-~& длина~пути, состоящего~из~ребер~u_1\\rightarrow u_2,~u_2\\rightarrow u_3,\\ldots,~u_{n-1}\\rightarrow~u_n. \\\\\n",
    "d(u, v)~-~& минимальная~длина~пути~из~u~в~v.\n",
    "\\end{align}\n",
    "Так как путей из одной вершины в другую может быть много, то обозначение $u\\rightsquigarrow v$ предполагает какой-то путь. Если нужно будет уточнить промежуточные вершины в этом пути, то будут использованы правила конкатенации, указанные выше. Длина пути определяется как сумма длин ребер и, соответственно, используется только для путей с явным указанием последовательности ребер."
   ]
  },
  {
   "cell_type": "markdown",
   "metadata": {},
   "source": [
    "## Дерево кратчайших путей и динамическое программирование\n",
    "У кратчайших путей есть одно чрезвычайно важное свойство: если $u_1\\rightarrow\\ldots\\rightarrow u_n$ -- кратчайший путь из $u_1$ в $u_n$, то для всех $1\\leq i<j\\leq n$: $u_i\\rightarrow\\ldots\\rightarrow u_j$ -- кратчайший путь из $u_i$ в $u_j$, иначе говоря любой кусок оптимального пути также является оптимальным, это свойство обычно называют оптимальной подструктурой. Для решений задач с подобным свойством оказался очень успешным метод динамического программирования, который в целом можно описать следующими принципами:\n",
    "* Вместе с $d(u, v)$ вычисляем еще какие-то вспомагательные величины, также обозначающие кратчайшие пути, но обычно дополнительно чем-то ограниченые.\n",
    "* Последовательно вычислять вспомагательные величины начиная с коротких путей постепенно переходя к более длинным.\n",
    "\n",
    "Подробней уже в конкретных алгоритмах. \n",
    "\n",
    "Теперь предположим, что мы каким-то образом научились вычислять $d$ для одной пары вершин или нескольких, обычно нам не только интересно само расстояние, но и сам путь. Возникает следующая проблема: $d(u, v)$ -- это одно число, а вот путь -- это уже последовательность. Вопрос в том, можно компактно представить себе этот набор оптимальных путей? В случае, если нас интересуют оптимальные пути от одной вершины до всех остальных, то это удается сделать довольно изящно, очень сильно помагает оптимальная подструктура: если\n",
    "$$\n",
    "d(u_1, u_n)=\\omega(u_1\\rightarrow\\ldots\\rightarrow u_n),\n",
    "$$\n",
    "то\n",
    "\\begin{align}\n",
    "d(u_1, u_n)=\\omega(u_1\\rightarrow\\ldots\\rightarrow u_n)=\\omega(u_1\\rightarrow\\ldots\\rightarrow u_{n-1})+\\omega(u_{n-1}\\rightarrow u_n)=d(u_1, u_{n-1})+\\omega(u_{n-1}\\rightarrow u_n)\n",
    "\\end{align}\n",
    "По сути мы просто выделили последнее ребро на оптимальном пути. Предположим, что мы как-то умеем выделять оптимальный путь $u_1\\rightsquigarrow u_{n-1}$, тогда чтобы выделить оптимальный путь $u_1\\rightsquigarrow u_{n}$, то достаточно запомнить последнее ребро на этом оптимальном пути $u_{n-1}\\rightarrow u_n$ и дописать его в конец оптимального пути $u_1\\rightsquigarrow u_{n-1}$. Пример этой концепции покажу чуть позже"
   ]
  },
  {
   "cell_type": "markdown",
   "metadata": {},
   "source": [
    "## Сканирующий метод"
   ]
  },
  {
   "cell_type": "markdown",
   "metadata": {},
   "source": [
    "Базовый метод для нахождения кратчайших путей заключается в следующем:\n",
    "\\begin{align}\n",
    "&scan\\_arc(v\\rightarrow u): \\\\\n",
    "&~ ~ ~ ~if (l(v) + \\omega(v\\rightarrow u) < l(u)) \\\\\n",
    "&~ ~ ~ ~ ~ ~ ~ ~l(u)\\leftarrow l(v)+\\omega(v\\rightarrow u) \\\\\n",
    "&~ ~ ~ ~ ~ ~ ~ ~p(u)\\leftarrow v \\\\\n",
    "&~ ~ ~ ~ ~ ~ ~ ~mark(u)\\leftarrow labelled \\\\\n",
    "& \\\\\n",
    "&scan\\_vertex(v): \\\\\n",
    "&~ ~ ~ ~for~u~such~that~v\\rightarrow u~exists: \\\\\n",
    "&~ ~ ~ ~~ ~ ~ ~scan\\_arc(v\\rightarrow u) \\\\\n",
    "&~ ~ ~ ~mark(v)\\leftarrow scanned \\\\\n",
    "& \\\\\n",
    "& l(s)\\leftarrow 0,~mark(s)\\leftarrow labelled \\\\\n",
    "& while~exists~v~with~mark(v)=labelled:\\\\\n",
    "&~ ~ ~ ~scan\\_vertex(v)\n",
    "\\end{align}"
   ]
  },
  {
   "cell_type": "markdown",
   "metadata": {},
   "source": [
    "Здесь $l(v)$ -- это некоторое расстояние до вершины $v$, которое изменяется по ходу работы алгоритма какждый раз немного улучшаясь, $p(v)$ обновляется вместе с $l$ и запоминает предыдущую вершиу на пути, который мы сейчас считаем минимальным, $mark(v)$ -- пометка вершины: labelled означает, что с момента последнего сканирования этой вершины расстояние до нее изменилось (т.е. уменьшилось), а значит нужно её отсканировать заново; scanned означает, что мы отсканировали вершину, попытались с помощью неё уменьшить расстояния до её соседей, и при этом после этого расстояние до этой вершины не изменялось. \n",
    "\n",
    "Большинство известных методов нахождения кратчайших путей являются частыми случаями сканирующего метода и отличаются только тем, как выбирать вершины для сканирования в цикле."
   ]
  },
  {
   "cell_type": "markdown",
   "metadata": {},
   "source": [
    "### Анализ сканирующего метода\n",
    "Основные два утверждения касательно сканирующего метода заключается в том, что\n",
    "* Вне зависимости от выбора вершина для сканирования алгоритм завершается тогда и только тогда, когда в графе нет отрицательных циклов. Это также является необходимым и достаточным условием корректности задачи о кратчайших путях.\n",
    "* По завершению алгоритма для всех $v$ выполняется \n",
    "$$\n",
    "l(v)=d(s, v)\n",
    "$$\n",
    "* По завершению $p(v)$ содежит последнее ребро на кратчайшем пути из $s$ в $v$, соответственно ребра $p(v)\\rightarrow v$ образуют дерево кратчайших путей. \n",
    "\n",
    "\n",
    "Первый факт обосновывается следующим образом: если нет отрицательных циклов, значит минимальный путь существует и является простым (без повторений вершин); промежуточные пути в алгоритме являются простыми, вершина помечается $labelled$ только если путь до неё уменьшился, а значит количество раз, когда мы вызовем сканирование вершины конечно.\n",
    "\n",
    "Обоснования второго факта: для начала заметим, что сканирующий метод обязательно просмотрит все достижимые вершины, так как если запретить повторно сканировать вершину, то сканирущий метод вырождается в BFS. Для недостижимых вершин $l(v)=d(s, v)=+\\infty$. Далее заметим, что так как $l(v)$ соответствует длине какого-то пути $s\\rightsquigarrow v$, то по определению $d$\n",
    "$$\n",
    "l(v)\\geq d(s, v).\n",
    "$$\n",
    "Пусть оптимальный путь $s\\rightsquigarrow$ состоит из вершин $s=u_1, \\ldots, u_k=v$, каждая из этих вершин была просканирована хотя бы раз, а значит по завершению работы алгорима выполняется \n",
    "$$\n",
    "l(u_i)-l(u_{i-1})\\leq \\omega(u_{i-1}\\rightarrow u_i)\n",
    "$$\n",
    "(так как $l(u_i)$ может только уменьшаться и при этом после последнего сканирования $u_{i-1}$ это неравенство выполнялось). Просуммировав эти неравенства получаем\n",
    "$$\n",
    "l(v)=l(v)-l(s)\\leq \\sum_{i=1}^{n}\\omega(u_{i-1}\\rightarrow u_i)=d(s, v).\n",
    "$$\n",
    "Третее утверждение вытекает из второго и того факта, что $p(v)$ всегда обновляется вместе с $l(v)$."
   ]
  },
  {
   "cell_type": "code",
   "execution_count": 1,
   "metadata": {},
   "outputs": [],
   "source": [
    "import random\n",
    "import graphviz\n",
    "from graph_utils.graph import Graph, Arc, Node\n",
    "from animation_utils.animation import animate_list"
   ]
  },
  {
   "cell_type": "code",
   "execution_count": 2,
   "metadata": {},
   "outputs": [],
   "source": [
    "def mark_labelled(node):\n",
    "    node.SetColor('red')\n",
    "    \n",
    "def mark_scanned(node):\n",
    "    node.SetColor('green')\n",
    "    \n",
    "def process_node(node):\n",
    "    node.SetColor('blue')\n",
    "    \n",
    "def set_previous(arc):\n",
    "    arc.SetColor('green')\n",
    "    \n",
    "def unset_previous(arc):\n",
    "    arc.SetColor('black')\n",
    "\n",
    "def scan_arc(graph, arc, l, p, mark):\n",
    "    if l[arc.end] > l[arc.beginning] + arc.weight:\n",
    "        l[arc.end] = l[arc.beginning] + arc.weight\n",
    "        if p[arc.end] is not None:\n",
    "            unset_previous(p[arc.end])\n",
    "        # Сохраняем arc, а не arc.beginning, чтобы было больше информации\n",
    "        p[arc.end] = arc\n",
    "        set_previous(p[arc.end])\n",
    "        mark[arc.end] = True\n",
    "        mark_labelled(graph.nodes[arc.end])\n",
    "\n",
    "def scan_node(graph, node_id, l, p, mark):\n",
    "    for arc in graph.nodes[node_id].arcs:\n",
    "        scan_arc(graph, arc, l, p, mark)\n",
    "    mark[node_id] = False\n",
    "    mark_scanned(graph.nodes[node_id])\n",
    "    \n",
    "def random_choice(l, mark):\n",
    "    labelled = [node_id for node_id, value in mark.items() if value == True]\n",
    "    if len(labelled) == 0:\n",
    "        return None\n",
    "    return random.choice(labelled)\n",
    "       \n",
    "def base_scanning_method(graph, s, choice_function):\n",
    "    l    = {key: float('Inf') for key in graph.nodes.keys()}\n",
    "    p    = {key: None for key in graph.nodes.keys()}\n",
    "    mark = {key: False for key in graph.nodes.keys()}\n",
    "    \n",
    "    l[s] = 0\n",
    "    mark[s] = True\n",
    "    mark_labelled(graph.nodes[s])\n",
    "    \n",
    "    out_lst = []\n",
    "    \n",
    "    while True:\n",
    "        node_id = choice_function(l, mark)\n",
    "        if node_id is None:\n",
    "            break\n",
    "        process_node(graph.nodes[node_id])\n",
    "        out_lst.append(graph.Visualize(l))\n",
    "        scan_node(graph, node_id, l, p, mark)\n",
    "        out_lst.append(graph.Visualize(l))\n",
    "    return l, p, out_lst"
   ]
  },
  {
   "cell_type": "code",
   "execution_count": 3,
   "metadata": {},
   "outputs": [
    {
     "data": {
      "image/svg+xml": [
       "<?xml version=\"1.0\" encoding=\"UTF-8\" standalone=\"no\"?>\n",
       "<!DOCTYPE svg PUBLIC \"-//W3C//DTD SVG 1.1//EN\"\n",
       " \"http://www.w3.org/Graphics/SVG/1.1/DTD/svg11.dtd\">\n",
       "<!-- Generated by graphviz version 2.38.0 (20140413.2041)\n",
       " -->\n",
       "<!-- Title: %3 Pages: 1 -->\n",
       "<svg width=\"439pt\" height=\"177pt\"\n",
       " viewBox=\"0.00 0.00 439.00 177.00\" xmlns=\"http://www.w3.org/2000/svg\" xmlns:xlink=\"http://www.w3.org/1999/xlink\">\n",
       "<g id=\"graph0\" class=\"graph\" transform=\"scale(1 1) rotate(0) translate(4 173)\">\n",
       "<title>%3</title>\n",
       "<polygon fill=\"white\" stroke=\"none\" points=\"-4,4 -4,-173 435,-173 435,4 -4,4\"/>\n",
       "<!-- 1 -->\n",
       "<g id=\"node1\" class=\"node\"><title>1</title>\n",
       "<ellipse fill=\"none\" stroke=\"black\" cx=\"18\" cy=\"-73\" rx=\"18\" ry=\"18\"/>\n",
       "<text text-anchor=\"middle\" x=\"18\" y=\"-69.3\" font-family=\"Times,serif\" font-size=\"14.00\">1</text>\n",
       "</g>\n",
       "<!-- 3 -->\n",
       "<g id=\"node2\" class=\"node\"><title>3</title>\n",
       "<ellipse fill=\"none\" stroke=\"black\" cx=\"176\" cy=\"-151\" rx=\"18\" ry=\"18\"/>\n",
       "<text text-anchor=\"middle\" x=\"176\" y=\"-147.3\" font-family=\"Times,serif\" font-size=\"14.00\">3</text>\n",
       "</g>\n",
       "<!-- 1&#45;&gt;3 -->\n",
       "<g id=\"edge1\" class=\"edge\"><title>1&#45;&gt;3</title>\n",
       "<path fill=\"none\" stroke=\"black\" d=\"M33.7231,-82.151C55.0708,-95.1826 96.1063,-119.35 133,-136 137.989,-138.251 143.425,-140.403 148.68,-142.339\"/>\n",
       "<polygon fill=\"black\" stroke=\"black\" points=\"158.401,-145.763 147.473,-146.684 153.685,-144.102 148.969,-142.44 148.969,-142.44 148.969,-142.44 153.685,-144.102 150.464,-138.196 158.401,-145.763 158.401,-145.763\"/>\n",
       "<text text-anchor=\"middle\" x=\"97\" y=\"-129.8\" font-family=\"Times,serif\" font-size=\"14.00\">3</text>\n",
       "</g>\n",
       "<!-- 4 -->\n",
       "<g id=\"node3\" class=\"node\"><title>4</title>\n",
       "<ellipse fill=\"none\" stroke=\"black\" cx=\"97\" cy=\"-73\" rx=\"18\" ry=\"18\"/>\n",
       "<text text-anchor=\"middle\" x=\"97\" y=\"-69.3\" font-family=\"Times,serif\" font-size=\"14.00\">4</text>\n",
       "</g>\n",
       "<!-- 1&#45;&gt;4 -->\n",
       "<g id=\"edge2\" class=\"edge\"><title>1&#45;&gt;4</title>\n",
       "<path fill=\"none\" stroke=\"black\" d=\"M36.0888,-73C45.659,-73 57.8172,-73 68.6766,-73\"/>\n",
       "<polygon fill=\"black\" stroke=\"black\" points=\"78.959,-73 68.959,-77.5001 73.959,-73 68.959,-73.0001 68.959,-73.0001 68.959,-73.0001 73.959,-73 68.9589,-68.5001 78.959,-73 78.959,-73\"/>\n",
       "<text text-anchor=\"middle\" x=\"57.5\" y=\"-76.8\" font-family=\"Times,serif\" font-size=\"14.00\">7</text>\n",
       "</g>\n",
       "<!-- 5 -->\n",
       "<g id=\"node4\" class=\"node\"><title>5</title>\n",
       "<ellipse fill=\"none\" stroke=\"black\" cx=\"176\" cy=\"-46\" rx=\"18\" ry=\"18\"/>\n",
       "<text text-anchor=\"middle\" x=\"176\" y=\"-42.3\" font-family=\"Times,serif\" font-size=\"14.00\">5</text>\n",
       "</g>\n",
       "<!-- 1&#45;&gt;5 -->\n",
       "<g id=\"edge3\" class=\"edge\"><title>1&#45;&gt;5</title>\n",
       "<path fill=\"none\" stroke=\"black\" d=\"M31.5349,-60.7139C42.8709,-50.5276 60.5671,-36.8105 79,-31 102.291,-23.6583 129.939,-29.4166 149.568,-35.8068\"/>\n",
       "<polygon fill=\"black\" stroke=\"black\" points=\"159.037,-39.14 148.11,-40.0641 154.321,-37.4797 149.604,-35.8194 149.604,-35.8194 149.604,-35.8194 154.321,-37.4797 151.099,-31.5747 159.037,-39.14 159.037,-39.14\"/>\n",
       "<text text-anchor=\"middle\" x=\"97\" y=\"-34.8\" font-family=\"Times,serif\" font-size=\"14.00\">2</text>\n",
       "</g>\n",
       "<!-- 2 -->\n",
       "<g id=\"node7\" class=\"node\"><title>2</title>\n",
       "<ellipse fill=\"none\" stroke=\"black\" cx=\"413\" cy=\"-71\" rx=\"18\" ry=\"18\"/>\n",
       "<text text-anchor=\"middle\" x=\"413\" y=\"-67.3\" font-family=\"Times,serif\" font-size=\"14.00\">2</text>\n",
       "</g>\n",
       "<!-- 3&#45;&gt;2 -->\n",
       "<g id=\"edge4\" class=\"edge\"><title>3&#45;&gt;2</title>\n",
       "<path fill=\"none\" stroke=\"black\" d=\"M193.758,-147.185C228.67,-138.96 311.397,-118.009 377,-90 380.581,-88.4712 384.28,-86.6956 387.872,-84.8558\"/>\n",
       "<polygon fill=\"black\" stroke=\"black\" points=\"396.975,-79.9611 390.298,-88.6603 392.571,-82.329 388.167,-84.6969 388.167,-84.6969 388.167,-84.6969 392.571,-82.329 386.036,-80.7335 396.975,-79.9611 396.975,-79.9611\"/>\n",
       "<text text-anchor=\"middle\" x=\"294.5\" y=\"-123.8\" font-family=\"Times,serif\" font-size=\"14.00\">5</text>\n",
       "</g>\n",
       "<!-- 4&#45;&gt;3 -->\n",
       "<g id=\"edge5\" class=\"edge\"><title>4&#45;&gt;3</title>\n",
       "<path fill=\"none\" stroke=\"black\" d=\"M109.78,-86.2118C116.473,-93.6111 125.076,-102.942 133,-111 139.902,-118.018 147.656,-125.508 154.606,-132.087\"/>\n",
       "<polygon fill=\"black\" stroke=\"black\" points=\"162.296,-139.309 151.926,-135.743 158.651,-135.886 155.006,-132.463 155.006,-132.463 155.006,-132.463 158.651,-135.886 158.087,-129.183 162.296,-139.309 162.296,-139.309\"/>\n",
       "<text text-anchor=\"middle\" x=\"136.5\" y=\"-120.8\" font-family=\"Times,serif\" font-size=\"14.00\">2</text>\n",
       "</g>\n",
       "<!-- 4&#45;&gt;5 -->\n",
       "<g id=\"edge6\" class=\"edge\"><title>4&#45;&gt;5</title>\n",
       "<path fill=\"none\" stroke=\"black\" d=\"M114.33,-67.274C124.436,-63.7301 137.635,-59.102 149.14,-55.0678\"/>\n",
       "<polygon fill=\"black\" stroke=\"black\" points=\"158.694,-51.7178 150.746,-59.2733 153.975,-53.3723 149.257,-55.0268 149.257,-55.0268 149.257,-55.0268 153.975,-53.3723 147.768,-50.7803 158.694,-51.7178 158.694,-51.7178\"/>\n",
       "<text text-anchor=\"middle\" x=\"136.5\" y=\"-63.8\" font-family=\"Times,serif\" font-size=\"14.00\">3</text>\n",
       "</g>\n",
       "<!-- 4&#45;&gt;2 -->\n",
       "<g id=\"edge7\" class=\"edge\"><title>4&#45;&gt;2</title>\n",
       "<path fill=\"none\" stroke=\"black\" d=\"M108.825,-58.9249C125.689,-37.7119 158.053,-0 175,-0 175,-0 175,-0 335,-0 363.195,-0 385.483,-26.0464 398.676,-46.5876\"/>\n",
       "<polygon fill=\"black\" stroke=\"black\" points=\"403.925,-55.2428 394.892,-49.026 401.333,-50.9676 398.74,-46.6924 398.74,-46.6924 398.74,-46.6924 401.333,-50.9676 402.587,-44.3588 403.925,-55.2428 403.925,-55.2428\"/>\n",
       "<text text-anchor=\"middle\" x=\"255\" y=\"-3.8\" font-family=\"Times,serif\" font-size=\"14.00\">2</text>\n",
       "</g>\n",
       "<!-- 6 -->\n",
       "<g id=\"node5\" class=\"node\"><title>6</title>\n",
       "<ellipse fill=\"none\" stroke=\"black\" cx=\"255\" cy=\"-71\" rx=\"18\" ry=\"18\"/>\n",
       "<text text-anchor=\"middle\" x=\"255\" y=\"-67.3\" font-family=\"Times,serif\" font-size=\"14.00\">6</text>\n",
       "</g>\n",
       "<!-- 5&#45;&gt;6 -->\n",
       "<g id=\"edge8\" class=\"edge\"><title>5&#45;&gt;6</title>\n",
       "<path fill=\"none\" stroke=\"black\" d=\"M193.33,-51.3019C203.436,-54.5832 216.635,-58.8685 228.14,-62.6038\"/>\n",
       "<polygon fill=\"black\" stroke=\"black\" points=\"237.694,-65.7058 226.793,-66.8977 232.938,-64.1617 228.183,-62.6176 228.183,-62.6176 228.183,-62.6176 232.938,-64.1617 229.572,-58.3376 237.694,-65.7058 237.694,-65.7058\"/>\n",
       "<text text-anchor=\"middle\" x=\"215.5\" y=\"-62.8\" font-family=\"Times,serif\" font-size=\"14.00\">2</text>\n",
       "</g>\n",
       "<!-- 6&#45;&gt;4 -->\n",
       "<g id=\"edge9\" class=\"edge\"><title>6&#45;&gt;4</title>\n",
       "<path fill=\"none\" stroke=\"black\" d=\"M237.362,-74.9804C231.584,-76.1883 225.039,-77.3634 219,-78 180.986,-82.0072 171.087,-82.241 133,-79 130.42,-78.7805 127.745,-78.4715 125.074,-78.1083\"/>\n",
       "<polygon fill=\"black\" stroke=\"black\" points=\"115.015,-76.5135 125.596,-73.6349 119.953,-77.2965 124.892,-78.0794 124.892,-78.0794 124.892,-78.0794 119.953,-77.2965 124.187,-82.5239 115.015,-76.5135 115.015,-76.5135\"/>\n",
       "<text text-anchor=\"middle\" x=\"176\" y=\"-84.8\" font-family=\"Times,serif\" font-size=\"14.00\">2</text>\n",
       "</g>\n",
       "<!-- 7 -->\n",
       "<g id=\"node6\" class=\"node\"><title>7</title>\n",
       "<ellipse fill=\"none\" stroke=\"black\" cx=\"334\" cy=\"-71\" rx=\"18\" ry=\"18\"/>\n",
       "<text text-anchor=\"middle\" x=\"334\" y=\"-67.3\" font-family=\"Times,serif\" font-size=\"14.00\">7</text>\n",
       "</g>\n",
       "<!-- 6&#45;&gt;7 -->\n",
       "<g id=\"edge10\" class=\"edge\"><title>6&#45;&gt;7</title>\n",
       "<path fill=\"none\" stroke=\"black\" d=\"M273.089,-71C282.659,-71 294.817,-71 305.677,-71\"/>\n",
       "<polygon fill=\"black\" stroke=\"black\" points=\"315.959,-71 305.959,-75.5001 310.959,-71 305.959,-71.0001 305.959,-71.0001 305.959,-71.0001 310.959,-71 305.959,-66.5001 315.959,-71 315.959,-71\"/>\n",
       "<text text-anchor=\"middle\" x=\"294.5\" y=\"-74.8\" font-family=\"Times,serif\" font-size=\"14.00\">1</text>\n",
       "</g>\n",
       "<!-- 7&#45;&gt;2 -->\n",
       "<g id=\"edge11\" class=\"edge\"><title>7&#45;&gt;2</title>\n",
       "<path fill=\"none\" stroke=\"black\" d=\"M352.089,-71C361.659,-71 373.817,-71 384.677,-71\"/>\n",
       "<polygon fill=\"black\" stroke=\"black\" points=\"394.959,-71 384.959,-75.5001 389.959,-71 384.959,-71.0001 384.959,-71.0001 384.959,-71.0001 389.959,-71 384.959,-66.5001 394.959,-71 394.959,-71\"/>\n",
       "<text text-anchor=\"middle\" x=\"373.5\" y=\"-74.8\" font-family=\"Times,serif\" font-size=\"14.00\">7</text>\n",
       "</g>\n",
       "</g>\n",
       "</svg>\n"
      ],
      "text/plain": [
       "<graphviz.dot.Digraph at 0x7f9845fb70f0>"
      ]
     },
     "execution_count": 3,
     "metadata": {},
     "output_type": "execute_result"
    }
   ],
   "source": [
    "arcs = [\n",
    "    Arc(1, 3, 3),\n",
    "    Arc(1, 4, 7),\n",
    "    Arc(4, 3, 2),\n",
    "    Arc(4, 5, 3),\n",
    "    Arc(1, 5, 2),\n",
    "    Arc(6, 4, 2),\n",
    "    Arc(5, 6, 2),\n",
    "    Arc(6, 7, 1),\n",
    "    Arc(7, 2, 7),\n",
    "    Arc(4, 2, 2),\n",
    "    Arc(3, 2, 5)\n",
    "]\n",
    "Graph(arcs).Visualize()"
   ]
  },
  {
   "cell_type": "code",
   "execution_count": 4,
   "metadata": {},
   "outputs": [],
   "source": [
    "graph = Graph(arcs)\n",
    "random_scanning_shortest_path_lst = []\n",
    "l, p, random_scanning_shortest_path_lst = \\\n",
    "    base_scanning_method(graph, 1, random_choice)"
   ]
  },
  {
   "cell_type": "code",
   "execution_count": 5,
   "metadata": {},
   "outputs": [
    {
     "data": {
      "application/vnd.jupyter.widget-view+json": {
       "model_id": "ff5d30a16c0a42de88a9183c1f9dfbab",
       "version_major": 2,
       "version_minor": 0
      },
      "text/plain": [
       "interactive(children=(IntSlider(value=0, description='idx', max=13), Output()), _dom_classes=('widget-interact…"
      ]
     },
     "metadata": {},
     "output_type": "display_data"
    }
   ],
   "source": [
    "animate_list(random_scanning_shortest_path_lst);"
   ]
  },
  {
   "cell_type": "markdown",
   "metadata": {},
   "source": [
    "### Кратчайшие пути на ациклических графах\n",
    "В случае, если в графе нет не только отрицательных циклов, но вообще любых других, то возникает интересная ситуация: если обрабатывать вершины в топологическом порядке, то каждая вершина будет просканирована ровно один раз. Доказать это очень просто: если в графе допустим топологический порядок, то при сканировании вершины $v$ расстояние обновится только для тех вершин, которые в топологическом порядке идут позже $v$.\n",
    "\n",
    "Если вершины в графе пронумерованы в топологическом порядке, то в указанной выше процедуре для этого достаточно будет просто вместо случайной вершины выбирать наименьшую по номеру"
   ]
  },
  {
   "cell_type": "code",
   "execution_count": 6,
   "metadata": {},
   "outputs": [],
   "source": [
    "def least_id_choice(l, mark):\n",
    "    labelled = [node_id for node_id, value in mark.items() if value == True]\n",
    "    if len(labelled) == 0:\n",
    "        return None\n",
    "    return min(labelled)"
   ]
  },
  {
   "cell_type": "code",
   "execution_count": 7,
   "metadata": {},
   "outputs": [
    {
     "data": {
      "application/vnd.jupyter.widget-view+json": {
       "model_id": "d60ea48f8fb8400b9e5f8851ef85ad76",
       "version_major": 2,
       "version_minor": 0
      },
      "text/plain": [
       "interactive(children=(IntSlider(value=0, description='idx', max=11), Output()), _dom_classes=('widget-interact…"
      ]
     },
     "metadata": {},
     "output_type": "display_data"
    }
   ],
   "source": [
    "graph = Graph([\n",
    "    Arc(0, 1, 4),\n",
    "    Arc(0, 2, 2),\n",
    "    Arc(1, 2, 5),\n",
    "    Arc(2, 3, 3),\n",
    "    Arc(1, 4, 10),\n",
    "    Arc(3, 4, 4),\n",
    "    Arc(4, 5, 11)\n",
    "])\n",
    "l, p, topological_scanning_shortest_path_lst = \\\n",
    "    base_scanning_method(graph, 0, least_id_choice)\n",
    "animate_list(topological_scanning_shortest_path_lst);"
   ]
  },
  {
   "cell_type": "markdown",
   "metadata": {},
   "source": [
    "Это один из двух случаев, когда достигается асимптотическая оценка в $\\mathcal{O}(E)$ ($E$ -- количество ребер): во-первых, топологическая сортировка осуществляется обходом в глубину за $\\mathcal{O}(E)$; во-вторых каждая вершины сканируется ровно один раз, а значит какждое ребро также сканируется ровно один раз; в-третьих если вместо выбора минимальной вершины просто итерироваться в по всем вершинам в топологическом порядке пропуская недостижимые, то результат будет тот же, и при этом суммарно на это мы тратим $\\mathcal{O}(V)$ ($V$ -- количество вершин). \n",
    "\n",
    "На практике ациклические графы часто возникают при моделировании каких-либо протекающих во времени событий. Например одним из промежуточных результатов распознавания речи называе \"словные сетки\" -- это граф, в котором вершины помечены временнОй меткой, а на ребрах написано слово и информация об акустическом/языковом правдоподобие; ребра всегда ведут из вершин с меньшей временной отметков в вершину с большей и означают, что на этом интервале с такой-то вероятностью было произнесено такое-то слово. Пути в этом графе соответствуют временному интервалу, начинающемуся от временной отметки первой вершины, заканчивающемуся во временной отметке последней вершины. Forward-backward алгоритмы по сути являются частными случаями нахождения кратчайших путей в ациклическом графа, в том числе и алгоритм Витерби для нахождения наиболее правдоподобной последовательности состояний в марковской цепи."
   ]
  },
  {
   "cell_type": "markdown",
   "metadata": {},
   "source": [
    "### Обход в ширину и алгоритм Дейкстры\n",
    "Второй случай, в котором оказывается возможной минимальная оценка для поиска кратчайших путей -- это случай единичных весов, т.е. когда длины всех ребер одинаковы. С точки зрения сканирующего метода в этом случае можно добиться того, чтобы каждая вершина сканировалась ровно один раз, все, что для этого нужно сделать, а это выбирать для очередного сканирования вершину с минимальным расстоянием."
   ]
  },
  {
   "cell_type": "code",
   "execution_count": 8,
   "metadata": {},
   "outputs": [],
   "source": [
    "def least_distance_choice(l, mark):\n",
    "    labelled = [node_id for node_id, value in mark.items() if value == True]\n",
    "    if len(labelled) == 0:\n",
    "        return None\n",
    "    return min(labelled, key=lambda x: l[x]) "
   ]
  },
  {
   "cell_type": "code",
   "execution_count": 9,
   "metadata": {},
   "outputs": [
    {
     "data": {
      "application/vnd.jupyter.widget-view+json": {
       "model_id": "a9f98714e9064bb8ada7921a64e1a927",
       "version_major": 2,
       "version_minor": 0
      },
      "text/plain": [
       "interactive(children=(IntSlider(value=0, description='idx', max=13), Output()), _dom_classes=('widget-interact…"
      ]
     },
     "metadata": {},
     "output_type": "display_data"
    }
   ],
   "source": [
    "graph = Graph([\n",
    "    Arc(1, 3, 1),\n",
    "    Arc(1, 4, 1),\n",
    "    Arc(4, 3, 1),\n",
    "    Arc(4, 5, 1),\n",
    "    Arc(1, 5, 1),\n",
    "    Arc(6, 4, 1),\n",
    "    Arc(5, 6, 1),\n",
    "    Arc(6, 7, 1),\n",
    "    Arc(7, 2, 1),\n",
    "    Arc(4, 2, 1),\n",
    "    Arc(3, 2, 1)\n",
    "])\n",
    "l, p, bfs_shortest_path_lst = \\\n",
    "    base_scanning_method(graph, 1, least_distance_choice)\n",
    "animate_list(bfs_shortest_path_lst);"
   ]
  },
  {
   "cell_type": "markdown",
   "metadata": {},
   "source": [
    "На самом деле для того, чтобы при выборе вершины с минимальным расстоянием каждая вершина сканировалась единожды, достаточно более слабого условия -- чтобы в графе не было ребер с отрицательным весом. Ключевое соображение: кратчайший путь до вершины $v$ может проходить по тем вершинам, которые ближе к $s$, чем $v$. Из этого утверждения следует другое, чуть менее очевидное: если мы уже каким-то образом нашли первые $k$ ближайших вершин и посчитали минимальные пути, проходящие только через них, то расстояние до ближайшей из оставшихся вершин посчитано корректно. Если посмотреть на величины значения $l(v)$, которые мы получаем после $k$-ого сканирования (обозначим её за $l(v, k)$), то получится величина минимального пути от $s$ до $v$, имеющая в качестве промежуточных вершин только $k$ ближайших к $s$. Если обозначить за $u(k)$ -- $k$-ую ближайшую вершину к $s$, то мы получаем следующее соотношение\n",
    "$$\n",
    "l(v, k)=\\min\\{l(v, k-1), l(u(k), k-1)+\\omega(u(k)\\rightarrow v)\\}\n",
    "$$\n",
    "Левая величина в минимуме -- это минимум среди путей, которые используют $u(k)$, правая -- минимум среди путей, которые не используют $u(k)$."
   ]
  },
  {
   "cell_type": "code",
   "execution_count": 10,
   "metadata": {},
   "outputs": [
    {
     "data": {
      "application/vnd.jupyter.widget-view+json": {
       "model_id": "af80d309d3d94d36b37693a34d915e34",
       "version_major": 2,
       "version_minor": 0
      },
      "text/plain": [
       "interactive(children=(IntSlider(value=0, description='idx', max=13), Output()), _dom_classes=('widget-interact…"
      ]
     },
     "metadata": {},
     "output_type": "display_data"
    }
   ],
   "source": [
    "graph = Graph(arcs)\n",
    "l, p, dijkstra_shortest_path_lst = \\\n",
    "    base_scanning_method(graph, 1, least_distance_choice)\n",
    "animate_list(dijkstra_shortest_path_lst);"
   ]
  },
  {
   "cell_type": "markdown",
   "metadata": {},
   "source": [
    "В общем виде этот метод впервые этого методы обосновал Эдсгер Дейкстра. Ключевым вопросом в этом алгоритме является нахождение минимальной вершины для сканирования. В случае, если все длины одинаковы, то это можно сделать обычной очередью: сохраняем в очереди все вершины с пометкой $labelled$, при сканировании ребра помещаем вершину в конец очереди если расстояние уменьшилось, при выборе новой вершины берем первую из очереди. В общем то в этом случае алгоритм вырождается в обход в глубину.\n",
    "\n",
    "В общем случае для работы с вершинами, помеченными $labelled$ необходима специальная структура данных, позволяющая быстро делать следующие операции:\n",
    "* Добавить вершину в множество\n",
    "* Обновить расстояние для вершины из множества\n",
    "* Найти миимальную по расстоянию вершину из множества\n",
    "* Удалить вершину из множества\n",
    "\n",
    "Одним из простых способов реализовать все эти операции -- использовании бинарной кучи или бинарного дерева, все операции выполняются за $\\mathcal{O}(\\log N)$, где $N$ -- размер множества, что ведет к общей сложности алгоритма в $\\mathcal{O}(E\\log V)$.\n",
    "\n",
    "Наиболее асимптотически оптимальный известный алгоритм использует [кучу фибоначчи](https://en.wikipedia.org/wiki/Fibonacci_heap), которая умеет делать первые три операции за $\\mathcal{O}(1)$ и последнюю за $\\mathcal{O}(\\log N)$, что ведет к общей сложности $\\mathcal{O}(E+V\\log V)$"
   ]
  },
  {
   "cell_type": "markdown",
   "metadata": {},
   "source": [
    "К сожалению все описанные рассуждения ломаются, если в графе возникают ребра отрицательной длины, например единственность сканирования пропадает например на следующем примере"
   ]
  },
  {
   "cell_type": "code",
   "execution_count": 11,
   "metadata": {},
   "outputs": [
    {
     "data": {
      "application/vnd.jupyter.widget-view+json": {
       "model_id": "4b45c75c7f404b579ebedbc3f172d850",
       "version_major": 2,
       "version_minor": 0
      },
      "text/plain": [
       "interactive(children=(IntSlider(value=0, description='idx', max=9), Output()), _dom_classes=('widget-interact'…"
      ]
     },
     "metadata": {},
     "output_type": "display_data"
    }
   ],
   "source": [
    "graph = Graph([\n",
    "    Arc(1, 2, 2),\n",
    "    Arc(1, 3, 3),\n",
    "    Arc(3, 2, -2),\n",
    "    Arc(2, 4, 1),\n",
    "])\n",
    "l, p, dijkstra_shortest_path_lst = \\\n",
    "    base_scanning_method(graph, 1, least_distance_choice)\n",
    "animate_list(dijkstra_shortest_path_lst);"
   ]
  },
  {
   "cell_type": "markdown",
   "metadata": {},
   "source": [
    "### Алгоритм Форда-Беллмана\n",
    "\n",
    "Частично этот алгоритм похож на перидыдущий тем, что по сути является просто применением обычной очереди для общего случая. Обычно алгоритм Форда-Беллмана имеет следующий вид"
   ]
  },
  {
   "cell_type": "code",
   "execution_count": 12,
   "metadata": {},
   "outputs": [],
   "source": [
    "def ford_bellman(graph, s):\n",
    "    l    = {key: float('Inf') for key in graph.nodes.keys()}\n",
    "    p    = {key: None for key in graph.nodes.keys()}\n",
    "    mark = {key: False for key in graph.nodes.keys()}\n",
    "    \n",
    "    l[s] = 0\n",
    "    mark[s] = True\n",
    "    mark_labelled(graph.nodes[s])\n",
    "    \n",
    "    out_lst = [graph.Visualize(l)]\n",
    "    \n",
    "    for k in range(len(graph.nodes)-1):\n",
    "        for node in graph.nodes.values():\n",
    "            scan_node(node)\n",
    "        out_lst.append(graph.Visualize(l))\n",
    "    return l, p, out_lst "
   ]
  },
  {
   "cell_type": "markdown",
   "metadata": {},
   "source": [
    "Здесь я специально сделал так, что внешний цикл итерируется фиксированное число раз -- $V-1$, при этом переменная $i$ не используется. Внутренний цикл сканирует каждую вершину по одному разу, это эквивалентно тому, чтобы просканировать по одному разу каждое ребро. Оказывается, что такого количества проходов всегда достаточно, даже если в графе есть отрицательные ребра. Идея следующая: давайте рассмотрим величину $l(v, k)$ -- минимальная длина пути от $s$ до $v$, состоящего из не более, чем $k$ ребер, тогда для неё справедливо следующее соотношение\n",
    "$$\n",
    "l(v, k)=\\min \\{l(v, k-1), \\min_u[l(u, k-1)+\\omega(u\\rightarrow v)]\\}.\n",
    "$$\n",
    "Иначе говоря, либо оптимальный путь использует меньше, чем $k$ ребер, либо из него можно выделить последнее ребро, а оставшаяся часть использует $k-1$ ребро."
   ]
  },
  {
   "cell_type": "markdown",
   "metadata": {},
   "source": [
    "Один проход по всем ребрам гарантирует нам переход от $l(v, k-1)$ к $l(v, k)$, однако из-за того, что мы не считаем непосредственно эти величины, а храним их в одном массиве $l$, то получается что на итерации $k$ у нас обычно чуть лучше, чем $l(v, k)$, охватывают пути не только длины $k$, но гарантировать мы может охват только таких путей. Наконец, после $V-1$ итераций мы обязательно охватим все простые пути. Если же оказалось, что после $V-1$ итерации сканирование ребер продолжит уменьшать вес, то в графе есть отрицательный цикл. Этот факт позволяет использовать Алгоритм Форда-Беллмана для нахождения отрицательных циклов.\n",
    "\n",
    "Возвращаясь к сканирующему методу: мы можем спокойно пропускать в цикле вершины, которые помечены $scanned$. С точки зрения вызовов $scan\\_node$ это будет эквивалентно тому, чтобы использовать в сканирующем методе обычную очередь, но при этом использование очереди эффективнее."
   ]
  },
  {
   "cell_type": "markdown",
   "metadata": {},
   "source": [
    "# Примеры из МО\n",
    "### Алгоритм Витерби\n",
    "Одна из основных задач для марковских цепей заключается в том, чтобы найти последовательность состояний в марковской цепи наиболее правдоподобно соответствующую некоторой последовательности наблюдений\n",
    "$$\n",
    "H(O)=argmax_{v=\\{v_0, \\ldots, v_n\\}}\\prod_{i=1}^n\\mathcal{P}(v_{i-1}\\rightarrow v_i~|~O_i)\n",
    "$$\n",
    "Например в распознавании речи $P(u\\rightarrow v~|~O)$ -- это акустическая модель, классифицирующая кусок звука по нескольким языковым единицам, например фонемам. Из наиболее правдоподобной последовательности состояний можно извлечь последовательность фонем и в конце концов последовательность слов.\n",
    "\n",
    "Если немного переписать величину выше, можно получить в точности задачу о кратчайшем пути\n",
    "$$\n",
    "argmax_{v=\\{v_0, \\ldots, v_n\\}}\\prod_{i=1}^n\\mathcal{P}(v_{i-1}\\rightarrow v_i~|~O_i)=argmax_{v=\\{v_0, \\ldots, v_n\\}}\\sum_{i=1}^n\\mathcal \\log{P}(v_{i-1}\\rightarrow v_i~|~O_i)=argmin_{v=\\{v_0, \\ldots, v_n\\}}\\sum_{i=1}^n(-\\log \\mathcal{P}(v_{i-1}\\rightarrow v_i~|~O_i))\n",
    "$$\n",
    "Стоит отметить, если $P$ -- вероятность, то что $-\\log P\\geq 0$, что, как мы уже обсудили, имеет значение для кратчайших путей, но не в этом случае.\n",
    "\n",
    "Пока что мы перешли от умножения к сложению, и от максимума к минимуму, но мы пока еще не получили задачу о кратчайшем пути: пока что у нас задача нахождения минимального пути, содержащую фиксированное число переходов, котором веса ребер зависят от времени. Эта задачу можно свести к обычной задаче о кратчачйшем пути на так расгиренном графе как на следующих примерах."
   ]
  },
  {
   "cell_type": "code",
   "execution_count": 13,
   "metadata": {},
   "outputs": [
    {
     "data": {
      "image/svg+xml": [
       "<?xml version=\"1.0\" encoding=\"UTF-8\" standalone=\"no\"?>\n",
       "<!DOCTYPE svg PUBLIC \"-//W3C//DTD SVG 1.1//EN\"\n",
       " \"http://www.w3.org/Graphics/SVG/1.1/DTD/svg11.dtd\">\n",
       "<!-- Generated by graphviz version 2.38.0 (20140413.2041)\n",
       " -->\n",
       "<!-- Title: %3 Pages: 1 -->\n",
       "<svg width=\"188pt\" height=\"85pt\"\n",
       " viewBox=\"0.00 0.00 188.00 85.00\" xmlns=\"http://www.w3.org/2000/svg\" xmlns:xlink=\"http://www.w3.org/1999/xlink\">\n",
       "<g id=\"graph0\" class=\"graph\" transform=\"scale(1 1) rotate(0) translate(4 81)\">\n",
       "<title>%3</title>\n",
       "<polygon fill=\"white\" stroke=\"none\" points=\"-4,4 -4,-81 184,-81 184,4 -4,4\"/>\n",
       "<!-- 0 -->\n",
       "<g id=\"node1\" class=\"node\"><title>0</title>\n",
       "<ellipse fill=\"none\" stroke=\"black\" cx=\"18\" cy=\"-18\" rx=\"18\" ry=\"18\"/>\n",
       "<text text-anchor=\"middle\" x=\"18\" y=\"-14.3\" font-family=\"Times,serif\" font-size=\"14.00\">0</text>\n",
       "</g>\n",
       "<!-- 0&#45;&gt;0 -->\n",
       "<g id=\"edge2\" class=\"edge\"><title>0&#45;&gt;0</title>\n",
       "<path fill=\"none\" stroke=\"black\" d=\"M6.24353,-32.0417C1.8468,-42.9126 5.76562,-54 18,-54 26.4111,-54 30.8919,-48.7595 31.4422,-41.9516\"/>\n",
       "<polygon fill=\"black\" stroke=\"black\" points=\"29.7565,-32.0417 35.8698,-41.1455 30.595,-36.9709 31.4335,-41.9001 31.4335,-41.9001 31.4335,-41.9001 30.595,-36.9709 26.9973,-42.6548 29.7565,-32.0417 29.7565,-32.0417\"/>\n",
       "</g>\n",
       "<!-- 1 -->\n",
       "<g id=\"node2\" class=\"node\"><title>1</title>\n",
       "<ellipse fill=\"none\" stroke=\"black\" cx=\"90\" cy=\"-41\" rx=\"18\" ry=\"18\"/>\n",
       "<text text-anchor=\"middle\" x=\"90\" y=\"-37.3\" font-family=\"Times,serif\" font-size=\"14.00\">1</text>\n",
       "</g>\n",
       "<!-- 0&#45;&gt;1 -->\n",
       "<g id=\"edge1\" class=\"edge\"><title>0&#45;&gt;1</title>\n",
       "<path fill=\"none\" stroke=\"black\" d=\"M35.2354,-23.3345C43.4215,-26.0242 53.5521,-29.3528 62.8047,-32.393\"/>\n",
       "<polygon fill=\"black\" stroke=\"black\" points=\"72.3666,-35.5347 61.4616,-36.6883 67.6164,-33.9739 62.8663,-32.4131 62.8663,-32.4131 62.8663,-32.4131 67.6164,-33.9739 64.271,-28.138 72.3666,-35.5347 72.3666,-35.5347\"/>\n",
       "</g>\n",
       "<!-- 1&#45;&gt;1 -->\n",
       "<g id=\"edge4\" class=\"edge\"><title>1&#45;&gt;1</title>\n",
       "<path fill=\"none\" stroke=\"black\" d=\"M78.2435,-55.0417C73.8468,-65.9126 77.7656,-77 90,-77 98.4111,-77 102.892,-71.7595 103.442,-64.9516\"/>\n",
       "<polygon fill=\"black\" stroke=\"black\" points=\"101.756,-55.0417 107.87,-64.1455 102.595,-59.9709 103.434,-64.9001 103.434,-64.9001 103.434,-64.9001 102.595,-59.9709 98.9973,-65.6548 101.756,-55.0417 101.756,-55.0417\"/>\n",
       "</g>\n",
       "<!-- 2 -->\n",
       "<g id=\"node3\" class=\"node\"><title>2</title>\n",
       "<ellipse fill=\"none\" stroke=\"black\" cx=\"162\" cy=\"-18\" rx=\"18\" ry=\"18\"/>\n",
       "<text text-anchor=\"middle\" x=\"162\" y=\"-14.3\" font-family=\"Times,serif\" font-size=\"14.00\">2</text>\n",
       "</g>\n",
       "<!-- 1&#45;&gt;2 -->\n",
       "<g id=\"edge3\" class=\"edge\"><title>1&#45;&gt;2</title>\n",
       "<path fill=\"none\" stroke=\"black\" d=\"M107.235,-35.6655C115.422,-32.9758 125.552,-29.6472 134.805,-26.607\"/>\n",
       "<polygon fill=\"black\" stroke=\"black\" points=\"144.367,-23.4653 136.271,-30.862 139.616,-25.0261 134.866,-26.5869 134.866,-26.5869 134.866,-26.5869 139.616,-25.0261 133.462,-22.3117 144.367,-23.4653 144.367,-23.4653\"/>\n",
       "</g>\n",
       "<!-- 2&#45;&gt;0 -->\n",
       "<g id=\"edge5\" class=\"edge\"><title>2&#45;&gt;0</title>\n",
       "<path fill=\"none\" stroke=\"black\" d=\"M143.833,-16.3751C133.467,-15.4761 119.987,-14.4517 108,-14 92.0113,-13.3975 87.9887,-13.3975 72,-14 63.6651,-14.3141 54.6085,-14.905 46.379,-15.5382\"/>\n",
       "<polygon fill=\"black\" stroke=\"black\" points=\"36.1672,-16.3751 45.7662,-11.0733 41.1505,-15.9667 46.1338,-15.5582 46.1338,-15.5582 46.1338,-15.5582 41.1505,-15.9667 46.5014,-20.0432 36.1672,-16.3751 36.1672,-16.3751\"/>\n",
       "</g>\n",
       "<!-- 2&#45;&gt;2 -->\n",
       "<g id=\"edge6\" class=\"edge\"><title>2&#45;&gt;2</title>\n",
       "<path fill=\"none\" stroke=\"black\" d=\"M150.244,-32.0417C145.847,-42.9126 149.766,-54 162,-54 170.411,-54 174.892,-48.7595 175.442,-41.9516\"/>\n",
       "<polygon fill=\"black\" stroke=\"black\" points=\"173.756,-32.0417 179.87,-41.1455 174.595,-36.9709 175.434,-41.9001 175.434,-41.9001 175.434,-41.9001 174.595,-36.9709 170.997,-42.6548 173.756,-32.0417 173.756,-32.0417\"/>\n",
       "</g>\n",
       "</g>\n",
       "</svg>\n"
      ],
      "text/plain": [
       "<graphviz.dot.Digraph at 0x7f9845745eb8>"
      ]
     },
     "execution_count": 13,
     "metadata": {},
     "output_type": "execute_result"
    }
   ],
   "source": [
    "graph = Graph([\n",
    "    Arc(0, 1),\n",
    "    Arc(1, 2), \n",
    "    Arc(2, 0),\n",
    "    Arc(1, 1),\n",
    "    Arc(2, 2),\n",
    "    Arc(0, 0)\n",
    "])\n",
    "graph.Visualize()"
   ]
  },
  {
   "cell_type": "code",
   "execution_count": 14,
   "metadata": {},
   "outputs": [
    {
     "data": {
      "image/svg+xml": [
       "<?xml version=\"1.0\" encoding=\"UTF-8\" standalone=\"no\"?>\n",
       "<!DOCTYPE svg PUBLIC \"-//W3C//DTD SVG 1.1//EN\"\n",
       " \"http://www.w3.org/Graphics/SVG/1.1/DTD/svg11.dtd\">\n",
       "<!-- Generated by graphviz version 2.38.0 (20140413.2041)\n",
       " -->\n",
       "<!-- Title: %3 Pages: 1 -->\n",
       "<svg width=\"370pt\" height=\"215pt\"\n",
       " viewBox=\"0.00 0.00 369.99 215.00\" xmlns=\"http://www.w3.org/2000/svg\" xmlns:xlink=\"http://www.w3.org/1999/xlink\">\n",
       "<g id=\"graph0\" class=\"graph\" transform=\"scale(1 1) rotate(0) translate(4 211)\">\n",
       "<title>%3</title>\n",
       "<polygon fill=\"white\" stroke=\"none\" points=\"-4,4 -4,-211 365.993,-211 365.993,4 -4,4\"/>\n",
       "<g id=\"clust1\" class=\"cluster\"><title>cluster_t=0</title>\n",
       "<polygon fill=\"none\" stroke=\"black\" points=\"8,-12 8,-195 60,-195 60,-12 8,-12\"/>\n",
       "<text text-anchor=\"middle\" x=\"34\" y=\"-179.8\" font-family=\"Times,serif\" font-size=\"14.00\">t=0</text>\n",
       "</g>\n",
       "<g id=\"clust2\" class=\"cluster\"><title>cluster_t=1</title>\n",
       "<polygon fill=\"none\" stroke=\"black\" points=\"80,-12 80,-195 132,-195 132,-12 80,-12\"/>\n",
       "<text text-anchor=\"middle\" x=\"106\" y=\"-179.8\" font-family=\"Times,serif\" font-size=\"14.00\">t=1</text>\n",
       "</g>\n",
       "<g id=\"clust3\" class=\"cluster\"><title>cluster_t=2</title>\n",
       "<polygon fill=\"none\" stroke=\"black\" points=\"152,-12 152,-195 204,-195 204,-12 152,-12\"/>\n",
       "<text text-anchor=\"middle\" x=\"178\" y=\"-179.8\" font-family=\"Times,serif\" font-size=\"14.00\">t=2</text>\n",
       "</g>\n",
       "<g id=\"clust4\" class=\"cluster\"><title>cluster_t=3</title>\n",
       "<polygon fill=\"none\" stroke=\"black\" points=\"224,-8 224,-196 278.997,-196 278.997,-8 224,-8\"/>\n",
       "<text text-anchor=\"middle\" x=\"251.498\" y=\"-180.8\" font-family=\"Times,serif\" font-size=\"14.00\">t=3</text>\n",
       "</g>\n",
       "<g id=\"clust5\" class=\"cluster\"><title>cluster_t=4</title>\n",
       "<polygon fill=\"none\" stroke=\"black\" points=\"298.997,-8 298.997,-199 353.993,-199 353.993,-8 298.997,-8\"/>\n",
       "<text text-anchor=\"middle\" x=\"326.495\" y=\"-183.8\" font-family=\"Times,serif\" font-size=\"14.00\">t=4</text>\n",
       "</g>\n",
       "<!-- 0 -->\n",
       "<g id=\"node1\" class=\"node\"><title>0</title>\n",
       "<ellipse fill=\"none\" stroke=\"black\" cx=\"34\" cy=\"-146\" rx=\"18\" ry=\"18\"/>\n",
       "<text text-anchor=\"middle\" x=\"34\" y=\"-142.3\" font-family=\"Times,serif\" font-size=\"14.00\">0</text>\n",
       "</g>\n",
       "<!-- 3 -->\n",
       "<g id=\"node4\" class=\"node\"><title>3</title>\n",
       "<ellipse fill=\"none\" stroke=\"black\" cx=\"106\" cy=\"-146\" rx=\"18\" ry=\"18\"/>\n",
       "<text text-anchor=\"middle\" x=\"106\" y=\"-142.3\" font-family=\"Times,serif\" font-size=\"14.00\">3</text>\n",
       "</g>\n",
       "<!-- 0&#45;&gt;3 -->\n",
       "<g id=\"edge2\" class=\"edge\"><title>0&#45;&gt;3</title>\n",
       "<path fill=\"none\" stroke=\"black\" d=\"M52.3034,-146C60.0173,-146 69.2875,-146 77.8876,-146\"/>\n",
       "<polygon fill=\"black\" stroke=\"black\" points=\"87.8957,-146 77.8957,-150.5 82.8957,-146 77.8957,-146 77.8957,-146 77.8957,-146 82.8957,-146 77.8956,-141.5 87.8957,-146 87.8957,-146\"/>\n",
       "</g>\n",
       "<!-- 4 -->\n",
       "<g id=\"node5\" class=\"node\"><title>4</title>\n",
       "<ellipse fill=\"none\" stroke=\"black\" cx=\"106\" cy=\"-92\" rx=\"18\" ry=\"18\"/>\n",
       "<text text-anchor=\"middle\" x=\"106\" y=\"-88.3\" font-family=\"Times,serif\" font-size=\"14.00\">4</text>\n",
       "</g>\n",
       "<!-- 0&#45;&gt;4 -->\n",
       "<g id=\"edge1\" class=\"edge\"><title>0&#45;&gt;4</title>\n",
       "<path fill=\"none\" stroke=\"black\" d=\"M48.8297,-135.331C58.609,-127.787 71.9201,-117.519 83.1298,-108.871\"/>\n",
       "<polygon fill=\"black\" stroke=\"black\" points=\"91.199,-102.646 86.0298,-112.318 87.2401,-105.701 83.2811,-108.755 83.2811,-108.755 83.2811,-108.755 87.2401,-105.701 80.5325,-105.192 91.199,-102.646 91.199,-102.646\"/>\n",
       "</g>\n",
       "<!-- 1 -->\n",
       "<g id=\"node2\" class=\"node\"><title>1</title>\n",
       "<ellipse fill=\"none\" stroke=\"black\" cx=\"34\" cy=\"-92\" rx=\"18\" ry=\"18\"/>\n",
       "<text text-anchor=\"middle\" x=\"34\" y=\"-88.3\" font-family=\"Times,serif\" font-size=\"14.00\">1</text>\n",
       "</g>\n",
       "<!-- 1&#45;&gt;4 -->\n",
       "<g id=\"edge4\" class=\"edge\"><title>1&#45;&gt;4</title>\n",
       "<path fill=\"none\" stroke=\"black\" d=\"M52.3034,-92C60.0173,-92 69.2875,-92 77.8876,-92\"/>\n",
       "<polygon fill=\"black\" stroke=\"black\" points=\"87.8957,-92 77.8957,-96.5001 82.8957,-92 77.8957,-92.0001 77.8957,-92.0001 77.8957,-92.0001 82.8957,-92 77.8956,-87.5001 87.8957,-92 87.8957,-92\"/>\n",
       "</g>\n",
       "<!-- 5 -->\n",
       "<g id=\"node6\" class=\"node\"><title>5</title>\n",
       "<ellipse fill=\"none\" stroke=\"black\" cx=\"106\" cy=\"-38\" rx=\"18\" ry=\"18\"/>\n",
       "<text text-anchor=\"middle\" x=\"106\" y=\"-34.3\" font-family=\"Times,serif\" font-size=\"14.00\">5</text>\n",
       "</g>\n",
       "<!-- 1&#45;&gt;5 -->\n",
       "<g id=\"edge3\" class=\"edge\"><title>1&#45;&gt;5</title>\n",
       "<path fill=\"none\" stroke=\"black\" d=\"M48.8297,-81.3313C58.609,-73.7874 71.9201,-63.5188 83.1298,-54.8713\"/>\n",
       "<polygon fill=\"black\" stroke=\"black\" points=\"91.199,-48.6465 86.0298,-58.3176 87.2401,-51.7005 83.2811,-54.7546 83.2811,-54.7546 83.2811,-54.7546 87.2401,-51.7005 80.5325,-51.1915 91.199,-48.6465 91.199,-48.6465\"/>\n",
       "</g>\n",
       "<!-- 2 -->\n",
       "<g id=\"node3\" class=\"node\"><title>2</title>\n",
       "<ellipse fill=\"none\" stroke=\"black\" cx=\"34\" cy=\"-38\" rx=\"18\" ry=\"18\"/>\n",
       "<text text-anchor=\"middle\" x=\"34\" y=\"-34.3\" font-family=\"Times,serif\" font-size=\"14.00\">2</text>\n",
       "</g>\n",
       "<!-- 2&#45;&gt;3 -->\n",
       "<g id=\"edge5\" class=\"edge\"><title>2&#45;&gt;3</title>\n",
       "<path fill=\"none\" stroke=\"black\" d=\"M47.8113,-49.795C52.1103,-54.246 56.6564,-59.5566 60,-65 73.3954,-86.8077 66.6046,-97.1923 80,-119 81.5673,-121.552 83.3989,-124.074 85.3453,-126.492\"/>\n",
       "<polygon fill=\"black\" stroke=\"black\" points=\"92.1887,-134.205 82.1857,-129.712 88.8702,-130.465 85.5517,-126.725 85.5517,-126.725 85.5517,-126.725 88.8702,-130.465 88.9177,-123.738 92.1887,-134.205 92.1887,-134.205\"/>\n",
       "</g>\n",
       "<!-- 2&#45;&gt;5 -->\n",
       "<g id=\"edge6\" class=\"edge\"><title>2&#45;&gt;5</title>\n",
       "<path fill=\"none\" stroke=\"black\" d=\"M52.3034,-38C60.0173,-38 69.2875,-38 77.8876,-38\"/>\n",
       "<polygon fill=\"black\" stroke=\"black\" points=\"87.8957,-38 77.8957,-42.5001 82.8957,-38 77.8957,-38.0001 77.8957,-38.0001 77.8957,-38.0001 82.8957,-38 77.8956,-33.5001 87.8957,-38 87.8957,-38\"/>\n",
       "</g>\n",
       "<!-- 6 -->\n",
       "<g id=\"node7\" class=\"node\"><title>6</title>\n",
       "<ellipse fill=\"none\" stroke=\"black\" cx=\"178\" cy=\"-146\" rx=\"18\" ry=\"18\"/>\n",
       "<text text-anchor=\"middle\" x=\"178\" y=\"-142.3\" font-family=\"Times,serif\" font-size=\"14.00\">6</text>\n",
       "</g>\n",
       "<!-- 3&#45;&gt;6 -->\n",
       "<g id=\"edge8\" class=\"edge\"><title>3&#45;&gt;6</title>\n",
       "<path fill=\"none\" stroke=\"black\" d=\"M124.303,-146C132.017,-146 141.288,-146 149.888,-146\"/>\n",
       "<polygon fill=\"black\" stroke=\"black\" points=\"159.896,-146 149.896,-150.5 154.896,-146 149.896,-146 149.896,-146 149.896,-146 154.896,-146 149.896,-141.5 159.896,-146 159.896,-146\"/>\n",
       "</g>\n",
       "<!-- 7 -->\n",
       "<g id=\"node8\" class=\"node\"><title>7</title>\n",
       "<ellipse fill=\"none\" stroke=\"black\" cx=\"178\" cy=\"-92\" rx=\"18\" ry=\"18\"/>\n",
       "<text text-anchor=\"middle\" x=\"178\" y=\"-88.3\" font-family=\"Times,serif\" font-size=\"14.00\">7</text>\n",
       "</g>\n",
       "<!-- 3&#45;&gt;7 -->\n",
       "<g id=\"edge7\" class=\"edge\"><title>3&#45;&gt;7</title>\n",
       "<path fill=\"none\" stroke=\"black\" d=\"M120.83,-135.331C130.609,-127.787 143.92,-117.519 155.13,-108.871\"/>\n",
       "<polygon fill=\"black\" stroke=\"black\" points=\"163.199,-102.646 158.03,-112.318 159.24,-105.701 155.281,-108.755 155.281,-108.755 155.281,-108.755 159.24,-105.701 152.533,-105.192 163.199,-102.646 163.199,-102.646\"/>\n",
       "</g>\n",
       "<!-- 4&#45;&gt;7 -->\n",
       "<g id=\"edge10\" class=\"edge\"><title>4&#45;&gt;7</title>\n",
       "<path fill=\"none\" stroke=\"black\" d=\"M124.303,-92C132.017,-92 141.288,-92 149.888,-92\"/>\n",
       "<polygon fill=\"black\" stroke=\"black\" points=\"159.896,-92 149.896,-96.5001 154.896,-92 149.896,-92.0001 149.896,-92.0001 149.896,-92.0001 154.896,-92 149.896,-87.5001 159.896,-92 159.896,-92\"/>\n",
       "</g>\n",
       "<!-- 8 -->\n",
       "<g id=\"node9\" class=\"node\"><title>8</title>\n",
       "<ellipse fill=\"none\" stroke=\"black\" cx=\"178\" cy=\"-38\" rx=\"18\" ry=\"18\"/>\n",
       "<text text-anchor=\"middle\" x=\"178\" y=\"-34.3\" font-family=\"Times,serif\" font-size=\"14.00\">8</text>\n",
       "</g>\n",
       "<!-- 4&#45;&gt;8 -->\n",
       "<g id=\"edge9\" class=\"edge\"><title>4&#45;&gt;8</title>\n",
       "<path fill=\"none\" stroke=\"black\" d=\"M120.83,-81.3313C130.609,-73.7874 143.92,-63.5188 155.13,-54.8713\"/>\n",
       "<polygon fill=\"black\" stroke=\"black\" points=\"163.199,-48.6465 158.03,-58.3176 159.24,-51.7005 155.281,-54.7546 155.281,-54.7546 155.281,-54.7546 159.24,-51.7005 152.533,-51.1915 163.199,-48.6465 163.199,-48.6465\"/>\n",
       "</g>\n",
       "<!-- 5&#45;&gt;6 -->\n",
       "<g id=\"edge11\" class=\"edge\"><title>5&#45;&gt;6</title>\n",
       "<path fill=\"none\" stroke=\"black\" d=\"M119.811,-49.795C124.11,-54.246 128.656,-59.5566 132,-65 145.395,-86.8077 138.605,-97.1923 152,-119 153.567,-121.552 155.399,-124.074 157.345,-126.492\"/>\n",
       "<polygon fill=\"black\" stroke=\"black\" points=\"164.189,-134.205 154.186,-129.712 160.87,-130.465 157.552,-126.725 157.552,-126.725 157.552,-126.725 160.87,-130.465 160.918,-123.738 164.189,-134.205 164.189,-134.205\"/>\n",
       "</g>\n",
       "<!-- 5&#45;&gt;8 -->\n",
       "<g id=\"edge12\" class=\"edge\"><title>5&#45;&gt;8</title>\n",
       "<path fill=\"none\" stroke=\"black\" d=\"M124.303,-38C132.017,-38 141.288,-38 149.888,-38\"/>\n",
       "<polygon fill=\"black\" stroke=\"black\" points=\"159.896,-38 149.896,-42.5001 154.896,-38 149.896,-38.0001 149.896,-38.0001 149.896,-38.0001 154.896,-38 149.896,-33.5001 159.896,-38 159.896,-38\"/>\n",
       "</g>\n",
       "<!-- 9 -->\n",
       "<g id=\"node10\" class=\"node\"><title>9</title>\n",
       "<ellipse fill=\"none\" stroke=\"black\" cx=\"251.498\" cy=\"-147\" rx=\"18\" ry=\"18\"/>\n",
       "<text text-anchor=\"middle\" x=\"251.498\" y=\"-143.3\" font-family=\"Times,serif\" font-size=\"14.00\">9</text>\n",
       "</g>\n",
       "<!-- 6&#45;&gt;9 -->\n",
       "<g id=\"edge14\" class=\"edge\"><title>6&#45;&gt;9</title>\n",
       "<path fill=\"none\" stroke=\"black\" d=\"M196.308,-146.242C204.387,-146.355 214.198,-146.492 223.239,-146.619\"/>\n",
       "<polygon fill=\"black\" stroke=\"black\" points=\"233.35,-146.76 223.288,-151.12 228.35,-146.69 223.351,-146.62 223.351,-146.62 223.351,-146.62 228.35,-146.69 223.414,-142.121 233.35,-146.76 233.35,-146.76\"/>\n",
       "</g>\n",
       "<!-- 10 -->\n",
       "<g id=\"node11\" class=\"node\"><title>10</title>\n",
       "<ellipse fill=\"none\" stroke=\"black\" cx=\"251.498\" cy=\"-92\" rx=\"19.4965\" ry=\"19.4965\"/>\n",
       "<text text-anchor=\"middle\" x=\"251.498\" y=\"-88.3\" font-family=\"Times,serif\" font-size=\"14.00\">10</text>\n",
       "</g>\n",
       "<!-- 6&#45;&gt;10 -->\n",
       "<g id=\"edge13\" class=\"edge\"><title>6&#45;&gt;10</title>\n",
       "<path fill=\"none\" stroke=\"black\" d=\"M192.786,-135.588C202.551,-128.213 215.887,-118.141 227.279,-109.536\"/>\n",
       "<polygon fill=\"black\" stroke=\"black\" points=\"235.521,-103.312 230.253,-112.93 231.531,-106.325 227.541,-109.339 227.541,-109.339 227.541,-109.339 231.531,-106.325 224.829,-105.748 235.521,-103.312 235.521,-103.312\"/>\n",
       "</g>\n",
       "<!-- 7&#45;&gt;10 -->\n",
       "<g id=\"edge16\" class=\"edge\"><title>7&#45;&gt;10</title>\n",
       "<path fill=\"none\" stroke=\"black\" d=\"M196.308,-92C203.947,-92 213.133,-92 221.754,-92\"/>\n",
       "<polygon fill=\"black\" stroke=\"black\" points=\"231.847,-92 221.847,-96.5001 226.847,-92 221.847,-92.0001 221.847,-92.0001 221.847,-92.0001 226.847,-92 221.847,-87.5001 231.847,-92 231.847,-92\"/>\n",
       "</g>\n",
       "<!-- 11 -->\n",
       "<g id=\"node12\" class=\"node\"><title>11</title>\n",
       "<ellipse fill=\"none\" stroke=\"black\" cx=\"251.498\" cy=\"-35\" rx=\"19.4965\" ry=\"19.4965\"/>\n",
       "<text text-anchor=\"middle\" x=\"251.498\" y=\"-31.3\" font-family=\"Times,serif\" font-size=\"14.00\">11</text>\n",
       "</g>\n",
       "<!-- 7&#45;&gt;11 -->\n",
       "<g id=\"edge15\" class=\"edge\"><title>7&#45;&gt;11</title>\n",
       "<path fill=\"none\" stroke=\"black\" d=\"M192.786,-81.0098C202.712,-73.096 216.328,-62.2414 227.841,-53.0627\"/>\n",
       "<polygon fill=\"black\" stroke=\"black\" points=\"235.77,-46.7413 230.756,-56.4937 231.861,-49.8582 227.951,-52.9751 227.951,-52.9751 227.951,-52.9751 231.861,-49.8582 225.146,-49.4564 235.77,-46.7413 235.77,-46.7413\"/>\n",
       "</g>\n",
       "<!-- 8&#45;&gt;9 -->\n",
       "<g id=\"edge17\" class=\"edge\"><title>8&#45;&gt;9</title>\n",
       "<path fill=\"none\" stroke=\"black\" d=\"M191.829,-49.784C196.13,-54.2339 200.673,-59.5467 204,-65 217.548,-87.2035 210.131,-97.9957 224,-120 225.786,-122.834 227.912,-125.61 230.172,-128.239\"/>\n",
       "<polygon fill=\"black\" stroke=\"black\" points=\"237.146,-135.596 227,-131.434 233.706,-131.967 230.266,-128.338 230.266,-128.338 230.266,-128.338 233.706,-131.967 233.532,-125.243 237.146,-135.596 237.146,-135.596\"/>\n",
       "</g>\n",
       "<!-- 8&#45;&gt;11 -->\n",
       "<g id=\"edge18\" class=\"edge\"><title>8&#45;&gt;11</title>\n",
       "<path fill=\"none\" stroke=\"black\" d=\"M196.308,-37.2738C203.947,-36.9532 213.133,-36.5678 221.754,-36.2061\"/>\n",
       "<polygon fill=\"black\" stroke=\"black\" points=\"231.847,-35.7826 222.045,-40.6979 226.852,-35.9922 221.856,-36.2019 221.856,-36.2019 221.856,-36.2019 226.852,-35.9922 221.667,-31.7059 231.847,-35.7826 231.847,-35.7826\"/>\n",
       "</g>\n",
       "<!-- 12 -->\n",
       "<g id=\"node13\" class=\"node\"><title>12</title>\n",
       "<ellipse fill=\"none\" stroke=\"black\" cx=\"326.495\" cy=\"-149\" rx=\"19.4965\" ry=\"19.4965\"/>\n",
       "<text text-anchor=\"middle\" x=\"326.495\" y=\"-145.3\" font-family=\"Times,serif\" font-size=\"14.00\">12</text>\n",
       "</g>\n",
       "<!-- 9&#45;&gt;12 -->\n",
       "<g id=\"edge20\" class=\"edge\"><title>9&#45;&gt;12</title>\n",
       "<path fill=\"none\" stroke=\"black\" d=\"M269.797,-147.474C277.797,-147.693 287.518,-147.959 296.584,-148.208\"/>\n",
       "<polygon fill=\"black\" stroke=\"black\" points=\"306.785,-148.487 296.666,-152.712 301.787,-148.35 296.789,-148.213 296.789,-148.213 296.789,-148.213 301.787,-148.35 296.912,-143.715 306.785,-148.487 306.785,-148.487\"/>\n",
       "</g>\n",
       "<!-- 13 -->\n",
       "<g id=\"node14\" class=\"node\"><title>13</title>\n",
       "<ellipse fill=\"none\" stroke=\"black\" cx=\"326.495\" cy=\"-92\" rx=\"19.4965\" ry=\"19.4965\"/>\n",
       "<text text-anchor=\"middle\" x=\"326.495\" y=\"-88.3\" font-family=\"Times,serif\" font-size=\"14.00\">13</text>\n",
       "</g>\n",
       "<!-- 9&#45;&gt;13 -->\n",
       "<g id=\"edge19\" class=\"edge\"><title>9&#45;&gt;13</title>\n",
       "<path fill=\"none\" stroke=\"black\" d=\"M266.573,-136.395C276.707,-128.759 290.608,-118.286 302.363,-109.429\"/>\n",
       "<polygon fill=\"black\" stroke=\"black\" points=\"310.458,-103.329 305.18,-112.941 306.465,-106.338 302.472,-109.347 302.472,-109.347 302.472,-109.347 306.465,-106.338 299.764,-105.753 310.458,-103.329 310.458,-103.329\"/>\n",
       "</g>\n",
       "<!-- 10&#45;&gt;13 -->\n",
       "<g id=\"edge22\" class=\"edge\"><title>10&#45;&gt;13</title>\n",
       "<path fill=\"none\" stroke=\"black\" d=\"M271.297,-92C279.045,-92 288.197,-92 296.754,-92\"/>\n",
       "<polygon fill=\"black\" stroke=\"black\" points=\"306.76,-92 296.76,-96.5001 301.76,-92 296.76,-92.0001 296.76,-92.0001 296.76,-92.0001 301.76,-92 296.76,-87.5001 306.76,-92 306.76,-92\"/>\n",
       "</g>\n",
       "<!-- 14 -->\n",
       "<g id=\"node15\" class=\"node\"><title>14</title>\n",
       "<ellipse fill=\"none\" stroke=\"black\" cx=\"326.495\" cy=\"-35\" rx=\"19.4965\" ry=\"19.4965\"/>\n",
       "<text text-anchor=\"middle\" x=\"326.495\" y=\"-31.3\" font-family=\"Times,serif\" font-size=\"14.00\">14</text>\n",
       "</g>\n",
       "<!-- 10&#45;&gt;14 -->\n",
       "<g id=\"edge21\" class=\"edge\"><title>10&#45;&gt;14</title>\n",
       "<path fill=\"none\" stroke=\"black\" d=\"M267.27,-80.4652C277.461,-72.5074 291.205,-61.7752 302.781,-52.7363\"/>\n",
       "<polygon fill=\"black\" stroke=\"black\" points=\"310.745,-46.5176 305.633,-56.219 306.804,-49.5949 302.863,-52.6722 302.863,-52.6722 302.863,-52.6722 306.804,-49.5949 300.094,-49.1254 310.745,-46.5176 310.745,-46.5176\"/>\n",
       "</g>\n",
       "<!-- 11&#45;&gt;12 -->\n",
       "<g id=\"edge23\" class=\"edge\"><title>11&#45;&gt;12</title>\n",
       "<path fill=\"none\" stroke=\"black\" d=\"M266.382,-47.96C270.86,-52.6812 275.551,-58.2732 278.997,-64 292.623,-86.645 285.37,-97.355 298.997,-120 300.72,-122.863 302.754,-125.693 304.917,-128.397\"/>\n",
       "<polygon fill=\"black\" stroke=\"black\" points=\"311.611,-136.04 301.637,-131.482 308.317,-132.279 305.022,-128.517 305.022,-128.517 305.022,-128.517 308.317,-132.279 308.407,-125.552 311.611,-136.04 311.611,-136.04\"/>\n",
       "</g>\n",
       "<!-- 11&#45;&gt;14 -->\n",
       "<g id=\"edge24\" class=\"edge\"><title>11&#45;&gt;14</title>\n",
       "<path fill=\"none\" stroke=\"black\" d=\"M271.297,-35C279.045,-35 288.197,-35 296.754,-35\"/>\n",
       "<polygon fill=\"black\" stroke=\"black\" points=\"306.76,-35 296.76,-39.5001 301.76,-35 296.76,-35.0001 296.76,-35.0001 296.76,-35.0001 301.76,-35 296.76,-30.5001 306.76,-35 306.76,-35\"/>\n",
       "</g>\n",
       "</g>\n",
       "</svg>\n"
      ],
      "text/plain": [
       "<graphviz.dot.Digraph at 0x7f98457458d0>"
      ]
     },
     "execution_count": 14,
     "metadata": {},
     "output_type": "execute_result"
    }
   ],
   "source": [
    "expanded_graph = graph.expand_in_time(4)\n",
    "expanded_graph.Visualize()"
   ]
  }
 ],
 "metadata": {
  "kernelspec": {
   "display_name": "Python 3",
   "language": "python",
   "name": "python3"
  },
  "language_info": {
   "codemirror_mode": {
    "name": "ipython",
    "version": 3
   },
   "file_extension": ".py",
   "mimetype": "text/x-python",
   "name": "python",
   "nbconvert_exporter": "python",
   "pygments_lexer": "ipython3",
   "version": "3.6.7"
  }
 },
 "nbformat": 4,
 "nbformat_minor": 2
}
