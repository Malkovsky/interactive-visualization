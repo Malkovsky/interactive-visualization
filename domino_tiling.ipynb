{
 "cells": [
  {
   "cell_type": "code",
   "execution_count": 1,
   "metadata": {},
   "outputs": [],
   "source": [
    "tiling = [\n",
    "    '........',\n",
    "    '........',\n",
    "    '........',\n",
    "    '........',\n",
    "    '........',\n",
    "    '........',\n",
    "    '........',\n",
    "    '........',\n",
    "]"
   ]
  },
  {
   "cell_type": "code",
   "execution_count": 2,
   "metadata": {},
   "outputs": [
    {
     "name": "stdout",
     "output_type": "stream",
     "text": [
      "8 8\n"
     ]
    }
   ],
   "source": [
    "n = len(tiling)\n",
    "m = len(tiling[0])\n",
    "print(n, m)"
   ]
  },
  {
   "cell_type": "code",
   "execution_count": 3,
   "metadata": {},
   "outputs": [],
   "source": [
    "def count_tilings(tiling):\n",
    "    if ((n + 1) * m * 2 ** m) <= 10000000:\n",
    "        dp = [[[(0 if k != 0 or j != 0 or mask != 0 else 1) for mask in range(2 ** m)] for j in range(m)] for k in range(n + 1)]\n",
    "    for k in range(n):\n",
    "        for j in range(m):\n",
    "            for mask in range(2 ** m):\n",
    "                # Вертикальная доминошка\n",
    "                if k < n - 1 and tiling[k][j] == '.' and tiling[k + 1][j] == '.' and (mask &  (1 << j)) == 0:\n",
    "                    dp[k + ((j + 1) // m)][(j + 1) % m][mask + (1 << j)] += dp[k][j][mask]\n",
    "                # Горизонтальная доминошка\n",
    "                if j < m - 1 and tiling[k][j] == '.' and tiling[k][j + 1] == '.' and (mask & (3 << j)) == 0:\n",
    "                    dp[k + ((j + 1) // m)][(j + 1) % m][mask + (2 << j)] += dp[k][j][mask]\n",
    "                # Клетка занята\n",
    "                if ((1 << j) &  mask) != 0 or tiling[k][j] != '.':\n",
    "                    dp[k + ((j + 1) // m)][(j + 1) % m][(mask | (1 << j)) - (1 << j)] += dp[k][j][mask]\n",
    "    return dp"
   ]
  },
  {
   "cell_type": "code",
   "execution_count": 4,
   "metadata": {},
   "outputs": [
    {
     "name": "stdout",
     "output_type": "stream",
     "text": [
      "12988816\n"
     ]
    }
   ],
   "source": [
    "dp = count_tilings(tiling)\n",
    "print(dp[n][0][0])"
   ]
  },
  {
   "cell_type": "code",
   "execution_count": 5,
   "metadata": {},
   "outputs": [],
   "source": [
    "def cover_if_possible(tiling, dp=None):\n",
    "    if dp is None:\n",
    "        dp = count_tilings(tiling)\n",
    "    n = len(dp) - 1\n",
    "    m = len(dp[0])\n",
    "    if dp[n][0][0] == 0:\n",
    "        return None\n",
    "    \n",
    "    result = [[-1 if tiling[i][j] == '#' else 0 for j in range(m)] for i in range(n)]\n",
    "    num = 0\n",
    "    \n",
    "    k = n\n",
    "    j = 0\n",
    "    mask = 0\n",
    "    \n",
    "    while k > 0 or j > 0:\n",
    "        #print(k, j, mask)\n",
    "        prev_j = j - 1\n",
    "        prev_k = k\n",
    "        if prev_j == -1:\n",
    "            prev_j += m\n",
    "            prev_k -= 1\n",
    "        \n",
    "        # Начинаем перебирать варианты, каким образом мы могли попасть в i, j, mask\n",
    "        # Этот вариант очень не оптимален, но занимает меньше кода и все равно быстрее \n",
    "        # самого подсчета динамики\n",
    "        for prev_mask in range(2 ** m):\n",
    "            if prev_k < n - 1 and tiling[prev_k][prev_j] == '.' and tiling[prev_k + 1][prev_j] == '.' and \\\n",
    "                (prev_mask & (1 << prev_j)) == 0 and (prev_mask + (1 << prev_j)) == mask and dp[prev_k][prev_j][prev_mask] != 0:\n",
    "                mask = prev_mask\n",
    "                result[prev_k][prev_j] = num\n",
    "                result[prev_k + 1][prev_j] = num\n",
    "                #print(f'Vertical at ({prev_k}, {prev_j}) ({prev_k + 1}, {prev_j})')\n",
    "                num += 1\n",
    "                break\n",
    "            elif prev_j < m - 1 and tiling[prev_k][prev_j] == '.' and tiling[prev_k][prev_j + 1] == '.' and (prev_mask & (3 << prev_j)) == 0 and \\\n",
    "                prev_mask + (2 << prev_j) == mask and dp[prev_k][prev_j][prev_mask] != 0:\n",
    "                mask = prev_mask\n",
    "                result[prev_k][prev_j] = num\n",
    "                result[prev_k][prev_j + 1] = num\n",
    "                #print(f'Horisontal at ({prev_k}, {prev_j}) ({prev_k}, {prev_j + 1})')\n",
    "                num += 1\n",
    "                break\n",
    "            elif (((1 << prev_j) & prev_mask) != 0 or tiling[prev_k][prev_j] != '.') and \\\n",
    "                (prev_mask | (1 << prev_j)) - (1 << prev_j) == mask and dp[prev_k][prev_j][prev_mask] != 0:\n",
    "                mask = prev_mask\n",
    "                break\n",
    "        \n",
    "        j = prev_j\n",
    "        k = prev_k\n",
    "    \n",
    "    return result"
   ]
  },
  {
   "cell_type": "code",
   "execution_count": 32,
   "metadata": {},
   "outputs": [],
   "source": [
    "def show_filling(filling):\n",
    "    for row in filling:\n",
    "        print(''.join(map(lambda x: '#' if x == -1 else chr(ord('a') + x % (2 * m)), row)))    \n",
    "\n",
    "def show_tiling(tiling, fill=True, filling=None):\n",
    "    m = len(tiling[0])\n",
    "    if fill:\n",
    "        if filling is None:\n",
    "            filling = cover_if_possible(tiling)\n",
    "        if filling is not None:\n",
    "            show_filling(filling)\n",
    "            return filling\n",
    "        else:\n",
    "            print('No tiling')\n",
    "            return None\n",
    "    else:\n",
    "        for row in tiling:\n",
    "            print(''.join(row))   "
   ]
  },
  {
   "cell_type": "code",
   "execution_count": 7,
   "metadata": {},
   "outputs": [
    {
     "name": "stdout",
     "output_type": "stream",
     "text": [
      "No tiling\n"
     ]
    }
   ],
   "source": [
    "tiling_no_corners_opposite = [\n",
    "    '.......#',\n",
    "    '........',\n",
    "    '........',\n",
    "    '........',\n",
    "    '........',\n",
    "    '........',\n",
    "    '........',\n",
    "    '#.......',\n",
    "]\n",
    "show_tiling(tiling_no_corners_opposite)"
   ]
  },
  {
   "cell_type": "code",
   "execution_count": 8,
   "metadata": {},
   "outputs": [
    {
     "name": "stdout",
     "output_type": "stream",
     "text": [
      "#onnmmll\n",
      "kojjiihh\n",
      "kgffeedd\n",
      "cgbbaapp\n",
      "connmmll\n",
      "kojjiihh\n",
      "kgffeedd\n",
      "#gccbbaa\n"
     ]
    },
    {
     "data": {
      "text/plain": [
       "[[-1, 30, 29, 29, 28, 28, 27, 27],\n",
       " [26, 30, 25, 25, 24, 24, 23, 23],\n",
       " [26, 22, 21, 21, 20, 20, 19, 19],\n",
       " [18, 22, 17, 17, 16, 16, 15, 15],\n",
       " [18, 14, 13, 13, 12, 12, 11, 11],\n",
       " [10, 14, 9, 9, 8, 8, 7, 7],\n",
       " [10, 6, 5, 5, 4, 4, 3, 3],\n",
       " [-1, 6, 2, 2, 1, 1, 0, 0]]"
      ]
     },
     "execution_count": 8,
     "metadata": {},
     "output_type": "execute_result"
    }
   ],
   "source": [
    "tiling_no_corners_same_side = [\n",
    "    '#.......',\n",
    "    '........',\n",
    "    '........',\n",
    "    '........',\n",
    "    '........',\n",
    "    '........',\n",
    "    '........',\n",
    "    '#.......',\n",
    "]\n",
    "show_tiling(tiling_no_corners_same_side)"
   ]
  },
  {
   "cell_type": "code",
   "execution_count": 9,
   "metadata": {},
   "outputs": [
    {
     "name": "stdout",
     "output_type": "stream",
     "text": [
      "nnmmllkk\n",
      "#j#ihhgg\n",
      "fj#ieedd\n",
      "fcbbaapp\n",
      "ocnnmmll\n",
      "okjjiihh\n",
      "gkffeedd\n",
      "gcc#bbaa\n"
     ]
    }
   ],
   "source": [
    "tiling_random = [\n",
    "    '........',\n",
    "    '#.#.....',\n",
    "    '..#.....',\n",
    "    '........',\n",
    "    '........',\n",
    "    '........',\n",
    "    '........',\n",
    "    '...#....'\n",
    "]\n",
    "filling_random = show_tiling(tiling_random)"
   ]
  },
  {
   "cell_type": "code",
   "execution_count": 10,
   "metadata": {},
   "outputs": [],
   "source": [
    "import matplotlib.pyplot as plt\n",
    "from matplotlib import colors as mcolors\n",
    "plt.ioff()"
   ]
  },
  {
   "cell_type": "code",
   "execution_count": 11,
   "metadata": {},
   "outputs": [],
   "source": [
    "plt.rcParams[\"figure.figsize\"] = [11,11]\n",
    "colors = dict(mcolors.BASE_COLORS, **mcolors.CSS4_COLORS)\n",
    "\n",
    "# Sort colors by hue, saturation, value and name.\n",
    "by_hsv = sorted((tuple(mcolors.rgb_to_hsv(mcolors.to_rgba(color)[:3])), name)\n",
    "                for name, color in colors.items())\n",
    "names = [name for hsv, name in by_hsv if name not in {'black', 'k', 'w', 'white'}]\n",
    "import random\n",
    "random.shuffle(names)\n",
    "names.append('white')\n",
    "names.append('black')"
   ]
  },
  {
   "cell_type": "code",
   "execution_count": 37,
   "metadata": {},
   "outputs": [
    {
     "data": {
      "image/png": "[encoded data removed]",
      "text/plain": [
       "<Figure size 792x792 with 1 Axes>"
      ]
     },
     "execution_count": 37,
     "metadata": {},
     "output_type": "execute_result"
    }
   ],
   "source": [
    "def fill_cell(i, j, color, ax):\n",
    "    ax.fill([i, i, i + 1, i + 1, i], [j, j + 1, j + 1, j, j], color=color)\n",
    "\n",
    "def draw_filling(filling):\n",
    "    if filling is not None:\n",
    "        n = len(filling)\n",
    "        m = len(filling[0])\n",
    "        fig = plt.figure()\n",
    "        \n",
    "        ax = fig.add_axes([0, 0, 1, 1])\n",
    "        ax.get_xaxis().set_visible(False)\n",
    "        ax.get_yaxis().set_visible(False)      \n",
    "        \n",
    "        for name, spine in ax.spines.items():\n",
    "            spine.set_visible(False)\n",
    "            spine.set_visible(False)\n",
    "        \n",
    "        for i, row in enumerate(filling):\n",
    "            i = n - i - 1\n",
    "            for j, cell in enumerate(row):\n",
    "                fill_cell(j, i, names[cell], ax)\n",
    "\n",
    "        for i in range(n + 1):\n",
    "            ax.plot([0, m], [i, i], color='black')\n",
    "        for i in range(m + 1):\n",
    "            ax.plot([i, i], [0, n], color='black')\n",
    "        plt.close(fig)\n",
    "        return fig\n",
    "    else:\n",
    "        return None\n",
    "\n",
    "draw_filling(filling_random)"
   ]
  },
  {
   "cell_type": "code",
   "execution_count": 28,
   "metadata": {},
   "outputs": [],
   "source": [
    "def maxmimum_cover(tiling):\n",
    "    n = len(tiling)\n",
    "    m = len(tiling[0])\n",
    "    if ((n + 1) * m * 2 ** m) <= 10000000:\n",
    "        dp = [[[(n * m if k != 0 or j != 0 or mask != 0 else 0) for mask in range(2 ** m)] for j in range(m)] for k in range(n + 1)]\n",
    "    for k in range(n):\n",
    "        for j in range(m):\n",
    "            for mask in range(2 ** m):\n",
    "                next_k, next_j = k + ((j + 1) // m), (j + 1) % m\n",
    "                # Вертикальная доминошка\n",
    "                if k < n - 1 and tiling[k][j] == '.' and tiling[k + 1][j] == '.' and (mask &  (1 << j)) == 0:\n",
    "                    dp[next_k][next_j][mask + (1 << j)] = min(dp[next_k][next_j][mask + (1 << j)], dp[k][j][mask])\n",
    "                # Горизонтальная доминошка\n",
    "                if j < m - 1 and tiling[k][j] == '.' and tiling[k][j + 1] == '.' and (mask & (3 << j)) == 0:\n",
    "                    dp[next_k][next_j][mask + (2 << j)] = min(dp[next_k][next_j][mask + (2 << j)], dp[k][j][mask])\n",
    "                # Клетка занята\n",
    "                if ((1 << j) &  mask) != 0 or tiling[k][j] != '.':\n",
    "                    dp[next_k][next_j][(mask | (1 << j)) - (1 << j)] = \\\n",
    "                        min(dp[next_k][next_j][(mask | (1 << j)) - (1 << j)], dp[k][j][mask])\n",
    "                # Клетка не занята, рассмотриваем случай её пропуска\n",
    "                else:\n",
    "                    dp[next_k][next_j][(mask | (1 << j)) - (1 << j)] = \\\n",
    "                        min(dp[next_k][next_j][(mask | (1 << j)) - (1 << j)], dp[k][j][mask] + 1)\n",
    "    return dp\n",
    "\n",
    "def cover_maximum_possible(tiling, dp=None):\n",
    "    if dp is None:\n",
    "        dp = maxmimum_cover(tiling)\n",
    "    n = len(dp) - 1\n",
    "    m = len(dp[0])\n",
    "\n",
    "    result = [[-1 if tiling[i][j] == '#' else -2 for j in range(m)] for i in range(n)]\n",
    "    num = 0\n",
    "    \n",
    "    k = n\n",
    "    j = 0\n",
    "    mask = 0\n",
    "    \n",
    "    while k > 0 or j > 0:\n",
    "        #print(k, j, mask)\n",
    "        prev_j = j - 1\n",
    "        prev_k = k\n",
    "        if prev_j == -1:\n",
    "            prev_j += m\n",
    "            prev_k -= 1\n",
    "        \n",
    "        # Начинаем перебирать варианты, каким образом мы могли попасть в i, j, mask\n",
    "        # Этот вариант очень не оптимален, но занимает меньше кода и все равно быстрее \n",
    "        # самого подсчета динамики\n",
    "        for prev_mask in range(2 ** m):\n",
    "            # Раньше мы здесь проверяли, что количество вариантов в этой ветке не 0, сейчас нужно\n",
    "            # проверить, что эта ветка ведет к максимальному покрытию\n",
    "            if prev_k < n - 1 and tiling[prev_k][prev_j] == '.' and tiling[prev_k + 1][prev_j] == '.' and \\\n",
    "                    (prev_mask & (1 << prev_j)) == 0 and (prev_mask + (1 << prev_j)) == mask and \\\n",
    "                    dp[prev_k][prev_j][prev_mask] == dp[k][j][mask]:\n",
    "                mask = prev_mask\n",
    "                result[prev_k][prev_j] = num\n",
    "                result[prev_k + 1][prev_j] = num\n",
    "                num += 1\n",
    "                break\n",
    "            elif prev_j < m - 1 and tiling[prev_k][prev_j] == '.' and tiling[prev_k][prev_j + 1] == '.' and (prev_mask & (3 << prev_j)) == 0 and \\\n",
    "                    prev_mask + (2 << prev_j) == mask and dp[prev_k][prev_j][prev_mask] == dp[k][j][mask]:\n",
    "                mask = prev_mask\n",
    "                result[prev_k][prev_j] = num\n",
    "                result[prev_k][prev_j + 1] = num\n",
    "                num += 1\n",
    "                break\n",
    "            elif (((1 << prev_j) & prev_mask) != 0 or tiling[prev_k][prev_j] != '.') and \\\n",
    "                    (prev_mask | (1 << prev_j)) - (1 << prev_j) == mask and dp[prev_k][prev_j][prev_mask] == dp[k][j][mask]:\n",
    "                mask = prev_mask\n",
    "                break\n",
    "            elif ((1 << prev_j) & prev_mask) == 0 and tiling[prev_k][prev_j] == '.' and \\\n",
    "                    (prev_mask | (1 << prev_j)) - (1 << prev_j) == mask and dp[prev_k][prev_j][prev_mask] + 1 == dp[k][j][mask]:\n",
    "                mask = prev_mask\n",
    "                break\n",
    "                \n",
    "        \n",
    "        j = prev_j\n",
    "        k = prev_k\n",
    "    \n",
    "    return result"
   ]
  },
  {
   "cell_type": "code",
   "execution_count": 33,
   "metadata": {},
   "outputs": [
    {
     "name": "stdout",
     "output_type": "stream",
     "text": [
      "nnmmllkk\n",
      "#j#ihhgg\n",
      "fj#ieedd\n",
      "fcbbaapp\n",
      "ocnnmmll\n",
      "okjjiihh\n",
      "gkffeedd\n",
      "gcc#bbaa\n"
     ]
    },
    {
     "data": {
      "image/png": "[encoded data removed]",
      "text/plain": [
       "<Figure size 792x792 with 1 Axes>"
      ]
     },
     "execution_count": 33,
     "metadata": {},
     "output_type": "execute_result"
    }
   ],
   "source": [
    "filling = cover_maximum_possible(tiling_random)\n",
    "show_filling(filling)\n",
    "draw_filling(filling)"
   ]
  },
  {
   "cell_type": "code",
   "execution_count": 39,
   "metadata": {},
   "outputs": [
    {
     "name": "stdout",
     "output_type": "stream",
     "text": [
      "onn####\n",
      "ommo###\n",
      "llkkjj#\n",
      "#i#hhgg\n",
      "#ifeedd\n",
      "##fccbb\n",
      "###aao#\n"
     ]
    },
    {
     "data": {
      "image/png": "[encoded data removed]",
      "text/plain": [
       "<Figure size 792x792 with 1 Axes>"
      ]
     },
     "execution_count": 39,
     "metadata": {},
     "output_type": "execute_result"
    }
   ],
   "source": [
    "tiling_custom=[\n",
    "    '...####',\n",
    "    '....###',\n",
    "    '......#',\n",
    "    '#.#....',\n",
    "    '#......',\n",
    "    '##.....',\n",
    "    '###...#',\n",
    "]\n",
    "filling = cover_maximum_possible(tiling_custom)\n",
    "show_filling(filling)\n",
    "draw_filling(filling)"
   ]
  }
 ],
 "metadata": {
  "kernelspec": {
   "display_name": "Python 3",
   "language": "python",
   "name": "python3"
  },
  "language_info": {
   "codemirror_mode": {
    "name": "ipython",
    "version": 3
   },
   "file_extension": ".py",
   "mimetype": "text/x-python",
   "name": "python",
   "nbconvert_exporter": "python",
   "pygments_lexer": "ipython3",
   "version": "3.6.9"
  }
 },
 "nbformat": 4,
 "nbformat_minor": 4
}
