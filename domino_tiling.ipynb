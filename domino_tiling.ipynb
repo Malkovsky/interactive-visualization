{
 "cells": [
  {
   "cell_type": "markdown",
   "metadata": {},
   "source": [
    "# Замощение доминошками\n",
    "Есть старая известная задача: можно ли разрезать шахматную доску без двух противоположных по диагонали углов на \"доминошки\" -- фигурки, состоящие из двух клеток с общей стороной?"
   ]
  },
  {
   "cell_type": "code",
   "execution_count": 1,
   "metadata": {},
   "outputs": [],
   "source": [
    "import matplotlib.pyplot as plt\n",
    "from matplotlib import colors as mcolors\n",
    "colors = dict(mcolors.BASE_COLORS, **mcolors.CSS4_COLORS)\n",
    "\n",
    "# Sort colors by hue, saturation, value and name.\n",
    "by_hsv = sorted((tuple(mcolors.rgb_to_hsv(mcolors.to_rgba(color)[:3])), name)\n",
    "                for name, color in colors.items())\n",
    "names = [name for hsv, name in by_hsv if name not in {'black', 'k', 'w', 'white', 'red'}]\n",
    "import random\n",
    "random.shuffle(names)\n",
    "names.append('red')\n",
    "names.append('white')\n",
    "names.append('black')"
   ]
  },
  {
   "cell_type": "code",
   "execution_count": 2,
   "metadata": {},
   "outputs": [],
   "source": [
    "def fill_cell(i, j, color, ax):\n",
    "    ax.fill([i, i, i + 1, i + 1, i], [j, j + 1, j + 1, j, j], color=color)\n",
    "\n",
    "def draw_filling(filling):\n",
    "    if filling is not None:\n",
    "        n = len(filling)\n",
    "        m = len(filling[0])\n",
    "        fig = plt.figure(figsize=(m * 0.75, n * 0.75))\n",
    "        \n",
    "        ax = fig.add_axes([0, 0, 1, 1])\n",
    "        ax.get_xaxis().set_visible(False)\n",
    "        ax.get_yaxis().set_visible(False)      \n",
    "        \n",
    "        for name, spine in ax.spines.items():\n",
    "            spine.set_visible(False)\n",
    "            spine.set_visible(False)\n",
    "        \n",
    "        for i, row in enumerate(filling):\n",
    "            i = n - i - 1\n",
    "            for j, cell in enumerate(row):\n",
    "                fill_cell(j, i, names[cell], ax)\n",
    "\n",
    "        for i in range(n + 1):\n",
    "            ax.plot([0, m], [i, i], color='black')\n",
    "        for i in range(m + 1):\n",
    "            ax.plot([i, i], [0, n], color='black')\n",
    "        plt.close(fig)\n",
    "        return fig\n",
    "    else:\n",
    "        return None"
   ]
  },
  {
   "cell_type": "code",
   "execution_count": 3,
   "metadata": {},
   "outputs": [
    {
     "data": {
      "image/png": "[encoded data removed]",
      "text/plain": [
       "<Figure size 432x432 with 1 Axes>"
      ]
     },
     "execution_count": 3,
     "metadata": {},
     "output_type": "execute_result"
    }
   ],
   "source": [
    "filling = [[-1 if (i + j) % 2 == 0 else -2 for j in range(8)] for i in range(8)]\n",
    "filling[0][0] = -3\n",
    "filling[7][7] = -3\n",
    "draw_filling(filling)"
   ]
  },
  {
   "cell_type": "code",
   "execution_count": 4,
   "metadata": {},
   "outputs": [
    {
     "data": {
      "image/png": "[encoded data removed]",
      "text/plain": [
       "<Figure size 108x54 with 1 Axes>"
      ]
     },
     "execution_count": 4,
     "metadata": {},
     "output_type": "execute_result"
    }
   ],
   "source": [
    "domino = [[-1, -2]]\n",
    "draw_filling(domino)\n",
    "# а вот и сама доминошка"
   ]
  },
  {
   "cell_type": "markdown",
   "metadata": {},
   "source": [
    "Сделать это невозможно, и этому есть красивое и простое объяснение:\n",
    "* На оставшейся части доски 30 черных и 32 белых клетки\n",
    "* Каждая доминошка состоит из одной черной и одной белой клетки\n",
    "* Как бы мы не разрезали фигуру на доминошки, в итоге на доминошках будет равное число белых и черных клеток"
   ]
  },
  {
   "cell_type": "markdown",
   "metadata": {},
   "source": [
    "Давайте теперь разберем несколько методов, как можно:\n",
    "* Понять, можно ли разрезать произвольную фигуру, составленную из клеток на плоскости, и если можно, то как\n",
    "* Посчитать количество возможных вариантов разрезать, фигуру если существует хотя бы одно\n",
    "\n",
    "## Динамическое программирование по профилю\n",
    "\n",
    "Более подробно про этот подход написано [здесь](https://neerc.ifmo.ru/wiki/index.php?title=Динамическое_программирование_по_профилю), лично мне больше по душе <b>изломанный профиль</b>, про него и расскажу. Основной идеей динамического программирования является использование рекуррентных зависимостей функций, например одно из самых простых применений динамического программирования -- это подсчет чисел Фибоначчи, для которых справедливо соотношение\n",
    "\\begin{align*}\n",
    "F_0&=F_1=1\\\\\n",
    "F_{n+1}&=F_n+F_{n-1}\n",
    "\\end{align*}\n",
    "Для подсчета $F_{100}$ мы можем последовательно вычислить все $F_i$ вплоть до $F_{100}$, просто последовательно применяя это рекуррентное соотношение. Чуть более сложный пример -- вычисление числа сочетаний, для которых справедливо\n",
    "\\begin{align*}\n",
    "C_n^0&=1\\\\\n",
    "C_n^k&=\\frac{n}{k}C_{n-1}^{k-1} \\\\\n",
    "C_n^k&=C_{n-1}^k+C_{n-1}^{k-1}\n",
    "\\end{align*}\n",
    "В зависимости от задачи мы можем использовать одно из двух рекуррентных соотношений, в первом мы точно также как и с числами Фибоначчи последовательно вычисляем сочетания. Во втором же случае у нас появляется зависимость с двумя параметрами, но ситуация принципиально не изменяется: мы просто вычисляем в порядке увеличения $n$:"
   ]
  },
  {
   "cell_type": "code",
   "execution_count": 5,
   "metadata": {},
   "outputs": [
    {
     "name": "stdout",
     "output_type": "stream",
     "text": [
      "              1              \n",
      "             1 1             \n",
      "            1 2 1            \n",
      "           1 3 3 1           \n",
      "          1 4 6 4 1          \n",
      "        1 5 10 10 5 1        \n",
      "      1 6 15 20 15 6 1       \n",
      "     1 7 21 35 35 21 7 1     \n",
      "   1 8 28 56 70 56 28 8 1    \n",
      " 1 9 36 84 126 126 84 36 9 1 \n"
     ]
    }
   ],
   "source": [
    "C = [[1]]\n",
    "for n in range(1, 10):\n",
    "    C.append([1]) # C[n][0] == 1\n",
    "    for k in range(1, n):\n",
    "        C[n].append(C[n - 1][k - 1] + C[n - 1][k])\n",
    "    C[n].append(1)\n",
    "        \n",
    "# Дальнейший код просто чтобы вывести в виде треугольника Паскаля\n",
    "def total_len(ints):\n",
    "    return len(ints) + sum(map(len, map(str, ints))) - 1\n",
    "\n",
    "def print_padded(ints, width):\n",
    "    pad_len = width - total_len(ints)\n",
    "    print(''.join([' ' for i in range(pad_len // 2)]), ' '.join(map(str, ints)), ''.join([' ' for i in range((pad_len + 1) // 2)]))\n",
    "\n",
    "width = total_len(C[-1])\n",
    "for row in C:\n",
    "    print_padded(row, width)"
   ]
  },
  {
   "cell_type": "markdown",
   "metadata": {},
   "source": [
    "Для замощения доминошками ситуация к сожалению гораздо сложние, как ни крути, но простого рекуррентного соотношения для функции \"Каким числом способов можно замостить доминошками доску размера $n\\times m$\" не существует, тут надо что-нибудь придумывать. Здесь общая идея заключается примерно в следующем: давайте рассматрим следующую фигуру, состоящую из первых $k-1$ строк длины $m$ и каких-то клеточек на строке $k$"
   ]
  },
  {
   "cell_type": "code",
   "execution_count": 6,
   "metadata": {},
   "outputs": [
    {
     "data": {
      "image/png": "[encoded data removed]",
      "text/plain": [
       "<Figure size 432x432 with 1 Axes>"
      ]
     },
     "execution_count": 6,
     "metadata": {},
     "output_type": "execute_result"
    }
   ],
   "source": [
    "fig = [[-1 if i < 5 else (-1 if i == 5 and (random.randint(1, 10) <= 4) else -2) for j in range(8)] for i in range(8)]\n",
    "draw_filling(fig)"
   ]
  },
  {
   "cell_type": "markdown",
   "metadata": {},
   "source": [
    "Такая фигура однозначно задается тройкой $(k, m, p)$, где $0\\leq p< 2^m$ -- число, двоичное представление которого указывает, какие клетки в последнем ряду используются, а какие нет (это число как раз принято называть <b>профилем</b>). Если обозначить за $f_m(k, p)$ количество способов замостить фигуру с такими параметрами, то оказывается, что \n",
    "$$\n",
    "f_m(k+1, p)=\\sum_{u\\in U(p)}f_m(k, u),\n",
    "$$\n",
    "где $U(p)$ -- это множество профилей, из которых путем замощения остатка строки $k$ можно получить $p$ на следующей строке. Собственно такое представление возможно ровно из-за того, что одна доминошка затрагивает не больше двух строк. С алгоритмической точки зрения $U$ составляется перебором, в любом случае этот вариант профиля мне не очень нравится, о нем можно почитать в первоисточнике. Давайте теперь рассмотрим другой класс фигурок: как и прежде, у нас есть прямоугольник $(k-1)\\times m$, на строке $k$ присутствуют первые $j$ клеток, остальные задаются профилем, на строке $k+1$ первые $j$ клеток задаются профилем, остальные не участвуют"
   ]
  },
  {
   "cell_type": "code",
   "execution_count": 7,
   "metadata": {},
   "outputs": [
    {
     "data": {
      "image/png": "[encoded data removed]",
      "text/plain": [
       "<Figure size 432x432 with 1 Axes>"
      ]
     },
     "execution_count": 7,
     "metadata": {},
     "output_type": "execute_result"
    }
   ],
   "source": [
    "n = 8\n",
    "m = 8\n",
    "k = 4\n",
    "j = 4\n",
    "fig = [[-1 if i < k else -2 for j in range(8)] for i in range(8)]\n",
    "profile = [0, 0, 1, 0, 1, 0, 0, 1]\n",
    "for l in range(m):\n",
    "    if l <= j:\n",
    "        fig[k][l] = -1\n",
    "        fig[k + 1][l] = -3 if profile[l] == 1 else -4\n",
    "    else:\n",
    "        fig[k][l] = -3 if profile[l] == 1 else -4\n",
    "    \n",
    "draw_filling(fig)"
   ]
  },
  {
   "cell_type": "markdown",
   "metadata": {},
   "source": [
    "Фигура соответствует черным и красным клеткам, красные выделены для наглядности, за них отвечает профиль. По сравнению с предыдущими фигурками у нас добавилась одна степени свободы. Давайте побозначим за $g(k, j, m, p)$ количество способо замостить такую фигурку, тогда $g(k, m, m, p)=g(k+1, 0, m, p)$ и при этом $g(k, j, m, p)$ выражется через сумму нескольких $g(k, j - 1, m, \\cdot)$. По большому счету переход от $j$ к $j+1$ -- это три варианта, первый -- поставить вертикальную доминошку, если это возможно"
   ]
  },
  {
   "cell_type": "code",
   "execution_count": 8,
   "metadata": {},
   "outputs": [
    {
     "data": {
      "application/vnd.jupyter.widget-view+json": {
       "model_id": "a7eebf0cf687456cb43b8b5b075ff20d",
       "version_major": 2,
       "version_minor": 0
      },
      "text/plain": [
       "interactive(children=(IntSlider(value=0, description='idx', max=1), Output()), _dom_classes=('widget-interact'…"
      ]
     },
     "metadata": {},
     "output_type": "display_data"
    }
   ],
   "source": [
    "from animation_utils.animation import animate_list\n",
    "fig_vertical_domino = [[-1 if i < k else -2 for j in range(8)] for i in range(8)]\n",
    "profile = [0, 0, 1, 0, 1, 0, 0, 1]\n",
    "for l in range(m):\n",
    "    if l <= j:\n",
    "        fig_vertical_domino[k][l] = -1\n",
    "        fig_vertical_domino[k + 1][l] = -3 if profile[l] == 1 else -4\n",
    "    else:\n",
    "        fig_vertical_domino[k][l] = -3 if profile[l] == 1 else -4\n",
    "fig_vertical_domino[k][j + 1] = -1\n",
    "fig_vertical_domino[k + 1][j + 1] = -3\n",
    "animate_list([draw_filling(fig), draw_filling(fig_vertical_domino)]);"
   ]
  },
  {
   "cell_type": "markdown",
   "metadata": {},
   "source": [
    "второй -- поставить горизонтальную доминошку, если это возможно"
   ]
  },
  {
   "cell_type": "code",
   "execution_count": 9,
   "metadata": {},
   "outputs": [
    {
     "data": {
      "application/vnd.jupyter.widget-view+json": {
       "model_id": "078eb3b8d4584a64816b82089bd85fca",
       "version_major": 2,
       "version_minor": 0
      },
      "text/plain": [
       "interactive(children=(IntSlider(value=0, description='idx', max=1), Output()), _dom_classes=('widget-interact'…"
      ]
     },
     "metadata": {},
     "output_type": "display_data"
    }
   ],
   "source": [
    "fig_horizontal_domino = [[-1 if i < k else -2 for j in range(8)] for i in range(8)]\n",
    "profile = [0, 0, 1, 0, 1, 0, 0, 1]\n",
    "for l in range(m):\n",
    "    if l <= j:\n",
    "        fig_horizontal_domino[k][l] = -1\n",
    "        fig_horizontal_domino[k + 1][l] = -3 if profile[l] == 1 else -4\n",
    "    else:\n",
    "        fig_horizontal_domino[k][l] = -3 if profile[l] == 1 else -4\n",
    "fig_horizontal_domino[k][j + 1] = -1\n",
    "fig_horizontal_domino[k + 1][j + 1] = -4\n",
    "fig_horizontal_domino[k][j + 2] = -3\n",
    "fig_horizontal_domino[k][j + 1] = -1\n",
    "\n",
    "animate_list([draw_filling(fig), draw_filling(fig_horizontal_domino)]);"
   ]
  },
  {
   "cell_type": "markdown",
   "metadata": {},
   "source": [
    "Или ничего не ставить, если клетка уже заполнена в профиле"
   ]
  },
  {
   "cell_type": "code",
   "execution_count": 10,
   "metadata": {},
   "outputs": [
    {
     "data": {
      "application/vnd.jupyter.widget-view+json": {
       "model_id": "18e67108f91e40d1a2f4e730ef1d6726",
       "version_major": 2,
       "version_minor": 0
      },
      "text/plain": [
       "interactive(children=(IntSlider(value=0, description='idx', max=1), Output()), _dom_classes=('widget-interact'…"
      ]
     },
     "metadata": {},
     "output_type": "display_data"
    }
   ],
   "source": [
    "fig_skip = [[-1 if i < k else -2 for j in range(8)] for i in range(8)]\n",
    "profile = [0, 0, 1, 0, 1, 1, 0, 1]\n",
    "for l in range(m):\n",
    "    if l <= j:\n",
    "        fig_skip[k][l] = -1\n",
    "        fig_skip[k + 1][l] = -3 if profile[l] == 1 else -4\n",
    "    else:\n",
    "        fig_skip[k][l] = -3 if profile[l] == 1 else -4\n",
    "fig[k][j + 1] = -3\n",
    "fig_skip[k][j + 1] = -1\n",
    "fig_skip[k + 1][j + 1] = -4\n",
    "\n",
    "\n",
    "animate_list([draw_filling(fig), draw_filling(fig_skip)]);"
   ]
  },
  {
   "cell_type": "markdown",
   "metadata": {},
   "source": [
    "Очень важным является то, что несложно в эту логику добавить заранее покрытые клетки. Таким образом мы сможем посчитать число способов замощения для произвольной фигуры на плоскости. Давайте собственно попробуем это реализовать. Начнем с шахматной доски"
   ]
  },
  {
   "cell_type": "code",
   "execution_count": 11,
   "metadata": {},
   "outputs": [],
   "source": [
    "tiling = [\n",
    "    '........',\n",
    "    '........',\n",
    "    '........',\n",
    "    '........',\n",
    "    '........',\n",
    "    '........',\n",
    "    '........',\n",
    "    '........',\n",
    "]"
   ]
  },
  {
   "cell_type": "code",
   "execution_count": 12,
   "metadata": {},
   "outputs": [],
   "source": [
    "def count_tilings(tiling):\n",
    "    n = len(tiling)\n",
    "    m = len(tiling[0])\n",
    "    if ((n + 1) * m * 2 ** m) <= 10000000:\n",
    "        dp = [[[(0 if k != 0 or j != 0 or mask != 0 else 1) for mask in range(2 ** m)] for j in range(m)] for k in range(n + 1)]\n",
    "    for k in range(n):\n",
    "        for j in range(m):\n",
    "            for mask in range(2 ** m):\n",
    "                # Вертикальная доминошка\n",
    "                if k < n - 1 and tiling[k][j] == '.' and tiling[k + 1][j] == '.' and (mask &  (1 << j)) == 0:\n",
    "                    dp[k + ((j + 1) // m)][(j + 1) % m][mask + (1 << j)] += dp[k][j][mask]\n",
    "                # Горизонтальная доминошка\n",
    "                if j < m - 1 and tiling[k][j] == '.' and tiling[k][j + 1] == '.' and (mask & (3 << j)) == 0:\n",
    "                    dp[k + ((j + 1) // m)][(j + 1) % m][mask + (2 << j)] += dp[k][j][mask]\n",
    "                # Клетка занята\n",
    "                if ((1 << j) &  mask) != 0 or tiling[k][j] != '.':\n",
    "                    dp[k + ((j + 1) // m)][(j + 1) % m][(mask | (1 << j)) - (1 << j)] += dp[k][j][mask]\n",
    "    return dp"
   ]
  },
  {
   "cell_type": "code",
   "execution_count": 13,
   "metadata": {},
   "outputs": [
    {
     "name": "stdout",
     "output_type": "stream",
     "text": [
      "12988816\n"
     ]
    }
   ],
   "source": [
    "dp = count_tilings(tiling)\n",
    "print(dp[8][0][0])"
   ]
  },
  {
   "cell_type": "markdown",
   "metadata": {},
   "source": [
    "Отлично, получили как раз то, что нужно, можно свериться с [соответствующей последовательностью](https://oeis.org/A004003). Заодно можно свериться с числами Фибоначчи (количество способов замостить доминошками полоску $2\\times n$ -- это $n-1$-ое число Фибоначчи)"
   ]
  },
  {
   "cell_type": "code",
   "execution_count": 14,
   "metadata": {},
   "outputs": [
    {
     "name": "stdout",
     "output_type": "stream",
     "text": [
      "1 1 2 3 5 8 13 21 "
     ]
    }
   ],
   "source": [
    "tiling_fib = [\n",
    "    '..',\n",
    "    '..',\n",
    "    '..',\n",
    "    '..',\n",
    "    '..',\n",
    "    '..',\n",
    "    '..',\n",
    "    '..'\n",
    "]\n",
    "dp = count_tilings(tiling_fib)\n",
    "for i in range(8):\n",
    "    print(dp[i][0][0], end=' ')"
   ]
  },
  {
   "cell_type": "markdown",
   "metadata": {},
   "source": [
    "Ну и давайте проверим для доски с вырезанными клетками"
   ]
  },
  {
   "cell_type": "code",
   "execution_count": 15,
   "metadata": {},
   "outputs": [
    {
     "name": "stdout",
     "output_type": "stream",
     "text": [
      "0\n"
     ]
    }
   ],
   "source": [
    "tiling_no_corners_opposite = [\n",
    "    '.......#',\n",
    "    '........',\n",
    "    '........',\n",
    "    '........',\n",
    "    '........',\n",
    "    '........',\n",
    "    '........',\n",
    "    '#.......',\n",
    "]\n",
    "dp = count_tilings(tiling_no_corners_opposite)\n",
    "print(dp[8][0][0])"
   ]
  },
  {
   "cell_type": "markdown",
   "metadata": {},
   "source": [
    "Давайте попробуем сделать какое-нибудь замощение, если это возможно. Для это обычно в динамическом программировании используется стандартный способ: пройтись в обратном порядке по тем состояниям, которые привели хотя бы к одному способу замощения."
   ]
  },
  {
   "cell_type": "code",
   "execution_count": 16,
   "metadata": {},
   "outputs": [],
   "source": [
    "def cover_if_possible(tiling, dp=None):\n",
    "    if dp is None:\n",
    "        dp = count_tilings(tiling)\n",
    "    n = len(dp) - 1\n",
    "    m = len(dp[0])\n",
    "    if dp[n][0][0] == 0:\n",
    "        return None\n",
    "    \n",
    "    result = [[-1 if tiling[i][j] == '#' else 0 for j in range(m)] for i in range(n)]\n",
    "    num = 0\n",
    "    \n",
    "    k = n\n",
    "    j = 0\n",
    "    mask = 0\n",
    "    \n",
    "    while k > 0 or j > 0:\n",
    "        #print(k, j, mask)\n",
    "        prev_j = j - 1\n",
    "        prev_k = k\n",
    "        if prev_j == -1:\n",
    "            prev_j += m\n",
    "            prev_k -= 1\n",
    "        \n",
    "        # Начинаем перебирать варианты, каким образом мы могли попасть в i, j, mask\n",
    "        # Этот вариант очень не оптимален, но занимает меньше кода и все равно быстрее \n",
    "        # самого подсчета динамики\n",
    "        for prev_mask in range(2 ** m):\n",
    "            if prev_k < n - 1 and tiling[prev_k][prev_j] == '.' and tiling[prev_k + 1][prev_j] == '.' and \\\n",
    "                (prev_mask & (1 << prev_j)) == 0 and (prev_mask + (1 << prev_j)) == mask and dp[prev_k][prev_j][prev_mask] != 0:\n",
    "                mask = prev_mask\n",
    "                result[prev_k][prev_j] = num\n",
    "                result[prev_k + 1][prev_j] = num\n",
    "                #print(f'Vertical at ({prev_k}, {prev_j}) ({prev_k + 1}, {prev_j})')\n",
    "                num += 1\n",
    "                break\n",
    "            elif prev_j < m - 1 and tiling[prev_k][prev_j] == '.' and tiling[prev_k][prev_j + 1] == '.' and (prev_mask & (3 << prev_j)) == 0 and \\\n",
    "                prev_mask + (2 << prev_j) == mask and dp[prev_k][prev_j][prev_mask] != 0:\n",
    "                mask = prev_mask\n",
    "                result[prev_k][prev_j] = num\n",
    "                result[prev_k][prev_j + 1] = num\n",
    "                #print(f'Horisontal at ({prev_k}, {prev_j}) ({prev_k}, {prev_j + 1})')\n",
    "                num += 1\n",
    "                break\n",
    "            elif (((1 << prev_j) & prev_mask) != 0 or tiling[prev_k][prev_j] != '.') and \\\n",
    "                (prev_mask | (1 << prev_j)) - (1 << prev_j) == mask and dp[prev_k][prev_j][prev_mask] != 0:\n",
    "                mask = prev_mask\n",
    "                break\n",
    "        \n",
    "        j = prev_j\n",
    "        k = prev_k\n",
    "    \n",
    "    return result"
   ]
  },
  {
   "cell_type": "code",
   "execution_count": 17,
   "metadata": {},
   "outputs": [
    {
     "data": {
      "image/png": "[encoded data removed]",
      "text/plain": [
       "<Figure size 432x432 with 1 Axes>"
      ]
     },
     "execution_count": 17,
     "metadata": {},
     "output_type": "execute_result"
    }
   ],
   "source": [
    "filling = cover_if_possible(tiling)\n",
    "draw_filling(filling)"
   ]
  },
  {
   "cell_type": "markdown",
   "metadata": {},
   "source": [
    "Здесь ничего интересного, давайте вырежем несколько клеток"
   ]
  },
  {
   "cell_type": "code",
   "execution_count": 18,
   "metadata": {},
   "outputs": [
    {
     "data": {
      "image/png": "[encoded data removed]",
      "text/plain": [
       "<Figure size 432x432 with 1 Axes>"
      ]
     },
     "execution_count": 18,
     "metadata": {},
     "output_type": "execute_result"
    }
   ],
   "source": [
    "tiling_random = [\n",
    "    '........',\n",
    "    '#.#.....',\n",
    "    '..#.....',\n",
    "    '........',\n",
    "    '........',\n",
    "    '........',\n",
    "    '........',\n",
    "    '...#....'\n",
    "]\n",
    "filling_random = cover_if_possible(tiling_random)\n",
    "draw_filling(filling_random)"
   ]
  },
  {
   "cell_type": "markdown",
   "metadata": {},
   "source": [
    "Ладно, с количеством вроде бы разобрались. А что если мы просто хотим понять, получится ли замостить или нет? Можно использовать тот же самый способ для подсчета максимального числа клеток, которое можно замостить. Для этого нужно добавить переход \"пропустить клетку\" и заменить сумму на минимум в рекуррентном соотношении. В целом получается как-то так"
   ]
  },
  {
   "cell_type": "code",
   "execution_count": 19,
   "metadata": {},
   "outputs": [],
   "source": [
    "def maxmimum_cover(tiling):\n",
    "    n = len(tiling)\n",
    "    m = len(tiling[0])\n",
    "    if ((n + 1) * m * 2 ** m) <= 10000000:\n",
    "        dp = [[[(n * m if k != 0 or j != 0 or mask != 0 else 0) for mask in range(2 ** m)] for j in range(m)] for k in range(n + 1)]\n",
    "    for k in range(n):\n",
    "        for j in range(m):\n",
    "            for mask in range(2 ** m):\n",
    "                next_k, next_j = k + ((j + 1) // m), (j + 1) % m\n",
    "                # Вертикальная доминошка\n",
    "                if k < n - 1 and tiling[k][j] == '.' and tiling[k + 1][j] == '.' and (mask &  (1 << j)) == 0:\n",
    "                    dp[next_k][next_j][mask + (1 << j)] = min(dp[next_k][next_j][mask + (1 << j)], dp[k][j][mask])\n",
    "                # Горизонтальная доминошка\n",
    "                if j < m - 1 and tiling[k][j] == '.' and tiling[k][j + 1] == '.' and (mask & (3 << j)) == 0:\n",
    "                    dp[next_k][next_j][mask + (2 << j)] = min(dp[next_k][next_j][mask + (2 << j)], dp[k][j][mask])\n",
    "                # Клетка занята\n",
    "                if ((1 << j) &  mask) != 0 or tiling[k][j] != '.':\n",
    "                    dp[next_k][next_j][(mask | (1 << j)) - (1 << j)] = \\\n",
    "                        min(dp[next_k][next_j][(mask | (1 << j)) - (1 << j)], dp[k][j][mask])\n",
    "                # Клетка не занята, рассмотриваем случай её пропуска\n",
    "                else:\n",
    "                    dp[next_k][next_j][(mask | (1 << j)) - (1 << j)] = \\\n",
    "                        min(dp[next_k][next_j][(mask | (1 << j)) - (1 << j)], dp[k][j][mask] + 1)\n",
    "    return dp\n",
    "\n",
    "def cover_maximum_possible(tiling, dp=None):\n",
    "    if dp is None:\n",
    "        dp = maxmimum_cover(tiling)\n",
    "    n = len(dp) - 1\n",
    "    m = len(dp[0])\n",
    "\n",
    "    result = [[-1 if tiling[i][j] == '#' else -2 for j in range(m)] for i in range(n)]\n",
    "    num = 0\n",
    "    \n",
    "    k = n\n",
    "    j = 0\n",
    "    mask = 0\n",
    "    \n",
    "    while k > 0 or j > 0:\n",
    "        #print(k, j, mask)\n",
    "        prev_j = j - 1\n",
    "        prev_k = k\n",
    "        if prev_j == -1:\n",
    "            prev_j += m\n",
    "            prev_k -= 1\n",
    "        \n",
    "        # Начинаем перебирать варианты, каким образом мы могли попасть в i, j, mask\n",
    "        # Этот вариант очень не оптимален, но занимает меньше кода и все равно быстрее \n",
    "        # самого подсчета динамики\n",
    "        for prev_mask in range(2 ** m):\n",
    "            # Раньше мы здесь проверяли, что количество вариантов в этой ветке не 0, сейчас нужно\n",
    "            # проверить, что эта ветка ведет к максимальному покрытию\n",
    "            if prev_k < n - 1 and tiling[prev_k][prev_j] == '.' and tiling[prev_k + 1][prev_j] == '.' and \\\n",
    "                    (prev_mask & (1 << prev_j)) == 0 and (prev_mask + (1 << prev_j)) == mask and \\\n",
    "                    dp[prev_k][prev_j][prev_mask] == dp[k][j][mask]:\n",
    "                mask = prev_mask\n",
    "                result[prev_k][prev_j] = num\n",
    "                result[prev_k + 1][prev_j] = num\n",
    "                num += 1\n",
    "                break\n",
    "            elif prev_j < m - 1 and tiling[prev_k][prev_j] == '.' and tiling[prev_k][prev_j + 1] == '.' and (prev_mask & (3 << prev_j)) == 0 and \\\n",
    "                    prev_mask + (2 << prev_j) == mask and dp[prev_k][prev_j][prev_mask] == dp[k][j][mask]:\n",
    "                mask = prev_mask\n",
    "                result[prev_k][prev_j] = num\n",
    "                result[prev_k][prev_j + 1] = num\n",
    "                num += 1\n",
    "                break\n",
    "            elif (((1 << prev_j) & prev_mask) != 0 or tiling[prev_k][prev_j] != '.') and \\\n",
    "                    (prev_mask | (1 << prev_j)) - (1 << prev_j) == mask and dp[prev_k][prev_j][prev_mask] == dp[k][j][mask]:\n",
    "                mask = prev_mask\n",
    "                break\n",
    "            elif ((1 << prev_j) & prev_mask) == 0 and tiling[prev_k][prev_j] == '.' and \\\n",
    "                    (prev_mask | (1 << prev_j)) - (1 << prev_j) == mask and dp[prev_k][prev_j][prev_mask] + 1 == dp[k][j][mask]:\n",
    "                mask = prev_mask\n",
    "                break\n",
    "                \n",
    "        \n",
    "        j = prev_j\n",
    "        k = prev_k\n",
    "    \n",
    "    return result"
   ]
  },
  {
   "cell_type": "code",
   "execution_count": 20,
   "metadata": {},
   "outputs": [
    {
     "data": {
      "image/png": "[encoded data removed]",
      "text/plain": [
       "<Figure size 432x432 with 1 Axes>"
      ]
     },
     "execution_count": 20,
     "metadata": {},
     "output_type": "execute_result"
    }
   ],
   "source": [
    "filling = cover_maximum_possible(tiling_random)\n",
    "draw_filling(filling)"
   ]
  },
  {
   "cell_type": "markdown",
   "metadata": {},
   "source": [
    "А вот нетривиальный пример, когда замостить не получается, но количество черных и белых клеток одинаково"
   ]
  },
  {
   "cell_type": "code",
   "execution_count": 21,
   "metadata": {},
   "outputs": [
    {
     "data": {
      "image/png": "[encoded data removed]",
      "text/plain": [
       "<Figure size 378x378 with 1 Axes>"
      ]
     },
     "execution_count": 21,
     "metadata": {},
     "output_type": "execute_result"
    }
   ],
   "source": [
    "tiling_custom=[\n",
    "    '...####',\n",
    "    '....###',\n",
    "    '......#',\n",
    "    '#.#....',\n",
    "    '#......',\n",
    "    '##.....',\n",
    "    '###...#',\n",
    "]\n",
    "filling = cover_maximum_possible(tiling_custom)\n",
    "draw_filling(filling)"
   ]
  },
  {
   "cell_type": "markdown",
   "metadata": {},
   "source": [
    "## Замощение с помощью решения задачи о максимальном паросочетнии\n",
    "Возвращаясь к черно-белой раскраске как на шахматной доске, можно заметить интересную интерпретацию задачи замощения доминошками. Давайте посмотрим на граф, в котором клетки фигуры -- это вершины, ребрами соеденины клетки, имющие общую сторону. Так вот, доминошка в этом графе -- это как раз ребро. Если раскрасить граф в шахматном порядке, то внезапмно можно обнаружить, что этот граф -- двудольный, черные -- одна доля, белые -- другая. Если переформулировать задачу замощения наибольшего числа клеток в терминах этого графа, то получается, что нужно найти максимальное по размеру множество ребер такое, чтобы вершины являлись концом не более одного ребра. В общем то, это довольно известная [задача о максимальном паросочетании](https://ru.wikipedia.org/wiki/Паросочетание). Давайте попробуем её применить для решения этой задачи, тут получится даже с анимацией, приведу базовый алгоритм Куна для нахождения максимального паросочетания"
   ]
  },
  {
   "cell_type": "code",
   "execution_count": 22,
   "metadata": {},
   "outputs": [],
   "source": [
    "def check_valid(i, j, n, m, tiling):\n",
    "    return 0 <= i and i < n and 0 <= j and j < m and tiling[i][j] != '#'\n",
    "\n",
    "def find_augmenting_path(x, y, n, m, visited, matched, tiling):\n",
    "    if not check_valid(x, y, n, m, tiling):\n",
    "        return False\n",
    "    if (x, y) in visited:\n",
    "        return False\n",
    "    visited.add((x, y))\n",
    "    \n",
    "    for dx, dy in [(-1, 0), (1, 0), (0, -1), (0, 1)]:\n",
    "        if not check_valid(x + dx, y + dy, n, m, tiling):\n",
    "            continue\n",
    "        if (x + dx, y + dy) not in matched or find_augmenting_path(*matched[(x + dx , y + dy)], n, m, visited, matched, tiling):\n",
    "            matched[(x + dx, y + dy)] = (x, y)\n",
    "            return True\n",
    "    return False\n",
    "\n",
    "def convert_match(matched, tiling, n, m):\n",
    "    result = [[-1 if tiling[i][j] == '#' else -2 for j in range(m)] for i in range(n)]\n",
    "    num = 0\n",
    "    for x, y in matched:\n",
    "        _x, _y = matched[(x, y)]\n",
    "        result[x][y] = num\n",
    "        result[_x][_y] = num\n",
    "        num += 1\n",
    "    return result\n",
    "\n",
    "def match_with_flow(tiling):\n",
    "    result_slices = []\n",
    "    n = len(tiling)\n",
    "    m = len(tiling[0])\n",
    "    \n",
    "    matched = dict()\n",
    "    # Для наглядности визуализации\n",
    "    rows = list(range(n))\n",
    "    columns = list(range(m))\n",
    "    random.shuffle(rows)\n",
    "    random.shuffle(columns)\n",
    "    result_slices.append(convert_match(matched, tiling, n, m))\n",
    "            \n",
    "    for i in rows:\n",
    "        for j in columns:\n",
    "            if (i + j) % 2 == 1:\n",
    "                continue\n",
    "            visited = set()\n",
    "            if find_augmenting_path(i, j, n, m, visited, matched, tiling):\n",
    "                result_slices.append(convert_match(matched, tiling, n, m))\n",
    "            \n",
    "    return result_slices"
   ]
  },
  {
   "cell_type": "code",
   "execution_count": 23,
   "metadata": {},
   "outputs": [
    {
     "data": {
      "image/png": "[encoded data removed]",
      "text/plain": [
       "<Figure size 378x378 with 1 Axes>"
      ]
     },
     "execution_count": 23,
     "metadata": {},
     "output_type": "execute_result"
    }
   ],
   "source": [
    "sequencial_match = match_with_flow(tiling_custom)\n",
    "filling = sequencial_match[-1]\n",
    "draw_filling(filling)"
   ]
  },
  {
   "cell_type": "code",
   "execution_count": 24,
   "metadata": {},
   "outputs": [
    {
     "data": {
      "application/vnd.jupyter.widget-view+json": {
       "model_id": "236b6bb6311646a6bb7dd03537b67550",
       "version_major": 2,
       "version_minor": 0
      },
      "text/plain": [
       "Play(value=0)"
      ]
     },
     "metadata": {},
     "output_type": "display_data"
    },
    {
     "data": {
      "application/vnd.jupyter.widget-view+json": {
       "model_id": "ffb15369373f4442bdfa9510f14a4677",
       "version_major": 2,
       "version_minor": 0
      },
      "text/plain": [
       "interactive(children=(IntSlider(value=0, description='idx', max=15), Output()), _dom_classes=('widget-interact…"
      ]
     },
     "metadata": {},
     "output_type": "display_data"
    }
   ],
   "source": [
    "animate_list(list(map(draw_filling, sequencial_match)), play=True);"
   ]
  },
  {
   "cell_type": "markdown",
   "metadata": {},
   "source": [
    "Суть алгоритма Куна (да и любого другого алгоритм для нахождения максимального паросочетания) заключается в нахождении \"аугментирующих путей\". В терминах доминошек это цепочки из доминошек, у которых на обоих концах рядом есть по свободной клетке, такие цепочки можно заменить на цепочки большей длины, охватывающие эти клетки. Более того, основное утверждение, на котором работают все алгоритмы нахождения максимального паросочетания, заключается в том, что если такой цепочки не удается найти, то значит большего замощения нам не получить"
   ]
  }
 ],
 "metadata": {
  "kernelspec": {
   "display_name": "Python 3",
   "language": "python",
   "name": "python3"
  },
  "language_info": {
   "codemirror_mode": {
    "name": "ipython",
    "version": 3
   },
   "file_extension": ".py",
   "mimetype": "text/x-python",
   "name": "python",
   "nbconvert_exporter": "python",
   "pygments_lexer": "ipython3",
   "version": "3.6.9"
  }
 },
 "nbformat": 4,
 "nbformat_minor": 4
}
