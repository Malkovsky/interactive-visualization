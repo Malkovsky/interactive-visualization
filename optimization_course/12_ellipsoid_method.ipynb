{
 "cells": [
  {
   "cell_type": "markdown",
   "metadata": {},
   "source": [
    "# Метод эллипсоидов\n",
    "Этот метод был придуман в 1979 году и является первым полиномиальным для задачи линейного программирования. Метод эллипсоидов является вариацией более старого метода разделяющих плоскостей (<i>cutting plane method</i>). Для задачи минимизации функции $f$ без ограничений этот метод имеет следующий вид:\n",
    "* Изначально у нас есть многогранник $P_0$, который гарантированно содержит минимум $f$ и начальное приближение $x_0\\in P_0$.\n",
    "* На итерации $k$ \n",
    "  * найти такой вектор $g_k$, что выполняется\n",
    "$$\n",
    "x^*\\in P_k\\cap\\{x~|~g_k^T(x-x_k)\\leq 0\\}\n",
    "$$\n",
    "  * Взять\n",
    "$$\n",
    "P_{k+1}=P_k\\cap\\{x~|~g_k^T(x-x_k)\\leq 0\\}, ~x_{k+1}\\in P_{k+1}\n",
    "$$\n",
    "\n",
    "Для выпуклых функций в качестве $g_k$ обычно выбирается как субградиент $f(x_k)$, из определения субградиента\n",
    "$$\n",
    "f(y)\\geq f(x_k)+g_k^T(y-x_k)\n",
    "$$\n",
    "это означает, что если $g_k^T(y-x_k)>0$, то $f(y)> f(x_k)$, из чего следует, что $x^*\\in\\{x~|~g_k^T(x-x_k)\\leq 0\\}$. Точка $x_{k+1}$ может быть выбрана произвольным образом, по сути в большей степени определяет где стоит сделать отсечение на следующей итерации. В целом выбор точки следует производить таким образом, чтобы в худшем/среднем случае мы отсекали как можно больше, чтобы сходимость была быстрее, таким образом в целом стоит выбирать новое приближение как некоторый центр многогранника. Здесь есть несколько возможных подходов:\n",
    "* Центр масс\n",
    "$$\n",
    "x_k=\\frac{\\int_{P_k}xdx}{\\int_{P_k}dx}\n",
    "$$\n",
    "к сожалению вычисление $x_k$ обычно является более сложной задачей, чем исходная. В теории однако этот метод дает очень хорошую оценку сходимости\n",
    "$$\n",
    "\\mathbf{vol}P_{k+1}\\leq (1-1/e)\\mathbf{vol}P_k\n",
    "$$\n",
    "вне зависимости от размерности пространства.\n",
    "* Центр эллипсоида максимального размера: вычисляется решением вспомогательной выпуклой задачи, дает оценку\n",
    "$$\n",
    "\\mathbf{vol}P_{k+1}\\leq (1-1/n)\\mathbf{vol}P_k\n",
    "$$\n",
    "* Аналитический центр: при $P_k=\\{x~|~a_ix\\leq b_i\\}$\n",
    "\n",
    "$$\n",
    "\\DeclareMathOperator*\\argmin{argmin}\n",
    "x_k=\\argmin_{x}-\\sum_{i=1}^m\\log(b_i-a_ix)\n",
    "$$"
   ]
  },
  {
   "cell_type": "markdown",
   "metadata": {},
   "source": [
    "Проблема этого метода во многом обусловлена тем, что в большинстве случаев стоимость итерации растет со временем, при этом дополнительные трудности возникают из-за необходимости найти хороший центр для следующего приближения. Обе этих проблемы решаются в методе эллипсоидов путем ухудшения скорости сходимости.\n",
    "\n",
    "Метод эллипсоидов работает по тому же принципу, что и метод разделающих плоскостей, но теперь множество $P_k$ является эллипсоидом, который в общем случае задается следующим образом\n",
    "$$\n",
    "P_k=\\{x~|~(x-x_k)^TE(x-x_k)\\leq 1 \\}, E\\succeq 0\n",
    "$$\n",
    "Это автоматически решает проблему выбора центра эллипсоида, которым является точка $x_k$. В силу того, что $P_k\\cap\\{x~|~g_k^T(x-x_k)\\leq 0\\}$ не является элипсоидом, в качестве $P_{k+1}$ берется эллипсоид минимального объема, содержащий полуэлипсоид $P_k\\cap\\{x~|~g_k^T(x-x_k)\\leq 0\\}$, который задается по следующим формулам:\n",
    "$$\n",
    "\\begin{array}{rl}\n",
    "x_{k+1}&=x_k-\\frac{1}{n+1}E_kg_k\\\\\n",
    "\\hat{g}_k&=\\frac{1}{\\sqrt{g_kE_kg_k}}g_k \\\\\n",
    "E_{k+1}=&\\frac{n^2}{n^2-1}\\left(E_k-\\frac{2}{n+1}E_k\\hat{g}_k\\hat{g}_k^TE_k\\right)\n",
    "\\end{array}\n",
    "$$\n",
    "Для этого метода выполняется оценка\n",
    "$$\n",
    "\\mathbf{vol}P_{k+1}<\\exp\\left(-\\frac{1}{2n}\\right)\\mathbf{vol}P_k\n",
    "$$\n",
    "что делает его линейным по точности приближения. На практике однако этот алгоритм не прижился из-за того, что в большинстве случаев заметно проигрывал симплекс-методу и, появившемуся позже, методу внутренней точки.\n",
    "\n",
    "## Метод эллипсоидов в задачах с ограничениями\n",
    "Для начала заметим, что если нам известно, что текущее приближение $x_k$ хуже некоторого $x_l$, которое мы видели до этого момента, то вместо полуплоскости \n",
    "$$\n",
    "g_k^T(y-x_k)\\leq 0\n",
    "$$\n",
    "можно взять гиперплоскость\n",
    "$$\n",
    "g_k^T(y-x_k)\\leq f(x_l)-f(x_k)\n",
    "$$\n",
    "как и раньше, если для $y$ лежит в оставшейся части, то\n",
    "$$\n",
    "f(y)\\geq f(x_k)+g_k^T(y-x_k)> f(x_l)\\geq f(x^*)\n",
    "$$\n",
    "что все еще дает нам гарантию, что мы отсекаем ту часть, которая не содержит точки минимума. Такое отсечение называется <i>глубоким разрезом</i> и в применении к методу эллипсоидов имеет следующий вид\n",
    "$$\n",
    "\\begin{array}{rl}\n",
    "\\alpha_k&=\\frac{f(x_k)-f(x_{\\min})}{\\sqrt{g_kE_kg_k}} \\\\\n",
    "\\hat{g}_k&=\\frac{1}{\\sqrt{g_kE_kg_k}}g_k \\\\\n",
    "x_{k+1}&=x_k-\\frac{1+\\alpha_k n}{n+1}E_kg_k\\\\\n",
    "E_{k+1}=&\\frac{n^2}{n^2-1}(1-\\alpha_k)^2\\left(E_k-\\frac{2(1+\\alpha_k n)}{(n+1)(1+\\alpha_k)}E_k\\hat{g}_k\\hat{g}_k^TE_k\\right)\n",
    "\\end{array}\n",
    "$$\n",
    "здесь мы используем глубокий разрез для того, чтобы улучшить скорость сходимости, но схожая техника может быть использована, чтобы решать задачу с ограничениями. Идея проста: если на в какой-то момент центр эллипсоида нарушает некоторое ограничение $h_i(x)\\leq 0$, то отсечение эллипсоида происходит по субградиенту функции $h_i$ со значением $h_i(x_k)$."
   ]
  },
  {
   "cell_type": "code",
   "execution_count": 1,
   "metadata": {},
   "outputs": [],
   "source": [
    "def ellipsoid_step_LP(x_k, P_k, direction, A, b, prev_best):\n",
    "    num = -1\n",
    "    for i in range(b.shape[0]):\n",
    "        if A[i].dot(x_k) > b[i]:\n",
    "            num = i\n",
    "            break\n",
    "            \n",
    "    if num != -1:\n",
    "        #print('Infeasible')\n",
    "        g_k = A[num]\n",
    "        alpha = (A[num].dot(x_k) - b[num]) / np.sqrt(g_k.dot(P_k.dot(g_k)))\n",
    "        g_k = g_k / np.sqrt(g_k.dot(P_k.dot(g_k)))\n",
    "        best = prev_best\n",
    "    else:\n",
    "        #print('Feasible')\n",
    "        g_k = direction\n",
    "        alpha = max((direction.dot(x_k) - prev_best), 0) / np.sqrt(g_k.dot(P_k.dot(g_k)))\n",
    "        g_k = g_k / np.sqrt(g_k.dot(P_k.dot(g_k)))\n",
    "        best = min(prev_best, direction.dot(x_k))\n",
    "        \n",
    "    x_new = x_k - (1.0 + 2.0 * alpha) / 3.0 * P_k.dot(g_k)\n",
    "    #print(x_new)\n",
    "    #print(np.outer(P_k.dot(g_k), P_k.dot(g_k)))\n",
    "    P_new = 4.0 / 3.0 * (1 - alpha ** 2) * (P_k - 2.0 * (1.0 + 2.0 * alpha) / 3.0 / (1.0 + alpha) * np.outer(P_k.dot(g_k), P_k.dot(g_k)))  \n",
    "    #print('Eig', np.linalg.eig(P_k))\n",
    "    #print('Eig', np.linalg.eig(P_new))\n",
    "    return x_new, P_new, best\n",
    "    \n",
    "def ellipse_generating(P, center, x):\n",
    "    d = x - center\n",
    "    P_1 = np.linalg.inv(P)\n",
    "    return d.dot(P_1.dot(d))"
   ]
  },
  {
   "cell_type": "code",
   "execution_count": 2,
   "metadata": {},
   "outputs": [],
   "source": [
    "import matplotlib.pyplot as plt\n",
    "import numpy as np"
   ]
  },
  {
   "cell_type": "code",
   "execution_count": 3,
   "metadata": {},
   "outputs": [],
   "source": [
    "from interactive_visualization.animation_utils import animate_list"
   ]
  },
  {
   "cell_type": "code",
   "execution_count": 4,
   "metadata": {},
   "outputs": [],
   "source": [
    "def fix_scaling(ax=None):\n",
    "    if not ax:\n",
    "        xlim = plt.xlim()\n",
    "        ylim = plt.ylim()\n",
    "        d1 = xlim[1] - xlim[0]\n",
    "        d2 = ylim[1] - ylim[0]\n",
    "        if d1 > d2:\n",
    "            plt.ylim((ylim[0] - (d1-d2) / 2, ylim[1] + (d1-d2) / 2))\n",
    "        else:\n",
    "            plt.xlim((xlim[0] + (d1-d2) / 2, xlim[1] - (d1-d2) / 2))\n",
    "    else:\n",
    "        xlim = ax.get_xlim()\n",
    "        ylim = ax.get_ylim()\n",
    "        d1 = xlim[1] - xlim[0]\n",
    "        d2 = ylim[1] - ylim[0]\n",
    "        if d1 > d2:\n",
    "            ax.set_ylim((ylim[0] - (d1-d2) / 2, ylim[1] + (d1-d2) / 2))\n",
    "        else:\n",
    "            ax.set_xlim((xlim[0] + (d1-d2) / 2, xlim[1] - (d1-d2) / 2))"
   ]
  },
  {
   "cell_type": "code",
   "execution_count": 5,
   "metadata": {},
   "outputs": [],
   "source": [
    "def get_line(x1, x2):\n",
    "    a = x1[1] - x2[1]\n",
    "    b = x2[0] - x1[0]\n",
    "    c = a * x1[0] + b * x1[1]\n",
    "    return a, b, c\n",
    "\n",
    "vertices = [(2.0, 2.0), (1.9, 3.0), (2.5, 4.0), (4.0, 4.2), (4.7, 3.5), (4.5, 1.5), (3.5, 1.0), (2.0, 2.0)]\n",
    "A = []\n",
    "b = []\n",
    "\n",
    "for i in range(len(vertices) - 1):\n",
    "    a_, b_, c_ = get_line(vertices[i], vertices[i + 1])\n",
    "    A.append([a_, b_])\n",
    "    b.append(c_)\n",
    "A = np.array(A)\n",
    "b = np.array(b)\n",
    "direction = np.array([-2, -1]) # c"
   ]
  },
  {
   "cell_type": "code",
   "execution_count": 6,
   "metadata": {},
   "outputs": [],
   "source": [
    "P = 3.3 * np.identity(2)\n",
    "x_cent = np.array([3.5, 2.8])\n",
    "best = x_cent.dot(direction)\n",
    "\n",
    "my_colors = ['red', 'green', 'magenta']\n",
    "_num_steps = 11\n",
    "some_data_to_animate = [[x_cent.copy(), P.copy()]]\n",
    "for k in range(_num_steps + 1):\n",
    "    x_cent, P, best = ellipsoid_step_LP(x_cent, P, direction, A, b, best)\n",
    "    some_data_to_animate.append([x_cent.copy(), P.copy()])"
   ]
  },
  {
   "cell_type": "code",
   "execution_count": 7,
   "metadata": {},
   "outputs": [],
   "source": [
    "#Level contours\n",
    "def ellipse_state(t, data):\n",
    "    fig, ax = plt.subplots(figsize=(10, 10))\n",
    "    delta = 0.025\n",
    "    x = np.arange(1, 6, delta)\n",
    "    y = np.arange(0.5, 6, delta)\n",
    "    X, Y = np.meshgrid(x, y)\n",
    "    Z = np.zeros_like(X)\n",
    "    #print(X.shape, Y.shape)\n",
    "    P = 3.3 * np.identity(2)\n",
    "    x_cent = np.array([3.5, 2.8])\n",
    "    for i in range(X.shape[0]):\n",
    "        for j in range(X.shape[1]):\n",
    "            #print(ellipse_generating(P, x_cent, np.array([X[i][j], Y[i][j]])))\n",
    "            Z[i][j] = ellipse_generating(P, x_cent, np.array([X[i][j], Y[i][j]]))\n",
    "    CS = ax.contour(X, Y, Z, [1], colors=['green'])\n",
    "    ax.plot([x for x, y in vertices], [y for x, y in vertices])\n",
    "\n",
    "    x_cent, P = data[t // 2]\n",
    "    odd = t % 2 == 0\n",
    "    num = -1\n",
    "    for j in range(len(b)):\n",
    "        if np.array(A[j]).dot(np.array(x_cent)) > b[j]:\n",
    "            num = j\n",
    "            break\n",
    "            \n",
    "    for i in range(X.shape[0]):\n",
    "        for j in range(X.shape[1]):\n",
    "            Z[i][j] = ellipse_generating(P, x_cent, np.array([X[i][j], Y[i][j]]))\n",
    "    CS = ax.contour(X, Y, Z, [1], colors=['green'])\n",
    "\n",
    "    \n",
    "    if num != -1:\n",
    "        for i in range(X.shape[0]):\n",
    "            for j in range(X.shape[1]):\n",
    "                Z[i][j] = A[num][0] * X[i][j] + A[num][1] * Y[i][j] - b[num]\n",
    "        CS = ax.contour(X, Y, Z, [0], colors=['black'])\n",
    "    else:\n",
    "        for i in range(X.shape[0]):\n",
    "            for j in range(X.shape[1]):\n",
    "                Z[i][j] = direction[0] * (X[i][j] - x_cent[0]) + direction[1] * (Y[i][j] - x_cent[1])\n",
    "        CS = ax.contour(X, Y, Z, [0], colors=['black'])\n",
    "    \n",
    "    ax.plot([x_cent[0]], [x_cent[1]], 'o', color='black')\n",
    "    if not odd:\n",
    "        x_cent, P = some_data_to_animate[t // 2 + 1]            \n",
    "        for i in range(X.shape[0]):\n",
    "            for j in range(X.shape[1]):\n",
    "                Z[i][j] = ellipse_generating(P, x_cent, np.array([X[i][j], Y[i][j]]))\n",
    "        CS = ax.contour(X, Y, Z, [1], colors=['red'])\n",
    "    ax.plot([x for x, y in vertices], [y for x, y in vertices])\n",
    "    fix_scaling(ax)\n",
    "    ax.axis('off')\n",
    "    plt.close(fig)\n",
    "    return fig"
   ]
  },
  {
   "cell_type": "code",
   "execution_count": 8,
   "metadata": {},
   "outputs": [
    {
     "data": {
      "application/vnd.jupyter.widget-view+json": {
       "model_id": "874b8a87fcdd4b2d9a3b8c9b900a205a",
       "version_major": 2,
       "version_minor": 0
      },
      "text/plain": [
       "HBox(children=(Button(description='Prev', style=ButtonStyle()), Button(description='Next', style=ButtonStyle()…"
      ]
     },
     "metadata": {},
     "output_type": "display_data"
    },
    {
     "data": {
      "application/vnd.jupyter.widget-view+json": {
       "model_id": "9c73f06c515f485da0ae9ff741bff40c",
       "version_major": 2,
       "version_minor": 0
      },
      "text/plain": [
       "interactive(children=(IntSlider(value=0, description='step', max=12), Output()), _dom_classes=('widget-interac…"
      ]
     },
     "metadata": {},
     "output_type": "display_data"
    },
    {
     "data": {
      "text/plain": [
       "<function interactive_visualization.animation_utils.animation.step_slice(lst, step)>"
      ]
     },
     "execution_count": 8,
     "metadata": {},
     "output_type": "execute_result"
    }
   ],
   "source": [
    "animate_list([ellipse_state(t, some_data_to_animate) for t in range(len(some_data_to_animate))])"
   ]
  },
  {
   "cell_type": "markdown",
   "metadata": {},
   "source": [
    "## Литература \n",
    "* [S. Boyd Localization and Cutting-Plane Methods (slides)](http://web.stanford.edu/class/ee364b/lectures/localization_methods_slides.pdf)\n",
    "* [S. Boyd Ellipsoid Method (notes)](https://web.stanford.edu/class/ee364b/lectures/ellipsoid_method_notes.pdf)\n",
    "* [L. Vandenverghe Ellipsoid method (slides)](http://www.seas.ucla.edu/~vandenbe/236C/lectures/ellipsoid.pdf)"
   ]
  }
 ],
 "metadata": {
  "kernelspec": {
   "display_name": "Python 3",
   "language": "python",
   "name": "python3"
  },
  "language_info": {
   "codemirror_mode": {
    "name": "ipython",
    "version": 3
   },
   "file_extension": ".py",
   "mimetype": "text/x-python",
   "name": "python",
   "nbconvert_exporter": "python",
   "pygments_lexer": "ipython3",
   "version": "3.8.5"
  },
  "widgets": {
   "application/vnd.jupyter.widget-state+json": {
    "state": {
     "69ff2a592470400383ee770b4b05fbd0": {
      "model_module": "@jupyter-widgets/base",
      "model_module_version": "1.2.0",
      "model_name": "LayoutModel",
      "state": {}
     },
     "72b95c1757574f3a8faed417206cd753": {
      "model_module": "@jupyter-widgets/controls",
      "model_module_version": "1.5.0",
      "model_name": "IntSliderModel",
      "state": {
       "description": "step",
       "layout": "IPY_MODEL_85c54378bb8e43198f2e95d245eaeec9",
       "max": 12,
       "style": "IPY_MODEL_dc6349db6fa7407ca2241806df13fc9e"
      }
     },
     "735b79a6bf0a42c5ba7cd3b5b1a313bc": {
      "model_module": "@jupyter-widgets/controls",
      "model_module_version": "1.5.0",
      "model_name": "ButtonModel",
      "state": {
       "description": "Next",
       "layout": "IPY_MODEL_91aae3cbf5714dda816a47d1d19d338b",
       "style": "IPY_MODEL_d5cb2c31379d4b44ac15c567777e5f78"
      }
     },
     "773289cd59fb49f59078c709f779781a": {
      "model_module": "@jupyter-widgets/base",
      "model_module_version": "1.2.0",
      "model_name": "LayoutModel",
      "state": {}
     },
     "85c54378bb8e43198f2e95d245eaeec9": {
      "model_module": "@jupyter-widgets/base",
      "model_module_version": "1.2.0",
      "model_name": "LayoutModel",
      "state": {}
     },
     "874b8a87fcdd4b2d9a3b8c9b900a205a": {
      "model_module": "@jupyter-widgets/controls",
      "model_module_version": "1.5.0",
      "model_name": "HBoxModel",
      "state": {
       "children": [
        "IPY_MODEL_d241e61da9034e7d89c959e6485f0ec9",
        "IPY_MODEL_735b79a6bf0a42c5ba7cd3b5b1a313bc"
       ],
       "layout": "IPY_MODEL_a2b9bf102890425cb1c898cfd54f525c"
      }
     },
     "91aae3cbf5714dda816a47d1d19d338b": {
      "model_module": "@jupyter-widgets/base",
      "model_module_version": "1.2.0",
      "model_name": "LayoutModel",
      "state": {}
     },
     "9c73f06c515f485da0ae9ff741bff40c": {
      "model_module": "@jupyter-widgets/controls",
      "model_module_version": "1.5.0",
      "model_name": "VBoxModel",
      "state": {
       "_dom_classes": [
        "widget-interact"
       ],
       "children": [
        "IPY_MODEL_72b95c1757574f3a8faed417206cd753",
        "IPY_MODEL_b8057475fe7b41cdb1ef711704cfb388"
       ],
       "layout": "IPY_MODEL_b558b1a2fecc42e3889723d4c1f355d0"
      }
     },
     "a2b9bf102890425cb1c898cfd54f525c": {
      "model_module": "@jupyter-widgets/base",
      "model_module_version": "1.2.0",
      "model_name": "LayoutModel",
      "state": {}
     },
     "b558b1a2fecc42e3889723d4c1f355d0": {
      "model_module": "@jupyter-widgets/base",
      "model_module_version": "1.2.0",
      "model_name": "LayoutModel",
      "state": {}
     },
     "b8057475fe7b41cdb1ef711704cfb388": {
      "model_module": "@jupyter-widgets/output",
      "model_module_version": "1.0.0",
      "model_name": "OutputModel",
      "state": {
       "layout": "IPY_MODEL_69ff2a592470400383ee770b4b05fbd0",
       "outputs": [
        {
         "data": {
          "image/png": "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\n",
          "text/plain": "<Figure size 720x720 with 1 Axes>"
         },
         "metadata": {},
         "output_type": "display_data"
        }
       ]
      }
     },
     "b884edc2d6014d3ab244b45ea3db6398": {
      "model_module": "@jupyter-widgets/controls",
      "model_module_version": "1.5.0",
      "model_name": "ButtonStyleModel",
      "state": {}
     },
     "d241e61da9034e7d89c959e6485f0ec9": {
      "model_module": "@jupyter-widgets/controls",
      "model_module_version": "1.5.0",
      "model_name": "ButtonModel",
      "state": {
       "description": "Prev",
       "layout": "IPY_MODEL_773289cd59fb49f59078c709f779781a",
       "style": "IPY_MODEL_b884edc2d6014d3ab244b45ea3db6398"
      }
     },
     "d5cb2c31379d4b44ac15c567777e5f78": {
      "model_module": "@jupyter-widgets/controls",
      "model_module_version": "1.5.0",
      "model_name": "ButtonStyleModel",
      "state": {}
     },
     "dc6349db6fa7407ca2241806df13fc9e": {
      "model_module": "@jupyter-widgets/controls",
      "model_module_version": "1.5.0",
      "model_name": "SliderStyleModel",
      "state": {
       "description_width": ""
      }
     }
    },
    "version_major": 2,
    "version_minor": 0
   }
  }
 },
 "nbformat": 4,
 "nbformat_minor": 4
}
