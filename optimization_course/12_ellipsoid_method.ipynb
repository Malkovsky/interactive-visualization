{
 "cells": [
  {
   "cell_type": "markdown",
   "metadata": {},
   "source": [
    "# Метод эллипсоидов\n",
    "Этот метод был придуман в 1979 году и является первым полиномиальным для задачи линейного программирования. Метод эллипсоидов является вариацией более старого метода разделяющих плоскостей (<i>cutting plane method</i>). Для задачи минимизации функции $f$ без ограничений этот метод имеет следующий вид:\n",
    "* Изначально у нас есть многогранник $P_0$, который гарантированно содержит минимум $f$ и начальное приближение $x_0\\in P_0$.\n",
    "* На итерации $k$ \n",
    "  * найти такой вектор $g_k$, что выполняется\n",
    "$$\n",
    "x^*\\in P_k\\cap\\{x~|~g_k^T(x-x_k)\\leq 0\\}\n",
    "$$\n",
    "  * Взять\n",
    "$$\n",
    "P_{k+1}=P_k\\cap\\{x~|~g_k^T(x-x_k)\\leq 0\\}, ~x_{k+1}\\in P_{k+1}\n",
    "$$\n",
    "\n",
    "Для выпуклых функций в качестве $g_k$ обычно выбирается как субградиент $f(x_k)$, из определения субградиента\n",
    "$$\n",
    "f(y)\\geq f(x_k)+g_k^T(y-x_k)\n",
    "$$\n",
    "это означает, что если $g_k^T(y-x_k)>0$, то $f(y)> f(x_k)$, из чего следует, что $x^*\\in\\{x~|~g_k^T(x-x_k)\\leq 0\\}$. Точка $x_{k+1}$ может быть выбрана произвольным образом, по сути в большей степени определяет где стоит сделать отсечение на следующей итерации. В целом выбор точки следует производить таким образом, чтобы в худшем/среднем случае мы отсекали как можно больше, чтобы сходимость была быстрее, таким образом в целом стоит выбирать новое приближение как некоторый центр многогранника. Здесь есть несколько возможных подходов:\n",
    "* Центр гравитации\n",
    "$$\n",
    "x_k=\\frac{\\int_{P_k}xdx}{\\int_{P_k}dx}\n",
    "$$\n",
    "к сожалению вычисление $x_k$ обычно является более сложной задачей, чем исходная. В теории однако этот метод дает очень хорошую оценку сходимости\n",
    "$$\n",
    "\\mathbf{vol}P_{k+1}\\leq (1-1/e)\\mathbf{vol}P_k\n",
    "$$\n",
    "вне зависимости от размерности пространства.\n",
    "* Центр эллипсоида максимального размера: вычисляется решением вспомогательной выпуклой задачи, дает оценку\n",
    "$$\n",
    "\\mathbf{vol}P_{k+1}\\leq (1-1/n)\\mathbf{vol}P_k\n",
    "$$\n",
    "* Аналитический центр: при $P_k=\\{x~|~a_ix\\leq b_i\\}$\n",
    "$$\n",
    "x_k=\\argmin_{x}-\\sum_{i=1}^m\\log(b_i-a_ix)\n",
    "$$"
   ]
  },
  {
   "cell_type": "markdown",
   "metadata": {},
   "source": [
    "Проблема этого метода во многом обусловлена тем, что в большинстве случаев стоимость итерации растет со временем, при этом дополнительные трудности возникают из-за необходимости найти хороший центр для следующего приближения. Обе этих проблемы решаются в методе эллипсоидов путем ухудшения скорости сходимости.\n",
    "\n",
    "Метод эллипсоидов работает по тому же принципу, что и метод разделающих плоскостей, но теперь множество $P_k$ является эллипсоидом, который в общем случае задается следующим образом\n",
    "$$\n",
    "P_k=\\{x~|~(x-x_k)^TE(x-x_k)\\leq 1 \\}, E\\succeq 0\n",
    "$$\n",
    "Это автоматически решает проблему выбора центра эллипсоида, которым является точка $x_k$. В силу того, что $P_k\\cap\\{x~|~g_k^T(x-x_k)\\leq 0\\}$ не является элипсоидом, в качестве $P_{k+1}$ берется эллипсоид минимального объема, содержащий полуэлипсоид $P_k\\cap\\{x~|~g_k^T(x-x_k)\\leq 0\\}$, который задается по следующим формулам:\n",
    "$$\n",
    "\\begin{array}{rl}\n",
    "x_{k+1}&=x_k-\\frac{1}{n+1}E_kg_k\\\\\n",
    "\\hat{g}_k&=\\frac{1}{\\sqrt{g_kE_kg_k}}g_k \\\\\n",
    "E_{k+1}=&\\frac{n^2}{n^2+1}\\left(E_k-\\frac{2}{n+1}E_k\\hat{g}_k\\hat{g}_k^TE_k\\right)\n",
    "\\end{array}\n",
    "$$\n",
    "Для этого метода выполняется оценка\n",
    "$$\n",
    "\\mathbf{vol}P_{k+1}<\\exp\\left(-\\frac{1}{2n}\\right)\\mathbf{vol}P_k\n",
    "$$\n",
    "что делает его линейным по точности приближения. На практике однако этот алгоритм не прижился из-за того, что в большинстве случаев заметно проигрывал симплекс-методу и, появившемуся позже, методу внутренней точки.\n",
    "\n",
    "## Метод эллипсоидов в задачах с ограничениями\n",
    "Для начала заметим, что если нам известно, что текущее приближение $x_k$ хуже некоторого $x_l$, которое мы видели до этого момента, то вместо полуплоскости \n",
    "$$\n",
    "g_k^T(y-x_k)\\leq 0\n",
    "$$\n",
    "можно взять гиперплоскость\n",
    "$$\n",
    "g_k^T(y-x_k)\\leq f(x_l)-f(x_k)\n",
    "$$\n",
    "как и раньше, если для $y$ лежит в оставшейся части, то\n",
    "$$\n",
    "f(y)\\geq f(x_k)+g_k^T(y-x_k)> f(x_l)\\geq f(x^*)\n",
    "$$\n",
    "что все еще дает нам гарантию, что мы отсекаем ту часть, которая не содержит точки минимума. Такое отсечение называется <i>глубоким разрезом</i> и в применении к методу эллипсоидов имеет следующий вид\n",
    "$$\n",
    "\\begin{array}{rl}\n",
    "\\alpha_k&=\\frac{f(x_k)-f(x_{\\min})}{\\sqrt{g_kE_kg_k}} \\\\\n",
    "\\hat{g}_k&=\\frac{1}{\\sqrt{g_kE_kg_k}}g_k \\\\\n",
    "x_{k+1}&=x_k-\\frac{1+\\alpha_k n}{n+1}E_kg_k\\\\\n",
    "E_{k+1}=&\\frac{n^2}{n^2+1}(1-\\alpha_k)^2\\left(E_k-\\frac{2(1+\\alpha_k n)}{(n+1)(1+\\alpha_k)}E_k\\hat{g}_k\\hat{g}_k^TE_k\\right)\n",
    "\\end{array}\n",
    "$$\n",
    "здесь мы используем глубокий разрез для того, чтобы улучшить скорость сходимости, но схожая техника может быть использована, чтобы решать задачу с ограничениями. Идея проста: если на в какой-то момент центр эллипсоида нарушает некоторое ограничение $h_i(x)\\leq 0$, то отсечение эллипсоида происходит по субградиенту функции $h_i$ со значением $h_i(x_k)$."
   ]
  },
  {
   "cell_type": "code",
   "execution_count": 1,
   "metadata": {},
   "outputs": [],
   "source": [
    "def ellipsoid_step_LP(x_k, P_k, direction, A, b, prev_best):\n",
    "    num = -1\n",
    "    for i in range(b.shape[0]):\n",
    "        if A[i].dot(x_k) > b[i]:\n",
    "            num = i\n",
    "            break\n",
    "            \n",
    "    if num != -1:\n",
    "        #print('Infeasible')\n",
    "        g_k = A[num]\n",
    "        alpha = (A[num].dot(x_k) - b[num]) / np.sqrt(g_k.dot(P_k.dot(g_k)))\n",
    "        g_k = g_k / np.sqrt(g_k.dot(P_k.dot(g_k)))\n",
    "        best = prev_best\n",
    "    else:\n",
    "        #print('Feasible')\n",
    "        g_k = direction\n",
    "        alpha = max((direction.dot(x_k) - prev_best), 0) / np.sqrt(g_k.dot(P_k.dot(g_k)))\n",
    "        g_k = g_k / np.sqrt(g_k.dot(P_k.dot(g_k)))\n",
    "        best = min(prev_best, direction.dot(x_k))\n",
    "        \n",
    "    x_new = x_k - (1.0 + 2.0 * alpha) / 3.0 * P_k.dot(g_k)\n",
    "    #print(x_new)\n",
    "    #print(np.outer(P_k.dot(g_k), P_k.dot(g_k)))\n",
    "    P_new = 4.0 / 3.0 * (1 - alpha ** 2) * (P_k - 2.0 * (1.0 + 2.0 * alpha) / 3.0 / (1.0 + alpha) * np.outer(P_k.dot(g_k), P_k.dot(g_k)))  \n",
    "    #print('Eig', np.linalg.eig(P_k))\n",
    "    #print('Eig', np.linalg.eig(P_new))\n",
    "    return x_new, P_new, best\n",
    "    \n",
    "def ellipse_generating(P, center, x):\n",
    "    d = x - center\n",
    "    P_1 = np.linalg.inv(P)\n",
    "    return d.dot(P_1.dot(d))"
   ]
  },
  {
   "cell_type": "code",
   "execution_count": 2,
   "metadata": {},
   "outputs": [],
   "source": [
    "import matplotlib.pyplot as plt\n",
    "import numpy as np"
   ]
  },
  {
   "cell_type": "code",
   "execution_count": 3,
   "metadata": {},
   "outputs": [],
   "source": [
    "import os\n",
    "import sys\n",
    "module_path = os.path.abspath(os.path.join('..'))\n",
    "if module_path not in sys.path:\n",
    "    sys.path.append(module_path)\n",
    "from animation_utils.animation import animate_list"
   ]
  },
  {
   "cell_type": "code",
   "execution_count": 4,
   "metadata": {},
   "outputs": [],
   "source": [
    "def fix_scaling(ax=None):\n",
    "    if not ax:\n",
    "        xlim = plt.xlim()\n",
    "        ylim = plt.ylim()\n",
    "        d1 = xlim[1] - xlim[0]\n",
    "        d2 = ylim[1] - ylim[0]\n",
    "        if d1 > d2:\n",
    "            plt.ylim((ylim[0] - (d1-d2) / 2, ylim[1] + (d1-d2) / 2))\n",
    "        else:\n",
    "            plt.xlim((xlim[0] + (d1-d2) / 2, xlim[1] - (d1-d2) / 2))\n",
    "    else:\n",
    "        xlim = ax.get_xlim()\n",
    "        ylim = ax.get_ylim()\n",
    "        d1 = xlim[1] - xlim[0]\n",
    "        d2 = ylim[1] - ylim[0]\n",
    "        if d1 > d2:\n",
    "            ax.set_ylim((ylim[0] - (d1-d2) / 2, ylim[1] + (d1-d2) / 2))\n",
    "        else:\n",
    "            ax.set_xlim((xlim[0] + (d1-d2) / 2, xlim[1] - (d1-d2) / 2))"
   ]
  },
  {
   "cell_type": "code",
   "execution_count": 5,
   "metadata": {},
   "outputs": [],
   "source": [
    "def get_line(x1, x2):\n",
    "    a = x1[1] - x2[1]\n",
    "    b = x2[0] - x1[0]\n",
    "    c = a * x1[0] + b * x1[1]\n",
    "    return a, b, c\n",
    "\n",
    "vertices = [(2.0, 2.0), (1.9, 3.0), (2.5, 4.0), (4.0, 4.2), (4.7, 3.5), (4.5, 1.5), (3.5, 1.0), (2.0, 2.0)]\n",
    "A = []\n",
    "b = []\n",
    "\n",
    "for i in range(len(vertices) - 1):\n",
    "    a_, b_, c_ = get_line(vertices[i], vertices[i + 1])\n",
    "    A.append([a_, b_])\n",
    "    b.append(c_)\n",
    "A = np.array(A)\n",
    "b = np.array(b)\n",
    "direction = np.array([-2, -1]) # c"
   ]
  },
  {
   "cell_type": "code",
   "execution_count": 6,
   "metadata": {},
   "outputs": [],
   "source": [
    "P = 3.3 * np.identity(2)\n",
    "x_cent = np.array([3.5, 2.8])\n",
    "best = x_cent.dot(direction)\n",
    "\n",
    "my_colors = ['red', 'green', 'magenta']\n",
    "_num_steps = 11\n",
    "some_data_to_animate = [[x_cent.copy(), P.copy()]]\n",
    "for k in range(_num_steps + 1):\n",
    "    x_cent, P, best = ellipsoid_step_LP(x_cent, P, direction, A, b, best)\n",
    "    some_data_to_animate.append([x_cent.copy(), P.copy()])"
   ]
  },
  {
   "cell_type": "code",
   "execution_count": 7,
   "metadata": {},
   "outputs": [],
   "source": [
    "#Level contours\n",
    "def ellipse_state(t, data):\n",
    "    fig, ax = plt.subplots(figsize=(10, 10))\n",
    "    delta = 0.025\n",
    "    x = np.arange(1, 6, delta)\n",
    "    y = np.arange(0.5, 6, delta)\n",
    "    X, Y = np.meshgrid(x, y)\n",
    "    Z = np.zeros_like(X)\n",
    "    #print(X.shape, Y.shape)\n",
    "    P = 3.3 * np.identity(2)\n",
    "    x_cent = np.array([3.5, 2.8])\n",
    "    for i in range(X.shape[0]):\n",
    "        for j in range(X.shape[1]):\n",
    "            #print(ellipse_generating(P, x_cent, np.array([X[i][j], Y[i][j]])))\n",
    "            Z[i][j] = ellipse_generating(P, x_cent, np.array([X[i][j], Y[i][j]]))\n",
    "    CS = ax.contour(X, Y, Z, [1], colors=['green'])\n",
    "    ax.plot([x for x, y in vertices], [y for x, y in vertices])\n",
    "\n",
    "    x_cent, P = data[t // 2]\n",
    "    odd = t % 2 == 0\n",
    "    num = -1\n",
    "    for j in range(len(b)):\n",
    "        if np.array(A[j]).dot(np.array(x_cent)) > b[j]:\n",
    "            num = j\n",
    "            break\n",
    "            \n",
    "    for i in range(X.shape[0]):\n",
    "        for j in range(X.shape[1]):\n",
    "            Z[i][j] = ellipse_generating(P, x_cent, np.array([X[i][j], Y[i][j]]))\n",
    "    CS = ax.contour(X, Y, Z, [1], colors=['green'])\n",
    "\n",
    "    \n",
    "    if num != -1:\n",
    "        for i in range(X.shape[0]):\n",
    "            for j in range(X.shape[1]):\n",
    "                Z[i][j] = A[num][0] * X[i][j] + A[num][1] * Y[i][j] - b[num]\n",
    "        CS = ax.contour(X, Y, Z, [0], colors=['black'])\n",
    "    else:\n",
    "        for i in range(X.shape[0]):\n",
    "            for j in range(X.shape[1]):\n",
    "                Z[i][j] = direction[0] * (X[i][j] - x_cent[0]) + direction[1] * (Y[i][j] - x_cent[1])\n",
    "        CS = ax.contour(X, Y, Z, [0], colors=['black'])\n",
    "    \n",
    "    ax.plot([x_cent[0]], [x_cent[1]], 'o', color='black')\n",
    "    if not odd:\n",
    "        x_cent, P = some_data_to_animate[t // 2 + 1]            \n",
    "        for i in range(X.shape[0]):\n",
    "            for j in range(X.shape[1]):\n",
    "                Z[i][j] = ellipse_generating(P, x_cent, np.array([X[i][j], Y[i][j]]))\n",
    "        CS = ax.contour(X, Y, Z, [1], colors=['red'])\n",
    "    ax.plot([x for x, y in vertices], [y for x, y in vertices])\n",
    "    fix_scaling(ax)\n",
    "    ax.axis('off')\n",
    "    plt.close(fig)\n",
    "    return fig"
   ]
  },
  {
   "cell_type": "code",
   "execution_count": 8,
   "metadata": {},
   "outputs": [
    {
     "data": {
      "application/vnd.jupyter.widget-view+json": {
       "model_id": "357378d0649a498a86bf98e75cefa546",
       "version_major": 2,
       "version_minor": 0
      },
      "text/plain": [
       "HBox(children=(Button(description='Prev', style=ButtonStyle()), Button(description='Next', style=ButtonStyle()…"
      ]
     },
     "metadata": {},
     "output_type": "display_data"
    },
    {
     "data": {
      "application/vnd.jupyter.widget-view+json": {
       "model_id": "1013b2319a8f495c9e34465a6f23b126",
       "version_major": 2,
       "version_minor": 0
      },
      "text/plain": [
       "interactive(children=(IntSlider(value=0, description='step', max=12), Output()), _dom_classes=('widget-interac…"
      ]
     },
     "metadata": {},
     "output_type": "display_data"
    },
    {
     "data": {
      "text/plain": [
       "<function animation_utils.animation.step_slice(lst, step)>"
      ]
     },
     "execution_count": 8,
     "metadata": {},
     "output_type": "execute_result"
    }
   ],
   "source": [
    "animate_list([ellipse_state(t, some_data_to_animate) for t in range(len(some_data_to_animate))])"
   ]
  },
  {
   "cell_type": "markdown",
   "metadata": {},
   "source": [
    "## Литература \n",
    "* [S. Boyd Localization and Cutting-Plane Methods (slides)](http://web.stanford.edu/class/ee364b/lectures/localization_methods_slides.pdf)\n",
    "* [S. Boyd Ellipsoid Method (notes)](https://web.stanford.edu/class/ee364b/lectures/ellipsoid_method_notes.pdf)\n",
    "* [L. Vandenverghe Ellipsoid method (slides)](http://www.seas.ucla.edu/~vandenbe/236C/lectures/ellipsoid.pdf)"
   ]
  }
 ],
 "metadata": {
  "kernelspec": {
   "display_name": "Python 3",
   "language": "python",
   "name": "python3"
  },
  "language_info": {
   "codemirror_mode": {
    "name": "ipython",
    "version": 3
   },
   "file_extension": ".py",
   "mimetype": "text/x-python",
   "name": "python",
   "nbconvert_exporter": "python",
   "pygments_lexer": "ipython3",
   "version": "3.8.3"
  },
  "widgets": {
   "application/vnd.jupyter.widget-state+json": {
    "state": {
     "024b52fc2c584642bc0f17f46bf27500": {
      "model_module": "@jupyter-widgets/controls",
      "model_module_version": "1.5.0",
      "model_name": "ButtonStyleModel",
      "state": {}
     },
     "1013b2319a8f495c9e34465a6f23b126": {
      "model_module": "@jupyter-widgets/controls",
      "model_module_version": "1.5.0",
      "model_name": "VBoxModel",
      "state": {
       "_dom_classes": [
        "widget-interact"
       ],
       "children": [
        "IPY_MODEL_3c041f92dd484e3e8070961b5aa60f6a",
        "IPY_MODEL_54bc506243eb44c8a97e2c849dd3587a"
       ],
       "layout": "IPY_MODEL_deb4c4d7fab34236869a8ef0f2de3b41"
      }
     },
     "1d151ede37864a499c812b114db8039d": {
      "model_module": "@jupyter-widgets/base",
      "model_module_version": "1.2.0",
      "model_name": "LayoutModel",
      "state": {}
     },
     "357378d0649a498a86bf98e75cefa546": {
      "model_module": "@jupyter-widgets/controls",
      "model_module_version": "1.5.0",
      "model_name": "HBoxModel",
      "state": {
       "children": [
        "IPY_MODEL_38d5649c76e44333afc2517d3651f534",
        "IPY_MODEL_5bf41efde81642d1959d3c26a48cd0fc"
       ],
       "layout": "IPY_MODEL_ffedca25362b4545ba269c6a60068f2b"
      }
     },
     "38d5649c76e44333afc2517d3651f534": {
      "model_module": "@jupyter-widgets/controls",
      "model_module_version": "1.5.0",
      "model_name": "ButtonModel",
      "state": {
       "description": "Prev",
       "layout": "IPY_MODEL_f191d1ef5e7543a88ec8f53eff5d2b05",
       "style": "IPY_MODEL_024b52fc2c584642bc0f17f46bf27500"
      }
     },
     "3c041f92dd484e3e8070961b5aa60f6a": {
      "model_module": "@jupyter-widgets/controls",
      "model_module_version": "1.5.0",
      "model_name": "IntSliderModel",
      "state": {
       "description": "step",
       "layout": "IPY_MODEL_48517c98a7c9455ca8e983cade875165",
       "max": 12,
       "style": "IPY_MODEL_99673165fad8439aafd56f9d9931ccfc"
      }
     },
     "48517c98a7c9455ca8e983cade875165": {
      "model_module": "@jupyter-widgets/base",
      "model_module_version": "1.2.0",
      "model_name": "LayoutModel",
      "state": {}
     },
     "54bc506243eb44c8a97e2c849dd3587a": {
      "model_module": "@jupyter-widgets/output",
      "model_module_version": "1.0.0",
      "model_name": "OutputModel",
      "state": {
       "layout": "IPY_MODEL_f0671f1b62464364a9449996e9859859",
       "outputs": [
        {
         "data": {
          "image/png": "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\n",
          "text/plain": "<Figure size 720x720 with 1 Axes>"
         },
         "metadata": {},
         "output_type": "display_data"
        }
       ]
      }
     },
     "5bf41efde81642d1959d3c26a48cd0fc": {
      "model_module": "@jupyter-widgets/controls",
      "model_module_version": "1.5.0",
      "model_name": "ButtonModel",
      "state": {
       "description": "Next",
       "layout": "IPY_MODEL_1d151ede37864a499c812b114db8039d",
       "style": "IPY_MODEL_d4eda0e2f27a458e8bec9e5d17505967"
      }
     },
     "99673165fad8439aafd56f9d9931ccfc": {
      "model_module": "@jupyter-widgets/controls",
      "model_module_version": "1.5.0",
      "model_name": "SliderStyleModel",
      "state": {
       "description_width": ""
      }
     },
     "d4eda0e2f27a458e8bec9e5d17505967": {
      "model_module": "@jupyter-widgets/controls",
      "model_module_version": "1.5.0",
      "model_name": "ButtonStyleModel",
      "state": {}
     },
     "deb4c4d7fab34236869a8ef0f2de3b41": {
      "model_module": "@jupyter-widgets/base",
      "model_module_version": "1.2.0",
      "model_name": "LayoutModel",
      "state": {}
     },
     "f0671f1b62464364a9449996e9859859": {
      "model_module": "@jupyter-widgets/base",
      "model_module_version": "1.2.0",
      "model_name": "LayoutModel",
      "state": {}
     },
     "f191d1ef5e7543a88ec8f53eff5d2b05": {
      "model_module": "@jupyter-widgets/base",
      "model_module_version": "1.2.0",
      "model_name": "LayoutModel",
      "state": {}
     },
     "ffedca25362b4545ba269c6a60068f2b": {
      "model_module": "@jupyter-widgets/base",
      "model_module_version": "1.2.0",
      "model_name": "LayoutModel",
      "state": {}
     }
    },
    "version_major": 2,
    "version_minor": 0
   }
  }
 },
 "nbformat": 4,
 "nbformat_minor": 4
}
