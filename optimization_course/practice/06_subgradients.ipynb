{
 "cells": [
  {
   "cell_type": "markdown",
   "metadata": {},
   "source": [
    "## Задача #1: минимум максимума нескольких линейных функций\n",
    "Дан набор одномерных линейных функций, требуется найти точку минимума максимума этих функций с использованием субградиентного спуска\n",
    "$$\n",
    "\\max_{1\\leq i\\leq m}a_ix+b_i\\rightarrow \\min\n",
    "$$\n",
    "Постарайтесь реализовать нахождение $\\epsilon$-точного решения со сложностью $\\mathcal{O}\\left(m+\\frac{1}{\\sqrt{\\epsilon}}\\right)$."
   ]
  },
  {
   "cell_type": "code",
   "execution_count": null,
   "metadata": {},
   "outputs": [],
   "source": [
    "import cvxpy as cp\n",
    "\n",
    "def min_max(a, b):\n",
    "    \"\"\"\n",
    "    Минимизирует max_i a_i * x+b_i\n",
    "    Args:\n",
    "        a: ndarray(m)\n",
    "        b: ndarray(m)\n",
    "    Returns:\n",
    "        x: float - точка минимума\n",
    "    \"\"\"\n",
    "    pass"
   ]
  },
  {
   "cell_type": "code",
   "execution_count": null,
   "metadata": {},
   "outputs": [],
   "source": [
    "import numpy as np\n",
    "import matplotlib.pyplot as plt\n",
    "\n",
    "m = 50\n",
    "t = np.random.rand(m)\n",
    "a = (t - 0.5) / (1.2 ** 2 - (t - 0.5) ** 2) ** 0.5\n",
    "b = (1.2 ** 2 - (t - 0.5) ** 2) ** 0.5 - a * 0.5 + 0.05 * np.random.rand(m)\n",
    "\n",
    "q = np.arange(0, 1, 0.01)\n",
    "\n",
    "f = lambda x: max([a[i] * x + b[i] for i in range(a.shape[0])])\n",
    "\n",
    "x = min_max(a, b)\n",
    "\n",
    "fig, ax = plt.subplots(figsize=(7, 7))\n",
    "ax.plot(q, [f(x) for x in q])\n",
    "ax.scatter([x], [f(x)], color='black')\n",
    "plt.close(fig)\n",
    "fig"
   ]
  },
  {
   "cell_type": "markdown",
   "metadata": {},
   "source": [
    "## Задача #2: Квадратичные функции с негладкими регуляризациями\n",
    "Минимизируйте функции\n",
    "$$\n",
    "\\frac{1}{2}x^TAx-b^Tx+\\lambda \\|x\\|_2\n",
    "$$\n",
    "и\n",
    "$$\n",
    "\\frac{1}{2}x^TAx-b^Tx+c+\\lambda \\|x\\|_1\n",
    "$$"
   ]
  },
  {
   "cell_type": "code",
   "execution_count": null,
   "metadata": {},
   "outputs": [],
   "source": [
    "import cvxpy as cp\n",
    "\n",
    "def regularized_quadratic_function(A, b, l, x_0, norm_type, num_iters=1000):\n",
    "    \"\"\"\n",
    "    Применяет субградиентный спуск к квадратичной функции с l1 или L2 регуляризацией\n",
    "    \n",
    "    Args:\n",
    "        x_0: ndarray размером (n)\n",
    "        A: ndarray размером (n, n)\n",
    "        b: ndarray размером (n)\n",
    "        l: float\n",
    "        iters: количество итераций спуска\n",
    "        norm_type: {1, 2} -- тип регуляризации\n",
    "        \n",
    "    Returns:\n",
    "        последовательность [x_0, x_1, ..., x_iters]\n",
    "    \"\"\"\n",
    "    pass"
   ]
  },
  {
   "cell_type": "code",
   "execution_count": null,
   "metadata": {},
   "outputs": [],
   "source": [
    "\"\"\"\n",
    "Реализация нахождения оптимума через cvxpy, используется для сравнения\n",
    "\"\"\"\n",
    "def reqularized_quadratic_function_cvxpy(A, b, l, norm_type):\n",
    "    x = cp.Variable(b.shape[0])\n",
    "    \n",
    "    regularizer = cp.norm2(x) if norm_type == 2  else cp.norm1(x)\n",
    "    \n",
    "    objective = cp.Minimize(0.5 * cp.quad_form(x, A) - b @ x + l * regularizer)\n",
    "    problem = cp.Problem(objective)\n",
    "    problem.solve()\n",
    "    return x.value"
   ]
  },
  {
   "cell_type": "code",
   "execution_count": null,
   "metadata": {},
   "outputs": [],
   "source": [
    "import scipy as sp\n",
    "\n",
    "def show_quadratic(dim=100):\n",
    "    gamma = 0.1\n",
    "    A = np.random.rand(dim, dim)\n",
    "    A = (1 / dim) *  A @ A.T\n",
    "    A = A + gamma * np.diag(np.sum(np.abs(A), axis=-1))\n",
    "    \n",
    "    sD = sp.linalg.sqrtm(np.linalg.inv(np.diag(np.diag(A))))\n",
    "    A = sD.T @ A @ sD\n",
    "    b = np.random.rand(dim)\n",
    "    l = 0.1\n",
    "    fig, axs = plt.subplots(1, 1, figsize=(10, 7))\n",
    "\n",
    "    x = np.zeros_like(b)\n",
    "    y = x\n",
    "    \n",
    "    iters = 5000\n",
    "    \n",
    "    x_star_1 = reqularized_quadratic_function_cvxpy(A, b, l, 1)\n",
    "    x_star_2 = reqularized_quadratic_function_cvxpy(A, b, l, 2)\n",
    "  \n",
    "    points_1 = regularized_quadratic_function(A, b, l, x, 1, iters)\n",
    "    points_2 = regularized_quadratic_function(A, b, l, x, 2, iters)\n",
    "    \n",
    "    errors_1 = [np.linalg.norm(x_star_1 - p) for p in points_1]\n",
    "    errors_2 = [np.linalg.norm(x_star_2 - p) for p in points_2]\n",
    "    \n",
    "    axs.plot([i for i in range(len(errors_1))], errors_1, label=r'$\\ell_1$')\n",
    "    axs.plot([i for i in range(len(errors_2))], errors_2, label=r'$\\ell_2$')\n",
    "    axs.legend()\n",
    "    axs.set_ylabel(r'$\\|x_k-x^*\\|$', fontsize=20)\n",
    "    axs.set_xlabel(r'$k$', fontsize=20)\n",
    "    axs.set_yscale('log')"
   ]
  },
  {
   "cell_type": "code",
   "execution_count": null,
   "metadata": {},
   "outputs": [],
   "source": [
    "show_quadratic(100)"
   ]
  }
 ],
 "metadata": {
  "kernelspec": {
   "display_name": "Python 3",
   "language": "python",
   "name": "python3"
  },
  "language_info": {
   "codemirror_mode": {
    "name": "ipython",
    "version": 3
   },
   "file_extension": ".py",
   "mimetype": "text/x-python",
   "name": "python",
   "nbconvert_exporter": "python",
   "pygments_lexer": "ipython3",
   "version": "3.8.3"
  },
  "widgets": {
   "application/vnd.jupyter.widget-state+json": {
    "state": {},
    "version_major": 2,
    "version_minor": 0
   }
  }
 },
 "nbformat": 4,
 "nbformat_minor": 4
}
