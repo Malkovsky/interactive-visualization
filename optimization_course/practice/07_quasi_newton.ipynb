{
 "cells": [
  {
   "cell_type": "markdown",
   "metadata": {},
   "source": [
    "# Методы переменной метрики\n",
    "Реализуйте 3 варианта методов переменной метрики: одноранговую коррекцию, DFP и BFGS."
   ]
  },
  {
   "cell_type": "code",
   "execution_count": null,
   "metadata": {},
   "outputs": [],
   "source": [
    "import numpy as np\n",
    "\n",
    "def line_search(f, df, x, h, alpha=0.1, beta=0.8, gamma=0.9, max_iters=3):\n",
    "    t = 1.0\n",
    "    f_x = f(x)\n",
    "    df_x = df(x)\n",
    "\n",
    "    for _ in range(max_iters):\n",
    "        if f(x + h * t) - f_x <= alpha * np.dot(df_x, t * h):\n",
    "            break\n",
    "        if np.dot(df(x + t * h), t * h) < gamma * np.dot(df_x, t * h):\n",
    "            break\n",
    "        t *= beta\n",
    "    return t\n",
    "\n",
    "def rank_correction(f,\n",
    "                    df,\n",
    "                    x_0,\n",
    "                    iters=100):\n",
    "    \"\"\"\n",
    "    Решает задачу оптимизации методом одноранговой коррекции\n",
    "    Args:\n",
    "        f: ndarray(n) -> float -- целевая функция\n",
    "        df: ndarray(n) -> ndarray(n) -- градиент целевой функции\n",
    "        x_0: ndarray(n) -- начальное приближение\n",
    "        iters: int -- количество итераций\n",
    "        \n",
    "    Returns:\n",
    "        [x_0, ..., x_iters] -- промежуточные приближения метода\n",
    "    \"\"\"\n",
    "    pass"
   ]
  },
  {
   "cell_type": "code",
   "execution_count": null,
   "metadata": {},
   "outputs": [],
   "source": [
    "def DFP(f,\n",
    "        df,\n",
    "        x_0,\n",
    "        iters=100):\n",
    "    \"\"\"\n",
    "    Решает задачу оптимизации методом DFP\n",
    "    Args:\n",
    "        f: ndarray(n) -> float -- целевая функция\n",
    "        df: ndarray(n) -> ndarray(n) -- градиент целевой функции\n",
    "        x_0: ndarray(n) -- начальное приближение\n",
    "        iters: int -- количество итераций\n",
    "        \n",
    "    Returns:\n",
    "        [x_0, ..., x_iters] -- промежуточные приближения метода\n",
    "    \"\"\"\n",
    "    pass"
   ]
  },
  {
   "cell_type": "code",
   "execution_count": null,
   "metadata": {},
   "outputs": [],
   "source": [
    "def BFGS(f,\n",
    "        df,\n",
    "        x_0,\n",
    "        iters=100):\n",
    "    \"\"\"\n",
    "    Решает задачу оптимизации методом BFGS\n",
    "    Args:\n",
    "        f: ndarray(n) -> float -- целевая функция\n",
    "        df: ndarray(n) -> ndarray(n) -- градиент целевой функции\n",
    "        x_0: ndarray(n) -- начальное приближение\n",
    "        iters: int -- количество итераций\n",
    "        \n",
    "    Returns:\n",
    "        [x_0, ..., x_iters] -- промежуточные приближения метода\n",
    "    \"\"\"\n",
    "    pass"
   ]
  },
  {
   "cell_type": "code",
   "execution_count": null,
   "metadata": {},
   "outputs": [],
   "source": [
    "def sigmoid(t):\n",
    "    return 1 / (1 + np.exp(-t))\n",
    "\n",
    "def cross_entropy(X, y, theta):\n",
    "    predictions = sigmoid(X @ theta)\n",
    "    return -1 / X.shape[0] * np.sum(y * predictions + (1 - y) * (1 - predictions))\n",
    "\n",
    "def cross_entropy_grad(X, y, theta):\n",
    "    return -(1 / X.shape[0]) * X.T @ (y - sigmoid(X @ theta))\n",
    "\n",
    "def logistic_regression_gd(X, Y, alpha, batch_size, epochs):\n",
    "    theta = np.zeros(X.shape[1])\n",
    "    result = [theta.copy()]\n",
    "    for _ in range(epochs):\n",
    "        for i in range(X.shape[0] // batch_size):\n",
    "            x = X[i * batch_size:(i+1) * batch_size,:]\n",
    "            y = Y[i * batch_size:(i+1) * batch_size]\n",
    "            theta = theta + alpha * (1 / x.shape[0]) * x.T @ (y - sigmoid(x @ theta))\n",
    "        result.append(theta.copy())\n",
    "    return result"
   ]
  },
  {
   "cell_type": "code",
   "execution_count": null,
   "metadata": {},
   "outputs": [],
   "source": [
    "import matplotlib.pyplot as plt\n",
    "plt.rcParams[\"figure.figsize\"] = (7, 7)"
   ]
  },
  {
   "cell_type": "code",
   "execution_count": null,
   "metadata": {},
   "outputs": [],
   "source": [
    "def show_logistic_regression(batch_size):\n",
    "    n = 200\n",
    "    m = 1000\n",
    "    x = np.concatenate((np.random.rand(m, n) - 1, np.ones((m, 1))), axis=1)\n",
    "    a = np.random.rand(n + 1)\n",
    "    b = 0.2\n",
    "\n",
    "    y = (np.sign(x @ a + np.ones(m) * b) + 1) / 2\n",
    "    alpha = 0.2\n",
    "    iters = 40\n",
    "    \n",
    "    trajectory_sgd = logistic_regression_gd(x, y, alpha, batch_size, iters)\n",
    "    trajectory_src = rank_correction(lambda theta: cross_entropy(x, y, theta),\n",
    "                                     lambda theta: cross_entropy_grad(x, y, theta),\n",
    "                                     np.zeros(x.shape[1]),\n",
    "                                     iters=iters)\n",
    "    trajectory_dfp = DFP(lambda theta: cross_entropy(x, y, theta),\n",
    "                                     lambda theta: cross_entropy_grad(x, y, theta),\n",
    "                                     np.zeros(x.shape[1]),\n",
    "                                     iters=iters)\n",
    "    trajectory_bfgs = BFGS(lambda theta: cross_entropy(x, y, theta),\n",
    "                                     lambda theta: cross_entropy_grad(x, y, theta),\n",
    "                                     np.zeros(x.shape[1]),\n",
    "                                     iters=iters)  \n",
    "    #plt.yscale('log')\n",
    "    q = [i for i in range(iters + 1)]\n",
    "    #print(trajectory_bfgs)\n",
    "    \n",
    "    \n",
    "    f_min = min(min([cross_entropy(x, y, theta) for theta in trajectory_sgd]),\n",
    "                min([cross_entropy(x, y, theta) for theta in trajectory_src]),\n",
    "                min([cross_entropy(x, y, theta) for theta in trajectory_dfp]),\n",
    "                min([cross_entropy(x, y, theta) for theta in trajectory_bfgs]))\n",
    "    plt.plot(q, [cross_entropy(x, y, theta)-f_min for theta in trajectory_sgd], label='SGD')\n",
    "    plt.plot(q, [cross_entropy(x, y, theta)-f_min for theta in trajectory_src], label='Rank-1')\n",
    "    plt.plot(q, [cross_entropy(x, y, theta)-f_min for theta in trajectory_bfgs], label='BFGS')\n",
    "    plt.plot(q, [cross_entropy(x, y, theta)-f_min for theta in trajectory_dfp], label='DFP')\n",
    "\n",
    "    \n",
    "    plt.yscale('log')\n",
    "    plt.legend()\n",
    "    plt.show()"
   ]
  },
  {
   "cell_type": "code",
   "execution_count": null,
   "metadata": {},
   "outputs": [],
   "source": [
    "show_logistic_regression(1)"
   ]
  }
 ],
 "metadata": {
  "kernelspec": {
   "display_name": "Python 3",
   "language": "python",
   "name": "python3"
  },
  "language_info": {
   "codemirror_mode": {
    "name": "ipython",
    "version": 3
   },
   "file_extension": ".py",
   "mimetype": "text/x-python",
   "name": "python",
   "nbconvert_exporter": "python",
   "pygments_lexer": "ipython3",
   "version": "3.8.3"
  },
  "widgets": {
   "application/vnd.jupyter.widget-state+json": {
    "state": {},
    "version_major": 2,
    "version_minor": 0
   }
  }
 },
 "nbformat": 4,
 "nbformat_minor": 4
}
