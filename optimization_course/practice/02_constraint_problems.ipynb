{
 "cells": [
  {
   "cell_type": "markdown",
   "metadata": {},
   "source": [
    "## cvxpy\n",
    "В этой практике предполагается использование пакета [`cvxpy`](https://www.cvxpy.org/). Этот пакет представляет собой DSL для описания выпуклых задач оптимизации и поставляется вместе с open-source бэкендом для решения задач, при этом его можно совместить и с другими оптимизационными [бэкэндами](https://www.cvxpy.org/install/index.html#install-with-cvxopt-and-glpk-support). `cvxpy` довольно прост в использовании, но стоит учитывать, что с помощью него можно описывать только выпуклые задачи оптимизации, выпуклость строго отслеживается при составлении задачи. Работа с `cvxpy` состоит из 4ех примитивов:\n",
    "\n",
    "### Переменные"
   ]
  },
  {
   "cell_type": "code",
   "execution_count": 1,
   "metadata": {},
   "outputs": [],
   "source": [
    "import numpy as np\n",
    "import cvxpy as cp\n",
    "\n",
    "m = 30\n",
    "n = 20\n",
    "np.random.seed(1)\n",
    "A = np.random.randn(m, n)\n",
    "b = np.random.randn(m)\n",
    "x = cp.Variable(n) "
   ]
  },
  {
   "cell_type": "markdown",
   "metadata": {},
   "source": [
    "### Целевая функция"
   ]
  },
  {
   "cell_type": "code",
   "execution_count": 2,
   "metadata": {},
   "outputs": [],
   "source": [
    "objective = cp.Minimize(cp.sum_squares(A @ x - b))"
   ]
  },
  {
   "cell_type": "markdown",
   "metadata": {},
   "source": [
    "### Ограничения"
   ]
  },
  {
   "cell_type": "code",
   "execution_count": 3,
   "metadata": {},
   "outputs": [],
   "source": [
    "constraints = [0 <= x, x <= 1]"
   ]
  },
  {
   "cell_type": "markdown",
   "metadata": {},
   "source": [
    "### Задача оптимизации"
   ]
  },
  {
   "cell_type": "code",
   "execution_count": 4,
   "metadata": {},
   "outputs": [
    {
     "data": {
      "text/plain": [
       "19.83126370644502"
      ]
     },
     "execution_count": 4,
     "metadata": {},
     "output_type": "execute_result"
    }
   ],
   "source": [
    "prob = cp.Problem(objective, constraints)\n",
    "prob.solve() # возвращает оптимальное значение"
   ]
  },
  {
   "cell_type": "markdown",
   "metadata": {},
   "source": [
    "После вызова метода `solve()` из переменных можно извлечь оптимальные значения с помощью атрибута `value`, в ограниченях атрибут `dual_value` содержит оптимальные значения переменных двойственной задачи."
   ]
  },
  {
   "cell_type": "code",
   "execution_count": 5,
   "metadata": {},
   "outputs": [
    {
     "name": "stdout",
     "output_type": "stream",
     "text": [
      "[-1.79109255e-19  2.85112420e-02  2.79973443e-19  3.37658729e-20\n",
      " -2.72802663e-19  1.49285011e-01 -9.94082533e-20  8.35373900e-20\n",
      "  2.46718649e-01  5.78224144e-01 -4.03739463e-19  1.01242860e-03\n",
      " -9.28486180e-20  2.26767464e-01 -1.58813678e-19 -8.97232272e-20\n",
      " -1.22145729e-19 -1.51509428e-19  1.12060672e-19 -3.48318635e-19]\n",
      "[ 2.50938945  0.          2.78354615  1.79425782 13.08579183  0.\n",
      "  0.73716363  3.35344995  0.          0.          8.93825054  0.\n",
      "  7.02955161  0.          4.71068649  3.18873635  2.06090107 10.08166738\n",
      "  3.0481157   8.53268239]\n"
     ]
    }
   ],
   "source": [
    "print(x.value)\n",
    "print(constraints[0].dual_value)"
   ]
  },
  {
   "cell_type": "markdown",
   "metadata": {},
   "source": [
    "# Задача #1: Задача о кратчайших путях\n",
    "Используйте `cvxpy`, чтобы найти дерево кратчайших путей из вершины $s$ во все остальные вершины."
   ]
  },
  {
   "cell_type": "code",
   "execution_count": null,
   "metadata": {},
   "outputs": [],
   "source": [
    "from typing import List, Tuple, Dict, Set\n",
    "def shortest_path_tree(s: int,\n",
    "                       arcs: List[Tuple[int, int, float]]) -> Tuple[Dict[int, float], Dict[int, int]]:\n",
    "    \"\"\"\n",
    "    Строит дерево кратчайших путей для орграфа: для каждой вершины не считая s\n",
    "    найти последнее ребро на одного из минимальныъ путей из s в эту вершину\n",
    "    \n",
    "    Args:\n",
    "        s: вершина, из которой искать кратчайшие пути\n",
    "        arcs: список ребер в формате (вершина-начало, вершина-конец, длина)\n",
    "        \n",
    "    Returns:\n",
    "        d: для каждой вершины расстояние от s до нее\n",
    "        prev: для каждой вершины v кроме s номер ребра в arcs, которое является последнем в \n",
    "        одном из минимальных путей из s в v \n",
    "    \"\"\"\n",
    "pass"
   ]
  },
  {
   "cell_type": "code",
   "execution_count": null,
   "metadata": {},
   "outputs": [],
   "source": [
    "import os\n",
    "import sys\n",
    "module_path = os.path.abspath(os.path.join('..', '..'))\n",
    "if module_path not in sys.path:\n",
    "    sys.path.append(module_path)\n",
    "from graph_utils.graph import Graph, Arc\n",
    "\n",
    "arcs = [\n",
    "    (0, 1, 4),\n",
    "    (0, 2, 2),\n",
    "    (1, 2, 5),\n",
    "    (2, 3, 3),\n",
    "    (1, 4, 10),\n",
    "    (3, 4, 4),\n",
    "    (4, 5, 11)\n",
    "]\n",
    "s = 0\n",
    "\n",
    "d, prev = shortest_path_tree(s, arcs)\n",
    "graph = Graph([Arc(arc[0], arc[1], arc[2], attributes={\"color\": \"red\" if prev[arc[1]] == i else \"black\"}) for i, arc in enumerate(arcs)])\n",
    "graph.Visualize({key: f\"{x:.2f}\" for key, x in d.items()})"
   ]
  },
  {
   "cell_type": "code",
   "execution_count": null,
   "metadata": {},
   "outputs": [],
   "source": [
    "arcs = [\n",
    "    (1, 3, 3),\n",
    "    (1, 4, 7),\n",
    "    (4, 3, 2),\n",
    "    (4, 5, 3),\n",
    "    (1, 5, 2),\n",
    "    (6, 4, 2),\n",
    "    (5, 6, 2),\n",
    "    (6, 7, 1),\n",
    "    (7, 2, 7),\n",
    "    (4, 2, 2),\n",
    "    (3, 2, 5)\n",
    "]\n",
    "s = 1\n",
    "d, prev = shortest_path_tree(s, arcs)\n",
    "print({key: f\"{x:.2f}\" for key, x in d.items()}, prev)\n",
    "graph = Graph([Arc(arc[0], arc[1], arc[2], attributes={\"color\": \"red\" if prev[arc[1]] == i else \"black\"}) for i, arc in enumerate(arcs)])\n",
    "graph.Visualize({key: f\"{x:.2f}\" for key, x in d.items()})"
   ]
  },
  {
   "cell_type": "markdown",
   "metadata": {},
   "source": [
    "Ожидаемый вывод либо\n",
    "```\n",
    "{1: '0.00', 2: '8.00', 3: '3.00', 4: '6.00', 5: '2.00', 6: '4.00', 7: '5.00'} {3: 0, 5: 4, 4: 5, 6: 6, 7: 7, 2: 10}\n",
    "```\n",
    "либо\n",
    "```\n",
    "{1: '0.00', 2: '8.00', 3: '3.00', 4: '6.00', 5: '2.00', 6: '4.00', 7: '5.00'} {3: 0, 5: 4, 4: 5, 6: 6, 7: 7, 2: 9}\n",
    "```"
   ]
  },
  {
   "cell_type": "markdown",
   "metadata": {},
   "source": [
    "## Задача #2: максимальный поток, минимальный s-t разрез\n",
    "Дан орграф $G=\\langle V, E\\rangle$ с двумя выделенными вершинами $s, t$ и пропускными способностями $c$. Требуется найти такое разбиение вершин графа $S\\cup T=V,~S\\cap T=\\emptyset$, $s\\in S, t\\in T$ такое, что величина\n",
    "$$\n",
    "\\sum_{u\\in S, v\\in T}c_{uv}\n",
    "$$\n",
    "минимальна. Эта задача является двойственной к задаче о максимальном потоке в том числе и в смысле двойственности Лагранжа."
   ]
  },
  {
   "cell_type": "markdown",
   "metadata": {},
   "source": [
    "<details>\n",
    "<summary>Подсказка</summary>\n",
    "    задача о максимальном потоке может быть представлена в виде задачи линейного программирования например следуюим образом\n",
    "$$\n",
    "\\begin{array}{ll}\n",
    "\\mbox{максимизировать } & f\\\\\n",
    "\\mbox{при условии }    & Bx=f\\chi^{st}\\\\\n",
    "      & 0\\leq x\\leq c.\n",
    "\\end{array}\\tag{4}\n",
    "$$\n",
    "</details>"
   ]
  },
  {
   "cell_type": "code",
   "execution_count": null,
   "metadata": {},
   "outputs": [],
   "source": [
    "def st_cut(s: int,\n",
    "           t: int,\n",
    "           arcs: List[Tuple[int, int, float]]) -> Tuple[List[int], List[int], Set[int]]:\n",
    "    \"\"\"\n",
    "    Строит дерево кратчайших путей для орграфа: для каждой вершины не считая s\n",
    "    найти последнее ребро на одного из минимальныъ путей из s в эту вершину\n",
    "    \n",
    "    Args:\n",
    "        s: вершина, которую следует отделить от t\n",
    "        t: вершина, которую следует отделить от s\n",
    "        arcs: список ребер в формате (вершина-начало, вершина-конец, длина)\n",
    "        \n",
    "    Returns:\n",
    "        S: список вершин в минимальном разрезе, содержащий s\n",
    "        T: список вершин в минимальном разрезе, содержащий t\n",
    "        cut: множество индексов ребер, разделяющих S и T\n",
    "    \"\"\"\n",
    "    pass"
   ]
  },
  {
   "cell_type": "code",
   "execution_count": null,
   "metadata": {},
   "outputs": [],
   "source": [
    "s, t = 1, 2\n",
    "S, T, cut = st_cut(s, t, arcs)\n",
    "print(S, T)\n",
    "graph = Graph([Arc(arc[0], arc[1], arc[2],\n",
    "                    attributes={\"color\": \"red\" if i in cut else \"black\", \"constraint\": str(i in cut)}) for i, arc in enumerate(arcs)])\n",
    "graph.nodes[s].SetColor('green')\n",
    "graph.nodes[t].SetColor('blue')\n",
    "        \n",
    "graph.Visualize()"
   ]
  },
  {
   "cell_type": "markdown",
   "metadata": {},
   "source": [
    "Ожидаемый вывод либо\n",
    "```\n",
    "[1, 4, 5, 6] [2, 3, 7]\n",
    "```\n",
    "либо\n",
    "```\n",
    "[1, 3, 4, 5, 6] [2, 7]\n",
    "```"
   ]
  }
 ],
 "metadata": {
  "kernelspec": {
   "display_name": "Python 3",
   "language": "python",
   "name": "python3"
  },
  "language_info": {
   "codemirror_mode": {
    "name": "ipython",
    "version": 3
   },
   "file_extension": ".py",
   "mimetype": "text/x-python",
   "name": "python",
   "nbconvert_exporter": "python",
   "pygments_lexer": "ipython3",
   "version": "3.8.3"
  },
  "widgets": {
   "application/vnd.jupyter.widget-state+json": {
    "state": {},
    "version_major": 2,
    "version_minor": 0
   }
  }
 },
 "nbformat": 4,
 "nbformat_minor": 4
}
