{
 "cells": [
  {
   "cell_type": "markdown",
   "metadata": {},
   "source": [
    "# Задача #1: Логистическая регрессия\n",
    "Релазуйте обучение логистической регрессии с использованием batched SGD"
   ]
  },
  {
   "cell_type": "code",
   "execution_count": null,
   "metadata": {},
   "outputs": [],
   "source": [
    "def sigmoid(t):\n",
    "    return 1 / (1 + np.exp(-t))\n",
    "\n",
    "def logistic_regression(X, Y, alpha, batch_size, epochs):\n",
    "    \"\"\"\n",
    "    Возвращает оптимальные параметры логистической регрессии theta, beta, полученные минимизацией кросс-энтропии\n",
    "    \n",
    "    Args:\n",
    "        X: ndarray(m, n) -- матрица, каждая строка которой является точкой, которые отделяются регрессией\n",
    "        y: ndarray(m)    -- вектор-столбец, i-ый элемент которого соответствует метке i-ой строке в x,\n",
    "                            принимает значения 0 или 1\n",
    "        alpha: float -- размер шага для стохастического градиентного спуска\n",
    "        epochs: int  -- сколько раз просмотреть все данные\n",
    "    Returns:\n",
    "        List[(theta_0, beta_0), ..., (theta_epochs, beta_epochs)]\n",
    "        где\n",
    "            theta: ndarray(n)\n",
    "            beta: float/ndarray(1) -- параметры регрессии после эпохи номер k\n",
    "    \"\"\"\n",
    "    pass"
   ]
  },
  {
   "cell_type": "code",
   "execution_count": null,
   "metadata": {},
   "outputs": [],
   "source": [
    "import numpy as np\n",
    "\n",
    "def cross_entropy(X, y, theta, beta):\n",
    "    predictions = sigmoid(X @ theta + np.ones(X.shape[0]) * beta)\n",
    "    return -1 / X.shape[0] * np.sum(y * predictions + (1 - y) * (1 - predictions))"
   ]
  },
  {
   "cell_type": "code",
   "execution_count": null,
   "metadata": {},
   "outputs": [],
   "source": [
    "import matplotlib.pyplot as plt\n",
    "plt.rcParams[\"figure.figsize\"] = (7, 7)"
   ]
  },
  {
   "cell_type": "code",
   "execution_count": null,
   "metadata": {},
   "outputs": [],
   "source": [
    "def show_logistic_regression(batch_size_list):\n",
    "    n = 200\n",
    "    m = 1000\n",
    "    x = 2 * np.random.rand(m, n) - 1\n",
    "    a = np.random.rand(n)\n",
    "    b = 0.2\n",
    "\n",
    "    y = (np.sign(x @ a + np.ones(m) * b) + 1) / 2\n",
    "    alpha = 0.2\n",
    "    iters = 40\n",
    "    \n",
    "    trajectories = [logistic_regression(x, y, alpha, batch_size, iters) for batch_size in batch_size_list]\n",
    "    #plt.yscale('log')\n",
    "    q = [i for i in range(iters + 1)]\n",
    "    \n",
    "    for i, t in enumerate(trajectories):\n",
    "        plt.plot(q, [cross_entropy(x, y, theta, beta) for theta, beta in t], label=str(batch_size_list[i]))\n",
    "    plt.legend()\n",
    "    plt.show()"
   ]
  },
  {
   "cell_type": "code",
   "execution_count": null,
   "metadata": {},
   "outputs": [],
   "source": [
    "show_logistic_regression([1, 4, 10, 100])"
   ]
  }
 ],
 "metadata": {
  "kernelspec": {
   "display_name": "Python 3",
   "language": "python",
   "name": "python3"
  },
  "language_info": {
   "codemirror_mode": {
    "name": "ipython",
    "version": 3
   },
   "file_extension": ".py",
   "mimetype": "text/x-python",
   "name": "python",
   "nbconvert_exporter": "python",
   "pygments_lexer": "ipython3",
   "version": "3.8.3"
  },
  "widgets": {
   "application/vnd.jupyter.widget-state+json": {
    "state": {},
    "version_major": 2,
    "version_minor": 0
   }
  }
 },
 "nbformat": 4,
 "nbformat_minor": 4
}
