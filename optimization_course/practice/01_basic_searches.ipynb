{
 "cells": [
  {
   "cell_type": "markdown",
   "metadata": {},
   "source": [
    "# Практика #1\n",
    "## Задача #1\n",
    "Для начала давайте попробуем применить метод просто итерации для решения уравнения\n",
    "$$\n",
    "x=cos(x)\n",
    "$$"
   ]
  },
  {
   "cell_type": "code",
   "execution_count": null,
   "metadata": {},
   "outputs": [],
   "source": [
    "import numpy as np\n",
    "from typing import List, Tuple, Dict"
   ]
  },
  {
   "cell_type": "code",
   "execution_count": null,
   "metadata": {},
   "outputs": [],
   "source": [
    "def simple_iteration_cosine(x_start:float, iters=10) -> List[float]:\n",
    "    \"\"\"\n",
    "    Метод простой итерации для функции уравнения x=cos(x)\n",
    "    \n",
    "    Args:\n",
    "        x_start: начальное приближение\n",
    "        iters: количество итераций метода\n",
    "    \n",
    "    Returns:\n",
    "        Список, содержащий все промежуточные приближения x_0, x_1, ..., x_iters\n",
    "    \"\"\"\n",
    "    pass"
   ]
  },
  {
   "cell_type": "code",
   "execution_count": null,
   "metadata": {},
   "outputs": [],
   "source": [
    "import os\n",
    "import sys\n",
    "module_path = os.path.abspath(os.path.join('..', '..'))\n",
    "if module_path not in sys.path:\n",
    "    sys.path.append(module_path)\n",
    "from animation_utils.animation import animate_list"
   ]
  },
  {
   "cell_type": "code",
   "execution_count": null,
   "metadata": {},
   "outputs": [],
   "source": [
    "import matplotlib.pyplot as plt\n",
    "# Использование latex замедляет анимации\n",
    "# plt.rcParams[\"text.usetex\"] = True"
   ]
  },
  {
   "cell_type": "code",
   "execution_count": null,
   "metadata": {},
   "outputs": [],
   "source": [
    "def show_cosine(estimates):\n",
    "    fig, axs = plt.subplots(1, 2, figsize=(12, 6))\n",
    "    \n",
    "    r = np.arange(0, np.pi / 2, 0.1)\n",
    "    axs[0].plot([0, np.pi / 2], [0, np.pi / 2], color='black')\n",
    "    axs[0].plot(r, [np.cos(t) for t in r], color='blue')\n",
    "    \n",
    "    axs[0].set_xlim((0, np.pi / 2))\n",
    "    axs[0].set_ylim((0, np.pi / 2))\n",
    "    axs[0].text(1, 1-0.15, \"y=x\", fontsize=15)\n",
    "    axs[0].text(1 - 0.2, np.cos(1)-0.2, \"y=cos(x)\", fontsize=15)\n",
    "    \n",
    "    for i, t in enumerate(estimates[:-1]):\n",
    "        axs[0].plot([t, t], [t, np.cos(t)], color='red')\n",
    "        axs[0].plot([t, estimates[i + 1]], [np.cos(t), estimates[i + 1]], color='orange')\n",
    "        \n",
    "    axs[1].plot([i for i in range(len(estimates))], [np.abs(e - np.cos(e)) for e in estimates])\n",
    "    axs[1].set_xlabel('k', fontsize=15)\n",
    "    axs[1].set_ylabel('|x_k-cos(x_k)|', fontsize=15)\n",
    "    \n",
    "    plt.close(fig)\n",
    "    return fig"
   ]
  },
  {
   "cell_type": "code",
   "execution_count": null,
   "metadata": {},
   "outputs": [],
   "source": [
    "estimates = simple_iteration_cosine(0.5, 10)\n",
    "iter_figures = [show_cosine(estimates[:i]) for i in range(len(estimates))]\n",
    "animate_list(iter_figures, play=True, interval=400);"
   ]
  },
  {
   "cell_type": "markdown",
   "metadata": {},
   "source": [
    "## Задача #2\n",
    "Дан сильно связный орграф $G=\\langle V, E\\rangle$, изначально вы случайно (равномерно) выбираете одну из вершин графа и начинаете передвигаться из нее в соседние каждый раз равновероятно выбирая исходящее ребро. Какого предельное распределение вероятности оказаться в каждой из вершин графа?\n",
    "\n",
    "<i>Замечание. Можете полагать, что граф таков, что такое распределение существует, что верно не для всех графов</i>"
   ]
  },
  {
   "cell_type": "code",
   "execution_count": null,
   "metadata": {},
   "outputs": [],
   "source": [
    "def random_walk_on_graph(arcs: List[Tuple[int]]) -> Dict[int, float]:\n",
    "    \"\"\"\n",
    "    Вычисляет предельное распределение при случайном хождении по графу, заданному\n",
    "    списком ребер arcs\n",
    "    \n",
    "    args:\n",
    "        arcs: список пар (l, r), каждая пара означает, что в графе есть переход из l в r\n",
    "        \n",
    "    Returns:\n",
    "        Словарь, сопоставляющий каждой вершине предельную вероятность нахождения в ней\n",
    "    \"\"\"\n",
    "    pass"
   ]
  },
  {
   "cell_type": "code",
   "execution_count": null,
   "metadata": {},
   "outputs": [],
   "source": [
    "from graph_utils.graph import Graph, Arc\n",
    "arcs = [\n",
    "    (0, 1),\n",
    "    (1, 0),\n",
    "    (1, 2),\n",
    "    (2, 1),\n",
    "    (0, 3),\n",
    "    (3, 2)\n",
    "]\n",
    "graph = Graph([Arc(arc[0], arc[1]) for arc in arcs])\n",
    "d = random_walk_on_graph(arcs)\n",
    "graph.Visualize({x: f\"{d[x]:.2f}\" for x in d})"
   ]
  },
  {
   "cell_type": "markdown",
   "metadata": {},
   "source": [
    "## Задача #3\n",
    "Найти минимум квадратичной функции с помощью тернарного поиска"
   ]
  },
  {
   "cell_type": "code",
   "execution_count": null,
   "metadata": {},
   "outputs": [],
   "source": [
    "def ternary_search_quadratic(b: float,\n",
    "                            c: float,\n",
    "                            left: float,\n",
    "                            right: float,\n",
    "                            iters=10) -> List[float]:\n",
    "    \"\"\"\n",
    "    Вычисляет минимум функции x^2+bx+c на отрезке [left, right]\n",
    "    \n",
    "    args:\n",
    "        b, c: коэффициенты функции\n",
    "        left, right -- границы отрезка, где искать корень\n",
    "        \n",
    "    Returns:\n",
    "        Последовательность приближений в тернарном поиске\n",
    "    \"\"\"\n",
    "    pass"
   ]
  },
  {
   "cell_type": "code",
   "execution_count": null,
   "metadata": {},
   "outputs": [],
   "source": [
    "def show_errors(errors):\n",
    "    fig, axs = plt.subplots(1, 2, figsize=(12, 6))\n",
    "    \n",
    "    axs[0].plot([i for i in range(len(errors))], errors)\n",
    "    \n",
    "    axs[1].set_yscale('log')\n",
    "    axs[1].plot([i for i in range(len(errors))], errors)\n",
    "    \n",
    "    plt.close(fig)\n",
    "    return fig\n",
    "\n",
    "b, c = 2, 3\n",
    "left, right = -5, 5\n",
    "show_errors([np.abs(estimate + (b / 2)) for estimate in ternary_search_quadratic(b, c, left, right)])"
   ]
  },
  {
   "cell_type": "markdown",
   "metadata": {},
   "source": [
    "## Задача #4\n",
    "Найти все корни $ax^2+bx+c$ на отрезке $[l; r]$ с помощью бисекции"
   ]
  },
  {
   "cell_type": "code",
   "execution_count": null,
   "metadata": {},
   "outputs": [],
   "source": [
    "def quadratic_roots_bisection(a: float,\n",
    "                              b: float,\n",
    "                              c: float,\n",
    "                              left: float,\n",
    "                              right: float,\n",
    "                              eps: float) -> List[float]:\n",
    "    \"\"\"\n",
    "    Вычисляет минимум функции ax^2+bx+c на отрезке [left, right]\n",
    "    \n",
    "    args:\n",
    "        a, b, c: коэффициенты функции\n",
    "        left, right -- границы отрезка, где искать корень\n",
    "        eps: точность для нахождения корня\n",
    "        \n",
    "    Returns:\n",
    "        Последовательность приближений в тернарном поиске\n",
    "    \"\"\"\n",
    "    pass"
   ]
  },
  {
   "cell_type": "code",
   "execution_count": null,
   "metadata": {},
   "outputs": [],
   "source": [
    "def show_roots(a, b, c, left, right):\n",
    "    roots = quadratic_roots_bisection(a, b, c, left, right, 1e-6)\n",
    "    g = lambda x: a * x ** 2 + b * x + c\n",
    "    fig = plt.figure(figsize=(7, 7))\n",
    "    ax = fig.add_axes([0, 0, 1, 1])\n",
    "    r = np.arange(left, right + (right - left) / 1000, (right - left) / 1000)\n",
    "    ax.plot(r, [g(x) for x in r], color='black')\n",
    "    ax.plot(r, [0 for _ in r], color='grey', linestyle='--')\n",
    "    ax.scatter(roots, [0 for _ in roots])\n",
    "    \n",
    "    plt.close(fig)\n",
    "    return fig\n",
    "\n",
    "a, b, c = 1, 2, 1\n",
    "left, right = -2, 1\n",
    "show_roots(a, b, c, left, right)"
   ]
  }
 ],
 "metadata": {
  "kernelspec": {
   "display_name": "Python 3",
   "language": "python",
   "name": "python3"
  },
  "language_info": {
   "codemirror_mode": {
    "name": "ipython",
    "version": 3
   },
   "file_extension": ".py",
   "mimetype": "text/x-python",
   "name": "python",
   "nbconvert_exporter": "python",
   "pygments_lexer": "ipython3",
   "version": "3.8.3"
  }
 },
 "nbformat": 4,
 "nbformat_minor": 4
}
