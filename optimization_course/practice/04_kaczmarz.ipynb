{
 "cells": [
  {
   "cell_type": "code",
   "execution_count": 1,
   "metadata": {},
   "outputs": [],
   "source": [
    "import numpy as np\n",
    "import matplotlib.pyplot as plt"
   ]
  },
  {
   "cell_type": "code",
   "execution_count": 2,
   "metadata": {},
   "outputs": [],
   "source": [
    "def project_hyperplane(a, b, y):\n",
    "    #print(a.shape, y.shape)\n",
    "    l = (a @ y - b) / (a.T @ a)\n",
    "    return y - a * l"
   ]
  },
  {
   "cell_type": "code",
   "execution_count": 3,
   "metadata": {},
   "outputs": [],
   "source": [
    "def show_projection():\n",
    "    fig, ax = plt.subplots(1, 1, figsize=(7, 7))\n",
    "        \n",
    "    ax.set_xlim(-1.5, 1.5)\n",
    "    ax.set_ylim(-1.5, 1.5)\n",
    "        \n",
    "    A = np.random.rand(1, 2)\n",
    "    b = 0.5\n",
    "    \n",
    "    y = np.random.rand(2, 1)\n",
    "    \n",
    "    x = project_hyperplane(A[0,:], b, y[:,0])\n",
    "    ax.scatter([y[0], x[0]], [y[1], x[1]], color='black')\n",
    "    ax.plot([y[0], x[0]], [y[1], x[1]], color='grey', linestyle='--')\n",
    "    ax.text(x[0] - 0.1, x[1] - 0.1, 'x', fontsize = 15)\n",
    "    ax.text(y[0] + 0.1, y[1] + 0.1, 'y', fontsize = 15)\n",
    "    delta = 0.05\n",
    "    p = np.arange(-1.5, 1.5, delta)\n",
    "    q = np.arange(-1.5, 1.5, delta)\n",
    "    X, Y = np.meshgrid(p, q)\n",
    "    Z = np.zeros_like(X)\n",
    "    for i in range(X.shape[0]):\n",
    "        for j in range(X.shape[1]):\n",
    "            Z[i][j] = A @ np.array([X[i][j], Y[i][j]])\n",
    "    CS = ax.contour(X, Y, Z, [b], colors=['blue'])\n",
    "    plt.close(fig)\n",
    "    return fig"
   ]
  },
  {
   "cell_type": "code",
   "execution_count": 4,
   "metadata": {},
   "outputs": [
    {
     "data": {
      "image/png": "[encoded data removed]",
      "text/plain": [
       "<Figure size 504x504 with 1 Axes>"
      ]
     },
     "execution_count": 4,
     "metadata": {},
     "output_type": "execute_result"
    }
   ],
   "source": [
    "show_projection()"
   ]
  },
  {
   "cell_type": "code",
   "execution_count": 34,
   "metadata": {},
   "outputs": [],
   "source": [
    "import random"
   ]
  },
  {
   "cell_type": "code",
   "execution_count": 179,
   "metadata": {},
   "outputs": [],
   "source": [
    "def kaczmarz(A, b, x_0, iters):\n",
    "    result = [x_0.copy()]\n",
    "    x = x_0\n",
    "    beta = 0.9\n",
    "    alpha = 1\n",
    "    for t in range(iters):\n",
    "        for _ in range(A.shape[0]):\n",
    "            i = random.randint(0, A.shape[0] - 1)\n",
    "            #print(i)\n",
    "            x = x + alpha * (project_hyperplane(A[i,:], b[i], x) - x)\n",
    "            #x = (1 if alpha is None else alpha ** t) * (b[i] - np.dot(A[i], x)) / (np.dot(A[i], A[i])) * A[i]\n",
    "        result.append(x.copy())\n",
    "        \n",
    "    return result"
   ]
  },
  {
   "cell_type": "code",
   "execution_count": 174,
   "metadata": {},
   "outputs": [],
   "source": [
    "import scipy as sp\n",
    "import scipy.linalg\n",
    "import matplotlib.pyplot as plt\n",
    "plt.rcParams[\"text.usetex\"] = True\n",
    "\n",
    "def conjugate_gradient(A, b, x_0):\n",
    "    x = x_0\n",
    "    v = (A @ x - b)\n",
    "    d = v\n",
    "    v_norm = np.dot(v, v)\n",
    "    \n",
    "    result = [x.copy()]\n",
    "    for i in range(len(b)):\n",
    "        Ad = np.dot(A, d)\n",
    "        alpha = v_norm / np.dot(d, Ad)\n",
    "        x = x - alpha * d\n",
    "        v = v - alpha * Ad\n",
    "        v_norm_new = np.dot(v, v)\n",
    "\n",
    "        d = v + (v_norm_new / v_norm) * d\n",
    "        v_norm = v_norm_new\n",
    "        result.append(x.copy())\n",
    "    return result\n",
    "\n",
    "def show_kaczmarz_and_cgd(dim=500):\n",
    "    A = np.random.rand(dim, dim)\n",
    "    A = (1 / dim) *  A @ A.T\n",
    "    A = A + np.diag(np.sum(np.abs(A), axis=-1))\n",
    "    \n",
    "    sD = sp.linalg.sqrtm(np.linalg.inv(np.diag(np.diag(A))))\n",
    "    A = sD.T @ A @ sD\n",
    "    b = np.random.rand(dim)\n",
    "    fig, axs = plt.subplots(1, 1, figsize=(10, 7))\n",
    "    eig, v = np.linalg.eigh(A)\n",
    "    m, M = eig[0], eig[-1]\n",
    "    print(m, M)\n",
    "    print('Condition(A):', M / m)\n",
    "    x = np.zeros_like(b)\n",
    "    A_inv = np.linalg.inv(A)\n",
    "    \n",
    "    \n",
    "    iters = dim\n",
    "    \n",
    "    #estimates_conjugate_gradient = conjugate_gradient(A, b, x)\n",
    "    estimates_kaczmarz = kaczmarz(A, b, x, iters)\n",
    "    \n",
    "    #axs.plot([i for i in range(len(estimates_conjugate_gradient))], [np.linalg.norm(A @ x - b) for x in estimates_conjugate_gradient], label='CGD')\n",
    "    axs.plot([i for i in range(len(estimates_kaczmarz))], [np.linalg.norm(A @ x - b) for x in estimates_kaczmarz], label='Kaczmarz')\n",
    "    \n",
    "    axs.legend()\n",
    "    axs.set_ylabel(r'$\\|Ax_k-b\\|$', fontsize=20)\n",
    "    axs.set_xlabel(r'$k$', fontsize=20)\n",
    "    axs.set_yscale('log')\n",
    "    plt.close(fig)\n",
    "    return fig"
   ]
  },
  {
   "cell_type": "code",
   "execution_count": 180,
   "metadata": {},
   "outputs": [
    {
     "name": "stdout",
     "output_type": "stream",
     "text": [
      "0.9973092033529575 1.9946822725394786\n",
      "Condition(A): 2.0000640381471952\n"
     ]
    },
    {
     "data": {
      "image/png": "[encoded data removed]",
      "text/plain": [
       "<Figure size 720x504 with 1 Axes>"
      ]
     },
     "execution_count": 180,
     "metadata": {},
     "output_type": "execute_result"
    }
   ],
   "source": [
    "show_kaczmarz_and_cgd(500)"
   ]
  }
 ],
 "metadata": {
  "kernelspec": {
   "display_name": "Python 3",
   "language": "python",
   "name": "python3"
  },
  "language_info": {
   "codemirror_mode": {
    "name": "ipython",
    "version": 3
   },
   "file_extension": ".py",
   "mimetype": "text/x-python",
   "name": "python",
   "nbconvert_exporter": "python",
   "pygments_lexer": "ipython3",
   "version": "3.8.3"
  },
  "widgets": {
   "application/vnd.jupyter.widget-state+json": {
    "state": {},
    "version_major": 2,
    "version_minor": 0
   }
  }
 },
 "nbformat": 4,
 "nbformat_minor": 4
}
