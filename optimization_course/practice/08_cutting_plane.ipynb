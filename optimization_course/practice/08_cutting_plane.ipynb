{
 "cells": [
  {
   "cell_type": "markdown",
   "metadata": {},
   "source": [
    "# Задача #1: Метод разделяющей гиперплоскости"
   ]
  },
  {
   "cell_type": "code",
   "execution_count": null,
   "metadata": {},
   "outputs": [],
   "source": [
    "def cutting_plane(x_0, A, b, c, k=10):\n",
    "    \"\"\"\n",
    "    Решает задачу LP (с^Tx -> min, Ax<=b, x>=0) с помощью метода разделяющей гиперплоскости.\n",
    "    Начальное приближение задается многогранником Ax<=b, x>=0.\n",
    "    \n",
    "    Args:\n",
    "        x_0: ndarray(n) -- начальное приближение\n",
    "        A: ndarray(m, n)\n",
    "        b: ndarray(m)\n",
    "        c: ndarray(n)\n",
    "        k: int -- число итераций\n",
    "    Returns:\n",
    "        [(p_1, d_1, x_1), ..., (p_k, d_k, x_k)] -- список добавленных уравнений вида p_lx<=b_l и соответствующее приближение x_l.\n",
    "    \"\"\"\n",
    "    pass"
   ]
  },
  {
   "cell_type": "code",
   "execution_count": null,
   "metadata": {},
   "outputs": [],
   "source": [
    "import numpy as np\n",
    "import matplotlib.pyplot as plt"
   ]
  },
  {
   "cell_type": "code",
   "execution_count": null,
   "metadata": {},
   "outputs": [],
   "source": [
    "import os\n",
    "import sys\n",
    "module_path = os.path.abspath(os.path.join('..', '..'))\n",
    "if module_path not in sys.path:\n",
    "    sys.path.append(module_path)\n",
    "from animation_utils.animation import animate_list"
   ]
  },
  {
   "cell_type": "code",
   "execution_count": null,
   "metadata": {},
   "outputs": [],
   "source": [
    "def get_line(x1, x2):\n",
    "    a = x1[1] - x2[1]\n",
    "    b = x2[0] - x1[0]\n",
    "    c = a * x1[0] + b * x1[1]\n",
    "    return a, b, c\n",
    "\n",
    "vertices = [(2.0, 2.0), (1.9, 3.0), (2.5, 4.0), (4.0, 4.2), (4.7, 3.5), (4.5, 1.5), (3.5, 1.0), (2.0, 2.0)]\n",
    "A = []\n",
    "b = []\n",
    "\n",
    "for i in range(len(vertices) - 1):\n",
    "    a_, b_, c_ = get_line(vertices[i], vertices[i + 1])\n",
    "    A.append([a_, b_])\n",
    "    b.append(c_)\n",
    "A = np.array(A)\n",
    "b = np.array(b)\n",
    "direction = np.array([-2, -1]) # c"
   ]
  },
  {
   "cell_type": "code",
   "execution_count": null,
   "metadata": {},
   "outputs": [],
   "source": [
    "def fix_scaling(ax=None):\n",
    "    if not ax:\n",
    "        xlim = plt.xlim()\n",
    "        ylim = plt.ylim()\n",
    "        d1 = xlim[1] - xlim[0]\n",
    "        d2 = ylim[1] - ylim[0]\n",
    "        if d1 > d2:\n",
    "            plt.ylim((ylim[0] - (d1-d2) / 2, ylim[1] + (d1-d2) / 2))\n",
    "        else:\n",
    "            plt.xlim((xlim[0] + (d1-d2) / 2, xlim[1] - (d1-d2) / 2))\n",
    "    else:\n",
    "        xlim = ax.get_xlim()\n",
    "        ylim = ax.get_ylim()\n",
    "        d1 = xlim[1] - xlim[0]\n",
    "        d2 = ylim[1] - ylim[0]\n",
    "        if d1 > d2:\n",
    "            ax.set_ylim((ylim[0] - (d1-d2) / 2, ylim[1] + (d1-d2) / 2))\n",
    "        else:\n",
    "            ax.set_xlim((xlim[0] + (d1-d2) / 2, xlim[1] - (d1-d2) / 2))"
   ]
  },
  {
   "cell_type": "code",
   "execution_count": null,
   "metadata": {},
   "outputs": [],
   "source": [
    "def intersection(a, b, c, d):\n",
    "    return np.linalg.solve(np.array([a, c]), np.array([b, d]))"
   ]
  },
  {
   "cell_type": "code",
   "execution_count": null,
   "metadata": {},
   "outputs": [],
   "source": [
    "from scipy.spatial import ConvexHull\n",
    "\n",
    "def get_vertices(A, b, P, d):\n",
    "    vertices = []\n",
    "    #print(A, b, P, d)\n",
    "    for i in range(b.shape[0]):\n",
    "        for j in range(i):\n",
    "            try:\n",
    "                _x = intersection(A[i], b[i], A[j], b[j])\n",
    "            except np.linalg.LinAlgError:\n",
    "                continue\n",
    "            if np.min(np.less_equal(A @ _x - 1e-6, b)) and np.min(np.less_equal(P @ _x - 1e-6, d)) and np.min(np.less_equal(np.zeros_like(_x), _x)):\n",
    "                vertices.append(_x)\n",
    "    for i in range(d.shape[0]):\n",
    "        for j in range(i):\n",
    "            try:\n",
    "                _x = intersection(P[i], d[i], P[j], d[j])\n",
    "            except np.linalg.LinAlgError:\n",
    "                continue\n",
    "            if np.min(np.less_equal(A @ _x - 1e-6, b)) and np.min(np.less_equal(P @ _x - 1e-6, d)) and np.min(np.less_equal(np.zeros_like(_x), _x)):\n",
    "                vertices.append(_x)   \n",
    "                \n",
    "    for i in range(b.shape[0]):\n",
    "        for j in range(d.shape[0]):\n",
    "            try:\n",
    "                _x = intersection(A[i], b[i], P[j], d[j])\n",
    "            except np.linalg.LinAlgError:\n",
    "                continue            \n",
    "            if np.min(np.less_equal(A @ _x - 1e-6, b)) and np.min(np.less_equal(P @ _x - 1e-6, d)) and np.min(np.less_equal(np.zeros_like(_x), _x)):\n",
    "                vertices.append(_x)\n",
    "    #plt.scatter([x for x, y in vertices], [y for x, y in vertices])\n",
    "    #print('Ver', vertices)\n",
    "    return np.array(vertices)[ConvexHull(vertices).vertices]    "
   ]
  },
  {
   "cell_type": "code",
   "execution_count": null,
   "metadata": {},
   "outputs": [],
   "source": [
    "get_vertices(A, b, A, b)"
   ]
  },
  {
   "cell_type": "code",
   "execution_count": null,
   "metadata": {},
   "outputs": [],
   "source": [
    "def cutting_plane_step(x, A, b, P, d):\n",
    "    fig, ax = plt.subplots(figsize=(10, 10))\n",
    "\n",
    "    hull = get_vertices(A, b, P, d)\n",
    "    \n",
    "    ax.fill([x for x, y in hull], [y for x, y in hull], color='grey', alpha=0.5)\n",
    "    ax.plot([x for x, y in vertices], [y for x, y in vertices])\n",
    "    \n",
    "    ax.scatter([x[0]], [x[1]], color='black')\n",
    "    #fix_scaling(ax)\n",
    "    ax.axis('off')\n",
    "    plt.close(fig)\n",
    "    return fig"
   ]
  },
  {
   "cell_type": "code",
   "execution_count": null,
   "metadata": {},
   "outputs": [],
   "source": [
    "steps = cutting_plane(np.array([3.5, 2.8]), A, b, np.array([-2, -1]), k = 30)"
   ]
  },
  {
   "cell_type": "code",
   "execution_count": null,
   "metadata": {},
   "outputs": [],
   "source": [
    "result = []\n",
    "P = []\n",
    "d = []\n",
    "for P_i, d_i, x_i in steps:\n",
    "    P.append(P_i)\n",
    "    d.append(d_i)\n",
    "    result.append(cutting_plane_step(x_i, A, b, np.array(P), np.array(d)))\n",
    "\n",
    "animate_list(result);"
   ]
  }
 ],
 "metadata": {
  "kernelspec": {
   "display_name": "Python 3",
   "language": "python",
   "name": "python3"
  },
  "language_info": {
   "codemirror_mode": {
    "name": "ipython",
    "version": 3
   },
   "file_extension": ".py",
   "mimetype": "text/x-python",
   "name": "python",
   "nbconvert_exporter": "python",
   "pygments_lexer": "ipython3",
   "version": "3.8.3"
  },
  "widgets": {
   "application/vnd.jupyter.widget-state+json": {
    "state": {
     "01acee5172224c04a1b2ef9b0c685c9f": {
      "model_module": "@jupyter-widgets/controls",
      "model_module_version": "1.5.0",
      "model_name": "ButtonStyleModel",
      "state": {}
     },
     "02ba773c14b24ea0abda18ded3109cf0": {
      "model_module": "@jupyter-widgets/base",
      "model_module_version": "1.2.0",
      "model_name": "LayoutModel",
      "state": {}
     },
     "0335a23bf05f4db89ea15d2a46a596cb": {
      "model_module": "@jupyter-widgets/controls",
      "model_module_version": "1.5.0",
      "model_name": "ButtonStyleModel",
      "state": {}
     },
     "0410b650b5cf47fbbe0e157746e431f2": {
      "model_module": "@jupyter-widgets/controls",
      "model_module_version": "1.5.0",
      "model_name": "HBoxModel",
      "state": {
       "children": [
        "IPY_MODEL_13519e24d6ec4e14a57e4e52aa5c1af1",
        "IPY_MODEL_a0fe82f3e17f4c319ad46361c5a13c50"
       ],
       "layout": "IPY_MODEL_f7b0d8ae2cc1409a83fb259f75f58b51"
      }
     },
     "06ef439b1e914e779c2040e12cc1ca3f": {
      "model_module": "@jupyter-widgets/controls",
      "model_module_version": "1.5.0",
      "model_name": "ButtonModel",
      "state": {
       "description": "Next",
       "layout": "IPY_MODEL_507b350c8d5d4520a29f80ca0e5a74b2",
       "style": "IPY_MODEL_9dfceb9f360a47a795660353fa9cd21d"
      }
     },
     "08dfdea4f3974288aed265f6bb7a16eb": {
      "model_module": "@jupyter-widgets/base",
      "model_module_version": "1.2.0",
      "model_name": "LayoutModel",
      "state": {}
     },
     "094cc7f771fc42349c9835e2571f08c8": {
      "model_module": "@jupyter-widgets/base",
      "model_module_version": "1.2.0",
      "model_name": "LayoutModel",
      "state": {}
     },
     "0971861c923648e98dcaba79ed17226f": {
      "model_module": "@jupyter-widgets/output",
      "model_module_version": "1.0.0",
      "model_name": "OutputModel",
      "state": {
       "layout": "IPY_MODEL_9eabb289dd3c4609b1a6e1d765798d35",
       "outputs": [
        {
         "data": {
          "image/png": "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\n",
          "text/plain": "<Figure size 720x720 with 1 Axes>"
         },
         "metadata": {},
         "output_type": "display_data"
        }
       ]
      }
     },
     "09e6fd0950f6493b89a737d86e48bc29": {
      "model_module": "@jupyter-widgets/base",
      "model_module_version": "1.2.0",
      "model_name": "LayoutModel",
      "state": {}
     },
     "0bd2cebacccc4f119453d2b0b5276799": {
      "model_module": "@jupyter-widgets/base",
      "model_module_version": "1.2.0",
      "model_name": "LayoutModel",
      "state": {}
     },
     "0c3dcfe246514fe08fa57208eb257145": {
      "model_module": "@jupyter-widgets/controls",
      "model_module_version": "1.5.0",
      "model_name": "IntSliderModel",
      "state": {
       "description": "step",
       "layout": "IPY_MODEL_797aec0f1c034f21a5831f0e64ea0f4c",
       "max": 9,
       "style": "IPY_MODEL_a6133ef1456c4184b5897281f8925941",
       "value": 2
      }
     },
     "11be59cb92f44f1bb206880b142be56c": {
      "model_module": "@jupyter-widgets/controls",
      "model_module_version": "1.5.0",
      "model_name": "IntSliderModel",
      "state": {
       "description": "step",
       "layout": "IPY_MODEL_5e9448f71a9c45f894f296f922a9835d",
       "max": 9,
       "style": "IPY_MODEL_5e49ba8ec0d7424f811ae0e67e832074",
       "value": 1
      }
     },
     "11f190cdd7a749fc853e78797507b2d2": {
      "model_module": "@jupyter-widgets/base",
      "model_module_version": "1.2.0",
      "model_name": "LayoutModel",
      "state": {}
     },
     "12b7959ec5624128be5c9bae918cff95": {
      "model_module": "@jupyter-widgets/controls",
      "model_module_version": "1.5.0",
      "model_name": "ButtonStyleModel",
      "state": {}
     },
     "13519e24d6ec4e14a57e4e52aa5c1af1": {
      "model_module": "@jupyter-widgets/controls",
      "model_module_version": "1.5.0",
      "model_name": "ButtonModel",
      "state": {
       "description": "Prev",
       "layout": "IPY_MODEL_4a9539d977004ad8ba6928ca732d4276",
       "style": "IPY_MODEL_31686a7527244378ad3f8c2a79d4a2cd"
      }
     },
     "1358189655594783933c9a714fe26eae": {
      "model_module": "@jupyter-widgets/controls",
      "model_module_version": "1.5.0",
      "model_name": "HBoxModel",
      "state": {
       "children": [
        "IPY_MODEL_d4775cc5e63b4dec90e70a8877c0b765",
        "IPY_MODEL_06ef439b1e914e779c2040e12cc1ca3f"
       ],
       "layout": "IPY_MODEL_1d2a7b45e101478b8601aa6e750f2cac"
      }
     },
     "17e4b829c2cc4ff2ac38d969bc04de3a": {
      "model_module": "@jupyter-widgets/controls",
      "model_module_version": "1.5.0",
      "model_name": "VBoxModel",
      "state": {
       "_dom_classes": [
        "widget-interact"
       ],
       "children": [
        "IPY_MODEL_cef25c5b912e40b9875e811b9f33f270",
        "IPY_MODEL_80b52bd71f3740b08c5e4a16b0b78646"
       ],
       "layout": "IPY_MODEL_40baffc8c9114eb3a292e9ea571771e0"
      }
     },
     "185bccf00abc4462aa82283d0a1c8e26": {
      "model_module": "@jupyter-widgets/base",
      "model_module_version": "1.2.0",
      "model_name": "LayoutModel",
      "state": {}
     },
     "1a1db68a56e84b49a6e7ce3d704c9bed": {
      "model_module": "@jupyter-widgets/base",
      "model_module_version": "1.2.0",
      "model_name": "LayoutModel",
      "state": {}
     },
     "1d2a7b45e101478b8601aa6e750f2cac": {
      "model_module": "@jupyter-widgets/base",
      "model_module_version": "1.2.0",
      "model_name": "LayoutModel",
      "state": {}
     },
     "1ed7068eae484338804aa691d6b2229e": {
      "model_module": "@jupyter-widgets/base",
      "model_module_version": "1.2.0",
      "model_name": "LayoutModel",
      "state": {}
     },
     "207fdb9e3d5a4bb890280feb165638b2": {
      "model_module": "@jupyter-widgets/controls",
      "model_module_version": "1.5.0",
      "model_name": "ButtonModel",
      "state": {
       "description": "Next",
       "layout": "IPY_MODEL_831c396bb4724a788aaf457ebf6b7b47",
       "style": "IPY_MODEL_7d943575432146418912a84b960888dd"
      }
     },
     "22fd85787ebf4749b6a10200c24711df": {
      "model_module": "@jupyter-widgets/base",
      "model_module_version": "1.2.0",
      "model_name": "LayoutModel",
      "state": {}
     },
     "2505e66cb00c4f21867814c6b867cd75": {
      "model_module": "@jupyter-widgets/output",
      "model_module_version": "1.0.0",
      "model_name": "OutputModel",
      "state": {
       "layout": "IPY_MODEL_52a4dfc85a514a50927c8016bbf54770",
       "outputs": [
        {
         "data": {
          "image/png": "iVBORw0KGgoAAAANSUhEUgAAAjwAAAIuCAYAAAC7EdIKAAAABHNCSVQICAgIfAhkiAAAAAlwSFlzAAALEgAACxIB0t1+/AAAADh0RVh0U29mdHdhcmUAbWF0cGxvdGxpYiB2ZXJzaW9uMy4yLjIsIGh0dHA6Ly9tYXRwbG90bGliLm9yZy+WH4yJAAAgAElEQVR4nOzdd5gdV33/8fdsuaviIuOGmzy4UGIwNhDTCZBQwtiEUH6BGBKwIXRCZwROhgsETQgdHGrokASbEsNQDTE9gBMbXOTusdyxjYp3JW278/vj7hpZlmSVvffMvff9ep59VmB272eRrP3sme85J6qqCkmSpH42FDqAJElSp1l4JElS37PwSJKkvmfhkSRJfc/CI0mS+p6FR5Ik9T0LjyRJ6nsWHkmS1PcsPJIkqe9ZeCRJUt+z8EiSpL5n4ZEkSX3PwiNJkvqehUeSJPU9C48kSep7Fh5JktT3LDySJKnvWXgkSVLfs/BIkqS+Z+GRJEl9z8IjSZL6noVHkiT1PQuPJEnqexYeSZLU9yw8kiSp71l4JElS37PwSJKkvmfhkSRJfc/CI0mS+p6FR5Ik9b2R0AEkSf0jToth4KCI6rA9osk/GmX2GOCoFkPLZxg6cITZ366tljytzJONobNqsERVVYXOIEnqAXFaRMD+wGFLo6n7jDFz/4jq6BbR4TMMHTRVDe87xcjiiuhOHzfCLEujqWpxNB3d1NqTpdHU9Zuq0QdfmZ90c5AvRAPJwiNJmi8zewOHNZg5Ymk0dewQ1X1aRPeaZejg6Wp4v0mGl7YYulObGaLF0miqWhpNRUujKZZG07Tf/+GtwSzR3EddM7uMH00dwSizE8NR61EXrXz6+d3/ajWILDySNADitFgCHDb3tnyzX2/+tsfmHxNRsTiarva4o8zc9W0RM3eUmR11a2sJZ08eVU0z3FoaTf3Vb1Y+8ysL8CVK22XhkaQeF6dFAziEbReZw4B7bOVDbwaunXtbPf/rh41e86DDhta+ckk0vWRoJ8vMjhpvjXL21NHV2mpxtCzamJ238llv68wrSW0WHkmqsfkhYLZdZA4DDgS2rCZr2KLIbPF2fZknk1t7zWazOQxcBNxngb+cO5muhjhn6giuay1jWbTxy2urxX9d5slsJ19Tg8vCI0mBbD4EvJ23Q4DhLT50gm0XmWuBa8s8mdidbM1m85HA94Alu/N57k6rgl9NH8aq2QPZK9p03vpq0aN3N7u0NRYeSeqAzYeAt/G2HDgUGNviQ6fYTpGZe1tb5knH//JuNptnAicBjU6/1sUz+/Or6eUsiaZunq6GH3JZ/hfXdfo1NVgsPJK0C7YYAt6yyGx1CBiYBW5g20VmNXBLN8rMjmg2mwcDl9PhVZ55187uzTlTRzBMa9No1HrshSuf/stuvK4Gg4VHkraw2RDwtorMjgwBb1lkrgVuKvNkptP5F1Kz2VwBvAVY2o3X+31rMd+fOrqarIarPaOp55+/8pmf78brqv9ZeCQNlLkh4Huy/e3Z2xsC3lqR2e4QcC9rNptjwFXAwd16zQ3VKGdPHlXdVi2J9ok2/vOaasmKuqx6qXdZeCT1jR0cAj6Yu16rM8HWS8yCDQH3smaz+RTgy3RplQdgphrix1P34prWPiyLNn5jbbX46b22OqZ6sfBI6gk7MAR8GO0h4EVbfOgUcB3b39XUlSHgXtZsNn8IPIa77hjrmKqCc2cO4cKZg9gz2nTx7dWih5d5sr5br6/+YuGRVAvbGQLefIZmZ4eAr6U9BNzqwpfQ15rN5tHAb4DF3X7ty2b24+fTh7OY6d/PEj3k0vxpV3c7g3qfhUdSx21jCHjLYeCdGQKef7vRxxzd02w23w28jACl54bZPfnh1JFEMLUomnnib1c+40fdzqDeZuGRtFu2GALe1q6mHR0C3nyOpi+HgHtZs9ncg/bvzT4hXn9taxHfnzq62lCNsne06SXnrXzWx0PkUG+y8Ejaprm5mf3Y/qWTdzcEvLVdTdeVeTLehS9BC6zZbJ4MfIwuDjBvblM1wg+mjqp+19oj2ifa8KE11ZK/d/5KO8LCIw2wOC3mh4C3tT17e0PA29qe7RBwH2s2mxFwHnAsd12164qZKuKn0zFXz+7L3tHGs9dVi5MyT6ZCZFHvsPBIfWoHhoAPA/bc4sNa/GEIeFu7mhwCHnDNZvNBwE8JMMszr6rg/JmDOX/mYPaMNl2xqRo94fL8qWtC5VH9WXikHnQ3Q8Dzb/tu5UN/x/a3ZzsErB3SbDY/C/wVd70LrKuunLkHP52OGWNmXUX00Evyp10aMo/qy8Ij1cx2hoA3n6PZ2SHg+bkZh4C1IJrN5v60T2De8qiArrtpdg9+OHUULZhZEk2f+JuVz/xu6EyqHwuP1EVbGQLe2jDwzgwBb34SsEPA6qpms/kq4J0EGmDe3PrWGN+fOroarxrR3tGm15y38lnvD51J9WLhkRbQZkPA29rVtKNDwFsOAzsErNppNpsjwGXAvUJnAZishvnh1JHVTa29omXRhn9bWy15kf/eaJ6FR9pBc0PAh7L9XU3bGwLe1q4mh4DVs5rN5uOAbwJLQmcBmK0ifjF9OJfP7sde0aafrq8WPaHMk02hcyk8C4/Ebg8Bb+/SSYeA1feazeY3gScCo6GzQHsH1wUz9+R/Zw5lj2hy9aZq5CFX5E+9JXQuhWXhUd/bgSHgw+b++ZZDwGvZ/vbs6/3JUYJms3k4sIqA29S3ppzdhx9P3YtRZieGqB5xcf6Xvw2dSeFYeNTTtjMEvPnbITgELHVUs9l8G/A6avJoa94traWcPXlUNcNQa49o6pnnr3zm10NnUhgWHtXaVoaAtxwG3tkh4Pm3NQ4zSgun2WwuBkrggMBR7mK81eD7U0dX66pF0bJo45vPW/mslaEzqfssPAomTovFbH979s4MAW8+R+MQsBRAs9n8S+Dz1GCb+pamqmHOmTqC61t7syza+KW11eLn+ffEYLHwqCPitBjlzkPAW9vVdHdDwFvb1eQQsFRTc/ds/Qx4KDAUOM5dtCr45fRyLpk9gL2iTeeurxb9SZknG0LnUndYeLTT5oaAD2TbW7Pvbgh4W7uaHAKWelyz2fwj4FxqNsA8r6rg4tkD+NX0YSyNpm7cVI0++Mr8pBtD51LnWXi0U+K0eDHwQaCxxT/awPa3ZzsELA2IZrN5OnAKd52vq43Vs3vzo6kjGKG1cSRqPebClU8/N3QmdZaFRzssTotjgV8DvwD+E4eAJW1Fs9lcRnuAee/AUbbrttZizp48uppiuNojmjr5/JXP/I/QmdQ5Fh7tkDgtFtEuO/sBDyjz5NbAkSTVWLPZPBV4PzW4XHR7JqpRzp48ulpTLY6WRRvfcd7KZ/1D6EzqjNoNlam2VgL3B15g2ZG0Az5Ne/W31j9VL42mecrYJdGhQ+tYUy057YErzvzq3Jyi+owrPLpbcVo8Afge8OEyT14ZOo+k3tBsNh8G/ICaHUa4Na0Kzp05lItm7sme0aYLbq8WPbLMk9tD59LCcYVH2xWnxb7AZ2gfG//GsGkk9ZIsy/6H9sWiU6Gz3J2hCE4YvY6Hj17DeDX2gCXR1FVHp2ctD51LC8fCo22au7bhY8D+wMllnmwMHElS73k10DNnZ9135Bae0Lic6Wp4v4jqsvuv+OojQ2fSwrDwaHv+FngGcFqZJ+eFDiOp92RZdiPQpH1/XU84ZHg9ydgqRqPZxsZq9CfHrzjjBaEzafdZeLRVcVocAXwI+BHwnsBxJPW29wNrQofYGfsMbeKksVXRPtEG1lSLP3X8ijPeM7fqrR7l0LLuIk6LEdpF5xjg2DJPVgeOJKnHNZvNJwNfoQcGmDc3U0X8ZPpelLP3YO9o43fWVYufWubJdOhc2nmu8GhrUuARwMssO5IWQpZl3wF+Tg/N8wCMRBWPHb2KY0duYF21+Ml7RpsuiNNiWehc2nkWHt1JnBYnAG8FvlTmyZcCx5HUX14C9NzqSBTBg0dv4FGjVzNRNe6zhKmr75t+/ejQubRzLDy6Q5wWewBfAG4AXh44jqQ+k2XZlcCHad+913OOHrmNJzUuY4ahZS2ii45d8ZU/C51JO87Co829BzgK+JsyT9aGDiOpL70N2BQ6xK665/A4J46tYiyaGRmvGt87fsUZ/nDYIxxaFgBxWjwV+C/gXWWevCl0Hkn9q9lsPgf4BLA0dJZdtaka5odTR1U3t/aM9ok2fHRNteRlXqBcb67wiDgt7gn8G3A+8I+B40jqf/8BXErN79nankXRLE9qXBYdOXwra6olL9k72vjDOC3GQufStrnCM+DmzpX4JvB44MFlnlwcOJKkAdBsNo+jvWtrcegsu6Oq4LczB/F/M4ewRzRZbqpGHnJF/tTbQufSXbnCo5cCTwHeYNmR1C1Zlp0P/Ds9PM8D7R1cDxy9kT8ZvZIN1Wg8yuzV90u/dkzoXLorC88Ai9PifrQHlb8DnB44jqTB80Z67FyebTliZA1/3riUimjPGYbPf+CKM08MnUl3ZuEZUHFaNGhvQZ8ATnHYTlK3ZVl2G+2DTnvmnq3tOWB4ghPHVrEkmhq+vRr7xvErznhD6Ez6AwvP4Hor8CDgRWWe3Bg4i6TB9THgptAhFsqeQ1MkY5dEBw6NV2uqJe86bsUZn4nTwu+1NeDQ8gCK0+LRtO/K+lSZJy8MnUfSYGs2m48Bvk2P3bO1Pa0q4hfTy7lsdn/2ijb9z/pq0ePLPNkYOtcgs3UOmDgt9gY+D1wFvDpwHEkiy7IfA2fTg9dObMtQVPGI0Wv445FrWV+NPWxpNHn5kek3Dgyda5BZeAbPh4FDgeeWeTIeOowkzXkFfTLAPC+K4P6jN/P4xpVsqkYOGWX2qmNWfPX40LkGlYVngMRp8WzgucDbyzz5n9B5JGlelmXXAjl9MsC8ucOH1/KUsUuJqBZPViPnHrfizGeFzjSILDwDIk6Lw4CPAL8E/ilwHEnamncBt4cO0Qn7DW3gxLFV0Z7RZLSuWvTl41eckYXONGgcWh4AczsEzgZOAI4r8+SKwJEkaauazeZfAF+kh+/Z2p7paohzpo7gutYylkUbz1hbLX5OmSezoXMNAld4BsNrgMcBr7LsSKq5s4DzgL4sAaNRiz9tXMH9hm9mbbX4WXtFm86N02KP0LkGgYWnz8Vp8UDgncDXgE8HjiNJ25VlWQW8CJgKnaVThiJ4WONaHjp6DbdXY8ctjSavvHf6X4eGztXvfKTVx+K0WAz8GtgXeECZJ7cGjiRJO6TZbH4QeCE9frno3bludi/+e+pIhqk2jUazj7tw5dPdUNIhrvD0t5XAMcDzLTuSesxpwGToEJ126PB6krFLGI5aYxurkZ8dt+LM54XO1K9c4elTcVo8Efgu8KEyT14VOo8k7axms/l84ENA38+4bKhG+cHkUdWt1ZJon2jju9ZUS1LvOFxYrvD0oTgt9gU+A1wMvClsGknaZZ8DSqDvv/Eviab587FLo8OH1rKmWvLGvaONZ8VpMRI6Vz+x8PSZOC0i4OPAfsDJ3t0iqVdlWdYCTgE2hc7SDSNRi8c1ruQBIzeyrlp84p7Rpt/OXQekBWDh6T/PB54OvKXMk/MDZ5Gk3ZJl2a9p7zLt211bm4sieMjo9TxytGS8GrvfEqauuk/6X0eEztUPLDx9JE6LI4EPAucA7w2bRpIWzGvpo4tFd8S9R27liY3LmGHoHhWsOnbFVx4bOlOvs/D0iblnvZ+nfVjX33pyp6R+kWXZzUBGH96ztT0HD99OMnYJjWh2dLxq/PD4FWe8OHSmXmbh6R8rgIcDLy3zZHXoMJK0wD4I3BY6RLctG9rESWOrov2GJlhTLfno8SvO+ODcrKZ2ktvS+0CcFg8Ffgb8R5knzw2dR5I6odlsPgH4OrAkdJZum6kifjYdc9XsvuwdbTx7XbU4KfNkIOaaFoorPD1u7g6WLwDXA68IHEeSOibLsu8DPwVmQmfptpGo4jGjV3PcyA2sqxb/2R7R5MVHpWfdI3SuXmLh6X3vBY4E/qbMk7Whw0hSh72EARtgnhdFcPzoDTxm9Co2VKNHjjJ79X3Tr98ndK5eYeHpYXFa/AXtS/beVebJj0LnkaROy7LsauD9wIbQWUI5cuT3PLlxGS2G9ppl6MIHrjjzyaEz9QILT4+K0+KewCeB84B/DBxHkrrpHcBAH6p64PA4J46tYnE0PXx7Nfbt41ec8erQmerOoeUeNDeh/y3gscCDyjxZFTaRJHVXs9n8f8CngKWhs4Q0WQ3zw6kjq5tae0XLoo2fWlstfqF3cG2dKzy96WXAk4HXW3YkDagzgFVAK3SQkMaiWZ7YuDw6evgW1laLT9kr2vTjOC0Whc5VRxaeHhOnxf2AdwPfAf41cBxJCiLLsgo4FZgMnSW04ajikaPX8OCR61hfLXrUHtHkpUelZ+0fOlfd+Eirh8Rp0QD+BzgMeECZJzcFjiRJQTWbzY8DzwNc1QDK2X348dS9GGV2YojqERfnf/nb0JnqwhWe3tIEjgdeaNmRJABSBnSb+tbEw2v487FLAZZMMfx/x60482mhM9WFhadHxGnxJ8CbgE+UefJfofNIUh1kWfZ74I0M2D1b27P/0AQnja2K9oimhtZVi752/Ioz3hI6Ux1YeHpAnBbLgM8BV9K+NViS9AefAG4IHaJO9hiaIhlbFR08tJ411ZJ3HLfizC/FaTHQ3/MH+ovvIR8GDgGeW+bJeOgwklQnWZbNAqcwwIcRbk0javFnjcu57/DvWFstfs5e0aZfxWkxcPeQzbPw1FycFs8BTgbeVubJL0PnkaQ6yrLsp8B3cZ7nToYieNjoak4YXc36auzBS6PJK45Mv3FQ6FwhWHhqLE6L5cBHgF8A7wwcR5Lq7pVYeO4iiuCYkd/xp40rmKxGDhph9spjVnz1j0Pn6jYLT03FaTEMfBYYBp5X5snA3Q4sSTsjy7Lraf9w6ADzViwfXsdTxi5hmGrRZDXyP8etOPPZoTN1k4Wnvl5L++qIV5V5cmXgLJLUK94NrA8doq72HdrISYtWRXtFm6J11aJ/P37FGf8UOlO3ePBgDcVpcRzwK+AbwDO9F0WSdlyz2TwR+A8G/J6t7ZmuhvjR1BFc21rG3tHGr6+rFj+r358kuMJTM3FaLAa+CNwKvNiyI0k7rQDOBWZDB6mr0ajF4xtXcMzITayrFj9tz2jT/8VpsWfoXJ1k4amfHPgj4AVlntwaOowk9Zq5e7b+DpgKnaXOhiI4YfQ6Hj5aMl6NPWBJNHXV0elZh4fO1SkWnhqJ0+JJwKuAD5Z58t3QeSSpV2VZdhnwMWBj6Cx1d9+RW3lC43Kmq+H9hqgufcCKrzwqdKZOsPDURJwW+wGfAS6ifTeMJGn3/CPepr5DDhleTzK2itFotrGhavz4+BVnnBI600JzaLkG4rSIgK8CTwFOKPPkN4EjSVJfaDabz6N9npkDzDtgYzXCDyaPqm6plkb7RBvft6Za8rp+mSV1haceXgA8DXiLZUeSFtQXad9D2BfftDttcTTDk8cujeLhNayplrxm72jjt+O0GA2dayFYeAKL0+JI4IPAfwPvDRxHkvpKlmUt4FRgU+gsvWIkqnjs6FU8cOQG1lWLn7RntOnCuUuse5qPtAKK02IE+AlwX+DYMk+uDRxJkvpSs9n8PPAsYCx0ll5y+cy+/Hz6cMaYWVsRnXBJ/rTLQ2faVa7whPUW4GHASyw7ktRRrwP6+mC9Tjh65Dae1LiMWYaWtYguOnbFV/4sdKZdZeEJJE6LhwH/AHyhzJP/DJ1HkvpZlmW/A07De7Z22j2HxzlxbBVj0czIeNX43vErznhF6Ey7wsITQJwWewBfAK4HevIPjiT1oNOBW0KH6EV7D01y4tiqaP+hCdZUSz503IozPjq3w7hnWHjCeB9wBO1b0NeFDiNJgyDLsmnghcCG0Fl60aJolic1LouOHL6VtdWSF+8VbfzvOC16ZibKwtNlcVo8jfa/cP9c5smPQ+eRpEGSZdkPgB8B06Gz9KLhqOLRoyUPGrme9dXiP9kjmrzkqPSs/ULn2hEWni6K0+Ig4JPA/wFZ4DiSNKhehgPMuyyK4IGjN/Ino1eyoRqNR2lddb/0a8eEznV3LDxdMves89PAEuDkMk+81E6SAsiyrKR97pmPtnbDESNr+PPGpVSw5wzDv3ngijNPCp1peyw83fNy4EnA68s8uSR0GEkacP+EO7Z22wHDE5w4tool0dTQ+mrRWcevOOONoTNtiwcPdkGcFn8E/C/t05STfrmXRJJ6WbPZfAbwWbxna7dNVsOcM3VEdUNr72hZtPFza6vFLyjzpBU61+Zc4emwOC0atO9yGQdOsexIUm18FbgQqNU35l40Fs3yhMYV0b2Hb2Fttfhv9oo2/TxOi8Whc23OwtN5bweOA04t8+Sm0GEkSW1ZllW0d81Ohs7SD4aiikeMXsMfj1zL+mrsoUujycuPTL9xYOhc8yw8HRSnxWOBNwAfL/PkrMBxJElbyLLsQtqPtbxcdAFEEdx/9GYe37iSTdXIIaPMXnXMiq8eHzoXWHg6Zu5m2c8BVwCvDRxHkrRtbwbcObuADh9ey1PGLiWiWjxZjZx73IoznxU6k4Wnc04HDgaeW+aJOwEkqaayLFsDvB53bS2o/YY2cNKiVdGe0WS0rlr05Qet+PLJIfNYeDogTou/Bv4aaJZ58qvQeSRJd+tTwLWhQ/SbpdE0Txm7JKqACJ4aMouFZ4HFaXE48K/Az4GVgeNIknZAlmWzwKl4GOGCm2EYiKiILg2Zw8KzgOK0GKY9/DZM+2JQjy6XpB6RZdnPgW/hPM+CmqgaAGyqRi4ImcPCs7BeB/wJ8MoyT64KHUaStNP+Hu/ZWlDjc4VnAw1XePpBnBbHA+8AvkJ7lUeS1GOyLLuB9t/lDjAvkIlWY/6Xq0PmsPAsgLnTJL8I3Aq82NOUJamnvQdYGzpEvxivGowwOwusC5nDwrMw3gXcD/jbMk9uCx1GkrTrsiybAl6EqzwLYqJq0Ihm14deDLDw7KY4Lf4ceAXw/jJPvh86jyRp92VZ9m3gV8Bs6Cy9brxqVKPM3hw6h4VnN8RpsT/tsxsuAlYEjiNJWlh/hzu2dttE1WCY6rrQOSw8uyhOiwj4OHAP4OQyT7yHRZL6SJZlV9A+V21j6Cy9aqYaYpLRKKK6InQWC8+uOwV4GvDmMk9+EzqMJKkj3ooXi+6yiWoUgBmGLg4cxcKzK+K0OAr4APBD4H2B40iSOiTLsnHglTjAvEvGq7H590EPHQQLz06L02IU+AIwTXtXVitwJElSZ30JuBzwyJGdNH/K8ixDZdgkFp5d8RbgobTP2wk+hCVJ6qwsyyraYww+2tpJ7cJTAVwfOIqFZ2fEafFw4DTg82WefDl0HklSd2RZdh7wZWAydJZeMl41GGNmU5kn06GzWHh2UJwWewKfB66j/TxXkjRYXk97nEE7aKJqMBq1anEgr4Vnx70POIL2LehBj8eWJHVflmW3Am/GAeYdNl41qhFmbwydAyw8OyROi78ETgXyMk9+EjqPJCmYjwDBTw3uBVUFE1UjGqYqQ2cBC8/ditPiYOCTwP/SPo9BkjSgsiybof0D8IbQWepuEyO0GKIiujR0FrDwbFecFkPAp4HFwHPLPPGIcUkacFmWnUP7HLaZwFFqbXxuS/qmaiT4GTxg4bk7LweeCLyuzJNLQoeRJNXGy3GAebvmz+DZQMMVnjqL0+IY4F3At4CPBo4jSaqRLMtWA/+Cj7a2abw1Nv/L1SFzzLPwbEWcFmPAF4HbgVPKPPF0TUnSlnJgPHSIumrfkt5qAWtCZwELz7a8HXggcGqZJ07jS5LuIsuyjcBLcJv6Vs0dOri+LosGFp4txGnxONqHS32szJNvhM4jSaq1rwO/AbxXcQsTVaMaiWZ/FzrHPAvPZuK02Af4HHAF8LrAcSRJNTd3z9YL8cqJuxivGoxQ1ebOSQvPnZ0OHAScXOaJS5SSpLuVZdkq4FN4uegdZqqISUajiOrK0FnmWXjmxGlxMvAc4K1lnvw6dB5JUk95C67y3GF+S/oMQxcHjnIHCw8Qp8XhwL8CPwNWBo4jSeoxWZatoz0K4a4t/lB4JqpGLQ4dBAsPcVoM057biWhfDDobOJIkqTd9mvaZM7XYlRTS+B0rPMNXBY5yh4EvPLR3ZD0GeGWZJ1eHDiNJ6k1ZlrWAU3CWh4lqjLned33gKHcY6MITp8WDaJ+5cybtVR5JknZZlmW/BM4CBvruxYmqwRizm+p0B+XAFp44LZbQPk35FuAldTkYSZLU817NgF8sOl41GI1mfx86x+YGtvDQvifrvsDzyzy5LXQYSVJ/yLLsJuCtDPAJzONVoxqhdWPoHJsbyMITp8VTaN90+74yT74fOo8kqe98gJrcIdVtVQUTVSMaolWGzrK5gSs8cVrsT/uAqAuBNweOI0nqQ1mWTQEvYgBvU9/ECC2GgOiy0Fk2N1CFJ06LCPgEsA/t05QHfpJektQZWZZ9B/g5AzbPM38Gz6Zq5LeBo9zJQBUe2ved/AWwosyTWv1GSJL60ouB6dAhumn+DJ4NNC4NHOVOBqbwxGlxNPB+4Adz7yVJ6qgsy64CPgRsDJ2lW+ZXeGgfwlgbA1F44rQYBb5A+56T55d50gocSZI0ON7GIBWeVoNhWi3AbekBnAacALy4zJPaXFUvSep/WZZN0N4ZPBDb1MerBmPM3F638+36vvDEafFw2oXnc2WenBE6jyRpIP0ncCnQ908YJqqxaiRq/S50ji31deGJ02JP2o+yVgOvDBxHkjSgsiyraN+zNRk6S6eNVw1GaNXuaUpfFx7aBz/FtG9BXx84iyRpgGVZ9hvgS/Tx5aIzVcQmRqOI6srQWbbUt4UnTotnAC8AVpZ58tPQeSRJAt5EH5/Ls2Fuh9YsQxcHjnIXfVl44rQ4GPg4cC7QDBxHkiQAsiy7jXbp6csB5vkzeMarRu3Ouuu7whOnxRDwGWAx8NwyTwbqwCdJUu19DKjVxZoLZf4MnhmGy7BJ7qrvCg/wCuAJwGvLPKnVKY+SJGVZNgucSh/es7XZoYMOLXdSnBb3B94FFLQbtCRJtZNl2Y+B79Nn1708feUAACAASURBVE6MVw0azEyWeVK73Wh9U3jitBgDvgisB06t24FHkiRt4RX02QDzRNWgEc3W6oTleX1TeIB3AMcCp5R5cnPoMJIkbU+WZdcBK+mjAebxaqwaoXVT6Bxb0xeFJ06LxwOvAz5a5sk3Q+eRJGkH/Qtwe+gQC6GqYKJqREO0rgmdZWt6vvDEabEP8FngcuD1geNIkrTDsizbBLyYPljlmWSEWYaA6LLQWbampwtPnBYR8BHgnsDJZZ70/B8YSdLA+QZwHjAbOsjumD+DZ5Lh2p3BAz1eeICTgb8C3lrmybmhw0iStLPm7tl6ET2+Y2t+S/qGqnFJ4Chb1bOFJ06LGDgd+BmQh00jSdKuy7LsEuATwMbQWXbV/ApPRbQ6cJSt6snCE6fFMPA5IKJ9MWhPLwNKkgScRg/fpj5RNRii1QJuDZ1la3qy8ABvAB4NvKLMk6tDh5EkaXdlWbYeeDU9OsA80Wowxsx4Xc/B67nCE6fFg4G3A2cAnw8cR5KkhfR54GqglqVhe8arsWo0av0udI5t6anCE6fFEtqnKd8MvKSuLVKSpF2RZVkLOAXYFDrLzpqoGgzTuj50jm3pqcJD+4Cm+wB/W+ZJLY+uliRpd2RZ9mvga/TQPM9sFbGR0WiI6srQWbalZwpPnBZPAV4GvLfMkx+EziNJUge9lh66Z2t+S/osQ6sCR9mmnig8cVocAHwauAB4S+A4kiR1VJZlNwP/SI8MMM8Xnomq8ZvAUbap9oVn7jTlTwLLaJ+m3HPPNSVJ2gUfAm4LHWJHzJ/BM81wbXdO177w0D598iQgLfPkgtBhJEnqhizLpoEXAhtCZ7k78ys8wHUhc2xPrQtPnBb3Bt4HnA18IHAcSZK6Ksuy7wM/oebzPBNVgwYzk3V+ClPbwhOnxSjwBdpT6s8v86QVOJIkSSG8lJrfszVeNWhEs2tC59ie2hYe4B+APwb+rsyT2u7rlySpk7Isuxp4PzV+tDVRNaoRWjeFzrE9tSw8cVo8kvZurM+WeXJm6DySJAX2DmpaeKoKxqtGNETrmtBZtqd2hSdOi71oH629GnhV4DiSJAWXZdkG2mfR1W6b+iTDzDIMRJeFzrI9tSs8tIeTDweeW+bJ+tBhJEmqiTOBi4FazbTO79CaZLjWO6lrVXjitHgm8HzgnWWe/CxwHEmSaiPLsgo4lZpdOTFejQGwoWrU9pRlqFHhidPiEOBjwLnA2wLHkSSpdrIsu4D2DubabP+eX+GpiFYHjrJdtSg8cVoMAZ8BFtE+TbnW2+8kSQoopUbb1CeqBkO0KuCW0Fm2pxaFh/Zw8p8Bry3zpNZDT5IkhZRl2e+BN1CTAebxqsEYM+NlnlShs2xP8MITp8UDgBz4BvDxwHEkSeoFnwRqcUbdRKvBaNT6Xegcdydo4Zk7TfmLwDrghXVvh5Ik1UGWZbPAKdTgbJ7xqlEN06pF+dqe0Cs8hwMPAP6pzJPat0NJkuoiy7KfAd8h4DzPbBWxkdFoiOqqUBl2VOjCM38M9ZKgKSRJ6k2vImDh2VCNAhGzDNV6SzoELjxlnowDvweWh8whSVIvyrLseuCdBBpgnt+SPlGN/jbE6++M0Cs80L5CwsIjSdKueTcQ5GaC8bnCM82Ij7R2gIVHkqRdlGXZJPAiAqzyTMydsgxc2+3X3lkWHkmSelyWZQXtmwpmu/m641WDBjNTZZ5s7Obr7oq6FJ6947TYO3QQSZJ62N8BU918wYmqQSOaXdvN19xVdSk8AIcFTSFJUg/Lsuwy2ndSdm21ZbxqVCO0buzW6+2OOhUeH2tJkrR7/pEuXSxaVTBRNaIhWrW+NHSehUeSpD6RZdntwN/ThQHmKYaZYRjg8k6/1kKoQ+G5CZjBwiNJ0kL4AnAl0NHrmubP4Jli5IJOvs5CCV54yjyZBa7DwiNJ0m7Lsqyifc9WRx9tjd9x6GDj4k6+zkIJXnjmuDVdkqQFkmXZ/wJnApOdeo35FZ6KyBmenWDhkSRpYb2O9shIR4xXYwzRqoCeuPy7ToXn0DgthkMHkSSpH2RZdgtwGh0aYJ6oGowxM17mSasTn3+h1anwDAMHhQ4iSVIfOR24pROfeLxqMBq1OvK5O6FOhQd8rCVJ0oLJsmwaOBXYsNCfe6LVqIZpXb/Qn7dT6lJ4rpl7b+GRJGkBZVn2Q+AcYHqhPmeritjAaDREVftb0ufVpfDM37Jq4ZEkaeG9jAUcYJ6oRoGIWaJVC/U5O60WhafMk9uBNVh4JElacFmWXQO8hwV6tDW/JX1D1eiJQwehJoVnjlvTJUnqnHeyQDu2Njtl+cqF+HzdYOGRJGkAZFm2EXgpC1B65k9Z5g8jKbVn4ZEkaXB8FbgA2K2zcyaqBqPMTJd5suC7vzqlboVnnzgt9gwdRJKkfjR3z9YL2c0rJ8arMRrR7JqFSdUddSs8AIcFTSFJUh/Lsuwi4LPsxuWiE1WjGqV108Kl6rw6Fh4fa0mS1FkrgKld+cCqgvGqEQ3R6olLQ+dZeCRJGjBZlq0FXs8uDDBPMcwMwwCXL3SuTqpT4bkRmMXCI0lSN3yK9i6ramc+aH5L+jTDF3YgU8fUpvCUeTILXAccHjqLJEn9LsuyWeAUdnKWZ77wjFdjF3UgVsfUpvDMcWu6JEldkmXZL4BvshPzPPNn8FREzvDsBguPJEnd9ffsxD1bE1WDiKoCbu5cpIVXx8JzaJwWw6GDSJI0CLIsuxF4Ozs4wDxRNVjEzESZJ7t1eGG31bHwjAD3DB1EkqQB8l5g7Y78D8erBqPR7K0dzrPg6lh4wMdakiR1TZZlU8CL2IHb1MersWqY1vWdT7WwLDySJIksy74N/A/tI2K2qlXBxmo0GqK6unvJFoaFR5IkzXsx29mxtaFqUBHRIlrVxUwLolaFp8yT9cA6LDySJHVdlmVXAKcDG7f2z+fP4NlQNX7bxVgLolaFZ45b0yVJCqfJNg4jnD+DZ5KRK7sZaCFYeCRJ0h2yLBsHXsFWtqnPr/DQvpKip1h4JEnSlv6d9uWgd7pna6JqMMrsdJkn42Fi7bq6Fp57xGmxR+ggkiQNoizLKrZyz9Z41aARzawLk2r31LXwABwWNIUkSQMsy7LzgP8EJuf/u/GqUY3Quilcql1X58LjYy1JksJ6AzA9/x8mqkY0TNVTl4bOs/BIkqStyrLsVmAFMDFVDTPNCFBdETjWLqlj4bkBaGHhkSSpDj4K3DxRjQIww/AFYePsmtoVnjJPZoDrsfBIkhRclmUzwKnj1dgkwO3V2IWBI+2S2hWeOW5NlySpJrIsO+e21pLLACoiZ3gWkIVHkqQauXjmgHOgmgHcpbWAVgOHxWlR13ySJA2USUb3hejaMk9aobPsiroWitXAKHBg6CCSJAloP3npycdZUN/Cc83cex9rSZJUDxaeDvAsHkmSaiJOixHgECw8C87CI0lSfRwEDGPhWVhlnqwD1mPhkSSpDua/H1t4OsCt6ZIk1YOFp4MsPJIk1cP89+Nrg6bYDRYeSZJ0d5YDa8o8uT10kF1V98KzX5wWS0IHkSRpwPX0lnSof+EBOCxoCkmSZOHpILemS5JUDxaeDrLwSJIUWJwWewHLsPB0zA1ACwuPJEkhzY+WWHg6ocyTadqlx8IjSVI4PX8GD9S48Mxxa7okSWFZeLpgNXB46BCSJA2w5cAscGPoILujFwrPYXFa1D2nJEn9ajlwXZkns6GD7I66F4nVQAM4IHQQSZIGVM9vSYfeKDzgHI8kSaFYeLrAwiNJUiBxWgwDh2Lh6TgLjyRJ4dwTGMHC03FrgXEsPJIkhdAXW9Kh5oWnzJMKz+KRJCkUC08XWXgkSQrDwtNFFh5JksJYDqwr82R96CC7q1cKz/5xWiwOHUSSpAGzHLgmdIiF0CuFB/5wW6skSeqOvjiDB3qr8PhYS5Kk7rLwdJGFR5KkLovTYg/gHlh4uuZ6oMLCI0lSN82Pklh4uqHMkynaV9JbeCRJ6p6+2ZIOPVB45rg1XZKk7rLwBGDhkSSpu5YDs7SfsvS8nio8cVpEoYNIkjQgDgeuL/NkJnSQhdArhecaYAzYP3QQSZIGRN9sSYfeKTxuTZckqbssPAFYeCRJ6pI4LYaBQ7HwdJ2FR5Kk7jkQGMXC03VrgAksPJIkdUNfbUmHHik8ZZ5UuDVdkqRusfAEZOGRJKk7LDwBWXgkSeqO5cD6Mk/WhQ6yUHqt8BwYp8Wi0EEkSepzfbUlHXqv8EB7m5wkSeocC09Abk2XJKk7LDwBWXgkSeqwOC2WAvti4QnmeqDCwiNJUicdNvfewhNCmSeTwE1YeCRJ6qS+25IOPVR45rg1XZKkzrLw1ICFR5KkzloOtIAbQgdZSD1ZeOK0iEIHkSSpTy0HbijzZDp0kIXUi4VnMbBf6CCSJPWpvtuSDr1ZeMDHWpIkdYqFpwYsPJIkdUicFkO0t6VbeAKz8EiS1DkHAA0sPMHdBmzEwiNJUif05ZZ06LHCU+ZJhVvTJUnqlPnvr9cETdEBPVV45lh4JEnqDFd4asTCI0lSZywHbgfWhQ6y0Hq18NwzToux0EEkSeozy4HVcyMkfaVXCw/AoUFTSJLUf/ryDB7o7cLjYy1JkhaWhadGLDySJC2wOC0WA/tj4amN6+beW3gkSVo4h829t/DUQZknm4CbsfBIkrSQ+nZLOvRg4Znj1nRJkhaWhaeGrsHCI0nSQloOVMD1oYN0Qq8WntXA8jgtotBBJEnqE4cDN5R5Mh06SCf0cuFZAtwjdBBJkvpE325Jh94uPOBjLUmSFoqFp4YsPJIkLZA4LYZob0u38NSMhUeSpIWzPzCGhad2bgU2YeGRJGkh9PWWdOjRwjN3i6tn8UiStDAsPDVm4ZEkaWFYeGrMwiNJ0sJYDkwAa0IH6ZReLzwHxWnRCB1EkqQetxxYPTcy0pd6vfBEwCGhg0iS1OP6+gwe6P3CAz7WkiRpd1l4aszCI0nSborTYjFwABae2rpu7r2FR5KkXXfo3HsLTx2VebIR+B0WHkmSdkffb0mHHi48c9yaLknS7rHw9AALjyRJu2c5UAHXhw7SSX1ReOK0iEIHkSSpRy0HbirzZDJ0kE7qh8KzB7AsdBBJknpU329Jh/4oPOBjLUmSdtVy4JrQITqtXwrP4UFTSJLUg+ZGQlzh6QGu8EiStOv2AxZh4am9W4BJLDySJO2KgdiSDj1eeMo8aQHXYuGRJGlXWHh6iGfxSJK0ayw8PcTCI0nSrlkObAB+HzpIp/VL4Tk4TovR0EEkSeoxy4HVZZ5UoYN0Wr8Ungg4JHQQSZJ6zEBsSYf+KTzgYy1JknaWhaeHWHgkSdpJcVqMAffEwtMzrp17b+GRJGnHHTr33sLTC8o82QDcioVHkqSdMTBb0qEPCs+ca7DwSJK0Myw8PcizeCRJ2jnz3zevC5qiS/qp8Bw+d+urJEm6e4cDN5V5Mhk6SDf0U+HZA9g7dBBJknrEwGxJh/4qPOBjLUmSdpSFpwfN/4YdHjSFJEk9YG4ExMLTg+a/jrPitHhg0CSSJNXfvsBiLDw95/+AK+Z+fV6cFh+P0+LAkIEkSaqxgdqSDn1SeMo8mSrz5GjgHsAHgBcAl8dp8aY4LRaFTSdJUu1YeHpZmSdryjx5DXAMcA6QA6vitHimW9YlSbqDhacflHlyWZknTwWeANwOnAH8KE6LB4dNJklSLSwHNtG+mmkg9GXhmVfmydnA8cCLgfsC58Zp8Zk4LQ4Om0ySpKCWA6vLPKlCB+mWvi48AGWezJZ58nHgaOBdwHNoz/f8Q5wWS8KmkyQpiIHakg4DUHjmlXmyrsyTNwH3A74NvA24NE6Lv3a+R5I0YCw8/a7Mk6vKPHkm8FjgFuCLwC/itHhY0GCSJHVBnBZjwEFYeAZDmSc/Ah5Cewv74bRLz5fitPB6CklSPztk7r2FZ1CUedIq8+QztOd7/gn4S9qPud4ep8UeQcNJktQZA7clHQa88Mwr82S8zJPTgPsAXwNOAy6L0+L5cVr4/5EkqZ9YeAZdmSeryzz5a+ARtP8gfBr4VZwWjw6bTJKkBTNfeK4NmqLLLDxbUebJL2iXnucCBwI/jtPijDgt7hU2mSRJu205cHOZJ5tCB+kmC882zM33fJH2Y64MeApwSZwWeZwWe4VNJ0nSLhu4Lelg4blbZZ5sKPPkbcC9gf8A3kT74MIXxWkxHDadJEk7zcKjbSvz5PoyT/4WOAG4HPg48H9xWjw+bDJJknbM3EG7Fh7dvTJPfg08Gvh/wN7AD+K0+K84LY4Om0ySpLu1D7AUC492RJknVZknZ9C+kHQF8Hjgojgt3hunxT5h00mStE0DuSUdLDy7pcyTTWWe5LQPLvws8Gra8z0vj9NiJGw6SZLuwsKjXVfmyU1lnrwIeBDwW+DDwG/itHhy2GSSJN2JhUe7r8yT84E/BZ4GjAHfjtPiW3Fa3C9sMkmSgHbhmaR9efZAiaqqCp2hL83dRvsK4B+APYCPAG8t8+S2oMEkSQMrTov/AB5U5sm9Q2fpNld4OqTMk8kyT95De77nY8DLgCvitHhNnBaNsOkkSQNqILekg4Wn48o8uaXMk5cDxwK/At4LXBinxUlz5yFIktQtFh51VpknFwFPBhJgFjgL+H6cFscGDSZJGghxWowCB2PhUafNnd/zLdqrPa8CjgfOi9PiY3FaHBA2nSSpzx0CRFh41C1lnkyXefIh2vM9HwJOoT3f88a5YWdJkhbawG5JBwtPUGWe/L7Mk1cD9wd+BPwzsCpOi2c43yNJWmAWHoVV5smlZZ6cBDwRmADOBM6J0+LBYZNJkvrIfOG5NmiKQCw8NVLmyfdpz/W8BLgf8Os4LT4dp8XBYZNJkvrAcuCWMk82hg4SgoWnZso8mSnz5GO053veDZwMXBanxWlxWiwOm06S1MMOZ0AfZ4GFp7bKPFlX5skbaa/0fBd4O3BpnBbPcb5HkrQLBvYMHrDw1F6ZJ1eWefIM4LHArcCXgJ/HafGwoMEkST1j7gdlC4/qr8yTHwF/THsLewz8Ik6LL8ZpcVjQYJKkXrCM9r2OFh7VX5kns2WefBq4N/BPwDNoP+Z6W5wWe4RNJ0mqsYHekg4Wnp5U5sntZZ6cBtyH9hUV/0C7+PxtnBb+nkqStmThCR1Au67Mk2vKPHk28EjgOuAzwC/jtHhU0GCSpLqx8IQOoN1X5snPgYcDzwMOAn4Sp8WX47S4V9hkkqSaWA5MAb8LHSSUqKqq0Bm0gOK0WAq8HngjMAy8D1hZ5sn6oMEkScHEafHvwB+XeXJU6CyhuMLTZ8o8mSjzpEl7vufLQApcHqfFC+O0GA6bTpIUyEBvSQcLT98q8+S6Mk/+BngocAXwCeB/47R4fNhkkqQALDyhA6izyjz5FfAo4K9on8Pwgzgtvh6nxdFhk0mSuiFOi1HgYCw86ndlnlRlnnyZ9jUVbwb+FLgoTov3xGmxLGw6SVKHHUz7+/01oYOEZOEZIGWebCzzZCXti0k/B7wGuCJOi5fFaTESNp0kqUMGfks6WHgGUpknN5V58kLgwcAFwOnAb+K0eFLYZJKkDrDwYOEZaGWenAc8HvhLYAz4TpwW34rT4n5hk0mSFtB84bk2aIrAPIdHAMRpMQa8kvY1FUuBjwBvLfPktqDBJEm7JU6LjwDPLPNk/9BZQnKFRwCUeTJZ5sm7gaOAjwMvoz3f8+o4LRph00mSdsPAb0kHC4+2UObJLWWevAx4IPBr2ic1XxCnxYlxWkRh00mSdoGFBwuPtqHMkwuBJwEnAhXwDeB7cVo8IGgwSdLOsvBg4dF2zJ3fUwAPAP6e9q6u8+O0+GicFgeETSdJujtxWuwN7IWFx8Kju1fmyXSZJx+kPd/zYeBU2vdzvWFu2FmSVE9uSZ9j4dEOK/Pk92We/D3tFZ+fAO8CLo7T4unO90hSLVl45lh4tNPKPLmkzJMTac/4bAS+Avx3nBYPCptMkrQFC88cC492WZkn3wOOA14KHAOcG6fFp+K0OChsMknSnOXANHBz6CChefCgFsTcJaRvoT3cPAWsBN5b5snGoMEkaYDFafFF4GFlnhwZOktorvBoQZR5srbMkzcAfwR8D3gHcEmcFs92vkeSgnFL+hwLjxZUmSdXlHnydOBxwO+Bfwd+GqfFCWGTSdJAsvDMsfCoI8o8OQd4CPBC4Ejgl3FafD5Oi0ODBpOkARGnxQhwCBYewMKjDirzZLbMk38DjgbeCTwLuCxOi2acFkvDppOkvncQMIyFB7DwqAvKPLm9zJO3APcFzgL+kXbxeV6cFv4ZlKTOcEv6Zvxmo64p86Qs8+TZwKOA64HP0X7U9ciwySSpL1l4NmPhUdeVefIz4GHA39Becv1pnBb/GadFHDSYJPWX+cJzbdAUNeE5PApqbpbnDcAbaRfw9wIryzy5PWgwSepxcVqcDjy7zJN9Q2epA1d4FFSZJxNlnrwVuDdwBrCC9sWkp8ZpMRw0nCT1tsPxcdYdLDyqhTJPrivz5HnAQ4GrgE/SvqricWGTSVLP8gyezVh4VCtlnvwKeCTwbOAewA/jtPhanBZHhU0mST3HwrMZZ3hUW3FaLAZeA7wZaAAfBN5R5snaoMEkqebitNgbWAu8scyTfwmdpw5c4VFtlXmyscyTd9I+uPDzwGtpz/e8dO4EUUnS1h02994VnjkWHtVemSc3lnlyKvBg4CLgX4Hz47R4YthkklRbnsGzBQuPekaZJ+fRvpT0GcBi4LtxWnwzTov7hk0mSbVj4dmChUc9pcyTqsyTrwJ/RPv8nkcDF8Rp8cE4LTxrQpLalgMzwE2hg9SFQ8vqaXFaHAA0gb8D1gFvBT5S5sl0yFySFFKcFl8AHlHmyRGhs9SFKzzqaWWe/K7Mk5cCxwH/C3yA9orPiXFaRGHTSVIwbknfgoVHfaHMkwuAJwInARHwDdozPvcPGkySwrDwbMHCo74xN9/zTeD+wKuBhwC/idPiI3Fa7B82nSR1x9y1PIdi4bkTC4/6Tpkn02WefID2+T2nAy8CrojT4vVxWoyFTSdJnROnxX7AacAw3pJ+Jw4tq+/FaXE/4N3AU4Arae/u+nqZJ/7hl9QX4rR4EPBK4DnAGHA28Fdlnvw+aLAasfBoYMRp8STgvbS3tP8IeM3c2T6S1HPitBilfS7ZK4FHABPA54APl3lycchsdWTh0UCZu5LiRcDbaV9O+mngtDJPbgwaTJJ2UJwWBwIvBl4CHER75fp04NPeNbhtFh4NpDgtltF+zv0qYBJYCbyvzJONQYNJ0jbEaXEC7dWcvwJGge8CHwK+XeZJK2S2XmDh0UCL0+Jo4F3A04BrgDcBX3a+R1IdzG20eBbtonMCcDvwGeD0Mk8uDRit51h4JCBOi8cB7wMeCPyc9nzPr8KmkjSo4rQ4mPYjqxcDBwCXAh8GPlfmyfqQ2XqVhUeaM3d2xQuAdwAHAl8AVpR5cl3QYJIGwtzp8A+n/aj9GbS3ln+L9mOr7/vYavdYeKQtxGmxF7ACeA3Qov3I61/KPJkIGkxSX4rTYhHwbNqPrR5E+17AT9F+bHVlyGz9xMIjbUOcFvcC/pn28/PraZegL/pTlqSFEKfFYcBLae8c3Q+4mPZqzhfKPBkPma0fWXikuxGnxaNoz/c8BPg18OoyT34eNpWkXjT32OoxtFdznkb77r+zaBed/3bDROdYeKQdEKfFEPBc2tvXDwb+E3hTmSfXBA0mqSfEabEEOBl4BXAssAb4JPCvZZ6UAaMNDAuPtBPitFgKvJH29RRDwHuAvMyT24MGk1RLcVrEwMuBU4F9gN/SXs35/+3de7BeVXnH8e8QAoTJcDEi0iIuKFAuRVqpA7SFTmGkhl2sglKsDRflosE4lJurFIUGkM0IlgKBBAGF0tAMKQyUVbHFESuOUAsoFrQXOttCkQiDUm7lEto/nl1ry2ggec9Z77vP9zPDP5nhnGcSOPm963nWepZ3bfNsxdJmHAOPtBb63vu5xCe2R4E/BK7u2mZ11cIkVde3rfYj2lYHAf8F3EgEna/YtqrDwCOtg5TLnsCFwF7AN4j3e26vWpSkKlIuc4EFRNtqF+Bx4HJgadc2bi6vzMAjraP+09zvENfX30R8kjvF66TSzJBy2Z5oWx0FbArcA1wErOja5j9r1qb/ZeCRRiTlMgc4kbi+Ppv4gXd21zZPVi1M0sj1FxneTjwSOB9YDawk2lZfs201fgw80oj1T8KfDRxJHGl/Ariia5uXatYlad31D5MeQbStdgRWAcuAZV3bPFKzNv10Bh5piqRc3kq837Mv8A/AiV3b/E3dqiStjZTLzxMh50hgLnAXcZqzsmub5yuWplfJwCNNoX6+52DgU8C2wC3AyW45lsZf37Y6kLhtdQDwIvEG18UuF548Bh5pGqRcNiR6/R8H5gBLgMVd2zxRtTBJr5By2YwYQD4e+DngEWApcHnXNqtq1qa1Z+CRplHKZUtgMXA0sSDwDOLK6otVC5NEymVXom11OLAx8FWibXWD/49OPgOPVEHKZTdivmd/4DvAycBfebNDml4pl1nE44CLiMcCnweWA5d0bXNPzdo0WgYeqZJ+vue3gPOJ2x5/TQw231+1MGkGSLm8jjhpXQi8GXgIuAz4TNc2j9esTVPDwCNVlnLZgPihewawCXHF9YyubR6rWpg0QCmX3YnTnPcDGwFfJtpWN/l0xLAZeKQxkXKZB5wJfBh4GjiLuA3yQs26pEmXclkfeBcRdPYFngOuJdpW99WsTdPHwCONmZTLzsQW9vnAg8R8z03O90ivTcplC+AY4kPE1kBH3JC8yhuSM4+BRxpTKZd3EMFnF+B2YjHpN6oWJU2AlMsexGnOYcCGwBeJttUtXdusrlmb6jHwSGOsP4o/lrjK/jrgKuD0rm0erVqYNGZSLrOBQ4j3rvYGngGuIdpWD9SsTePBwCNNgJTL5sDpxKfWh2FO0gAACTNJREFU54FPAn/sJmbNdCmXNxIfCj4EbEW0gS8BPte1zQ9r1qbxYuCRJkjKZQdiTcVvE/MIHwOud75HM03KZU/iA8ChwGzgC0Tb6vNd27xcszaNJwOPNIFSLvsRDxe+hXgN9oSubf6+blXS1OpXtBxKBJ23AU8BnwOWuJ9Oa2LgkSZU/0LsUcA5wBuIeYXTurb596qFSSOWcvkZomV1HPHf+j8Sbauru7Z5qmZtmhwGHmnCpVw2AU4Dfh94CTgPOL9rm2erFiatg/4l8l8hTnMOAWYBhWhb3WbbSq+VgUcaiJTLtkTYeS/wMPAHwHL/YtAkSblsBLyPCDq/RCzZvRK4tGubB2vWpslm4JEGJuWyDzHfswfwd8R8z9fqViX9dCmXbYgHAo8B5gEPEKc513Zt83TN2jQMBh5pgFIu6wELgHOJq7p/DuSubb5btTDpx/Rtq32J05x39798MxF0vuTtQ42SgUcasJTLXOBU4JT+ly4AWj8xq6aUy8bE8s5FwG7AE8AVwGVd23QVS9OAGXikGaBvF5wL/C7wKDHkfLXzPZpO/ZzZQuCDwObAfcBFwHUO2WuqGXikGSTlshcx37MXcC+xn+vLdavSkPVtq/2IlQ8HAS8DNxJtq6/YttJ0MfBIM0z/F9BhxI2uNwE3AKd6A0aj1LdTFwAfIRbgPg5cDizt2uahmrVpZjLwSDNUP0dxIpCJp/n/BDina5snqxamiZZy2R44nngUc1PgbuI0Z4W731STgUea4fpXbM8BjgQeAz4OXNm1zUs169Lk6G8FHkAMIc8HVgMrifmcO21baRwYeCQBkHLZg5jv2Qf4FnBi1za31a1K46x/5ftI4kRnR2AVsAxY1rXNIxVLk17BwCPpR/r5noOJjezbArcAJ7uYUT8u5bITMZtzBDAXuItoW13ftc0LNWuTfhIDj6RX6J/3/yhwOjCHWNS4uGubH1QtTNX0basDibbVAcALwArg4q5tvl6zNunVMPBI+olSLlsCi4GjgR8CZxK3bF6sWZemT8plM+ADRNtqO+AR4DLgM13brKpZm/RaGHgkrVHKZXfg08R7Kt8h5ns+X7cqTaWUy67Eac4CYGPgq0Tb6gYDryaRgUfSq9LP9xwEnA/sAHwBOKlrm/urFqaRSbnMIv6MFxHh9nlgOdG2urdmbdK6MvBIek1SLhsQ7Y0ziIHVZcAZXds8XrUwrbWUyzxi3cNC4M3AQ8ClwBX+uWooDDyS1krK5fXETM+HgKeJWZ9LvKUzOfpW5SJikedGwO1E2+pm32HS0Bh4JK2TlMsuxBb2dwD/ApxM/IXpD5cxlHJZH3g3EXT2AZ4DriXC6n01a5OmkoFH0kikXOYTwWdn4EvEYtJv1q1K/yPlsgVwDPBhYGugA5YAV3Vt80TF0qRpYeCRNDIpl9nAsUR7a3PgSuB0ry/X07+gvYhYGLshcBvRtipd26yuWZs0nQw8kkYu5bI5sZNrEdEy+SRwocsjp0c/WH4I8fu/N/AMcDXRtvp2zdqkWgw8kqZMymVHYk3FO4kWyqnASud7pkbK5Y3Acf0/WxEzVUuAz3Zt82TN2qTaDDySplzKZX9iMeluwB3ACV3b3F23quFIuexJrAJ5LzAbuJVoW93atc3LNWuTxoWBR9K06B+1+yBwNrAF0WI5za3aayflsiFwKNG2ehvwFPBZYEnXNv9UszZpHBl4JE2rlMumwGnACcBLQAtc0LXNs1ULmxApl58l3j46FngDserjEuCarm2eqlmbNM4MPJKqSLlsB5wHvAd4GMjAdbZgXqlf6/GrxGnOwcAsoAAXAbc5EyWtmYFHUlUpl32J+Z63AncR8z131q1qPKRc5hDXyT8K/CLwJHHV/9KubR6sWZs0aQw8kqpLuawHHE5cX98KuA7IXdv8W9XCKkm5bEM8EHgMMA+4nxhCvrZrm2dq1iZNKgOPpLGRcpkLfIxYTwGxmf28rm2erlfV9OjbVr9OtK3e1f/yTUTQud22lbRuDDySxk5/wtEC7wO+Rww5XzPE+Z6Uy8bA7wEfIa7tPwFcQbStvluzNmlIDDySxlbKZW9ivmdP4B5iP9ff1q1qNFIu2wILiav6mwPfJE5zlndt81zN2qQhMvBIGmv9fM9hxI2urYG/AE7t2uZfqxa2Fvq21f5E2+og4GXgBiLo3GHbSpo6Bh5JE6Fv/ZxEXF9fH7gQOKdrm/+oWtir0M8mHU60rXYGHgMuB5Z2bfNwzdqkmcLAI2mi9A/vnQMcAXyfWFJ65Thu/k65bE+EnKOATYC7idOcFS5SlaaXgUfSREq5/DIx3/NrwH3AiV3bfLFuVT9qwf0m0baaT7wmfT0RdO60bSXVYeCRNLH6mZhDiI3sCbgZOKXGLqmUyybAkcSJzg7AKmApsKxrm+9Ndz2S/i8Dj6SJl3LZiNjNdRowhzhNOatrmx9Mw/feiQg5RwBzgTv777+ya5sXpvr7S3p1DDySBiPlsiVwFnA08Z7NmcQJy4sj/j6zgAOJttXbgReAFcDFXdt8fZTfS9JoGHgkDU7KZXdivuc3gG8T8z23juDrbgZ8ADge2A54BLgMuLxrm++v69eXNHUMPJIGqZ/veSexnmJ74FbgpK5tHliLr/ULRNtqAbAxcAfRtrpx1KdHkqaGgUfSoKVcNiDCyieIGZulwJld2zy+hn9vfeJxwEXESdHzwJ8Bl3Rtc++UFi1p5Aw8kmaElMvrgT8CjgOeAhYDS/7/YHHKZR4xA7QQ2AZ4CLgUuGJNIUnS+DLwSJpRUi67AhcQb+X8M7GZ/S+BtxCnOe8HNgJuJ9pWN3dt81KVYiWNjIFH0oyUcpkPfBrYCeiId3yeA/6UaFt9q1pxkkbOwCNpxkq5zCZaXO8hTnmumo63eyRNPwOPJEkavPVqFyBJkjTVDDySJGnwDDySJGnwDDySJGnwDDySJGnwDDySJGnwDDySJGnwDDySJGnwDDySJGnwDDySJGnwDDySJGnwDDySJGnwDDySJGnwDDySJGnwDDySJGnwDDySJGnwDDySJGnwDDySJGnwDDySJGnwDDySJGnwDDySJGnwDDySJGnwDDySJGnwDDySJGnwDDySJGnwDDySJGnwDDySJGnwDDySJGnwDDySJGnwDDySJGnw/hud+lxDhrrcmgAAAABJRU5ErkJggg==\n",
          "text/plain": "<Figure size 720x720 with 1 Axes>"
         },
         "metadata": {},
         "output_type": "display_data"
        }
       ]
      }
     },
     "251b8783a46441118350996059549c0d": {
      "model_module": "@jupyter-widgets/controls",
      "model_module_version": "1.5.0",
      "model_name": "ButtonStyleModel",
      "state": {}
     },
     "256b5d22ec63430f9548efea61dc3807": {
      "model_module": "@jupyter-widgets/base",
      "model_module_version": "1.2.0",
      "model_name": "LayoutModel",
      "state": {}
     },
     "25ff46ada5f94b68a81141e60b003d3c": {
      "model_module": "@jupyter-widgets/output",
      "model_module_version": "1.0.0",
      "model_name": "OutputModel",
      "state": {
       "layout": "IPY_MODEL_e84eb50a558d47468228aa595b9a5207",
       "outputs": [
        {
         "data": {
          "image/png": "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\n",
          "text/plain": "<Figure size 720x720 with 1 Axes>"
         },
         "metadata": {},
         "output_type": "display_data"
        }
       ]
      }
     },
     "2705379b112641b89817008a5b189104": {
      "model_module": "@jupyter-widgets/base",
      "model_module_version": "1.2.0",
      "model_name": "LayoutModel",
      "state": {}
     },
     "2876adc4e133493a838eae05d1b82c52": {
      "model_module": "@jupyter-widgets/controls",
      "model_module_version": "1.5.0",
      "model_name": "HBoxModel",
      "state": {
       "children": [
        "IPY_MODEL_eaff2730937d494ea9d5f9383885bff0",
        "IPY_MODEL_d5cea3ef906942bbb66bcf63246a2128"
       ],
       "layout": "IPY_MODEL_75fb6d4c519b4a0caa6c129863396aa0"
      }
     },
     "291e3e9a0ee44a1191c916e8e105acd4": {
      "model_module": "@jupyter-widgets/controls",
      "model_module_version": "1.5.0",
      "model_name": "HBoxModel",
      "state": {
       "children": [
        "IPY_MODEL_5fb390bdb8be4be8a162d032ec14e235",
        "IPY_MODEL_207fdb9e3d5a4bb890280feb165638b2"
       ],
       "layout": "IPY_MODEL_698d7de32c4b42078f8114e2c0e035d6"
      }
     },
     "2bf59507ee3b4f39bfb13ae3aee7054b": {
      "model_module": "@jupyter-widgets/controls",
      "model_module_version": "1.5.0",
      "model_name": "VBoxModel",
      "state": {
       "_dom_classes": [
        "widget-interact"
       ],
       "children": [
        "IPY_MODEL_88c3da9bdcf042c7b758c72553cbb657",
        "IPY_MODEL_e1fe89e55cbf4f1bb40a979e10a3e633"
       ],
       "layout": "IPY_MODEL_4d659e348e674296aa6da2f79046a299"
      }
     },
     "2c0992afb6d04b6dbbf940e1fadd6481": {
      "model_module": "@jupyter-widgets/base",
      "model_module_version": "1.2.0",
      "model_name": "LayoutModel",
      "state": {}
     },
     "2ca8d978ee674260933839fb47e6cf2f": {
      "model_module": "@jupyter-widgets/controls",
      "model_module_version": "1.5.0",
      "model_name": "SliderStyleModel",
      "state": {
       "description_width": ""
      }
     },
     "2def9fd145f043dfb1b0722b0ac31d17": {
      "model_module": "@jupyter-widgets/controls",
      "model_module_version": "1.5.0",
      "model_name": "ButtonStyleModel",
      "state": {}
     },
     "310f632d6f734b728da67811f8d8a373": {
      "model_module": "@jupyter-widgets/base",
      "model_module_version": "1.2.0",
      "model_name": "LayoutModel",
      "state": {}
     },
     "31686a7527244378ad3f8c2a79d4a2cd": {
      "model_module": "@jupyter-widgets/controls",
      "model_module_version": "1.5.0",
      "model_name": "ButtonStyleModel",
      "state": {}
     },
     "33f56f8e87df45d4bd223bc6734f2779": {
      "model_module": "@jupyter-widgets/base",
      "model_module_version": "1.2.0",
      "model_name": "LayoutModel",
      "state": {}
     },
     "364e0e2ca7cc4d06b68b9b513beb4c7c": {
      "model_module": "@jupyter-widgets/controls",
      "model_module_version": "1.5.0",
      "model_name": "ButtonStyleModel",
      "state": {}
     },
     "37414823c2f049bdace8dc1089c46221": {
      "model_module": "@jupyter-widgets/controls",
      "model_module_version": "1.5.0",
      "model_name": "IntSliderModel",
      "state": {
       "description": "step",
       "layout": "IPY_MODEL_caf9f1bc99c74b18a6fa1162522a8b00",
       "max": 9,
       "style": "IPY_MODEL_49b548ff445d4f25ab24d6bf135b5e99",
       "value": 9
      }
     },
     "37de527be2b14fad98bfb452ebd96302": {
      "model_module": "@jupyter-widgets/base",
      "model_module_version": "1.2.0",
      "model_name": "LayoutModel",
      "state": {}
     },
     "3ab62145091b4bb69e7bf49ef5bb7d94": {
      "model_module": "@jupyter-widgets/base",
      "model_module_version": "1.2.0",
      "model_name": "LayoutModel",
      "state": {}
     },
     "3b6562630cb74e51b387b4f6671789a9": {
      "model_module": "@jupyter-widgets/controls",
      "model_module_version": "1.5.0",
      "model_name": "ButtonStyleModel",
      "state": {}
     },
     "3d3fd3c2de9c41708f26e314907e439e": {
      "model_module": "@jupyter-widgets/controls",
      "model_module_version": "1.5.0",
      "model_name": "IntSliderModel",
      "state": {
       "description": "step",
       "layout": "IPY_MODEL_b6396b74622f4eea87f596ddc1ae6c65",
       "max": 9,
       "style": "IPY_MODEL_75f76b70524c4727896a217ff3bb7405",
       "value": 1
      }
     },
     "3fb876616b594c7d9163135fedfd3903": {
      "model_module": "@jupyter-widgets/controls",
      "model_module_version": "1.5.0",
      "model_name": "HBoxModel",
      "state": {
       "children": [
        "IPY_MODEL_8128a83697114f038bfdf66087b3e91b",
        "IPY_MODEL_d111f2a826b444009c38bdf6e7fb0271"
       ],
       "layout": "IPY_MODEL_22fd85787ebf4749b6a10200c24711df"
      }
     },
     "404b1d5bf1b5496297e9ed877be5b780": {
      "model_module": "@jupyter-widgets/controls",
      "model_module_version": "1.5.0",
      "model_name": "ButtonModel",
      "state": {
       "description": "Next",
       "layout": "IPY_MODEL_a9ce679fdd734381b1a204472e7c65ed",
       "style": "IPY_MODEL_cada907f87de483eb43316b4815c582a"
      }
     },
     "40baffc8c9114eb3a292e9ea571771e0": {
      "model_module": "@jupyter-widgets/base",
      "model_module_version": "1.2.0",
      "model_name": "LayoutModel",
      "state": {}
     },
     "42c171249d684b3289494f73b28d980f": {
      "model_module": "@jupyter-widgets/controls",
      "model_module_version": "1.5.0",
      "model_name": "VBoxModel",
      "state": {
       "_dom_classes": [
        "widget-interact"
       ],
       "children": [
        "IPY_MODEL_ae9908e67b2b4428bb57fe929d7cb378",
        "IPY_MODEL_25ff46ada5f94b68a81141e60b003d3c"
       ],
       "layout": "IPY_MODEL_e534880710874c80a2dfd0f3cb1284ca"
      }
     },
     "4312485c2f114abfbb13d343e7e160ef": {
      "model_module": "@jupyter-widgets/controls",
      "model_module_version": "1.5.0",
      "model_name": "ButtonStyleModel",
      "state": {}
     },
     "432c71c869bb4c17800eef67e142af26": {
      "model_module": "@jupyter-widgets/controls",
      "model_module_version": "1.5.0",
      "model_name": "HBoxModel",
      "state": {
       "children": [
        "IPY_MODEL_dee184e999954c7e97bc6086697fbb35",
        "IPY_MODEL_404b1d5bf1b5496297e9ed877be5b780"
       ],
       "layout": "IPY_MODEL_75e7daacc8904284886527a757389285"
      }
     },
     "442c2ce1bded432bb9aa3eaa89e8f479": {
      "model_module": "@jupyter-widgets/controls",
      "model_module_version": "1.5.0",
      "model_name": "ButtonStyleModel",
      "state": {}
     },
     "449b6d822d1d4630824b0661713111a7": {
      "model_module": "@jupyter-widgets/controls",
      "model_module_version": "1.5.0",
      "model_name": "ButtonStyleModel",
      "state": {}
     },
     "44b6d132ffb241b8bd959fb5deb36993": {
      "model_module": "@jupyter-widgets/base",
      "model_module_version": "1.2.0",
      "model_name": "LayoutModel",
      "state": {}
     },
     "44c4181fe9f047319b4a0699cc7a46d5": {
      "model_module": "@jupyter-widgets/controls",
      "model_module_version": "1.5.0",
      "model_name": "VBoxModel",
      "state": {
       "_dom_classes": [
        "widget-interact"
       ],
       "children": [
        "IPY_MODEL_11be59cb92f44f1bb206880b142be56c",
        "IPY_MODEL_add36a52dcf64cc2bf5282e22c27a348"
       ],
       "layout": "IPY_MODEL_3ab62145091b4bb69e7bf49ef5bb7d94"
      }
     },
     "46024a1248fa426f8f7816c3b9bd0346": {
      "model_module": "@jupyter-widgets/controls",
      "model_module_version": "1.5.0",
      "model_name": "ButtonModel",
      "state": {
       "description": "Prev",
       "layout": "IPY_MODEL_cf66e42652844296bc96827c1d22f3df",
       "style": "IPY_MODEL_3b6562630cb74e51b387b4f6671789a9"
      }
     },
     "48212a00bd234ec88825ecdc8d07777b": {
      "model_module": "@jupyter-widgets/controls",
      "model_module_version": "1.5.0",
      "model_name": "ButtonStyleModel",
      "state": {}
     },
     "497742b66cae4908bde6037cc6aa545f": {
      "model_module": "@jupyter-widgets/base",
      "model_module_version": "1.2.0",
      "model_name": "LayoutModel",
      "state": {}
     },
     "49b548ff445d4f25ab24d6bf135b5e99": {
      "model_module": "@jupyter-widgets/controls",
      "model_module_version": "1.5.0",
      "model_name": "SliderStyleModel",
      "state": {
       "description_width": ""
      }
     },
     "4a608c7a8f98448c963b1eb5bb4d8cc2": {
      "model_module": "@jupyter-widgets/controls",
      "model_module_version": "1.5.0",
      "model_name": "SliderStyleModel",
      "state": {
       "description_width": ""
      }
     },
     "4a9539d977004ad8ba6928ca732d4276": {
      "model_module": "@jupyter-widgets/base",
      "model_module_version": "1.2.0",
      "model_name": "LayoutModel",
      "state": {}
     },
     "4ad67dd7758242d69dd4e3a3c1ea6b48": {
      "model_module": "@jupyter-widgets/controls",
      "model_module_version": "1.5.0",
      "model_name": "HBoxModel",
      "state": {
       "children": [
        "IPY_MODEL_6ddef64671bc44c8b7656872efa599f8",
        "IPY_MODEL_77b9886ecfc3495790702f59a8361eab"
       ],
       "layout": "IPY_MODEL_9268e305947d4d21b2029be2fc52ea94"
      }
     },
     "4d3f3411eb8b4067a7ace9946c8b37fb": {
      "model_module": "@jupyter-widgets/base",
      "model_module_version": "1.2.0",
      "model_name": "LayoutModel",
      "state": {}
     },
     "4d659e348e674296aa6da2f79046a299": {
      "model_module": "@jupyter-widgets/base",
      "model_module_version": "1.2.0",
      "model_name": "LayoutModel",
      "state": {}
     },
     "4e145e2c06b54523b0eacd97106d9cb9": {
      "model_module": "@jupyter-widgets/output",
      "model_module_version": "1.0.0",
      "model_name": "OutputModel",
      "state": {
       "layout": "IPY_MODEL_995d46f584e44dd0a71bbc9df4696ac5",
       "outputs": [
        {
         "data": {
          "image/png": "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\n",
          "text/plain": "<Figure size 720x720 with 1 Axes>"
         },
         "metadata": {},
         "output_type": "display_data"
        }
       ]
      }
     },
     "507b350c8d5d4520a29f80ca0e5a74b2": {
      "model_module": "@jupyter-widgets/base",
      "model_module_version": "1.2.0",
      "model_name": "LayoutModel",
      "state": {}
     },
     "51500f709e7e4d15a612a9210a545ebc": {
      "model_module": "@jupyter-widgets/base",
      "model_module_version": "1.2.0",
      "model_name": "LayoutModel",
      "state": {}
     },
     "52a4dfc85a514a50927c8016bbf54770": {
      "model_module": "@jupyter-widgets/base",
      "model_module_version": "1.2.0",
      "model_name": "LayoutModel",
      "state": {}
     },
     "56ea31f7d9fb4681a177c63ceec204d5": {
      "model_module": "@jupyter-widgets/base",
      "model_module_version": "1.2.0",
      "model_name": "LayoutModel",
      "state": {}
     },
     "5aaccaddc1304e5cb59016fce80eb104": {
      "model_module": "@jupyter-widgets/base",
      "model_module_version": "1.2.0",
      "model_name": "LayoutModel",
      "state": {}
     },
     "5e49ba8ec0d7424f811ae0e67e832074": {
      "model_module": "@jupyter-widgets/controls",
      "model_module_version": "1.5.0",
      "model_name": "SliderStyleModel",
      "state": {
       "description_width": ""
      }
     },
     "5e5691c99f4940e5806cc5109ddd0610": {
      "model_module": "@jupyter-widgets/controls",
      "model_module_version": "1.5.0",
      "model_name": "VBoxModel",
      "state": {
       "_dom_classes": [
        "widget-interact"
       ],
       "children": [
        "IPY_MODEL_37414823c2f049bdace8dc1089c46221",
        "IPY_MODEL_9ef867337fda44a2b43f190b3dcf6225"
       ],
       "layout": "IPY_MODEL_be459f24be294b13ab596fd75bac0262"
      }
     },
     "5e9448f71a9c45f894f296f922a9835d": {
      "model_module": "@jupyter-widgets/base",
      "model_module_version": "1.2.0",
      "model_name": "LayoutModel",
      "state": {}
     },
     "5eb7aed5154f4c57b6211f082facc5a7": {
      "model_module": "@jupyter-widgets/base",
      "model_module_version": "1.2.0",
      "model_name": "LayoutModel",
      "state": {}
     },
     "5fb390bdb8be4be8a162d032ec14e235": {
      "model_module": "@jupyter-widgets/controls",
      "model_module_version": "1.5.0",
      "model_name": "ButtonModel",
      "state": {
       "description": "Prev",
       "layout": "IPY_MODEL_f3d1994a89f04ad0bd309fb4cdcd9de7",
       "style": "IPY_MODEL_449b6d822d1d4630824b0661713111a7"
      }
     },
     "668dbe862b014216b2a9199a74972c4e": {
      "model_module": "@jupyter-widgets/controls",
      "model_module_version": "1.5.0",
      "model_name": "ButtonModel",
      "state": {
       "description": "Prev",
       "layout": "IPY_MODEL_2c0992afb6d04b6dbbf940e1fadd6481",
       "style": "IPY_MODEL_0335a23bf05f4db89ea15d2a46a596cb"
      }
     },
     "681aee4f0c7c40f79d97354b881ca95e": {
      "model_module": "@jupyter-widgets/base",
      "model_module_version": "1.2.0",
      "model_name": "LayoutModel",
      "state": {}
     },
     "6949f53dd82f4aecbed7f3260b192e76": {
      "model_module": "@jupyter-widgets/base",
      "model_module_version": "1.2.0",
      "model_name": "LayoutModel",
      "state": {}
     },
     "698d7de32c4b42078f8114e2c0e035d6": {
      "model_module": "@jupyter-widgets/base",
      "model_module_version": "1.2.0",
      "model_name": "LayoutModel",
      "state": {}
     },
     "69d6cffe577f455ba61a134e8a2bbc7f": {
      "model_module": "@jupyter-widgets/controls",
      "model_module_version": "1.5.0",
      "model_name": "ButtonModel",
      "state": {
       "description": "Next",
       "layout": "IPY_MODEL_7712717740764b4f84acefc8ea33657c",
       "style": "IPY_MODEL_01acee5172224c04a1b2ef9b0c685c9f"
      }
     },
     "6afc47b0d48c4859b111366812d1ac26": {
      "model_module": "@jupyter-widgets/controls",
      "model_module_version": "1.5.0",
      "model_name": "VBoxModel",
      "state": {
       "_dom_classes": [
        "widget-interact"
       ],
       "children": [
        "IPY_MODEL_0c3dcfe246514fe08fa57208eb257145",
        "IPY_MODEL_9ad38cf148504c78b08a7ba5d5d6d825"
       ],
       "layout": "IPY_MODEL_89e412bd7f00447d9a3288e85e92e294"
      }
     },
     "6ddef64671bc44c8b7656872efa599f8": {
      "model_module": "@jupyter-widgets/controls",
      "model_module_version": "1.5.0",
      "model_name": "ButtonModel",
      "state": {
       "description": "Prev",
       "layout": "IPY_MODEL_37de527be2b14fad98bfb452ebd96302",
       "style": "IPY_MODEL_442c2ce1bded432bb9aa3eaa89e8f479"
      }
     },
     "6e94f4261a144bb9abb0623b30fe8e89": {
      "model_module": "@jupyter-widgets/base",
      "model_module_version": "1.2.0",
      "model_name": "LayoutModel",
      "state": {}
     },
     "7151f634e46f45668a05f79133ed9ff9": {
      "model_module": "@jupyter-widgets/base",
      "model_module_version": "1.2.0",
      "model_name": "LayoutModel",
      "state": {}
     },
     "7296571b863d43caab451d85c011e524": {
      "model_module": "@jupyter-widgets/controls",
      "model_module_version": "1.5.0",
      "model_name": "HBoxModel",
      "state": {
       "children": [
        "IPY_MODEL_9abc3c206b884a568486d90997cfd0cd",
        "IPY_MODEL_dcbb7bdbb6e14067982549dacbe44547"
       ],
       "layout": "IPY_MODEL_08dfdea4f3974288aed265f6bb7a16eb"
      }
     },
     "7549e542d30e4ae5a7d46ba45642aadd": {
      "model_module": "@jupyter-widgets/controls",
      "model_module_version": "1.5.0",
      "model_name": "ButtonStyleModel",
      "state": {}
     },
     "75c5096807754241a4d54ce007bfc70e": {
      "model_module": "@jupyter-widgets/controls",
      "model_module_version": "1.5.0",
      "model_name": "SliderStyleModel",
      "state": {
       "description_width": ""
      }
     },
     "75e7daacc8904284886527a757389285": {
      "model_module": "@jupyter-widgets/base",
      "model_module_version": "1.2.0",
      "model_name": "LayoutModel",
      "state": {}
     },
     "75f76b70524c4727896a217ff3bb7405": {
      "model_module": "@jupyter-widgets/controls",
      "model_module_version": "1.5.0",
      "model_name": "SliderStyleModel",
      "state": {
       "description_width": ""
      }
     },
     "75fb6d4c519b4a0caa6c129863396aa0": {
      "model_module": "@jupyter-widgets/base",
      "model_module_version": "1.2.0",
      "model_name": "LayoutModel",
      "state": {}
     },
     "7712717740764b4f84acefc8ea33657c": {
      "model_module": "@jupyter-widgets/base",
      "model_module_version": "1.2.0",
      "model_name": "LayoutModel",
      "state": {}
     },
     "77b90f32c0ec4e77bea6aa0a58261dea": {
      "model_module": "@jupyter-widgets/base",
      "model_module_version": "1.2.0",
      "model_name": "LayoutModel",
      "state": {}
     },
     "77b9886ecfc3495790702f59a8361eab": {
      "model_module": "@jupyter-widgets/controls",
      "model_module_version": "1.5.0",
      "model_name": "ButtonModel",
      "state": {
       "description": "Next",
       "layout": "IPY_MODEL_5eb7aed5154f4c57b6211f082facc5a7",
       "style": "IPY_MODEL_caf81ac517aa4b6ea4cd1c5de43af9e5"
      }
     },
     "797aec0f1c034f21a5831f0e64ea0f4c": {
      "model_module": "@jupyter-widgets/base",
      "model_module_version": "1.2.0",
      "model_name": "LayoutModel",
      "state": {}
     },
     "7a911e9387f748c9b9579c3ddb977c0d": {
      "model_module": "@jupyter-widgets/controls",
      "model_module_version": "1.5.0",
      "model_name": "ButtonStyleModel",
      "state": {}
     },
     "7c589e6b27254b78b3752beab724a535": {
      "model_module": "@jupyter-widgets/controls",
      "model_module_version": "1.5.0",
      "model_name": "ButtonModel",
      "state": {
       "description": "Next",
       "layout": "IPY_MODEL_256b5d22ec63430f9548efea61dc3807",
       "style": "IPY_MODEL_b8a81a5fafcb40e69a8e2cdfe17c2362"
      }
     },
     "7d943575432146418912a84b960888dd": {
      "model_module": "@jupyter-widgets/controls",
      "model_module_version": "1.5.0",
      "model_name": "ButtonStyleModel",
      "state": {}
     },
     "7e7e97c42988494c86324508ae3f55af": {
      "model_module": "@jupyter-widgets/controls",
      "model_module_version": "1.5.0",
      "model_name": "SliderStyleModel",
      "state": {
       "description_width": ""
      }
     },
     "7f31ff68e84e439ca74bf95cdda572d4": {
      "model_module": "@jupyter-widgets/controls",
      "model_module_version": "1.5.0",
      "model_name": "VBoxModel",
      "state": {
       "_dom_classes": [
        "widget-interact"
       ],
       "children": [
        "IPY_MODEL_c461d25fbd1c484cb319a15c2cc4e1bf",
        "IPY_MODEL_9a70a4778dd44e0ea1c98cec922ce3c9"
       ],
       "layout": "IPY_MODEL_681aee4f0c7c40f79d97354b881ca95e"
      }
     },
     "80b52bd71f3740b08c5e4a16b0b78646": {
      "model_module": "@jupyter-widgets/output",
      "model_module_version": "1.0.0",
      "model_name": "OutputModel",
      "state": {
       "layout": "IPY_MODEL_c4d2a14e2a134b14a1b2d9595d52dd59",
       "outputs": [
        {
         "data": {
          "image/png": "iVBORw0KGgoAAAANSUhEUgAAAjwAAAIuCAYAAAC7EdIKAAAABHNCSVQICAgIfAhkiAAAAAlwSFlzAAALEgAACxIB0t1+/AAAADh0RVh0U29mdHdhcmUAbWF0cGxvdGxpYiB2ZXJzaW9uMy4yLjIsIGh0dHA6Ly9tYXRwbG90bGliLm9yZy+WH4yJAAAgAElEQVR4nOzdd5gdV33/8fdslWTZso17kQdsA8bgRu8lVI+dQIAEYgg9dEJnBCbDAkETAuZHLyF0CMGmGYYOoYYADjYY98K4V5Alr8pK2p3fH3PXEcKSttx7z9x736/n2WfNI+3ej8xa+9k533NOVFUVkiRJ/WwodABJkqROs/BIkqS+Z+GRJEl9z8IjSZL6noVHkiT1PQuPJEnqexYeSZLU9yw8kiSp71l4JElS37PwSJKkvmfhkSRJfc/CI0mS+p6FR5Ik9T0LjyRJ6nsWHkmS1PcsPJIkqe9ZeCRJUt+z8EiSpL5n4ZEkSX3PwiNJkvqehUeSJPU9C48kSep7Fh5JktT3LDySJKnvWXgkSVLfs/BIkqS+Z+GRJEl9z8IjSZL6noVHkiT1PQuPJEnqeyOhA0iS+kecFsPAgcChO3g7G3h5mScbg4XUQIqqqgqdQZLUA+K0iIB9uf0is7L1/iBgeLsPnQSuAm4AHgr8EvirMk9u6E5yycIjSeK2MrOCHReZQ4FDgPHtPnQKuJq60Gz/dmXr/doyT6rW6zwB+Cx1+TmpzJPzOvoHk1osPJI0AOK0WMbtl5ht35Zv92HTwLXsuMhcBdw0W2bmkeVewJnAbsCTyzz5zsL+VNLcWXgkqcfFaTEGHMyOi8yhwN6386E3cPslZvbt+jJPtnYo86HA14GjgReXefLhTryONMvCI0kNNoch4EOB/YFouw9dw46LzFXANWWeTHXhj7BDcVrsDnweOBE4DXhtmSfTITOpf1l4JCmQXQwBz74dzJ8PAa9nx0XmKuCqMk/Wd+GPsGhxWowA7wReBnwVOKVXsqu3WHgkqQN2MgS87RzN7Q0Bb2YnRab1dst852aaLk6LlwDvBn4DnFzmyTWBI6nPWHgkaQG2GwLe0a6muQ4BbztHM+8h4H4Rp8WJwH8Ca6l3cJ0TOJL6iIVHkrazzRDwjorMXIaAb29XU8eGgPtFnBbHUA8z7w08tcyTrwWOpD5h4ZE0UFpDwAew8+3ZOxsC3tH27OBDwP0iTosDqbet3xN4JfDuQX3qpfax8EjqG3McAj6IP79WZz07357dM0PA/aK1ZPhp4K+BDwD/6NMxLYaFR1JPmMMQ8OxJwEu2+9DN1CcB72xXU98NAfeDOC2GgNXAa4FvAX9b5sm6sKnUqyw8khphJ0PA287QzHcIePYk4Jku/BHUIXFaPBf4IHAh9TDzFYEjqQdZeCR13A6GgLcfBp7PEPDs23UucwyGOC3+AvjiEDPV8mjz43+7+ok/Cp1JvcXCI2lRthsC3tGuprkOAW87R+MQsP7E4emZd1sSbT1nYzU6siLa9IKzVz/5I6EzqXdYeCTtUGtuZh92funkroaAb29X09Vlnkx24Y+gPvP8fzrtr87eevBXbpxZzl7RhveuqZb9o/NXmgsLjzTA4rSYHQLe0fbsnQ0B72h7tkPA6qhT3/SW4mdbDnvc76fvEK2INn53bbX0pDJPNofOpWaz8Eh9ag5DwIcCu2/3YTP83xDwjnY1OQSsoCYmJlZWFRees/WgpedsPYjdo02XbqpG73NJ/pdrQmdTc1l4pB60iyHg2bc73M6H3sjOt2c7BKyeMDExMQG86rKte+/20y0x42xdWxHd98L88ReFzqZmsvBIDbOTIeBt52jmOwQ8OzfjELD6wsTExBKgBPa/fno5P9h8BDOwdWm0Nfnt6id+J3A8NZCFR+qi2xkCvr1h4PkMAW97ErBDwBooExMTjwc+A+y2bmac724+spqsxqIV0aaXn736ye8OnU/NYuGR2mibIeAd7Wqa6xDw9sPADgFL25mYmIiAnwL3A4amqmF+sPnw6vqZPaI9ow3/fku17Hn+d6NZFh5pjlpDwIew811NOxsC3tGuJoeApQWamJg4Cvg1rR8kpquIn285jEum92GPaNNP11VLHlXmyaawKdUEFh6JRQ8B7+zSSYeApQ6bmJh4H/AcWqWnquDcrQfwv1sPYXk0deWmauRel+Z/eVPYlArNwqO+N4ch4ENbv779EPAt7Hx79jX+5CiFNzExsQK4gvpy2duU03vx4813ZJTp9UNUDzg/f8JvwyRUE1h41NN2MgS87dvBOAQs9bWJiYlnAe9huwtmb5rZje9NHVFtZWhmebT5SeesftJXwiRUaBYeNdrtDAFvPww83yHg2bc1DjNK/WNiYmIIOBc4iu2e1k7OjPHdzUdWa6sl0Z7RxtefvfrJq4OEVFAWHgUTp8VSdr49ez5DwNvO0TgELA2giYmJ+wL/BSzd/tc2V8P8cPOduGZmBXtGGz93S7X06f49MVgsPOqIOC1G+dMh4Nvb1bSrIeDb29XkELCkHZqYmPg88ARgbPtfm6ngF1tWcuH0fuwRbTprXbXkoWWebOh+SoVg4dG8tYaA92fHW7N3NQS8o11NDgFLWpSJiYkDgMuAZbf361UF50/vxy+3HMpu0ebrNlWj97wsP/m67qZUCBYezUucFs+nHgzc/qenDex8e7ZDwJK6YmJi4jVABuy2o99z5fQKfrT5Towws3EkmnnI71b/9VndS6gQLDyaszgtjgF+Bfwc+E8cApbUQBMTE2PApdRPm3foDzNL+d7UkdVmhqvl0eZTzln9pM93J6FCsPBoTuK0WEJddvYB7lHmyc2BI0nSDk1MTDwa+DI7WNqatb4a5XtTR1ZrqqXRntHGt569+slv7E5CddtQ6ADqGauBuwPPsuxIarosy74D/AzY6SaH3aItnDh+YXTI0FrWVMtOPXbVGV9qzSmqz1h4tEtxWjwKeDnwvjJPvhU6jyTN0QuALbv6TaPRDI8Yu5SjR65nbbX0CbtHm34dp8X2R2Kox1l4tFNxWtwB+ARwAfDasGkkae6yLLsceC/1poqdGorgPqNXc//RK5isxo9ZFm2+/Mj0zJWdT6lusfBoh1rXNnwY2Bc4pcyTjYEjSdJ8vRmY899ddx25iUeNXcKWanifiOriu6/60gM7mE1dZOHRzjwDeCJwapknZ4cOI0nzlWXZeuDF1PfnzcnBw+tIxi9gNJoe21iN/uT4Vac/q3MJ1S0WHt2uOC3uRP0o+EfAOwPHkaTF+AJwIfXVNHOy19AmTh6/INor2sCaaunHjl91+jtbT73Vo9yWrj8Tp8UIddE5GjimzJMrA0eSpEWZmJg4lvoMsT+7Z2tntlYRP9lyR8rpvVkRbfzW2mrpX5Z5sstBaDWPT3h0e1LgAcCLLDuS+kGWZb8BPgdMzefjRqKKh41ezjEj17K2WvrY3aNN58ZpsWdnUqqTLDz6E3Fa3Ad4E/C5Mk8+FziOJLXT65jDNvXtRRHcc/RaHjT6e9ZXY3dZxubf3zn96hEdyKcOsvDoNnFaLAc+A1xLPeQnSX0jy7I/UJeeOQ8wb+vIkT/wmLGL2crQnsD5x6z64iPbGlAdZeHRtt4JHAH8fZknt4QOI0kd8GFgwbejHzA8yUnjFzAebR2ZrMa+c/yq0/3hsEc4tCwA4rT4S+CrwNvLPHld6DyS1CkTExMPBr7FLu7Z2plN1TA/2HxEdcPM7tFe0YYPramWvcgLlJvNJzwiTosDgH8HzgH+KXAcSeqoLMt+AnyHBczzzFoSTfOYsYujw4dvZk217AUroo0/iNNivH0p1W4WngHXOlfi34Hl1Kcpz2sHgyT1qJeyi4tFd2U4qnjwaMkJI9ewtlr6sOXR1IVHpGfeoU351GYWHr0QOBF4TZkn54cOI0ndkGXZ1cBq5nDP1s5EERw7eh0PHb2MDdVoPMrM749Kv3x0e1KqnSw8AyxOi6OoB5W/Bbw/cBxJ6rZ/Bda14xPdaWQNjxu7iAp238rwOceuOuOkdnxetY+FZ0DFaTFGvQV9PfBsh+0kDZosyzYBz2eB29S3t9/wek4av4Bl0ebhW6vxrx2/6vTXtOPzqj0sPIPrTcAJwPPKPFnwFk1J6nFfA34NTLfjk+0+tJlk/MJo/6HJak217O3HrTr9E3Fa+L22AdyWPoDitHgw9V1ZHyvz5Lmh80hSSBMTE3cBzmae92ztzEwV8fMtK7l4el/2iDb9z7pqySPKPNnYrs+v+bN1Dpg4LVYAnwYuB14eOI4kBZdl2UXAR4C2FZKhqOIBo1dw75GrWFeN32+3aOqSw9Ov7d+uz6/5s/AMnvcBhwBPK/NkMnQYSWqIf2KeF4vuShTB3Udv4BFjl7GpGjl4lOnLj171pePb+RqaOwvPAInT4inA04C3lHnyP6HzSFJTZFm2jvqpd1sGmLd12PAtnDh+ERHV0qlq5FfHrTrjye1+De2ahWdAxGlxKPBB4BfAPweOI0lNNLvc3/bh1n2GNnDS+AXR7tHU0NpqyReOX3V61u7X0M45tDwAWjsEvgfcBziuzJNLA0eSpEaamJi4N/WmjrYNMG9rSzXEDzffiatn9mTPaOPpt1RLn1rmSVt2iGnnfMIzGF4BPBx4mWVHknYsy7JfAV+izfM8s0ajGf5i7FKOGr6BW6qlT94j2nRWnBbLO/Fa+lMWnj4Xp8WxwNuALwMfDxxHknrBK1nkPVs7MxTB/cau4r6jV3BrNX7cbtHUZXdOv3pIp15PNQtPH4vTYinwWeCPwD94mrIk7VqWZTdS79pq+wDztu42chOPHLuEqWpkvwguufuqL92vk6836Cw8/W01cDTwzDJPbg4dRpJ6yHuBP3T6RQ4ZXkcyfiHD0cz4xmrkZ8etOuPpnX7NQeXQcp+K0+LRwLeB95Z58rLQeSSp10xMTDwS+CqwrNOvtaEa5ftTR1Q3V8uivaKNb19TLUt9Kt9ePuHpQ3Fa3AH4BHA+8LqwaSSpN2VZ9j3gx3RwnmfWsmgLjxu/KDps6BbWVMteuyLaeGacFiOdft1BYuHpM3FaRNRHpO8DnOLdLZK0KC8EtnTjhUaiGR4+dhn3GLmOtdXSk3aPNv22dR2Q2sDC03+eCfw18IYyT84JnEWSelqWZSXwLmBDN14viuBeo9fwwNGSyWr8qGVsvvwu6Vfv1I3X7ncWnj4Sp8XhwHuAHwKnhU0jSX3jn+lS4Zl155GbefTYxWxlaO8KLjhm1Rcf1s3X70cWnj7RWuv9NDANPMOTOyWpPbIs2wC8iA5vU9/eQcO3koxfyFg0PTpZjf3g+FWnP7+br99vLDz9YxVwf+CFZZ5cGTqMJPWZM4DzgJluvuieQ5s4efyCaJ+h9aypln3o+FWnv6c1q6l5clt6H4jT4r7Az4DPl3nytNB5JKkfTUxM3IP6AuaO3LO1M1uriJ9tibl8+g6siDZ+b221NCnzZHO3c/Qyn/D0uNYdLJ8BrgFeEjiOJPWtLMvOpR4d2NTt1x6JKh4y+nuOG7mWtdXSRy6Pps4/Ij1z727n6GUWnt53GnA48PdlntwSOowk9bmULm1T314UwfGj1/KQ0cvZUI0ePsr07++afuUuIbL0IgtPD4vT4q+A5wFvL/PkR6HzSFK/y7JsDfAaujzAvK3DR/7IY8cuZoahPaYZ+t2xq854bKgsvcTC06PitDgA+ChwNvUld5Kk7vgo9RhBMPsPT3LS+AUsjbYM31qNf/P4Vae/PGSeXuDQcg9qTeh/A3gYcEKZJxeETSRJg2ViYuKBwHcJMMC8ralqmB9sPry6fmaPaM9o48duqZY+1zu4bp9PeHrTi4DHAq+27EhS92VZ9jPqHzyD7pQaj6Z59Ngl0ZHDN3FLtfTZe0SbfhynxZKQmZrKwtNj4rQ4CngH8C3gA4HjSNIgexlduFh0V4ajigeOXsE9R65mXbXkQcujqYuOSM/cN3SuprHw9JA4LcaAzwKTwLN8bClJ4WRZdi31tRPBBphnRREcM3o9Dx+7jI3V6MoRZn5/t/TLx4TO1SQWnt4yARwPPLfMk+tDh5Ek8U5gbegQs+LhNTxu/CKAZZsZ/vVxq854fOhMTWHh6RFxWjwUeB3wb2WefDV0HkkSZFk2BfwDDXjKM2vfofWcPH5BtDzaPLS2WvLl41ed/vrQmZrAXVo9IE6LPYHfUA/HHV/myWTgSJKkbUxMTPwQeBAwHDjKbTZXQ/xw8+FcM7OCPaON/3FLtfRpZZ509S6wJvEJT294H3Aw8DTLjiQ10vMIvGNre2PRDI8cu4S7Dt/ILdXSp+4RbfplnBbLQucKxcLTcHFaPBU4BXhzmSe/CJ1HkvTnsiy7BPgQsDF0lm0NRXC/0Su5z+iVrKvG77lbNHXp4enXDgydKwQLT4PFabES+CDwc+BtgeNIknYuI8DForsSRXD0yI38xdilTFUjB44wfdnRq75079C5us3C01BxWgwDn6ReD356mSfBz3qQJO1YlmW3Up/N05gB5m2tHF7LieMXMky1ZKoa+Z/jVp3xlNCZusnC01yvpL464mVlnlwWOIskaW4+C1wGNHJH0B2GNnLykguiPaJN0dpqyX8cv+r0t4bO1C3u0mqgOC2OA34JfA14kgcMSlLvmJiYuCfwEwLfs7UzW6ohfrT5Tlw1sycroo1fWVstfXK/ryRYeBomToulwFnAXsAxZZ7cHDiSJGmeJiYmPgX8DTAeOsuOzFRw1tZDOG/rAewebTr31mrJA8s8uTV0rk5xSat5cuBu1FdHWHYkqTe9igbcs7UzQxHcZ/Rq7j9aMlmN32NZtPnyI9MzDwudq1MsPA0Sp8VjqAfe3lPmybdD55EkLUyWZTcBb6ChA8zbuuvIzTxq7BK2VMP7RFQX3WPVFx8UOlMnWHgaIk6LfYBPAOcBadg0kqQ2eD9wU+gQc3Hw8DqS8QsYi6bHNlRjPz5+1enPDp2p3ZzhaYA4LSLgS8CJwH3KPPlN4EiSpDaYmJh4BPUGlJ444XhjNcL3p46obqp2i/aKNr5rTbXsVf2yccYnPM3wLODxwBssO5LUP7Is+wHwQ2BL4ChzsjTaymPHL4ri4TWsqZa9YkW08ZtxWoyGztUOFp7A4rQ4HHgP8F/AaYHjSJLa70U0fIB5WyNRxcNGL+fYkWtZWy19zO7Rpt+1LrHuaRaegOK0GAE+Q938nzHIt9hKUr/KsuwK4B3AhtBZ5iqK4ITRa3nQ6O9ZX43deSmbf3/X9CtHhs61GBaesN4A3A94QZknV4UOI0nqmNXAZOgQ83XkyB94zNjFTDO05wzReces+uIjQ2daKAtPIHFa3A94I/CZMk/+M3QeSVLnZFm2EXghPbBNfXsHDE9y0vgFjEdbRyarse8cv+r0l4TOtBAWngDitFhOvZR1DdCTXziSpHn7MnAu0HPjCyuGpjhp/IJo36H1rKmWvfe4Vad/qLXDuGdYeMJ4F3An6lvQ14YOI0nqvCzLKuC5wFToLAuxJJrmMWMXR4cP38wt1bLn7xFt/K84LRp7dcb2LDxdFqfF46m/4P+lzJMfh84jSeqeLMvOAz4JbAqdZSGGo4oHj5acMHIN66qlD10eTV14RHrmPqFzzYWFp4vitDgQ+CjwayALHEeSFMYqYHPoEAsVRXDs6HU8dPQyNlSj8Sgzlx+Vfvno0Ll2xcLTJa21zo9Tn7Z5SpknPfvFLklauCzLbqG+XLTnBpi3daeRNTxu7CIq2H0rw785dtUZJ4fOtDMWnu55MfAY4NVlnlwYOowkKaiPAVcCPX1tw37D6zlp/AKWRZuH1lVLzjx+1emvDZ1pR7xLqwvitLgb8L/Upykn/XIviSRp4SYmJu4PfB9YGjrLYk1Vw/xw852qa2dWRHtGGz91S7X0WU07TNfC02FxWowBvwAOAe5R5sn1gSNJkhpiYmLiC8BfAWOhsyzWTBXx8y0ruXh6X/aINv1iXbXk4WWebAyda5ZLWp33FuA44DmWHUnSdv6RHrpna2eGoooHjF7BvUeuYl01ft/doqlLDk+/tn/oXLMsPB0Up8XDgNcAHynz5MzAcSRJDZNl2XXAm+nxAeZZUQR3H72BR4xdxqZq5OBRpi8/etWXjg+dCyw8HdO6WfZTwKXAKwPHkSQ117uAW0KHaKfDhm/hxPGLiKiWTlUjZx236ownh85k4emc9wMHAU8r86Qvmrskqf2yLNtMfSBtX32v2GdoAycvuSDaPZqK1lZLvnDCqi+cEjKPhacD4rT4O+DvgIkyT34ZOo8kqdmyLPsW8D/0yTzPrN2iLZw4fmFUARH8ZcgsFp42i9PiMOADwH8DqwPHkST1jhfQZ4UHYCvDQERFdFHIHBaeNorTYpj6jpRh6otB++4LV5LUGVmWXQq8D9gQOks7ra/qHfebqpFzQ+aw8LTXq4CHAi8t8+Ty0GEkST1ngh69WHRHJluFZwNjPuHpB3FaHA+8Ffgi9VMeSZLmJcuySeAl9NEA8/qZ285UvDJkDgtPG8RpsRT4LHAz8HyvjpAkLcLngYvp8Xu2Zk1WY4wwPQ2sDZnDwtMebweOAp5R5skfQoeRJPWuLMsq4Nn0ydLW+mqMsWh6XeiHARaeRYrT4nHUjx//X5kn3w2dR5LU+7IsO4f6Sc9U6CyLNVmNVaNM3xA6h4VnEeK02Bf4GHAesCpwHElSf3ktsCV0iMVaX40xTHV16BwWngWK0yICPgLsDZxS5klfPHqUJDVDlmU3U/8w3bMDzFurIaYYjSKqS0NnsfAs3LOBxwOvL/PkN6HDSJL60oeA60OHWKj11SgAWxk6P3AUC89CxGlxBPBu4AfUl75JktR2WZZtBZ5Djx5GOFmNz74PeuggWHjmLU6LUeAz1OuqzyjzZCZwJElSH8uy7EfA9+jBeZ7ZU5anGSrDJrHwLMQbgPtSn7cTfAhLkjQQXkIP3rNVF54K4JrAUSw88xGnxf2BU4FPl3nyhdB5JEmDIcuyq6jPfOuppa3Jaoxxtm4q8yT40ykLzxzFabE78GngauClgeNIkgZPDtwaOsR8rK/GGI1mGnEgr4Vn7t4F3In6FvSgx2NLkgZPlmWbgOfTQ9vUJ6uxaoTp60LnAAvPnMRp8QTqKfm8zJOfhM4jSRpYZwLnAI3fMFNVsL4ai4apytBZwMKzS3FaHAR8FPhf4E1h00iSBlnrnq3n0QNXTmxihBmGqIguCp0FLDw7FafFEPBxYCnwtDJPNgeOJEkacFmWXQD8O7AxdJadmWxtSd9UjQQ/gwcsPLvyYuDRwKvKPLkwdBhJklpOBRr9Q/jsGTwbGPMJT5PFaXE09RbAb1Af7S1JUiNkWbYWeAUNHmCenBmf/ccrQ+aYZeG5HXFajAOfpd7+9+wyT6rAkSRJ2t4ngZLWyX5NU9+SPjMDrAmdBSw8O/IW4FjgOWWe3BA6jCRJ28uybIb6IutNobPcntahg+ua8tDAwrOdOC0eDrwa+HCZJ18LnUeSpB3JsuyXwFdo4DzP+mqsGommbwydY5aFZxtxWuwFfAq4FHhV4DiSJM3FK2jgxaKT1RgjVI25c9LC86feDxwInFLmSWMHwSRJmpVl2Q3U58Q15vvW1ipiitEoorosdJZZFp6WOC1OAZ4KvKnMk1+FziNJ0jy8B/hj6BCzZrekb2Xo/MBRbmPhAeK0OAz4APAzYHXgOJIkzUuWZZupr0BqxG3qs4VnfTXWiEMHwcJDnBbD1HM7EfXFoNOBI0mSNG9Zln0X+CmwNXSWydue8AxfHjjKbQa+8FDvyHoI8NIyT34fOowkSYvwQhowwLy+Gqd1PNA1gaPcZqALT5wWJ1CfuXMG9VMeSZJ6VpZll1PP8wRd2lpfjTHO9KYm3UE5sIUnTotl1Kcp3wS8oCkHI0mStEhvIfDFopPVGKPRdGOGqGGACw/1PVl3BZ5Z5skfQoeRJKkdsixbT335dbBt6pPVWDXC9HWhXv/2DGThidPiROovhneVefLd0HkkSWqzLwAXADPdfuGqgvXVWDRMdUW3X3tnBq7wxGmxL/Ax4HfA6wPHkSSp7bIsq6i3qU91+7U3McIMQ1REF3X7tXdmoApPnBYR8G/AXtSnKTfywjVJkhYry7LfUs+qdrX0zJ7BM8VwY87ggQErPMBzgb8CVpV58tvQYSRJ6rDX0eWLRSdvO3Rw/MJuvu6uDEzhidPiSOD/Ad9vvZckqa9lWfZH6tLTtQHm2Sc8wJXdes25GIjCE6fFKPAZ6sd6zyzzpOtDXJIkBfIRoGs7ptbPjDHMzAwNutsLBqTwAKcC9wGeX+ZJY66qlySp07IsmwaeTZcOI5ysxhhn661NO9+u7wtPnBb3py48nyrz5PTQeSRJ6rYsy34CfJsuXDuxvhqvRqKZGzv9OvPV14UnTovdqZeyrgReGjiOJEkhvZQuFJ7JaowRZhq3mtLXhQd4NxBT34K+LnAWSZKCybLsGmA1HVza2lpFbGI0iqgac0v6rL4tPHFaPBF4FrC6zJOfhs4jSVIDvANY26lPvqG1Q2uaofM79RoL1ZeFJ06Lg6in0s8CJgLHkSSpEbIs2wQ8nw5tU/+/M3jGGnfWXd8VnjgthoBPAEuBp5V50vH1SkmSesjXgV8D0+3+xLNn8Gxh+Pft/tyL1XeFB3gJ8CjglWWeNOoeD0mSQmvds/U8OnAC8zaHDjq03ElxWtwdeDtQAB8OHEeSpEbKsuwi6u+TG9v5eSerMcbYOlXmSdcvLd2Vvik8cVqMU1+Stg54TtMOPJIkqWEy2nyx6PpqjLFoulEnLM/qm8IDvBU4Bnh2mSc3hA4jSVKTZVm2DvhHYLJdn3OyGq9GmLm+XZ+vnfqi8MRp8QjgVcCHyjz5eug8kiT1iM8AvwcWvSpSVbC+GouGmLli8bHar+cLT5wWewGfBC4BXh04jiRJPSPLshnqe7Y2LfZzTTHCNENAdPGig3VATxeeOC0i4IPAAcApZZ505FwBSZL6VZZlZwFfZJHzPLNn8Ewx3LgzeKDHCw9wCvC3wJvKPDkrdBhJknrUq4Cti/kEs1vSN1RjF7YjULv1bOGJ0yIG3g/8DMjDppEkqXdlWXYj8EYWcQLz7BOeiujKNsVqq54sPHFaDAOfAiLqi0HbflqkJEkD5n3AzQv94OgotakAACAASURBVPXVGEPMzCzmc3RSTxYe4DXAg4GXlHnSuOOrJUnqNVmWbQGeywJvU18/M8Y4Wyebeg5ezxWeOC3uCbwFOB34dOA4kiT1jSzLvgf8mAXM80xW49VoNHNj+1O1R08VnjgtllGfpnwD8IKmtkhJknrYC4F5X7y9vhpjmJlrOpCnLXqq8AD/CtwFeEaZJ408ulqSpF6WZVkJnMY8lramq4iNjEZDVJd1LNgi9UzhidPiROBFwGllnnw/dB5JkvrY25hH4Zndkj7N0AWdCrRYPVF44rTYD/g4cC7whsBxJEnqa1mWbaBe2prTNvXZwrO+GvtNB2MtSuMLT+s05Y8Ce1Kfprzo468lSdIufRE4D5jZ1W+cPYNnC8ON3Tnd+MIDPA84GUjLPDk3dBhJkgZBlmUV8BzmcOXE7BMe4OpOZlqMRheeOC3uDLwL+B7w7sBxJEkaKFmW/Y76oN+drq6sr8YYY+tUk1dhGlt44rQYpb62fgp4Zpknu3ykJkmS2m4VsHlnv2GyGmMsml7TpTwL0tjCQ32nx72BfyjzpLH7+iVJ6mdZlq2hvuFghwPM66uxaoSZ67uXav4aWXjitHgg9W6sT5Z5ckboPJIkDbh/ZwfzOVUFk9VYNMzMFV3ONC+NKzxxWuxBfWXElcDLAseRJGngZVk2TT3A/Gdn80wxzDTDVHBJ95PNXeMKD/Vw8mHA08o8WRc6jCRJgizLfgZ8k+3meWZ3aG1mpNE7qRtVeOK0eBLwTOBtZZ78LHAcSZL0p17GdheLTlbjAKyvxs4PEWiuGlN44rQ4GPgwcBbw5sBxJEnSdrIsuxZ4K9sMMM8+4amIrgwUa04aUXjitBgCPgEsoT5Ned63tEqSpK44DVg7+z/WV2MMMVMBN4WLtGuNKDzUj8geCbyyzJOLQ4eRJEm3L8uyKepbENZDfQbPOFsnyzypwibbueCFJ06LewA58DXgI4HjSJKkXciy7BvAr4Dp9TNjjEYzN4bOtCtBC0/rNOXPUj8ae27T26EkSbrNPwBbJquxapiZxh8QHPoJz2HAPYB/LvOk8e1QkiTVsiy7ZEs19KGNjEZDVI29JX1W6MIzewz1sqApJEnSvH1385EfhYgpRs4JnWVXghaeMk8mgT8CK0PmkCRJ83fDzO77AExW478LnWVXQj/hgfoKCQuPJEm9Z/b7d6PP4AELjyRJWrjZ799XBU0xBxYeSZK0UCuBm8o82Rg6yK40pfCsiNNiReggkiRpXlbSA8tZ0JzCA3Bo0BSSJGm+LDzzMPsvymUtSZJ6RJwWERaeebHwSJLUe/YElmPhmbPrga1YeCRJ6iU9syUdGlB4yjyZBq7GwiNJUi+x8CyAW9MlSeotFp4FsPBIktRbDgOmgJ64/LtJheeQOC2GQweRJElzshK4qsyTmdBB5qJJhWcYODB0EEmSNCc9syUdmlV4wGUtSZJ6hYVnAa5ovbfwSJLUcHFajAIHYeGZt9lbVi08kiQ138FAhIVnfso8uRVYg4VHkqRe0FNb0qEhhafFremSJPUGC88iWHgkSeoNs9+vr9rp72oQC48kSZqvlcDNZZ5sCB1krppWePaK02L30EEkSdJO9dSWdGhe4QE4NGgKSZK0KxaeRfDwQUmSGi5Oi4j6Hi0LzwJZeCRJar4VwHIsPAt2HTCNhUeSpCbruS3p0KDCU+bJNHA19WMySZLUTBaeNnBruiRJzWbhaQMLjyRJzbYS2ALcEDrIfDSx8BwSp8Vw6CCSJOl2rQSuKvNkJnSQ+Whi4RkBDggdRJIk3a6eO4MHmll4wGUtSZKaysLTBhYeSZIaKk6LEeBgLDyLZuGRJKm5DqLuDhaexSjzZB2wFguPJElN1JNb0qFhhafFremSJDWThaeNLDySJDXT7Pfnq4KmWAALjyRJmquVwB/LPJkMHWS+mlp49o7TYnnoIJIk6U/05JZ0aG7hATg0aApJkrQ9C08buTVdkqRmsvC0kYVHkqSGidNiBbACC0/bXAvMYOGRJKlJZkdNrgiaYoEaV3jKPNkKXIOFR5KkJunZM3iggYWnxa3pkiQ1i4WnAyw8kiQ1y2HAFuD60EEWosmF59A4LZqaT5KkQbMSuLrMk5nQQRaiqYXiSmAU2D90EEmSBPTwlnRobuGZnQB3WUuSpGaw8HSAZ/FIktQQcVqMAAdj4Wk7C48kSc1xIDCMhae9yjxZC6zDwiNJUhP09JZ0aGjhaXFruiRJzWDh6SALjyRJzTD7/fiqoCkWwcIjSZJ2ZSWwpsyTW0MHWaimF5594rRYFjqIJEkDrqe3pEPzCw/83+2skiQpDAtPB7k1XZKkZrDwdJCFR5KkwOK02APYEwtPx1wLzGDhkSQppNnREgtPJ5R5soW69Fh4JEkKp+fP4IEGF54Wt6ZLkhSWhacLrgQOCx1CkqQBthKYBq4LHWQxeqHwHBqnRdNzSpLUr1YCV5d5Mh06yGI0vUhcCYwB+4UOIknSgOr5LenQG4UHnOORJCkUC08XWHgkSQokToth4BAsPB1n4ZEkKZwDgBEsPB13CzCJhUeSpBD6Yks6NLzwlHlS4Vk8kiSFYuHpIguPJElhWHi6yMIjSVIYK4G1ZZ6sCx1ksXql8Owbp8XS0EEkSRowK4ErQodoh14pPPB/t7VKkqTu6IszeKC3Co/LWpIkdZeFp4ssPJIkdVmcFsuBvbHwdM01QIWFR5KkbpodJbHwdEOZJ5upr6S38EiS1D19syUdeqDwtLg1XZKk7rLwBGDhkSSpu1YC09SrLD2vpwpPnBZR6CCSJA2Iw4BryjzZGjpIO/RK4bkCGAf2DR1EkqQB0Tdb0qF3Co9b0yVJ6i4LTwAWHkmSuiROi2HgECw8XWfhkSSpe/YHRrHwdN0aYD0WHkmSuqGvtqRDjxSeMk8q3JouSVK3WHgCsvBIktQdFp6ALDySJHXHSmBdmSdrQwdpl14rPPvHabEkdBBJkvpcX21Jh94rPFBvk5MkSZ1j4QnIremSJHWHhScgC48kSR0Wp8VuwB2w8ARzDVBh4ZEkqZMObb238IRQ5skUcD0WHkmSOqnvtqRDDxWeFremS5LUWRaeBrDwSJLUWSuBGeDa0EHaqScLT5wWUeggkiT1qZXAtWWebAkdpJ16sfAsBfYJHUSSpD7Vd1vSoTcLD7isJUlSp1h4GsDCI0lSh8RpMUS9Ld3CE5iFR5KkztkPGMPCE9wfgI1YeCRJ6oS+3JIOPVZ4yjypcGu6JEmdMvv99YqgKTqgpwpPi4VHkqTO8AlPg1h4JEnqjJXArcDa0EHarVcLzwFxWoyHDiJJUp9ZCVzZGiHpK71aeAAOCZpCkqT+05dn8EBvFx6XtSRJai8LT4NYeCRJarM4LZYC+2LhaYyrW+8tPJIktc+hrfcWniYo82QTcAMWHkmS2qlvt6RDDxaeFremS5LUXhaeBroCC48kSe20EqiAa0IH6YReLTxXAivjtIhCB5EkqU8cBlxb5smW0EE6oZcLzzJg79BBJEnqE327JR16u/CAy1qSJLWLhaeBLDySJLVJnBZD1NvSLTwNY+GRJKl99gXGsfA0zs3AJiw8kiS1Q19vSYceLTytW1w9i0eSpPaw8DSYhUeSpPaw8DSYhUeSpPZYCawH1oQO0im9XngOjNNiLHQQSZJ63ErgytbISF/q9cITAQeHDiJJUo/r6zN4oPcLD7isJUnSYll4GszCI0nSIsVpsRTYDwtPY13dem/hkSRp4Q5pvbfwNFGZJxuBG7HwSJK0GH2/JR16uPC0uDVdkqTFsfD0AAuPJEmLsxKogGtCB+mkvig8cVpEoYNIktSjVgLXl3kyFTpIJ/VD4VkO7Bk6iCRJParvt6RDfxQecFlLkqSFWglcETpEp/VL4TksaApJknpQayTEJzw9wCc8kiQt3D7AEiw8jXcTMIWFR5KkhRiILenQ44WnzJMZ4CosPJIkLYSFp4d4Fo8kSQtj4ekhFh5JkhZmJbAB+GPoIJ3WL4XnoDgtRkMHkSSpx6wErizzpAodpNP6pfBEwMGhg0iS1GMGYks69E/hAZe1JEmaLwtPD7HwSJI0T3FajAMHYOHpGVe13lt4JEmau0Na7y08vaDMkw3AzVh4JEmaj4HZkg59UHharsDCI0nSfFh4epBn8UiSND+z3zevDpqiS/qp8BzWuvVVkiTt2mHA9WWeTIUO0g39VHiWAytCB5EkqUcMzJZ06K/CAy5rSZI0VxaeHjT7f9hhQVNIktQDWiMgFp4eNPvnODNOi2ODJpEkqfnuACzFwtNzfg1c2vrns+O0+EicFvuHDCRJUoMN1JZ06JPCU+bJ5jJPjgT2Bt4NPAu4JE6L18VpsSRsOkmSGsfC08vKPFlT5skrgKOBHwI5cEGcFk9yy7okSbex8PSDMk8uLvPkL4FHAbcCpwM/itPinmGTSZLUCCuBTdRXMw2Eviw8s8o8+R5wPPB84K7AWXFafCJOi4PCJpMkKaiVwJVlnlShg3RLXxcegDJPpss8+QhwJPB24KnU8z1vjNNiWdh0kiQFMVBb0mEACs+sMk/WlnnyOuAo4JvAm4GL4rT4O+d7JEkDxsLT78o8ubzMkycBDwNuAj4L/DxOi/sFDSZJUhfEaTEOHIiFZzCUefIj4F7UW9gPoy49n4vTwuspJEn97ODWewvPoCjzZKbMk09Qz/f8M/AE6mWut8RpsTxoOEmSOmPgtqTDgBeeWWWeTJZ5cipwF+DLwKnAxXFaPDNOC/8dSZL6iYVn0JV5cmWZJ38HPID6C+HjwC/jtHhw2GSSJLXNbOG5KmiKLrPw3I4yT35OXXqeBuwP/DhOi9PjtLhj2GSSJC3aSuCGMk82hQ7STRaeHWjN93yWepkrA04ELozTIo/TYo+w6SRJWrCB25IOFp5dKvNkQ5knbwbuDHweeB31wYXPi9NiOGw6SZLmzcKjHSvz5JoyT54B3Ae4BPgI8Os4LR4RNpkkSXPTOmjXwqNdK/PkV8CDgb8BVgDfj9Piq3FaHBk2mSRJu7QXsBsWHs1FmSdVmSenU19Iugp4BHBenBanxWmxV9h0kiTt0EBuSQcLz6KUebKpzJOc+uDCTwIvp57veXGcFiNh00mS9GcsPFq4Mk+uL/PkecAJwG+B9wG/idPisWGTSZL0Jyw8WrwyT84B/gJ4PDAOfDNOi2/EaXFU2GSSJAF14Zmivjx7oERVVYXO0Jdat9G+BHgjsBz4IPCmMk/+EDSYJGlgxWnxeeCEMk/uHDpLt/mEp0PKPJkq8+Sd1PM9HwZeBFwap8Ur4rQYC5tOkjSgBnJLOlh4Oq7Mk5vKPHkxcAzwS+A04HdxWpzcOg9BkqRusfCos8o8OQ94LJAA08CZwHfjtDgmaDBJ0kCI02IUOAgLjzqtdX7PN6if9rwMOB44O06LD8dpsV/YdJKkPncwEGHhUbeUebKlzJP3Us/3vBd4NvV8z2tbw86SJLXbwG5JBwtPUGWe/LHMk5cDdwd+BPwLcEGcFk90vkeS1GYWHoVV5slFZZ6cDDwaWA+cAfwwTot7hk0mSeojs4XnqqApArHwNEiZJ9+lnut5AXAU8Ks4LT4ep8VBYZNJkvrASuCmMk82hg4SgoWnYco82VrmyYep53veAZwCXBynxalxWiwNm06S1MMOY0CXs8DC01hlnqwt8+S11E96vg28BbgoTounOt8jSVqAgT2DByw8jVfmyWVlnjwReBhwM/A54L/jtLhf0GCSpJ7R+kHZwqPmK/PkR8C9qbewx8DP47T4bJwWhwYNJknqBXtS3+to4VHzlXkyXebJx4E7A/8MPJF6mevNcVosD5tOktRgA70lHSw8PanMk1vLPDkVuAv1FRVvpC4+z4jTwv9PJUnbs/CEDqCFK/PkijJPngI8ELga+ATwizgtHhQ0mCSpaSw8oQNo8co8+W/g/sDTgQOBn8Rp8YU4Le4YNpkkqSFWApuBG0MHCSWqqip0BrVRnBa7Aa8GXgsMA+8CVpd5si5oMElSMHFa/Adw7zJPjgidJRSf8PSZMk/Wl3kyQT3f8wUgBS6J0+K5cVoMh00nSQpkoLekg4Wnb5V5cnWZJ38P3Be4FPg34H/jtHhE2GSSpAAsPKEDqLPKPPkl8CDgb6nPYfh+nBZfidPiyLDJJEndEKfFKHAQFh71uzJPqjJPvkB9TcXrgb8AzovT4p1xWuwZNp0kqcMOov5+f0XoICFZeAZImScbyzxZTX0x6aeAVwCXxmnxojgtRsKmkyR1yMBvSQcLz0Aq8+T6Mk+eC9wTOBd4P/CbOC0eEzaZJKkDLDxYeAZamSdnA48AngCMA9+K0+IbcVocFTaZJKmNZgvPVUFTBOY5PAIgTotx4KXU11TsBnwQeFOZJ38IGkyStChxWnwQeFKZJ/uGzhKST3gEQJknU2WevAM4AvgI8CLq+Z6Xx2kxFjadJGkRBn5LOlh4tJ0yT24q8+RFwLHAr6hPaj43TouT4rSIwqaTJC2AhQcLj3agzJPfAY8BTgIq4GvAd+K0uEfQYJKk+bLwYOHRTrTO7ymAewD/SL2r65w4LT4Up8V+YdNJknYlTosVwB5YeCw82rUyT7aUefIe6vme9wHPob6f6zWtYWdJUjO5Jb3FwqM5K/Pkj2We/CP1E5+fAG8Hzo/T4q+d75GkRrLwtFh4NG9lnlxY5slJ1DM+G4EvAv8Vp8UJYZNJkrZj4Wmx8GjByjz5DnAc8ELgaOCsOC0+FqfFgWGTSZJaVgJbgBtCBwnNgwfVFq1LSN9APdy8GVgNnFbmycagwSRpgMVp8VngfmWeHB46S2g+4VFblHlyS5knrwHuBnwHeCtwYZwWT3G+R5KCcUt6i4VHbVXmyaVlnvw18HDgj8B/AD+N0+I+YZNJ0kCy8LRYeNQRZZ78ELgX8FzgcOAXcVp8Ok6LQ4IGk6QBEafFCHAwFh7AwqMOKvNkusyTfweOBN4GPBm4OE6LiTgtdgubTpL63oHAMBYewMKjLijz5NYyT94A3BU4E/gn6uLz9Dgt/BqUpM5wS/o2/GajrinzpCzz5CnAg4BrgE9RL3U9MGwySepLFp5tWHjUdWWe/Ay4H/D31I9cfxqnxX/GaREHDSZJ/WW28FwVNEVDeA6PgmrN8rwGeC11AT8NWF3mya1Bg0lSj4vT4v3AU8o8uUPoLE3gEx4FVebJ+jJP3gTcGTgdWEV9Melz4rQYDhpOknrbYbicdRsLjxqhzJOryzx5OnBf4HLgo9RXVTw8bDJJ6lmewbMNC48apcyTXwIPBJ4C7A38IE6LL8dpcUTYZJLUcyw823CGR40Vp8VS4BXA64Ex4D3AW8s8uSVoMElquDgtVgC3AK8t8+RfQ+dpAp/wqLHKPNlY5snbqA8u/DTwSur5nhe2ThCVJN2+Q1vvfcLTYuFR45V5cl2ZJ88B7gmcB3wAOCdOi0eHTSZJjeUZPNux8KhnlHlyNvWlpE8ElgLfjtPi63Fa3DVsMklqHAvPdiw86illnlRlnnwJuBv1+T0PBs6N0+I9cVp41oQk1VYCW4HrQwdpCoeW1dPitNgPmAD+AVgLvAn4YJknW0LmkqSQ4rT4DPCAMk/uFDpLU/iERz2tzJMbyzx5IXAc8L/Au6mf+JwUp0UUNp0kBeOW9O1YeNQXyjw5F3g0cDIQAV+jnvG5e9BgkhSGhWc7Fh71jdZ8z9eBuwMvB+4F/CZOiw/GabFv2HSS1B2ta3kOwcLzJyw86jtlnmwp8+Td1Of3vB94HnBpnBavjtNiPGw6SeqcOC32AU4FhvGW9D/h0LL6XpwWRwHvAE4ELqPe3fWVMk/84pfUF+K0OAF4KfBUYBz4HvC3ZZ78MWiwBrHwaGDEafEY4DTqLe0/Al7ROttHknpOnBaj1OeSvRR4ALAe+BTwvjJPzg+ZrYksPBoorSspnge8hfpy0o8Dp5Z5cl3QYJI0R3Fa7A88H3gBcCD1k+v3Ax/3rsEds/BoIMVpsSf1OvfLgClgNfCuMk82Bg0mSTsQp8V9qJ/m/C0wCnwbeC/wzTJPZkJm6wUWHg20OC2OBN4OPB64Angd8AXneyQ1QWujxZOpi859gFuBTwDvL/PkooDReo6FRwLitHg48C7gWOC/qed7fhk2laRBFafFQdRLVs8H9gMuAt4HfKrMk3Uhs/UqC4/U0jq74lnAW4H9gc8Aq8o8uTpoMEkDoXU6/P2pl9qfSL21/BvUy1bfddlqcSw80nbitNgDWAW8ApihXvL61zJP1gcNJqkvxWmxBHgK9bLVCdT3An6MetnqspDZ+omFR9qBOC3uCPwL9fr5NdQl6LP+lCWpHeK0OBR4IfXO0X2A86mf5nymzJPJkNn6kYVH2oU4LR5EPd9zL+BXwMvLPPnvsKkk9aLWstVDqJ/mPJ767r8zqYvOf7lhonMsPNIcxGkxBDyNevv6QcB/Aq8r8+SKoMEk9YQ4LZYBpwAvAY4B1gAfBT5Q5kkZMNrAsPBI8xCnxW7Aa6mvpxgC3gnkZZ7cGjSYpEaK0yIGXgw8B9gL+C3105zPlXmyIWC0gWPhkRagtfa+mvontuuBNwCfLPNkOmgwScG1lq0eQb1sdTJQAV+mLjo/cdkqDAuPtAhxWtwX+H/A/YBzqM/v+WHQUJKCiNNiOfB06mWruwE3Ax8BPlTmiTeXB2bhkRap9dPc31JvXz+U+ie517idVBoMcVocQb1s9SxgBfBr4D3Af5Z5silkNv0fC4/UJnFaLAVeSb19fZT6L7y3lnmyNmgwSW3X2sjwKOpDAh8HTANnUC9b/dxlq+ax8Eht1joS/q3AM6kfaf8T8NEyT7aGzCVp8VoHkz6DetnqzsANwIeBD5d5cm3IbNo5C4/UIXFanEB9fs9DgN8Bryzz5LthU0laiDgt7kJdcp4JLAd+Qf0054wyT6YCRtMcWXikDmrN9/w18K/AHYGvA6/2lmOp+VrLVidS77Z6NLCF+gyu93q5cO+x8EhdEKfFOPVa/xuBpcD7gTeXefLHoMEk/Zk4LfakHkB+MXA4cC3wIeAjZZ7cEDKbFs7CI3VRnBb7A28Gnkt9QWBGvWV1S9BgkojT4mjqZau/B5YBP6NetvqS/432PguPFECcFvegnu/5C+BC4NXAN9zZIXVXnBbD1IcDvpT6sMAp4HPA+8o8+XXIbGovC48USGu+5yTgHdS7Pb5DPdh8XtBg0gCI02Jv6ietLwIOA64CPgj8W5knN4fMps6w8EiBxWkxRv2XbgbsQb3FNSvz5KagwaQ+FKfFsdRPc04BlgA/ol62+qpHR/Q3C4/UEHFa3AF4E/BCYBJ4C/VukM0hc0m9Lk6LEeDx1EXnIcBG4DPUy1a/DZlN3WPhkRomToujqG9hfxxwGfV8z1ed75HmJ06LfYHnUf8QcQhQUu+Q/Jg7JAePhUdqqDgtHktdfO4G/JD6YtJzgoaSekCcFvekfprzFGAc+D71stXXyzyZDplN4Vh4pAZrPYr/B+qt7HsDHwNOLfPk+qDBpIaJ02IUeCL1eVf3B9YDn6Jetjo/ZDY1g4VH6gFxWuwFnEr9U+sU8DbgXd7ErEEXp8UB1D8UvAA4kHoZ+H3AJ8o8uSVkNjWLhUfqIXFaHEl9TcVfUc8jvA443fkeDZo4Le5L/QPA3wCjwLepl62+WebJTMhsaiYLj9SD4rR4BPXBhcdQnwb78jJPzgqbSuqs1hUtf0NddO4N3Ap8Ani/99NpVyw8Uo9qnRD7LOCfgf2o5xVeX+bJNUGDSW0Wp8X/b+9eY/SqqjiMP6FcStMATUFEEQ8ECIiIigZQwSgRLScQuRlQC8hVCyXIpW4bFAQrhwQMAi0tthAQwQaEWN2xJjWgYiwSJEAAb5iDEJBLQCyXUArxwzoSlGBL+87sec88v4Qvk3TelQ5h/uy19l7vIFpWJxL/rv+JaFtd3Tb1ipK1aXgYeKQhV6W8CTAb+CqwCrgAuLBt6heKFiatg+4l8o8QpzmHABOATLStltm20ltl4JF6okp5WyLsHAY8AnwduM5fDBomVcoTgSOIoPMBYsnuImBe29QPlqxNw83AI/VMlfLexHzP7sDvifme35WtSvr/qpS3IR4IPB6YCtxPnOZc2zb1cyVrUz8YeKQeqlJeD5gOnE9c1f0RkNqmfqhoYdLrdG2rfYjTnIO6Ly8hgs4t3j7UIBl4pB6rUp4MzALO7L50EdD4f8wqqUp5ErG8cyawK/A0sBC4vG3qtmBp6jEDjzQOdO2C84HPA/8ghpyvdr5Ho6mbM5sBHAtMAe4BLgGud8heI83AI40jVcp7EvM9ewJ3Efu5flW2KvVZ17b6JLHy4QDgVeBmom31G9tWGi0GHmmc6X4BHU7c6HoXcBMwyxswGqSunTodOJlYgPsUcAUwv23qh0vWpvHJwCONU90cxWlAIp7m/x4wp23qZ4sWpqFWpbw9cBLxKOamwJ3Eac5id7+pJAOPNM51r9jOAY4GngS+ASxqm3pVybo0PLpbgfsRQ8jTgFeAG4n5nOW2rTQWGHgkAVClvDsx37M3cC9wWtvUy8pWpbGse+X7aOJEZ0fgcWABsKBt6kcLlia9gYFH0mu6+Z6DiY3s2wI/A85wMaNer0p5J2I25yhgMnA70ba6oW3qlSVrk96MgUfSG3TP+58CnAVsTCxqPLdt6meKFqZiurbV/kTbaj9gJbAYuLRt6jtK1iatCQOPpDdVpbwlcC5wHPBP4Bzils3LJevS6KlS3gw4hmhbbQc8ClwOfL9t6sdL1ia9FQYeSatVpbwb8F3iPZU/EvM9Py9blUZSlfIuxGnOdGAS8FuibXWTgVfDyMAjaY108z0HABcCOwC/AE5vm/q+ooVpYKqUJxA/45lEuH0JuI5oW91VsjZpXRl4JL0lVcobEu2Ns4mB1QXA2W1TP1W0MK21KuWpxLqHGcC7gYeBecBCf67qCwOPpLVSpbw5MdPzZeA5YtbnAjOxTAAABYRJREFUMm/pDI+uVTmTWOQ5EbiVaFst8R0m9Y2BR9I6qVJ+D7GF/TPAX4EziF+Y/sdlDKpSXh84iAg6ewMvAtcSYfWekrVJI8nAI2kgqpSnEcFnZ+AWYjHp3WWr0n9UKW8BHA98BdgaaIG5wJVtUz9dsDRpVBh4JA1MlfIGwAlEe2sKsAg4y+vL5XQvaM8kFsZuBCwj2la5bepXStYmjSYDj6SBq1KeQuzkmkm0TL4DXOzyyNHRDZYfQvz97wU8D1xNtK0eKFmbVIqBR9KIqVLekVhTcSDRQpkF3Oh8z8ioUn47cGL3z1bETNVc4Kq2qZ8tWZtUmoFH0oirUt6XWEy6K3AbcGrb1HeWrao/qpT3IFaBHAZsACwl2lZL26Z+tWRt0lhh4JE0KrpH7Y4Fvg1sQbRYZrtVe+1UKW8EfI5oW30YWAFcBcxtm/rPJWuTxiIDj6RRVaW8KTAbOBVYBTTARW1Tv1C0sCFRpfxO4u2jE4C3Eas+LgOuaZt6RcnapLHMwCOpiCrl7YALgEOBR4AEXG8L5o26tR4fJU5zDgYmABm4BFjmTJS0egYeSUVVKe9DzPd8ELidmO9ZXraqsaFKeWPiOvkpwPuBZ4mr/vPapn6wZG3SsDHwSCquSnk94Eji+vpWwPVAapv670ULK6RKeRvigcDjganAfcQQ8rVtUz9fsjZpWBl4JI0ZVcqTga8R6ykgNrNf0Db1c+WqGh1d2+rjRNvqs92Xf0IEnVttW0nrxsAjaczpTjga4AjgMWLI+Zo+zvdUKU8CvgicTFzbfxpYSLStHipZm9QnBh5JY1aV8l7EfM8ewB+I/Vy/LlvVYFQpbwvMIK7qTwHuJk5zrmub+sWStUl9ZOCRNKZ18z2HEze6tgZ+DMxqm/pvRQtbC13bal+ibXUA8CpwExF0brNtJY0cA4+kodC1fk4nrq+vD1wMzGmb+l9FC1sD3WzSkUTbamfgSeAKYH7b1I+UrE0aLww8koZK9/DeHOAo4AliSemisbj5u0p5eyLkfAnYBLiTOM1Z7CJVaXQZeCQNpSrlDxHzPR8D7gFOa5v6l2Wreq0F92mibTWNeE36BiLoLLdtJZVh4JE0tLqZmEOIjewVsAQ4s8QuqSrlTYCjiROdHYDHgfnAgrapHxvteiT9NwOPpKFXpTyR2M01G9iYOE05r23qZ0bhs3ciQs5RwGRgeff5N7ZNvXKkP1/SmjHwSOqNKuUtgfOA44j3bM4hTlheHvDnTAD2J9pWnwJWAouBS9umvmOQnyVpMAw8knqnSnk3Yr7nE8ADxHzP0gF8382AY4CTgO2AR4HLgSvapn5iXb+/pJFj4JHUS918z4HEeortgaXA6W1T378W3+u9RNtqOjAJuI1oW9086NMjSSPDwCOp16qUNyTCyjeJGZv5wDltUz+1mj+3PvE44EzipOgl4IfAZW1T3zWiRUsaOAOPpHGhSnlz4FvAicAK4Fxg7v8OFlcpTyVmgGYA2wAPA/OAhasLSZLGLgOPpHGlSnkX4CLirZy/EJvZfwq8jzjN+QIwEbiVaFstaZt6VZFiJQ2MgUfSuFSlPA34LrAT0BLv+LwI/IBoW91brDhJA2fgkTRuVSlvQLS4DiVOea4cjbd7JI0+A48kSeq99UoXIEmSNNIMPJIkqfcMPJIkqfcMPJIkqfcMPJIkqfcMPJIkqfcMPJIkqfcMPJIkqfcMPJIkqfcMPJIkqfcMPJIkqfcMPJIkqfcMPJIkqfcMPJIkqfcMPJIkqfcMPJIkqfcMPJIkqfcMPJIkqfcMPJIkqfcMPJIkqfcMPJIkqfcMPJIkqfcMPJIkqfcMPJIkqfcMPJIkqfcMPJIkqfcMPJIkqfcMPJIkqfcMPJIkqfcMPJIkqff+DQQ4xci9/M/dAAAAAElFTkSuQmCC\n",
          "text/plain": "<Figure size 720x720 with 1 Axes>"
         },
         "metadata": {},
         "output_type": "display_data"
        }
       ]
      }
     },
     "8128a83697114f038bfdf66087b3e91b": {
      "model_module": "@jupyter-widgets/controls",
      "model_module_version": "1.5.0",
      "model_name": "ButtonModel",
      "state": {
       "description": "Prev",
       "layout": "IPY_MODEL_4d3f3411eb8b4067a7ace9946c8b37fb",
       "style": "IPY_MODEL_251b8783a46441118350996059549c0d"
      }
     },
     "831c396bb4724a788aaf457ebf6b7b47": {
      "model_module": "@jupyter-widgets/base",
      "model_module_version": "1.2.0",
      "model_name": "LayoutModel",
      "state": {}
     },
     "88c3da9bdcf042c7b758c72553cbb657": {
      "model_module": "@jupyter-widgets/controls",
      "model_module_version": "1.5.0",
      "model_name": "IntSliderModel",
      "state": {
       "description": "step",
       "layout": "IPY_MODEL_310f632d6f734b728da67811f8d8a373",
       "max": 9,
       "style": "IPY_MODEL_7e7e97c42988494c86324508ae3f55af",
       "value": 9
      }
     },
     "89e412bd7f00447d9a3288e85e92e294": {
      "model_module": "@jupyter-widgets/base",
      "model_module_version": "1.2.0",
      "model_name": "LayoutModel",
      "state": {}
     },
     "89ea24ca850b46c8a9ba91cab45e4f96": {
      "model_module": "@jupyter-widgets/controls",
      "model_module_version": "1.5.0",
      "model_name": "SliderStyleModel",
      "state": {
       "description_width": ""
      }
     },
     "8c8adc11a6f2423a80bc3910b567a0b0": {
      "model_module": "@jupyter-widgets/base",
      "model_module_version": "1.2.0",
      "model_name": "LayoutModel",
      "state": {}
     },
     "8ff0b62d1593427bb932ac4008b74324": {
      "model_module": "@jupyter-widgets/controls",
      "model_module_version": "1.5.0",
      "model_name": "ButtonStyleModel",
      "state": {}
     },
     "90782eee009f449f9b3cd976848eff60": {
      "model_module": "@jupyter-widgets/controls",
      "model_module_version": "1.5.0",
      "model_name": "HBoxModel",
      "state": {
       "children": [
        "IPY_MODEL_fb9feeb7965a4183a55b719afa15eff2",
        "IPY_MODEL_69d6cffe577f455ba61a134e8a2bbc7f"
       ],
       "layout": "IPY_MODEL_094cc7f771fc42349c9835e2571f08c8"
      }
     },
     "91c70801f71d458f87539dbc1164ec60": {
      "model_module": "@jupyter-widgets/controls",
      "model_module_version": "1.5.0",
      "model_name": "VBoxModel",
      "state": {
       "_dom_classes": [
        "widget-interact"
       ],
       "children": [
        "IPY_MODEL_dd81d8c4e6ce4ac38eb810221a35a85a",
        "IPY_MODEL_c2d3367da1df44a0a6eef7656149314b"
       ],
       "layout": "IPY_MODEL_aca663f331664a99b109d96ebc8c70ae"
      }
     },
     "9268e305947d4d21b2029be2fc52ea94": {
      "model_module": "@jupyter-widgets/base",
      "model_module_version": "1.2.0",
      "model_name": "LayoutModel",
      "state": {}
     },
     "93bcbee1411b4b93b5cd3e523292df35": {
      "model_module": "@jupyter-widgets/controls",
      "model_module_version": "1.5.0",
      "model_name": "ButtonModel",
      "state": {
       "description": "Prev",
       "layout": "IPY_MODEL_ac55ac12d1e2435183786ad691322367",
       "style": "IPY_MODEL_7549e542d30e4ae5a7d46ba45642aadd"
      }
     },
     "95ce7507869640d98e814b0c240f4383": {
      "model_module": "@jupyter-widgets/controls",
      "model_module_version": "1.5.0",
      "model_name": "SliderStyleModel",
      "state": {
       "description_width": ""
      }
     },
     "974edbf230c14f7c9d97357e6444d491": {
      "model_module": "@jupyter-widgets/controls",
      "model_module_version": "1.5.0",
      "model_name": "SliderStyleModel",
      "state": {
       "description_width": ""
      }
     },
     "995d46f584e44dd0a71bbc9df4696ac5": {
      "model_module": "@jupyter-widgets/base",
      "model_module_version": "1.2.0",
      "model_name": "LayoutModel",
      "state": {}
     },
     "9a70a4778dd44e0ea1c98cec922ce3c9": {
      "model_module": "@jupyter-widgets/output",
      "model_module_version": "1.0.0",
      "model_name": "OutputModel",
      "state": {
       "layout": "IPY_MODEL_c368536a2df145df9c3eb5c99437b6bd",
       "outputs": [
        {
         "data": {
          "image/png": "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\n",
          "text/plain": "<Figure size 720x720 with 1 Axes>"
         },
         "metadata": {},
         "output_type": "display_data"
        }
       ]
      }
     },
     "9a87a45089fc4962b6cf3b7224e2aa48": {
      "model_module": "@jupyter-widgets/controls",
      "model_module_version": "1.5.0",
      "model_name": "IntSliderModel",
      "state": {
       "description": "step",
       "layout": "IPY_MODEL_51500f709e7e4d15a612a9210a545ebc",
       "max": 9,
       "style": "IPY_MODEL_fa13e1957d714110a695c243b647afb3",
       "value": 2
      }
     },
     "9abc3c206b884a568486d90997cfd0cd": {
      "model_module": "@jupyter-widgets/controls",
      "model_module_version": "1.5.0",
      "model_name": "ButtonModel",
      "state": {
       "description": "Prev",
       "layout": "IPY_MODEL_f7b155c0ba9848b4a55dd2c46963eab3",
       "style": "IPY_MODEL_2def9fd145f043dfb1b0722b0ac31d17"
      }
     },
     "9ad38cf148504c78b08a7ba5d5d6d825": {
      "model_module": "@jupyter-widgets/output",
      "model_module_version": "1.0.0",
      "model_name": "OutputModel",
      "state": {
       "layout": "IPY_MODEL_6949f53dd82f4aecbed7f3260b192e76",
       "outputs": [
        {
         "data": {
          "image/png": "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\n",
          "text/plain": "<Figure size 720x720 with 1 Axes>"
         },
         "metadata": {},
         "output_type": "display_data"
        }
       ]
      }
     },
     "9b5d8e15c6114ae18a17676c40b71fa8": {
      "model_module": "@jupyter-widgets/base",
      "model_module_version": "1.2.0",
      "model_name": "LayoutModel",
      "state": {}
     },
     "9dfceb9f360a47a795660353fa9cd21d": {
      "model_module": "@jupyter-widgets/controls",
      "model_module_version": "1.5.0",
      "model_name": "ButtonStyleModel",
      "state": {}
     },
     "9eabb289dd3c4609b1a6e1d765798d35": {
      "model_module": "@jupyter-widgets/base",
      "model_module_version": "1.2.0",
      "model_name": "LayoutModel",
      "state": {}
     },
     "9ef867337fda44a2b43f190b3dcf6225": {
      "model_module": "@jupyter-widgets/output",
      "model_module_version": "1.0.0",
      "model_name": "OutputModel",
      "state": {
       "layout": "IPY_MODEL_02ba773c14b24ea0abda18ded3109cf0",
       "outputs": [
        {
         "data": {
          "image/png": "iVBORw0KGgoAAAANSUhEUgAAAjwAAAIuCAYAAAC7EdIKAAAABHNCSVQICAgIfAhkiAAAAAlwSFlzAAALEgAACxIB0t1+/AAAADh0RVh0U29mdHdhcmUAbWF0cGxvdGxpYiB2ZXJzaW9uMy4yLjIsIGh0dHA6Ly9tYXRwbG90bGliLm9yZy+WH4yJAAAgAElEQVR4nOzdeZwcdZ3/8VfPTM8kBAj3TSglIPEWL9R1vS8Kr3X9eeB9rPe5HuW15agrta6rq6ur4IUK3m44LE9cb1lvBBREwCIh3IQkJMw9/fujOhpjjjm6+1vd/Xo+HvOYSGa63kGg31P1+X6/tUajgSRJUi8bCB1AkiSp3Sw8kiSp51l4JElSz7PwSJKknmfhkSRJPc/CI0mSep6FR5Ik9TwLjyRJ6nkWHkmS1PMsPJIkqedZeCRJUs+z8EiSpJ5n4ZEkST3PwiNJknqehUeSJPU8C48kSep5Fh5JktTzLDySJKnnWXgkSVLPs/BIkqSeZ+GRJEk9z8IjSZJ6noVHkiT1PAuPJEnqeRYeSZLU8yw8kiSp51l4JElSz7PwSJKknmfhkSRJPc/CI0mSet5Q6ACSpN4RJfkgcChw5E4+fgO8usjisWAh1ZdqjUYjdAZJUheIkrwGHMiOi8yK5ufDgMHtvnUzsBa4HngQ8HPg8UUWX9+Z5JKFR5LEn8vMcnZeZI4EjgBGtvvWCeBqykKz/cea5ueNRRY3mtd5InAmZfk5qcji37X1DyY1WXgkqQ9ESb4HOy4x237sud23zQDXsPMisxa4cWuZmUeWewHnAMuAJxdZ/O2F/amkubPwSFKXi5J8GDicnReZI4H9dvCt17PjErP147oii6fblPlI4GvAnYCXFVl8ajuuI21l4ZGkCpvDEPCRwMFAbbtvvYWdF5m1wLoiiyc68EfYqSjJ9wK+AJwIvA94Q5HFMyEzqXdZeCQpkN0MAW/9OJy/HQLews6LzFpgbZHFWzrwR1i0KMmHgP8AXgmcDZzcLdnVXSw8ktQGuxgC3naOZkdDwJPsosg0PzbMd26m6qIkfznwAeC3wGOLLF4XOJJ6jIVHkhZguyHgna1qmusQ8LZzNPMeAu4VUZKfCHwR2Ei5guuCwJHUQyw8krSdbYaAd1Zk5jIEvKNVTW0bAu4VUZLflXKYeT/gaUUWnxs4knqEhUdSX2kOAR/Crpdn72oIeGfLs4MPAfeKKMkPpVy2fk/gtcAH+vWul1rHwiOpZ8xxCPgw/vZYnS3senl21wwB94rmI8PPAv8A/DfwKu+OaTEsPJK6whyGgLfuBLxku2+dpNwJeFermnpuCLgXREk+AJwCvAH4JvCUIos3hU2lbmXhkVQJuxgC3naGZr5DwFt3Ap7twB9BbRIl+QuAjwCXUg4zXxU4krqQhUdS2+1kCHj7YeD5DAFv/bjWxxz9IUryhwFfBcaBxxVZ/PPAkdRlLDySFmW7IeCdrWqa6xDwtnM0DgHrr0RJvopyBddhwDOLLP5K4EjqIhYeSTvVnJs5gF0fOrm7IeAdrWq6usjizR34I6jHREl+IHAWcH/gTcC/OX+lubDwSH0sSvKtQ8A7W569qyHgnS3PdghYbRUl+RLgk8DTmp9fUmTxZNhUqjoLj9Sj5jAEfCSw13bfNstfhoB3tqrJIWAF17z7mDY/vgc8qcjiW8KmUpVZeKQutJsh4K0f++/gW29g18uzHQJWV4mS/GTKuzwFEBdZfHnYRKoqC49UMbsYAt52jma+Q8Bb52YcAlbPiZL8gcDq5v98QpHFPw6ZR9Vk4ZE6aAdDwDsaBp7PEPC2OwE7BKy+FSX5SiAHIuD5RRafETaRqsbCI7XQNkPAO1vVNNch4O2HgR0ClnYjSvJ9KffqeQjwDuDt/nujrSw80hw1h4CPYNermnY1BLyzVU0OAUst0pxv+yjwXGh8HmrPK7J4PHQuhWfhkVj0EPCuDp10CFjqsOaj4zcCpwwzffEstYdenj3uxtC5FJaFRz1vDkPARzZ/f/sh4A3senn2On9ylKrr79585huumd373QM0bq7ReOgfs8f/LnQmhWPhUVfbxRDwth+H4xCw1HdGR0cHLp/e779+NrXi+dMMzA4z86RLsyd8I3QuhWHhUaXtYAh4+2Hg+Q4Bb/24xWFGqfeNjo6uWD+79D/Omzzm4Vsa9b2XMvWaS7InfjB0LnWehUfBREm+lF0vz57PEPC2czQOAUv6s9HR0WeMNYYe+e2JYx+8vrHHkUuY+sg49Zf734n+YuFRW0RJXuevh4B3tKppd0PAO1rV5BCwpHkZHR3dG/i3mUbt1u9Ornz0utnldxlh6rwJ6o8vsvi20PnUGRYezVtzCPhgdr40e3dDwDtb1eQQsKS2GB0dfTDwnEaD4vypFX//h5kDHzLMzGUzDDz4iuyx1waOpw7YfpBT2qUoyV8EfBAY3u63buMvxeUbOAQsqVp+DDy8VmO/+w+v+eHeUxM3/Wr68CcO0Ljo2OTsR1yWPf43oQOqvbzDozmLkvyuwC+A84Ev4hCwpC4yOjp6B+BNwFVA46qZfQ778WR08jQDgyPMPO2S7Amrd/MS6mIWHs1JlORLKMvOAcBdiiy+KXAkSZqX0dHRGvBPwD0pFz9w8+zSvf53cuWzNzeG91vK1JsvyZ6YBQ2pthkIHUBd4xTgzsBzLTuSulGapg3Ks7ZqNB/L7z8wdutJI5ecdkDttqvGGD7luOSs05tziuox3uHRbkVJ/gjg28CHiix+Reg8krQYo6OjJwJPpny0BcBMo1b7/uTtT1ozu+/xI0z9eIL6iUUW3xoupVrNOzzapSjJ9wdOBy4B3hA2jSS1xHeB9cDeW//CYK3ReNjIFefecfD6b08w9IA607+9fXLukeEiqtUsPNqp5rENpwIHAicXWTwWOJIkLVqaphPAZyhnEv/KfYfXnn9Cfc0XZhk4olau4Lpv5xOqHSw82pVnA08C3lpksUs2JfWSC4HfUu4p9ldWDd142UOHL//EELNDUwz+aFWy+qmdj6dWc4ZHOxQl+e0p/2PwK+BhRRbPBI4kSS01Ojp6GPAuyhVbf7OD+4bZJcu+O7nyWZsaIwctZWp0jOFRt9/oXhYe/Y0oyYeAHwB3Au5aZPGawJEkqS1GR0efDDyacj+xvzHRGBw6b/KYp9wwu+fKJUx9cZz6M4ssnupsSrWCj7S0Iwlwf+Cllh1JPe7rwBiwx45+c6Q2M/2Y4Us/d7vB9T8bp/6UEaZ/EiX5Pp2NqFbwDo/+SpTk9wF+CnyxyOKTQ+eRpHYbHR29H/Bi4E+7+rpfTh1+r4unD3nMELPrGvCQy7PHXdGZhGoF7/Doz6Ik3xM4g/J59ssCx5GkTvk5cAU7WLW1rXvV1/3y/vWrzmzAwQ1qvzkuOetBnYmnVrDwaFv/AawEnlVk8YbQYSSpE9I0naH8YW9PdvO+eOzQTVc+fPjy04aZaUwwdN6qZPVzOxJSi+YjLQEQJfnjgLOB9xRZ/MbQeSSp00ZHR58DPABYt7uv3TQ7svS8yZXP2thYeshSJv99jOE3uoKr2rzDI6IkPwT4BHAB8C+B40hSKGcBs8DI7r5w74GJsZNGLvn4IQObLh1j+PVLmFodJfluv0/hWHj6XHM35U9Q3so9ucjiicCRJCmINE03AF8CDp3L1w/XZmcePXzZF1cO3vSTceqPH2b6ZyuTc/Zvb0otlIVHLwFOBF5fZPHvQ4eRpMB+CFwPzGnpea0GDxwuzrv70Lqzpxi4Sw0uOiY5e1V7I2ohLDx9LEryVZSDyt8EPhw4jiQFl6bpFPBpYF+gNtfvu0f92gseWC8+Dew7w8Avj0vOemS7MmphLDx9KkryYcpVCVuA5zlsJ0l/dgnwC+CQ+XzT0UPr1zxi+LLTljA9OcHQ11clq1/annhaCAtP/3o7cDzwwiKLrw2cRZIqI03TBuUszyBQn8/3Hjy45ZZ45NJT96mNXTvG8IdXJWd9MEpy32srwGXpfShK8gdSnpX1ySKLXxA6jyRV0ejo6OOAJwDzPmJnulEb+O7kyn+4Znb5nUaY+tYE9ScWWTzW+pSaK1tnn4mSfDnwWeBK4NWB40hSlX0H2Ei5inVehmqN2UcO//Erxw7e+P0Jhh41zPSvjk7OPbj1ETVXFp7+8yHgCOAZRRZvDh1GkqoqTdMxylnHAxfy/bUaPGD4qh/cc2jdV6cZOKZG4+Jjk7Pv1tqUmisLTx+JkvypwDOAdxZZ/H+h80hSF/gN5RDzgu/O3LV+3cUPGv7T6QM0lk0z8H/HJWc9rnXxNFcWnj4RJfmRwEeAnwH/GjiOJHWFNE1ngTOBJZRDzAsSDd6y7lEjl310aW3qtnGGzlqVrP7nloXUnDi03AeaKwTOA+4D3L3I4ssDR5KkrjI6Ovo04OHA2sW8zm2N+vB5EyuffnNj2VFLmPrEOPUXFVk805qU2hXv8PSH1wAPAV5p2ZGkBfkaMAEsXcyL7FGbmoxHLv30kQMbLhin/vwRps6LknzeQ9GaPwtPj4uS/G7Au4HVwKcCx5GkrpSm6a3A51nELM9Wg7VG4+Ejl5+9avD68yYYetAw0785Ojn38MWn1K5YeHpYlORLKZ89rwf+yd2UJWlRzqfck2e/VrzYCcNrf3Kf+tovzTAQ1WhcdIfk7Hu34nW1Yxae3nYKcCfgOUUW3xQ6jCR1szRNpyn3MVtOi94/7zR0w6UPHr7iE4M0hqcY+PGqZPWTW/G6+lsOLfeoKMkfCXwL+K8ii18ZOo8k9YrR0dF/Au4NrGvVa66fXbrn/04e/axbGyMHLmXqX8YYfpd35VvLOzw9KEry/YHTgd8DbwybRpJ6zleABjDcqhfcb2Bs80kjl3zswIEtV44x/I4lTH02SvKhVr2+LDw9J0ryGnAacABwsme3SFJrpWm6Hvgf4NBWvu6S2szUicOXnhENrP/lOPWTR5j+YfM4ILWAhaf3PAf4B+AtRRZfEDiLJPWq/wVuAvZu5YsO1Gg8ZOTK/M5D131zksET6kxfeExyzu1aeY1+ZeHpIVGSHw18EPg+8L6waSSpd6VpOkk5wHwAUGv169+7fvXPTqhfdWaD2iGz1C64Q3LWA1p9jX5j4ekRzWe9nwVmgGe7c6cktd1FwAW0YG+eHTlu6KYrHjp8+cfqzNQmGfr+qmT1s9pxnX5h4ekdbwLuB7ykyOI1ocNIUq9L07RBuRnhMNCWAePDB2+96cSRSz+6d2385jGGP70qWf3u5qym5sll6T0gSvL7Aj8BvlBk8TNC55GkfjI6OvokIKbclLAtJhuDQ+dNrnzy9bN7HbuEqa+OU396kcWT7bpeL/IOT5drnsFyBuV+EC8PHEeS+tE3gM3AsnZdYLg2M/2Y4T98/vaDN58/Tv1JI0yfvzI5pyU7PvcLC0/3ex9wNPCsIos3hA4jSf0mTdPbKI/xOaid16nV4EHDf/r23YauOXeSwbvX4KKVyTnHtPOavcTC08WiJH888ELgPUUW/yB0HknqY78ALgcObPeFjq9f8+sH1IvPNmD/BrXfHJec9bB2X7MXWHi6VJTkhwAfB34D/EvgOJLU19I0naUcL1hGB95bjxm6uXjE8B9PG2F6eoKhb61KVv9Tu6/Z7Rxa7kLNCf2vAw8Gji+y+JKwiSRJAKOjo88GHghc3Ynr3To7vOS8yWOeuaGx9LClTP3nGPXXegbXjnmHpzu9FHg08DrLjiRVylnANLCkExfba2By/KSRSz556MCm349Rf/USpr4WJXlHrt1tLDxdJkryVcB7gW8C/x04jiRpG2mabgS+BBzSqWvWa7Mzjxq+7MvHDN74w3HqJw4z/YuVyTltnyXqNhaeLhIl+TDlSoDNwHO9bSlJlfQj4Fpg305dsFaDvxu+6nvHD61bPc3AKuDiY5Kz79Sp63cDC093GQXuAbygyOLrQoeRJP2tNE2ngM8A+9CGc7Z25W71ay98YP1Pn67R2HuGgV8cl5z1mE5ev8osPF0iSvIHAW8EPlZk8dmh80iSdulS4OfAoZ2+8O2Hbln7qJE/nrq0NjU+ztDXViWrX9XpDFXkKq0uECX5PsBvgUngHkUWbw4cSZK0G6OjowcCpwDXA1Odvv6WRn3kvIljTl7f2OPIpUydOkb9pUUWz3Y6R1V4h6c7fAg4HHiGZUeSukOapjcCZwOHhbj+strUxEkjl5x+xMCGC8eov2iEqe9ESb5HiCxVYOGpuCjJnwacDLyjyOKfhc4jSZqX7wAbgL1CXHyw1ph9+PDlq48bvOF/Jxh66DDTvzk6Obfjj9mqwMJTYVGSrwA+ApwPvDtwHEnSPKVpOk45wLx/qAy1GtxveM2P7j109ZenGbh9jcbFxyZnHx8qTygWnoqKknwQ+DQwCDyzyOLpwJEkSQtzAfB72ny46O7cuX797x88fOUnB2gsmWbgp6uSs54YMk+nWXiq67WUR0e8ssjiKwJnkSQtUJqmDeBzwFLKH2KDOWpww7WPGfnDR/eoTW0eY+irq5LVbwqZp5NcpVVBUZLfnXI547nAP7rBoCR1v9HR0acCjwDWhs4y3hiqf2fimKff1FgWLWHqM+PUn9/rTxK8w1MxUZIvpdxN+SbgRZYdSeoZXwPGgeArpZbUpqdOHLn0MysGbvn1OPVnjTD1/SjJgwxWd4qFp3oy4I6UR0fcFDqMJKk10jTdDHweODh0FoDBWqPxsJErzr3j4HXfmmDo/nWmf3v75NwVoXO1i4WnQqIkfxTwSuCDRRZ/K3QeSVLLnQ/8iYCrtrZ33+Gr/++E+povzDJwRI3GhcclZ50QOlM7WHgqIkryA4DTgd8BSdg0kqR2SNN0BjiDcl+eyrwHrxq68bKHDl/+iTqzgxMM/XBVsvppoTO1mkPLFRAleQ34H+BE4D5FFv82cCRJUhuNjo6+ALgPcE3oLNvaMLtk2XcnVz5rU2PkoKVMvXOM4bRXZkkr0y773HOBJwBvsexIUl/4n+bnkaAptrPPwPiWk0Yu+dhBA1suH2P4bUuY+kKU5PXQuVrBwhNYlORHAx8Evge8L3AcSVIHpGm6HvgqAU5T352R2sz0Y4Yv/dztBtf/bJz6/xth+qfNQ6y7moUnoCjJhyif5U4Bz+7nU2wlqQ99D7gBWB46yPYGajQePHzlN+8ydG0+yeDxdWYuWpmcc3ToXIth4QnrLcAJwIuLLA6+EZUkqXPSNJ2kPGdrP6AWOM4O3au+7pf3r191ZgMOalC74LjkrAeFzrRQFp5AoiQ/AXgbcEaRxV8MnUeSFMTvgF9Tkb15duTYoZuufPjw5acNMzM7wdB5q5LVzwudaSFcpRVAlOR7Uh4mVwfuWmTxxsCRJEmBjI6OHgK8m3LFVmWPd9g0O7L0vMmVz9zYWHroUqbeO0b9Dd20gss7PGG8H7g95Snolh1J6mNpml5HeezEYaGz7MreAxNjJ41c8olDBjZdOkb9dUuYOitK8kqtMtsVC0+HRUn+BOAFwL8VWfzD0HkkSZXwTWAzsCx0kF0Zrs3OPHr4si+uHLzpJ+PUHzfM9M9XJuccEDrXXFh4OihK8kOBj1M+r00Dx5EkVUSaprdRrto9KHSW3anV4IHDxXn3GFp39hQDdwYuOiY5e1XoXLtj4emQ5m7Kn6I8JffkIosnA0eSJFXLL4E/AAeGDjIXd69fe8ED68Wna7DPDAO/WpWc9ajQmXbFwtM5LwMeBbyuyOJLQ4eRJFVLmqazwJmUPxgPBo4zJ0cPrV/ziOHLTlvC9MQYQ19flax+WehMO+MqrQ6IkvyOwK8oN5mKu2mqXZLUWaOjo88EHgRcHTrLXG2eHV5y3uTKk29p7HHEUqY+NEb9VVXbTNc7PG0WJfkwZWPfDDzPsiNJ2o1zKJenLwkdZK72HJgcP2nkkk8dNrDx4jHqLx9h6htRki8NnWtbFp72eydwd+D5RRZfFzqMJKna0jTdCHwROCR0lvkYqjVmHzn8x68eO3jj9ycYeuQw078+Ojm3MhsqWnjaKEryBwOvB04rsvicwHEkSd3jR8A6YN/QQeajVoMHDF/1g3sOrfvqNAMrazQuPjY5+26hc4GFp22aJ8t+BrgceG3gOJKkLpKm6TTle8g+VPScrV25a/26ix80/KfTB2gsm2bgZ8clZz0udCYLT/t8mHLXzGcUWbwldBhJUte5DDgfODR0kIWIBm9Z96iRyz66tDa1ZZyhs+6YrH5SyDwWnjaIkvzpwNOB0SKLfx46jySp+6Rp2gC+QvlePRw4zoIcMHDbpnjk0tMo71I9ImQWC0+LRUl+FPDfwE+BUwLHkSR1sTRNbwJW06V3eQAmGkP15lO5K0PmsPC0UJTkg8CnKTeMemaRxZU99VaS1DXOA9YDe4UOshC3zC5dDjDFwGUhc1h4WuufKTeLekWRxUGbrCSpN6RpOgF8FuiKQzq3d2tjZD+AKYa8w9MLoiS/B/Au4KuUd3kkSWqV3wIXAZXZ12autjSG92/+ck3IHBaeFmjuJnkmcBPwIndTliS1UnOA+fOUuy8PBY4zL2ON+r4DzI4DG0PmsPC0xnuAVcCziyy+OXQYSVLvSdN0HfANumyAebwxtHyQ2RtC3wyw8CxSlOSPAV4O/GeRxd8JnUeS1NO+DoxRnqjeFcao7zlI45rQOSw8ixAl+YHAJ4HfAW8KHEeS1OPSNN1M+Wira2Z5JhpDywZoBJ3fAQvPgkVJXgNOA/YDTi6yeDxwJElSf/g/yj1tKr9qa7wxWJ9icAlQhM5i4Vm45wFPAN5cZPFvQ4eRJPWHNE1ngDOAPan4+/j62T32Bpil9sfQWSr9N6qqoiRfCXwA+F/g/YHjSJL6TJqmVwA/pOIDzBsbS/YBmGTQwtNtoiSvUzbrKcpVWbOBI0mS+tNqoAGMhA6yM5sbI/sDzDJwVegsFp75ewtwX8r9dq4OHUaS1J/SNL0F+BJwSOgsO3Nbo74fNBrAutBZLDzzECX5/YC3Ap8tsvhLofNIkvreD4AbgH1CB9mRsUZ9nyFmNxRZPBU6i4VnjqIk34vyLJOrgVcEjiNJEmmaTgGfAfaleSR5lYw3hvYepHFt6Bxg4ZmP9wO3pzwFPej22JIkbeP3wK+o4N484436sgFmKzH+YeGZgyjJnwg8H8iKLP5R6DySJG3VPGfri0C9+VEJsw1q4wwuqwU+NHQrC89uREl+GPBxyvb89rBpJEn6W2maXg+cS4WWqW9qLNmjwcAgcEXoLGDh2aUoyQeATwFLgWcUWTwZOJIkSTvzLeBWyg0Jg1s/u3Q5wBQDl4XOAhae3XkZ8Ejgn4ssvjR0GEmSdiZN0zHKxTUHhs4CcGtjZD+AKYauDJ0FLDw7FSX5nYD3UJ5M+9HAcSRJmotfA5cAB4UOsqUxvH/zl87wVFWU5CPAmZS3Bp9XZHEjcCRJknYrTdNZ4HPAHsBgyCxjjfq+NWYngFtC5tjKwrNj7wTuBjy/yOLrQ4eRJGmu0jRdA3wbOCxkjrFGffkQszdW5aaBhWc7UZI/BHgdcGqRxeeGziNJ0gJ8DZigXHQTxDhDew3SCH6kxFYWnm1ESb4v5Y6VlwP/HDiOJEkLkqbpJsq9eYJtRlhuOthYG+r627Pw/LUPU+5hcHKRxVtCh5EkaRF+Qnkc0n6dvvBEY3BoisElQNHpa++MhacpSvKTgacBby+y+Beh80iStBhpmk5TPrVYTofP2bp5do/lALPULu/kdXfFwgNESX4U8N+UbfiUwHEkSWqJNE0vA35Kh3dg3thYshxgksFKbDoIFh6iJB+kbMA1yoNBZwJHkiSplb5C+R433KkLbm6M7A8wy0DRqWvuTt8XHsoVWX8PvKLI4j+FDiNJUiulaXozsJoO3uW5rVHfHxoNwFVaVRAl+fGUe+58hfIujyRJvei7wM3A3p24WHMPno1VOoOybwtPlOR7UO6mfCPw4qpsjCRJUqulaTpBec7W/rv72lYYbwztPUjj2k5ca676tvBQnpN1HPCcIotvDh1GkqQ2uxD4LXBIuy803hjac4DZyjzOgj4tPFGSn0h5Evr7iyz+Tug8kiS1W5qmDeALlMPLQ+26TqMB4wwtq8FV7brGQvRd4YmS/EDgk8DFwJsDx5EkqWPSNL0G+DptPGdrY2PJsgYDg8CV7brGQvRV4YmSvAZ8DNiXcjfl8cCRJEnqtG8At1GeqN5yt8wuXQ4wzUBl9uCBPis8wAuAxwNvKrL4wtBhJEnqtDRNtwBn0KZztjY1RvYFmGToina8/kL1TeGJkvwY4D8pl+b9Z+A4kiSF9AvKg7IPaPUL39YY3roSbE2rX3sx+qLwRElep2yzE5SrsmYDR5IkKZg0TWco3xf3pMVd4LZGfd8ajUlgfStfd7H6ovAAbwXuA7yoyOKrQ4eRJCm0NE3/BHyfFu/APE59+RAzN1Ztf7ueLzxRkt+PsvB8psjiL4fOI0lShZwFzAJLWvWCY42hvQZpVGoPHujxwhMl+V6Ut+zWAK8IHEeSpEpJ03QD8CVaOMA83hhaVqOxtlWv1yo9XXiADwAR5SnomwJnkSSpin4IXAfss9gXmmwMDk0xtLQGxaJTtVjPFp4oyZ8EPBc4pcjiH4fOI0lSFaVpOkV5zta+QG0xr7V+duneALPULm9BtJbqycITJflhwGnAL4HRwHEkSaq6SyiXqi/qnK0NjXLTwUkGK7XpIPRg4YmSfAA4HVgKPKPI4qmwiSRJqrbmOVtfAgaB+kJfZ3Nj+ACAWQYqdY4W9GDhAV4OPAJ4bZHFfwgdRpKkbpCm6Q3A2Sximfptjfq+zV9WbguYnio8UZLfGXgPkAOnBo4jSVK3+Q6wkXJDwnkba9T3GWRmY5HFE62NtXg9U3iiJB8BzgQ2Ac+v2oZHkiRVXZqm45QDzAcu5PvHG/XlgzSua22q1uiZwgO8C7gr8Lwii68PHUaSpC51AfB74KD5fuNYY2jZII3KPc6CHik8UZI/FPhn4KNFFn8tdB5JkrpVmqazwOcoF/8MzvX7Gg2YYGjPGo1KHRq6VdcXnijJ9wU+DfwReF3gOJIkdb00TdcC3wYOm+v3bGqM7DHLwCBwZduCLUJXF54oyWvARyj3DTi5yOItgSNJktQrvgaMU97p2a1bmnvwTDNQuT14oMsLD3Ay8BTg7ZGtbA4AACAASURBVEUW/zJ0GEmSekWaprcCX2CO52xtml2yL8AUg1e0M9dCdW3hiZI8Aj4M/ATIwqaRJKkn/ZTyAO79d/eFWxrD+wM0qDnD0ypRkg8Cn6E88+OZRRbPBI4kSVLPSdN0hnKZ+l7spjPc1qjvV6MxBdzUiWzz1ZWFB3g98EDg5UUW/yl0GEmSelWapn+kfJqyyx2Yx6kvH2L2xqrug9d1hSdK8nsC7wS+TNk6JUlSe30VaADDO/uC8cbQXgPMXtO5SPPTVYUnSvI9KHdTvh54cVVbpCRJvSRN0/WUpWeny9THG0PLBmis7Vyq+emqwgP8O3AH4NlFFq8PHUaSpD7yPeBGYPn2vzHZGBicZGhpDSo7ZtI1hSdK8hOBlwLvK7L4u6HzSJLUT9I0naRcMLQf5aKhP1s/u8feAA1qlVySDl1SeKIkPwj4FHAR8JbAcSRJ6lcXU5619Vd782xoLNkHYJLBSm46CF1QeJq7KX8c2IdyN+XxwJEkSepLaZo2KDcjHAaGtv71zY2R/QBmGCjCJNu9yhce4IXAY4GkyOKLQoeRJKmfpWl6LZCzzQDzbY361o0JK3lSOlS88ERJfizwfuA84AOB40iSpNI3gM3AMoCxRn2fQWY3VfkpTGULT5TkdeAMYAJ4TpHFs4EjSZIkIE3T24Azb7jhhvv++Mc/fvWtm25dNbvhmqW1Wu3pobPtTGULD/A24N7APxVZvC50GEmS9BfveMc7Vl588cX3Gx4eXj5ZX8bMxuvrwJm1Wu1DobPtSCULT5TkD6BcjfXpIou/EjqPJEn6a7Ozs/954YUXDtWHh5mq78n0phu3/tbLqninp3KFJ0ryvSmPjFgDvDJwHEmStGMHbNiwgSuvvo7ZgTpTG67f9vfeHSrUzgzt/ks67gPAUcDfF1m8KXQYSZK0c1det4EDgPH11277l1cEirNTlbrDEyX5PwLPAd5dZPFPAseRJEk7dxPA7JLypInJDddt+3trAuTZpcoUnijJDwdOBX4JvCNwHEmStGuvAqaG9j4QYNsZnkngzYEy7VQlCk+U5APA6cASyt2Up8ImkiRJu9JoND4HPGdo30PHGtOTzN62Ecq7Ps9t/l6lVGWG55XAw4EXF1lc2XM4JEnSXzQajc9FSf544B6NRuPY0Hl2JfgdnijJ7wJkwLnAaYHjSJKk+VlBBWd2the08DR3Uz4T2Ai8oMjiRsg8kiRp3rqi8IR+pHUUcBfgVUUW3xA4iyRJmocoyYeBQ+mCwhP6kdbWNWx7BE0hSZIW4nCghoVn14os3gysp4IbFEmSpN3a+v5t4ZmDNVh4JEnqRhaeebDwSJLUnba+f68NmmIOLDySJGmhVgA3Flk8FjrI7lSl8CyPknx56CCSJGleumJJOlSn8AAcGTSFJEmaLwvPPGz9G+VjLUmSukSU5DUsPPNi4ZEkqfvsA+yJhWfOrgOmsfBIktRNumZJOlSg8BRZPANcjYVHkqRuYuFZAJemS5LUXSw8C2DhkSSpuxwFTABdcfh3lQrPEVGSD4YOIkmS5mQFsLbI4tnQQeaiSoVnkPKIeUmSVH1dsyQdqlV4wMdakiR1CwvPAlzV/GzhkSSp4qIkrwOHYeGZt62nrFp4JEmqvsOBGhae+Smy+FbgFiw8kiR1g65akg4VKTxNLk2XJKk7WHgWwcIjSVJ32Pp+vXaXX1UhFh5JkjRfK4Cbiiy+LXSQuapa4dk3SvK9QgeRJEm71FVL0qF6hQfgyKApJEnS7lh4FsHNByVJqrgoyWuU52hZeBbIwiNJUvUtB/bEwrNg1wIzWHgkSaqyrluSDhUqPEUWzwBXU94mkyRJ1WThaQGXpkuSVG0Wnhaw8EiSVG0rgCng+tBB5qOKheeIKMkHQweRJEk7tAJYW2TxbOgg81HFwjMEHBI6iCRJ2qGu24MHqll4wMdakiRVlYWnBSw8kiRVVJTkQ8DhWHgWzcIjSVJ1HUbZHSw8i1Fk8SZgIxYeSZKqqCuXpEPFCk+TS9MlSaomC08LWXgkSaqmre/Pa4OmWAALjyRJmqsVwPoiizeHDjJfVS08+0VJvmfoIJIk6a905ZJ0qG7hATgyaApJkrQ9C08LuTRdkqRqsvC0kIVHkqSKiZJ8ObAcC0/LXAPMYuGRJKlKto6aXBU0xQJVrvAUWTwNrMPCI0lSlXTtHjxQwcLT5NJ0SZKqxcLTBhYeSZKq5ShgCrgudJCFqHLhOTJK8qrmkySp36wAri6yeDZ0kIWoaqFYA9SBg0MHkSRJQBcvSYfqFp6tE+A+1pIkqRosPG3gXjySJFVElORDwOFYeFrOwiNJUnUcCgxi4WmtIos3Apuw8EiSVAVdvSQdKlp4mlyaLklSNVh42sjCI0lSNWx9P14bNMUiWHgkSdLurABuKbL41tBBFqrqheeAKMn3CB1EkqQ+19VL0qH6hQf+cjqrJEkKw8LTRi5NlySpGiw8bWThkSQpsCjJ9wb2wcLTNtcAs1h4JEkKaetoiYWnHYosnqIsPRYeSZLC6fo9eKDChafJpemSJIVl4emANcBRoUNIktTHVgAzwLWhgyxGNxSeI6Mkr3pOSZJ61Qrg6iKLZ0IHWYyqF4k1wDBwUOggkiT1qa5fkg7dUXjAOR5JkkKx8HSAhUeSpECiJB8EjsDC03YWHkmSwjkEGMLC03YbgM1YeCRJCqEnlqRDxQtPkcUN3ItHkqRQLDwdZOGRJCkMC08HWXgkSQpjBbCxyOJNoYMsVrcUngOjJF8aOogkSX1mBXBV6BCt0C2FB/5yWqskSeqMntiDB7qr8PhYS5KkzrLwdJCFR5KkDouSfE9gPyw8HbMOaGDhkSSpk7aOklh4OqHI4knKI+ktPJIkdU7PLEmHLig8TS5NlySpsyw8AVh4JEnqrBXADOVTlq7XVYUnSvJa6CCSJPWJo4B1RRZPhw7SCt1SeK4CRoADQweRJKlP9MySdOiewuPSdEmSOsvCE4CFR5KkDomSfBA4AgtPx1l4JEnqnIOBOhaejrsF2IKFR5KkTuipJenQJYWnyOIGLk2XJKlTLDwBWXgkSeoMC09AFh5JkjpjBbCpyOKNoYO0SrcVnoOjJF8SOogkST2up5akQ/cVHiiXyUmSpPax8ATk0nRJkjrDwhOQhUeSpDaLknwZsD8WnmDWAQ0sPJIktdORzc8WnhCKLJ4ArsPCI0lSO/XcknToosLT5NJ0SZLay8JTARYeSZLaawUwC1wTOkgrdWXhiZK8FjqIJEk9agVwTZHFU6GDtFI3Fp6lwAGhg0iS1KN6bkk6dGfhAR9rSZLULhaeCrDwSJLUJlGSD1AuS7fwBGbhkSSpfQ4ChrHwBHczMIaFR5KkdujJJenQZYWnyOIGLk2XJKldtr6/XhU0RRt0VeFpsvBIktQe3uGpEAuPJEntsQK4FdgYOkirdWvhOSRK8pHQQSRJ6jErgDXNEZKe0q2FB+CIoCkkSeo9PbkHD3R34fGxliRJrWXhqRALjyRJLRYl+VLgQCw8lXF187OFR5Kk1jmy+dnCUwVFFo8D12PhkSSplXp2STp0YeFpcmm6JEmtZeGpoKuw8EiS1EorgAawLnSQdujWwrMGWBEleS10EEmSesRRwDVFFk+FDtIO3Vx49gD2Cx1EkqQe0bNL0qG7Cw/4WEuSpFax8FSQhUeSpBaJknyAclm6hadiLDySJLXOgcAIFp7KuQkYx8IjSVIr9PSSdOjSwtM8xdW9eCRJag0LT4VZeCRJag0LT4VZeCRJao0VwBbgltBB2qXbC8+hUZIPhw4iSVKXWwGsaY6M9KRuLzw14PDQQSRJ6nI9vQcPdH/hAR9rSZK0WBaeCrPwSJK0SFGSLwUOwsJTWVc3P1t4JElauCOany08VVRk8RhwAxYeSZIWo+eXpEMXF54ml6ZLkrQ4Fp4uYOGRJGlxVgANYF3oIO3UE4UnSvJa6CCSJHWpFcB1RRZPhA7STr1QePYE9gkdRJKkLtXzS9KhNwoP+FhLkqSFWgFcFTpEu/VK4TkqaApJkrpQcyTEOzxdwDs8kiQt3AHAEiw8lXcjMIGFR5KkheiLJenQ5YWnyOJZYC0WHkmSFsLC00Xci0eSpIWx8HQRC48kSQuzArgNWB86SLv1SuE5LEryeuggkiR1mRXAmiKLG6GDtFuvFJ4acHjoIJIkdZm+WJIOvVN4wMdakiTNl4Wni1h4JEmapyjJR4BDsPB0jbXNzxYeSZLm7ojmZwtPNyiy+DbgJiw8kiTNR98sSYceKDxNV2HhkSRpPiw8Xci9eCRJmp+t75tXB03RIb1UeI5qnvoqSZJ27yjguiKLJ0IH6YReKjx7AstDB5EkqUv0zZJ06K3CAz7WkiRpriw8XWjr/2FHBU0hSVIXaI6AWHi60NY/xzlRkt8taBJJkqpvf2ApFp6u82vg8uavfxMl+WlRkh8cMpAkSRXWV0vSoUcKT5HFk0UWHwPsB3wAeC7wxyjJ3xgl+ZKw6SRJqhwLTzcrsviWIotfA9wJ+D6QAZdESf6PLlmXJOnPLDy9oMjiy4osfhzwCOBW4MvAD6Ikv2fYZJIkVcIKYJzyaKa+0JOFZ6sii88D7gG8CDgO+GWU5KdHSX5Y2GSSJAW1AlhTZHEjdJBO6enCA1Bk8UyRxacBxwDvAZ5GOd/ztijJ9wibTpKkIPpqSTr0QeHZqsjijUUWvxFYBXwDeAfwhyjJn+58jySpz1h4el2RxVcWWfyPwIOBG4EzgfOjJD8haDBJkjogSvIR4FAsPP2hyOIfAPeiXMJ+FGXp+VyU5B5PIUnqZYc3P1t4+kWRxbNFFp9OOd/zr8ATKR9zvTNK8j2DhpMkqT36bkk69Hnh2arI4s1FFr8VuAOwGngrcFmU5M+Jkty/R5KkXmLh6XdFFq8psvjpwP0p/0H4FPDzKMkfGDaZJEkts7XwrA2aosMsPDtQZPH5lKXnGcDBwA+jJP9ylOS3C5tMkqRFWwFcX2TxeOggnWTh2YnmfM+ZlI+5UuBE4NIoybMoyfcOm06SpAXruyXpYOHZrSKLbyuy+B3AscAXgDdSblz4wijJB8OmkyRp3iw82rkii9cVWfxs4D7AH4HTgF9HSf7QsMkkSZqb5ka7Fh7tXpHFvwAeCPw/YDnw3SjJz46S/JiwySRJ2q19gWVYeDQXRRY3iiz+MuWBpG8CHgr8Lkry90VJvm/YdJIk7VRfLkkHC8+iFFk8XmRxRrlx4aeBV1PO97wsSvKhsOkkSfobFh4tXJHF1xVZ/ELgeOBC4EPAb6Mkf3TYZJIk/RULjxavyOILgIcBTwBGgG9ESf71KMlXhU0mSRJQFp4JysOz+0qt0WiEztCTmqfRvhx4G7An8BHg7UUW3xw0mCSpb0VJ/gXg+CKLjw2dpdO8w9MmRRZPFFn8H5TzPacCLwUuj5L8NVGSD4dNJ0nqU325JB0sPG1XZPGNRRa/DLgr8HPgfcDFUZI/trkfgiRJnWLhUXsVWfw74NFADMwA5wDfiZL8rkGDSZL6QpTkdeAwLDxqt+b+PV+nvNvzSuAewG+iJD81SvKDwqaTJPW4w4EaFh51SpHFU0UW/xflfM9/Ac+jnO95Q3PYWZKkVuvbJelg4QmqyOL1RRa/Grgz8APg34BLoiR/kvM9kqQWs/AorCKL/1Bk8WOBRwJbgK8A34+S/J5hk0mSesjWwrM2aIpALDwVUmTxdyjnel4MrAJ+ESX5p6IkPyxsMklSD1gB3Fhk8VjoICFYeCqmyOLpIotPpZzveS9wMnBZlORvjZJ8adh0kqQudhR9+jgLLDyVVWTxxiKL30B5p+dbwDuBP0RJ/jTneyRJC9C3e/CAhafyiiy+osjiJwEPBm4CPgf8NEryE4IGkyR1jeYPyhYeVV+RxT8A7k25hD0Czo+S/MwoyY8MGkyS1A32oTzX0cKj6iuyeKbI4k8BxwL/CjyJ8jHXO6Ik3zNsOklShfX1knSw8HSlIotvLbL4rcAdKI+oeBtl8Xl2lOT+fypJ2p6FJ3QALVyRxVcVWfxU4AHA1cDpwM+iJP+7oMEkSVVj4QkdQItXZPFPgfsBzwQOBX4UJfmXoiS/XdhkkqSKWAFMAjeEDhJKrdFohM6gFoqSfBnwOuANwCDwfuCUIos3BQ0mSQomSvLPA/cusnhl6CyheIenxxRZvKXI4lHK+Z4vAQnwxyjJXxAl+WDYdJKkQPp6STpYeHpWkcVXF1n8LOC+wOXAx4BfRUn+0LDJJEkBWHhCB1B7FVn8c+DvgKdQ7sPw3SjJz4qS/JiwySRJnRAleR04DAuPel2RxY0ii79EeUzFm4GHAb+Lkvw/oiTfJ2w6SVKbHUb5fn9V6CAhWXj6SJHFY0UWn0J5MOlngNcAl0dJ/tIoyYfCppMktUnfL0kHC09fKrL4uiKLXwDcE7gI+DDw2yjJHxU2mSSpDSw8WHj6WpHFvwEeCjwRGAG+GSX516MkXxU2mSSphbYWnrVBUwTmPjwCIEryEeAVlMdULAM+Ary9yOKbgwaTJC1KlOQfAf6xyOIDQ2cJyTs8AqDI4okii98LrAROA15KOd/z6ijJh8OmkyQtQt8vSQcLj7ZTZPGNRRa/FLgb8AvKnZovipL8pCjJa2HTSZIWwMKDhUc7UWTxxcCjgJOABnAu8O0oye8SNJgkab4sPFh4tAvN/Xty4C7AqyhXdV0QJflHoyQ/KGw6SdLuREm+HNgbC4+FR7tXZPFUkcUfpJzv+RDwfMrzuV7fHHaWJFWTS9KbLDyasyKL1xdZ/CrKOz4/At4D/D5K8n9wvkeSKsnC02Th0bwVWXxpkcUnUc74jAFfBb4XJfnxYZNJkrZj4Wmy8GjBiiz+NnB34CXAnYBfRkn+ySjJDw2bTJLUtAKYAq4PHSQ0Nx5USzQPIX0L5XDzJHAK8L4ii8eCBpOkPhYl+ZnACUUWHx06S2je4VFLFFm8ocji1wN3BL4NvAu4NErypzrfI0nBuCS9ycKjliqy+PIii/8BeAiwHvg88OMoye8TNpkk9SULT5OFR21RZPH3gXsBLwCOBn4WJflnoyQ/ImgwSeoTUZIPAYdj4QEsPGqjIotniiz+BHAM8G7gycBlUZKPRkm+LGw6Sep5hwKDWHgAC486oMjiW4ssfgtwHHAO8C+UxeeZUZL7z6AktYdL0rfhm406psjiosjipwJ/B6wDPkP5qOsBYZNJUk+y8GzDwqOOK7L4J8AJwLMob7n+OEryL0ZJHgUNJkm9ZWvhWRs0RUW4D4+Cas7yvB54A2UBfx9wSpHFtwYNJkldLkryDwNPLbJ4/9BZqsA7PAqqyOItRRa/HTgW+DLwJsqDSZ8fJflg0HCS1N2OwsdZf2bhUSUUWXx1kcXPBO4LXAl8nPKoioeETSZJXcs9eLZh4VGlFFn8c+ABwFOB/YD/jZJ8dZTkK8Mmk6SuY+HZhjM8qqwoyZcCrwHeDAwDHwTeVWTxhqDBJKnioiRfDmwA3lBk8b+HzlMF3uFRZRVZPFZk8bspNy78LPBayvmelzR3EJUk7diRzc/e4Wmy8Kjyiiy+tsji5wP3BH4H/DdwQZTkjwybTJIqyz14tmPhUdcosvg3lIeSPglYCnwrSvKvRUl+XNhkklQ5Fp7tWHjUVYosbhRZ/D/AHSn373kgcFGU5B+Mkty9JiSptAKYBq4LHaQqHFpWV4uS/CBgFPgnYCPwduAjRRZPhcwlSSFFSX4GcP8ii28fOktVeIdHXa3I4huKLH4JcHfgV8AHKO/4nBQleS1sOkkKxiXp27HwqCcUWXwR8EjgsUANOJdyxufOQYNJUhgWnu1YeNQzmvM9XwPuDLwauBfw2yjJPxIl+YFh00lSZzSP5TkCC89fsfCo5xRZPFVk8Qco9+/5MPBC4PIoyV8XJflI2HSS1D5Rkh8AvBUYxFPS/4pDy+p5UZKvAt4LnAhcQbm666wii/2HX1JPiJL8eOAVwNOAEeA84ClFFq8PGqxCLDzqG1GSPwp4H+WS9h8Ar2nu7SNJXSdK8jrlvmSvAO4PbAE+A3yoyOLfh8xWRRYe9ZXmkRQvBN5JeTjpp4C3Fll8bdBgkjRHUZIfDLwIeDFwKOWd6w8Dn/KswZ2z8KgvRUm+D+Vz7lcCE8ApwPuLLB4LGkySdiJK8vtQ3s15ClAHvgX8F/CNIotnQ2brBhYe9bUoyY8B3gM8AbgKeCPwJed7JFVBc6HFkymLzn2AW4HTgQ8XWfyHgNG6joVHAqIkfwjwfuBuwE8p53t+HjaVpH4VJflhlI+sXgQcBPwB+BDwmSKLN4XM1q0sPFJTc++K5wLvAg4GzgDeVGTx1UGDSeoLzd3h70f5qP1JlEvLv0752Oo7PrZaHAuPtJ0oyfcG3gS8BpilfOT170UWbwkaTFJPipJ8CfBUysdWx1OeC/hJysdWV4TM1kssPNJOREl+O+DfKJ+fr6MsQWf6U5akVoiS/EjgJZQrRw8Afk95N+eMIos3h8zWiyw80m5ESf53lPM99wJ+Aby6yOKfhk0lqRs1H1v9PeXdnCdQnv13DmXR+Z4LJtrHwiPNQZTkA8AzKJevHwZ8EXhjkcVXBQ0mqStESb4HcDLwcuCuwC3Ax4H/LrK4CBitb1h4pHmIknwZ8AbK4ykGgP8AsiKLbw0aTFIlRUkeAS8Dng/sC1xIeTfnc0UW3xYwWt+x8EgL0Hz2fgrlT2zXAW8BPl1k8UzQYJKCaz62eijlY6vHAg1gNWXR+ZGPrcKw8EiLECX5fYH/BE4ALqDcv+f7QUNJCiJK8j2BZ1I+trojcBNwGvDRIos9uTwwC4+0SM2f5p5CuXz9SMqf5F7vclKpP0RJvpLysdVzgeXAr4EPAl8ssng8ZDb9hYVHapEoyZcCr6Vcvl6n/A/eu4os3hg0mKSWay5keATlJoGPAWaAr1A+tjrfx1bVY+GRWqy5Jfy7gOdQ3tL+F+DjRRZPh8wlafGaG5M+m/Kx1bHA9cCpwKlFFl8TMpt2zcIjtUmU5MdT7t/z98DFwGuLLP5O2FSSFiJK8jtQlpznAHsCP6O8m/OVIosnAkbTHFl4pDZqzvf8A/DvwO2ArwGv85Rjqfqaj61OpFxt9UhginIPrv/ycOHuY+GROiBK8hHKZ/1vA5YCHwbeUWTx+qDBJP2NKMn3oRxAfhlwNHAN8FHgtCKLrw+ZTQtn4ZE6KEryg4F3AC+gPCAwpVyyOhU0mCSiJL8T5WOrZwF7AD+hfGz1P/472v0sPFIAUZLfhXK+52HApcDrgK+7skPqrCjJByk3B3wF5WaBE8DngA8VWfzrkNnUWhYeKZDmfM9JwHspV3t8m3Kw+XdBg0l9IEry/SjvtL4UOApYC3wE+FiRxTeFzKb2sPBIgUVJPkz5H90U2JtyiWtaZPGNQYNJPShK8rtR3s05GVgC/IDysdXZbh3R2yw8UkVESb4/8HbgJcBm4J2Uq0EmQ+aSul2U5EPAEyiLzt8DY8AZlI+tLgyZTZ1j4ZEqJkryVZSnsD8GuIJyvuds53uk+YmS/EDghZQ/RBwBFJQrJD/pCsn+Y+GRKipK8kdTFp87At///+3deaxn4x3H8Xcwlolgam9VD0Gooq0K2tKUVDtOaK2hrX3tMKKW8XQyLaXDkaCKsdVepUJJ1RMjGaGtpqOqiqCb5ii1x9KxBEP6x/dUtNIOM/fe5/c79/1K/HMT9/fNjLif+3y/z/MlFpP+oWhR0hCoUt6UOM3ZA1gKuJVoW93UNvWbJWtTOQYeaYB1R/EHE1fZPwBcAsxom/rJooVJA6ZKeQKwC/He1ZbAy8AVRNvqwZK1aTAYeKQhUKU8CZhB/Nb6GnAy8H03MWu8q1Jejfil4FBgdaINfA5wWdvUL5SsTYPFwCMNkSrldYk1FV8m5hGOA651vkfjTZXy5sQvALsDE4BbiLbVzW1Tv1WyNg0mA480hKqUtyEeLtyYeA32yLapf1e2Kml0dStadieCzmbAPOAyYJb76bQgBh5pSHUvxO4HzARWIeYVprdN/Y+ihUkjrEr5g0TL6hDiv/U/EW2ry9umnleyNg0PA4805KqUlwOmA98E5gOnAqe1Tf1K0cKkRdC9RP5p4jRnF2BxIBNtqzm2rfR+GXiknqhSXosIO7sBjwHfAq7yB4OGSZXy0sCeRND5BLFk92Lg3LapHy5Zm4abgUfqmSrlrYj5nk2B3xLzPb8pW5X0/1Upr0k8EHgQsCLwIHGac2Xb1C+VrE39YOCReqhKeTFgL+AU4qruT4DUNvUjRQuT3qFrW21NnObs1H35RiLo3ObtQ40kA4/UY1XKywLTgGO7L50ONP7GrJKqlCcSyzunAhsBzwEXAee1Td0WLE09ZuCRxoGuXXAK8FXgSWLI+XLnezSWujmzKcABwCTgPuAs4GqH7DXaDDzSOFKlvAUx37MFcA+xn+sXZatSn3Vtq22IlQ87AG8BNxBtq1/ZttJYMfBI40z3A2gP4kbXh4HrgWnegNFI6tqpewGHEwtwnwUuBM5vm/rRkrVpfDLwSONUN0dxFJCIp/l/AMxsm/rFooVpqFUprwMcRjyKuTxwN3Gac42731SSgUca57pXbGcC+wLPAN8GLm6ben7JujQ8uluB2xFDyJOBN4HriPmcubatNAgMPJIAqFLelJjv2Qq4Hziqbeo5ZavSIOte+d6XONFZD3gKuAC4oG3qxwuWJr2LgUfS27r5np2JjexrATcBx7iYUe9Upbw+MZuzD7AscCfRtrq2berXS9Ym/S8GHknv0j3vfwQwA1iGWNR4YtvUzxctTMV0bavtibbVdsDrwDXA2W1T31WyNum9MPBI+p+qlFcFTgQOBF4ATiBu2bxRsi6NnSrlFYD9ibbV2sDjwHnAD9umfqpkbdL7YeCRtEBVypsAZxDvqfyRmO+5uWxVGk1VyhsSpzl7AROBXxNtq+sNvBpGBh5J70k337MDcBqwLnALcHTb1A8UdwnrNQAABd1JREFULUwjpkp5ceLveCoRbl8DriLaVveUrE1aVAYeSe9LlfKSRHvjeGJg9QLg+Lapny1amBZalfKKxLqHKcBHgEeBc4GL/HtVXxh4JC2UKuWViJmeQ4GXiFmfc7ylMzy6VuVUYpHn0sDtRNvqRt9hUt8YeCQtkirljxJb2L8E/BU4hviB6f9cBlCV8hLATkTQ2Qp4FbiSCKv3laxNGk0GHkkjokp5MhF8NgBuIxaT3lu2Kv1blfLKwEHAN4A1gBaYBVzSNvVzBUuTxoSBR9KIqVKeABxMtLcmARcDM7y+XE73gvZUYmHsUsAcom2V26Z+s2Rt0lgy8EgacVXKk4idXFOJlsnJwJkujxwb3WD5LsSf/5bAy8DlRNvqoZK1SaUYeCSNmirl9Yg1FTsSLZRpwHXO94yOKuXVgEO6f1YnZqpmAZe2Tf1iydqk0gw8kkZdlfK2xGLSjYA7gCPbpr67bFX9UaW8ObEKZDdgAjCbaFvNbpv6rZK1SYPCwCNpTHSP2h0AfA9YmWixTHer9sKpUl4K2J1oW20GzAMuBWa1Tf3nkrVJg8jAI2lMVSkvD0wHjgTmAw1wetvUrxQtbEhUKX+IePvoYGAVYtXHOcAVbVPPK1mbNMgMPJKKqFJeGzgV2BV4DEjA1bZg3q1b6/EZ4jRnZ2BxIANnAXOciZIWzMAjqagq5a2J+Z5PAncS8z1zy1Y1GKqUlyGukx8BfBx4kbjqf27b1A+XrE0aNgYeScVVKS8G7E1cX18duBpIbVP/vWhhhVQpr0k8EHgQsCLwADGEfGXb1C+XrE0aVgYeSQOjSnlZ4DhiPQXEZvZT26Z+qVxVY6NrW32OaFt9pfvyz4igc7ttK2nRGHgkDZzuhKMB9gSeIIacr+jjfE+V8kTg68DhxLX954CLiLbVIyVrk/rEwCNpYFUpb0nM92wO/J7Yz/XLslWNjCrltYApxFX9ScC9xGnOVW1Tv1qyNqmPDDySBlo337MHcaNrDeCnwLS2qf9WtLCF0LWttiXaVjsAbwHXE0HnDttW0ugx8EgaCl3r52ji+voSwJnAzLap/1m0sPegm03am2hbbQA8A1wInN829WMla5PGCwOPpKHSPbw3E9gHeJpYUnrxIG7+rlJehwg5+wHLAXcTpznXuEhVGlsGHklDqUr5U8R8z2eB+4Cj2qa+tWxVb7fgvki0rSYTr0lfSwSdubatpDIMPJKGVjcTswuxkb0CbgSOLbFLqkp5OWBf4kRnXeAp4HzggrapnxjreiT9JwOPpKFXpbw0sZtrOrAMcZpyUtvUz4/BZ69PhJx9gGWBud3nX9c29euj/fmS3hsDj6TeqFJeFTgJOJB4z+YE4oTljRH+nMWB7Ym21ReA14FrgLPbpr5rJD9L0sgw8EjqnSrlTYj5ns8DDxHzPbNH4PuuAOwPHAasDTwOnAdc2Db104v6/SWNHgOPpF7q5nt2JNZTrAPMBo5um/rBhfheHyPaVnsBE4E7iLbVDSN9eiRpdBh4JPValfKSRFj5DjFjcz5wQtvUzy7g31uCeBxwKnFS9BrwY+CctqnvGdWiJY04A4+kcaFKeSXgu8AhwDzgRGDWfw8WVymvSMwATQHWBB4FzgUuWlBIkjS4DDySxpUq5Q2B04m3cv5CbGb/ObAxcZrzNWBp4HaibXVj29TzixQracQYeCSNS1XKk4EzgPWBlnjH51XgR0Tb6v5ixUkacQYeSeNWlfIEosW1K3HKc8lYvN0jaewZeCRJUu8tVroASZKk0WbgkSRJvWfgkSRJvWfgkSRJvWfgkSRJvWfgkSRJvWfgkSRJvWfgkSRJvWfgkSRJvWfgkSRJvWfgkSRJvWfgkSRJvWfgkSRJvWfgkSRJvWfgkSRJvWfgkSRJvWfgkSRJvWfgkSRJvWfgkSRJvWfgkSRJvWfgkSRJvWfgkSRJvWfgkSRJvWfgkSRJvWfgkSRJvWfgkSRJvWfgkSRJvWfgkSRJvWfgkSRJvWfgkSRJvfcvOi18PUH8mIYAAAAASUVORK5CYII=\n",
          "text/plain": "<Figure size 720x720 with 1 Axes>"
         },
         "metadata": {},
         "output_type": "display_data"
        }
       ]
      }
     },
     "9f539ba80d9b43b49d8bb98ae2472e02": {
      "model_module": "@jupyter-widgets/base",
      "model_module_version": "1.2.0",
      "model_name": "LayoutModel",
      "state": {}
     },
     "a0fe82f3e17f4c319ad46361c5a13c50": {
      "model_module": "@jupyter-widgets/controls",
      "model_module_version": "1.5.0",
      "model_name": "ButtonModel",
      "state": {
       "description": "Next",
       "layout": "IPY_MODEL_c9e6cc1d42b14408b3a9a2d1e52461d1",
       "style": "IPY_MODEL_8ff0b62d1593427bb932ac4008b74324"
      }
     },
     "a2d38871f11f4a0b9f995951e20e3a74": {
      "model_module": "@jupyter-widgets/controls",
      "model_module_version": "1.5.0",
      "model_name": "ButtonModel",
      "state": {
       "description": "Next",
       "layout": "IPY_MODEL_09e6fd0950f6493b89a737d86e48bc29",
       "style": "IPY_MODEL_7a911e9387f748c9b9579c3ddb977c0d"
      }
     },
     "a6133ef1456c4184b5897281f8925941": {
      "model_module": "@jupyter-widgets/controls",
      "model_module_version": "1.5.0",
      "model_name": "SliderStyleModel",
      "state": {
       "description_width": ""
      }
     },
     "a9ce679fdd734381b1a204472e7c65ed": {
      "model_module": "@jupyter-widgets/base",
      "model_module_version": "1.2.0",
      "model_name": "LayoutModel",
      "state": {}
     },
     "ac55ac12d1e2435183786ad691322367": {
      "model_module": "@jupyter-widgets/base",
      "model_module_version": "1.2.0",
      "model_name": "LayoutModel",
      "state": {}
     },
     "aca663f331664a99b109d96ebc8c70ae": {
      "model_module": "@jupyter-widgets/base",
      "model_module_version": "1.2.0",
      "model_name": "LayoutModel",
      "state": {}
     },
     "add36a52dcf64cc2bf5282e22c27a348": {
      "model_module": "@jupyter-widgets/output",
      "model_module_version": "1.0.0",
      "model_name": "OutputModel",
      "state": {
       "layout": "IPY_MODEL_8c8adc11a6f2423a80bc3910b567a0b0",
       "outputs": [
        {
         "data": {
          "image/png": "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\n",
          "text/plain": "<Figure size 720x720 with 1 Axes>"
         },
         "metadata": {},
         "output_type": "display_data"
        }
       ]
      }
     },
     "adf04e82f18c48859a6000536fc53310": {
      "model_module": "@jupyter-widgets/base",
      "model_module_version": "1.2.0",
      "model_name": "LayoutModel",
      "state": {}
     },
     "ae9908e67b2b4428bb57fe929d7cb378": {
      "model_module": "@jupyter-widgets/controls",
      "model_module_version": "1.5.0",
      "model_name": "IntSliderModel",
      "state": {
       "description": "step",
       "layout": "IPY_MODEL_56ea31f7d9fb4681a177c63ceec204d5",
       "max": 29,
       "style": "IPY_MODEL_89ea24ca850b46c8a9ba91cab45e4f96",
       "value": 29
      }
     },
     "af46d73a7575467ab138b6db7f15968f": {
      "model_module": "@jupyter-widgets/controls",
      "model_module_version": "1.5.0",
      "model_name": "VBoxModel",
      "state": {
       "_dom_classes": [
        "widget-interact"
       ],
       "children": [
        "IPY_MODEL_c582706bf73f43739718ea87fe70d96a",
        "IPY_MODEL_0971861c923648e98dcaba79ed17226f"
       ],
       "layout": "IPY_MODEL_c9fd41b23dfd4f40a9abf79704a15853"
      }
     },
     "b6396b74622f4eea87f596ddc1ae6c65": {
      "model_module": "@jupyter-widgets/base",
      "model_module_version": "1.2.0",
      "model_name": "LayoutModel",
      "state": {}
     },
     "b7b1670245434ad09790ce7fe8dc67cc": {
      "model_module": "@jupyter-widgets/base",
      "model_module_version": "1.2.0",
      "model_name": "LayoutModel",
      "state": {}
     },
     "b7b7bbead95a40b3afe23b3e4216d8ea": {
      "model_module": "@jupyter-widgets/controls",
      "model_module_version": "1.5.0",
      "model_name": "IntSliderModel",
      "state": {
       "description": "step",
       "layout": "IPY_MODEL_adf04e82f18c48859a6000536fc53310",
       "max": 9,
       "style": "IPY_MODEL_974edbf230c14f7c9d97357e6444d491",
       "value": 9
      }
     },
     "b8a81a5fafcb40e69a8e2cdfe17c2362": {
      "model_module": "@jupyter-widgets/controls",
      "model_module_version": "1.5.0",
      "model_name": "ButtonStyleModel",
      "state": {}
     },
     "b91d80efa1384589814db4d52b038a07": {
      "model_module": "@jupyter-widgets/controls",
      "model_module_version": "1.5.0",
      "model_name": "VBoxModel",
      "state": {
       "_dom_classes": [
        "widget-interact"
       ],
       "children": [
        "IPY_MODEL_b7b7bbead95a40b3afe23b3e4216d8ea",
        "IPY_MODEL_4e145e2c06b54523b0eacd97106d9cb9"
       ],
       "layout": "IPY_MODEL_c98f2749dd2e4415ab662a3d702ac01b"
      }
     },
     "be459f24be294b13ab596fd75bac0262": {
      "model_module": "@jupyter-widgets/base",
      "model_module_version": "1.2.0",
      "model_name": "LayoutModel",
      "state": {}
     },
     "bf816b48e8e549bbbc01341561b3b79d": {
      "model_module": "@jupyter-widgets/controls",
      "model_module_version": "1.5.0",
      "model_name": "ButtonStyleModel",
      "state": {}
     },
     "c2023cabe5024402b65a15eb51ab3341": {
      "model_module": "@jupyter-widgets/controls",
      "model_module_version": "1.5.0",
      "model_name": "ButtonModel",
      "state": {
       "description": "Next",
       "layout": "IPY_MODEL_c4112035b283476ca11051c6faa30946",
       "style": "IPY_MODEL_bf816b48e8e549bbbc01341561b3b79d"
      }
     },
     "c219ce2090c54eddaca2dc2bdb8299fe": {
      "model_module": "@jupyter-widgets/controls",
      "model_module_version": "1.5.0",
      "model_name": "VBoxModel",
      "state": {
       "_dom_classes": [
        "widget-interact"
       ],
       "children": [
        "IPY_MODEL_9a87a45089fc4962b6cf3b7224e2aa48",
        "IPY_MODEL_2505e66cb00c4f21867814c6b867cd75"
       ],
       "layout": "IPY_MODEL_44b6d132ffb241b8bd959fb5deb36993"
      }
     },
     "c2d3367da1df44a0a6eef7656149314b": {
      "model_module": "@jupyter-widgets/output",
      "model_module_version": "1.0.0",
      "model_name": "OutputModel",
      "state": {
       "layout": "IPY_MODEL_33f56f8e87df45d4bd223bc6734f2779",
       "outputs": [
        {
         "data": {
          "image/png": "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\n",
          "text/plain": "<Figure size 720x720 with 1 Axes>"
         },
         "metadata": {},
         "output_type": "display_data"
        }
       ]
      }
     },
     "c368536a2df145df9c3eb5c99437b6bd": {
      "model_module": "@jupyter-widgets/base",
      "model_module_version": "1.2.0",
      "model_name": "LayoutModel",
      "state": {}
     },
     "c4112035b283476ca11051c6faa30946": {
      "model_module": "@jupyter-widgets/base",
      "model_module_version": "1.2.0",
      "model_name": "LayoutModel",
      "state": {}
     },
     "c461d25fbd1c484cb319a15c2cc4e1bf": {
      "model_module": "@jupyter-widgets/controls",
      "model_module_version": "1.5.0",
      "model_name": "IntSliderModel",
      "state": {
       "description": "step",
       "layout": "IPY_MODEL_5aaccaddc1304e5cb59016fce80eb104",
       "max": 29,
       "style": "IPY_MODEL_95ce7507869640d98e814b0c240f4383",
       "value": 29
      }
     },
     "c4d2a14e2a134b14a1b2d9595d52dd59": {
      "model_module": "@jupyter-widgets/base",
      "model_module_version": "1.2.0",
      "model_name": "LayoutModel",
      "state": {}
     },
     "c582706bf73f43739718ea87fe70d96a": {
      "model_module": "@jupyter-widgets/controls",
      "model_module_version": "1.5.0",
      "model_name": "IntSliderModel",
      "state": {
       "description": "step",
       "layout": "IPY_MODEL_7151f634e46f45668a05f79133ed9ff9",
       "max": 9,
       "style": "IPY_MODEL_4a608c7a8f98448c963b1eb5bb4d8cc2",
       "value": 9
      }
     },
     "c75a707342b04ce9805f71dab25e7b01": {
      "model_module": "@jupyter-widgets/base",
      "model_module_version": "1.2.0",
      "model_name": "LayoutModel",
      "state": {}
     },
     "c98f2749dd2e4415ab662a3d702ac01b": {
      "model_module": "@jupyter-widgets/base",
      "model_module_version": "1.2.0",
      "model_name": "LayoutModel",
      "state": {}
     },
     "c9e6cc1d42b14408b3a9a2d1e52461d1": {
      "model_module": "@jupyter-widgets/base",
      "model_module_version": "1.2.0",
      "model_name": "LayoutModel",
      "state": {}
     },
     "c9fd41b23dfd4f40a9abf79704a15853": {
      "model_module": "@jupyter-widgets/base",
      "model_module_version": "1.2.0",
      "model_name": "LayoutModel",
      "state": {}
     },
     "cada907f87de483eb43316b4815c582a": {
      "model_module": "@jupyter-widgets/controls",
      "model_module_version": "1.5.0",
      "model_name": "ButtonStyleModel",
      "state": {}
     },
     "caf81ac517aa4b6ea4cd1c5de43af9e5": {
      "model_module": "@jupyter-widgets/controls",
      "model_module_version": "1.5.0",
      "model_name": "ButtonStyleModel",
      "state": {}
     },
     "caf9f1bc99c74b18a6fa1162522a8b00": {
      "model_module": "@jupyter-widgets/base",
      "model_module_version": "1.2.0",
      "model_name": "LayoutModel",
      "state": {}
     },
     "cbe54aa45bd34b098e455ac401d694a1": {
      "model_module": "@jupyter-widgets/base",
      "model_module_version": "1.2.0",
      "model_name": "LayoutModel",
      "state": {}
     },
     "cef25c5b912e40b9875e811b9f33f270": {
      "model_module": "@jupyter-widgets/controls",
      "model_module_version": "1.5.0",
      "model_name": "IntSliderModel",
      "state": {
       "description": "step",
       "layout": "IPY_MODEL_9f539ba80d9b43b49d8bb98ae2472e02",
       "max": 9,
       "style": "IPY_MODEL_2ca8d978ee674260933839fb47e6cf2f",
       "value": 3
      }
     },
     "cf66e42652844296bc96827c1d22f3df": {
      "model_module": "@jupyter-widgets/base",
      "model_module_version": "1.2.0",
      "model_name": "LayoutModel",
      "state": {}
     },
     "d111f2a826b444009c38bdf6e7fb0271": {
      "model_module": "@jupyter-widgets/controls",
      "model_module_version": "1.5.0",
      "model_name": "ButtonModel",
      "state": {
       "description": "Next",
       "layout": "IPY_MODEL_77b90f32c0ec4e77bea6aa0a58261dea",
       "style": "IPY_MODEL_12b7959ec5624128be5c9bae918cff95"
      }
     },
     "d2eebeeb8a594bd3a302f02e8226a573": {
      "model_module": "@jupyter-widgets/base",
      "model_module_version": "1.2.0",
      "model_name": "LayoutModel",
      "state": {}
     },
     "d4775cc5e63b4dec90e70a8877c0b765": {
      "model_module": "@jupyter-widgets/controls",
      "model_module_version": "1.5.0",
      "model_name": "ButtonModel",
      "state": {
       "description": "Prev",
       "layout": "IPY_MODEL_2705379b112641b89817008a5b189104",
       "style": "IPY_MODEL_db2854f9decf445c97e5482a4c5587c4"
      }
     },
     "d5cea3ef906942bbb66bcf63246a2128": {
      "model_module": "@jupyter-widgets/controls",
      "model_module_version": "1.5.0",
      "model_name": "ButtonModel",
      "state": {
       "description": "Next",
       "layout": "IPY_MODEL_d2eebeeb8a594bd3a302f02e8226a573",
       "style": "IPY_MODEL_f2a84ffa09e548a9824d325b18345a11"
      }
     },
     "db2854f9decf445c97e5482a4c5587c4": {
      "model_module": "@jupyter-widgets/controls",
      "model_module_version": "1.5.0",
      "model_name": "ButtonStyleModel",
      "state": {}
     },
     "dcbb7bdbb6e14067982549dacbe44547": {
      "model_module": "@jupyter-widgets/controls",
      "model_module_version": "1.5.0",
      "model_name": "ButtonModel",
      "state": {
       "description": "Next",
       "layout": "IPY_MODEL_c75a707342b04ce9805f71dab25e7b01",
       "style": "IPY_MODEL_364e0e2ca7cc4d06b68b9b513beb4c7c"
      }
     },
     "dd81d8c4e6ce4ac38eb810221a35a85a": {
      "model_module": "@jupyter-widgets/controls",
      "model_module_version": "1.5.0",
      "model_name": "IntSliderModel",
      "state": {
       "description": "step",
       "layout": "IPY_MODEL_6e94f4261a144bb9abb0623b30fe8e89",
       "max": 9,
       "style": "IPY_MODEL_75c5096807754241a4d54ce007bfc70e",
       "value": 7
      }
     },
     "de7927b9213c44ca85dc11957e075a3a": {
      "model_module": "@jupyter-widgets/controls",
      "model_module_version": "1.5.0",
      "model_name": "HBoxModel",
      "state": {
       "children": [
        "IPY_MODEL_668dbe862b014216b2a9199a74972c4e",
        "IPY_MODEL_7c589e6b27254b78b3752beab724a535"
       ],
       "layout": "IPY_MODEL_1ed7068eae484338804aa691d6b2229e"
      }
     },
     "dee184e999954c7e97bc6086697fbb35": {
      "model_module": "@jupyter-widgets/controls",
      "model_module_version": "1.5.0",
      "model_name": "ButtonModel",
      "state": {
       "description": "Prev",
       "layout": "IPY_MODEL_0bd2cebacccc4f119453d2b0b5276799",
       "style": "IPY_MODEL_fa12b3b2413a49469d512ba7af76f072"
      }
     },
     "e005a248916e4498a231d2ca8fde6a65": {
      "model_module": "@jupyter-widgets/controls",
      "model_module_version": "1.5.0",
      "model_name": "HBoxModel",
      "state": {
       "children": [
        "IPY_MODEL_93bcbee1411b4b93b5cd3e523292df35",
        "IPY_MODEL_c2023cabe5024402b65a15eb51ab3341"
       ],
       "layout": "IPY_MODEL_cbe54aa45bd34b098e455ac401d694a1"
      }
     },
     "e1fe89e55cbf4f1bb40a979e10a3e633": {
      "model_module": "@jupyter-widgets/output",
      "model_module_version": "1.0.0",
      "model_name": "OutputModel",
      "state": {
       "layout": "IPY_MODEL_497742b66cae4908bde6037cc6aa545f",
       "outputs": [
        {
         "data": {
          "image/png": "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\n",
          "text/plain": "<Figure size 720x720 with 1 Axes>"
         },
         "metadata": {},
         "output_type": "display_data"
        }
       ]
      }
     },
     "e4cf421eb9db45a283617973f7ccc9bb": {
      "model_module": "@jupyter-widgets/controls",
      "model_module_version": "1.5.0",
      "model_name": "VBoxModel",
      "state": {
       "_dom_classes": [
        "widget-interact"
       ],
       "children": [
        "IPY_MODEL_3d3fd3c2de9c41708f26e314907e439e",
        "IPY_MODEL_f8b9ef4669f049139ce5094de965a258"
       ],
       "layout": "IPY_MODEL_9b5d8e15c6114ae18a17676c40b71fa8"
      }
     },
     "e534880710874c80a2dfd0f3cb1284ca": {
      "model_module": "@jupyter-widgets/base",
      "model_module_version": "1.2.0",
      "model_name": "LayoutModel",
      "state": {}
     },
     "e84eb50a558d47468228aa595b9a5207": {
      "model_module": "@jupyter-widgets/base",
      "model_module_version": "1.2.0",
      "model_name": "LayoutModel",
      "state": {}
     },
     "eaff2730937d494ea9d5f9383885bff0": {
      "model_module": "@jupyter-widgets/controls",
      "model_module_version": "1.5.0",
      "model_name": "ButtonModel",
      "state": {
       "description": "Prev",
       "layout": "IPY_MODEL_1a1db68a56e84b49a6e7ce3d704c9bed",
       "style": "IPY_MODEL_48212a00bd234ec88825ecdc8d07777b"
      }
     },
     "f2a84ffa09e548a9824d325b18345a11": {
      "model_module": "@jupyter-widgets/controls",
      "model_module_version": "1.5.0",
      "model_name": "ButtonStyleModel",
      "state": {}
     },
     "f3d1994a89f04ad0bd309fb4cdcd9de7": {
      "model_module": "@jupyter-widgets/base",
      "model_module_version": "1.2.0",
      "model_name": "LayoutModel",
      "state": {}
     },
     "f7b0d8ae2cc1409a83fb259f75f58b51": {
      "model_module": "@jupyter-widgets/base",
      "model_module_version": "1.2.0",
      "model_name": "LayoutModel",
      "state": {}
     },
     "f7b155c0ba9848b4a55dd2c46963eab3": {
      "model_module": "@jupyter-widgets/base",
      "model_module_version": "1.2.0",
      "model_name": "LayoutModel",
      "state": {}
     },
     "f8b9ef4669f049139ce5094de965a258": {
      "model_module": "@jupyter-widgets/output",
      "model_module_version": "1.0.0",
      "model_name": "OutputModel",
      "state": {
       "layout": "IPY_MODEL_b7b1670245434ad09790ce7fe8dc67cc",
       "outputs": [
        {
         "data": {
          "image/png": "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\n",
          "text/plain": "<Figure size 720x720 with 1 Axes>"
         },
         "metadata": {},
         "output_type": "display_data"
        }
       ]
      }
     },
     "fa12b3b2413a49469d512ba7af76f072": {
      "model_module": "@jupyter-widgets/controls",
      "model_module_version": "1.5.0",
      "model_name": "ButtonStyleModel",
      "state": {}
     },
     "fa13e1957d714110a695c243b647afb3": {
      "model_module": "@jupyter-widgets/controls",
      "model_module_version": "1.5.0",
      "model_name": "SliderStyleModel",
      "state": {
       "description_width": ""
      }
     },
     "fb9feeb7965a4183a55b719afa15eff2": {
      "model_module": "@jupyter-widgets/controls",
      "model_module_version": "1.5.0",
      "model_name": "ButtonModel",
      "state": {
       "description": "Prev",
       "layout": "IPY_MODEL_185bccf00abc4462aa82283d0a1c8e26",
       "style": "IPY_MODEL_4312485c2f114abfbb13d343e7e160ef"
      }
     },
     "fee9a65b93b34e6aa8e55f8cadd244d5": {
      "model_module": "@jupyter-widgets/controls",
      "model_module_version": "1.5.0",
      "model_name": "HBoxModel",
      "state": {
       "children": [
        "IPY_MODEL_46024a1248fa426f8f7816c3b9bd0346",
        "IPY_MODEL_a2d38871f11f4a0b9f995951e20e3a74"
       ],
       "layout": "IPY_MODEL_11f190cdd7a749fc853e78797507b2d2"
      }
     }
    },
    "version_major": 2,
    "version_minor": 0
   }
  }
 },
 "nbformat": 4,
 "nbformat_minor": 4
}
