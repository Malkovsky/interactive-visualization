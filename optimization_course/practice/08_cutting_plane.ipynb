{
 "cells": [
  {
   "cell_type": "markdown",
   "metadata": {},
   "source": [
    "# Задача #1: Метод разделяющей гиперплоскости"
   ]
  },
  {
   "cell_type": "code",
   "execution_count": null,
   "metadata": {},
   "outputs": [],
   "source": [
    "def cutting_plane(x_0, A, b, c, k=10):\n",
    "    \"\"\"\n",
    "    Решает задачу LP (с^Tx -> min, Ax<=b, x>=0) с помощью метода разделяющей гиперплоскости.\n",
    "    Начальное приближение задается многогранником Ax<=b, x>=0.\n",
    "    \n",
    "    Args:\n",
    "        x_0: ndarray(n) -- начальное приближение\n",
    "        A: ndarray(m, n)\n",
    "        b: ndarray(m)\n",
    "        c: ndarray(n)\n",
    "        k: int -- число итераций\n",
    "    Returns:\n",
    "        [(p_1, d_1, x_1), ..., (p_k, d_k, x_k)] -- список добавленных уравнений вида p_lx<=b_l и соответствующее приближение x_l.\n",
    "    \"\"\"\n",
    "    pass"
   ]
  },
  {
   "cell_type": "code",
   "execution_count": null,
   "metadata": {},
   "outputs": [],
   "source": [
    "import numpy as np\n",
    "import matplotlib.pyplot as plt"
   ]
  },
  {
   "cell_type": "code",
   "execution_count": null,
   "metadata": {},
   "outputs": [],
   "source": [
    "from interactive_visualization.animation_utils import animate_list"
   ]
  },
  {
   "cell_type": "code",
   "execution_count": null,
   "metadata": {},
   "outputs": [],
   "source": [
    "def get_line(x1, x2):\n",
    "    a = x1[1] - x2[1]\n",
    "    b = x2[0] - x1[0]\n",
    "    c = a * x1[0] + b * x1[1]\n",
    "    return a, b, c\n",
    "\n",
    "vertices = [(2.0, 2.0), (1.9, 3.0), (2.5, 4.0), (4.0, 4.2), (4.7, 3.5), (4.5, 1.5), (3.5, 1.0), (2.0, 2.0)]\n",
    "A = []\n",
    "b = []\n",
    "\n",
    "for i in range(len(vertices) - 1):\n",
    "    a_, b_, c_ = get_line(vertices[i], vertices[i + 1])\n",
    "    A.append([a_, b_])\n",
    "    b.append(c_)\n",
    "A = np.array(A)\n",
    "b = np.array(b)\n",
    "direction = np.array([-2, -1]) # c"
   ]
  },
  {
   "cell_type": "code",
   "execution_count": null,
   "metadata": {},
   "outputs": [],
   "source": [
    "def fix_scaling(ax=None):\n",
    "    if not ax:\n",
    "        xlim = plt.xlim()\n",
    "        ylim = plt.ylim()\n",
    "        d1 = xlim[1] - xlim[0]\n",
    "        d2 = ylim[1] - ylim[0]\n",
    "        if d1 > d2:\n",
    "            plt.ylim((ylim[0] - (d1-d2) / 2, ylim[1] + (d1-d2) / 2))\n",
    "        else:\n",
    "            plt.xlim((xlim[0] + (d1-d2) / 2, xlim[1] - (d1-d2) / 2))\n",
    "    else:\n",
    "        xlim = ax.get_xlim()\n",
    "        ylim = ax.get_ylim()\n",
    "        d1 = xlim[1] - xlim[0]\n",
    "        d2 = ylim[1] - ylim[0]\n",
    "        if d1 > d2:\n",
    "            ax.set_ylim((ylim[0] - (d1-d2) / 2, ylim[1] + (d1-d2) / 2))\n",
    "        else:\n",
    "            ax.set_xlim((xlim[0] + (d1-d2) / 2, xlim[1] - (d1-d2) / 2))"
   ]
  },
  {
   "cell_type": "code",
   "execution_count": null,
   "metadata": {},
   "outputs": [],
   "source": [
    "def intersection(a, b, c, d):\n",
    "    return np.linalg.solve(np.array([a, c]), np.array([b, d]))"
   ]
  },
  {
   "cell_type": "code",
   "execution_count": null,
   "metadata": {},
   "outputs": [],
   "source": [
    "from scipy.spatial import ConvexHull\n",
    "\n",
    "def get_vertices(A, b, P, d):\n",
    "    vertices = []\n",
    "    #print(A, b, P, d)\n",
    "    for i in range(b.shape[0]):\n",
    "        for j in range(i):\n",
    "            try:\n",
    "                _x = intersection(A[i], b[i], A[j], b[j])\n",
    "            except np.linalg.LinAlgError:\n",
    "                continue\n",
    "            if np.min(np.less_equal(A @ _x - 1e-6, b)) and np.min(np.less_equal(P @ _x - 1e-6, d)) and np.min(np.less_equal(np.zeros_like(_x), _x)):\n",
    "                vertices.append(_x)\n",
    "    for i in range(d.shape[0]):\n",
    "        for j in range(i):\n",
    "            try:\n",
    "                _x = intersection(P[i], d[i], P[j], d[j])\n",
    "            except np.linalg.LinAlgError:\n",
    "                continue\n",
    "            if np.min(np.less_equal(A @ _x - 1e-6, b)) and np.min(np.less_equal(P @ _x - 1e-6, d)) and np.min(np.less_equal(np.zeros_like(_x), _x)):\n",
    "                vertices.append(_x)   \n",
    "                \n",
    "    for i in range(b.shape[0]):\n",
    "        for j in range(d.shape[0]):\n",
    "            try:\n",
    "                _x = intersection(A[i], b[i], P[j], d[j])\n",
    "            except np.linalg.LinAlgError:\n",
    "                continue            \n",
    "            if np.min(np.less_equal(A @ _x - 1e-6, b)) and np.min(np.less_equal(P @ _x - 1e-6, d)) and np.min(np.less_equal(np.zeros_like(_x), _x)):\n",
    "                vertices.append(_x)\n",
    "    #plt.scatter([x for x, y in vertices], [y for x, y in vertices])\n",
    "    #print('Ver', vertices)\n",
    "    return np.array(vertices)[ConvexHull(vertices).vertices]    "
   ]
  },
  {
   "cell_type": "code",
   "execution_count": null,
   "metadata": {},
   "outputs": [],
   "source": [
    "get_vertices(A, b, A, b)"
   ]
  },
  {
   "cell_type": "code",
   "execution_count": null,
   "metadata": {},
   "outputs": [],
   "source": [
    "def cutting_plane_step(x, A, b, P, d):\n",
    "    fig, ax = plt.subplots(figsize=(10, 10))\n",
    "\n",
    "    hull = get_vertices(A, b, P, d)\n",
    "    \n",
    "    ax.fill([x for x, y in hull], [y for x, y in hull], color='grey', alpha=0.5)\n",
    "    ax.plot([x for x, y in vertices], [y for x, y in vertices])\n",
    "    \n",
    "    ax.scatter([x[0]], [x[1]], color='black')\n",
    "    #fix_scaling(ax)\n",
    "    ax.axis('off')\n",
    "    plt.close(fig)\n",
    "    return fig"
   ]
  },
  {
   "cell_type": "code",
   "execution_count": null,
   "metadata": {},
   "outputs": [],
   "source": [
    "steps = cutting_plane(np.array([3.5, 2.8]), A, b, np.array([-2, -1]), k = 30)"
   ]
  },
  {
   "cell_type": "code",
   "execution_count": null,
   "metadata": {},
   "outputs": [],
   "source": [
    "result = []\n",
    "P = []\n",
    "d = []\n",
    "for P_i, d_i, x_i in steps:\n",
    "    P.append(P_i)\n",
    "    d.append(d_i)\n",
    "    result.append(cutting_plane_step(x_i, A, b, np.array(P), np.array(d)))\n",
    "\n",
    "animate_list(result);"
   ]
  }
 ],
 "metadata": {
  "kernelspec": {
   "display_name": "Python 3",
   "language": "python",
   "name": "python3"
  },
  "language_info": {
   "codemirror_mode": {
    "name": "ipython",
    "version": 3
   },
   "file_extension": ".py",
   "mimetype": "text/x-python",
   "name": "python",
   "nbconvert_exporter": "python",
   "pygments_lexer": "ipython3",
   "version": "3.8.5"
  },
  "widgets": {
   "application/vnd.jupyter.widget-state+json": {
    "state": {},
    "version_major": 2,
    "version_minor": 0
   }
  }
 },
 "nbformat": 4,
 "nbformat_minor": 4
}
