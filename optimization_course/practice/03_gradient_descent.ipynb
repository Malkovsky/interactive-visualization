{
 "cells": [
  {
   "cell_type": "markdown",
   "metadata": {},
   "source": [
    "# Градиентный спуск и его модификации"
   ]
  },
  {
   "cell_type": "markdown",
   "metadata": {},
   "source": [
    "## Задача #1: Базовый градиентный спуск\n",
    "Реализуйте градиентный спуск для функции\n",
    "$$\n",
    "f(x)=e^{ax}+e^{-bx}+c(x-d)^2\n",
    "$$\n",
    "при $a, b, c>0$."
   ]
  },
  {
   "cell_type": "code",
   "execution_count": null,
   "metadata": {},
   "outputs": [],
   "source": [
    "import numpy as np\n",
    "from typing import List, Union"
   ]
  },
  {
   "cell_type": "code",
   "execution_count": null,
   "metadata": {},
   "outputs": [],
   "source": [
    "def gradient_descent_scalar(\n",
    "                     x_0: float,\n",
    "                     a: float,\n",
    "                     b: float,\n",
    "                     c: float,\n",
    "                     d: float,\n",
    "                     iters: int,\n",
    "                     alpha: Union[float, List[float]]) -> List[float]:\n",
    "    \"\"\"\n",
    "    Применяет градиентный спуск с указанными начальным приближением x_0 и шагами alpha\n",
    "    к функции exp(ax)+exp(-bx)+c(x-d)^2\n",
    "    \n",
    "    Args:\n",
    "        x_0: начальная точка, с которой начинать спуск\n",
    "        a, b, c, d: параметры функции\n",
    "        iters: количество итераций градиентного спуска\n",
    "        alpha: либо скаляр, обозначающий постоянный размер шага, \n",
    "               либо список размера iters с указанием какой размер использовать\n",
    "               на каждом шаге\n",
    "        \n",
    "    Returns:\n",
    "        последовательность приближений [x_0, x_1, x_2, ..., x_iters] \n",
    "    \n",
    "    \"\"\"\n",
    "    pass"
   ]
  },
  {
   "cell_type": "code",
   "execution_count": null,
   "metadata": {},
   "outputs": [],
   "source": [
    "import matplotlib.pyplot as plt"
   ]
  },
  {
   "cell_type": "code",
   "execution_count": null,
   "metadata": {},
   "outputs": [],
   "source": [
    "a, b, c, d = 1, 2, 3, 2\n",
    "estimates = gradient_descent_scalar(0, a, b, c, d, 50, 0.05)\n",
    "f = lambda x: np.exp(a * x) + np.exp(-b * x) + c * (x - d) ** 2\n",
    "fig = plt.figure(figsize=(7, 7))\n",
    "ax = fig.add_axes([0, 0, 1, 1])\n",
    "ax.plot([i for i in range(len(estimates))], [f(x) for x in estimates])\n",
    "plt.close(fig)\n",
    "fig"
   ]
  },
  {
   "cell_type": "markdown",
   "metadata": {},
   "source": [
    "## Задача #2: Градиентный спуск и метод Чебышёва для решение симметричных линейных систем\n",
    "Реализуйте градиентный спуск и метод Чебышёва для минимизации\n",
    "$$\n",
    "f(x)=\\frac{1}{2}x^TAx-b^tx\n",
    "$$"
   ]
  },
  {
   "cell_type": "code",
   "execution_count": null,
   "metadata": {},
   "outputs": [],
   "source": [
    "def gradient_descent_quadratic(x_0: np.ndarray,\n",
    "                               A: np.ndarray,\n",
    "                               b: np.ndarray,\n",
    "                               m: float,\n",
    "                               M: float,\n",
    "                               iters: int) -> List[np.ndarray]:\n",
    "    \"\"\"\n",
    "    Применяет градиентный спуск к квадратичной функции, заданной A, b\n",
    "    с начальным приближением x_0. Все собственные числа A лежат на отрезке\n",
    "    [m: M], m > 0.\n",
    "    \n",
    "    Args:\n",
    "        x_0: ndarray размером (n)\n",
    "        A: ndarray размером (n, n)\n",
    "        b: ndarray размером (n)\n",
    "        m, M: границы спектра A\n",
    "        iters: количество итераций спуска\n",
    "        \n",
    "    Returns:\n",
    "        последовательность [x_0, x_1, ..., x_iters]\n",
    "    \"\"\"\n",
    "    pass"
   ]
  },
  {
   "cell_type": "code",
   "execution_count": null,
   "metadata": {},
   "outputs": [],
   "source": [
    "def chebyshev_descent(x_0: np.ndarray,\n",
    "                      A: np.ndarray,\n",
    "                      b: np.ndarray,\n",
    "                      m: float,\n",
    "                      M: float,\n",
    "                      iters: int) -> List[np.ndarray]:\n",
    "    \"\"\"\n",
    "    Применяет метод Чебышёва к квадратичной функции, заданной A, b\n",
    "    с начальным приближением x_0. Все собственные числа A лежат на отрезке\n",
    "    [m: M], m > 0.\n",
    "    \n",
    "    Args:\n",
    "        x_0: ndarray размером (n)\n",
    "        A: ndarray размером (n, n)\n",
    "        b: ndarray размером (n)\n",
    "        m, M: границы спектра A\n",
    "        iters: количество итераций спуска\n",
    "        \n",
    "    Returns:\n",
    "        последовательность [x_0, x_1, ..., x_iters]\n",
    "    \"\"\"\n",
    "    pass"
   ]
  },
  {
   "cell_type": "code",
   "execution_count": null,
   "metadata": {},
   "outputs": [],
   "source": [
    "def show_chebyshev_and_gradient():\n",
    "    A = np.random.rand(5, 5)\n",
    "    A = A @ A.T\n",
    "    b = np.random.rand(5)\n",
    "    fig, axs = plt.subplots(1, 1, figsize=(10, 7))\n",
    "    eig, v = np.linalg.eigh(A)\n",
    "    m, M = eig[0], eig[-1]\n",
    "    x = np.zeros_like(b)\n",
    "    \n",
    "    iters = 500\n",
    "    \n",
    "    estimates_basic = gradient_descent_quadratic(x, A, b, m, M, iters)\n",
    "    estimates_chebyshev = chebyshev_descent(x, A, b, m, M, iters)\n",
    "    \n",
    "    axs.plot([i for i in range(len(estimates_basic))], [np.linalg.norm(A @ x - b) for x in estimates_basic], label='Basic')\n",
    "    axs.plot([i for i in range(len(estimates_chebyshev))], [np.linalg.norm(A @ x - b) for x in estimates_chebyshev], label='Chebyshev')\n",
    "    axs.legend()\n",
    "    axs.set_ylabel(r'|\\Ax_k-b|', fontsize=20)\n",
    "    axs.set_xlabel(r'k', fontsize=20)\n",
    "    axs.set_yscale('log')\n",
    "    plt.close(fig)\n",
    "    return fig"
   ]
  },
  {
   "cell_type": "code",
   "execution_count": null,
   "metadata": {},
   "outputs": [],
   "source": [
    "show_chebyshev_and_gradient()"
   ]
  },
  {
   "cell_type": "markdown",
   "metadata": {},
   "source": [
    "## Задача #3: полиномиальная регрессия\n",
    "Дан набор точек $\\{x_i, y_i\\}_{i=1}^m$, нужно найти такой полином $P$ степени $k$, что величина\n",
    "$$\n",
    "\\sum_{i=1}^m(P(x_i)-y_i)^2\n",
    "$$\n",
    "минимальна среди всех многочленов степени $k$."
   ]
  },
  {
   "cell_type": "code",
   "execution_count": null,
   "metadata": {},
   "outputs": [],
   "source": [
    "def polynomial_regression(x: np.ndarray,\n",
    "                          y: np.ndarray,\n",
    "                          k: int) -> np.ndarray:\n",
    "    \"\"\"\n",
    "    Вычисляет наиболее подходящий точкам x, y многочлен степени k\n",
    "    \n",
    "    Args:\n",
    "        x, y: ndarray размером (m) \n",
    "        k: степень многочлена\n",
    "        \n",
    "    Returns:\n",
    "        ndarray размером (k) соответствующий коэффициентам минимального\n",
    "        в порядке от младшего к старшему\n",
    "    \"\"\"\n",
    "    pass"
   ]
  },
  {
   "cell_type": "code",
   "execution_count": null,
   "metadata": {},
   "outputs": [],
   "source": [
    "y = [0]\n",
    "num = 8\n",
    "for i in range(num - 1):\n",
    "    y.append(y[-1] + 2 * np.random.rand() - 1)\n",
    "y = np.stack(y)\n",
    "x = np.array(list(range(-(num // 2), num - (num // 2))))\n",
    "coeffs = polynomial_regression(x, y, num - 1)\n",
    "r = np.arange(x[0], x[-1] + 0.1, 0.1)\n",
    "fig = plt.figure(figsize=(7, 7))\n",
    "ax = fig.add_axes([0, 0, 1, 1])\n",
    "ax.scatter(x, y, color='black')\n",
    "ax.plot(r, [sum([a * t ** i for i, a in enumerate(coeffs)]) for t in r])\n",
    "plt.close(fig)\n",
    "fig"
   ]
  }
 ],
 "metadata": {
  "kernelspec": {
   "display_name": "Python 3",
   "language": "python",
   "name": "python3"
  },
  "language_info": {
   "codemirror_mode": {
    "name": "ipython",
    "version": 3
   },
   "file_extension": ".py",
   "mimetype": "text/x-python",
   "name": "python",
   "nbconvert_exporter": "python",
   "pygments_lexer": "ipython3",
   "version": "3.8.3"
  },
  "widgets": {
   "application/vnd.jupyter.widget-state+json": {
    "state": {},
    "version_major": 2,
    "version_minor": 0
   }
  }
 },
 "nbformat": 4,
 "nbformat_minor": 4
}
