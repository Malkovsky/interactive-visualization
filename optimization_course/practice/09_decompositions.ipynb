{
 "cells": [
  {
   "cell_type": "markdown",
   "metadata": {},
   "source": [
    "# Задача #1: Минимизация среднеквадратичного отклонения\n",
    "Дан набор точек $y_1, \\ldots, y_m\\in\\mathbb{R}^n$, нужно минимизировать\n",
    "$$\n",
    "\\frac{1}{2}\\sum_{i=1}^m\\|x-y_i\\|^2.\n",
    "$$\n",
    "Эта игрушечная задача с теоретичеким решением\n",
    "$$\n",
    "x^*=\\frac{1}{m}\\sum_{i=1}^my_i\n",
    "$$"
   ]
  },
  {
   "cell_type": "code",
   "execution_count": null,
   "metadata": {},
   "outputs": [],
   "source": [
    "import numpy as np"
   ]
  },
  {
   "cell_type": "code",
   "execution_count": null,
   "metadata": {},
   "outputs": [],
   "source": [
    "def ADMM(Y, iters = 100):\n",
    "    \"\"\"\n",
    "    Вычисляет миинимум sum(||x-y_i||^2) методом ADMM с использованием консенсусной декомпозиции\n",
    "    \n",
    "    Args:\n",
    "        Y: ndarray(m, n) \n",
    "    \n",
    "    Returns:\n",
    "        [z_0, ..., z_iters] -- последовательность вспомогательных переменных z\n",
    "    \"\"\"\n",
    "passpass"
   ]
  },
  {
   "cell_type": "code",
   "execution_count": null,
   "metadata": {},
   "outputs": [],
   "source": [
    "import matplotlib.pyplot as plt"
   ]
  },
  {
   "cell_type": "code",
   "execution_count": null,
   "metadata": {},
   "outputs": [],
   "source": [
    "m = 50\n",
    "n = 10\n",
    "Y = np.random.rand(m, n)\n",
    "\n",
    "vectors = ADMM(Y)\n",
    "#print(vectors)\n",
    "#print(np.mean(Y, axis=0))\n",
    "fig, ax = plt.subplots(1, 1, figsize=(10, 10))\n",
    "ax.plot([i for i in range(len(vectors))], [np.linalg.norm(z - np.mean(Y, axis=0)) for z in vectors])\n",
    "ax.set_yscale('log')\n",
    "plt.close(fig)\n",
    "fig"
   ]
  }
 ],
 "metadata": {
  "kernelspec": {
   "display_name": "Python 3",
   "language": "python",
   "name": "python3"
  },
  "language_info": {
   "codemirror_mode": {
    "name": "ipython",
    "version": 3
   },
   "file_extension": ".py",
   "mimetype": "text/x-python",
   "name": "python",
   "nbconvert_exporter": "python",
   "pygments_lexer": "ipython3",
   "version": "3.8.3"
  },
  "widgets": {
   "application/vnd.jupyter.widget-state+json": {
    "state": {},
    "version_major": 2,
    "version_minor": 0
   }
  }
 },
 "nbformat": 4,
 "nbformat_minor": 4
}
