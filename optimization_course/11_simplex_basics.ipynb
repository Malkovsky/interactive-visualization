{
 "cells": [
  {
   "cell_type": "markdown",
   "metadata": {},
   "source": [
    "# Симплекс-метод\n",
    "Задача линейного программирования является одной из первых задач выпуклой оптимизации, для которой удалось получить эффиктивные методы решения\n",
    "$$\n",
    "\\begin{array}{rl}\n",
    "\\mbox{минимизировать } & c^Tx \\\\\n",
    "\\mbox{при условии } & Ax=b \\\\\n",
    "& x\\geq 0.\\tag{1}\n",
    "\\end{array}\n",
    "$$\n",
    "Геометрически ограничения в виде линейных равенств и неравенств задают в пространстве многогранник, в котором мы должно найти самую дальнюю точку в какому-то направлении. Интуитивно понятно, что если задача ограничена, среди оптимальных решений обязательно найдется вершина многогранника, поэтому самым простым способом является аккуратно перебрать все вершины многогранника и найти минимум среди них, это уже даст нам решение за конечное число шагов. Давайте теперь формализуем этот подход.\n",
    "\n",
    "<b>Определение.</b> При $A\\in\\mathbb{R}^{m\\times n}$ вершиной задачи (1) называется точка $x$ такая, что $Ax=b$, $x\\geq 0$ и при этом хотя бы $n-m$ компонент $x$ равны $0$.\n",
    "\n",
    "<b>Лемма.</b> Для любой допустимой (1) точки $z$, не являющей вершиной, найдутся $x\\neq y$ такие, что \n",
    "$$z=tx+(1-t)y,~t\\in(0,1)$$\n",
    "<b>Доказательство</b>. Раз $z$ не является вершиной, то хотя бы $m+1$ компоненты $z$ не равны нулю, обозначим эти компоненты за $S$. Рассмотрим вектора вида $e^{in}\\in\\mathbb{R}^n:~e^{in}_j=\\delta_{ij}$, $\\delta_{ij}$. Эти векторы линейно независимы, среди векторов, соответствующих $S$, найдется хотя бы один, который не попадает в линейную оболочку строк $A$, обозначим индекс этого вектора как $i$. Рассмотрим систему\n",
    "$$\n",
    "Ax=b,~x_i=d, x_j=0~\\forall j\\notin S.\n",
    "$$\n",
    "Так как при $d=z_i$ решение этой систмемы существует и равно $z$, в силу выбора $i$ получаем, что система разрешима для любого $d$. С другой стороны решение $x^*(d)$ этой задачи линейно (а следовательно непрерывно) по $d$. Таким образом существует такое $\\epsilon<z_i$, что $x^*(z_i-\\epsilon)\\geq 0$ и $x^*(z_i+\\epsilon)\\geq 0$, что дает на искомые точки. $\\#$\n",
    "\n",
    "<b>Следствие</b>. Среди оптимальных точек найдется вершина.\n",
    "\n",
    "<b>Доказательство.</b> На самом деле формально самой леммы недостаточно для доказательства этого факта, нужно продолжить доказательство этой леммы: в силу линейности $x^*(d)=db+p$ если для всех положительных $d$ выполняется $x^*(d)\\geq 0$ и при этом $c^T x^*(d)-x^*(0)=dc^Tb<0$, то задача неограничена снизу, поэтому не имеет решения. Иначе существует некоторое пороговое значение $d^*$, при котором обнуляется одна из компонент $z$ не из $S$. Таким образом мы получаем не просто две точки такие, что $z$ лежит на отрезке, соединяющим эти две точки, но при этом еще и количество нулевых компонент у них увеличилось хотя бы на $1$. Повторив это нужное число раз можно получить вершины."
   ]
  },
  {
   "cell_type": "markdown",
   "metadata": {},
   "source": [
    "## Перебор вершин и симплекс-метод\n",
    "Из указанного выше можно прийти к следующим двум простым алгоритмам:\n",
    "* Первый алгоритм\n",
    "  * Перебрать все возможные $n-m$-элементные подмножества переменных $S$\n",
    "  * Решить систему $Ax=b, x_i=0,~i\\in S$, проверить, что решение $x(S)\\geq 0$.\n",
    "  * Из полученных решений взять минимальное\n",
    "* Второй алгоритм (Симплекс-метод):\n",
    "  * Найти начальное подмножество $S_0$ такое, что система $Ax=b, x_i=0,~i\\in S_0$ разрешима и $x(S_0)\\geq 0$.\n",
    "  * Пока в $S_k$ можно заменить один индекс так, чтобы выполнялось $x(S_{k+1})\\geq 0$ и $c^Tx(S_{k+1})\\leq c^Tx(S_k)$ строить новые приближения соответствующей заменой.\n",
    "  \n",
    "Симплекс-метод можно воспринимать как алгоритм умного перебора, использующий выпуклость задачи. Тем не менее известно, что существуют [примеры](https://en.wikipedia.org/wiki/Klee%E2%80%93Minty_cube), на которых симплекс-метод имеет экспоненциальную сложность."
   ]
  },
  {
   "cell_type": "markdown",
   "metadata": {},
   "source": [
    "## Некоторые замечания\n",
    "Приведение произвольной задачи оптимизации с линейным функционалом и линейными ограничениями к стандартной линейного программирования в стандартной форме (1) можно с помощью следующих преобразований:\n",
    "* Замена произвольного неравенства\n",
    "$$\n",
    "A_ix\\leq b_i\n",
    "$$\n",
    "на\n",
    "$$\n",
    "A_ix+s_i=b_i,~s_i\\geq 0\n",
    "$$\n",
    "с добавлением вспомогательной переменной $s_i$ (<i>slack variable</i>).\n",
    "* Переменные $x_i$, для которых нет ограничения $x_i\\geq 0$ разбиваются следующим образом\n",
    "$$\n",
    "x_i=x^+_i-x^-_i, ~x^+_i,x^-_i\\geq 0.\n",
    "$$\n",
    "* В некоторых случаях используются неравенства, а не равенства, от равенства можно избавиться простым способом\n",
    "$$\n",
    "Ax=b\\Leftrightarrow Ax\\geq b, Ax\\leq b.\n",
    "$$\n",
    "\n",
    "Получение начального допустимого приблежения в симлекс-методе может быть получено двумя способами:\n",
    "* Первое - сформулировать задачу в канонической форме\n",
    "$$\n",
    "\\begin{array}{rl}\n",
    "\\mbox{минимизировать } & c^Tx \\\\\n",
    "\\mbox{при условии } & Ax\\leq b \\\\\n",
    "& x\\geq 0\n",
    "\\end{array}\n",
    "$$\n",
    "с положительными компонентами в $b$. В этой задаче точка $x=0$ является допустимой, если мы хотим конвертировать эту задачу в стандартную форму (1), то достаточно только ввести дополняющие переменные\n",
    "$$\n",
    "Ax\\leq b\\Leftrightarrow Ax+s=b,~s\\geq 0,\n",
    "$$\n",
    "где, соответственно, начальным приближением можно взять $x=0, s=b$.\n",
    "* Второе - решение вспомогательной задачи\n",
    "$$\n",
    "\\begin{array}{rl}\n",
    "\\mbox{максимизировать } & t \\\\\n",
    "\\mbox{при условии } & Ax=b \\\\\n",
    "& x\\geq t\\mathbb{1}.\n",
    "\\end{array}\n",
    "$$\n",
    "Здесь мы можем взять в качестве начального приближения любое решение $Ax=b$ и $t=\\max_ix_i$. Если оптимальное значение $t$ этой задачи меньше нуля, то исходная задача не имеет допустимых точек, иначе решение задачи может быть использовано как начальной приближение для (1)."
   ]
  },
  {
   "cell_type": "code",
   "execution_count": 1,
   "metadata": {},
   "outputs": [],
   "source": [
    "import numpy as np\n",
    "import matplotlib.pyplot as plt"
   ]
  },
  {
   "cell_type": "code",
   "execution_count": 2,
   "metadata": {},
   "outputs": [],
   "source": [
    "# from two points defines the coefficients a, b, c such that a line ax+by=c goes through these points \n",
    "def get_line(x1, x2):\n",
    "    a = x1[1] - x2[1]\n",
    "    b = x2[0] - x1[0]\n",
    "    c = a * x1[0] + b * x1[1]\n",
    "    return a, b, c\n",
    "\n",
    "vertices = [(2.0, 2.0), (1.9, 3.0), (2.5, 4.0), (4.0, 4.2), (4.7, 3.5), (4.5, 1.5), (3.5, 1.0), (2.0, 2.0)]\n",
    "A = []\n",
    "b = []\n",
    "\n",
    "for i in range(len(vertices) - 1):\n",
    "    a_, b_, c_ = get_line(vertices[i], vertices[i + 1])\n",
    "    A.append([a_, b_])\n",
    "    b.append(c_)\n",
    "A = np.array(A)\n",
    "b = np.array(b)\n",
    "direction = np.array([-2, -1]) # c"
   ]
  },
  {
   "cell_type": "code",
   "execution_count": 3,
   "metadata": {},
   "outputs": [],
   "source": [
    "def fix_scaling(ax=None):\n",
    "    if not ax:\n",
    "        xlim = plt.xlim()\n",
    "        ylim = plt.ylim()\n",
    "        d1 = xlim[1] - xlim[0]\n",
    "        d2 = ylim[1] - ylim[0]\n",
    "        if d1 > d2:\n",
    "            plt.ylim((ylim[0] - (d1-d2) / 2, ylim[1] + (d1-d2) / 2))\n",
    "        else:\n",
    "            plt.xlim((xlim[0] + (d1-d2) / 2, xlim[1] - (d1-d2) / 2))\n",
    "    else:\n",
    "        xlim = ax.get_xlim()\n",
    "        ylim = ax.get_ylim()\n",
    "        d1 = xlim[1] - xlim[0]\n",
    "        d2 = ylim[1] - ylim[0]\n",
    "        if d1 > d2:\n",
    "            ax.set_ylim((ylim[0] - (d1-d2) / 2, ylim[1] + (d1-d2) / 2))\n",
    "        else:\n",
    "            ax.set_xlim((xlim[0] + (d1-d2) / 2, xlim[1] - (d1-d2) / 2))"
   ]
  },
  {
   "cell_type": "code",
   "execution_count": 4,
   "metadata": {},
   "outputs": [
    {
     "data": {
      "text/plain": [
       "     con: array([], dtype=float64)\n",
       "     fun: -12.900000000000002\n",
       " message: 'Optimization terminated successfully.'\n",
       "     nit: 6\n",
       "   slack: array([ 2.8500000e+00,  2.5000000e+00,  1.1900000e+00, -8.8817842e-16,\n",
       "        0.0000000e+00,  1.9000000e+00,  4.9500000e+00])\n",
       "  status: 0\n",
       " success: True\n",
       "       x: array([4.7, 3.5])"
      ]
     },
     "execution_count": 4,
     "metadata": {},
     "output_type": "execute_result"
    }
   ],
   "source": [
    "import scipy\n",
    "import scipy.optimize\n",
    "simplex_steps = []\n",
    "scipy.optimize.linprog(direction, A_ub=A, b_ub=b, method='revised simplex',\n",
    "                       callback=lambda xk, **kwargs: simplex_steps.append([xk.copy(), kwargs.copy()]))"
   ]
  },
  {
   "cell_type": "code",
   "execution_count": 5,
   "metadata": {},
   "outputs": [],
   "source": [
    "import os\n",
    "import sys\n",
    "module_path = os.path.abspath(os.path.join('..'))\n",
    "if module_path not in sys.path:\n",
    "    sys.path.append(module_path)\n",
    "from animation_utils.animation import animate_list"
   ]
  },
  {
   "cell_type": "code",
   "execution_count": 6,
   "metadata": {},
   "outputs": [
    {
     "data": {
      "application/vnd.jupyter.widget-view+json": {
       "model_id": "b18573b3195b4340aa62809a966b8520",
       "version_major": 2,
       "version_minor": 0
      },
      "text/plain": [
       "HBox(children=(Button(description='Prev', style=ButtonStyle()), Button(description='Next', style=ButtonStyle()…"
      ]
     },
     "metadata": {},
     "output_type": "display_data"
    },
    {
     "data": {
      "application/vnd.jupyter.widget-view+json": {
       "model_id": "4bd438497ee0461b82f5bb958d4dea56",
       "version_major": 2,
       "version_minor": 0
      },
      "text/plain": [
       "interactive(children=(IntSlider(value=0, description='step', max=7), Output()), _dom_classes=('widget-interact…"
      ]
     },
     "metadata": {},
     "output_type": "display_data"
    }
   ],
   "source": [
    "x_simplex_1 = [x['x'] for x, info in simplex_steps if x['phase'] == 1]\n",
    "x_simplex_2 = [x['x'] for x, info in simplex_steps if x['phase'] == 2]\n",
    "#print(x_simplex_1, x_simplex_2)\n",
    "\n",
    "def simplex_state(i):\n",
    "    fig, ax = plt.subplots(figsize=(10, 10))\n",
    "    ax.plot([x for x, y in vertices], [y for x, y in vertices])\n",
    "    ax.plot(0, 0, 'o')\n",
    "    ax.text(-0.2, -0.2, '$(0, 0)$', fontsize=20)\n",
    "    ax.plot([0, 5], [0, 0], ':', color='black')\n",
    "    ax.plot([0, 0], [0, 4], ':', color='black')\n",
    "    ax.plot([0.1, 1.9], [0.0,  3.0], ':', color='black')\n",
    "    ax.plot([1.5, 2.0], [2.33333333, 2.0], ':', color='black')\n",
    "    fix_scaling(ax)\n",
    "    ax.axis('off')\n",
    "    path1, = ax.plot([], [])\n",
    "    path2, = ax.plot([], [])\n",
    "    \n",
    "    num2 = 0 if i < len(x_simplex_1) else (i - len(x_simplex_1) + 1)\n",
    "    path1.set_data([x for x, y in x_simplex_1[:i + 1]], [y for x, y in x_simplex_1[:i + 1]])\n",
    "    path2.set_data([x for x, y in x_simplex_2[:num2]], [y for x, y in x_simplex_2[:num2]])\n",
    "    x = simplex_steps[min(i, len(simplex_steps) - 1)][0]['x'][0]\n",
    "    y = simplex_steps[min(i, len(simplex_steps) - 1)][0]['x'][1]\n",
    "    #print(i)\n",
    "    ax.plot(x, y, 'o', color='red')\n",
    "    \n",
    "    plt.close(fig)\n",
    "    return fig\n",
    "\n",
    "animate_list([simplex_state(i) for i in range(len(simplex_steps))]);"
   ]
  }
 ],
 "metadata": {
  "kernelspec": {
   "display_name": "Python 3",
   "language": "python",
   "name": "python3"
  },
  "language_info": {
   "codemirror_mode": {
    "name": "ipython",
    "version": 3
   },
   "file_extension": ".py",
   "mimetype": "text/x-python",
   "name": "python",
   "nbconvert_exporter": "python",
   "pygments_lexer": "ipython3",
   "version": "3.8.3"
  },
  "widgets": {
   "application/vnd.jupyter.widget-state+json": {
    "state": {
     "087d1423c65d4f669c6b2f19c2fa195c": {
      "model_module": "@jupyter-widgets/base",
      "model_module_version": "1.2.0",
      "model_name": "LayoutModel",
      "state": {}
     },
     "0d22ccc597784a6c8979bd080f12308b": {
      "model_module": "@jupyter-widgets/controls",
      "model_module_version": "1.5.0",
      "model_name": "ButtonStyleModel",
      "state": {}
     },
     "2541aa4e33d74ca5a4ac12e6789ee3da": {
      "model_module": "@jupyter-widgets/controls",
      "model_module_version": "1.5.0",
      "model_name": "IntSliderModel",
      "state": {
       "description": "step",
       "layout": "IPY_MODEL_6a9c9b9e90ea4ec8b34c3d4bc02d275b",
       "max": 7,
       "style": "IPY_MODEL_f05bd9a0622244d0b28bdef0a5d83813"
      }
     },
     "4275bd4e411f49dbaaff59b3741cd6a6": {
      "model_module": "@jupyter-widgets/base",
      "model_module_version": "1.2.0",
      "model_name": "LayoutModel",
      "state": {}
     },
     "4bd438497ee0461b82f5bb958d4dea56": {
      "model_module": "@jupyter-widgets/controls",
      "model_module_version": "1.5.0",
      "model_name": "VBoxModel",
      "state": {
       "_dom_classes": [
        "widget-interact"
       ],
       "children": [
        "IPY_MODEL_2541aa4e33d74ca5a4ac12e6789ee3da",
        "IPY_MODEL_9245230fe4754fbb934e96b0a703887c"
       ],
       "layout": "IPY_MODEL_d879c96b298b4b88835bae9713436702"
      }
     },
     "6a9c9b9e90ea4ec8b34c3d4bc02d275b": {
      "model_module": "@jupyter-widgets/base",
      "model_module_version": "1.2.0",
      "model_name": "LayoutModel",
      "state": {}
     },
     "74532586e17d455cbef758d0b84a7b4f": {
      "model_module": "@jupyter-widgets/controls",
      "model_module_version": "1.5.0",
      "model_name": "ButtonModel",
      "state": {
       "description": "Next",
       "layout": "IPY_MODEL_4275bd4e411f49dbaaff59b3741cd6a6",
       "style": "IPY_MODEL_0d22ccc597784a6c8979bd080f12308b"
      }
     },
     "9245230fe4754fbb934e96b0a703887c": {
      "model_module": "@jupyter-widgets/output",
      "model_module_version": "1.0.0",
      "model_name": "OutputModel",
      "state": {
       "layout": "IPY_MODEL_afcaaa69e7bf4ae481959de1c6744198",
       "outputs": [
        {
         "data": {
          "image/png": "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\n",
          "text/plain": "<Figure size 720x720 with 1 Axes>"
         },
         "metadata": {},
         "output_type": "display_data"
        }
       ]
      }
     },
     "976c56887f6642e08c1f0a09722226bb": {
      "model_module": "@jupyter-widgets/controls",
      "model_module_version": "1.5.0",
      "model_name": "ButtonStyleModel",
      "state": {}
     },
     "afcaaa69e7bf4ae481959de1c6744198": {
      "model_module": "@jupyter-widgets/base",
      "model_module_version": "1.2.0",
      "model_name": "LayoutModel",
      "state": {}
     },
     "b18573b3195b4340aa62809a966b8520": {
      "model_module": "@jupyter-widgets/controls",
      "model_module_version": "1.5.0",
      "model_name": "HBoxModel",
      "state": {
       "children": [
        "IPY_MODEL_ed9ee0ee3c4a425ba43e59c1e4e80f2e",
        "IPY_MODEL_74532586e17d455cbef758d0b84a7b4f"
       ],
       "layout": "IPY_MODEL_bbb59ad6eebb49fd833227ef387f6993"
      }
     },
     "bbb59ad6eebb49fd833227ef387f6993": {
      "model_module": "@jupyter-widgets/base",
      "model_module_version": "1.2.0",
      "model_name": "LayoutModel",
      "state": {}
     },
     "d879c96b298b4b88835bae9713436702": {
      "model_module": "@jupyter-widgets/base",
      "model_module_version": "1.2.0",
      "model_name": "LayoutModel",
      "state": {}
     },
     "ed9ee0ee3c4a425ba43e59c1e4e80f2e": {
      "model_module": "@jupyter-widgets/controls",
      "model_module_version": "1.5.0",
      "model_name": "ButtonModel",
      "state": {
       "description": "Prev",
       "layout": "IPY_MODEL_087d1423c65d4f669c6b2f19c2fa195c",
       "style": "IPY_MODEL_976c56887f6642e08c1f0a09722226bb"
      }
     },
     "f05bd9a0622244d0b28bdef0a5d83813": {
      "model_module": "@jupyter-widgets/controls",
      "model_module_version": "1.5.0",
      "model_name": "SliderStyleModel",
      "state": {
       "description_width": ""
      }
     }
    },
    "version_major": 2,
    "version_minor": 0
   }
  }
 },
 "nbformat": 4,
 "nbformat_minor": 4
}
