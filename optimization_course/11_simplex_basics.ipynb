{
 "cells": [
  {
   "cell_type": "markdown",
   "metadata": {},
   "source": [
    "# Симплекс-метод\n",
    "Задача линейного программирования является одной из первых задач выпуклой оптимизации, для которой удалось получить эффиктивные методы решения\n",
    "$$\n",
    "\\begin{array}{rl}\n",
    "\\mbox{минимизировать } & c^Tx \\\\\n",
    "\\mbox{при условии } & Ax=b \\\\\n",
    "& x\\geq 0.\\tag{1}\n",
    "\\end{array}\n",
    "$$\n",
    "Геометрически ограничения в виде линейных равенств и неравенств задают в пространстве многогранник, в котором мы должно найти самую дальнюю точку в какому-то направлении. Интуитивно понятно, что если задача ограничена, среди оптимальных решений обязательно найдется вершина многогранника, поэтому самым простым способом является аккуратно перебрать все вершины многогранника и найти минимум среди них, это уже даст нам решение за конечное число шагов. Давайте теперь формализуем этот подход.\n",
    "\n",
    "<b>Определение.</b> При $A\\in\\mathbb{R}^{m\\times n}$ вершиной задачи (1) называется точка $x$ такая, что $Ax=b$, $x\\geq 0$ и при этом хотя бы $n-m$ компонент $x$ равны $0$.\n",
    "\n",
    "<b>Лемма.</b> Для любой допустимой (1) точки $z$, не являющей вершиной, найдутся $x\\neq y$ такие, что \n",
    "$$z=tx+(1-t)y,~t\\in(0,1)$$\n",
    "<b>Доказательство</b>. Раз $z$ не является вершиной, то хотя бы $m+1$ компоненты $z$ не равны нулю, обозначим эти компоненты за $S$. Рассмотрим вектора вида $e^{in}\\in\\mathbb{R}^n:~e^{in}_j=\\delta_{ij}$, $\\delta_{ij}$. Эти векторы линейно независимы, среди векторов, соответствующих $S$, найдется хотя бы один, который не попадает в линейную оболочку строк $A$, обозначим индекс этого вектора как $i$. Рассмотрим систему\n",
    "$$\n",
    "Ax=b,~x_i=d, x_j=0~\\forall j\\notin S.\n",
    "$$\n",
    "Так как при $d=z_i$ решение этой систмемы существует и равно $z$, в силу выбора $i$ получаем, что система разрешима для любого $d$. С другой стороны решение $x^*(d)$ этой задачи линейно (а следовательно непрерывно) по $d$. Таким образом существует такое $\\epsilon<z_i$, что $x^*(z_i-\\epsilon)\\geq 0$ и $x^*(z_i+\\epsilon)\\geq 0$, что дает на искомые точки. $\\#$\n",
    "\n",
    "<b>Следствие</b>. Среди оптимальных точек найдется вершина.\n",
    "\n",
    "<b>Доказательство.</b> На самом деле формально самой леммы недостаточно для доказательства этого факта, нужно продолжить доказательство этой леммы: в силу линейности $x^*(d)=db+p$ если для всех положительных $d$ выполняется $x^*(d)\\geq 0$ и при этом $c^T x^*(d)-x^*(0)=dc^Tb<0$, то задача неограничена снизу, поэтому не имеет решения. Иначе существует некоторое пороговое значение $d^*$, при котором обнуляется одна из компонент $z$ не из $S$. Таким образом мы получаем не просто две точки такие, что $z$ лежит на отрезке, соединяющим эти две точки, но при этом еще и количество нулевых компонент у них увеличилось хотя бы на $1$. Повторив это нужное число раз можно получить вершины."
   ]
  },
  {
   "cell_type": "markdown",
   "metadata": {},
   "source": [
    "## Перебор вершин и симплекс-метод\n",
    "Из указанного выше можно прийти к следующим двум простым алгоритмам:\n",
    "* Первый алгоритм\n",
    "  * Перебрать все возможные $n-m$-элементные подмножества переменных $S$\n",
    "  * Решить систему $Ax=b, x_i=0,~i\\in S$, проверить, что решение $x(S)\\geq 0$.\n",
    "  * Из полученных решений взять минимальное\n",
    "* Второй алгоритм (Симплекс-метод):\n",
    "  * Найти начальное подмножество $S_0$ такое, что система $Ax=b, x_i=0,~i\\in S_0$ разрешима и $x(S_0)\\geq 0$.\n",
    "  * Пока в $S_k$ можно заменить один индекс так, чтобы выполнялось $x(S_{k+1})\\geq 0$ и $c^Tx(S_{k+1})\\leq c^Tx(S_k)$ строить новые приближения соответствующей заменой.\n",
    "  \n",
    "Симплекс-метод можно воспринимать как алгоритм умного перебора, использующий выпуклость задачи. Тем не менее известно, что существуют [примеры](https://en.wikipedia.org/wiki/Klee%E2%80%93Minty_cube), на которых симплекс-метод имеет экспоненциальную сложность."
   ]
  },
  {
   "cell_type": "markdown",
   "metadata": {},
   "source": [
    "## Некоторые замечания\n",
    "Приведение произвольной задачи оптимизации с линейным функционалом и линейными ограничениями к стандартной линейного программирования в стандартной форме (1) можно с помощью следующих преобразований:\n",
    "* Замена произвольного неравенства\n",
    "$$\n",
    "A_ix\\leq b_i\n",
    "$$\n",
    "на\n",
    "$$\n",
    "A_ix+s_i=b_i,~s_i\\geq 0\n",
    "$$\n",
    "с добавлением вспомогательной переменной $s_i$ (<i>slack variable</i>).\n",
    "* Переменные $x_i$, для которых нет ограничения $x_i\\geq 0$ разбиваются следующим образом\n",
    "$$\n",
    "x_i=x^+_i-x^-_i, ~x^+_i,x^-_i\\geq 0.\n",
    "$$\n",
    "* В некоторых случаях используются неравенства, а не равенства, от равенства можно избавиться простым способом\n",
    "$$\n",
    "Ax=b\\Leftrightarrow Ax\\geq b, Ax\\leq b.\n",
    "$$\n",
    "\n",
    "Получение начального допустимого приблежения в симлекс-методе может быть получено двумя способами:\n",
    "* Первое - сформулировать задачу в канонической форме\n",
    "$$\n",
    "\\begin{array}{rl}\n",
    "\\mbox{минимизировать } & c^Tx \\\\\n",
    "\\mbox{при условии } & Ax\\leq b \\\\\n",
    "& x\\geq 0\n",
    "\\end{array}\n",
    "$$\n",
    "с положительными компонентами в $b$. В этой задаче точка $x=0$ является допустимой, если мы хотим конвертировать эту задачу в стандартную форму (1), то достаточно только ввести дополняющие переменные\n",
    "$$\n",
    "Ax\\leq b\\Leftrightarrow Ax+s=b,~s\\geq 0,\n",
    "$$\n",
    "где, соответственно, начальным приближением можно взять $x=0, s=b$.\n",
    "* Второе - решение вспомогательной задачи\n",
    "$$\n",
    "\\begin{array}{rl}\n",
    "\\mbox{максимизировать } & t \\\\\n",
    "\\mbox{при условии } & Ax=b \\\\\n",
    "& x\\geq t\\mathbb{1}.\n",
    "\\end{array}\n",
    "$$\n",
    "Здесь мы можем взять в качестве начального приближения любое решение $Ax=b$ и $t=\\min_ix_i$. Если оптимальное значение $t$ этой задачи меньше нуля, то исходная задача не имеет допустимых точек, иначе решение задачи может быть использовано как начальной приближение для (1)."
   ]
  },
  {
   "cell_type": "code",
   "execution_count": 1,
   "metadata": {},
   "outputs": [],
   "source": [
    "import numpy as np\n",
    "import matplotlib.pyplot as plt"
   ]
  },
  {
   "cell_type": "code",
   "execution_count": 2,
   "metadata": {},
   "outputs": [],
   "source": [
    "# from two points defines the coefficients a, b, c such that a line ax+by=c goes through these points \n",
    "def get_line(x1, x2):\n",
    "    a = x1[1] - x2[1]\n",
    "    b = x2[0] - x1[0]\n",
    "    c = a * x1[0] + b * x1[1]\n",
    "    return a, b, c\n",
    "\n",
    "vertices = [(2.0, 2.0), (1.9, 3.0), (2.5, 4.0), (4.0, 4.2), (4.7, 3.5), (4.5, 1.5), (3.5, 1.0), (2.0, 2.0)]\n",
    "A = []\n",
    "b = []\n",
    "\n",
    "for i in range(len(vertices) - 1):\n",
    "    a_, b_, c_ = get_line(vertices[i], vertices[i + 1])\n",
    "    A.append([a_, b_])\n",
    "    b.append(c_)\n",
    "A = np.array(A)\n",
    "b = np.array(b)\n",
    "direction = np.array([-2, -1]) # c"
   ]
  },
  {
   "cell_type": "code",
   "execution_count": 3,
   "metadata": {},
   "outputs": [],
   "source": [
    "def fix_scaling(ax=None):\n",
    "    if not ax:\n",
    "        xlim = plt.xlim()\n",
    "        ylim = plt.ylim()\n",
    "        d1 = xlim[1] - xlim[0]\n",
    "        d2 = ylim[1] - ylim[0]\n",
    "        if d1 > d2:\n",
    "            plt.ylim((ylim[0] - (d1-d2) / 2, ylim[1] + (d1-d2) / 2))\n",
    "        else:\n",
    "            plt.xlim((xlim[0] + (d1-d2) / 2, xlim[1] - (d1-d2) / 2))\n",
    "    else:\n",
    "        xlim = ax.get_xlim()\n",
    "        ylim = ax.get_ylim()\n",
    "        d1 = xlim[1] - xlim[0]\n",
    "        d2 = ylim[1] - ylim[0]\n",
    "        if d1 > d2:\n",
    "            ax.set_ylim((ylim[0] - (d1-d2) / 2, ylim[1] + (d1-d2) / 2))\n",
    "        else:\n",
    "            ax.set_xlim((xlim[0] + (d1-d2) / 2, xlim[1] - (d1-d2) / 2))"
   ]
  },
  {
   "cell_type": "code",
   "execution_count": 4,
   "metadata": {},
   "outputs": [
    {
     "data": {
      "text/plain": [
       "     con: array([], dtype=float64)\n",
       "     fun: -12.900000000000002\n",
       " message: 'Optimization terminated successfully.'\n",
       "     nit: 6\n",
       "   slack: array([ 2.8500000e+00,  2.5000000e+00,  1.1900000e+00, -8.8817842e-16,\n",
       "        0.0000000e+00,  1.9000000e+00,  4.9500000e+00])\n",
       "  status: 0\n",
       " success: True\n",
       "       x: array([4.7, 3.5])"
      ]
     },
     "execution_count": 4,
     "metadata": {},
     "output_type": "execute_result"
    }
   ],
   "source": [
    "import scipy\n",
    "import scipy.optimize\n",
    "simplex_steps = []\n",
    "scipy.optimize.linprog(direction, A_ub=A, b_ub=b, method='revised simplex',\n",
    "                       callback=lambda xk, **kwargs: simplex_steps.append([xk.copy(), kwargs.copy()]))"
   ]
  },
  {
   "cell_type": "code",
   "execution_count": 5,
   "metadata": {},
   "outputs": [
    {
     "name": "stdout",
     "output_type": "stream",
     "text": [
      "[0. 0.] 1\n",
      "[0.1 0. ] 1\n",
      "[1.5        2.33333333] 1\n",
      "[2. 2.] 1\n",
      "[2. 2.] 2\n",
      "[3.5 1. ] 2\n",
      "[4.5 1.5] 2\n",
      "[4.7 3.5] 2\n"
     ]
    }
   ],
   "source": [
    "for x, _ in simplex_steps:\n",
    "    print(x['x'], x['phase'])"
   ]
  },
  {
   "cell_type": "code",
   "execution_count": 6,
   "metadata": {},
   "outputs": [],
   "source": [
    "from interactive_visualization.animation_utils import animate_list"
   ]
  },
  {
   "cell_type": "code",
   "execution_count": 7,
   "metadata": {},
   "outputs": [
    {
     "data": {
      "application/vnd.jupyter.widget-view+json": {
       "model_id": "aff08862f8894f7184fb044f4ab17ea1",
       "version_major": 2,
       "version_minor": 0
      },
      "text/plain": [
       "HBox(children=(Button(description='Prev', style=ButtonStyle()), Button(description='Next', style=ButtonStyle()…"
      ]
     },
     "metadata": {},
     "output_type": "display_data"
    },
    {
     "data": {
      "application/vnd.jupyter.widget-view+json": {
       "model_id": "2c4a2ff35347478e8ab27e67e4c9b09d",
       "version_major": 2,
       "version_minor": 0
      },
      "text/plain": [
       "interactive(children=(IntSlider(value=0, description='step', max=7), Output()), _dom_classes=('widget-interact…"
      ]
     },
     "metadata": {},
     "output_type": "display_data"
    }
   ],
   "source": [
    "x_simplex_1 = [x['x'] for x, info in simplex_steps if x['phase'] == 1]\n",
    "x_simplex_2 = [x['x'] for x, info in simplex_steps if x['phase'] == 2]\n",
    "#print(x_simplex_1, x_simplex_2)\n",
    "\n",
    "def simplex_state(i):\n",
    "    fig, ax = plt.subplots(figsize=(10, 10))\n",
    "    ax.plot([x for x, y in vertices], [y for x, y in vertices])\n",
    "    ax.plot(0, 0, 'o')\n",
    "    ax.text(-0.2, -0.2, '$(0, 0)$', fontsize=20)\n",
    "    ax.plot([0, 5], [0, 0], ':', color='black')\n",
    "    ax.plot([0, 0], [0, 4], ':', color='black')\n",
    "    ax.plot([0.1, 1.9], [0.0,  3.0], ':', color='black')\n",
    "    ax.plot([1.5, 2.0], [2.33333333, 2.0], ':', color='black')\n",
    "    fix_scaling(ax)\n",
    "    #ax.axis('off')\n",
    "    path1, = ax.plot([], [])\n",
    "    path2, = ax.plot([], [])\n",
    "    \n",
    "    num2 = 0 if i < len(x_simplex_1) else (i - len(x_simplex_1) + 1)\n",
    "    path1.set_data([x for x, y in x_simplex_1[:i + 1]], [y for x, y in x_simplex_1[:i + 1]])\n",
    "    path2.set_data([x for x, y in x_simplex_2[:num2]], [y for x, y in x_simplex_2[:num2]])\n",
    "    x = simplex_steps[min(i, len(simplex_steps) - 1)][0]['x'][0]\n",
    "    y = simplex_steps[min(i, len(simplex_steps) - 1)][0]['x'][1]\n",
    "    #print(i)\n",
    "    ax.plot(x, y, 'o', color='red')\n",
    "    \n",
    "    plt.close(fig)\n",
    "    return fig\n",
    "\n",
    "animate_list([simplex_state(i) for i in range(len(simplex_steps))]);"
   ]
  }
 ],
 "metadata": {
  "kernelspec": {
   "display_name": "Python 3",
   "language": "python",
   "name": "python3"
  },
  "language_info": {
   "codemirror_mode": {
    "name": "ipython",
    "version": 3
   },
   "file_extension": ".py",
   "mimetype": "text/x-python",
   "name": "python",
   "nbconvert_exporter": "python",
   "pygments_lexer": "ipython3",
   "version": "3.8.5"
  },
  "widgets": {
   "application/vnd.jupyter.widget-state+json": {
    "state": {
     "2465f0d1651a478fa42111d76d3933f0": {
      "model_module": "@jupyter-widgets/base",
      "model_module_version": "1.2.0",
      "model_name": "LayoutModel",
      "state": {}
     },
     "2c4a2ff35347478e8ab27e67e4c9b09d": {
      "model_module": "@jupyter-widgets/controls",
      "model_module_version": "1.5.0",
      "model_name": "VBoxModel",
      "state": {
       "_dom_classes": [
        "widget-interact"
       ],
       "children": [
        "IPY_MODEL_ad6782342a934b71bb0409a0400b7598",
        "IPY_MODEL_344c2c65338549c7ae58c5ba18fd1149"
       ],
       "layout": "IPY_MODEL_84483817b745441bbf770657f50652cf"
      }
     },
     "344c2c65338549c7ae58c5ba18fd1149": {
      "model_module": "@jupyter-widgets/output",
      "model_module_version": "1.0.0",
      "model_name": "OutputModel",
      "state": {
       "layout": "IPY_MODEL_73e275149b2943ba8a5639895519c0b4",
       "outputs": [
        {
         "data": {
          "image/png": "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\n",
          "text/plain": "<Figure size 720x720 with 1 Axes>"
         },
         "metadata": {},
         "output_type": "display_data"
        }
       ]
      }
     },
     "44d52c1ccb38497bb5b94ad37ce11db1": {
      "model_module": "@jupyter-widgets/controls",
      "model_module_version": "1.5.0",
      "model_name": "SliderStyleModel",
      "state": {
       "description_width": ""
      }
     },
     "52331f3120764d7e862e0ebb755f9114": {
      "model_module": "@jupyter-widgets/controls",
      "model_module_version": "1.5.0",
      "model_name": "ButtonStyleModel",
      "state": {}
     },
     "59536586490b42468af04745159fe8c5": {
      "model_module": "@jupyter-widgets/controls",
      "model_module_version": "1.5.0",
      "model_name": "ButtonModel",
      "state": {
       "description": "Next",
       "layout": "IPY_MODEL_aa8c071ec4934e609bcb1bc69fe11411",
       "style": "IPY_MODEL_8a8021455fd740df9de8a7f8e886fac0"
      }
     },
     "5dd2cff2fd484877a438c2a431cd1b6b": {
      "model_module": "@jupyter-widgets/base",
      "model_module_version": "1.2.0",
      "model_name": "LayoutModel",
      "state": {}
     },
     "73e275149b2943ba8a5639895519c0b4": {
      "model_module": "@jupyter-widgets/base",
      "model_module_version": "1.2.0",
      "model_name": "LayoutModel",
      "state": {}
     },
     "84483817b745441bbf770657f50652cf": {
      "model_module": "@jupyter-widgets/base",
      "model_module_version": "1.2.0",
      "model_name": "LayoutModel",
      "state": {}
     },
     "88db8562a72b45448b179adb57515e48": {
      "model_module": "@jupyter-widgets/base",
      "model_module_version": "1.2.0",
      "model_name": "LayoutModel",
      "state": {}
     },
     "8a8021455fd740df9de8a7f8e886fac0": {
      "model_module": "@jupyter-widgets/controls",
      "model_module_version": "1.5.0",
      "model_name": "ButtonStyleModel",
      "state": {}
     },
     "aa8c071ec4934e609bcb1bc69fe11411": {
      "model_module": "@jupyter-widgets/base",
      "model_module_version": "1.2.0",
      "model_name": "LayoutModel",
      "state": {}
     },
     "ad6782342a934b71bb0409a0400b7598": {
      "model_module": "@jupyter-widgets/controls",
      "model_module_version": "1.5.0",
      "model_name": "IntSliderModel",
      "state": {
       "description": "step",
       "layout": "IPY_MODEL_2465f0d1651a478fa42111d76d3933f0",
       "max": 7,
       "style": "IPY_MODEL_44d52c1ccb38497bb5b94ad37ce11db1"
      }
     },
     "aff08862f8894f7184fb044f4ab17ea1": {
      "model_module": "@jupyter-widgets/controls",
      "model_module_version": "1.5.0",
      "model_name": "HBoxModel",
      "state": {
       "children": [
        "IPY_MODEL_fd12c67d77774dcbb7a455ed2fac417e",
        "IPY_MODEL_59536586490b42468af04745159fe8c5"
       ],
       "layout": "IPY_MODEL_5dd2cff2fd484877a438c2a431cd1b6b"
      }
     },
     "fd12c67d77774dcbb7a455ed2fac417e": {
      "model_module": "@jupyter-widgets/controls",
      "model_module_version": "1.5.0",
      "model_name": "ButtonModel",
      "state": {
       "description": "Prev",
       "layout": "IPY_MODEL_88db8562a72b45448b179adb57515e48",
       "style": "IPY_MODEL_52331f3120764d7e862e0ebb755f9114"
      }
     }
    },
    "version_major": 2,
    "version_minor": 0
   }
  }
 },
 "nbformat": 4,
 "nbformat_minor": 4
}
