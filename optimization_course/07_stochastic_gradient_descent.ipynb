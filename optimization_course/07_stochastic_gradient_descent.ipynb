{
 "cells": [
  {
   "cell_type": "markdown",
   "metadata": {},
   "source": [
    "# Стохастический градиенный спуск\n",
    "Зачастую на практике встречаются задачи минимизации вида\n",
    "$$\n",
    "f(x)=\\mathbb{E}_\\xi F(x, \\xi)\\rightarrow \\min\n",
    "$$\n",
    "В этом котексте $f$ принято называть <i>функционалом среднего риска</i>. Проблема с такими функционалами заключается в том, что обычно нет возможности измерить функцию $f$, но можно измерить $F$ со случайно выбранным параметром $\\xi$, аналогично ситуация обстоит и с градиентом. Оказывается, что градиентный спуск можно модифицировать так, чтобы решать эту задачу: достаточно использовать не $\\nabla f(x)$, а $\\nabla_xF(x, \\xi)$:\n",
    "$$\n",
    "x_{k+1}=x_k-\\alpha_k\\nabla_x F(x_k, \\xi_k).\n",
    "\\tag{1}\n",
    "$$\n",
    "Здесь подразумевается, что $\\xi_k$ - одинаково распределенные независимые случайные величины. Саму процедуру принято называть <i>стохастическим градиентным спуском</i>. В отличие от обычного градиентного спуска здесь уже не получится брать постоянный размер шага для того, чтобы гарантировать сходимость. Показательным здесь является довольно простой пример:\n",
    "$$\n",
    "F(x,\\xi)=\\|x-\\xi\\|^2.\n",
    "$$\n",
    "Отметим, что\n",
    "$$\n",
    "\\nabla f(x)=\\nabla\\mathbb{E}_\\xi F(x, \\xi)=\\mathbb{E}_\\xi \\nabla_x F(x, \\xi)\n",
    "$$\n",
    "Приравнивая градиент к нулю получаем, что $F$ минимизиурется в точке $\\mathbb{E}\\xi$. Таким образом задача минимизации $F$ эквивалентна нахождению математического ожидания случайной величины. Из центральной предельной теоремы\n",
    "$$\n",
    "\\frac{\\sum_{i=1}^n(\\xi_i-\\mathbb{E}\\xi)}{\\sqrt{n}}\\rightarrow \\mathcal{N}(0, Var(\\xi)),\n",
    "$$\n",
    "из чего следует, что \n",
    "$$\n",
    "\\frac{\\sum_{i=1}^n\\xi_i}{n}-\\mathbb{E}(\\xi)\\sim \\mathcal{O}\\left(\\frac{Var(\\xi)}{\\sqrt{n}}\\right).\n",
    "$$\n",
    "Как оказывается, эту оценку ускорить не получается, что накладывает и ограничения на стохастический градиентный спуск. Так или иначе стоит иметь в виду, что скорость сходимости в стохастическом градиентном спуске складывается из двух составлвяющих: стохастической и оптимизационной. Стохастическая часть имеет заметно более плохую оценку нежели оптимизационная, однако, как мы увидим позже, оказывается, что может быть выгодно использовать стохастический градиентный спуск вместо обычного."
   ]
  },
  {
   "cell_type": "markdown",
   "metadata": {},
   "source": [
    "<b>Лемма</b>. Если при $\\beta>1$ для числовой последовательности $\\alpha_k$ выполняется $\\alpha_k\\geq 0$ и \n",
    "$$\n",
    "\\alpha_{k+1}\\leq \\alpha_k\\left(1-\\frac{\\beta}{k+1}\\right)+\\frac{\\gamma}{(k+1)^2},\n",
    "$$\n",
    "то при $D=\\max\\left\\{\\frac{\\gamma}{\\beta - 1}, \\alpha_0\\right\\}$ выполняется\n",
    "$$\n",
    "\\alpha_k\\leq \\frac{D}{k+1}.\n",
    "$$\n",
    "<b>Доказательство</b>. Докажем по индукции: очевидным образом база верна. Предположим, что утверждение верно для $k$, выведем верность для $k+1$:\n",
    "$$\n",
    "\\begin{array}{rl}\n",
    "\\alpha_{k+1}&\\leq \\alpha_k\\left(1-\\frac{\\beta}{k+1}\\right)+\\frac{\\gamma}{(k+1)^2}\\leq \\frac{D}{k+1}\\left(1-\\frac{\\beta}{k+1}\\right)+\\frac{\\gamma}{(k+1)^2}\\\\\n",
    "&=\\frac{D(k+1-\\beta)(k+2)+\\gamma(k+2)}{(k+1)^2(k+2)}\\\\\n",
    "&=\\underbrace{\\frac{-D+(k+2)(D(1-\\beta)+\\gamma)}{(k+1)^2(k+2)}}_{<0}+\\frac{D}{k+2}\\leq \\frac{D}{k+2}.~\\#\n",
    "\\end{array}\n",
    "$$"
   ]
  },
  {
   "cell_type": "markdown",
   "metadata": {},
   "source": [
    "<b>Теорема (о сходимости SGD)</b>. Пусть $f$ сильно выпукла с константой $m$, $\\alpha_k=\\frac{\\beta}{k+1}$, $\\beta>\\frac{1}{2m}$, $\\xi_k$ не зависят от $\\xi_i,~i<k, x_k$, \n",
    "$\\|\\nabla_x F(x, \\xi)\\|\\leq M$, тогда последовательность (1) сходится в среднеквадратичном смысле, и при этом выполняется оценка\n",
    "$$\n",
    "\\mathbb{E}\\|x_k-x^*\\|^2\\leq \\max\\left\\{\\frac{\\beta^2M^2}{2\\beta m-1}, \\|x_0-x^*\\|^2\\right\\}\\frac{1}{k+1}\n",
    "$$\n",
    "<b>Доказательство</b>. \n",
    "$$\n",
    "\\begin{array}{rl}\n",
    "\\mathbb{E}\\{\\|x_{k+1}-x^*\\|^2~|~x_k\\}&=\\|x_k-x^*\\|^2-2\\alpha_k\\mathbb{E}_{\\xi_k}\\{\\nabla_x F(x_k, \\xi_k)\\}^T(x_k-x^*)+\\alpha_k^2\\mathbb{E}_{\\xi_k}\\|\\nabla_x F(x_k, \\xi_k)\\|^2\\\\\n",
    "&=\\|x_k-x^*\\|^2-2\\frac{\\beta}{k+1}\\nabla f(x_k)^T(x_k-x^*)+\\frac{\\mathbb{E}\\{\\|\\nabla_x F(x_k, \\xi_k)\\|^2\\}\\beta^2}{(k+1)^2}\\\\\n",
    "&\\leq \\left(1-\\frac{2m\\beta}{k+1}\\right)\\|x_k-x^*\\|^2+\\frac{M^2\\beta^2}{(k+1)^2}\n",
    "\\end{array}\n",
    "$$\n",
    "Применяя доказанную лемму получаем утверждение теоремы. \\#"
   ]
  },
  {
   "cell_type": "markdown",
   "metadata": {},
   "source": [
    "Без сильной выпуклости сходимость получается еще медленней.\n",
    "\n",
    "\n",
    "<b>Теорема</b>. Пусть $f$ - $M$-липшицева функция выпуклая функция, $x^*$ - точка минимума $f$, $\\|\\nabla_x F(x, \\xi)\\|^2\\leq \\sigma^2$, тогда при $\\alpha_k=\\alpha\\leq 1/M$ последовательноть (1) удовлетворяет\n",
    "$$\n",
    "\\mathbb{E}f(\\overline{x_k})-f(x^*)\\leq \\frac{\\|x_0-x^*\\|^2}{2tk}+\\frac{t\\sigma^2}{2}\n",
    "$$\n",
    "где $\\overline{x_k}=(1/k)(x_1+\\ldots+x_k)$.\n",
    "\n",
    "<b>Доказательство</b>. \n",
    "$$\n",
    "\\begin{array}{rl}\n",
    "f(x_{i+1})&=\\leq f(x_i)+\\nabla f(x_i)^T(x_{i+1}-x_i)+\\frac{M}{2}\\|x_{i+1}-x_i\\|^2 \\\\\n",
    "&\\leq f(x_i)-\\alpha\\nabla f(x_i)^T\\nabla F(x_i,\\xi_i)+\\frac{M\\alpha^2}{2}\\|\\nabla F(x_i, \\xi_i)\\|^2\n",
    "\\end{array}\n",
    "$$\n",
    "Перейдем к мат. ожиданию по $\\xi_i$:\n",
    "$$\n",
    "\\begin{array}{rl}\n",
    "\\mathbb{E}_{\\xi_i}f(x_{i+1})&\\leq f(x_i)-\\alpha\\|\\nabla f(x_i)\\|^2+\\frac{M\\alpha^2}{2}(\\|\\nabla f(x_i)\\|^2+\\sigma^2)\\\\\n",
    "&\\leq f(x_i)-\\frac{\\alpha}{2}\\|\\nabla f(x_i)\\|^2+\\frac{\\alpha \\sigma^2}{2}\n",
    "\\end{array}\n",
    "$$\n",
    "Теперь проделаем трюк, схожий с тем, что мы делали в анализе обычного градиентного спуска\n",
    "$$\n",
    "\\begin{array}{rl}\n",
    "\\mathbb{E}_{\\xi_i}f(x_{i+1})&\\leq f(x_i)-\\frac{\\alpha}{2}\\|\\nabla f(x_i)\\|^2+\\frac{\\alpha \\sigma^2}{2} \\\\\n",
    "&\\leq f(x^*)+\\nabla f(x_i)^T(x_i-x^*)-\\frac{\\alpha}{2}\\|\\nabla f(x_i)\\|^2+\\frac{\\alpha \\sigma^2}{2} \\\\\n",
    "&\\leq f(x^*)+ \\mathbb{E}\\nabla F(x_i, \\xi_i)^T(x_i-x^*)-\\frac{\\alpha}{2}\\mathbb{E}\\|\\nabla F(x_i, \\xi_i)\\|^2+\\alpha \\sigma^2\\\\\n",
    "&=f(x^*)+\\mathbb{E}\\left[\\nabla F(x_i, \\xi_i)^T(x_i-x^*)-\\frac{\\alpha}{2}\\|\\nabla F(x_i, \\xi_i)\\|^2\\right]+\\alpha \\sigma^2\\\\\n",
    "&=f(x^*)+\\frac{1}{2\\alpha}\\mathbb{E}\\left[\\|x_i-x^*\\|^2-\\|x_i-x^*-\\alpha\\nabla F(x_i, \\xi_i)\\|^2\\right]+\\alpha\\sigma^2\\\\\n",
    "&=f(x^*)+\\frac{1}{2\\alpha}\\mathbb{E}\\left[\\|x_i-x^*\\|^2-\\|x_{i+1}-x^*\\|^2\\right]+\\alpha\\sigma^2\n",
    "\\end{array}\n",
    "$$\n",
    "Здесь, в отличие от обычного градиентного спуска мы не можем воспользоваться монотонностью $f(x_k)$, специально ради этого оценка дается на среднее $x_k$: в силу неравенства Йенсена:\n",
    "$$\n",
    "kf(\\overline{x_k})\\leq \\sum_{i=1}^kf(x_i)\n",
    "$$\n",
    "Наконец суммируя ранее выведенные неравенсва и переходя к мат. ожиданию получаем\n",
    "$$\n",
    "\\begin{array}{rl}\n",
    "\\mathbb{E}f(\\overline{x_k})-f(x^*)&\\leq \\frac{1}{k}\\sum_{i=1}^{k}[\\mathbb{E}f(x_i)-f(x^*)]\\\\\n",
    "&\\leq \\frac{\\|x_0-x^*\\|^2}{2\\alpha k} + \\alpha\\sigma^2~\\#\n",
    "\\end{array}\n",
    "$$"
   ]
  },
  {
   "cell_type": "markdown",
   "metadata": {},
   "source": [
    "При $\\alpha=\\mathcal{O}(1/\\sqrt{k})$ получаем сходимость порядка $\\mathcal{O}(1/\\sqrt{k})$."
   ]
  },
  {
   "cell_type": "code",
   "execution_count": 1,
   "metadata": {},
   "outputs": [],
   "source": [
    "import numpy as np\n",
    "import matplotlib.pyplot as plt\n",
    "plt.rcParams[\"text.usetex\"] = True"
   ]
  },
  {
   "cell_type": "code",
   "execution_count": 2,
   "metadata": {},
   "outputs": [
    {
     "data": {
      "image/png": "[encoded data removed]",
      "text/plain": [
       "<Figure size 1296x504 with 2 Axes>"
      ]
     },
     "execution_count": 2,
     "metadata": {},
     "output_type": "execute_result"
    }
   ],
   "source": [
    "def show_sgd():\n",
    "    f = lambda x: x[0] ** 4 + 2 * x[1] ** 4\n",
    "    sgrad_f = lambda x: np.array([4 * x[0] ** 3, 8 * x[1] ** 3]) + np.random.rand(2)\n",
    "    x = np.array([0.3, 1.2]) * 0.2\n",
    "    num_iters = 500\n",
    "    alpha = 0.005\n",
    "    dists = [np.linalg.norm(np.array(x))]\n",
    "    for i in range(num_iters):\n",
    "        dx = sgrad_f(x)\n",
    "        x = x - alpha / ((i + 1) ** 0.5) * dx\n",
    "        dists.append(np.linalg.norm(x))\n",
    "        \n",
    "    fig, axs = plt.subplots(1, 2, figsize=(18, 7))\n",
    "    \n",
    "    axs[0].set_yscale('log')\n",
    "    axs[0].set_xlabel('Steps', fontsize=15)\n",
    "    axs[0].set_ylabel('$\\|x_k-x^*\\|$', fontsize=15)\n",
    "    axs[0].plot([i for i in range(num_iters + 1)], [dists[i] for i in range(num_iters + 1)])\n",
    "\n",
    "    f = lambda x: x[0] ** 2 + 2 * x[1] ** 2\n",
    "    sgrad_f = lambda x: np.array([2 * x[0], 4 * x[1]]) + np.random.rand(2)\n",
    "    x = np.array([0.3, 1.2]) * 0.2\n",
    "    alpha = 0.005\n",
    "    dists = [np.linalg.norm(np.array(x))]\n",
    "    for i in range(num_iters):\n",
    "        dx = sgrad_f(x)\n",
    "        x = x - alpha / ((i + 1) ** 0.5) * dx\n",
    "        dists.append(np.linalg.norm(x))\n",
    "        \n",
    "    axs[1].set_yscale('log')\n",
    "    axs[1].set_xlabel('Steps', fontsize=15)\n",
    "    axs[1].set_ylabel('$\\|x_k-x^*\\|$', fontsize=15)\n",
    "    axs[1].plot([i for i in range(num_iters + 1)], [dists[i] for i in range(num_iters + 1)])\n",
    "\n",
    "    \n",
    "    plt.close(fig)\n",
    "    return fig\n",
    "\n",
    "show_sgd()"
   ]
  },
  {
   "cell_type": "markdown",
   "metadata": {},
   "source": [
    "В отдельных случаях стохастический градиентный спуск имеет сложность, аналогичную обычному градиентному спуску, например если предположить следующую ограниченность второго момента\n",
    "$$\n",
    "\\mathbb{E}\\|\\nabla F(x, \\xi)\\|^2\\leq C\\|\\mathbb{E}F(x, \\xi)\\|^2,\n",
    "$$\n",
    "то удается избавиться от слагаемого, соответствующему дисперсии, после чего мы можем получить те же оценки, что и в градиентном спуске, в которых появляется слагаемое вместо $M$ образуется $CM$."
   ]
  },
  {
   "cell_type": "markdown",
   "metadata": {},
   "source": [
    "## Стохастический градиентный спуск в задачах МО\n",
    "На практике распространенным случаем является изначальная выборка $\\xi_i, \\ldots, \\xi_m$, из по которым мы можем измерять $F(x, \\xi_i)$ для любых $x$, что дает нам эмпирическое приближение функионала среднего риска\n",
    "$$\n",
    "f(x)\\sim \\hat{f}(x)=\\frac{1}{m}\\sum_{i=1}^mF(x, \\xi_i).\n",
    "$$\n",
    "$\\hat{f}$ может быть минимизирована с помощью обычного градиентного спуска, что потребует вычисления $\\nabla F(x,\\cdot)$ в $m$ точках на каждой итерации. Альтернативно можно минимизировать $\\hat{f}$ с помощью стохатсического градиентного спуска с\n",
    "$$\n",
    "\\hat{F}(x, i)=F(x, \\xi_i)\n",
    "$$\n",
    "при $i$ равномерно распределенным индексом на $\\{1, \\ldots, m\\}$. Неформально это тоже самое, что и минимизация $f$ стохастическим градиентным спуском. Несмотря на то, что градиентный спуск сходится быстрее стохастического градиентного спуска, за счет того, что сложность итерации в $m$ раз меньше можно получить существенный прирост в скорости сходимости. Наиболее распространенный вариант на практике - это <i>пакетный градиентный спуск</i> (batched gradient descent), который является вариацией стохастического градиентного спуска, у которого\n",
    "$$\n",
    "\\hat{F}(x, \\xi_k)=\\frac{1}{|S_k|}\\sum_{i\\in S_k}F(x, \\xi_i).\n",
    "$$\n",
    "Иначе говоря, вместо одного сэмпла мы используем среднее из нескольких сэмплов. В своих крайних случаях ($|S_k|=1$ и $|S_k|=m$) пакетный градиентный спуск вырождается в стохастический градиентный спуск и обычный градиентный спуск соответственно. Использование выборки размера больше единицы позволяет балансировать между дисперсией в стохастическом градиентном спуске с одной стороны, и количеству итераций за одно и тоже количество вычислений градиента целевой функции с другой. В добавок с возможностями распараллеливания вычисления среднего градиента по выборке пакетный градиентный спуск является наиболее универсальным и эффективным на практике."
   ]
  }
 ],
 "metadata": {
  "kernelspec": {
   "display_name": "Python 3",
   "language": "python",
   "name": "python3"
  },
  "language_info": {
   "codemirror_mode": {
    "name": "ipython",
    "version": 3
   },
   "file_extension": ".py",
   "mimetype": "text/x-python",
   "name": "python",
   "nbconvert_exporter": "python",
   "pygments_lexer": "ipython3",
   "version": "3.8.3"
  },
  "widgets": {
   "application/vnd.jupyter.widget-state+json": {
    "state": {},
    "version_major": 2,
    "version_minor": 0
   }
  }
 },
 "nbformat": 4,
 "nbformat_minor": 4
}
