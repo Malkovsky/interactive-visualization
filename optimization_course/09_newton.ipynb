{
 "cells": [
  {
   "cell_type": "markdown",
   "metadata": {},
   "source": [
    "# Метод Ньютона\n",
    "Градиентный спуск можем быть трактован как серия вспомагательных оптимизационных задач\n",
    "$$\n",
    "\\DeclareMathOperator*\\argmin{argmin}\n",
    "x_{k+1}=\\argmin_x\\left[f(x_k)+\\nabla f(x_k)^T(x-x_k)+\\frac{1}{2\\alpha_k}\\|x-x_k\\|^2\\right]\n",
    "$$\n",
    "Здесь последнее квадратичное слагаемое выбрано из сообрадений простоты. Метод Ньютона заключается в том, чтобы использовать более точное приближение по Тейлору с использованием гессиана\n",
    "$$\n",
    "x_{k+1}=\\argmin_x \\left[(f(x_k)+\\nabla f(x_k)^T(x-x_k)+\\frac{1}{2}(x-x_k)\\nabla^2f(x_k)(x-x_k)\\right]\n",
    "$$\n",
    "Условия оптимальности первого рода дают уравнение на $x_{k+1}$:\n",
    "$$\n",
    "\\nabla f(x_k)+\\nabla^2f(x_k)(x-x_k)=0\\tag{1}\n",
    "$$\n",
    "Таким образом\n",
    "$$\n",
    "x_{k+1}=x_k-[\\nabla^2 f(x_k)]^{-1}\\nabla f(x_k)\\tag{2}\n",
    "$$\n",
    "Стоит отметить, что для одной итерации достаточно искать решение линейной ситемы (1), не обязательно при этом обращать матрицу как в (2). Так или иначе метод Ньютона характеризуется по сравнению с градиентным спуском тремя ключевыми аспектами\n",
    "* быстрее сходимость\n",
    "* сложнее одна итерация\n",
    "* необходимо уметь вычислять матрицу вторых производных\n",
    "\n",
    "<b>Теорема (о квадратичной сходимости метода Ньютона)</b>. Пусть $f:\\mathbb{R}^n\\rightarrow \\mathbb{R}$ дважды дифференцируема на $S=\\left\\{\\|x-x^*\\|\\leq\\frac{m}{\\gamma M}\\right\\}$ \n",
    "при некотором $\\gamma\\geq 3/2$, $x^*$ -- точка минимума $f$ на $S$ и $mI\\preceq\\nabla^2 f(x^*)$ при $m>0$, для $\\nabla^2 f$ на $S$ выполняется условие Липшица с константой $M$, $x_0\\in S$, \n",
    "тогда для последовательности (2) выполняется\n",
    "$$\n",
    "\\|x_{k+1}-x^*\\|\\leq \\frac{M\\|x_k-x^*\\|^2}{2(m-M\\|x_k-x^*\\|)}\n",
    "$$\n",
    "<b>Доказательство.</b> Обозначим $G_k= \\int_0^1[\\nabla^2 f(x_k)-\\nabla^2 f(x^*+t(x_k-x^*))]dt$, тогда\n",
    "\\begin{align*}\n",
    "x_{k+1}-x^*&=x_k-x^*-[\\nabla^2 f(x_k)]^{-1}\\nabla f(x_k)\\\\\n",
    "&=x_k-x^*-[\\nabla^2 f(x_k))]^{-1}\\int_0^1\\nabla^2 f(x^*+t(x_k-x^*))(x_k-x^*)dt \\\\\n",
    "&=[\\nabla^2 f(x_k)]^{-1}G_k(x-x^*).\n",
    "\\end{align*}\n",
    "Далее\n",
    "\\begin{align*}\n",
    "\\|G_k\\|&=\\left\\|\\int_0^1[\\nabla^2 f(x_k)-\\nabla^2 f(x^*+t(x_k-x^*))]dt\\right\\|\\\\\n",
    "&\\leq \\int_0^1\\|[\\nabla^2 f(x_k)-\\nabla^2 f(x^*+t(x_k-x^*))]\\|dt \\\\\n",
    "&\\leq \\int_0^1M(1-t)\\|x_k-x^*\\|dt\\\\\n",
    "&=\\frac{M\\|x_k-x^*\\|}{2}\n",
    "\\end{align*}\n",
    "Вновь используя условие Липшица для $\\nabla^2 f$ получаем, что \n",
    "$$\n",
    "-M\\|x_k-x^*\\|I\\preceq\\nabla^2 f(x_k)-\\nabla^2 f(x^*)\\preceq M\\|x_k-x^*\\|I,\n",
    "$$\n",
    "что дает\n",
    "$$\n",
    "(m-M\\|x_k-x^*\\|)I\\preceq \\nabla^2 f(x^*)-M\\|x_k-x^*\\|I\\preceq \\nabla^2 f(x_k)\n",
    "$$\n",
    "Если $x_k\\in S$, то $M\\|x_k-x^*\\|-m>0$, а $\\nabla^2 f(x_k)$ обратима и при этом\n",
    "$$\n",
    "\\|[\\nabla^2 f(x_k)]^{-1}\\|\\leq (m-M\\|x_k-x^*\\|)^{-1}\n",
    "$$ \n",
    "Итог:\n",
    "$$\n",
    "\\|x_{k+1}-x^*\\|\\leq \\frac{M\\|x_k-x^*\\|^2}{2(m-M\\|x_k-x^*\\|)}\n",
    "$$\n",
    "что дает оценку скорости сходимости. Осталось показать, что $\\|x_{k+1}-x^*\\|\\leq \\|x_k-x^*\\|$, чтобы гарантировать $x_k\\in S$:\n",
    "\\begin{align*}\n",
    "\\frac{M\\|x_k-x^*\\|^2}{2(m-M\\|x_k-x^*\\|)}&\\leq \\|x_k-x^*\\|~~\\Leftrightarrow\\\\\n",
    "M\\|x_k-x^*\\|^2&\\leq 2(m-M\\|x_k-x^*\\|)\\|x_k-x^*\\|~~\\Leftrightarrow\\\\\n",
    "3M\\|x_k-x^*\\|^2&\\leq 2m\\|x_k-x^*\\|.\n",
    "\\end{align*}\n",
    "Таким образом, если $\\gamma\\geq 3/2$, то $\\|x_{k+1}-x^*\\|\\leq \\|x_k-x^*\\|$, $x_0\\in S$ и $x_k\\in S$. $\\#$"
   ]
  },
  {
   "cell_type": "markdown",
   "metadata": {},
   "source": [
    "К сожалению эта теорема устанавливает только локальную сходимость метода Ньютона, т. е. если у нас уже есть достаточно близкое приближение. В глобальном смысле метод Ньютона не обязан сходиться при прочих предположениях. На практике часто используют модификацию метода Ньютона\n",
    "$$\n",
    "x_{k+1}=x_k-t_k[\\nabla^2 f(x_k)]^{-1}\\nabla f(x_k)\\tag{3}\n",
    "$$\n",
    "где $t_k\\in(0, 1]$. Самый распространненый вариант заключается в использовании линейного поиска: \n",
    "* Взять $t_k=1, 0<\\beta<1, 0<\\alpha\\leq \\frac{1}{2}$.\n",
    "* Повторять $t_k:=\\beta t_k$ пока не выполнится\n",
    "$$\n",
    "f(x_k+t_kv)>f(x)+\\alpha t_k\\nabla f(x_k)^Tv\n",
    "$$\n",
    "где $v=\\left[\\nabla^2f(x_k)\\right]^{-1}\\nabla f(x_k)$.\n",
    "\n",
    "Такой выбор шага гарантирует до некоторого момента\n",
    "$$\n",
    "f(x_{k+1})\\leq f(x_k)-\\gamma\n",
    "$$\n",
    "для некоторого момента, где начинается квадратичная сходимость. $\\gamma$ - некоторая константа, зависящая от функции, $\\alpha, \\beta$."
   ]
  },
  {
   "cell_type": "markdown",
   "metadata": {},
   "source": [
    "## Аффинная инвариантность метода Ньютона\n",
    "Одим из важных свойств метода Ньютона является инвариантность относительно линейного преобразования, предположим, что $x=Ay$ и $g(y)=f(x)=f(Ay)$, тогда\n",
    "$$\n",
    "\\begin{array}{rl}\n",
    "y_{k+1}&=y_k-\\left[\\nabla^2g(y_k)\\right]^{-1}\\nabla g(y_k) \\\\\n",
    "&=\\left[A^T\\nabla^2f(Ay_k)A\\right]^{-1}A\\nabla f(Ay_k) \\\\\n",
    "&=A^{-1}\\left[\\nabla^2f(Ay_k)\\right]^{-1}\\nabla f(Ay_k). \\\\\n",
    "\\end{array}\n",
    "$$\n",
    "Таким образом\n",
    "$$\n",
    "\\begin{array}{rl}\n",
    "Ay_{k+1}&=\\left[\\nabla^2f(Ax_k)\\right]^{-1}\\nabla f(Ay_k),\n",
    "\\end{array}\n",
    "$$\n",
    "что обосновывает инвариантность метода Ньютона относительно линейного преобразования, аналогично доказывается аффинность. Стоит отметить, что для всех разновидностей градиентного спуска это свойство не выполняется, более того часто линейное преобразование используется для улучшения скорости сходимости градиентного метода."
   ]
  },
  {
   "cell_type": "code",
   "execution_count": 1,
   "metadata": {},
   "outputs": [],
   "source": [
    "import os\n",
    "import sys\n",
    "module_path = os.path.abspath(os.path.join('..'))\n",
    "if module_path not in sys.path:\n",
    "    sys.path.append(module_path)\n",
    "from animation_utils.animation import animate_list"
   ]
  },
  {
   "cell_type": "code",
   "execution_count": 2,
   "metadata": {},
   "outputs": [],
   "source": [
    "import matplotlib.pyplot as plt\n",
    "plt.rcParams[\"figure.figsize\"] = (8, 8)\n",
    "plt.rcParams[\"text.usetex\"] = True\n",
    "import numpy as np\n",
    "\n",
    "def f(x):\n",
    "    return x ** 2 - 2\n",
    "\n",
    "def df(x):\n",
    "    return 2 * x\n",
    "\n",
    "def newton_state(f, df, x_cur, x_next, a, b):\n",
    "    fig = plt.figure(figsize=(7, 7))\n",
    "    ax = fig.add_axes([0, 0, 1, 1])    \n",
    "    \n",
    "    ax.get_xaxis().set_visible(False)\n",
    "    ax.get_yaxis().set_visible(False)\n",
    "\n",
    "    for name, spine in ax.spines.items():\n",
    "        spine.set_visible(False)\n",
    "        spine.set_visible(False)\n",
    "        \n",
    "        \n",
    "    y_min = min(f(a), f(b))\n",
    "    y_max = max(f(a), f(b))\n",
    "    delta = (b - a) / 100\n",
    "    r = np.arange(a, b + delta, delta)\n",
    "    \n",
    "    ax.plot(r, [f(x) for x in r])\n",
    "    ax.plot([a, a], [y_min, y_max], color='black')\n",
    "    ax.plot([b, b], [y_min, y_max], color='black')\n",
    "    ax.plot([a, b], [0, 0], color='black', linestyle='--')\n",
    "    \n",
    "    ax.plot([x_cur, x_next], [f(x_cur), 0], color='grey', linestyle='--')\n",
    "    ax.scatter([x_cur, x_next], [f(x_cur), 0], color='black')\n",
    "    \n",
    "    plt.close(fig)\n",
    "    return fig\n",
    "\n",
    "def newton(f, df, a, b, num_iters=10):\n",
    "    x_cur = b\n",
    "    states = []\n",
    "    for i in range(num_iters):\n",
    "        x_next = x_cur - f(x_cur) / df(x_cur)\n",
    "\n",
    "        states.append(newton_state(f, df, x_cur, x_next, a, b))\n",
    "        x_cur = x_next\n",
    "    return states"
   ]
  },
  {
   "cell_type": "code",
   "execution_count": 3,
   "metadata": {},
   "outputs": [
    {
     "data": {
      "application/vnd.jupyter.widget-view+json": {
       "model_id": "013751aedd2f40fea1c7cc13fe16c0d7",
       "version_major": 2,
       "version_minor": 0
      },
      "text/plain": [
       "HBox(children=(Button(description='Prev', style=ButtonStyle()), Button(description='Next', style=ButtonStyle()…"
      ]
     },
     "metadata": {},
     "output_type": "display_data"
    },
    {
     "data": {
      "application/vnd.jupyter.widget-view+json": {
       "model_id": "bc485eed32dc421ea4b407d597c03d9e",
       "version_major": 2,
       "version_minor": 0
      },
      "text/plain": [
       "interactive(children=(IntSlider(value=0, description='step', max=4), Output()), _dom_classes=('widget-interact…"
      ]
     },
     "metadata": {},
     "output_type": "display_data"
    }
   ],
   "source": [
    "animate_list(newton(f, df, 0, 2, 5));"
   ]
  }
 ],
 "metadata": {
  "kernelspec": {
   "display_name": "Python 3",
   "language": "python",
   "name": "python3"
  },
  "language_info": {
   "codemirror_mode": {
    "name": "ipython",
    "version": 3
   },
   "file_extension": ".py",
   "mimetype": "text/x-python",
   "name": "python",
   "nbconvert_exporter": "python",
   "pygments_lexer": "ipython3",
   "version": "3.8.3"
  },
  "widgets": {
   "application/vnd.jupyter.widget-state+json": {
    "state": {
     "013751aedd2f40fea1c7cc13fe16c0d7": {
      "model_module": "@jupyter-widgets/controls",
      "model_module_version": "1.5.0",
      "model_name": "HBoxModel",
      "state": {
       "children": [
        "IPY_MODEL_dd09a98760a04163a1d872d0bfa46997",
        "IPY_MODEL_cfa8c6fefcdc466f9b800fc013dbfb4d"
       ],
       "layout": "IPY_MODEL_182deff27dd441c7a17faaaf6ccd8663"
      }
     },
     "0512c685103146e0a404c55e7c5fcce2": {
      "model_module": "@jupyter-widgets/controls",
      "model_module_version": "1.5.0",
      "model_name": "ButtonStyleModel",
      "state": {}
     },
     "182deff27dd441c7a17faaaf6ccd8663": {
      "model_module": "@jupyter-widgets/base",
      "model_module_version": "1.2.0",
      "model_name": "LayoutModel",
      "state": {}
     },
     "2d88a02146674992a0b1ac60523c79e2": {
      "model_module": "@jupyter-widgets/base",
      "model_module_version": "1.2.0",
      "model_name": "LayoutModel",
      "state": {}
     },
     "76fce1c11ad24a84aa1a14e3969a1c13": {
      "model_module": "@jupyter-widgets/controls",
      "model_module_version": "1.5.0",
      "model_name": "IntSliderModel",
      "state": {
       "description": "step",
       "layout": "IPY_MODEL_f2aa65fe70914ab5be35f6f639dcb2f9",
       "max": 4,
       "style": "IPY_MODEL_ebbd2ac165f24b46830a3e088220a9ab"
      }
     },
     "7ba0d2d5ffe54c0c8047ee5cb1da2b4a": {
      "model_module": "@jupyter-widgets/output",
      "model_module_version": "1.0.0",
      "model_name": "OutputModel",
      "state": {
       "layout": "IPY_MODEL_bcca0a0691c546d3bc659a084e6810a7",
       "outputs": [
        {
         "data": {
          "image/png": "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\n",
          "text/plain": "<Figure size 504x504 with 1 Axes>"
         },
         "metadata": {},
         "output_type": "display_data"
        }
       ]
      }
     },
     "81960460957b4b88ad068b6dc718e8e8": {
      "model_module": "@jupyter-widgets/controls",
      "model_module_version": "1.5.0",
      "model_name": "ButtonStyleModel",
      "state": {}
     },
     "9d197fcee4c441968000ebd2fb3f2242": {
      "model_module": "@jupyter-widgets/base",
      "model_module_version": "1.2.0",
      "model_name": "LayoutModel",
      "state": {}
     },
     "bc485eed32dc421ea4b407d597c03d9e": {
      "model_module": "@jupyter-widgets/controls",
      "model_module_version": "1.5.0",
      "model_name": "VBoxModel",
      "state": {
       "_dom_classes": [
        "widget-interact"
       ],
       "children": [
        "IPY_MODEL_76fce1c11ad24a84aa1a14e3969a1c13",
        "IPY_MODEL_7ba0d2d5ffe54c0c8047ee5cb1da2b4a"
       ],
       "layout": "IPY_MODEL_9d197fcee4c441968000ebd2fb3f2242"
      }
     },
     "bcca0a0691c546d3bc659a084e6810a7": {
      "model_module": "@jupyter-widgets/base",
      "model_module_version": "1.2.0",
      "model_name": "LayoutModel",
      "state": {}
     },
     "c4b0aa42ea3943ea8d7242ee23140d19": {
      "model_module": "@jupyter-widgets/base",
      "model_module_version": "1.2.0",
      "model_name": "LayoutModel",
      "state": {}
     },
     "cfa8c6fefcdc466f9b800fc013dbfb4d": {
      "model_module": "@jupyter-widgets/controls",
      "model_module_version": "1.5.0",
      "model_name": "ButtonModel",
      "state": {
       "description": "Next",
       "layout": "IPY_MODEL_2d88a02146674992a0b1ac60523c79e2",
       "style": "IPY_MODEL_81960460957b4b88ad068b6dc718e8e8"
      }
     },
     "dd09a98760a04163a1d872d0bfa46997": {
      "model_module": "@jupyter-widgets/controls",
      "model_module_version": "1.5.0",
      "model_name": "ButtonModel",
      "state": {
       "description": "Prev",
       "layout": "IPY_MODEL_c4b0aa42ea3943ea8d7242ee23140d19",
       "style": "IPY_MODEL_0512c685103146e0a404c55e7c5fcce2"
      }
     },
     "ebbd2ac165f24b46830a3e088220a9ab": {
      "model_module": "@jupyter-widgets/controls",
      "model_module_version": "1.5.0",
      "model_name": "SliderStyleModel",
      "state": {
       "description_width": ""
      }
     },
     "f2aa65fe70914ab5be35f6f639dcb2f9": {
      "model_module": "@jupyter-widgets/base",
      "model_module_version": "1.2.0",
      "model_name": "LayoutModel",
      "state": {}
     }
    },
    "version_major": 2,
    "version_minor": 0
   }
  }
 },
 "nbformat": 4,
 "nbformat_minor": 4
}
