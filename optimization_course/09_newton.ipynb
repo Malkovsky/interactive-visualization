{
 "cells": [
  {
   "cell_type": "markdown",
   "metadata": {},
   "source": [
    "# Метод Ньютона\n",
    "Градиентный спуск можем быть трактован как серия вспомагательных оптимизационных задач\n",
    "$$\n",
    "\\DeclareMathOperator*\\argmin{argmin}\n",
    "x_{k+1}=\\argmin_x\\left[f(x_k)+\\nabla f(x_k)^T(x-x_k)+\\frac{1}{2\\alpha_k}\\|x-x_k\\|^2\\right]\n",
    "$$\n",
    "Здесь последнее квадратичное слагаемое выбрано из сообрадений простоты. Метод Ньютона заключается в том, чтобы использовать более точное приближение по Тейлору с использованием гессиана\n",
    "$$\n",
    "x_{k+1}=\\argmin_x \\left[f(x_k)+\\nabla f(x_k)^T(x-x_k)+\\frac{1}{2}(x-x_k)\\nabla^2f(x_k)(x-x_k)\\right]\n",
    "$$\n",
    "Условия оптимальности первого рода дают уравнение на $x_{k+1}$:\n",
    "$$\n",
    "\\nabla f(x_k)+\\nabla^2f(x_k)(x-x_k)=0\\tag{1}\n",
    "$$\n",
    "Таким образом\n",
    "$$\n",
    "x_{k+1}=x_k-[\\nabla^2 f(x_k)]^{-1}\\nabla f(x_k)\\tag{2}\n",
    "$$\n",
    "Стоит отметить, что для одной итерации достаточно искать решение линейной ситемы (1), не обязательно при этом обращать матрицу как в (2). Так или иначе метод Ньютона характеризуется по сравнению с градиентным спуском тремя ключевыми аспектами\n",
    "* быстрее сходимость\n",
    "* сложнее одна итерация\n",
    "* необходимо уметь вычислять матрицу вторых производных\n",
    "\n",
    "<b>Теорема (о квадратичной сходимости метода Ньютона)</b>. Пусть $f:\\mathbb{R}^n\\rightarrow \\mathbb{R}$ дважды дифференцируема на $S=\\left\\{\\|x-x^*\\|\\leq\\frac{m}{\\gamma M}\\right\\}$ \n",
    "при некотором $\\gamma\\geq 3/2$, $x^*$ -- точка минимума $f$ на $S$ и $mI\\preceq\\nabla^2 f(x^*)$ при $m>0$, для $\\nabla^2 f$ на $S$ выполняется условие Липшица с константой $M$, $x_0\\in S$, \n",
    "тогда для последовательности (2) выполняется\n",
    "$$\n",
    "\\|x_{k+1}-x^*\\|\\leq \\frac{M\\|x_k-x^*\\|^2}{2(m-M\\|x_k-x^*\\|)}\n",
    "$$\n",
    "<b>Доказательство.</b> Обозначим $G_k= \\int_0^1[\\nabla^2 f(x_k)-\\nabla^2 f(x^*+t(x_k-x^*))]dt$, тогда\n",
    "\\begin{align*}\n",
    "x_{k+1}-x^*&=x_k-x^*-[\\nabla^2 f(x_k)]^{-1}\\nabla f(x_k)\\\\\n",
    "&=x_k-x^*-[\\nabla^2 f(x_k))]^{-1}\\int_0^1\\nabla^2 f(x^*+t(x_k-x^*))(x_k-x^*)dt \\\\\n",
    "&=[\\nabla^2 f(x_k)]^{-1}G_k(x-x^*).\n",
    "\\end{align*}\n",
    "Далее\n",
    "\\begin{align*}\n",
    "\\|G_k\\|&=\\left\\|\\int_0^1[\\nabla^2 f(x_k)-\\nabla^2 f(x^*+t(x_k-x^*))]dt\\right\\|\\\\\n",
    "&\\leq \\int_0^1\\|[\\nabla^2 f(x_k)-\\nabla^2 f(x^*+t(x_k-x^*))]\\|dt \\\\\n",
    "&\\leq \\int_0^1M(1-t)\\|x_k-x^*\\|dt\\\\\n",
    "&=\\frac{M\\|x_k-x^*\\|}{2}\n",
    "\\end{align*}\n",
    "Вновь используя условие Липшица для $\\nabla^2 f$ получаем, что \n",
    "$$\n",
    "-M\\|x_k-x^*\\|I\\preceq\\nabla^2 f(x_k)-\\nabla^2 f(x^*)\\preceq M\\|x_k-x^*\\|I,\n",
    "$$\n",
    "что дает\n",
    "$$\n",
    "(m-M\\|x_k-x^*\\|)I\\preceq \\nabla^2 f(x^*)-M\\|x_k-x^*\\|I\\preceq \\nabla^2 f(x_k)\n",
    "$$\n",
    "Если $x_k\\in S$, то $M\\|x_k-x^*\\|-m<0$, а $\\nabla^2 f(x_k)$ обратима и при этом\n",
    "$$\n",
    "\\|[\\nabla^2 f(x_k)]^{-1}\\|\\leq (m-M\\|x_k-x^*\\|)^{-1}\n",
    "$$ \n",
    "Итог:\n",
    "$$\n",
    "\\|x_{k+1}-x^*\\|\\leq \\frac{M\\|x_k-x^*\\|^2}{2(m-M\\|x_k-x^*\\|)}\n",
    "$$\n",
    "что дает оценку скорости сходимости. Осталось показать, что $\\|x_{k+1}-x^*\\|\\leq \\|x_k-x^*\\|$, чтобы гарантировать $x_k\\in S$:\n",
    "\\begin{align*}\n",
    "\\frac{M\\|x_k-x^*\\|^2}{2(m-M\\|x_k-x^*\\|)}&\\leq \\|x_k-x^*\\|~~\\Leftrightarrow\\\\\n",
    "M\\|x_k-x^*\\|^2&\\leq 2(m-M\\|x_k-x^*\\|)\\|x_k-x^*\\|~~\\Leftrightarrow\\\\\n",
    "3M\\|x_k-x^*\\|^2&\\leq 2m\\|x_k-x^*\\|.\n",
    "\\end{align*}\n",
    "Таким образом, если $\\gamma\\geq 3/2$, то $\\|x_{k+1}-x^*\\|\\leq \\|x_k-x^*\\|$, $x_0\\in S$ и $x_k\\in S$. $\\#$"
   ]
  },
  {
   "cell_type": "markdown",
   "metadata": {},
   "source": [
    "К сожалению эта теорема устанавливает только локальную сходимость метода Ньютона, т. е. если у нас уже есть достаточно близкое приближение. В глобальном смысле метод Ньютона не обязан сходиться при прочих предположениях. На практике часто используют модификацию метода Ньютона\n",
    "$$\n",
    "x_{k+1}=x_k-t_k[\\nabla^2 f(x_k)]^{-1}\\nabla f(x_k)\\tag{3}\n",
    "$$\n",
    "где $t_k\\in(0, 1]$. Самый распространненый вариант заключается в использовании линейного поиска: \n",
    "* Взять $t_k=1, 0<\\beta<1, 0<\\alpha\\leq \\frac{1}{2}$.\n",
    "* Повторять $t_k:=\\beta t_k$ пока не выполнится\n",
    "$$\n",
    "f(x_k+t_kv)>f(x)+\\alpha t_k\\nabla f(x_k)^Tv\n",
    "$$\n",
    "где $v=\\left[\\nabla^2f(x_k)\\right]^{-1}\\nabla f(x_k)$.\n",
    "\n",
    "Такой выбор шага гарантирует до некоторого момента\n",
    "$$\n",
    "f(x_{k+1})\\leq f(x_k)-\\gamma\n",
    "$$\n",
    "для некоторого момента, где начинается квадратичная сходимость. $\\gamma$ - некоторая константа, зависящая от функции, $\\alpha, \\beta$."
   ]
  },
  {
   "cell_type": "markdown",
   "metadata": {},
   "source": [
    "## Аффинная инвариантность метода Ньютона\n",
    "Одим из важных свойств метода Ньютона является инвариантность относительно линейного преобразования, предположим, что $x=Ay$ и $g(y)=f(x)=f(Ay)$, тогда\n",
    "$$\n",
    "\\begin{array}{rl}\n",
    "y_{k+1}&=y_k-\\left[\\nabla^2g(y_k)\\right]^{-1}\\nabla g(y_k) \\\\\n",
    "&=\\left[A^T\\nabla^2f(Ay_k)A\\right]^{-1}A^T\\nabla f(Ay_k) \\\\\n",
    "&=A^{-1}\\left[\\nabla^2f(Ay_k)\\right]^{-1}\\nabla f(Ay_k). \\\\\n",
    "\\end{array}\n",
    "$$\n",
    "Таким образом\n",
    "$$\n",
    "\\begin{array}{rl}\n",
    "Ay_{k+1}&=\\left[\\nabla^2f(Ay_k)\\right]^{-1}\\nabla f(Ay_k),\n",
    "\\end{array}\n",
    "$$\n",
    "что обосновывает инвариантность метода Ньютона относительно линейного преобразования, аналогично доказывается аффинность. Стоит отметить, что для всех разновидностей градиентного спуска это свойство не выполняется, более того часто линейное преобразование используется для улучшения скорости сходимости градиентного метода."
   ]
  },
  {
   "cell_type": "code",
   "execution_count": 1,
   "metadata": {},
   "outputs": [],
   "source": [
    "from interactive_visualization.animation_utils import animate_list"
   ]
  },
  {
   "cell_type": "code",
   "execution_count": 2,
   "metadata": {},
   "outputs": [],
   "source": [
    "import matplotlib.pyplot as plt\n",
    "plt.rcParams[\"figure.figsize\"] = (8, 8)\n",
    "plt.rcParams[\"text.usetex\"] = True\n",
    "import numpy as np\n",
    "\n",
    "def f(x):\n",
    "    return x ** 2 - 2\n",
    "\n",
    "def df(x):\n",
    "    return 2 * x\n",
    "\n",
    "def newton_state(f, df, x_cur, x_next, a, b):\n",
    "    fig = plt.figure(figsize=(7, 7))\n",
    "    ax = fig.add_axes([0, 0, 1, 1])    \n",
    "    \n",
    "    ax.get_xaxis().set_visible(False)\n",
    "    ax.get_yaxis().set_visible(False)\n",
    "\n",
    "    for name, spine in ax.spines.items():\n",
    "        spine.set_visible(False)\n",
    "        spine.set_visible(False)\n",
    "        \n",
    "        \n",
    "    y_min = min(f(a), f(b))\n",
    "    y_max = max(f(a), f(b))\n",
    "    delta = (b - a) / 100\n",
    "    r = np.arange(a, b + delta, delta)\n",
    "    \n",
    "    ax.plot(r, [f(x) for x in r])\n",
    "    ax.plot([a, a], [y_min, y_max], color='black')\n",
    "    ax.plot([b, b], [y_min, y_max], color='black')\n",
    "    ax.plot([a, b], [0, 0], color='black', linestyle='--')\n",
    "    \n",
    "    ax.plot([x_cur, x_next], [f(x_cur), 0], color='grey', linestyle='--')\n",
    "    ax.scatter([x_cur, x_next], [f(x_cur), 0], color='black')\n",
    "    \n",
    "    plt.close(fig)\n",
    "    return fig\n",
    "\n",
    "def newton(f, df, a, b, num_iters=10):\n",
    "    x_cur = b\n",
    "    states = []\n",
    "    for i in range(num_iters):\n",
    "        x_next = x_cur - f(x_cur) / df(x_cur)\n",
    "\n",
    "        states.append(newton_state(f, df, x_cur, x_next, a, b))\n",
    "        x_cur = x_next\n",
    "    return states"
   ]
  },
  {
   "cell_type": "code",
   "execution_count": 3,
   "metadata": {},
   "outputs": [
    {
     "data": {
      "application/vnd.jupyter.widget-view+json": {
       "model_id": "13c47511ddae4c099c1f7aaf79827c1f",
       "version_major": 2,
       "version_minor": 0
      },
      "text/plain": [
       "HBox(children=(Button(description='Prev', style=ButtonStyle()), Button(description='Next', style=ButtonStyle()…"
      ]
     },
     "metadata": {},
     "output_type": "display_data"
    },
    {
     "data": {
      "application/vnd.jupyter.widget-view+json": {
       "model_id": "76aa7d68652648928adbee9274c4ef6b",
       "version_major": 2,
       "version_minor": 0
      },
      "text/plain": [
       "interactive(children=(IntSlider(value=0, description='step', max=4), Output()), _dom_classes=('widget-interact…"
      ]
     },
     "metadata": {},
     "output_type": "display_data"
    }
   ],
   "source": [
    "animate_list(newton(f, df, 0, 2, 5));"
   ]
  }
 ],
 "metadata": {
  "kernelspec": {
   "display_name": "Python 3",
   "language": "python",
   "name": "python3"
  },
  "language_info": {
   "codemirror_mode": {
    "name": "ipython",
    "version": 3
   },
   "file_extension": ".py",
   "mimetype": "text/x-python",
   "name": "python",
   "nbconvert_exporter": "python",
   "pygments_lexer": "ipython3",
   "version": "3.8.5"
  },
  "widgets": {
   "application/vnd.jupyter.widget-state+json": {
    "state": {
     "13c47511ddae4c099c1f7aaf79827c1f": {
      "model_module": "@jupyter-widgets/controls",
      "model_module_version": "1.5.0",
      "model_name": "HBoxModel",
      "state": {
       "children": [
        "IPY_MODEL_e92b79bf85344ab2ac98b69e9b6e7a14",
        "IPY_MODEL_2f7fb3c8ebe0472e837bb47b858c4d0a"
       ],
       "layout": "IPY_MODEL_a81b6bee8f904b11a8e928a54ddae1b7"
      }
     },
     "2f7fb3c8ebe0472e837bb47b858c4d0a": {
      "model_module": "@jupyter-widgets/controls",
      "model_module_version": "1.5.0",
      "model_name": "ButtonModel",
      "state": {
       "description": "Next",
       "layout": "IPY_MODEL_ff642560aca84170aa1f540d5e9a774c",
       "style": "IPY_MODEL_7e72cbfa699540ca95071beaaa48ed15"
      }
     },
     "76aa7d68652648928adbee9274c4ef6b": {
      "model_module": "@jupyter-widgets/controls",
      "model_module_version": "1.5.0",
      "model_name": "VBoxModel",
      "state": {
       "_dom_classes": [
        "widget-interact"
       ],
       "children": [
        "IPY_MODEL_d2698b71a003401abe9cc3c3de61aefb",
        "IPY_MODEL_e767b049603c4898b8d6bfb54daf349e"
       ],
       "layout": "IPY_MODEL_869e6e2cc9a743ec9ac6ba109c7f4dca"
      }
     },
     "7d748b361dde47f79d8674f2988e8eff": {
      "model_module": "@jupyter-widgets/base",
      "model_module_version": "1.2.0",
      "model_name": "LayoutModel",
      "state": {}
     },
     "7e72cbfa699540ca95071beaaa48ed15": {
      "model_module": "@jupyter-widgets/controls",
      "model_module_version": "1.5.0",
      "model_name": "ButtonStyleModel",
      "state": {}
     },
     "869e6e2cc9a743ec9ac6ba109c7f4dca": {
      "model_module": "@jupyter-widgets/base",
      "model_module_version": "1.2.0",
      "model_name": "LayoutModel",
      "state": {}
     },
     "a81b6bee8f904b11a8e928a54ddae1b7": {
      "model_module": "@jupyter-widgets/base",
      "model_module_version": "1.2.0",
      "model_name": "LayoutModel",
      "state": {}
     },
     "d2698b71a003401abe9cc3c3de61aefb": {
      "model_module": "@jupyter-widgets/controls",
      "model_module_version": "1.5.0",
      "model_name": "IntSliderModel",
      "state": {
       "description": "step",
       "layout": "IPY_MODEL_ec786015f3b34366990c30da35b3505d",
       "max": 4,
       "style": "IPY_MODEL_e28c45ffa211461d91fdc84912fbb4c9"
      }
     },
     "e28c45ffa211461d91fdc84912fbb4c9": {
      "model_module": "@jupyter-widgets/controls",
      "model_module_version": "1.5.0",
      "model_name": "SliderStyleModel",
      "state": {
       "description_width": ""
      }
     },
     "e767b049603c4898b8d6bfb54daf349e": {
      "model_module": "@jupyter-widgets/output",
      "model_module_version": "1.0.0",
      "model_name": "OutputModel",
      "state": {
       "layout": "IPY_MODEL_7d748b361dde47f79d8674f2988e8eff",
       "outputs": [
        {
         "data": {
          "image/png": "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\n",
          "text/plain": "<Figure size 504x504 with 1 Axes>"
         },
         "metadata": {},
         "output_type": "display_data"
        }
       ]
      }
     },
     "e92b79bf85344ab2ac98b69e9b6e7a14": {
      "model_module": "@jupyter-widgets/controls",
      "model_module_version": "1.5.0",
      "model_name": "ButtonModel",
      "state": {
       "description": "Prev",
       "layout": "IPY_MODEL_f5dfffa2c96e4a32a25532f14ebb6a42",
       "style": "IPY_MODEL_ee8c7bcf3852413bb8f42bd9c76a2fa9"
      }
     },
     "ec786015f3b34366990c30da35b3505d": {
      "model_module": "@jupyter-widgets/base",
      "model_module_version": "1.2.0",
      "model_name": "LayoutModel",
      "state": {}
     },
     "ee8c7bcf3852413bb8f42bd9c76a2fa9": {
      "model_module": "@jupyter-widgets/controls",
      "model_module_version": "1.5.0",
      "model_name": "ButtonStyleModel",
      "state": {}
     },
     "f5dfffa2c96e4a32a25532f14ebb6a42": {
      "model_module": "@jupyter-widgets/base",
      "model_module_version": "1.2.0",
      "model_name": "LayoutModel",
      "state": {}
     },
     "ff642560aca84170aa1f540d5e9a774c": {
      "model_module": "@jupyter-widgets/base",
      "model_module_version": "1.2.0",
      "model_name": "LayoutModel",
      "state": {}
     }
    },
    "version_major": 2,
    "version_minor": 0
   }
  }
 },
 "nbformat": 4,
 "nbformat_minor": 4
}
