{
 "cells": [
  {
   "cell_type": "markdown",
   "metadata": {},
   "source": [
    "# Базовые алгоритмы поиска\n",
    "Рассмотрим следующую задачу: дано множество $\\mathcal{D}$ и точка $x\\in \\mathcal{D}$, есть некоторый оракул, который для подмножества $A\\subset\\mathcal{D}$ умеет отвечать на запрос находится ли $x$ в $A$ или нет. Сколько нужно сделать запросу к оракулу, чтобы как можно точнее определить $x$?\n",
    "\n",
    "Давайте предположим, что мы сделали $n$ запросов по множествам $A_1, \\ldots, A_n$, при этом на запросы с индексами $I_n=\\{i_1, \\ldots,i_m\\}$ ответы были положительными, а на остальных $J_n=\\{1, \\ldots, n\\}\\setminus I_n$ -- отрицательные, тогда мы мы знаем, что\n",
    "$$\n",
    "x\\in\\mathcal{B}_n=\\left[\\cap_{i\\in I_n}A_i\\right]\\cap\\left[\\cap_{i\\in J_n}\\mathcal{D}\\setminus A_i\\right]\n",
    "$$\n",
    "Далее описанную процедуру поиска будем называть <b>общим поисковым алгоритмом</b>, которая всегда однозначно характеризуется $\\mathcal{D}$, $n$, $\\{A_1, \\ldots, A_n\\}$ и $I_n$.\n",
    "Если $\\mathcal{D}$ -- конечное множество, то отсекая на каждом шаге хотя бы по одному элементу мы в итоге можем точно определить $x$, в случае же непрерывного множества мы можем только сузить его до какого-то размера. Есть две характеристики множества, которые нам интересны в данном контексте: диаментр и объем. Если у множества небольшой диаметр, то это гарантирует, что произвольно взятый элемент из множества находится на расстоянии от $x$ не больше, чем на диаментр. Малый объем к сожалению не гарантирует малый диаметр, поэтому объем не очень интересная характеристика в конечном счете, тем не менее через объем получается доказать нижнюю оценку на оптимальное количество запросов.\n",
    "\n",
    "Пусть $\\mu$ -- мера на $\\mathcal{D}$ и $\\mu(\\mathcal{D})<+\\infty$, следующая теорема фиксирует ключевую оценку на количество запросов к оракулу, которое нужно сделать\n",
    "\n",
    "<b>Теорема.</b> В общем поисковом алгоритме для нахождения множество $B$ такого, что $\\mu(B)\\leq V$ и при этом $x\\in B$ необходимо по меньшей мере\n",
    "$\\log_2\\frac{\\mu(\\mathcal{D})}{V}$ запросов к оракулу.\n",
    "\n",
    "<b>Доказательство.</b> Предположим, что мы сделали $n$ итераций и получили множество $B_n$, на $n+1$ итерации при запросе множества $A_{n+1}$ имеем два варианта\n",
    "$$\n",
    "\\begin{cases}\n",
    "x\\in B\\cap A_{n+1} \\\\\n",
    "x\\in B\\cap (\\mathcal{D}\\setminus A_{n+1})\n",
    "\\end{cases}\n",
    "$$\n",
    "таким образом в худшем случае\n",
    "$$\n",
    "\\mu(B_{n+1})\\geq \\max\\{\\mu(B\\cap A_{n+1}), \\mu(B\\cap (\\mathcal{D}\\setminus A_{n+1}))\\}\\geq \\frac{\\mu(B_n)}{2}\n",
    "$$\n",
    "из чего следует оценка на количество итераций вхудшем случае\n",
    "$$\n",
    "\\frac{\\mu(\\mathcal{D})}{\\mu(B_n)}=\\frac{\\mu(B_0)}{\\mu(B_n)}\\leq 2^n.~~\\#\n",
    "$$\n",
    "Стоит отметить, что минимум достигается если $A_{n+1}$ разделяет $B_n$ пополам. В качестве примера, <b><i>метод бисекции</i></b> для нахождения корня непрерывной функции на отрезке достигает этой нижней границы как в худшем, так и в среднем (в предположении, что у нас есть только один корень с равномерным распределением по отрезку) случае. Метод очень простой: изначально  у нас есть отрезок $[a;b]$ такой, что $f(a)f(b)<0$ (таким образом из непрерывности следует, что на отрезке есть хотя бы одна точка $x^*$, что $f(x^*)=0$), на каждом шаге отрезок делится пополам и остается часть, которая сохраняет этот инвариант."
   ]
  },
  {
   "cell_type": "code",
   "execution_count": 1,
   "metadata": {},
   "outputs": [],
   "source": [
    "import os\n",
    "import sys\n",
    "module_path = os.path.abspath(os.path.join('..'))\n",
    "if module_path not in sys.path:\n",
    "    sys.path.append(module_path)\n",
    "from animation_utils.animation import animate_list"
   ]
  },
  {
   "cell_type": "code",
   "execution_count": 2,
   "metadata": {},
   "outputs": [],
   "source": [
    "import matplotlib.pyplot as plt\n",
    "plt.rcParams[\"figure.figsize\"] = (8, 8)\n",
    "plt.rcParams[\"text.usetex\"] = True\n",
    "import numpy as np\n",
    "\n",
    "def f(x):\n",
    "    return x ** 3 + 10 * x ** 2 + 5\n",
    "\n",
    "def bisection_state(f, a, b, left=None, right=None):\n",
    "    fig = plt.figure(figsize=(7, 7))\n",
    "    ax = fig.add_axes([0, 0, 1, 1])    \n",
    "    \n",
    "    ax.get_xaxis().set_visible(False)\n",
    "    ax.get_yaxis().set_visible(False)\n",
    "\n",
    "    for name, spine in ax.spines.items():\n",
    "        spine.set_visible(False)\n",
    "        spine.set_visible(False)\n",
    "        \n",
    "        \n",
    "    y_min = min(f(a), f(b))\n",
    "    y_max = max(f(a), f(b))\n",
    "    delta = (b - a) / 100\n",
    "    r = np.arange(a, b + delta, delta)\n",
    "    \n",
    "    ax.plot(r, [f(x) for x in r])\n",
    "    ax.plot([a, a], [y_min, y_max], color='black')\n",
    "    ax.plot([b, b], [y_min, y_max], color='black')\n",
    "    ax.plot([a, b], [0, 0], color='black', linestyle='--')\n",
    "    \n",
    "    if left is not None and right is not None:\n",
    "        if left != a:\n",
    "            ax.plot([left, left], [y_min, y_max], color='grey', linestyle='--')\n",
    "        if right != b:\n",
    "            ax.plot([right, right], [y_min, y_max], color='grey', linestyle='--')\n",
    "        ax.scatter([left, right, (left + right) / 2], [f(left), f(right), f((left + right) / 2)], color='black')\n",
    "    else:\n",
    "        ax.scatter([a, b, (a + b) / 2], [f(a), f(b), f((a + b) / 2)], color='black')\n",
    "        \n",
    "    \n",
    "    plt.close(fig)\n",
    "    return fig\n",
    "\n",
    "def bisection(g, a, b, num_iters=10):\n",
    "    states = [bisection_state(g, a, b)]\n",
    "    left = a\n",
    "    right = b\n",
    "    for i in range(num_iters):\n",
    "        mid = (left + right) / 2\n",
    "        if g(left) * g(mid) < 0:\n",
    "            right = mid\n",
    "        else:\n",
    "            left = mid\n",
    "        states.append(bisection_state(g, a, b, left, right))\n",
    "    return states"
   ]
  },
  {
   "cell_type": "code",
   "execution_count": 3,
   "metadata": {},
   "outputs": [
    {
     "data": {
      "application/vnd.jupyter.widget-view+json": {
       "model_id": "43876591688946c6a136fcd3c04e0b65",
       "version_major": 2,
       "version_minor": 0
      },
      "text/plain": [
       "Play(value=0, interval=500)"
      ]
     },
     "metadata": {},
     "output_type": "display_data"
    },
    {
     "data": {
      "application/vnd.jupyter.widget-view+json": {
       "model_id": "bb73013a4ff548528576c950eb36218d",
       "version_major": 2,
       "version_minor": 0
      },
      "text/plain": [
       "interactive(children=(IntSlider(value=0, description='step', max=10), Output()), _dom_classes=('widget-interac…"
      ]
     },
     "metadata": {},
     "output_type": "display_data"
    }
   ],
   "source": [
    "animate_list(bisection(f, -12, 3), play=True, interval=500);"
   ]
  },
  {
   "cell_type": "markdown",
   "metadata": {},
   "source": [
    "Также асимптотически оптимальным является <b><i>тернарный поиск</i></b>: для функции $f:[a;b]\\rightarrow\\mathbb{R}$, для которой известно, что $\\exists c\\in(a, b)$ что $f$ убывает на $[a;c]$ и возрастает на $[c;b]$, тернарный поиск находит точку минимума $c$ следующм образом:\n",
    "* Взять\n",
    "$$\n",
    "\\begin{array}{rl}\n",
    "\\gamma &=\\frac{1}{3}(2a+b) \\\\\n",
    "\\delta &=\\frac{1}{3}(a+2b)\n",
    "\\end{array}\n",
    "$$\n",
    "* Если $f(\\gamma)<f(\\delta)$, то обновить $b\\leftarrow \\delta$ иначе $a\\leftarrow \\gamma$."
   ]
  },
  {
   "cell_type": "code",
   "execution_count": 4,
   "metadata": {},
   "outputs": [],
   "source": [
    "def h(x):\n",
    "    return 2 * (2 - x) ** 0.5 if x <= 2 else (x - 2) ** 0.7\n",
    "\n",
    "def trisection_state(f, a, b, left=None, right=None):\n",
    "    fig = plt.figure(figsize=(7, 7))\n",
    "    ax = fig.add_axes([0, 0, 1, 1])    \n",
    "    \n",
    "    ax.get_xaxis().set_visible(False)\n",
    "    ax.get_yaxis().set_visible(False)\n",
    "\n",
    "    for name, spine in ax.spines.items():\n",
    "        spine.set_visible(False)\n",
    "        spine.set_visible(False)\n",
    "        \n",
    "        \n",
    "    y_min = min([f(t) for t in np.arange(a, b, 0.1)])\n",
    "    y_max = max([f(t) for t in np.arange(a, b, 0.1)])\n",
    "    delta = (b - a) / 100\n",
    "    r = np.arange(a, b + delta, delta)\n",
    "    \n",
    "    ax.plot(r, [f(x) for x in r])\n",
    "    ax.plot([a, a], [y_min, y_max], color='black')\n",
    "    ax.plot([b, b], [y_min, y_max], color='black')\n",
    "    \n",
    "    if left is not None and right is not None:\n",
    "        if left != a:\n",
    "            ax.plot([left, left], [y_min, y_max], color='grey', linestyle='--')\n",
    "        if right != b:\n",
    "            ax.plot([right, right], [y_min, y_max], color='grey', linestyle='--')\n",
    "        ax.scatter([left, right, (2 * left + right) / 3, (left + 2 * right) / 3], \n",
    "                   [f(left), f(right), f((2 * left + right) / 3), f((left + 2 * right) / 3)],\n",
    "                   color='black')\n",
    "    else:\n",
    "        ax.scatter([a, b, (2 * a + b) / 3, (a + 2 * b) / 3],\n",
    "                   [f(a), f(b), f((2 * a + b) / 3), f((a + 2 * b) / 3)],\n",
    "                   color='black')\n",
    "        \n",
    "    \n",
    "    plt.close(fig)\n",
    "    return fig\n",
    "\n",
    "def trisection(g, a, b, num_iters=10):\n",
    "    states = [trisection_state(g, a, b)]\n",
    "    left = a\n",
    "    right = b\n",
    "    for i in range(num_iters):\n",
    "        gamma = (2 * left + right) / 3\n",
    "        delta = (left + 2 * right) / 3\n",
    "        if g(gamma) < g(delta):\n",
    "            right = delta\n",
    "        else:\n",
    "            left = gamma\n",
    "        states.append(trisection_state(g, a, b, left, right))\n",
    "    return states"
   ]
  },
  {
   "cell_type": "code",
   "execution_count": 5,
   "metadata": {},
   "outputs": [
    {
     "data": {
      "application/vnd.jupyter.widget-view+json": {
       "model_id": "a5dfb5b061c2463a85cd35593c1ba84b",
       "version_major": 2,
       "version_minor": 0
      },
      "text/plain": [
       "Play(value=0, interval=500)"
      ]
     },
     "metadata": {},
     "output_type": "display_data"
    },
    {
     "data": {
      "application/vnd.jupyter.widget-view+json": {
       "model_id": "5b3b2109c119487682463bd5892d7666",
       "version_major": 2,
       "version_minor": 0
      },
      "text/plain": [
       "interactive(children=(IntSlider(value=0, description='step', max=10), Output()), _dom_classes=('widget-interac…"
      ]
     },
     "metadata": {},
     "output_type": "display_data"
    }
   ],
   "source": [
    "animate_list(trisection(h, -1, 6), play=True, interval=500);"
   ]
  },
  {
   "cell_type": "markdown",
   "metadata": {},
   "source": [
    "Несмотря на то, что тернарный поиск все еще делает $\\mathcal{O}(\\log\\frac{b-a}{\\epsilon})$ итераций до достижения $\\epsilon$-точного решения показатель основание $\\frac{3}{2}$ в отличие от $2$ у бисекции. \n",
    "\n",
    "Как уже было сказано, множества с малеленьким диаметром обязательно имеют маленькую меру, но не наоборот, поэтому алгоритм, выдющий нам маленькое множество не гарантирует нам хорошее приближение с точки зрения близости к оптимуму. Однако множество с малым диаметром обычно имеет и малую меру (при условии ограниченности плотности).\n",
    "\n",
    "<b>Теорема. </b> Для общего алгоритма поиска в $\\mathbb{R}^m$ выполняется нижняя оценка\n",
    "$$\n",
    "\\max_{x\\in B_n}\\|x-x^*\\|=\\Omega\\left(2^{-\\frac{n}{m}}\\right)\n",
    "$$\n",
    "где $x^*$ -- искомая точка.\n",
    "\n",
    "<b>Доказательство</b>\n",
    "От противного: допустим, что есть такая схема, пусть $\\mu$ -- мера Лебега, тогда получаем, что\n",
    "$$\n",
    "    \\mu(B_n)\\leq \\mu(B(x^*, \\max_{x\\in B_n}\\|x-x^*\\|))=C[\\max_{x\\in B_n}\\|x-x^*\\|]^m\n",
    "$$\n",
    "что противоречит нижней оценке для числа итераций общей схемы."
   ]
  },
  {
   "cell_type": "markdown",
   "metadata": {},
   "source": [
    "## Непрерывные итеративные схемы\n",
    "В описанных выше методах мы оперировали с множествами, приближение из которого предполагается выбирать каким-нибудь сторонним способом. Теперь хотелось бы разобрать базовые вещи о методах, которые строят такие приближения непосредственно. В целом любой итеративный метод может быть представлен в виде\n",
    "$$\n",
    "x_{k+1}=g_k(x_k),\n",
    "$$\n",
    "где где $x\\in\\mathcal{D},~g_k:\\mathcal{D}\\rightarrow\\mathcal{D}$ -- некоторая функция преобразования приближения на шаге $k$. Пока что хотелось бы понять, какие свойства можно вычленить в случае $g_k\\equiv g$, т.е. когда текущее преобразование зависит только от текущего приближение, но не от номера шага. Одним из базовых свойств таких процессов является следующая теорема\n",
    "\n",
    "<b>Теорема (Банаха о сжимающем отображении)</b>. Пусть $(X, \\delta)$ -- непустое полное метрическое пространство (банахово пространство), $f$ -- сжимающее отображение на $X$ с константой $q<1$, т.е. \n",
    "$$\n",
    "\\delta(f(x), f(y))\\leq q\\delta(x, y)~~\\forall x, y\\in X,\n",
    "$$\n",
    "тогда \n",
    "* Существует единственная неподвижная точка $x^*\\in X$ функции на $f$ на $X$.\n",
    "* При любом $x_0\\in X$ рекуррентная последовательность $x_{k+1}=f(x_k)$ сходится к $x^*$.\n",
    "\n",
    "<b>Доказательство</b>. Для последовательности $x_{k+1}=f(x_k)$ имеет место\n",
    "$$\n",
    "\\delta(x_{k+1}, x_k)=\\delta(f(x_k), f(x_{k-1}))\\leq q\\delta(x_k, x_{k-1})\\leq\\ldots\\leq q^k\\delta(x_1, x_0).\n",
    "$$\n",
    "Таким образом, для любых $n<m$\n",
    "$$\n",
    "\\delta (x_n, x_m)\\leq \\sum_{i=n}^{m-1} \\delta(x_{i+1}, x_i)\\leq q^n\\sum_{i=0}^{m-n-1}q^i\\delta (x_1, x_0)\\leq \\frac{q^n}{1-q}\\delta(x_1, x_0),\n",
    "$$\n",
    "а значит $x_k$ -- фундаментальная последовательность (последовательность Коши). Так как $X$ полно, то $x_k$ имеет предел в $X$, обозначим его за $x^*$. Так как $x_k\\xrightarrow{\\delta}x^*$, то\n",
    "$$\n",
    "\\delta(f(x_k), f(x^*))\\leq q\\delta(x_k, x^*)\\rightarrow 0,\n",
    "$$\n",
    "т.е. $f(x_k)\\xrightarrow{\\delta}f(x^*)$. Переходя к пределу в рекуррентном соотношении получаем\n",
    "$$\n",
    "x^*=\\lim_{k\\rightarrow\\infty}x_{k+1}=\\lim_{k\\rightarrow\\infty}f(x_k)=f(x^*).\n",
    "$$\n",
    "Осталось показать единственность $x^*$: пусть $f(y)=y$, тогда\n",
    "$$\n",
    "\\delta(x^*, y)=\\delta (f(x^*), f(y))\\leq q\\delta(x^*, y)~\\Rightarrow~\\delta(x^*, y)=0~\\Rightarrow~x^*=y.~~\\#\n",
    "$$\n",
    "<i>Замечание</i>. Можно оценить скорость сходимости:\n",
    "$$\n",
    "\\delta(x_k, x^*)\\leq \\sum_{i=k}^\\infty \\delta(x_i, x_{i+1})\\leq q^k\\sum_{i=0}^\\infty q^i\\delta(x_1, x_0)=\\frac{q^k}{1-q}\\delta(x_1, x_0)\n",
    "$$\n",
    "<i>Пример 1</i>. Легко проверить, что для функции $f:\\mathbb{R}\\rightarrow\\mathbb{R}$, $f(x)=\\frac{x+\\sqrt{x^2+1}}{2}$ выполняется\n",
    "$$\n",
    "|f(x)-f(y)|<|x-y|,\n",
    "$$\n",
    "но при этом у $f$ нет неподвижных точек\n",
    "$$\n",
    "f(x)-x=\\frac{\\sqrt{x^2+1}-x}{2}> \\frac{|x|-x}{2}\\geq 0.\n",
    "$$"
   ]
  },
  {
   "cell_type": "code",
   "execution_count": 6,
   "metadata": {},
   "outputs": [
    {
     "data": {
      "image/png": "[encoded data removed]",
      "text/plain": [
       "<Figure size 576x576 with 1 Axes>"
      ]
     },
     "metadata": {
      "needs_background": "light"
     },
     "output_type": "display_data"
    }
   ],
   "source": [
    "def no_fixed_point_example(t):\n",
    "    return ((t ** 2 + 1) ** 0.5 + t) / 2\n",
    "\n",
    "r = np.arange(-1, 3, 0.1)\n",
    "plt.plot(r, [no_fixed_point_example(t) for t in r])\n",
    "plt.plot(r, r)\n",
    "plt.show()"
   ]
  },
  {
   "cell_type": "markdown",
   "metadata": {},
   "source": [
    "<i>Пример 2.</i> Допустим мы хотим решить систему\n",
    "$$\n",
    "Ax=b\n",
    "$$\n",
    "Если $D$ -- обратимая матрица, то эту ситему можно преобразовать следующим образом\n",
    "$$\n",
    "x=x-D(Ax-b)\n",
    "$$\n",
    "Теперь, если на основе этого равенства получить рекурентную последовательность с функцией перехода $g(x)=x-D(Ax-b)$ мы получаем последовательность\n",
    "$$\n",
    "x_{k+1}=x_k-D(Ax_k-b)\n",
    "$$\n",
    "Если мы сожем подобрать $D$ так, чтобы $g$ было сжимающим отображением, то эта последовательность будет сходиться к решению исходной системы\n",
    "$$\n",
    "g(x)-g(y)=x-D(Ax-b)-y+D(Ay-b)=(I-DA)(x-y)\n",
    "$$\n",
    "Таким образом если $\\|I-DA\\|<1$, то мы получим сходящуюся последовательность. Одним из наиболее распространненых случаев, как этого можно добиться, применяется к матрицам с построчным диагональным приобладанием:\n",
    "$$\n",
    "\\sum_{j\\neq i}^n|A_{ij}| < A_{ii}~~\\forall i\n",
    "$$\n",
    "тогда при $D=diag\\{A_{11}^{-1}, \\ldots, A_{mm}^{-1}\\}$ получаем\n",
    "$$\n",
    "\\|I-DA\\|_\\infty=\\max_i\\sum_{j=1}^mA_{ij}<1\n",
    "$$\n",
    "В качестве примера возьмем\n",
    "$$\n",
    "\\left(\n",
    "\\begin{matrix}\n",
    "1 & \\frac{1}{2} & \\frac{1}{4} \\\\\n",
    "\\frac{1}{2} & 1 & 0 \\\\\n",
    "0 & \\frac{1}{3} & 2\n",
    "\\end{matrix}\n",
    "\\right)\n",
    "\\left(\n",
    "\\begin{matrix}\n",
    "x \\\\ y \\\\ z\n",
    "\\end{matrix}\n",
    "\\right)\n",
    "=\n",
    "\\left(\n",
    "\\begin{matrix}\n",
    "1 \\\\ 0 \\\\ -1\n",
    "\\end{matrix}\n",
    "\\right)\n",
    "$$"
   ]
  },
  {
   "cell_type": "code",
   "execution_count": 7,
   "metadata": {},
   "outputs": [
    {
     "name": "stdout",
     "output_type": "stream",
     "text": [
      "[[1.  0.  0. ]\n",
      " [0.  1.  0. ]\n",
      " [0.  0.  0.5]]\n",
      "Infinity norm of I-DA: 0.75\n"
     ]
    }
   ],
   "source": [
    "A = np.array([\n",
    "    [1, 0.5, 0.25],\n",
    "    [0.5, 1, 0],\n",
    "    [0, 1 / 3, 2]\n",
    "])\n",
    "b = np.array([1, 0, -1])\n",
    "D = np.linalg.inv(np.diag(np.diag(A)))\n",
    "print(D)\n",
    "print('Infinity norm of I-DA:', np.linalg.norm(np.identity(3)- D @ A, ord=float('inf')))"
   ]
  },
  {
   "cell_type": "code",
   "execution_count": 8,
   "metadata": {},
   "outputs": [
    {
     "name": "stdout",
     "output_type": "stream",
     "text": [
      "x from iterations: [ 1.45945835 -0.72973043 -0.37837872]\n",
      "x from numpy solution [ 1.45945946 -0.72972973 -0.37837838]\n"
     ]
    },
    {
     "data": {
      "image/png": "[encoded data removed]",
      "text/plain": [
       "<Figure size 576x576 with 1 Axes>"
      ]
     },
     "metadata": {
      "needs_background": "light"
     },
     "output_type": "display_data"
    }
   ],
   "source": [
    "x = np.array([0, 0, 0])\n",
    "errors = [np.linalg.norm(A @ x - b)]\n",
    "for i in range(20):\n",
    "    x = x - D @ (A @ x - b)\n",
    "    errors.append(np.linalg.norm(A @ x - b))\n",
    "plt.plot([i for i in range(20)], [errors[i] for i in range(20)])\n",
    "plt.xlabel('Steps', fontsize=15)\n",
    "plt.ylabel('$\\|Ax_k-b\\|$', fontsize=15)\n",
    "print('x from iterations:', x)\n",
    "print('x from numpy solution', np.linalg.solve(A, b))\n",
    "plt.show()"
   ]
  },
  {
   "cell_type": "code",
   "execution_count": 9,
   "metadata": {},
   "outputs": [
    {
     "data": {
      "image/png": "[encoded data removed]",
      "text/plain": [
       "<Figure size 576x576 with 1 Axes>"
      ]
     },
     "metadata": {
      "needs_background": "light"
     },
     "output_type": "display_data"
    }
   ],
   "source": [
    "plt.plot([i for i in range(20)], [errors[i] for i in range(20)])\n",
    "plt.yscale('log')\n",
    "plt.xlabel('Steps', fontsize=15)\n",
    "plt.ylabel('$\\|Ax_k-b\\|$', fontsize=15)\n",
    "plt.show()"
   ]
  },
  {
   "cell_type": "markdown",
   "metadata": {},
   "source": [
    "<i>Пример 3.</i> Рекуррентная последовательность второго порядка\n",
    "$$\n",
    "x_{k+1}=\\frac{x_k+x_{k-1}}{2}\n",
    "$$\n",
    "может быть представлена в виде 2-мерной линейной последовательности первого порядка \n",
    "$$\n",
    "\\left(\n",
    "\\begin{matrix}\n",
    "x_{k+1} \\\\ x_k\n",
    "\\end{matrix}\n",
    "\\right)\n",
    "=\n",
    "\\left(\n",
    "\\begin{matrix}\n",
    "\\frac{1}{2} & \\frac{1}{2}\\\\\n",
    "1 & 0\n",
    "\\end{matrix}\n",
    "\\right)\n",
    "\\left(\n",
    "\\begin{matrix}\n",
    "x_k \\\\ x_{k-1}\n",
    "\\end{matrix}\n",
    "\\right)\n",
    "$$\n",
    "Эта матрица имеет собственные числа $\\left\\{1, -\\frac{1}{2}\\right\\}$, т.е. указанное отображение не является сжимающим, тем не менее последовательность имеет предел (без доказательства), давайте поймем каким он должен быть.\n",
    "\n",
    "Если последовательность сходится, то предел линеен по $x_0, x_1$, это можно обусловить например тем, что $y_k\\rightarrow y^*\\Leftrightarrow A^ky_0\\rightarrow y^*\\Leftrightarrow A_k\\rightarrow A^*$, где $y_k=(x_{k+1}, x_k)^T$. Таким образом можно заключить, что существуют $v=(v_1, v_2)^T$ такие, что\n",
    "$$\n",
    "\\lim x_k=v^Ty_0\n",
    "$$\n",
    "Очевидным образом $v^Ty_0=v^Ty_1$ так как $\\lim y_k=\\lim y_{k+1}$, таким образом \n",
    "$$\n",
    "v^TAy_0=v^Ty_0\n",
    "$$\n",
    "Если это выполняется для любого $y_0$, то $v$ -- левый собственный вектор $A$ для единицы, что дает нам $v_1=2v_2$. Далее поможет следующее соображение: очевидным образом для вектора $y_0=(z, z)$ выполняется\n",
    "$$\n",
    "Ay_0=y_0\n",
    "$$\n",
    "и следовательно предел также равен $y_0$, из чего можно заключить $v_0z+v_1z=z\\Rightarrow v_0+v_1=1$. Таким образом $v=(2/3, 1/3)^T$ и соответственно\n",
    "$$\n",
    "x_k\\rightarrow \\frac{x_0+2x_1}{3}\n",
    "$$\n",
    "Указанные рассуждения являются следтвиями теоремы <i>Перрона-Фробениуса</i>, которая утверждает в том числе, что $\\lim A^k=\\frac{1}{v^Tw}vw^T$, где $v, w$ -- левый и правый собственные вектора $A$, соответствующие с.ч. $1$."
   ]
  },
  {
   "cell_type": "code",
   "execution_count": 10,
   "metadata": {},
   "outputs": [
    {
     "name": "stdout",
     "output_type": "stream",
     "text": [
      "[[0.66666667 0.33333333]\n",
      " [0.66666667 0.33333333]]\n"
     ]
    }
   ],
   "source": [
    "A = np.array([\n",
    "    [1 / 2, 1 / 2],\n",
    "    [1, 0],\n",
    "])\n",
    "eigvals, right_eigvecs = np.linalg.eig(A)\n",
    "_, left_eigvecs = np.linalg.eig(A.T)\n",
    "v = right_eigvecs[:,0]\n",
    "w = left_eigvecs[:,0]\n",
    "P = np.outer(v, w.T) / (v.T@w)\n",
    "print(P)"
   ]
  },
  {
   "cell_type": "code",
   "execution_count": 11,
   "metadata": {},
   "outputs": [
    {
     "name": "stdout",
     "output_type": "stream",
     "text": [
      "Multiplyied by Perron operator: [0.33333333 0.33333333]\n",
      "After some iterations 0.33333333333333337 0.33333333333333337\n"
     ]
    }
   ],
   "source": [
    "x, y = (0, 1)\n",
    "print('Multiplyied by Perron operator:', P @ np.array((x, y)))\n",
    "for i in range(100):\n",
    "    x, y = ((x + y) / 2, x)\n",
    "\n",
    "print('After some iterations', x, y)"
   ]
  },
  {
   "cell_type": "code",
   "execution_count": 12,
   "metadata": {},
   "outputs": [
    {
     "data": {
      "application/vnd.jupyter.widget-view+json": {
       "model_id": "e6ecbad0e8654c4182137b9b378b1886",
       "version_major": 2,
       "version_minor": 0
      },
      "text/plain": [
       "Play(value=0, interval=400)"
      ]
     },
     "metadata": {},
     "output_type": "display_data"
    },
    {
     "data": {
      "application/vnd.jupyter.widget-view+json": {
       "model_id": "f228ea0e95c54baf92305140c8ed6ce0",
       "version_major": 2,
       "version_minor": 0
      },
      "text/plain": [
       "interactive(children=(IntSlider(value=0, description='step', max=10), Output()), _dom_classes=('widget-interac…"
      ]
     },
     "metadata": {},
     "output_type": "display_data"
    }
   ],
   "source": [
    "def recurrent_state(points):\n",
    "    fig = plt.figure(figsize=(7, 2))\n",
    "    ax = fig.add_axes([0, 0, 1, 1])    \n",
    "    \n",
    "    ax.get_xaxis().set_visible(False)\n",
    "    ax.get_yaxis().set_visible(False)\n",
    "\n",
    "    for name, spine in ax.spines.items():\n",
    "        spine.set_visible(False)\n",
    "        spine.set_visible(False)\n",
    "        \n",
    "    ax.set_ylim((-0.4, 0.05))\n",
    "        \n",
    "    delta = 0.1\n",
    "    r = np.arange(points[0], points[1] + delta, delta)\n",
    "    \n",
    "    ax.plot([points[0]])\n",
    "\n",
    "    ax.scatter(points[:-1], [0 for _ in points[:-1]], color='black')\n",
    "    ax.scatter(points[-1:], [0 for _ in points[-1:]], color='blue')\n",
    "    ax.scatter([(points[0] + 2 * points[1]) / 3], [0], color='red')\n",
    "    ax.text(points[0]-0.05, -0.1, \"$x_0$\", fontsize=25)\n",
    "    ax.text(points[1]-0.05, -0.1, \"$x_1$\", fontsize=25)\n",
    "    ax.text((points[0] + 2 * points[1]) / 3 - 0.1, -0.1, r\"$\\frac{1}{3}(x_0+2x_1)$\", fontsize=25)\n",
    "    \n",
    "    plt.close(fig)\n",
    "    return fig\n",
    "\n",
    "def recurrence(x0, x1, iters=10):\n",
    "    points = [x0, x1]\n",
    "    states = [recurrent_state(points)]\n",
    "    for i in range(iters):\n",
    "        points.append(0.5 * (points[-1] + points[-2]))\n",
    "        states.append(recurrent_state(points))\n",
    "    return states\n",
    "\n",
    "animate_list(recurrence(0, 1), play=True, interval=400);"
   ]
  },
  {
   "cell_type": "markdown",
   "metadata": {},
   "source": [
    "## Итеративные процессы с квадратичной сходимостью\n",
    "Процессы, которые достигают точности $\\epsilon$ за $\\mathcal{O}(\\log\\epsilon^{-1})$ обычно называют линейными, так как это эквивалентно\n",
    "$$\n",
    "\\frac{\\|x_{k+1}-x^*\\|}{\\|x_k-x^*\\|}\\leq q<1\n",
    "$$\n",
    "Некоторые процессы (в том числе и в оптимизации) имеют скорость более быструю скорость сходимости. Один из самых распространенных сублинейных процессов -- квадратичный, таким процессом является например метод Ньютона.\n",
    "\n",
    "<b>Определение.</b> Функция $f:X\\rightarrow Y$ называется непрерывной по Липшицу с константой $L$ если\n",
    "$$\n",
    "\\|f(x)-f(y)\\|\\leq L\\|x-y\\|.\n",
    "$$\n",
    "В частности функция сжимающая, если она непрервна по Липшицу с $L<1$.\n",
    "\n",
    "<b> Лемма (о функции с непрерывным по Липшицу градиентом) </b>. Дифференцируемая функция $f$ с непрерывным по Липшицу градиентом обладает свойствами\n",
    "$$\n",
    "(f(x)-f(y))^T(x-y)\\leq L\\|x-y\\|^2 \\\\\n",
    "f(y)\\leq f(x)+\\nabla f(x)^T(y-x)+\\frac{L}{2}\\|x-y\\|^2\n",
    "$$\n",
    "если при этом $f$ дважды дифференцируема, то\n",
    "$$\n",
    "\\nabla^2 f(x)\\preceq LI.\n",
    "$$\n",
    "<b>Доказательство</b>. Если $\\nabla f$ непрерывна по Липшицу, то\n",
    "$$\n",
    "(f(x)-f(y))^T(x-y)\\leq \\|f(x)-f(y)\\|\\|x-y\\|\\leq L\\|x-y\\|^2.\n",
    "$$\n",
    "Остальные неравенства доказываются по аналогии с сильной выпуклостью.\n",
    "\n",
    "<b>Теорема (о квадратичной сходимости).</b> Пусть $f:\\mathbb{R}^n\\rightarrow\\mathbb{R}^n$, $x^*=f(x^*)$, $f$ дифференцируема на $S=\\{||x-x^*||\\leq ||x_0-x^*||\\}$, $\\nabla f$ удовлетворяет условию Липшица с константой $L$, $\\nabla f(x^*)=0$ и $q=\\frac{L}{2}||x_0-x^*||<1$, то\n",
    "последовательность $x_{k+1}=f(x_k)$ удовлетворяет\n",
    "$$\n",
    "||x_k-x^*||\\leq \\frac{2}{L}q^{2^k}\n",
    "$$\n",
    "\n",
    "<b>Доказательство.</b>\n",
    "$$\n",
    "||x_1-x^*||= ||f(x_0)-f(x^*)||=||f(x_0)-f(x^*)-\\nabla f(x^*)^T(x_0-x^*)||\\leq \\frac{L}{2}||x_0-x^*||^2\n",
    "$$\n",
    "В частности $||x_1-x^*||\\leq q||x_0-x^*||$, т.е. $x_1\\in S$, что позволяет повторить оценку для $x_2, \\ldots$\n",
    "$$\n",
    "\\begin{array}{rl}\n",
    "||x_{k}-x^*||&\\leq \\frac{L}{2}||x_{k-1}-x^*||^2\\\\\n",
    "&\\leq \\left(\\frac{L}{2}\\right)^{2^k-1}||x_0-x^*||^{2^k}=\\frac{2}{L}q^{2^k}~~\\#\n",
    "\\end{array}\n",
    "$$\n",
    "\n",
    "<i>Пример</i>. В общем случае в методе Ньютона довольно трудно проверить условие $\\nabla f(x^*)=0$, но довольно легко проверяется например для вычисления $\\sqrt{a}$ последовательностью\n",
    "$$\n",
    "x_{k+1}=\\frac{1}{2}\\left(x_k+\\frac{a}{x_k}\\right)\n",
    "$$\n",
    "Во-первых,\n",
    "$$\n",
    "\\left.\\frac{d}{dx}\\left(x+\\frac{a}{x}\\right)\\right|_{x=\\sqrt{a}}=\\left.\\left(1-\\frac{a}{x^2}\\right)\\right|_{x=\\sqrt{a}}=0\n",
    "$$\n",
    "Во-вторых, $x_k$ возрастает, если $x_0\\in(0, \\sqrt{a})$, и убывает, если $x_0>\\sqrt{a}$. Из этого легко заключить, что последовательность сходится к $\\sqrt{a}$ при $x_0>0$. Так как $f'$ непрерывна на $(0, +\\infty)$, то она непрерывна по Липшицу на любом замкнутом отрезке $[a; b]\\subset(0, \\infty)$, а значит начиная с некоторого момента метод Ньютона имеет квадратичную сходимость"
   ]
  },
  {
   "cell_type": "code",
   "execution_count": 13,
   "metadata": {},
   "outputs": [
    {
     "data": {
      "image/png": "[encoded data removed]",
      "text/plain": [
       "<Figure size 576x576 with 1 Axes>"
      ]
     },
     "metadata": {
      "needs_background": "light"
     },
     "output_type": "display_data"
    }
   ],
   "source": [
    "def newton_sqrt(a, iters=10):\n",
    "    sequence = [a]\n",
    "    for i in range(iters):\n",
    "        sequence.append(0.5 * (sequence[-1] + a / sequence[-1]))\n",
    "    return sequence[-1], sequence\n",
    "\n",
    "a = 10\n",
    "root, estimates = newton_sqrt(a)\n",
    "plt.plot([i for i in range(len(estimates))], [x - a ** 0.5 for x in estimates])\n",
    "plt.xlabel('Step')\n",
    "plt.ylabel('Error')\n",
    "plt.show()"
   ]
  },
  {
   "cell_type": "code",
   "execution_count": 14,
   "metadata": {},
   "outputs": [
    {
     "data": {
      "image/png": "[encoded data removed]",
      "text/plain": [
       "<Figure size 576x576 with 1 Axes>"
      ]
     },
     "metadata": {
      "needs_background": "light"
     },
     "output_type": "display_data"
    }
   ],
   "source": [
    "plt.plot([i for i in range(len(estimates))], [x - a ** 0.5 for x in estimates])\n",
    "plt.xlabel('Step', fontsize=20)\n",
    "plt.yscale('log')\n",
    "plt.ylabel('Error in log scale', fontsize=20)\n",
    "plt.show()"
   ]
  }
 ],
 "metadata": {
  "kernelspec": {
   "display_name": "Python 3",
   "language": "python",
   "name": "python3"
  },
  "language_info": {
   "codemirror_mode": {
    "name": "ipython",
    "version": 3
   },
   "file_extension": ".py",
   "mimetype": "text/x-python",
   "name": "python",
   "nbconvert_exporter": "python",
   "pygments_lexer": "ipython3",
   "version": "3.8.3"
  }
 },
 "nbformat": 4,
 "nbformat_minor": 4
}
