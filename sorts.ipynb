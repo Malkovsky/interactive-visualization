{
 "cells": [
  {
   "cell_type": "code",
   "execution_count": 1,
   "metadata": {},
   "outputs": [],
   "source": [
    "array = [i for i in range(10)]"
   ]
  },
  {
   "cell_type": "code",
   "execution_count": 2,
   "metadata": {},
   "outputs": [],
   "source": [
    "import random"
   ]
  },
  {
   "cell_type": "code",
   "execution_count": 4,
   "metadata": {},
   "outputs": [],
   "source": [
    "random.shuffle(array)"
   ]
  },
  {
   "cell_type": "code",
   "execution_count": 32,
   "metadata": {},
   "outputs": [],
   "source": [
    "def num_iversions(array):\n",
    "    inv = 0\n",
    "    for i, x in enumerate(array):\n",
    "        for j in range(i):\n",
    "            if array[i] < array[j]:\n",
    "                inv += 1\n",
    "    return inv\n",
    "\n",
    "def num_cycles(permutation):\n",
    "    cycles = 0\n",
    "    visited = [False for p in permutation]\n",
    "    for i, p in enumerate(permutation):\n",
    "        if visited[i]:\n",
    "            continue\n",
    "        cycles += 1\n",
    "        visited[i] = True\n",
    "        j = p\n",
    "        while j != i:\n",
    "            visited[j] = True\n",
    "            j = permutation[j]\n",
    "    return cycles"
   ]
  },
  {
   "cell_type": "code",
   "execution_count": 34,
   "metadata": {},
   "outputs": [
    {
     "name": "stdout",
     "output_type": "stream",
     "text": [
      "[9, 8, 4, 5, 0, 7, 6, 2, 1, 3] 33 7\n",
      "[0, 1, 2, 3, 4, 5, 6, 7, 8, 9] 33 33\n"
     ]
    }
   ],
   "source": [
    "b = [i for i in array]\n",
    "print(b, num_iversions(b), len(b) - num_cycles(b))\n",
    "# Insertion sort\n",
    "swaps = 0\n",
    "comps = 0\n",
    "for i in range(len(b)):\n",
    "    j = i\n",
    "    while j > 0 and b[j] < b[j - 1]:\n",
    "        # swap\n",
    "        b[j - 1], b[j] = b[j], b[j - 1]\n",
    "        swaps += 1\n",
    "        comps += 1\n",
    "        j -= 1\n",
    "print(b, swaps, comps)"
   ]
  },
  {
   "cell_type": "code",
   "execution_count": 35,
   "metadata": {},
   "outputs": [
    {
     "name": "stdout",
     "output_type": "stream",
     "text": [
      "[9, 8, 4, 5, 0, 7, 6, 2, 1, 3] 33\n",
      "[0, 1, 2, 3, 4, 5, 6, 7, 8, 9] 33 45\n"
     ]
    }
   ],
   "source": [
    "b = [i for i in array]\n",
    "print(b, num_iversions(b))\n",
    "swaps = 0\n",
    "comps = 0\n",
    "for i in range(len(b)):\n",
    "    for j in range(len(b) - i - 1):\n",
    "        # comparison\n",
    "        comps += 1\n",
    "        if b[j] > b[j + 1]:\n",
    "            # swap\n",
    "            b[j + 1], b[j] = b[j], b[j + 1]\n",
    "            swaps += 1\n",
    "print(b, swaps, comps)"
   ]
  },
  {
   "cell_type": "code",
   "execution_count": 36,
   "metadata": {},
   "outputs": [
    {
     "name": "stdout",
     "output_type": "stream",
     "text": [
      "[9, 4, 2, 5, 0, 1, 7, 6, 8, 3] 7 45\n"
     ]
    }
   ],
   "source": [
    "b = [i for i in array]\n",
    "swaps = 0\n",
    "comps = 0\n",
    "for i in range(len(b)):\n",
    "    min_j = i\n",
    "    for j in range(len(b) - i - 1):\n",
    "        comps += 1\n",
    "        # Comparison\n",
    "        if b[min_j] > b[i + j]:\n",
    "            min_j = i + j\n",
    "    if min_j != i:\n",
    "        # swap\n",
    "        b[j], b[min_j] = b[min_j], b[j]\n",
    "        swaps += 1\n",
    "print(b, swaps, comps)"
   ]
  }
 ],
 "metadata": {
  "kernelspec": {
   "display_name": "Python 3",
   "language": "python",
   "name": "python3"
  },
  "language_info": {
   "codemirror_mode": {
    "name": "ipython",
    "version": 3
   },
   "file_extension": ".py",
   "mimetype": "text/x-python",
   "name": "python",
   "nbconvert_exporter": "python",
   "pygments_lexer": "ipython3",
   "version": "3.6.8"
  }
 },
 "nbformat": 4,
 "nbformat_minor": 2
}
