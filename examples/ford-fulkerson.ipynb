{
 "cells": [
  {
   "cell_type": "code",
   "execution_count": 1,
   "metadata": {},
   "outputs": [],
   "source": [
    "from interactive_visualization.animation_utils import animate_list\n",
    "from interactive_visualization.graph_utils.graph import Graph, Arc, Node"
   ]
  },
  {
   "cell_type": "code",
   "execution_count": 35,
   "metadata": {},
   "outputs": [],
   "source": [
    "def state(arcs, flows, current_augmenting_path = None, s_cut = None):\n",
    "    arcs_visualized = [Arc(u, v, f\"{f}/{c}\") for (u, v, c), f in zip(arcs, flows)]\n",
    "    \n",
    "    if current_augmenting_path is not None:\n",
    "        for arc_num in current_augmenting_path:\n",
    "            arcs_visualized[arc_num].SetColor('red')\n",
    "            \n",
    "    graph = Graph(arcs_visualized)\n",
    "    if s_cut is not None:\n",
    "        for node_id in s_cut:\n",
    "            graph.nodes[node_id].SetColor('blue')\n",
    "\n",
    "    if current_augmenting_path is not None:\n",
    "        for arc_num in current_augmenting_path:\n",
    "            graph.nodes[arcs[arc_num][0]].SetColor('red')\n",
    "            graph.nodes[arcs[arc_num][1]].SetColor('red')\n",
    "            \n",
    "            \n",
    "    return graph.Visualize()"
   ]
  },
  {
   "cell_type": "code",
   "execution_count": 39,
   "metadata": {},
   "outputs": [],
   "source": [
    "def ford_fulkerson(arcs, s, t):\n",
    "    states = []\n",
    "    n = max(max([arc[0] for arc in arcs]), max([arc[1] for arc in arcs])) + 1\n",
    "    arcs_adjacent = [[] for _ in range(n)]\n",
    "    for i, arc in enumerate(arcs):\n",
    "        arcs_adjacent[arc[0]].append(i)\n",
    "        arcs_adjacent[arc[1]].append(i)\n",
    "        \n",
    "    flows = [0 for _ in arcs]\n",
    "        \n",
    "    # DFS-like augmenting path procedure, it finds a path we can send flow along\n",
    "    # and the return value is the maximum possible flow amount to be send through this path\n",
    "    def find_augmenting_path(v, arcs_adjacent, arcs, flows, t, flow, visited, path):\n",
    "        if v == t:\n",
    "            return flow\n",
    "        if v in visited:\n",
    "            return 0\n",
    "        visited.add(v)\n",
    "        \n",
    "        for arc_num in arcs_adjacent[v]:\n",
    "            arc = arcs[arc_num]\n",
    "            new_flow = 0\n",
    "            if v == arc[0] and flows[arc_num] < arc[2]:\n",
    "                new_flow = find_augmenting_path(arc[1], arcs_adjacent, arcs, flows, t, min(flow, arc[2] - flows[arc_num]), visited, path)\n",
    "            elif v == arc[1] and flows[arc_num] > 0:\n",
    "                new_flow = find_augmenting_path(arc[0], arcs_adjacent, arcs, flows, t, min(flow, flows[arc_num]), visited, path)\n",
    "            if new_flow > 0:\n",
    "                path.append((arc_num, 1 if v == arc[0] else -1))\n",
    "                return new_flow\n",
    "        return 0\n",
    "    \n",
    "    max_cap = max([arc[2] for arc in arcs])\n",
    "    \n",
    "    visited = set()\n",
    "    path = []\n",
    "    # Here's the main loop, mainly while we find an augmenting path, augment flow through it\n",
    "    # with the maximum possible amount and continue\n",
    "    flow = find_augmenting_path(s, arcs_adjacent, arcs, flows, t, max_cap, visited, path)\n",
    "    states.append(state(arcs, flows))\n",
    "    while flow > 0:\n",
    "        for arc_num, direction in path:\n",
    "            flows[arc_num] += direction * flow\n",
    "        path = [arc_num for arc_num, _ in path]\n",
    "        states.append(state(arcs, flows, path, None))\n",
    "        visited = set()\n",
    "        path = []\n",
    "        flow = find_augmenting_path(s, arcs_adjacent, arcs, flows, t, max_cap, visited, path)\n",
    "        states.append(state(arcs, flows))\n",
    "        \n",
    "    states.append(state(arcs, flows, None, visited))\n",
    "    return animate_list(states, play=True, interval=1000)"
   ]
  },
  {
   "cell_type": "code",
   "execution_count": 40,
   "metadata": {},
   "outputs": [
    {
     "data": {
      "application/vnd.jupyter.widget-view+json": {
       "model_id": "3cdd1f0ad77b4c45bb5347e38b465ecc",
       "version_major": 2,
       "version_minor": 0
      },
      "text/plain": [
       "HBox(children=(Play(value=0, interval=1000), Button(description='Prev', style=ButtonStyle()), Button(descripti…"
      ]
     },
     "metadata": {},
     "output_type": "display_data"
    },
    {
     "data": {
      "application/vnd.jupyter.widget-view+json": {
       "model_id": "d4a17e5a8d9e472cb627ade0591eb055",
       "version_major": 2,
       "version_minor": 0
      },
      "text/plain": [
       "interactive(children=(IntSlider(value=0, description='step', max=7), Output()), _dom_classes=('widget-interact…"
      ]
     },
     "metadata": {},
     "output_type": "display_data"
    }
   ],
   "source": [
    "arcs = [\n",
    "    (0, 1, 7),\n",
    "    (0, 2, 4),\n",
    "    (1, 2, 4),\n",
    "    (1, 3, 2),\n",
    "    (2, 3, 8),\n",
    "    (2, 4, 4),\n",
    "    (3, 4, 4),\n",
    "    (3, 5, 5),\n",
    "    (4, 5, 12)\n",
    "]\n",
    "states = ford_fulkerson(arcs, 0, 5)"
   ]
  }
 ],
 "metadata": {
  "kernelspec": {
   "display_name": "Python 3",
   "language": "python",
   "name": "python3"
  },
  "language_info": {
   "codemirror_mode": {
    "name": "ipython",
    "version": 3
   },
   "file_extension": ".py",
   "mimetype": "text/x-python",
   "name": "python",
   "nbconvert_exporter": "python",
   "pygments_lexer": "ipython3",
   "version": "3.8.3"
  },
  "widgets": {
   "application/vnd.jupyter.widget-state+json": {
    "state": {
     "00ced7b800f2417b86885b1911eb38d4": {
      "model_module": "@jupyter-widgets/controls",
      "model_module_version": "1.5.0",
      "model_name": "ButtonStyleModel",
      "state": {}
     },
     "0234182c4f62454fa57828303a26215b": {
      "model_module": "@jupyter-widgets/base",
      "model_module_version": "1.2.0",
      "model_name": "LayoutModel",
      "state": {}
     },
     "02a3a1f587fc4020bcf00715c12c571d": {
      "model_module": "@jupyter-widgets/base",
      "model_module_version": "1.2.0",
      "model_name": "LayoutModel",
      "state": {}
     },
     "101dac518aa3447f8e049e23127585f6": {
      "model_module": "@jupyter-widgets/base",
      "model_module_version": "1.2.0",
      "model_name": "LayoutModel",
      "state": {}
     },
     "13fcf38d7c6e46e5b05d27b25aed7a2e": {
      "model_module": "@jupyter-widgets/base",
      "model_module_version": "1.2.0",
      "model_name": "LayoutModel",
      "state": {}
     },
     "158a39724c4e4e8783c99a5d4182ba17": {
      "model_module": "@jupyter-widgets/controls",
      "model_module_version": "1.5.0",
      "model_name": "ButtonStyleModel",
      "state": {}
     },
     "18b456184d85484495d8882cdd32580e": {
      "model_module": "@jupyter-widgets/controls",
      "model_module_version": "1.5.0",
      "model_name": "SliderStyleModel",
      "state": {
       "description_width": ""
      }
     },
     "1c21301823a14c28900cfd8b25e9c72a": {
      "model_module": "@jupyter-widgets/controls",
      "model_module_version": "1.5.0",
      "model_name": "IntSliderModel",
      "state": {
       "description": "step",
       "layout": "IPY_MODEL_dae6727fb26844edae515852a52e9969",
       "max": 7,
       "style": "IPY_MODEL_18b456184d85484495d8882cdd32580e"
      }
     },
     "25d808e833aa4f3a8e21d87fdc79f774": {
      "model_module": "@jupyter-widgets/base",
      "model_module_version": "1.2.0",
      "model_name": "LayoutModel",
      "state": {}
     },
     "288f57fc5b254986ac9764b91afdb6b5": {
      "model_module": "@jupyter-widgets/controls",
      "model_module_version": "1.5.0",
      "model_name": "ButtonStyleModel",
      "state": {}
     },
     "2c4587614ec3467c88a7d5a73079d96b": {
      "model_module": "@jupyter-widgets/controls",
      "model_module_version": "1.5.0",
      "model_name": "ButtonModel",
      "state": {
       "description": "Next",
       "layout": "IPY_MODEL_25d808e833aa4f3a8e21d87fdc79f774",
       "style": "IPY_MODEL_5f4a789cae6b472fa489f01c9d908e6c"
      }
     },
     "2c8f08ff69e84d75990c95633f78c4e8": {
      "model_module": "@jupyter-widgets/controls",
      "model_module_version": "1.5.0",
      "model_name": "ButtonModel",
      "state": {
       "description": "Prev",
       "layout": "IPY_MODEL_dd252ab59f6444a59aea34b7fd34204e",
       "style": "IPY_MODEL_cb56c88019c74e0e8ef9f8a2f7f0c2ad"
      }
     },
     "2ca5cc1dafd14bfd912739bc8e9e0279": {
      "model_module": "@jupyter-widgets/base",
      "model_module_version": "1.2.0",
      "model_name": "LayoutModel",
      "state": {}
     },
     "2d733803c3354c70a491ce6ce5802c78": {
      "model_module": "@jupyter-widgets/base",
      "model_module_version": "1.2.0",
      "model_name": "LayoutModel",
      "state": {}
     },
     "2f5b497f970843c2a2629bd681ccef52": {
      "model_module": "@jupyter-widgets/controls",
      "model_module_version": "1.5.0",
      "model_name": "ButtonModel",
      "state": {
       "description": "Prev",
       "layout": "IPY_MODEL_13fcf38d7c6e46e5b05d27b25aed7a2e",
       "style": "IPY_MODEL_89e7b8fef1eb4d1c8ff336cf9da3fa3d"
      }
     },
     "37ad8ef6f69f48b0a9513afb8e7a4290": {
      "model_module": "@jupyter-widgets/output",
      "model_module_version": "1.0.0",
      "model_name": "OutputModel",
      "state": {
       "layout": "IPY_MODEL_0234182c4f62454fa57828303a26215b",
       "outputs": [
        {
         "data": {
          "image/svg+xml": "<?xml version=\"1.0\" encoding=\"UTF-8\" standalone=\"no\"?>\r\n<!DOCTYPE svg PUBLIC \"-//W3C//DTD SVG 1.1//EN\"\r\n \"http://www.w3.org/Graphics/SVG/1.1/DTD/svg11.dtd\">\r\n<!-- Generated by graphviz version 2.44.2~dev.20200826.1453 (20200826.1453)\r\n -->\r\n<!-- Pages: 1 -->\r\n<svg width=\"495pt\" height=\"109pt\"\r\n viewBox=\"0.00 0.00 495.18 109.20\" xmlns=\"http://www.w3.org/2000/svg\" xmlns:xlink=\"http://www.w3.org/1999/xlink\">\r\n<g id=\"graph0\" class=\"graph\" transform=\"scale(1 1) rotate(0) translate(4 105.2)\">\r\n<polygon fill=\"white\" stroke=\"transparent\" points=\"-4,4 -4,-105.2 491.18,-105.2 491.18,4 -4,4\"/>\r\n<!-- 0 -->\r\n<g id=\"node1\" class=\"node\">\r\n<title>0</title>\r\n<ellipse fill=\"none\" stroke=\"red\" cx=\"22.1\" cy=\"-36.1\" rx=\"22.2\" ry=\"22.2\"/>\r\n<text text-anchor=\"middle\" x=\"22.1\" y=\"-32.4\" font-family=\"Times New Roman,serif\" font-size=\"14.00\">0/6</text>\r\n</g>\r\n<!-- 1 -->\r\n<g id=\"node2\" class=\"node\">\r\n<title>1</title>\r\n<ellipse fill=\"none\" stroke=\"green\" cx=\"109.29\" cy=\"-75.1\" rx=\"22.2\" ry=\"22.2\"/>\r\n<text text-anchor=\"middle\" x=\"109.29\" y=\"-71.4\" font-family=\"Times New Roman,serif\" font-size=\"14.00\">1/4</text>\r\n</g>\r\n<!-- 0&#45;&gt;1 -->\r\n<g id=\"edge1\" class=\"edge\">\r\n<title>0:&#45;&gt;1:</title>\r\n<path fill=\"none\" stroke=\"black\" d=\"M42.43,-44.95C53.35,-49.95 67.22,-56.3 79.41,-61.88\"/>\r\n<polygon fill=\"black\" stroke=\"black\" points=\"88.74,-66.15 77.78,-66.08 84.2,-64.07 79.65,-61.99 79.65,-61.99 79.65,-61.99 84.2,-64.07 81.52,-57.89 88.74,-66.15 88.74,-66.15\"/>\r\n<text text-anchor=\"middle\" x=\"65.7\" y=\"-59.9\" font-family=\"Times New Roman,serif\" font-size=\"14.00\">7</text>\r\n</g>\r\n<!-- 2 -->\r\n<g id=\"node3\" class=\"node\">\r\n<title>2</title>\r\n<ellipse fill=\"none\" stroke=\"red\" cx=\"196.49\" cy=\"-22.1\" rx=\"22.2\" ry=\"22.2\"/>\r\n<text text-anchor=\"middle\" x=\"196.49\" y=\"-18.4\" font-family=\"Times New Roman,serif\" font-size=\"14.00\">2/4</text>\r\n</g>\r\n<!-- 0&#45;&gt;2 -->\r\n<g id=\"edge2\" class=\"edge\">\r\n<title>0:&#45;&gt;2:</title>\r\n<path fill=\"none\" stroke=\"red\" d=\"M44.15,-33.56C56.65,-32.12 72.81,-30.35 87.2,-29.1 113.05,-26.85 142.43,-25 164.06,-23.76\"/>\r\n<polygon fill=\"red\" stroke=\"red\" points=\"174.3,-23.19 164.57,-28.24 169.31,-23.47 164.32,-23.75 164.32,-23.75 164.32,-23.75 169.31,-23.47 164.07,-19.25 174.3,-23.19 174.3,-23.19\"/>\r\n<text text-anchor=\"middle\" x=\"109.29\" y=\"-32.9\" font-family=\"Times New Roman,serif\" font-size=\"14.00\">4</text>\r\n</g>\r\n<!-- 1&#45;&gt;2 -->\r\n<g id=\"edge3\" class=\"edge\">\r\n<title>1:&#45;&gt;2:</title>\r\n<path fill=\"none\" stroke=\"black\" d=\"M128.36,-63.86C140.11,-56.55 155.63,-46.89 168.79,-38.71\"/>\r\n<polygon fill=\"black\" stroke=\"black\" points=\"177.45,-33.32 171.33,-42.43 173.2,-35.96 168.96,-38.6 168.96,-38.6 168.96,-38.6 173.2,-35.96 166.58,-34.78 177.45,-33.32 177.45,-33.32\"/>\r\n<text text-anchor=\"middle\" x=\"152.89\" y=\"-53.9\" font-family=\"Times New Roman,serif\" font-size=\"14.00\">4</text>\r\n</g>\r\n<!-- 3 -->\r\n<g id=\"node4\" class=\"node\">\r\n<title>3</title>\r\n<ellipse fill=\"none\" stroke=\"red\" cx=\"283.69\" cy=\"-79.1\" rx=\"22.2\" ry=\"22.2\"/>\r\n<text text-anchor=\"middle\" x=\"283.69\" y=\"-75.4\" font-family=\"Times New Roman,serif\" font-size=\"14.00\">3/2</text>\r\n</g>\r\n<!-- 1&#45;&gt;3 -->\r\n<g id=\"edge4\" class=\"edge\">\r\n<title>1:&#45;&gt;3:</title>\r\n<path fill=\"none\" stroke=\"black\" d=\"M131.43,-75.59C161.42,-76.28 216.51,-77.56 251.29,-78.37\"/>\r\n<polygon fill=\"black\" stroke=\"black\" points=\"261.37,-78.6 251.27,-82.87 256.38,-78.49 251.38,-78.37 251.38,-78.37 251.38,-78.37 256.38,-78.49 251.48,-73.87 261.37,-78.6 261.37,-78.6\"/>\r\n<text text-anchor=\"middle\" x=\"196.49\" y=\"-80.9\" font-family=\"Times New Roman,serif\" font-size=\"14.00\">2</text>\r\n</g>\r\n<!-- 2&#45;&gt;3 -->\r\n<g id=\"edge5\" class=\"edge\">\r\n<title>2:&#45;&gt;3:</title>\r\n<path fill=\"none\" stroke=\"red\" d=\"M215.56,-34.19C227.38,-42.1 243.04,-52.57 256.25,-61.41\"/>\r\n<polygon fill=\"red\" stroke=\"red\" points=\"264.94,-67.22 254.12,-65.4 260.78,-64.44 256.63,-61.66 256.63,-61.66 256.63,-61.66 260.78,-64.44 259.13,-57.92 264.94,-67.22 264.94,-67.22\"/>\r\n<text text-anchor=\"middle\" x=\"240.09\" y=\"-55.9\" font-family=\"Times New Roman,serif\" font-size=\"14.00\">8</text>\r\n</g>\r\n<!-- 4 -->\r\n<g id=\"node5\" class=\"node\">\r\n<title>4</title>\r\n<ellipse fill=\"none\" stroke=\"black\" cx=\"370.88\" cy=\"-25.1\" rx=\"22.2\" ry=\"22.2\"/>\r\n<text text-anchor=\"middle\" x=\"370.88\" y=\"-21.4\" font-family=\"Times New Roman,serif\" font-size=\"14.00\">4/6</text>\r\n</g>\r\n<!-- 2&#45;&gt;4 -->\r\n<g id=\"edge6\" class=\"edge\">\r\n<title>2:&#45;&gt;4:</title>\r\n<path fill=\"none\" stroke=\"black\" d=\"M218.63,-22.47C248.61,-22.99 303.71,-23.95 338.48,-24.55\"/>\r\n<polygon fill=\"black\" stroke=\"black\" points=\"348.57,-24.73 338.49,-29.05 343.57,-24.64 338.57,-24.55 338.57,-24.55 338.57,-24.55 343.57,-24.64 338.65,-20.05 348.57,-24.73 348.57,-24.73\"/>\r\n<text text-anchor=\"middle\" x=\"283.69\" y=\"-26.9\" font-family=\"Times New Roman,serif\" font-size=\"14.00\">4</text>\r\n</g>\r\n<!-- 3&#45;&gt;4 -->\r\n<g id=\"edge7\" class=\"edge\">\r\n<title>3:&#45;&gt;4:</title>\r\n<path fill=\"none\" stroke=\"black\" d=\"M302.58,-67.62C309.23,-63.36 316.84,-58.5 323.78,-54.1 329.9,-50.22 336.48,-46.07 342.71,-42.15\"/>\r\n<polygon fill=\"black\" stroke=\"black\" points=\"351.47,-36.64 345.4,-45.77 347.24,-39.3 343,-41.96 343,-41.96 343,-41.96 347.24,-39.3 340.61,-38.15 351.47,-36.64 351.47,-36.64\"/>\r\n<text text-anchor=\"middle\" x=\"327.28\" y=\"-57.9\" font-family=\"Times New Roman,serif\" font-size=\"14.00\">4</text>\r\n</g>\r\n<!-- 5 -->\r\n<g id=\"node6\" class=\"node\">\r\n<title>5</title>\r\n<ellipse fill=\"none\" stroke=\"red\" cx=\"465.08\" cy=\"-54.1\" rx=\"22.2\" ry=\"22.2\"/>\r\n<text text-anchor=\"middle\" x=\"465.08\" y=\"-50.4\" font-family=\"Times New Roman,serif\" font-size=\"14.00\">5/2</text>\r\n</g>\r\n<!-- 3&#45;&gt;5 -->\r\n<g id=\"edge8\" class=\"edge\">\r\n<title>3:&#45;&gt;5:</title>\r\n<path fill=\"none\" stroke=\"red\" d=\"M305.62,-76.38C333.05,-72.79 382.65,-66.21 424.98,-60.1 427.54,-59.73 430.19,-59.34 432.85,-58.94\"/>\r\n<polygon fill=\"red\" stroke=\"red\" points=\"442.99,-57.4 433.77,-63.35 438.04,-58.15 433.1,-58.9 433.1,-58.9 433.1,-58.9 438.04,-58.15 432.42,-54.45 442.99,-57.4 442.99,-57.4\"/>\r\n<text text-anchor=\"middle\" x=\"370.88\" y=\"-73.9\" font-family=\"Times New Roman,serif\" font-size=\"14.00\">5</text>\r\n</g>\r\n<!-- 4&#45;&gt;5 -->\r\n<g id=\"edge9\" class=\"edge\">\r\n<title>4:&#45;&gt;5:</title>\r\n<path fill=\"none\" stroke=\"black\" d=\"M392.34,-31.53C404.52,-35.36 420.19,-40.29 433.78,-44.57\"/>\r\n<polygon fill=\"black\" stroke=\"black\" points=\"443.67,-47.68 432.78,-48.97 438.9,-46.18 434.14,-44.68 434.14,-44.68 434.14,-44.68 438.9,-46.18 435.49,-40.39 443.67,-47.68 443.67,-47.68\"/>\r\n<text text-anchor=\"middle\" x=\"417.98\" y=\"-44.9\" font-family=\"Times New Roman,serif\" font-size=\"14.00\">12</text>\r\n</g>\r\n</g>\r\n</svg>\r\n",
          "text/plain": "<graphviz.dot.Digraph at 0x231cb0ad490>"
         },
         "metadata": {},
         "output_type": "display_data"
        }
       ]
      }
     },
     "3a0577ce84d6429fb0b6e9005f97ec10": {
      "model_module": "@jupyter-widgets/base",
      "model_module_version": "1.2.0",
      "model_name": "LayoutModel",
      "state": {}
     },
     "3a20002a86c14dfda25c4c761b53ef0f": {
      "model_module": "@jupyter-widgets/controls",
      "model_module_version": "1.5.0",
      "model_name": "SliderStyleModel",
      "state": {
       "description_width": ""
      }
     },
     "3c2bfca281b94900b04bcc0eea92d109": {
      "model_module": "@jupyter-widgets/output",
      "model_module_version": "1.0.0",
      "model_name": "OutputModel",
      "state": {
       "layout": "IPY_MODEL_2d733803c3354c70a491ce6ce5802c78",
       "outputs": [
        {
         "data": {
          "image/svg+xml": "<?xml version=\"1.0\" encoding=\"UTF-8\" standalone=\"no\"?>\r\n<!DOCTYPE svg PUBLIC \"-//W3C//DTD SVG 1.1//EN\"\r\n \"http://www.w3.org/Graphics/SVG/1.1/DTD/svg11.dtd\">\r\n<!-- Generated by graphviz version 2.44.2~dev.20200826.1453 (20200826.1453)\r\n -->\r\n<!-- Pages: 1 -->\r\n<svg width=\"501pt\" height=\"97pt\"\r\n viewBox=\"0.00 0.00 501.00 97.00\" xmlns=\"http://www.w3.org/2000/svg\" xmlns:xlink=\"http://www.w3.org/1999/xlink\">\r\n<g id=\"graph0\" class=\"graph\" transform=\"scale(1 1) rotate(0) translate(4 93)\">\r\n<polygon fill=\"white\" stroke=\"transparent\" points=\"-4,4 -4,-93 497,-93 497,4 -4,4\"/>\r\n<!-- 0 -->\r\n<g id=\"node1\" class=\"node\">\r\n<title>0</title>\r\n<ellipse fill=\"none\" stroke=\"green\" cx=\"18\" cy=\"-30\" rx=\"18\" ry=\"18\"/>\r\n<text text-anchor=\"middle\" x=\"18\" y=\"-26.3\" font-family=\"Times New Roman,serif\" font-size=\"14.00\">0</text>\r\n</g>\r\n<!-- 1 -->\r\n<g id=\"node2\" class=\"node\">\r\n<title>1</title>\r\n<ellipse fill=\"none\" stroke=\"green\" cx=\"108\" cy=\"-65\" rx=\"18\" ry=\"18\"/>\r\n<text text-anchor=\"middle\" x=\"108\" y=\"-61.3\" font-family=\"Times New Roman,serif\" font-size=\"14.00\">1</text>\r\n</g>\r\n<!-- 0&#45;&gt;1 -->\r\n<g id=\"edge1\" class=\"edge\">\r\n<title>0:&#45;&gt;1:</title>\r\n<path fill=\"none\" stroke=\"black\" d=\"M35.14,-36.42C48.04,-41.55 66.37,-48.84 81.29,-54.77\"/>\r\n<polygon fill=\"black\" stroke=\"black\" points=\"90.96,-58.62 80.01,-59.11 86.32,-56.77 81.67,-54.93 81.67,-54.93 81.67,-54.93 86.32,-56.77 83.33,-50.74 90.96,-58.62 90.96,-58.62\"/>\r\n<text text-anchor=\"middle\" x=\"63\" y=\"-53.8\" font-family=\"Times New Roman,serif\" font-size=\"14.00\">6/7</text>\r\n</g>\r\n<!-- 2 -->\r\n<g id=\"node3\" class=\"node\">\r\n<title>2</title>\r\n<ellipse fill=\"none\" stroke=\"black\" cx=\"198\" cy=\"-18\" rx=\"18\" ry=\"18\"/>\r\n<text text-anchor=\"middle\" x=\"198\" y=\"-14.3\" font-family=\"Times New Roman,serif\" font-size=\"14.00\">2</text>\r\n</g>\r\n<!-- 0&#45;&gt;2 -->\r\n<g id=\"edge2\" class=\"edge\">\r\n<title>0:&#45;&gt;2:</title>\r\n<path fill=\"none\" stroke=\"black\" d=\"M35.91,-28.09C50.28,-26.52 71.47,-24.35 90,-23 117.13,-21.03 148.2,-19.68 169.84,-18.88\"/>\r\n<polygon fill=\"black\" stroke=\"black\" points=\"179.93,-18.53 170.1,-23.38 174.94,-18.7 169.94,-18.88 169.94,-18.88 169.94,-18.88 174.94,-18.7 169.78,-14.38 179.93,-18.53 179.93,-18.53\"/>\r\n<text text-anchor=\"middle\" x=\"108\" y=\"-26.8\" font-family=\"Times New Roman,serif\" font-size=\"14.00\">4/4</text>\r\n</g>\r\n<!-- 1&#45;&gt;2 -->\r\n<g id=\"edge3\" class=\"edge\">\r\n<title>1:&#45;&gt;2:</title>\r\n<path fill=\"none\" stroke=\"black\" d=\"M124.33,-56.81C137.7,-49.67 157.34,-39.18 172.83,-30.91\"/>\r\n<polygon fill=\"black\" stroke=\"black\" points=\"181.85,-26.09 175.15,-34.77 177.44,-28.45 173.03,-30.8 173.03,-30.8 173.03,-30.8 177.44,-28.45 170.91,-26.83 181.85,-26.09 181.85,-26.09\"/>\r\n<text text-anchor=\"middle\" x=\"153\" y=\"-48.8\" font-family=\"Times New Roman,serif\" font-size=\"14.00\">4/4</text>\r\n</g>\r\n<!-- 3 -->\r\n<g id=\"node4\" class=\"node\">\r\n<title>3</title>\r\n<ellipse fill=\"none\" stroke=\"black\" cx=\"288\" cy=\"-71\" rx=\"18\" ry=\"18\"/>\r\n<text text-anchor=\"middle\" x=\"288\" y=\"-67.3\" font-family=\"Times New Roman,serif\" font-size=\"14.00\">3</text>\r\n</g>\r\n<!-- 1&#45;&gt;3 -->\r\n<g id=\"edge4\" class=\"edge\">\r\n<title>1:&#45;&gt;3:</title>\r\n<path fill=\"none\" stroke=\"black\" d=\"M126.07,-65.58C157.03,-66.62 222.7,-68.83 259.87,-70.09\"/>\r\n<polygon fill=\"black\" stroke=\"black\" points=\"269.98,-70.43 259.84,-74.59 264.99,-70.26 259.99,-70.09 259.99,-70.09 259.99,-70.09 264.99,-70.26 260.14,-65.59 269.98,-70.43 269.98,-70.43\"/>\r\n<text text-anchor=\"middle\" x=\"198\" y=\"-71.8\" font-family=\"Times New Roman,serif\" font-size=\"14.00\">2/2</text>\r\n</g>\r\n<!-- 2&#45;&gt;3 -->\r\n<g id=\"edge5\" class=\"edge\">\r\n<title>2:&#45;&gt;3:</title>\r\n<path fill=\"none\" stroke=\"black\" d=\"M214.46,-26.4C225.12,-32.27 239.55,-40.4 252,-48 255.95,-50.41 260.09,-53.04 264.09,-55.64\"/>\r\n<polygon fill=\"black\" stroke=\"black\" points=\"272.49,-61.16 261.67,-59.43 268.32,-58.41 264.14,-55.66 264.14,-55.66 264.14,-55.66 268.32,-58.41 266.61,-51.9 272.49,-61.16 272.49,-61.16\"/>\r\n<text text-anchor=\"middle\" x=\"243\" y=\"-51.8\" font-family=\"Times New Roman,serif\" font-size=\"14.00\">6/8</text>\r\n</g>\r\n<!-- 4 -->\r\n<g id=\"node5\" class=\"node\">\r\n<title>4</title>\r\n<ellipse fill=\"none\" stroke=\"black\" cx=\"378\" cy=\"-23\" rx=\"18\" ry=\"18\"/>\r\n<text text-anchor=\"middle\" x=\"378\" y=\"-19.3\" font-family=\"Times New Roman,serif\" font-size=\"14.00\">4</text>\r\n</g>\r\n<!-- 2&#45;&gt;4 -->\r\n<g id=\"edge6\" class=\"edge\">\r\n<title>2:&#45;&gt;4:</title>\r\n<path fill=\"none\" stroke=\"black\" d=\"M216.07,-18.48C247.03,-19.35 312.7,-21.19 349.87,-22.24\"/>\r\n<polygon fill=\"black\" stroke=\"black\" points=\"359.98,-22.52 349.86,-26.74 354.99,-22.38 349.99,-22.24 349.99,-22.24 349.99,-22.24 354.99,-22.38 350.11,-17.74 359.98,-22.52 359.98,-22.52\"/>\r\n<text text-anchor=\"middle\" x=\"288\" y=\"-23.8\" font-family=\"Times New Roman,serif\" font-size=\"14.00\">2/4</text>\r\n</g>\r\n<!-- 3&#45;&gt;4 -->\r\n<g id=\"edge7\" class=\"edge\">\r\n<title>3:&#45;&gt;4:</title>\r\n<path fill=\"none\" stroke=\"black\" d=\"M303.36,-60.91C309.58,-56.71 317.02,-51.91 324,-48 332.86,-43.03 342.88,-38.13 351.8,-34.01\"/>\r\n<polygon fill=\"black\" stroke=\"black\" points=\"360.94,-29.87 353.68,-38.09 356.38,-31.93 351.83,-33.99 351.83,-33.99 351.83,-33.99 356.38,-31.93 349.97,-29.89 360.94,-29.87 360.94,-29.87\"/>\r\n<text text-anchor=\"middle\" x=\"333\" y=\"-51.8\" font-family=\"Times New Roman,serif\" font-size=\"14.00\">4/4</text>\r\n</g>\r\n<!-- 5 -->\r\n<g id=\"node6\" class=\"node\">\r\n<title>5</title>\r\n<ellipse fill=\"none\" stroke=\"black\" cx=\"475\" cy=\"-50\" rx=\"18\" ry=\"18\"/>\r\n<text text-anchor=\"middle\" x=\"475\" y=\"-46.3\" font-family=\"Times New Roman,serif\" font-size=\"14.00\">5</text>\r\n</g>\r\n<!-- 3&#45;&gt;5 -->\r\n<g id=\"edge8\" class=\"edge\">\r\n<title>3:&#45;&gt;5:</title>\r\n<path fill=\"none\" stroke=\"black\" d=\"M306.19,-70.28C334.17,-68.95 391.23,-65.49 439,-58 441.73,-57.57 444.57,-57.05 447.4,-56.48\"/>\r\n<polygon fill=\"black\" stroke=\"black\" points=\"457.36,-54.3 448.55,-60.84 452.47,-55.37 447.59,-56.44 447.59,-56.44 447.59,-56.44 452.47,-55.37 446.62,-52.05 457.36,-54.3 457.36,-54.3\"/>\r\n<text text-anchor=\"middle\" x=\"378\" y=\"-69.8\" font-family=\"Times New Roman,serif\" font-size=\"14.00\">4/5</text>\r\n</g>\r\n<!-- 4&#45;&gt;5 -->\r\n<g id=\"edge9\" class=\"edge\">\r\n<title>4:&#45;&gt;5:</title>\r\n<path fill=\"none\" stroke=\"black\" d=\"M395.55,-27.7C409.9,-31.78 430.93,-37.76 447.6,-42.5\"/>\r\n<polygon fill=\"black\" stroke=\"black\" points=\"457.32,-45.26 446.47,-46.85 452.51,-43.89 447.7,-42.53 447.7,-42.53 447.7,-42.53 452.51,-43.89 448.93,-38.2 457.32,-45.26 457.32,-45.26\"/>\r\n<text text-anchor=\"middle\" x=\"426.5\" y=\"-42.8\" font-family=\"Times New Roman,serif\" font-size=\"14.00\">6/12</text>\r\n</g>\r\n</g>\r\n</svg>\r\n",
          "text/plain": "<graphviz.dot.Digraph at 0x231cb0e71f0>"
         },
         "metadata": {},
         "output_type": "display_data"
        }
       ]
      }
     },
     "3cdd1f0ad77b4c45bb5347e38b465ecc": {
      "model_module": "@jupyter-widgets/controls",
      "model_module_version": "1.5.0",
      "model_name": "HBoxModel",
      "state": {
       "children": [
        "IPY_MODEL_7e21102072014b56a2db1f8cb8679928",
        "IPY_MODEL_5aa7e5c9217f435da40e33c1967f6274",
        "IPY_MODEL_5465467da74a42d985699cc860133b6a"
       ],
       "layout": "IPY_MODEL_d83b811ff4c94a27ad56416302b5bc77"
      }
     },
     "4530e1412f714ea58ce315f67ac90628": {
      "model_module": "@jupyter-widgets/output",
      "model_module_version": "1.0.0",
      "model_name": "OutputModel",
      "state": {
       "layout": "IPY_MODEL_f6aa9e8256204510841d3531b32130a6",
       "outputs": [
        {
         "data": {
          "image/svg+xml": "<?xml version=\"1.0\" encoding=\"UTF-8\" standalone=\"no\"?>\r\n<!DOCTYPE svg PUBLIC \"-//W3C//DTD SVG 1.1//EN\"\r\n \"http://www.w3.org/Graphics/SVG/1.1/DTD/svg11.dtd\">\r\n<!-- Generated by graphviz version 2.44.2~dev.20200826.1453 (20200826.1453)\r\n -->\r\n<!-- Pages: 1 -->\r\n<svg width=\"501pt\" height=\"97pt\"\r\n viewBox=\"0.00 0.00 501.00 97.00\" xmlns=\"http://www.w3.org/2000/svg\" xmlns:xlink=\"http://www.w3.org/1999/xlink\">\r\n<g id=\"graph0\" class=\"graph\" transform=\"scale(1 1) rotate(0) translate(4 93)\">\r\n<polygon fill=\"white\" stroke=\"transparent\" points=\"-4,4 -4,-93 497,-93 497,4 -4,4\"/>\r\n<!-- 0 -->\r\n<g id=\"node1\" class=\"node\">\r\n<title>0</title>\r\n<ellipse fill=\"none\" stroke=\"black\" cx=\"18\" cy=\"-30\" rx=\"18\" ry=\"18\"/>\r\n<text text-anchor=\"middle\" x=\"18\" y=\"-26.3\" font-family=\"Times New Roman,serif\" font-size=\"14.00\">0</text>\r\n</g>\r\n<!-- 1 -->\r\n<g id=\"node2\" class=\"node\">\r\n<title>1</title>\r\n<ellipse fill=\"none\" stroke=\"black\" cx=\"108\" cy=\"-65\" rx=\"18\" ry=\"18\"/>\r\n<text text-anchor=\"middle\" x=\"108\" y=\"-61.3\" font-family=\"Times New Roman,serif\" font-size=\"14.00\">1</text>\r\n</g>\r\n<!-- 0&#45;&gt;1 -->\r\n<g id=\"edge1\" class=\"edge\">\r\n<title>0:&#45;&gt;1:</title>\r\n<path fill=\"none\" stroke=\"black\" d=\"M35.14,-36.42C48.04,-41.55 66.37,-48.84 81.29,-54.77\"/>\r\n<polygon fill=\"black\" stroke=\"black\" points=\"90.96,-58.62 80.01,-59.11 86.32,-56.77 81.67,-54.93 81.67,-54.93 81.67,-54.93 86.32,-56.77 83.33,-50.74 90.96,-58.62 90.96,-58.62\"/>\r\n<text text-anchor=\"middle\" x=\"63\" y=\"-53.8\" font-family=\"Times New Roman,serif\" font-size=\"14.00\">0/7</text>\r\n</g>\r\n<!-- 2 -->\r\n<g id=\"node3\" class=\"node\">\r\n<title>2</title>\r\n<ellipse fill=\"none\" stroke=\"black\" cx=\"198\" cy=\"-18\" rx=\"18\" ry=\"18\"/>\r\n<text text-anchor=\"middle\" x=\"198\" y=\"-14.3\" font-family=\"Times New Roman,serif\" font-size=\"14.00\">2</text>\r\n</g>\r\n<!-- 0&#45;&gt;2 -->\r\n<g id=\"edge2\" class=\"edge\">\r\n<title>0:&#45;&gt;2:</title>\r\n<path fill=\"none\" stroke=\"black\" d=\"M35.91,-28.09C50.28,-26.52 71.47,-24.35 90,-23 117.13,-21.03 148.2,-19.68 169.84,-18.88\"/>\r\n<polygon fill=\"black\" stroke=\"black\" points=\"179.93,-18.53 170.1,-23.38 174.94,-18.7 169.94,-18.88 169.94,-18.88 169.94,-18.88 174.94,-18.7 169.78,-14.38 179.93,-18.53 179.93,-18.53\"/>\r\n<text text-anchor=\"middle\" x=\"108\" y=\"-26.8\" font-family=\"Times New Roman,serif\" font-size=\"14.00\">0/4</text>\r\n</g>\r\n<!-- 1&#45;&gt;2 -->\r\n<g id=\"edge3\" class=\"edge\">\r\n<title>1:&#45;&gt;2:</title>\r\n<path fill=\"none\" stroke=\"black\" d=\"M124.33,-56.81C137.7,-49.67 157.34,-39.18 172.83,-30.91\"/>\r\n<polygon fill=\"black\" stroke=\"black\" points=\"181.85,-26.09 175.15,-34.77 177.44,-28.45 173.03,-30.8 173.03,-30.8 173.03,-30.8 177.44,-28.45 170.91,-26.83 181.85,-26.09 181.85,-26.09\"/>\r\n<text text-anchor=\"middle\" x=\"153\" y=\"-48.8\" font-family=\"Times New Roman,serif\" font-size=\"14.00\">0/4</text>\r\n</g>\r\n<!-- 3 -->\r\n<g id=\"node4\" class=\"node\">\r\n<title>3</title>\r\n<ellipse fill=\"none\" stroke=\"black\" cx=\"288\" cy=\"-71\" rx=\"18\" ry=\"18\"/>\r\n<text text-anchor=\"middle\" x=\"288\" y=\"-67.3\" font-family=\"Times New Roman,serif\" font-size=\"14.00\">3</text>\r\n</g>\r\n<!-- 1&#45;&gt;3 -->\r\n<g id=\"edge4\" class=\"edge\">\r\n<title>1:&#45;&gt;3:</title>\r\n<path fill=\"none\" stroke=\"black\" d=\"M126.07,-65.58C157.03,-66.62 222.7,-68.83 259.87,-70.09\"/>\r\n<polygon fill=\"black\" stroke=\"black\" points=\"269.98,-70.43 259.84,-74.59 264.99,-70.26 259.99,-70.09 259.99,-70.09 259.99,-70.09 264.99,-70.26 260.14,-65.59 269.98,-70.43 269.98,-70.43\"/>\r\n<text text-anchor=\"middle\" x=\"198\" y=\"-71.8\" font-family=\"Times New Roman,serif\" font-size=\"14.00\">0/2</text>\r\n</g>\r\n<!-- 2&#45;&gt;3 -->\r\n<g id=\"edge5\" class=\"edge\">\r\n<title>2:&#45;&gt;3:</title>\r\n<path fill=\"none\" stroke=\"black\" d=\"M214.46,-26.4C225.12,-32.27 239.55,-40.4 252,-48 255.95,-50.41 260.09,-53.04 264.09,-55.64\"/>\r\n<polygon fill=\"black\" stroke=\"black\" points=\"272.49,-61.16 261.67,-59.43 268.32,-58.41 264.14,-55.66 264.14,-55.66 264.14,-55.66 268.32,-58.41 266.61,-51.9 272.49,-61.16 272.49,-61.16\"/>\r\n<text text-anchor=\"middle\" x=\"243\" y=\"-51.8\" font-family=\"Times New Roman,serif\" font-size=\"14.00\">0/8</text>\r\n</g>\r\n<!-- 4 -->\r\n<g id=\"node5\" class=\"node\">\r\n<title>4</title>\r\n<ellipse fill=\"none\" stroke=\"black\" cx=\"378\" cy=\"-23\" rx=\"18\" ry=\"18\"/>\r\n<text text-anchor=\"middle\" x=\"378\" y=\"-19.3\" font-family=\"Times New Roman,serif\" font-size=\"14.00\">4</text>\r\n</g>\r\n<!-- 2&#45;&gt;4 -->\r\n<g id=\"edge6\" class=\"edge\">\r\n<title>2:&#45;&gt;4:</title>\r\n<path fill=\"none\" stroke=\"black\" d=\"M216.07,-18.48C247.03,-19.35 312.7,-21.19 349.87,-22.24\"/>\r\n<polygon fill=\"black\" stroke=\"black\" points=\"359.98,-22.52 349.86,-26.74 354.99,-22.38 349.99,-22.24 349.99,-22.24 349.99,-22.24 354.99,-22.38 350.11,-17.74 359.98,-22.52 359.98,-22.52\"/>\r\n<text text-anchor=\"middle\" x=\"288\" y=\"-23.8\" font-family=\"Times New Roman,serif\" font-size=\"14.00\">0/4</text>\r\n</g>\r\n<!-- 3&#45;&gt;4 -->\r\n<g id=\"edge7\" class=\"edge\">\r\n<title>3:&#45;&gt;4:</title>\r\n<path fill=\"none\" stroke=\"black\" d=\"M303.36,-60.91C309.58,-56.71 317.02,-51.91 324,-48 332.86,-43.03 342.88,-38.13 351.8,-34.01\"/>\r\n<polygon fill=\"black\" stroke=\"black\" points=\"360.94,-29.87 353.68,-38.09 356.38,-31.93 351.83,-33.99 351.83,-33.99 351.83,-33.99 356.38,-31.93 349.97,-29.89 360.94,-29.87 360.94,-29.87\"/>\r\n<text text-anchor=\"middle\" x=\"333\" y=\"-51.8\" font-family=\"Times New Roman,serif\" font-size=\"14.00\">0/4</text>\r\n</g>\r\n<!-- 5 -->\r\n<g id=\"node6\" class=\"node\">\r\n<title>5</title>\r\n<ellipse fill=\"none\" stroke=\"black\" cx=\"475\" cy=\"-50\" rx=\"18\" ry=\"18\"/>\r\n<text text-anchor=\"middle\" x=\"475\" y=\"-46.3\" font-family=\"Times New Roman,serif\" font-size=\"14.00\">5</text>\r\n</g>\r\n<!-- 3&#45;&gt;5 -->\r\n<g id=\"edge8\" class=\"edge\">\r\n<title>3:&#45;&gt;5:</title>\r\n<path fill=\"none\" stroke=\"black\" d=\"M306.19,-70.28C334.17,-68.95 391.23,-65.49 439,-58 441.73,-57.57 444.57,-57.05 447.4,-56.48\"/>\r\n<polygon fill=\"black\" stroke=\"black\" points=\"457.36,-54.3 448.55,-60.84 452.47,-55.37 447.59,-56.44 447.59,-56.44 447.59,-56.44 452.47,-55.37 446.62,-52.05 457.36,-54.3 457.36,-54.3\"/>\r\n<text text-anchor=\"middle\" x=\"378\" y=\"-69.8\" font-family=\"Times New Roman,serif\" font-size=\"14.00\">0/5</text>\r\n</g>\r\n<!-- 4&#45;&gt;5 -->\r\n<g id=\"edge9\" class=\"edge\">\r\n<title>4:&#45;&gt;5:</title>\r\n<path fill=\"none\" stroke=\"black\" d=\"M395.55,-27.7C409.9,-31.78 430.93,-37.76 447.6,-42.5\"/>\r\n<polygon fill=\"black\" stroke=\"black\" points=\"457.32,-45.26 446.47,-46.85 452.51,-43.89 447.7,-42.53 447.7,-42.53 447.7,-42.53 452.51,-43.89 448.93,-38.2 457.32,-45.26 457.32,-45.26\"/>\r\n<text text-anchor=\"middle\" x=\"426.5\" y=\"-42.8\" font-family=\"Times New Roman,serif\" font-size=\"14.00\">0/12</text>\r\n</g>\r\n</g>\r\n</svg>\r\n",
          "text/plain": "<graphviz.dot.Digraph at 0x231cb0addf0>"
         },
         "metadata": {},
         "output_type": "display_data"
        }
       ]
      }
     },
     "465b64691d6e4a67a9efc7748cf17f87": {
      "model_module": "@jupyter-widgets/base",
      "model_module_version": "1.2.0",
      "model_name": "LayoutModel",
      "state": {}
     },
     "47e191b350da4f309e61749fa7f3afb1": {
      "model_module": "@jupyter-widgets/controls",
      "model_module_version": "1.5.0",
      "model_name": "ButtonStyleModel",
      "state": {}
     },
     "4a66a9f1fb504020965e7fba09689057": {
      "model_module": "@jupyter-widgets/controls",
      "model_module_version": "1.5.0",
      "model_name": "IntSliderModel",
      "state": {
       "description": "step",
       "layout": "IPY_MODEL_82a275b6f74342f6b2efd1ceff3875cf",
       "max": 7,
       "style": "IPY_MODEL_a6dce1710934431594a8c87604b92ac6"
      }
     },
     "4c2024264ed2492aa23a9ae5e0120692": {
      "model_module": "@jupyter-widgets/base",
      "model_module_version": "1.2.0",
      "model_name": "LayoutModel",
      "state": {}
     },
     "4fc9864a4e4a475696d025221427e6b8": {
      "model_module": "@jupyter-widgets/controls",
      "model_module_version": "1.5.0",
      "model_name": "ButtonModel",
      "state": {
       "description": "Prev",
       "layout": "IPY_MODEL_101dac518aa3447f8e049e23127585f6",
       "style": "IPY_MODEL_158a39724c4e4e8783c99a5d4182ba17"
      }
     },
     "4fe9f882a42e4cbcaa372cd245e9f1c0": {
      "model_module": "@jupyter-widgets/controls",
      "model_module_version": "1.5.0",
      "model_name": "IntSliderModel",
      "state": {
       "description": "step",
       "layout": "IPY_MODEL_ce606012e0ff463c9660c3f66785418b",
       "max": 7,
       "style": "IPY_MODEL_52735361450f4e0585793a83c745c834",
       "value": 7
      }
     },
     "50a70beb17574721a3f5694ee5c50465": {
      "model_module": "@jupyter-widgets/base",
      "model_module_version": "1.2.0",
      "model_name": "LayoutModel",
      "state": {}
     },
     "51b1a8d6687a45478e0327cbd2e5bbd1": {
      "model_module": "@jupyter-widgets/base",
      "model_module_version": "1.2.0",
      "model_name": "LayoutModel",
      "state": {}
     },
     "52735361450f4e0585793a83c745c834": {
      "model_module": "@jupyter-widgets/controls",
      "model_module_version": "1.5.0",
      "model_name": "SliderStyleModel",
      "state": {
       "description_width": ""
      }
     },
     "5465467da74a42d985699cc860133b6a": {
      "model_module": "@jupyter-widgets/controls",
      "model_module_version": "1.5.0",
      "model_name": "ButtonModel",
      "state": {
       "description": "Next",
       "layout": "IPY_MODEL_b1d61409b63e494ba5e4cfde7ac1ccf5",
       "style": "IPY_MODEL_e70c826eb6e34c019caff82576b77b0e"
      }
     },
     "55a9c20928824f88aa1a2b8ab6575f59": {
      "model_module": "@jupyter-widgets/controls",
      "model_module_version": "1.5.0",
      "model_name": "VBoxModel",
      "state": {
       "_dom_classes": [
        "widget-interact"
       ],
       "children": [
        "IPY_MODEL_70d3e940c65f4c13be95341e594f6e7a",
        "IPY_MODEL_61c4b894584746f48911b2d80a1f0467"
       ],
       "layout": "IPY_MODEL_02a3a1f587fc4020bcf00715c12c571d"
      }
     },
     "59194e53a68d4cc2969e34e099bf2482": {
      "model_module": "@jupyter-widgets/base",
      "model_module_version": "1.2.0",
      "model_name": "LayoutModel",
      "state": {}
     },
     "59de68ae7c984dc196e24779e25e319f": {
      "model_module": "@jupyter-widgets/controls",
      "model_module_version": "1.5.0",
      "model_name": "ButtonModel",
      "state": {
       "description": "Next",
       "layout": "IPY_MODEL_51b1a8d6687a45478e0327cbd2e5bbd1",
       "style": "IPY_MODEL_47e191b350da4f309e61749fa7f3afb1"
      }
     },
     "5aa74e864a964b0db53ea264f07f510e": {
      "model_module": "@jupyter-widgets/controls",
      "model_module_version": "1.5.0",
      "model_name": "ButtonModel",
      "state": {
       "description": "Next",
       "layout": "IPY_MODEL_a823a5038f024db6b9e5da2d37b9155c",
       "style": "IPY_MODEL_00ced7b800f2417b86885b1911eb38d4"
      }
     },
     "5aa7e5c9217f435da40e33c1967f6274": {
      "model_module": "@jupyter-widgets/controls",
      "model_module_version": "1.5.0",
      "model_name": "ButtonModel",
      "state": {
       "description": "Prev",
       "layout": "IPY_MODEL_2ca5cc1dafd14bfd912739bc8e9e0279",
       "style": "IPY_MODEL_288f57fc5b254986ac9764b91afdb6b5"
      }
     },
     "5f4a789cae6b472fa489f01c9d908e6c": {
      "model_module": "@jupyter-widgets/controls",
      "model_module_version": "1.5.0",
      "model_name": "ButtonStyleModel",
      "state": {}
     },
     "61c4b894584746f48911b2d80a1f0467": {
      "model_module": "@jupyter-widgets/output",
      "model_module_version": "1.0.0",
      "model_name": "OutputModel",
      "state": {
       "layout": "IPY_MODEL_3a0577ce84d6429fb0b6e9005f97ec10",
       "outputs": [
        {
         "data": {
          "image/svg+xml": "<?xml version=\"1.0\" encoding=\"UTF-8\" standalone=\"no\"?>\r\n<!DOCTYPE svg PUBLIC \"-//W3C//DTD SVG 1.1//EN\"\r\n \"http://www.w3.org/Graphics/SVG/1.1/DTD/svg11.dtd\">\r\n<!-- Generated by graphviz version 2.44.2~dev.20200826.1453 (20200826.1453)\r\n -->\r\n<!-- Pages: 1 -->\r\n<svg width=\"501pt\" height=\"97pt\"\r\n viewBox=\"0.00 0.00 501.00 97.00\" xmlns=\"http://www.w3.org/2000/svg\" xmlns:xlink=\"http://www.w3.org/1999/xlink\">\r\n<g id=\"graph0\" class=\"graph\" transform=\"scale(1 1) rotate(0) translate(4 93)\">\r\n<polygon fill=\"white\" stroke=\"transparent\" points=\"-4,4 -4,-93 497,-93 497,4 -4,4\"/>\r\n<!-- 0 -->\r\n<g id=\"node1\" class=\"node\">\r\n<title>0</title>\r\n<ellipse fill=\"none\" stroke=\"red\" cx=\"18\" cy=\"-30\" rx=\"18\" ry=\"18\"/>\r\n<text text-anchor=\"middle\" x=\"18\" y=\"-26.3\" font-family=\"Times New Roman,serif\" font-size=\"14.00\">0</text>\r\n</g>\r\n<!-- 1 -->\r\n<g id=\"node2\" class=\"node\">\r\n<title>1</title>\r\n<ellipse fill=\"none\" stroke=\"black\" cx=\"108\" cy=\"-65\" rx=\"18\" ry=\"18\"/>\r\n<text text-anchor=\"middle\" x=\"108\" y=\"-61.3\" font-family=\"Times New Roman,serif\" font-size=\"14.00\">1</text>\r\n</g>\r\n<!-- 0&#45;&gt;1 -->\r\n<g id=\"edge1\" class=\"edge\">\r\n<title>0:&#45;&gt;1:</title>\r\n<path fill=\"none\" stroke=\"black\" d=\"M35.14,-36.42C48.04,-41.55 66.37,-48.84 81.29,-54.77\"/>\r\n<polygon fill=\"black\" stroke=\"black\" points=\"90.96,-58.62 80.01,-59.11 86.32,-56.77 81.67,-54.93 81.67,-54.93 81.67,-54.93 86.32,-56.77 83.33,-50.74 90.96,-58.62 90.96,-58.62\"/>\r\n<text text-anchor=\"middle\" x=\"63\" y=\"-53.8\" font-family=\"Times New Roman,serif\" font-size=\"14.00\">6/7</text>\r\n</g>\r\n<!-- 2 -->\r\n<g id=\"node3\" class=\"node\">\r\n<title>2</title>\r\n<ellipse fill=\"none\" stroke=\"red\" cx=\"198\" cy=\"-18\" rx=\"18\" ry=\"18\"/>\r\n<text text-anchor=\"middle\" x=\"198\" y=\"-14.3\" font-family=\"Times New Roman,serif\" font-size=\"14.00\">2</text>\r\n</g>\r\n<!-- 0&#45;&gt;2 -->\r\n<g id=\"edge2\" class=\"edge\">\r\n<title>0:&#45;&gt;2:</title>\r\n<path fill=\"none\" stroke=\"red\" d=\"M35.91,-28.09C50.28,-26.52 71.47,-24.35 90,-23 117.13,-21.03 148.2,-19.68 169.84,-18.88\"/>\r\n<polygon fill=\"red\" stroke=\"red\" points=\"179.93,-18.53 170.1,-23.38 174.94,-18.7 169.94,-18.88 169.94,-18.88 169.94,-18.88 174.94,-18.7 169.78,-14.38 179.93,-18.53 179.93,-18.53\"/>\r\n<text text-anchor=\"middle\" x=\"108\" y=\"-26.8\" font-family=\"Times New Roman,serif\" font-size=\"14.00\">4/4</text>\r\n</g>\r\n<!-- 1&#45;&gt;2 -->\r\n<g id=\"edge3\" class=\"edge\">\r\n<title>1:&#45;&gt;2:</title>\r\n<path fill=\"none\" stroke=\"black\" d=\"M124.33,-56.81C137.7,-49.67 157.34,-39.18 172.83,-30.91\"/>\r\n<polygon fill=\"black\" stroke=\"black\" points=\"181.85,-26.09 175.15,-34.77 177.44,-28.45 173.03,-30.8 173.03,-30.8 173.03,-30.8 177.44,-28.45 170.91,-26.83 181.85,-26.09 181.85,-26.09\"/>\r\n<text text-anchor=\"middle\" x=\"153\" y=\"-48.8\" font-family=\"Times New Roman,serif\" font-size=\"14.00\">4/4</text>\r\n</g>\r\n<!-- 3 -->\r\n<g id=\"node4\" class=\"node\">\r\n<title>3</title>\r\n<ellipse fill=\"none\" stroke=\"red\" cx=\"288\" cy=\"-71\" rx=\"18\" ry=\"18\"/>\r\n<text text-anchor=\"middle\" x=\"288\" y=\"-67.3\" font-family=\"Times New Roman,serif\" font-size=\"14.00\">3</text>\r\n</g>\r\n<!-- 1&#45;&gt;3 -->\r\n<g id=\"edge4\" class=\"edge\">\r\n<title>1:&#45;&gt;3:</title>\r\n<path fill=\"none\" stroke=\"black\" d=\"M126.07,-65.58C157.03,-66.62 222.7,-68.83 259.87,-70.09\"/>\r\n<polygon fill=\"black\" stroke=\"black\" points=\"269.98,-70.43 259.84,-74.59 264.99,-70.26 259.99,-70.09 259.99,-70.09 259.99,-70.09 264.99,-70.26 260.14,-65.59 269.98,-70.43 269.98,-70.43\"/>\r\n<text text-anchor=\"middle\" x=\"198\" y=\"-71.8\" font-family=\"Times New Roman,serif\" font-size=\"14.00\">2/2</text>\r\n</g>\r\n<!-- 2&#45;&gt;3 -->\r\n<g id=\"edge5\" class=\"edge\">\r\n<title>2:&#45;&gt;3:</title>\r\n<path fill=\"none\" stroke=\"red\" d=\"M214.46,-26.4C225.12,-32.27 239.55,-40.4 252,-48 255.95,-50.41 260.09,-53.04 264.09,-55.64\"/>\r\n<polygon fill=\"red\" stroke=\"red\" points=\"272.49,-61.16 261.67,-59.43 268.32,-58.41 264.14,-55.66 264.14,-55.66 264.14,-55.66 268.32,-58.41 266.61,-51.9 272.49,-61.16 272.49,-61.16\"/>\r\n<text text-anchor=\"middle\" x=\"243\" y=\"-51.8\" font-family=\"Times New Roman,serif\" font-size=\"14.00\">6/8</text>\r\n</g>\r\n<!-- 4 -->\r\n<g id=\"node5\" class=\"node\">\r\n<title>4</title>\r\n<ellipse fill=\"none\" stroke=\"black\" cx=\"378\" cy=\"-23\" rx=\"18\" ry=\"18\"/>\r\n<text text-anchor=\"middle\" x=\"378\" y=\"-19.3\" font-family=\"Times New Roman,serif\" font-size=\"14.00\">4</text>\r\n</g>\r\n<!-- 2&#45;&gt;4 -->\r\n<g id=\"edge6\" class=\"edge\">\r\n<title>2:&#45;&gt;4:</title>\r\n<path fill=\"none\" stroke=\"black\" d=\"M216.07,-18.48C247.03,-19.35 312.7,-21.19 349.87,-22.24\"/>\r\n<polygon fill=\"black\" stroke=\"black\" points=\"359.98,-22.52 349.86,-26.74 354.99,-22.38 349.99,-22.24 349.99,-22.24 349.99,-22.24 354.99,-22.38 350.11,-17.74 359.98,-22.52 359.98,-22.52\"/>\r\n<text text-anchor=\"middle\" x=\"288\" y=\"-23.8\" font-family=\"Times New Roman,serif\" font-size=\"14.00\">2/4</text>\r\n</g>\r\n<!-- 3&#45;&gt;4 -->\r\n<g id=\"edge7\" class=\"edge\">\r\n<title>3:&#45;&gt;4:</title>\r\n<path fill=\"none\" stroke=\"black\" d=\"M303.36,-60.91C309.58,-56.71 317.02,-51.91 324,-48 332.86,-43.03 342.88,-38.13 351.8,-34.01\"/>\r\n<polygon fill=\"black\" stroke=\"black\" points=\"360.94,-29.87 353.68,-38.09 356.38,-31.93 351.83,-33.99 351.83,-33.99 351.83,-33.99 356.38,-31.93 349.97,-29.89 360.94,-29.87 360.94,-29.87\"/>\r\n<text text-anchor=\"middle\" x=\"333\" y=\"-51.8\" font-family=\"Times New Roman,serif\" font-size=\"14.00\">4/4</text>\r\n</g>\r\n<!-- 5 -->\r\n<g id=\"node6\" class=\"node\">\r\n<title>5</title>\r\n<ellipse fill=\"none\" stroke=\"red\" cx=\"475\" cy=\"-50\" rx=\"18\" ry=\"18\"/>\r\n<text text-anchor=\"middle\" x=\"475\" y=\"-46.3\" font-family=\"Times New Roman,serif\" font-size=\"14.00\">5</text>\r\n</g>\r\n<!-- 3&#45;&gt;5 -->\r\n<g id=\"edge8\" class=\"edge\">\r\n<title>3:&#45;&gt;5:</title>\r\n<path fill=\"none\" stroke=\"red\" d=\"M306.19,-70.28C334.17,-68.95 391.23,-65.49 439,-58 441.73,-57.57 444.57,-57.05 447.4,-56.48\"/>\r\n<polygon fill=\"red\" stroke=\"red\" points=\"457.36,-54.3 448.55,-60.84 452.47,-55.37 447.59,-56.44 447.59,-56.44 447.59,-56.44 452.47,-55.37 446.62,-52.05 457.36,-54.3 457.36,-54.3\"/>\r\n<text text-anchor=\"middle\" x=\"378\" y=\"-69.8\" font-family=\"Times New Roman,serif\" font-size=\"14.00\">4/5</text>\r\n</g>\r\n<!-- 4&#45;&gt;5 -->\r\n<g id=\"edge9\" class=\"edge\">\r\n<title>4:&#45;&gt;5:</title>\r\n<path fill=\"none\" stroke=\"black\" d=\"M395.55,-27.7C409.9,-31.78 430.93,-37.76 447.6,-42.5\"/>\r\n<polygon fill=\"black\" stroke=\"black\" points=\"457.32,-45.26 446.47,-46.85 452.51,-43.89 447.7,-42.53 447.7,-42.53 447.7,-42.53 452.51,-43.89 448.93,-38.2 457.32,-45.26 457.32,-45.26\"/>\r\n<text text-anchor=\"middle\" x=\"426.5\" y=\"-42.8\" font-family=\"Times New Roman,serif\" font-size=\"14.00\">6/12</text>\r\n</g>\r\n</g>\r\n</svg>\r\n",
          "text/plain": "<graphviz.dot.Digraph at 0x231cb0a90a0>"
         },
         "metadata": {},
         "output_type": "display_data"
        }
       ]
      }
     },
     "64c3265a243843edb623452b0f3eadbf": {
      "model_module": "@jupyter-widgets/controls",
      "model_module_version": "1.5.0",
      "model_name": "DescriptionStyleModel",
      "state": {
       "description_width": ""
      }
     },
     "6819e855ed164dc69b3965266e56fb09": {
      "model_module": "@jupyter-widgets/base",
      "model_module_version": "1.2.0",
      "model_name": "LayoutModel",
      "state": {}
     },
     "6b0a413c8ac248558b08af8e55f283e4": {
      "model_module": "@jupyter-widgets/controls",
      "model_module_version": "1.5.0",
      "model_name": "LinkModel",
      "state": {
       "source": [
        "IPY_MODEL_7e21102072014b56a2db1f8cb8679928",
        "value"
       ],
       "target": [
        "IPY_MODEL_1c21301823a14c28900cfd8b25e9c72a",
        "value"
       ]
      }
     },
     "6d982e492d2e419a9c84d4c4eb171866": {
      "model_module": "@jupyter-widgets/base",
      "model_module_version": "1.2.0",
      "model_name": "LayoutModel",
      "state": {}
     },
     "70d3e940c65f4c13be95341e594f6e7a": {
      "model_module": "@jupyter-widgets/controls",
      "model_module_version": "1.5.0",
      "model_name": "IntSliderModel",
      "state": {
       "description": "step",
       "layout": "IPY_MODEL_dae2c2907fc64caebed3704eeaf8f29a",
       "max": 7,
       "style": "IPY_MODEL_d6db1113ead149b2ac019b650bf0ffd8",
       "value": 5
      }
     },
     "72810f8d05494d1db4442692f80c1b35": {
      "model_module": "@jupyter-widgets/output",
      "model_module_version": "1.0.0",
      "model_name": "OutputModel",
      "state": {
       "layout": "IPY_MODEL_465b64691d6e4a67a9efc7748cf17f87",
       "outputs": [
        {
         "data": {
          "image/svg+xml": "<?xml version=\"1.0\" encoding=\"UTF-8\" standalone=\"no\"?>\r\n<!DOCTYPE svg PUBLIC \"-//W3C//DTD SVG 1.1//EN\"\r\n \"http://www.w3.org/Graphics/SVG/1.1/DTD/svg11.dtd\">\r\n<!-- Generated by graphviz version 2.44.2~dev.20200826.1453 (20200826.1453)\r\n -->\r\n<!-- Pages: 1 -->\r\n<svg width=\"501pt\" height=\"97pt\"\r\n viewBox=\"0.00 0.00 501.00 97.00\" xmlns=\"http://www.w3.org/2000/svg\" xmlns:xlink=\"http://www.w3.org/1999/xlink\">\r\n<g id=\"graph0\" class=\"graph\" transform=\"scale(1 1) rotate(0) translate(4 93)\">\r\n<polygon fill=\"white\" stroke=\"transparent\" points=\"-4,4 -4,-93 497,-93 497,4 -4,4\"/>\r\n<!-- 0 -->\r\n<g id=\"node1\" class=\"node\">\r\n<title>0</title>\r\n<ellipse fill=\"none\" stroke=\"black\" cx=\"18\" cy=\"-30\" rx=\"18\" ry=\"18\"/>\r\n<text text-anchor=\"middle\" x=\"18\" y=\"-26.3\" font-family=\"Times New Roman,serif\" font-size=\"14.00\">0</text>\r\n</g>\r\n<!-- 1 -->\r\n<g id=\"node2\" class=\"node\">\r\n<title>1</title>\r\n<ellipse fill=\"none\" stroke=\"black\" cx=\"108\" cy=\"-65\" rx=\"18\" ry=\"18\"/>\r\n<text text-anchor=\"middle\" x=\"108\" y=\"-61.3\" font-family=\"Times New Roman,serif\" font-size=\"14.00\">1</text>\r\n</g>\r\n<!-- 0&#45;&gt;1 -->\r\n<g id=\"edge1\" class=\"edge\">\r\n<title>0:&#45;&gt;1:</title>\r\n<path fill=\"none\" stroke=\"black\" d=\"M35.14,-36.42C48.04,-41.55 66.37,-48.84 81.29,-54.77\"/>\r\n<polygon fill=\"black\" stroke=\"black\" points=\"90.96,-58.62 80.01,-59.11 86.32,-56.77 81.67,-54.93 81.67,-54.93 81.67,-54.93 86.32,-56.77 83.33,-50.74 90.96,-58.62 90.96,-58.62\"/>\r\n<text text-anchor=\"middle\" x=\"63\" y=\"-53.8\" font-family=\"Times New Roman,serif\" font-size=\"14.00\">0/7</text>\r\n</g>\r\n<!-- 2 -->\r\n<g id=\"node3\" class=\"node\">\r\n<title>2</title>\r\n<ellipse fill=\"none\" stroke=\"black\" cx=\"198\" cy=\"-18\" rx=\"18\" ry=\"18\"/>\r\n<text text-anchor=\"middle\" x=\"198\" y=\"-14.3\" font-family=\"Times New Roman,serif\" font-size=\"14.00\">2</text>\r\n</g>\r\n<!-- 0&#45;&gt;2 -->\r\n<g id=\"edge2\" class=\"edge\">\r\n<title>0:&#45;&gt;2:</title>\r\n<path fill=\"none\" stroke=\"black\" d=\"M35.91,-28.09C50.28,-26.52 71.47,-24.35 90,-23 117.13,-21.03 148.2,-19.68 169.84,-18.88\"/>\r\n<polygon fill=\"black\" stroke=\"black\" points=\"179.93,-18.53 170.1,-23.38 174.94,-18.7 169.94,-18.88 169.94,-18.88 169.94,-18.88 174.94,-18.7 169.78,-14.38 179.93,-18.53 179.93,-18.53\"/>\r\n<text text-anchor=\"middle\" x=\"108\" y=\"-26.8\" font-family=\"Times New Roman,serif\" font-size=\"14.00\">0/4</text>\r\n</g>\r\n<!-- 1&#45;&gt;2 -->\r\n<g id=\"edge3\" class=\"edge\">\r\n<title>1:&#45;&gt;2:</title>\r\n<path fill=\"none\" stroke=\"black\" d=\"M124.33,-56.81C137.7,-49.67 157.34,-39.18 172.83,-30.91\"/>\r\n<polygon fill=\"black\" stroke=\"black\" points=\"181.85,-26.09 175.15,-34.77 177.44,-28.45 173.03,-30.8 173.03,-30.8 173.03,-30.8 177.44,-28.45 170.91,-26.83 181.85,-26.09 181.85,-26.09\"/>\r\n<text text-anchor=\"middle\" x=\"153\" y=\"-48.8\" font-family=\"Times New Roman,serif\" font-size=\"14.00\">0/4</text>\r\n</g>\r\n<!-- 3 -->\r\n<g id=\"node4\" class=\"node\">\r\n<title>3</title>\r\n<ellipse fill=\"none\" stroke=\"black\" cx=\"288\" cy=\"-71\" rx=\"18\" ry=\"18\"/>\r\n<text text-anchor=\"middle\" x=\"288\" y=\"-67.3\" font-family=\"Times New Roman,serif\" font-size=\"14.00\">3</text>\r\n</g>\r\n<!-- 1&#45;&gt;3 -->\r\n<g id=\"edge4\" class=\"edge\">\r\n<title>1:&#45;&gt;3:</title>\r\n<path fill=\"none\" stroke=\"black\" d=\"M126.07,-65.58C157.03,-66.62 222.7,-68.83 259.87,-70.09\"/>\r\n<polygon fill=\"black\" stroke=\"black\" points=\"269.98,-70.43 259.84,-74.59 264.99,-70.26 259.99,-70.09 259.99,-70.09 259.99,-70.09 264.99,-70.26 260.14,-65.59 269.98,-70.43 269.98,-70.43\"/>\r\n<text text-anchor=\"middle\" x=\"198\" y=\"-71.8\" font-family=\"Times New Roman,serif\" font-size=\"14.00\">0/2</text>\r\n</g>\r\n<!-- 2&#45;&gt;3 -->\r\n<g id=\"edge5\" class=\"edge\">\r\n<title>2:&#45;&gt;3:</title>\r\n<path fill=\"none\" stroke=\"black\" d=\"M214.46,-26.4C225.12,-32.27 239.55,-40.4 252,-48 255.95,-50.41 260.09,-53.04 264.09,-55.64\"/>\r\n<polygon fill=\"black\" stroke=\"black\" points=\"272.49,-61.16 261.67,-59.43 268.32,-58.41 264.14,-55.66 264.14,-55.66 264.14,-55.66 268.32,-58.41 266.61,-51.9 272.49,-61.16 272.49,-61.16\"/>\r\n<text text-anchor=\"middle\" x=\"243\" y=\"-51.8\" font-family=\"Times New Roman,serif\" font-size=\"14.00\">0/8</text>\r\n</g>\r\n<!-- 4 -->\r\n<g id=\"node5\" class=\"node\">\r\n<title>4</title>\r\n<ellipse fill=\"none\" stroke=\"black\" cx=\"378\" cy=\"-23\" rx=\"18\" ry=\"18\"/>\r\n<text text-anchor=\"middle\" x=\"378\" y=\"-19.3\" font-family=\"Times New Roman,serif\" font-size=\"14.00\">4</text>\r\n</g>\r\n<!-- 2&#45;&gt;4 -->\r\n<g id=\"edge6\" class=\"edge\">\r\n<title>2:&#45;&gt;4:</title>\r\n<path fill=\"none\" stroke=\"black\" d=\"M216.07,-18.48C247.03,-19.35 312.7,-21.19 349.87,-22.24\"/>\r\n<polygon fill=\"black\" stroke=\"black\" points=\"359.98,-22.52 349.86,-26.74 354.99,-22.38 349.99,-22.24 349.99,-22.24 349.99,-22.24 354.99,-22.38 350.11,-17.74 359.98,-22.52 359.98,-22.52\"/>\r\n<text text-anchor=\"middle\" x=\"288\" y=\"-23.8\" font-family=\"Times New Roman,serif\" font-size=\"14.00\">0/4</text>\r\n</g>\r\n<!-- 3&#45;&gt;4 -->\r\n<g id=\"edge7\" class=\"edge\">\r\n<title>3:&#45;&gt;4:</title>\r\n<path fill=\"none\" stroke=\"black\" d=\"M303.36,-60.91C309.58,-56.71 317.02,-51.91 324,-48 332.86,-43.03 342.88,-38.13 351.8,-34.01\"/>\r\n<polygon fill=\"black\" stroke=\"black\" points=\"360.94,-29.87 353.68,-38.09 356.38,-31.93 351.83,-33.99 351.83,-33.99 351.83,-33.99 356.38,-31.93 349.97,-29.89 360.94,-29.87 360.94,-29.87\"/>\r\n<text text-anchor=\"middle\" x=\"333\" y=\"-51.8\" font-family=\"Times New Roman,serif\" font-size=\"14.00\">0/4</text>\r\n</g>\r\n<!-- 5 -->\r\n<g id=\"node6\" class=\"node\">\r\n<title>5</title>\r\n<ellipse fill=\"none\" stroke=\"black\" cx=\"475\" cy=\"-50\" rx=\"18\" ry=\"18\"/>\r\n<text text-anchor=\"middle\" x=\"475\" y=\"-46.3\" font-family=\"Times New Roman,serif\" font-size=\"14.00\">5</text>\r\n</g>\r\n<!-- 3&#45;&gt;5 -->\r\n<g id=\"edge8\" class=\"edge\">\r\n<title>3:&#45;&gt;5:</title>\r\n<path fill=\"none\" stroke=\"black\" d=\"M306.19,-70.28C334.17,-68.95 391.23,-65.49 439,-58 441.73,-57.57 444.57,-57.05 447.4,-56.48\"/>\r\n<polygon fill=\"black\" stroke=\"black\" points=\"457.36,-54.3 448.55,-60.84 452.47,-55.37 447.59,-56.44 447.59,-56.44 447.59,-56.44 452.47,-55.37 446.62,-52.05 457.36,-54.3 457.36,-54.3\"/>\r\n<text text-anchor=\"middle\" x=\"378\" y=\"-69.8\" font-family=\"Times New Roman,serif\" font-size=\"14.00\">0/5</text>\r\n</g>\r\n<!-- 4&#45;&gt;5 -->\r\n<g id=\"edge9\" class=\"edge\">\r\n<title>4:&#45;&gt;5:</title>\r\n<path fill=\"none\" stroke=\"black\" d=\"M395.55,-27.7C409.9,-31.78 430.93,-37.76 447.6,-42.5\"/>\r\n<polygon fill=\"black\" stroke=\"black\" points=\"457.32,-45.26 446.47,-46.85 452.51,-43.89 447.7,-42.53 447.7,-42.53 447.7,-42.53 452.51,-43.89 448.93,-38.2 457.32,-45.26 457.32,-45.26\"/>\r\n<text text-anchor=\"middle\" x=\"426.5\" y=\"-42.8\" font-family=\"Times New Roman,serif\" font-size=\"14.00\">0/12</text>\r\n</g>\r\n</g>\r\n</svg>\r\n",
          "text/plain": "<graphviz.dot.Digraph at 0x231cb1349d0>"
         },
         "metadata": {},
         "output_type": "display_data"
        }
       ]
      }
     },
     "73ae0fcea48745c5bd2ac61a714db7eb": {
      "model_module": "@jupyter-widgets/base",
      "model_module_version": "1.2.0",
      "model_name": "LayoutModel",
      "state": {}
     },
     "76766f95539948708f05010c8af5683a": {
      "model_module": "@jupyter-widgets/controls",
      "model_module_version": "1.5.0",
      "model_name": "PlayModel",
      "state": {
       "interval": 200,
       "layout": "IPY_MODEL_92ab8e74285c40048643f55910914018",
       "style": "IPY_MODEL_e178c692a40e40c68d3163e6fac55dd1"
      }
     },
     "7cc3b7294eed492eaa45a9f1291f9e66": {
      "model_module": "@jupyter-widgets/base",
      "model_module_version": "1.2.0",
      "model_name": "LayoutModel",
      "state": {}
     },
     "7e21102072014b56a2db1f8cb8679928": {
      "model_module": "@jupyter-widgets/controls",
      "model_module_version": "1.5.0",
      "model_name": "PlayModel",
      "state": {
       "interval": 1000,
       "layout": "IPY_MODEL_6d982e492d2e419a9c84d4c4eb171866",
       "style": "IPY_MODEL_64c3265a243843edb623452b0f3eadbf"
      }
     },
     "82a275b6f74342f6b2efd1ceff3875cf": {
      "model_module": "@jupyter-widgets/base",
      "model_module_version": "1.2.0",
      "model_name": "LayoutModel",
      "state": {}
     },
     "89e7b8fef1eb4d1c8ff336cf9da3fa3d": {
      "model_module": "@jupyter-widgets/controls",
      "model_module_version": "1.5.0",
      "model_name": "ButtonStyleModel",
      "state": {}
     },
     "8d3d1519b5424c7abfaeda8af23bc642": {
      "model_module": "@jupyter-widgets/controls",
      "model_module_version": "1.5.0",
      "model_name": "ButtonModel",
      "state": {
       "description": "Next",
       "layout": "IPY_MODEL_7cc3b7294eed492eaa45a9f1291f9e66",
       "style": "IPY_MODEL_a1bf2cf23834429ab47761fec8508659"
      }
     },
     "91a767206ee64922a38783c043a465c5": {
      "model_module": "@jupyter-widgets/controls",
      "model_module_version": "1.5.0",
      "model_name": "HBoxModel",
      "state": {
       "children": [
        "IPY_MODEL_d89fb2d2d1b645e891625a39f35f7dd9",
        "IPY_MODEL_59de68ae7c984dc196e24779e25e319f"
       ],
       "layout": "IPY_MODEL_93228d690f144f95903463bcab7d44b9"
      }
     },
     "92ab8e74285c40048643f55910914018": {
      "model_module": "@jupyter-widgets/base",
      "model_module_version": "1.2.0",
      "model_name": "LayoutModel",
      "state": {}
     },
     "93228d690f144f95903463bcab7d44b9": {
      "model_module": "@jupyter-widgets/base",
      "model_module_version": "1.2.0",
      "model_name": "LayoutModel",
      "state": {}
     },
     "9584e974cc894604b658fa699e75c638": {
      "model_module": "@jupyter-widgets/base",
      "model_module_version": "1.2.0",
      "model_name": "LayoutModel",
      "state": {}
     },
     "9798520ed1a644f0a79b1b66f00bd9ef": {
      "model_module": "@jupyter-widgets/controls",
      "model_module_version": "1.5.0",
      "model_name": "ButtonStyleModel",
      "state": {}
     },
     "9b59856bf0064d91933c5cf4a81003e6": {
      "model_module": "@jupyter-widgets/base",
      "model_module_version": "1.2.0",
      "model_name": "LayoutModel",
      "state": {}
     },
     "9b7a43a28d7c49fc94348a4fcdf8f229": {
      "model_module": "@jupyter-widgets/controls",
      "model_module_version": "1.5.0",
      "model_name": "ButtonModel",
      "state": {
       "description": "Prev",
       "layout": "IPY_MODEL_59194e53a68d4cc2969e34e099bf2482",
       "style": "IPY_MODEL_ee886c96ab1c4e91bf9aa7554770baac"
      }
     },
     "a0fcc61e60c34178b34de827104bdea8": {
      "model_module": "@jupyter-widgets/base",
      "model_module_version": "1.2.0",
      "model_name": "LayoutModel",
      "state": {}
     },
     "a1bf2cf23834429ab47761fec8508659": {
      "model_module": "@jupyter-widgets/controls",
      "model_module_version": "1.5.0",
      "model_name": "ButtonStyleModel",
      "state": {}
     },
     "a6dce1710934431594a8c87604b92ac6": {
      "model_module": "@jupyter-widgets/controls",
      "model_module_version": "1.5.0",
      "model_name": "SliderStyleModel",
      "state": {
       "description_width": ""
      }
     },
     "a823a5038f024db6b9e5da2d37b9155c": {
      "model_module": "@jupyter-widgets/base",
      "model_module_version": "1.2.0",
      "model_name": "LayoutModel",
      "state": {}
     },
     "b1d61409b63e494ba5e4cfde7ac1ccf5": {
      "model_module": "@jupyter-widgets/base",
      "model_module_version": "1.2.0",
      "model_name": "LayoutModel",
      "state": {}
     },
     "b7c41a2eaa0846f28f8a7b9f698312f2": {
      "model_module": "@jupyter-widgets/controls",
      "model_module_version": "1.5.0",
      "model_name": "ButtonStyleModel",
      "state": {}
     },
     "bbd6b60711914b7f99818f398647f54b": {
      "model_module": "@jupyter-widgets/controls",
      "model_module_version": "1.5.0",
      "model_name": "VBoxModel",
      "state": {
       "_dom_classes": [
        "widget-interact"
       ],
       "children": [
        "IPY_MODEL_4a66a9f1fb504020965e7fba09689057",
        "IPY_MODEL_72810f8d05494d1db4442692f80c1b35"
       ],
       "layout": "IPY_MODEL_bfb32f3cd8bf4f48a7abf977ba2f9d96"
      }
     },
     "bd4f97bbb8c44320b12a7f894dd35abb": {
      "model_module": "@jupyter-widgets/controls",
      "model_module_version": "1.5.0",
      "model_name": "VBoxModel",
      "state": {
       "_dom_classes": [
        "widget-interact"
       ],
       "children": [
        "IPY_MODEL_e2bf06648bdd4196853d4f0d010c4c87",
        "IPY_MODEL_37ad8ef6f69f48b0a9513afb8e7a4290"
       ],
       "layout": "IPY_MODEL_9b59856bf0064d91933c5cf4a81003e6"
      }
     },
     "bfb32f3cd8bf4f48a7abf977ba2f9d96": {
      "model_module": "@jupyter-widgets/base",
      "model_module_version": "1.2.0",
      "model_name": "LayoutModel",
      "state": {}
     },
     "c04507778b9141a2b78b6d0e6694d1ba": {
      "model_module": "@jupyter-widgets/controls",
      "model_module_version": "1.5.0",
      "model_name": "HBoxModel",
      "state": {
       "children": [
        "IPY_MODEL_2f5b497f970843c2a2629bd681ccef52",
        "IPY_MODEL_5aa74e864a964b0db53ea264f07f510e"
       ],
       "layout": "IPY_MODEL_9584e974cc894604b658fa699e75c638"
      }
     },
     "c2f8aafcb9f54854b84842781f2a3838": {
      "model_module": "@jupyter-widgets/controls",
      "model_module_version": "1.5.0",
      "model_name": "HBoxModel",
      "state": {
       "children": [
        "IPY_MODEL_9b7a43a28d7c49fc94348a4fcdf8f229",
        "IPY_MODEL_faea0f8093284ec0a1a4f12ad16c9ce7"
       ],
       "layout": "IPY_MODEL_50a70beb17574721a3f5694ee5c50465"
      }
     },
     "c5cb01584037494182eff642bad74e02": {
      "model_module": "@jupyter-widgets/controls",
      "model_module_version": "1.5.0",
      "model_name": "VBoxModel",
      "state": {
       "_dom_classes": [
        "widget-interact"
       ],
       "children": [
        "IPY_MODEL_4fe9f882a42e4cbcaa372cd245e9f1c0",
        "IPY_MODEL_3c2bfca281b94900b04bcc0eea92d109"
       ],
       "layout": "IPY_MODEL_fd2c238a9b7b49ac985c71c24ea951ea"
      }
     },
     "c6f34a45a0274547952a8e6c434701a4": {
      "model_module": "@jupyter-widgets/controls",
      "model_module_version": "1.5.0",
      "model_name": "LinkModel",
      "state": {
       "source": [
        "IPY_MODEL_76766f95539948708f05010c8af5683a",
        "value"
       ],
       "target": [
        "IPY_MODEL_4a66a9f1fb504020965e7fba09689057",
        "value"
       ]
      }
     },
     "cb56c88019c74e0e8ef9f8a2f7f0c2ad": {
      "model_module": "@jupyter-widgets/controls",
      "model_module_version": "1.5.0",
      "model_name": "ButtonStyleModel",
      "state": {}
     },
     "ce606012e0ff463c9660c3f66785418b": {
      "model_module": "@jupyter-widgets/base",
      "model_module_version": "1.2.0",
      "model_name": "LayoutModel",
      "state": {}
     },
     "d4a17e5a8d9e472cb627ade0591eb055": {
      "model_module": "@jupyter-widgets/controls",
      "model_module_version": "1.5.0",
      "model_name": "VBoxModel",
      "state": {
       "_dom_classes": [
        "widget-interact"
       ],
       "children": [
        "IPY_MODEL_1c21301823a14c28900cfd8b25e9c72a",
        "IPY_MODEL_4530e1412f714ea58ce315f67ac90628"
       ],
       "layout": "IPY_MODEL_dea10db3a39c441abe4c4d3451fb8280"
      }
     },
     "d68fa194b5284baa956d85af4922f8b5": {
      "model_module": "@jupyter-widgets/base",
      "model_module_version": "1.2.0",
      "model_name": "LayoutModel",
      "state": {}
     },
     "d6db1113ead149b2ac019b650bf0ffd8": {
      "model_module": "@jupyter-widgets/controls",
      "model_module_version": "1.5.0",
      "model_name": "SliderStyleModel",
      "state": {
       "description_width": ""
      }
     },
     "d775fb44d57746c99559f55cf5e10fbb": {
      "model_module": "@jupyter-widgets/base",
      "model_module_version": "1.2.0",
      "model_name": "LayoutModel",
      "state": {}
     },
     "d83b811ff4c94a27ad56416302b5bc77": {
      "model_module": "@jupyter-widgets/base",
      "model_module_version": "1.2.0",
      "model_name": "LayoutModel",
      "state": {}
     },
     "d89fb2d2d1b645e891625a39f35f7dd9": {
      "model_module": "@jupyter-widgets/controls",
      "model_module_version": "1.5.0",
      "model_name": "ButtonModel",
      "state": {
       "description": "Prev",
       "layout": "IPY_MODEL_d9745ce59d5b48de8c047df896414d24",
       "style": "IPY_MODEL_9798520ed1a644f0a79b1b66f00bd9ef"
      }
     },
     "d9745ce59d5b48de8c047df896414d24": {
      "model_module": "@jupyter-widgets/base",
      "model_module_version": "1.2.0",
      "model_name": "LayoutModel",
      "state": {}
     },
     "dae2c2907fc64caebed3704eeaf8f29a": {
      "model_module": "@jupyter-widgets/base",
      "model_module_version": "1.2.0",
      "model_name": "LayoutModel",
      "state": {}
     },
     "dae6727fb26844edae515852a52e9969": {
      "model_module": "@jupyter-widgets/base",
      "model_module_version": "1.2.0",
      "model_name": "LayoutModel",
      "state": {}
     },
     "dd1a35e91f6e4d328ea5c2865432b45f": {
      "model_module": "@jupyter-widgets/controls",
      "model_module_version": "1.5.0",
      "model_name": "HBoxModel",
      "state": {
       "children": [
        "IPY_MODEL_76766f95539948708f05010c8af5683a",
        "IPY_MODEL_4fc9864a4e4a475696d025221427e6b8",
        "IPY_MODEL_2c4587614ec3467c88a7d5a73079d96b"
       ],
       "layout": "IPY_MODEL_73ae0fcea48745c5bd2ac61a714db7eb"
      }
     },
     "dd252ab59f6444a59aea34b7fd34204e": {
      "model_module": "@jupyter-widgets/base",
      "model_module_version": "1.2.0",
      "model_name": "LayoutModel",
      "state": {}
     },
     "dea10db3a39c441abe4c4d3451fb8280": {
      "model_module": "@jupyter-widgets/base",
      "model_module_version": "1.2.0",
      "model_name": "LayoutModel",
      "state": {}
     },
     "e178c692a40e40c68d3163e6fac55dd1": {
      "model_module": "@jupyter-widgets/controls",
      "model_module_version": "1.5.0",
      "model_name": "DescriptionStyleModel",
      "state": {
       "description_width": ""
      }
     },
     "e2bf06648bdd4196853d4f0d010c4c87": {
      "model_module": "@jupyter-widgets/controls",
      "model_module_version": "1.5.0",
      "model_name": "IntSliderModel",
      "state": {
       "description": "step",
       "layout": "IPY_MODEL_6819e855ed164dc69b3965266e56fb09",
       "max": 7,
       "style": "IPY_MODEL_ff393b494d1849b1a048e399dc45a61b",
       "value": 5
      }
     },
     "e70c826eb6e34c019caff82576b77b0e": {
      "model_module": "@jupyter-widgets/controls",
      "model_module_version": "1.5.0",
      "model_name": "ButtonStyleModel",
      "state": {}
     },
     "e89da6d4353c48c590d5f2b2a3ab7662": {
      "model_module": "@jupyter-widgets/controls",
      "model_module_version": "1.5.0",
      "model_name": "HBoxModel",
      "state": {
       "children": [
        "IPY_MODEL_2c8f08ff69e84d75990c95633f78c4e8",
        "IPY_MODEL_8d3d1519b5424c7abfaeda8af23bc642"
       ],
       "layout": "IPY_MODEL_d68fa194b5284baa956d85af4922f8b5"
      }
     },
     "e9c87fd3c430408596c71cc40d33f978": {
      "model_module": "@jupyter-widgets/output",
      "model_module_version": "1.0.0",
      "model_name": "OutputModel",
      "state": {
       "layout": "IPY_MODEL_a0fcc61e60c34178b34de827104bdea8",
       "outputs": [
        {
         "data": {
          "image/svg+xml": "<?xml version=\"1.0\" encoding=\"UTF-8\" standalone=\"no\"?>\r\n<!DOCTYPE svg PUBLIC \"-//W3C//DTD SVG 1.1//EN\"\r\n \"http://www.w3.org/Graphics/SVG/1.1/DTD/svg11.dtd\">\r\n<!-- Generated by graphviz version 2.44.2~dev.20200826.1453 (20200826.1453)\r\n -->\r\n<!-- Pages: 1 -->\r\n<svg width=\"501pt\" height=\"97pt\"\r\n viewBox=\"0.00 0.00 501.00 97.00\" xmlns=\"http://www.w3.org/2000/svg\" xmlns:xlink=\"http://www.w3.org/1999/xlink\">\r\n<g id=\"graph0\" class=\"graph\" transform=\"scale(1 1) rotate(0) translate(4 93)\">\r\n<polygon fill=\"white\" stroke=\"transparent\" points=\"-4,4 -4,-93 497,-93 497,4 -4,4\"/>\r\n<!-- 0 -->\r\n<g id=\"node1\" class=\"node\">\r\n<title>0</title>\r\n<ellipse fill=\"none\" stroke=\"red\" cx=\"18\" cy=\"-30\" rx=\"18\" ry=\"18\"/>\r\n<text text-anchor=\"middle\" x=\"18\" y=\"-26.3\" font-family=\"Times New Roman,serif\" font-size=\"14.00\">0</text>\r\n</g>\r\n<!-- 1 -->\r\n<g id=\"node2\" class=\"node\">\r\n<title>1</title>\r\n<ellipse fill=\"none\" stroke=\"red\" cx=\"108\" cy=\"-65\" rx=\"18\" ry=\"18\"/>\r\n<text text-anchor=\"middle\" x=\"108\" y=\"-61.3\" font-family=\"Times New Roman,serif\" font-size=\"14.00\">1</text>\r\n</g>\r\n<!-- 0&#45;&gt;1 -->\r\n<g id=\"edge1\" class=\"edge\">\r\n<title>0:&#45;&gt;1:</title>\r\n<path fill=\"none\" stroke=\"red\" d=\"M35.14,-36.42C48.04,-41.55 66.37,-48.84 81.29,-54.77\"/>\r\n<polygon fill=\"red\" stroke=\"red\" points=\"90.96,-58.62 80.01,-59.11 86.32,-56.77 81.67,-54.93 81.67,-54.93 81.67,-54.93 86.32,-56.77 83.33,-50.74 90.96,-58.62 90.96,-58.62\"/>\r\n<text text-anchor=\"middle\" x=\"63\" y=\"-53.8\" font-family=\"Times New Roman,serif\" font-size=\"14.00\">4/7</text>\r\n</g>\r\n<!-- 2 -->\r\n<g id=\"node3\" class=\"node\">\r\n<title>2</title>\r\n<ellipse fill=\"none\" stroke=\"red\" cx=\"198\" cy=\"-18\" rx=\"18\" ry=\"18\"/>\r\n<text text-anchor=\"middle\" x=\"198\" y=\"-14.3\" font-family=\"Times New Roman,serif\" font-size=\"14.00\">2</text>\r\n</g>\r\n<!-- 0&#45;&gt;2 -->\r\n<g id=\"edge2\" class=\"edge\">\r\n<title>0:&#45;&gt;2:</title>\r\n<path fill=\"none\" stroke=\"black\" d=\"M35.91,-28.09C50.28,-26.52 71.47,-24.35 90,-23 117.13,-21.03 148.2,-19.68 169.84,-18.88\"/>\r\n<polygon fill=\"black\" stroke=\"black\" points=\"179.93,-18.53 170.1,-23.38 174.94,-18.7 169.94,-18.88 169.94,-18.88 169.94,-18.88 174.94,-18.7 169.78,-14.38 179.93,-18.53 179.93,-18.53\"/>\r\n<text text-anchor=\"middle\" x=\"108\" y=\"-26.8\" font-family=\"Times New Roman,serif\" font-size=\"14.00\">0/4</text>\r\n</g>\r\n<!-- 1&#45;&gt;2 -->\r\n<g id=\"edge3\" class=\"edge\">\r\n<title>1:&#45;&gt;2:</title>\r\n<path fill=\"none\" stroke=\"red\" d=\"M124.33,-56.81C137.7,-49.67 157.34,-39.18 172.83,-30.91\"/>\r\n<polygon fill=\"red\" stroke=\"red\" points=\"181.85,-26.09 175.15,-34.77 177.44,-28.45 173.03,-30.8 173.03,-30.8 173.03,-30.8 177.44,-28.45 170.91,-26.83 181.85,-26.09 181.85,-26.09\"/>\r\n<text text-anchor=\"middle\" x=\"153\" y=\"-48.8\" font-family=\"Times New Roman,serif\" font-size=\"14.00\">4/4</text>\r\n</g>\r\n<!-- 3 -->\r\n<g id=\"node4\" class=\"node\">\r\n<title>3</title>\r\n<ellipse fill=\"none\" stroke=\"red\" cx=\"288\" cy=\"-71\" rx=\"18\" ry=\"18\"/>\r\n<text text-anchor=\"middle\" x=\"288\" y=\"-67.3\" font-family=\"Times New Roman,serif\" font-size=\"14.00\">3</text>\r\n</g>\r\n<!-- 1&#45;&gt;3 -->\r\n<g id=\"edge4\" class=\"edge\">\r\n<title>1:&#45;&gt;3:</title>\r\n<path fill=\"none\" stroke=\"black\" d=\"M126.07,-65.58C157.03,-66.62 222.7,-68.83 259.87,-70.09\"/>\r\n<polygon fill=\"black\" stroke=\"black\" points=\"269.98,-70.43 259.84,-74.59 264.99,-70.26 259.99,-70.09 259.99,-70.09 259.99,-70.09 264.99,-70.26 260.14,-65.59 269.98,-70.43 269.98,-70.43\"/>\r\n<text text-anchor=\"middle\" x=\"198\" y=\"-71.8\" font-family=\"Times New Roman,serif\" font-size=\"14.00\">0/2</text>\r\n</g>\r\n<!-- 2&#45;&gt;3 -->\r\n<g id=\"edge5\" class=\"edge\">\r\n<title>2:&#45;&gt;3:</title>\r\n<path fill=\"none\" stroke=\"red\" d=\"M214.46,-26.4C225.12,-32.27 239.55,-40.4 252,-48 255.95,-50.41 260.09,-53.04 264.09,-55.64\"/>\r\n<polygon fill=\"red\" stroke=\"red\" points=\"272.49,-61.16 261.67,-59.43 268.32,-58.41 264.14,-55.66 264.14,-55.66 264.14,-55.66 268.32,-58.41 266.61,-51.9 272.49,-61.16 272.49,-61.16\"/>\r\n<text text-anchor=\"middle\" x=\"243\" y=\"-51.8\" font-family=\"Times New Roman,serif\" font-size=\"14.00\">4/8</text>\r\n</g>\r\n<!-- 4 -->\r\n<g id=\"node5\" class=\"node\">\r\n<title>4</title>\r\n<ellipse fill=\"none\" stroke=\"red\" cx=\"378\" cy=\"-23\" rx=\"18\" ry=\"18\"/>\r\n<text text-anchor=\"middle\" x=\"378\" y=\"-19.3\" font-family=\"Times New Roman,serif\" font-size=\"14.00\">4</text>\r\n</g>\r\n<!-- 2&#45;&gt;4 -->\r\n<g id=\"edge6\" class=\"edge\">\r\n<title>2:&#45;&gt;4:</title>\r\n<path fill=\"none\" stroke=\"black\" d=\"M216.07,-18.48C247.03,-19.35 312.7,-21.19 349.87,-22.24\"/>\r\n<polygon fill=\"black\" stroke=\"black\" points=\"359.98,-22.52 349.86,-26.74 354.99,-22.38 349.99,-22.24 349.99,-22.24 349.99,-22.24 354.99,-22.38 350.11,-17.74 359.98,-22.52 359.98,-22.52\"/>\r\n<text text-anchor=\"middle\" x=\"288\" y=\"-23.8\" font-family=\"Times New Roman,serif\" font-size=\"14.00\">0/4</text>\r\n</g>\r\n<!-- 3&#45;&gt;4 -->\r\n<g id=\"edge7\" class=\"edge\">\r\n<title>3:&#45;&gt;4:</title>\r\n<path fill=\"none\" stroke=\"red\" d=\"M303.36,-60.91C309.58,-56.71 317.02,-51.91 324,-48 332.86,-43.03 342.88,-38.13 351.8,-34.01\"/>\r\n<polygon fill=\"red\" stroke=\"red\" points=\"360.94,-29.87 353.68,-38.09 356.38,-31.93 351.83,-33.99 351.83,-33.99 351.83,-33.99 356.38,-31.93 349.97,-29.89 360.94,-29.87 360.94,-29.87\"/>\r\n<text text-anchor=\"middle\" x=\"333\" y=\"-51.8\" font-family=\"Times New Roman,serif\" font-size=\"14.00\">4/4</text>\r\n</g>\r\n<!-- 5 -->\r\n<g id=\"node6\" class=\"node\">\r\n<title>5</title>\r\n<ellipse fill=\"none\" stroke=\"red\" cx=\"475\" cy=\"-50\" rx=\"18\" ry=\"18\"/>\r\n<text text-anchor=\"middle\" x=\"475\" y=\"-46.3\" font-family=\"Times New Roman,serif\" font-size=\"14.00\">5</text>\r\n</g>\r\n<!-- 3&#45;&gt;5 -->\r\n<g id=\"edge8\" class=\"edge\">\r\n<title>3:&#45;&gt;5:</title>\r\n<path fill=\"none\" stroke=\"black\" d=\"M306.19,-70.28C334.17,-68.95 391.23,-65.49 439,-58 441.73,-57.57 444.57,-57.05 447.4,-56.48\"/>\r\n<polygon fill=\"black\" stroke=\"black\" points=\"457.36,-54.3 448.55,-60.84 452.47,-55.37 447.59,-56.44 447.59,-56.44 447.59,-56.44 452.47,-55.37 446.62,-52.05 457.36,-54.3 457.36,-54.3\"/>\r\n<text text-anchor=\"middle\" x=\"378\" y=\"-69.8\" font-family=\"Times New Roman,serif\" font-size=\"14.00\">0/5</text>\r\n</g>\r\n<!-- 4&#45;&gt;5 -->\r\n<g id=\"edge9\" class=\"edge\">\r\n<title>4:&#45;&gt;5:</title>\r\n<path fill=\"none\" stroke=\"red\" d=\"M395.55,-27.7C409.9,-31.78 430.93,-37.76 447.6,-42.5\"/>\r\n<polygon fill=\"red\" stroke=\"red\" points=\"457.32,-45.26 446.47,-46.85 452.51,-43.89 447.7,-42.53 447.7,-42.53 447.7,-42.53 452.51,-43.89 448.93,-38.2 457.32,-45.26 457.32,-45.26\"/>\r\n<text text-anchor=\"middle\" x=\"426.5\" y=\"-42.8\" font-family=\"Times New Roman,serif\" font-size=\"14.00\">4/12</text>\r\n</g>\r\n</g>\r\n</svg>\r\n",
          "text/plain": "<graphviz.dot.Digraph at 0x231c4f2a1c0>"
         },
         "metadata": {},
         "output_type": "display_data"
        }
       ]
      }
     },
     "eb540461bb8d41e2a9a5164e0b3de315": {
      "model_module": "@jupyter-widgets/controls",
      "model_module_version": "1.5.0",
      "model_name": "IntSliderModel",
      "state": {
       "description": "step",
       "layout": "IPY_MODEL_d775fb44d57746c99559f55cf5e10fbb",
       "max": 7,
       "style": "IPY_MODEL_3a20002a86c14dfda25c4c761b53ef0f",
       "value": 1
      }
     },
     "ee886c96ab1c4e91bf9aa7554770baac": {
      "model_module": "@jupyter-widgets/controls",
      "model_module_version": "1.5.0",
      "model_name": "ButtonStyleModel",
      "state": {}
     },
     "f6aa9e8256204510841d3531b32130a6": {
      "model_module": "@jupyter-widgets/base",
      "model_module_version": "1.2.0",
      "model_name": "LayoutModel",
      "state": {}
     },
     "f930719a861e4c9fb57867163da03dba": {
      "model_module": "@jupyter-widgets/controls",
      "model_module_version": "1.5.0",
      "model_name": "VBoxModel",
      "state": {
       "_dom_classes": [
        "widget-interact"
       ],
       "children": [
        "IPY_MODEL_eb540461bb8d41e2a9a5164e0b3de315",
        "IPY_MODEL_e9c87fd3c430408596c71cc40d33f978"
       ],
       "layout": "IPY_MODEL_4c2024264ed2492aa23a9ae5e0120692"
      }
     },
     "f9a85a97db3e4db487c7bb5faa24fc69": {
      "model_module": "@jupyter-widgets/base",
      "model_module_version": "1.2.0",
      "model_name": "LayoutModel",
      "state": {}
     },
     "faea0f8093284ec0a1a4f12ad16c9ce7": {
      "model_module": "@jupyter-widgets/controls",
      "model_module_version": "1.5.0",
      "model_name": "ButtonModel",
      "state": {
       "description": "Next",
       "layout": "IPY_MODEL_f9a85a97db3e4db487c7bb5faa24fc69",
       "style": "IPY_MODEL_b7c41a2eaa0846f28f8a7b9f698312f2"
      }
     },
     "fd2c238a9b7b49ac985c71c24ea951ea": {
      "model_module": "@jupyter-widgets/base",
      "model_module_version": "1.2.0",
      "model_name": "LayoutModel",
      "state": {}
     },
     "ff393b494d1849b1a048e399dc45a61b": {
      "model_module": "@jupyter-widgets/controls",
      "model_module_version": "1.5.0",
      "model_name": "SliderStyleModel",
      "state": {
       "description_width": ""
      }
     }
    },
    "version_major": 2,
    "version_minor": 0
   }
  }
 },
 "nbformat": 4,
 "nbformat_minor": 4
}
