{
 "cells": [
  {
   "cell_type": "markdown",
   "id": "66a8452f",
   "metadata": {},
   "source": [
    "# Sorting algorithms\n",
    "In this notebook some basic sorted algorithms are presented.\n",
    "\n",
    "## Quadratic algorithms"
   ]
  },
  {
   "cell_type": "markdown",
   "id": "49909318",
   "metadata": {},
   "source": [
    "## Bubble sort\n",
    "This is a very simple sorting algorithm that behaves as follows:\n",
    "* Loop over all the values from left to right, if the current element is greater than the next one then swap them.\n",
    "* Repeat as many times as there are elements in the array\n",
    "The idea here is that after the first linear scan the maximum element will be placed last, on the second scan the second maximum element will be placed second to last and so on. "
   ]
  },
  {
   "cell_type": "code",
   "execution_count": 1,
   "id": "dd9b2b07",
   "metadata": {},
   "outputs": [],
   "source": [
    "#############################\n",
    "# Animation utilities\n",
    "#############################\n",
    "import matplotlib.pyplot as plt\n",
    "from interactive_visualization.animation_utils import animate_list\n",
    "\n",
    "def basic_sort_state(array, colors):\n",
    "    bottom = min(array) - 1\n",
    "    fig = plt.figure(figsize = (8, 8))\n",
    "    ax = fig.add_axes([0, 0, 1, 1])\n",
    "    ax.get_xaxis().set_visible(False)\n",
    "    ax.get_yaxis().set_visible(False)\n",
    "\n",
    "    for name, spine in ax.spines.items():\n",
    "        spine.set_visible(False)\n",
    "        spine.set_visible(False)\n",
    "    \n",
    "    for i, value in enumerate(array):\n",
    "        ax.fill([i + 0.1, i + 0.1, i + 1 - 0.1, i + 1 - 0.1, i + 0.1], [0, value - bottom, value - bottom, 0, 0], color=colors[i])\n",
    "        \n",
    "    plt.close(fig)\n",
    "    return fig"
   ]
  },
  {
   "cell_type": "code",
   "execution_count": 2,
   "id": "9903b9c0",
   "metadata": {},
   "outputs": [],
   "source": [
    "def bubble_sort_state(array, i, j):\n",
    "    result = []\n",
    "    for k in range(len(array) - i):\n",
    "        result.append('blue')\n",
    "    for k in range(i):\n",
    "        result.append('yellow')\n",
    "        \n",
    "    if j >= 0:\n",
    "        result[j] = 'green'\n",
    "    return basic_sort_state(array, result)"
   ]
  },
  {
   "cell_type": "code",
   "execution_count": 3,
   "id": "d945ecd1",
   "metadata": {},
   "outputs": [],
   "source": [
    "def bubble_sort(array):\n",
    "    states = []\n",
    "    comparisons = 0\n",
    "    swaps = 0\n",
    "    for i in range(len(array) - 1):\n",
    "        for j in range(len(array) - 1 - i):\n",
    "            states.append(bubble_sort_state(array, i, j))\n",
    "            comparisons += 1\n",
    "            if array[j] > array[j + 1]:\n",
    "                swaps += 1\n",
    "                array[j], array[j + 1] = array[j + 1], array[j]\n",
    "    states.append(bubble_sort_state(array, len(array), -1))\n",
    "    return states, comparisons, swaps"
   ]
  },
  {
   "cell_type": "code",
   "execution_count": 4,
   "id": "7f7ef141",
   "metadata": {},
   "outputs": [],
   "source": [
    "initial_array = [2, -11, 5, 8, 9, 7, -5, -8, -9, 10, 11, 13, -10]"
   ]
  },
  {
   "cell_type": "code",
   "execution_count": 5,
   "id": "1e5c8cea",
   "metadata": {},
   "outputs": [
    {
     "name": "stdout",
     "output_type": "stream",
     "text": [
      "[-11, -10, -9, -8, -5, 2, 5, 7, 8, 9, 10, 11, 13]\n",
      "Comparisons: 78\n",
      "Swaps:       32\n"
     ]
    }
   ],
   "source": [
    "array = [x for x in initial_array]\n",
    "states, comparisons, swaps = bubble_sort(array)\n",
    "print(array)\n",
    "print(f\"Comparisons: {comparisons}\")\n",
    "print(f\"Swaps:       {swaps}\")"
   ]
  },
  {
   "cell_type": "code",
   "execution_count": 6,
   "id": "81228e3f",
   "metadata": {},
   "outputs": [
    {
     "data": {
      "application/vnd.jupyter.widget-view+json": {
       "model_id": "3c002ae7956e42d9af7ae4e74475648f",
       "version_major": 2,
       "version_minor": 0
      },
      "text/plain": [
       "HBox(children=(Play(value=0, interval=200), Button(description='Prev', style=ButtonStyle()), Button(descriptio…"
      ]
     },
     "metadata": {},
     "output_type": "display_data"
    },
    {
     "data": {
      "application/vnd.jupyter.widget-view+json": {
       "model_id": "53a945d36468478ab8ea5e2be43c20a7",
       "version_major": 2,
       "version_minor": 0
      },
      "text/plain": [
       "interactive(children=(IntSlider(value=0, description='step', max=78), Output()), _dom_classes=('widget-interac…"
      ]
     },
     "metadata": {},
     "output_type": "display_data"
    }
   ],
   "source": [
    "animate_list(states, play=True);"
   ]
  },
  {
   "cell_type": "markdown",
   "id": "4cbc41d6",
   "metadata": {},
   "source": [
    "## Analysis\n",
    "There are two main operations: swaps and comparisons. \n",
    "\n",
    "The number of comparisons is calculated straightforwardly from the structure of the algorithm, it is the sum $1+2+\\ldots+n-1$ where $n$ is the size of the array. This follows simply from fact that at iteration $i$ we need to do $n-i-1$ comparisons of the element with the next one. We end up with the $\\frac{n(n-1)}{2}$ comparisons. \n",
    "\n",
    "What about swaps? In the worst case (array is sorted in descreasing order) we will get the same $\\frac{n(n-1)}{2}$ as swap will be triggered for any comparison. Can we somehow estimate an average case? We actually can and it turns out that the number of swaps is half the number of comparisons on average but we need to introduce some additional concepts to prove it.\n",
    "\n",
    "**Definition.** *Permutation* of order $n$ is the bijective function from $\\{1, 2, \\ldots, n\\}$ to itself. For permutation $p$ we will usually refer to $p(i)$ as $p_i$ and the whole permutaion can be defined as sequence $(p_1, p_2, \\ldots, p_n)$.  \n",
    "\n",
    "Permutation is a concept that can be used to formalize sorting problem: given an array $a_1, \\ldots, a_n$, we are to find permutation $p$ such that\n",
    "$$\n",
    "a_{p_1}\\leq a_{p_2}\\leq \\ldots \\leq a_{p_n}\n",
    "$$\n",
    "Note that if $a$ contains unique elements than the corresponding sorting $p$ is also unique."
   ]
  },
  {
   "cell_type": "markdown",
   "id": "cde4ead2",
   "metadata": {},
   "source": [
    "**Definition.** *Transposition* is a permutation $p$ such that there are pair $(i, j)$, $i\\neq j$\n",
    "$$\n",
    "p_k=\n",
    "\\begin{cases}\n",
    "k, & k \\neq i, j \\\\\n",
    "j, & k=i \\\\\n",
    "i, & k=j\n",
    "\\end{cases}\n",
    "$$\n",
    "*Remark.* Transposition is a permutation that swaps two elements.\n",
    "\n",
    "**Definition.** *Trivial transposition* is a transposition that swaps consecutive pair.\n",
    "\n",
    "**Definition.** *multiplication* of permutations $p$ and $q$ is such permutation $r$ that $r_i=p_{q_i}$.\n",
    "\n",
    "*Remark.* Permutation multiplication is a function composition. You can think of permutation as a way to reorder some elements, multiplication $pq$ is equivalent to first reordering with $q$ and then reorderring the result with $p$. This is a crucial concept as any sorting algorithm can be represented as a multiplication of several transpositions.\n",
    "\n",
    "Now comes the interesting part, as bubble sort only applies swaps for consecutive elements it can be represented as multiplication of trivial transpositions. The main idea of the analysis is that we can introduce a value determined by permutation that decreases with transposition applied in bubble sort.\n",
    "\n",
    "**Definition**. *Inversion* in permutation $p$ is pair of indecies $i<j$ such that $p_i>p_j$. Denote the number of inversions of $p$ as $I(p)$. \n",
    "\n",
    "The number of inversions in permutation is what we are looking for, the following lemma describes the main idea behind the analysis.\n",
    "\n",
    "**Lemma.** Given a permutation $p$ and trivial transposition $q$ then $|I(pq)-I(q)|=1$.  \n",
    "\n",
    "**Proof.** Suppose that $q$ transposes $k, k+1$, consider four group of index pairs:\n",
    "* $i, j\\neq k$: inversions do not change here as $p_{q_i}$=$q_i$\n",
    "* $i\\in \\{k, k+1\\}, j > k+1$: the number of inversions do not change since this group contains both $(k, j), (k+1, j)$ and $p_{q_k}=p_{k+1}, p_{q_{k+1}}=p_k$\n",
    "* $i<k, j\\in\\{k, k+1\\}$: same as previous case\n",
    "* $i=k, j=k+1$: if $p_k<p_{k+1}$ then $p_{q_k}=p_{k+1}>p_k=p_{q_{k+1}}$ and vice versa and so the number of permutation changes by $\\pm 1$. $\\blacksquare$\n",
    "\n",
    "The thing is when we apply a sequence of consecutive swaps we actually construct a permutation that has the number of inversion not greater than the number of swaps performed. This can be viewed in the following way: if the permutation $p$ is required to sort an array, the number of consecutive swaps needed to sort it is at least $I(p)$ and there actually exists such set of exactly $I(p)$ swaps. This can be formalized in the following theorem\n",
    "\n",
    "**Theorem.** A permutation $p$ with the number of inversions $I(p)$\n",
    "* Can be represented as multiplication of $p=q_1q_2\\ldots q_m$ of trivial transpositions with $m=I(p)$\n",
    "* For any $m<I(p)$ no multiplication of $m$ trivial compositions result in $p$\n",
    "\n",
    "**Proof.** The second part follows from the lemma: if such multiplication exists then\n",
    "$$\n",
    "I(q_1q_2\\ldots q_m)\\leq I(q_1q_2\\ldots q_{m-1})+1\\leq \\ldots \\leq m \n",
    "$$\n",
    "contradicts with $m<I(p)$.\n",
    "\n",
    "The first part can be proved by induction.\n",
    "**Base.** Trivial\n",
    "**Step.** Suppose that any permutation $q$ with $I(q)=m$ can be decomposed as a multiplication of $m$ trivial transpositions. Consider a $p$ with $I(p)=m+1$. Let $k$ be any pair such that $p_k>p_{k+1}$, there must exist one otherwise it's identity permutation with $I(p)=0$. Let $q$ be the trivial transposition that swaps $k, k+1$ then $I(pq)=I(p)-1$ and so there are $pq=q_1q_2\\ldots q_{m-1}$ and finally with $pqq=p$ we get $p=q_1q_2\\ldots q_{m-1}q$. $\\blacksquare$\n",
    "\n",
    "The final part is, what is the expected number of $I(p)$? The answer is quite simple from symmetry: consider $p$ and $q$ such that $q_i=n-p_i+1$. Obviously any pair forms inversion exactly in one of these permutations, moreover such any any permutation belongs to exactly one such pair and thus we splitted all the permutations in pairs such that any index pair form permutation exactly in one of them forming $\\frac{n(n+1)}{2}$ inversions total. Thus the expected number of inversions in permutation (for uniform distribution over permutations) is $\\frac{n(n-1)}{4}$. The following code demonstrates how to calculate the number of inversions in a simple fasion and logarithmic using RMQ based data structures."
   ]
  },
  {
   "cell_type": "code",
   "execution_count": 7,
   "id": "059f412d",
   "metadata": {},
   "outputs": [],
   "source": [
    "def calc_inversions_simple(array):\n",
    "    result = 0\n",
    "    for i, x in enumerate(array):\n",
    "        for j in range(i + 1, len(array)):\n",
    "            if array[j] < x:\n",
    "                result += 1\n",
    "    return result\n",
    "\n",
    "def calc_inversions_fast(array):\n",
    "    tree_size = 1\n",
    "    while tree_size < len(array):\n",
    "        tree_size *= 2\n",
    "    tree_size = tree_size\n",
    "    tree = [0 for i in range(2 * tree_size)]\n",
    "    \n",
    "    def tree_insert(i):\n",
    "        i += tree_size\n",
    "        while i > 0:\n",
    "            tree[i] += 1\n",
    "            i //= 2\n",
    "    \n",
    "    def get_less_count(i):\n",
    "        if i == tree_size - 1:\n",
    "            return tree[1]\n",
    "        i += tree_size\n",
    "        result = 0\n",
    "        while i > 0:\n",
    "            if i % 2 == 0:\n",
    "                result += tree[i]\n",
    "            i = (i - 1) // 2\n",
    "        return result\n",
    "    \n",
    "    pos = dict()\n",
    "    for i, x in enumerate(sorted(array)):\n",
    "        pos[x] = i\n",
    "        \n",
    "    result = 0\n",
    "    for i in reversed(range(len(array))):\n",
    "        result += get_less_count(pos[array[i]])\n",
    "        tree_insert(pos[array[i]])\n",
    "    return result"
   ]
  },
  {
   "cell_type": "code",
   "execution_count": 8,
   "id": "46096b1c",
   "metadata": {},
   "outputs": [
    {
     "name": "stdout",
     "output_type": "stream",
     "text": [
      "Inversions: 32 (check with simple 32)\n",
      "Comparisons: 78\n",
      "Swaps:       32\n"
     ]
    }
   ],
   "source": [
    "array = [x for x in initial_array]\n",
    "print(f\"Inversions: {calc_inversions_fast(array)} (check with simple {calc_inversions_simple(array)})\")\n",
    "print(f\"Comparisons: {comparisons}\")\n",
    "print(f\"Swaps:       {swaps}\")"
   ]
  },
  {
   "cell_type": "markdown",
   "id": "a5d77a57",
   "metadata": {},
   "source": [
    "# Insertion sort\n",
    "This method of sorting is kind of online method that keeps a sorted array and adds elements one by one inserting them into the position that keeps sorted order:\n",
    "* Scan elemtents in the linear order\n",
    "* When processing anouther element move it backwards while sorted order for processed elements is not achieved"
   ]
  },
  {
   "cell_type": "code",
   "execution_count": 9,
   "id": "502696aa",
   "metadata": {},
   "outputs": [],
   "source": [
    "def insertion_sort_state(array, i, j):\n",
    "    result = []\n",
    "    for k in range(i + 1):\n",
    "        result.append('yellow')\n",
    "    for k in range(len(array) - i - 1):\n",
    "        result.append('blue')\n",
    "        \n",
    "    if j >= 0:\n",
    "        result[j] = 'green'\n",
    "    return basic_sort_state(array, result)\n",
    "\n",
    "def insertion_sort(array):\n",
    "    states = []\n",
    "    comparisons = 0\n",
    "    swaps = 0\n",
    "    \n",
    "    for i in range(0, len(array)):\n",
    "        j = i\n",
    "        states.append(insertion_sort_state(array, i, j))\n",
    "        while j > 0 and array[j - 1] > array[j]:\n",
    "            comparisons += 1\n",
    "            swaps += 1\n",
    "            array[j - 1], array[j] = array[j], array[j - 1]\n",
    "            states.append(insertion_sort_state(array, i, j - 1))\n",
    "            j -= 1\n",
    "        if j > 0:\n",
    "            comparisons += 1\n",
    "    states.append(insertion_sort_state(array, len(array), -1))\n",
    "    return states, comparisons, swaps"
   ]
  },
  {
   "cell_type": "code",
   "execution_count": 10,
   "id": "550885c2",
   "metadata": {},
   "outputs": [
    {
     "name": "stdout",
     "output_type": "stream",
     "text": [
      "[-11, -10, -9, -8, -5, 2, 5, 7, 8, 9, 10, 11, 13]\n",
      "Comparisons: 43\n",
      "Swaps:       32\n"
     ]
    }
   ],
   "source": [
    "array = [x for x in initial_array]\n",
    "states, comparisons, swaps = insertion_sort(array)\n",
    "print(array)\n",
    "print(f\"Comparisons: {comparisons}\")\n",
    "print(f\"Swaps:       {swaps}\")"
   ]
  },
  {
   "cell_type": "code",
   "execution_count": 11,
   "id": "dfca3c56",
   "metadata": {},
   "outputs": [
    {
     "data": {
      "application/vnd.jupyter.widget-view+json": {
       "model_id": "6ce91ab52c3e43bb81a1cd6548466eed",
       "version_major": 2,
       "version_minor": 0
      },
      "text/plain": [
       "HBox(children=(Play(value=0, interval=200), Button(description='Prev', style=ButtonStyle()), Button(descriptio…"
      ]
     },
     "metadata": {},
     "output_type": "display_data"
    },
    {
     "data": {
      "application/vnd.jupyter.widget-view+json": {
       "model_id": "f7064fbebb3b4ba5a68134edb9dc5516",
       "version_major": 2,
       "version_minor": 0
      },
      "text/plain": [
       "interactive(children=(IntSlider(value=0, description='step', max=45), Output()), _dom_classes=('widget-interac…"
      ]
     },
     "metadata": {},
     "output_type": "display_data"
    }
   ],
   "source": [
    "animate_list(states, play=True);"
   ]
  },
  {
   "cell_type": "markdown",
   "id": "46c52a2b",
   "metadata": {},
   "source": [
    "## Analysis\n",
    "Note that just as in bubble sort here we only do swaps of consecutive elements. Although one can find location of the insertion faster than by backward linear search, it is not convenient as insertion into array cannot be performed more effectively. All the analysis via inversions also apply for insertion sort but there is one key difference: the number of swaps performed by insertion sort and bubble sort is the same (the number of inversions) but insertion sort performs less comparison (number of inversion + number of elements for termination). For this reason insertion sort is always preferable over bubble sort.  "
   ]
  },
  {
   "cell_type": "markdown",
   "id": "14c0c8f5",
   "metadata": {},
   "source": [
    "## Selection sort\n",
    "The idea of this sort is straightforward lookup for a minimum element several times:\n",
    "* At iteration $k$ look for a minimum element ignoring first $k-1$ elements and place it at position $k$\n",
    "* Repeat $n-1$ times"
   ]
  },
  {
   "cell_type": "code",
   "execution_count": 12,
   "id": "4a6b5697",
   "metadata": {},
   "outputs": [],
   "source": [
    "def selection_sort_state(array, i, j):\n",
    "    result = []\n",
    "    for k in range(i):\n",
    "        result.append('yellow')\n",
    "    for k in range(len(array) - i):\n",
    "        result.append('blue')\n",
    "        \n",
    "    if j >= 0:\n",
    "        result[j] = 'green'\n",
    "    return basic_sort_state(array, result)\n",
    "\n",
    "def selection_sort(array):\n",
    "    states = []\n",
    "    comparisons = 0\n",
    "    swaps = 0\n",
    "    for i in range(len(array) - 1):\n",
    "        mini = i\n",
    "        for j in range(len(array) - i - 1):\n",
    "            comparisons += 1\n",
    "            if array[mini] > array[j + i + 1]:\n",
    "                mini = j + i + 1\n",
    "            \n",
    "        states.append(selection_sort_state(array, i, mini))\n",
    "        if i != mini:\n",
    "            swaps += 1\n",
    "            array[mini], array[i] = array[i], array[mini]\n",
    "        states.append(selection_sort_state(array, i, i))\n",
    "    states.append(insertion_sort_state(array, len(array), -1))\n",
    "    return states, comparisons, swaps"
   ]
  },
  {
   "cell_type": "code",
   "execution_count": 13,
   "id": "af2f784d",
   "metadata": {},
   "outputs": [
    {
     "name": "stdout",
     "output_type": "stream",
     "text": [
      "[-11, -10, -9, -8, -5, 2, 5, 7, 8, 9, 10, 11, 13]\n",
      "Comparisons: 78\n",
      "Swaps:       12\n"
     ]
    }
   ],
   "source": [
    "array = [x for x in initial_array]\n",
    "states, comparisons, swaps = selection_sort(array)\n",
    "print(array)\n",
    "print(f\"Comparisons: {comparisons}\")\n",
    "print(f\"Swaps:       {swaps}\")"
   ]
  },
  {
   "cell_type": "code",
   "execution_count": 14,
   "id": "4b65fb29",
   "metadata": {},
   "outputs": [
    {
     "data": {
      "application/vnd.jupyter.widget-view+json": {
       "model_id": "c4b7b48331ac43fda3c447733aefbe24",
       "version_major": 2,
       "version_minor": 0
      },
      "text/plain": [
       "HBox(children=(Play(value=0, interval=200), Button(description='Prev', style=ButtonStyle()), Button(descriptio…"
      ]
     },
     "metadata": {},
     "output_type": "display_data"
    },
    {
     "data": {
      "application/vnd.jupyter.widget-view+json": {
       "model_id": "95a52299ce2d4a87ab1c65016faa16b2",
       "version_major": 2,
       "version_minor": 0
      },
      "text/plain": [
       "interactive(children=(IntSlider(value=0, description='step', max=24), Output()), _dom_classes=('widget-interac…"
      ]
     },
     "metadata": {},
     "output_type": "display_data"
    }
   ],
   "source": [
    "animate_list(states, play=True);"
   ]
  },
  {
   "cell_type": "markdown",
   "id": "0f5fcb21",
   "metadata": {},
   "source": [
    "## Analysis\n",
    "Here we no longer use swap of consecutive elements and it is easy to see that the number of swaps is no more than $n-1$. The number of comprisons again is $\\frac{n(n-1)}{2}$. Surprisingly, selection sort performs the minimum possible number of swaps. To prove this we need some additional notions about permutations\n",
    "\n",
    "**Definition.** *Cycle* if a permutation $p$ such that there exists a sequence of unique elements $a_1, \\ldots, a_k$ such that\n",
    "$$\n",
    "p_i=\\begin{cases}\n",
    "a_{j+1}, & i=a_j, j < k, \\\\\n",
    "a_1, & j=a_k, \\\\\n",
    "i, & \\mbox{otherwise}\n",
    "\\end{cases}\n",
    "$$\n",
    "More informally, for elements in cycle $p_{a_i}=a_{i+1}$ and $p_i=i$ otherwise. Note that a transposition is a cycle and so any permutation can be decomposed into multiplication of cycles. Moreover, it happens that any permutation can be decomposed into non-overlapping cycles, that is the cycles that has no common shifting elements.\n",
    "\n",
    "**Theorem**. Any permutation $p$ can be decomposed into a multiplication of cycles $c_1\\ldots c_m$ such that any element $p_i$ is a part of exactyle one cycle.\n",
    "\n",
    "**Proof**. The proof is by construction, consider the following procedure:\n",
    "* Scan the elements in any order\n",
    "* If a scanned element $i$ is not yet a part of some cycle iterate $i\\leftarrow p_i$ until you you encounter initial value of $i$, make a cycle from encounter elements and mark them\n",
    "\n",
    "From construction any element will be assined to some cycle. In the second loop we will not encounter any element twice due to the fact that no $p_i=p_j$ with $i\\neq j$, moreover if we encounter the element which is a part of a cycle in a second loop this also contradicts bijectivity of permutation. $\\blacksquare$"
   ]
  },
  {
   "cell_type": "code",
   "execution_count": 15,
   "id": "8e227c58",
   "metadata": {},
   "outputs": [],
   "source": [
    "def decompose_cycles(permutation):\n",
    "    n = len(permutation)\n",
    "    marked = [False for x in permutation]\n",
    "    cycles = []\n",
    "    for x in permutation:\n",
    "        if x < 0 or x >= n:\n",
    "            return \"Not a permutation\"\n",
    "\n",
    "    for i, x in enumerate(permutation):\n",
    "        if marked[x]:\n",
    "            continue\n",
    "        marked[x] = True\n",
    "        cur = permutation[x]\n",
    "        cycle = [x]\n",
    "        while cur != x:\n",
    "            if marked[cur]:\n",
    "                return \"Not a permutation\"\n",
    "            marked[cur] = True\n",
    "            cycle.append(cur)\n",
    "            cur = permutation[cur]\n",
    "        cycles.append(cycle)\n",
    "        \n",
    "    return cycles"
   ]
  },
  {
   "cell_type": "code",
   "execution_count": 16,
   "id": "4215a8fd",
   "metadata": {},
   "outputs": [
    {
     "data": {
      "text/plain": [
       "[[1, 0], [5, 2], [4, 3]]"
      ]
     },
     "execution_count": 16,
     "metadata": {},
     "output_type": "execute_result"
    }
   ],
   "source": [
    "decompose_cycles([1, 0, 5, 4, 3, 2])"
   ]
  },
  {
   "cell_type": "markdown",
   "id": "81a1a0d7",
   "metadata": {},
   "source": [
    "Now, what cycles has to do with sorting? For simplicity lets assume that we are sorting the permutation. Obviously in the end we will get the identity permutation $q_i=i$. This permutation has exactly $n$ cycles and any other permutation has less cycles. This means that sorting problem is equivalent to increase the number of cycles in permutation to $n$ by some operations. So lets investigate how swaps changes the cycles? The answer is quite simple and is very similar to what we have with inversions: a swap either increase or decrease the number of cycles by 1.\n",
    "\n",
    "Case 1. Swapping elements in the same cycle. Consider a cycle $c_1, \\ldots, c_m$ and a swap of $p_{c_i}$ with $p_{c_j}$, $i<j$. In this case we will get two cycles $c_1, \\ldots, c_{i}, c_{j+1}, \\ldots, c_m$ and $c_{i+1}, \\ldots, c_j$."
   ]
  },
  {
   "cell_type": "code",
   "execution_count": 17,
   "id": "9b548ead",
   "metadata": {},
   "outputs": [],
   "source": [
    "from interactive_visualization.graph_utils import Graph, Arc"
   ]
  },
  {
   "cell_type": "code",
   "execution_count": 18,
   "id": "9b1c47b2",
   "metadata": {},
   "outputs": [
    {
     "name": "stdout",
     "output_type": "stream",
     "text": [
      "Before transposition: [[1, 2, 3, 4, 5, 6, 7, 0]]\n",
      "After transposition:  [[1, 2, 3, 0], [5, 6, 7, 4]]\n"
     ]
    },
    {
     "data": {
      "image/svg+xml": [
       "<?xml version=\"1.0\" encoding=\"UTF-8\" standalone=\"no\"?>\r\n",
       "<!DOCTYPE svg PUBLIC \"-//W3C//DTD SVG 1.1//EN\"\r\n",
       " \"http://www.w3.org/Graphics/SVG/1.1/DTD/svg11.dtd\">\r\n",
       "<!-- Generated by graphviz version 2.44.2~dev.20200826.1453 (20200826.1453)\r\n",
       " -->\r\n",
       "<!-- Pages: 1 -->\r\n",
       "<svg width=\"548pt\" height=\"110pt\"\r\n",
       " viewBox=\"0.00 0.00 548.00 110.00\" xmlns=\"http://www.w3.org/2000/svg\" xmlns:xlink=\"http://www.w3.org/1999/xlink\">\r\n",
       "<g id=\"graph0\" class=\"graph\" transform=\"scale(1 1) rotate(0) translate(4 106)\">\r\n",
       "<polygon fill=\"white\" stroke=\"transparent\" points=\"-4,4 -4,-106 544,-106 544,4 -4,4\"/>\r\n",
       "<!-- 0 -->\r\n",
       "<g id=\"node1\" class=\"node\">\r\n",
       "<title>0</title>\r\n",
       "<ellipse fill=\"none\" stroke=\"black\" cx=\"18\" cy=\"-19\" rx=\"18\" ry=\"18\"/>\r\n",
       "<text text-anchor=\"middle\" x=\"18\" y=\"-15.3\" font-family=\"Times New Roman,serif\" font-size=\"14.00\">0</text>\r\n",
       "</g>\r\n",
       "<!-- 1 -->\r\n",
       "<g id=\"node2\" class=\"node\">\r\n",
       "<title>1</title>\r\n",
       "<ellipse fill=\"none\" stroke=\"black\" cx=\"90\" cy=\"-84\" rx=\"18\" ry=\"18\"/>\r\n",
       "<text text-anchor=\"middle\" x=\"90\" y=\"-80.3\" font-family=\"Times New Roman,serif\" font-size=\"14.00\">1</text>\r\n",
       "</g>\r\n",
       "<!-- 0&#45;&gt;1 -->\r\n",
       "<g id=\"edge1\" class=\"edge\">\r\n",
       "<title>0:&#45;&gt;1:</title>\r\n",
       "<path fill=\"none\" stroke=\"black\" d=\"M31.84,-30.92C42.2,-40.54 56.96,-54.25 68.89,-65.33\"/>\r\n",
       "<polygon fill=\"black\" stroke=\"black\" points=\"76.24,-72.15 65.85,-68.65 72.58,-68.75 68.91,-65.35 68.91,-65.35 68.91,-65.35 72.58,-68.75 71.98,-62.05 76.24,-72.15 76.24,-72.15\"/>\r\n",
       "</g>\r\n",
       "<!-- 2 -->\r\n",
       "<g id=\"node3\" class=\"node\">\r\n",
       "<title>2</title>\r\n",
       "<ellipse fill=\"none\" stroke=\"black\" cx=\"162\" cy=\"-84\" rx=\"18\" ry=\"18\"/>\r\n",
       "<text text-anchor=\"middle\" x=\"162\" y=\"-80.3\" font-family=\"Times New Roman,serif\" font-size=\"14.00\">2</text>\r\n",
       "</g>\r\n",
       "<!-- 1&#45;&gt;2 -->\r\n",
       "<g id=\"edge2\" class=\"edge\">\r\n",
       "<title>1:&#45;&gt;2:</title>\r\n",
       "<path fill=\"none\" stroke=\"black\" d=\"M108.3,-84C116.02,-84 125.29,-84 133.89,-84\"/>\r\n",
       "<polygon fill=\"black\" stroke=\"black\" points=\"143.9,-84 133.9,-88.5 138.9,-84 133.9,-84 133.9,-84 133.9,-84 138.9,-84 133.9,-79.5 143.9,-84 143.9,-84\"/>\r\n",
       "</g>\r\n",
       "<!-- 3 -->\r\n",
       "<g id=\"node4\" class=\"node\">\r\n",
       "<title>3</title>\r\n",
       "<ellipse fill=\"none\" stroke=\"black\" cx=\"234\" cy=\"-84\" rx=\"18\" ry=\"18\"/>\r\n",
       "<text text-anchor=\"middle\" x=\"234\" y=\"-80.3\" font-family=\"Times New Roman,serif\" font-size=\"14.00\">3</text>\r\n",
       "</g>\r\n",
       "<!-- 2&#45;&gt;3 -->\r\n",
       "<g id=\"edge3\" class=\"edge\">\r\n",
       "<title>2:&#45;&gt;3:</title>\r\n",
       "<path fill=\"none\" stroke=\"black\" d=\"M180.3,-84C188.02,-84 197.29,-84 205.89,-84\"/>\r\n",
       "<polygon fill=\"black\" stroke=\"black\" points=\"215.9,-84 205.9,-88.5 210.9,-84 205.9,-84 205.9,-84 205.9,-84 210.9,-84 205.9,-79.5 215.9,-84 215.9,-84\"/>\r\n",
       "</g>\r\n",
       "<!-- 3&#45;&gt;0 -->\r\n",
       "<g id=\"edge5\" class=\"edge\">\r\n",
       "<title>3:&#45;&gt;0:</title>\r\n",
       "<path fill=\"none\" stroke=\"black\" stroke-dasharray=\"5,2\" d=\"M218.13,-75.21C207.74,-69.37 193.38,-61.91 180,-57 134.21,-40.21 78.33,-28.98 45.89,-23.31\"/>\r\n",
       "<polygon fill=\"black\" stroke=\"black\" points=\"35.84,-21.61 46.45,-18.84 40.77,-22.44 45.7,-23.28 45.7,-23.28 45.7,-23.28 40.77,-22.44 44.95,-27.72 35.84,-21.61 35.84,-21.61\"/>\r\n",
       "</g>\r\n",
       "<!-- 4 -->\r\n",
       "<g id=\"node5\" class=\"node\">\r\n",
       "<title>4</title>\r\n",
       "<ellipse fill=\"none\" stroke=\"black\" cx=\"306\" cy=\"-84\" rx=\"18\" ry=\"18\"/>\r\n",
       "<text text-anchor=\"middle\" x=\"306\" y=\"-80.3\" font-family=\"Times New Roman,serif\" font-size=\"14.00\">4</text>\r\n",
       "</g>\r\n",
       "<!-- 3&#45;&gt;4 -->\r\n",
       "<g id=\"edge4\" class=\"edge\">\r\n",
       "<title>3:&#45;&gt;4:</title>\r\n",
       "<path fill=\"none\" stroke=\"black\" stroke-dasharray=\"1,5\" d=\"M252.3,-84C260.02,-84 269.29,-84 277.89,-84\"/>\r\n",
       "<polygon fill=\"black\" stroke=\"black\" points=\"287.9,-84 277.9,-88.5 282.9,-84 277.9,-84 277.9,-84 277.9,-84 282.9,-84 277.9,-79.5 287.9,-84 287.9,-84\"/>\r\n",
       "</g>\r\n",
       "<!-- 5 -->\r\n",
       "<g id=\"node6\" class=\"node\">\r\n",
       "<title>5</title>\r\n",
       "<ellipse fill=\"none\" stroke=\"black\" cx=\"378\" cy=\"-84\" rx=\"18\" ry=\"18\"/>\r\n",
       "<text text-anchor=\"middle\" x=\"378\" y=\"-80.3\" font-family=\"Times New Roman,serif\" font-size=\"14.00\">5</text>\r\n",
       "</g>\r\n",
       "<!-- 4&#45;&gt;5 -->\r\n",
       "<g id=\"edge6\" class=\"edge\">\r\n",
       "<title>4:&#45;&gt;5:</title>\r\n",
       "<path fill=\"none\" stroke=\"black\" d=\"M324.3,-84C332.02,-84 341.29,-84 349.89,-84\"/>\r\n",
       "<polygon fill=\"black\" stroke=\"black\" points=\"359.9,-84 349.9,-88.5 354.9,-84 349.9,-84 349.9,-84 349.9,-84 354.9,-84 349.9,-79.5 359.9,-84 359.9,-84\"/>\r\n",
       "</g>\r\n",
       "<!-- 6 -->\r\n",
       "<g id=\"node7\" class=\"node\">\r\n",
       "<title>6</title>\r\n",
       "<ellipse fill=\"none\" stroke=\"black\" cx=\"450\" cy=\"-84\" rx=\"18\" ry=\"18\"/>\r\n",
       "<text text-anchor=\"middle\" x=\"450\" y=\"-80.3\" font-family=\"Times New Roman,serif\" font-size=\"14.00\">6</text>\r\n",
       "</g>\r\n",
       "<!-- 5&#45;&gt;6 -->\r\n",
       "<g id=\"edge7\" class=\"edge\">\r\n",
       "<title>5:&#45;&gt;6:</title>\r\n",
       "<path fill=\"none\" stroke=\"black\" d=\"M396.3,-84C404.02,-84 413.29,-84 421.89,-84\"/>\r\n",
       "<polygon fill=\"black\" stroke=\"black\" points=\"431.9,-84 421.9,-88.5 426.9,-84 421.9,-84 421.9,-84 421.9,-84 426.9,-84 421.9,-79.5 431.9,-84 431.9,-84\"/>\r\n",
       "</g>\r\n",
       "<!-- 7 -->\r\n",
       "<g id=\"node8\" class=\"node\">\r\n",
       "<title>7</title>\r\n",
       "<ellipse fill=\"none\" stroke=\"black\" cx=\"522\" cy=\"-19\" rx=\"18\" ry=\"18\"/>\r\n",
       "<text text-anchor=\"middle\" x=\"522\" y=\"-15.3\" font-family=\"Times New Roman,serif\" font-size=\"14.00\">7</text>\r\n",
       "</g>\r\n",
       "<!-- 6&#45;&gt;7 -->\r\n",
       "<g id=\"edge8\" class=\"edge\">\r\n",
       "<title>6:&#45;&gt;7:</title>\r\n",
       "<path fill=\"none\" stroke=\"black\" d=\"M463.84,-72.08C474.2,-62.46 488.96,-48.75 500.89,-37.67\"/>\r\n",
       "<polygon fill=\"black\" stroke=\"black\" points=\"508.24,-30.85 503.98,-40.95 504.58,-34.25 500.91,-37.65 500.91,-37.65 500.91,-37.65 504.58,-34.25 497.85,-34.35 508.24,-30.85 508.24,-30.85\"/>\r\n",
       "</g>\r\n",
       "<!-- 7&#45;&gt;0 -->\r\n",
       "<g id=\"edge9\" class=\"edge\">\r\n",
       "<title>7:&#45;&gt;0:</title>\r\n",
       "<path fill=\"none\" stroke=\"black\" stroke-dasharray=\"1,5\" d=\"M504.05,-15.25C477.52,-9.71 424.52,0 379,0 161,0 161,0 161,0 120.64,0 74.39,-7.63 45.94,-13.22\"/>\r\n",
       "<polygon fill=\"black\" stroke=\"black\" points=\"35.95,-15.25 44.86,-8.85 40.85,-14.25 45.75,-13.26 45.75,-13.26 45.75,-13.26 40.85,-14.25 46.65,-17.67 35.95,-15.25 35.95,-15.25\"/>\r\n",
       "</g>\r\n",
       "<!-- 7&#45;&gt;4 -->\r\n",
       "<g id=\"edge10\" class=\"edge\">\r\n",
       "<title>7:&#45;&gt;4:</title>\r\n",
       "<path fill=\"none\" stroke=\"black\" stroke-dasharray=\"5,2\" d=\"M504.16,-21.61C474.43,-26.51 410.96,-38.31 360,-57 350.17,-60.6 339.82,-65.58 330.9,-70.29\"/>\r\n",
       "<polygon fill=\"black\" stroke=\"black\" points=\"321.87,-75.21 328.5,-66.47 326.26,-72.81 330.65,-70.42 330.65,-70.42 330.65,-70.42 326.26,-72.81 332.81,-74.37 321.87,-75.21 321.87,-75.21\"/>\r\n",
       "</g>\r\n",
       "</g>\r\n",
       "</svg>\r\n"
      ],
      "text/plain": [
       "<graphviz.dot.Digraph at 0x14b58b7fb50>"
      ]
     },
     "execution_count": 18,
     "metadata": {},
     "output_type": "execute_result"
    }
   ],
   "source": [
    "permutation = [1, 2, 3, 4, 5, 6, 7, 0]\n",
    "i, j = 3, 7\n",
    "arcs = [Arc(k, x, attributes= {\"style\" : (\"dotted\" if k == i or k == j else \"solid\")}) for k, x in enumerate(permutation)]\n",
    "arcs.append(Arc(i, permutation[j], attributes={\"constraint\" : \"False\", \"style\" : \"dashed\"}))\n",
    "arcs.append(Arc(j, permutation[i], attributes={\"constraint\" : \"False\", \"style\" : \"dashed\"}))\n",
    "print(\"Before transposition:\", decompose_cycles(permutation))\n",
    "permutation[i], permutation[j] = permutation[j], permutation[i]\n",
    "print(\"After transposition: \", decompose_cycles(permutation))\n",
    "Graph(arcs).Visualize()"
   ]
  },
  {
   "cell_type": "markdown",
   "id": "bc5508dc",
   "metadata": {},
   "source": [
    "Case 2. Swapping elements in different cycles. Consider a cycle $c_1, \\ldots, c_m$ and $d_1, \\ldots, d_k$. Suppose we are swapping $p_{c_i}$ with $p_{d_j}$. We will end up with the cycle $c_1, \\ldots, c_i, d_{j+1}, \\ldots, d_k, d_1, \\ldots, d_j$."
   ]
  },
  {
   "cell_type": "code",
   "execution_count": 19,
   "id": "dbee80ef",
   "metadata": {},
   "outputs": [
    {
     "name": "stdout",
     "output_type": "stream",
     "text": [
      "Before transposition: [[1, 2, 3, 0], [5, 6, 7, 4]]\n",
      "After transposition:  [[1, 2, 4, 5, 6, 7, 3, 0]]\n"
     ]
    },
    {
     "data": {
      "image/svg+xml": [
       "<?xml version=\"1.0\" encoding=\"UTF-8\" standalone=\"no\"?>\r\n",
       "<!DOCTYPE svg PUBLIC \"-//W3C//DTD SVG 1.1//EN\"\r\n",
       " \"http://www.w3.org/Graphics/SVG/1.1/DTD/svg11.dtd\">\r\n",
       "<!-- Generated by graphviz version 2.44.2~dev.20200826.1453 (20200826.1453)\r\n",
       " -->\r\n",
       "<!-- Pages: 1 -->\r\n",
       "<svg width=\"260pt\" height=\"197pt\"\r\n",
       " viewBox=\"0.00 0.00 260.00 197.00\" xmlns=\"http://www.w3.org/2000/svg\" xmlns:xlink=\"http://www.w3.org/1999/xlink\">\r\n",
       "<g id=\"graph0\" class=\"graph\" transform=\"scale(1 1) rotate(0) translate(4 193)\">\r\n",
       "<polygon fill=\"white\" stroke=\"transparent\" points=\"-4,4 -4,-193 256,-193 256,4 -4,4\"/>\r\n",
       "<!-- 0 -->\r\n",
       "<g id=\"node1\" class=\"node\">\r\n",
       "<title>0</title>\r\n",
       "<ellipse fill=\"none\" stroke=\"black\" cx=\"18\" cy=\"-148\" rx=\"18\" ry=\"18\"/>\r\n",
       "<text text-anchor=\"middle\" x=\"18\" y=\"-144.3\" font-family=\"Times New Roman,serif\" font-size=\"14.00\">0</text>\r\n",
       "</g>\r\n",
       "<!-- 1 -->\r\n",
       "<g id=\"node2\" class=\"node\">\r\n",
       "<title>1</title>\r\n",
       "<ellipse fill=\"none\" stroke=\"black\" cx=\"90\" cy=\"-171\" rx=\"18\" ry=\"18\"/>\r\n",
       "<text text-anchor=\"middle\" x=\"90\" y=\"-167.3\" font-family=\"Times New Roman,serif\" font-size=\"14.00\">1</text>\r\n",
       "</g>\r\n",
       "<!-- 0&#45;&gt;1 -->\r\n",
       "<g id=\"edge1\" class=\"edge\">\r\n",
       "<title>0:&#45;&gt;1:</title>\r\n",
       "<path fill=\"none\" stroke=\"black\" d=\"M35.24,-153.33C43.42,-156.02 53.55,-159.35 62.8,-162.39\"/>\r\n",
       "<polygon fill=\"black\" stroke=\"black\" points=\"72.37,-165.53 61.46,-166.69 67.62,-163.97 62.87,-162.41 62.87,-162.41 62.87,-162.41 67.62,-163.97 64.27,-158.14 72.37,-165.53 72.37,-165.53\"/>\r\n",
       "</g>\r\n",
       "<!-- 2 -->\r\n",
       "<g id=\"node3\" class=\"node\">\r\n",
       "<title>2</title>\r\n",
       "<ellipse fill=\"none\" stroke=\"black\" cx=\"162\" cy=\"-171\" rx=\"18\" ry=\"18\"/>\r\n",
       "<text text-anchor=\"middle\" x=\"162\" y=\"-167.3\" font-family=\"Times New Roman,serif\" font-size=\"14.00\">2</text>\r\n",
       "</g>\r\n",
       "<!-- 1&#45;&gt;2 -->\r\n",
       "<g id=\"edge2\" class=\"edge\">\r\n",
       "<title>1:&#45;&gt;2:</title>\r\n",
       "<path fill=\"none\" stroke=\"black\" d=\"M108.3,-171C116.02,-171 125.29,-171 133.89,-171\"/>\r\n",
       "<polygon fill=\"black\" stroke=\"black\" points=\"143.9,-171 133.9,-175.5 138.9,-171 133.9,-171 133.9,-171 133.9,-171 138.9,-171 133.9,-166.5 143.9,-171 143.9,-171\"/>\r\n",
       "</g>\r\n",
       "<!-- 3 -->\r\n",
       "<g id=\"node4\" class=\"node\">\r\n",
       "<title>3</title>\r\n",
       "<ellipse fill=\"none\" stroke=\"black\" cx=\"234\" cy=\"-148\" rx=\"18\" ry=\"18\"/>\r\n",
       "<text text-anchor=\"middle\" x=\"234\" y=\"-144.3\" font-family=\"Times New Roman,serif\" font-size=\"14.00\">3</text>\r\n",
       "</g>\r\n",
       "<!-- 2&#45;&gt;3 -->\r\n",
       "<g id=\"edge3\" class=\"edge\">\r\n",
       "<title>2:&#45;&gt;3:</title>\r\n",
       "<path fill=\"none\" stroke=\"black\" stroke-dasharray=\"1,5\" d=\"M179.24,-165.67C187.42,-162.98 197.55,-159.65 206.8,-156.61\"/>\r\n",
       "<polygon fill=\"black\" stroke=\"black\" points=\"216.37,-153.47 208.27,-160.86 211.62,-155.03 206.87,-156.59 206.87,-156.59 206.87,-156.59 211.62,-155.03 205.46,-152.31 216.37,-153.47 216.37,-153.47\"/>\r\n",
       "</g>\r\n",
       "<!-- 4 -->\r\n",
       "<g id=\"node5\" class=\"node\">\r\n",
       "<title>4</title>\r\n",
       "<ellipse fill=\"none\" stroke=\"black\" cx=\"18\" cy=\"-18\" rx=\"18\" ry=\"18\"/>\r\n",
       "<text text-anchor=\"middle\" x=\"18\" y=\"-14.3\" font-family=\"Times New Roman,serif\" font-size=\"14.00\">4</text>\r\n",
       "</g>\r\n",
       "<!-- 2&#45;&gt;4 -->\r\n",
       "<g id=\"edge4\" class=\"edge\">\r\n",
       "<title>2:&#45;&gt;4:</title>\r\n",
       "<path fill=\"none\" stroke=\"black\" stroke-dasharray=\"5,2\" d=\"M148.87,-157.93C124.06,-131.2 67.36,-70.11 37.77,-38.22\"/>\r\n",
       "<polygon fill=\"black\" stroke=\"black\" points=\"30.86,-30.78 40.96,-35.05 34.26,-34.45 37.67,-38.11 37.67,-38.11 37.67,-38.11 34.26,-34.45 34.37,-41.17 30.86,-30.78 30.86,-30.78\"/>\r\n",
       "</g>\r\n",
       "<!-- 3&#45;&gt;0 -->\r\n",
       "<g id=\"edge5\" class=\"edge\">\r\n",
       "<title>3:&#45;&gt;0:</title>\r\n",
       "<path fill=\"none\" stroke=\"black\" d=\"M215.83,-146.38C205.47,-145.48 191.99,-144.45 180,-144 132.03,-142.19 119.97,-142.19 72,-144 63.67,-144.31 54.61,-144.91 46.38,-145.54\"/>\r\n",
       "<polygon fill=\"black\" stroke=\"black\" points=\"36.17,-146.38 45.77,-141.07 41.15,-145.97 46.13,-145.56 46.13,-145.56 46.13,-145.56 41.15,-145.97 46.5,-150.04 36.17,-146.38 36.17,-146.38\"/>\r\n",
       "</g>\r\n",
       "<!-- 5 -->\r\n",
       "<g id=\"node6\" class=\"node\">\r\n",
       "<title>5</title>\r\n",
       "<ellipse fill=\"none\" stroke=\"black\" cx=\"90\" cy=\"-41\" rx=\"18\" ry=\"18\"/>\r\n",
       "<text text-anchor=\"middle\" x=\"90\" y=\"-37.3\" font-family=\"Times New Roman,serif\" font-size=\"14.00\">5</text>\r\n",
       "</g>\r\n",
       "<!-- 4&#45;&gt;5 -->\r\n",
       "<g id=\"edge6\" class=\"edge\">\r\n",
       "<title>4:&#45;&gt;5:</title>\r\n",
       "<path fill=\"none\" stroke=\"black\" d=\"M35.24,-23.33C43.42,-26.02 53.55,-29.35 62.8,-32.39\"/>\r\n",
       "<polygon fill=\"black\" stroke=\"black\" points=\"72.37,-35.53 61.46,-36.69 67.62,-33.97 62.87,-32.41 62.87,-32.41 62.87,-32.41 67.62,-33.97 64.27,-28.14 72.37,-35.53 72.37,-35.53\"/>\r\n",
       "</g>\r\n",
       "<!-- 6 -->\r\n",
       "<g id=\"node7\" class=\"node\">\r\n",
       "<title>6</title>\r\n",
       "<ellipse fill=\"none\" stroke=\"black\" cx=\"162\" cy=\"-41\" rx=\"18\" ry=\"18\"/>\r\n",
       "<text text-anchor=\"middle\" x=\"162\" y=\"-37.3\" font-family=\"Times New Roman,serif\" font-size=\"14.00\">6</text>\r\n",
       "</g>\r\n",
       "<!-- 5&#45;&gt;6 -->\r\n",
       "<g id=\"edge7\" class=\"edge\">\r\n",
       "<title>5:&#45;&gt;6:</title>\r\n",
       "<path fill=\"none\" stroke=\"black\" d=\"M108.3,-41C116.02,-41 125.29,-41 133.89,-41\"/>\r\n",
       "<polygon fill=\"black\" stroke=\"black\" points=\"143.9,-41 133.9,-45.5 138.9,-41 133.9,-41 133.9,-41 133.9,-41 138.9,-41 133.9,-36.5 143.9,-41 143.9,-41\"/>\r\n",
       "</g>\r\n",
       "<!-- 7 -->\r\n",
       "<g id=\"node8\" class=\"node\">\r\n",
       "<title>7</title>\r\n",
       "<ellipse fill=\"none\" stroke=\"black\" cx=\"234\" cy=\"-18\" rx=\"18\" ry=\"18\"/>\r\n",
       "<text text-anchor=\"middle\" x=\"234\" y=\"-14.3\" font-family=\"Times New Roman,serif\" font-size=\"14.00\">7</text>\r\n",
       "</g>\r\n",
       "<!-- 6&#45;&gt;7 -->\r\n",
       "<g id=\"edge8\" class=\"edge\">\r\n",
       "<title>6:&#45;&gt;7:</title>\r\n",
       "<path fill=\"none\" stroke=\"black\" d=\"M179.24,-35.67C187.42,-32.98 197.55,-29.65 206.8,-26.61\"/>\r\n",
       "<polygon fill=\"black\" stroke=\"black\" points=\"216.37,-23.47 208.27,-30.86 211.62,-25.03 206.87,-26.59 206.87,-26.59 206.87,-26.59 211.62,-25.03 205.46,-22.31 216.37,-23.47 216.37,-23.47\"/>\r\n",
       "</g>\r\n",
       "<!-- 7&#45;&gt;3 -->\r\n",
       "<g id=\"edge10\" class=\"edge\">\r\n",
       "<title>7:&#45;&gt;3:</title>\r\n",
       "<path fill=\"none\" stroke=\"black\" stroke-dasharray=\"5,2\" d=\"M234,-36.03C234,-63.82 234,-91.6 234,-119.39\"/>\r\n",
       "<polygon fill=\"black\" stroke=\"black\" points=\"234,-129.63 229.5,-119.63 234,-124.63 234,-119.63 234,-119.63 234,-119.63 234,-124.63 238.5,-119.63 234,-129.63 234,-129.63\"/>\r\n",
       "</g>\r\n",
       "<!-- 7&#45;&gt;4 -->\r\n",
       "<g id=\"edge9\" class=\"edge\">\r\n",
       "<title>7:&#45;&gt;4:</title>\r\n",
       "<path fill=\"none\" stroke=\"black\" stroke-dasharray=\"1,5\" d=\"M215.83,-16.38C205.47,-15.48 191.99,-14.45 180,-14 132.03,-12.19 119.97,-12.19 72,-14 63.67,-14.31 54.61,-14.91 46.38,-15.54\"/>\r\n",
       "<polygon fill=\"black\" stroke=\"black\" points=\"36.17,-16.38 45.77,-11.07 41.15,-15.97 46.13,-15.56 46.13,-15.56 46.13,-15.56 41.15,-15.97 46.5,-20.04 36.17,-16.38 36.17,-16.38\"/>\r\n",
       "</g>\r\n",
       "</g>\r\n",
       "</svg>\r\n"
      ],
      "text/plain": [
       "<graphviz.dot.Digraph at 0x14b58b7f6d0>"
      ]
     },
     "execution_count": 19,
     "metadata": {},
     "output_type": "execute_result"
    }
   ],
   "source": [
    "permutation = [1, 2, 3, 0, 5, 6, 7, 4]\n",
    "i, j = 2, 7\n",
    "arcs = [Arc(k, x, attributes= {\"style\" : (\"dotted\" if k == i or k == j else \"solid\")}) for k, x in enumerate(permutation)]\n",
    "arcs.append(Arc(i, permutation[j], attributes={\"constraint\" : \"False\", \"style\" : \"dashed\"}))\n",
    "arcs.append(Arc(j, permutation[i], attributes={\"constraint\" : \"False\", \"style\" : \"dashed\"}))\n",
    "print(\"Before transposition:\", decompose_cycles(permutation))\n",
    "permutation[i], permutation[j] = permutation[j], permutation[i]\n",
    "print(\"After transposition: \", decompose_cycles(permutation))\n",
    "Graph(arcs).Visualize()"
   ]
  },
  {
   "cell_type": "markdown",
   "id": "22b90dfe",
   "metadata": {},
   "source": [
    "in the end we get the following lemma\n",
    "\n",
    "**Lemma**. If $p$ is a permutation with order $n$ and $m$ cycles then the minimum number of swaps needed to sort the permutation is $n$ - $m$.\n",
    "\n",
    "**Proof**. Given above. $\\blacksquare$\n",
    "\n",
    "For consistency lets prove another simple lemma so our analysis will be valid for a sequence of unique elements rather than a permutation.\n",
    "\n",
    "**Lemma**. Suppose that $a_1, \\ldots, a_n$ is a sequence of unique elements and $p_1, \\ldots, p_n$ is a permutation such that $p_i$ is the position of the $a_i$ when $a$ is sorted. Since $a$ does not have duplicate values this definition is unambiguous. Any comparison based sorting algorithm performs the same actions on $a$ and $p$.\n",
    "\n",
    "**Proof**. The idea is simple: lets just prove that for any $i$ the sets $\\{j|a_i<a_j\\}$ and $\\{j|p_i<p_j\\}$ are equal. This mean that any comparison made by the algorithm will have the same result whether we got $a$ or $p$ initially. By definition if $a_i<a_j$ then position of $a_i$ in sorted order is lower than position of $p_j$, and so $p_i<p_j$ and vice versa. $\\blacksquare$\n",
    "\n",
    "Finally we arive at the following theorem.\n",
    "\n",
    "**Theorem**. Selection sort performs the least possible swaps need to sort an array if it consits of unique elements.\n",
    "\n",
    "**Proof**. Due to latter lemma we may prove this only for permutations. Due to first lemma we just need to prove that swaps in selection sort increases the number of cycles. When applied to permutation at step $i$ selection sort finds element $a_j=i$ and swaps it with the $a_i$. Since $a_j=i$ the swap is performed over a single cycle and thus increases the number of cycles by $1$. $\\blacksquare$ "
   ]
  },
  {
   "cell_type": "code",
   "execution_count": 20,
   "id": "bfe2c6ec",
   "metadata": {},
   "outputs": [],
   "source": [
    "def calc_minimum_number_of_swaps(array):\n",
    "    pos = dict()\n",
    "    for i, x in enumerate(sorted(array)):\n",
    "        pos[x] = i\n",
    "\n",
    "    num_cycles = len(decompose_cycles([pos[x] for x in array]))\n",
    "    return len(array) - num_cycles"
   ]
  },
  {
   "cell_type": "code",
   "execution_count": 21,
   "id": "4af6e527",
   "metadata": {},
   "outputs": [
    {
     "name": "stdout",
     "output_type": "stream",
     "text": [
      "Minimum number of swaps: 12\n"
     ]
    }
   ],
   "source": [
    "array = [x for x in initial_array]\n",
    "print(f\"Minimum number of swaps: {calc_minimum_number_of_swaps(array)}\")"
   ]
  },
  {
   "cell_type": "markdown",
   "id": "73fcdeca",
   "metadata": {},
   "source": [
    "## Logarithmic sorts"
   ]
  },
  {
   "cell_type": "markdown",
   "id": "cfbd92d7",
   "metadata": {},
   "source": [
    "The term \"logarithmic\" arises from the fact that the most used sort algorithms has a time complexity of $\\mathcal{O}(n\\log n)$ ($n$ being the number elements in the array) and there cannot be asymptotically faster comparison based sorting algorithm. The proof of this fact comes from another permutation analysis variant. To prove it smoothly lets start from a lemma\n",
    "\n",
    "**Lemma**. Given a finite set $X$ and an element $x\\in X$. You can ask questions \"Is $x$ in $A\\subset X$?\". The goal is to find $x$ by asking these questions. Now, the claim is that no algorithm can guarantee less then\n",
    "$$\n",
    "\\log_2 |X|\n",
    "$$\n",
    "questions for any $x$.\n",
    "\n",
    "**Proof**. At any point we have a subset $B\\subset X$ we have already discovered such that $x\\in B$. After a single question with set $A$ we will either have $B\\cap A$ or $B\\cap (X\\setminus A)$. Are goal is to get a set with size $1$, after requesting $A$ in the worst case we will end up with the subset of the larger size and so ideal algorithm will split $B$ in half. From that we get that in ideal situation our algorithm cannot guarantee size reduction more than in $2$ for a single question. This leads to a $\\log_2 |X|$ lower bound on the number of questions. $\\blacksquare$\n",
    "\n",
    "Now, the sorting algorithms lower bound\n",
    "\n",
    "**Theorem**. The amount of comparisons needed to determine the permutation of the sorted order for the array is $\\Theta (n\\log n)$ ($n$ is the size of the array) in the worst case. And thus, complexity of any comparison based sorting algorithm is lower bounded by this value.\n",
    "\n",
    "**Proof**. In the worst case we are to find a single possible permutation from a $n!$ permutation. A single comoparison splits the set of all permutations in two and gives us information whether sorted perutation is in one of them. This is exactly the scheme that happens in the lemma and thus we can deduce the lower bound\n",
    "$$\n",
    "\\log_2(n!)\\geq\\log_2\\left(\\frac{n}{2}\\right)^{\\frac{n}{2}}=\\frac{n}{2}\\log_2\\frac{n}{2}=\\Theta(n\\log n)\n",
    "$$"
   ]
  },
  {
   "cell_type": "markdown",
   "id": "a15c9346",
   "metadata": {},
   "source": [
    "## Quicksort\n",
    "Classic quicksort by Hoare is a longstaning practical choice for sorting. The general idea is to do the following divide-and-conquer procedure \n",
    "* Choose a random element $x$ from the array\n",
    "* Split the array into elements that compare less then $x$ and others\n",
    "* Process recursively these two arrays\n",
    "* Concatenate the results\n",
    "\n",
    "The key of the algorithm is an effective procedure for the second stage that is based on the two-pointer method: first pointer starts at the beginning of the array and moves forward, second pointer starts at the end of the array and moves backwards, a single iteration consists of moving first pointer forward until it finds an element greater than $x$ and moving the second pointer backwards until it finds an element less then $x$, then we swap these elements and continue until these two pointers meet. The whole procedure scans the array a single time and thus is linear. It is notable that the procedure can be effetively done on both array and doubly linked list."
   ]
  },
  {
   "cell_type": "code",
   "execution_count": 22,
   "id": "70a7d607",
   "metadata": {},
   "outputs": [],
   "source": [
    "import random\n",
    "\n",
    "def qsort_state(array, left, right, x, p, q):\n",
    "    colors = []\n",
    "    for i, y in enumerate(array):\n",
    "        if y == x:\n",
    "            colors.append('magenta')\n",
    "        elif left <= i and i < right:\n",
    "            if i == p:\n",
    "                colors.append('green')\n",
    "            elif i == q:\n",
    "                colors.append('yellow')\n",
    "            else:\n",
    "                colors.append('red')\n",
    "        else:\n",
    "            colors.append('blue')\n",
    "    return basic_sort_state(array, colors)\n",
    "\n",
    "def qsort(array, left, right, states):\n",
    "    if right - left <= 1:\n",
    "        return 0, 0\n",
    "    x = array[random.randint(left, right - 1)]\n",
    "    p = left\n",
    "    q = right - 1\n",
    "    states.append(qsort_state(array, left, right, x, -1, -1))\n",
    "    comparisons, swaps = 0, 0\n",
    "    while p <= q:\n",
    "        comparisons += 1\n",
    "        while array[p] < x:\n",
    "            comparisons += 1\n",
    "            p += 1\n",
    "            states.append(qsort_state(array, left, right, x, p, q))\n",
    "        comparisons += 1\n",
    "        while array[q] > x:\n",
    "            comparisons += 1\n",
    "            q -= 1\n",
    "            states.append(qsort_state(array, left, right, x, p, q))\n",
    "        if p <= q:\n",
    "            swaps += 1\n",
    "            array[p], array[q] = (array[q], array[p])\n",
    "            states.append(qsort_state(array, left, right, x, p, q))\n",
    "            p += 1\n",
    "            q -= 1\n",
    "            if p <= q:\n",
    "                states.append(qsort_state(array, left, right, x, p, q))\n",
    "    add_comparisons, add_swaps = qsort(array, left, q + 1, states)\n",
    "    comparisons, swaps = (comparisons + add_comparisons, swaps + add_swaps)\n",
    "    add_comparisons, add_swaps = qsort(array, p, right, states)\n",
    "    comparisons, swaps = (comparisons + add_comparisons, swaps + add_swaps)\n",
    "    \n",
    "    return comparisons, swaps"
   ]
  },
  {
   "cell_type": "code",
   "execution_count": 23,
   "id": "2e715863",
   "metadata": {},
   "outputs": [
    {
     "name": "stdout",
     "output_type": "stream",
     "text": [
      "[-11, -10, -9, -8, -5, 2, 5, 7, 8, 9, 10, 11, 13]\n",
      "Comparisons: 63\n",
      "Swaps:       15\n"
     ]
    }
   ],
   "source": [
    "array = [x for x in initial_array]\n",
    "states = []\n",
    "comparisons, swaps = qsort(array, 0, len(array), states)\n",
    "print(array)\n",
    "print(f\"Comparisons: {comparisons}\")\n",
    "print(f\"Swaps:       {swaps}\")"
   ]
  },
  {
   "cell_type": "code",
   "execution_count": 24,
   "id": "20f04d00",
   "metadata": {},
   "outputs": [
    {
     "data": {
      "application/vnd.jupyter.widget-view+json": {
       "model_id": "57e56891b8314453bbdab3239467fbd5",
       "version_major": 2,
       "version_minor": 0
      },
      "text/plain": [
       "HBox(children=(Play(value=0, interval=200), Button(description='Prev', style=ButtonStyle()), Button(descriptio…"
      ]
     },
     "metadata": {},
     "output_type": "display_data"
    },
    {
     "data": {
      "application/vnd.jupyter.widget-view+json": {
       "model_id": "139744a9613549a28fe58d79486e0c20",
       "version_major": 2,
       "version_minor": 0
      },
      "text/plain": [
       "interactive(children=(IntSlider(value=0, description='step', max=59), Output()), _dom_classes=('widget-interac…"
      ]
     },
     "metadata": {},
     "output_type": "display_data"
    }
   ],
   "source": [
    "animate_list(states, play=True);"
   ]
  },
  {
   "cell_type": "markdown",
   "id": "2cf69294",
   "metadata": {},
   "source": [
    "## Analysis\n",
    "Here we will assume that separating element is chosen uniformly random and so when we pick the element it has $\\frac{1}{n}$ probability of splitting the array of $n+1$ elements into two subarrays of sizes $(1, n), (2, n-1), \\ldots, (n, 1)$ respectively. As we discussed we need a two-pointer based linear scan to perform the splitting and so we can give the following recursion on the average complexity of quicksort for an array of size $n$:\n",
    "$$\n",
    "T(n)=\\alpha n+\\frac{1}{n-1}\\sum_{i=1}^{n-1}\\left[T(i)+T(n-i)\\right]=\\alpha n+\\frac{2}{n-1}\\sum_{i=1}^{n-1}T(i)\n",
    "$$\n",
    "Lets compare $T(n+1)$ and $T(n)$:\n",
    "$$\n",
    "\\begin{align*}\n",
    "(n-1)T(n)&=\\alpha n(n-1)+2\\sum_{i=1}^{n-1}T(i) \\\\\n",
    "n T(n+1)&=\\alpha (n+1)n+2\\sum_{i=1}^{n}T(i)\n",
    "\\end{align*}\n",
    "$$\n",
    "From this we can get a lower order recursion\n",
    "$$\n",
    "nT(n+1)-(n-1)T(n)=2\\alpha n + 2T(n)\n",
    "$$\n",
    "and a pretty form\n",
    "$$\n",
    "\\frac{T(n+1)}{n+1}=\\frac{T(n)}{n}+\\frac{2 \\alpha}{n+1}\n",
    "$$\n",
    "that can be easily backtraced to get\n",
    "$$\n",
    "T(n)=n\\sum_{i=1}^{n-1}\\left[\\frac{2 \\alpha}{i}\\right]\n",
    "$$\n",
    "The sum above is a harmonic sequence that behaves asymptotically as $\\log (n)$ which leads to a simple\n",
    "$$\n",
    "T(n)=\\Theta (n\\log n)\n",
    "$$"
   ]
  },
  {
   "cell_type": "markdown",
   "id": "2a0ba23a",
   "metadata": {},
   "source": [
    "## Bonus: qucksort based $k$th order statistic\n",
    "The problem of $k$th order statistic is to find an element at position $k$ in the sorted order of the array. Obviously we can sort an array and then findind the $k$th element would be trivial, the questions is can we do it faster? For example minimum or maximum element can be found by a simple linear scan. Another interesting thing is that $k$th element can be extracted in $\\log n$ time but would require prebuilding an array into a tree which is useful in case of multiple $k$th element queries on a static/dynamic array. Finally there is an interesting quicksort based approach that is asymptotically linear in average. The idea is simple: when we do a quick sort only one part of the array will contain the $k$th element so don't sort the other part. \n",
    "\n",
    "With this trick we can solve in linear time (on the size of the array) two similar problems:\n",
    "* Extract $k$ minimum (maximum) elements from the array in some order\n",
    "* Find the $k$th minimum (maximum) element in the array"
   ]
  },
  {
   "cell_type": "code",
   "execution_count": 25,
   "id": "c33ebeec",
   "metadata": {},
   "outputs": [],
   "source": [
    "def qsort_nth_element(array, left, right, k, states):\n",
    "    if right - left <= 1:\n",
    "        return 0, 0\n",
    "    x = array[random.randint(left, right - 1)]\n",
    "    p = left\n",
    "    q = right - 1\n",
    "    states.append(qsort_state(array, left, right, x, -1, -1))\n",
    "    comparisons, swaps = 0, 0\n",
    "    while p <= q:\n",
    "        comparisons += 1\n",
    "        while array[p] < x:\n",
    "            comparisons += 1\n",
    "            p += 1\n",
    "            states.append(qsort_state(array, left, right, x, p, q))\n",
    "        comparisons += 1\n",
    "        while array[q] > x:\n",
    "            comparisons += 1\n",
    "            q -= 1\n",
    "            states.append(qsort_state(array, left, right, x, p, q))\n",
    "        if p <= q:\n",
    "            swaps += 1\n",
    "            array[p], array[q] = (array[q], array[p])\n",
    "            states.append(qsort_state(array, left, right, x, p, q))\n",
    "            p += 1\n",
    "            q -= 1\n",
    "            if p <= q:\n",
    "                states.append(qsort_state(array, left, right, x, p, q))\n",
    "    if k < q + 1:\n",
    "        add_comparisons, add_swaps = qsort_nth_element(array, left, q + 1, k, states)\n",
    "        comparisons, swaps = (comparisons + add_comparisons, swaps + add_swaps)\n",
    "    if k >= p:\n",
    "        add_comparisons, add_swaps = qsort_nth_element(array, p, right, k, states)\n",
    "        comparisons, swaps = (comparisons + add_comparisons, swaps + add_swaps)\n",
    "    \n",
    "    return comparisons, swaps"
   ]
  },
  {
   "cell_type": "code",
   "execution_count": 26,
   "id": "6b050430",
   "metadata": {},
   "outputs": [
    {
     "name": "stdout",
     "output_type": "stream",
     "text": [
      "[-10, -11, -9, -8, -5, 2, 5, 7, 8, 9, 11, 13, 10]\n",
      "Comparisons: 62\n",
      "Swaps:       9\n"
     ]
    }
   ],
   "source": [
    "array = [x for x in initial_array]\n",
    "states = []\n",
    "k = len(array) // 2\n",
    "comparisons, swaps = qsort_nth_element(array, 0, len(array), k, states)\n",
    "states.append(qsort_state(array, 0, k + 1, array[k], -1, -1))\n",
    "print(array)\n",
    "print(f\"Comparisons: {comparisons}\")\n",
    "print(f\"Swaps:       {swaps}\")"
   ]
  },
  {
   "cell_type": "code",
   "execution_count": 27,
   "id": "30a52f49",
   "metadata": {},
   "outputs": [
    {
     "data": {
      "application/vnd.jupyter.widget-view+json": {
       "model_id": "409b7346a5914f38975e7debfb7d167b",
       "version_major": 2,
       "version_minor": 0
      },
      "text/plain": [
       "HBox(children=(Play(value=0, interval=200), Button(description='Prev', style=ButtonStyle()), Button(descriptio…"
      ]
     },
     "metadata": {},
     "output_type": "display_data"
    },
    {
     "data": {
      "application/vnd.jupyter.widget-view+json": {
       "model_id": "4b530ecfc39746fc915213fc75d63cb6",
       "version_major": 2,
       "version_minor": 0
      },
      "text/plain": [
       "interactive(children=(IntSlider(value=0, description='step', max=56), Output()), _dom_classes=('widget-interac…"
      ]
     },
     "metadata": {},
     "output_type": "display_data"
    }
   ],
   "source": [
    "animate_list(states, play=True);"
   ]
  },
  {
   "cell_type": "markdown",
   "id": "d2cbe5d6",
   "metadata": {},
   "source": [
    "## Analysis\n",
    "Similarly to analysys of quicksort we have\n",
    "$$\n",
    "T(n)=\\alpha n+\\frac{1}{n-1}\\sum_{i=1}^{n-1}T(i)\n",
    "$$\n",
    "Performing the same trick with\n",
    "$$\n",
    "nT(n+1)-(n-1)T(n)=2\\alpha n + T(n)\n",
    "$$\n",
    "and after simplification\n",
    "$$\n",
    "T(n+1)=T(n)+2\\alpha\n",
    "$$\n",
    "which leads to $\\theta(n)$."
   ]
  },
  {
   "cell_type": "markdown",
   "id": "09be2f6f",
   "metadata": {},
   "source": [
    "## Merge sort\n",
    "This is another algorithm based on divide-and-conquer paradigm:\n",
    "* Divide an array into $2$ subarrays of almost equal size\n",
    "* Use recursion to sort subarrays\n",
    "* Merge the result\n",
    "\n",
    "Again the idea is that the last part can be done by a two-pointer linear scan by the following procedure\n",
    "* Initialize first pointer at the beginning of the first half, second pointer at the beginning of the second half and a temporary array\n",
    "* Until one of pointers reached the end of its half push back the the lesser elements from the ones pointed at currently at the end of the temporary array and move corresponding pointer forward\n",
    "* Move the remaining elements of one of the arrays at the end of the temporary array\n",
    "\n",
    "The correctness is proved simply by the fact that at any moment the last element of the temporary array is less then both elements pointed out. This invariant is preserved by our main operation due to the fact that initial arrays are sorted and pushed back element is the lesser one. Unfortunately this procedure requires additional storage when we are performing it over an array, there are in-place methods but usually they are much slower. On the other hand it happens that merging procedure can be implemented inplace on a singly linked list."
   ]
  },
  {
   "cell_type": "code",
   "execution_count": 28,
   "id": "0b7ac964",
   "metadata": {},
   "outputs": [],
   "source": [
    "class SingleLinkedListNode:\n",
    "    def __init__(self, value, child = None):\n",
    "        self.value = value\n",
    "        self.child = child\n",
    "                    \n",
    "    def merge_sort(self, length):\n",
    "        if length <= 1:\n",
    "            return self, 0\n",
    "\n",
    "        length_halfed = length // 2\n",
    "        current = self\n",
    "        head = self\n",
    "\n",
    "        for _ in range(length_halfed - 1):\n",
    "            current = current.child\n",
    "\n",
    "        right_head = current.child\n",
    "        current.child = None\n",
    "        comparisons = 1\n",
    "        head, left_comparisons = head.merge_sort(length_halfed)\n",
    "        right_head, right_comparisons = right_head.merge_sort(length - length_halfed)\n",
    "        comparisons += left_comparisons + right_comparisons\n",
    "\n",
    "        if head.value <= right_head.value:\n",
    "            current = head\n",
    "            result_head = head\n",
    "            head = head.child\n",
    "        else:\n",
    "            current = right_head\n",
    "            result_head = right_head\n",
    "            right_head = right_head.child\n",
    "\n",
    "        while head is not None and right_head is not None:\n",
    "            comparisons += 1\n",
    "            if head.value <= right_head.value:\n",
    "                current.child = head\n",
    "                current = head\n",
    "                head = head.child\n",
    "            else:\n",
    "                current.child = right_head\n",
    "                current = right_head\n",
    "                right_head = right_head.child\n",
    "\n",
    "        if head != None:\n",
    "            current.child = head\n",
    "        else:\n",
    "            current.child = right_head\n",
    "        return result_head, comparisons\n",
    "\n",
    "    def __str__(self):\n",
    "        result = []\n",
    "        current = self\n",
    "        while current is not None:\n",
    "            result.append(str(current.value))\n",
    "            current = current.child\n",
    "            \n",
    "        return '[ ' + ', '.join(result) + ' ]'\n",
    "\n",
    "class SingleLinkedList:\n",
    "    def __init__(self):\n",
    "        self.head = None\n",
    "        self.size = 0\n",
    "        \n",
    "    def tail(self):\n",
    "        if self.size == 0:\n",
    "            return None\n",
    "        result = self.head\n",
    "        while result.child is not None:\n",
    "            result = result.child\n",
    "        return result\n",
    "        \n",
    "    def put_front(self, value):\n",
    "        self.head = SingleLinkedListNode(value, self.head)\n",
    "        self.size += 1\n",
    "        \n",
    "    def merge_sort(self):\n",
    "        self.head, comparisons = self.head.merge_sort(self.size)\n",
    "        return comparisons\n",
    "        \n",
    "    def __str__(self):\n",
    "        return self.head.__str__()\n",
    "            \n",
    "    @staticmethod\n",
    "    def from_list(l):\n",
    "        result = SingleLinkedList()\n",
    "        for value in reversed(l):\n",
    "            result.put_front(value)\n",
    "        \n",
    "        return result"
   ]
  },
  {
   "cell_type": "code",
   "execution_count": 29,
   "id": "9fdd52b0",
   "metadata": {},
   "outputs": [
    {
     "name": "stdout",
     "output_type": "stream",
     "text": [
      "[ 2, -11, 5, 8, 9, 7, -5, -8, -9, 10, 11, 13, -10 ]\n",
      "Comparisons: 31\n",
      "[ -11, -10, -9, -8, -5, 2, 5, 7, 8, 9, 10, 11, 13 ]\n"
     ]
    }
   ],
   "source": [
    "single_list = SingleLinkedList.from_list(initial_array)\n",
    "print(single_list)\n",
    "print(\"Comparisons:\", single_list.merge_sort())\n",
    "print(single_list)"
   ]
  },
  {
   "cell_type": "markdown",
   "id": "25107ffe",
   "metadata": {},
   "source": [
    "## Analysis\n",
    "Recurrence relation for the merge sort is formally given by\n",
    "$$\n",
    "T(n)=\\alpha n + T\\left(\\left\\lfloor\\frac{n}{2}\\right\\rfloor\\right)+T\\left(\\left\\lfloor\\frac{n+1}{2}\\right\\rfloor\\right)\n",
    "$$\n",
    "which can be safely simplified to\n",
    "$$\n",
    "T(n)=\\alpha n + 2T\\left(\\frac{n}{2}\\right)\n",
    "$$\n",
    "This kind of relations is a part of [master theorem](https://en.wikipedia.org/wiki/Master_theorem_(analysis_of_algorithms)) which provides us with $T(n)=\\Theta(n\\log n)$, but this particular case is easily verified\n",
    "$$\n",
    "T(n)=\\alpha n + 2T\\left(\\frac{n}{2}\\right)=2\\alpha n + 4T\\left(\\frac{n}{4}\\right)=\\ldots=\\alpha nk + 2^kT\\left(\\frac{n}{2_k}\\right)\n",
    "$$\n",
    "Here we apply recursion to the point where $2^{k-1}<n\\leq 2^{k}$ and thus we get\n",
    "$$\n",
    "T(n)\\approx\\alpha n\\log_2 n+nC\n",
    "$$"
   ]
  },
  {
   "cell_type": "markdown",
   "id": "296ae06d",
   "metadata": {},
   "source": [
    "## Heapsort\n",
    "This algorithm can be viewed as a modification of selection sort with a more complex minimum finding algorithm. There are a lot of ways to achieve a data structure that finds and extracts minimum with $\\mathcal{O}(\\log n)$ complexity, the interesting part about heap (or more formally binomial heap) is that it allows to do that inplace. The heap is a binary tree that is stored in an array such that\n",
    "* Root is placed at index $0$, two children of node stored at $i$ are stored at $2i+1$, $2i+2$\n",
    "* Value at parent is always less than the value of its children\n",
    "There are two $\\log n$ operations that preserve these invariant: \n",
    "* Add an element: new element is placed at the end of the array and poped up in the tree by swapping with the parent nodes until it either arrives at root or parent has lesser value\n",
    "* Extract minimum: due to invariant minimum element is stored at the root node, to remove it we place the last element at the root and move it to bottom\n",
    "For an acsending order it is easier to do maximum heap rather than minimum"
   ]
  },
  {
   "cell_type": "code",
   "execution_count": 61,
   "id": "d78ecd27",
   "metadata": {},
   "outputs": [],
   "source": [
    "from interactive_visualization.graph_utils import Graph, Arc\n",
    "\n",
    "def heap_sort_state(array, length, index):\n",
    "    arcs = []\n",
    "    for i, x in enumerate(array):\n",
    "        left_child, right_child = 2 * i + 1, 2 * i + 2\n",
    "        if left_child < len(array):\n",
    "            arcs.append(Arc(i, left_child))\n",
    "        if right_child < len(array):\n",
    "            arcs.append(Arc(i, right_child))\n",
    "            \n",
    "    graph = Graph(arcs)\n",
    "    for i in range(length):\n",
    "        graph.nodes[i].SetColor(\"blue\")\n",
    "    graph.nodes[index].SetColor(\"red\")\n",
    "    return graph.Visualize(array, { \"rankdir\": \"UB\" })"
   ]
  },
  {
   "cell_type": "code",
   "execution_count": 64,
   "id": "bbdc8fe8",
   "metadata": {},
   "outputs": [],
   "source": [
    "def move_to_top(array, index, states=None):\n",
    "    comparisons, swaps = 0, 0\n",
    "    parent = (index - 1) // 2\n",
    "    length = index + 1\n",
    "    if states is not None:\n",
    "        states.append(heap_sort_state(array, length, index))\n",
    "    while index > 0 and array[index] > array[parent]:\n",
    "        comparisons += 1\n",
    "        swaps += 1\n",
    "        array[index], array[parent] = array[parent], array[index]\n",
    "        index, parent = parent, (parent - 1) // 2\n",
    "        if states is not None:\n",
    "            states.append(heap_sort_state(array, length, index))\n",
    "    \n",
    "        \n",
    "    if index > 0:\n",
    "        comparisons += 1\n",
    "    \n",
    "    return comparisons, swaps\n",
    "\n",
    "def move_to_bottom(array, length, states=None):\n",
    "    comparisons, swaps = 0, 0\n",
    "    index, left_child, right_child = 0, 1, 2\n",
    "    if states is not None:\n",
    "        states.append(heap_sort_state(array, length, index))\n",
    "    while left_child < length:\n",
    "        comparisons += 2 if right_child < length else 1\n",
    "        max_child = left_child if (right_child >= length or array[left_child] > array[right_child]) else right_child\n",
    "        if array[index] < array[max_child]:\n",
    "            array[index], array[max_child] = array[max_child], array[index]\n",
    "            swaps += 1\n",
    "            index, left_child, right_child = max_child, 2 * max_child + 1,2 * max_child + 2\n",
    "            if states is not None:\n",
    "                states.append(heap_sort_state(array, length, index))\n",
    "        else:\n",
    "            break\n",
    "    return comparisons, swaps\n",
    "    \n",
    "    \n",
    "def heap_sort(array, states=None):\n",
    "    comparisons, swaps = 0, 0\n",
    "    # Stage 1: construct a heap inplace\n",
    "    for i, _ in enumerate(array):\n",
    "        new_comparisons, new_swaps = move_to_top(array, i, states)\n",
    "        comparisons, swaps = comparisons + new_comparisons, swaps + new_swaps\n",
    "        \n",
    "    # Stage 2: select elements in descending order\n",
    "    for i, _ in enumerate(array):\n",
    "        array[0], array[len(array) - i - 1] = array[len(array) - i - 1], array[0]\n",
    "        swaps += 1\n",
    "        new_comparisons, new_swaps = move_to_bottom(array, len(array) - i - 1, states)\n",
    "        comparisons, swaps = comparisons + new_comparisons, swaps + new_swaps\n",
    "    \n",
    "    return comparisons, swaps"
   ]
  },
  {
   "cell_type": "code",
   "execution_count": 65,
   "id": "c07b2069",
   "metadata": {},
   "outputs": [
    {
     "name": "stdout",
     "output_type": "stream",
     "text": [
      "[-11, -10, -9, -8, -5, 2, 5, 7, 8, 9, 10, 11, 13]\n",
      "Comparisons: 61\n",
      "Swaps:       49\n"
     ]
    }
   ],
   "source": [
    "array = [x for x in initial_array]\n",
    "states = []\n",
    "comparisons, swaps = heap_sort(array, states)\n",
    "print(array)\n",
    "print(f\"Comparisons: {comparisons}\")\n",
    "print(f\"Swaps:       {swaps}\")"
   ]
  },
  {
   "cell_type": "code",
   "execution_count": 66,
   "id": "a45f872b",
   "metadata": {},
   "outputs": [
    {
     "data": {
      "application/vnd.jupyter.widget-view+json": {
       "model_id": "cfa71bf43a95426489e81967e6f77efa",
       "version_major": 2,
       "version_minor": 0
      },
      "text/plain": [
       "HBox(children=(Play(value=0, interval=200), Button(description='Prev', style=ButtonStyle()), Button(descriptio…"
      ]
     },
     "metadata": {},
     "output_type": "display_data"
    },
    {
     "data": {
      "application/vnd.jupyter.widget-view+json": {
       "model_id": "90b2ce59a4e1480ab3bb7ef56c4af172",
       "version_major": 2,
       "version_minor": 0
      },
      "text/plain": [
       "interactive(children=(IntSlider(value=0, description='step', max=61), Output()), _dom_classes=('widget-interac…"
      ]
     },
     "metadata": {},
     "output_type": "display_data"
    }
   ],
   "source": [
    "animate_list(states, play=True);"
   ]
  },
  {
   "cell_type": "markdown",
   "id": "63f3cc6f",
   "metadata": {},
   "source": [
    "## Analysis\n",
    "Here the analysis is quite straightforward: insertion of a $k$th element in the first stage is $\\Theta(\\log k)$, selection of the $k$th element in second stage is $\\Theta(\\log (n-k))$ that gives $\\Theta (n\\log n)$."
   ]
  }
 ],
 "metadata": {
  "kernelspec": {
   "display_name": "Python 3 (ipykernel)",
   "language": "python",
   "name": "python3"
  },
  "language_info": {
   "codemirror_mode": {
    "name": "ipython",
    "version": 3
   },
   "file_extension": ".py",
   "mimetype": "text/x-python",
   "name": "python",
   "nbconvert_exporter": "python",
   "pygments_lexer": "ipython3",
   "version": "3.8.3"
  },
  "widgets": {
   "application/vnd.jupyter.widget-state+json": {
    "state": {
     "046504d89437449b880d260fb8506d59": {
      "model_module": "@jupyter-widgets/base",
      "model_module_version": "1.2.0",
      "model_name": "LayoutModel",
      "state": {}
     },
     "05e7e03be21e4a7f93d436c63772a6d7": {
      "model_module": "@jupyter-widgets/controls",
      "model_module_version": "1.5.0",
      "model_name": "IntSliderModel",
      "state": {
       "description": "step",
       "layout": "IPY_MODEL_d6651e01325d45fab6f8f270b4db9e75",
       "max": 24,
       "style": "IPY_MODEL_63568653d1bd43cb8fcac5fd2ac93e7c"
      }
     },
     "061ee7c8e3be4779aec6bf5a9e3037c6": {
      "model_module": "@jupyter-widgets/base",
      "model_module_version": "1.2.0",
      "model_name": "LayoutModel",
      "state": {}
     },
     "07ed74dafdc64affba64cb97a22dcda3": {
      "model_module": "@jupyter-widgets/output",
      "model_module_version": "1.0.0",
      "model_name": "OutputModel",
      "state": {
       "layout": "IPY_MODEL_e3843ef3a6324654a1732b0d656c44c1"
      }
     },
     "083378cba0574c8281e2a23ab12db356": {
      "model_module": "@jupyter-widgets/base",
      "model_module_version": "1.2.0",
      "model_name": "LayoutModel",
      "state": {}
     },
     "098ffbc2d8194d25936658309e8a02de": {
      "model_module": "@jupyter-widgets/controls",
      "model_module_version": "1.5.0",
      "model_name": "SliderStyleModel",
      "state": {
       "description_width": ""
      }
     },
     "09a0450f13da4473845e7022b9b2081d": {
      "model_module": "@jupyter-widgets/base",
      "model_module_version": "1.2.0",
      "model_name": "LayoutModel",
      "state": {}
     },
     "09a8e65f66eb4b378d14e746825a7926": {
      "model_module": "@jupyter-widgets/controls",
      "model_module_version": "1.5.0",
      "model_name": "ButtonStyleModel",
      "state": {}
     },
     "0a74a4c6b8ae49d9b67e09aaf37d9054": {
      "model_module": "@jupyter-widgets/controls",
      "model_module_version": "1.5.0",
      "model_name": "PlayModel",
      "state": {
       "interval": 200,
       "layout": "IPY_MODEL_5c8f075db17e4cc2b86621c777c8fcc3",
       "style": "IPY_MODEL_1de6ad52592f4e5c98e0b810b58f6356"
      }
     },
     "0c55d8c19a7c471cad96016fd6bbb1d0": {
      "model_module": "@jupyter-widgets/controls",
      "model_module_version": "1.5.0",
      "model_name": "DescriptionStyleModel",
      "state": {
       "description_width": ""
      }
     },
     "0d83bed468fc417e82d0d8c3190324fa": {
      "model_module": "@jupyter-widgets/controls",
      "model_module_version": "1.5.0",
      "model_name": "IntSliderModel",
      "state": {
       "description": "step",
       "layout": "IPY_MODEL_bbc6a658a692430e8522f46c38fcda7c",
       "max": 61,
       "style": "IPY_MODEL_ea20673cbcbf4b92a898815417e52c78",
       "value": 61
      }
     },
     "0d8cf52c839142529ff5bc9d2612c458": {
      "model_module": "@jupyter-widgets/controls",
      "model_module_version": "1.5.0",
      "model_name": "PlayModel",
      "state": {
       "interval": 200,
       "layout": "IPY_MODEL_1c62da17b10941b8990f35df708d51db",
       "style": "IPY_MODEL_0c55d8c19a7c471cad96016fd6bbb1d0"
      }
     },
     "0f2781ac43be458f94b906267598668e": {
      "model_module": "@jupyter-widgets/controls",
      "model_module_version": "1.5.0",
      "model_name": "ButtonStyleModel",
      "state": {}
     },
     "0f5fb57f3a954612b49ead41b3ac6262": {
      "model_module": "@jupyter-widgets/base",
      "model_module_version": "1.2.0",
      "model_name": "LayoutModel",
      "state": {}
     },
     "0fbb6d846bf2498aac294072b8654ac1": {
      "model_module": "@jupyter-widgets/controls",
      "model_module_version": "1.5.0",
      "model_name": "ButtonModel",
      "state": {
       "description": "Prev",
       "layout": "IPY_MODEL_0f5fb57f3a954612b49ead41b3ac6262",
       "style": "IPY_MODEL_17319e5ff0604218812531844e0042e2"
      }
     },
     "0fc95857c4b74492afb0cbd805a1bf9a": {
      "model_module": "@jupyter-widgets/controls",
      "model_module_version": "1.5.0",
      "model_name": "SliderStyleModel",
      "state": {
       "description_width": ""
      }
     },
     "11c4dde259cc44a8a7648e9485a01115": {
      "model_module": "@jupyter-widgets/controls",
      "model_module_version": "1.5.0",
      "model_name": "ButtonModel",
      "state": {
       "description": "Prev",
       "layout": "IPY_MODEL_b7f7e8fb09aa479b9f3d80a8b1391ac4",
       "style": "IPY_MODEL_25d7a32597364244812526b78047a943"
      }
     },
     "1209919011d84ebe8271e769b088cbb8": {
      "model_module": "@jupyter-widgets/controls",
      "model_module_version": "1.5.0",
      "model_name": "ButtonModel",
      "state": {
       "description": "Next",
       "layout": "IPY_MODEL_208dc587ca6d4521a7a9931c035dbeb8",
       "style": "IPY_MODEL_afb2d041c2e34b4baa7389dfdf6a6fcd"
      }
     },
     "139744a9613549a28fe58d79486e0c20": {
      "model_module": "@jupyter-widgets/controls",
      "model_module_version": "1.5.0",
      "model_name": "VBoxModel",
      "state": {
       "_dom_classes": [
        "widget-interact"
       ],
       "children": [
        "IPY_MODEL_3b6e81de2fcc47c1ab21b89ddb64c8f1",
        "IPY_MODEL_425b0e5b81a9434f94d40b592acf104f"
       ],
       "layout": "IPY_MODEL_b4d9e1e9df474147827bd777db210d71"
      }
     },
     "16cef0bbeecc4bc3a47b9c382c4aa14a": {
      "model_module": "@jupyter-widgets/controls",
      "model_module_version": "1.5.0",
      "model_name": "ButtonStyleModel",
      "state": {}
     },
     "17319e5ff0604218812531844e0042e2": {
      "model_module": "@jupyter-widgets/controls",
      "model_module_version": "1.5.0",
      "model_name": "ButtonStyleModel",
      "state": {}
     },
     "19b3bb8a2c6e4fed837f62b52a056bcf": {
      "model_module": "@jupyter-widgets/controls",
      "model_module_version": "1.5.0",
      "model_name": "ButtonModel",
      "state": {
       "description": "Next",
       "layout": "IPY_MODEL_74c6bb7af20646df984c2982a65ada19",
       "style": "IPY_MODEL_3e67dd3af15f489a8e72e76416602003"
      }
     },
     "1c62da17b10941b8990f35df708d51db": {
      "model_module": "@jupyter-widgets/base",
      "model_module_version": "1.2.0",
      "model_name": "LayoutModel",
      "state": {}
     },
     "1d6adcb4e3fb4b658bfc6f0d80b50929": {
      "model_module": "@jupyter-widgets/base",
      "model_module_version": "1.2.0",
      "model_name": "LayoutModel",
      "state": {}
     },
     "1d6b60f6549f47fdb5a2e9b00656a56f": {
      "model_module": "@jupyter-widgets/base",
      "model_module_version": "1.2.0",
      "model_name": "LayoutModel",
      "state": {}
     },
     "1de6ad52592f4e5c98e0b810b58f6356": {
      "model_module": "@jupyter-widgets/controls",
      "model_module_version": "1.5.0",
      "model_name": "DescriptionStyleModel",
      "state": {
       "description_width": ""
      }
     },
     "1e4a6aea3b684b85a6a5291e0457089b": {
      "model_module": "@jupyter-widgets/base",
      "model_module_version": "1.2.0",
      "model_name": "LayoutModel",
      "state": {}
     },
     "206f2dcd47e64e168ee6ee3ec1b660c1": {
      "model_module": "@jupyter-widgets/base",
      "model_module_version": "1.2.0",
      "model_name": "LayoutModel",
      "state": {}
     },
     "208dc587ca6d4521a7a9931c035dbeb8": {
      "model_module": "@jupyter-widgets/base",
      "model_module_version": "1.2.0",
      "model_name": "LayoutModel",
      "state": {}
     },
     "23760a2fe48141b1b5c61f8ed061a3d1": {
      "model_module": "@jupyter-widgets/controls",
      "model_module_version": "1.5.0",
      "model_name": "LinkModel",
      "state": {
       "source": [
        "IPY_MODEL_7100d6d2da7c48afad7ca722c58b94f9",
        "value"
       ],
       "target": [
        "IPY_MODEL_ad5e5ee277904592906cfeb9f95d4e36",
        "value"
       ]
      }
     },
     "23e2df690d2b4c0c9655d8a6f83dd35f": {
      "model_module": "@jupyter-widgets/base",
      "model_module_version": "1.2.0",
      "model_name": "LayoutModel",
      "state": {}
     },
     "2562bc272fec4231b8fc065914fea2f6": {
      "model_module": "@jupyter-widgets/controls",
      "model_module_version": "1.5.0",
      "model_name": "ButtonModel",
      "state": {
       "description": "Next",
       "layout": "IPY_MODEL_4f49c1df641546f8829b02a734034aa0",
       "style": "IPY_MODEL_0f2781ac43be458f94b906267598668e"
      }
     },
     "25a29e9063fd4c2ab2235755722487ac": {
      "model_module": "@jupyter-widgets/controls",
      "model_module_version": "1.5.0",
      "model_name": "DescriptionStyleModel",
      "state": {
       "description_width": ""
      }
     },
     "25d7a32597364244812526b78047a943": {
      "model_module": "@jupyter-widgets/controls",
      "model_module_version": "1.5.0",
      "model_name": "ButtonStyleModel",
      "state": {}
     },
     "260e185c36f243b89a18b74e0741d1e5": {
      "model_module": "@jupyter-widgets/controls",
      "model_module_version": "1.5.0",
      "model_name": "PlayModel",
      "state": {
       "interval": 200,
       "layout": "IPY_MODEL_aa1a31c4240e487fad13d3dfd5765ffb",
       "style": "IPY_MODEL_b6e81bc18ff84c6f9cc26276837208cc",
       "value": 100
      }
     },
     "2a84ac79a4804ca4ba41951c3d1eb9f4": {
      "model_module": "@jupyter-widgets/controls",
      "model_module_version": "1.5.0",
      "model_name": "ButtonModel",
      "state": {
       "description": "Prev",
       "layout": "IPY_MODEL_1d6adcb4e3fb4b658bfc6f0d80b50929",
       "style": "IPY_MODEL_a08154e532d04527ba84fa437837ef88"
      }
     },
     "2a9176c59ea8436580ec24aaf0c44920": {
      "model_module": "@jupyter-widgets/controls",
      "model_module_version": "1.5.0",
      "model_name": "ButtonModel",
      "state": {
       "description": "Next",
       "layout": "IPY_MODEL_5bfb8a4e74c048fe92432004e24b6051",
       "style": "IPY_MODEL_09a8e65f66eb4b378d14e746825a7926"
      }
     },
     "2c02f3d17bb3474692575cb174a67b8b": {
      "model_module": "@jupyter-widgets/base",
      "model_module_version": "1.2.0",
      "model_name": "LayoutModel",
      "state": {}
     },
     "2c8ce689fe9d4b8bbfd2a20fc9c5a5cd": {
      "model_module": "@jupyter-widgets/base",
      "model_module_version": "1.2.0",
      "model_name": "LayoutModel",
      "state": {}
     },
     "2d87e4d6f830442fa3c271989ee895d8": {
      "model_module": "@jupyter-widgets/controls",
      "model_module_version": "1.5.0",
      "model_name": "ButtonStyleModel",
      "state": {}
     },
     "2e337c792d3a4176932dbe8ff67f08cf": {
      "model_module": "@jupyter-widgets/controls",
      "model_module_version": "1.5.0",
      "model_name": "ButtonModel",
      "state": {
       "description": "Next",
       "layout": "IPY_MODEL_f08ef90b5daa41dea10f711152b0f8ab",
       "style": "IPY_MODEL_7f34b55d720542609f9570f5d0ddf895"
      }
     },
     "3001ff0bba394a248b22ed3d427ddf8e": {
      "model_module": "@jupyter-widgets/base",
      "model_module_version": "1.2.0",
      "model_name": "LayoutModel",
      "state": {}
     },
     "300aac10ef5b4a47b603d44cffe7e2b5": {
      "model_module": "@jupyter-widgets/controls",
      "model_module_version": "1.5.0",
      "model_name": "IntSliderModel",
      "state": {
       "description": "step",
       "layout": "IPY_MODEL_68008009f42544f9be0222f2cca6e8f6",
       "max": 78,
       "style": "IPY_MODEL_652578117f8e46c58831b99bdb8507ed"
      }
     },
     "3124edf4cec94afa8f6951e639229c7b": {
      "model_module": "@jupyter-widgets/base",
      "model_module_version": "1.2.0",
      "model_name": "LayoutModel",
      "state": {}
     },
     "327c516ba94343ae98b9e35d5b78728f": {
      "model_module": "@jupyter-widgets/controls",
      "model_module_version": "1.5.0",
      "model_name": "IntSliderModel",
      "state": {
       "description": "step",
       "layout": "IPY_MODEL_a18510df41a04b0d8bba1c001e558b76",
       "max": 56,
       "style": "IPY_MODEL_fc9521fb8d0d4c95a8e57cad70a69422"
      }
     },
     "32cea0f91ce8420d9dcdccac1f12e7a4": {
      "model_module": "@jupyter-widgets/base",
      "model_module_version": "1.2.0",
      "model_name": "LayoutModel",
      "state": {}
     },
     "343d575b4169462b9a82a64cb551b09d": {
      "model_module": "@jupyter-widgets/controls",
      "model_module_version": "1.5.0",
      "model_name": "PlayModel",
      "state": {
       "interval": 200,
       "layout": "IPY_MODEL_9dc613a6fe3b4c23bd0a129467d8a405",
       "style": "IPY_MODEL_3f98b838f99f4915b0af9ffb07b0095f"
      }
     },
     "34526e4676cd4184b37f59ef586c519d": {
      "model_module": "@jupyter-widgets/base",
      "model_module_version": "1.2.0",
      "model_name": "LayoutModel",
      "state": {}
     },
     "368618bf9556457b81a6634ea63f100e": {
      "model_module": "@jupyter-widgets/controls",
      "model_module_version": "1.5.0",
      "model_name": "IntSliderModel",
      "state": {
       "description": "step",
       "layout": "IPY_MODEL_1d6b60f6549f47fdb5a2e9b00656a56f",
       "max": 28,
       "style": "IPY_MODEL_9813b23366d1480ca7ec814d4b8b0631"
      }
     },
     "382b3d5a7976461ba6d92b5719e5a035": {
      "model_module": "@jupyter-widgets/controls",
      "model_module_version": "1.5.0",
      "model_name": "LinkModel",
      "state": {
       "source": [
        "IPY_MODEL_4efbe1cad293490cb161a55be0237ee4",
        "value"
       ],
       "target": [
        "IPY_MODEL_368618bf9556457b81a6634ea63f100e",
        "value"
       ]
      }
     },
     "38abf996cc8349238ba1e25a38852ec8": {
      "model_module": "@jupyter-widgets/output",
      "model_module_version": "1.0.0",
      "model_name": "OutputModel",
      "state": {
       "layout": "IPY_MODEL_c1ce77fe209e406baae864b4e9a6768e",
       "outputs": [
        {
         "data": {
          "image/svg+xml": "<?xml version=\"1.0\" encoding=\"UTF-8\" standalone=\"no\"?>\r\n<!DOCTYPE svg PUBLIC \"-//W3C//DTD SVG 1.1//EN\"\r\n \"http://www.w3.org/Graphics/SVG/1.1/DTD/svg11.dtd\">\r\n<!-- Generated by graphviz version 2.44.2~dev.20200826.1453 (20200826.1453)\r\n -->\r\n<!-- Pages: 1 -->\r\n<svg width=\"414pt\" height=\"343pt\"\r\n viewBox=\"0.00 0.00 413.65 343.48\" xmlns=\"http://www.w3.org/2000/svg\" xmlns:xlink=\"http://www.w3.org/1999/xlink\">\r\n<g id=\"graph0\" class=\"graph\" transform=\"scale(1 1) rotate(0) translate(4 339.48)\">\r\n<polygon fill=\"white\" stroke=\"transparent\" points=\"-4,4 -4,-339.48 409.65,-339.48 409.65,4 -4,4\"/>\r\n<!-- 0 -->\r\n<g id=\"node1\" class=\"node\">\r\n<title>0</title>\r\n<ellipse fill=\"none\" stroke=\"red\" cx=\"256.1\" cy=\"-306.23\" rx=\"29.5\" ry=\"29.5\"/>\r\n<text text-anchor=\"middle\" x=\"256.1\" y=\"-302.53\" font-family=\"Times New Roman,serif\" font-size=\"14.00\">0/&#45;11</text>\r\n</g>\r\n<!-- 1 -->\r\n<g id=\"node2\" class=\"node\">\r\n<title>1</title>\r\n<ellipse fill=\"none\" stroke=\"black\" cx=\"184.1\" cy=\"-211.74\" rx=\"29.5\" ry=\"29.5\"/>\r\n<text text-anchor=\"middle\" x=\"184.1\" y=\"-208.04\" font-family=\"Times New Roman,serif\" font-size=\"14.00\">1/&#45;10</text>\r\n</g>\r\n<!-- 0&#45;&gt;1 -->\r\n<g id=\"edge1\" class=\"edge\">\r\n<title>0:&#45;&gt;1:</title>\r\n<path fill=\"none\" stroke=\"black\" d=\"M238.3,-282.37C229.15,-270.61 217.86,-256.11 207.96,-243.39\"/>\r\n<polygon fill=\"black\" stroke=\"black\" points=\"201.69,-235.34 211.38,-240.47 204.76,-239.28 207.83,-243.23 207.83,-243.23 207.83,-243.23 204.76,-239.28 204.28,-245.99 201.69,-235.34 201.69,-235.34\"/>\r\n</g>\r\n<!-- 2 -->\r\n<g id=\"node3\" class=\"node\">\r\n<title>2</title>\r\n<ellipse fill=\"none\" stroke=\"black\" cx=\"296.1\" cy=\"-211.74\" rx=\"24.9\" ry=\"24.9\"/>\r\n<text text-anchor=\"middle\" x=\"296.1\" y=\"-208.04\" font-family=\"Times New Roman,serif\" font-size=\"14.00\">2/&#45;9</text>\r\n</g>\r\n<!-- 0&#45;&gt;2 -->\r\n<g id=\"edge2\" class=\"edge\">\r\n<title>0:&#45;&gt;2:</title>\r\n<path fill=\"none\" stroke=\"black\" d=\"M267.45,-278.97C272.18,-268.04 277.71,-255.26 282.64,-243.86\"/>\r\n<polygon fill=\"black\" stroke=\"black\" points=\"286.61,-234.68 286.77,-245.65 284.62,-239.27 282.64,-243.86 282.64,-243.86 282.64,-243.86 284.62,-239.27 278.51,-242.08 286.61,-234.68 286.61,-234.68\"/>\r\n</g>\r\n<!-- 3 -->\r\n<g id=\"node4\" class=\"node\">\r\n<title>3</title>\r\n<ellipse fill=\"none\" stroke=\"black\" cx=\"84.1\" cy=\"-121.79\" rx=\"24.9\" ry=\"24.9\"/>\r\n<text text-anchor=\"middle\" x=\"84.1\" y=\"-118.09\" font-family=\"Times New Roman,serif\" font-size=\"14.00\">3/&#45;8</text>\r\n</g>\r\n<!-- 1&#45;&gt;3 -->\r\n<g id=\"edge3\" class=\"edge\">\r\n<title>1:&#45;&gt;3:</title>\r\n<path fill=\"none\" stroke=\"black\" d=\"M162.4,-191.65C147,-178.11 126.25,-159.87 109.99,-145.56\"/>\r\n<polygon fill=\"black\" stroke=\"black\" points=\"102.4,-138.89 112.88,-142.12 106.16,-142.19 109.91,-145.49 109.91,-145.49 109.91,-145.49 106.16,-142.19 106.94,-148.87 102.4,-138.89 102.4,-138.89\"/>\r\n</g>\r\n<!-- 4 -->\r\n<g id=\"node5\" class=\"node\">\r\n<title>4</title>\r\n<ellipse fill=\"none\" stroke=\"black\" cx=\"184.1\" cy=\"-121.79\" rx=\"24.9\" ry=\"24.9\"/>\r\n<text text-anchor=\"middle\" x=\"184.1\" y=\"-118.09\" font-family=\"Times New Roman,serif\" font-size=\"14.00\">4/&#45;5</text>\r\n</g>\r\n<!-- 1&#45;&gt;4 -->\r\n<g id=\"edge4\" class=\"edge\">\r\n<title>1:&#45;&gt;4:</title>\r\n<path fill=\"none\" stroke=\"black\" d=\"M184.1,-182.43C184.1,-174.22 184.1,-165.17 184.1,-156.65\"/>\r\n<polygon fill=\"black\" stroke=\"black\" points=\"184.1,-146.63 188.6,-156.63 184.1,-151.63 184.1,-156.63 184.1,-156.63 184.1,-156.63 184.1,-151.63 179.6,-156.63 184.1,-146.63 184.1,-146.63\"/>\r\n</g>\r\n<!-- 5 -->\r\n<g id=\"node6\" class=\"node\">\r\n<title>5</title>\r\n<ellipse fill=\"none\" stroke=\"black\" cx=\"296.1\" cy=\"-121.79\" rx=\"22.2\" ry=\"22.2\"/>\r\n<text text-anchor=\"middle\" x=\"296.1\" y=\"-118.09\" font-family=\"Times New Roman,serif\" font-size=\"14.00\">5/2</text>\r\n</g>\r\n<!-- 2&#45;&gt;5 -->\r\n<g id=\"edge5\" class=\"edge\">\r\n<title>2:&#45;&gt;5:</title>\r\n<path fill=\"none\" stroke=\"black\" d=\"M296.1,-186.71C296.1,-176.71 296.1,-164.98 296.1,-154.31\"/>\r\n<polygon fill=\"black\" stroke=\"black\" points=\"296.1,-144.1 300.6,-154.1 296.1,-149.1 296.1,-154.1 296.1,-154.1 296.1,-154.1 296.1,-149.1 291.6,-154.1 296.1,-144.1 296.1,-144.1\"/>\r\n</g>\r\n<!-- 6 -->\r\n<g id=\"node7\" class=\"node\">\r\n<title>6</title>\r\n<ellipse fill=\"none\" stroke=\"black\" cx=\"358.1\" cy=\"-121.79\" rx=\"22.2\" ry=\"22.2\"/>\r\n<text text-anchor=\"middle\" x=\"358.1\" y=\"-118.09\" font-family=\"Times New Roman,serif\" font-size=\"14.00\">6/5</text>\r\n</g>\r\n<!-- 2&#45;&gt;6 -->\r\n<g id=\"edge6\" class=\"edge\">\r\n<title>2:&#45;&gt;6:</title>\r\n<path fill=\"none\" stroke=\"black\" d=\"M309.86,-191.22C318.64,-178.77 330.12,-162.48 339.68,-148.91\"/>\r\n<polygon fill=\"black\" stroke=\"black\" points=\"345.64,-140.46 343.56,-151.23 342.76,-144.55 339.88,-148.64 339.88,-148.64 339.88,-148.64 342.76,-144.55 336.2,-146.04 345.64,-140.46 345.64,-140.46\"/>\r\n</g>\r\n<!-- 7 -->\r\n<g id=\"node8\" class=\"node\">\r\n<title>7</title>\r\n<ellipse fill=\"none\" stroke=\"black\" cx=\"22.1\" cy=\"-30.55\" rx=\"22.2\" ry=\"22.2\"/>\r\n<text text-anchor=\"middle\" x=\"22.1\" y=\"-26.85\" font-family=\"Times New Roman,serif\" font-size=\"14.00\">7/7</text>\r\n</g>\r\n<!-- 3&#45;&gt;7 -->\r\n<g id=\"edge7\" class=\"edge\">\r\n<title>3:&#45;&gt;7:</title>\r\n<path fill=\"none\" stroke=\"black\" d=\"M70.34,-100.99C61.5,-88.26 49.92,-71.6 40.32,-57.78\"/>\r\n<polygon fill=\"black\" stroke=\"black\" points=\"34.35,-49.18 43.75,-54.83 37.2,-53.29 40.06,-57.4 40.06,-57.4 40.06,-57.4 37.2,-53.29 36.36,-59.96 34.35,-49.18 34.35,-49.18\"/>\r\n</g>\r\n<!-- 8 -->\r\n<g id=\"node9\" class=\"node\">\r\n<title>8</title>\r\n<ellipse fill=\"none\" stroke=\"black\" cx=\"84.1\" cy=\"-30.55\" rx=\"22.2\" ry=\"22.2\"/>\r\n<text text-anchor=\"middle\" x=\"84.1\" y=\"-26.85\" font-family=\"Times New Roman,serif\" font-size=\"14.00\">8/8</text>\r\n</g>\r\n<!-- 3&#45;&gt;8 -->\r\n<g id=\"edge8\" class=\"edge\">\r\n<title>3:&#45;&gt;8:</title>\r\n<path fill=\"none\" stroke=\"black\" d=\"M84.1,-96.88C84.1,-86.47 84.1,-74.13 84.1,-62.99\"/>\r\n<polygon fill=\"black\" stroke=\"black\" points=\"84.1,-52.79 88.6,-62.79 84.1,-57.79 84.1,-62.79 84.1,-62.79 84.1,-62.79 84.1,-57.79 79.6,-62.79 84.1,-52.79 84.1,-52.79\"/>\r\n</g>\r\n<!-- 9 -->\r\n<g id=\"node10\" class=\"node\">\r\n<title>9</title>\r\n<ellipse fill=\"none\" stroke=\"black\" cx=\"146.1\" cy=\"-30.55\" rx=\"22.2\" ry=\"22.2\"/>\r\n<text text-anchor=\"middle\" x=\"146.1\" y=\"-26.85\" font-family=\"Times New Roman,serif\" font-size=\"14.00\">9/9</text>\r\n</g>\r\n<!-- 4&#45;&gt;9 -->\r\n<g id=\"edge9\" class=\"edge\">\r\n<title>4:&#45;&gt;9:</title>\r\n<path fill=\"none\" stroke=\"black\" d=\"M174.7,-98.73C169.81,-87.25 163.77,-73.05 158.5,-60.68\"/>\r\n<polygon fill=\"black\" stroke=\"black\" points=\"154.48,-51.23 162.54,-58.67 156.44,-55.83 158.4,-60.43 158.4,-60.43 158.4,-60.43 156.44,-55.83 154.26,-62.19 154.48,-51.23 154.48,-51.23\"/>\r\n</g>\r\n<!-- 10 -->\r\n<g id=\"node11\" class=\"node\">\r\n<title>10</title>\r\n<ellipse fill=\"none\" stroke=\"black\" cx=\"217.1\" cy=\"-30.55\" rx=\"30.59\" ry=\"30.59\"/>\r\n<text text-anchor=\"middle\" x=\"217.1\" y=\"-26.85\" font-family=\"Times New Roman,serif\" font-size=\"14.00\">10/10</text>\r\n</g>\r\n<!-- 4&#45;&gt;10 -->\r\n<g id=\"edge10\" class=\"edge\">\r\n<title>4:&#45;&gt;10:</title>\r\n<path fill=\"none\" stroke=\"black\" d=\"M192.43,-98.27C195.69,-89.44 199.53,-79.07 203.19,-69.16\"/>\r\n<polygon fill=\"black\" stroke=\"black\" points=\"206.76,-59.49 207.52,-70.43 205.03,-64.18 203.3,-68.87 203.3,-68.87 203.3,-68.87 205.03,-64.18 199.08,-67.31 206.76,-59.49 206.76,-59.49\"/>\r\n</g>\r\n<!-- 11 -->\r\n<g id=\"node12\" class=\"node\">\r\n<title>11</title>\r\n<ellipse fill=\"none\" stroke=\"black\" cx=\"296.1\" cy=\"-30.55\" rx=\"30.59\" ry=\"30.59\"/>\r\n<text text-anchor=\"middle\" x=\"296.1\" y=\"-26.85\" font-family=\"Times New Roman,serif\" font-size=\"14.00\">11/11</text>\r\n</g>\r\n<!-- 5&#45;&gt;11 -->\r\n<g id=\"edge11\" class=\"edge\">\r\n<title>5:&#45;&gt;11:</title>\r\n<path fill=\"none\" stroke=\"black\" d=\"M296.1,-99.64C296.1,-91.24 296.1,-81.28 296.1,-71.62\"/>\r\n<polygon fill=\"black\" stroke=\"black\" points=\"296.1,-61.32 300.6,-71.32 296.1,-66.32 296.1,-71.32 296.1,-71.32 296.1,-71.32 296.1,-66.32 291.6,-71.32 296.1,-61.32 296.1,-61.32\"/>\r\n</g>\r\n<!-- 12 -->\r\n<g id=\"node13\" class=\"node\">\r\n<title>12</title>\r\n<ellipse fill=\"none\" stroke=\"black\" cx=\"375.1\" cy=\"-30.55\" rx=\"30.59\" ry=\"30.59\"/>\r\n<text text-anchor=\"middle\" x=\"375.1\" y=\"-26.85\" font-family=\"Times New Roman,serif\" font-size=\"14.00\">12/13</text>\r\n</g>\r\n<!-- 5&#45;&gt;12 -->\r\n<g id=\"edge12\" class=\"edge\">\r\n<title>5:&#45;&gt;12:</title>\r\n<path fill=\"none\" stroke=\"black\" d=\"M310.59,-104.42C321.19,-92.45 335.87,-75.87 348.55,-61.54\"/>\r\n<polygon fill=\"black\" stroke=\"black\" points=\"355.34,-53.86 352.09,-64.33 352.03,-57.61 348.72,-61.35 348.72,-61.35 348.72,-61.35 352.03,-57.61 345.35,-58.37 355.34,-53.86 355.34,-53.86\"/>\r\n</g>\r\n</g>\r\n</svg>\r\n",
          "text/plain": "<graphviz.dot.Digraph at 0x14b5d8a13d0>"
         },
         "metadata": {},
         "output_type": "display_data"
        }
       ]
      }
     },
     "3914148e62204745aafab7c09a689306": {
      "model_module": "@jupyter-widgets/base",
      "model_module_version": "1.2.0",
      "model_name": "LayoutModel",
      "state": {}
     },
     "399723e1ec1f469f881f5ce2cf656965": {
      "model_module": "@jupyter-widgets/controls",
      "model_module_version": "1.5.0",
      "model_name": "ButtonStyleModel",
      "state": {}
     },
     "3b6e81de2fcc47c1ab21b89ddb64c8f1": {
      "model_module": "@jupyter-widgets/controls",
      "model_module_version": "1.5.0",
      "model_name": "IntSliderModel",
      "state": {
       "description": "step",
       "layout": "IPY_MODEL_a5ddda35652147da952b62db83ba8a46",
       "max": 59,
       "style": "IPY_MODEL_e3fa441344c64c88aaace22fc518e109"
      }
     },
     "3bc35da2b37f43f3977b1f01f89a3ebb": {
      "model_module": "@jupyter-widgets/controls",
      "model_module_version": "1.5.0",
      "model_name": "ButtonStyleModel",
      "state": {}
     },
     "3c002ae7956e42d9af7ae4e74475648f": {
      "model_module": "@jupyter-widgets/controls",
      "model_module_version": "1.5.0",
      "model_name": "HBoxModel",
      "state": {
       "children": [
        "IPY_MODEL_0d8cf52c839142529ff5bc9d2612c458",
        "IPY_MODEL_763c21d948e5449593bd5d710e3c1337",
        "IPY_MODEL_430c88dbdf7e44ff82a2f1fac366ee41"
       ],
       "layout": "IPY_MODEL_061ee7c8e3be4779aec6bf5a9e3037c6"
      }
     },
     "3e67dd3af15f489a8e72e76416602003": {
      "model_module": "@jupyter-widgets/controls",
      "model_module_version": "1.5.0",
      "model_name": "ButtonStyleModel",
      "state": {}
     },
     "3f773dce50c34c7cb4a772a51aeb4225": {
      "model_module": "@jupyter-widgets/controls",
      "model_module_version": "1.5.0",
      "model_name": "ButtonStyleModel",
      "state": {}
     },
     "3f98b838f99f4915b0af9ffb07b0095f": {
      "model_module": "@jupyter-widgets/controls",
      "model_module_version": "1.5.0",
      "model_name": "DescriptionStyleModel",
      "state": {
       "description_width": ""
      }
     },
     "3ff77df0c7464ce289a4d763516497a0": {
      "model_module": "@jupyter-widgets/controls",
      "model_module_version": "1.5.0",
      "model_name": "PlayModel",
      "state": {
       "interval": 200,
       "layout": "IPY_MODEL_a35fb01f028a40c29e96baa4cd91b78e",
       "style": "IPY_MODEL_e4d1254694374bc992e407ab665e7ab9"
      }
     },
     "409b7346a5914f38975e7debfb7d167b": {
      "model_module": "@jupyter-widgets/controls",
      "model_module_version": "1.5.0",
      "model_name": "HBoxModel",
      "state": {
       "children": [
        "IPY_MODEL_91665794f5ec4ed29c8f72a9434ab2fa",
        "IPY_MODEL_11c4dde259cc44a8a7648e9485a01115",
        "IPY_MODEL_ef56a43424cd471984a6809a84ba7c13"
       ],
       "layout": "IPY_MODEL_493296dc621f4c939c09e09958767511"
      }
     },
     "418480c575904e8eacbb1cb8a203b4a4": {
      "model_module": "@jupyter-widgets/base",
      "model_module_version": "1.2.0",
      "model_name": "LayoutModel",
      "state": {}
     },
     "41b5f9946fec4f758c148cdafd826562": {
      "model_module": "@jupyter-widgets/base",
      "model_module_version": "1.2.0",
      "model_name": "LayoutModel",
      "state": {}
     },
     "425b0e5b81a9434f94d40b592acf104f": {
      "model_module": "@jupyter-widgets/output",
      "model_module_version": "1.0.0",
      "model_name": "OutputModel",
      "state": {
       "layout": "IPY_MODEL_d9b8a772d2e84ed6accd9c0e81171b98",
       "outputs": [
        {
         "data": {
          "image/png": "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\n",
          "text/plain": "<Figure size 576x576 with 1 Axes>"
         },
         "metadata": {},
         "output_type": "display_data"
        }
       ]
      }
     },
     "430c88dbdf7e44ff82a2f1fac366ee41": {
      "model_module": "@jupyter-widgets/controls",
      "model_module_version": "1.5.0",
      "model_name": "ButtonModel",
      "state": {
       "description": "Next",
       "layout": "IPY_MODEL_8fd852d7996b406fac0d5b0f45ac39e2",
       "style": "IPY_MODEL_43b42f1ab1004242bbcbef9c883d857d"
      }
     },
     "43b42f1ab1004242bbcbef9c883d857d": {
      "model_module": "@jupyter-widgets/controls",
      "model_module_version": "1.5.0",
      "model_name": "ButtonStyleModel",
      "state": {}
     },
     "441c413709cc4410b726372e0ccda60a": {
      "model_module": "@jupyter-widgets/controls",
      "model_module_version": "1.5.0",
      "model_name": "VBoxModel",
      "state": {
       "_dom_classes": [
        "widget-interact"
       ],
       "children": [
        "IPY_MODEL_368618bf9556457b81a6634ea63f100e",
        "IPY_MODEL_98f51b34265b4fad87c36957a4ca6806"
       ],
       "layout": "IPY_MODEL_9c9177a49249447fb3e36fe2179bb0fd"
      }
     },
     "457a687071d8470398e0290c7e348df0": {
      "model_module": "@jupyter-widgets/output",
      "model_module_version": "1.0.0",
      "model_name": "OutputModel",
      "state": {
       "layout": "IPY_MODEL_957f56b3e84640d980fccdc94aa1969b",
       "outputs": [
        {
         "data": {
          "image/svg+xml": "<?xml version=\"1.0\" encoding=\"UTF-8\" standalone=\"no\"?>\r\n<!DOCTYPE svg PUBLIC \"-//W3C//DTD SVG 1.1//EN\"\r\n \"http://www.w3.org/Graphics/SVG/1.1/DTD/svg11.dtd\">\r\n<!-- Generated by graphviz version 2.44.2~dev.20200826.1453 (20200826.1453)\r\n -->\r\n<!-- Pages: 1 -->\r\n<svg width=\"336pt\" height=\"438pt\"\r\n viewBox=\"0.00 0.00 335.68 438.49\" xmlns=\"http://www.w3.org/2000/svg\" xmlns:xlink=\"http://www.w3.org/1999/xlink\">\r\n<g id=\"graph0\" class=\"graph\" transform=\"scale(1 1) rotate(0) translate(4 434.49)\">\r\n<polygon fill=\"white\" stroke=\"transparent\" points=\"-4,4 -4,-434.49 331.68,-434.49 331.68,4 -4,4\"/>\r\n<!-- 0 -->\r\n<g id=\"node1\" class=\"node\">\r\n<title>0</title>\r\n<ellipse fill=\"none\" stroke=\"red\" cx=\"22.1\" cy=\"-154.8\" rx=\"22.2\" ry=\"22.2\"/>\r\n<text text-anchor=\"middle\" x=\"22.1\" y=\"-151.1\" font-family=\"Times New Roman,serif\" font-size=\"14.00\">0/2</text>\r\n</g>\r\n<!-- 1 -->\r\n<g id=\"node2\" class=\"node\">\r\n<title>1</title>\r\n<ellipse fill=\"none\" stroke=\"black\" cx=\"109.44\" cy=\"-231.8\" rx=\"29.5\" ry=\"29.5\"/>\r\n<text text-anchor=\"middle\" x=\"109.44\" y=\"-228.1\" font-family=\"Times New Roman,serif\" font-size=\"14.00\">1/&#45;11</text>\r\n</g>\r\n<!-- 0&#45;&gt;1 -->\r\n<g id=\"edge1\" class=\"edge\">\r\n<title>0:&#45;&gt;1:</title>\r\n<path fill=\"none\" stroke=\"black\" d=\"M39.15,-169.28C50.45,-179.48 65.9,-193.42 79.35,-205.54\"/>\r\n<polygon fill=\"black\" stroke=\"black\" points=\"86.98,-212.43 76.54,-209.08 83.27,-209.09 79.56,-205.74 79.56,-205.74 79.56,-205.74 83.27,-209.09 82.57,-202.4 86.98,-212.43 86.98,-212.43\"/>\r\n</g>\r\n<!-- 2 -->\r\n<g id=\"node3\" class=\"node\">\r\n<title>2</title>\r\n<ellipse fill=\"none\" stroke=\"black\" cx=\"109.44\" cy=\"-115.8\" rx=\"22.2\" ry=\"22.2\"/>\r\n<text text-anchor=\"middle\" x=\"109.44\" y=\"-112.1\" font-family=\"Times New Roman,serif\" font-size=\"14.00\">2/5</text>\r\n</g>\r\n<!-- 0&#45;&gt;2 -->\r\n<g id=\"edge2\" class=\"edge\">\r\n<title>0:&#45;&gt;2:</title>\r\n<path fill=\"none\" stroke=\"black\" d=\"M42.46,-145.95C53.49,-140.91 67.5,-134.51 79.77,-128.9\"/>\r\n<polygon fill=\"black\" stroke=\"black\" points=\"89.15,-124.61 81.93,-132.86 84.61,-126.69 80.06,-128.77 80.06,-128.77 80.06,-128.77 84.61,-126.69 78.19,-124.68 89.15,-124.61 89.15,-124.61\"/>\r\n</g>\r\n<!-- 3 -->\r\n<g id=\"node4\" class=\"node\">\r\n<title>3</title>\r\n<ellipse fill=\"none\" stroke=\"black\" cx=\"199.39\" cy=\"-338.8\" rx=\"22.2\" ry=\"22.2\"/>\r\n<text text-anchor=\"middle\" x=\"199.39\" y=\"-335.1\" font-family=\"Times New Roman,serif\" font-size=\"14.00\">3/8</text>\r\n</g>\r\n<!-- 1&#45;&gt;3 -->\r\n<g id=\"edge3\" class=\"edge\">\r\n<title>1:&#45;&gt;3:</title>\r\n<path fill=\"none\" stroke=\"black\" d=\"M128.67,-253.97C143.06,-271.48 163.15,-295.92 178.06,-314.07\"/>\r\n<polygon fill=\"black\" stroke=\"black\" points=\"184.52,-321.92 174.69,-317.05 181.34,-318.06 178.17,-314.19 178.17,-314.19 178.17,-314.19 181.34,-318.06 181.64,-311.34 184.52,-321.92 184.52,-321.92\"/>\r\n</g>\r\n<!-- 4 -->\r\n<g id=\"node5\" class=\"node\">\r\n<title>4</title>\r\n<ellipse fill=\"none\" stroke=\"black\" cx=\"199.39\" cy=\"-231.8\" rx=\"22.2\" ry=\"22.2\"/>\r\n<text text-anchor=\"middle\" x=\"199.39\" y=\"-228.1\" font-family=\"Times New Roman,serif\" font-size=\"14.00\">4/9</text>\r\n</g>\r\n<!-- 1&#45;&gt;4 -->\r\n<g id=\"edge4\" class=\"edge\">\r\n<title>1:&#45;&gt;4:</title>\r\n<path fill=\"none\" stroke=\"black\" d=\"M138.75,-231.8C147.7,-231.8 157.65,-231.8 166.81,-231.8\"/>\r\n<polygon fill=\"black\" stroke=\"black\" points=\"177.11,-231.8 167.11,-236.3 172.11,-231.8 167.11,-231.8 167.11,-231.8 167.11,-231.8 172.11,-231.8 167.11,-227.3 177.11,-231.8 177.11,-231.8\"/>\r\n</g>\r\n<!-- 5 -->\r\n<g id=\"node6\" class=\"node\">\r\n<title>5</title>\r\n<ellipse fill=\"none\" stroke=\"black\" cx=\"199.39\" cy=\"-115.8\" rx=\"22.2\" ry=\"22.2\"/>\r\n<text text-anchor=\"middle\" x=\"199.39\" y=\"-112.1\" font-family=\"Times New Roman,serif\" font-size=\"14.00\">5/7</text>\r\n</g>\r\n<!-- 2&#45;&gt;5 -->\r\n<g id=\"edge5\" class=\"edge\">\r\n<title>2:&#45;&gt;5:</title>\r\n<path fill=\"none\" stroke=\"black\" d=\"M131.73,-115.8C142.24,-115.8 155.13,-115.8 166.76,-115.8\"/>\r\n<polygon fill=\"black\" stroke=\"black\" points=\"176.99,-115.8 166.99,-120.3 171.99,-115.8 166.99,-115.8 166.99,-115.8 166.99,-115.8 171.99,-115.8 166.99,-111.3 176.99,-115.8 176.99,-115.8\"/>\r\n</g>\r\n<!-- 6 -->\r\n<g id=\"node7\" class=\"node\">\r\n<title>6</title>\r\n<ellipse fill=\"none\" stroke=\"black\" cx=\"199.39\" cy=\"-50.8\" rx=\"24.9\" ry=\"24.9\"/>\r\n<text text-anchor=\"middle\" x=\"199.39\" y=\"-47.1\" font-family=\"Times New Roman,serif\" font-size=\"14.00\">6/&#45;5</text>\r\n</g>\r\n<!-- 2&#45;&gt;6 -->\r\n<g id=\"edge6\" class=\"edge\">\r\n<title>2:&#45;&gt;6:</title>\r\n<path fill=\"none\" stroke=\"black\" d=\"M127.82,-102.96C140.01,-93.95 156.56,-81.71 170.57,-71.36\"/>\r\n<polygon fill=\"black\" stroke=\"black\" points=\"178.91,-65.2 173.54,-74.76 174.89,-68.17 170.86,-71.14 170.86,-71.14 170.86,-71.14 174.89,-68.17 168.19,-67.52 178.91,-65.2 178.91,-65.2\"/>\r\n</g>\r\n<!-- 7 -->\r\n<g id=\"node8\" class=\"node\">\r\n<title>7</title>\r\n<ellipse fill=\"none\" stroke=\"black\" cx=\"293.88\" cy=\"-405.8\" rx=\"24.9\" ry=\"24.9\"/>\r\n<text text-anchor=\"middle\" x=\"293.88\" y=\"-402.1\" font-family=\"Times New Roman,serif\" font-size=\"14.00\">7/&#45;8</text>\r\n</g>\r\n<!-- 3&#45;&gt;7 -->\r\n<g id=\"edge7\" class=\"edge\">\r\n<title>3:&#45;&gt;7:</title>\r\n<path fill=\"none\" stroke=\"black\" d=\"M217.79,-351.4C231.12,-361.06 249.78,-374.58 265.17,-385.72\"/>\r\n<polygon fill=\"black\" stroke=\"black\" points=\"273.32,-391.63 262.58,-389.41 269.27,-388.69 265.22,-385.76 265.22,-385.76 265.22,-385.76 269.27,-388.69 267.86,-382.12 273.32,-391.63 273.32,-391.63\"/>\r\n</g>\r\n<!-- 8 -->\r\n<g id=\"node9\" class=\"node\">\r\n<title>8</title>\r\n<ellipse fill=\"none\" stroke=\"black\" cx=\"293.88\" cy=\"-338.8\" rx=\"24.9\" ry=\"24.9\"/>\r\n<text text-anchor=\"middle\" x=\"293.88\" y=\"-335.1\" font-family=\"Times New Roman,serif\" font-size=\"14.00\">8/&#45;9</text>\r\n</g>\r\n<!-- 3&#45;&gt;8 -->\r\n<g id=\"edge8\" class=\"edge\">\r\n<title>3:&#45;&gt;8:</title>\r\n<path fill=\"none\" stroke=\"black\" d=\"M221.84,-338.8C232.85,-338.8 246.52,-338.8 258.91,-338.8\"/>\r\n<polygon fill=\"black\" stroke=\"black\" points=\"268.94,-338.8 258.94,-343.3 263.94,-338.8 258.94,-338.8 258.94,-338.8 258.94,-338.8 263.94,-338.8 258.94,-334.3 268.94,-338.8 268.94,-338.8\"/>\r\n</g>\r\n<!-- 9 -->\r\n<g id=\"node10\" class=\"node\">\r\n<title>9</title>\r\n<ellipse fill=\"none\" stroke=\"black\" cx=\"293.88\" cy=\"-269.8\" rx=\"26.8\" ry=\"26.8\"/>\r\n<text text-anchor=\"middle\" x=\"293.88\" y=\"-266.1\" font-family=\"Times New Roman,serif\" font-size=\"14.00\">9/10</text>\r\n</g>\r\n<!-- 4&#45;&gt;9 -->\r\n<g id=\"edge9\" class=\"edge\">\r\n<title>4:&#45;&gt;9:</title>\r\n<path fill=\"none\" stroke=\"black\" d=\"M220,-239.86C231.53,-244.59 246.39,-250.7 259.69,-256.16\"/>\r\n<polygon fill=\"black\" stroke=\"black\" points=\"269.03,-260 258.07,-260.36 264.4,-258.1 259.78,-256.2 259.78,-256.2 259.78,-256.2 264.4,-258.1 261.49,-252.03 269.03,-260 269.03,-260\"/>\r\n</g>\r\n<!-- 10 -->\r\n<g id=\"node11\" class=\"node\">\r\n<title>10</title>\r\n<ellipse fill=\"none\" stroke=\"black\" cx=\"293.88\" cy=\"-194.8\" rx=\"30.59\" ry=\"30.59\"/>\r\n<text text-anchor=\"middle\" x=\"293.88\" y=\"-191.1\" font-family=\"Times New Roman,serif\" font-size=\"14.00\">10/11</text>\r\n</g>\r\n<!-- 4&#45;&gt;10 -->\r\n<g id=\"edge10\" class=\"edge\">\r\n<title>4:&#45;&gt;10:</title>\r\n<path fill=\"none\" stroke=\"black\" d=\"M220.46,-223.77C230.77,-219.64 243.68,-214.48 255.72,-209.66\"/>\r\n<polygon fill=\"black\" stroke=\"black\" points=\"265.13,-205.9 257.52,-213.79 260.49,-207.75 255.85,-209.61 255.85,-209.61 255.85,-209.61 260.49,-207.75 254.18,-205.43 265.13,-205.9 265.13,-205.9\"/>\r\n</g>\r\n<!-- 11 -->\r\n<g id=\"node12\" class=\"node\">\r\n<title>11</title>\r\n<ellipse fill=\"none\" stroke=\"black\" cx=\"293.88\" cy=\"-115.8\" rx=\"30.59\" ry=\"30.59\"/>\r\n<text text-anchor=\"middle\" x=\"293.88\" y=\"-112.1\" font-family=\"Times New Roman,serif\" font-size=\"14.00\">11/13</text>\r\n</g>\r\n<!-- 5&#45;&gt;11 -->\r\n<g id=\"edge11\" class=\"edge\">\r\n<title>5:&#45;&gt;11:</title>\r\n<path fill=\"none\" stroke=\"black\" d=\"M221.84,-115.8C231.14,-115.8 242.34,-115.8 253.07,-115.8\"/>\r\n<polygon fill=\"black\" stroke=\"black\" points=\"263.14,-115.8 253.14,-120.3 258.14,-115.8 253.14,-115.8 253.14,-115.8 253.14,-115.8 258.14,-115.8 253.14,-111.3 263.14,-115.8 263.14,-115.8\"/>\r\n</g>\r\n<!-- 12 -->\r\n<g id=\"node13\" class=\"node\">\r\n<title>12</title>\r\n<ellipse fill=\"none\" stroke=\"black\" cx=\"293.88\" cy=\"-33.8\" rx=\"33.6\" ry=\"33.6\"/>\r\n<text text-anchor=\"middle\" x=\"293.88\" y=\"-30.1\" font-family=\"Times New Roman,serif\" font-size=\"14.00\">12/&#45;10</text>\r\n</g>\r\n<!-- 5&#45;&gt;12 -->\r\n<g id=\"edge12\" class=\"edge\">\r\n<title>5:&#45;&gt;12:</title>\r\n<path fill=\"none\" stroke=\"black\" d=\"M216.5,-101.51C228.58,-90.81 245.51,-75.8 260.36,-62.63\"/>\r\n<polygon fill=\"black\" stroke=\"black\" points=\"267.91,-55.94 263.41,-65.94 264.16,-59.26 260.42,-62.57 260.42,-62.57 260.42,-62.57 264.16,-59.26 257.44,-59.21 267.91,-55.94 267.91,-55.94\"/>\r\n</g>\r\n</g>\r\n</svg>\r\n",
          "text/plain": "<graphviz.dot.Digraph at 0x14b5d6d25b0>"
         },
         "metadata": {},
         "output_type": "display_data"
        }
       ]
      }
     },
     "45e007bf21b14150bd3e931f49896653": {
      "model_module": "@jupyter-widgets/base",
      "model_module_version": "1.2.0",
      "model_name": "LayoutModel",
      "state": {}
     },
     "45e941810f89427daea64dd36b4847ea": {
      "model_module": "@jupyter-widgets/base",
      "model_module_version": "1.2.0",
      "model_name": "LayoutModel",
      "state": {}
     },
     "46b7fcc43ab04c86ba2eb511d69f2298": {
      "model_module": "@jupyter-widgets/controls",
      "model_module_version": "1.5.0",
      "model_name": "PlayModel",
      "state": {
       "interval": 200,
       "layout": "IPY_MODEL_e65d2ce05a1f49e1b4095adf7458fd98",
       "style": "IPY_MODEL_25a29e9063fd4c2ab2235755722487ac"
      }
     },
     "493296dc621f4c939c09e09958767511": {
      "model_module": "@jupyter-widgets/base",
      "model_module_version": "1.2.0",
      "model_name": "LayoutModel",
      "state": {}
     },
     "4b1bbaf243ee453ab3c01d044264993d": {
      "model_module": "@jupyter-widgets/output",
      "model_module_version": "1.0.0",
      "model_name": "OutputModel",
      "state": {
       "layout": "IPY_MODEL_abb6af50ad4d4926b065dc1148bdf20f",
       "outputs": [
        {
         "data": {
          "image/png": "iVBORw0KGgoAAAANSUhEUgAAAk4AAAJOCAYAAABBWYj1AAAAOXRFWHRTb2Z0d2FyZQBNYXRwbG90bGliIHZlcnNpb24zLjQuMiwgaHR0cHM6Ly9tYXRwbG90bGliLm9yZy8rg+JYAAAACXBIWXMAAAsTAAALEwEAmpwYAAAMFUlEQVR4nO3cMY7cNhiAUTJw5wMsD5pj5KCeA6RWiu2CjPZbODalnfcAVizmByV5P7DwPI5jAADwsT92DwAAcBfCCQAgEk4AAJFwAgCIhBMAQCScAACibx/s+78KAIBXM59tuHECAIiEEwBAJJwAACLhBAAQCScAgEg4AQBEwgkAIBJOAACRcAIAiIQTAEAknAAAIuEEABAJJwCASDgBAETCCQAgEk4AAJFwAgCIhBMAQCScAAAi4QQAEAknAIBIOAEARMIJACASTgAAkXACAIiEEwBsttYYc+5da+0+hXuYx3Gc7Z9uAgA/b87dE7w7T4KX8vSJuHECAIiEEwBAJJwAACLhBAAQCScAgEg4AQBEwgkAIBJOAACRcAIAiIQTAEAknAAAIuEEABAJJwCASDgBAETCCQAgEk4AAJFwAgCIhBMAQCScAAAi4QQAEAknAIBIOAEARMIJACASTgAAkXACAIiEEwBAJJwAACLhBAAQCScAgEg4AQBEwgkAIBJOAACRcAIAiIQTAEAknAAAIuEEABAJJwCASDgBAETCCQAgEk4AAJFwAuBLW2uMOfeutXafAv+XeRzH2f7pJgBc3Zy7J3h39uf2DjO+mKdPxI0TAEAknAAAIuEEABAJJwCASDgBAETCCQAgEk4AAJFwAgCIhBMAQCScAAAi4QQAEAknAIBIOAEARMIJACASTgAAkXACAIiEEwBAJJwAACLhBAAQCScAfspaY8y5b621+wR4JfM4jrP9000AmHP3BGOc/Sm7wnxj3H/GF/P0ibhxAgCIhBMAQCScAAAi4QQAEAknAIBIOAEARMIJACASTgAAkXACAIiEEwBAJJwAACLhBAAQCScAgEg4AQBEwgkAIBJOAACRcAIAiIQTAEAknAAAIuEE/7LWGHPuXWvtPgUA/ss8juNs/3QTvqI5d0/w7vzThOu4wjdz9r1cYb4x7j/ji3n6RNw4AQBEwgkAIBJOAACRcAIAiIQTAEAknAAAIuEEABAJJwCASDgBAETCCQAgEk4AAJFwAgCIhBMAQCScAAAi4QQAEAknAIBIOAEARMIJACASTgAAkXDit1prjDn3rrV2nwIAdzWP4zjbP92Ez5pz9wTvzl77O8wIV3KFb+bu3/QdZnwxT5+IGycAgEg4AQBEwgkAIBJOAACRcAIAiIQTAEAknAAAIuEEABAJJwCASDgBAETCCQAgEk4AAJFwAgCIhBMAQCScAAAi4QQAEAknAIBIOAEARMIJACASTnBDa40x59611u5TAPj95nEcZ/unm/BZc+6e4N3Za2/G7vyfD17FFd7Hu38vd5jxxTx9Im6cAAAi4QQAEAknAIBIOAEARMIJACASTgAAkXACAIiEEwBAJJwAACLhBAAQCScAgEg4AQBEwgkAIBJOAACRcAIAiIQTAEAknAAAIuEEABAJJwCASDgBAETCCQAgEk4AAJFwAgCIhBMAQCScAAAi4QQAEAknAIBIOAEARMIJACASTgAAkXACAIiEEwBAJJwAACLhBAAQCScAgEg4AQBEwgkAIBJOAACRcAIAiIQTAEAknL6QtcaYc+9aa/cpAMCvM4/jONs/3eRa5tw9wbuzV8qM3d1n5HVc4X28+/dyhxlfzNMn4sYJACASTgAAkXACAIiEEwBAJJwAACLhBAAQCScAgEg4AQBEwgkAIBJOAACRcAIAiIQTAEAknAAAIuEEABAJJwCASDgBAETCCQAgEk4AAJFwAgCIhBMAQCScAAAi4QQAEAknAIBIOAEARMIJACASTgAAkXACAIiEEwBAJJwAACLhBAAQCScAgEg4AQBEwgkAIBJOAACRcAIAiIQTAEAknAAAIuEEABAJJwCASDgBAETCCQAgEk4AAJFwAgCIhBMAQCScAAAi4QQAEAknAIBIOAEARMIJACASTgAAkXACAIiEEwBAJJwAACLhBAAQCScAgEg4AQBEwgkAIBJOAACRcAIAiIQTAED0bfcAY4yx/lrj8fdj6wxv39/Gjz9/bJ0BALi2S9w47Y6mq8wAAFzbJcIJAOAOhBMAQCScAAAi4QQAEAknAIBIOAEARMIJACASTgAAkXACAIiEEwBAJJwAACLhBAAQCScAgEg4AQBEwgkAIBJOAACRcAIAiIQTAEAknAAAIuEEABAJJwCASDgBAETCCQAgEk4AAJFwAgCIhBMAQCScAAAi4QQAEAknAIBIOAEARMIJACASTgAAkXACAIiEEwBAJJwAACLhBAAQCScAgEg4AQBEwgkAIBJOAACRcAIAiIQTAEAknAAAIuEEABAJJwCASDgBAETCCQAgEk4AAJFwAgCIhBMAQCScAAAi4QQAEAknAIBIOAEARMIJACASTgAAkXACAIiEEwBAJJwAACLhBAAQCScAgEg4AQBEwgkAIBJOAACRcAIAiIQTAEAknAAAIuEEABAJJwCASDgBAETCCQAgEk4AAJFwAgCIhBMAQCScAAAi4QQAEAknAIBIOAEARMIJACASTgAAkXACAIiEEwBAJJwAACLhBAAQCScAgEg4AQBEwgkAIBJOAACRcAIAiIQTAEAknAAAIuEEABAJJwCASDgBAETCCQAgEk4AAJFwAgCIhBMAQCScAAAi4QQAEAknAIBIOAEARMIJACASTgAAkXACAIiEEwBAJJwAACLhBAAQCScAgEg4AQBEwgkAIBJOAACRcAIAiIQTAEAknAAAIuEEABAJJwCASDgBAETCCQAgEk4AAJFwAgCIhBMAQCScAAAi4QQAEAknAIBIOAEARMIJACASTgAAkXACAIiEEwBAJJwAACLhBAAQCScAgEg4AQBEwgkAIBJOAACRcAIAiIQTAEAknAAAIuEEABAJJwCASDgBAETCCQAgEk4AAJFwAgCIhBPwS6w1xpx711q7TwH4aoQT8Es8HrsnuMYMwNcinAAAIuEEABAJJwCASDgBAETCCQAgEk4AAJFwAgCIhBMAQCScAAAi4QQAEAknAIBIOAEARMIJACASTgAAkXACAIiEEwBAJJwAACLhBAAQCScAgEg4AQBEwgkAIBJOAACRcAIAiIQTAEAknAAAIuEEABAJJwCASDgBAETCCQAgEk4AAJFwAgCIhBMAQCScAAAi4QQAEAknAIBIOAEARMIJACASTgAAkXACAIiEEwBAJJwAACLhBAAQCScAgEg4AQBEwgkAIBJOAACRcAIAiIQTAEAknAAAIuEEABAJJwCASDgBAETCCQAgEk4AAJFwAgCIhBMAQCScAAAi4QQAEAknAIBIOAEARMIJACASTsDLWmuMOfettXafAPBZwgl4WY/Ha/8+8HnCCQAgEk4AAJFwAgCIhBMAQCScAAAi4QQAEAknAIBIOAEARMIJACASTgAAkXACAIiEEwBAJJwAACLhBAAQCScAgEg4AQBEwgkAIBJOAACRcAIAiIQTwIWtNcac+9Zau08ArkU4AVzY4/Havw9XI5wAACLhBAAQCScAgEg4AQBEwgkAIBJOAACRcAIAiIQTAEAknAAAIuEEABAJJwCASDgBAETCCQAgEk4AAJFwAgCIhBMAQCScAAAi4QQAEAknAIBIOAEAH1prjDn3rrV2n4JwAgCCx2P3BNeYQTgBAETCCQAgEk4AAJFwAgCIhBMAQCScAAAi4QQAEAknAIBIOAEARMIJACASTgAAkXACAIiEEwBAJJwAACLhBAAQCScAgEg4AQBEwgkAIBJOAACRcIrWGmPOvWut3acAAK9NOEWPx+4JrjEDALwy4QQAEAknAIBIOAEARMIJACASTgAAkXACAIiEEwBAJJwAACLhBAAQCScAgEg4AQBEwgkAIBJOAACRcAIAiIQTAEAknAAAIuEEABAJJwCASDgBAESXCKe372+7R/hwhrf9I344gxkbM/4/zPjzyu+b8ed/f/d8ZQYzNleYYR7HcbZ/ugkA8AXNZxuXuHECALgD4QQAEAknAIBIOAEARMIJACASTgAAkXACAIiEEwBAJJwAACLhBAAQCScAgEg4AQBEwgkAIBJOAACRcAIAiIQTAEAknAAAIuEEABAJJwCASDgBAETCCQAgEk4AAJFwAgCIhBMAQPTtg/35W6YAALgBN04AAJFwAgCIhBMAQCScAAAi4QQAEAknAIDoHzo9in6QN558AAAAAElFTkSuQmCC\n",
          "text/plain": "<Figure size 576x576 with 1 Axes>"
         },
         "metadata": {},
         "output_type": "display_data"
        }
       ]
      }
     },
     "4b43efa155e146fbad4d679315aee0c2": {
      "model_module": "@jupyter-widgets/controls",
      "model_module_version": "1.5.0",
      "model_name": "LinkModel",
      "state": {
       "source": [
        "IPY_MODEL_3ff77df0c7464ce289a4d763516497a0",
        "value"
       ],
       "target": [
        "IPY_MODEL_9d07a41d6e15453f9ca5606b5d30ce93",
        "value"
       ]
      }
     },
     "4b530ecfc39746fc915213fc75d63cb6": {
      "model_module": "@jupyter-widgets/controls",
      "model_module_version": "1.5.0",
      "model_name": "VBoxModel",
      "state": {
       "_dom_classes": [
        "widget-interact"
       ],
       "children": [
        "IPY_MODEL_327c516ba94343ae98b9e35d5b78728f",
        "IPY_MODEL_809847829a804c6c82880afb9e4e0eda"
       ],
       "layout": "IPY_MODEL_55d17f1b8ac54244858ef27b227e581f"
      }
     },
     "4efbe1cad293490cb161a55be0237ee4": {
      "model_module": "@jupyter-widgets/controls",
      "model_module_version": "1.5.0",
      "model_name": "PlayModel",
      "state": {
       "interval": 200,
       "layout": "IPY_MODEL_9e0a6fc23b6d4b92b7bd5ecdb7ff3b9a",
       "style": "IPY_MODEL_8c571e729c944b689435868f5503810d"
      }
     },
     "4f49c1df641546f8829b02a734034aa0": {
      "model_module": "@jupyter-widgets/base",
      "model_module_version": "1.2.0",
      "model_name": "LayoutModel",
      "state": {}
     },
     "4fd88b10cc654f67b0fcb32a0336ba63": {
      "model_module": "@jupyter-widgets/controls",
      "model_module_version": "1.5.0",
      "model_name": "DescriptionStyleModel",
      "state": {
       "description_width": ""
      }
     },
     "4ff53c77c3054602beb570d69409041f": {
      "model_module": "@jupyter-widgets/controls",
      "model_module_version": "1.5.0",
      "model_name": "HBoxModel",
      "state": {
       "children": [
        "IPY_MODEL_698462584f684487a2eb120bfc45f340",
        "IPY_MODEL_5f380e46b06f4edabef87550e0da5ee3",
        "IPY_MODEL_1209919011d84ebe8271e769b088cbb8"
       ],
       "layout": "IPY_MODEL_da35ef5e84174637b1bbc55146325f93"
      }
     },
     "531585fc156c4ecaba55d9b32eeb2583": {
      "model_module": "@jupyter-widgets/controls",
      "model_module_version": "1.5.0",
      "model_name": "LinkModel",
      "state": {
       "source": [
        "IPY_MODEL_46b7fcc43ab04c86ba2eb511d69f2298",
        "value"
       ],
       "target": [
        "IPY_MODEL_eabd49ca466246669bc17c0e68774a47",
        "value"
       ]
      }
     },
     "53a945d36468478ab8ea5e2be43c20a7": {
      "model_module": "@jupyter-widgets/controls",
      "model_module_version": "1.5.0",
      "model_name": "VBoxModel",
      "state": {
       "_dom_classes": [
        "widget-interact"
       ],
       "children": [
        "IPY_MODEL_300aac10ef5b4a47b603d44cffe7e2b5",
        "IPY_MODEL_4b1bbaf243ee453ab3c01d044264993d"
       ],
       "layout": "IPY_MODEL_9357066cbeea475b9b7a06eff7d78cc0"
      }
     },
     "55d17f1b8ac54244858ef27b227e581f": {
      "model_module": "@jupyter-widgets/base",
      "model_module_version": "1.2.0",
      "model_name": "LayoutModel",
      "state": {}
     },
     "5627765d145d4aeb8534f1c7b23a2c7b": {
      "model_module": "@jupyter-widgets/controls",
      "model_module_version": "1.5.0",
      "model_name": "HBoxModel",
      "state": {
       "children": [
        "IPY_MODEL_6d6927afff8d45d096d808a7151d24b5",
        "IPY_MODEL_9e2baf757fc44acba7ac231fa8972d65",
        "IPY_MODEL_6cd53bd091614e32a103a8a92374683a"
       ],
       "layout": "IPY_MODEL_3001ff0bba394a248b22ed3d427ddf8e"
      }
     },
     "5699404012824ecbbe51f382f4b37703": {
      "model_module": "@jupyter-widgets/controls",
      "model_module_version": "1.5.0",
      "model_name": "LinkModel",
      "state": {
       "source": [
        "IPY_MODEL_698462584f684487a2eb120bfc45f340",
        "value"
       ],
       "target": [
        "IPY_MODEL_ea77fe33704b43719d021900286e4af4",
        "value"
       ]
      }
     },
     "57e56891b8314453bbdab3239467fbd5": {
      "model_module": "@jupyter-widgets/controls",
      "model_module_version": "1.5.0",
      "model_name": "HBoxModel",
      "state": {
       "children": [
        "IPY_MODEL_0a74a4c6b8ae49d9b67e09aaf37d9054",
        "IPY_MODEL_8d6895587ac244199fa089e35f815001",
        "IPY_MODEL_2a9176c59ea8436580ec24aaf0c44920"
       ],
       "layout": "IPY_MODEL_34526e4676cd4184b37f59ef586c519d"
      }
     },
     "58612775641e4201be650c01eb15bb79": {
      "model_module": "@jupyter-widgets/controls",
      "model_module_version": "1.5.0",
      "model_name": "DescriptionStyleModel",
      "state": {
       "description_width": ""
      }
     },
     "5a8e80479f6e4ceda08a2ca04993bc3b": {
      "model_module": "@jupyter-widgets/controls",
      "model_module_version": "1.5.0",
      "model_name": "ButtonModel",
      "state": {
       "description": "Prev",
       "layout": "IPY_MODEL_45e007bf21b14150bd3e931f49896653",
       "style": "IPY_MODEL_b395c8447dc54e4a8560196d4d0db0aa"
      }
     },
     "5bfb8a4e74c048fe92432004e24b6051": {
      "model_module": "@jupyter-widgets/base",
      "model_module_version": "1.2.0",
      "model_name": "LayoutModel",
      "state": {}
     },
     "5c8f075db17e4cc2b86621c777c8fcc3": {
      "model_module": "@jupyter-widgets/base",
      "model_module_version": "1.2.0",
      "model_name": "LayoutModel",
      "state": {}
     },
     "5f380e46b06f4edabef87550e0da5ee3": {
      "model_module": "@jupyter-widgets/controls",
      "model_module_version": "1.5.0",
      "model_name": "ButtonModel",
      "state": {
       "description": "Prev",
       "layout": "IPY_MODEL_f2cc00a9a4d84c6195aa08e74bc3c114",
       "style": "IPY_MODEL_b5054b9571de4916aafd6ec5246be541"
      }
     },
     "609dae51b74549eba387709be5bb3060": {
      "model_module": "@jupyter-widgets/base",
      "model_module_version": "1.2.0",
      "model_name": "LayoutModel",
      "state": {}
     },
     "611e62fe3a04406ca3f1219baf74d8c2": {
      "model_module": "@jupyter-widgets/controls",
      "model_module_version": "1.5.0",
      "model_name": "VBoxModel",
      "state": {
       "_dom_classes": [
        "widget-interact"
       ],
       "children": [
        "IPY_MODEL_eabd49ca466246669bc17c0e68774a47",
        "IPY_MODEL_07ed74dafdc64affba64cb97a22dcda3"
       ],
       "layout": "IPY_MODEL_09a0450f13da4473845e7022b9b2081d"
      }
     },
     "61b4b4a12caf4da59fca4c7cf2fd0b5a": {
      "model_module": "@jupyter-widgets/output",
      "model_module_version": "1.0.0",
      "model_name": "OutputModel",
      "state": {
       "layout": "IPY_MODEL_9eeac4902a4341689b057cc6724932f5",
       "outputs": [
        {
         "data": {
          "image/png": "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\n",
          "text/plain": "<Figure size 576x576 with 1 Axes>"
         },
         "metadata": {},
         "output_type": "display_data"
        }
       ]
      }
     },
     "624e0ff15b744af88686efd363d1a8ac": {
      "model_module": "@jupyter-widgets/controls",
      "model_module_version": "1.5.0",
      "model_name": "ButtonModel",
      "state": {
       "description": "Next",
       "layout": "IPY_MODEL_a71597a5d9194c34947bb02b31e56feb",
       "style": "IPY_MODEL_b3ad1c79eddb45cba52a36946bda2cc1"
      }
     },
     "63568653d1bd43cb8fcac5fd2ac93e7c": {
      "model_module": "@jupyter-widgets/controls",
      "model_module_version": "1.5.0",
      "model_name": "SliderStyleModel",
      "state": {
       "description_width": ""
      }
     },
     "652578117f8e46c58831b99bdb8507ed": {
      "model_module": "@jupyter-widgets/controls",
      "model_module_version": "1.5.0",
      "model_name": "SliderStyleModel",
      "state": {
       "description_width": ""
      }
     },
     "66a48dfa334b442dbb42da2526f92afa": {
      "model_module": "@jupyter-widgets/base",
      "model_module_version": "1.2.0",
      "model_name": "LayoutModel",
      "state": {}
     },
     "66cd26b9fad048c88880adf36d91057e": {
      "model_module": "@jupyter-widgets/base",
      "model_module_version": "1.2.0",
      "model_name": "LayoutModel",
      "state": {}
     },
     "68008009f42544f9be0222f2cca6e8f6": {
      "model_module": "@jupyter-widgets/base",
      "model_module_version": "1.2.0",
      "model_name": "LayoutModel",
      "state": {}
     },
     "698462584f684487a2eb120bfc45f340": {
      "model_module": "@jupyter-widgets/controls",
      "model_module_version": "1.5.0",
      "model_name": "PlayModel",
      "state": {
       "interval": 200,
       "layout": "IPY_MODEL_ce1d98004dcc45ccac4a6b354d40c2ba",
       "style": "IPY_MODEL_a21589be70054c0dbc35f4bc6d1f983e",
       "value": 28
      }
     },
     "6cd53bd091614e32a103a8a92374683a": {
      "model_module": "@jupyter-widgets/controls",
      "model_module_version": "1.5.0",
      "model_name": "ButtonModel",
      "state": {
       "description": "Next",
       "layout": "IPY_MODEL_2c8ce689fe9d4b8bbfd2a20fc9c5a5cd",
       "style": "IPY_MODEL_a684cb191af1463391367e796bb552b0"
      }
     },
     "6ce91ab52c3e43bb81a1cd6548466eed": {
      "model_module": "@jupyter-widgets/controls",
      "model_module_version": "1.5.0",
      "model_name": "HBoxModel",
      "state": {
       "children": [
        "IPY_MODEL_343d575b4169462b9a82a64cb551b09d",
        "IPY_MODEL_98e12a4daba948279b2ad954279c4215",
        "IPY_MODEL_c8cf9761e2474f4b8b96bf48935f6291"
       ],
       "layout": "IPY_MODEL_418480c575904e8eacbb1cb8a203b4a4"
      }
     },
     "6d6927afff8d45d096d808a7151d24b5": {
      "model_module": "@jupyter-widgets/controls",
      "model_module_version": "1.5.0",
      "model_name": "PlayModel",
      "state": {
       "interval": 200,
       "layout": "IPY_MODEL_cc17c82ab2ba4589bf516c306e08aeee",
       "style": "IPY_MODEL_c5f54ec962674ecf85f2ed826785d899",
       "value": 5
      }
     },
     "70048e59709445d79856eb432be7ce54": {
      "model_module": "@jupyter-widgets/base",
      "model_module_version": "1.2.0",
      "model_name": "LayoutModel",
      "state": {}
     },
     "707ee7e63b8141d793110e6aef119094": {
      "model_module": "@jupyter-widgets/controls",
      "model_module_version": "1.5.0",
      "model_name": "LinkModel",
      "state": {
       "source": [
        "IPY_MODEL_dec76f3f9f28433cb2f6061dff256f54",
        "value"
       ],
       "target": [
        "IPY_MODEL_05e7e03be21e4a7f93d436c63772a6d7",
        "value"
       ]
      }
     },
     "7100d6d2da7c48afad7ca722c58b94f9": {
      "model_module": "@jupyter-widgets/controls",
      "model_module_version": "1.5.0",
      "model_name": "PlayModel",
      "state": {
       "interval": 200,
       "layout": "IPY_MODEL_1e4a6aea3b684b85a6a5291e0457089b",
       "style": "IPY_MODEL_58612775641e4201be650c01eb15bb79",
       "value": 1
      }
     },
     "722d4d3c7cfe433eafdca56ee739b096": {
      "model_module": "@jupyter-widgets/controls",
      "model_module_version": "1.5.0",
      "model_name": "ButtonStyleModel",
      "state": {}
     },
     "726009cd373a49a38ab8da241dfc432c": {
      "model_module": "@jupyter-widgets/base",
      "model_module_version": "1.2.0",
      "model_name": "LayoutModel",
      "state": {}
     },
     "7345867b8dbb4638ab48c7fec409bd42": {
      "model_module": "@jupyter-widgets/controls",
      "model_module_version": "1.5.0",
      "model_name": "HBoxModel",
      "state": {
       "children": [
        "IPY_MODEL_7100d6d2da7c48afad7ca722c58b94f9",
        "IPY_MODEL_943641e0b2694966be1a770017c16d30",
        "IPY_MODEL_2562bc272fec4231b8fc065914fea2f6"
       ],
       "layout": "IPY_MODEL_bf580570dd404c8580b6982ab1f8b16e"
      }
     },
     "74c6bb7af20646df984c2982a65ada19": {
      "model_module": "@jupyter-widgets/base",
      "model_module_version": "1.2.0",
      "model_name": "LayoutModel",
      "state": {}
     },
     "763c21d948e5449593bd5d710e3c1337": {
      "model_module": "@jupyter-widgets/controls",
      "model_module_version": "1.5.0",
      "model_name": "ButtonModel",
      "state": {
       "description": "Prev",
       "layout": "IPY_MODEL_70048e59709445d79856eb432be7ce54",
       "style": "IPY_MODEL_e59548f76c6e44d09c3a677b020ff619"
      }
     },
     "770761d8612a4b508ebcc85b0ac45221": {
      "model_module": "@jupyter-widgets/base",
      "model_module_version": "1.2.0",
      "model_name": "LayoutModel",
      "state": {}
     },
     "77333b9f783d49ed8144255a8e6dede4": {
      "model_module": "@jupyter-widgets/controls",
      "model_module_version": "1.5.0",
      "model_name": "HBoxModel",
      "state": {
       "children": [
        "IPY_MODEL_46b7fcc43ab04c86ba2eb511d69f2298",
        "IPY_MODEL_0fbb6d846bf2498aac294072b8654ac1",
        "IPY_MODEL_cd41271f3dd34264a2bb462530e73994"
       ],
       "layout": "IPY_MODEL_7a3ad22d14674c9a8e61e36b9399edb0"
      }
     },
     "78fe4f7031e540f58bab978ddba911ca": {
      "model_module": "@jupyter-widgets/controls",
      "model_module_version": "1.5.0",
      "model_name": "ButtonStyleModel",
      "state": {}
     },
     "79cd6b446d594a2e9f4a690cca323c8f": {
      "model_module": "@jupyter-widgets/base",
      "model_module_version": "1.2.0",
      "model_name": "LayoutModel",
      "state": {}
     },
     "7a3ad22d14674c9a8e61e36b9399edb0": {
      "model_module": "@jupyter-widgets/base",
      "model_module_version": "1.2.0",
      "model_name": "LayoutModel",
      "state": {}
     },
     "7ee9b8542b224b94ae03709aedbed271": {
      "model_module": "@jupyter-widgets/base",
      "model_module_version": "1.2.0",
      "model_name": "LayoutModel",
      "state": {}
     },
     "7f34b55d720542609f9570f5d0ddf895": {
      "model_module": "@jupyter-widgets/controls",
      "model_module_version": "1.5.0",
      "model_name": "ButtonStyleModel",
      "state": {}
     },
     "809847829a804c6c82880afb9e4e0eda": {
      "model_module": "@jupyter-widgets/output",
      "model_module_version": "1.0.0",
      "model_name": "OutputModel",
      "state": {
       "layout": "IPY_MODEL_9f2bf1b6d9874104a51a5658ca8bb882",
       "outputs": [
        {
         "data": {
          "image/png": "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\n",
          "text/plain": "<Figure size 576x576 with 1 Axes>"
         },
         "metadata": {},
         "output_type": "display_data"
        }
       ]
      }
     },
     "817da07aad444c8e91c7a35082c98457": {
      "model_module": "@jupyter-widgets/base",
      "model_module_version": "1.2.0",
      "model_name": "LayoutModel",
      "state": {}
     },
     "82c189ed2b1e43bb82db6757a41b14b7": {
      "model_module": "@jupyter-widgets/base",
      "model_module_version": "1.2.0",
      "model_name": "LayoutModel",
      "state": {}
     },
     "8528130765b84bff82d962660b5568a5": {
      "model_module": "@jupyter-widgets/base",
      "model_module_version": "1.2.0",
      "model_name": "LayoutModel",
      "state": {}
     },
     "8a1c5e7ffa994666b11b078c35b7d52a": {
      "model_module": "@jupyter-widgets/base",
      "model_module_version": "1.2.0",
      "model_name": "LayoutModel",
      "state": {}
     },
     "8ac1e1fa57d4448cbd055aa514676735": {
      "model_module": "@jupyter-widgets/base",
      "model_module_version": "1.2.0",
      "model_name": "LayoutModel",
      "state": {}
     },
     "8c571e729c944b689435868f5503810d": {
      "model_module": "@jupyter-widgets/controls",
      "model_module_version": "1.5.0",
      "model_name": "DescriptionStyleModel",
      "state": {
       "description_width": ""
      }
     },
     "8d6895587ac244199fa089e35f815001": {
      "model_module": "@jupyter-widgets/controls",
      "model_module_version": "1.5.0",
      "model_name": "ButtonModel",
      "state": {
       "description": "Prev",
       "layout": "IPY_MODEL_db068205fd1847228f38257d7f204767",
       "style": "IPY_MODEL_16cef0bbeecc4bc3a47b9c382c4aa14a"
      }
     },
     "8db48e83bcf04ec98b624b31a8127894": {
      "model_module": "@jupyter-widgets/output",
      "model_module_version": "1.0.0",
      "model_name": "OutputModel",
      "state": {
       "layout": "IPY_MODEL_c1ffb1042ffc4315859829cbd8fc2a10"
      }
     },
     "8e373c0ca63b4929b2667529e6e861bf": {
      "model_module": "@jupyter-widgets/controls",
      "model_module_version": "1.5.0",
      "model_name": "HBoxModel",
      "state": {
       "children": [
        "IPY_MODEL_4efbe1cad293490cb161a55be0237ee4",
        "IPY_MODEL_e3016f7292da4c3880fdd64ed424028d",
        "IPY_MODEL_19b3bb8a2c6e4fed837f62b52a056bcf"
       ],
       "layout": "IPY_MODEL_206f2dcd47e64e168ee6ee3ec1b660c1"
      }
     },
     "8fd852d7996b406fac0d5b0f45ac39e2": {
      "model_module": "@jupyter-widgets/base",
      "model_module_version": "1.2.0",
      "model_name": "LayoutModel",
      "state": {}
     },
     "90b2ce59a4e1480ab3bb7ef56c4af172": {
      "model_module": "@jupyter-widgets/controls",
      "model_module_version": "1.5.0",
      "model_name": "VBoxModel",
      "state": {
       "_dom_classes": [
        "widget-interact"
       ],
       "children": [
        "IPY_MODEL_0d83bed468fc417e82d0d8c3190324fa",
        "IPY_MODEL_38abf996cc8349238ba1e25a38852ec8"
       ],
       "layout": "IPY_MODEL_2c02f3d17bb3474692575cb174a67b8b"
      }
     },
     "91665794f5ec4ed29c8f72a9434ab2fa": {
      "model_module": "@jupyter-widgets/controls",
      "model_module_version": "1.5.0",
      "model_name": "PlayModel",
      "state": {
       "interval": 200,
       "layout": "IPY_MODEL_cda570b71fa34839a3ec6ae3616eee7d",
       "style": "IPY_MODEL_93c9d6a435594f6592758fc7d4d66010"
      }
     },
     "92290842e3d7459895d88f6083af803f": {
      "model_module": "@jupyter-widgets/base",
      "model_module_version": "1.2.0",
      "model_name": "LayoutModel",
      "state": {}
     },
     "9357066cbeea475b9b7a06eff7d78cc0": {
      "model_module": "@jupyter-widgets/base",
      "model_module_version": "1.2.0",
      "model_name": "LayoutModel",
      "state": {}
     },
     "93c9d6a435594f6592758fc7d4d66010": {
      "model_module": "@jupyter-widgets/controls",
      "model_module_version": "1.5.0",
      "model_name": "DescriptionStyleModel",
      "state": {
       "description_width": ""
      }
     },
     "943641e0b2694966be1a770017c16d30": {
      "model_module": "@jupyter-widgets/controls",
      "model_module_version": "1.5.0",
      "model_name": "ButtonModel",
      "state": {
       "description": "Prev",
       "layout": "IPY_MODEL_66a48dfa334b442dbb42da2526f92afa",
       "style": "IPY_MODEL_a81afba3b9684178858c38497f67b639"
      }
     },
     "957f56b3e84640d980fccdc94aa1969b": {
      "model_module": "@jupyter-widgets/base",
      "model_module_version": "1.2.0",
      "model_name": "LayoutModel",
      "state": {}
     },
     "95a52299ce2d4a87ab1c65016faa16b2": {
      "model_module": "@jupyter-widgets/controls",
      "model_module_version": "1.5.0",
      "model_name": "VBoxModel",
      "state": {
       "_dom_classes": [
        "widget-interact"
       ],
       "children": [
        "IPY_MODEL_05e7e03be21e4a7f93d436c63772a6d7",
        "IPY_MODEL_ce6137742ade475f9029a84cff6af4e7"
       ],
       "layout": "IPY_MODEL_609dae51b74549eba387709be5bb3060"
      }
     },
     "9813b23366d1480ca7ec814d4b8b0631": {
      "model_module": "@jupyter-widgets/controls",
      "model_module_version": "1.5.0",
      "model_name": "SliderStyleModel",
      "state": {
       "description_width": ""
      }
     },
     "98e12a4daba948279b2ad954279c4215": {
      "model_module": "@jupyter-widgets/controls",
      "model_module_version": "1.5.0",
      "model_name": "ButtonModel",
      "state": {
       "description": "Prev",
       "layout": "IPY_MODEL_92290842e3d7459895d88f6083af803f",
       "style": "IPY_MODEL_d7c00c7e596844958b5fbdaf4f3417a8"
      }
     },
     "98f51b34265b4fad87c36957a4ca6806": {
      "model_module": "@jupyter-widgets/output",
      "model_module_version": "1.0.0",
      "model_name": "OutputModel",
      "state": {
       "layout": "IPY_MODEL_45e941810f89427daea64dd36b4847ea"
      }
     },
     "99c7bcdfe6014072a014d87addec8120": {
      "model_module": "@jupyter-widgets/controls",
      "model_module_version": "1.5.0",
      "model_name": "SliderStyleModel",
      "state": {
       "description_width": ""
      }
     },
     "9b5999940de7483badcd1f579a897947": {
      "model_module": "@jupyter-widgets/base",
      "model_module_version": "1.2.0",
      "model_name": "LayoutModel",
      "state": {}
     },
     "9c9177a49249447fb3e36fe2179bb0fd": {
      "model_module": "@jupyter-widgets/base",
      "model_module_version": "1.2.0",
      "model_name": "LayoutModel",
      "state": {}
     },
     "9cc083aa863742c695096f43bcda3d8c": {
      "model_module": "@jupyter-widgets/base",
      "model_module_version": "1.2.0",
      "model_name": "LayoutModel",
      "state": {}
     },
     "9d07a41d6e15453f9ca5606b5d30ce93": {
      "model_module": "@jupyter-widgets/controls",
      "model_module_version": "1.5.0",
      "model_name": "IntSliderModel",
      "state": {
       "description": "step",
       "layout": "IPY_MODEL_dccf726835514d099fc742ca8398ab49",
       "max": 28,
       "style": "IPY_MODEL_a855bdb9491240789f56d234c7dd63f5"
      }
     },
     "9dc613a6fe3b4c23bd0a129467d8a405": {
      "model_module": "@jupyter-widgets/base",
      "model_module_version": "1.2.0",
      "model_name": "LayoutModel",
      "state": {}
     },
     "9e0a6fc23b6d4b92b7bd5ecdb7ff3b9a": {
      "model_module": "@jupyter-widgets/base",
      "model_module_version": "1.2.0",
      "model_name": "LayoutModel",
      "state": {}
     },
     "9e2baf757fc44acba7ac231fa8972d65": {
      "model_module": "@jupyter-widgets/controls",
      "model_module_version": "1.5.0",
      "model_name": "ButtonModel",
      "state": {
       "description": "Prev",
       "layout": "IPY_MODEL_66cd26b9fad048c88880adf36d91057e",
       "style": "IPY_MODEL_3f773dce50c34c7cb4a772a51aeb4225"
      }
     },
     "9eeac4902a4341689b057cc6724932f5": {
      "model_module": "@jupyter-widgets/base",
      "model_module_version": "1.2.0",
      "model_name": "LayoutModel",
      "state": {}
     },
     "9f2bf1b6d9874104a51a5658ca8bb882": {
      "model_module": "@jupyter-widgets/base",
      "model_module_version": "1.2.0",
      "model_name": "LayoutModel",
      "state": {}
     },
     "a08154e532d04527ba84fa437837ef88": {
      "model_module": "@jupyter-widgets/controls",
      "model_module_version": "1.5.0",
      "model_name": "ButtonStyleModel",
      "state": {}
     },
     "a18510df41a04b0d8bba1c001e558b76": {
      "model_module": "@jupyter-widgets/base",
      "model_module_version": "1.2.0",
      "model_name": "LayoutModel",
      "state": {}
     },
     "a21589be70054c0dbc35f4bc6d1f983e": {
      "model_module": "@jupyter-widgets/controls",
      "model_module_version": "1.5.0",
      "model_name": "DescriptionStyleModel",
      "state": {
       "description_width": ""
      }
     },
     "a35fb01f028a40c29e96baa4cd91b78e": {
      "model_module": "@jupyter-widgets/base",
      "model_module_version": "1.2.0",
      "model_name": "LayoutModel",
      "state": {}
     },
     "a5ddda35652147da952b62db83ba8a46": {
      "model_module": "@jupyter-widgets/base",
      "model_module_version": "1.2.0",
      "model_name": "LayoutModel",
      "state": {}
     },
     "a684cb191af1463391367e796bb552b0": {
      "model_module": "@jupyter-widgets/controls",
      "model_module_version": "1.5.0",
      "model_name": "ButtonStyleModel",
      "state": {}
     },
     "a6ace505e5d04cf9a00580360d558720": {
      "model_module": "@jupyter-widgets/controls",
      "model_module_version": "1.5.0",
      "model_name": "SliderStyleModel",
      "state": {
       "description_width": ""
      }
     },
     "a71597a5d9194c34947bb02b31e56feb": {
      "model_module": "@jupyter-widgets/base",
      "model_module_version": "1.2.0",
      "model_name": "LayoutModel",
      "state": {}
     },
     "a81afba3b9684178858c38497f67b639": {
      "model_module": "@jupyter-widgets/controls",
      "model_module_version": "1.5.0",
      "model_name": "ButtonStyleModel",
      "state": {}
     },
     "a855bdb9491240789f56d234c7dd63f5": {
      "model_module": "@jupyter-widgets/controls",
      "model_module_version": "1.5.0",
      "model_name": "SliderStyleModel",
      "state": {
       "description_width": ""
      }
     },
     "a8c5ced35f8b4e508ab12d9662f6fa9d": {
      "model_module": "@jupyter-widgets/controls",
      "model_module_version": "1.5.0",
      "model_name": "LinkModel",
      "state": {
       "source": [
        "IPY_MODEL_6d6927afff8d45d096d808a7151d24b5",
        "value"
       ],
       "target": [
        "IPY_MODEL_d17ebfd3c69b433e869a9a6d67a07094",
        "value"
       ]
      }
     },
     "a95ff077b79b41db8a56881348e22fdc": {
      "model_module": "@jupyter-widgets/output",
      "model_module_version": "1.0.0",
      "model_name": "OutputModel",
      "state": {
       "layout": "IPY_MODEL_8ac1e1fa57d4448cbd055aa514676735"
      }
     },
     "aa1a31c4240e487fad13d3dfd5765ffb": {
      "model_module": "@jupyter-widgets/base",
      "model_module_version": "1.2.0",
      "model_name": "LayoutModel",
      "state": {}
     },
     "abb6af50ad4d4926b065dc1148bdf20f": {
      "model_module": "@jupyter-widgets/base",
      "model_module_version": "1.2.0",
      "model_name": "LayoutModel",
      "state": {}
     },
     "ad5e5ee277904592906cfeb9f95d4e36": {
      "model_module": "@jupyter-widgets/controls",
      "model_module_version": "1.5.0",
      "model_name": "IntSliderModel",
      "state": {
       "description": "step",
       "layout": "IPY_MODEL_8a1c5e7ffa994666b11b078c35b7d52a",
       "max": 28,
       "style": "IPY_MODEL_ba6a4c3612114e91ab8fc6e82f00b285",
       "value": 1
      }
     },
     "afb2d041c2e34b4baa7389dfdf6a6fcd": {
      "model_module": "@jupyter-widgets/controls",
      "model_module_version": "1.5.0",
      "model_name": "ButtonStyleModel",
      "state": {}
     },
     "b395c8447dc54e4a8560196d4d0db0aa": {
      "model_module": "@jupyter-widgets/controls",
      "model_module_version": "1.5.0",
      "model_name": "ButtonStyleModel",
      "state": {}
     },
     "b3ad1c79eddb45cba52a36946bda2cc1": {
      "model_module": "@jupyter-widgets/controls",
      "model_module_version": "1.5.0",
      "model_name": "ButtonStyleModel",
      "state": {}
     },
     "b4d1c5c47a9e4e9e82a39b3704b14bf2": {
      "model_module": "@jupyter-widgets/controls",
      "model_module_version": "1.5.0",
      "model_name": "LinkModel",
      "state": {
       "source": [
        "IPY_MODEL_91665794f5ec4ed29c8f72a9434ab2fa",
        "value"
       ],
       "target": [
        "IPY_MODEL_327c516ba94343ae98b9e35d5b78728f",
        "value"
       ]
      }
     },
     "b4d9e1e9df474147827bd777db210d71": {
      "model_module": "@jupyter-widgets/base",
      "model_module_version": "1.2.0",
      "model_name": "LayoutModel",
      "state": {}
     },
     "b5054b9571de4916aafd6ec5246be541": {
      "model_module": "@jupyter-widgets/controls",
      "model_module_version": "1.5.0",
      "model_name": "ButtonStyleModel",
      "state": {}
     },
     "b6852c7cb6ec4b9783af51e040b5459b": {
      "model_module": "@jupyter-widgets/controls",
      "model_module_version": "1.5.0",
      "model_name": "ButtonStyleModel",
      "state": {}
     },
     "b6e81bc18ff84c6f9cc26276837208cc": {
      "model_module": "@jupyter-widgets/controls",
      "model_module_version": "1.5.0",
      "model_name": "DescriptionStyleModel",
      "state": {
       "description_width": ""
      }
     },
     "b7f7e8fb09aa479b9f3d80a8b1391ac4": {
      "model_module": "@jupyter-widgets/base",
      "model_module_version": "1.2.0",
      "model_name": "LayoutModel",
      "state": {}
     },
     "b8a3a9a7123444aa8bbab47e75dd23de": {
      "model_module": "@jupyter-widgets/base",
      "model_module_version": "1.2.0",
      "model_name": "LayoutModel",
      "state": {}
     },
     "ba6a4c3612114e91ab8fc6e82f00b285": {
      "model_module": "@jupyter-widgets/controls",
      "model_module_version": "1.5.0",
      "model_name": "SliderStyleModel",
      "state": {
       "description_width": ""
      }
     },
     "bbc6a658a692430e8522f46c38fcda7c": {
      "model_module": "@jupyter-widgets/base",
      "model_module_version": "1.2.0",
      "model_name": "LayoutModel",
      "state": {}
     },
     "bf580570dd404c8580b6982ab1f8b16e": {
      "model_module": "@jupyter-widgets/base",
      "model_module_version": "1.2.0",
      "model_name": "LayoutModel",
      "state": {}
     },
     "bfc2876d8db6463ca1e742c392cfdb6f": {
      "model_module": "@jupyter-widgets/base",
      "model_module_version": "1.2.0",
      "model_name": "LayoutModel",
      "state": {}
     },
     "c1ce77fe209e406baae864b4e9a6768e": {
      "model_module": "@jupyter-widgets/base",
      "model_module_version": "1.2.0",
      "model_name": "LayoutModel",
      "state": {}
     },
     "c1ffb1042ffc4315859829cbd8fc2a10": {
      "model_module": "@jupyter-widgets/base",
      "model_module_version": "1.2.0",
      "model_name": "LayoutModel",
      "state": {}
     },
     "c2b8e92cf1a8497dbf402158c9e23563": {
      "model_module": "@jupyter-widgets/controls",
      "model_module_version": "1.5.0",
      "model_name": "LinkModel",
      "state": {
       "source": [
        "IPY_MODEL_0a74a4c6b8ae49d9b67e09aaf37d9054",
        "value"
       ],
       "target": [
        "IPY_MODEL_3b6e81de2fcc47c1ab21b89ddb64c8f1",
        "value"
       ]
      }
     },
     "c4b7b48331ac43fda3c447733aefbe24": {
      "model_module": "@jupyter-widgets/controls",
      "model_module_version": "1.5.0",
      "model_name": "HBoxModel",
      "state": {
       "children": [
        "IPY_MODEL_dec76f3f9f28433cb2f6061dff256f54",
        "IPY_MODEL_df5f0c3811ef4d52a1ff8d9143166456",
        "IPY_MODEL_f14081f0a1dc44c6934d28d7f7549389"
       ],
       "layout": "IPY_MODEL_817da07aad444c8e91c7a35082c98457"
      }
     },
     "c4c30ea8a3e64af2be051ff2d8049c53": {
      "model_module": "@jupyter-widgets/output",
      "model_module_version": "1.0.0",
      "model_name": "OutputModel",
      "state": {
       "layout": "IPY_MODEL_726009cd373a49a38ab8da241dfc432c",
       "outputs": [
        {
         "data": {
          "image/svg+xml": "<?xml version=\"1.0\" encoding=\"UTF-8\" standalone=\"no\"?>\r\n<!DOCTYPE svg PUBLIC \"-//W3C//DTD SVG 1.1//EN\"\r\n \"http://www.w3.org/Graphics/SVG/1.1/DTD/svg11.dtd\">\r\n<!-- Generated by graphviz version 2.44.2~dev.20200826.1453 (20200826.1453)\r\n -->\r\n<!-- Pages: 1 -->\r\n<svg width=\"424pt\" height=\"340pt\"\r\n viewBox=\"0.00 0.00 424.04 339.58\" xmlns=\"http://www.w3.org/2000/svg\" xmlns:xlink=\"http://www.w3.org/1999/xlink\">\r\n<g id=\"graph0\" class=\"graph\" transform=\"scale(1 1) rotate(0) translate(4 335.58)\">\r\n<polygon fill=\"white\" stroke=\"transparent\" points=\"-4,4 -4,-335.58 420.04,-335.58 420.04,4 -4,4\"/>\r\n<!-- 0 -->\r\n<g id=\"node1\" class=\"node\">\r\n<title>0</title>\r\n<ellipse fill=\"none\" stroke=\"blue\" cx=\"268.25\" cy=\"-304.93\" rx=\"26.8\" ry=\"26.8\"/>\r\n<text text-anchor=\"middle\" x=\"268.25\" y=\"-301.23\" font-family=\"Times New Roman,serif\" font-size=\"14.00\">0/13</text>\r\n</g>\r\n<!-- 1 -->\r\n<g id=\"node2\" class=\"node\">\r\n<title>1</title>\r\n<ellipse fill=\"none\" stroke=\"blue\" cx=\"199.25\" cy=\"-215.64\" rx=\"26.8\" ry=\"26.8\"/>\r\n<text text-anchor=\"middle\" x=\"199.25\" y=\"-211.94\" font-family=\"Times New Roman,serif\" font-size=\"14.00\">1/10</text>\r\n</g>\r\n<!-- 0&#45;&gt;1 -->\r\n<g id=\"edge1\" class=\"edge\">\r\n<title>0:&#45;&gt;1:</title>\r\n<path fill=\"none\" stroke=\"black\" d=\"M251.9,-283.24C242.87,-271.83 231.53,-257.49 221.69,-245.04\"/>\r\n<polygon fill=\"black\" stroke=\"black\" points=\"215.48,-237.18 225.21,-242.23 218.58,-241.1 221.68,-245.02 221.68,-245.02 221.68,-245.02 218.58,-241.1 218.15,-247.81 215.48,-237.18 215.48,-237.18\"/>\r\n</g>\r\n<!-- 2 -->\r\n<g id=\"node3\" class=\"node\">\r\n<title>2</title>\r\n<ellipse fill=\"none\" stroke=\"blue\" cx=\"304.25\" cy=\"-215.64\" rx=\"26.8\" ry=\"26.8\"/>\r\n<text text-anchor=\"middle\" x=\"304.25\" y=\"-211.94\" font-family=\"Times New Roman,serif\" font-size=\"14.00\">2/11</text>\r\n</g>\r\n<!-- 0&#45;&gt;2 -->\r\n<g id=\"edge2\" class=\"edge\">\r\n<title>0:&#45;&gt;2:</title>\r\n<path fill=\"none\" stroke=\"black\" d=\"M278.08,-280.08C281.93,-270.74 286.42,-259.88 290.57,-249.8\"/>\r\n<polygon fill=\"black\" stroke=\"black\" points=\"294.42,-240.46 294.77,-251.42 292.52,-245.08 290.61,-249.71 290.61,-249.71 290.61,-249.71 292.52,-245.08 286.45,-247.99 294.42,-240.46 294.42,-240.46\"/>\r\n</g>\r\n<!-- 3 -->\r\n<g id=\"node4\" class=\"node\">\r\n<title>3</title>\r\n<ellipse fill=\"none\" stroke=\"blue\" cx=\"101.25\" cy=\"-128.29\" rx=\"24.9\" ry=\"24.9\"/>\r\n<text text-anchor=\"middle\" x=\"101.25\" y=\"-124.59\" font-family=\"Times New Roman,serif\" font-size=\"14.00\">3/&#45;8</text>\r\n</g>\r\n<!-- 1&#45;&gt;3 -->\r\n<g id=\"edge3\" class=\"edge\">\r\n<title>1:&#45;&gt;3:</title>\r\n<path fill=\"none\" stroke=\"black\" d=\"M179.42,-197.37C164.32,-184.22 143.43,-166.02 127.04,-151.75\"/>\r\n<polygon fill=\"black\" stroke=\"black\" points=\"119.4,-145.1 129.89,-148.27 123.17,-148.38 126.94,-151.67 126.94,-151.67 126.94,-151.67 123.17,-148.38 123.98,-155.06 119.4,-145.1 119.4,-145.1\"/>\r\n</g>\r\n<!-- 4 -->\r\n<g id=\"node5\" class=\"node\">\r\n<title>4</title>\r\n<ellipse fill=\"none\" stroke=\"blue\" cx=\"199.25\" cy=\"-128.29\" rx=\"22.2\" ry=\"22.2\"/>\r\n<text text-anchor=\"middle\" x=\"199.25\" y=\"-124.59\" font-family=\"Times New Roman,serif\" font-size=\"14.00\">4/9</text>\r\n</g>\r\n<!-- 1&#45;&gt;4 -->\r\n<g id=\"edge4\" class=\"edge\">\r\n<title>1:&#45;&gt;4:</title>\r\n<path fill=\"none\" stroke=\"black\" d=\"M199.25,-188.57C199.25,-179.83 199.25,-169.99 199.25,-160.88\"/>\r\n<polygon fill=\"black\" stroke=\"black\" points=\"199.25,-150.62 203.75,-160.62 199.25,-155.62 199.25,-160.62 199.25,-160.62 199.25,-160.62 199.25,-155.62 194.75,-160.62 199.25,-150.62 199.25,-150.62\"/>\r\n</g>\r\n<!-- 5 -->\r\n<g id=\"node6\" class=\"node\">\r\n<title>5</title>\r\n<ellipse fill=\"none\" stroke=\"blue\" cx=\"304.25\" cy=\"-128.29\" rx=\"22.2\" ry=\"22.2\"/>\r\n<text text-anchor=\"middle\" x=\"304.25\" y=\"-124.59\" font-family=\"Times New Roman,serif\" font-size=\"14.00\">5/7</text>\r\n</g>\r\n<!-- 2&#45;&gt;5 -->\r\n<g id=\"edge5\" class=\"edge\">\r\n<title>2:&#45;&gt;5:</title>\r\n<path fill=\"none\" stroke=\"black\" d=\"M304.25,-188.57C304.25,-179.83 304.25,-169.99 304.25,-160.88\"/>\r\n<polygon fill=\"black\" stroke=\"black\" points=\"304.25,-150.62 308.75,-160.62 304.25,-155.62 304.25,-160.62 304.25,-160.62 304.25,-160.62 304.25,-155.62 299.75,-160.62 304.25,-150.62 304.25,-150.62\"/>\r\n</g>\r\n<!-- 6 -->\r\n<g id=\"node7\" class=\"node\">\r\n<title>6</title>\r\n<ellipse fill=\"none\" stroke=\"blue\" cx=\"369.25\" cy=\"-128.29\" rx=\"24.9\" ry=\"24.9\"/>\r\n<text text-anchor=\"middle\" x=\"369.25\" y=\"-124.59\" font-family=\"Times New Roman,serif\" font-size=\"14.00\">6/&#45;5</text>\r\n</g>\r\n<!-- 2&#45;&gt;6 -->\r\n<g id=\"edge6\" class=\"edge\">\r\n<title>2:&#45;&gt;6:</title>\r\n<path fill=\"none\" stroke=\"black\" d=\"M319.98,-193.98C328.59,-182.67 339.36,-168.53 348.63,-156.36\"/>\r\n<polygon fill=\"black\" stroke=\"black\" points=\"354.77,-148.3 352.29,-158.98 351.74,-152.28 348.71,-156.26 348.71,-156.26 348.71,-156.26 351.74,-152.28 345.13,-153.53 354.77,-148.3 354.77,-148.3\"/>\r\n</g>\r\n<!-- 7 -->\r\n<g id=\"node8\" class=\"node\">\r\n<title>7</title>\r\n<ellipse fill=\"none\" stroke=\"blue\" cx=\"29.25\" cy=\"-33.8\" rx=\"29.5\" ry=\"29.5\"/>\r\n<text text-anchor=\"middle\" x=\"29.25\" y=\"-30.1\" font-family=\"Times New Roman,serif\" font-size=\"14.00\">7/&#45;11</text>\r\n</g>\r\n<!-- 3&#45;&gt;7 -->\r\n<g id=\"edge7\" class=\"edge\">\r\n<title>3:&#45;&gt;7:</title>\r\n<path fill=\"none\" stroke=\"black\" d=\"M86.33,-108.13C76.76,-95.83 64.11,-79.59 53.16,-65.52\"/>\r\n<polygon fill=\"black\" stroke=\"black\" points=\"46.94,-57.53 56.64,-62.66 50.01,-61.47 53.09,-65.42 53.09,-65.42 53.09,-65.42 50.01,-61.47 49.53,-68.18 46.94,-57.53 46.94,-57.53\"/>\r\n</g>\r\n<!-- 8 -->\r\n<g id=\"node9\" class=\"node\">\r\n<title>8</title>\r\n<ellipse fill=\"none\" stroke=\"blue\" cx=\"101.25\" cy=\"-33.8\" rx=\"24.9\" ry=\"24.9\"/>\r\n<text text-anchor=\"middle\" x=\"101.25\" y=\"-30.1\" font-family=\"Times New Roman,serif\" font-size=\"14.00\">8/&#45;9</text>\r\n</g>\r\n<!-- 3&#45;&gt;8 -->\r\n<g id=\"edge8\" class=\"edge\">\r\n<title>3:&#45;&gt;8:</title>\r\n<path fill=\"none\" stroke=\"black\" d=\"M101.25,-103.47C101.25,-92.9 101.25,-80.26 101.25,-68.73\"/>\r\n<polygon fill=\"black\" stroke=\"black\" points=\"101.25,-58.54 105.75,-68.54 101.25,-63.54 101.25,-68.54 101.25,-68.54 101.25,-68.54 101.25,-63.54 96.75,-68.54 101.25,-58.54 101.25,-58.54\"/>\r\n</g>\r\n<!-- 9 -->\r\n<g id=\"node10\" class=\"node\">\r\n<title>9</title>\r\n<ellipse fill=\"none\" stroke=\"blue\" cx=\"166.25\" cy=\"-33.8\" rx=\"22.2\" ry=\"22.2\"/>\r\n<text text-anchor=\"middle\" x=\"166.25\" y=\"-30.1\" font-family=\"Times New Roman,serif\" font-size=\"14.00\">9/5</text>\r\n</g>\r\n<!-- 4&#45;&gt;9 -->\r\n<g id=\"edge9\" class=\"edge\">\r\n<title>4:&#45;&gt;9:</title>\r\n<path fill=\"none\" stroke=\"black\" d=\"M192.09,-107.22C187.63,-94.74 181.82,-78.46 176.84,-64.5\"/>\r\n<polygon fill=\"black\" stroke=\"black\" points=\"173.39,-54.83 180.99,-62.73 175.07,-59.54 176.75,-64.25 176.75,-64.25 176.75,-64.25 175.07,-59.54 172.52,-65.76 173.39,-54.83 173.39,-54.83\"/>\r\n</g>\r\n<!-- 10 -->\r\n<g id=\"node11\" class=\"node\">\r\n<title>10</title>\r\n<ellipse fill=\"none\" stroke=\"blue\" cx=\"233.25\" cy=\"-33.8\" rx=\"26.8\" ry=\"26.8\"/>\r\n<text text-anchor=\"middle\" x=\"233.25\" y=\"-30.1\" font-family=\"Times New Roman,serif\" font-size=\"14.00\">10/8</text>\r\n</g>\r\n<!-- 4&#45;&gt;10 -->\r\n<g id=\"edge10\" class=\"edge\">\r\n<title>4:&#45;&gt;10:</title>\r\n<path fill=\"none\" stroke=\"black\" d=\"M206.62,-107.22C210.76,-95.96 216.04,-81.61 220.8,-68.66\"/>\r\n<polygon fill=\"black\" stroke=\"black\" points=\"224.31,-59.1 225.09,-70.04 222.59,-63.79 220.86,-68.49 220.86,-68.49 220.86,-68.49 222.59,-63.79 216.64,-66.93 224.31,-59.1 224.31,-59.1\"/>\r\n</g>\r\n<!-- 11 -->\r\n<g id=\"node12\" class=\"node\">\r\n<title>11</title>\r\n<ellipse fill=\"none\" stroke=\"blue\" cx=\"304.25\" cy=\"-33.8\" rx=\"26.8\" ry=\"26.8\"/>\r\n<text text-anchor=\"middle\" x=\"304.25\" y=\"-30.1\" font-family=\"Times New Roman,serif\" font-size=\"14.00\">11/2</text>\r\n</g>\r\n<!-- 5&#45;&gt;11 -->\r\n<g id=\"edge11\" class=\"edge\">\r\n<title>5:&#45;&gt;11:</title>\r\n<path fill=\"none\" stroke=\"black\" d=\"M304.25,-105.84C304.25,-95.44 304.25,-82.66 304.25,-70.82\"/>\r\n<polygon fill=\"black\" stroke=\"black\" points=\"304.25,-60.75 308.75,-70.75 304.25,-65.75 304.25,-70.75 304.25,-70.75 304.25,-70.75 304.25,-65.75 299.75,-70.75 304.25,-60.75 304.25,-60.75\"/>\r\n</g>\r\n<!-- 12 -->\r\n<g id=\"node13\" class=\"node\">\r\n<title>12</title>\r\n<ellipse fill=\"none\" stroke=\"red\" cx=\"382.25\" cy=\"-33.8\" rx=\"33.6\" ry=\"33.6\"/>\r\n<text text-anchor=\"middle\" x=\"382.25\" y=\"-30.1\" font-family=\"Times New Roman,serif\" font-size=\"14.00\">12/&#45;10</text>\r\n</g>\r\n<!-- 5&#45;&gt;12 -->\r\n<g id=\"edge12\" class=\"edge\">\r\n<title>5:&#45;&gt;12:</title>\r\n<path fill=\"none\" stroke=\"black\" d=\"M318.19,-110.76C328.17,-98.92 341.96,-82.58 354.18,-68.08\"/>\r\n<polygon fill=\"black\" stroke=\"black\" points=\"360.77,-60.26 357.77,-70.81 357.55,-64.08 354.33,-67.91 354.33,-67.91 354.33,-67.91 357.55,-64.08 350.89,-65 360.77,-60.26 360.77,-60.26\"/>\r\n</g>\r\n</g>\r\n</svg>\r\n",
          "text/plain": "<graphviz.dot.Digraph at 0x14b5d88ae50>"
         },
         "metadata": {},
         "output_type": "display_data"
        }
       ]
      }
     },
     "c5f54ec962674ecf85f2ed826785d899": {
      "model_module": "@jupyter-widgets/controls",
      "model_module_version": "1.5.0",
      "model_name": "DescriptionStyleModel",
      "state": {
       "description_width": ""
      }
     },
     "c834e838584f44fb959856a5fc3d8210": {
      "model_module": "@jupyter-widgets/controls",
      "model_module_version": "1.5.0",
      "model_name": "VBoxModel",
      "state": {
       "_dom_classes": [
        "widget-interact"
       ],
       "children": [
        "IPY_MODEL_d17ebfd3c69b433e869a9a6d67a07094",
        "IPY_MODEL_8db48e83bcf04ec98b624b31a8127894"
       ],
       "layout": "IPY_MODEL_9cc083aa863742c695096f43bcda3d8c"
      }
     },
     "c8cf9761e2474f4b8b96bf48935f6291": {
      "model_module": "@jupyter-widgets/controls",
      "model_module_version": "1.5.0",
      "model_name": "ButtonModel",
      "state": {
       "description": "Next",
       "layout": "IPY_MODEL_3914148e62204745aafab7c09a689306",
       "style": "IPY_MODEL_78fe4f7031e540f58bab978ddba911ca"
      }
     },
     "c9c8cdf9b3344d298fe8f267c857d9c1": {
      "model_module": "@jupyter-widgets/controls",
      "model_module_version": "1.5.0",
      "model_name": "IntSliderModel",
      "state": {
       "description": "step",
       "layout": "IPY_MODEL_770761d8612a4b508ebcc85b0ac45221",
       "max": 45,
       "style": "IPY_MODEL_a6ace505e5d04cf9a00580360d558720"
      }
     },
     "cb0baa8a3c784f2098c0bd703416c81a": {
      "model_module": "@jupyter-widgets/controls",
      "model_module_version": "1.5.0",
      "model_name": "LinkModel",
      "state": {
       "source": [
        "IPY_MODEL_343d575b4169462b9a82a64cb551b09d",
        "value"
       ],
       "target": [
        "IPY_MODEL_c9c8cdf9b3344d298fe8f267c857d9c1",
        "value"
       ]
      }
     },
     "cc17c82ab2ba4589bf516c306e08aeee": {
      "model_module": "@jupyter-widgets/base",
      "model_module_version": "1.2.0",
      "model_name": "LayoutModel",
      "state": {}
     },
     "cd41271f3dd34264a2bb462530e73994": {
      "model_module": "@jupyter-widgets/controls",
      "model_module_version": "1.5.0",
      "model_name": "ButtonModel",
      "state": {
       "description": "Next",
       "layout": "IPY_MODEL_eef8edb2a1994946b7ab7c027390aae1",
       "style": "IPY_MODEL_3bc35da2b37f43f3977b1f01f89a3ebb"
      }
     },
     "cda570b71fa34839a3ec6ae3616eee7d": {
      "model_module": "@jupyter-widgets/base",
      "model_module_version": "1.2.0",
      "model_name": "LayoutModel",
      "state": {}
     },
     "ce1d98004dcc45ccac4a6b354d40c2ba": {
      "model_module": "@jupyter-widgets/base",
      "model_module_version": "1.2.0",
      "model_name": "LayoutModel",
      "state": {}
     },
     "ce6137742ade475f9029a84cff6af4e7": {
      "model_module": "@jupyter-widgets/output",
      "model_module_version": "1.0.0",
      "model_name": "OutputModel",
      "state": {
       "layout": "IPY_MODEL_3124edf4cec94afa8f6951e639229c7b",
       "outputs": [
        {
         "data": {
          "image/png": "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\n",
          "text/plain": "<Figure size 576x576 with 1 Axes>"
         },
         "metadata": {},
         "output_type": "display_data"
        }
       ]
      }
     },
     "cfa71bf43a95426489e81967e6f77efa": {
      "model_module": "@jupyter-widgets/controls",
      "model_module_version": "1.5.0",
      "model_name": "HBoxModel",
      "state": {
       "children": [
        "IPY_MODEL_260e185c36f243b89a18b74e0741d1e5",
        "IPY_MODEL_2a84ac79a4804ca4ba41951c3d1eb9f4",
        "IPY_MODEL_2e337c792d3a4176932dbe8ff67f08cf"
       ],
       "layout": "IPY_MODEL_046504d89437449b880d260fb8506d59"
      }
     },
     "d17ebfd3c69b433e869a9a6d67a07094": {
      "model_module": "@jupyter-widgets/controls",
      "model_module_version": "1.5.0",
      "model_name": "IntSliderModel",
      "state": {
       "description": "step",
       "layout": "IPY_MODEL_9b5999940de7483badcd1f579a897947",
       "max": 28,
       "style": "IPY_MODEL_098ffbc2d8194d25936658309e8a02de",
       "value": 5
      }
     },
     "d5b623d3756b4573b5f790c588584c32": {
      "model_module": "@jupyter-widgets/controls",
      "model_module_version": "1.5.0",
      "model_name": "VBoxModel",
      "state": {
       "_dom_classes": [
        "widget-interact"
       ],
       "children": [
        "IPY_MODEL_ad5e5ee277904592906cfeb9f95d4e36",
        "IPY_MODEL_a95ff077b79b41db8a56881348e22fdc"
       ],
       "layout": "IPY_MODEL_79cd6b446d594a2e9f4a690cca323c8f"
      }
     },
     "d6651e01325d45fab6f8f270b4db9e75": {
      "model_module": "@jupyter-widgets/base",
      "model_module_version": "1.2.0",
      "model_name": "LayoutModel",
      "state": {}
     },
     "d7c00c7e596844958b5fbdaf4f3417a8": {
      "model_module": "@jupyter-widgets/controls",
      "model_module_version": "1.5.0",
      "model_name": "ButtonStyleModel",
      "state": {}
     },
     "d95640c7236844839039ce9762b8df0f": {
      "model_module": "@jupyter-widgets/controls",
      "model_module_version": "1.5.0",
      "model_name": "LinkModel",
      "state": {
       "source": [
        "IPY_MODEL_0d8cf52c839142529ff5bc9d2612c458",
        "value"
       ],
       "target": [
        "IPY_MODEL_300aac10ef5b4a47b603d44cffe7e2b5",
        "value"
       ]
      }
     },
     "d9b8a772d2e84ed6accd9c0e81171b98": {
      "model_module": "@jupyter-widgets/base",
      "model_module_version": "1.2.0",
      "model_name": "LayoutModel",
      "state": {}
     },
     "da35ef5e84174637b1bbc55146325f93": {
      "model_module": "@jupyter-widgets/base",
      "model_module_version": "1.2.0",
      "model_name": "LayoutModel",
      "state": {}
     },
     "db068205fd1847228f38257d7f204767": {
      "model_module": "@jupyter-widgets/base",
      "model_module_version": "1.2.0",
      "model_name": "LayoutModel",
      "state": {}
     },
     "db4180e0f80d40d1852a06ebeaea24e5": {
      "model_module": "@jupyter-widgets/base",
      "model_module_version": "1.2.0",
      "model_name": "LayoutModel",
      "state": {}
     },
     "dcb82dbc7dd74307a98d597b180480a5": {
      "model_module": "@jupyter-widgets/controls",
      "model_module_version": "1.5.0",
      "model_name": "LinkModel",
      "state": {
       "source": [
        "IPY_MODEL_260e185c36f243b89a18b74e0741d1e5",
        "value"
       ],
       "target": [
        "IPY_MODEL_0d83bed468fc417e82d0d8c3190324fa",
        "value"
       ]
      }
     },
     "dccf726835514d099fc742ca8398ab49": {
      "model_module": "@jupyter-widgets/base",
      "model_module_version": "1.2.0",
      "model_name": "LayoutModel",
      "state": {}
     },
     "dec76f3f9f28433cb2f6061dff256f54": {
      "model_module": "@jupyter-widgets/controls",
      "model_module_version": "1.5.0",
      "model_name": "PlayModel",
      "state": {
       "interval": 200,
       "layout": "IPY_MODEL_bfc2876d8db6463ca1e742c392cfdb6f",
       "style": "IPY_MODEL_4fd88b10cc654f67b0fcb32a0336ba63"
      }
     },
     "df5f0c3811ef4d52a1ff8d9143166456": {
      "model_module": "@jupyter-widgets/controls",
      "model_module_version": "1.5.0",
      "model_name": "ButtonModel",
      "state": {
       "description": "Prev",
       "layout": "IPY_MODEL_083378cba0574c8281e2a23ab12db356",
       "style": "IPY_MODEL_722d4d3c7cfe433eafdca56ee739b096"
      }
     },
     "e1fbb1975b3046e08a74814694a39f76": {
      "model_module": "@jupyter-widgets/controls",
      "model_module_version": "1.5.0",
      "model_name": "VBoxModel",
      "state": {
       "_dom_classes": [
        "widget-interact"
       ],
       "children": [
        "IPY_MODEL_ea77fe33704b43719d021900286e4af4",
        "IPY_MODEL_c4c30ea8a3e64af2be051ff2d8049c53"
       ],
       "layout": "IPY_MODEL_8528130765b84bff82d962660b5568a5"
      }
     },
     "e3016f7292da4c3880fdd64ed424028d": {
      "model_module": "@jupyter-widgets/controls",
      "model_module_version": "1.5.0",
      "model_name": "ButtonModel",
      "state": {
       "description": "Prev",
       "layout": "IPY_MODEL_b8a3a9a7123444aa8bbab47e75dd23de",
       "style": "IPY_MODEL_2d87e4d6f830442fa3c271989ee895d8"
      }
     },
     "e3843ef3a6324654a1732b0d656c44c1": {
      "model_module": "@jupyter-widgets/base",
      "model_module_version": "1.2.0",
      "model_name": "LayoutModel",
      "state": {}
     },
     "e3d6ad8efd8a433cb11c81406f05ac6b": {
      "model_module": "@jupyter-widgets/base",
      "model_module_version": "1.2.0",
      "model_name": "LayoutModel",
      "state": {}
     },
     "e3fa441344c64c88aaace22fc518e109": {
      "model_module": "@jupyter-widgets/controls",
      "model_module_version": "1.5.0",
      "model_name": "SliderStyleModel",
      "state": {
       "description_width": ""
      }
     },
     "e4d1254694374bc992e407ab665e7ab9": {
      "model_module": "@jupyter-widgets/controls",
      "model_module_version": "1.5.0",
      "model_name": "DescriptionStyleModel",
      "state": {
       "description_width": ""
      }
     },
     "e59548f76c6e44d09c3a677b020ff619": {
      "model_module": "@jupyter-widgets/controls",
      "model_module_version": "1.5.0",
      "model_name": "ButtonStyleModel",
      "state": {}
     },
     "e65d2ce05a1f49e1b4095adf7458fd98": {
      "model_module": "@jupyter-widgets/base",
      "model_module_version": "1.2.0",
      "model_name": "LayoutModel",
      "state": {}
     },
     "ea20673cbcbf4b92a898815417e52c78": {
      "model_module": "@jupyter-widgets/controls",
      "model_module_version": "1.5.0",
      "model_name": "SliderStyleModel",
      "state": {
       "description_width": ""
      }
     },
     "ea77fe33704b43719d021900286e4af4": {
      "model_module": "@jupyter-widgets/controls",
      "model_module_version": "1.5.0",
      "model_name": "IntSliderModel",
      "state": {
       "description": "step",
       "layout": "IPY_MODEL_41b5f9946fec4f758c148cdafd826562",
       "max": 28,
       "style": "IPY_MODEL_99c7bcdfe6014072a014d87addec8120",
       "value": 28
      }
     },
     "eabd49ca466246669bc17c0e68774a47": {
      "model_module": "@jupyter-widgets/controls",
      "model_module_version": "1.5.0",
      "model_name": "IntSliderModel",
      "state": {
       "description": "step",
       "layout": "IPY_MODEL_7ee9b8542b224b94ae03709aedbed271",
       "max": 28,
       "style": "IPY_MODEL_0fc95857c4b74492afb0cbd805a1bf9a"
      }
     },
     "eef8edb2a1994946b7ab7c027390aae1": {
      "model_module": "@jupyter-widgets/base",
      "model_module_version": "1.2.0",
      "model_name": "LayoutModel",
      "state": {}
     },
     "ef1115951e984ecfb5c05ae1a82459f9": {
      "model_module": "@jupyter-widgets/controls",
      "model_module_version": "1.5.0",
      "model_name": "VBoxModel",
      "state": {
       "_dom_classes": [
        "widget-interact"
       ],
       "children": [
        "IPY_MODEL_9d07a41d6e15453f9ca5606b5d30ce93",
        "IPY_MODEL_457a687071d8470398e0290c7e348df0"
       ],
       "layout": "IPY_MODEL_23e2df690d2b4c0c9655d8a6f83dd35f"
      }
     },
     "ef56a43424cd471984a6809a84ba7c13": {
      "model_module": "@jupyter-widgets/controls",
      "model_module_version": "1.5.0",
      "model_name": "ButtonModel",
      "state": {
       "description": "Next",
       "layout": "IPY_MODEL_e3d6ad8efd8a433cb11c81406f05ac6b",
       "style": "IPY_MODEL_b6852c7cb6ec4b9783af51e040b5459b"
      }
     },
     "f08ef90b5daa41dea10f711152b0f8ab": {
      "model_module": "@jupyter-widgets/base",
      "model_module_version": "1.2.0",
      "model_name": "LayoutModel",
      "state": {}
     },
     "f14081f0a1dc44c6934d28d7f7549389": {
      "model_module": "@jupyter-widgets/controls",
      "model_module_version": "1.5.0",
      "model_name": "ButtonModel",
      "state": {
       "description": "Next",
       "layout": "IPY_MODEL_32cea0f91ce8420d9dcdccac1f12e7a4",
       "style": "IPY_MODEL_399723e1ec1f469f881f5ce2cf656965"
      }
     },
     "f1f3af6cf3184ec7a0fa671d22bd19d6": {
      "model_module": "@jupyter-widgets/controls",
      "model_module_version": "1.5.0",
      "model_name": "HBoxModel",
      "state": {
       "children": [
        "IPY_MODEL_3ff77df0c7464ce289a4d763516497a0",
        "IPY_MODEL_5a8e80479f6e4ceda08a2ca04993bc3b",
        "IPY_MODEL_624e0ff15b744af88686efd363d1a8ac"
       ],
       "layout": "IPY_MODEL_db4180e0f80d40d1852a06ebeaea24e5"
      }
     },
     "f2cc00a9a4d84c6195aa08e74bc3c114": {
      "model_module": "@jupyter-widgets/base",
      "model_module_version": "1.2.0",
      "model_name": "LayoutModel",
      "state": {}
     },
     "f7064fbebb3b4ba5a68134edb9dc5516": {
      "model_module": "@jupyter-widgets/controls",
      "model_module_version": "1.5.0",
      "model_name": "VBoxModel",
      "state": {
       "_dom_classes": [
        "widget-interact"
       ],
       "children": [
        "IPY_MODEL_c9c8cdf9b3344d298fe8f267c857d9c1",
        "IPY_MODEL_61b4b4a12caf4da59fca4c7cf2fd0b5a"
       ],
       "layout": "IPY_MODEL_82c189ed2b1e43bb82db6757a41b14b7"
      }
     },
     "fc9521fb8d0d4c95a8e57cad70a69422": {
      "model_module": "@jupyter-widgets/controls",
      "model_module_version": "1.5.0",
      "model_name": "SliderStyleModel",
      "state": {
       "description_width": ""
      }
     }
    },
    "version_major": 2,
    "version_minor": 0
   }
  }
 },
 "nbformat": 4,
 "nbformat_minor": 5
}
