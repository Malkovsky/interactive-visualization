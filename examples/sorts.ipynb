{
 "cells": [
  {
   "cell_type": "markdown",
   "id": "264fe04d",
   "metadata": {},
   "source": [
    "# Sorting algorithms\n",
    "In this notebook some basic sorted algorithms are presented.\n",
    "\n",
    "## Quadratic algorithms"
   ]
  },
  {
   "cell_type": "markdown",
   "id": "ed5e0411",
   "metadata": {},
   "source": [
    "## Bubble sort\n",
    "This is a very simple sorting algorithm that behaves as follows:\n",
    "* Loop over all the values from left to right, if the current element is greater than the next one then swap them.\n",
    "* Repeat as many times as there are elements in the array\n",
    "The idea here is that after the first linear scan the maximum element will be placed last, on the second scan the second maximum element will be placed second to last and so on. "
   ]
  },
  {
   "cell_type": "code",
   "execution_count": 1,
   "id": "09bec15b",
   "metadata": {},
   "outputs": [],
   "source": [
    "#############################\n",
    "# Animation utilities\n",
    "#############################\n",
    "import matplotlib.pyplot as plt\n",
    "from interactive_visualization.animation_utils import animate_list\n",
    "\n",
    "def basic_sort_state(array, colors):\n",
    "    bottom = min(array) - 1\n",
    "    fig = plt.figure(figsize = (8, 8))\n",
    "    ax = fig.add_axes([0, 0, 1, 1])\n",
    "    ax.get_xaxis().set_visible(False)\n",
    "    ax.get_yaxis().set_visible(False)\n",
    "\n",
    "    for name, spine in ax.spines.items():\n",
    "        spine.set_visible(False)\n",
    "        spine.set_visible(False)\n",
    "    \n",
    "    for i, value in enumerate(array):\n",
    "        ax.fill([i + 0.1, i + 0.1, i + 1 - 0.1, i + 1 - 0.1, i + 0.1], [0, value - bottom, value - bottom, 0, 0], color=colors[i])\n",
    "        \n",
    "    plt.close(fig)\n",
    "    return fig"
   ]
  },
  {
   "cell_type": "code",
   "execution_count": 2,
   "id": "5a07ea9d",
   "metadata": {},
   "outputs": [],
   "source": [
    "def bubble_sort_state(array, i, j):\n",
    "    result = []\n",
    "    for k in range(len(array) - i):\n",
    "        result.append('blue')\n",
    "    for k in range(i):\n",
    "        result.append('yellow')\n",
    "        \n",
    "    if j >= 0:\n",
    "        result[j] = 'green'\n",
    "    return basic_sort_state(array, result)"
   ]
  },
  {
   "cell_type": "code",
   "execution_count": 3,
   "id": "b8bbd4f9",
   "metadata": {},
   "outputs": [],
   "source": [
    "def bubble_sort(array):\n",
    "    states = []\n",
    "    comparisons = 0\n",
    "    swaps = 0\n",
    "    for i in range(len(array) - 1):\n",
    "        for j in range(len(array) - 1 - i):\n",
    "            states.append(bubble_sort_state(array, i, j))\n",
    "            comparisons += 1\n",
    "            if array[j] > array[j + 1]:\n",
    "                swaps += 1\n",
    "                array[j], array[j + 1] = array[j + 1], array[j]\n",
    "    states.append(bubble_sort_state(array, len(array), -1))\n",
    "    return states, comparisons, swaps"
   ]
  },
  {
   "cell_type": "code",
   "execution_count": 4,
   "id": "064b4d85",
   "metadata": {},
   "outputs": [],
   "source": [
    "initial_array = [2, -11, 5, 8, 9, 7, -5, -8, -9, 10, 11, 13, -10]"
   ]
  },
  {
   "cell_type": "code",
   "execution_count": 5,
   "id": "bd32f704",
   "metadata": {},
   "outputs": [
    {
     "name": "stdout",
     "output_type": "stream",
     "text": [
      "[-11, -10, -9, -8, -5, 2, 5, 7, 8, 9, 10, 11, 13]\n",
      "Comparisons: 78\n",
      "Swaps:       32\n"
     ]
    }
   ],
   "source": [
    "array = [x for x in initial_array]\n",
    "states, comparisons, swaps = bubble_sort(array)\n",
    "print(array)\n",
    "print(f\"Comparisons: {comparisons}\")\n",
    "print(f\"Swaps:       {swaps}\")"
   ]
  },
  {
   "cell_type": "code",
   "execution_count": 6,
   "id": "39044f1c",
   "metadata": {},
   "outputs": [
    {
     "data": {
      "application/vnd.jupyter.widget-view+json": {
       "model_id": "3198b8bf2fe94d58ba8df3fcb5018fb6",
       "version_major": 2,
       "version_minor": 0
      },
      "text/plain": [
       "HBox(children=(Play(value=0, interval=200), Button(description='Prev', style=ButtonStyle()), Button(descriptio…"
      ]
     },
     "metadata": {},
     "output_type": "display_data"
    },
    {
     "data": {
      "application/vnd.jupyter.widget-view+json": {
       "model_id": "ac5d03dc42274bea902f154378795060",
       "version_major": 2,
       "version_minor": 0
      },
      "text/plain": [
       "interactive(children=(IntSlider(value=0, description='step', max=78), Output()), _dom_classes=('widget-interac…"
      ]
     },
     "metadata": {},
     "output_type": "display_data"
    }
   ],
   "source": [
    "animate_list(states, play=True);"
   ]
  },
  {
   "cell_type": "markdown",
   "id": "d250f5d3",
   "metadata": {},
   "source": [
    "## Analysis\n",
    "There are two main operations: swaps and comparisons. \n",
    "\n",
    "The number of comparisons is calculated straightforwardly from the structure of the algorithm, it is the sum $1+2+\\ldots+n-1$ where $n$ is the size of the array. This follows simply from fact that at iteration $i$ we need to do $n-i-1$ comparisons of the element with the next one. We end up with the $\\frac{n(n-1)}{2}$ comparisons. \n",
    "\n",
    "What about swaps? In the worst case (array is sorted in descreasing order) we will get the same $\\frac{n(n-1)}{2}$ as swap will be triggered for any comparison. Can we somehow estimate an average case? We actually can and it turns out that the number of swaps is half the number of comparisons on average but we need to introduce some additional concepts to prove it.\n",
    "\n",
    "**Definition.** *Permutation* of order $n$ is the bijective function from $\\{1, 2, \\ldots, n\\}$ to itself. For permutation $p$ we will usually refer to $p(i)$ as $p_i$ and the whole permutaion can be defined as sequence $(p_1, p_2, \\ldots, p_n)$.  \n",
    "\n",
    "Permutation is a concept that can be used to formalize sorting problem: given an array $a_1, \\ldots, a_n$, we are to find permutation $p$ such that\n",
    "$$\n",
    "a_{p_1}\\leq a_{p_2}\\leq \\ldots \\leq a_{p_n}\n",
    "$$\n",
    "Note that if $a$ contains unique elements than the corresponding sorting $p$ is also unique."
   ]
  },
  {
   "cell_type": "markdown",
   "id": "8e119350",
   "metadata": {},
   "source": [
    "**Definition.** *Transposition* is a permutation $p$ such that there are pair $(i, j)$, $i\\neq j$\n",
    "$$\n",
    "p_k=\n",
    "\\begin{cases}\n",
    "k, & k \\neq i, j \\\\\n",
    "j, & k=i \\\\\n",
    "i, & k=j\n",
    "\\end{cases}\n",
    "$$\n",
    "*Remark.* Transposition is a permutation that swaps two elements.\n",
    "\n",
    "**Definition.** *Trivial transposition* is a transposition that swaps consecutive pair.\n",
    "\n",
    "**Definition.** *multiplication* of permutations $p$ and $q$ is such permutation $r$ that $r_i=p_{q_i}$.\n",
    "\n",
    "*Remark.* Permutation multiplication is a function composition. You can think of permutation as a way to reorder some elements, multiplication $pq$ is equivalent to first reordering with $q$ and then reorderring the result with $p$. This is a crucial concept as any sorting algorithm can be represented as a multiplication of several transpositions.\n",
    "\n",
    "Now comes the interesting part, as bubble sort only applies swaps for consecutive elements it can be represented as multiplication of trivial transpositions. The main idea of the analysis is that we can introduce a value determined by permutation that decreases with transposition applied in bubble sort.\n",
    "\n",
    "**Definition**. *Inversion* in permutation $p$ is pair of indecies $i<j$ such that $p_i>p_j$. Denote the number of inversions of $p$ as $I(p)$. \n",
    "\n",
    "The number of inversions in permutation is what we are looking for, the following lemma describes the main idea behind the analysis.\n",
    "\n",
    "**Lemma.** Given a permutation $p$ and trivial transposition $q$ then $|I(pq)-I(q)|=1$.  \n",
    "\n",
    "**Proof.** Suppose that $q$ transposes $k, k+1$, consider four group of index pairs:\n",
    "* $i, j\\neq k$: inversions do not change here as $p_{q_i}$=$q_i$\n",
    "* $i\\in \\{k, k+1\\}, j > k+1$: the number of inversions do not change since this group contains both $(k, j), (k+1, j)$ and $p_{q_k}=p_{k+1}, p_{q_{k+1}}=p_k$\n",
    "* $i<k, j\\in\\{k, k+1\\}$: same as previous case\n",
    "* $i=k, j=k+1$: if $p_k<p_{k+1}$ then $p_{q_k}=p_{k+1}>p_k=p_{q_{k+1}}$ and vice versa and so the number of permutation changes by $\\pm 1$. $\\blacksquare$\n",
    "\n",
    "The thing is when we apply a sequence of consecutive swaps we actually construct a permutation that has the number of inversion not greater than the number of swaps performed. This can be viewed in the following way: if the permutation $p$ is required to sort an array, the number of consecutive swaps needed to sort it is at least $I(p)$ and there actually exists such set of exactly $I(p)$ swaps. This can be formalized in the following theorem\n",
    "\n",
    "**Theorem.** A permutation $p$ with the number of inversions $I(p)$\n",
    "* Can be represented as multiplication of $p=q_1q_2\\ldots q_m$ of trivial transpositions with $m=I(p)$\n",
    "* For any $m<I(p)$ no multiplication of $m$ trivial compositions result in $p$\n",
    "\n",
    "**Proof.** The second part follows from the lemma: if such multiplication exists then\n",
    "$$\n",
    "I(q_1q_2\\ldots q_m)\\leq I(q_1q_2\\ldots q_{m-1})+1\\leq \\ldots \\leq m \n",
    "$$\n",
    "contradicts with $m<I(p)$.\n",
    "\n",
    "The first part can be proved by induction.\n",
    "**Base.** Trivial\n",
    "**Step.** Suppose that any permutation $q$ with $I(q)=m$ can be decomposed as a multiplication of $m$ trivial transpositions. Consider a $p$ with $I(p)=m+1$. Let $k$ be any pair such that $p_k>p_{k+1}$, there must exist one otherwise it's identity permutation with $I(p)=0$. Let $q$ be the trivial transposition that swaps $k, k+1$ then $I(pq)=I(p)-1$ and so there are $pq=q_1q_2\\ldots q_{m-1}$ and finally with $pqq=p$ we get $p=q_1q_2\\ldots q_{m-1}q$. $\\blacksquare$\n",
    "\n",
    "The final part is, what is the expected number of $I(p)$? The answer is quite simple from symmetry: consider $p$ and $q$ such that $q_i=n-p_i+1$. Obviously any pair forms inversion exactly in one of these permutations, moreover such any any permutation belongs to exactly one such pair and thus we splitted all the permutations in pairs such that any index pair form permutation exactly in one of them forming $\\frac{n(n+1)}{2}$ inversions total. Thus the expected number of inversions in permutation (for uniform distribution over permutations) is $\\frac{n(n-1)}{4}$. The following code demonstrates how to calculate the number of inversions in a simple fasion and logarithmic using RMQ based data structures."
   ]
  },
  {
   "cell_type": "code",
   "execution_count": 7,
   "id": "d333fb73",
   "metadata": {},
   "outputs": [],
   "source": [
    "def calc_inversions_simple(array):\n",
    "    result = 0\n",
    "    for i, x in enumerate(array):\n",
    "        for j in range(i + 1, len(array)):\n",
    "            if array[j] < x:\n",
    "                result += 1\n",
    "    return result\n",
    "\n",
    "def calc_inversions_fast(array):\n",
    "    tree_size = 1\n",
    "    while tree_size < len(array):\n",
    "        tree_size *= 2\n",
    "    tree_size = tree_size\n",
    "    tree = [0 for i in range(2 * tree_size)]\n",
    "    \n",
    "    def tree_insert(i):\n",
    "        i += tree_size\n",
    "        while i > 0:\n",
    "            tree[i] += 1\n",
    "            i //= 2\n",
    "    \n",
    "    def get_less_count(i):\n",
    "        if i == tree_size - 1:\n",
    "            return tree[1]\n",
    "        i += tree_size\n",
    "        result = 0\n",
    "        while i > 0:\n",
    "            if i % 2 == 0:\n",
    "                result += tree[i]\n",
    "            i = (i - 1) // 2\n",
    "        return result\n",
    "    \n",
    "    pos = dict()\n",
    "    for i, x in enumerate(sorted(array)):\n",
    "        pos[x] = i\n",
    "        \n",
    "    result = 0\n",
    "    for i in reversed(range(len(array))):\n",
    "        result += get_less_count(pos[array[i]])\n",
    "        tree_insert(pos[array[i]])\n",
    "    return result"
   ]
  },
  {
   "cell_type": "code",
   "execution_count": 8,
   "id": "6928ce41",
   "metadata": {},
   "outputs": [
    {
     "name": "stdout",
     "output_type": "stream",
     "text": [
      "Inversions: 32 (check with simple 32)\n",
      "Comparisons: 78\n",
      "Swaps:       32\n"
     ]
    }
   ],
   "source": [
    "array = [x for x in initial_array]\n",
    "print(f\"Inversions: {calc_inversions_fast(array)} (check with simple {calc_inversions_simple(array)})\")\n",
    "print(f\"Comparisons: {comparisons}\")\n",
    "print(f\"Swaps:       {swaps}\")"
   ]
  },
  {
   "cell_type": "markdown",
   "id": "54658fea",
   "metadata": {},
   "source": [
    "# Insertion sort\n",
    "This method of sorting is kind of online method that keeps a sorted array and adds elements one by one inserting them into the position that keeps sorted order:\n",
    "* Scan elemtents in the linear order\n",
    "* When processing anouther element move it backwards while sorted order for processed elements is not achieved"
   ]
  },
  {
   "cell_type": "code",
   "execution_count": 9,
   "id": "e31b1653",
   "metadata": {},
   "outputs": [],
   "source": [
    "def insertion_sort_state(array, i, j):\n",
    "    result = []\n",
    "    for k in range(i + 1):\n",
    "        result.append('yellow')\n",
    "    for k in range(len(array) - i - 1):\n",
    "        result.append('blue')\n",
    "        \n",
    "    if j >= 0:\n",
    "        result[j] = 'green'\n",
    "    return basic_sort_state(array, result)\n",
    "\n",
    "def insertion_sort(array):\n",
    "    states = []\n",
    "    comparisons = 0\n",
    "    swaps = 0\n",
    "    \n",
    "    for i in range(0, len(array)):\n",
    "        j = i\n",
    "        states.append(insertion_sort_state(array, i, j))\n",
    "        while j > 0 and array[j - 1] > array[j]:\n",
    "            comparisons += 1\n",
    "            swaps += 1\n",
    "            array[j - 1], array[j] = array[j], array[j - 1]\n",
    "            states.append(insertion_sort_state(array, i, j - 1))\n",
    "            j -= 1\n",
    "        if j > 0:\n",
    "            comparisons += 1\n",
    "    states.append(insertion_sort_state(array, len(array), -1))\n",
    "    return states, comparisons, swaps"
   ]
  },
  {
   "cell_type": "code",
   "execution_count": 10,
   "id": "227db1b2",
   "metadata": {},
   "outputs": [
    {
     "name": "stdout",
     "output_type": "stream",
     "text": [
      "[-11, -10, -9, -8, -5, 2, 5, 7, 8, 9, 10, 11, 13]\n"
     ]
    }
   ],
   "source": [
    "array = [x for x in initial_array]\n",
    "states, comparisons, swaps = insertion_sort(array)\n",
    "print(array)"
   ]
  },
  {
   "cell_type": "code",
   "execution_count": 11,
   "id": "5a2dd34f",
   "metadata": {},
   "outputs": [
    {
     "data": {
      "application/vnd.jupyter.widget-view+json": {
       "model_id": "322896c4bf9c424b90baf0ede0596a05",
       "version_major": 2,
       "version_minor": 0
      },
      "text/plain": [
       "HBox(children=(Play(value=0, interval=200), Button(description='Prev', style=ButtonStyle()), Button(descriptio…"
      ]
     },
     "metadata": {},
     "output_type": "display_data"
    },
    {
     "data": {
      "application/vnd.jupyter.widget-view+json": {
       "model_id": "c3ac009c84d74069b4e4703ee24e2a07",
       "version_major": 2,
       "version_minor": 0
      },
      "text/plain": [
       "interactive(children=(IntSlider(value=0, description='step', max=45), Output()), _dom_classes=('widget-interac…"
      ]
     },
     "metadata": {},
     "output_type": "display_data"
    }
   ],
   "source": [
    "animate_list(states, play=True);"
   ]
  },
  {
   "cell_type": "markdown",
   "id": "5c35be2f",
   "metadata": {},
   "source": [
    "## Analysis\n",
    "Note that just as in bubble sort here we only do swaps of consecutive elements. Although one can find location of the insertion faster than by backward linear search, it is not convenient as insertion into array cannot be performed more effectively. All the analysis via inversions also apply for insertion sort but there is one key difference: the number of swaps performed by insertion sort and bubble sort is the same (the number of inversions) but insertion sort performs less comparison (number of inversion + number of elements for termination). For this reason insertion sort is always preferable over bubble sort.  "
   ]
  },
  {
   "cell_type": "markdown",
   "id": "9cb90e15",
   "metadata": {},
   "source": [
    "## Selection sort\n",
    "The idea of this sort is straightforward lookup for a minimum element several times:\n",
    "* At iteration $k$ look for a minimum element ignoring first $k-1$ elements and place it at position $k$\n",
    "* Repeat $n-1$ times"
   ]
  },
  {
   "cell_type": "code",
   "execution_count": 12,
   "id": "cc094ada",
   "metadata": {},
   "outputs": [],
   "source": [
    "def selection_sort_state(array, i, j):\n",
    "    result = []\n",
    "    for k in range(i):\n",
    "        result.append('yellow')\n",
    "    for k in range(len(array) - i):\n",
    "        result.append('blue')\n",
    "        \n",
    "    if j >= 0:\n",
    "        result[j] = 'green'\n",
    "    return basic_sort_state(array, result)\n",
    "\n",
    "def selection_sort(array):\n",
    "    states = []\n",
    "    comparisons = 0\n",
    "    swaps = 0\n",
    "    for i in range(len(array) - 1):\n",
    "        mini = i\n",
    "        for j in range(len(array) - i - 1):\n",
    "            comparisons += 1\n",
    "            if array[mini] > array[j + i + 1]:\n",
    "                mini = j + i + 1\n",
    "            \n",
    "        states.append(selection_sort_state(array, i, mini))\n",
    "        if i != mini:\n",
    "            swaps += 1\n",
    "            array[mini], array[i] = array[i], array[mini]\n",
    "        states.append(selection_sort_state(array, i, i))\n",
    "    states.append(insertion_sort_state(array, len(array), -1))\n",
    "    return states, comparisons, swaps"
   ]
  },
  {
   "cell_type": "code",
   "execution_count": 13,
   "id": "40b2742c",
   "metadata": {},
   "outputs": [
    {
     "name": "stdout",
     "output_type": "stream",
     "text": [
      "[-6, -1, 0, 3, 4, 6, 9, 10]\n",
      "Comparisons: 28\n",
      "Swaps:       5\n"
     ]
    }
   ],
   "source": [
    "array = [x for x in initial_array]\n",
    "states, comparisons, swaps = selection_sort(array)\n",
    "print(array)\n",
    "print(f\"Comparisons: {comparisons}\")\n",
    "print(f\"Swaps:       {swaps}\")"
   ]
  },
  {
   "cell_type": "code",
   "execution_count": 14,
   "id": "12cba2f2",
   "metadata": {},
   "outputs": [
    {
     "data": {
      "application/vnd.jupyter.widget-view+json": {
       "model_id": "fec66ede96584d6f9b2322ffdfa42fd0",
       "version_major": 2,
       "version_minor": 0
      },
      "text/plain": [
       "HBox(children=(Play(value=0, interval=200), Button(description='Prev', style=ButtonStyle()), Button(descriptio…"
      ]
     },
     "metadata": {},
     "output_type": "display_data"
    },
    {
     "data": {
      "application/vnd.jupyter.widget-view+json": {
       "model_id": "9b24c827cc1d4cfaa71e75b221175058",
       "version_major": 2,
       "version_minor": 0
      },
      "text/plain": [
       "interactive(children=(IntSlider(value=0, description='step', max=14), Output()), _dom_classes=('widget-interac…"
      ]
     },
     "metadata": {},
     "output_type": "display_data"
    }
   ],
   "source": [
    "animate_list(states, play=True);"
   ]
  },
  {
   "cell_type": "markdown",
   "id": "87acf1f3",
   "metadata": {},
   "source": [
    "## Analysis\n",
    "Here we no longer use swap of consecutive elements and it is easy to see that the number of swaps is no more than $n-1$. The number of comprisons again is $\\frac{n(n-1)}{2}$. Surprisingly, selection sort performs the minimum possible number of swaps. To prove this we need some additional notions about permutations\n",
    "\n",
    "**Definition.** *Cycle* if a permutation $p$ such that there exists a sequence of unique elements $a_1, \\ldots, a_k$ such that\n",
    "$$\n",
    "p_i=\\begin{cases}\n",
    "a_{j+1}, & i=a_j, j < k, \\\\\n",
    "a_1, & j=a_k, \\\\\n",
    "i, & \\mbox{otherwise}\n",
    "\\end{cases}\n",
    "$$\n",
    "More informally, for elements in cycle $p_{a_i}=a_{i+1}$ and $p_i=i$ otherwise. Note that a transposition is a cycle and so any permutation can be decomposed into multiplication of cycles. Moreover, it happens that any permutation can be decomposed into non-overlapping cycles, that is the cycles that has no common shifting elements.\n",
    "\n",
    "**Theorem**. Any permutation $p$ can be decomposed into a multiplication of cycles $c_1\\ldots c_m$ such that any element $p_i$ is a part of exactyle one cycle.\n",
    "\n",
    "**Proof**. The proof is by construction, consider the following procedure:\n",
    "* Scan the elements in any order\n",
    "* If a scanned element $i$ is not yet a part of some cycle iterate $i\\leftarrow p_i$ until you you encounter initial value of $i$, make a cycle from encounter elements and mark them\n",
    "\n",
    "From construction any element will be assined to some cycle. In the second loop we will not encounter any element twice due to the fact that no $p_i=p_j$ with $i\\neq j$, moreover if we encounter the element which is a part of a cycle in a second loop this also contradicts bijectivity of permutation. $\\blacksquare$"
   ]
  },
  {
   "cell_type": "code",
   "execution_count": 15,
   "id": "87de74a7",
   "metadata": {},
   "outputs": [],
   "source": [
    "def decompose_cycles(permutation):\n",
    "    n = len(permutation)\n",
    "    marked = [False for x in permutation]\n",
    "    cycles = []\n",
    "    for x in permutation:\n",
    "        if x < 0 or x >= n:\n",
    "            return \"Not a permutation\"\n",
    "\n",
    "    for i, x in enumerate(permutation):\n",
    "        if marked[x]:\n",
    "            continue\n",
    "        marked[x] = True\n",
    "        cur = permutation[x]\n",
    "        cycle = [x]\n",
    "        while cur != x:\n",
    "            if marked[cur]:\n",
    "                return \"Not a permutation\"\n",
    "            marked[cur] = True\n",
    "            cycle.append(cur)\n",
    "            cur = permutation[cur]\n",
    "        cycles.append(cycle)\n",
    "        \n",
    "    return cycles"
   ]
  },
  {
   "cell_type": "code",
   "execution_count": 16,
   "id": "3cb50259",
   "metadata": {},
   "outputs": [
    {
     "data": {
      "text/plain": [
       "[[1, 0], [5, 2], [4, 3]]"
      ]
     },
     "execution_count": 16,
     "metadata": {},
     "output_type": "execute_result"
    }
   ],
   "source": [
    "decompose_cycles([1, 0, 5, 4, 3, 2])"
   ]
  },
  {
   "cell_type": "markdown",
   "id": "52aa0f44",
   "metadata": {},
   "source": [
    "Now, what cycles has to do with sorting? For simplicity lets assume that we are sorting the permutation. Obviously in the end we will get the identity permutation $q_i=i$. This permutation has exactly $n$ cycles and any other permutation has less cycles. This means that sorting problem is equivalent to increase the number of cycles in permutation to $n$ by some operations. So lets investigate how swaps changes the cycles? The answer is quite simple and is very similar to what we have with inversions: a swap either increase or decrease the number of cycles by 1.\n",
    "\n",
    "Case 1. Swapping elements in the same cycle. Consider a cycle $c_1, \\ldots, c_m$ and a swap of $p_{c_i}$ with $p_{c_j}$, $i<j$. In this case we will get two cycles $c_1, \\ldots, c_{i}, c_{j+1}, \\ldots, c_m$ and $c_{i+1}, \\ldots, c_j$."
   ]
  },
  {
   "cell_type": "code",
   "execution_count": 17,
   "id": "62e1cbdf",
   "metadata": {},
   "outputs": [],
   "source": [
    "from interactive_visualization.graph_utils import Graph, Arc"
   ]
  },
  {
   "cell_type": "code",
   "execution_count": 18,
   "id": "103eb848",
   "metadata": {},
   "outputs": [
    {
     "name": "stdout",
     "output_type": "stream",
     "text": [
      "Before transposition: [[1, 2, 3, 4, 5, 6, 7, 0]]\n",
      "After transposition:  [[1, 2, 3, 0], [5, 6, 7, 4]]\n"
     ]
    },
    {
     "data": {
      "image/svg+xml": [
       "<?xml version=\"1.0\" encoding=\"UTF-8\" standalone=\"no\"?>\r\n",
       "<!DOCTYPE svg PUBLIC \"-//W3C//DTD SVG 1.1//EN\"\r\n",
       " \"http://www.w3.org/Graphics/SVG/1.1/DTD/svg11.dtd\">\r\n",
       "<!-- Generated by graphviz version 2.44.2~dev.20200826.1453 (20200826.1453)\r\n",
       " -->\r\n",
       "<!-- Pages: 1 -->\r\n",
       "<svg width=\"548pt\" height=\"110pt\"\r\n",
       " viewBox=\"0.00 0.00 548.00 110.00\" xmlns=\"http://www.w3.org/2000/svg\" xmlns:xlink=\"http://www.w3.org/1999/xlink\">\r\n",
       "<g id=\"graph0\" class=\"graph\" transform=\"scale(1 1) rotate(0) translate(4 106)\">\r\n",
       "<polygon fill=\"white\" stroke=\"transparent\" points=\"-4,4 -4,-106 544,-106 544,4 -4,4\"/>\r\n",
       "<!-- 0 -->\r\n",
       "<g id=\"node1\" class=\"node\">\r\n",
       "<title>0</title>\r\n",
       "<ellipse fill=\"none\" stroke=\"black\" cx=\"18\" cy=\"-19\" rx=\"18\" ry=\"18\"/>\r\n",
       "<text text-anchor=\"middle\" x=\"18\" y=\"-15.3\" font-family=\"Times New Roman,serif\" font-size=\"14.00\">0</text>\r\n",
       "</g>\r\n",
       "<!-- 1 -->\r\n",
       "<g id=\"node2\" class=\"node\">\r\n",
       "<title>1</title>\r\n",
       "<ellipse fill=\"none\" stroke=\"black\" cx=\"90\" cy=\"-84\" rx=\"18\" ry=\"18\"/>\r\n",
       "<text text-anchor=\"middle\" x=\"90\" y=\"-80.3\" font-family=\"Times New Roman,serif\" font-size=\"14.00\">1</text>\r\n",
       "</g>\r\n",
       "<!-- 0&#45;&gt;1 -->\r\n",
       "<g id=\"edge1\" class=\"edge\">\r\n",
       "<title>0:&#45;&gt;1:</title>\r\n",
       "<path fill=\"none\" stroke=\"black\" d=\"M31.84,-30.92C42.2,-40.54 56.96,-54.25 68.89,-65.33\"/>\r\n",
       "<polygon fill=\"black\" stroke=\"black\" points=\"76.24,-72.15 65.85,-68.65 72.58,-68.75 68.91,-65.35 68.91,-65.35 68.91,-65.35 72.58,-68.75 71.98,-62.05 76.24,-72.15 76.24,-72.15\"/>\r\n",
       "</g>\r\n",
       "<!-- 2 -->\r\n",
       "<g id=\"node3\" class=\"node\">\r\n",
       "<title>2</title>\r\n",
       "<ellipse fill=\"none\" stroke=\"black\" cx=\"162\" cy=\"-84\" rx=\"18\" ry=\"18\"/>\r\n",
       "<text text-anchor=\"middle\" x=\"162\" y=\"-80.3\" font-family=\"Times New Roman,serif\" font-size=\"14.00\">2</text>\r\n",
       "</g>\r\n",
       "<!-- 1&#45;&gt;2 -->\r\n",
       "<g id=\"edge2\" class=\"edge\">\r\n",
       "<title>1:&#45;&gt;2:</title>\r\n",
       "<path fill=\"none\" stroke=\"black\" d=\"M108.3,-84C116.02,-84 125.29,-84 133.89,-84\"/>\r\n",
       "<polygon fill=\"black\" stroke=\"black\" points=\"143.9,-84 133.9,-88.5 138.9,-84 133.9,-84 133.9,-84 133.9,-84 138.9,-84 133.9,-79.5 143.9,-84 143.9,-84\"/>\r\n",
       "</g>\r\n",
       "<!-- 3 -->\r\n",
       "<g id=\"node4\" class=\"node\">\r\n",
       "<title>3</title>\r\n",
       "<ellipse fill=\"none\" stroke=\"black\" cx=\"234\" cy=\"-84\" rx=\"18\" ry=\"18\"/>\r\n",
       "<text text-anchor=\"middle\" x=\"234\" y=\"-80.3\" font-family=\"Times New Roman,serif\" font-size=\"14.00\">3</text>\r\n",
       "</g>\r\n",
       "<!-- 2&#45;&gt;3 -->\r\n",
       "<g id=\"edge3\" class=\"edge\">\r\n",
       "<title>2:&#45;&gt;3:</title>\r\n",
       "<path fill=\"none\" stroke=\"black\" d=\"M180.3,-84C188.02,-84 197.29,-84 205.89,-84\"/>\r\n",
       "<polygon fill=\"black\" stroke=\"black\" points=\"215.9,-84 205.9,-88.5 210.9,-84 205.9,-84 205.9,-84 205.9,-84 210.9,-84 205.9,-79.5 215.9,-84 215.9,-84\"/>\r\n",
       "</g>\r\n",
       "<!-- 3&#45;&gt;0 -->\r\n",
       "<g id=\"edge5\" class=\"edge\">\r\n",
       "<title>3:&#45;&gt;0:</title>\r\n",
       "<path fill=\"none\" stroke=\"black\" stroke-dasharray=\"5,2\" d=\"M218.13,-75.21C207.74,-69.37 193.38,-61.91 180,-57 134.21,-40.21 78.33,-28.98 45.89,-23.31\"/>\r\n",
       "<polygon fill=\"black\" stroke=\"black\" points=\"35.84,-21.61 46.45,-18.84 40.77,-22.44 45.7,-23.28 45.7,-23.28 45.7,-23.28 40.77,-22.44 44.95,-27.72 35.84,-21.61 35.84,-21.61\"/>\r\n",
       "</g>\r\n",
       "<!-- 4 -->\r\n",
       "<g id=\"node5\" class=\"node\">\r\n",
       "<title>4</title>\r\n",
       "<ellipse fill=\"none\" stroke=\"black\" cx=\"306\" cy=\"-84\" rx=\"18\" ry=\"18\"/>\r\n",
       "<text text-anchor=\"middle\" x=\"306\" y=\"-80.3\" font-family=\"Times New Roman,serif\" font-size=\"14.00\">4</text>\r\n",
       "</g>\r\n",
       "<!-- 3&#45;&gt;4 -->\r\n",
       "<g id=\"edge4\" class=\"edge\">\r\n",
       "<title>3:&#45;&gt;4:</title>\r\n",
       "<path fill=\"none\" stroke=\"black\" stroke-dasharray=\"1,5\" d=\"M252.3,-84C260.02,-84 269.29,-84 277.89,-84\"/>\r\n",
       "<polygon fill=\"black\" stroke=\"black\" points=\"287.9,-84 277.9,-88.5 282.9,-84 277.9,-84 277.9,-84 277.9,-84 282.9,-84 277.9,-79.5 287.9,-84 287.9,-84\"/>\r\n",
       "</g>\r\n",
       "<!-- 5 -->\r\n",
       "<g id=\"node6\" class=\"node\">\r\n",
       "<title>5</title>\r\n",
       "<ellipse fill=\"none\" stroke=\"black\" cx=\"378\" cy=\"-84\" rx=\"18\" ry=\"18\"/>\r\n",
       "<text text-anchor=\"middle\" x=\"378\" y=\"-80.3\" font-family=\"Times New Roman,serif\" font-size=\"14.00\">5</text>\r\n",
       "</g>\r\n",
       "<!-- 4&#45;&gt;5 -->\r\n",
       "<g id=\"edge6\" class=\"edge\">\r\n",
       "<title>4:&#45;&gt;5:</title>\r\n",
       "<path fill=\"none\" stroke=\"black\" d=\"M324.3,-84C332.02,-84 341.29,-84 349.89,-84\"/>\r\n",
       "<polygon fill=\"black\" stroke=\"black\" points=\"359.9,-84 349.9,-88.5 354.9,-84 349.9,-84 349.9,-84 349.9,-84 354.9,-84 349.9,-79.5 359.9,-84 359.9,-84\"/>\r\n",
       "</g>\r\n",
       "<!-- 6 -->\r\n",
       "<g id=\"node7\" class=\"node\">\r\n",
       "<title>6</title>\r\n",
       "<ellipse fill=\"none\" stroke=\"black\" cx=\"450\" cy=\"-84\" rx=\"18\" ry=\"18\"/>\r\n",
       "<text text-anchor=\"middle\" x=\"450\" y=\"-80.3\" font-family=\"Times New Roman,serif\" font-size=\"14.00\">6</text>\r\n",
       "</g>\r\n",
       "<!-- 5&#45;&gt;6 -->\r\n",
       "<g id=\"edge7\" class=\"edge\">\r\n",
       "<title>5:&#45;&gt;6:</title>\r\n",
       "<path fill=\"none\" stroke=\"black\" d=\"M396.3,-84C404.02,-84 413.29,-84 421.89,-84\"/>\r\n",
       "<polygon fill=\"black\" stroke=\"black\" points=\"431.9,-84 421.9,-88.5 426.9,-84 421.9,-84 421.9,-84 421.9,-84 426.9,-84 421.9,-79.5 431.9,-84 431.9,-84\"/>\r\n",
       "</g>\r\n",
       "<!-- 7 -->\r\n",
       "<g id=\"node8\" class=\"node\">\r\n",
       "<title>7</title>\r\n",
       "<ellipse fill=\"none\" stroke=\"black\" cx=\"522\" cy=\"-19\" rx=\"18\" ry=\"18\"/>\r\n",
       "<text text-anchor=\"middle\" x=\"522\" y=\"-15.3\" font-family=\"Times New Roman,serif\" font-size=\"14.00\">7</text>\r\n",
       "</g>\r\n",
       "<!-- 6&#45;&gt;7 -->\r\n",
       "<g id=\"edge8\" class=\"edge\">\r\n",
       "<title>6:&#45;&gt;7:</title>\r\n",
       "<path fill=\"none\" stroke=\"black\" d=\"M463.84,-72.08C474.2,-62.46 488.96,-48.75 500.89,-37.67\"/>\r\n",
       "<polygon fill=\"black\" stroke=\"black\" points=\"508.24,-30.85 503.98,-40.95 504.58,-34.25 500.91,-37.65 500.91,-37.65 500.91,-37.65 504.58,-34.25 497.85,-34.35 508.24,-30.85 508.24,-30.85\"/>\r\n",
       "</g>\r\n",
       "<!-- 7&#45;&gt;0 -->\r\n",
       "<g id=\"edge9\" class=\"edge\">\r\n",
       "<title>7:&#45;&gt;0:</title>\r\n",
       "<path fill=\"none\" stroke=\"black\" stroke-dasharray=\"1,5\" d=\"M504.05,-15.25C477.52,-9.71 424.52,0 379,0 161,0 161,0 161,0 120.64,0 74.39,-7.63 45.94,-13.22\"/>\r\n",
       "<polygon fill=\"black\" stroke=\"black\" points=\"35.95,-15.25 44.86,-8.85 40.85,-14.25 45.75,-13.26 45.75,-13.26 45.75,-13.26 40.85,-14.25 46.65,-17.67 35.95,-15.25 35.95,-15.25\"/>\r\n",
       "</g>\r\n",
       "<!-- 7&#45;&gt;4 -->\r\n",
       "<g id=\"edge10\" class=\"edge\">\r\n",
       "<title>7:&#45;&gt;4:</title>\r\n",
       "<path fill=\"none\" stroke=\"black\" stroke-dasharray=\"5,2\" d=\"M504.16,-21.61C474.43,-26.51 410.96,-38.31 360,-57 350.17,-60.6 339.82,-65.58 330.9,-70.29\"/>\r\n",
       "<polygon fill=\"black\" stroke=\"black\" points=\"321.87,-75.21 328.5,-66.47 326.26,-72.81 330.65,-70.42 330.65,-70.42 330.65,-70.42 326.26,-72.81 332.81,-74.37 321.87,-75.21 321.87,-75.21\"/>\r\n",
       "</g>\r\n",
       "</g>\r\n",
       "</svg>\r\n"
      ],
      "text/plain": [
       "<graphviz.dot.Digraph at 0x20f00ae84c0>"
      ]
     },
     "execution_count": 18,
     "metadata": {},
     "output_type": "execute_result"
    }
   ],
   "source": [
    "permutation = [1, 2, 3, 4, 5, 6, 7, 0]\n",
    "i, j = 3, 7\n",
    "arcs = [Arc(k, x, attributes= {\"style\" : (\"dotted\" if k == i or k == j else \"solid\")}) for k, x in enumerate(permutation)]\n",
    "arcs.append(Arc(i, permutation[j], attributes={\"constraint\" : \"False\", \"style\" : \"dashed\"}))\n",
    "arcs.append(Arc(j, permutation[i], attributes={\"constraint\" : \"False\", \"style\" : \"dashed\"}))\n",
    "print(\"Before transposition:\", decompose_cycles(permutation))\n",
    "permutation[i], permutation[j] = permutation[j], permutation[i]\n",
    "print(\"After transposition: \", decompose_cycles(permutation))\n",
    "Graph(arcs).Visualize()"
   ]
  },
  {
   "cell_type": "markdown",
   "id": "e0d1ac69",
   "metadata": {},
   "source": [
    "Case 2. Swapping elements in different cycles. Consider a cycle $c_1, \\ldots, c_m$ and $d_1, \\ldots, d_k$. Suppose we are swapping $p_{c_i}$ with $p_{d_j}$. We will end up with the cycle $c_1, \\ldots, c_i, d_{j+1}, \\ldots, d_k, d_1, \\ldots, d_j$."
   ]
  },
  {
   "cell_type": "code",
   "execution_count": 19,
   "id": "c317eda7",
   "metadata": {},
   "outputs": [
    {
     "name": "stdout",
     "output_type": "stream",
     "text": [
      "Before transposition: [[1, 2, 3, 0], [5, 6, 7, 4]]\n",
      "After transposition:  [[1, 2, 4, 5, 6, 7, 3, 0]]\n"
     ]
    },
    {
     "data": {
      "image/svg+xml": [
       "<?xml version=\"1.0\" encoding=\"UTF-8\" standalone=\"no\"?>\r\n",
       "<!DOCTYPE svg PUBLIC \"-//W3C//DTD SVG 1.1//EN\"\r\n",
       " \"http://www.w3.org/Graphics/SVG/1.1/DTD/svg11.dtd\">\r\n",
       "<!-- Generated by graphviz version 2.44.2~dev.20200826.1453 (20200826.1453)\r\n",
       " -->\r\n",
       "<!-- Pages: 1 -->\r\n",
       "<svg width=\"260pt\" height=\"197pt\"\r\n",
       " viewBox=\"0.00 0.00 260.00 197.00\" xmlns=\"http://www.w3.org/2000/svg\" xmlns:xlink=\"http://www.w3.org/1999/xlink\">\r\n",
       "<g id=\"graph0\" class=\"graph\" transform=\"scale(1 1) rotate(0) translate(4 193)\">\r\n",
       "<polygon fill=\"white\" stroke=\"transparent\" points=\"-4,4 -4,-193 256,-193 256,4 -4,4\"/>\r\n",
       "<!-- 0 -->\r\n",
       "<g id=\"node1\" class=\"node\">\r\n",
       "<title>0</title>\r\n",
       "<ellipse fill=\"none\" stroke=\"black\" cx=\"18\" cy=\"-148\" rx=\"18\" ry=\"18\"/>\r\n",
       "<text text-anchor=\"middle\" x=\"18\" y=\"-144.3\" font-family=\"Times New Roman,serif\" font-size=\"14.00\">0</text>\r\n",
       "</g>\r\n",
       "<!-- 1 -->\r\n",
       "<g id=\"node2\" class=\"node\">\r\n",
       "<title>1</title>\r\n",
       "<ellipse fill=\"none\" stroke=\"black\" cx=\"90\" cy=\"-171\" rx=\"18\" ry=\"18\"/>\r\n",
       "<text text-anchor=\"middle\" x=\"90\" y=\"-167.3\" font-family=\"Times New Roman,serif\" font-size=\"14.00\">1</text>\r\n",
       "</g>\r\n",
       "<!-- 0&#45;&gt;1 -->\r\n",
       "<g id=\"edge1\" class=\"edge\">\r\n",
       "<title>0:&#45;&gt;1:</title>\r\n",
       "<path fill=\"none\" stroke=\"black\" d=\"M35.24,-153.33C43.42,-156.02 53.55,-159.35 62.8,-162.39\"/>\r\n",
       "<polygon fill=\"black\" stroke=\"black\" points=\"72.37,-165.53 61.46,-166.69 67.62,-163.97 62.87,-162.41 62.87,-162.41 62.87,-162.41 67.62,-163.97 64.27,-158.14 72.37,-165.53 72.37,-165.53\"/>\r\n",
       "</g>\r\n",
       "<!-- 2 -->\r\n",
       "<g id=\"node3\" class=\"node\">\r\n",
       "<title>2</title>\r\n",
       "<ellipse fill=\"none\" stroke=\"black\" cx=\"162\" cy=\"-171\" rx=\"18\" ry=\"18\"/>\r\n",
       "<text text-anchor=\"middle\" x=\"162\" y=\"-167.3\" font-family=\"Times New Roman,serif\" font-size=\"14.00\">2</text>\r\n",
       "</g>\r\n",
       "<!-- 1&#45;&gt;2 -->\r\n",
       "<g id=\"edge2\" class=\"edge\">\r\n",
       "<title>1:&#45;&gt;2:</title>\r\n",
       "<path fill=\"none\" stroke=\"black\" d=\"M108.3,-171C116.02,-171 125.29,-171 133.89,-171\"/>\r\n",
       "<polygon fill=\"black\" stroke=\"black\" points=\"143.9,-171 133.9,-175.5 138.9,-171 133.9,-171 133.9,-171 133.9,-171 138.9,-171 133.9,-166.5 143.9,-171 143.9,-171\"/>\r\n",
       "</g>\r\n",
       "<!-- 3 -->\r\n",
       "<g id=\"node4\" class=\"node\">\r\n",
       "<title>3</title>\r\n",
       "<ellipse fill=\"none\" stroke=\"black\" cx=\"234\" cy=\"-148\" rx=\"18\" ry=\"18\"/>\r\n",
       "<text text-anchor=\"middle\" x=\"234\" y=\"-144.3\" font-family=\"Times New Roman,serif\" font-size=\"14.00\">3</text>\r\n",
       "</g>\r\n",
       "<!-- 2&#45;&gt;3 -->\r\n",
       "<g id=\"edge3\" class=\"edge\">\r\n",
       "<title>2:&#45;&gt;3:</title>\r\n",
       "<path fill=\"none\" stroke=\"black\" stroke-dasharray=\"1,5\" d=\"M179.24,-165.67C187.42,-162.98 197.55,-159.65 206.8,-156.61\"/>\r\n",
       "<polygon fill=\"black\" stroke=\"black\" points=\"216.37,-153.47 208.27,-160.86 211.62,-155.03 206.87,-156.59 206.87,-156.59 206.87,-156.59 211.62,-155.03 205.46,-152.31 216.37,-153.47 216.37,-153.47\"/>\r\n",
       "</g>\r\n",
       "<!-- 4 -->\r\n",
       "<g id=\"node5\" class=\"node\">\r\n",
       "<title>4</title>\r\n",
       "<ellipse fill=\"none\" stroke=\"black\" cx=\"18\" cy=\"-18\" rx=\"18\" ry=\"18\"/>\r\n",
       "<text text-anchor=\"middle\" x=\"18\" y=\"-14.3\" font-family=\"Times New Roman,serif\" font-size=\"14.00\">4</text>\r\n",
       "</g>\r\n",
       "<!-- 2&#45;&gt;4 -->\r\n",
       "<g id=\"edge4\" class=\"edge\">\r\n",
       "<title>2:&#45;&gt;4:</title>\r\n",
       "<path fill=\"none\" stroke=\"black\" stroke-dasharray=\"5,2\" d=\"M148.87,-157.93C124.06,-131.2 67.36,-70.11 37.77,-38.22\"/>\r\n",
       "<polygon fill=\"black\" stroke=\"black\" points=\"30.86,-30.78 40.96,-35.05 34.26,-34.45 37.67,-38.11 37.67,-38.11 37.67,-38.11 34.26,-34.45 34.37,-41.17 30.86,-30.78 30.86,-30.78\"/>\r\n",
       "</g>\r\n",
       "<!-- 3&#45;&gt;0 -->\r\n",
       "<g id=\"edge5\" class=\"edge\">\r\n",
       "<title>3:&#45;&gt;0:</title>\r\n",
       "<path fill=\"none\" stroke=\"black\" d=\"M215.83,-146.38C205.47,-145.48 191.99,-144.45 180,-144 132.03,-142.19 119.97,-142.19 72,-144 63.67,-144.31 54.61,-144.91 46.38,-145.54\"/>\r\n",
       "<polygon fill=\"black\" stroke=\"black\" points=\"36.17,-146.38 45.77,-141.07 41.15,-145.97 46.13,-145.56 46.13,-145.56 46.13,-145.56 41.15,-145.97 46.5,-150.04 36.17,-146.38 36.17,-146.38\"/>\r\n",
       "</g>\r\n",
       "<!-- 5 -->\r\n",
       "<g id=\"node6\" class=\"node\">\r\n",
       "<title>5</title>\r\n",
       "<ellipse fill=\"none\" stroke=\"black\" cx=\"90\" cy=\"-41\" rx=\"18\" ry=\"18\"/>\r\n",
       "<text text-anchor=\"middle\" x=\"90\" y=\"-37.3\" font-family=\"Times New Roman,serif\" font-size=\"14.00\">5</text>\r\n",
       "</g>\r\n",
       "<!-- 4&#45;&gt;5 -->\r\n",
       "<g id=\"edge6\" class=\"edge\">\r\n",
       "<title>4:&#45;&gt;5:</title>\r\n",
       "<path fill=\"none\" stroke=\"black\" d=\"M35.24,-23.33C43.42,-26.02 53.55,-29.35 62.8,-32.39\"/>\r\n",
       "<polygon fill=\"black\" stroke=\"black\" points=\"72.37,-35.53 61.46,-36.69 67.62,-33.97 62.87,-32.41 62.87,-32.41 62.87,-32.41 67.62,-33.97 64.27,-28.14 72.37,-35.53 72.37,-35.53\"/>\r\n",
       "</g>\r\n",
       "<!-- 6 -->\r\n",
       "<g id=\"node7\" class=\"node\">\r\n",
       "<title>6</title>\r\n",
       "<ellipse fill=\"none\" stroke=\"black\" cx=\"162\" cy=\"-41\" rx=\"18\" ry=\"18\"/>\r\n",
       "<text text-anchor=\"middle\" x=\"162\" y=\"-37.3\" font-family=\"Times New Roman,serif\" font-size=\"14.00\">6</text>\r\n",
       "</g>\r\n",
       "<!-- 5&#45;&gt;6 -->\r\n",
       "<g id=\"edge7\" class=\"edge\">\r\n",
       "<title>5:&#45;&gt;6:</title>\r\n",
       "<path fill=\"none\" stroke=\"black\" d=\"M108.3,-41C116.02,-41 125.29,-41 133.89,-41\"/>\r\n",
       "<polygon fill=\"black\" stroke=\"black\" points=\"143.9,-41 133.9,-45.5 138.9,-41 133.9,-41 133.9,-41 133.9,-41 138.9,-41 133.9,-36.5 143.9,-41 143.9,-41\"/>\r\n",
       "</g>\r\n",
       "<!-- 7 -->\r\n",
       "<g id=\"node8\" class=\"node\">\r\n",
       "<title>7</title>\r\n",
       "<ellipse fill=\"none\" stroke=\"black\" cx=\"234\" cy=\"-18\" rx=\"18\" ry=\"18\"/>\r\n",
       "<text text-anchor=\"middle\" x=\"234\" y=\"-14.3\" font-family=\"Times New Roman,serif\" font-size=\"14.00\">7</text>\r\n",
       "</g>\r\n",
       "<!-- 6&#45;&gt;7 -->\r\n",
       "<g id=\"edge8\" class=\"edge\">\r\n",
       "<title>6:&#45;&gt;7:</title>\r\n",
       "<path fill=\"none\" stroke=\"black\" d=\"M179.24,-35.67C187.42,-32.98 197.55,-29.65 206.8,-26.61\"/>\r\n",
       "<polygon fill=\"black\" stroke=\"black\" points=\"216.37,-23.47 208.27,-30.86 211.62,-25.03 206.87,-26.59 206.87,-26.59 206.87,-26.59 211.62,-25.03 205.46,-22.31 216.37,-23.47 216.37,-23.47\"/>\r\n",
       "</g>\r\n",
       "<!-- 7&#45;&gt;3 -->\r\n",
       "<g id=\"edge10\" class=\"edge\">\r\n",
       "<title>7:&#45;&gt;3:</title>\r\n",
       "<path fill=\"none\" stroke=\"black\" stroke-dasharray=\"5,2\" d=\"M234,-36.03C234,-63.82 234,-91.6 234,-119.39\"/>\r\n",
       "<polygon fill=\"black\" stroke=\"black\" points=\"234,-129.63 229.5,-119.63 234,-124.63 234,-119.63 234,-119.63 234,-119.63 234,-124.63 238.5,-119.63 234,-129.63 234,-129.63\"/>\r\n",
       "</g>\r\n",
       "<!-- 7&#45;&gt;4 -->\r\n",
       "<g id=\"edge9\" class=\"edge\">\r\n",
       "<title>7:&#45;&gt;4:</title>\r\n",
       "<path fill=\"none\" stroke=\"black\" stroke-dasharray=\"1,5\" d=\"M215.83,-16.38C205.47,-15.48 191.99,-14.45 180,-14 132.03,-12.19 119.97,-12.19 72,-14 63.67,-14.31 54.61,-14.91 46.38,-15.54\"/>\r\n",
       "<polygon fill=\"black\" stroke=\"black\" points=\"36.17,-16.38 45.77,-11.07 41.15,-15.97 46.13,-15.56 46.13,-15.56 46.13,-15.56 41.15,-15.97 46.5,-20.04 36.17,-16.38 36.17,-16.38\"/>\r\n",
       "</g>\r\n",
       "</g>\r\n",
       "</svg>\r\n"
      ],
      "text/plain": [
       "<graphviz.dot.Digraph at 0x20f00adcdf0>"
      ]
     },
     "execution_count": 19,
     "metadata": {},
     "output_type": "execute_result"
    }
   ],
   "source": [
    "permutation = [1, 2, 3, 0, 5, 6, 7, 4]\n",
    "i, j = 2, 7\n",
    "arcs = [Arc(k, x, attributes= {\"style\" : (\"dotted\" if k == i or k == j else \"solid\")}) for k, x in enumerate(permutation)]\n",
    "arcs.append(Arc(i, permutation[j], attributes={\"constraint\" : \"False\", \"style\" : \"dashed\"}))\n",
    "arcs.append(Arc(j, permutation[i], attributes={\"constraint\" : \"False\", \"style\" : \"dashed\"}))\n",
    "print(\"Before transposition:\", decompose_cycles(permutation))\n",
    "permutation[i], permutation[j] = permutation[j], permutation[i]\n",
    "print(\"After transposition: \", decompose_cycles(permutation))\n",
    "Graph(arcs).Visualize()"
   ]
  },
  {
   "cell_type": "markdown",
   "id": "882c8adc",
   "metadata": {},
   "source": [
    "in the end we get the following lemma\n",
    "\n",
    "**Lemma**. If $p$ is a permutation with order $n$ and $m$ cycles then the minimum number of swaps needed to sort the permutation is $n$ - $m$.\n",
    "\n",
    "**Proof**. Given above. $\\blacksquare$\n",
    "\n",
    "For consistency lets prove another simple lemma so our analysis will be valid for a sequence of unique elements rather than a permutation.\n",
    "\n",
    "**Lemma**. Suppose that $a_1, \\ldots, a_n$ is a sequence of unique elements and $p_1, \\ldots, p_n$ is a permutation such that $p_i$ is the position of the $a_i$ when $a$ is sorted. Since $a$ does not have duplicate values this definition is unambiguous. Any comparison based sorting algorithm performs the same actions on $a$ and $p$.\n",
    "\n",
    "**Proof**. The idea is simple: lets just prove that for any $i$ the sets $\\{j|a_i<a_j\\}$ and $\\{j|p_i<p_j\\}$ are equal. This mean that any comparison made by the algorithm will have the same result whether we got $a$ or $p$ initially. By definition if $a_i<a_j$ then position of $a_i$ in sorted order is lower than position of $p_j$, and so $p_i<p_j$ and vice versa. $\\blacksquare$\n",
    "\n",
    "Finally we arive at the following theorem.\n",
    "\n",
    "**Theorem**. Selection sort performs the least possible swaps need to sort an array if it consits of unique elements.\n",
    "\n",
    "**Proof**. Due to latter lemma we may prove this only for permutations. Due to first lemma we just need to prove that swaps in selection sort increases the number of cycles. When applied to permutation at step $i$ selection sort finds element $a_j=i$ and swaps it with the $a_i$. Since $a_j=i$ the swap is performed over a single cycle and thus increases the number of cycles by $1$. $\\blacksquare$ "
   ]
  },
  {
   "cell_type": "code",
   "execution_count": 20,
   "id": "25a51c66",
   "metadata": {},
   "outputs": [],
   "source": [
    "def calc_minimum_number_of_swaps(array):\n",
    "    pos = dict()\n",
    "    for i, x in enumerate(sorted(array)):\n",
    "        pos[x] = i\n",
    "\n",
    "    num_cycles = len(decompose_cycles([pos[x] for x in array]))\n",
    "    return len(array) - num_cycles"
   ]
  },
  {
   "cell_type": "code",
   "execution_count": 21,
   "id": "88b61cec",
   "metadata": {},
   "outputs": [
    {
     "name": "stdout",
     "output_type": "stream",
     "text": [
      "Minimum number of swaps: 5\n"
     ]
    }
   ],
   "source": [
    "array = [0, -1, 4, 6, 3, 9, -6, 10]\n",
    "print(f\"Minimum number of swaps: {calc_minimum_number_of_swaps(array)}\")"
   ]
  },
  {
   "cell_type": "markdown",
   "id": "1d7928ba",
   "metadata": {},
   "source": [
    "## Logarithmic sorts"
   ]
  },
  {
   "cell_type": "markdown",
   "id": "20609a06",
   "metadata": {},
   "source": [
    "The term \"logarithmic\" arises from the fact that the most used sort algorithms has a time complexity of $\\mathcal{O}(n\\log n)$ ($n$ being the number elements in the array) and there cannot be asymptotically faster comparison based sorting algorithm. The proof of this fact comes from another permutation analysis variant. To prove it smoothly lets start from a lemma\n",
    "\n",
    "**Lemma**. Given a finite set $X$ and an element $x\\in X$. You can ask questions \"Is $x$ in $A\\subset X$?\". The goal is to find $x$ by asking these questions. Now, the claim is that no algorithm can guarantee less then\n",
    "$$\n",
    "\\log_2 |X|\n",
    "$$\n",
    "questions for any $x$.\n",
    "\n",
    "**Proof**. At any point we have a subset $B\\subset X$ we have already discovered such that $x\\in B$. After a single question with set $A$ we will either have $B\\cap A$ or $B\\cap (X\\setminus A)$. Are goal is to get a set with size $1$, after requesting $A$ in the worst case we will end up with the subset of the larger size and so ideal algorithm will split $B$ in half. From that we get that in ideal situation our algorithm cannot guarantee size reduction more than in $2$ for a single question. This leads to a $\\log_2 |X|$ lower bound on the number of questions. $\\blacksquare$\n",
    "\n",
    "Now, the sorting algorithms lower bound\n",
    "\n",
    "**Theorem**. The amount of comparisons needed to determine the permutation of the sorted order for the array is $\\Theta (n\\log n)$ ($n$ is the size of the array) in the worst case. And thus, complexity of any comparison based sorting algorithm is lower bounded by this value.\n",
    "\n",
    "**Proof**. In the worst case we are to find a single possible permutation from a $n!$ permutation. A single comoparison splits the set of all permutations in two and gives us information whether sorted perutation is in one of them. This is exactly the scheme that happens in the lemma and thus we can deduce the lower bound\n",
    "$$\n",
    "\\log_2(n!)\\geq\\log_2\\left(\\frac{n}{2}\\right)^{\\frac{n}{2}}=\\frac{n}{2}\\log_2\\frac{n}{2}=\\Theta(n\\log n)\n",
    "$$"
   ]
  },
  {
   "cell_type": "markdown",
   "id": "8c1fa52e",
   "metadata": {},
   "source": [
    "## Quicksort\n",
    "Classic quicksort by Hoare is a longstaning practical choice for sorting. The general idea is to do the following divide-and-conquer procedure \n",
    "* Choose a random element $x$ from the array\n",
    "* Split the array into elements that compare less then $x$ and others\n",
    "* Process recursively these two arrays\n",
    "* Concatenate the results\n",
    "\n",
    "The key of the algorithm is an effective procedure for the second stage that is based on the two-pointer method: first pointer starts at the beginning of the array and moves forward, second pointer starts at the end of the array and moves backwards, a single iteration consists of moving first pointer forward until it finds an element greater than $x$ and moving the second pointer backwards until it finds an element less then $x$, then we swap these elements and continue until these two pointers meet. The whole procedure scans the array a single time and thus is linear. It is notable that the procedure can be effetively done on both array and doubly linked list."
   ]
  },
  {
   "cell_type": "code",
   "execution_count": 37,
   "id": "f6f2b2d3",
   "metadata": {},
   "outputs": [],
   "source": [
    "import random\n",
    "\n",
    "def qsort_state(array, left, right, x, p, q):\n",
    "    colors = []\n",
    "    for i, y in enumerate(array):\n",
    "        if y == x:\n",
    "            colors.append('magenta')\n",
    "        elif left <= i and i < right:\n",
    "            if i == p:\n",
    "                colors.append('green')\n",
    "            elif i == q:\n",
    "                colors.append('yellow')\n",
    "            else:\n",
    "                colors.append('red')\n",
    "        else:\n",
    "            colors.append('blue')\n",
    "    return basic_sort_state(array, colors)\n",
    "\n",
    "def qsort(array, left, right, states):\n",
    "    if right - left <= 1:\n",
    "        return 0, 0\n",
    "    x = array[random.randint(left, right - 1)]\n",
    "    p = left\n",
    "    q = right - 1\n",
    "    states.append(qsort_state(array, left, right, x, -1, -1))\n",
    "    comparisons, swaps = 0, 0\n",
    "    while p <= q:\n",
    "        while array[p] < x:\n",
    "            comparisons += 1\n",
    "            p += 1\n",
    "            states.append(qsort_state(array, left, right, x, p, q))\n",
    "        while array[q] > x:\n",
    "            comparisons += 1\n",
    "            q -= 1\n",
    "            states.append(qsort_state(array, left, right, x, p, q))\n",
    "        if p <= q:\n",
    "            swaps += 1\n",
    "            array[p], array[q] = (array[q], array[p])\n",
    "            states.append(qsort_state(array, left, right, x, p, q))\n",
    "            p += 1\n",
    "            q -= 1\n",
    "            if p <= q:\n",
    "                states.append(qsort_state(array, left, right, x, p, q))\n",
    "    add_comparisons, add_swaps = qsort(array, left, q + 1, states)\n",
    "    comparisons, swaps = (comparisons + add_comparisons, swaps + add_swaps)\n",
    "    add_comparisons, add_swaps = qsort(array, p, right, states)\n",
    "    comparisons, swaps = (comparisons + add_comparisons, swaps + add_swaps)\n",
    "    \n",
    "    return comparisons, swaps"
   ]
  },
  {
   "cell_type": "code",
   "execution_count": 38,
   "id": "c70b8c84",
   "metadata": {},
   "outputs": [
    {
     "name": "stdout",
     "output_type": "stream",
     "text": [
      "[-11, -10, -9, -8, -5, 2, 5, 7, 8, 9, 10, 11, 13]\n",
      "Comparisons: 23\n",
      "Swaps:       15\n"
     ]
    }
   ],
   "source": [
    "array = [x for x in initial_array]\n",
    "states = []\n",
    "comparisons, swaps = qsort(array, 0, len(array), states)\n",
    "print(array)\n",
    "print(f\"Comparisons: {comparisons}\")\n",
    "print(f\"Swaps:       {swaps}\")"
   ]
  },
  {
   "cell_type": "code",
   "execution_count": 31,
   "id": "0129ef39",
   "metadata": {},
   "outputs": [
    {
     "data": {
      "application/vnd.jupyter.widget-view+json": {
       "model_id": "a3ece02c8e53461bae8b5fe36ee97580",
       "version_major": 2,
       "version_minor": 0
      },
      "text/plain": [
       "HBox(children=(Play(value=0, interval=200), Button(description='Prev', style=ButtonStyle()), Button(descriptio…"
      ]
     },
     "metadata": {},
     "output_type": "display_data"
    },
    {
     "data": {
      "application/vnd.jupyter.widget-view+json": {
       "model_id": "411ba01c753348b3a1fedaf708162422",
       "version_major": 2,
       "version_minor": 0
      },
      "text/plain": [
       "interactive(children=(IntSlider(value=0, description='step', max=58), Output()), _dom_classes=('widget-interac…"
      ]
     },
     "metadata": {},
     "output_type": "display_data"
    }
   ],
   "source": [
    "animate_list(states, play=True);"
   ]
  },
  {
   "cell_type": "markdown",
   "id": "f865c82e",
   "metadata": {},
   "source": [
    "## Analysis\n",
    "Here we will assume that separating element is chosen uniformly random and so when we pick the element it has $\\frac{1}{n}$ probability of splitting the array of $n+1$ elements into two subarrays of sizes $(1, n), (2, n-1), \\ldots, (n, 1)$ respectively. As we discussed we need a two-pointer based linear scan to perform the splitting and so we can give the following recursion on the average complexity of quicksort for an array of size $n$:\n",
    "$$\n",
    "T(n)=\\alpha n+\\frac{1}{n-1}\\sum_{i=1}^{n-1}\\left[T(i)+T(n-i)\\right]=\\alpha n+\\frac{2}{n-1}\\sum_{i=1}^{n-1}T(i)\n",
    "$$\n",
    "Lets compare $T(n+1)$ and $T(n)$:\n",
    "$$\n",
    "\\begin{align*}\n",
    "(n-1)T(n)&=\\alpha n(n-1)+2\\sum_{i=1}^{n-1}T(i) \\\\\n",
    "n T(n+1)&=\\alpha (n+1)n+2\\sum_{i=1}^{n}T(i)\n",
    "\\end{align*}\n",
    "$$\n",
    "From this we can get a lower order recursion\n",
    "$$\n",
    "nT(n+1)-(n-1)T(n)=2\\alpha n + 2T(n)\n",
    "$$\n",
    "and a pretty form\n",
    "$$\n",
    "\\frac{T(n+1)}{n+1}=\\frac{T(n)}{n}+\\frac{2 \\alpha}{n+1}\n",
    "$$\n",
    "that can be easily backtraced to get\n",
    "$$\n",
    "T(n)=n\\sum_{i=1}^{n-1}\\left[\\frac{2 \\alpha}{i}\\right]\n",
    "$$\n",
    "The sum above is a harmonic sequence that behaves asymptotically as $\\log (n)$ which leads to a simple\n",
    "$$\n",
    "T(n)=\\Theta (n\\log n)\n",
    "$$"
   ]
  },
  {
   "cell_type": "markdown",
   "id": "61d51c42",
   "metadata": {},
   "source": [
    "## Merge sort\n",
    "This is another algorithm based on divide-and-conquer paradigm:\n",
    "* Divide an array into $2$ subarrays of almost equal size\n",
    "* Use recursion to sort subarrays\n",
    "* Merge the result\n",
    "Again the idea is that the last part can be done by a two-pointer linear scan by the following procedure\n",
    "* Initialize "
   ]
  }
 ],
 "metadata": {
  "kernelspec": {
   "display_name": "Python 3 (ipykernel)",
   "language": "python",
   "name": "python3"
  },
  "language_info": {
   "codemirror_mode": {
    "name": "ipython",
    "version": 3
   },
   "file_extension": ".py",
   "mimetype": "text/x-python",
   "name": "python",
   "nbconvert_exporter": "python",
   "pygments_lexer": "ipython3",
   "version": "3.8.3"
  },
  "widgets": {
   "application/vnd.jupyter.widget-state+json": {
    "state": {
     "00d59d88b2d9460383b3cd76a7da5729": {
      "model_module": "@jupyter-widgets/controls",
      "model_module_version": "1.5.0",
      "model_name": "DescriptionStyleModel",
      "state": {
       "description_width": ""
      }
     },
     "01469d318a4e4afa8301405b6b4a3bae": {
      "model_module": "@jupyter-widgets/controls",
      "model_module_version": "1.5.0",
      "model_name": "IntSliderModel",
      "state": {
       "description": "step",
       "layout": "IPY_MODEL_ae254eafad1f496f875f9bf2f0608480",
       "max": 14,
       "style": "IPY_MODEL_0e72b39aef1140cb9b54f219f249d549"
      }
     },
     "02c440a90abd4adb97ffc4246dcdad0c": {
      "model_module": "@jupyter-widgets/controls",
      "model_module_version": "1.5.0",
      "model_name": "ButtonModel",
      "state": {
       "description": "Next",
       "layout": "IPY_MODEL_e04f4c26e1314ba8bffad4e7454d7e07",
       "style": "IPY_MODEL_cf113379abbc4244a151ff1575f0af64"
      }
     },
     "07bdad393c624cdaaa6e62527bcaec12": {
      "model_module": "@jupyter-widgets/base",
      "model_module_version": "1.2.0",
      "model_name": "LayoutModel",
      "state": {}
     },
     "0ab950b936ff44e093e6cbb77ae5ad95": {
      "model_module": "@jupyter-widgets/controls",
      "model_module_version": "1.5.0",
      "model_name": "ButtonModel",
      "state": {
       "description": "Next",
       "layout": "IPY_MODEL_1432dccda7c44d87ade360b9d794a8f7",
       "style": "IPY_MODEL_3f0c65db05e24d808db0332da8e2766a"
      }
     },
     "0c110af6cee34f8ab8d8951df9188193": {
      "model_module": "@jupyter-widgets/base",
      "model_module_version": "1.2.0",
      "model_name": "LayoutModel",
      "state": {}
     },
     "0e72b39aef1140cb9b54f219f249d549": {
      "model_module": "@jupyter-widgets/controls",
      "model_module_version": "1.5.0",
      "model_name": "SliderStyleModel",
      "state": {
       "description_width": ""
      }
     },
     "0fc58f2c44bc4983bcb5ec946f73aad2": {
      "model_module": "@jupyter-widgets/base",
      "model_module_version": "1.2.0",
      "model_name": "LayoutModel",
      "state": {}
     },
     "1101833c34c846fe88e504bfe5b84f30": {
      "model_module": "@jupyter-widgets/controls",
      "model_module_version": "1.5.0",
      "model_name": "ButtonStyleModel",
      "state": {}
     },
     "1432dccda7c44d87ade360b9d794a8f7": {
      "model_module": "@jupyter-widgets/base",
      "model_module_version": "1.2.0",
      "model_name": "LayoutModel",
      "state": {}
     },
     "152b4130cb7b4565826998062ac647cd": {
      "model_module": "@jupyter-widgets/base",
      "model_module_version": "1.2.0",
      "model_name": "LayoutModel",
      "state": {}
     },
     "154b96e2a1c94510ab161b0587ffe8a2": {
      "model_module": "@jupyter-widgets/output",
      "model_module_version": "1.0.0",
      "model_name": "OutputModel",
      "state": {
       "layout": "IPY_MODEL_0fc58f2c44bc4983bcb5ec946f73aad2",
       "outputs": [
        {
         "data": {
          "image/png": "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\n",
          "text/plain": "<Figure size 576x576 with 1 Axes>"
         },
         "metadata": {},
         "output_type": "display_data"
        }
       ]
      }
     },
     "175405d0ebd54f58a52e5c057f75ebf7": {
      "model_module": "@jupyter-widgets/controls",
      "model_module_version": "1.5.0",
      "model_name": "ButtonStyleModel",
      "state": {}
     },
     "183402ccdb474b8099b66ea9e964dfc1": {
      "model_module": "@jupyter-widgets/controls",
      "model_module_version": "1.5.0",
      "model_name": "LinkModel",
      "state": {
       "source": [
        "IPY_MODEL_876eb7b6b2504b1d96a4e6bd44d749b5",
        "value"
       ],
       "target": [
        "IPY_MODEL_748414848f6e47feaf5cea13dd7274f0",
        "value"
       ]
      }
     },
     "1cd267794cbd4193a8b37d9ff8ce554f": {
      "model_module": "@jupyter-widgets/base",
      "model_module_version": "1.2.0",
      "model_name": "LayoutModel",
      "state": {}
     },
     "1ed9210bd8a8439eb6c5dad8b6a721a9": {
      "model_module": "@jupyter-widgets/base",
      "model_module_version": "1.2.0",
      "model_name": "LayoutModel",
      "state": {}
     },
     "1f954e4b67f6448d8e4ccc30d3c83704": {
      "model_module": "@jupyter-widgets/output",
      "model_module_version": "1.0.0",
      "model_name": "OutputModel",
      "state": {
       "layout": "IPY_MODEL_bc7bc9129e714abaae5810dc5098bc0d",
       "outputs": [
        {
         "data": {
          "image/png": "iVBORw0KGgoAAAANSUhEUgAAAk4AAAJOCAYAAABBWYj1AAAAOXRFWHRTb2Z0d2FyZQBNYXRwbG90bGliIHZlcnNpb24zLjQuMiwgaHR0cHM6Ly9tYXRwbG90bGliLm9yZy8rg+JYAAAACXBIWXMAAAsTAAALEwEAmpwYAAAMFUlEQVR4nO3cMY7cNhiAUTJw5wMsD5pj5KCeA6RWiu2CjPZbODalnfcAVizmByV5P7DwPI5jAADwsT92DwAAcBfCCQAgEk4AAJFwAgCIhBMAQCScAACibx/s+78KAIBXM59tuHECAIiEEwBAJJwAACLhBAAQCScAgEg4AQBEwgkAIBJOAACRcAIAiIQTAEAknAAAIuEEABAJJwCASDgBAETCCQAgEk4AAJFwAgCIhBMAQCScAAAi4QQAEAknAIBIOAEARMIJACASTgAAkXACAIiEEwBsttYYc+5da+0+hXuYx3Gc7Z9uAgA/b87dE7w7T4KX8vSJuHECAIiEEwBAJJwAACLhBAAQCScAgEg4AQBEwgkAIBJOAACRcAIAiIQTAEAknAAAIuEEABAJJwCASDgBAETCCQAgEk4AAJFwAgCIhBMAQCScAAAi4QQAEAknAIBIOAEARMIJACASTgAAkXACAIiEEwBAJJwAACLhBAAQCScAgEg4AQBEwgkAIBJOAACRcAIAiIQTAEAknAAAIuEEABAJJwCASDgBAETCCQAgEk4AAJFwAuBLW2uMOfeutXafAv+XeRzH2f7pJgBc3Zy7J3h39uf2DjO+mKdPxI0TAEAknAAAIuEEABAJJwCASDgBAETCCQAgEk4AAJFwAgCIhBMAQCScAAAi4QQAEAknAIBIOAEARMIJACASTgAAkXACAIiEEwBAJJwAACLhBAAQCScAfspaY8y5b621+wR4JfM4jrP9000AmHP3BGOc/Sm7wnxj3H/GF/P0ibhxAgCIhBMAQCScAAAi4QQAEAknAIBIOAEARMIJACASTgAAkXACAIiEEwBAJJwAACLhBAAQCScAgEg4AQBEwgkAIBJOAACRcAIAiIQTAEAknAAAIuEE/7LWGHPuXWvtPgUA/ss8juNs/3QTvqI5d0/w7vzThOu4wjdz9r1cYb4x7j/ji3n6RNw4AQBEwgkAIBJOAACRcAIAiIQTAEAknAAAIuEEABAJJwCASDgBAETCCQAgEk4AAJFwAgCIhBMAQCScAAAi4QQAEAknAIBIOAEARMIJACASTgAAkXDit1prjDn3rrV2nwIAdzWP4zjbP92Ez5pz9wTvzl77O8wIV3KFb+bu3/QdZnwxT5+IGycAgEg4AQBEwgkAIBJOAACRcAIAiIQTAEAknAAAIuEEABAJJwCASDgBAETCCQAgEk4AAJFwAgCIhBMAQCScAAAi4QQAEAknAIBIOAEARMIJACASTnBDa40x59611u5TAPj95nEcZ/unm/BZc+6e4N3Za2/G7vyfD17FFd7Hu38vd5jxxTx9Im6cAAAi4QQAEAknAIBIOAEARMIJACASTgAAkXACAIiEEwBAJJwAACLhBAAQCScAgEg4AQBEwgkAIBJOAACRcAIAiIQTAEAknAAAIuEEABAJJwCASDgBAETCCQAgEk4AAJFwAgCIhBMAQCScAAAi4QQAEAknAIBIOAEARMIJACASTgAAkXACAIiEEwBAJJwAACLhBAAQCScAgEg4AQBEwgkAIBJOAACRcAIAiIQTAEAknL6QtcaYc+9aa/cpAMCvM4/jONs/3eRa5tw9wbuzV8qM3d1n5HVc4X28+/dyhxlfzNMn4sYJACASTgAAkXACAIiEEwBAJJwAACLhBAAQCScAgEg4AQBEwgkAIBJOAACRcAIAiIQTAEAknAAAIuEEABAJJwCASDgBAETCCQAgEk4AAJFwAgCIhBMAQCScAAAi4QQAEAknAIBIOAEARMIJACASTgAAkXACAIiEEwBAJJwAACLhBAAQCScAgEg4AQBEwgkAIBJOAACRcAIAiIQTAEAknAAAIuEEABAJJwCASDgBAETCCQAgEk4AAJFwAgCIhBMAQCScAAAi4QQAEAknAIBIOAEARMIJACASTgAAkXACAIiEEwBAJJwAACLhBAAQCScAgEg4AQBEwgkAIBJOAACRcAIAiIQTAED0bfcAY4yx/lrj8fdj6wxv39/Gjz9/bJ0BALi2S9w47Y6mq8wAAFzbJcIJAOAOhBMAQCScAAAi4QQAEAknAIBIOAEARMIJACASTgAAkXACAIiEEwBAJJwAACLhBAAQCScAgEg4AQBEwgkAIBJOAACRcAIAiIQTAEAknAAAIuEEABAJJwCASDgBAETCCQAgEk4AAJFwAgCIhBMAQCScAAAi4QQAEAknAIBIOAEARMIJACASTgAAkXACAIiEEwBAJJwAACLhBAAQCScAgEg4AQBEwgkAIBJOAACRcAIAiIQTAEAknAAAIuEEABAJJwCASDgBAETCCQAgEk4AAJFwAgCIhBMAQCScAAAi4QQAEAknAIBIOAEARMIJACASTgAAkXACAIiEEwBAJJwAACLhBAAQCScAgEg4AQBEwgkAIBJOAACRcAIAiIQTAEAknAAAIuEEABAJJwCASDgBAETCCQAgEk4AAJFwAgCIhBMAQCScAAAi4QQAEAknAIBIOAEARMIJACASTgAAkXACAIiEEwBAJJwAACLhBAAQCScAgEg4AQBEwgkAIBJOAACRcAIAiIQTAEAknAAAIuEEABAJJwCASDgBAETCCQAgEk4AAJFwAgCIhBMAQCScAAAi4QQAEAknAIBIOAEARMIJACASTgAAkXACAIiEEwBAJJwAACLhBAAQCScAgEg4AQBEwgkAIBJOAACRcAIAiIQTAEAknAAAIuEEABAJJwCASDgBAETCCQAgEk4AAJFwAgCIhBMAQCScAAAi4QQAEAknAIBIOAEARMIJACASTgAAkXACAIiEEwBAJJwAACLhBAAQCScAgEg4AQBEwgkAIBJOAACRcAIAiIQTAEAknAAAIuEEABAJJwCASDgBAETCCQAgEk4AAJFwAgCIhBPwS6w1xpx711q7TwH4aoQT8Es8HrsnuMYMwNcinAAAIuEEABAJJwCASDgBAETCCQAgEk4AAJFwAgCIhBMAQCScAAAi4QQAEAknAIBIOAEARMIJACASTgAAkXACAIiEEwBAJJwAACLhBAAQCScAgEg4AQBEwgkAIBJOAACRcAIAiIQTAEAknAAAIuEEABAJJwCASDgBAETCCQAgEk4AAJFwAgCIhBMAQCScAAAi4QQAEAknAIBIOAEARMIJACASTgAAkXACAIiEEwBAJJwAACLhBAAQCScAgEg4AQBEwgkAIBJOAACRcAIAiIQTAEAknAAAIuEEABAJJwCASDgBAETCCQAgEk4AAJFwAgCIhBMAQCScAAAi4QQAEAknAIBIOAEARMIJACASTsDLWmuMOfettXafAPBZwgl4WY/Ha/8+8HnCCQAgEk4AAJFwAgCIhBMAQCScAAAi4QQAEAknAIBIOAEARMIJACASTgAAkXACAIiEEwBAJJwAACLhBAAQCScAgEg4AQBEwgkAIBJOAACRcAIAiIQTwIWtNcac+9Zau08ArkU4AVzY4/Havw9XI5wAACLhBAAQCScAgEg4AQBEwgkAIBJOAACRcAIAiIQTAEAknAAAIuEEABAJJwCASDgBAETCCQAgEk4AAJFwAgCIhBMAQCScAAAi4QQAEAknAIBIOAEAH1prjDn3rrV2n4JwAgCCx2P3BNeYQTgBAETCCQAgEk4AAJFwAgCIhBMAQCScAAAi4QQAEAknAIBIOAEARMIJACASTgAAkXACAIiEEwBAJJwAACLhBAAQCScAgEg4AQBEwgkAIBJOAACRcIrWGmPOvWut3acAAK9NOEWPx+4JrjEDALwy4QQAEAknAIBIOAEARMIJACASTgAAkXACAIiEEwBAJJwAACLhBAAQCScAgEg4AQBEwgkAIBJOAACRcAIAiIQTAEAknAAAIuEEABAJJwCASDgBAESXCKe372+7R/hwhrf9I344gxkbM/4/zPjzyu+b8ed/f/d8ZQYzNleYYR7HcbZ/ugkA8AXNZxuXuHECALgD4QQAEAknAIBIOAEARMIJACASTgAAkXACAIiEEwBAJJwAACLhBAAQCScAgEg4AQBEwgkAIBJOAACRcAIAiIQTAEAknAAAIuEEABAJJwCASDgBAETCCQAgEk4AAJFwAgCIhBMAQPTtg/35W6YAALgBN04AAJFwAgCIhBMAQCScAAAi4QQAEAknAIDoHzo9in6QN558AAAAAElFTkSuQmCC\n",
          "text/plain": "<Figure size 576x576 with 1 Axes>"
         },
         "metadata": {},
         "output_type": "display_data"
        }
       ]
      }
     },
     "23bc8468d1e04db8a4ddb08cfa4ddce8": {
      "model_module": "@jupyter-widgets/base",
      "model_module_version": "1.2.0",
      "model_name": "LayoutModel",
      "state": {}
     },
     "24e96a7cb5474a3a951cbd779c339cd7": {
      "model_module": "@jupyter-widgets/controls",
      "model_module_version": "1.5.0",
      "model_name": "ButtonStyleModel",
      "state": {}
     },
     "273481f77d5e4e2091250c5cf8c4431f": {
      "model_module": "@jupyter-widgets/controls",
      "model_module_version": "1.5.0",
      "model_name": "PlayModel",
      "state": {
       "interval": 200,
       "layout": "IPY_MODEL_df6b01663bc341988a7b3dfaa8bbb62d",
       "style": "IPY_MODEL_5b4a60f8d889406d914b75e9ce4d62b9",
       "value": 100
      }
     },
     "284be1f99b884510a1e8918d5cacc7d3": {
      "model_module": "@jupyter-widgets/output",
      "model_module_version": "1.0.0",
      "model_name": "OutputModel",
      "state": {
       "layout": "IPY_MODEL_ceb0160ca84245b181cee85108ba0e15",
       "outputs": [
        {
         "data": {
          "image/png": "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\n",
          "text/plain": "<Figure size 576x576 with 1 Axes>"
         },
         "metadata": {},
         "output_type": "display_data"
        }
       ]
      }
     },
     "2c124fd664234a52a825bd9871e105a5": {
      "model_module": "@jupyter-widgets/base",
      "model_module_version": "1.2.0",
      "model_name": "LayoutModel",
      "state": {}
     },
     "2e77d91867d749ef91d20420fdb27561": {
      "model_module": "@jupyter-widgets/base",
      "model_module_version": "1.2.0",
      "model_name": "LayoutModel",
      "state": {}
     },
     "2f31316be1964e00bf0003799d29162e": {
      "model_module": "@jupyter-widgets/base",
      "model_module_version": "1.2.0",
      "model_name": "LayoutModel",
      "state": {}
     },
     "2f4830310df843e1b6dfad0d8fc056c5": {
      "model_module": "@jupyter-widgets/controls",
      "model_module_version": "1.5.0",
      "model_name": "VBoxModel",
      "state": {
       "_dom_classes": [
        "widget-interact"
       ],
       "children": [
        "IPY_MODEL_ffe5a0dfccd94085b42110b38d6e4f71",
        "IPY_MODEL_63494546f0f64a30a3b742fc2cd92b4a"
       ],
       "layout": "IPY_MODEL_35fa09d64ed4460dae08f3a4e4d5cd6e"
      }
     },
     "30767c3927a5490d9e876968849c6da2": {
      "model_module": "@jupyter-widgets/controls",
      "model_module_version": "1.5.0",
      "model_name": "ButtonModel",
      "state": {
       "description": "Next",
       "layout": "IPY_MODEL_67a79e4f1323487ba52ff7cd9048f211",
       "style": "IPY_MODEL_e84db45bbc664d8ab70cbb21464e2b9a"
      }
     },
     "3198b8bf2fe94d58ba8df3fcb5018fb6": {
      "model_module": "@jupyter-widgets/controls",
      "model_module_version": "1.5.0",
      "model_name": "HBoxModel",
      "state": {
       "children": [
        "IPY_MODEL_540bbec27a284297bea399cded37e039",
        "IPY_MODEL_a286d287a51f41fc875aa1cec3822b5a",
        "IPY_MODEL_6d7acce8150a4c0c8a7d96024e41b798"
       ],
       "layout": "IPY_MODEL_8bf11608ad0b418b9cf4df3f77a17e44"
      }
     },
     "322896c4bf9c424b90baf0ede0596a05": {
      "model_module": "@jupyter-widgets/controls",
      "model_module_version": "1.5.0",
      "model_name": "HBoxModel",
      "state": {
       "children": [
        "IPY_MODEL_efdb9fcb29ab4f55a3e55d679f6b8a80",
        "IPY_MODEL_4ddc8afb57054a249f503e4359e64590",
        "IPY_MODEL_02c440a90abd4adb97ffc4246dcdad0c"
       ],
       "layout": "IPY_MODEL_535505322f9d41d99e7a3712537105f5"
      }
     },
     "34634ad080334b00a7181cc472a4db70": {
      "model_module": "@jupyter-widgets/base",
      "model_module_version": "1.2.0",
      "model_name": "LayoutModel",
      "state": {}
     },
     "35fa09d64ed4460dae08f3a4e4d5cd6e": {
      "model_module": "@jupyter-widgets/base",
      "model_module_version": "1.2.0",
      "model_name": "LayoutModel",
      "state": {}
     },
     "3694d06e941e4714a7310d1306243a44": {
      "model_module": "@jupyter-widgets/controls",
      "model_module_version": "1.5.0",
      "model_name": "ButtonModel",
      "state": {
       "description": "Next",
       "layout": "IPY_MODEL_f68f59e85d3f41e7b85b66663da9452f",
       "style": "IPY_MODEL_175405d0ebd54f58a52e5c057f75ebf7"
      }
     },
     "3695d707a1c74c5faf9aa1bb9e9db9bc": {
      "model_module": "@jupyter-widgets/controls",
      "model_module_version": "1.5.0",
      "model_name": "ButtonModel",
      "state": {
       "description": "Prev",
       "layout": "IPY_MODEL_34634ad080334b00a7181cc472a4db70",
       "style": "IPY_MODEL_24e96a7cb5474a3a951cbd779c339cd7"
      }
     },
     "3a06f18518474ad3bf16310e42a86646": {
      "model_module": "@jupyter-widgets/controls",
      "model_module_version": "1.5.0",
      "model_name": "ButtonModel",
      "state": {
       "description": "Prev",
       "layout": "IPY_MODEL_eb04673ecda14f3296ea2282f1615e91",
       "style": "IPY_MODEL_840cbabfdd494ea3b48bb0eda71ad7d4"
      }
     },
     "3a90253f21bb4c8dbb6e73133bc12bb6": {
      "model_module": "@jupyter-widgets/controls",
      "model_module_version": "1.5.0",
      "model_name": "SliderStyleModel",
      "state": {
       "description_width": ""
      }
     },
     "3b7f9ccd86bb448c975b48ed969df5be": {
      "model_module": "@jupyter-widgets/base",
      "model_module_version": "1.2.0",
      "model_name": "LayoutModel",
      "state": {}
     },
     "3c020af9505c4de383313ee39d9ef482": {
      "model_module": "@jupyter-widgets/base",
      "model_module_version": "1.2.0",
      "model_name": "LayoutModel",
      "state": {}
     },
     "3f0c65db05e24d808db0332da8e2766a": {
      "model_module": "@jupyter-widgets/controls",
      "model_module_version": "1.5.0",
      "model_name": "ButtonStyleModel",
      "state": {}
     },
     "411ba01c753348b3a1fedaf708162422": {
      "model_module": "@jupyter-widgets/controls",
      "model_module_version": "1.5.0",
      "model_name": "VBoxModel",
      "state": {
       "_dom_classes": [
        "widget-interact"
       ],
       "children": [
        "IPY_MODEL_748414848f6e47feaf5cea13dd7274f0",
        "IPY_MODEL_154b96e2a1c94510ab161b0587ffe8a2"
       ],
       "layout": "IPY_MODEL_782cbe9f237c4bdf936f79f2bdf386f1"
      }
     },
     "434f3454875445d88ba369afe063804e": {
      "model_module": "@jupyter-widgets/controls",
      "model_module_version": "1.5.0",
      "model_name": "ButtonModel",
      "state": {
       "description": "Prev",
       "layout": "IPY_MODEL_8bf41f6f3bc14065857defa2fe4eb7c5",
       "style": "IPY_MODEL_4b03f0e2e351478cafaf8bc7845d81e1"
      }
     },
     "442e7a1285554413a90386a7140375ae": {
      "model_module": "@jupyter-widgets/controls",
      "model_module_version": "1.5.0",
      "model_name": "ButtonStyleModel",
      "state": {}
     },
     "4aee9e524ab14361bbf94986ea1330bf": {
      "model_module": "@jupyter-widgets/controls",
      "model_module_version": "1.5.0",
      "model_name": "LinkModel",
      "state": {
       "source": [
        "IPY_MODEL_9d8b924aeee6449f8cbaf64aee378391",
        "value"
       ],
       "target": [
        "IPY_MODEL_947360be1cb54b8e8889dcb8f5b09253",
        "value"
       ]
      }
     },
     "4b03f0e2e351478cafaf8bc7845d81e1": {
      "model_module": "@jupyter-widgets/controls",
      "model_module_version": "1.5.0",
      "model_name": "ButtonStyleModel",
      "state": {}
     },
     "4be9f7b1505b4689b62930f5033d475d": {
      "model_module": "@jupyter-widgets/base",
      "model_module_version": "1.2.0",
      "model_name": "LayoutModel",
      "state": {}
     },
     "4ddc8afb57054a249f503e4359e64590": {
      "model_module": "@jupyter-widgets/controls",
      "model_module_version": "1.5.0",
      "model_name": "ButtonModel",
      "state": {
       "description": "Prev",
       "layout": "IPY_MODEL_9c3dd0f8d8f24cbcb81207a990e17347",
       "style": "IPY_MODEL_85ff8afbd6284454853d2458a12afed3"
      }
     },
     "535505322f9d41d99e7a3712537105f5": {
      "model_module": "@jupyter-widgets/base",
      "model_module_version": "1.2.0",
      "model_name": "LayoutModel",
      "state": {}
     },
     "540bbec27a284297bea399cded37e039": {
      "model_module": "@jupyter-widgets/controls",
      "model_module_version": "1.5.0",
      "model_name": "PlayModel",
      "state": {
       "interval": 200,
       "layout": "IPY_MODEL_1cd267794cbd4193a8b37d9ff8ce554f",
       "style": "IPY_MODEL_734f9d26473c4ca38ebaba28c707d480"
      }
     },
     "54af4da05fa84f73b1011f55b7e663d1": {
      "model_module": "@jupyter-widgets/controls",
      "model_module_version": "1.5.0",
      "model_name": "IntSliderModel",
      "state": {
       "description": "step",
       "layout": "IPY_MODEL_2c124fd664234a52a825bd9871e105a5",
       "max": 56,
       "style": "IPY_MODEL_90a112ad8f0c43d4b45f544858c1285d",
       "value": 56
      }
     },
     "586bbbf03de047d9a1132292682f4d47": {
      "model_module": "@jupyter-widgets/base",
      "model_module_version": "1.2.0",
      "model_name": "LayoutModel",
      "state": {}
     },
     "5aa28bd728cc43fe804d73266e4c3bb4": {
      "model_module": "@jupyter-widgets/base",
      "model_module_version": "1.2.0",
      "model_name": "LayoutModel",
      "state": {}
     },
     "5b4a60f8d889406d914b75e9ce4d62b9": {
      "model_module": "@jupyter-widgets/controls",
      "model_module_version": "1.5.0",
      "model_name": "DescriptionStyleModel",
      "state": {
       "description_width": ""
      }
     },
     "5e5b73dffe4e4f1798d6a9726997c671": {
      "model_module": "@jupyter-widgets/controls",
      "model_module_version": "1.5.0",
      "model_name": "SliderStyleModel",
      "state": {
       "description_width": ""
      }
     },
     "5eb8c574213a4423a6b8fa4d42bfad67": {
      "model_module": "@jupyter-widgets/controls",
      "model_module_version": "1.5.0",
      "model_name": "LinkModel",
      "state": {
       "source": [
        "IPY_MODEL_273481f77d5e4e2091250c5cf8c4431f",
        "value"
       ],
       "target": [
        "IPY_MODEL_54af4da05fa84f73b1011f55b7e663d1",
        "value"
       ]
      }
     },
     "63250cb7c4c74713a525b739e7589a93": {
      "model_module": "@jupyter-widgets/controls",
      "model_module_version": "1.5.0",
      "model_name": "HBoxModel",
      "state": {
       "children": [
        "IPY_MODEL_ee284cedc9594b8dbc535fc407eb8ab6",
        "IPY_MODEL_ebf889fa1a4340e29dc2defd564e6312",
        "IPY_MODEL_708b9093abbb4247b32cc7a46455d77e"
       ],
       "layout": "IPY_MODEL_f45a0c8a8b9f4796a6d71df167d01ca7"
      }
     },
     "63494546f0f64a30a3b742fc2cd92b4a": {
      "model_module": "@jupyter-widgets/output",
      "model_module_version": "1.0.0",
      "model_name": "OutputModel",
      "state": {
       "layout": "IPY_MODEL_2e77d91867d749ef91d20420fdb27561"
      }
     },
     "63500f27f7d3436a80822864097eaed4": {
      "model_module": "@jupyter-widgets/controls",
      "model_module_version": "1.5.0",
      "model_name": "DescriptionStyleModel",
      "state": {
       "description_width": ""
      }
     },
     "64589b6c563d47ce8ded7a8276f1bc75": {
      "model_module": "@jupyter-widgets/base",
      "model_module_version": "1.2.0",
      "model_name": "LayoutModel",
      "state": {}
     },
     "67a79e4f1323487ba52ff7cd9048f211": {
      "model_module": "@jupyter-widgets/base",
      "model_module_version": "1.2.0",
      "model_name": "LayoutModel",
      "state": {}
     },
     "68fb4090f44949289343c34fc3014418": {
      "model_module": "@jupyter-widgets/controls",
      "model_module_version": "1.5.0",
      "model_name": "LinkModel",
      "state": {
       "source": [
        "IPY_MODEL_f4a2e405288a4f4185e92cbd992e4fc2",
        "value"
       ],
       "target": [
        "IPY_MODEL_01469d318a4e4afa8301405b6b4a3bae",
        "value"
       ]
      }
     },
     "6ab33d17b22b4d66981bed05fb3969ca": {
      "model_module": "@jupyter-widgets/controls",
      "model_module_version": "1.5.0",
      "model_name": "VBoxModel",
      "state": {
       "_dom_classes": [
        "widget-interact"
       ],
       "children": [
        "IPY_MODEL_54af4da05fa84f73b1011f55b7e663d1",
        "IPY_MODEL_284be1f99b884510a1e8918d5cacc7d3"
       ],
       "layout": "IPY_MODEL_1ed9210bd8a8439eb6c5dad8b6a721a9"
      }
     },
     "6d7acce8150a4c0c8a7d96024e41b798": {
      "model_module": "@jupyter-widgets/controls",
      "model_module_version": "1.5.0",
      "model_name": "ButtonModel",
      "state": {
       "description": "Next",
       "layout": "IPY_MODEL_f94625e052f4429fa04affc78d40d762",
       "style": "IPY_MODEL_7e0b2d760d65423da63e5d1e4bc2735c"
      }
     },
     "708b9093abbb4247b32cc7a46455d77e": {
      "model_module": "@jupyter-widgets/controls",
      "model_module_version": "1.5.0",
      "model_name": "ButtonModel",
      "state": {
       "description": "Next",
       "layout": "IPY_MODEL_3b7f9ccd86bb448c975b48ed969df5be",
       "style": "IPY_MODEL_d4bbf9eb4f9941ceb9d1e347b9ca9186"
      }
     },
     "70fcf306a903463792fb1903a499c31f": {
      "model_module": "@jupyter-widgets/controls",
      "model_module_version": "1.5.0",
      "model_name": "DescriptionStyleModel",
      "state": {
       "description_width": ""
      }
     },
     "734f9d26473c4ca38ebaba28c707d480": {
      "model_module": "@jupyter-widgets/controls",
      "model_module_version": "1.5.0",
      "model_name": "DescriptionStyleModel",
      "state": {
       "description_width": ""
      }
     },
     "748414848f6e47feaf5cea13dd7274f0": {
      "model_module": "@jupyter-widgets/controls",
      "model_module_version": "1.5.0",
      "model_name": "IntSliderModel",
      "state": {
       "description": "step",
       "layout": "IPY_MODEL_9359c738a6a648d08b06c027c9c45c99",
       "max": 58,
       "style": "IPY_MODEL_3a90253f21bb4c8dbb6e73133bc12bb6",
       "value": 40
      }
     },
     "767f0485601841f6a59940d556c33ca9": {
      "model_module": "@jupyter-widgets/base",
      "model_module_version": "1.2.0",
      "model_name": "LayoutModel",
      "state": {}
     },
     "782cbe9f237c4bdf936f79f2bdf386f1": {
      "model_module": "@jupyter-widgets/base",
      "model_module_version": "1.2.0",
      "model_name": "LayoutModel",
      "state": {}
     },
     "792bb7d1f6bf4593bb6233ff423aee1a": {
      "model_module": "@jupyter-widgets/base",
      "model_module_version": "1.2.0",
      "model_name": "LayoutModel",
      "state": {}
     },
     "7a9146eb1a8444a6b33bf5111140a9f2": {
      "model_module": "@jupyter-widgets/controls",
      "model_module_version": "1.5.0",
      "model_name": "ButtonStyleModel",
      "state": {}
     },
     "7e0b2d760d65423da63e5d1e4bc2735c": {
      "model_module": "@jupyter-widgets/controls",
      "model_module_version": "1.5.0",
      "model_name": "ButtonStyleModel",
      "state": {}
     },
     "82c4918ccd3748ec9f0a956bbf4fb84f": {
      "model_module": "@jupyter-widgets/controls",
      "model_module_version": "1.5.0",
      "model_name": "HBoxModel",
      "state": {
       "children": [
        "IPY_MODEL_273481f77d5e4e2091250c5cf8c4431f",
        "IPY_MODEL_434f3454875445d88ba369afe063804e",
        "IPY_MODEL_30767c3927a5490d9e876968849c6da2"
       ],
       "layout": "IPY_MODEL_07bdad393c624cdaaa6e62527bcaec12"
      }
     },
     "840cbabfdd494ea3b48bb0eda71ad7d4": {
      "model_module": "@jupyter-widgets/controls",
      "model_module_version": "1.5.0",
      "model_name": "ButtonStyleModel",
      "state": {}
     },
     "85ff8afbd6284454853d2458a12afed3": {
      "model_module": "@jupyter-widgets/controls",
      "model_module_version": "1.5.0",
      "model_name": "ButtonStyleModel",
      "state": {}
     },
     "876eb7b6b2504b1d96a4e6bd44d749b5": {
      "model_module": "@jupyter-widgets/controls",
      "model_module_version": "1.5.0",
      "model_name": "PlayModel",
      "state": {
       "interval": 200,
       "layout": "IPY_MODEL_586bbbf03de047d9a1132292682f4d47",
       "style": "IPY_MODEL_f05a2b5c516f4ce1b160e4ffb48218ff",
       "value": 40
      }
     },
     "896cbbb20a9d4d60bb950010423ed1cd": {
      "model_module": "@jupyter-widgets/output",
      "model_module_version": "1.0.0",
      "model_name": "OutputModel",
      "state": {
       "layout": "IPY_MODEL_2f31316be1964e00bf0003799d29162e",
       "outputs": [
        {
         "data": {
          "image/png": "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\n",
          "text/plain": "<Figure size 576x576 with 1 Axes>"
         },
         "metadata": {},
         "output_type": "display_data"
        }
       ]
      }
     },
     "8b18e5c0e8434445b4cb62156bdfb4a8": {
      "model_module": "@jupyter-widgets/controls",
      "model_module_version": "1.5.0",
      "model_name": "DescriptionStyleModel",
      "state": {
       "description_width": ""
      }
     },
     "8bf11608ad0b418b9cf4df3f77a17e44": {
      "model_module": "@jupyter-widgets/base",
      "model_module_version": "1.2.0",
      "model_name": "LayoutModel",
      "state": {}
     },
     "8bf41f6f3bc14065857defa2fe4eb7c5": {
      "model_module": "@jupyter-widgets/base",
      "model_module_version": "1.2.0",
      "model_name": "LayoutModel",
      "state": {}
     },
     "90a112ad8f0c43d4b45f544858c1285d": {
      "model_module": "@jupyter-widgets/controls",
      "model_module_version": "1.5.0",
      "model_name": "SliderStyleModel",
      "state": {
       "description_width": ""
      }
     },
     "9359c738a6a648d08b06c027c9c45c99": {
      "model_module": "@jupyter-widgets/base",
      "model_module_version": "1.2.0",
      "model_name": "LayoutModel",
      "state": {}
     },
     "947360be1cb54b8e8889dcb8f5b09253": {
      "model_module": "@jupyter-widgets/controls",
      "model_module_version": "1.5.0",
      "model_name": "IntSliderModel",
      "state": {
       "description": "step",
       "layout": "IPY_MODEL_d32abeee9ce74fc186c69758f885c5b4",
       "max": 74,
       "style": "IPY_MODEL_ec681a8a4b074368a30b0102d11f6e1b"
      }
     },
     "96987e73404440a6aa21ae584ea9a59e": {
      "model_module": "@jupyter-widgets/controls",
      "model_module_version": "1.5.0",
      "model_name": "LinkModel",
      "state": {
       "source": [
        "IPY_MODEL_ee284cedc9594b8dbc535fc407eb8ab6",
        "value"
       ],
       "target": [
        "IPY_MODEL_ffe5a0dfccd94085b42110b38d6e4f71",
        "value"
       ]
      }
     },
     "9b24c827cc1d4cfaa71e75b221175058": {
      "model_module": "@jupyter-widgets/controls",
      "model_module_version": "1.5.0",
      "model_name": "VBoxModel",
      "state": {
       "_dom_classes": [
        "widget-interact"
       ],
       "children": [
        "IPY_MODEL_01469d318a4e4afa8301405b6b4a3bae",
        "IPY_MODEL_896cbbb20a9d4d60bb950010423ed1cd"
       ],
       "layout": "IPY_MODEL_baee555ba47f464bb63c5aedf1df3c67"
      }
     },
     "9c3dd0f8d8f24cbcb81207a990e17347": {
      "model_module": "@jupyter-widgets/base",
      "model_module_version": "1.2.0",
      "model_name": "LayoutModel",
      "state": {}
     },
     "9c6972fa57fb4a3d8a38078a163b228a": {
      "model_module": "@jupyter-widgets/controls",
      "model_module_version": "1.5.0",
      "model_name": "IntSliderModel",
      "state": {
       "description": "step",
       "layout": "IPY_MODEL_23bc8468d1e04db8a4ddb08cfa4ddce8",
       "max": 45,
       "style": "IPY_MODEL_e403dcffaeb141939323ea7d8cdff046"
      }
     },
     "9d021525967f4661b8be26ba594bade2": {
      "model_module": "@jupyter-widgets/controls",
      "model_module_version": "1.5.0",
      "model_name": "LinkModel",
      "state": {
       "source": [
        "IPY_MODEL_540bbec27a284297bea399cded37e039",
        "value"
       ],
       "target": [
        "IPY_MODEL_daf783f8a20c476c89faf47f8d85897b",
        "value"
       ]
      }
     },
     "9d8b924aeee6449f8cbaf64aee378391": {
      "model_module": "@jupyter-widgets/controls",
      "model_module_version": "1.5.0",
      "model_name": "PlayModel",
      "state": {
       "interval": 200,
       "layout": "IPY_MODEL_64589b6c563d47ce8ded7a8276f1bc75",
       "style": "IPY_MODEL_8b18e5c0e8434445b4cb62156bdfb4a8"
      }
     },
     "a256f982bf524c5d888bbff74c1c03fe": {
      "model_module": "@jupyter-widgets/base",
      "model_module_version": "1.2.0",
      "model_name": "LayoutModel",
      "state": {}
     },
     "a286d287a51f41fc875aa1cec3822b5a": {
      "model_module": "@jupyter-widgets/controls",
      "model_module_version": "1.5.0",
      "model_name": "ButtonModel",
      "state": {
       "description": "Prev",
       "layout": "IPY_MODEL_0c110af6cee34f8ab8d8951df9188193",
       "style": "IPY_MODEL_f97e1ee92104459a937da63517fb5cac"
      }
     },
     "a3ece02c8e53461bae8b5fe36ee97580": {
      "model_module": "@jupyter-widgets/controls",
      "model_module_version": "1.5.0",
      "model_name": "HBoxModel",
      "state": {
       "children": [
        "IPY_MODEL_876eb7b6b2504b1d96a4e6bd44d749b5",
        "IPY_MODEL_3a06f18518474ad3bf16310e42a86646",
        "IPY_MODEL_d0640e5eb6be40b0b57b08040ca3cdaa"
       ],
       "layout": "IPY_MODEL_b07dc05e680b4ff5ba35bc8cb1a5b4b6"
      }
     },
     "a49d14db8d184476a9cb17022d11e77f": {
      "model_module": "@jupyter-widgets/base",
      "model_module_version": "1.2.0",
      "model_name": "LayoutModel",
      "state": {}
     },
     "a49e3d2f5340475fba69e7a0c5dce3c6": {
      "model_module": "@jupyter-widgets/base",
      "model_module_version": "1.2.0",
      "model_name": "LayoutModel",
      "state": {}
     },
     "a5010fa3926c46a4b056aea660687858": {
      "model_module": "@jupyter-widgets/base",
      "model_module_version": "1.2.0",
      "model_name": "LayoutModel",
      "state": {}
     },
     "ac5d03dc42274bea902f154378795060": {
      "model_module": "@jupyter-widgets/controls",
      "model_module_version": "1.5.0",
      "model_name": "VBoxModel",
      "state": {
       "_dom_classes": [
        "widget-interact"
       ],
       "children": [
        "IPY_MODEL_daf783f8a20c476c89faf47f8d85897b",
        "IPY_MODEL_1f954e4b67f6448d8e4ccc30d3c83704"
       ],
       "layout": "IPY_MODEL_a5010fa3926c46a4b056aea660687858"
      }
     },
     "adc343b5a4a642ae8aa23cb8dd78f7d1": {
      "model_module": "@jupyter-widgets/controls",
      "model_module_version": "1.5.0",
      "model_name": "ButtonModel",
      "state": {
       "description": "Prev",
       "layout": "IPY_MODEL_152b4130cb7b4565826998062ac647cd",
       "style": "IPY_MODEL_442e7a1285554413a90386a7140375ae"
      }
     },
     "ae254eafad1f496f875f9bf2f0608480": {
      "model_module": "@jupyter-widgets/base",
      "model_module_version": "1.2.0",
      "model_name": "LayoutModel",
      "state": {}
     },
     "b07dc05e680b4ff5ba35bc8cb1a5b4b6": {
      "model_module": "@jupyter-widgets/base",
      "model_module_version": "1.2.0",
      "model_name": "LayoutModel",
      "state": {}
     },
     "b51ac18747fe4241bb61c6c700345910": {
      "model_module": "@jupyter-widgets/controls",
      "model_module_version": "1.5.0",
      "model_name": "LinkModel",
      "state": {
       "source": [
        "IPY_MODEL_efdb9fcb29ab4f55a3e55d679f6b8a80",
        "value"
       ],
       "target": [
        "IPY_MODEL_9c6972fa57fb4a3d8a38078a163b228a",
        "value"
       ]
      }
     },
     "baee555ba47f464bb63c5aedf1df3c67": {
      "model_module": "@jupyter-widgets/base",
      "model_module_version": "1.2.0",
      "model_name": "LayoutModel",
      "state": {}
     },
     "bc7bc9129e714abaae5810dc5098bc0d": {
      "model_module": "@jupyter-widgets/base",
      "model_module_version": "1.2.0",
      "model_name": "LayoutModel",
      "state": {}
     },
     "bf573b67c44b46279c1b40fc5e41d245": {
      "model_module": "@jupyter-widgets/output",
      "model_module_version": "1.0.0",
      "model_name": "OutputModel",
      "state": {
       "layout": "IPY_MODEL_a49d14db8d184476a9cb17022d11e77f",
       "outputs": [
        {
         "data": {
          "image/png": "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\n",
          "text/plain": "<Figure size 576x576 with 1 Axes>"
         },
         "metadata": {},
         "output_type": "display_data"
        }
       ]
      }
     },
     "c3277f3a069e4097a512082eccf5bc40": {
      "model_module": "@jupyter-widgets/output",
      "model_module_version": "1.0.0",
      "model_name": "OutputModel",
      "state": {
       "layout": "IPY_MODEL_ed3fae26902640518fbd72189cfc106d"
      }
     },
     "c3ac009c84d74069b4e4703ee24e2a07": {
      "model_module": "@jupyter-widgets/controls",
      "model_module_version": "1.5.0",
      "model_name": "VBoxModel",
      "state": {
       "_dom_classes": [
        "widget-interact"
       ],
       "children": [
        "IPY_MODEL_9c6972fa57fb4a3d8a38078a163b228a",
        "IPY_MODEL_bf573b67c44b46279c1b40fc5e41d245"
       ],
       "layout": "IPY_MODEL_e9f7755828b04e5693a0675df75819f9"
      }
     },
     "c8b5785d584147d8bb44273a1a7f8b94": {
      "model_module": "@jupyter-widgets/controls",
      "model_module_version": "1.5.0",
      "model_name": "HBoxModel",
      "state": {
       "children": [
        "IPY_MODEL_9d8b924aeee6449f8cbaf64aee378391",
        "IPY_MODEL_adc343b5a4a642ae8aa23cb8dd78f7d1",
        "IPY_MODEL_0ab950b936ff44e093e6cbb77ae5ad95"
       ],
       "layout": "IPY_MODEL_a49e3d2f5340475fba69e7a0c5dce3c6"
      }
     },
     "ceb0160ca84245b181cee85108ba0e15": {
      "model_module": "@jupyter-widgets/base",
      "model_module_version": "1.2.0",
      "model_name": "LayoutModel",
      "state": {}
     },
     "cf113379abbc4244a151ff1575f0af64": {
      "model_module": "@jupyter-widgets/controls",
      "model_module_version": "1.5.0",
      "model_name": "ButtonStyleModel",
      "state": {}
     },
     "d0640e5eb6be40b0b57b08040ca3cdaa": {
      "model_module": "@jupyter-widgets/controls",
      "model_module_version": "1.5.0",
      "model_name": "ButtonModel",
      "state": {
       "description": "Next",
       "layout": "IPY_MODEL_a256f982bf524c5d888bbff74c1c03fe",
       "style": "IPY_MODEL_7a9146eb1a8444a6b33bf5111140a9f2"
      }
     },
     "d32abeee9ce74fc186c69758f885c5b4": {
      "model_module": "@jupyter-widgets/base",
      "model_module_version": "1.2.0",
      "model_name": "LayoutModel",
      "state": {}
     },
     "d4bbf9eb4f9941ceb9d1e347b9ca9186": {
      "model_module": "@jupyter-widgets/controls",
      "model_module_version": "1.5.0",
      "model_name": "ButtonStyleModel",
      "state": {}
     },
     "daf783f8a20c476c89faf47f8d85897b": {
      "model_module": "@jupyter-widgets/controls",
      "model_module_version": "1.5.0",
      "model_name": "IntSliderModel",
      "state": {
       "description": "step",
       "layout": "IPY_MODEL_4be9f7b1505b4689b62930f5033d475d",
       "max": 78,
       "style": "IPY_MODEL_ffe746243e5f44788410db64bcf86df2"
      }
     },
     "df6b01663bc341988a7b3dfaa8bbb62d": {
      "model_module": "@jupyter-widgets/base",
      "model_module_version": "1.2.0",
      "model_name": "LayoutModel",
      "state": {}
     },
     "e04f4c26e1314ba8bffad4e7454d7e07": {
      "model_module": "@jupyter-widgets/base",
      "model_module_version": "1.2.0",
      "model_name": "LayoutModel",
      "state": {}
     },
     "e403dcffaeb141939323ea7d8cdff046": {
      "model_module": "@jupyter-widgets/controls",
      "model_module_version": "1.5.0",
      "model_name": "SliderStyleModel",
      "state": {
       "description_width": ""
      }
     },
     "e7efa1b2486b49389349d087e446f394": {
      "model_module": "@jupyter-widgets/base",
      "model_module_version": "1.2.0",
      "model_name": "LayoutModel",
      "state": {}
     },
     "e84db45bbc664d8ab70cbb21464e2b9a": {
      "model_module": "@jupyter-widgets/controls",
      "model_module_version": "1.5.0",
      "model_name": "ButtonStyleModel",
      "state": {}
     },
     "e9f7755828b04e5693a0675df75819f9": {
      "model_module": "@jupyter-widgets/base",
      "model_module_version": "1.2.0",
      "model_name": "LayoutModel",
      "state": {}
     },
     "eb04673ecda14f3296ea2282f1615e91": {
      "model_module": "@jupyter-widgets/base",
      "model_module_version": "1.2.0",
      "model_name": "LayoutModel",
      "state": {}
     },
     "ebf889fa1a4340e29dc2defd564e6312": {
      "model_module": "@jupyter-widgets/controls",
      "model_module_version": "1.5.0",
      "model_name": "ButtonModel",
      "state": {
       "description": "Prev",
       "layout": "IPY_MODEL_e7efa1b2486b49389349d087e446f394",
       "style": "IPY_MODEL_1101833c34c846fe88e504bfe5b84f30"
      }
     },
     "ec681a8a4b074368a30b0102d11f6e1b": {
      "model_module": "@jupyter-widgets/controls",
      "model_module_version": "1.5.0",
      "model_name": "SliderStyleModel",
      "state": {
       "description_width": ""
      }
     },
     "ed3fae26902640518fbd72189cfc106d": {
      "model_module": "@jupyter-widgets/base",
      "model_module_version": "1.2.0",
      "model_name": "LayoutModel",
      "state": {}
     },
     "ee284cedc9594b8dbc535fc407eb8ab6": {
      "model_module": "@jupyter-widgets/controls",
      "model_module_version": "1.5.0",
      "model_name": "PlayModel",
      "state": {
       "interval": 200,
       "layout": "IPY_MODEL_5aa28bd728cc43fe804d73266e4c3bb4",
       "style": "IPY_MODEL_70fcf306a903463792fb1903a499c31f"
      }
     },
     "ef2a6f8257ad408b9fdeb3b0c47910a0": {
      "model_module": "@jupyter-widgets/controls",
      "model_module_version": "1.5.0",
      "model_name": "VBoxModel",
      "state": {
       "_dom_classes": [
        "widget-interact"
       ],
       "children": [
        "IPY_MODEL_947360be1cb54b8e8889dcb8f5b09253",
        "IPY_MODEL_c3277f3a069e4097a512082eccf5bc40"
       ],
       "layout": "IPY_MODEL_f4157301644e4903a22fce329977cd1e"
      }
     },
     "efdb9fcb29ab4f55a3e55d679f6b8a80": {
      "model_module": "@jupyter-widgets/controls",
      "model_module_version": "1.5.0",
      "model_name": "PlayModel",
      "state": {
       "interval": 200,
       "layout": "IPY_MODEL_792bb7d1f6bf4593bb6233ff423aee1a",
       "style": "IPY_MODEL_00d59d88b2d9460383b3cd76a7da5729"
      }
     },
     "f05a2b5c516f4ce1b160e4ffb48218ff": {
      "model_module": "@jupyter-widgets/controls",
      "model_module_version": "1.5.0",
      "model_name": "DescriptionStyleModel",
      "state": {
       "description_width": ""
      }
     },
     "f0d46a8e651e4387b7254576b5002736": {
      "model_module": "@jupyter-widgets/base",
      "model_module_version": "1.2.0",
      "model_name": "LayoutModel",
      "state": {}
     },
     "f4157301644e4903a22fce329977cd1e": {
      "model_module": "@jupyter-widgets/base",
      "model_module_version": "1.2.0",
      "model_name": "LayoutModel",
      "state": {}
     },
     "f45a0c8a8b9f4796a6d71df167d01ca7": {
      "model_module": "@jupyter-widgets/base",
      "model_module_version": "1.2.0",
      "model_name": "LayoutModel",
      "state": {}
     },
     "f4a2e405288a4f4185e92cbd992e4fc2": {
      "model_module": "@jupyter-widgets/controls",
      "model_module_version": "1.5.0",
      "model_name": "PlayModel",
      "state": {
       "interval": 200,
       "layout": "IPY_MODEL_f0d46a8e651e4387b7254576b5002736",
       "style": "IPY_MODEL_63500f27f7d3436a80822864097eaed4"
      }
     },
     "f68f59e85d3f41e7b85b66663da9452f": {
      "model_module": "@jupyter-widgets/base",
      "model_module_version": "1.2.0",
      "model_name": "LayoutModel",
      "state": {}
     },
     "f94625e052f4429fa04affc78d40d762": {
      "model_module": "@jupyter-widgets/base",
      "model_module_version": "1.2.0",
      "model_name": "LayoutModel",
      "state": {}
     },
     "f97e1ee92104459a937da63517fb5cac": {
      "model_module": "@jupyter-widgets/controls",
      "model_module_version": "1.5.0",
      "model_name": "ButtonStyleModel",
      "state": {}
     },
     "fec66ede96584d6f9b2322ffdfa42fd0": {
      "model_module": "@jupyter-widgets/controls",
      "model_module_version": "1.5.0",
      "model_name": "HBoxModel",
      "state": {
       "children": [
        "IPY_MODEL_f4a2e405288a4f4185e92cbd992e4fc2",
        "IPY_MODEL_3695d707a1c74c5faf9aa1bb9e9db9bc",
        "IPY_MODEL_3694d06e941e4714a7310d1306243a44"
       ],
       "layout": "IPY_MODEL_3c020af9505c4de383313ee39d9ef482"
      }
     },
     "ffe5a0dfccd94085b42110b38d6e4f71": {
      "model_module": "@jupyter-widgets/controls",
      "model_module_version": "1.5.0",
      "model_name": "IntSliderModel",
      "state": {
       "description": "step",
       "layout": "IPY_MODEL_767f0485601841f6a59940d556c33ca9",
       "max": 74,
       "style": "IPY_MODEL_5e5b73dffe4e4f1798d6a9726997c671"
      }
     },
     "ffe746243e5f44788410db64bcf86df2": {
      "model_module": "@jupyter-widgets/controls",
      "model_module_version": "1.5.0",
      "model_name": "SliderStyleModel",
      "state": {
       "description_width": ""
      }
     }
    },
    "version_major": 2,
    "version_minor": 0
   }
  }
 },
 "nbformat": 4,
 "nbformat_minor": 5
}
