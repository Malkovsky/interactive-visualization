{
 "cells": [
  {
   "cell_type": "markdown",
   "metadata": {},
   "source": [
    "# Кратчайшие пути"
   ]
  },
  {
   "cell_type": "markdown",
   "metadata": {},
   "source": [
    "Существуют вариации в зависимости от конкретного случая, но обычно базовой задачей о кратчайших путях считают следующую: дана вершина $s$, найти пути миниальной длины (длина пути -- сумма длин образующих его ребер) до всех остальных вершин. В случае, если длины всех ребер одинаковы, то эта задача решается с помощью базового обхода в ширину, в общем случае его недостаточно, одна есть похожий по простоте метод, на котором основано подавляющее большинство методов нахождения кратчайших путей."
   ]
  },
  {
   "cell_type": "markdown",
   "metadata": {},
   "source": [
    "### Обозначения\n",
    "\\begin{align}\n",
    "u\\rightarrow v~-~& ребро~из~u~в~v \\\\\n",
    "u\\rightsquigarrow v~-~& путь~из~u~в~v \\\\\n",
    "u\\rightsquigarrow z\\rightsquigarrow v~-~& путь~из~u~в~v,~проходящий~через~z \\\\\n",
    "u\\rightsquigarrow z\\rightarrow v~-~& путь~из~u~в~v,~в~котором~последнее~ребро~начинается~в~z \\\\\n",
    "u\\rightarrow z\\rightsquigarrow v~-~& путь~из~u~в~v,~в~котором~первое~ребро~ведет~в~z \\\\\n",
    "u_i\\rightsquigarrow_{i=1}^{n-1} u_{i+1}=u_1\\rightarrow\\ldots\\rightarrow u_n ~-~& путь,~состоящий~из~ребер~u_1\\rightarrow u_2,~u_2\\rightarrow u_3,\\ldots,~u_{n-1}\\rightarrow~u_n. \\\\\n",
    "\\omega(u\\rightarrow v)~-~ & длина~ребра~u\\rightarrow v. \\\\\n",
    "\\omega(u_i\\rightsquigarrow_{i=1}^{n-1} u_{i+1})=\\sum_{i=1}^{n-1}\\omega(u_i\\rightarrow u_{i+1})~-~& длина~пути, состоящего~из~ребер~u_1\\rightarrow u_2,~u_2\\rightarrow u_3,\\ldots,~u_{n-1}\\rightarrow~u_n. \\\\\n",
    "d(u, v)~-~& минимальная~длина~пути~из~u~в~v.\n",
    "\\end{align}\n",
    "Так как путей из одной вершины в другую может быть много, то обозначение $u\\rightsquigarrow v$ предполагает какой-то путь. Если нужно будет уточнить промежуточные вершины в этом пути, то будут использованы правила конкатенации, указанные выше. Длина пути определяется как сумма длин ребер и, соответственно, используется только для путей с явным указанием последовательности ребер."
   ]
  },
  {
   "cell_type": "markdown",
   "metadata": {},
   "source": [
    "## Дерево кратчайших путей и динамическое программирование\n",
    "У кратчайших путей есть одно чрезвычайно важное свойство: если $u_1\\rightarrow\\ldots\\rightarrow u_n$ -- кратчайший путь из $u_1$ в $u_n$, то для всех $1\\leq i<j\\leq n$: $u_i\\rightarrow\\ldots\\rightarrow u_j$ -- кратчайший путь из $u_i$ в $u_j$, иначе говоря любой кусок оптимального пути также является оптимальным, это свойство обычно называют оптимальной подструктурой. Для решений задач с подобным свойством оказался очень успешным метод динамического программирования, который в целом можно описать следующими принципами:\n",
    "* Вместе с $d(u, v)$ вычисляем еще какие-то вспомагательные величины, также обозначающие кратчайшие пути, но обычно дополнительно чем-то ограниченые.\n",
    "* Последовательно вычислять вспомагательные величины начиная с коротких путей постепенно переходя к более длинным.\n",
    "\n",
    "Подробней уже в конкретных алгоритмах. \n",
    "\n",
    "Теперь предположим, что мы каким-то образом научились вычислять $d$ для одной пары вершин или нескольких, обычно нам не только интересно само расстояние, но и сам путь. Возникает следующая проблема: $d(u, v)$ -- это одно число, а вот путь -- это уже последовательность. Вопрос в том, можно компактно представить себе этот набор оптимальных путей? В случае, если нас интересуют оптимальные пути от одной вершины до всех остальных, то это удается сделать довольно изящно, очень сильно помагает оптимальная подструктура: если\n",
    "$$\n",
    "d(u_1, u_n)=\\omega(u_1\\rightarrow\\ldots\\rightarrow u_n),\n",
    "$$\n",
    "то\n",
    "\\begin{align}\n",
    "d(u_1, u_n)=\\omega(u_1\\rightarrow\\ldots\\rightarrow u_n)=\\omega(u_1\\rightarrow\\ldots\\rightarrow u_{n-1})+\\omega(u_{n-1}\\rightarrow u_n)=d(u_1, u_{n-1})+\\omega(u_{n-1}\\rightarrow u_n)\n",
    "\\end{align}\n",
    "По сути мы просто выделили последнее ребро на оптимальном пути. Предположим, что мы как-то умеем выделять оптимальный путь $u_1\\rightsquigarrow u_{n-1}$, тогда чтобы выделить оптимальный путь $u_1\\rightsquigarrow u_{n}$, то достаточно запомнить последнее ребро на этом оптимальном пути $u_{n-1}\\rightarrow u_n$ и дописать его в конец оптимального пути $u_1\\rightsquigarrow u_{n-1}$. Пример этой концепции покажу чуть позже"
   ]
  },
  {
   "cell_type": "markdown",
   "metadata": {},
   "source": [
    "## Сканирующий метод"
   ]
  },
  {
   "cell_type": "markdown",
   "metadata": {},
   "source": [
    "Базовый метод для нахождения кратчайших путей заключается в следующем:\n",
    "\\begin{align}\n",
    "&scan\\_arc(v\\rightarrow u): \\\\\n",
    "&~ ~ ~ ~if (l(v) + \\omega(v\\rightarrow u) < l(u)) \\\\\n",
    "&~ ~ ~ ~ ~ ~ ~ ~l(u)\\leftarrow l(v)+\\omega(v\\rightarrow u) \\\\\n",
    "&~ ~ ~ ~ ~ ~ ~ ~p(u)\\leftarrow v \\\\\n",
    "&~ ~ ~ ~ ~ ~ ~ ~mark(u)\\leftarrow labelled \\\\\n",
    "& \\\\\n",
    "&scan\\_vertex(v): \\\\\n",
    "&~ ~ ~ ~for~u~such~that~v\\rightarrow u~exists: \\\\\n",
    "&~ ~ ~ ~~ ~ ~ ~scan\\_arc(v\\rightarrow u) \\\\\n",
    "&~ ~ ~ ~mark(v)\\leftarrow scanned \\\\\n",
    "& \\\\\n",
    "& l(s)\\leftarrow 0,~mark(s)\\leftarrow labelled \\\\\n",
    "& while~exists~v~with~mark(v)=labelled:\\\\\n",
    "&~ ~ ~ ~scan\\_vertex(v)\n",
    "\\end{align}"
   ]
  },
  {
   "cell_type": "markdown",
   "metadata": {},
   "source": [
    "Здесь $l(v)$ -- это некоторое расстояние до вершины $v$, которое изменяется по ходу работы алгоритма какждый раз немного улучшаясь, $p(v)$ обновляется вместе с $l$ и запоминает предыдущую вершиу на пути, который мы сейчас считаем минимальным, $mark(v)$ -- пометка вершины: labelled означает, что с момента последнего сканирования этой вершины расстояние до нее изменилось (т.е. уменьшилось), а значит нужно её отсканировать заново; scanned означает, что мы отсканировали вершину, попытались с помощью неё уменьшить расстояния до её соседей, и при этом после этого расстояние до этой вершины не изменялось. \n",
    "\n",
    "Большинство известных методов нахождения кратчайших путей являются частыми случаями сканирующего метода и отличаются только тем, как выбирать вершины для сканирования в цикле."
   ]
  },
  {
   "cell_type": "markdown",
   "metadata": {},
   "source": [
    "### Анализ сканирующего метода\n",
    "Основные два утверждения касательно сканирующего метода заключается в том, что\n",
    "* Вне зависимости от выбора вершина для сканирования алгоритм завершается тогда и только тогда, когда в графе нет отрицательных циклов. Это также является необходимым и достаточным условием корректности задачи о кратчайших путях.\n",
    "* По завершению алгоритма для всех $v$ выполняется \n",
    "$$\n",
    "l(v)=d(s, v)\n",
    "$$\n",
    "* По завершению $p(v)$ содежит последнее ребро на кратчайшем пути из $s$ в $v$, соответственно ребра $p(v)\\rightarrow v$ образуют дерево кратчайших путей. \n",
    "\n",
    "\n",
    "Первый факт обосновывается следующим образом: если нет отрицательных циклов, значит минимальный путь существует и является простым (без повторений вершин); промежуточные пути в алгоритме являются простыми, вершина помечается $labelled$ только если путь до неё уменьшился, а значит количество раз, когда мы вызовем сканирование вершины конечно.\n",
    "\n",
    "Обоснования второго факта: для начала заметим, что сканирующий метод обязательно просмотрит все достижимые вершины, так как если запретить повторно сканировать вершину, то сканирущий метод вырождается в BFS. Для недостижимых вершин $l(v)=d(s, v)=+\\infty$. Далее заметим, что так как $l(v)$ соответствует длине какого-то пути $s\\rightsquigarrow v$, то по определению $d$\n",
    "$$\n",
    "l(v)\\geq d(s, v).\n",
    "$$\n",
    "Пусть оптимальный путь $s\\rightsquigarrow$ состоит из вершин $s=u_1, \\ldots, u_k=v$, каждая из этих вершин была просканирована хотя бы раз, а значит по завершению работы алгорима выполняется \n",
    "$$\n",
    "l(u_i)-l(u_{i-1})\\leq \\omega(u_{i-1}\\rightarrow u_i)\n",
    "$$\n",
    "(так как $l(u_i)$ может только уменьшаться и при этом после последнего сканирования $u_{i-1}$ это неравенство выполнялось). Просуммировав эти неравенства получаем\n",
    "$$\n",
    "l(v)=l(v)-l(s)\\leq \\sum_{i=1}^{n}\\omega(u_{i-1}\\rightarrow u_i)=d(s, v).\n",
    "$$\n",
    "Третее утверждение вытекает из второго и того факта, что $p(v)$ всегда обновляется вместе с $l(v)$."
   ]
  },
  {
   "cell_type": "code",
   "execution_count": 1,
   "metadata": {},
   "outputs": [],
   "source": [
    "import random\n",
    "import graphviz\n",
    "from interactive_visualization.graph_utils import Graph, Arc, Node\n",
    "from interactive_visualization.animation_utils import animate_list"
   ]
  },
  {
   "cell_type": "code",
   "execution_count": 2,
   "metadata": {},
   "outputs": [],
   "source": [
    "def mark_labelled(node):\n",
    "    node.SetColor('red')\n",
    "    \n",
    "def mark_scanned(node):\n",
    "    node.SetColor('green')\n",
    "    \n",
    "def process_node(node):\n",
    "    node.SetColor('blue')\n",
    "    \n",
    "def set_previous(arc):\n",
    "    arc.SetColor('green')\n",
    "    \n",
    "def unset_previous(arc):\n",
    "    arc.SetColor('black')\n",
    "\n",
    "def scan_arc(graph, arc, l, p, mark):\n",
    "    if l[arc.end] > l[arc.beginning] + arc.weight:\n",
    "        l[arc.end] = l[arc.beginning] + arc.weight\n",
    "        if p[arc.end] is not None:\n",
    "            unset_previous(p[arc.end])\n",
    "        # Сохраняем arc, а не arc.beginning, чтобы было больше информации\n",
    "        p[arc.end] = arc\n",
    "        set_previous(p[arc.end])\n",
    "        mark[arc.end] = True\n",
    "        mark_labelled(graph.nodes[arc.end])\n",
    "\n",
    "def scan_node(graph, node_id, l, p, mark):\n",
    "    for arc in graph.nodes[node_id].arcs:\n",
    "        scan_arc(graph, arc, l, p, mark)\n",
    "    mark[node_id] = False\n",
    "    mark_scanned(graph.nodes[node_id])\n",
    "    \n",
    "def random_choice(l, mark):\n",
    "    labelled = [node_id for node_id, value in mark.items() if value == True]\n",
    "    if len(labelled) == 0:\n",
    "        return None\n",
    "    return random.choice(labelled)\n",
    "       \n",
    "def base_scanning_method(graph, s, choice_function):\n",
    "    l    = {key: float('Inf') for key in graph.nodes.keys()}\n",
    "    p    = {key: None for key in graph.nodes.keys()}\n",
    "    mark = {key: False for key in graph.nodes.keys()}\n",
    "    \n",
    "    l[s] = 0\n",
    "    mark[s] = True\n",
    "    mark_labelled(graph.nodes[s])\n",
    "    \n",
    "    out_lst = []\n",
    "    \n",
    "    while True:\n",
    "        node_id = choice_function(l, mark)\n",
    "        if node_id is None:\n",
    "            break\n",
    "        process_node(graph.nodes[node_id])\n",
    "        out_lst.append(graph.Visualize(l))\n",
    "        scan_node(graph, node_id, l, p, mark)\n",
    "        out_lst.append(graph.Visualize(l))\n",
    "    return l, p, out_lst"
   ]
  },
  {
   "cell_type": "code",
   "execution_count": 3,
   "metadata": {},
   "outputs": [
    {
     "data": {
      "image/svg+xml": [
       "<?xml version=\"1.0\" encoding=\"UTF-8\" standalone=\"no\"?>\r\n",
       "<!DOCTYPE svg PUBLIC \"-//W3C//DTD SVG 1.1//EN\"\r\n",
       " \"http://www.w3.org/Graphics/SVG/1.1/DTD/svg11.dtd\">\r\n",
       "<!-- Generated by graphviz version 2.44.2~dev.20200826.1453 (20200826.1453)\r\n",
       " -->\r\n",
       "<!-- Pages: 1 -->\r\n",
       "<svg width=\"439pt\" height=\"177pt\"\r\n",
       " viewBox=\"0.00 0.00 439.00 177.00\" xmlns=\"http://www.w3.org/2000/svg\" xmlns:xlink=\"http://www.w3.org/1999/xlink\">\r\n",
       "<g id=\"graph0\" class=\"graph\" transform=\"scale(1 1) rotate(0) translate(4 173)\">\r\n",
       "<polygon fill=\"white\" stroke=\"transparent\" points=\"-4,4 -4,-173 435,-173 435,4 -4,4\"/>\r\n",
       "<!-- 1 -->\r\n",
       "<g id=\"node1\" class=\"node\">\r\n",
       "<title>1</title>\r\n",
       "<ellipse fill=\"none\" stroke=\"black\" cx=\"18\" cy=\"-79\" rx=\"18\" ry=\"18\"/>\r\n",
       "<text text-anchor=\"middle\" x=\"18\" y=\"-75.3\" font-family=\"Times New Roman,serif\" font-size=\"14.00\">1</text>\r\n",
       "</g>\r\n",
       "<!-- 3 -->\r\n",
       "<g id=\"node2\" class=\"node\">\r\n",
       "<title>3</title>\r\n",
       "<ellipse fill=\"none\" stroke=\"black\" cx=\"176\" cy=\"-151\" rx=\"18\" ry=\"18\"/>\r\n",
       "<text text-anchor=\"middle\" x=\"176\" y=\"-147.3\" font-family=\"Times New Roman,serif\" font-size=\"14.00\">3</text>\r\n",
       "</g>\r\n",
       "<!-- 1&#45;&gt;3 -->\r\n",
       "<g id=\"edge1\" class=\"edge\">\r\n",
       "<title>1:&#45;&gt;3:</title>\r\n",
       "<path fill=\"none\" stroke=\"black\" d=\"M34.25,-87.49C40.35,-90.83 47.48,-94.66 54,-98 88.69,-115.74 97.05,-120.98 133,-136 138.05,-138.11 143.51,-140.2 148.78,-142.12\"/>\r\n",
       "<polygon fill=\"black\" stroke=\"black\" points=\"158.49,-145.55 147.56,-146.46 153.78,-143.89 149.06,-142.22 149.06,-142.22 149.06,-142.22 153.78,-143.89 150.57,-137.98 158.49,-145.55 158.49,-145.55\"/>\r\n",
       "<text text-anchor=\"middle\" x=\"97\" y=\"-130.8\" font-family=\"Times New Roman,serif\" font-size=\"14.00\">3</text>\r\n",
       "</g>\r\n",
       "<!-- 4 -->\r\n",
       "<g id=\"node3\" class=\"node\">\r\n",
       "<title>4</title>\r\n",
       "<ellipse fill=\"none\" stroke=\"black\" cx=\"97\" cy=\"-79\" rx=\"18\" ry=\"18\"/>\r\n",
       "<text text-anchor=\"middle\" x=\"97\" y=\"-75.3\" font-family=\"Times New Roman,serif\" font-size=\"14.00\">4</text>\r\n",
       "</g>\r\n",
       "<!-- 1&#45;&gt;4 -->\r\n",
       "<g id=\"edge2\" class=\"edge\">\r\n",
       "<title>1:&#45;&gt;4:</title>\r\n",
       "<path fill=\"none\" stroke=\"black\" d=\"M36.09,-79C45.66,-79 57.82,-79 68.68,-79\"/>\r\n",
       "<polygon fill=\"black\" stroke=\"black\" points=\"78.96,-79 68.96,-83.5 73.96,-79 68.96,-79 68.96,-79 68.96,-79 73.96,-79 68.96,-74.5 78.96,-79 78.96,-79\"/>\r\n",
       "<text text-anchor=\"middle\" x=\"57.5\" y=\"-82.8\" font-family=\"Times New Roman,serif\" font-size=\"14.00\">7</text>\r\n",
       "</g>\r\n",
       "<!-- 5 -->\r\n",
       "<g id=\"node4\" class=\"node\">\r\n",
       "<title>5</title>\r\n",
       "<ellipse fill=\"none\" stroke=\"black\" cx=\"176\" cy=\"-46\" rx=\"18\" ry=\"18\"/>\r\n",
       "<text text-anchor=\"middle\" x=\"176\" y=\"-42.3\" font-family=\"Times New Roman,serif\" font-size=\"14.00\">5</text>\r\n",
       "</g>\r\n",
       "<!-- 1&#45;&gt;5 -->\r\n",
       "<g id=\"edge3\" class=\"edge\">\r\n",
       "<title>1:&#45;&gt;5:</title>\r\n",
       "<path fill=\"none\" stroke=\"black\" d=\"M31.53,-66.71C42.87,-56.53 60.57,-42.81 79,-37 101.87,-29.79 129.21,-33.47 148.85,-38.11\"/>\r\n",
       "<polygon fill=\"black\" stroke=\"black\" points=\"158.62,-40.64 147.81,-42.49 153.78,-39.39 148.94,-38.13 148.94,-38.13 148.94,-38.13 153.78,-39.39 150.07,-33.77 158.62,-40.64 158.62,-40.64\"/>\r\n",
       "<text text-anchor=\"middle\" x=\"97\" y=\"-40.8\" font-family=\"Times New Roman,serif\" font-size=\"14.00\">2</text>\r\n",
       "</g>\r\n",
       "<!-- 2 -->\r\n",
       "<g id=\"node7\" class=\"node\">\r\n",
       "<title>2</title>\r\n",
       "<ellipse fill=\"none\" stroke=\"black\" cx=\"413\" cy=\"-87\" rx=\"18\" ry=\"18\"/>\r\n",
       "<text text-anchor=\"middle\" x=\"413\" y=\"-83.3\" font-family=\"Times New Roman,serif\" font-size=\"14.00\">2</text>\r\n",
       "</g>\r\n",
       "<!-- 3&#45;&gt;2 -->\r\n",
       "<g id=\"edge4\" class=\"edge\">\r\n",
       "<title>3:&#45;&gt;2:</title>\r\n",
       "<path fill=\"none\" stroke=\"black\" d=\"M194.03,-147.99C225.47,-142.31 294.67,-129.19 352,-114 363.28,-111.01 366.27,-110.58 377,-106 380.58,-104.47 384.28,-102.7 387.87,-100.86\"/>\r\n",
       "<polygon fill=\"black\" stroke=\"black\" points=\"396.97,-95.96 390.3,-104.66 392.57,-98.33 388.17,-100.7 388.17,-100.7 388.17,-100.7 392.57,-98.33 386.04,-96.73 396.97,-95.96 396.97,-95.96\"/>\r\n",
       "<text text-anchor=\"middle\" x=\"294.5\" y=\"-131.8\" font-family=\"Times New Roman,serif\" font-size=\"14.00\">5</text>\r\n",
       "</g>\r\n",
       "<!-- 4&#45;&gt;3 -->\r\n",
       "<g id=\"edge5\" class=\"edge\">\r\n",
       "<title>4:&#45;&gt;3:</title>\r\n",
       "<path fill=\"none\" stroke=\"black\" d=\"M110.71,-90.89C122.64,-102.04 140.68,-118.91 154.61,-131.94\"/>\r\n",
       "<polygon fill=\"black\" stroke=\"black\" points=\"162.27,-139.09 151.89,-135.55 158.61,-135.68 154.96,-132.26 154.96,-132.26 154.96,-132.26 158.61,-135.68 158.04,-128.98 162.27,-139.09 162.27,-139.09\"/>\r\n",
       "<text text-anchor=\"middle\" x=\"136.5\" y=\"-120.8\" font-family=\"Times New Roman,serif\" font-size=\"14.00\">2</text>\r\n",
       "</g>\r\n",
       "<!-- 4&#45;&gt;5 -->\r\n",
       "<g id=\"edge6\" class=\"edge\">\r\n",
       "<title>4:&#45;&gt;5:</title>\r\n",
       "<path fill=\"none\" stroke=\"black\" d=\"M113.95,-72.16C124.28,-67.74 137.94,-61.88 149.73,-56.83\"/>\r\n",
       "<polygon fill=\"black\" stroke=\"black\" points=\"159.07,-52.83 151.65,-60.9 154.47,-54.8 149.87,-56.77 149.87,-56.77 149.87,-56.77 154.47,-54.8 148.1,-52.63 159.07,-52.83 159.07,-52.83\"/>\r\n",
       "<text text-anchor=\"middle\" x=\"136.5\" y=\"-66.8\" font-family=\"Times New Roman,serif\" font-size=\"14.00\">3</text>\r\n",
       "</g>\r\n",
       "<!-- 4&#45;&gt;2 -->\r\n",
       "<g id=\"edge7\" class=\"edge\">\r\n",
       "<title>4:&#45;&gt;2:</title>\r\n",
       "<path fill=\"none\" stroke=\"black\" d=\"M109.2,-65.6C128.29,-43.06 165.95,0 175,0 175,0 175,0 335,0 367.91,0 390.15,-35.34 401.95,-60.97\"/>\r\n",
       "<polygon fill=\"black\" stroke=\"black\" points=\"405.96,-70.23 397.85,-62.84 403.97,-65.64 401.98,-61.05 401.98,-61.05 401.98,-61.05 403.97,-65.64 406.11,-59.26 405.96,-70.23 405.96,-70.23\"/>\r\n",
       "<text text-anchor=\"middle\" x=\"255\" y=\"-3.8\" font-family=\"Times New Roman,serif\" font-size=\"14.00\">2</text>\r\n",
       "</g>\r\n",
       "<!-- 6 -->\r\n",
       "<g id=\"node5\" class=\"node\">\r\n",
       "<title>6</title>\r\n",
       "<ellipse fill=\"none\" stroke=\"black\" cx=\"255\" cy=\"-87\" rx=\"18\" ry=\"18\"/>\r\n",
       "<text text-anchor=\"middle\" x=\"255\" y=\"-83.3\" font-family=\"Times New Roman,serif\" font-size=\"14.00\">6</text>\r\n",
       "</g>\r\n",
       "<!-- 5&#45;&gt;6 -->\r\n",
       "<g id=\"edge8\" class=\"edge\">\r\n",
       "<title>5:&#45;&gt;6:</title>\r\n",
       "<path fill=\"none\" stroke=\"black\" d=\"M192.21,-54.1C202.97,-59.83 217.61,-67.62 229.94,-74.19\"/>\r\n",
       "<polygon fill=\"black\" stroke=\"black\" points=\"238.82,-78.92 227.88,-78.19 234.41,-76.57 229.99,-74.22 229.99,-74.22 229.99,-74.22 234.41,-76.57 232.11,-70.24 238.82,-78.92 238.82,-78.92\"/>\r\n",
       "<text text-anchor=\"middle\" x=\"215.5\" y=\"-70.8\" font-family=\"Times New Roman,serif\" font-size=\"14.00\">2</text>\r\n",
       "</g>\r\n",
       "<!-- 6&#45;&gt;4 -->\r\n",
       "<g id=\"edge9\" class=\"edge\">\r\n",
       "<title>6:&#45;&gt;4:</title>\r\n",
       "<path fill=\"none\" stroke=\"black\" d=\"M236.83,-86.7C229.22,-86.53 220.16,-86.3 212,-86 176.87,-84.69 168.07,-84.39 133,-82 130.44,-81.83 127.79,-81.63 125.13,-81.42\"/>\r\n",
       "<polygon fill=\"black\" stroke=\"black\" points=\"115.08,-80.58 125.42,-76.93 120.06,-81 125.05,-81.41 125.05,-81.41 125.05,-81.41 120.06,-81 124.67,-85.9 115.08,-80.58 115.08,-80.58\"/>\r\n",
       "<text text-anchor=\"middle\" x=\"176\" y=\"-88.8\" font-family=\"Times New Roman,serif\" font-size=\"14.00\">2</text>\r\n",
       "</g>\r\n",
       "<!-- 7 -->\r\n",
       "<g id=\"node6\" class=\"node\">\r\n",
       "<title>7</title>\r\n",
       "<ellipse fill=\"none\" stroke=\"black\" cx=\"334\" cy=\"-87\" rx=\"18\" ry=\"18\"/>\r\n",
       "<text text-anchor=\"middle\" x=\"334\" y=\"-83.3\" font-family=\"Times New Roman,serif\" font-size=\"14.00\">7</text>\r\n",
       "</g>\r\n",
       "<!-- 6&#45;&gt;7 -->\r\n",
       "<g id=\"edge10\" class=\"edge\">\r\n",
       "<title>6:&#45;&gt;7:</title>\r\n",
       "<path fill=\"none\" stroke=\"black\" d=\"M273.09,-87C282.66,-87 294.82,-87 305.68,-87\"/>\r\n",
       "<polygon fill=\"black\" stroke=\"black\" points=\"315.96,-87 305.96,-91.5 310.96,-87 305.96,-87 305.96,-87 305.96,-87 310.96,-87 305.96,-82.5 315.96,-87 315.96,-87\"/>\r\n",
       "<text text-anchor=\"middle\" x=\"294.5\" y=\"-90.8\" font-family=\"Times New Roman,serif\" font-size=\"14.00\">1</text>\r\n",
       "</g>\r\n",
       "<!-- 7&#45;&gt;2 -->\r\n",
       "<g id=\"edge11\" class=\"edge\">\r\n",
       "<title>7:&#45;&gt;2:</title>\r\n",
       "<path fill=\"none\" stroke=\"black\" d=\"M352.09,-87C361.66,-87 373.82,-87 384.68,-87\"/>\r\n",
       "<polygon fill=\"black\" stroke=\"black\" points=\"394.96,-87 384.96,-91.5 389.96,-87 384.96,-87 384.96,-87 384.96,-87 389.96,-87 384.96,-82.5 394.96,-87 394.96,-87\"/>\r\n",
       "<text text-anchor=\"middle\" x=\"373.5\" y=\"-90.8\" font-family=\"Times New Roman,serif\" font-size=\"14.00\">7</text>\r\n",
       "</g>\r\n",
       "</g>\r\n",
       "</svg>\r\n"
      ],
      "text/plain": [
       "<graphviz.dot.Digraph at 0x1faddd9f760>"
      ]
     },
     "execution_count": 3,
     "metadata": {},
     "output_type": "execute_result"
    }
   ],
   "source": [
    "arcs = [\n",
    "    Arc(1, 3, 3),\n",
    "    Arc(1, 4, 7),\n",
    "    Arc(4, 3, 2),\n",
    "    Arc(4, 5, 3),\n",
    "    Arc(1, 5, 2),\n",
    "    Arc(6, 4, 2),\n",
    "    Arc(5, 6, 2),\n",
    "    Arc(6, 7, 1),\n",
    "    Arc(7, 2, 7),\n",
    "    Arc(4, 2, 2),\n",
    "    Arc(3, 2, 5)\n",
    "]\n",
    "Graph(arcs).Visualize()"
   ]
  },
  {
   "cell_type": "code",
   "execution_count": 4,
   "metadata": {},
   "outputs": [],
   "source": [
    "graph = Graph(arcs)\n",
    "random_scanning_shortest_path_lst = []\n",
    "l, p, random_scanning_shortest_path_lst = \\\n",
    "    base_scanning_method(graph, 1, random_choice)"
   ]
  },
  {
   "cell_type": "code",
   "execution_count": 5,
   "metadata": {},
   "outputs": [
    {
     "data": {
      "application/vnd.jupyter.widget-view+json": {
       "model_id": "aa71461b384b4e30b50c2daef848f1e0",
       "version_major": 2,
       "version_minor": 0
      },
      "text/plain": [
       "HBox(children=(Button(description='Prev', style=ButtonStyle()), Button(description='Next', style=ButtonStyle()…"
      ]
     },
     "metadata": {},
     "output_type": "display_data"
    },
    {
     "data": {
      "application/vnd.jupyter.widget-view+json": {
       "model_id": "f1a4a081e24e41a5b42b72a8ecfee827",
       "version_major": 2,
       "version_minor": 0
      },
      "text/plain": [
       "interactive(children=(IntSlider(value=0, description='step', max=15), Output()), _dom_classes=('widget-interac…"
      ]
     },
     "metadata": {},
     "output_type": "display_data"
    }
   ],
   "source": [
    "animate_list(random_scanning_shortest_path_lst);"
   ]
  },
  {
   "cell_type": "markdown",
   "metadata": {},
   "source": [
    "### Кратчайшие пути на ациклических графах\n",
    "В случае, если в графе нет не только отрицательных циклов, но вообще любых других, то возникает интересная ситуация: если обрабатывать вершины в топологическом порядке, то каждая вершина будет просканирована ровно один раз. Доказать это очень просто: если в графе допустим топологический порядок, то при сканировании вершины $v$ расстояние обновится только для тех вершин, которые в топологическом порядке идут позже $v$.\n",
    "\n",
    "Если вершины в графе пронумерованы в топологическом порядке, то в указанной выше процедуре для этого достаточно будет просто вместо случайной вершины выбирать наименьшую по номеру"
   ]
  },
  {
   "cell_type": "code",
   "execution_count": 6,
   "metadata": {},
   "outputs": [],
   "source": [
    "def least_id_choice(l, mark):\n",
    "    labelled = [node_id for node_id, value in mark.items() if value == True]\n",
    "    if len(labelled) == 0:\n",
    "        return None\n",
    "    return min(labelled)"
   ]
  },
  {
   "cell_type": "code",
   "execution_count": 7,
   "metadata": {},
   "outputs": [
    {
     "data": {
      "application/vnd.jupyter.widget-view+json": {
       "model_id": "f3b5ad254b1245b7b6e7699440035e2f",
       "version_major": 2,
       "version_minor": 0
      },
      "text/plain": [
       "HBox(children=(Button(description='Prev', style=ButtonStyle()), Button(description='Next', style=ButtonStyle()…"
      ]
     },
     "metadata": {},
     "output_type": "display_data"
    },
    {
     "data": {
      "application/vnd.jupyter.widget-view+json": {
       "model_id": "21c3f4a15662411bb7cb2bf92b9f0107",
       "version_major": 2,
       "version_minor": 0
      },
      "text/plain": [
       "interactive(children=(IntSlider(value=0, description='step', max=11), Output()), _dom_classes=('widget-interac…"
      ]
     },
     "metadata": {},
     "output_type": "display_data"
    }
   ],
   "source": [
    "graph = Graph([\n",
    "    Arc(0, 1, 4),\n",
    "    Arc(0, 2, 2),\n",
    "    Arc(1, 2, 5),\n",
    "    Arc(2, 3, 3),\n",
    "    Arc(1, 4, 10),\n",
    "    Arc(3, 4, 4),\n",
    "    Arc(4, 5, 11)\n",
    "])\n",
    "l, p, topological_scanning_shortest_path_lst = \\\n",
    "    base_scanning_method(graph, 0, least_id_choice)\n",
    "animate_list(topological_scanning_shortest_path_lst);"
   ]
  },
  {
   "cell_type": "markdown",
   "metadata": {},
   "source": [
    "Это один из двух случаев, когда достигается асимптотическая оценка в $\\mathcal{O}(E)$ ($E$ -- количество ребер): во-первых, топологическая сортировка осуществляется обходом в глубину за $\\mathcal{O}(E)$; во-вторых каждая вершины сканируется ровно один раз, а значит какждое ребро также сканируется ровно один раз; в-третьих если вместо выбора минимальной вершины просто итерироваться в по всем вершинам в топологическом порядке пропуская недостижимые, то результат будет тот же, и при этом суммарно на это мы тратим $\\mathcal{O}(V)$ ($V$ -- количество вершин). \n",
    "\n",
    "На практике ациклические графы часто возникают при моделировании каких-либо протекающих во времени событий. Например одним из промежуточных результатов распознавания речи называе \"словные сетки\" -- это граф, в котором вершины помечены временнОй меткой, а на ребрах написано слово и информация об акустическом/языковом правдоподобие; ребра всегда ведут из вершин с меньшей временной отметков в вершину с большей и означают, что на этом интервале с такой-то вероятностью было произнесено такое-то слово. Пути в этом графе соответствуют временному интервалу, начинающемуся от временной отметки первой вершины, заканчивающемуся во временной отметке последней вершины. Forward-backward алгоритмы по сути являются частными случаями нахождения кратчайших путей в ациклическом графа, в том числе и алгоритм Витерби для нахождения наиболее правдоподобной последовательности состояний в марковской цепи."
   ]
  },
  {
   "cell_type": "markdown",
   "metadata": {},
   "source": [
    "### Обход в ширину и алгоритм Дейкстры\n",
    "Второй случай, в котором оказывается возможной минимальная оценка для поиска кратчайших путей -- это случай единичных весов, т.е. когда длины всех ребер одинаковы. С точки зрения сканирующего метода в этом случае можно добиться того, чтобы каждая вершина сканировалась ровно один раз, все, что для этого нужно сделать, а это выбирать для очередного сканирования вершину с минимальным расстоянием."
   ]
  },
  {
   "cell_type": "code",
   "execution_count": 8,
   "metadata": {},
   "outputs": [],
   "source": [
    "def least_distance_choice(l, mark):\n",
    "    labelled = [node_id for node_id, value in mark.items() if value == True]\n",
    "    if len(labelled) == 0:\n",
    "        return None\n",
    "    return min(labelled, key=lambda x: l[x]) "
   ]
  },
  {
   "cell_type": "code",
   "execution_count": 9,
   "metadata": {},
   "outputs": [
    {
     "data": {
      "application/vnd.jupyter.widget-view+json": {
       "model_id": "b266ee498bcd4a35a8a4d0a16994259f",
       "version_major": 2,
       "version_minor": 0
      },
      "text/plain": [
       "HBox(children=(Button(description='Prev', style=ButtonStyle()), Button(description='Next', style=ButtonStyle()…"
      ]
     },
     "metadata": {},
     "output_type": "display_data"
    },
    {
     "data": {
      "application/vnd.jupyter.widget-view+json": {
       "model_id": "e50f0e6ea6fd4dc289b91babee250fab",
       "version_major": 2,
       "version_minor": 0
      },
      "text/plain": [
       "interactive(children=(IntSlider(value=0, description='step', max=13), Output()), _dom_classes=('widget-interac…"
      ]
     },
     "metadata": {},
     "output_type": "display_data"
    }
   ],
   "source": [
    "graph = Graph([\n",
    "    Arc(1, 3, 1),\n",
    "    Arc(1, 4, 1),\n",
    "    Arc(4, 3, 1),\n",
    "    Arc(4, 5, 1),\n",
    "    Arc(1, 5, 1),\n",
    "    Arc(6, 4, 1),\n",
    "    Arc(5, 6, 1),\n",
    "    Arc(6, 7, 1),\n",
    "    Arc(7, 2, 1),\n",
    "    Arc(4, 2, 1),\n",
    "    Arc(3, 2, 1)\n",
    "])\n",
    "l, p, bfs_shortest_path_lst = \\\n",
    "    base_scanning_method(graph, 1, least_distance_choice)\n",
    "animate_list(bfs_shortest_path_lst);"
   ]
  },
  {
   "cell_type": "markdown",
   "metadata": {},
   "source": [
    "На самом деле для того, чтобы при выборе вершины с минимальным расстоянием каждая вершина сканировалась единожды, достаточно более слабого условия -- чтобы в графе не было ребер с отрицательным весом. Ключевое соображение: кратчайший путь до вершины $v$ может проходить по тем вершинам, которые ближе к $s$, чем $v$. Из этого утверждения следует другое, чуть менее очевидное: если мы уже каким-то образом нашли первые $k$ ближайших вершин и посчитали минимальные пути, проходящие только через них, то расстояние до ближайшей из оставшихся вершин посчитано корректно. Если посмотреть на величины значения $l(v)$, которые мы получаем после $k$-ого сканирования (обозначим её за $l(v, k)$), то получится величина минимального пути от $s$ до $v$, имеющая в качестве промежуточных вершин только $k$ ближайших к $s$. Если обозначить за $u(k)$ -- $k$-ую ближайшую вершину к $s$, то мы получаем следующее соотношение\n",
    "$$\n",
    "l(v, k)=\\min\\{l(v, k-1), l(u(k), k-1)+\\omega(u(k)\\rightarrow v)\\}\n",
    "$$\n",
    "Левая величина в минимуме -- это минимум среди путей, которые используют $u(k)$, правая -- минимум среди путей, которые не используют $u(k)$."
   ]
  },
  {
   "cell_type": "code",
   "execution_count": 10,
   "metadata": {},
   "outputs": [
    {
     "data": {
      "application/vnd.jupyter.widget-view+json": {
       "model_id": "1c475fca0e72489289bbdc25291dbee9",
       "version_major": 2,
       "version_minor": 0
      },
      "text/plain": [
       "HBox(children=(Button(description='Prev', style=ButtonStyle()), Button(description='Next', style=ButtonStyle()…"
      ]
     },
     "metadata": {},
     "output_type": "display_data"
    },
    {
     "data": {
      "application/vnd.jupyter.widget-view+json": {
       "model_id": "2e58a1a5b26a403fa5faa597963c3277",
       "version_major": 2,
       "version_minor": 0
      },
      "text/plain": [
       "interactive(children=(IntSlider(value=0, description='step', max=13), Output()), _dom_classes=('widget-interac…"
      ]
     },
     "metadata": {},
     "output_type": "display_data"
    }
   ],
   "source": [
    "graph = Graph(arcs)\n",
    "l, p, dijkstra_shortest_path_lst = \\\n",
    "    base_scanning_method(graph, 1, least_distance_choice)\n",
    "animate_list(dijkstra_shortest_path_lst);"
   ]
  },
  {
   "cell_type": "markdown",
   "metadata": {},
   "source": [
    "В общем виде этот метод впервые этого методы обосновал Эдсгер Дейкстра. Ключевым вопросом в этом алгоритме является нахождение минимальной вершины для сканирования. В случае, если все длины одинаковы, то это можно сделать обычной очередью: сохраняем в очереди все вершины с пометкой $labelled$, при сканировании ребра помещаем вершину в конец очереди если расстояние уменьшилось, при выборе новой вершины берем первую из очереди. В общем то в этом случае алгоритм вырождается в обход в глубину.\n",
    "\n",
    "В общем случае для работы с вершинами, помеченными $labelled$ необходима специальная структура данных, позволяющая быстро делать следующие операции:\n",
    "* Добавить вершину в множество\n",
    "* Обновить расстояние для вершины из множества\n",
    "* Найти миимальную по расстоянию вершину из множества\n",
    "* Удалить вершину из множества\n",
    "\n",
    "Одним из простых способов реализовать все эти операции -- использовании бинарной кучи или бинарного дерева, все операции выполняются за $\\mathcal{O}(\\log N)$, где $N$ -- размер множества, что ведет к общей сложности алгоритма в $\\mathcal{O}(E\\log V)$.\n",
    "\n",
    "Наиболее асимптотически оптимальный известный алгоритм использует [кучу фибоначчи](https://en.wikipedia.org/wiki/Fibonacci_heap), которая умеет делать первые три операции за $\\mathcal{O}(1)$ и последнюю за $\\mathcal{O}(\\log N)$, что ведет к общей сложности $\\mathcal{O}(E+V\\log V)$"
   ]
  },
  {
   "cell_type": "markdown",
   "metadata": {},
   "source": [
    "К сожалению все описанные рассуждения ломаются, если в графе возникают ребра отрицательной длины, например единственность сканирования пропадает например на следующем примере"
   ]
  },
  {
   "cell_type": "code",
   "execution_count": 11,
   "metadata": {},
   "outputs": [
    {
     "data": {
      "application/vnd.jupyter.widget-view+json": {
       "model_id": "171ce7074634470ea289bfe658edd6ab",
       "version_major": 2,
       "version_minor": 0
      },
      "text/plain": [
       "HBox(children=(Button(description='Prev', style=ButtonStyle()), Button(description='Next', style=ButtonStyle()…"
      ]
     },
     "metadata": {},
     "output_type": "display_data"
    },
    {
     "data": {
      "application/vnd.jupyter.widget-view+json": {
       "model_id": "03780356b78742a298a3697cbb23f478",
       "version_major": 2,
       "version_minor": 0
      },
      "text/plain": [
       "interactive(children=(IntSlider(value=0, description='step', max=9), Output()), _dom_classes=('widget-interact…"
      ]
     },
     "metadata": {},
     "output_type": "display_data"
    }
   ],
   "source": [
    "graph = Graph([\n",
    "    Arc(1, 2, 2),\n",
    "    Arc(1, 3, 3),\n",
    "    Arc(3, 2, -2),\n",
    "    Arc(2, 4, 1),\n",
    "])\n",
    "l, p, dijkstra_shortest_path_lst = \\\n",
    "    base_scanning_method(graph, 1, least_distance_choice)\n",
    "animate_list(dijkstra_shortest_path_lst);"
   ]
  },
  {
   "cell_type": "markdown",
   "metadata": {},
   "source": [
    "### Алгоритм Форда-Беллмана\n",
    "\n",
    "Частично этот алгоритм похож на перидыдущий тем, что по сути является просто применением обычной очереди для общего случая. Обычно алгоритм Форда-Беллмана имеет следующий вид"
   ]
  },
  {
   "cell_type": "code",
   "execution_count": 12,
   "metadata": {},
   "outputs": [],
   "source": [
    "def ford_bellman(graph, s):\n",
    "    l    = {key: float('Inf') for key in graph.nodes.keys()}\n",
    "    p    = {key: None for key in graph.nodes.keys()}\n",
    "    mark = {key: False for key in graph.nodes.keys()}\n",
    "    \n",
    "    l[s] = 0\n",
    "    mark[s] = True\n",
    "    mark_labelled(graph.nodes[s])\n",
    "    \n",
    "    out_lst = [graph.Visualize(l)]\n",
    "    \n",
    "    for k in range(len(graph.nodes)-1):\n",
    "        for node in graph.nodes.values():\n",
    "            scan_node(node)\n",
    "        out_lst.append(graph.Visualize(l))\n",
    "    return l, p, out_lst "
   ]
  },
  {
   "cell_type": "markdown",
   "metadata": {},
   "source": [
    "Здесь я специально сделал так, что внешний цикл итерируется фиксированное число раз -- $V-1$, при этом переменная $i$ не используется. Внутренний цикл сканирует каждую вершину по одному разу, это эквивалентно тому, чтобы просканировать по одному разу каждое ребро. Оказывается, что такого количества проходов всегда достаточно, даже если в графе есть отрицательные ребра. Идея следующая: давайте рассмотрим величину $l(v, k)$ -- минимальная длина пути от $s$ до $v$, состоящего из не более, чем $k$ ребер, тогда для неё справедливо следующее соотношение\n",
    "$$\n",
    "l(v, k)=\\min \\{l(v, k-1), \\min_u[l(u, k-1)+\\omega(u\\rightarrow v)]\\}.\n",
    "$$\n",
    "Иначе говоря, либо оптимальный путь использует меньше, чем $k$ ребер, либо из него можно выделить последнее ребро, а оставшаяся часть использует $k-1$ ребро."
   ]
  },
  {
   "cell_type": "markdown",
   "metadata": {},
   "source": [
    "Один проход по всем ребрам гарантирует нам переход от $l(v, k-1)$ к $l(v, k)$, однако из-за того, что мы не считаем непосредственно эти величины, а храним их в одном массиве $l$, то получается что на итерации $k$ у нас обычно чуть лучше, чем $l(v, k)$, охватывают пути не только длины $k$, но гарантировать мы может охват только таких путей. Наконец, после $V-1$ итераций мы обязательно охватим все простые пути. Если же оказалось, что после $V-1$ итерации сканирование ребер продолжит уменьшать вес, то в графе есть отрицательный цикл. Этот факт позволяет использовать Алгоритм Форда-Беллмана для нахождения отрицательных циклов.\n",
    "\n",
    "Возвращаясь к сканирующему методу: мы можем спокойно пропускать в цикле вершины, которые помечены $scanned$. С точки зрения вызовов $scan\\_node$ это будет эквивалентно тому, чтобы использовать в сканирующем методе обычную очередь, но при этом использование очереди эффективнее."
   ]
  },
  {
   "cell_type": "markdown",
   "metadata": {},
   "source": [
    "# Примеры из МО\n",
    "### Алгоритм Витерби\n",
    "Одна из основных задач для марковских цепей заключается в том, чтобы найти последовательность состояний в марковской цепи наиболее правдоподобно соответствующую некоторой последовательности наблюдений\n",
    "$$\n",
    "H(O)=argmax_{v=\\{v_0, \\ldots, v_n\\}}\\prod_{i=1}^nP(v_{i-1}\\rightarrow v_i~|~O_i)\n",
    "$$\n",
    "Например в распознавании речи $P(u\\rightarrow v~|~O)$ -- это акустическая модель, классифицирующая кусок звука по нескольким языковым единицам, например фонемам. Из наиболее правдоподобной последовательности состояний можно извлечь последовательность фонем и в конце концов последовательность слов.\n",
    "\n",
    "Если немного переписать величину выше, можно получить в точности задачу о кратчайшем пути\n",
    "$$\n",
    "argmax_{v=\\{v_0, \\ldots, v_n\\}}\\prod_{i=1}^nP(v_{i-1}\\rightarrow v_i~|~O_i)=argmax_{v=\\{v_0, \\ldots, v_n\\}}\\sum_{i=1}^n\\mathcal \\log{P}(v_{i-1}\\rightarrow v_i~|~O_i)=argmin_{v=\\{v_0, \\ldots, v_n\\}}\\sum_{i=1}^n(-\\log P(v_{i-1}\\rightarrow v_i~|~O_i))\n",
    "$$\n",
    "Стоит отметить, если $P$ -- вероятность, то что $-\\log P\\geq 0$, что, как мы уже обсудили, имеет значение для кратчайших путей, но не в этом случае.\n",
    "\n",
    "Пока что мы перешли от умножения к сложению, и от максимума к минимуму, но мы пока еще не получили задачу о кратчайшем пути: пока что у нас задача нахождения минимального пути, содержащую фиксированное число переходов, котором веса ребер зависят от времени. Эта задачу можно свести к обычной задаче о кратчачйшем пути на так расгиренном графе как на следующих примерах."
   ]
  },
  {
   "cell_type": "code",
   "execution_count": 13,
   "metadata": {},
   "outputs": [
    {
     "data": {
      "image/svg+xml": [
       "<?xml version=\"1.0\" encoding=\"UTF-8\" standalone=\"no\"?>\r\n",
       "<!DOCTYPE svg PUBLIC \"-//W3C//DTD SVG 1.1//EN\"\r\n",
       " \"http://www.w3.org/Graphics/SVG/1.1/DTD/svg11.dtd\">\r\n",
       "<!-- Generated by graphviz version 2.44.2~dev.20200826.1453 (20200826.1453)\r\n",
       " -->\r\n",
       "<!-- Pages: 1 -->\r\n",
       "<svg width=\"188pt\" height=\"85pt\"\r\n",
       " viewBox=\"0.00 0.00 188.00 85.00\" xmlns=\"http://www.w3.org/2000/svg\" xmlns:xlink=\"http://www.w3.org/1999/xlink\">\r\n",
       "<g id=\"graph0\" class=\"graph\" transform=\"scale(1 1) rotate(0) translate(4 81)\">\r\n",
       "<polygon fill=\"white\" stroke=\"transparent\" points=\"-4,4 -4,-81 184,-81 184,4 -4,4\"/>\r\n",
       "<!-- 0 -->\r\n",
       "<g id=\"node1\" class=\"node\">\r\n",
       "<title>0</title>\r\n",
       "<ellipse fill=\"none\" stroke=\"black\" cx=\"18\" cy=\"-18\" rx=\"18\" ry=\"18\"/>\r\n",
       "<text text-anchor=\"middle\" x=\"18\" y=\"-14.3\" font-family=\"Times New Roman,serif\" font-size=\"14.00\">0</text>\r\n",
       "</g>\r\n",
       "<!-- 0&#45;&gt;0 -->\r\n",
       "<g id=\"edge2\" class=\"edge\">\r\n",
       "<title>0:&#45;&gt;0:</title>\r\n",
       "<path fill=\"none\" stroke=\"black\" d=\"M6.24,-32.04C1.85,-42.91 5.77,-54 18,-54 26.41,-54 30.89,-48.76 31.44,-41.95\"/>\r\n",
       "<polygon fill=\"black\" stroke=\"black\" points=\"29.76,-32.04 35.87,-41.15 30.59,-36.97 31.43,-41.9 31.43,-41.9 31.43,-41.9 30.59,-36.97 27,-42.65 29.76,-32.04 29.76,-32.04\"/>\r\n",
       "</g>\r\n",
       "<!-- 1 -->\r\n",
       "<g id=\"node2\" class=\"node\">\r\n",
       "<title>1</title>\r\n",
       "<ellipse fill=\"none\" stroke=\"black\" cx=\"90\" cy=\"-41\" rx=\"18\" ry=\"18\"/>\r\n",
       "<text text-anchor=\"middle\" x=\"90\" y=\"-37.3\" font-family=\"Times New Roman,serif\" font-size=\"14.00\">1</text>\r\n",
       "</g>\r\n",
       "<!-- 0&#45;&gt;1 -->\r\n",
       "<g id=\"edge1\" class=\"edge\">\r\n",
       "<title>0:&#45;&gt;1:</title>\r\n",
       "<path fill=\"none\" stroke=\"black\" d=\"M35.24,-23.33C43.42,-26.02 53.55,-29.35 62.8,-32.39\"/>\r\n",
       "<polygon fill=\"black\" stroke=\"black\" points=\"72.37,-35.53 61.46,-36.69 67.62,-33.97 62.87,-32.41 62.87,-32.41 62.87,-32.41 67.62,-33.97 64.27,-28.14 72.37,-35.53 72.37,-35.53\"/>\r\n",
       "</g>\r\n",
       "<!-- 1&#45;&gt;1 -->\r\n",
       "<g id=\"edge4\" class=\"edge\">\r\n",
       "<title>1:&#45;&gt;1:</title>\r\n",
       "<path fill=\"none\" stroke=\"black\" d=\"M78.24,-55.04C73.85,-65.91 77.77,-77 90,-77 98.41,-77 102.89,-71.76 103.44,-64.95\"/>\r\n",
       "<polygon fill=\"black\" stroke=\"black\" points=\"101.76,-55.04 107.87,-64.15 102.59,-59.97 103.43,-64.9 103.43,-64.9 103.43,-64.9 102.59,-59.97 99,-65.65 101.76,-55.04 101.76,-55.04\"/>\r\n",
       "</g>\r\n",
       "<!-- 2 -->\r\n",
       "<g id=\"node3\" class=\"node\">\r\n",
       "<title>2</title>\r\n",
       "<ellipse fill=\"none\" stroke=\"black\" cx=\"162\" cy=\"-18\" rx=\"18\" ry=\"18\"/>\r\n",
       "<text text-anchor=\"middle\" x=\"162\" y=\"-14.3\" font-family=\"Times New Roman,serif\" font-size=\"14.00\">2</text>\r\n",
       "</g>\r\n",
       "<!-- 1&#45;&gt;2 -->\r\n",
       "<g id=\"edge3\" class=\"edge\">\r\n",
       "<title>1:&#45;&gt;2:</title>\r\n",
       "<path fill=\"none\" stroke=\"black\" d=\"M107.24,-35.67C115.42,-32.98 125.55,-29.65 134.8,-26.61\"/>\r\n",
       "<polygon fill=\"black\" stroke=\"black\" points=\"144.37,-23.47 136.27,-30.86 139.62,-25.03 134.87,-26.59 134.87,-26.59 134.87,-26.59 139.62,-25.03 133.46,-22.31 144.37,-23.47 144.37,-23.47\"/>\r\n",
       "</g>\r\n",
       "<!-- 2&#45;&gt;0 -->\r\n",
       "<g id=\"edge5\" class=\"edge\">\r\n",
       "<title>2:&#45;&gt;0:</title>\r\n",
       "<path fill=\"none\" stroke=\"black\" d=\"M143.83,-16.38C133.47,-15.48 119.99,-14.45 108,-14 92.01,-13.4 87.99,-13.4 72,-14 63.67,-14.31 54.61,-14.91 46.38,-15.54\"/>\r\n",
       "<polygon fill=\"black\" stroke=\"black\" points=\"36.17,-16.38 45.77,-11.07 41.15,-15.97 46.13,-15.56 46.13,-15.56 46.13,-15.56 41.15,-15.97 46.5,-20.04 36.17,-16.38 36.17,-16.38\"/>\r\n",
       "</g>\r\n",
       "<!-- 2&#45;&gt;2 -->\r\n",
       "<g id=\"edge6\" class=\"edge\">\r\n",
       "<title>2:&#45;&gt;2:</title>\r\n",
       "<path fill=\"none\" stroke=\"black\" d=\"M150.24,-32.04C145.85,-42.91 149.77,-54 162,-54 170.41,-54 174.89,-48.76 175.44,-41.95\"/>\r\n",
       "<polygon fill=\"black\" stroke=\"black\" points=\"173.76,-32.04 179.87,-41.15 174.59,-36.97 175.43,-41.9 175.43,-41.9 175.43,-41.9 174.59,-36.97 171,-42.65 173.76,-32.04 173.76,-32.04\"/>\r\n",
       "</g>\r\n",
       "</g>\r\n",
       "</svg>\r\n"
      ],
      "text/plain": [
       "<graphviz.dot.Digraph at 0x1fadde2b700>"
      ]
     },
     "execution_count": 13,
     "metadata": {},
     "output_type": "execute_result"
    }
   ],
   "source": [
    "graph = Graph([\n",
    "    Arc(0, 1),\n",
    "    Arc(1, 2), \n",
    "    Arc(2, 0),\n",
    "    Arc(1, 1),\n",
    "    Arc(2, 2),\n",
    "    Arc(0, 0)\n",
    "])\n",
    "graph.Visualize()"
   ]
  },
  {
   "cell_type": "code",
   "execution_count": 14,
   "metadata": {},
   "outputs": [
    {
     "data": {
      "image/svg+xml": [
       "<?xml version=\"1.0\" encoding=\"UTF-8\" standalone=\"no\"?>\r\n",
       "<!DOCTYPE svg PUBLIC \"-//W3C//DTD SVG 1.1//EN\"\r\n",
       " \"http://www.w3.org/Graphics/SVG/1.1/DTD/svg11.dtd\">\r\n",
       "<!-- Generated by graphviz version 2.44.2~dev.20200826.1453 (20200826.1453)\r\n",
       " -->\r\n",
       "<!-- Pages: 1 -->\r\n",
       "<svg width=\"370pt\" height=\"215pt\"\r\n",
       " viewBox=\"0.00 0.00 369.99 215.00\" xmlns=\"http://www.w3.org/2000/svg\" xmlns:xlink=\"http://www.w3.org/1999/xlink\">\r\n",
       "<g id=\"graph0\" class=\"graph\" transform=\"scale(1 1) rotate(0) translate(4 211)\">\r\n",
       "<polygon fill=\"white\" stroke=\"transparent\" points=\"-4,4 -4,-211 365.99,-211 365.99,4 -4,4\"/>\r\n",
       "<g id=\"clust1\" class=\"cluster\">\r\n",
       "<title>cluster_t=0</title>\r\n",
       "<polygon fill=\"none\" stroke=\"black\" points=\"8,-12 8,-195 60,-195 60,-12 8,-12\"/>\r\n",
       "<text text-anchor=\"middle\" x=\"34\" y=\"-179.8\" font-family=\"Times New Roman,serif\" font-size=\"14.00\">t=0</text>\r\n",
       "</g>\r\n",
       "<g id=\"clust2\" class=\"cluster\">\r\n",
       "<title>cluster_t=1</title>\r\n",
       "<polygon fill=\"none\" stroke=\"black\" points=\"80,-12 80,-195 132,-195 132,-12 80,-12\"/>\r\n",
       "<text text-anchor=\"middle\" x=\"106\" y=\"-179.8\" font-family=\"Times New Roman,serif\" font-size=\"14.00\">t=1</text>\r\n",
       "</g>\r\n",
       "<g id=\"clust3\" class=\"cluster\">\r\n",
       "<title>cluster_t=2</title>\r\n",
       "<polygon fill=\"none\" stroke=\"black\" points=\"152,-12 152,-195 204,-195 204,-12 152,-12\"/>\r\n",
       "<text text-anchor=\"middle\" x=\"178\" y=\"-179.8\" font-family=\"Times New Roman,serif\" font-size=\"14.00\">t=2</text>\r\n",
       "</g>\r\n",
       "<g id=\"clust4\" class=\"cluster\">\r\n",
       "<title>cluster_t=3</title>\r\n",
       "<polygon fill=\"none\" stroke=\"black\" points=\"224,-8 224,-196 279,-196 279,-8 224,-8\"/>\r\n",
       "<text text-anchor=\"middle\" x=\"251.5\" y=\"-180.8\" font-family=\"Times New Roman,serif\" font-size=\"14.00\">t=3</text>\r\n",
       "</g>\r\n",
       "<g id=\"clust5\" class=\"cluster\">\r\n",
       "<title>cluster_t=4</title>\r\n",
       "<polygon fill=\"none\" stroke=\"black\" points=\"299,-8 299,-199 353.99,-199 353.99,-8 299,-8\"/>\r\n",
       "<text text-anchor=\"middle\" x=\"326.49\" y=\"-183.8\" font-family=\"Times New Roman,serif\" font-size=\"14.00\">t=4</text>\r\n",
       "</g>\r\n",
       "<!-- 0 -->\r\n",
       "<g id=\"node1\" class=\"node\">\r\n",
       "<title>0</title>\r\n",
       "<ellipse fill=\"none\" stroke=\"black\" cx=\"34\" cy=\"-146\" rx=\"18\" ry=\"18\"/>\r\n",
       "<text text-anchor=\"middle\" x=\"34\" y=\"-142.3\" font-family=\"Times New Roman,serif\" font-size=\"14.00\">0</text>\r\n",
       "</g>\r\n",
       "<!-- 3 -->\r\n",
       "<g id=\"node4\" class=\"node\">\r\n",
       "<title>3</title>\r\n",
       "<ellipse fill=\"none\" stroke=\"black\" cx=\"106\" cy=\"-146\" rx=\"18\" ry=\"18\"/>\r\n",
       "<text text-anchor=\"middle\" x=\"106\" y=\"-142.3\" font-family=\"Times New Roman,serif\" font-size=\"14.00\">3</text>\r\n",
       "</g>\r\n",
       "<!-- 0&#45;&gt;3 -->\r\n",
       "<g id=\"edge2\" class=\"edge\">\r\n",
       "<title>0:&#45;&gt;3:</title>\r\n",
       "<path fill=\"none\" stroke=\"black\" d=\"M52.3,-146C60.02,-146 69.29,-146 77.89,-146\"/>\r\n",
       "<polygon fill=\"black\" stroke=\"black\" points=\"87.9,-146 77.9,-150.5 82.9,-146 77.9,-146 77.9,-146 77.9,-146 82.9,-146 77.9,-141.5 87.9,-146 87.9,-146\"/>\r\n",
       "</g>\r\n",
       "<!-- 4 -->\r\n",
       "<g id=\"node5\" class=\"node\">\r\n",
       "<title>4</title>\r\n",
       "<ellipse fill=\"none\" stroke=\"black\" cx=\"106\" cy=\"-92\" rx=\"18\" ry=\"18\"/>\r\n",
       "<text text-anchor=\"middle\" x=\"106\" y=\"-88.3\" font-family=\"Times New Roman,serif\" font-size=\"14.00\">4</text>\r\n",
       "</g>\r\n",
       "<!-- 0&#45;&gt;4 -->\r\n",
       "<g id=\"edge1\" class=\"edge\">\r\n",
       "<title>0:&#45;&gt;4:</title>\r\n",
       "<path fill=\"none\" stroke=\"black\" d=\"M48.83,-135.33C58.61,-127.79 71.92,-117.52 83.13,-108.87\"/>\r\n",
       "<polygon fill=\"black\" stroke=\"black\" points=\"91.2,-102.65 86.03,-112.32 87.24,-105.7 83.28,-108.75 83.28,-108.75 83.28,-108.75 87.24,-105.7 80.53,-105.19 91.2,-102.65 91.2,-102.65\"/>\r\n",
       "</g>\r\n",
       "<!-- 1 -->\r\n",
       "<g id=\"node2\" class=\"node\">\r\n",
       "<title>1</title>\r\n",
       "<ellipse fill=\"none\" stroke=\"black\" cx=\"34\" cy=\"-92\" rx=\"18\" ry=\"18\"/>\r\n",
       "<text text-anchor=\"middle\" x=\"34\" y=\"-88.3\" font-family=\"Times New Roman,serif\" font-size=\"14.00\">1</text>\r\n",
       "</g>\r\n",
       "<!-- 1&#45;&gt;4 -->\r\n",
       "<g id=\"edge4\" class=\"edge\">\r\n",
       "<title>1:&#45;&gt;4:</title>\r\n",
       "<path fill=\"none\" stroke=\"black\" d=\"M52.3,-92C60.02,-92 69.29,-92 77.89,-92\"/>\r\n",
       "<polygon fill=\"black\" stroke=\"black\" points=\"87.9,-92 77.9,-96.5 82.9,-92 77.9,-92 77.9,-92 77.9,-92 82.9,-92 77.9,-87.5 87.9,-92 87.9,-92\"/>\r\n",
       "</g>\r\n",
       "<!-- 5 -->\r\n",
       "<g id=\"node6\" class=\"node\">\r\n",
       "<title>5</title>\r\n",
       "<ellipse fill=\"none\" stroke=\"black\" cx=\"106\" cy=\"-38\" rx=\"18\" ry=\"18\"/>\r\n",
       "<text text-anchor=\"middle\" x=\"106\" y=\"-34.3\" font-family=\"Times New Roman,serif\" font-size=\"14.00\">5</text>\r\n",
       "</g>\r\n",
       "<!-- 1&#45;&gt;5 -->\r\n",
       "<g id=\"edge3\" class=\"edge\">\r\n",
       "<title>1:&#45;&gt;5:</title>\r\n",
       "<path fill=\"none\" stroke=\"black\" d=\"M48.83,-81.33C58.61,-73.79 71.92,-63.52 83.13,-54.87\"/>\r\n",
       "<polygon fill=\"black\" stroke=\"black\" points=\"91.2,-48.65 86.03,-58.32 87.24,-51.7 83.28,-54.75 83.28,-54.75 83.28,-54.75 87.24,-51.7 80.53,-51.19 91.2,-48.65 91.2,-48.65\"/>\r\n",
       "</g>\r\n",
       "<!-- 2 -->\r\n",
       "<g id=\"node3\" class=\"node\">\r\n",
       "<title>2</title>\r\n",
       "<ellipse fill=\"none\" stroke=\"black\" cx=\"34\" cy=\"-38\" rx=\"18\" ry=\"18\"/>\r\n",
       "<text text-anchor=\"middle\" x=\"34\" y=\"-34.3\" font-family=\"Times New Roman,serif\" font-size=\"14.00\">2</text>\r\n",
       "</g>\r\n",
       "<!-- 2&#45;&gt;3 -->\r\n",
       "<g id=\"edge5\" class=\"edge\">\r\n",
       "<title>2:&#45;&gt;3:</title>\r\n",
       "<path fill=\"none\" stroke=\"black\" d=\"M47.81,-49.79C52.11,-54.25 56.66,-59.56 60,-65 73.4,-86.81 66.6,-97.19 80,-119 81.57,-121.55 83.4,-124.07 85.35,-126.49\"/>\r\n",
       "<polygon fill=\"black\" stroke=\"black\" points=\"92.19,-134.21 82.19,-129.71 88.87,-130.47 85.55,-126.72 85.55,-126.72 85.55,-126.72 88.87,-130.47 88.92,-123.74 92.19,-134.21 92.19,-134.21\"/>\r\n",
       "</g>\r\n",
       "<!-- 2&#45;&gt;5 -->\r\n",
       "<g id=\"edge6\" class=\"edge\">\r\n",
       "<title>2:&#45;&gt;5:</title>\r\n",
       "<path fill=\"none\" stroke=\"black\" d=\"M52.3,-38C60.02,-38 69.29,-38 77.89,-38\"/>\r\n",
       "<polygon fill=\"black\" stroke=\"black\" points=\"87.9,-38 77.9,-42.5 82.9,-38 77.9,-38 77.9,-38 77.9,-38 82.9,-38 77.9,-33.5 87.9,-38 87.9,-38\"/>\r\n",
       "</g>\r\n",
       "<!-- 6 -->\r\n",
       "<g id=\"node7\" class=\"node\">\r\n",
       "<title>6</title>\r\n",
       "<ellipse fill=\"none\" stroke=\"black\" cx=\"178\" cy=\"-146\" rx=\"18\" ry=\"18\"/>\r\n",
       "<text text-anchor=\"middle\" x=\"178\" y=\"-142.3\" font-family=\"Times New Roman,serif\" font-size=\"14.00\">6</text>\r\n",
       "</g>\r\n",
       "<!-- 3&#45;&gt;6 -->\r\n",
       "<g id=\"edge8\" class=\"edge\">\r\n",
       "<title>3:&#45;&gt;6:</title>\r\n",
       "<path fill=\"none\" stroke=\"black\" d=\"M124.3,-146C132.02,-146 141.29,-146 149.89,-146\"/>\r\n",
       "<polygon fill=\"black\" stroke=\"black\" points=\"159.9,-146 149.9,-150.5 154.9,-146 149.9,-146 149.9,-146 149.9,-146 154.9,-146 149.9,-141.5 159.9,-146 159.9,-146\"/>\r\n",
       "</g>\r\n",
       "<!-- 7 -->\r\n",
       "<g id=\"node8\" class=\"node\">\r\n",
       "<title>7</title>\r\n",
       "<ellipse fill=\"none\" stroke=\"black\" cx=\"178\" cy=\"-92\" rx=\"18\" ry=\"18\"/>\r\n",
       "<text text-anchor=\"middle\" x=\"178\" y=\"-88.3\" font-family=\"Times New Roman,serif\" font-size=\"14.00\">7</text>\r\n",
       "</g>\r\n",
       "<!-- 3&#45;&gt;7 -->\r\n",
       "<g id=\"edge7\" class=\"edge\">\r\n",
       "<title>3:&#45;&gt;7:</title>\r\n",
       "<path fill=\"none\" stroke=\"black\" d=\"M120.83,-135.33C130.61,-127.79 143.92,-117.52 155.13,-108.87\"/>\r\n",
       "<polygon fill=\"black\" stroke=\"black\" points=\"163.2,-102.65 158.03,-112.32 159.24,-105.7 155.28,-108.75 155.28,-108.75 155.28,-108.75 159.24,-105.7 152.53,-105.19 163.2,-102.65 163.2,-102.65\"/>\r\n",
       "</g>\r\n",
       "<!-- 4&#45;&gt;7 -->\r\n",
       "<g id=\"edge10\" class=\"edge\">\r\n",
       "<title>4:&#45;&gt;7:</title>\r\n",
       "<path fill=\"none\" stroke=\"black\" d=\"M124.3,-92C132.02,-92 141.29,-92 149.89,-92\"/>\r\n",
       "<polygon fill=\"black\" stroke=\"black\" points=\"159.9,-92 149.9,-96.5 154.9,-92 149.9,-92 149.9,-92 149.9,-92 154.9,-92 149.9,-87.5 159.9,-92 159.9,-92\"/>\r\n",
       "</g>\r\n",
       "<!-- 8 -->\r\n",
       "<g id=\"node9\" class=\"node\">\r\n",
       "<title>8</title>\r\n",
       "<ellipse fill=\"none\" stroke=\"black\" cx=\"178\" cy=\"-38\" rx=\"18\" ry=\"18\"/>\r\n",
       "<text text-anchor=\"middle\" x=\"178\" y=\"-34.3\" font-family=\"Times New Roman,serif\" font-size=\"14.00\">8</text>\r\n",
       "</g>\r\n",
       "<!-- 4&#45;&gt;8 -->\r\n",
       "<g id=\"edge9\" class=\"edge\">\r\n",
       "<title>4:&#45;&gt;8:</title>\r\n",
       "<path fill=\"none\" stroke=\"black\" d=\"M120.83,-81.33C130.61,-73.79 143.92,-63.52 155.13,-54.87\"/>\r\n",
       "<polygon fill=\"black\" stroke=\"black\" points=\"163.2,-48.65 158.03,-58.32 159.24,-51.7 155.28,-54.75 155.28,-54.75 155.28,-54.75 159.24,-51.7 152.53,-51.19 163.2,-48.65 163.2,-48.65\"/>\r\n",
       "</g>\r\n",
       "<!-- 5&#45;&gt;6 -->\r\n",
       "<g id=\"edge11\" class=\"edge\">\r\n",
       "<title>5:&#45;&gt;6:</title>\r\n",
       "<path fill=\"none\" stroke=\"black\" d=\"M119.81,-49.79C124.11,-54.25 128.66,-59.56 132,-65 145.4,-86.81 138.6,-97.19 152,-119 153.57,-121.55 155.4,-124.07 157.35,-126.49\"/>\r\n",
       "<polygon fill=\"black\" stroke=\"black\" points=\"164.19,-134.21 154.19,-129.71 160.87,-130.47 157.55,-126.72 157.55,-126.72 157.55,-126.72 160.87,-130.47 160.92,-123.74 164.19,-134.21 164.19,-134.21\"/>\r\n",
       "</g>\r\n",
       "<!-- 5&#45;&gt;8 -->\r\n",
       "<g id=\"edge12\" class=\"edge\">\r\n",
       "<title>5:&#45;&gt;8:</title>\r\n",
       "<path fill=\"none\" stroke=\"black\" d=\"M124.3,-38C132.02,-38 141.29,-38 149.89,-38\"/>\r\n",
       "<polygon fill=\"black\" stroke=\"black\" points=\"159.9,-38 149.9,-42.5 154.9,-38 149.9,-38 149.9,-38 149.9,-38 154.9,-38 149.9,-33.5 159.9,-38 159.9,-38\"/>\r\n",
       "</g>\r\n",
       "<!-- 9 -->\r\n",
       "<g id=\"node10\" class=\"node\">\r\n",
       "<title>9</title>\r\n",
       "<ellipse fill=\"none\" stroke=\"black\" cx=\"251.5\" cy=\"-147\" rx=\"18\" ry=\"18\"/>\r\n",
       "<text text-anchor=\"middle\" x=\"251.5\" y=\"-143.3\" font-family=\"Times New Roman,serif\" font-size=\"14.00\">9</text>\r\n",
       "</g>\r\n",
       "<!-- 6&#45;&gt;9 -->\r\n",
       "<g id=\"edge14\" class=\"edge\">\r\n",
       "<title>6:&#45;&gt;9:</title>\r\n",
       "<path fill=\"none\" stroke=\"black\" d=\"M196.31,-146.24C204.39,-146.36 214.2,-146.49 223.24,-146.62\"/>\r\n",
       "<polygon fill=\"black\" stroke=\"black\" points=\"233.35,-146.76 223.29,-151.12 228.35,-146.69 223.35,-146.62 223.35,-146.62 223.35,-146.62 228.35,-146.69 223.41,-142.12 233.35,-146.76 233.35,-146.76\"/>\r\n",
       "</g>\r\n",
       "<!-- 10 -->\r\n",
       "<g id=\"node11\" class=\"node\">\r\n",
       "<title>10</title>\r\n",
       "<ellipse fill=\"none\" stroke=\"black\" cx=\"251.5\" cy=\"-92\" rx=\"19.5\" ry=\"19.5\"/>\r\n",
       "<text text-anchor=\"middle\" x=\"251.5\" y=\"-88.3\" font-family=\"Times New Roman,serif\" font-size=\"14.00\">10</text>\r\n",
       "</g>\r\n",
       "<!-- 6&#45;&gt;10 -->\r\n",
       "<g id=\"edge13\" class=\"edge\">\r\n",
       "<title>6:&#45;&gt;10:</title>\r\n",
       "<path fill=\"none\" stroke=\"black\" d=\"M192.79,-135.59C202.55,-128.21 215.89,-118.14 227.28,-109.54\"/>\r\n",
       "<polygon fill=\"black\" stroke=\"black\" points=\"235.52,-103.31 230.25,-112.93 231.53,-106.33 227.54,-109.34 227.54,-109.34 227.54,-109.34 231.53,-106.33 224.83,-105.75 235.52,-103.31 235.52,-103.31\"/>\r\n",
       "</g>\r\n",
       "<!-- 7&#45;&gt;10 -->\r\n",
       "<g id=\"edge16\" class=\"edge\">\r\n",
       "<title>7:&#45;&gt;10:</title>\r\n",
       "<path fill=\"none\" stroke=\"black\" d=\"M196.31,-92C203.95,-92 213.13,-92 221.75,-92\"/>\r\n",
       "<polygon fill=\"black\" stroke=\"black\" points=\"231.85,-92 221.85,-96.5 226.85,-92 221.85,-92 221.85,-92 221.85,-92 226.85,-92 221.85,-87.5 231.85,-92 231.85,-92\"/>\r\n",
       "</g>\r\n",
       "<!-- 11 -->\r\n",
       "<g id=\"node12\" class=\"node\">\r\n",
       "<title>11</title>\r\n",
       "<ellipse fill=\"none\" stroke=\"black\" cx=\"251.5\" cy=\"-35\" rx=\"19.5\" ry=\"19.5\"/>\r\n",
       "<text text-anchor=\"middle\" x=\"251.5\" y=\"-31.3\" font-family=\"Times New Roman,serif\" font-size=\"14.00\">11</text>\r\n",
       "</g>\r\n",
       "<!-- 7&#45;&gt;11 -->\r\n",
       "<g id=\"edge15\" class=\"edge\">\r\n",
       "<title>7:&#45;&gt;11:</title>\r\n",
       "<path fill=\"none\" stroke=\"black\" d=\"M192.79,-81.01C202.71,-73.1 216.33,-62.24 227.84,-53.06\"/>\r\n",
       "<polygon fill=\"black\" stroke=\"black\" points=\"235.77,-46.74 230.76,-56.49 231.86,-49.86 227.95,-52.98 227.95,-52.98 227.95,-52.98 231.86,-49.86 225.15,-49.46 235.77,-46.74 235.77,-46.74\"/>\r\n",
       "</g>\r\n",
       "<!-- 8&#45;&gt;9 -->\r\n",
       "<g id=\"edge17\" class=\"edge\">\r\n",
       "<title>8:&#45;&gt;9:</title>\r\n",
       "<path fill=\"none\" stroke=\"black\" d=\"M191.83,-49.78C196.13,-54.23 200.67,-59.55 204,-65 217.55,-87.2 210.13,-98 224,-120 225.79,-122.83 227.91,-125.61 230.17,-128.24\"/>\r\n",
       "<polygon fill=\"black\" stroke=\"black\" points=\"237.15,-135.6 227,-131.43 233.71,-131.97 230.27,-128.34 230.27,-128.34 230.27,-128.34 233.71,-131.97 233.53,-125.24 237.15,-135.6 237.15,-135.6\"/>\r\n",
       "</g>\r\n",
       "<!-- 8&#45;&gt;11 -->\r\n",
       "<g id=\"edge18\" class=\"edge\">\r\n",
       "<title>8:&#45;&gt;11:</title>\r\n",
       "<path fill=\"none\" stroke=\"black\" d=\"M196.31,-37.27C203.95,-36.95 213.13,-36.57 221.75,-36.21\"/>\r\n",
       "<polygon fill=\"black\" stroke=\"black\" points=\"231.85,-35.78 222.04,-40.7 226.85,-35.99 221.86,-36.2 221.86,-36.2 221.86,-36.2 226.85,-35.99 221.67,-31.71 231.85,-35.78 231.85,-35.78\"/>\r\n",
       "</g>\r\n",
       "<!-- 12 -->\r\n",
       "<g id=\"node13\" class=\"node\">\r\n",
       "<title>12</title>\r\n",
       "<ellipse fill=\"none\" stroke=\"black\" cx=\"326.49\" cy=\"-149\" rx=\"19.5\" ry=\"19.5\"/>\r\n",
       "<text text-anchor=\"middle\" x=\"326.49\" y=\"-145.3\" font-family=\"Times New Roman,serif\" font-size=\"14.00\">12</text>\r\n",
       "</g>\r\n",
       "<!-- 9&#45;&gt;12 -->\r\n",
       "<g id=\"edge20\" class=\"edge\">\r\n",
       "<title>9:&#45;&gt;12:</title>\r\n",
       "<path fill=\"none\" stroke=\"black\" d=\"M269.8,-147.47C277.8,-147.69 287.52,-147.96 296.58,-148.21\"/>\r\n",
       "<polygon fill=\"black\" stroke=\"black\" points=\"306.79,-148.49 296.67,-152.71 301.79,-148.35 296.79,-148.21 296.79,-148.21 296.79,-148.21 301.79,-148.35 296.91,-143.72 306.79,-148.49 306.79,-148.49\"/>\r\n",
       "</g>\r\n",
       "<!-- 13 -->\r\n",
       "<g id=\"node14\" class=\"node\">\r\n",
       "<title>13</title>\r\n",
       "<ellipse fill=\"none\" stroke=\"black\" cx=\"326.49\" cy=\"-92\" rx=\"19.5\" ry=\"19.5\"/>\r\n",
       "<text text-anchor=\"middle\" x=\"326.49\" y=\"-88.3\" font-family=\"Times New Roman,serif\" font-size=\"14.00\">13</text>\r\n",
       "</g>\r\n",
       "<!-- 9&#45;&gt;13 -->\r\n",
       "<g id=\"edge19\" class=\"edge\">\r\n",
       "<title>9:&#45;&gt;13:</title>\r\n",
       "<path fill=\"none\" stroke=\"black\" d=\"M266.57,-136.4C276.71,-128.76 290.61,-118.29 302.36,-109.43\"/>\r\n",
       "<polygon fill=\"black\" stroke=\"black\" points=\"310.46,-103.33 305.18,-112.94 306.47,-106.34 302.47,-109.35 302.47,-109.35 302.47,-109.35 306.47,-106.34 299.76,-105.75 310.46,-103.33 310.46,-103.33\"/>\r\n",
       "</g>\r\n",
       "<!-- 10&#45;&gt;13 -->\r\n",
       "<g id=\"edge22\" class=\"edge\">\r\n",
       "<title>10:&#45;&gt;13:</title>\r\n",
       "<path fill=\"none\" stroke=\"black\" d=\"M271.3,-92C279.04,-92 288.2,-92 296.75,-92\"/>\r\n",
       "<polygon fill=\"black\" stroke=\"black\" points=\"306.76,-92 296.76,-96.5 301.76,-92 296.76,-92 296.76,-92 296.76,-92 301.76,-92 296.76,-87.5 306.76,-92 306.76,-92\"/>\r\n",
       "</g>\r\n",
       "<!-- 14 -->\r\n",
       "<g id=\"node15\" class=\"node\">\r\n",
       "<title>14</title>\r\n",
       "<ellipse fill=\"none\" stroke=\"black\" cx=\"326.49\" cy=\"-35\" rx=\"19.5\" ry=\"19.5\"/>\r\n",
       "<text text-anchor=\"middle\" x=\"326.49\" y=\"-31.3\" font-family=\"Times New Roman,serif\" font-size=\"14.00\">14</text>\r\n",
       "</g>\r\n",
       "<!-- 10&#45;&gt;14 -->\r\n",
       "<g id=\"edge21\" class=\"edge\">\r\n",
       "<title>10:&#45;&gt;14:</title>\r\n",
       "<path fill=\"none\" stroke=\"black\" d=\"M267.27,-80.47C277.46,-72.51 291.21,-61.78 302.78,-52.74\"/>\r\n",
       "<polygon fill=\"black\" stroke=\"black\" points=\"310.74,-46.52 305.63,-56.22 306.8,-49.59 302.86,-52.67 302.86,-52.67 302.86,-52.67 306.8,-49.59 300.09,-49.13 310.74,-46.52 310.74,-46.52\"/>\r\n",
       "</g>\r\n",
       "<!-- 11&#45;&gt;12 -->\r\n",
       "<g id=\"edge23\" class=\"edge\">\r\n",
       "<title>11:&#45;&gt;12:</title>\r\n",
       "<path fill=\"none\" stroke=\"black\" d=\"M266.38,-47.96C270.86,-52.68 275.55,-58.27 279,-64 292.62,-86.65 285.37,-97.35 299,-120 300.72,-122.86 302.75,-125.69 304.92,-128.4\"/>\r\n",
       "<polygon fill=\"black\" stroke=\"black\" points=\"311.61,-136.04 301.64,-131.48 308.32,-132.28 305.02,-128.52 305.02,-128.52 305.02,-128.52 308.32,-132.28 308.41,-125.55 311.61,-136.04 311.61,-136.04\"/>\r\n",
       "</g>\r\n",
       "<!-- 11&#45;&gt;14 -->\r\n",
       "<g id=\"edge24\" class=\"edge\">\r\n",
       "<title>11:&#45;&gt;14:</title>\r\n",
       "<path fill=\"none\" stroke=\"black\" d=\"M271.3,-35C279.04,-35 288.2,-35 296.75,-35\"/>\r\n",
       "<polygon fill=\"black\" stroke=\"black\" points=\"306.76,-35 296.76,-39.5 301.76,-35 296.76,-35 296.76,-35 296.76,-35 301.76,-35 296.76,-30.5 306.76,-35 306.76,-35\"/>\r\n",
       "</g>\r\n",
       "</g>\r\n",
       "</svg>\r\n"
      ],
      "text/plain": [
       "<graphviz.dot.Digraph at 0x1fadde363a0>"
      ]
     },
     "execution_count": 14,
     "metadata": {},
     "output_type": "execute_result"
    }
   ],
   "source": [
    "expanded_graph = graph.expand_in_time(4)\n",
    "expanded_graph.Visualize()"
   ]
  },
  {
   "cell_type": "markdown",
   "metadata": {},
   "source": [
    "## Отслеживание объекта на плоскости\n",
    "Предположим, что у нас есть набор из $m$ сенсоров, расположенныз в точках $x_1, \\ldots, x_m$ соответственно, которые умеют измерять расстояния до объекта (не важно, каким образом) и выдавать его в качестве функции правдоподобия (если сенсор выдает одно число, то можно считать, что он выдает индикатор-функцию для этого числа). Допустим мы снимаем показание на равных промежутках времени, на замере $t$ мы получаем функции правдоподобия $g_i(t, \\|x-x_i\\|)$. Оценка максимального правдоподобия положения объекта в пространстве c учетом сделанных замеров выглядит как-то так\n",
    "\\begin{align*}\n",
    "x&=argmax_{y}\\sum_{i=1}^m\\log P(y~|~g_i) \\\\\n",
    "&=argmax_{y}\\sum_{i=1}^m\\log [P(g_i~|~y)P(y)] \\\\\n",
    "&=argmax_{y}\\sum_{i=1}^m\\sum_{t=0}^T\\log [g_i(t, \\|y(t)-x_i\\|)P(y)]\n",
    "\\end{align*}\n",
    "Если не накладывать никакие априорные ограничения ограничения на $x$, то вероятность $P(y)$ можно убрать и получить, что \n",
    "$$\n",
    "x(t)=argmax_{z}\\sum_{i=1}^T \\log g_i(t, \\|z-x_i\\|),\n",
    "$$\n",
    "т.е. оценка координат происходит раздельно раздельно. Такой подход например может привести к тому, что оценка будет сильно болтаться, в то время, как мы ожидаем, что между двумя последовательными оценками разница должна быть небольшой."
   ]
  },
  {
   "cell_type": "code",
   "execution_count": 15,
   "metadata": {},
   "outputs": [],
   "source": [
    "import numpy as np\n",
    "import scipy, scipy.stats, scipy.optimize\n",
    "from scipy.stats import chi2\n",
    "\n",
    "class Sensor:\n",
    "    def __init__(self, x, y, r=10, scale=4):\n",
    "        self.position = np.array([x, y])\n",
    "        self.max_distortion_range = r\n",
    "        self.distortion_scale = scale\n",
    "        \n",
    "    def loglikelihood(self, x, y, x_real, y_real):\n",
    "        k = int(np.linalg.norm(self.position- np.array([x_real, y_real])))\n",
    "        p = random.randint(1, self.max_distortion_range)\n",
    "        return chi2.logpdf(np.linalg.norm(self.position - np.array([x, y])), k) + self.distortion_scale * chi2.logpdf(np.linalg.norm(self.position - np.array([x, y])), p)"
   ]
  },
  {
   "cell_type": "markdown",
   "metadata": {},
   "source": [
    "Здесь сенсоры моделируются с помощью $\\chi$-квадрат распределения. Используется тот факт, что максимум "
   ]
  },
  {
   "cell_type": "code",
   "execution_count": 16,
   "metadata": {},
   "outputs": [],
   "source": [
    "import matplotlib.pyplot as plt"
   ]
  },
  {
   "cell_type": "code",
   "execution_count": 17,
   "metadata": {},
   "outputs": [],
   "source": [
    "plt.rcParams['font.size'] = 15\n",
    "plt.rcParams[\"figure.figsize\"] = [11,11]"
   ]
  },
  {
   "cell_type": "code",
   "execution_count": 18,
   "metadata": {},
   "outputs": [
    {
     "data": {
      "application/vnd.jupyter.widget-view+json": {
       "model_id": "671f16d5612b4237af1a710e99ccf5be",
       "version_major": 2,
       "version_minor": 0
      },
      "text/plain": [
       "HBox(children=(Button(description='Prev', style=ButtonStyle()), Button(description='Next', style=ButtonStyle()…"
      ]
     },
     "metadata": {},
     "output_type": "display_data"
    },
    {
     "data": {
      "application/vnd.jupyter.widget-view+json": {
       "model_id": "7ef17f7c466c48fabc8feaf2bff525bf",
       "version_major": 2,
       "version_minor": 0
      },
      "text/plain": [
       "interactive(children=(IntSlider(value=0, description='step', max=30), Output()), _dom_classes=('widget-interac…"
      ]
     },
     "metadata": {},
     "output_type": "display_data"
    }
   ],
   "source": [
    "path = [np.array([5, 5])]\n",
    "for i in range(30):\n",
    "    dx = 2 * np.random.rand(2) - 1\n",
    "    path.append(path[-1] + dx)\n",
    "\n",
    "def paths(path):\n",
    "    figures = []\n",
    "    for i in range(len(path)):\n",
    "        fig = plt.figure()\n",
    "        ax = fig.add_axes([0, 0, 1, 1])\n",
    "        ax.set(xlim=(-10, 20), ylim=(-10, 20))\n",
    "        ax.plot([x for x, y in path[:i+1]], [y for x, y in path[:i+1]])\n",
    "        ax.scatter([x for x, y in path[i:i+1]], [y for x, y in path[i:i+1]], color='black')\n",
    "        plt.close(fig)\n",
    "        figures.append(fig)\n",
    "    return figures\n",
    "        \n",
    "animate_list(paths(path));"
   ]
  },
  {
   "cell_type": "code",
   "execution_count": 19,
   "metadata": {},
   "outputs": [
    {
     "name": "stderr",
     "output_type": "stream",
     "text": [
      "<ipython-input-15-798f0051bc5b>:14: RuntimeWarning: invalid value encountered in double_scalars\n",
      "  return chi2.logpdf(np.linalg.norm(self.position - np.array([x, y])), k) + self.distortion_scale * chi2.logpdf(np.linalg.norm(self.position - np.array([x, y])), p)\n"
     ]
    },
    {
     "data": {
      "application/vnd.jupyter.widget-view+json": {
       "model_id": "e0a7b5267d2e4e0d8aa16e42eadc7f8f",
       "version_major": 2,
       "version_minor": 0
      },
      "text/plain": [
       "HBox(children=(Button(description='Prev', style=ButtonStyle()), Button(description='Next', style=ButtonStyle()…"
      ]
     },
     "metadata": {},
     "output_type": "display_data"
    },
    {
     "data": {
      "application/vnd.jupyter.widget-view+json": {
       "model_id": "a16bb7ca83d6401795eaaa7943a4a4ae",
       "version_major": 2,
       "version_minor": 0
      },
      "text/plain": [
       "interactive(children=(IntSlider(value=0, description='step', max=30), Output()), _dom_classes=('widget-interac…"
      ]
     },
     "metadata": {},
     "output_type": "display_data"
    }
   ],
   "source": [
    "distortion_level = 0.25\n",
    "distortion_radius = 20\n",
    "bottom_left = -10\n",
    "top_right = 20\n",
    "sensors = [\n",
    "    Sensor(bottom_left, bottom_left, r = distortion_radius, scale=distortion_level),\n",
    "    Sensor(bottom_left, top_right,  r = distortion_radius,scale=distortion_level),\n",
    "    Sensor(top_right, bottom_left, r = distortion_radius, scale=distortion_level),\n",
    "    Sensor(top_right, top_right, r = distortion_radius, scale=distortion_level)    \n",
    "]\n",
    "\n",
    "def minimize_simple(f, x_min, y_min, x_max, y_max):\n",
    "    best = (x_min, y_min, float('inf'))\n",
    "    for i in range(10):\n",
    "        for j in range(10):\n",
    "            x = x_min + i * (x_max - x_min) / 10\n",
    "            y = y_min + j * (y_max - y_min) / 10\n",
    "            cost = f([x, y])\n",
    "            if best[2] > cost:\n",
    "                best = (x, y, cost)\n",
    "        \n",
    "    for i in range(10):\n",
    "        step = 1.0 / (i + 1)\n",
    "        dx, dy = step * (np.random.rand(2) * 2 - 1)\n",
    "        cost = f([best[0] + dx, best[1] + dy])\n",
    "        if cost < best[2]:\n",
    "            best = (best[0] + dx, best[1] + dy, cost)\n",
    "            \n",
    "    return best[:2]\n",
    "        \n",
    "\n",
    "estimates = []\n",
    "prev = [0, 0]\n",
    "for x in path:\n",
    "    def J(y):\n",
    "        return -sum([sensor.loglikelihood(y[0], y[1], x[0], x[1]) for sensor in sensors])\n",
    "    #estimates.append(scipy.optimize.minimize(J, prev, method='Nelder-Mead').x)\n",
    "    estimates.append(minimize_simple(J, bottom_left, bottom_left, top_right, top_right))\n",
    "    cur = estimates[-1]\n",
    "    #print(J(cur), J([cur[0] - 1, cur[1]]), J([cur[0], cur[1] - 1]), J([cur[0] + 1, cur[1]]), J([cur[0], cur[1] + 1]))\n",
    "    prev = estimates[-1]\n",
    "    \n",
    "def two_paths(path, estimates):\n",
    "    figures = []\n",
    "    for i in range(len(path)):\n",
    "        fig = plt.figure()\n",
    "        ax = fig.add_axes([0, 0, 1, 1])\n",
    "        ax.set(xlim=(-10, 20), ylim=(-10, 20))\n",
    "        ax.plot([x for x, y in path[:i+1]], [y for x, y in path[:i+1]])\n",
    "        ax.plot([x for x, y in estimates[:i+1]], [y for x, y in estimates[:i+1]])\n",
    "        ax.scatter([x for x, y in path[i:i+1]], [y for x, y in path[i:i+1]], color='black')\n",
    "        ax.scatter([x for x, y in estimates[i:i+1]], [y for x, y in estimates[i:i+1]], color='black')\n",
    "        \n",
    "        plt.close(fig)\n",
    "        figures.append(fig)\n",
    "    return figures\n",
    "    \n",
    "max_like_distances = []\n",
    "for x, y in zip(path, estimates):\n",
    "    max_like_distances.append(np.linalg.norm(x - y))\n",
    "\n",
    "animate_list(two_paths(path, estimates));"
   ]
  },
  {
   "cell_type": "markdown",
   "metadata": {},
   "source": [
    "Из-за помех получается так себе. Тем не менее мы можем попытаться как-то ограничить эти скачки, так как в реальном мире движение происходит планомерно. простой способ сделать это -- сузbть поиск максимума правдоподобия на фиксированном расстоянии от предыдущей оценки."
   ]
  },
  {
   "cell_type": "code",
   "execution_count": 20,
   "metadata": {},
   "outputs": [
    {
     "data": {
      "application/vnd.jupyter.widget-view+json": {
       "model_id": "bd4cec9ed7bc4226b7bf3140acc62138",
       "version_major": 2,
       "version_minor": 0
      },
      "text/plain": [
       "HBox(children=(Button(description='Prev', style=ButtonStyle()), Button(description='Next', style=ButtonStyle()…"
      ]
     },
     "metadata": {},
     "output_type": "display_data"
    },
    {
     "data": {
      "application/vnd.jupyter.widget-view+json": {
       "model_id": "bad434ce1fc0447fb3e1799232f10547",
       "version_major": 2,
       "version_minor": 0
      },
      "text/plain": [
       "interactive(children=(IntSlider(value=0, description='step', max=30), Output()), _dom_classes=('widget-interac…"
      ]
     },
     "metadata": {},
     "output_type": "display_data"
    }
   ],
   "source": [
    "estimates = []\n",
    "prev = [0, 0]\n",
    "for x in path:\n",
    "    def J(y):\n",
    "        return -sum([sensor.loglikelihood(y[0], y[1], x[0], x[1]) for sensor in sensors])\n",
    "    #estimates.append(scipy.optimize.minimize(J, prev, method='Nelder-Mead').x)\n",
    "    estimates.append(minimize_simple(J, prev[0] - 1, prev[1] - 1, prev[0] + 1, prev[1] + 1))\n",
    "    cur = estimates[-1]\n",
    "    prev = estimates[-1]\n",
    "    \n",
    "animate_list(two_paths(path, estimates));\n",
    "base_distances = []\n",
    "for x, y in zip(path, estimates):\n",
    "    base_distances.append(np.linalg.norm(x - y))"
   ]
  },
  {
   "cell_type": "markdown",
   "metadata": {},
   "source": [
    "Уже лучше, но есть проблема, этот алгоритм все-таки жадный и учитывает только предыдущую оценку. Можно ограничить возможные точки поиска до заранее посчитанной сетки и смоделировать $P(y)$ марковской цепью на этой сетке: переходы разрешаются только на узлах, расстояние между которыми не больше некоторого порога. Таким образом мы получаем задачу поиска наиболее правдоподобной последовательности переходов в марковской цепи, где вероятноть перехода соответствует правдоподобию нахждения в узле на конце этого перехода"
   ]
  },
  {
   "cell_type": "code",
   "execution_count": 21,
   "metadata": {},
   "outputs": [],
   "source": [
    "pre_grid = [[(bottom_left + i * (top_right - bottom_left) / 30, bottom_left + j * (top_right - bottom_left) / 30) for j in range(31)] for i in range(31)]\n",
    "grid = []\n",
    "for row in pre_grid:\n",
    "    grid.extend(row)\n",
    "allowed_transitions = []\n",
    "\n",
    "for i in range(len(grid)):\n",
    "    allowed_transitions.append([])\n",
    "    for j in range(len(grid)):\n",
    "        if np.linalg.norm(np.array(grid[i]) - np.array(grid[j])) <= 1.0:\n",
    "            allowed_transitions[-1].append(j)\n",
    " "
   ]
  },
  {
   "cell_type": "code",
   "execution_count": 22,
   "metadata": {},
   "outputs": [
    {
     "data": {
      "application/vnd.jupyter.widget-view+json": {
       "model_id": "30cfbe92a99a435aa2aaf6620887c5fe",
       "version_major": 2,
       "version_minor": 0
      },
      "text/plain": [
       "HBox(children=(Button(description='Prev', style=ButtonStyle()), Button(description='Next', style=ButtonStyle()…"
      ]
     },
     "metadata": {},
     "output_type": "display_data"
    },
    {
     "data": {
      "application/vnd.jupyter.widget-view+json": {
       "model_id": "e5a9581334484e51af5371b63436d1b9",
       "version_major": 2,
       "version_minor": 0
      },
      "text/plain": [
       "interactive(children=(IntSlider(value=0, description='step', max=30), Output()), _dom_classes=('widget-interac…"
      ]
     },
     "metadata": {},
     "output_type": "display_data"
    }
   ],
   "source": [
    "beam = 5.0\n",
    "history_importance = 1.0\n",
    "estimates = []\n",
    "\n",
    "for i in range(len(grid)):\n",
    "    if abs(grid[i][0]) < 0.5 and abs(grid[i][1]) < 0.5:\n",
    "        token = (i, 0.0, None)\n",
    "        break\n",
    "\n",
    "tokens = [token]\n",
    "          \n",
    "for x in path:\n",
    "    def J(y):\n",
    "        return -sum([sensor.loglikelihood(y[0], y[1], x[0], x[1]) for sensor in sensors])\n",
    "    \n",
    "    new_tokens = dict()\n",
    "    J_cache = dict()\n",
    "    \n",
    "    \n",
    "    best_cost = float('inf')\n",
    "    for token in tokens:\n",
    "        state, cost, prev = token\n",
    "        for j in allowed_transitions[state]:\n",
    "            if j not in J_cache:\n",
    "                new_cost = J(grid[j])\n",
    "                J_cache[j] = new_cost\n",
    "            else:\n",
    "                new_cost = J_cache[j]\n",
    "            \n",
    "            if new_cost + history_importance * cost > best_cost + beam:\n",
    "                continue\n",
    "                \n",
    "            if j not in new_tokens or new_tokens[j][1] > new_cost + cost:\n",
    "                new_tokens[j] = (j, new_cost + history_importance * cost, token)\n",
    "                \n",
    "            best_cost = min(best_cost, new_cost + history_importance * cost)\n",
    "\n",
    "    tokens = new_tokens.values()\n",
    "    #print(best_cost)\n",
    "            \n",
    "reversed_estimates = []\n",
    "tmp = min(tokens, key=lambda x: x[1])\n",
    "while tmp is not None:\n",
    "    reversed_estimates.append(grid[tmp[0]])\n",
    "    tmp = tmp[2]\n",
    "estimates = list(reversed(reversed_estimates))\n",
    "\n",
    "markov_beam_search_distances = []\n",
    "for x, y in zip(path, estimates):\n",
    "    markov_beam_search_distances.append(np.linalg.norm(x - y))\n",
    "\n",
    "animate_list(two_paths(path, estimates));"
   ]
  },
  {
   "cell_type": "markdown",
   "metadata": {},
   "source": [
    "К сожалению довольно часто этот код уводит приближение на бесконечность, скорее всего это происходит просто из-за ошибок вычисления и помех"
   ]
  },
  {
   "cell_type": "code",
   "execution_count": 23,
   "metadata": {},
   "outputs": [
    {
     "data": {
      "image/png": "[encoded data removed]",
      "text/plain": [
       "<Figure size 792x792 with 1 Axes>"
      ]
     },
     "metadata": {
      "needs_background": "light"
     },
     "output_type": "display_data"
    }
   ],
   "source": [
    "plt.plot([i for i in range(len(base_distances))], max_like_distances, label='Расстояние оценом МП')\n",
    "plt.plot([i for i in range(len(base_distances))], base_distances, label='Расстояние в простом режиме')\n",
    "plt.plot([i for i in range(len(base_distances))], markov_beam_search_distances, label='Расстояние при лучевом поиске')\n",
    "plt.legend()\n",
    "plt.show()"
   ]
  }
 ],
 "metadata": {
  "kernelspec": {
   "display_name": "Python 3",
   "language": "python",
   "name": "python3"
  },
  "language_info": {
   "codemirror_mode": {
    "name": "ipython",
    "version": 3
   },
   "file_extension": ".py",
   "mimetype": "text/x-python",
   "name": "python",
   "nbconvert_exporter": "python",
   "pygments_lexer": "ipython3",
   "version": "3.8.5"
  },
  "widgets": {
   "application/vnd.jupyter.widget-state+json": {
    "state": {
     "021e04934e024ebc8da858d4891ac234": {
      "model_module": "@jupyter-widgets/base",
      "model_module_version": "1.2.0",
      "model_name": "LayoutModel",
      "state": {}
     },
     "03780356b78742a298a3697cbb23f478": {
      "model_module": "@jupyter-widgets/controls",
      "model_module_version": "1.5.0",
      "model_name": "VBoxModel",
      "state": {
       "_dom_classes": [
        "widget-interact"
       ],
       "children": [
        "IPY_MODEL_89950ab7a1ef4036a3495de1feca6d2a",
        "IPY_MODEL_df647bac98bb4d618ff0ddceb8db0c7b"
       ],
       "layout": "IPY_MODEL_021e04934e024ebc8da858d4891ac234"
      }
     },
     "08c1baeec2894fc9864014b2ea625408": {
      "model_module": "@jupyter-widgets/base",
      "model_module_version": "1.2.0",
      "model_name": "LayoutModel",
      "state": {}
     },
     "0956575f2e4544b49ec1b57d7a32e304": {
      "model_module": "@jupyter-widgets/controls",
      "model_module_version": "1.5.0",
      "model_name": "ButtonStyleModel",
      "state": {}
     },
     "095f59470cb24565b0a46a964ec98a36": {
      "model_module": "@jupyter-widgets/base",
      "model_module_version": "1.2.0",
      "model_name": "LayoutModel",
      "state": {}
     },
     "09a9fc2d4d754f08b709e20e69801f42": {
      "model_module": "@jupyter-widgets/base",
      "model_module_version": "1.2.0",
      "model_name": "LayoutModel",
      "state": {}
     },
     "0b3ed56af2b84a70a3b7d2a50faa606b": {
      "model_module": "@jupyter-widgets/controls",
      "model_module_version": "1.5.0",
      "model_name": "ButtonStyleModel",
      "state": {}
     },
     "0c3013dd1ebc47c58b655d447879fa3a": {
      "model_module": "@jupyter-widgets/output",
      "model_module_version": "1.0.0",
      "model_name": "OutputModel",
      "state": {
       "layout": "IPY_MODEL_f6babe95842a405c8d7ae6396de40f6a",
       "outputs": [
        {
         "data": {
          "image/png": "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\n",
          "text/plain": "<Figure size 792x792 with 1 Axes>"
         },
         "metadata": {},
         "output_type": "display_data"
        }
       ]
      }
     },
     "0cbaeec3268249e9983f5f1b2a645c30": {
      "model_module": "@jupyter-widgets/base",
      "model_module_version": "1.2.0",
      "model_name": "LayoutModel",
      "state": {}
     },
     "0ead10b1c2464b9a82f8fba32d9c6ff2": {
      "model_module": "@jupyter-widgets/base",
      "model_module_version": "1.2.0",
      "model_name": "LayoutModel",
      "state": {}
     },
     "0f2049f040a04b31ad9d753e655ac460": {
      "model_module": "@jupyter-widgets/base",
      "model_module_version": "1.2.0",
      "model_name": "LayoutModel",
      "state": {}
     },
     "1269d573e1af4b13991fe4e1e58d99eb": {
      "model_module": "@jupyter-widgets/controls",
      "model_module_version": "1.5.0",
      "model_name": "ButtonModel",
      "state": {
       "description": "Prev",
       "layout": "IPY_MODEL_e851089377a647598a0fed82741ea12e",
       "style": "IPY_MODEL_44c85d71c74949ed927ac2015609df8f"
      }
     },
     "16180121b3664304988539c93e5db025": {
      "model_module": "@jupyter-widgets/output",
      "model_module_version": "1.0.0",
      "model_name": "OutputModel",
      "state": {
       "layout": "IPY_MODEL_bf4c61052fcc42c89df42fd83f3d195a",
       "outputs": [
        {
         "data": {
          "image/png": "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\n",
          "text/plain": "<Figure size 792x792 with 1 Axes>"
         },
         "metadata": {},
         "output_type": "display_data"
        }
       ]
      }
     },
     "171ce7074634470ea289bfe658edd6ab": {
      "model_module": "@jupyter-widgets/controls",
      "model_module_version": "1.5.0",
      "model_name": "HBoxModel",
      "state": {
       "children": [
        "IPY_MODEL_1269d573e1af4b13991fe4e1e58d99eb",
        "IPY_MODEL_49c20601f0a54d8cadf006e98008ac01"
       ],
       "layout": "IPY_MODEL_75242e3cae2047dd8c7191f6f9d20fe2"
      }
     },
     "1a7937a589ac4d1ba509daa1e0f02dd7": {
      "model_module": "@jupyter-widgets/controls",
      "model_module_version": "1.5.0",
      "model_name": "ButtonStyleModel",
      "state": {}
     },
     "1aaf0fa54fc64a389899dddcd6e425fe": {
      "model_module": "@jupyter-widgets/base",
      "model_module_version": "1.2.0",
      "model_name": "LayoutModel",
      "state": {}
     },
     "1c475fca0e72489289bbdc25291dbee9": {
      "model_module": "@jupyter-widgets/controls",
      "model_module_version": "1.5.0",
      "model_name": "HBoxModel",
      "state": {
       "children": [
        "IPY_MODEL_aa96426c7165435ab75c872c78846a72",
        "IPY_MODEL_adc541388a984b25a71ac631821d3e28"
       ],
       "layout": "IPY_MODEL_775857ab9f7848fc99ff6a10a27e825d"
      }
     },
     "1d31494f40d94c5d98defec013344540": {
      "model_module": "@jupyter-widgets/base",
      "model_module_version": "1.2.0",
      "model_name": "LayoutModel",
      "state": {}
     },
     "1d7e61b5ae93469b9ed9781ce881f912": {
      "model_module": "@jupyter-widgets/controls",
      "model_module_version": "1.5.0",
      "model_name": "ButtonModel",
      "state": {
       "description": "Next",
       "layout": "IPY_MODEL_2187533d1a2946669ae2beafc7444b45",
       "style": "IPY_MODEL_1a7937a589ac4d1ba509daa1e0f02dd7"
      }
     },
     "1fee4f6646504e6ca737b43bf32b3a4b": {
      "model_module": "@jupyter-widgets/controls",
      "model_module_version": "1.5.0",
      "model_name": "IntSliderModel",
      "state": {
       "description": "step",
       "layout": "IPY_MODEL_3a883ee50ea34ece84e7edb5388c8608",
       "max": 30,
       "style": "IPY_MODEL_af2e93e1db814b9db3b3e1e99ba462ba"
      }
     },
     "202af188a85b4125bba2076a14ba439a": {
      "model_module": "@jupyter-widgets/controls",
      "model_module_version": "1.5.0",
      "model_name": "ButtonStyleModel",
      "state": {}
     },
     "216f8ed5473445e199fcc5d62ac13c85": {
      "model_module": "@jupyter-widgets/base",
      "model_module_version": "1.2.0",
      "model_name": "LayoutModel",
      "state": {}
     },
     "2187533d1a2946669ae2beafc7444b45": {
      "model_module": "@jupyter-widgets/base",
      "model_module_version": "1.2.0",
      "model_name": "LayoutModel",
      "state": {}
     },
     "21c3f4a15662411bb7cb2bf92b9f0107": {
      "model_module": "@jupyter-widgets/controls",
      "model_module_version": "1.5.0",
      "model_name": "VBoxModel",
      "state": {
       "_dom_classes": [
        "widget-interact"
       ],
       "children": [
        "IPY_MODEL_d90eabb7f7784de2a8d00fb2a9b87859",
        "IPY_MODEL_dd1441f0e9a04c3a8137af490186a5f1"
       ],
       "layout": "IPY_MODEL_f0a11adeeab1465193feb1f8df19e44c"
      }
     },
     "24452680441743e98659848252f01bc4": {
      "model_module": "@jupyter-widgets/base",
      "model_module_version": "1.2.0",
      "model_name": "LayoutModel",
      "state": {}
     },
     "2884cbc07d8e464a8b17f35710c3a6a3": {
      "model_module": "@jupyter-widgets/output",
      "model_module_version": "1.0.0",
      "model_name": "OutputModel",
      "state": {
       "layout": "IPY_MODEL_09a9fc2d4d754f08b709e20e69801f42",
       "outputs": [
        {
         "data": {
          "image/png": "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\n",
          "text/plain": "<Figure size 792x792 with 1 Axes>"
         },
         "metadata": {},
         "output_type": "display_data"
        }
       ]
      }
     },
     "2910d562b58745bd800b9427768948d3": {
      "model_module": "@jupyter-widgets/controls",
      "model_module_version": "1.5.0",
      "model_name": "ButtonStyleModel",
      "state": {}
     },
     "2e58a1a5b26a403fa5faa597963c3277": {
      "model_module": "@jupyter-widgets/controls",
      "model_module_version": "1.5.0",
      "model_name": "VBoxModel",
      "state": {
       "_dom_classes": [
        "widget-interact"
       ],
       "children": [
        "IPY_MODEL_eb7fe858b8144d9bbf2ac14cf11baac8",
        "IPY_MODEL_7f714db630fb46608f3fbc14f7d48741"
       ],
       "layout": "IPY_MODEL_216f8ed5473445e199fcc5d62ac13c85"
      }
     },
     "30cfbe92a99a435aa2aaf6620887c5fe": {
      "model_module": "@jupyter-widgets/controls",
      "model_module_version": "1.5.0",
      "model_name": "HBoxModel",
      "state": {
       "children": [
        "IPY_MODEL_ca5a9abf9f344130b597dcc180bae222",
        "IPY_MODEL_4e7170c140914e1ab1428823649eae28"
       ],
       "layout": "IPY_MODEL_0ead10b1c2464b9a82f8fba32d9c6ff2"
      }
     },
     "323ba9ed0859427d9d0c7ce30764d236": {
      "model_module": "@jupyter-widgets/base",
      "model_module_version": "1.2.0",
      "model_name": "LayoutModel",
      "state": {}
     },
     "32d19c25acf5445caae1fa8e53570eae": {
      "model_module": "@jupyter-widgets/controls",
      "model_module_version": "1.5.0",
      "model_name": "ButtonStyleModel",
      "state": {}
     },
     "3a883ee50ea34ece84e7edb5388c8608": {
      "model_module": "@jupyter-widgets/base",
      "model_module_version": "1.2.0",
      "model_name": "LayoutModel",
      "state": {}
     },
     "3af37db701204620a592d95973065c55": {
      "model_module": "@jupyter-widgets/base",
      "model_module_version": "1.2.0",
      "model_name": "LayoutModel",
      "state": {}
     },
     "3b23af0205624f4dbc26576ae44c5e40": {
      "model_module": "@jupyter-widgets/base",
      "model_module_version": "1.2.0",
      "model_name": "LayoutModel",
      "state": {}
     },
     "44c85d71c74949ed927ac2015609df8f": {
      "model_module": "@jupyter-widgets/controls",
      "model_module_version": "1.5.0",
      "model_name": "ButtonStyleModel",
      "state": {}
     },
     "4508101c91cf493e8ebc2c0b78a4cf56": {
      "model_module": "@jupyter-widgets/controls",
      "model_module_version": "1.5.0",
      "model_name": "ButtonStyleModel",
      "state": {}
     },
     "47e928492d554223a256789fad5545e7": {
      "model_module": "@jupyter-widgets/controls",
      "model_module_version": "1.5.0",
      "model_name": "ButtonStyleModel",
      "state": {}
     },
     "49c20601f0a54d8cadf006e98008ac01": {
      "model_module": "@jupyter-widgets/controls",
      "model_module_version": "1.5.0",
      "model_name": "ButtonModel",
      "state": {
       "description": "Next",
       "layout": "IPY_MODEL_71c9200520dd43408e82d51b219898d7",
       "style": "IPY_MODEL_32d19c25acf5445caae1fa8e53570eae"
      }
     },
     "4a442ceb9997482b8a473b860ff04a47": {
      "model_module": "@jupyter-widgets/controls",
      "model_module_version": "1.5.0",
      "model_name": "ButtonModel",
      "state": {
       "description": "Next",
       "layout": "IPY_MODEL_60f146ef67c74bdfb5efde47687d4be6",
       "style": "IPY_MODEL_2910d562b58745bd800b9427768948d3"
      }
     },
     "4ce7b1d8bbe44ad7bf471b2a16a8fe7c": {
      "model_module": "@jupyter-widgets/base",
      "model_module_version": "1.2.0",
      "model_name": "LayoutModel",
      "state": {}
     },
     "4e7170c140914e1ab1428823649eae28": {
      "model_module": "@jupyter-widgets/controls",
      "model_module_version": "1.5.0",
      "model_name": "ButtonModel",
      "state": {
       "description": "Next",
       "layout": "IPY_MODEL_3af37db701204620a592d95973065c55",
       "style": "IPY_MODEL_7a0a0265ff284e85909b8ad993185567"
      }
     },
     "4f7393b6acad4861abb5c4881e2527e4": {
      "model_module": "@jupyter-widgets/base",
      "model_module_version": "1.2.0",
      "model_name": "LayoutModel",
      "state": {}
     },
     "506fd7035eb64a2384929d07679a4e42": {
      "model_module": "@jupyter-widgets/base",
      "model_module_version": "1.2.0",
      "model_name": "LayoutModel",
      "state": {}
     },
     "52e50de3229048d1a4cf3a43127445f4": {
      "model_module": "@jupyter-widgets/base",
      "model_module_version": "1.2.0",
      "model_name": "LayoutModel",
      "state": {}
     },
     "5355b51b64454529aaf62d5a709fcd00": {
      "model_module": "@jupyter-widgets/controls",
      "model_module_version": "1.5.0",
      "model_name": "IntSliderModel",
      "state": {
       "description": "step",
       "layout": "IPY_MODEL_f6a488a8ed954cbbabde176df4c7daa3",
       "max": 30,
       "style": "IPY_MODEL_bd01825e853c458dadfdf775283fe0cc"
      }
     },
     "58ca8c2dbefc4007abe23805673c73a3": {
      "model_module": "@jupyter-widgets/controls",
      "model_module_version": "1.5.0",
      "model_name": "SliderStyleModel",
      "state": {
       "description_width": ""
      }
     },
     "60f146ef67c74bdfb5efde47687d4be6": {
      "model_module": "@jupyter-widgets/base",
      "model_module_version": "1.2.0",
      "model_name": "LayoutModel",
      "state": {}
     },
     "615d6fd6bcbf46a78826301fe27778d3": {
      "model_module": "@jupyter-widgets/controls",
      "model_module_version": "1.5.0",
      "model_name": "ButtonModel",
      "state": {
       "description": "Prev",
       "layout": "IPY_MODEL_e25a2efa661b46938e018cfd623266e7",
       "style": "IPY_MODEL_af5b0be97d2f4c9ebcdc9f570031fe4b"
      }
     },
     "671f16d5612b4237af1a710e99ccf5be": {
      "model_module": "@jupyter-widgets/controls",
      "model_module_version": "1.5.0",
      "model_name": "HBoxModel",
      "state": {
       "children": [
        "IPY_MODEL_e68f5d80f59e4bf09be9a4477687a51d",
        "IPY_MODEL_f3310c833bcc4864815cc40e30425dfb"
       ],
       "layout": "IPY_MODEL_52e50de3229048d1a4cf3a43127445f4"
      }
     },
     "6a5aab34ebe3429583f2e894baea88bc": {
      "model_module": "@jupyter-widgets/base",
      "model_module_version": "1.2.0",
      "model_name": "LayoutModel",
      "state": {}
     },
     "6c3855744d384f7394797bde712a8750": {
      "model_module": "@jupyter-widgets/controls",
      "model_module_version": "1.5.0",
      "model_name": "SliderStyleModel",
      "state": {
       "description_width": ""
      }
     },
     "6d794103fa004c5cbcb782cce8f85f76": {
      "model_module": "@jupyter-widgets/controls",
      "model_module_version": "1.5.0",
      "model_name": "ButtonStyleModel",
      "state": {}
     },
     "6fd791a763674809ba9529f5b89df962": {
      "model_module": "@jupyter-widgets/controls",
      "model_module_version": "1.5.0",
      "model_name": "ButtonModel",
      "state": {
       "description": "Next",
       "layout": "IPY_MODEL_b88630329bb44d77adc76f71ec342e70",
       "style": "IPY_MODEL_8a310132b45642749293b6c68ef3a06d"
      }
     },
     "702458b98d5d4656ba743e0d3f9be53f": {
      "model_module": "@jupyter-widgets/controls",
      "model_module_version": "1.5.0",
      "model_name": "IntSliderModel",
      "state": {
       "description": "step",
       "layout": "IPY_MODEL_08c1baeec2894fc9864014b2ea625408",
       "max": 13,
       "style": "IPY_MODEL_b1f493a2e4d5451c8b9b2b322eec4b4d"
      }
     },
     "71c9200520dd43408e82d51b219898d7": {
      "model_module": "@jupyter-widgets/base",
      "model_module_version": "1.2.0",
      "model_name": "LayoutModel",
      "state": {}
     },
     "72e2063f3d6f402ebccfd619db01be76": {
      "model_module": "@jupyter-widgets/controls",
      "model_module_version": "1.5.0",
      "model_name": "SliderStyleModel",
      "state": {
       "description_width": ""
      }
     },
     "75242e3cae2047dd8c7191f6f9d20fe2": {
      "model_module": "@jupyter-widgets/base",
      "model_module_version": "1.2.0",
      "model_name": "LayoutModel",
      "state": {}
     },
     "7623f4c5bd6c4f438e8365bf3c181a26": {
      "model_module": "@jupyter-widgets/controls",
      "model_module_version": "1.5.0",
      "model_name": "IntSliderModel",
      "state": {
       "description": "step",
       "layout": "IPY_MODEL_e791f3b4414649e496b1bd3c8019dc08",
       "max": 30,
       "style": "IPY_MODEL_7fb91e958c1e4ccfaa33493f6be55a30"
      }
     },
     "775857ab9f7848fc99ff6a10a27e825d": {
      "model_module": "@jupyter-widgets/base",
      "model_module_version": "1.2.0",
      "model_name": "LayoutModel",
      "state": {}
     },
     "7a0a0265ff284e85909b8ad993185567": {
      "model_module": "@jupyter-widgets/controls",
      "model_module_version": "1.5.0",
      "model_name": "ButtonStyleModel",
      "state": {}
     },
     "7ef17f7c466c48fabc8feaf2bff525bf": {
      "model_module": "@jupyter-widgets/controls",
      "model_module_version": "1.5.0",
      "model_name": "VBoxModel",
      "state": {
       "_dom_classes": [
        "widget-interact"
       ],
       "children": [
        "IPY_MODEL_f2d1fc91a4ec4391a74db99ebdeb3877",
        "IPY_MODEL_2884cbc07d8e464a8b17f35710c3a6a3"
       ],
       "layout": "IPY_MODEL_caad696bacd449e18d3b9d8da2a2640c"
      }
     },
     "7f714db630fb46608f3fbc14f7d48741": {
      "model_module": "@jupyter-widgets/output",
      "model_module_version": "1.0.0",
      "model_name": "OutputModel",
      "state": {
       "layout": "IPY_MODEL_842b6d0534b94f4aa6fe61b1f5982cbb",
       "outputs": [
        {
         "data": {
          "image/svg+xml": "<?xml version=\"1.0\" encoding=\"UTF-8\" standalone=\"no\"?>\r\n<!DOCTYPE svg PUBLIC \"-//W3C//DTD SVG 1.1//EN\"\r\n \"http://www.w3.org/Graphics/SVG/1.1/DTD/svg11.dtd\">\r\n<!-- Generated by graphviz version 2.44.2~dev.20200826.1453 (20200826.1453)\r\n -->\r\n<!-- Pages: 1 -->\r\n<svg width=\"534pt\" height=\"213pt\"\r\n viewBox=\"0.00 0.00 533.67 212.65\" xmlns=\"http://www.w3.org/2000/svg\" xmlns:xlink=\"http://www.w3.org/1999/xlink\">\r\n<g id=\"graph0\" class=\"graph\" transform=\"scale(1 1) rotate(0) translate(4 208.65)\">\r\n<polygon fill=\"white\" stroke=\"transparent\" points=\"-4,4 -4,-208.65 529.67,-208.65 529.67,4 -4,4\"/>\r\n<!-- 1 -->\r\n<g id=\"node1\" class=\"node\">\r\n<title>1</title>\r\n<ellipse fill=\"none\" stroke=\"blue\" cx=\"22.1\" cy=\"-102\" rx=\"22.2\" ry=\"22.2\"/>\r\n<text text-anchor=\"middle\" x=\"22.1\" y=\"-98.3\" font-family=\"Times New Roman,serif\" font-size=\"14.00\">1/0</text>\r\n</g>\r\n<!-- 3 -->\r\n<g id=\"node2\" class=\"node\">\r\n<title>3</title>\r\n<ellipse fill=\"none\" stroke=\"black\" cx=\"210.14\" cy=\"-178\" rx=\"26.8\" ry=\"26.8\"/>\r\n<text text-anchor=\"middle\" x=\"210.14\" y=\"-174.3\" font-family=\"Times New Roman,serif\" font-size=\"14.00\">3/inf</text>\r\n</g>\r\n<!-- 1&#45;&gt;3 -->\r\n<g id=\"edge1\" class=\"edge\">\r\n<title>1:&#45;&gt;3:</title>\r\n<path fill=\"none\" stroke=\"black\" d=\"M41.12,-113.38C53.71,-121 71.07,-130.91 87.2,-138 115.7,-150.54 149.42,-161.3 174.17,-168.5\"/>\r\n<polygon fill=\"black\" stroke=\"black\" points=\"183.85,-171.27 173,-172.85 179.04,-169.89 174.24,-168.52 174.24,-168.52 174.24,-168.52 179.04,-169.89 175.47,-164.19 183.85,-171.27 183.85,-171.27\"/>\r\n<text text-anchor=\"middle\" x=\"113.84\" y=\"-160.8\" font-family=\"Times New Roman,serif\" font-size=\"14.00\">3</text>\r\n</g>\r\n<!-- 4 -->\r\n<g id=\"node3\" class=\"node\">\r\n<title>4</title>\r\n<ellipse fill=\"none\" stroke=\"black\" cx=\"113.84\" cy=\"-102\" rx=\"26.8\" ry=\"26.8\"/>\r\n<text text-anchor=\"middle\" x=\"113.84\" y=\"-98.3\" font-family=\"Times New Roman,serif\" font-size=\"14.00\">4/inf</text>\r\n</g>\r\n<!-- 1&#45;&gt;4 -->\r\n<g id=\"edge2\" class=\"edge\">\r\n<title>1:&#45;&gt;4:</title>\r\n<path fill=\"none\" stroke=\"black\" d=\"M44.37,-102C54.03,-102 65.73,-102 76.71,-102\"/>\r\n<polygon fill=\"black\" stroke=\"black\" points=\"86.93,-102 76.93,-106.5 81.93,-102 76.93,-102 76.93,-102 76.93,-102 81.93,-102 76.93,-97.5 86.93,-102 86.93,-102\"/>\r\n<text text-anchor=\"middle\" x=\"65.7\" y=\"-105.8\" font-family=\"Times New Roman,serif\" font-size=\"14.00\">7</text>\r\n</g>\r\n<!-- 5 -->\r\n<g id=\"node4\" class=\"node\">\r\n<title>5</title>\r\n<ellipse fill=\"none\" stroke=\"black\" cx=\"210.14\" cy=\"-55\" rx=\"26.8\" ry=\"26.8\"/>\r\n<text text-anchor=\"middle\" x=\"210.14\" y=\"-51.3\" font-family=\"Times New Roman,serif\" font-size=\"14.00\">5/inf</text>\r\n</g>\r\n<!-- 1&#45;&gt;5 -->\r\n<g id=\"edge3\" class=\"edge\">\r\n<title>1:&#45;&gt;5:</title>\r\n<path fill=\"none\" stroke=\"black\" d=\"M37.57,-85.64C49.5,-73.47 67.59,-57.85 87.2,-51 115.19,-41.22 149.04,-43.33 173.96,-47.26\"/>\r\n<polygon fill=\"black\" stroke=\"black\" points=\"184.05,-49.02 173.43,-51.73 179.13,-48.16 174.2,-47.3 174.2,-47.3 174.2,-47.3 179.13,-48.16 174.98,-42.87 184.05,-49.02 184.05,-49.02\"/>\r\n<text text-anchor=\"middle\" x=\"113.84\" y=\"-54.8\" font-family=\"Times New Roman,serif\" font-size=\"14.00\">2</text>\r\n</g>\r\n<!-- 2 -->\r\n<g id=\"node7\" class=\"node\">\r\n<title>2</title>\r\n<ellipse fill=\"none\" stroke=\"black\" cx=\"499.02\" cy=\"-82\" rx=\"26.8\" ry=\"26.8\"/>\r\n<text text-anchor=\"middle\" x=\"499.02\" y=\"-78.3\" font-family=\"Times New Roman,serif\" font-size=\"14.00\">2/inf</text>\r\n</g>\r\n<!-- 3&#45;&gt;2 -->\r\n<g id=\"edge4\" class=\"edge\">\r\n<title>3:&#45;&gt;2:</title>\r\n<path fill=\"none\" stroke=\"black\" d=\"M236.58,-172.87C277.9,-164.13 361.75,-144.67 429.38,-118 442.02,-113.01 455.37,-106.36 466.91,-100.13\"/>\r\n<polygon fill=\"black\" stroke=\"black\" points=\"475.72,-95.26 469.14,-104.03 471.34,-97.68 466.97,-100.09 466.97,-100.09 466.97,-100.09 471.34,-97.68 464.79,-96.16 475.72,-95.26 475.72,-95.26\"/>\r\n<text text-anchor=\"middle\" x=\"354.58\" y=\"-146.8\" font-family=\"Times New Roman,serif\" font-size=\"14.00\">5</text>\r\n</g>\r\n<!-- 4&#45;&gt;3 -->\r\n<g id=\"edge5\" class=\"edge\">\r\n<title>4:&#45;&gt;3:</title>\r\n<path fill=\"none\" stroke=\"black\" d=\"M135.3,-118.49C148.65,-129.25 166.25,-143.43 180.92,-155.25\"/>\r\n<polygon fill=\"black\" stroke=\"black\" points=\"188.72,-161.54 178.11,-158.77 184.83,-158.4 180.93,-155.27 180.93,-155.27 180.93,-155.27 184.83,-158.4 183.76,-151.76 188.72,-161.54 188.72,-161.54\"/>\r\n<text text-anchor=\"middle\" x=\"161.99\" y=\"-145.8\" font-family=\"Times New Roman,serif\" font-size=\"14.00\">2</text>\r\n</g>\r\n<!-- 4&#45;&gt;5 -->\r\n<g id=\"edge6\" class=\"edge\">\r\n<title>4:&#45;&gt;5:</title>\r\n<path fill=\"none\" stroke=\"black\" d=\"M138.15,-90.38C149.71,-84.62 163.87,-77.56 176.49,-71.27\"/>\r\n<polygon fill=\"black\" stroke=\"black\" points=\"185.77,-66.65 178.83,-75.14 181.3,-68.88 176.82,-71.11 176.82,-71.11 176.82,-71.11 181.3,-68.88 174.81,-67.08 185.77,-66.65 185.77,-66.65\"/>\r\n<text text-anchor=\"middle\" x=\"161.99\" y=\"-82.8\" font-family=\"Times New Roman,serif\" font-size=\"14.00\">3</text>\r\n</g>\r\n<!-- 4&#45;&gt;2 -->\r\n<g id=\"edge7\" class=\"edge\">\r\n<title>4:&#45;&gt;2:</title>\r\n<path fill=\"none\" stroke=\"black\" d=\"M131.25,-81.64C149.68,-58.87 177.76,-24.44 183.49,-19 193.79,-9.24 194.95,0 209.14,0 209.14,0 209.14,0 403.73,0 436,0 462.6,-27.68 479.23,-50.88\"/>\r\n<polygon fill=\"black\" stroke=\"black\" points=\"484.9,-59.16 475.53,-53.45 482.07,-55.03 479.25,-50.91 479.25,-50.91 479.25,-50.91 482.07,-55.03 482.96,-48.36 484.9,-59.16 484.9,-59.16\"/>\r\n<text text-anchor=\"middle\" x=\"306.43\" y=\"-3.8\" font-family=\"Times New Roman,serif\" font-size=\"14.00\">2</text>\r\n</g>\r\n<!-- 6 -->\r\n<g id=\"node5\" class=\"node\">\r\n<title>6</title>\r\n<ellipse fill=\"none\" stroke=\"black\" cx=\"306.43\" cy=\"-82\" rx=\"26.8\" ry=\"26.8\"/>\r\n<text text-anchor=\"middle\" x=\"306.43\" y=\"-78.3\" font-family=\"Times New Roman,serif\" font-size=\"14.00\">6/inf</text>\r\n</g>\r\n<!-- 5&#45;&gt;6 -->\r\n<g id=\"edge8\" class=\"edge\">\r\n<title>5:&#45;&gt;6:</title>\r\n<path fill=\"none\" stroke=\"black\" d=\"M235.91,-62.09C246.55,-65.14 259.16,-68.75 270.71,-72.06\"/>\r\n<polygon fill=\"black\" stroke=\"black\" points=\"280.5,-74.86 269.64,-76.43 275.69,-73.48 270.88,-72.11 270.88,-72.11 270.88,-72.11 275.69,-73.48 272.12,-67.78 280.5,-74.86 280.5,-74.86\"/>\r\n<text text-anchor=\"middle\" x=\"258.29\" y=\"-72.8\" font-family=\"Times New Roman,serif\" font-size=\"14.00\">2</text>\r\n</g>\r\n<!-- 6&#45;&gt;4 -->\r\n<g id=\"edge9\" class=\"edge\">\r\n<title>6:&#45;&gt;4:</title>\r\n<path fill=\"none\" stroke=\"black\" d=\"M279.59,-85.63C273.74,-86.43 267.55,-87.26 261.79,-88 224.1,-92.85 180.77,-96.78 150.98,-99.23\"/>\r\n<polygon fill=\"black\" stroke=\"black\" points=\"140.65,-100.06 150.25,-94.77 145.63,-99.66 150.62,-99.26 150.62,-99.26 150.62,-99.26 145.63,-99.66 150.98,-103.74 140.65,-100.06 140.65,-100.06\"/>\r\n<text text-anchor=\"middle\" x=\"210.14\" y=\"-99.8\" font-family=\"Times New Roman,serif\" font-size=\"14.00\">2</text>\r\n</g>\r\n<!-- 7 -->\r\n<g id=\"node6\" class=\"node\">\r\n<title>7</title>\r\n<ellipse fill=\"none\" stroke=\"black\" cx=\"402.73\" cy=\"-82\" rx=\"26.8\" ry=\"26.8\"/>\r\n<text text-anchor=\"middle\" x=\"402.73\" y=\"-78.3\" font-family=\"Times New Roman,serif\" font-size=\"14.00\">7/inf</text>\r\n</g>\r\n<!-- 6&#45;&gt;7 -->\r\n<g id=\"edge10\" class=\"edge\">\r\n<title>6:&#45;&gt;7:</title>\r\n<path fill=\"none\" stroke=\"black\" d=\"M333.2,-82C343.28,-82 355.02,-82 365.9,-82\"/>\r\n<polygon fill=\"black\" stroke=\"black\" points=\"375.99,-82 365.99,-86.5 370.99,-82 365.99,-82 365.99,-82 365.99,-82 370.99,-82 365.99,-77.5 375.99,-82 375.99,-82\"/>\r\n<text text-anchor=\"middle\" x=\"354.58\" y=\"-85.8\" font-family=\"Times New Roman,serif\" font-size=\"14.00\">1</text>\r\n</g>\r\n<!-- 7&#45;&gt;2 -->\r\n<g id=\"edge11\" class=\"edge\">\r\n<title>7:&#45;&gt;2:</title>\r\n<path fill=\"none\" stroke=\"black\" d=\"M429.5,-82C439.58,-82 451.32,-82 462.2,-82\"/>\r\n<polygon fill=\"black\" stroke=\"black\" points=\"472.29,-82 462.29,-86.5 467.29,-82 462.29,-82 462.29,-82 462.29,-82 467.29,-82 462.29,-77.5 472.29,-82 472.29,-82\"/>\r\n<text text-anchor=\"middle\" x=\"450.88\" y=\"-85.8\" font-family=\"Times New Roman,serif\" font-size=\"14.00\">7</text>\r\n</g>\r\n</g>\r\n</svg>\r\n",
          "text/plain": "<graphviz.dot.Digraph at 0x1faddde1730>"
         },
         "metadata": {},
         "output_type": "display_data"
        }
       ]
      }
     },
     "7fb91e958c1e4ccfaa33493f6be55a30": {
      "model_module": "@jupyter-widgets/controls",
      "model_module_version": "1.5.0",
      "model_name": "SliderStyleModel",
      "state": {
       "description_width": ""
      }
     },
     "842b6d0534b94f4aa6fe61b1f5982cbb": {
      "model_module": "@jupyter-widgets/base",
      "model_module_version": "1.2.0",
      "model_name": "LayoutModel",
      "state": {}
     },
     "89950ab7a1ef4036a3495de1feca6d2a": {
      "model_module": "@jupyter-widgets/controls",
      "model_module_version": "1.5.0",
      "model_name": "IntSliderModel",
      "state": {
       "description": "step",
       "layout": "IPY_MODEL_b339b6510d6a45ae8cca9658cea70145",
       "max": 9,
       "style": "IPY_MODEL_ef7322d35150470da1d80da6956b5618"
      }
     },
     "8a310132b45642749293b6c68ef3a06d": {
      "model_module": "@jupyter-widgets/controls",
      "model_module_version": "1.5.0",
      "model_name": "ButtonStyleModel",
      "state": {}
     },
     "8eeeb586c1f041a3ac27531eb52a909c": {
      "model_module": "@jupyter-widgets/controls",
      "model_module_version": "1.5.0",
      "model_name": "ButtonStyleModel",
      "state": {}
     },
     "910d41541efa49c6a0ff92da6727497c": {
      "model_module": "@jupyter-widgets/base",
      "model_module_version": "1.2.0",
      "model_name": "LayoutModel",
      "state": {}
     },
     "995d60218e264c049d73b0b473e2a817": {
      "model_module": "@jupyter-widgets/controls",
      "model_module_version": "1.5.0",
      "model_name": "ButtonStyleModel",
      "state": {}
     },
     "99d80d828e724f2e8596409ba8894e06": {
      "model_module": "@jupyter-widgets/base",
      "model_module_version": "1.2.0",
      "model_name": "LayoutModel",
      "state": {}
     },
     "9c2ef028008a48b586b3e5a1cd6288b3": {
      "model_module": "@jupyter-widgets/base",
      "model_module_version": "1.2.0",
      "model_name": "LayoutModel",
      "state": {}
     },
     "9c5856cc006a44dfa0750aa0b183227d": {
      "model_module": "@jupyter-widgets/output",
      "model_module_version": "1.0.0",
      "model_name": "OutputModel",
      "state": {
       "layout": "IPY_MODEL_99d80d828e724f2e8596409ba8894e06",
       "outputs": [
        {
         "data": {
          "image/svg+xml": "<?xml version=\"1.0\" encoding=\"UTF-8\" standalone=\"no\"?>\r\n<!DOCTYPE svg PUBLIC \"-//W3C//DTD SVG 1.1//EN\"\r\n \"http://www.w3.org/Graphics/SVG/1.1/DTD/svg11.dtd\">\r\n<!-- Generated by graphviz version 2.44.2~dev.20200826.1453 (20200826.1453)\r\n -->\r\n<!-- Pages: 1 -->\r\n<svg width=\"534pt\" height=\"213pt\"\r\n viewBox=\"0.00 0.00 533.67 212.65\" xmlns=\"http://www.w3.org/2000/svg\" xmlns:xlink=\"http://www.w3.org/1999/xlink\">\r\n<g id=\"graph0\" class=\"graph\" transform=\"scale(1 1) rotate(0) translate(4 208.65)\">\r\n<polygon fill=\"white\" stroke=\"transparent\" points=\"-4,4 -4,-208.65 529.67,-208.65 529.67,4 -4,4\"/>\r\n<!-- 1 -->\r\n<g id=\"node1\" class=\"node\">\r\n<title>1</title>\r\n<ellipse fill=\"none\" stroke=\"blue\" cx=\"22.1\" cy=\"-102\" rx=\"22.2\" ry=\"22.2\"/>\r\n<text text-anchor=\"middle\" x=\"22.1\" y=\"-98.3\" font-family=\"Times New Roman,serif\" font-size=\"14.00\">1/0</text>\r\n</g>\r\n<!-- 3 -->\r\n<g id=\"node2\" class=\"node\">\r\n<title>3</title>\r\n<ellipse fill=\"none\" stroke=\"black\" cx=\"210.14\" cy=\"-178\" rx=\"26.8\" ry=\"26.8\"/>\r\n<text text-anchor=\"middle\" x=\"210.14\" y=\"-174.3\" font-family=\"Times New Roman,serif\" font-size=\"14.00\">3/inf</text>\r\n</g>\r\n<!-- 1&#45;&gt;3 -->\r\n<g id=\"edge1\" class=\"edge\">\r\n<title>1:&#45;&gt;3:</title>\r\n<path fill=\"none\" stroke=\"black\" d=\"M41.12,-113.38C53.71,-121 71.07,-130.91 87.2,-138 115.7,-150.54 149.42,-161.3 174.17,-168.5\"/>\r\n<polygon fill=\"black\" stroke=\"black\" points=\"183.85,-171.27 173,-172.85 179.04,-169.89 174.24,-168.52 174.24,-168.52 174.24,-168.52 179.04,-169.89 175.47,-164.19 183.85,-171.27 183.85,-171.27\"/>\r\n<text text-anchor=\"middle\" x=\"113.84\" y=\"-160.8\" font-family=\"Times New Roman,serif\" font-size=\"14.00\">3</text>\r\n</g>\r\n<!-- 4 -->\r\n<g id=\"node3\" class=\"node\">\r\n<title>4</title>\r\n<ellipse fill=\"none\" stroke=\"black\" cx=\"113.84\" cy=\"-102\" rx=\"26.8\" ry=\"26.8\"/>\r\n<text text-anchor=\"middle\" x=\"113.84\" y=\"-98.3\" font-family=\"Times New Roman,serif\" font-size=\"14.00\">4/inf</text>\r\n</g>\r\n<!-- 1&#45;&gt;4 -->\r\n<g id=\"edge2\" class=\"edge\">\r\n<title>1:&#45;&gt;4:</title>\r\n<path fill=\"none\" stroke=\"black\" d=\"M44.37,-102C54.03,-102 65.73,-102 76.71,-102\"/>\r\n<polygon fill=\"black\" stroke=\"black\" points=\"86.93,-102 76.93,-106.5 81.93,-102 76.93,-102 76.93,-102 76.93,-102 81.93,-102 76.93,-97.5 86.93,-102 86.93,-102\"/>\r\n<text text-anchor=\"middle\" x=\"65.7\" y=\"-105.8\" font-family=\"Times New Roman,serif\" font-size=\"14.00\">7</text>\r\n</g>\r\n<!-- 5 -->\r\n<g id=\"node4\" class=\"node\">\r\n<title>5</title>\r\n<ellipse fill=\"none\" stroke=\"black\" cx=\"210.14\" cy=\"-55\" rx=\"26.8\" ry=\"26.8\"/>\r\n<text text-anchor=\"middle\" x=\"210.14\" y=\"-51.3\" font-family=\"Times New Roman,serif\" font-size=\"14.00\">5/inf</text>\r\n</g>\r\n<!-- 1&#45;&gt;5 -->\r\n<g id=\"edge3\" class=\"edge\">\r\n<title>1:&#45;&gt;5:</title>\r\n<path fill=\"none\" stroke=\"black\" d=\"M37.57,-85.64C49.5,-73.47 67.59,-57.85 87.2,-51 115.19,-41.22 149.04,-43.33 173.96,-47.26\"/>\r\n<polygon fill=\"black\" stroke=\"black\" points=\"184.05,-49.02 173.43,-51.73 179.13,-48.16 174.2,-47.3 174.2,-47.3 174.2,-47.3 179.13,-48.16 174.98,-42.87 184.05,-49.02 184.05,-49.02\"/>\r\n<text text-anchor=\"middle\" x=\"113.84\" y=\"-54.8\" font-family=\"Times New Roman,serif\" font-size=\"14.00\">2</text>\r\n</g>\r\n<!-- 2 -->\r\n<g id=\"node7\" class=\"node\">\r\n<title>2</title>\r\n<ellipse fill=\"none\" stroke=\"black\" cx=\"499.02\" cy=\"-82\" rx=\"26.8\" ry=\"26.8\"/>\r\n<text text-anchor=\"middle\" x=\"499.02\" y=\"-78.3\" font-family=\"Times New Roman,serif\" font-size=\"14.00\">2/inf</text>\r\n</g>\r\n<!-- 3&#45;&gt;2 -->\r\n<g id=\"edge4\" class=\"edge\">\r\n<title>3:&#45;&gt;2:</title>\r\n<path fill=\"none\" stroke=\"black\" d=\"M236.58,-172.87C277.9,-164.13 361.75,-144.67 429.38,-118 442.02,-113.01 455.37,-106.36 466.91,-100.13\"/>\r\n<polygon fill=\"black\" stroke=\"black\" points=\"475.72,-95.26 469.14,-104.03 471.34,-97.68 466.97,-100.09 466.97,-100.09 466.97,-100.09 471.34,-97.68 464.79,-96.16 475.72,-95.26 475.72,-95.26\"/>\r\n<text text-anchor=\"middle\" x=\"354.58\" y=\"-146.8\" font-family=\"Times New Roman,serif\" font-size=\"14.00\">5</text>\r\n</g>\r\n<!-- 4&#45;&gt;3 -->\r\n<g id=\"edge5\" class=\"edge\">\r\n<title>4:&#45;&gt;3:</title>\r\n<path fill=\"none\" stroke=\"black\" d=\"M135.3,-118.49C148.65,-129.25 166.25,-143.43 180.92,-155.25\"/>\r\n<polygon fill=\"black\" stroke=\"black\" points=\"188.72,-161.54 178.11,-158.77 184.83,-158.4 180.93,-155.27 180.93,-155.27 180.93,-155.27 184.83,-158.4 183.76,-151.76 188.72,-161.54 188.72,-161.54\"/>\r\n<text text-anchor=\"middle\" x=\"161.99\" y=\"-145.8\" font-family=\"Times New Roman,serif\" font-size=\"14.00\">2</text>\r\n</g>\r\n<!-- 4&#45;&gt;5 -->\r\n<g id=\"edge6\" class=\"edge\">\r\n<title>4:&#45;&gt;5:</title>\r\n<path fill=\"none\" stroke=\"black\" d=\"M138.15,-90.38C149.71,-84.62 163.87,-77.56 176.49,-71.27\"/>\r\n<polygon fill=\"black\" stroke=\"black\" points=\"185.77,-66.65 178.83,-75.14 181.3,-68.88 176.82,-71.11 176.82,-71.11 176.82,-71.11 181.3,-68.88 174.81,-67.08 185.77,-66.65 185.77,-66.65\"/>\r\n<text text-anchor=\"middle\" x=\"161.99\" y=\"-82.8\" font-family=\"Times New Roman,serif\" font-size=\"14.00\">3</text>\r\n</g>\r\n<!-- 4&#45;&gt;2 -->\r\n<g id=\"edge7\" class=\"edge\">\r\n<title>4:&#45;&gt;2:</title>\r\n<path fill=\"none\" stroke=\"black\" d=\"M131.25,-81.64C149.68,-58.87 177.76,-24.44 183.49,-19 193.79,-9.24 194.95,0 209.14,0 209.14,0 209.14,0 403.73,0 436,0 462.6,-27.68 479.23,-50.88\"/>\r\n<polygon fill=\"black\" stroke=\"black\" points=\"484.9,-59.16 475.53,-53.45 482.07,-55.03 479.25,-50.91 479.25,-50.91 479.25,-50.91 482.07,-55.03 482.96,-48.36 484.9,-59.16 484.9,-59.16\"/>\r\n<text text-anchor=\"middle\" x=\"306.43\" y=\"-3.8\" font-family=\"Times New Roman,serif\" font-size=\"14.00\">2</text>\r\n</g>\r\n<!-- 6 -->\r\n<g id=\"node5\" class=\"node\">\r\n<title>6</title>\r\n<ellipse fill=\"none\" stroke=\"black\" cx=\"306.43\" cy=\"-82\" rx=\"26.8\" ry=\"26.8\"/>\r\n<text text-anchor=\"middle\" x=\"306.43\" y=\"-78.3\" font-family=\"Times New Roman,serif\" font-size=\"14.00\">6/inf</text>\r\n</g>\r\n<!-- 5&#45;&gt;6 -->\r\n<g id=\"edge8\" class=\"edge\">\r\n<title>5:&#45;&gt;6:</title>\r\n<path fill=\"none\" stroke=\"black\" d=\"M235.91,-62.09C246.55,-65.14 259.16,-68.75 270.71,-72.06\"/>\r\n<polygon fill=\"black\" stroke=\"black\" points=\"280.5,-74.86 269.64,-76.43 275.69,-73.48 270.88,-72.11 270.88,-72.11 270.88,-72.11 275.69,-73.48 272.12,-67.78 280.5,-74.86 280.5,-74.86\"/>\r\n<text text-anchor=\"middle\" x=\"258.29\" y=\"-72.8\" font-family=\"Times New Roman,serif\" font-size=\"14.00\">2</text>\r\n</g>\r\n<!-- 6&#45;&gt;4 -->\r\n<g id=\"edge9\" class=\"edge\">\r\n<title>6:&#45;&gt;4:</title>\r\n<path fill=\"none\" stroke=\"black\" d=\"M279.59,-85.63C273.74,-86.43 267.55,-87.26 261.79,-88 224.1,-92.85 180.77,-96.78 150.98,-99.23\"/>\r\n<polygon fill=\"black\" stroke=\"black\" points=\"140.65,-100.06 150.25,-94.77 145.63,-99.66 150.62,-99.26 150.62,-99.26 150.62,-99.26 145.63,-99.66 150.98,-103.74 140.65,-100.06 140.65,-100.06\"/>\r\n<text text-anchor=\"middle\" x=\"210.14\" y=\"-99.8\" font-family=\"Times New Roman,serif\" font-size=\"14.00\">2</text>\r\n</g>\r\n<!-- 7 -->\r\n<g id=\"node6\" class=\"node\">\r\n<title>7</title>\r\n<ellipse fill=\"none\" stroke=\"black\" cx=\"402.73\" cy=\"-82\" rx=\"26.8\" ry=\"26.8\"/>\r\n<text text-anchor=\"middle\" x=\"402.73\" y=\"-78.3\" font-family=\"Times New Roman,serif\" font-size=\"14.00\">7/inf</text>\r\n</g>\r\n<!-- 6&#45;&gt;7 -->\r\n<g id=\"edge10\" class=\"edge\">\r\n<title>6:&#45;&gt;7:</title>\r\n<path fill=\"none\" stroke=\"black\" d=\"M333.2,-82C343.28,-82 355.02,-82 365.9,-82\"/>\r\n<polygon fill=\"black\" stroke=\"black\" points=\"375.99,-82 365.99,-86.5 370.99,-82 365.99,-82 365.99,-82 365.99,-82 370.99,-82 365.99,-77.5 375.99,-82 375.99,-82\"/>\r\n<text text-anchor=\"middle\" x=\"354.58\" y=\"-85.8\" font-family=\"Times New Roman,serif\" font-size=\"14.00\">1</text>\r\n</g>\r\n<!-- 7&#45;&gt;2 -->\r\n<g id=\"edge11\" class=\"edge\">\r\n<title>7:&#45;&gt;2:</title>\r\n<path fill=\"none\" stroke=\"black\" d=\"M429.5,-82C439.58,-82 451.32,-82 462.2,-82\"/>\r\n<polygon fill=\"black\" stroke=\"black\" points=\"472.29,-82 462.29,-86.5 467.29,-82 462.29,-82 462.29,-82 462.29,-82 467.29,-82 462.29,-77.5 472.29,-82 472.29,-82\"/>\r\n<text text-anchor=\"middle\" x=\"450.88\" y=\"-85.8\" font-family=\"Times New Roman,serif\" font-size=\"14.00\">7</text>\r\n</g>\r\n</g>\r\n</svg>\r\n",
          "text/plain": "<graphviz.dot.Digraph at 0x1faddd4f580>"
         },
         "metadata": {},
         "output_type": "display_data"
        }
       ]
      }
     },
     "9ea9d84b8b9c46d992a464bca49af15b": {
      "model_module": "@jupyter-widgets/controls",
      "model_module_version": "1.5.0",
      "model_name": "ButtonStyleModel",
      "state": {}
     },
     "9ffe4be64d5a4035b05250725faccd21": {
      "model_module": "@jupyter-widgets/controls",
      "model_module_version": "1.5.0",
      "model_name": "ButtonModel",
      "state": {
       "description": "Next",
       "layout": "IPY_MODEL_24452680441743e98659848252f01bc4",
       "style": "IPY_MODEL_4508101c91cf493e8ebc2c0b78a4cf56"
      }
     },
     "a16bb7ca83d6401795eaaa7943a4a4ae": {
      "model_module": "@jupyter-widgets/controls",
      "model_module_version": "1.5.0",
      "model_name": "VBoxModel",
      "state": {
       "_dom_classes": [
        "widget-interact"
       ],
       "children": [
        "IPY_MODEL_5355b51b64454529aaf62d5a709fcd00",
        "IPY_MODEL_0c3013dd1ebc47c58b655d447879fa3a"
       ],
       "layout": "IPY_MODEL_d53499f530c94001853c96d499b3b252"
      }
     },
     "a27825ef38124c57879ae80585e7b268": {
      "model_module": "@jupyter-widgets/controls",
      "model_module_version": "1.5.0",
      "model_name": "ButtonModel",
      "state": {
       "description": "Prev",
       "layout": "IPY_MODEL_da2acb1498434af5b34419abee88c9fa",
       "style": "IPY_MODEL_6d794103fa004c5cbcb782cce8f85f76"
      }
     },
     "a3aaa46f796f489b98c93983f6a5e246": {
      "model_module": "@jupyter-widgets/base",
      "model_module_version": "1.2.0",
      "model_name": "LayoutModel",
      "state": {}
     },
     "a3b5fed7ce744c1ea0de75b97048b3ca": {
      "model_module": "@jupyter-widgets/controls",
      "model_module_version": "1.5.0",
      "model_name": "IntSliderModel",
      "state": {
       "description": "step",
       "layout": "IPY_MODEL_a3aaa46f796f489b98c93983f6a5e246",
       "max": 15,
       "style": "IPY_MODEL_6c3855744d384f7394797bde712a8750"
      }
     },
     "a9573483200e4ff2b072b3add04c2a35": {
      "model_module": "@jupyter-widgets/base",
      "model_module_version": "1.2.0",
      "model_name": "LayoutModel",
      "state": {}
     },
     "a9db4d11e0f04bae9654627bbd25fda4": {
      "model_module": "@jupyter-widgets/base",
      "model_module_version": "1.2.0",
      "model_name": "LayoutModel",
      "state": {}
     },
     "aa71461b384b4e30b50c2daef848f1e0": {
      "model_module": "@jupyter-widgets/controls",
      "model_module_version": "1.5.0",
      "model_name": "HBoxModel",
      "state": {
       "children": [
        "IPY_MODEL_fe00080898a04956b12616ffa8218c70",
        "IPY_MODEL_1d7e61b5ae93469b9ed9781ce881f912"
       ],
       "layout": "IPY_MODEL_b0c63b9a649e4679bb6cd91406a0462e"
      }
     },
     "aa96426c7165435ab75c872c78846a72": {
      "model_module": "@jupyter-widgets/controls",
      "model_module_version": "1.5.0",
      "model_name": "ButtonModel",
      "state": {
       "description": "Prev",
       "layout": "IPY_MODEL_ee7154d5457f4a498abb22ac1b27c45b",
       "style": "IPY_MODEL_0b3ed56af2b84a70a3b7d2a50faa606b"
      }
     },
     "adc541388a984b25a71ac631821d3e28": {
      "model_module": "@jupyter-widgets/controls",
      "model_module_version": "1.5.0",
      "model_name": "ButtonModel",
      "state": {
       "description": "Next",
       "layout": "IPY_MODEL_6a5aab34ebe3429583f2e894baea88bc",
       "style": "IPY_MODEL_eb7080c2a7e34757b04024a397d310f5"
      }
     },
     "af2e93e1db814b9db3b3e1e99ba462ba": {
      "model_module": "@jupyter-widgets/controls",
      "model_module_version": "1.5.0",
      "model_name": "SliderStyleModel",
      "state": {
       "description_width": ""
      }
     },
     "af5b0be97d2f4c9ebcdc9f570031fe4b": {
      "model_module": "@jupyter-widgets/controls",
      "model_module_version": "1.5.0",
      "model_name": "ButtonStyleModel",
      "state": {}
     },
     "b0c63b9a649e4679bb6cd91406a0462e": {
      "model_module": "@jupyter-widgets/base",
      "model_module_version": "1.2.0",
      "model_name": "LayoutModel",
      "state": {}
     },
     "b1980210920d4b00bd4417a97b8abba4": {
      "model_module": "@jupyter-widgets/output",
      "model_module_version": "1.0.0",
      "model_name": "OutputModel",
      "state": {
       "layout": "IPY_MODEL_bc109642c3da431299ee4ae51e96acf7",
       "outputs": [
        {
         "data": {
          "image/svg+xml": "<?xml version=\"1.0\" encoding=\"UTF-8\" standalone=\"no\"?>\r\n<!DOCTYPE svg PUBLIC \"-//W3C//DTD SVG 1.1//EN\"\r\n \"http://www.w3.org/Graphics/SVG/1.1/DTD/svg11.dtd\">\r\n<!-- Generated by graphviz version 2.44.2~dev.20200826.1453 (20200826.1453)\r\n -->\r\n<!-- Pages: 1 -->\r\n<svg width=\"534pt\" height=\"213pt\"\r\n viewBox=\"0.00 0.00 533.67 212.65\" xmlns=\"http://www.w3.org/2000/svg\" xmlns:xlink=\"http://www.w3.org/1999/xlink\">\r\n<g id=\"graph0\" class=\"graph\" transform=\"scale(1 1) rotate(0) translate(4 208.65)\">\r\n<polygon fill=\"white\" stroke=\"transparent\" points=\"-4,4 -4,-208.65 529.67,-208.65 529.67,4 -4,4\"/>\r\n<!-- 1 -->\r\n<g id=\"node1\" class=\"node\">\r\n<title>1</title>\r\n<ellipse fill=\"none\" stroke=\"blue\" cx=\"22.1\" cy=\"-102\" rx=\"22.2\" ry=\"22.2\"/>\r\n<text text-anchor=\"middle\" x=\"22.1\" y=\"-98.3\" font-family=\"Times New Roman,serif\" font-size=\"14.00\">1/0</text>\r\n</g>\r\n<!-- 3 -->\r\n<g id=\"node2\" class=\"node\">\r\n<title>3</title>\r\n<ellipse fill=\"none\" stroke=\"black\" cx=\"210.14\" cy=\"-178\" rx=\"26.8\" ry=\"26.8\"/>\r\n<text text-anchor=\"middle\" x=\"210.14\" y=\"-174.3\" font-family=\"Times New Roman,serif\" font-size=\"14.00\">3/inf</text>\r\n</g>\r\n<!-- 1&#45;&gt;3 -->\r\n<g id=\"edge1\" class=\"edge\">\r\n<title>1:&#45;&gt;3:</title>\r\n<path fill=\"none\" stroke=\"black\" d=\"M41.12,-113.38C53.71,-121 71.07,-130.91 87.2,-138 115.7,-150.54 149.42,-161.3 174.17,-168.5\"/>\r\n<polygon fill=\"black\" stroke=\"black\" points=\"183.85,-171.27 173,-172.85 179.04,-169.89 174.24,-168.52 174.24,-168.52 174.24,-168.52 179.04,-169.89 175.47,-164.19 183.85,-171.27 183.85,-171.27\"/>\r\n<text text-anchor=\"middle\" x=\"113.84\" y=\"-160.8\" font-family=\"Times New Roman,serif\" font-size=\"14.00\">1</text>\r\n</g>\r\n<!-- 4 -->\r\n<g id=\"node3\" class=\"node\">\r\n<title>4</title>\r\n<ellipse fill=\"none\" stroke=\"black\" cx=\"113.84\" cy=\"-102\" rx=\"26.8\" ry=\"26.8\"/>\r\n<text text-anchor=\"middle\" x=\"113.84\" y=\"-98.3\" font-family=\"Times New Roman,serif\" font-size=\"14.00\">4/inf</text>\r\n</g>\r\n<!-- 1&#45;&gt;4 -->\r\n<g id=\"edge2\" class=\"edge\">\r\n<title>1:&#45;&gt;4:</title>\r\n<path fill=\"none\" stroke=\"black\" d=\"M44.37,-102C54.03,-102 65.73,-102 76.71,-102\"/>\r\n<polygon fill=\"black\" stroke=\"black\" points=\"86.93,-102 76.93,-106.5 81.93,-102 76.93,-102 76.93,-102 76.93,-102 81.93,-102 76.93,-97.5 86.93,-102 86.93,-102\"/>\r\n<text text-anchor=\"middle\" x=\"65.7\" y=\"-105.8\" font-family=\"Times New Roman,serif\" font-size=\"14.00\">1</text>\r\n</g>\r\n<!-- 5 -->\r\n<g id=\"node4\" class=\"node\">\r\n<title>5</title>\r\n<ellipse fill=\"none\" stroke=\"black\" cx=\"210.14\" cy=\"-55\" rx=\"26.8\" ry=\"26.8\"/>\r\n<text text-anchor=\"middle\" x=\"210.14\" y=\"-51.3\" font-family=\"Times New Roman,serif\" font-size=\"14.00\">5/inf</text>\r\n</g>\r\n<!-- 1&#45;&gt;5 -->\r\n<g id=\"edge3\" class=\"edge\">\r\n<title>1:&#45;&gt;5:</title>\r\n<path fill=\"none\" stroke=\"black\" d=\"M37.57,-85.64C49.5,-73.47 67.59,-57.85 87.2,-51 115.19,-41.22 149.04,-43.33 173.96,-47.26\"/>\r\n<polygon fill=\"black\" stroke=\"black\" points=\"184.05,-49.02 173.43,-51.73 179.13,-48.16 174.2,-47.3 174.2,-47.3 174.2,-47.3 179.13,-48.16 174.98,-42.87 184.05,-49.02 184.05,-49.02\"/>\r\n<text text-anchor=\"middle\" x=\"113.84\" y=\"-54.8\" font-family=\"Times New Roman,serif\" font-size=\"14.00\">1</text>\r\n</g>\r\n<!-- 2 -->\r\n<g id=\"node7\" class=\"node\">\r\n<title>2</title>\r\n<ellipse fill=\"none\" stroke=\"black\" cx=\"499.02\" cy=\"-82\" rx=\"26.8\" ry=\"26.8\"/>\r\n<text text-anchor=\"middle\" x=\"499.02\" y=\"-78.3\" font-family=\"Times New Roman,serif\" font-size=\"14.00\">2/inf</text>\r\n</g>\r\n<!-- 3&#45;&gt;2 -->\r\n<g id=\"edge4\" class=\"edge\">\r\n<title>3:&#45;&gt;2:</title>\r\n<path fill=\"none\" stroke=\"black\" d=\"M236.58,-172.87C277.9,-164.13 361.75,-144.67 429.38,-118 442.02,-113.01 455.37,-106.36 466.91,-100.13\"/>\r\n<polygon fill=\"black\" stroke=\"black\" points=\"475.72,-95.26 469.14,-104.03 471.34,-97.68 466.97,-100.09 466.97,-100.09 466.97,-100.09 471.34,-97.68 464.79,-96.16 475.72,-95.26 475.72,-95.26\"/>\r\n<text text-anchor=\"middle\" x=\"354.58\" y=\"-146.8\" font-family=\"Times New Roman,serif\" font-size=\"14.00\">1</text>\r\n</g>\r\n<!-- 4&#45;&gt;3 -->\r\n<g id=\"edge5\" class=\"edge\">\r\n<title>4:&#45;&gt;3:</title>\r\n<path fill=\"none\" stroke=\"black\" d=\"M135.3,-118.49C148.65,-129.25 166.25,-143.43 180.92,-155.25\"/>\r\n<polygon fill=\"black\" stroke=\"black\" points=\"188.72,-161.54 178.11,-158.77 184.83,-158.4 180.93,-155.27 180.93,-155.27 180.93,-155.27 184.83,-158.4 183.76,-151.76 188.72,-161.54 188.72,-161.54\"/>\r\n<text text-anchor=\"middle\" x=\"161.99\" y=\"-145.8\" font-family=\"Times New Roman,serif\" font-size=\"14.00\">1</text>\r\n</g>\r\n<!-- 4&#45;&gt;5 -->\r\n<g id=\"edge6\" class=\"edge\">\r\n<title>4:&#45;&gt;5:</title>\r\n<path fill=\"none\" stroke=\"black\" d=\"M138.15,-90.38C149.71,-84.62 163.87,-77.56 176.49,-71.27\"/>\r\n<polygon fill=\"black\" stroke=\"black\" points=\"185.77,-66.65 178.83,-75.14 181.3,-68.88 176.82,-71.11 176.82,-71.11 176.82,-71.11 181.3,-68.88 174.81,-67.08 185.77,-66.65 185.77,-66.65\"/>\r\n<text text-anchor=\"middle\" x=\"161.99\" y=\"-82.8\" font-family=\"Times New Roman,serif\" font-size=\"14.00\">1</text>\r\n</g>\r\n<!-- 4&#45;&gt;2 -->\r\n<g id=\"edge7\" class=\"edge\">\r\n<title>4:&#45;&gt;2:</title>\r\n<path fill=\"none\" stroke=\"black\" d=\"M131.25,-81.64C149.68,-58.87 177.76,-24.44 183.49,-19 193.79,-9.24 194.95,0 209.14,0 209.14,0 209.14,0 403.73,0 436,0 462.6,-27.68 479.23,-50.88\"/>\r\n<polygon fill=\"black\" stroke=\"black\" points=\"484.9,-59.16 475.53,-53.45 482.07,-55.03 479.25,-50.91 479.25,-50.91 479.25,-50.91 482.07,-55.03 482.96,-48.36 484.9,-59.16 484.9,-59.16\"/>\r\n<text text-anchor=\"middle\" x=\"306.43\" y=\"-3.8\" font-family=\"Times New Roman,serif\" font-size=\"14.00\">1</text>\r\n</g>\r\n<!-- 6 -->\r\n<g id=\"node5\" class=\"node\">\r\n<title>6</title>\r\n<ellipse fill=\"none\" stroke=\"black\" cx=\"306.43\" cy=\"-82\" rx=\"26.8\" ry=\"26.8\"/>\r\n<text text-anchor=\"middle\" x=\"306.43\" y=\"-78.3\" font-family=\"Times New Roman,serif\" font-size=\"14.00\">6/inf</text>\r\n</g>\r\n<!-- 5&#45;&gt;6 -->\r\n<g id=\"edge8\" class=\"edge\">\r\n<title>5:&#45;&gt;6:</title>\r\n<path fill=\"none\" stroke=\"black\" d=\"M235.91,-62.09C246.55,-65.14 259.16,-68.75 270.71,-72.06\"/>\r\n<polygon fill=\"black\" stroke=\"black\" points=\"280.5,-74.86 269.64,-76.43 275.69,-73.48 270.88,-72.11 270.88,-72.11 270.88,-72.11 275.69,-73.48 272.12,-67.78 280.5,-74.86 280.5,-74.86\"/>\r\n<text text-anchor=\"middle\" x=\"258.29\" y=\"-72.8\" font-family=\"Times New Roman,serif\" font-size=\"14.00\">1</text>\r\n</g>\r\n<!-- 6&#45;&gt;4 -->\r\n<g id=\"edge9\" class=\"edge\">\r\n<title>6:&#45;&gt;4:</title>\r\n<path fill=\"none\" stroke=\"black\" d=\"M279.59,-85.63C273.74,-86.43 267.55,-87.26 261.79,-88 224.1,-92.85 180.77,-96.78 150.98,-99.23\"/>\r\n<polygon fill=\"black\" stroke=\"black\" points=\"140.65,-100.06 150.25,-94.77 145.63,-99.66 150.62,-99.26 150.62,-99.26 150.62,-99.26 145.63,-99.66 150.98,-103.74 140.65,-100.06 140.65,-100.06\"/>\r\n<text text-anchor=\"middle\" x=\"210.14\" y=\"-99.8\" font-family=\"Times New Roman,serif\" font-size=\"14.00\">1</text>\r\n</g>\r\n<!-- 7 -->\r\n<g id=\"node6\" class=\"node\">\r\n<title>7</title>\r\n<ellipse fill=\"none\" stroke=\"black\" cx=\"402.73\" cy=\"-82\" rx=\"26.8\" ry=\"26.8\"/>\r\n<text text-anchor=\"middle\" x=\"402.73\" y=\"-78.3\" font-family=\"Times New Roman,serif\" font-size=\"14.00\">7/inf</text>\r\n</g>\r\n<!-- 6&#45;&gt;7 -->\r\n<g id=\"edge10\" class=\"edge\">\r\n<title>6:&#45;&gt;7:</title>\r\n<path fill=\"none\" stroke=\"black\" d=\"M333.2,-82C343.28,-82 355.02,-82 365.9,-82\"/>\r\n<polygon fill=\"black\" stroke=\"black\" points=\"375.99,-82 365.99,-86.5 370.99,-82 365.99,-82 365.99,-82 365.99,-82 370.99,-82 365.99,-77.5 375.99,-82 375.99,-82\"/>\r\n<text text-anchor=\"middle\" x=\"354.58\" y=\"-85.8\" font-family=\"Times New Roman,serif\" font-size=\"14.00\">1</text>\r\n</g>\r\n<!-- 7&#45;&gt;2 -->\r\n<g id=\"edge11\" class=\"edge\">\r\n<title>7:&#45;&gt;2:</title>\r\n<path fill=\"none\" stroke=\"black\" d=\"M429.5,-82C439.58,-82 451.32,-82 462.2,-82\"/>\r\n<polygon fill=\"black\" stroke=\"black\" points=\"472.29,-82 462.29,-86.5 467.29,-82 462.29,-82 462.29,-82 462.29,-82 467.29,-82 462.29,-77.5 472.29,-82 472.29,-82\"/>\r\n<text text-anchor=\"middle\" x=\"450.88\" y=\"-85.8\" font-family=\"Times New Roman,serif\" font-size=\"14.00\">1</text>\r\n</g>\r\n</g>\r\n</svg>\r\n",
          "text/plain": "<graphviz.dot.Digraph at 0x1faddd9fe50>"
         },
         "metadata": {},
         "output_type": "display_data"
        }
       ]
      }
     },
     "b1f493a2e4d5451c8b9b2b322eec4b4d": {
      "model_module": "@jupyter-widgets/controls",
      "model_module_version": "1.5.0",
      "model_name": "SliderStyleModel",
      "state": {
       "description_width": ""
      }
     },
     "b266ee498bcd4a35a8a4d0a16994259f": {
      "model_module": "@jupyter-widgets/controls",
      "model_module_version": "1.5.0",
      "model_name": "HBoxModel",
      "state": {
       "children": [
        "IPY_MODEL_a27825ef38124c57879ae80585e7b268",
        "IPY_MODEL_4a442ceb9997482b8a473b860ff04a47"
       ],
       "layout": "IPY_MODEL_506fd7035eb64a2384929d07679a4e42"
      }
     },
     "b339b6510d6a45ae8cca9658cea70145": {
      "model_module": "@jupyter-widgets/base",
      "model_module_version": "1.2.0",
      "model_name": "LayoutModel",
      "state": {}
     },
     "b88630329bb44d77adc76f71ec342e70": {
      "model_module": "@jupyter-widgets/base",
      "model_module_version": "1.2.0",
      "model_name": "LayoutModel",
      "state": {}
     },
     "bad434ce1fc0447fb3e1799232f10547": {
      "model_module": "@jupyter-widgets/controls",
      "model_module_version": "1.5.0",
      "model_name": "VBoxModel",
      "state": {
       "_dom_classes": [
        "widget-interact"
       ],
       "children": [
        "IPY_MODEL_7623f4c5bd6c4f438e8365bf3c181a26",
        "IPY_MODEL_eb8f4a51369f41d38675d5017c9a51e2"
       ],
       "layout": "IPY_MODEL_9c2ef028008a48b586b3e5a1cd6288b3"
      }
     },
     "bc109642c3da431299ee4ae51e96acf7": {
      "model_module": "@jupyter-widgets/base",
      "model_module_version": "1.2.0",
      "model_name": "LayoutModel",
      "state": {}
     },
     "bd01825e853c458dadfdf775283fe0cc": {
      "model_module": "@jupyter-widgets/controls",
      "model_module_version": "1.5.0",
      "model_name": "SliderStyleModel",
      "state": {
       "description_width": ""
      }
     },
     "bd4cec9ed7bc4226b7bf3140acc62138": {
      "model_module": "@jupyter-widgets/controls",
      "model_module_version": "1.5.0",
      "model_name": "HBoxModel",
      "state": {
       "children": [
        "IPY_MODEL_f5ef13c06bfb4af8b53d0852c5fc56a9",
        "IPY_MODEL_f061654f000244e09e2e01cb9c45c047"
       ],
       "layout": "IPY_MODEL_323ba9ed0859427d9d0c7ce30764d236"
      }
     },
     "bed43596aa074e7299a657e75a8af546": {
      "model_module": "@jupyter-widgets/controls",
      "model_module_version": "1.5.0",
      "model_name": "ButtonStyleModel",
      "state": {}
     },
     "bf4c61052fcc42c89df42fd83f3d195a": {
      "model_module": "@jupyter-widgets/base",
      "model_module_version": "1.2.0",
      "model_name": "LayoutModel",
      "state": {}
     },
     "c1aa80a217cd42008023f33d2d0346a6": {
      "model_module": "@jupyter-widgets/base",
      "model_module_version": "1.2.0",
      "model_name": "LayoutModel",
      "state": {}
     },
     "c4876a1549844dd9aeb8d66946e4af82": {
      "model_module": "@jupyter-widgets/base",
      "model_module_version": "1.2.0",
      "model_name": "LayoutModel",
      "state": {}
     },
     "c49e35aae9934563acf42e41b5aab178": {
      "model_module": "@jupyter-widgets/base",
      "model_module_version": "1.2.0",
      "model_name": "LayoutModel",
      "state": {}
     },
     "c55361628289471ca66573f5308fca37": {
      "model_module": "@jupyter-widgets/base",
      "model_module_version": "1.2.0",
      "model_name": "LayoutModel",
      "state": {}
     },
     "c6965c29b98341dfb5745bd04df2ee35": {
      "model_module": "@jupyter-widgets/base",
      "model_module_version": "1.2.0",
      "model_name": "LayoutModel",
      "state": {}
     },
     "ca5a9abf9f344130b597dcc180bae222": {
      "model_module": "@jupyter-widgets/controls",
      "model_module_version": "1.5.0",
      "model_name": "ButtonModel",
      "state": {
       "description": "Prev",
       "layout": "IPY_MODEL_dd52fcd7d3534c319aa9063ac2cd5d7f",
       "style": "IPY_MODEL_bed43596aa074e7299a657e75a8af546"
      }
     },
     "caad696bacd449e18d3b9d8da2a2640c": {
      "model_module": "@jupyter-widgets/base",
      "model_module_version": "1.2.0",
      "model_name": "LayoutModel",
      "state": {}
     },
     "d2c9817f81d94fa084822f3322a4bf84": {
      "model_module": "@jupyter-widgets/controls",
      "model_module_version": "1.5.0",
      "model_name": "ButtonModel",
      "state": {
       "description": "Prev",
       "layout": "IPY_MODEL_c55361628289471ca66573f5308fca37",
       "style": "IPY_MODEL_9ea9d84b8b9c46d992a464bca49af15b"
      }
     },
     "d53499f530c94001853c96d499b3b252": {
      "model_module": "@jupyter-widgets/base",
      "model_module_version": "1.2.0",
      "model_name": "LayoutModel",
      "state": {}
     },
     "d90eabb7f7784de2a8d00fb2a9b87859": {
      "model_module": "@jupyter-widgets/controls",
      "model_module_version": "1.5.0",
      "model_name": "IntSliderModel",
      "state": {
       "description": "step",
       "layout": "IPY_MODEL_a9573483200e4ff2b072b3add04c2a35",
       "max": 11,
       "style": "IPY_MODEL_72e2063f3d6f402ebccfd619db01be76"
      }
     },
     "da2acb1498434af5b34419abee88c9fa": {
      "model_module": "@jupyter-widgets/base",
      "model_module_version": "1.2.0",
      "model_name": "LayoutModel",
      "state": {}
     },
     "dd1441f0e9a04c3a8137af490186a5f1": {
      "model_module": "@jupyter-widgets/output",
      "model_module_version": "1.0.0",
      "model_name": "OutputModel",
      "state": {
       "layout": "IPY_MODEL_095f59470cb24565b0a46a964ec98a36",
       "outputs": [
        {
         "data": {
          "image/svg+xml": "<?xml version=\"1.0\" encoding=\"UTF-8\" standalone=\"no\"?>\r\n<!DOCTYPE svg PUBLIC \"-//W3C//DTD SVG 1.1//EN\"\r\n \"http://www.w3.org/Graphics/SVG/1.1/DTD/svg11.dtd\">\r\n<!-- Generated by graphviz version 2.44.2~dev.20200826.1453 (20200826.1453)\r\n -->\r\n<!-- Pages: 1 -->\r\n<svg width=\"548pt\" height=\"113pt\"\r\n viewBox=\"0.00 0.00 547.67 113.30\" xmlns=\"http://www.w3.org/2000/svg\" xmlns:xlink=\"http://www.w3.org/1999/xlink\">\r\n<g id=\"graph0\" class=\"graph\" transform=\"scale(1 1) rotate(0) translate(4 109.3)\">\r\n<polygon fill=\"white\" stroke=\"transparent\" points=\"-4,4 -4,-109.3 543.67,-109.3 543.67,4 -4,4\"/>\r\n<!-- 0 -->\r\n<g id=\"node1\" class=\"node\">\r\n<title>0</title>\r\n<ellipse fill=\"none\" stroke=\"blue\" cx=\"22.1\" cy=\"-34.65\" rx=\"22.2\" ry=\"22.2\"/>\r\n<text text-anchor=\"middle\" x=\"22.1\" y=\"-30.95\" font-family=\"Times New Roman,serif\" font-size=\"14.00\">0/0</text>\r\n</g>\r\n<!-- 1 -->\r\n<g id=\"node2\" class=\"node\">\r\n<title>1</title>\r\n<ellipse fill=\"none\" stroke=\"black\" cx=\"113.84\" cy=\"-78.65\" rx=\"26.8\" ry=\"26.8\"/>\r\n<text text-anchor=\"middle\" x=\"113.84\" y=\"-74.95\" font-family=\"Times New Roman,serif\" font-size=\"14.00\">1/inf</text>\r\n</g>\r\n<!-- 0&#45;&gt;1 -->\r\n<g id=\"edge1\" class=\"edge\">\r\n<title>0:&#45;&gt;1:</title>\r\n<path fill=\"none\" stroke=\"black\" d=\"M42.13,-43.98C53.31,-49.46 67.73,-56.53 80.64,-62.86\"/>\r\n<polygon fill=\"black\" stroke=\"black\" points=\"89.7,-67.3 78.74,-66.94 85.21,-65.1 80.72,-62.9 80.72,-62.9 80.72,-62.9 85.21,-65.1 82.7,-58.86 89.7,-67.3 89.7,-67.3\"/>\r\n<text text-anchor=\"middle\" x=\"65.7\" y=\"-60.45\" font-family=\"Times New Roman,serif\" font-size=\"14.00\">4</text>\r\n</g>\r\n<!-- 2 -->\r\n<g id=\"node3\" class=\"node\">\r\n<title>2</title>\r\n<ellipse fill=\"none\" stroke=\"black\" cx=\"210.14\" cy=\"-26.65\" rx=\"26.8\" ry=\"26.8\"/>\r\n<text text-anchor=\"middle\" x=\"210.14\" y=\"-22.95\" font-family=\"Times New Roman,serif\" font-size=\"14.00\">2/inf</text>\r\n</g>\r\n<!-- 0&#45;&gt;2 -->\r\n<g id=\"edge2\" class=\"edge\">\r\n<title>0:&#45;&gt;2:</title>\r\n<path fill=\"none\" stroke=\"black\" d=\"M44.13,-31.81C56.62,-30.26 72.78,-28.49 87.2,-27.65 116.1,-25.96 148.92,-25.79 173.23,-25.99\"/>\r\n<polygon fill=\"black\" stroke=\"black\" points=\"183.42,-26.11 173.37,-30.5 178.42,-26.05 173.42,-26 173.42,-26 173.42,-26 178.42,-26.05 173.47,-21.5 183.42,-26.11 183.42,-26.11\"/>\r\n<text text-anchor=\"middle\" x=\"113.84\" y=\"-31.45\" font-family=\"Times New Roman,serif\" font-size=\"14.00\">2</text>\r\n</g>\r\n<!-- 1&#45;&gt;2 -->\r\n<g id=\"edge3\" class=\"edge\">\r\n<title>1:&#45;&gt;2:</title>\r\n<path fill=\"none\" stroke=\"black\" d=\"M136.89,-65.15C143.76,-61.04 151.39,-56.58 158.49,-52.65 164.34,-49.41 170.63,-46.07 176.72,-42.91\"/>\r\n<polygon fill=\"black\" stroke=\"black\" points=\"186.03,-38.12 179.19,-46.69 181.59,-40.41 177.14,-42.69 177.14,-42.69 177.14,-42.69 181.59,-40.41 175.08,-38.69 186.03,-38.12 186.03,-38.12\"/>\r\n<text text-anchor=\"middle\" x=\"161.99\" y=\"-56.45\" font-family=\"Times New Roman,serif\" font-size=\"14.00\">5</text>\r\n</g>\r\n<!-- 4 -->\r\n<g id=\"node5\" class=\"node\">\r\n<title>4</title>\r\n<ellipse fill=\"none\" stroke=\"black\" cx=\"409.73\" cy=\"-54.65\" rx=\"26.8\" ry=\"26.8\"/>\r\n<text text-anchor=\"middle\" x=\"409.73\" y=\"-50.95\" font-family=\"Times New Roman,serif\" font-size=\"14.00\">4/inf</text>\r\n</g>\r\n<!-- 1&#45;&gt;4 -->\r\n<g id=\"edge4\" class=\"edge\">\r\n<title>1:&#45;&gt;4:</title>\r\n<path fill=\"none\" stroke=\"black\" d=\"M140.52,-76.9C182.34,-74.03 267.76,-68.11 340.08,-62.65 351.2,-61.81 354,-61.85 365.08,-60.65 367.61,-60.37 370.22,-60.07 372.84,-59.75\"/>\r\n<polygon fill=\"black\" stroke=\"black\" points=\"382.91,-58.44 373.57,-64.19 377.95,-59.09 372.99,-59.73 372.99,-59.73 372.99,-59.73 377.95,-59.09 372.42,-55.26 382.91,-58.44 382.91,-58.44\"/>\r\n<text text-anchor=\"middle\" x=\"261.79\" y=\"-73.45\" font-family=\"Times New Roman,serif\" font-size=\"14.00\">10</text>\r\n</g>\r\n<!-- 3 -->\r\n<g id=\"node4\" class=\"node\">\r\n<title>3</title>\r\n<ellipse fill=\"none\" stroke=\"black\" cx=\"313.43\" cy=\"-26.65\" rx=\"26.8\" ry=\"26.8\"/>\r\n<text text-anchor=\"middle\" x=\"313.43\" y=\"-22.95\" font-family=\"Times New Roman,serif\" font-size=\"14.00\">3/inf</text>\r\n</g>\r\n<!-- 2&#45;&gt;3 -->\r\n<g id=\"edge5\" class=\"edge\">\r\n<title>2:&#45;&gt;3:</title>\r\n<path fill=\"none\" stroke=\"black\" d=\"M236.96,-26.65C248.99,-26.65 263.49,-26.65 276.56,-26.65\"/>\r\n<polygon fill=\"black\" stroke=\"black\" points=\"286.66,-26.65 276.66,-31.15 281.66,-26.65 276.66,-26.65 276.66,-26.65 276.66,-26.65 281.66,-26.65 276.66,-22.15 286.66,-26.65 286.66,-26.65\"/>\r\n<text text-anchor=\"middle\" x=\"261.79\" y=\"-30.45\" font-family=\"Times New Roman,serif\" font-size=\"14.00\">3</text>\r\n</g>\r\n<!-- 3&#45;&gt;4 -->\r\n<g id=\"edge6\" class=\"edge\">\r\n<title>3:&#45;&gt;4:</title>\r\n<path fill=\"none\" stroke=\"black\" d=\"M339.21,-34C349.84,-37.16 362.46,-40.91 374,-44.34\"/>\r\n<polygon fill=\"black\" stroke=\"black\" points=\"383.79,-47.24 372.93,-48.71 379,-45.82 374.21,-44.4 374.21,-44.4 374.21,-44.4 379,-45.82 375.49,-40.08 383.79,-47.24 383.79,-47.24\"/>\r\n<text text-anchor=\"middle\" x=\"361.58\" y=\"-45.45\" font-family=\"Times New Roman,serif\" font-size=\"14.00\">4</text>\r\n</g>\r\n<!-- 5 -->\r\n<g id=\"node6\" class=\"node\">\r\n<title>5</title>\r\n<ellipse fill=\"none\" stroke=\"black\" cx=\"513.02\" cy=\"-54.65\" rx=\"26.8\" ry=\"26.8\"/>\r\n<text text-anchor=\"middle\" x=\"513.02\" y=\"-50.95\" font-family=\"Times New Roman,serif\" font-size=\"14.00\">5/inf</text>\r\n</g>\r\n<!-- 4&#45;&gt;5 -->\r\n<g id=\"edge7\" class=\"edge\">\r\n<title>4:&#45;&gt;5:</title>\r\n<path fill=\"none\" stroke=\"black\" d=\"M436.55,-54.65C448.58,-54.65 463.08,-54.65 476.15,-54.65\"/>\r\n<polygon fill=\"black\" stroke=\"black\" points=\"486.25,-54.65 476.25,-59.15 481.25,-54.65 476.25,-54.65 476.25,-54.65 476.25,-54.65 481.25,-54.65 476.25,-50.15 486.25,-54.65 486.25,-54.65\"/>\r\n<text text-anchor=\"middle\" x=\"461.38\" y=\"-58.45\" font-family=\"Times New Roman,serif\" font-size=\"14.00\">11</text>\r\n</g>\r\n</g>\r\n</svg>\r\n",
          "text/plain": "<graphviz.dot.Digraph at 0x1faddd4fee0>"
         },
         "metadata": {},
         "output_type": "display_data"
        }
       ]
      }
     },
     "dd52fcd7d3534c319aa9063ac2cd5d7f": {
      "model_module": "@jupyter-widgets/base",
      "model_module_version": "1.2.0",
      "model_name": "LayoutModel",
      "state": {}
     },
     "df647bac98bb4d618ff0ddceb8db0c7b": {
      "model_module": "@jupyter-widgets/output",
      "model_module_version": "1.0.0",
      "model_name": "OutputModel",
      "state": {
       "layout": "IPY_MODEL_4ce7b1d8bbe44ad7bf471b2a16a8fe7c",
       "outputs": [
        {
         "data": {
          "image/svg+xml": "<?xml version=\"1.0\" encoding=\"UTF-8\" standalone=\"no\"?>\r\n<!DOCTYPE svg PUBLIC \"-//W3C//DTD SVG 1.1//EN\"\r\n \"http://www.w3.org/Graphics/SVG/1.1/DTD/svg11.dtd\">\r\n<!-- Generated by graphviz version 2.44.2~dev.20200826.1453 (20200826.1453)\r\n -->\r\n<!-- Pages: 1 -->\r\n<svg width=\"346pt\" height=\"93pt\"\r\n viewBox=\"0.00 0.00 346.08 93.30\" xmlns=\"http://www.w3.org/2000/svg\" xmlns:xlink=\"http://www.w3.org/1999/xlink\">\r\n<g id=\"graph0\" class=\"graph\" transform=\"scale(1 1) rotate(0) translate(4 89.3)\">\r\n<polygon fill=\"white\" stroke=\"transparent\" points=\"-4,4 -4,-89.3 342.08,-89.3 342.08,4 -4,4\"/>\r\n<!-- 1 -->\r\n<g id=\"node1\" class=\"node\">\r\n<title>1</title>\r\n<ellipse fill=\"none\" stroke=\"blue\" cx=\"22.1\" cy=\"-58.65\" rx=\"22.2\" ry=\"22.2\"/>\r\n<text text-anchor=\"middle\" x=\"22.1\" y=\"-54.95\" font-family=\"Times New Roman,serif\" font-size=\"14.00\">1/0</text>\r\n</g>\r\n<!-- 2 -->\r\n<g id=\"node2\" class=\"node\">\r\n<title>2</title>\r\n<ellipse fill=\"none\" stroke=\"black\" cx=\"215.14\" cy=\"-58.65\" rx=\"26.8\" ry=\"26.8\"/>\r\n<text text-anchor=\"middle\" x=\"215.14\" y=\"-54.95\" font-family=\"Times New Roman,serif\" font-size=\"14.00\">2/inf</text>\r\n</g>\r\n<!-- 1&#45;&gt;2 -->\r\n<g id=\"edge1\" class=\"edge\">\r\n<title>1:&#45;&gt;2:</title>\r\n<path fill=\"none\" stroke=\"black\" d=\"M44.15,-61.84C49.98,-62.59 56.32,-63.27 62.2,-63.65 110.23,-66.71 122.44,-66.39 170.49,-63.65 173.02,-63.5 175.63,-63.31 178.26,-63.09\"/>\r\n<polygon fill=\"black\" stroke=\"black\" points=\"188.33,-62.1 178.82,-67.55 183.36,-62.59 178.38,-63.08 178.38,-63.08 178.38,-63.08 183.36,-62.59 177.94,-58.6 188.33,-62.1 188.33,-62.1\"/>\r\n<text text-anchor=\"middle\" x=\"113.84\" y=\"-69.45\" font-family=\"Times New Roman,serif\" font-size=\"14.00\">2</text>\r\n</g>\r\n<!-- 3 -->\r\n<g id=\"node3\" class=\"node\">\r\n<title>3</title>\r\n<ellipse fill=\"none\" stroke=\"black\" cx=\"113.84\" cy=\"-26.65\" rx=\"26.8\" ry=\"26.8\"/>\r\n<text text-anchor=\"middle\" x=\"113.84\" y=\"-22.95\" font-family=\"Times New Roman,serif\" font-size=\"14.00\">3/inf</text>\r\n</g>\r\n<!-- 1&#45;&gt;3 -->\r\n<g id=\"edge2\" class=\"edge\">\r\n<title>1:&#45;&gt;3:</title>\r\n<path fill=\"none\" stroke=\"black\" d=\"M43.46,-51.39C53.89,-47.67 66.86,-43.05 78.75,-38.8\"/>\r\n<polygon fill=\"black\" stroke=\"black\" points=\"88.41,-35.36 80.5,-42.96 83.7,-37.04 78.99,-38.72 78.99,-38.72 78.99,-38.72 83.7,-37.04 77.48,-34.48 88.41,-35.36 88.41,-35.36\"/>\r\n<text text-anchor=\"middle\" x=\"65.7\" y=\"-48.45\" font-family=\"Times New Roman,serif\" font-size=\"14.00\">3</text>\r\n</g>\r\n<!-- 4 -->\r\n<g id=\"node4\" class=\"node\">\r\n<title>4</title>\r\n<ellipse fill=\"none\" stroke=\"black\" cx=\"311.43\" cy=\"-58.65\" rx=\"26.8\" ry=\"26.8\"/>\r\n<text text-anchor=\"middle\" x=\"311.43\" y=\"-54.95\" font-family=\"Times New Roman,serif\" font-size=\"14.00\">4/inf</text>\r\n</g>\r\n<!-- 2&#45;&gt;4 -->\r\n<g id=\"edge3\" class=\"edge\">\r\n<title>2:&#45;&gt;4:</title>\r\n<path fill=\"none\" stroke=\"black\" d=\"M241.91,-58.65C251.99,-58.65 263.73,-58.65 274.61,-58.65\"/>\r\n<polygon fill=\"black\" stroke=\"black\" points=\"284.7,-58.65 274.7,-63.15 279.7,-58.65 274.7,-58.65 274.7,-58.65 274.7,-58.65 279.7,-58.65 274.7,-54.15 284.7,-58.65 284.7,-58.65\"/>\r\n<text text-anchor=\"middle\" x=\"263.29\" y=\"-62.45\" font-family=\"Times New Roman,serif\" font-size=\"14.00\">1</text>\r\n</g>\r\n<!-- 3&#45;&gt;2 -->\r\n<g id=\"edge4\" class=\"edge\">\r\n<title>3:&#45;&gt;2:</title>\r\n<path fill=\"none\" stroke=\"black\" d=\"M139.39,-34.56C151.56,-38.48 166.47,-43.28 179.76,-47.57\"/>\r\n<polygon fill=\"black\" stroke=\"black\" points=\"189.53,-50.72 178.63,-51.93 184.77,-49.18 180.01,-47.65 180.01,-47.65 180.01,-47.65 184.77,-49.18 181.39,-43.37 189.53,-50.72 189.53,-50.72\"/>\r\n<text text-anchor=\"middle\" x=\"164.49\" y=\"-48.45\" font-family=\"Times New Roman,serif\" font-size=\"14.00\">&#45;2</text>\r\n</g>\r\n</g>\r\n</svg>\r\n",
          "text/plain": "<graphviz.dot.Digraph at 0x1fadddc4220>"
         },
         "metadata": {},
         "output_type": "display_data"
        }
       ]
      }
     },
     "e0a7b5267d2e4e0d8aa16e42eadc7f8f": {
      "model_module": "@jupyter-widgets/controls",
      "model_module_version": "1.5.0",
      "model_name": "HBoxModel",
      "state": {
       "children": [
        "IPY_MODEL_d2c9817f81d94fa084822f3322a4bf84",
        "IPY_MODEL_6fd791a763674809ba9529f5b89df962"
       ],
       "layout": "IPY_MODEL_0f2049f040a04b31ad9d753e655ac460"
      }
     },
     "e25a2efa661b46938e018cfd623266e7": {
      "model_module": "@jupyter-widgets/base",
      "model_module_version": "1.2.0",
      "model_name": "LayoutModel",
      "state": {}
     },
     "e50f0e6ea6fd4dc289b91babee250fab": {
      "model_module": "@jupyter-widgets/controls",
      "model_module_version": "1.5.0",
      "model_name": "VBoxModel",
      "state": {
       "_dom_classes": [
        "widget-interact"
       ],
       "children": [
        "IPY_MODEL_702458b98d5d4656ba743e0d3f9be53f",
        "IPY_MODEL_b1980210920d4b00bd4417a97b8abba4"
       ],
       "layout": "IPY_MODEL_c1aa80a217cd42008023f33d2d0346a6"
      }
     },
     "e5a9581334484e51af5371b63436d1b9": {
      "model_module": "@jupyter-widgets/controls",
      "model_module_version": "1.5.0",
      "model_name": "VBoxModel",
      "state": {
       "_dom_classes": [
        "widget-interact"
       ],
       "children": [
        "IPY_MODEL_1fee4f6646504e6ca737b43bf32b3a4b",
        "IPY_MODEL_16180121b3664304988539c93e5db025"
       ],
       "layout": "IPY_MODEL_a9db4d11e0f04bae9654627bbd25fda4"
      }
     },
     "e68f5d80f59e4bf09be9a4477687a51d": {
      "model_module": "@jupyter-widgets/controls",
      "model_module_version": "1.5.0",
      "model_name": "ButtonModel",
      "state": {
       "description": "Prev",
       "layout": "IPY_MODEL_910d41541efa49c6a0ff92da6727497c",
       "style": "IPY_MODEL_8eeeb586c1f041a3ac27531eb52a909c"
      }
     },
     "e791f3b4414649e496b1bd3c8019dc08": {
      "model_module": "@jupyter-widgets/base",
      "model_module_version": "1.2.0",
      "model_name": "LayoutModel",
      "state": {}
     },
     "e851089377a647598a0fed82741ea12e": {
      "model_module": "@jupyter-widgets/base",
      "model_module_version": "1.2.0",
      "model_name": "LayoutModel",
      "state": {}
     },
     "eb7080c2a7e34757b04024a397d310f5": {
      "model_module": "@jupyter-widgets/controls",
      "model_module_version": "1.5.0",
      "model_name": "ButtonStyleModel",
      "state": {}
     },
     "eb7fe858b8144d9bbf2ac14cf11baac8": {
      "model_module": "@jupyter-widgets/controls",
      "model_module_version": "1.5.0",
      "model_name": "IntSliderModel",
      "state": {
       "description": "step",
       "layout": "IPY_MODEL_3b23af0205624f4dbc26576ae44c5e40",
       "max": 13,
       "style": "IPY_MODEL_58ca8c2dbefc4007abe23805673c73a3"
      }
     },
     "eb8f4a51369f41d38675d5017c9a51e2": {
      "model_module": "@jupyter-widgets/output",
      "model_module_version": "1.0.0",
      "model_name": "OutputModel",
      "state": {
       "layout": "IPY_MODEL_4f7393b6acad4861abb5c4881e2527e4",
       "outputs": [
        {
         "data": {
          "image/png": "iVBORw0KGgoAAAANSUhEUgAAA1YAAANCCAYAAABlG13mAAAAOXRFWHRTb2Z0d2FyZQBNYXRwbG90bGliIHZlcnNpb24zLjMuMCwgaHR0cHM6Ly9tYXRwbG90bGliLm9yZy86wFpkAAAACXBIWXMAAAsTAAALEwEAmpwYAAAi7UlEQVR4nO3df6zld13n8de7bWqdSmmBQQkyM9UaalXWxWsi+IeroNgaZLNSG1J2g8Rc3WRXlKxGOjR0SWaBTRAMXQMDiWzcaVipKEKozdbQ0khYnQY1LpR1kU6RX7buANaLLbaf/eOcwduzd5gf73vu9947j0dy0jnf7/fc+0743sN93vP9UWOMAAAAcPbOm3oAAACAnU5YAQAANAkrAACAJmEFAADQJKwAAACahBUAAEDTUsKqqq6tqt+vqs9U1UNVdU9VvWRhm6qqG6rq01X1lar6UFV97zLmAQAAWKZlfWL1yiQPJfmlJD+Z5INJbqmqf79um19NcmOSNyR54Xz7O6rqW5Y0EwAAwFLUMm4QXFVPGWM8uLDsliTPGWNcXlUXJflCkjeOMV47X39xkvuSvG2M8epNHwoAAGBJlvKJ1WJUzX00yVPn/35ukkuS/Pa61/x9kvcluXoZMwEAACzLVl684rlJPjb/95VJHk3ylwvbfHy+DgAAYMfYkrCqqucleVGS/zJfdFmSh8YYjy5sejzJnqq6cCvmAgAA2AwXLPsbVNWBJLckee8Y453rVm10cld9nXWpqtUkq0ly8cUXf9+VV/pwCwAA6LvnnnseHGPsPdvXLzWsqupJSW5Lcn+Sl65bdTzJE6rq/IVPrS5NsjbG+OpGX2+McTjJ4SRZWVkZR48eXcrcAADAuaWqjnVev7RDAatqT5L3J7kwyU/ML05xwr1Jzk9yxcLLrpyvAwAA2DGWdYPgC5K8O8l3JLl6jPE3C5t8OMmXk1y77jV7Mruf1W3LmAkAAGBZlnUo4G8kuSbJK5I8qap+YN26j44x/qGqXp/kxqo6ntmnVK/MLPTesqSZAAAAlmJZYfVj8//++gbrLs/sRsCvzyykXpXkyUmOJvnRMcYXljQTAADAUiwlrMYYB05jm5Hk0PwBAACwY23lDYIBAAB2JWEFAADQJKwAAACahBUAAECTsAIAAGgSVgAAAE3CCgAAoElYAQAANAkrAACAJmEFAADQJKwAAACahBUAAECTsAIAAGgSVgAAAE3CCgAAoElYAQAANAkrAACAJmEFAADQJKwAAACahBUAAECTsAIAAGgSVgAAAE3CCgAAoElYAQAANAkrAACAJmEFAADQJKwAAACahBUAAECTsAIAAGgSVgAAAE3CCgAAoElYAQAANAkrAACAJmEFAADQJKwAAACahBUAAECTsAIAAGgSVgAAAE3CCgAAoElYAQAANAkrAACAJmEFAADQJKwAAACahBUAAECTsAIAAGgSVgAAAE3CCgAAoElYAQAANAkrAACAJmEFAADQJKwAAACahBUAAECTsAIAAGgSVgAAAE3CCgAAoElYAQAANAkrAACAJmEFAADQJKwAAACahBUAAECTsAIAAGgSVgAAAE3CCgAAoElYAQAANAkrAACAJmEFAADQJKwAAACahBUAAECTsAIAAGgSVgAAAE3CCgAAoElYAQAANAkrAACAJmEFAADQJKwAAACahBUAAECTsAIAAGgSVgAAAE3CCgAAoElYAQAANAkrAACAJmEFAADQJKwAAACahBUAAECTsAIAAGgSVgAAAE3CCgAAoElYAQAANAkrAACAJmEFAADQJKwAAACahBUAAECTsAIAAGgSVgAAAE3CCgAAoElYAQAANAkrAACAJmEFAADQJKwAAACahBUAAECTsAIAAGgSVgAAAE3CCgAAoElYAQAANAkrAACAJmEFAADQJKwAAACahBUAAECTsAIAAGgSVgAAAE3CCgAAoElYAQAANAkrAACAJmEFAADQJKwAAACahBUAAECTsAIAAGgSVgAAAE3CCgAAoGlpYVVVV1TV26rqz6rq0aq6c4Nt7quqsfD4/LJmAgAAWIYLlvi1vyvJNUk+kuTCr7PdLUnesu75I0ucCQAAYNMtM6zeN8Z4b5JU1a1JnnKS7T43xvjIEucAAABYqqUdCjjGeGxZXxsAAGA72Q4Xr3h5VT1SVV+qqlurav/UAwEAAJyJZR4KeDrem9k5WH+d5DuTvCbJ3VX1PWOML006GQAAwGmaNKzGGK9Y9/Tuqvpwkj9N8jNJ3ry4fVWtJllNkn379m3BhAAAAKe2HQ4F/Joxxl8k+USSZ59k/eExxsoYY2Xv3r1bOxwAAMBJbKuwWmdMPQAAAMDp2lZhVVXfneSZSe6ZehYAAIDTtbRzrKpqT2Y3CE6Spye5pKpePH/+gSQ/nOSlSd6f5LNJrkzy6iT3J3nnsuYCAADYbMu8eMVTk7x7YdmJ55cn+fR8mzcnuTTJ3yb5gyQ3jDG+vMS5AAAANtXSwmqMcV+SOsVmz1vW9wcAANgq2+ocKwAAgJ1IWAEAADQJKwAAgCZhBQAA0CSsAAAAmoQVAABAk7ACAABoElYAAABNwgoAAKBJWAEAADQJKwAAgCZhBQAA0CSsAAAAmoQVAABAk7ACAABoElYAAABNwgoAAKBJWAEAADQJKwAAgCZhBQAA0CSsAAAAmoQVAABAk7ACAABoElYAAABNwgoAAKBJWAEAADQJKwAAgCZhBQAA0CSsAAAAmoQVAABAk7ACAABoElYAAABNwgoAAKBJWAEAADQJKwAAgCZhBQAA0CSsAAAAmoQVAABAk7ACAABoElYAAABNwgoAAKBJWAEAADQJKwAAgCZhBQAA0CSsAAAAmoQVAABAk7ACAABoElYAAABNwgoAAKBJWAEAADQJKwAAgCZhBQAA0CSsAAAAmoQVAABAk7ACAABoElYAAABNwgoAAKBJWAEAADQJKwAAgCZhBQAA0CSsAAAAmoQVAABAk7ACAABoElYAAABNwgoAAKBJWAEAADQJKwAAgCZhBQAA0CSsAAAAmoQVAABAk7ACAABoElYAAABNwgoAAKBJWAEAADQJKwAAgCZhBQAA0CSsAAAAmoQVAABAk7ACAABoElYAAABNwgoAAKBJWAEAADQJKwAAgCZhBQAA0CSsAAAAmoQVAABAk7ACAABoElYAAABNwgoAAKBJWAEAADQJKwAAgCZhBQAA0CSsAAAAmoQVAABAk7ACAABoElYAAABNwgoAAKBJWAEAADQJKwAAgCZhBQAA0CSsAAAAmoQVAABAk7ACAABoElYAAABNwgoAAKBJWAEAADQJKwAAgCZhBQAA0CSsAAAAmoQVAABAk7ACAABoElYAAABNwgoAAKBJWAEAADQJKwAAgCZhBQAA0CSsAAAAmoQVAABAk7ACAABoWlpYVdUVVfW2qvqzqnq0qu7cYJuqqhuq6tNV9ZWq+lBVfe+yZgIAAFiGZX5i9V1Jrknyv+ePjfxqkhuTvCHJC5M8lOSOqvqWJc4FAACwqZYZVu8bYzxjjHFtkv+1uLKqLsosrF43xrh5jHFHkmuTjCT/bolzAQAAbKqlhdUY47FTbPLcJJck+e11r/n7JO9LcvWy5gIAANhsU1684sokjyb5y4XlH5+vAwAA2BGmDKvLkjw0xnh0YfnxJHuq6sIJZgIAADhjU19ufWywrE62rqpWq+poVR194IEHljsZAADAaZoyrI4neUJVnb+w/NIka2OMry6+YIxxeIyxMsZY2bt371bMCAAAcEpThtW9Sc5PcsXC8ivn6wAAAHaEKcPqw0m+nNkl1pMkVbUns/tZ3TbVUAAAAGfqgmV94XkkXTN/+vQkl1TVi+fPPzDGWKuq1ye5saqOZ/Yp1Sszi723LGsuAACAzba0sEry1CTvXlh24vnlSe5L8vrMQupVSZ6c5GiSHx1jfGGJcwEAAGyqpYXVGOO+/NMV/k62zUhyaP4AAADYkaa+3DoAAMCOJ6wAAACahBUAAECTsAIAAGgSVgAAAE3CCgAAoElYAQAANAkrAACAJmEFAADQJKwAAACahBUAAECTsAIAAGgSVgAAAE3CCgAAoElYAQAANAkrAACAJmEFAADQJKwAAACahBUAAECTsAIAAGgSVgAAAE3CCgAAoElYAQAANAkrAACAJmEFAADQJKwAAACahBUAAECTsAIAAGgSVgAAAE3CCgAAoElYAQAANAkrAACAJmEFAADQJKwAAACahBUAAECTsAIAAGgSVgAAAE3CCgAAoElYAQAANAkrAACAJmEFAADQJKwAAACahBUAAECTsAIAAGgSVgAAAE3CCgAAoElYAQAANAkrAACAJmEFAADQJKwAAACahBUAAECTsAIAAGgSVgAAAE3CCgAAoElYAQAANAkrAACAJmEFAADQJKwAAACahBUAAECTsAIAAGgSVgAAAE3CCgAAoElYAQAANAkrAACAJmEFAADQJKwAAACahBUAAECTsAIAAGgSVgAAAE3CCgAAoElYAQAANAkrAACAJmEFAADQJKwAAACahBUAAECTsAIAAGgSVgAAAE3CCgAAoElYAQAANAkrAACAJmEFAADQJKwAAACahBUAAECTsAIAAGgSVgAAAE3CCgAAoElYAQAANAkrAACAJmEFAADQJKwAAACahBUAAECTsAIAAGgSVgAAAE3CCgAAoElYAQAANAkrAACAJmEFAADQJKwAAACahBUAAECTsAIAAGgSVgAAAE3CCgAAoElYAQAANAkrAACAJmEFAADQJKwAAACahBUAAECTsAIAAGgSVgAAAE3CCgAAoElYAQAANAkrAACAJmEFAADQJKwAAACahBUAAECTsAIAAGgSVgAAAE3CCgAAoElYAQAANE0aVlX1sqoaGzx+fsq5AAAAzsQFUw8w9yNJvrLu+V9NNQgAAMCZ2i5h9SdjjIemHgIAAOBsOMcKgF3pyJEjOXDgQM4777wcOHAgR44cmXokAHax7RJWn6yqf6yqT1TVz009DAA725EjR7K6uppjx45ljJFjx45ldXVVXAGwNFOH1eeS3JjkXyd5YZL/meStVfVLk04FwI528ODBrK2tPW7Z2tpaDh48ONFEAOx2NcaYeobHqar/nuT5SfaOMR5bWLeaZDVJ9u3b933Hjh2bYEIAtrvzzjsvG/3/W1Xlscce2+AVAJzrquqeMcbK2b5+6k+sNnJrkiclObC4YoxxeIyxMsZY2bt375YPBsDOsG/fvjNaDgBd2zGsTtheH6UBsGMcOnQoe/bsedyyPXv25NChQxNNBMButx3D6qeSPJjEcX4AnJXrr78+hw8fzv79+1NV2b9/fw4fPpzrr79+6tEA2KUmPceqqn4nyR8n+fMk5ye5LslLk/zCGOMtX++1Kysr4+jRo8sfEgAA2PW651hNfYPgTyR5eZJnJKkkH0vyb8YYvzXpVAAAAGdg0rAaY9yQ5IYpZwAAAOjajudYAQAA7CjCCgAAoElYAQAANAkrAACAJmEFAADQJKwAAACahBUAAECTsAIAAGgSVgAAAE3CCgAAoElYAQAANAkrAACAJmEFAADQJKwAAACahBUAAECTsAIAAGgSVgAAAE3CCgAAoElYAQAANAkrAACAJmEFAADQJKwAAACahBUAAECTsAIAAGgSVgAAAE3CCgAAoElYAQAANAkrAACAJmEFAADQJKwAAACahBUAAECTsAIAAGgSVgAAAE3CCgAAoElYAQAANAkrAACAJmEFAADQJKwAAACahBUAAECTsAIAAGgSVgAAAE3CCgAAoElYAQAANAkrAACAJmEFAADQJKwAAACahBUAAECTsAIAAGgSVgAAAE3CCgAAoElYAQAANAkrAACAJmEFAADQJKwAAACahBUAAECTsAIAAGgSVgAAAE3CCgAAoElYAQAANAkrAACAJmEFAADQJKwAAACahBUAAECTsAIAAGgSVgAAAE3CCgAAoElYAQAANAkrAACAJmEFAADQJKwAAACahBUAAECTsAIAAGgSVgAAAE3CCgAAoElYAQAANAkrAACAJmEFAADQJKwAAACahBUAAECTsAIAAGgSVgAAAE3CCgAAoElYAQAANAkrAACAJmEFAADQJKwAAACahBUAAECTsAIAAGgSVgAAAE3CCgAAoElYAQAANAkrAACAJmEFAADQJKwAAACahBUAAECTsAIAAGgSVgAAAE3CCgAAoElYAQAANAkrAACAJmEFAADQJKwAAACahBUAAECTsAIAAGgSVgAAAE3CCgAAoElYAbvGkSNHcuDAgZx33nk5cOBAjhw5MvVIAMA54oKpBwDYDEeOHMnq6mrW1taSJMeOHcvq6mqS5Prrr59yNADgHOATK2BXOHjw4Nei6oS1tbUcPHhwookAgHOJsAJ2hfvvv/+MlgMAbCZhBewK+/btO6PlAACbSVgBu8KhQ4eyZ8+exy3bs2dPDh06NNFEAMC5RFgBu8L111+fw4cPZ//+/amq7N+/P4cPH3bhCgBgS9QYY+oZzsrKyso4evTo1GMAAAC7QFXdM8ZYOdvX+8QKAACgSVgBAAA0CSsAAIAmYQUAANAkrAAAAJomDauquqqq/rCq1qrqs1X12qo6f8qZAAAAztQFU33jqrosyR1JPpbkRUm+PckbM4u9V081FwAAwJmaLKyS/HySb0zyr8YYX07yP6rqkiQ3VdV/ni8DAADY9qY8FPDqJLcvBNS7MoutH5pmJAAAgDM3ZVhdmeTe9QvGGPcnWZuvAwAA2BGmDKvLknxxg+XH5+sAAAB2hKkvtz42WFYnWZ6qWq2qo1V19IEHHljuZAAAAKdpyrA6nuTSDZY/MRt/kpUxxuExxsoYY2Xv3r1LHA0AAOD0TRlW92bhXKqqekaSi7Nw7hUAAMB2NmVY3ZbkBVX1hHXLrkvylSR3TTMSAADAmZsyrN6a5OEk76mq51fVapKbkvyae1gBAAA7yWQ3CB5jHK+q5yW5Ocn7Mjuv6k2ZxRUAAMCOMVlYJckY42NJfmTKGQAAALqmvtw6AADAjiesAAAAmoQVAABAk7ACAABoElYAAABNwgoAAKBJWAEAADQJKwAAgCZhBQAA0CSsAAAAmoQVAABAk7ACAABoElYAAABNwgoAAKBJWAEAADQJKwAAgCZhBQAA0CSsAAAAmoQVAABAk7ACAABoElYAAABNwgoAAKBJWAEAADQJKwAAgCZhBQAA0CSsAAAAmoQVAABAk7ACAABoElYAAABNwgoAAKBJWAEAADQJKwAAgCZhBQAA0CSsAAAAmoQVAABAk7ACAABoElYAAABNwgoAAKBJWAEAADQJKwAAgCZhBQAA0CSsAAAAmoQVAABAk7ACAABoElYAAABNwgoAAKBJWAEAADQJKwAAgCZhBQAA0CSsAAAAmoQVAABAk7ACAABoElYAAABNwgoAAKBJWAEAADQJKwAAgCZhBQAA0CSsAAAAmoQVAABAk7ACAABoElYAAABNwgoAAKBJWAEAADQJKwAAgCZhBQAA0CSsAAAAmoQVAABAk7ACAABoElYAAABNwgoAAKBJWAEAADQJKwAAgCZhBQAA0CSsAAAAmoQVAABAk7ACAABoElYAAABNwgoAAKBJWAEAADQJKwAAgCZhBQAA0CSsAAAAmoQVAABAk7ACAABoElYAAABNwgoAAKBJWAEAADQJKwAAgCZhBQAA0CSsAAAAmoQVAABAk7ACAABoElYAAABNwgoAAKBJWAEAADQJKwAAgCZhBQAA0CSsAAAAmoQVAABAk7ACAABoElYAAABNwgoAAKBJWAEAADQJKwAAgCZhBQAA0CSsAAAAmoQVAABAk7ACAABoElYAAABNwgoAAKBJWAEAADQJKwAAgCZhBQAA0CSsAAAAmoQVAABAk7ACAABoElYAAABNwgoAAKBJWAEAADRNFlZVdWdVjQ0eF001EwAAwNm4YOLv/8EkNywse3iKQQAAAM7W1GH1f8cYH5l4BgAAgBbnWAEAADRNHVY/VlVr88ftVfWsiecBAAA4Y1OG1V1JXpHkBUlWk+xLcndVHZhwJgAAgDO2aedYVdUTkzztVNuNMe6d//c16xbfXVV3JLk3yS/OHxt9j9XMIiz79u3rDQwAALBJNvPiFdcmeftpbFcbLRxjfL6q/ijJs0/2wjHG4SSHk2RlZWWczZAAAACbbdMOBRxjvGOMUad6nM6X2qyZAAAAtsLUF6/4mqr65iQ/mOSeqWcBAAA4E5Pcx2p+9b/XJXl3kmOZXbjiVUkeS/LmKWYCAAA4W1PdIPhvMzvX6nVJnpzk75LcmeRfjjHun2gmAACAszJJWI0xPpPkmim+NwAAwGbbNudYAQAA7FTCCgAAoElYAQAANAkrAACAJmEFAADQJKwAAACahBUAAECTsAIAAGgSVgAAAE3CCgAAoElYAQAANAkrAACAJmEFAADQJKwAAACahBUAAECTsAIAAGgSVgAAAE3CCgAAoElYAQAANAkrAACAJmEFAADQJKwAAACahBUAAECTsAIAAGgSVgAAAE3CCgAAoElYAQAANAkrAACAJmEFAADQJKwAAACahBUAAECTsAIAAGgSVgAAAE3CCgAAoElYAQAANAkrAACAJmEFAADQJKwAAACahBUAAECTsAIAAGgSVgAAAE3CCgAAoElYAQAANAkrAACAJmEFAADQJKwAAACahBUAAECTsAIAAGgSVgAAAE3CCgAAoElYAQAANAkrAACAJmEFAADQJKwAAACahBUAAECTsAIAAGgSVgAAAE3CCgAAoElYAQAANAkrAACAJmEFAADQJKwAAACahBUAAECTsAIAAGgSVgAAAE3CCgAAoElYAQAANAkrAACAJmEFAADQJKwAAACahBUAAECTsAIAAGgSVgAAAE3CCgAAoElYAQAANAkrAACAJmEFAADQJKwAAACahBUAAECTsAIAAGgSVgAAAE3CCgAAoElYAQAANAkrAACAJmEFAADQJKwAAACahBUAAECTsAIAAGgSVgAAAE3CCgAAoElYAQAANAkrAACAJmEFAADQJKwAAACahBUAAECTsAIAAGgSVgAAAE3CCgAAoElYAQAANAkrAACAJmEFAADQJKwAAACahBUAAECTsAIAAGgSVgAAAE3CCgAAoElYAQAANAkrAACAJmEFAADQJKwAAACahBUAAECTsAIAAGgSVgAAAE3CCgAAoElYAQAANAkrAACAJmEFAADQJKwAAACahBUAAEDTUsKqqq6rqvdU1eeqalTVy06y3dOr6ner6qGqerCqbq6qPcuYCQAAYFmW9YnVi5McSPL+k21QVRckuT3J/iTXJXlFkmuTHF7STAAAAEtxwZK+7nVjjMeq6puS/OxJtrk2yXcmuWKM8akkqaqvJnlXVf3HMcZfLmk2AACATbWUT6zGGI+dxmZXJ/mTE1E193tJHkny48uYCwAAYBmmvHjFlUnuXb9gjPFIkk/O1wEAAOwIU4bVZUm+uMHy4/N1AAAAO8JpnWNVVU9M8rRTbTfGuPdU2yy+ZKNvd5LlqarVJKvzpw9X1V+c4fdj93pKkgenHoJtw/7AevYH1rM/sJ79gfWe2Xnx6V684tokbz+N7eoMvvfxJJdusPzSbPxJVsYYhzO/amBVHR1jrJzB92MXsz+wnv2B9ewPrGd/YD37A+tV1dHO60/rUMAxxjvGGHWqxxl+73uzcC5VVV2Y5NuycO4VAADAdjblOVa3Jfn+qtq/btlPJvmGJH8wzUgAAABnbin3saqqq5JcleSi+aKVqnooyQNjjLvmy25NcjDJe6rqxiRPTPKmJLec5j2s3EiY9ewPrGd/YD37A+vZH1jP/sB6rf2hxtjwOhEtVXVTktdssOquMca/WLfdtya5Ocnzkzyc5F1JfnmMsbbpQwEAACzJUsIKAADgXDLlOVZnpaquq6r3VNXnqmpU1ctOst3Tq+p3q+qhqnqwqm6uqj1bPC5brKrunO8Xi4+LTv1qdrKquqqq/rCq1qrqs1X12qo6f+q52HpV9bKTvA/8/NSzsXxVdUVVva2q/qyqHq2qOzfYpqrqhqr6dFV9pao+VFXfu/XTsmynuT/ct8H7xecnGJclqqprq+r3q+oz8z64p6pesrBN671hKedYLdmLkxxI8v4kP7vRBlV1QZLbkzyS5LrMLuH+a/P/vnQLZmRaH0xyw8Kyh6cYhK1RVZcluSPJx5K8KMm3J3ljZn88evWEozGtH0nylXXP/2qqQdhS35XkmiQfSXLhSbb51SQ3JvnlzK5E/Mokd1TVd48x/EK9u5zO/pAktyR5y7rnjyxzKCbxyiSfSvJLmd277Jokt1TVU8YYJ/63b7037LhDAavqvDHGY1X1TUn+LsnPjDHeubDNS5L8tyRXjDE+NV/205mdw/XM07w4BjvQ/C9RD44xXjz1LGydqnpVkl9Jsn+M8eX5sl9JclOSbzmxjHPD/EiG30zyhDHGQxOPwxY78XvC/N+3JnnKwvndFyX5QpI3jjFeO192cZL7krxtjOGPMbvIqfaH+fL7ktw6xvgPWz8hW2UeUA8uLLslyXPGGJdvxnvDjjsU8MQPxylcneRPTkTV3O9l9teHH1/GXMCkrk5y+0JAvSvJNyb5oWlGAqZwGr8nPDfJJUl+e91r/j7J+zJ7L2EXOc3fGzkHLEbV3EeTPHX+7/Z7w44Lq9N0ZRZuMjzGeCTJJ7NwU2J2pR+bn2ezVlW3V9Wzph6IpdvoZ/7+JGvxM38u+2RV/WNVfaKqfm7qYdg2rkzyaJLFo1c+Hu8X57KXV9UjVfWlqrp14T6r7F7Pzew0gmQT3ht24jlWp+OyJF/cYPnx+Tp2r7uS/Nck/yfJ/szulXZ3Vf2zMcZ9Uw7GUvmZZ73PZXaM/B8nOT/JS5K8tar2jDHeNOlkbAeXJXlojPHowvLjSfZU1YXzP8Zy7nhvZudg/XWS78zslkF3V9X3jDG+NOlkLE1VPS+z87JfPl/Ufm+YPKyq6olJnnaq7cYY955qm8WXbPTtTrKcbepM948xxvr7p91dVXdk9knGL84f7F5+5kmSjDFuz+wCRifcVlXfkOTVVfXrDg0iJ3+/ONk6drExxivWPb27qj6c5E+T/EySN08xE8tVVQcyu2DJexeu1dB6b5g8rJJcm+Ttp7FdnXqTrzme2RUAF12ajf+qzfbV2j/GGJ+vqj9K8uxNnYrt5mQ/80+Mn3lmbk3y05ldVdbVAc9tx5M8oarOX/jL9KVJ1sYYX51mLLaLMcZfVNUn4neHXamqnpTktiT35/FXC2+/N0x+jtUY4x1jjDrV4wy/7L1ZOBayqi5M8m1ZOA+D7W0T9w9/gdzdNvqZf0aSi+NnnsfzXsC9mR0iesXC8v/vXE3Oed4vdpn5PW3fn9ml939ifnGKE9rvDZOH1ZLcluT7F048/Mkk35DkD6YZiSlU1Tcn+cEk90w9C0t1W5IXVNUT1i27LrN7GN01zUhsMz+V2X1Ljk09CJP7cJIvZ3ZERJKv/bL1wszeSzjHVdV3J3lm/O6wq8zvc/vuJN+R5Ooxxt8sbNJ+b9gOhwKekaq6KslVSS6aL1qpqoeSPDDGOPEL1K2ZXbTgPVV1Y2aHA70pyS3uYbV7za/+97rMfmiOJdmX5FVJHotjpHe7tyb5hcx+5t+Q2afTNyX5NfewOvdU1e9kduGKP8/sr4/XzR+/4Pyq3W/+i9A186dPT3JJVZ24t+EHxhhrVfX6JDdW1fH8001Az8vjbxDLLnCq/SHJD2d2ONj7k3w2s08nXp3ZYWLv3NJhWbbfyGxfeEWSJ1XVD6xb99Exxj903xt24g2Cb8rsai2L7lq4AeC3Jrk5yfOTPJzZPW1+eYyxtgVjMoGqenpm52P98yRPzuwG0ncmOXgWFz9hh5n/0eXmJM/J7LyqdyS5aYOr+7DLVdV/yuwTqmdkdv7lx5K8eYzxW5MOxpaYn5T+qZOsvnyMcV9VVZIbkvzbzP7/4mhm4f3RrZmSrXKq/SGz+xa9KcmzMjuX5m8zO7rphjHGZ7dgRLbI/EbQJ7uM/qa8N+y4sAIAANhudus5VgAAAFtGWAEAADQJKwAAgCZhBQAA0CSsAAAAmoQVAABAk7ACAABoElYAAABNwgoAAKDp/wHE25eV4LLc9wAAAABJRU5ErkJggg==\n",
          "text/plain": "<Figure size 792x792 with 1 Axes>"
         },
         "metadata": {},
         "output_type": "display_data"
        }
       ]
      }
     },
     "ee7154d5457f4a498abb22ac1b27c45b": {
      "model_module": "@jupyter-widgets/base",
      "model_module_version": "1.2.0",
      "model_name": "LayoutModel",
      "state": {}
     },
     "ee9ec1648e8b43e383e4b3c21b950a60": {
      "model_module": "@jupyter-widgets/base",
      "model_module_version": "1.2.0",
      "model_name": "LayoutModel",
      "state": {}
     },
     "ef7322d35150470da1d80da6956b5618": {
      "model_module": "@jupyter-widgets/controls",
      "model_module_version": "1.5.0",
      "model_name": "SliderStyleModel",
      "state": {
       "description_width": ""
      }
     },
     "ef9a52c002c4433e8dc8edbee7735eeb": {
      "model_module": "@jupyter-widgets/controls",
      "model_module_version": "1.5.0",
      "model_name": "SliderStyleModel",
      "state": {
       "description_width": ""
      }
     },
     "f061654f000244e09e2e01cb9c45c047": {
      "model_module": "@jupyter-widgets/controls",
      "model_module_version": "1.5.0",
      "model_name": "ButtonModel",
      "state": {
       "description": "Next",
       "layout": "IPY_MODEL_c4876a1549844dd9aeb8d66946e4af82",
       "style": "IPY_MODEL_202af188a85b4125bba2076a14ba439a"
      }
     },
     "f0a11adeeab1465193feb1f8df19e44c": {
      "model_module": "@jupyter-widgets/base",
      "model_module_version": "1.2.0",
      "model_name": "LayoutModel",
      "state": {}
     },
     "f1a4a081e24e41a5b42b72a8ecfee827": {
      "model_module": "@jupyter-widgets/controls",
      "model_module_version": "1.5.0",
      "model_name": "VBoxModel",
      "state": {
       "_dom_classes": [
        "widget-interact"
       ],
       "children": [
        "IPY_MODEL_a3b5fed7ce744c1ea0de75b97048b3ca",
        "IPY_MODEL_9c5856cc006a44dfa0750aa0b183227d"
       ],
       "layout": "IPY_MODEL_1d31494f40d94c5d98defec013344540"
      }
     },
     "f2d1fc91a4ec4391a74db99ebdeb3877": {
      "model_module": "@jupyter-widgets/controls",
      "model_module_version": "1.5.0",
      "model_name": "IntSliderModel",
      "state": {
       "description": "step",
       "layout": "IPY_MODEL_ee9ec1648e8b43e383e4b3c21b950a60",
       "max": 30,
       "style": "IPY_MODEL_ef9a52c002c4433e8dc8edbee7735eeb"
      }
     },
     "f3310c833bcc4864815cc40e30425dfb": {
      "model_module": "@jupyter-widgets/controls",
      "model_module_version": "1.5.0",
      "model_name": "ButtonModel",
      "state": {
       "description": "Next",
       "layout": "IPY_MODEL_c49e35aae9934563acf42e41b5aab178",
       "style": "IPY_MODEL_995d60218e264c049d73b0b473e2a817"
      }
     },
     "f3b5ad254b1245b7b6e7699440035e2f": {
      "model_module": "@jupyter-widgets/controls",
      "model_module_version": "1.5.0",
      "model_name": "HBoxModel",
      "state": {
       "children": [
        "IPY_MODEL_615d6fd6bcbf46a78826301fe27778d3",
        "IPY_MODEL_9ffe4be64d5a4035b05250725faccd21"
       ],
       "layout": "IPY_MODEL_0cbaeec3268249e9983f5f1b2a645c30"
      }
     },
     "f5ef13c06bfb4af8b53d0852c5fc56a9": {
      "model_module": "@jupyter-widgets/controls",
      "model_module_version": "1.5.0",
      "model_name": "ButtonModel",
      "state": {
       "description": "Prev",
       "layout": "IPY_MODEL_c6965c29b98341dfb5745bd04df2ee35",
       "style": "IPY_MODEL_47e928492d554223a256789fad5545e7"
      }
     },
     "f6a488a8ed954cbbabde176df4c7daa3": {
      "model_module": "@jupyter-widgets/base",
      "model_module_version": "1.2.0",
      "model_name": "LayoutModel",
      "state": {}
     },
     "f6babe95842a405c8d7ae6396de40f6a": {
      "model_module": "@jupyter-widgets/base",
      "model_module_version": "1.2.0",
      "model_name": "LayoutModel",
      "state": {}
     },
     "fe00080898a04956b12616ffa8218c70": {
      "model_module": "@jupyter-widgets/controls",
      "model_module_version": "1.5.0",
      "model_name": "ButtonModel",
      "state": {
       "description": "Prev",
       "layout": "IPY_MODEL_1aaf0fa54fc64a389899dddcd6e425fe",
       "style": "IPY_MODEL_0956575f2e4544b49ec1b57d7a32e304"
      }
     }
    },
    "version_major": 2,
    "version_minor": 0
   }
  }
 },
 "nbformat": 4,
 "nbformat_minor": 4
}
