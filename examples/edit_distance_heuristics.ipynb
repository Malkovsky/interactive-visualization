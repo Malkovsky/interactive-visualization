{
 "cells": [
  {
   "cell_type": "markdown",
   "id": "e681401a",
   "metadata": {},
   "source": [
    "# Эвристики для расстояния Левенштейна\n",
    "Расстояние Левенштейна двух последовательностей символов -- это количество вставок, замен и уалений, которые нужно произвести над отдельными символами первой последовательности, чтобы получить вторую. Основные понятия и базовый способ подсчета через динамическое программирование описан например [здесь](https://ru.wikipedia.org/wiki/%D0%A0%D0%B0%D1%81%D1%81%D1%82%D0%BE%D1%8F%D0%BD%D0%B8%D0%B5_%D0%9B%D0%B5%D0%B2%D0%B5%D0%BD%D1%88%D1%82%D0%B5%D0%B9%D0%BD%D0%B0) В этом ноутбуке несколько примеров эвристик для его подсчета. Начнем со вспомогательного кода для визуализации состояния вычислений"
   ]
  },
  {
   "cell_type": "code",
   "execution_count": 1,
   "id": "f520d42f",
   "metadata": {},
   "outputs": [],
   "source": [
    "from typing import List, Tuple, Dict\n",
    "import matplotlib.pyplot as plt\n",
    "\n",
    "def edit_distance_state(s: str, t: str, last: List[Tuple[int, int]], values: List[Dict[Tuple[int, int], int]]):\n",
    "    n = len(s) + 2\n",
    "    m = len(t) + 2\n",
    "    \n",
    "    grid = [['*' for j in range(m)] for i in range(n)]\n",
    "    grid[0][0] = ''\n",
    "    grid[1][0] = '#'\n",
    "    grid[0][1] = '#'\n",
    "    \n",
    "    for i in range(n - 2):\n",
    "        grid[i + 2][0] = s[i]\n",
    "    for i in range(m - 2):\n",
    "        grid[0][i + 2] = t[i]\n",
    "    \n",
    "    for (i, j), value in values.items():\n",
    "        grid[i + 1][j + 1] = str(value)\n",
    "    \n",
    "    scaling_factor = max(n, m) / 20\n",
    "    #matplotlib code\n",
    "    fig = plt.figure(figsize=(m * scaling_factor, n * scaling_factor))\n",
    "\n",
    "    ax = fig.add_axes([0, 0, 1, 1])\n",
    "    ax.get_xaxis().set_visible(False)\n",
    "    ax.get_yaxis().set_visible(False)\n",
    "\n",
    "    for name, spine in ax.spines.items():\n",
    "        spine.set_visible(False)\n",
    "        spine.set_visible(False)\n",
    "\n",
    "    for i in range(m + 1):\n",
    "        ax.plot([0, n], [i, i], color='black')\n",
    "    for i in range(n + 1):\n",
    "        ax.plot([i, i], [0, m], color='black')\n",
    "        \n",
    "    for (i, j), value in values.items():\n",
    "        i = i + 1\n",
    "        j = m - j - 2\n",
    "        ax.fill([i, i, i + 1, i + 1, i], [j, j + 1, j + 1, j, j], color='lightcoral')\n",
    "    for x, y in last:\n",
    "        x += 1\n",
    "        y = m - y - 2\n",
    "        ax.fill([x, x, x + 1, x + 1, x],\n",
    "                [y, y + 1, y + 1, y, y], color='cyan')\n",
    "    for i in range(n):\n",
    "        for j in range(m):\n",
    "            ax.text(i + 0.5, m - j - 1 + 0.5, grid[i][j], ha='center', va='center', fontsize=20)\n",
    "        \n",
    "    plt.close(fig)\n",
    "    return fig"
   ]
  },
  {
   "cell_type": "markdown",
   "id": "f2d55601",
   "metadata": {},
   "source": [
    "Следующий код содержит базовую рекурсивную реализацию расстояния Левенштейна со сложностью по времени и памяти $\\mathcal{O}(nm)$, где $n, m$ -- длины последовательностей."
   ]
  },
  {
   "cell_type": "code",
   "execution_count": 2,
   "id": "85879097",
   "metadata": {},
   "outputs": [],
   "source": [
    "def levenstein(i, j, s, t, cache, states = None):\n",
    "    if i == 0 or j == 0:\n",
    "        return max(i, j)\n",
    "    if (i, j) in cache:\n",
    "        return cache[(i, j)]\n",
    "        \n",
    "    cache[(i, j)] = min(\n",
    "        levenstein(i - 1, j - 1, s, t, cache, states)\n",
    "             + (0 if s[i - 1] == t[j - 1] else 1),\n",
    "        levenstein(i - 1, j, s, t, cache, states) + 1,\n",
    "        levenstein(i, j - 1, s, t, cache, states) + 1)\n",
    "    # Visualization code\n",
    "    if states is not None:\n",
    "        states.append(edit_distance_state(s, t, [(i, j)], cache))\n",
    "    ####################\n",
    "    return cache[(i, j)]"
   ]
  },
  {
   "cell_type": "code",
   "execution_count": 3,
   "id": "a652617d",
   "metadata": {},
   "outputs": [
    {
     "data": {
      "text/plain": [
       "3"
      ]
     },
     "execution_count": 3,
     "metadata": {},
     "output_type": "execute_result"
    }
   ],
   "source": [
    "s = 'canon in d'\n",
    "t = 'cant inn d'\n",
    "states = []\n",
    "cache = dict()\n",
    "levenstein(len(s), len(t), s, t, cache, states)"
   ]
  },
  {
   "cell_type": "markdown",
   "id": "2cbff365",
   "metadata": {},
   "source": [
    "В последующей визуализации красным обозначены значений, которые вычислены на текущем шаге, голубым -- значение, вычисленное последним."
   ]
  },
  {
   "cell_type": "code",
   "execution_count": 4,
   "id": "df6090ab",
   "metadata": {},
   "outputs": [
    {
     "data": {
      "application/vnd.jupyter.widget-view+json": {
       "model_id": "16469f7ac66c40a4a13ada0a08554cd0",
       "version_major": 2,
       "version_minor": 0
      },
      "text/plain": [
       "HBox(children=(Play(value=0, interval=200), Button(description='Prev', style=ButtonStyle()), Button(descriptio…"
      ]
     },
     "metadata": {},
     "output_type": "display_data"
    },
    {
     "data": {
      "application/vnd.jupyter.widget-view+json": {
       "model_id": "9a8f2a5db8644751912896384b661fbf",
       "version_major": 2,
       "version_minor": 0
      },
      "text/plain": [
       "interactive(children=(IntSlider(value=0, description='step', max=99), Output()), _dom_classes=('widget-interac…"
      ]
     },
     "metadata": {},
     "output_type": "display_data"
    }
   ],
   "source": [
    "from interactive_visualization.animation_utils import animate_list\n",
    "animate_list(states, play=True);"
   ]
  },
  {
   "cell_type": "markdown",
   "id": "7e1ebeba",
   "metadata": {},
   "source": [
    "В следующем коде сделана простая модификация: если разница длин превосходит некий порог $k$, то вычислений не производится. В таком варианте мы вычислим точно расстояние только если оно не превосходит $k$."
   ]
  },
  {
   "cell_type": "code",
   "execution_count": 5,
   "id": "67a894d9",
   "metadata": {},
   "outputs": [],
   "source": [
    "def levenstein_bounded(i, j, s, t, k, cache, states = None):\n",
    "    if i == 0 or j == 0:\n",
    "        return max(i, j)\n",
    "    if (i, j) in cache:\n",
    "        return cache[(i, j)]\n",
    "    if abs(i - j) >= k:\n",
    "        return k\n",
    "        \n",
    "    cache[(i, j)] = min(\n",
    "        levenstein_bounded(i - 1, j - 1, s, t, k, cache, states)\n",
    "             + (0 if s[i - 1] == t[j - 1] else 1),\n",
    "        levenstein_bounded(i - 1, j, s, t, k, cache, states) + 1,\n",
    "        levenstein_bounded(i, j - 1, s, t, k, cache, states) + 1)\n",
    "    # Visualization code\n",
    "    if states is not None:\n",
    "        states.append(edit_distance_state(s, t, [(i, j)], cache))\n",
    "    ####################\n",
    "    return cache[(i, j)]"
   ]
  },
  {
   "cell_type": "code",
   "execution_count": 6,
   "id": "1e13a642",
   "metadata": {},
   "outputs": [
    {
     "data": {
      "text/plain": [
       "3"
      ]
     },
     "execution_count": 6,
     "metadata": {},
     "output_type": "execute_result"
    }
   ],
   "source": [
    "states = []\n",
    "cache = dict()\n",
    "levenstein_bounded(len(s), len(t), s, t, 3, cache, states)"
   ]
  },
  {
   "cell_type": "markdown",
   "id": "3cbbc4ef",
   "metadata": {},
   "source": [
    "В этом варианте сложность по времени и памяти $\\mathcal{O}(\\min(n, m)k)$"
   ]
  },
  {
   "cell_type": "code",
   "execution_count": 7,
   "id": "9959e249",
   "metadata": {},
   "outputs": [
    {
     "data": {
      "application/vnd.jupyter.widget-view+json": {
       "model_id": "290a603a727447afbb5266c4bb2d0c81",
       "version_major": 2,
       "version_minor": 0
      },
      "text/plain": [
       "HBox(children=(Play(value=0, interval=200), Button(description='Prev', style=ButtonStyle()), Button(descriptio…"
      ]
     },
     "metadata": {},
     "output_type": "display_data"
    },
    {
     "data": {
      "application/vnd.jupyter.widget-view+json": {
       "model_id": "834c2238d6a5441691001d69f4fb33bc",
       "version_major": 2,
       "version_minor": 0
      },
      "text/plain": [
       "interactive(children=(IntSlider(value=0, description='step', max=43), Output()), _dom_classes=('widget-interac…"
      ]
     },
     "metadata": {},
     "output_type": "display_data"
    }
   ],
   "source": [
    "animate_list(states, play=True);"
   ]
  },
  {
   "cell_type": "markdown",
   "id": "8808826f",
   "metadata": {},
   "source": [
    "Следующая модификация представляет собой онлайн вариант: вычислительная сложность $\\mathcal{O}(nm)$, сложность по памяти -- $\\mathcal{O}(m)$, кроме вторую последовательность можно обрабатывать в онлайн режиме."
   ]
  },
  {
   "cell_type": "code",
   "execution_count": 8,
   "id": "4c0ff6d8",
   "metadata": {},
   "outputs": [],
   "source": [
    "def levenstein_online(s, t, states = None):\n",
    "    distances = [i for i in range(len(t) + 1)]\n",
    "    \n",
    "    for k, c in enumerate(s):\n",
    "        # initialization with deletion of current symbol\n",
    "        new_distances = [d + 1 for d in distances]\n",
    "        # Subs or corrects\n",
    "        for i, d in enumerate(new_distances[1:]):\n",
    "            distance_sub = distances[i] + (0 if c == t[i] else 1)\n",
    "            new_distances[i + 1] = min(distance_sub, d)\n",
    "        # Insertions\n",
    "        for i, d in enumerate(new_distances[:-1]):\n",
    "            new_distances[i + 1] = min(new_distances[i + 1],\n",
    "                                       new_distances[i] + 1)\n",
    "            \n",
    "        # Visualization code\n",
    "        if states is not None:\n",
    "            values = dict()\n",
    "            for j, x in enumerate(distances):\n",
    "                values[(k, j)] = x\n",
    "                values[(k + 1, j)] = new_distances[j]\n",
    "            last = [(k + 1, j) for j in range(len(distances))]\n",
    "            states.append(edit_distance_state(s, t, last, values))\n",
    "        ####################\n",
    "        \n",
    "        distances = new_distances\n",
    "        \n",
    "    return distances[-1]"
   ]
  },
  {
   "cell_type": "code",
   "execution_count": 9,
   "id": "61ea3f02",
   "metadata": {},
   "outputs": [
    {
     "data": {
      "text/plain": [
       "3"
      ]
     },
     "execution_count": 9,
     "metadata": {},
     "output_type": "execute_result"
    }
   ],
   "source": [
    "states = []\n",
    "levenstein_online(s, t, states)"
   ]
  },
  {
   "cell_type": "code",
   "execution_count": 10,
   "id": "4fa80ab3",
   "metadata": {},
   "outputs": [
    {
     "data": {
      "application/vnd.jupyter.widget-view+json": {
       "model_id": "150d56e0074f4a78b2206ae5664a4b4e",
       "version_major": 2,
       "version_minor": 0
      },
      "text/plain": [
       "HBox(children=(Play(value=0, interval=500), Button(description='Prev', style=ButtonStyle()), Button(descriptio…"
      ]
     },
     "metadata": {},
     "output_type": "display_data"
    },
    {
     "data": {
      "application/vnd.jupyter.widget-view+json": {
       "model_id": "34d03c2ab88f4f3fb654ad493526021e",
       "version_major": 2,
       "version_minor": 0
      },
      "text/plain": [
       "interactive(children=(IntSlider(value=0, description='step', max=9), Output()), _dom_classes=('widget-interact…"
      ]
     },
     "metadata": {},
     "output_type": "display_data"
    }
   ],
   "source": [
    "animate_list(states, play=True, interval=500);"
   ]
  },
  {
   "cell_type": "markdown",
   "id": "93d19b69",
   "metadata": {},
   "source": [
    "Комбинирую последние два метода можно получить онлайн алгоритм со сложностью $\\mathcal{O}(min(n, m)k)$ по времени и $\\mathcal{O}(k)$ по памяти, этот вариант очень схож с эвристикой **beam search**, используемой в распознавании речи"
   ]
  },
  {
   "cell_type": "code",
   "execution_count": 11,
   "id": "6b514489",
   "metadata": {},
   "outputs": [],
   "source": [
    "def levenstein_beam_search(s, t, k, max_tokens=5, states = None):\n",
    "    tokens = [(0, 0)] # position in t, value\n",
    "    \n",
    "    best_value = 0\n",
    "    for k, c in enumerate(s):\n",
    "        new_tokens = dict()\n",
    "        \n",
    "        cur = 0\n",
    "        best_value += 1\n",
    "        tokens_bak = [x for x in tokens]\n",
    "        while cur < len(tokens):\n",
    "            pos, value = tokens[cur]\n",
    "            cur += 1\n",
    "            if pos not in new_tokens or new_tokens[pos] > value + 1 :\n",
    "                new_tokens[pos] = value + 1\n",
    "            if pos < len(t):\n",
    "                cost = 1 if c != t[pos] else 0\n",
    "                if value + cost < best_value + k:\n",
    "                    if pos + 1 not in new_tokens or new_tokens[pos + 1] > value + cost:\n",
    "                        new_tokens[pos + 1] = value + cost       \n",
    "        \n",
    "        new_tokens = list(sorted(new_tokens.items(), key=lambda x: x[1]))[:max_tokens]\n",
    "        new_tokens = sorted(new_tokens)\n",
    "        for i, (pos, value) in enumerate(new_tokens):\n",
    "            if i == len(new_tokens) - 1:\n",
    "                break\n",
    "            next_pos = new_tokens[i + 1][0]\n",
    "            new_tokens[i + 1] = (next_pos, min(new_tokens[i + 1][1], value + next_pos - pos))\n",
    "        pos, value = new_tokens[-1]\n",
    "        while pos + 1 <= len(t) and value + 1 <= best_value + k:\n",
    "            new_tokens.append((pos + 1, value + 1))\n",
    "            pos += 1\n",
    "            value += 1\n",
    "        new_tokens = list(sorted(new_tokens, key=lambda x: x[1]))[:max_tokens]\n",
    "        new_tokens = sorted(new_tokens)\n",
    "        \n",
    "        # Visualization code\n",
    "        if states is not None:\n",
    "            values = dict()\n",
    "            for j, x in tokens_bak:\n",
    "                values[(k, j)] = x\n",
    "            last = []\n",
    "            for j, x in new_tokens:\n",
    "                values[(k + 1, j)] = x\n",
    "                last.append((k + 1, j))\n",
    "            states.append(edit_distance_state(s, t, last, values))\n",
    "        ####################\n",
    "        tokens = new_tokens\n",
    "\n",
    "                \n",
    "    for pos, value in tokens:\n",
    "        if pos == len(s):\n",
    "            return value\n",
    "        \n",
    "    return k"
   ]
  },
  {
   "cell_type": "code",
   "execution_count": 12,
   "id": "190371c4",
   "metadata": {},
   "outputs": [
    {
     "data": {
      "text/plain": [
       "3"
      ]
     },
     "execution_count": 12,
     "metadata": {},
     "output_type": "execute_result"
    }
   ],
   "source": [
    "states = []\n",
    "levenstein_beam_search(s, t, 3, 5, states)"
   ]
  },
  {
   "cell_type": "code",
   "execution_count": 13,
   "id": "bbfe7fdc",
   "metadata": {},
   "outputs": [
    {
     "data": {
      "application/vnd.jupyter.widget-view+json": {
       "model_id": "785397b18cf541cb8bfe53f0dbcd0c47",
       "version_major": 2,
       "version_minor": 0
      },
      "text/plain": [
       "HBox(children=(Play(value=0, interval=200), Button(description='Prev', style=ButtonStyle()), Button(descriptio…"
      ]
     },
     "metadata": {},
     "output_type": "display_data"
    },
    {
     "data": {
      "application/vnd.jupyter.widget-view+json": {
       "model_id": "4feaf7f784b749dcb1a6f0488df70865",
       "version_major": 2,
       "version_minor": 0
      },
      "text/plain": [
       "interactive(children=(IntSlider(value=0, description='step', max=9), Output()), _dom_classes=('widget-interact…"
      ]
     },
     "metadata": {},
     "output_type": "display_data"
    },
    {
     "data": {
      "text/plain": [
       "<function interactive_visualization.animation_utils.animation.step_slice(lst, step)>"
      ]
     },
     "execution_count": 13,
     "metadata": {},
     "output_type": "execute_result"
    }
   ],
   "source": [
    "animate_list(states, play=True)"
   ]
  },
  {
   "cell_type": "markdown",
   "id": "0dacaf0d",
   "metadata": {},
   "source": [
    "## Дерево гипотез\n",
    "Во всех рассматриваемых вариантах мы делали только вычисление расстояния Левенштейна, но не самих операций, которые нужно проделать, чтобы получить вторую строку из первой. Для восстановления этих операций в онлайн вариантах необходимо как-то хранить предыдущие вычисления. Один из вариантов -- хранить все промежуточные вычисления и делать это обычным способом. К сожалению с таким способом расход памяти будет $\\mathcal{O}(nk)$, а не $\\mathcal{k}$. Альтернативно можно хранить только те промежуточные гипотезы, которые участвовали в цепочки создания тех, которые рассматриваются сейчас. Это можно осуществить с помощью **дерева гипотез** -- структуры данных, поддерживающей следующие операции:\n",
    "* Инициализировать дерево одним активным узлом, соответствующим пустой гипотезе\n",
    "* Породить новый узел из существующей гипотезы и пометить его активным\n",
    "* Пометить узел как неактивный\n",
    "* Удалить все неактивные узлы, которые не содержатся на пути от корня к некоторому активному узлу\n",
    "\n",
    "В зависимости от задачи узлы дерева гипотез могут хранить дополнительную информацию о том, как тот или иной узел был порожден, например в нашем случае необходимо будет хранить позиции в строках и при желании операцию, с помощью которой он был получен (одна операция -- один узел/переход). Идея активных/неактивных узлов заключается в том, что активными мы помечаем те гипотезы, которые рассматриваются на текузей итерации, а неактивные -- созданные на предыдущих итерациях гипотезы, которые необходимы нам для восстановления действий, которое обычно можно получить пройдя от узла лучшей гипотезы к корню.\n",
    "\n",
    "Оказывается, что для эффективного менеджмента ненужных гипотез достаточно использовать стандартный сборщик мусора по количеству ссылок. Если в узле хранится ссылка узла-предка, а также активные узлы хранятся непосредственно, то ненужные неактивные гипотезы будут удаляться автоматически."
   ]
  },
  {
   "cell_type": "code",
   "execution_count": 14,
   "id": "b267b3a2",
   "metadata": {},
   "outputs": [],
   "source": [
    "from weakref import WeakValueDictionary\n",
    "\n",
    "class HypothesisTreeNode:\n",
    "    def __init__(self, parent, pos_s, pos_t, value, op):\n",
    "        self.parent = parent\n",
    "        self.pos_s = pos_s\n",
    "        self.pos_t = pos_t\n",
    "        self.value = value\n",
    "        self.op = op\n",
    "        self.next = WeakValueDictionary()\n",
    "\n",
    "    def prolong(self, op):\n",
    "        if op == \"del\":\n",
    "            new_node = HypothesisTreeNode(self, self.pos_s + 1, self.pos_t, self.value + 1, op)\n",
    "        elif op == \"ins\":\n",
    "            new_node = HypothesisTreeNode(self, self.pos_s, self.pos_t + 1, self.value + 1, op)\n",
    "        elif op == \"sub\":\n",
    "            new_node = HypothesisTreeNode(self, self.pos_s + 1, self.pos_t + 1, self.value + 1, op)\n",
    "        else:\n",
    "            new_node = HypothesisTreeNode(self, self.pos_s + 1, self.pos_t + 1, self.value, op)\n",
    "        \n",
    "        self.next[op] = new_node\n",
    "        return new_node\n",
    "\n",
    "    def backtrace(self):\n",
    "        cur = self\n",
    "        result = []\n",
    "        prev = '_'\n",
    "        while cur is not None:\n",
    "            if cur.op is not None:\n",
    "                result.append((cur.pos_s, cur.pos_t, cur.op))\n",
    "            cur = cur.parent\n",
    "\n",
    "        return list(reversed(result))"
   ]
  },
  {
   "cell_type": "code",
   "execution_count": 15,
   "id": "bbc1d3f3",
   "metadata": {},
   "outputs": [],
   "source": [
    "from interactive_visualization.graph_utils import Graph, Arc\n",
    "from queue import Queue\n",
    "\n",
    "def hypothesis_tree(tokens, detach_prefix = False):\n",
    "    arcs = []\n",
    "    tmp = tokens[0][1]\n",
    "    while tmp is not None and tmp.parent is not None:\n",
    "        tmp = tmp.parent\n",
    "    \n",
    "    q = Queue()\n",
    "    q.put((tmp, 0))\n",
    "    state_num = dict()\n",
    "    states = 1\n",
    "    state_num[tmp] = states\n",
    "    reached_branch = len(tmp.next) > 1\n",
    "    while not q.empty():\n",
    "        history_item, num = q.get()\n",
    "        for word, next_item in history_item.next.items():\n",
    "            if next_item in state_num:\n",
    "                state = state_num[next_item]\n",
    "            else:\n",
    "                state = states\n",
    "                state_num[next_item] = state\n",
    "                states += 1\n",
    "                q.put((next_item, state))\n",
    "            if not detach_prefix or reached_branch or len(next_item.next) == 1: \n",
    "                arcs.append(Arc(num, state, f\"({next_item.pos_s}, {next_item.pos_t})/{next_item.op}\"))\n",
    "            else:\n",
    "                arcs.append(Arc(num, states, f\"({next_item.pos_s}, {next_item.pos_t})/{next_item.op}\"))\n",
    "                states += 1\n",
    "                reached_branch = True\n",
    "            #print(f'Added arc: {num}, {state}, \"\"{word}\"\"')\n",
    "                   \n",
    "    tokens_set = {state_num[token[1]] for token in tokens}\n",
    "\n",
    "    result = Graph(arcs)\n",
    "    for i, node in result.nodes.items():\n",
    "        node.SetShape('point')\n",
    "        if i in tokens_set:\n",
    "            node.SetColor('red')\n",
    "    return result.Visualize()"
   ]
  },
  {
   "cell_type": "code",
   "execution_count": 16,
   "id": "79c457a5",
   "metadata": {},
   "outputs": [],
   "source": [
    "def levenstein_beam_search_with_ht(s, t, k, max_tokens=5, states = None, detach_prefix = False):\n",
    "    tokens = [(0, HypothesisTreeNode(None, 0, 0, 0, None))] # position in t, value\n",
    "    \n",
    "    # Visualization code\n",
    "    states.append(hypothesis_tree(tokens))\n",
    "    ####################\n",
    "    \n",
    "    best_value = 0\n",
    "    for k, c in enumerate(s):\n",
    "        new_tokens = dict()\n",
    "        \n",
    "        cur = 0\n",
    "        best_value += 1\n",
    "        for pos, token in tokens:\n",
    "            if pos not in new_tokens or new_tokens[pos].value > token.value + 1 :\n",
    "                new_tokens[pos] = token.prolong(\"del\")\n",
    "            if pos < len(t):\n",
    "                cost = 1 if c != t[pos] else 0\n",
    "                if token.value + cost < best_value + k:\n",
    "                    if pos + 1 not in new_tokens or new_tokens[pos + 1].value > token.value + cost:\n",
    "                        new_tokens[pos + 1] = token.prolong(\"sub\" if cost == 1 else \"cor\")       \n",
    "        \n",
    "        new_tokens = list(sorted(new_tokens.items(), key=lambda x: x[1].value))[:max_tokens]\n",
    "        new_tokens = sorted(new_tokens)\n",
    "        for i, (pos, token) in enumerate(new_tokens):\n",
    "            if i == len(new_tokens) - 1:\n",
    "                break\n",
    "            next_pos = new_tokens[i + 1][0]\n",
    "            if new_tokens[i + 1][1].value > token.value + next_pos - pos:\n",
    "                new_tokens[i + 1] = (next_pos, token.prolong(\"ins\"))\n",
    "        pos, token = new_tokens[-1]\n",
    "        while pos + 1 <= len(t) and token.value + 1 <= best_value + k:\n",
    "            token = token.prolong(\"ins\")\n",
    "            pos += 1\n",
    "            new_tokens.append((pos, token))\n",
    "            \n",
    "        new_tokens = list(sorted(new_tokens, key=lambda x: x[1].value))[:max_tokens]\n",
    "        new_tokens = sorted(new_tokens)\n",
    "        \n",
    "        # Visualization code\n",
    "        states.append(hypothesis_tree(new_tokens, detach_prefix))\n",
    "        ####################\n",
    "        tokens = new_tokens\n",
    "\n",
    "                \n",
    "    for pos, token in tokens:\n",
    "        if pos == len(s):\n",
    "            return token.value, token\n",
    "        \n",
    "    return k, None"
   ]
  },
  {
   "cell_type": "code",
   "execution_count": 17,
   "id": "15ed42a4",
   "metadata": {},
   "outputs": [
    {
     "name": "stdout",
     "output_type": "stream",
     "text": [
      "3\n"
     ]
    }
   ],
   "source": [
    "states = []\n",
    "value, token = levenstein_beam_search_with_ht(s, t, 3, 5, states)\n",
    "print(value)"
   ]
  },
  {
   "cell_type": "code",
   "execution_count": 18,
   "id": "9d14b423",
   "metadata": {},
   "outputs": [
    {
     "data": {
      "application/vnd.jupyter.widget-view+json": {
       "model_id": "47408c18533440c0ab96ca388fb1089f",
       "version_major": 2,
       "version_minor": 0
      },
      "text/plain": [
       "HBox(children=(Play(value=0, interval=500), Button(description='Prev', style=ButtonStyle()), Button(descriptio…"
      ]
     },
     "metadata": {},
     "output_type": "display_data"
    },
    {
     "data": {
      "application/vnd.jupyter.widget-view+json": {
       "model_id": "3c0496ec358943db8e3c300e303622e8",
       "version_major": 2,
       "version_minor": 0
      },
      "text/plain": [
       "interactive(children=(IntSlider(value=0, description='step', max=10), Output()), _dom_classes=('widget-interac…"
      ]
     },
     "metadata": {},
     "output_type": "display_data"
    }
   ],
   "source": [
    "animate_list(states, play=True, interval=500);"
   ]
  },
  {
   "cell_type": "markdown",
   "id": "20bfce53",
   "metadata": {},
   "source": [
    "У дерева гипотез естественным образом в процессе поиска возникает общий префикс всех гипотез. Иногда на практике целесообразно его отделить. Формально -- это задача LCA, но в данном случае она довольно просто решается все тем же сборщиком мусора на основе подсчета ссылок."
   ]
  },
  {
   "cell_type": "code",
   "execution_count": 19,
   "id": "03ced751",
   "metadata": {},
   "outputs": [
    {
     "name": "stdout",
     "output_type": "stream",
     "text": [
      "3\n"
     ]
    }
   ],
   "source": [
    "states = []\n",
    "value, token = levenstein_beam_search_with_ht(s, t, 3, 5, states, True)\n",
    "print(value)"
   ]
  },
  {
   "cell_type": "code",
   "execution_count": 20,
   "id": "44a2cc82",
   "metadata": {},
   "outputs": [
    {
     "data": {
      "application/vnd.jupyter.widget-view+json": {
       "model_id": "8584be34c62f4457880cdd3185a8268e",
       "version_major": 2,
       "version_minor": 0
      },
      "text/plain": [
       "HBox(children=(Play(value=0, interval=500), Button(description='Prev', style=ButtonStyle()), Button(descriptio…"
      ]
     },
     "metadata": {},
     "output_type": "display_data"
    },
    {
     "data": {
      "application/vnd.jupyter.widget-view+json": {
       "model_id": "bd0603206c3e43c783a2ce77bd967bdf",
       "version_major": 2,
       "version_minor": 0
      },
      "text/plain": [
       "interactive(children=(IntSlider(value=0, description='step', max=10), Output()), _dom_classes=('widget-interac…"
      ]
     },
     "metadata": {},
     "output_type": "display_data"
    }
   ],
   "source": [
    "animate_list(states, play=True, interval=500);"
   ]
  },
  {
   "cell_type": "markdown",
   "id": "187ddb68",
   "metadata": {},
   "source": [
    "Теперь давайте построем выравнивание Левенштейна из полученного дерева"
   ]
  },
  {
   "cell_type": "code",
   "execution_count": 21,
   "id": "cda87b95",
   "metadata": {},
   "outputs": [],
   "source": [
    "aligned = token.backtrace()\n",
    "s_aligned = []\n",
    "t_aligned = []\n",
    "s_op = []\n",
    "for i, j, op in aligned:\n",
    "    if op in { \"cor\", \"sub\" }:\n",
    "        s_aligned.append(s[i - 1])\n",
    "        t_aligned.append(t[j - 1])\n",
    "    elif op == \"ins\":\n",
    "        s_aligned.append('*')\n",
    "        t_aligned.append(t[j - 1])\n",
    "    else:\n",
    "        s_aligned.append(s[i - 1])\n",
    "        t_aligned.append('*')\n",
    "    s_op.append(op[0].upper())"
   ]
  },
  {
   "cell_type": "code",
   "execution_count": 22,
   "id": "2426e8e0",
   "metadata": {},
   "outputs": [
    {
     "name": "stdout",
     "output_type": "stream",
     "text": [
      "canon i*n d\n",
      "can*t inn d\n",
      "CCCDSCCICCC\n"
     ]
    }
   ],
   "source": [
    "print(''.join(s_aligned))\n",
    "print(''.join(t_aligned))\n",
    "print(''.join(s_op))"
   ]
  }
 ],
 "metadata": {
  "kernelspec": {
   "display_name": "Python 3 (ipykernel)",
   "language": "python",
   "name": "python3"
  },
  "language_info": {
   "codemirror_mode": {
    "name": "ipython",
    "version": 3
   },
   "file_extension": ".py",
   "mimetype": "text/x-python",
   "name": "python",
   "nbconvert_exporter": "python",
   "pygments_lexer": "ipython3",
   "version": "3.8.3"
  },
  "widgets": {
   "application/vnd.jupyter.widget-state+json": {
    "state": {
     "022db1089e8d42cab38b8f8b1fdd5a27": {
      "model_module": "@jupyter-widgets/controls",
      "model_module_version": "1.5.0",
      "model_name": "ButtonStyleModel",
      "state": {}
     },
     "03ba589145f3421ba7145c83fe2fd724": {
      "model_module": "@jupyter-widgets/controls",
      "model_module_version": "1.5.0",
      "model_name": "PlayModel",
      "state": {
       "interval": 200,
       "layout": "IPY_MODEL_d09df063c0304e12925651e702a27d48",
       "style": "IPY_MODEL_8767f59bb9bc43099a67274d2364cbba"
      }
     },
     "03cd1a3b26854cf39850d0abe489daef": {
      "model_module": "@jupyter-widgets/controls",
      "model_module_version": "1.5.0",
      "model_name": "ButtonModel",
      "state": {
       "description": "Next",
       "layout": "IPY_MODEL_7cf5c6906c50400c9107d48e116df375",
       "style": "IPY_MODEL_a37ca0dbfbe24ad5998ee48a4b7bd118"
      }
     },
     "0563898fc8224994bab43db46d7077d1": {
      "model_module": "@jupyter-widgets/base",
      "model_module_version": "1.2.0",
      "model_name": "LayoutModel",
      "state": {}
     },
     "08cdf165cf694d47af94ee10820375b3": {
      "model_module": "@jupyter-widgets/controls",
      "model_module_version": "1.5.0",
      "model_name": "ButtonStyleModel",
      "state": {}
     },
     "0e86adb606f442ea9b915738d0c839e9": {
      "model_module": "@jupyter-widgets/controls",
      "model_module_version": "1.5.0",
      "model_name": "LinkModel",
      "state": {
       "source": [
        "IPY_MODEL_03ba589145f3421ba7145c83fe2fd724",
        "value"
       ],
       "target": [
        "IPY_MODEL_bc1e18480a7a4f7d8aa9d32e84be8f7c",
        "value"
       ]
      }
     },
     "109d25a0336e4e94b086a30acd6fd486": {
      "model_module": "@jupyter-widgets/base",
      "model_module_version": "1.2.0",
      "model_name": "LayoutModel",
      "state": {}
     },
     "150d56e0074f4a78b2206ae5664a4b4e": {
      "model_module": "@jupyter-widgets/controls",
      "model_module_version": "1.5.0",
      "model_name": "HBoxModel",
      "state": {
       "children": [
        "IPY_MODEL_ec9a87bd04ce4a179c7bf3c3d31b4192",
        "IPY_MODEL_55f47d0aed05402d80b3838bfd6cc5b9",
        "IPY_MODEL_e684c8143d424b008a4ec5bfa6e1554f"
       ],
       "layout": "IPY_MODEL_85c38c95874c4717bf74f90d40e866c9"
      }
     },
     "15a12a96ae8f46f3a015c75481e0cd43": {
      "model_module": "@jupyter-widgets/controls",
      "model_module_version": "1.5.0",
      "model_name": "ButtonStyleModel",
      "state": {}
     },
     "16469f7ac66c40a4a13ada0a08554cd0": {
      "model_module": "@jupyter-widgets/controls",
      "model_module_version": "1.5.0",
      "model_name": "HBoxModel",
      "state": {
       "children": [
        "IPY_MODEL_c8c61f0a7d1a486ca84e5eb7b4a39b0c",
        "IPY_MODEL_4271be8c157e4e25bfb81c2df210f72a",
        "IPY_MODEL_cb1d08fb52ac42e1a26c3109a140e222"
       ],
       "layout": "IPY_MODEL_fbb8827adaa248b18954ad5ffd628345"
      }
     },
     "177194691dc9495db8d1c95c36acb84a": {
      "model_module": "@jupyter-widgets/base",
      "model_module_version": "1.2.0",
      "model_name": "LayoutModel",
      "state": {}
     },
     "1dad7dabc62549369c6568d60b0643c6": {
      "model_module": "@jupyter-widgets/controls",
      "model_module_version": "1.5.0",
      "model_name": "ButtonModel",
      "state": {
       "description": "Prev",
       "layout": "IPY_MODEL_22a73cee10cd426384b0cd177f518737",
       "style": "IPY_MODEL_08cdf165cf694d47af94ee10820375b3"
      }
     },
     "1dc3ad57329d4a0da60f177a966337f1": {
      "model_module": "@jupyter-widgets/controls",
      "model_module_version": "1.5.0",
      "model_name": "PlayModel",
      "state": {
       "interval": 200,
       "layout": "IPY_MODEL_177194691dc9495db8d1c95c36acb84a",
       "style": "IPY_MODEL_8cd2449f320c45e6ae20a492b9250875"
      }
     },
     "1f9d043db4fa4bb689a865ddccdbc526": {
      "model_module": "@jupyter-widgets/base",
      "model_module_version": "1.2.0",
      "model_name": "LayoutModel",
      "state": {}
     },
     "22a73cee10cd426384b0cd177f518737": {
      "model_module": "@jupyter-widgets/base",
      "model_module_version": "1.2.0",
      "model_name": "LayoutModel",
      "state": {}
     },
     "22cd3de141e443f38c58b8fe0728af7c": {
      "model_module": "@jupyter-widgets/controls",
      "model_module_version": "1.5.0",
      "model_name": "PlayModel",
      "state": {
       "interval": 500,
       "layout": "IPY_MODEL_0563898fc8224994bab43db46d7077d1",
       "style": "IPY_MODEL_709927e95dbb4b2cbb96c2dcf16ccf18"
      }
     },
     "24f8e8244a364618bd7c7d5130cb6e77": {
      "model_module": "@jupyter-widgets/controls",
      "model_module_version": "1.5.0",
      "model_name": "DescriptionStyleModel",
      "state": {
       "description_width": ""
      }
     },
     "27678138581f489280dcb4f1183e8cb8": {
      "model_module": "@jupyter-widgets/base",
      "model_module_version": "1.2.0",
      "model_name": "LayoutModel",
      "state": {}
     },
     "290a603a727447afbb5266c4bb2d0c81": {
      "model_module": "@jupyter-widgets/controls",
      "model_module_version": "1.5.0",
      "model_name": "HBoxModel",
      "state": {
       "children": [
        "IPY_MODEL_03ba589145f3421ba7145c83fe2fd724",
        "IPY_MODEL_c203c53f085e4639a2bb65900e50f6a9",
        "IPY_MODEL_450c8ef262d74e2db04645e3da036011"
       ],
       "layout": "IPY_MODEL_9d106e76891a45b0ba1b64e94fc7743c"
      }
     },
     "2bb7b0f210f4475e985989c13f4bf461": {
      "model_module": "@jupyter-widgets/base",
      "model_module_version": "1.2.0",
      "model_name": "LayoutModel",
      "state": {}
     },
     "2caaa5d3e6884b128eb8734541fdad5d": {
      "model_module": "@jupyter-widgets/output",
      "model_module_version": "1.0.0",
      "model_name": "OutputModel",
      "state": {
       "layout": "IPY_MODEL_c800962665af41138af0bfbce20eeac9",
       "outputs": [
        {
         "data": {
          "image/svg+xml": "<?xml version=\"1.0\" encoding=\"UTF-8\" standalone=\"no\"?>\r\n<!DOCTYPE svg PUBLIC \"-//W3C//DTD SVG 1.1//EN\"\r\n \"http://www.w3.org/Graphics/SVG/1.1/DTD/svg11.dtd\">\r\n<!-- Generated by graphviz version 2.44.2~dev.20200826.1453 (20200826.1453)\r\n -->\r\n<!-- Pages: 1 -->\r\n<svg width=\"8pt\" height=\"8pt\"\r\n viewBox=\"0.00 0.00 8.00 8.00\" xmlns=\"http://www.w3.org/2000/svg\" xmlns:xlink=\"http://www.w3.org/1999/xlink\">\r\n<g id=\"graph0\" class=\"graph\" transform=\"scale(1 1) rotate(0) translate(4 4)\">\r\n<polygon fill=\"white\" stroke=\"transparent\" points=\"-4,4 -4,-4 4,-4 4,4 -4,4\"/>\r\n</g>\r\n</svg>\r\n",
          "text/plain": "<graphviz.dot.Digraph at 0x227ef2567c0>"
         },
         "metadata": {},
         "output_type": "display_data"
        }
       ]
      }
     },
     "2ea08dcca36f43a3a94dfd62b857cd7e": {
      "model_module": "@jupyter-widgets/base",
      "model_module_version": "1.2.0",
      "model_name": "LayoutModel",
      "state": {}
     },
     "2f9aed92e05042ef9bce00ac09a0ab31": {
      "model_module": "@jupyter-widgets/base",
      "model_module_version": "1.2.0",
      "model_name": "LayoutModel",
      "state": {}
     },
     "3460305e6943459f86d689fa3e67b08e": {
      "model_module": "@jupyter-widgets/base",
      "model_module_version": "1.2.0",
      "model_name": "LayoutModel",
      "state": {}
     },
     "34d03c2ab88f4f3fb654ad493526021e": {
      "model_module": "@jupyter-widgets/controls",
      "model_module_version": "1.5.0",
      "model_name": "VBoxModel",
      "state": {
       "_dom_classes": [
        "widget-interact"
       ],
       "children": [
        "IPY_MODEL_8562fddcf80343aba30c08075747f50c",
        "IPY_MODEL_ccedad94289042a8bb9d274ae45092e5"
       ],
       "layout": "IPY_MODEL_cc6cb455cfc2413faaa1830846ba80f5"
      }
     },
     "395a0d8e415a406382225de0a11a1bcc": {
      "model_module": "@jupyter-widgets/base",
      "model_module_version": "1.2.0",
      "model_name": "LayoutModel",
      "state": {}
     },
     "3a3ff4577244433a8dcb07799a88d762": {
      "model_module": "@jupyter-widgets/base",
      "model_module_version": "1.2.0",
      "model_name": "LayoutModel",
      "state": {}
     },
     "3bb47f448357464f822fa843b25995c1": {
      "model_module": "@jupyter-widgets/base",
      "model_module_version": "1.2.0",
      "model_name": "LayoutModel",
      "state": {}
     },
     "3c0496ec358943db8e3c300e303622e8": {
      "model_module": "@jupyter-widgets/controls",
      "model_module_version": "1.5.0",
      "model_name": "VBoxModel",
      "state": {
       "_dom_classes": [
        "widget-interact"
       ],
       "children": [
        "IPY_MODEL_d6a65f9f112a435e9903cfdab94f913f",
        "IPY_MODEL_2caaa5d3e6884b128eb8734541fdad5d"
       ],
       "layout": "IPY_MODEL_ea1a72ba1cde460087e2688be2382112"
      }
     },
     "3c3c587a3de249f5b5dcd2d2c69d599b": {
      "model_module": "@jupyter-widgets/base",
      "model_module_version": "1.2.0",
      "model_name": "LayoutModel",
      "state": {}
     },
     "3c44655ddc574898bd4cb93822ceed82": {
      "model_module": "@jupyter-widgets/base",
      "model_module_version": "1.2.0",
      "model_name": "LayoutModel",
      "state": {}
     },
     "41a6cfabdb3e4e76b51fb319891ebe75": {
      "model_module": "@jupyter-widgets/controls",
      "model_module_version": "1.5.0",
      "model_name": "PlayModel",
      "state": {
       "interval": 500,
       "layout": "IPY_MODEL_b6c2664ffba845878b9f3331fff8371f",
       "style": "IPY_MODEL_24f8e8244a364618bd7c7d5130cb6e77"
      }
     },
     "4271be8c157e4e25bfb81c2df210f72a": {
      "model_module": "@jupyter-widgets/controls",
      "model_module_version": "1.5.0",
      "model_name": "ButtonModel",
      "state": {
       "description": "Prev",
       "layout": "IPY_MODEL_1f9d043db4fa4bb689a865ddccdbc526",
       "style": "IPY_MODEL_b18e42c63afe4f29b26118c802f4d8da"
      }
     },
     "4502b0794271468d8a681e58f7d0903d": {
      "model_module": "@jupyter-widgets/controls",
      "model_module_version": "1.5.0",
      "model_name": "ButtonStyleModel",
      "state": {}
     },
     "450c8ef262d74e2db04645e3da036011": {
      "model_module": "@jupyter-widgets/controls",
      "model_module_version": "1.5.0",
      "model_name": "ButtonModel",
      "state": {
       "description": "Next",
       "layout": "IPY_MODEL_acb1634c896740058302060ef0856581",
       "style": "IPY_MODEL_590fe0bd1428488582c70da1a1bc7a44"
      }
     },
     "47408c18533440c0ab96ca388fb1089f": {
      "model_module": "@jupyter-widgets/controls",
      "model_module_version": "1.5.0",
      "model_name": "HBoxModel",
      "state": {
       "children": [
        "IPY_MODEL_41a6cfabdb3e4e76b51fb319891ebe75",
        "IPY_MODEL_5a977bbedd414062aaeb45539eeec281",
        "IPY_MODEL_ffeab0cb76344228a6de7866aed60b7f"
       ],
       "layout": "IPY_MODEL_6450365d88434f458800aa28717bc6e0"
      }
     },
     "481d0141d24746bab2ae414bd24aa75a": {
      "model_module": "@jupyter-widgets/controls",
      "model_module_version": "1.5.0",
      "model_name": "ButtonStyleModel",
      "state": {}
     },
     "48bd6eac2c864ded89400877c45731bc": {
      "model_module": "@jupyter-widgets/controls",
      "model_module_version": "1.5.0",
      "model_name": "ButtonModel",
      "state": {
       "description": "Prev",
       "layout": "IPY_MODEL_f3a50a7c3f5f486f8b8dcb6a34fe05eb",
       "style": "IPY_MODEL_481d0141d24746bab2ae414bd24aa75a"
      }
     },
     "4feaf7f784b749dcb1a6f0488df70865": {
      "model_module": "@jupyter-widgets/controls",
      "model_module_version": "1.5.0",
      "model_name": "VBoxModel",
      "state": {
       "_dom_classes": [
        "widget-interact"
       ],
       "children": [
        "IPY_MODEL_d127965937d74a1190ef63e3918b895b",
        "IPY_MODEL_aa0d7f574da64022a9febc7f06f95c2b"
       ],
       "layout": "IPY_MODEL_27678138581f489280dcb4f1183e8cb8"
      }
     },
     "5124868c5aa14279b832d914c8841ea3": {
      "model_module": "@jupyter-widgets/base",
      "model_module_version": "1.2.0",
      "model_name": "LayoutModel",
      "state": {}
     },
     "55f47d0aed05402d80b3838bfd6cc5b9": {
      "model_module": "@jupyter-widgets/controls",
      "model_module_version": "1.5.0",
      "model_name": "ButtonModel",
      "state": {
       "description": "Prev",
       "layout": "IPY_MODEL_65f54a1c22ad4bfbb3cfb44a8d261671",
       "style": "IPY_MODEL_4502b0794271468d8a681e58f7d0903d"
      }
     },
     "590fe0bd1428488582c70da1a1bc7a44": {
      "model_module": "@jupyter-widgets/controls",
      "model_module_version": "1.5.0",
      "model_name": "ButtonStyleModel",
      "state": {}
     },
     "5a977bbedd414062aaeb45539eeec281": {
      "model_module": "@jupyter-widgets/controls",
      "model_module_version": "1.5.0",
      "model_name": "ButtonModel",
      "state": {
       "description": "Prev",
       "layout": "IPY_MODEL_2f9aed92e05042ef9bce00ac09a0ab31",
       "style": "IPY_MODEL_a1766bceef9c4e56b75df05a5d774043"
      }
     },
     "5d51a73b04744e00bc81b36e07f37147": {
      "model_module": "@jupyter-widgets/base",
      "model_module_version": "1.2.0",
      "model_name": "LayoutModel",
      "state": {}
     },
     "5ed885e9f5444d3898ae39997b6d88a5": {
      "model_module": "@jupyter-widgets/output",
      "model_module_version": "1.0.0",
      "model_name": "OutputModel",
      "state": {
       "layout": "IPY_MODEL_9954c4f7263a434484a89772794a76da",
       "outputs": [
        {
         "data": {
          "image/png": "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\n",
          "text/plain": "<Figure size 518.4x518.4 with 1 Axes>"
         },
         "metadata": {},
         "output_type": "display_data"
        }
       ]
      }
     },
     "6450365d88434f458800aa28717bc6e0": {
      "model_module": "@jupyter-widgets/base",
      "model_module_version": "1.2.0",
      "model_name": "LayoutModel",
      "state": {}
     },
     "65f54a1c22ad4bfbb3cfb44a8d261671": {
      "model_module": "@jupyter-widgets/base",
      "model_module_version": "1.2.0",
      "model_name": "LayoutModel",
      "state": {}
     },
     "6ace6b96a89042a4a33a303e21ebfc96": {
      "model_module": "@jupyter-widgets/base",
      "model_module_version": "1.2.0",
      "model_name": "LayoutModel",
      "state": {}
     },
     "7060e6049f61463096281f6d0a1c7c31": {
      "model_module": "@jupyter-widgets/controls",
      "model_module_version": "1.5.0",
      "model_name": "LinkModel",
      "state": {
       "source": [
        "IPY_MODEL_22cd3de141e443f38c58b8fe0728af7c",
        "value"
       ],
       "target": [
        "IPY_MODEL_c5413df42e9048ad83897203b3a43987",
        "value"
       ]
      }
     },
     "709927e95dbb4b2cbb96c2dcf16ccf18": {
      "model_module": "@jupyter-widgets/controls",
      "model_module_version": "1.5.0",
      "model_name": "DescriptionStyleModel",
      "state": {
       "description_width": ""
      }
     },
     "714617757c4848bdb4a15961ff5536d3": {
      "model_module": "@jupyter-widgets/base",
      "model_module_version": "1.2.0",
      "model_name": "LayoutModel",
      "state": {}
     },
     "724def1f76b44a5896e8af9c5b551700": {
      "model_module": "@jupyter-widgets/base",
      "model_module_version": "1.2.0",
      "model_name": "LayoutModel",
      "state": {}
     },
     "785397b18cf541cb8bfe53f0dbcd0c47": {
      "model_module": "@jupyter-widgets/controls",
      "model_module_version": "1.5.0",
      "model_name": "HBoxModel",
      "state": {
       "children": [
        "IPY_MODEL_1dc3ad57329d4a0da60f177a966337f1",
        "IPY_MODEL_1dad7dabc62549369c6568d60b0643c6",
        "IPY_MODEL_c9e46f4c2f6f42a48a2c9fb73c92a59e"
       ],
       "layout": "IPY_MODEL_daba117b8d8340df835936b72d7be651"
      }
     },
     "7cf5c6906c50400c9107d48e116df375": {
      "model_module": "@jupyter-widgets/base",
      "model_module_version": "1.2.0",
      "model_name": "LayoutModel",
      "state": {}
     },
     "834c2238d6a5441691001d69f4fb33bc": {
      "model_module": "@jupyter-widgets/controls",
      "model_module_version": "1.5.0",
      "model_name": "VBoxModel",
      "state": {
       "_dom_classes": [
        "widget-interact"
       ],
       "children": [
        "IPY_MODEL_bc1e18480a7a4f7d8aa9d32e84be8f7c",
        "IPY_MODEL_90e803edee154078bdac9e21b6609368"
       ],
       "layout": "IPY_MODEL_ec12b64040334d388c0948e21d852d00"
      }
     },
     "840b614e2e9844918dc3bedfcbafb646": {
      "model_module": "@jupyter-widgets/base",
      "model_module_version": "1.2.0",
      "model_name": "LayoutModel",
      "state": {}
     },
     "8562fddcf80343aba30c08075747f50c": {
      "model_module": "@jupyter-widgets/controls",
      "model_module_version": "1.5.0",
      "model_name": "IntSliderModel",
      "state": {
       "description": "step",
       "layout": "IPY_MODEL_3c3c587a3de249f5b5dcd2d2c69d599b",
       "max": 9,
       "style": "IPY_MODEL_b842ba34085c4a488584a36805154d0b"
      }
     },
     "8584be34c62f4457880cdd3185a8268e": {
      "model_module": "@jupyter-widgets/controls",
      "model_module_version": "1.5.0",
      "model_name": "HBoxModel",
      "state": {
       "children": [
        "IPY_MODEL_22cd3de141e443f38c58b8fe0728af7c",
        "IPY_MODEL_48bd6eac2c864ded89400877c45731bc",
        "IPY_MODEL_03cd1a3b26854cf39850d0abe489daef"
       ],
       "layout": "IPY_MODEL_5124868c5aa14279b832d914c8841ea3"
      }
     },
     "85c38c95874c4717bf74f90d40e866c9": {
      "model_module": "@jupyter-widgets/base",
      "model_module_version": "1.2.0",
      "model_name": "LayoutModel",
      "state": {}
     },
     "8767f59bb9bc43099a67274d2364cbba": {
      "model_module": "@jupyter-widgets/controls",
      "model_module_version": "1.5.0",
      "model_name": "DescriptionStyleModel",
      "state": {
       "description_width": ""
      }
     },
     "88b30fb90038425c945d4ec1dbc7162c": {
      "model_module": "@jupyter-widgets/controls",
      "model_module_version": "1.5.0",
      "model_name": "ButtonStyleModel",
      "state": {}
     },
     "8cbe2582f1db456c86299d58d567be92": {
      "model_module": "@jupyter-widgets/controls",
      "model_module_version": "1.5.0",
      "model_name": "SliderStyleModel",
      "state": {
       "description_width": ""
      }
     },
     "8cd2449f320c45e6ae20a492b9250875": {
      "model_module": "@jupyter-widgets/controls",
      "model_module_version": "1.5.0",
      "model_name": "DescriptionStyleModel",
      "state": {
       "description_width": ""
      }
     },
     "8d4c9027356544c6aac52dbb693931f4": {
      "model_module": "@jupyter-widgets/controls",
      "model_module_version": "1.5.0",
      "model_name": "LinkModel",
      "state": {
       "source": [
        "IPY_MODEL_41a6cfabdb3e4e76b51fb319891ebe75",
        "value"
       ],
       "target": [
        "IPY_MODEL_d6a65f9f112a435e9903cfdab94f913f",
        "value"
       ]
      }
     },
     "8debfd65865246f9a01df35211052268": {
      "model_module": "@jupyter-widgets/base",
      "model_module_version": "1.2.0",
      "model_name": "LayoutModel",
      "state": {}
     },
     "90e803edee154078bdac9e21b6609368": {
      "model_module": "@jupyter-widgets/output",
      "model_module_version": "1.0.0",
      "model_name": "OutputModel",
      "state": {
       "layout": "IPY_MODEL_714617757c4848bdb4a15961ff5536d3",
       "outputs": [
        {
         "data": {
          "image/png": "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\n",
          "text/plain": "<Figure size 518.4x518.4 with 1 Axes>"
         },
         "metadata": {},
         "output_type": "display_data"
        }
       ]
      }
     },
     "92dde4f0093b473dbe0b8c6fa2c8a637": {
      "model_module": "@jupyter-widgets/controls",
      "model_module_version": "1.5.0",
      "model_name": "ButtonStyleModel",
      "state": {}
     },
     "95d61f389f7a42078e38afc158d490b7": {
      "model_module": "@jupyter-widgets/base",
      "model_module_version": "1.2.0",
      "model_name": "LayoutModel",
      "state": {}
     },
     "96f8d37eca7b481583aed77c91dcfbc2": {
      "model_module": "@jupyter-widgets/controls",
      "model_module_version": "1.5.0",
      "model_name": "DescriptionStyleModel",
      "state": {
       "description_width": ""
      }
     },
     "9954c4f7263a434484a89772794a76da": {
      "model_module": "@jupyter-widgets/base",
      "model_module_version": "1.2.0",
      "model_name": "LayoutModel",
      "state": {}
     },
     "9a8f2a5db8644751912896384b661fbf": {
      "model_module": "@jupyter-widgets/controls",
      "model_module_version": "1.5.0",
      "model_name": "VBoxModel",
      "state": {
       "_dom_classes": [
        "widget-interact"
       ],
       "children": [
        "IPY_MODEL_a531bb8b59194462b922b3023d2473f5",
        "IPY_MODEL_5ed885e9f5444d3898ae39997b6d88a5"
       ],
       "layout": "IPY_MODEL_3460305e6943459f86d689fa3e67b08e"
      }
     },
     "9d106e76891a45b0ba1b64e94fc7743c": {
      "model_module": "@jupyter-widgets/base",
      "model_module_version": "1.2.0",
      "model_name": "LayoutModel",
      "state": {}
     },
     "a1766bceef9c4e56b75df05a5d774043": {
      "model_module": "@jupyter-widgets/controls",
      "model_module_version": "1.5.0",
      "model_name": "ButtonStyleModel",
      "state": {}
     },
     "a37ca0dbfbe24ad5998ee48a4b7bd118": {
      "model_module": "@jupyter-widgets/controls",
      "model_module_version": "1.5.0",
      "model_name": "ButtonStyleModel",
      "state": {}
     },
     "a531bb8b59194462b922b3023d2473f5": {
      "model_module": "@jupyter-widgets/controls",
      "model_module_version": "1.5.0",
      "model_name": "IntSliderModel",
      "state": {
       "description": "step",
       "layout": "IPY_MODEL_3a3ff4577244433a8dcb07799a88d762",
       "max": 99,
       "style": "IPY_MODEL_8cbe2582f1db456c86299d58d567be92"
      }
     },
     "aa0d7f574da64022a9febc7f06f95c2b": {
      "model_module": "@jupyter-widgets/output",
      "model_module_version": "1.0.0",
      "model_name": "OutputModel",
      "state": {
       "layout": "IPY_MODEL_395a0d8e415a406382225de0a11a1bcc",
       "outputs": [
        {
         "data": {
          "image/png": "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\n",
          "text/plain": "<Figure size 518.4x518.4 with 1 Axes>"
         },
         "metadata": {},
         "output_type": "display_data"
        }
       ]
      }
     },
     "acb1634c896740058302060ef0856581": {
      "model_module": "@jupyter-widgets/base",
      "model_module_version": "1.2.0",
      "model_name": "LayoutModel",
      "state": {}
     },
     "b12812d3064b42948a7f9253ae2da701": {
      "model_module": "@jupyter-widgets/base",
      "model_module_version": "1.2.0",
      "model_name": "LayoutModel",
      "state": {}
     },
     "b18e42c63afe4f29b26118c802f4d8da": {
      "model_module": "@jupyter-widgets/controls",
      "model_module_version": "1.5.0",
      "model_name": "ButtonStyleModel",
      "state": {}
     },
     "b2cdb05a41124c889433c12be5ac754e": {
      "model_module": "@jupyter-widgets/controls",
      "model_module_version": "1.5.0",
      "model_name": "SliderStyleModel",
      "state": {
       "description_width": ""
      }
     },
     "b6c2664ffba845878b9f3331fff8371f": {
      "model_module": "@jupyter-widgets/base",
      "model_module_version": "1.2.0",
      "model_name": "LayoutModel",
      "state": {}
     },
     "b842ba34085c4a488584a36805154d0b": {
      "model_module": "@jupyter-widgets/controls",
      "model_module_version": "1.5.0",
      "model_name": "SliderStyleModel",
      "state": {
       "description_width": ""
      }
     },
     "baff9951e3f04f45980c9452aa946cc2": {
      "model_module": "@jupyter-widgets/base",
      "model_module_version": "1.2.0",
      "model_name": "LayoutModel",
      "state": {}
     },
     "bc1e18480a7a4f7d8aa9d32e84be8f7c": {
      "model_module": "@jupyter-widgets/controls",
      "model_module_version": "1.5.0",
      "model_name": "IntSliderModel",
      "state": {
       "description": "step",
       "layout": "IPY_MODEL_2bb7b0f210f4475e985989c13f4bf461",
       "max": 43,
       "style": "IPY_MODEL_e1b5d16e7d4d483eb675069e3a62d51f"
      }
     },
     "bd0603206c3e43c783a2ce77bd967bdf": {
      "model_module": "@jupyter-widgets/controls",
      "model_module_version": "1.5.0",
      "model_name": "VBoxModel",
      "state": {
       "_dom_classes": [
        "widget-interact"
       ],
       "children": [
        "IPY_MODEL_c5413df42e9048ad83897203b3a43987",
        "IPY_MODEL_daed25ccef834dd99002f9b983e16218"
       ],
       "layout": "IPY_MODEL_5d51a73b04744e00bc81b36e07f37147"
      }
     },
     "bebcc6e4131840289a649fb333bc7081": {
      "model_module": "@jupyter-widgets/controls",
      "model_module_version": "1.5.0",
      "model_name": "SliderStyleModel",
      "state": {
       "description_width": ""
      }
     },
     "c203c53f085e4639a2bb65900e50f6a9": {
      "model_module": "@jupyter-widgets/controls",
      "model_module_version": "1.5.0",
      "model_name": "ButtonModel",
      "state": {
       "description": "Prev",
       "layout": "IPY_MODEL_6ace6b96a89042a4a33a303e21ebfc96",
       "style": "IPY_MODEL_d426e421ffd044fe97046d5a8589d1ab"
      }
     },
     "c5413df42e9048ad83897203b3a43987": {
      "model_module": "@jupyter-widgets/controls",
      "model_module_version": "1.5.0",
      "model_name": "IntSliderModel",
      "state": {
       "description": "step",
       "layout": "IPY_MODEL_3c44655ddc574898bd4cb93822ceed82",
       "max": 10,
       "style": "IPY_MODEL_f823afa6887d487a86f8e1b5f1d40a0d"
      }
     },
     "c5851e5c57d24586a53188243f65fd26": {
      "model_module": "@jupyter-widgets/controls",
      "model_module_version": "1.5.0",
      "model_name": "DescriptionStyleModel",
      "state": {
       "description_width": ""
      }
     },
     "c800962665af41138af0bfbce20eeac9": {
      "model_module": "@jupyter-widgets/base",
      "model_module_version": "1.2.0",
      "model_name": "LayoutModel",
      "state": {}
     },
     "c8c61f0a7d1a486ca84e5eb7b4a39b0c": {
      "model_module": "@jupyter-widgets/controls",
      "model_module_version": "1.5.0",
      "model_name": "PlayModel",
      "state": {
       "interval": 200,
       "layout": "IPY_MODEL_2ea08dcca36f43a3a94dfd62b857cd7e",
       "style": "IPY_MODEL_96f8d37eca7b481583aed77c91dcfbc2"
      }
     },
     "c9e46f4c2f6f42a48a2c9fb73c92a59e": {
      "model_module": "@jupyter-widgets/controls",
      "model_module_version": "1.5.0",
      "model_name": "ButtonModel",
      "state": {
       "description": "Next",
       "layout": "IPY_MODEL_724def1f76b44a5896e8af9c5b551700",
       "style": "IPY_MODEL_022db1089e8d42cab38b8f8b1fdd5a27"
      }
     },
     "cb1d08fb52ac42e1a26c3109a140e222": {
      "model_module": "@jupyter-widgets/controls",
      "model_module_version": "1.5.0",
      "model_name": "ButtonModel",
      "state": {
       "description": "Next",
       "layout": "IPY_MODEL_baff9951e3f04f45980c9452aa946cc2",
       "style": "IPY_MODEL_88b30fb90038425c945d4ec1dbc7162c"
      }
     },
     "cc6cb455cfc2413faaa1830846ba80f5": {
      "model_module": "@jupyter-widgets/base",
      "model_module_version": "1.2.0",
      "model_name": "LayoutModel",
      "state": {}
     },
     "ccedad94289042a8bb9d274ae45092e5": {
      "model_module": "@jupyter-widgets/output",
      "model_module_version": "1.0.0",
      "model_name": "OutputModel",
      "state": {
       "layout": "IPY_MODEL_109d25a0336e4e94b086a30acd6fd486",
       "outputs": [
        {
         "data": {
          "image/png": "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\n",
          "text/plain": "<Figure size 518.4x518.4 with 1 Axes>"
         },
         "metadata": {},
         "output_type": "display_data"
        }
       ]
      }
     },
     "d09df063c0304e12925651e702a27d48": {
      "model_module": "@jupyter-widgets/base",
      "model_module_version": "1.2.0",
      "model_name": "LayoutModel",
      "state": {}
     },
     "d127965937d74a1190ef63e3918b895b": {
      "model_module": "@jupyter-widgets/controls",
      "model_module_version": "1.5.0",
      "model_name": "IntSliderModel",
      "state": {
       "description": "step",
       "layout": "IPY_MODEL_3bb47f448357464f822fa843b25995c1",
       "max": 9,
       "style": "IPY_MODEL_b2cdb05a41124c889433c12be5ac754e"
      }
     },
     "d426e421ffd044fe97046d5a8589d1ab": {
      "model_module": "@jupyter-widgets/controls",
      "model_module_version": "1.5.0",
      "model_name": "ButtonStyleModel",
      "state": {}
     },
     "d6a65f9f112a435e9903cfdab94f913f": {
      "model_module": "@jupyter-widgets/controls",
      "model_module_version": "1.5.0",
      "model_name": "IntSliderModel",
      "state": {
       "description": "step",
       "layout": "IPY_MODEL_df2667d2b2a243eea0b782d18524d871",
       "max": 10,
       "style": "IPY_MODEL_bebcc6e4131840289a649fb333bc7081"
      }
     },
     "d8b569e34e60485f8adec676b7751919": {
      "model_module": "@jupyter-widgets/controls",
      "model_module_version": "1.5.0",
      "model_name": "LinkModel",
      "state": {
       "source": [
        "IPY_MODEL_c8c61f0a7d1a486ca84e5eb7b4a39b0c",
        "value"
       ],
       "target": [
        "IPY_MODEL_a531bb8b59194462b922b3023d2473f5",
        "value"
       ]
      }
     },
     "daba117b8d8340df835936b72d7be651": {
      "model_module": "@jupyter-widgets/base",
      "model_module_version": "1.2.0",
      "model_name": "LayoutModel",
      "state": {}
     },
     "daed25ccef834dd99002f9b983e16218": {
      "model_module": "@jupyter-widgets/output",
      "model_module_version": "1.0.0",
      "model_name": "OutputModel",
      "state": {
       "layout": "IPY_MODEL_8debfd65865246f9a01df35211052268",
       "outputs": [
        {
         "data": {
          "image/svg+xml": "<?xml version=\"1.0\" encoding=\"UTF-8\" standalone=\"no\"?>\r\n<!DOCTYPE svg PUBLIC \"-//W3C//DTD SVG 1.1//EN\"\r\n \"http://www.w3.org/Graphics/SVG/1.1/DTD/svg11.dtd\">\r\n<!-- Generated by graphviz version 2.44.2~dev.20200826.1453 (20200826.1453)\r\n -->\r\n<!-- Pages: 1 -->\r\n<svg width=\"8pt\" height=\"8pt\"\r\n viewBox=\"0.00 0.00 8.00 8.00\" xmlns=\"http://www.w3.org/2000/svg\" xmlns:xlink=\"http://www.w3.org/1999/xlink\">\r\n<g id=\"graph0\" class=\"graph\" transform=\"scale(1 1) rotate(0) translate(4 4)\">\r\n<polygon fill=\"white\" stroke=\"transparent\" points=\"-4,4 -4,-4 4,-4 4,4 -4,4\"/>\r\n</g>\r\n</svg>\r\n",
          "text/plain": "<graphviz.dot.Digraph at 0x227ef1045e0>"
         },
         "metadata": {},
         "output_type": "display_data"
        }
       ]
      }
     },
     "dd70d1cdadd24876a1d0031a623648b9": {
      "model_module": "@jupyter-widgets/controls",
      "model_module_version": "1.5.0",
      "model_name": "LinkModel",
      "state": {
       "source": [
        "IPY_MODEL_ec9a87bd04ce4a179c7bf3c3d31b4192",
        "value"
       ],
       "target": [
        "IPY_MODEL_8562fddcf80343aba30c08075747f50c",
        "value"
       ]
      }
     },
     "df2667d2b2a243eea0b782d18524d871": {
      "model_module": "@jupyter-widgets/base",
      "model_module_version": "1.2.0",
      "model_name": "LayoutModel",
      "state": {}
     },
     "e1b5d16e7d4d483eb675069e3a62d51f": {
      "model_module": "@jupyter-widgets/controls",
      "model_module_version": "1.5.0",
      "model_name": "SliderStyleModel",
      "state": {
       "description_width": ""
      }
     },
     "e20ffb143eb44ceaaebedbf10b50aa24": {
      "model_module": "@jupyter-widgets/controls",
      "model_module_version": "1.5.0",
      "model_name": "LinkModel",
      "state": {
       "source": [
        "IPY_MODEL_1dc3ad57329d4a0da60f177a966337f1",
        "value"
       ],
       "target": [
        "IPY_MODEL_d127965937d74a1190ef63e3918b895b",
        "value"
       ]
      }
     },
     "e684c8143d424b008a4ec5bfa6e1554f": {
      "model_module": "@jupyter-widgets/controls",
      "model_module_version": "1.5.0",
      "model_name": "ButtonModel",
      "state": {
       "description": "Next",
       "layout": "IPY_MODEL_840b614e2e9844918dc3bedfcbafb646",
       "style": "IPY_MODEL_15a12a96ae8f46f3a015c75481e0cd43"
      }
     },
     "ea1a72ba1cde460087e2688be2382112": {
      "model_module": "@jupyter-widgets/base",
      "model_module_version": "1.2.0",
      "model_name": "LayoutModel",
      "state": {}
     },
     "ec12b64040334d388c0948e21d852d00": {
      "model_module": "@jupyter-widgets/base",
      "model_module_version": "1.2.0",
      "model_name": "LayoutModel",
      "state": {}
     },
     "ec9a87bd04ce4a179c7bf3c3d31b4192": {
      "model_module": "@jupyter-widgets/controls",
      "model_module_version": "1.5.0",
      "model_name": "PlayModel",
      "state": {
       "interval": 500,
       "layout": "IPY_MODEL_b12812d3064b42948a7f9253ae2da701",
       "style": "IPY_MODEL_c5851e5c57d24586a53188243f65fd26"
      }
     },
     "f3a50a7c3f5f486f8b8dcb6a34fe05eb": {
      "model_module": "@jupyter-widgets/base",
      "model_module_version": "1.2.0",
      "model_name": "LayoutModel",
      "state": {}
     },
     "f823afa6887d487a86f8e1b5f1d40a0d": {
      "model_module": "@jupyter-widgets/controls",
      "model_module_version": "1.5.0",
      "model_name": "SliderStyleModel",
      "state": {
       "description_width": ""
      }
     },
     "fbb8827adaa248b18954ad5ffd628345": {
      "model_module": "@jupyter-widgets/base",
      "model_module_version": "1.2.0",
      "model_name": "LayoutModel",
      "state": {}
     },
     "ffeab0cb76344228a6de7866aed60b7f": {
      "model_module": "@jupyter-widgets/controls",
      "model_module_version": "1.5.0",
      "model_name": "ButtonModel",
      "state": {
       "description": "Next",
       "layout": "IPY_MODEL_95d61f389f7a42078e38afc158d490b7",
       "style": "IPY_MODEL_92dde4f0093b473dbe0b8c6fa2c8a637"
      }
     }
    },
    "version_major": 2,
    "version_minor": 0
   }
  }
 },
 "nbformat": 4,
 "nbformat_minor": 5
}
