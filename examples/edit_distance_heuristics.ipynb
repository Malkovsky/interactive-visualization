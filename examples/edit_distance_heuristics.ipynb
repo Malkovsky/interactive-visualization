{
 "cells": [
  {
   "cell_type": "markdown",
   "id": "055bc2c9",
   "metadata": {},
   "source": [
    "# Эвристики для расстояния Левенштейна\n",
    "Расстояние Левенштейна двух последовательностей символов -- это количество вставок, замен и уалений, которые нужно произвести над отдельными символами первой последовательности, чтобы получить вторую. Основные понятия и базовый способ подсчета через динамическое программирование описан например [здесь](https://ru.wikipedia.org/wiki/%D0%A0%D0%B0%D1%81%D1%81%D1%82%D0%BE%D1%8F%D0%BD%D0%B8%D0%B5_%D0%9B%D0%B5%D0%B2%D0%B5%D0%BD%D1%88%D1%82%D0%B5%D0%B9%D0%BD%D0%B0) В этом ноутбуке несколько примеров эвристик для его подсчета. Начнем со вспомогательного кода для визуализации состояния вычислений"
   ]
  },
  {
   "cell_type": "code",
   "execution_count": 1,
   "id": "8b682988",
   "metadata": {},
   "outputs": [],
   "source": [
    "from typing import List, Tuple, Dict\n",
    "import matplotlib.pyplot as plt\n",
    "\n",
    "def edit_distance_state(s: str, t: str, last: List[Tuple[int, int]], values: List[Dict[Tuple[int, int], int]]):\n",
    "    n = len(s) + 2\n",
    "    m = len(t) + 2\n",
    "    \n",
    "    grid = [['*' for j in range(m)] for i in range(n)]\n",
    "    grid[0][0] = ''\n",
    "    grid[1][0] = '#'\n",
    "    grid[0][1] = '#'\n",
    "    \n",
    "    for i in range(n - 2):\n",
    "        grid[i + 2][0] = s[i]\n",
    "    for i in range(m - 2):\n",
    "        grid[0][i + 2] = t[i]\n",
    "    \n",
    "    for (i, j), value in values.items():\n",
    "        grid[i + 1][j + 1] = str(value)\n",
    "    \n",
    "    scaling_factor = max(n, m) / 20\n",
    "    #matplotlib code\n",
    "    fig = plt.figure(figsize=(m * scaling_factor, n * scaling_factor))\n",
    "\n",
    "    ax = fig.add_axes([0, 0, 1, 1])\n",
    "    ax.get_xaxis().set_visible(False)\n",
    "    ax.get_yaxis().set_visible(False)\n",
    "\n",
    "    for name, spine in ax.spines.items():\n",
    "        spine.set_visible(False)\n",
    "        spine.set_visible(False)\n",
    "\n",
    "    for i in range(m + 1):\n",
    "        ax.plot([0, n], [i, i], color='black')\n",
    "    for i in range(n + 1):\n",
    "        ax.plot([i, i], [0, m], color='black')\n",
    "        \n",
    "    for (i, j), value in values.items():\n",
    "        i = i + 1\n",
    "        j = m - j - 2\n",
    "        ax.fill([i, i, i + 1, i + 1, i], [j, j + 1, j + 1, j, j], color='lightcoral')\n",
    "    for x, y in last:\n",
    "        x += 1\n",
    "        y = m - y - 2\n",
    "        ax.fill([x, x, x + 1, x + 1, x],\n",
    "                [y, y + 1, y + 1, y, y], color='cyan')\n",
    "    for i in range(n):\n",
    "        for j in range(m):\n",
    "            ax.text(i + 0.5, m - j - 1 + 0.5, grid[i][j], ha='center', va='center', fontsize=20)\n",
    "        \n",
    "    plt.close(fig)\n",
    "    return fig"
   ]
  },
  {
   "cell_type": "markdown",
   "id": "bdd002fd",
   "metadata": {},
   "source": [
    "Следующий код содержит базовую рекурсивную реализацию расстояния Левенштейна со сложностью по времени и памяти $\\mathcal{O}(nm)$, где $n, m$ -- длины последовательностей."
   ]
  },
  {
   "cell_type": "code",
   "execution_count": 2,
   "id": "4adc3183",
   "metadata": {},
   "outputs": [],
   "source": [
    "def levenstein(i, j, s, t, cache, states = None):\n",
    "    if i == 0 or j == 0:\n",
    "        return max(i, j)\n",
    "    if (i, j) in cache:\n",
    "        return cache[(i, j)]\n",
    "        \n",
    "    cache[(i, j)] = min(\n",
    "        levenstein(i - 1, j - 1, s, t, cache, states)\n",
    "             + (0 if s[i - 1] == t[j - 1] else 1),\n",
    "        levenstein(i - 1, j, s, t, cache, states) + 1,\n",
    "        levenstein(i, j - 1, s, t, cache, states) + 1)\n",
    "    # Visualization code\n",
    "    if states is not None:\n",
    "        states.append(edit_distance_state(s, t, [(i, j)], cache))\n",
    "    ####################\n",
    "    return cache[(i, j)]"
   ]
  },
  {
   "cell_type": "code",
   "execution_count": 3,
   "id": "97321aee",
   "metadata": {},
   "outputs": [
    {
     "data": {
      "text/plain": [
       "3"
      ]
     },
     "execution_count": 3,
     "metadata": {},
     "output_type": "execute_result"
    }
   ],
   "source": [
    "s = 'canon in d'\n",
    "t = 'cant inn d'\n",
    "states = []\n",
    "cache = dict()\n",
    "levenstein(len(s), len(t), s, t, cache, states)"
   ]
  },
  {
   "cell_type": "markdown",
   "id": "5679330f",
   "metadata": {},
   "source": [
    "В последующей визуализации красным обозначены значений, которые вычислены на текущем шаге, голубым -- значение, вычисленное последним."
   ]
  },
  {
   "cell_type": "code",
   "execution_count": 4,
   "id": "03776f6f",
   "metadata": {},
   "outputs": [
    {
     "data": {
      "application/vnd.jupyter.widget-view+json": {
       "model_id": "a5574dd9bacc406c9774da32a9295fd8",
       "version_major": 2,
       "version_minor": 0
      },
      "text/plain": [
       "HBox(children=(Play(value=0, interval=200), Button(description='Prev', style=ButtonStyle()), Button(descriptio…"
      ]
     },
     "metadata": {},
     "output_type": "display_data"
    },
    {
     "data": {
      "application/vnd.jupyter.widget-view+json": {
       "model_id": "2809554d82db410d8ca0ad510191327b",
       "version_major": 2,
       "version_minor": 0
      },
      "text/plain": [
       "interactive(children=(IntSlider(value=0, description='step', max=99), Output()), _dom_classes=('widget-interac…"
      ]
     },
     "metadata": {},
     "output_type": "display_data"
    }
   ],
   "source": [
    "from interactive_visualization.animation_utils import animate_list\n",
    "animate_list(states, play=True);"
   ]
  },
  {
   "cell_type": "markdown",
   "id": "af6f5c07",
   "metadata": {},
   "source": [
    "В следующем коде сделана простая модификация: если разница длин превосходит некий порог $k$, то вычислений не производится. В таком варианте мы вычислим точно расстояние только если оно не превосходит $k$."
   ]
  },
  {
   "cell_type": "code",
   "execution_count": 5,
   "id": "10776b0a",
   "metadata": {},
   "outputs": [],
   "source": [
    "def levenstein_bounded(i, j, s, t, k, cache, states = None):\n",
    "    if i == 0 or j == 0:\n",
    "        return max(i, j)\n",
    "    if (i, j) in cache:\n",
    "        return cache[(i, j)]\n",
    "    if abs(i - j) >= k:\n",
    "        return k\n",
    "        \n",
    "    cache[(i, j)] = min(\n",
    "        levenstein_bounded(i - 1, j - 1, s, t, k, cache, states)\n",
    "             + (0 if s[i - 1] == t[j - 1] else 1),\n",
    "        levenstein_bounded(i - 1, j, s, t, k, cache, states) + 1,\n",
    "        levenstein_bounded(i, j - 1, s, t, k, cache, states) + 1)\n",
    "    # Visualization code\n",
    "    if states is not None:\n",
    "        states.append(edit_distance_state(s, t, [(i, j)], cache))\n",
    "    ####################\n",
    "    return cache[(i, j)]"
   ]
  },
  {
   "cell_type": "code",
   "execution_count": 6,
   "id": "a87d4c7b",
   "metadata": {},
   "outputs": [
    {
     "data": {
      "text/plain": [
       "3"
      ]
     },
     "execution_count": 6,
     "metadata": {},
     "output_type": "execute_result"
    }
   ],
   "source": [
    "states = []\n",
    "cache = dict()\n",
    "levenstein_bounded(len(s), len(t), s, t, 3, cache, states)"
   ]
  },
  {
   "cell_type": "markdown",
   "id": "0de4fed4",
   "metadata": {},
   "source": [
    "В этом варианте сложность по времени и памяти $\\mathcal{O}(\\min(n, m)k)$"
   ]
  },
  {
   "cell_type": "code",
   "execution_count": 7,
   "id": "2193bf26",
   "metadata": {},
   "outputs": [
    {
     "data": {
      "application/vnd.jupyter.widget-view+json": {
       "model_id": "32da588e8eb84e6ca32c782b9cc80e89",
       "version_major": 2,
       "version_minor": 0
      },
      "text/plain": [
       "HBox(children=(Play(value=0, interval=200), Button(description='Prev', style=ButtonStyle()), Button(descriptio…"
      ]
     },
     "metadata": {},
     "output_type": "display_data"
    },
    {
     "data": {
      "application/vnd.jupyter.widget-view+json": {
       "model_id": "50a2821c63324df8bc87f0d6ba005526",
       "version_major": 2,
       "version_minor": 0
      },
      "text/plain": [
       "interactive(children=(IntSlider(value=0, description='step', max=43), Output()), _dom_classes=('widget-interac…"
      ]
     },
     "metadata": {},
     "output_type": "display_data"
    }
   ],
   "source": [
    "animate_list(states, play=True);"
   ]
  },
  {
   "cell_type": "markdown",
   "id": "f4f7d33b",
   "metadata": {},
   "source": [
    "Следующая модификация представляет собой онлайн вариант: вычислительная сложность $\\mathcal{O}(nm)$, сложность по памяти -- $\\mathcal{O}(m)$, кроме вторую последовательность можно обрабатывать в онлайн режиме."
   ]
  },
  {
   "cell_type": "code",
   "execution_count": 8,
   "id": "9cc1278d",
   "metadata": {},
   "outputs": [],
   "source": [
    "def levenstein_online(s, t, states = None):\n",
    "    distances = [i for i in range(len(t))]\n",
    "    \n",
    "    for k, c in enumerate(s):\n",
    "        # initialization with deletion of current symbol\n",
    "        new_distances = [d + 1 for d in distances]\n",
    "        # Subs or corrects\n",
    "        for i, d in enumerate(new_distances[1:]):\n",
    "            distance_sub = distances[i] + (0 if c == t[i] else 1)\n",
    "            new_distances[i + 1] = min(distance_sub, d)\n",
    "        # Insertions\n",
    "        for i, d in enumerate(new_distances[:-1]):\n",
    "            new_distances[i + 1] = min(new_distances[i + 1],\n",
    "                                       new_distances[i] + 1)\n",
    "            \n",
    "        # Visualization code\n",
    "        if states is not None:\n",
    "            values = dict()\n",
    "            for j, x in enumerate(distances):\n",
    "                values[(k, j + 1)] = x\n",
    "                values[(k + 1, j + 1)] = new_distances[j]\n",
    "            last = [(k + 1, j + 1) for j in range(len(distances))]\n",
    "            states.append(edit_distance_state(s, t, last, values))\n",
    "        ####################\n",
    "        \n",
    "        distances = new_distances\n",
    "        \n",
    "    return distances[-1]"
   ]
  },
  {
   "cell_type": "code",
   "execution_count": 9,
   "id": "3bf9db2e",
   "metadata": {},
   "outputs": [
    {
     "data": {
      "text/plain": [
       "4"
      ]
     },
     "execution_count": 9,
     "metadata": {},
     "output_type": "execute_result"
    }
   ],
   "source": [
    "states = []\n",
    "levenstein_online(s, t, states)"
   ]
  },
  {
   "cell_type": "code",
   "execution_count": 10,
   "id": "6abcc4a5",
   "metadata": {},
   "outputs": [
    {
     "data": {
      "application/vnd.jupyter.widget-view+json": {
       "model_id": "154d324ec6194f658353ed6268dbef43",
       "version_major": 2,
       "version_minor": 0
      },
      "text/plain": [
       "HBox(children=(Play(value=0, interval=500), Button(description='Prev', style=ButtonStyle()), Button(descriptio…"
      ]
     },
     "metadata": {},
     "output_type": "display_data"
    },
    {
     "data": {
      "application/vnd.jupyter.widget-view+json": {
       "model_id": "8074519ca10d4e37a2d4326f3f76befe",
       "version_major": 2,
       "version_minor": 0
      },
      "text/plain": [
       "interactive(children=(IntSlider(value=0, description='step', max=9), Output()), _dom_classes=('widget-interact…"
      ]
     },
     "metadata": {},
     "output_type": "display_data"
    }
   ],
   "source": [
    "animate_list(states, play=True, interval=500);"
   ]
  },
  {
   "cell_type": "markdown",
   "id": "b98880c2",
   "metadata": {},
   "source": [
    "Комбинирую последние два метода можно получить онлайн алгоритм со сложностью $\\mathcal{O}(min(n, m)k)$ по времени и $\\mathcal{O}(k)$ по памяти, этот вариант очень схож с эвристикой **beam search**, используемой в распознавании речи"
   ]
  },
  {
   "cell_type": "code",
   "execution_count": 11,
   "id": "3b1aa75f",
   "metadata": {},
   "outputs": [],
   "source": [
    "def levenstein_beam_search(s, t, k, max_tokens=5, states = None):\n",
    "    tokens = [(0, 0)] # position in t, value\n",
    "    \n",
    "    best_value = 0\n",
    "    for k, c in enumerate(s):\n",
    "        new_tokens = dict()\n",
    "        \n",
    "        cur = 0\n",
    "        best_value += 1\n",
    "        tokens_bak = [x for x in tokens]\n",
    "        while cur < len(tokens):\n",
    "            pos, value = tokens[cur]\n",
    "            cur += 1\n",
    "            if pos not in new_tokens or new_tokens[pos] > value + 1 :\n",
    "                new_tokens[pos] = value + 1\n",
    "            if pos < len(t):\n",
    "                cost = 1 if c != t[pos] else 0\n",
    "                if value + cost < best_value + k:\n",
    "                    if pos + 1 not in new_tokens or new_tokens[pos + 1] > value + cost:\n",
    "                        new_tokens[pos + 1] = value + cost       \n",
    "        \n",
    "        new_tokens = list(sorted(new_tokens.items(), key=lambda x: x[1]))[:max_tokens]\n",
    "        new_tokens = sorted(new_tokens)\n",
    "        for i, (pos, value) in enumerate(new_tokens):\n",
    "            if i == len(new_tokens) - 1:\n",
    "                break\n",
    "            next_pos = new_tokens[i + 1][0]\n",
    "            new_tokens[i + 1] = (next_pos, min(new_tokens[i + 1][1], value + next_pos - pos))\n",
    "        pos, value = new_tokens[-1]\n",
    "        while pos + 1 <= len(t) and value + 1 <= best_value + k:\n",
    "            new_tokens.append((pos + 1, value + 1))\n",
    "            pos += 1\n",
    "            value += 1\n",
    "        new_tokens = list(sorted(new_tokens, key=lambda x: x[1]))[:max_tokens]\n",
    "        new_tokens = sorted(new_tokens)\n",
    "        \n",
    "        # Visualization code\n",
    "        if states is not None:\n",
    "            values = dict()\n",
    "            for j, x in tokens_bak:\n",
    "                values[(k, j)] = x\n",
    "            last = []\n",
    "            for j, x in new_tokens:\n",
    "                values[(k + 1, j)] = x\n",
    "                last.append((k + 1, j))\n",
    "            states.append(edit_distance_state(s, t, last, values))\n",
    "        ####################\n",
    "        tokens = new_tokens\n",
    "\n",
    "                \n",
    "    for pos, value in tokens:\n",
    "        if pos == len(s):\n",
    "            return value\n",
    "        \n",
    "    return k"
   ]
  },
  {
   "cell_type": "code",
   "execution_count": 12,
   "id": "e3e57720",
   "metadata": {},
   "outputs": [
    {
     "data": {
      "text/plain": [
       "3"
      ]
     },
     "execution_count": 12,
     "metadata": {},
     "output_type": "execute_result"
    }
   ],
   "source": [
    "states = []\n",
    "levenstein_beam_search(s, t, 3, 5, states)"
   ]
  },
  {
   "cell_type": "code",
   "execution_count": 13,
   "id": "8f2cb973",
   "metadata": {},
   "outputs": [
    {
     "data": {
      "application/vnd.jupyter.widget-view+json": {
       "model_id": "2162e74b608e4053af2e73e679a419df",
       "version_major": 2,
       "version_minor": 0
      },
      "text/plain": [
       "HBox(children=(Play(value=0, interval=200), Button(description='Prev', style=ButtonStyle()), Button(descriptio…"
      ]
     },
     "metadata": {},
     "output_type": "display_data"
    },
    {
     "data": {
      "application/vnd.jupyter.widget-view+json": {
       "model_id": "6252a5d749e54d7eaf59f3cddbf15866",
       "version_major": 2,
       "version_minor": 0
      },
      "text/plain": [
       "interactive(children=(IntSlider(value=0, description='step', max=9), Output()), _dom_classes=('widget-interact…"
      ]
     },
     "metadata": {},
     "output_type": "display_data"
    },
    {
     "data": {
      "text/plain": [
       "<function interactive_visualization.animation_utils.animation.step_slice(lst, step)>"
      ]
     },
     "execution_count": 13,
     "metadata": {},
     "output_type": "execute_result"
    }
   ],
   "source": [
    "animate_list(states, play=True)"
   ]
  },
  {
   "cell_type": "markdown",
   "id": "2bb45daa",
   "metadata": {},
   "source": [
    "## Дерево гипотез\n",
    "Во всех рассматриваемых вариантах мы делали только вычисление расстояния Левенштейна, но не самих операций, которые нужно проделать, чтобы получить вторую строку из первой. Для восстановления этих операций в онлайн вариантах необходимо как-то хранить предыдущие вычисления. Один из вариантов -- хранить все промежуточные вычисления и делать это обычным способом. К сожалению с таким способом расход памяти будет $\\mathcal{O}(nk)$, а не $\\mathcal{k}$. Альтернативно можно хранить только те промежуточные гипотезы, которые участвовали в цепочки создания тех, которые рассматриваются сейчас. Это можно осуществить с помощью **дерева гипотез** -- структуры данных, поддерживающей следующие операции:\n",
    "* Инициализировать дерево одним активным узлом, соответствующим пустой гипотезе\n",
    "* Породить новый узел из существующей гипотезы и пометить его активным\n",
    "* Пометить узел как неактивный\n",
    "* Удалить все неактивные узлы, которые не содержатся на пути от корня к некоторому активному узлу\n",
    "\n",
    "В зависимости от задачи узлы дерева гипотез могут хранить дополнительную информацию о том, как тот или иной узел был порожден, например в нашем случае необходимо будет хранить позиции в строках и при желании операцию, с помощью которой он был получен (одна операция -- один узел/переход). Идея активных/неактивных узлов заключается в том, что активными мы помечаем те гипотезы, которые рассматриваются на текузей итерации, а неактивные -- созданные на предыдущих итерациях гипотезы, которые необходимы нам для восстановления действий, которое обычно можно получить пройдя от узла лучшей гипотезы к корню.\n",
    "\n",
    "Оказывается, что для эффективного менеджмента ненужных гипотез достаточно использовать стандартный сборщик мусора по количеству ссылок. Если в узле хранится ссылка узла-предка, а также активные узлы хранятся непосредственно, то ненужные неактивные гипотезы будут удаляться автоматически."
   ]
  },
  {
   "cell_type": "code",
   "execution_count": 14,
   "id": "eb904f97",
   "metadata": {},
   "outputs": [],
   "source": [
    "from weakref import WeakValueDictionary\n",
    "\n",
    "class HypothesisTreeNode:\n",
    "    def __init__(self, parent, pos_s, pos_t, value, op):\n",
    "        self.parent = parent\n",
    "        self.pos_s = pos_s\n",
    "        self.pos_t = pos_t\n",
    "        self.value = value\n",
    "        self.op = op\n",
    "        self.next = WeakValueDictionary()\n",
    "\n",
    "    def prolong(self, op):\n",
    "        if op == \"del\":\n",
    "            new_node = HypothesisTreeNode(self, self.pos_s + 1, self.pos_t, self.value + 1, op)\n",
    "        elif op == \"ins\":\n",
    "            new_node = HypothesisTreeNode(self, self.pos_s, self.pos_t + 1, self.value + 1, op)\n",
    "        elif op == \"sub\":\n",
    "            new_node = HypothesisTreeNode(self, self.pos_s + 1, self.pos_t + 1, self.value + 1, op)\n",
    "        else:\n",
    "            new_node = HypothesisTreeNode(self, self.pos_s + 1, self.pos_t + 1, self.value, op)\n",
    "        \n",
    "        self.next[op] = new_node\n",
    "        return new_node\n",
    "\n",
    "    def backtrace(self):\n",
    "        cur = self\n",
    "        result = []\n",
    "        prev = '_'\n",
    "        while cur is not None:\n",
    "            if cur.op is not None:\n",
    "                result.append((cur.pos_s, cur.pos_t, cur.op))\n",
    "            cur = cur.parent\n",
    "\n",
    "        return list(reversed(result))"
   ]
  },
  {
   "cell_type": "code",
   "execution_count": 15,
   "id": "2f66c41d",
   "metadata": {},
   "outputs": [],
   "source": [
    "from interactive_visualization.graph_utils import Graph, Arc\n",
    "from queue import Queue\n",
    "\n",
    "def hypothesis_tree(tokens):\n",
    "    arcs = []\n",
    "    tmp = tokens[0][1]\n",
    "    while tmp is not None and tmp.parent is not None:\n",
    "        tmp = tmp.parent\n",
    "    \n",
    "    q = Queue()\n",
    "    q.put((tmp, 0))\n",
    "    state_num = dict()\n",
    "    states = 1\n",
    "    state_num[tmp] = states\n",
    "    while not q.empty():\n",
    "        history_item, num = q.get()\n",
    "        for word, next_item in history_item.next.items():\n",
    "            if next_item in state_num:\n",
    "                state = state_num[next_item]\n",
    "            else:\n",
    "                state = states\n",
    "                state_num[next_item] = state\n",
    "                states += 1\n",
    "                q.put((next_item, state))\n",
    "            arcs.append(Arc(num, state, f\"({next_item.pos_s}, {next_item.pos_t})/{next_item.op}\"))\n",
    "            #print(f'Added arc: {num}, {state}, \"\"{word}\"\"')\n",
    "                   \n",
    "    tokens_set = {state_num[token[1]] for token in tokens}\n",
    "\n",
    "    result = Graph(arcs)\n",
    "    for i, node in result.nodes.items():\n",
    "        node.SetShape('point')\n",
    "        if i in tokens_set:\n",
    "            node.SetColor('red')\n",
    "    return result.Visualize()"
   ]
  },
  {
   "cell_type": "code",
   "execution_count": 16,
   "id": "6261cef6",
   "metadata": {},
   "outputs": [],
   "source": [
    "def levenstein_beam_search_with_ht(s, t, k, max_tokens=5, states = None):\n",
    "    tokens = [(0, HypothesisTreeNode(None, 0, 0, 0, None))] # position in t, value\n",
    "    \n",
    "    # Visualization code\n",
    "    states.append(hypothesis_tree(tokens))\n",
    "    ####################\n",
    "    \n",
    "    best_value = 0\n",
    "    for k, c in enumerate(s):\n",
    "        new_tokens = dict()\n",
    "        \n",
    "        cur = 0\n",
    "        best_value += 1\n",
    "        for pos, token in tokens:\n",
    "            if pos not in new_tokens or new_tokens[pos].value > token.value + 1 :\n",
    "                new_tokens[pos] = token.prolong(\"del\")\n",
    "            if pos < len(t):\n",
    "                cost = 1 if c != t[pos] else 0\n",
    "                if token.value + cost < best_value + k:\n",
    "                    if pos + 1 not in new_tokens or new_tokens[pos + 1].value > token.value + cost:\n",
    "                        new_tokens[pos + 1] = token.prolong(\"sub\" if cost == 1 else \"cor\")       \n",
    "        \n",
    "        new_tokens = list(sorted(new_tokens.items(), key=lambda x: x[1].value))[:max_tokens]\n",
    "        new_tokens = sorted(new_tokens)\n",
    "        for i, (pos, token) in enumerate(new_tokens):\n",
    "            if i == len(new_tokens) - 1:\n",
    "                break\n",
    "            next_pos = new_tokens[i + 1][0]\n",
    "            if new_tokens[i + 1][1].value > token.value + next_pos - pos:\n",
    "                new_tokens[i + 1] = (next_pos, token.prolong(\"ins\"))\n",
    "        pos, token = new_tokens[-1]\n",
    "        while pos + 1 <= len(t) and token.value + 1 <= best_value + k:\n",
    "            token = token.prolong(\"ins\")\n",
    "            pos += 1\n",
    "            new_tokens.append((pos, token))\n",
    "            \n",
    "        new_tokens = list(sorted(new_tokens, key=lambda x: x[1].value))[:max_tokens]\n",
    "        new_tokens = sorted(new_tokens)\n",
    "        \n",
    "        # Visualization code\n",
    "        states.append(hypothesis_tree(new_tokens))\n",
    "        ####################\n",
    "        tokens = new_tokens\n",
    "\n",
    "                \n",
    "    for pos, token in tokens:\n",
    "        if pos == len(s):\n",
    "            return token.value, token\n",
    "        \n",
    "    return k, None"
   ]
  },
  {
   "cell_type": "code",
   "execution_count": 17,
   "id": "e33dfbc5",
   "metadata": {},
   "outputs": [
    {
     "name": "stdout",
     "output_type": "stream",
     "text": [
      "3\n"
     ]
    }
   ],
   "source": [
    "states = []\n",
    "value, token = levenstein_beam_search_with_ht(s, t, 3, 5, states)\n",
    "print(value)"
   ]
  },
  {
   "cell_type": "code",
   "execution_count": 18,
   "id": "b86169b3",
   "metadata": {},
   "outputs": [
    {
     "data": {
      "application/vnd.jupyter.widget-view+json": {
       "model_id": "c0376c433b0f44b4bee066883a91657d",
       "version_major": 2,
       "version_minor": 0
      },
      "text/plain": [
       "HBox(children=(Play(value=0, interval=500), Button(description='Prev', style=ButtonStyle()), Button(descriptio…"
      ]
     },
     "metadata": {},
     "output_type": "display_data"
    },
    {
     "data": {
      "application/vnd.jupyter.widget-view+json": {
       "model_id": "b4b296959fd64d31bc38f33e477f5465",
       "version_major": 2,
       "version_minor": 0
      },
      "text/plain": [
       "interactive(children=(IntSlider(value=0, description='step', max=10), Output()), _dom_classes=('widget-interac…"
      ]
     },
     "metadata": {},
     "output_type": "display_data"
    }
   ],
   "source": [
    "animate_list(states, play=True, interval=500);"
   ]
  },
  {
   "cell_type": "markdown",
   "id": "09a9b8eb",
   "metadata": {},
   "source": [
    "Теперь давайте построем выравнивание Левенштейна из полученного дерева"
   ]
  },
  {
   "cell_type": "code",
   "execution_count": 19,
   "id": "7c140736",
   "metadata": {},
   "outputs": [],
   "source": [
    "aligned = token.backtrace()\n",
    "s_aligned = []\n",
    "t_aligned = []\n",
    "s_op = []\n",
    "for i, j, op in aligned:\n",
    "    if op in { \"cor\", \"sub\" }:\n",
    "        s_aligned.append(s[i - 1])\n",
    "        t_aligned.append(t[j - 1])\n",
    "    elif op == \"ins\":\n",
    "        s_aligned.append('*')\n",
    "        t_aligned.append(t[j - 1])\n",
    "    else:\n",
    "        s_aligned.append(s[i - 1])\n",
    "        t_aligned.append('*')\n",
    "    s_op.append(op[0].upper())"
   ]
  },
  {
   "cell_type": "code",
   "execution_count": 20,
   "id": "e8c80735",
   "metadata": {},
   "outputs": [
    {
     "name": "stdout",
     "output_type": "stream",
     "text": [
      "canon i*n d\n",
      "can*t inn d\n",
      "CCCDSCCICCC\n"
     ]
    }
   ],
   "source": [
    "print(''.join(s_aligned))\n",
    "print(''.join(t_aligned))\n",
    "print(''.join(s_op))"
   ]
  }
 ],
 "metadata": {
  "kernelspec": {
   "display_name": "Python 3 (ipykernel)",
   "language": "python",
   "name": "python3"
  },
  "language_info": {
   "codemirror_mode": {
    "name": "ipython",
    "version": 3
   },
   "file_extension": ".py",
   "mimetype": "text/x-python",
   "name": "python",
   "nbconvert_exporter": "python",
   "pygments_lexer": "ipython3",
   "version": "3.8.3"
  },
  "widgets": {
   "application/vnd.jupyter.widget-state+json": {
    "state": {
     "0694d7386a48405d8cfa2c503e8ce53f": {
      "model_module": "@jupyter-widgets/controls",
      "model_module_version": "1.5.0",
      "model_name": "IntSliderModel",
      "state": {
       "description": "step",
       "layout": "IPY_MODEL_94504516d76f438e85edd9e99046b295",
       "max": 9,
       "style": "IPY_MODEL_3f1966597f654c8ba3c82a91b93d1211"
      }
     },
     "06c5646676904826bda23e1a6fdf8b34": {
      "model_module": "@jupyter-widgets/controls",
      "model_module_version": "1.5.0",
      "model_name": "SliderStyleModel",
      "state": {
       "description_width": ""
      }
     },
     "0753287b51c14471bf7604446176f664": {
      "model_module": "@jupyter-widgets/base",
      "model_module_version": "1.2.0",
      "model_name": "LayoutModel",
      "state": {}
     },
     "09a904aa39334beb8153fabcf8b1a1b4": {
      "model_module": "@jupyter-widgets/controls",
      "model_module_version": "1.5.0",
      "model_name": "ButtonStyleModel",
      "state": {}
     },
     "0b7b32632f1b43c29cd05d7b3964ad2e": {
      "model_module": "@jupyter-widgets/controls",
      "model_module_version": "1.5.0",
      "model_name": "PlayModel",
      "state": {
       "interval": 500,
       "layout": "IPY_MODEL_d327b013b1f94271934b842ccc1d206e",
       "style": "IPY_MODEL_b7462f7e1eff4269961c319b6c486340"
      }
     },
     "109953489e274f7f964017658f959354": {
      "model_module": "@jupyter-widgets/base",
      "model_module_version": "1.2.0",
      "model_name": "LayoutModel",
      "state": {}
     },
     "12e1bf4e36fe44f49778e35e78ca6a08": {
      "model_module": "@jupyter-widgets/controls",
      "model_module_version": "1.5.0",
      "model_name": "SliderStyleModel",
      "state": {
       "description_width": ""
      }
     },
     "12e97212bbce4f45b47c5f1bd037a84f": {
      "model_module": "@jupyter-widgets/controls",
      "model_module_version": "1.5.0",
      "model_name": "PlayModel",
      "state": {
       "interval": 200,
       "layout": "IPY_MODEL_330378445337419c9e821df6b7b92425",
       "style": "IPY_MODEL_37b6e7944ed34084ad71fe843dfc4847"
      }
     },
     "1321d28a465343af8e85b4d3fb9d65f2": {
      "model_module": "@jupyter-widgets/base",
      "model_module_version": "1.2.0",
      "model_name": "LayoutModel",
      "state": {}
     },
     "150013df05774894b03386553435510c": {
      "model_module": "@jupyter-widgets/controls",
      "model_module_version": "1.5.0",
      "model_name": "DescriptionStyleModel",
      "state": {
       "description_width": ""
      }
     },
     "151425cc68774ba38d8cd9ab3c7188a6": {
      "model_module": "@jupyter-widgets/controls",
      "model_module_version": "1.5.0",
      "model_name": "ButtonModel",
      "state": {
       "description": "Prev",
       "layout": "IPY_MODEL_94b68011f5cc49c49ff9b1984c7b08c9",
       "style": "IPY_MODEL_6d28fa880d464b07a2a96ce6c0f7184d"
      }
     },
     "15484e599f45408287327e43c1970e96": {
      "model_module": "@jupyter-widgets/controls",
      "model_module_version": "1.5.0",
      "model_name": "PlayModel",
      "state": {
       "interval": 500,
       "layout": "IPY_MODEL_6b8f4655f072403c8078b7e43a3a4e9b",
       "style": "IPY_MODEL_3e2dd205374f4e2795c0a032aad667b5"
      }
     },
     "154d324ec6194f658353ed6268dbef43": {
      "model_module": "@jupyter-widgets/controls",
      "model_module_version": "1.5.0",
      "model_name": "HBoxModel",
      "state": {
       "children": [
        "IPY_MODEL_15484e599f45408287327e43c1970e96",
        "IPY_MODEL_6c69df565aa046019a24e3a3df3355b7",
        "IPY_MODEL_fbf8beb82bec415f91171171e2f2f7e2"
       ],
       "layout": "IPY_MODEL_66b995da912f4099a98209275ea2840f"
      }
     },
     "17b62f6078924ace8bb9690ad3507600": {
      "model_module": "@jupyter-widgets/controls",
      "model_module_version": "1.5.0",
      "model_name": "ButtonModel",
      "state": {
       "description": "Prev",
       "layout": "IPY_MODEL_1b0f97cc60944a66944e7d5ecb2ff78b",
       "style": "IPY_MODEL_49e8b48f910a465ea5c9f10aeba86674"
      }
     },
     "193d36da512a43198ea66f05dd2360d0": {
      "model_module": "@jupyter-widgets/controls",
      "model_module_version": "1.5.0",
      "model_name": "IntSliderModel",
      "state": {
       "description": "step",
       "layout": "IPY_MODEL_ea465941715d483387fa4365ae3c8406",
       "max": 9,
       "style": "IPY_MODEL_12e1bf4e36fe44f49778e35e78ca6a08"
      }
     },
     "1ae1aeda84864af39ee2e88b0fa7e2bb": {
      "model_module": "@jupyter-widgets/output",
      "model_module_version": "1.0.0",
      "model_name": "OutputModel",
      "state": {
       "layout": "IPY_MODEL_717c87dd946e487d9d5a32cd40e442a0",
       "outputs": [
        {
         "data": {
          "image/png": "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\n",
          "text/plain": "<Figure size 518.4x518.4 with 1 Axes>"
         },
         "metadata": {},
         "output_type": "display_data"
        }
       ]
      }
     },
     "1b0f97cc60944a66944e7d5ecb2ff78b": {
      "model_module": "@jupyter-widgets/base",
      "model_module_version": "1.2.0",
      "model_name": "LayoutModel",
      "state": {}
     },
     "1dc825c7f93e4c72ba6e7d1b9eb01a04": {
      "model_module": "@jupyter-widgets/controls",
      "model_module_version": "1.5.0",
      "model_name": "ButtonStyleModel",
      "state": {}
     },
     "1eb4916c261a419b9dd2721f8d0c3838": {
      "model_module": "@jupyter-widgets/output",
      "model_module_version": "1.0.0",
      "model_name": "OutputModel",
      "state": {
       "layout": "IPY_MODEL_91750ef18547416d9193e301e2863b94",
       "outputs": [
        {
         "data": {
          "image/svg+xml": "<?xml version=\"1.0\" encoding=\"UTF-8\" standalone=\"no\"?>\r\n<!DOCTYPE svg PUBLIC \"-//W3C//DTD SVG 1.1//EN\"\r\n \"http://www.w3.org/Graphics/SVG/1.1/DTD/svg11.dtd\">\r\n<!-- Generated by graphviz version 2.44.2~dev.20200826.1453 (20200826.1453)\r\n -->\r\n<!-- Pages: 1 -->\r\n<svg width=\"8pt\" height=\"8pt\"\r\n viewBox=\"0.00 0.00 8.00 8.00\" xmlns=\"http://www.w3.org/2000/svg\" xmlns:xlink=\"http://www.w3.org/1999/xlink\">\r\n<g id=\"graph0\" class=\"graph\" transform=\"scale(1 1) rotate(0) translate(4 4)\">\r\n<polygon fill=\"white\" stroke=\"transparent\" points=\"-4,4 -4,-4 4,-4 4,4 -4,4\"/>\r\n</g>\r\n</svg>\r\n",
          "text/plain": "<graphviz.dot.Digraph at 0x2401a6e8a60>"
         },
         "metadata": {},
         "output_type": "display_data"
        }
       ]
      }
     },
     "2162e74b608e4053af2e73e679a419df": {
      "model_module": "@jupyter-widgets/controls",
      "model_module_version": "1.5.0",
      "model_name": "HBoxModel",
      "state": {
       "children": [
        "IPY_MODEL_12e97212bbce4f45b47c5f1bd037a84f",
        "IPY_MODEL_ec5b0f625554479db9b3358ee40ff5de",
        "IPY_MODEL_b1271b052f5747a6bcddbd9904c2e110"
       ],
       "layout": "IPY_MODEL_251ed93e3ae74078b9745ca8f3e383e3"
      }
     },
     "22f33350cc1d436c9bbd2eac9b75baba": {
      "model_module": "@jupyter-widgets/controls",
      "model_module_version": "1.5.0",
      "model_name": "LinkModel",
      "state": {
       "source": [
        "IPY_MODEL_12e97212bbce4f45b47c5f1bd037a84f",
        "value"
       ],
       "target": [
        "IPY_MODEL_193d36da512a43198ea66f05dd2360d0",
        "value"
       ]
      }
     },
     "23f375c44e644fd885cfb9802828e681": {
      "model_module": "@jupyter-widgets/base",
      "model_module_version": "1.2.0",
      "model_name": "LayoutModel",
      "state": {}
     },
     "251ed93e3ae74078b9745ca8f3e383e3": {
      "model_module": "@jupyter-widgets/base",
      "model_module_version": "1.2.0",
      "model_name": "LayoutModel",
      "state": {}
     },
     "2809554d82db410d8ca0ad510191327b": {
      "model_module": "@jupyter-widgets/controls",
      "model_module_version": "1.5.0",
      "model_name": "VBoxModel",
      "state": {
       "_dom_classes": [
        "widget-interact"
       ],
       "children": [
        "IPY_MODEL_c0cc6edb8ce646ef8be0fad4bd1c7674",
        "IPY_MODEL_4d807a0876a541c983c3ef61496eb90a"
       ],
       "layout": "IPY_MODEL_28ef5058883e48feb54136f81dd81204"
      }
     },
     "28ef5058883e48feb54136f81dd81204": {
      "model_module": "@jupyter-widgets/base",
      "model_module_version": "1.2.0",
      "model_name": "LayoutModel",
      "state": {}
     },
     "3255f8159df24ef18e2fc9147be52683": {
      "model_module": "@jupyter-widgets/base",
      "model_module_version": "1.2.0",
      "model_name": "LayoutModel",
      "state": {}
     },
     "32da588e8eb84e6ca32c782b9cc80e89": {
      "model_module": "@jupyter-widgets/controls",
      "model_module_version": "1.5.0",
      "model_name": "HBoxModel",
      "state": {
       "children": [
        "IPY_MODEL_90dad98aeeed4b93b0b68489c7da36b9",
        "IPY_MODEL_17b62f6078924ace8bb9690ad3507600",
        "IPY_MODEL_5b4a7db3e74c46d38fd53a725c4a648d"
       ],
       "layout": "IPY_MODEL_d2c4d0bfa2ff4063aa42bb3025b13291"
      }
     },
     "330378445337419c9e821df6b7b92425": {
      "model_module": "@jupyter-widgets/base",
      "model_module_version": "1.2.0",
      "model_name": "LayoutModel",
      "state": {}
     },
     "37b6e7944ed34084ad71fe843dfc4847": {
      "model_module": "@jupyter-widgets/controls",
      "model_module_version": "1.5.0",
      "model_name": "DescriptionStyleModel",
      "state": {
       "description_width": ""
      }
     },
     "3e2dd205374f4e2795c0a032aad667b5": {
      "model_module": "@jupyter-widgets/controls",
      "model_module_version": "1.5.0",
      "model_name": "DescriptionStyleModel",
      "state": {
       "description_width": ""
      }
     },
     "3f1966597f654c8ba3c82a91b93d1211": {
      "model_module": "@jupyter-widgets/controls",
      "model_module_version": "1.5.0",
      "model_name": "SliderStyleModel",
      "state": {
       "description_width": ""
      }
     },
     "3f1c3af8e8ae4e4291a492d1a4142d66": {
      "model_module": "@jupyter-widgets/base",
      "model_module_version": "1.2.0",
      "model_name": "LayoutModel",
      "state": {}
     },
     "43389d5621cd43e79d7a3334c7c5522f": {
      "model_module": "@jupyter-widgets/controls",
      "model_module_version": "1.5.0",
      "model_name": "ButtonModel",
      "state": {
       "description": "Prev",
       "layout": "IPY_MODEL_6ecbb63252ce4788bfac5446dec0944a",
       "style": "IPY_MODEL_c408216db07f40cd9821ffb6560fce35"
      }
     },
     "450838bb4abf4948948d719aa9858ee0": {
      "model_module": "@jupyter-widgets/base",
      "model_module_version": "1.2.0",
      "model_name": "LayoutModel",
      "state": {}
     },
     "49e8b48f910a465ea5c9f10aeba86674": {
      "model_module": "@jupyter-widgets/controls",
      "model_module_version": "1.5.0",
      "model_name": "ButtonStyleModel",
      "state": {}
     },
     "4a86133e7a144b849fad29f1d97ea461": {
      "model_module": "@jupyter-widgets/base",
      "model_module_version": "1.2.0",
      "model_name": "LayoutModel",
      "state": {}
     },
     "4d807a0876a541c983c3ef61496eb90a": {
      "model_module": "@jupyter-widgets/output",
      "model_module_version": "1.0.0",
      "model_name": "OutputModel",
      "state": {
       "layout": "IPY_MODEL_0753287b51c14471bf7604446176f664",
       "outputs": [
        {
         "data": {
          "image/png": "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\n",
          "text/plain": "<Figure size 518.4x518.4 with 1 Axes>"
         },
         "metadata": {},
         "output_type": "display_data"
        }
       ]
      }
     },
     "50a2821c63324df8bc87f0d6ba005526": {
      "model_module": "@jupyter-widgets/controls",
      "model_module_version": "1.5.0",
      "model_name": "VBoxModel",
      "state": {
       "_dom_classes": [
        "widget-interact"
       ],
       "children": [
        "IPY_MODEL_a1eca959aa2740fe802e76b347e20d16",
        "IPY_MODEL_1ae1aeda84864af39ee2e88b0fa7e2bb"
       ],
       "layout": "IPY_MODEL_109953489e274f7f964017658f959354"
      }
     },
     "51e8fd19da20413695ccb2d0a7af13e5": {
      "model_module": "@jupyter-widgets/base",
      "model_module_version": "1.2.0",
      "model_name": "LayoutModel",
      "state": {}
     },
     "5b4a7db3e74c46d38fd53a725c4a648d": {
      "model_module": "@jupyter-widgets/controls",
      "model_module_version": "1.5.0",
      "model_name": "ButtonModel",
      "state": {
       "description": "Next",
       "layout": "IPY_MODEL_79ba15c445404503a1e88b18944e5632",
       "style": "IPY_MODEL_bc9b6c28343148daa52b1a798b67fd44"
      }
     },
     "614d50f3193f43e7a079fe1fffb22d58": {
      "model_module": "@jupyter-widgets/base",
      "model_module_version": "1.2.0",
      "model_name": "LayoutModel",
      "state": {}
     },
     "615690962e7447b88cfb4951b42aeefd": {
      "model_module": "@jupyter-widgets/controls",
      "model_module_version": "1.5.0",
      "model_name": "ButtonStyleModel",
      "state": {}
     },
     "6252a5d749e54d7eaf59f3cddbf15866": {
      "model_module": "@jupyter-widgets/controls",
      "model_module_version": "1.5.0",
      "model_name": "VBoxModel",
      "state": {
       "_dom_classes": [
        "widget-interact"
       ],
       "children": [
        "IPY_MODEL_193d36da512a43198ea66f05dd2360d0",
        "IPY_MODEL_96388a453738435897c0b68c7840453b"
       ],
       "layout": "IPY_MODEL_d6cd995dfbe14b6aad6cea2a8bac89cb"
      }
     },
     "66b995da912f4099a98209275ea2840f": {
      "model_module": "@jupyter-widgets/base",
      "model_module_version": "1.2.0",
      "model_name": "LayoutModel",
      "state": {}
     },
     "6b8f4655f072403c8078b7e43a3a4e9b": {
      "model_module": "@jupyter-widgets/base",
      "model_module_version": "1.2.0",
      "model_name": "LayoutModel",
      "state": {}
     },
     "6c69df565aa046019a24e3a3df3355b7": {
      "model_module": "@jupyter-widgets/controls",
      "model_module_version": "1.5.0",
      "model_name": "ButtonModel",
      "state": {
       "description": "Prev",
       "layout": "IPY_MODEL_9c24521e0f8f41a89bef6c8b0356d2d0",
       "style": "IPY_MODEL_9e7775f9e5a240e2bf19e643abba9e77"
      }
     },
     "6d28fa880d464b07a2a96ce6c0f7184d": {
      "model_module": "@jupyter-widgets/controls",
      "model_module_version": "1.5.0",
      "model_name": "ButtonStyleModel",
      "state": {}
     },
     "6ecbb63252ce4788bfac5446dec0944a": {
      "model_module": "@jupyter-widgets/base",
      "model_module_version": "1.2.0",
      "model_name": "LayoutModel",
      "state": {}
     },
     "717c87dd946e487d9d5a32cd40e442a0": {
      "model_module": "@jupyter-widgets/base",
      "model_module_version": "1.2.0",
      "model_name": "LayoutModel",
      "state": {}
     },
     "7180125e608a49958fb0d285f4f9cc90": {
      "model_module": "@jupyter-widgets/controls",
      "model_module_version": "1.5.0",
      "model_name": "SliderStyleModel",
      "state": {
       "description_width": ""
      }
     },
     "79ba15c445404503a1e88b18944e5632": {
      "model_module": "@jupyter-widgets/base",
      "model_module_version": "1.2.0",
      "model_name": "LayoutModel",
      "state": {}
     },
     "7a57a8b38a61486cba055c69f51763fa": {
      "model_module": "@jupyter-widgets/controls",
      "model_module_version": "1.5.0",
      "model_name": "LinkModel",
      "state": {
       "source": [
        "IPY_MODEL_ae4bb3416971498193af1735d3be8b30",
        "value"
       ],
       "target": [
        "IPY_MODEL_c0cc6edb8ce646ef8be0fad4bd1c7674",
        "value"
       ]
      }
     },
     "7dfa8bd2c29944fc98d78abce4ed5086": {
      "model_module": "@jupyter-widgets/base",
      "model_module_version": "1.2.0",
      "model_name": "LayoutModel",
      "state": {}
     },
     "8074519ca10d4e37a2d4326f3f76befe": {
      "model_module": "@jupyter-widgets/controls",
      "model_module_version": "1.5.0",
      "model_name": "VBoxModel",
      "state": {
       "_dom_classes": [
        "widget-interact"
       ],
       "children": [
        "IPY_MODEL_0694d7386a48405d8cfa2c503e8ce53f",
        "IPY_MODEL_ce152f00925c4531bfb16dc6a73f5ebb"
       ],
       "layout": "IPY_MODEL_fa43c47d5de2429592a03f478b358f4e"
      }
     },
     "82161e7a09cc40be9d00347f5b4c992f": {
      "model_module": "@jupyter-widgets/controls",
      "model_module_version": "1.5.0",
      "model_name": "DescriptionStyleModel",
      "state": {
       "description_width": ""
      }
     },
     "8d8c2f75e5f24edbbf67a92f7a626cfd": {
      "model_module": "@jupyter-widgets/base",
      "model_module_version": "1.2.0",
      "model_name": "LayoutModel",
      "state": {}
     },
     "90dad98aeeed4b93b0b68489c7da36b9": {
      "model_module": "@jupyter-widgets/controls",
      "model_module_version": "1.5.0",
      "model_name": "PlayModel",
      "state": {
       "interval": 200,
       "layout": "IPY_MODEL_bc2394e1a79d4ace946d47e422570835",
       "style": "IPY_MODEL_82161e7a09cc40be9d00347f5b4c992f"
      }
     },
     "91750ef18547416d9193e301e2863b94": {
      "model_module": "@jupyter-widgets/base",
      "model_module_version": "1.2.0",
      "model_name": "LayoutModel",
      "state": {}
     },
     "91bbae020bfb4fdf85d990affd824319": {
      "model_module": "@jupyter-widgets/controls",
      "model_module_version": "1.5.0",
      "model_name": "LinkModel",
      "state": {
       "source": [
        "IPY_MODEL_15484e599f45408287327e43c1970e96",
        "value"
       ],
       "target": [
        "IPY_MODEL_0694d7386a48405d8cfa2c503e8ce53f",
        "value"
       ]
      }
     },
     "94504516d76f438e85edd9e99046b295": {
      "model_module": "@jupyter-widgets/base",
      "model_module_version": "1.2.0",
      "model_name": "LayoutModel",
      "state": {}
     },
     "94b68011f5cc49c49ff9b1984c7b08c9": {
      "model_module": "@jupyter-widgets/base",
      "model_module_version": "1.2.0",
      "model_name": "LayoutModel",
      "state": {}
     },
     "96388a453738435897c0b68c7840453b": {
      "model_module": "@jupyter-widgets/output",
      "model_module_version": "1.0.0",
      "model_name": "OutputModel",
      "state": {
       "layout": "IPY_MODEL_23f375c44e644fd885cfb9802828e681",
       "outputs": [
        {
         "data": {
          "image/png": "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\n",
          "text/plain": "<Figure size 518.4x518.4 with 1 Axes>"
         },
         "metadata": {},
         "output_type": "display_data"
        }
       ]
      }
     },
     "9a0589202dfd45b59b12cd8462448c47": {
      "model_module": "@jupyter-widgets/base",
      "model_module_version": "1.2.0",
      "model_name": "LayoutModel",
      "state": {}
     },
     "9c24521e0f8f41a89bef6c8b0356d2d0": {
      "model_module": "@jupyter-widgets/base",
      "model_module_version": "1.2.0",
      "model_name": "LayoutModel",
      "state": {}
     },
     "9e144c72e4eb4a839149f08324373643": {
      "model_module": "@jupyter-widgets/controls",
      "model_module_version": "1.5.0",
      "model_name": "ButtonModel",
      "state": {
       "description": "Next",
       "layout": "IPY_MODEL_7dfa8bd2c29944fc98d78abce4ed5086",
       "style": "IPY_MODEL_09a904aa39334beb8153fabcf8b1a1b4"
      }
     },
     "9e7775f9e5a240e2bf19e643abba9e77": {
      "model_module": "@jupyter-widgets/controls",
      "model_module_version": "1.5.0",
      "model_name": "ButtonStyleModel",
      "state": {}
     },
     "a133d76d3e82468383292798f48c2c1f": {
      "model_module": "@jupyter-widgets/base",
      "model_module_version": "1.2.0",
      "model_name": "LayoutModel",
      "state": {}
     },
     "a1eca959aa2740fe802e76b347e20d16": {
      "model_module": "@jupyter-widgets/controls",
      "model_module_version": "1.5.0",
      "model_name": "IntSliderModel",
      "state": {
       "description": "step",
       "layout": "IPY_MODEL_a133d76d3e82468383292798f48c2c1f",
       "max": 43,
       "style": "IPY_MODEL_06c5646676904826bda23e1a6fdf8b34"
      }
     },
     "a5574dd9bacc406c9774da32a9295fd8": {
      "model_module": "@jupyter-widgets/controls",
      "model_module_version": "1.5.0",
      "model_name": "HBoxModel",
      "state": {
       "children": [
        "IPY_MODEL_ae4bb3416971498193af1735d3be8b30",
        "IPY_MODEL_151425cc68774ba38d8cd9ab3c7188a6",
        "IPY_MODEL_9e144c72e4eb4a839149f08324373643"
       ],
       "layout": "IPY_MODEL_51e8fd19da20413695ccb2d0a7af13e5"
      }
     },
     "ab701611bb9a4748878db826c02f493e": {
      "model_module": "@jupyter-widgets/base",
      "model_module_version": "1.2.0",
      "model_name": "LayoutModel",
      "state": {}
     },
     "ae4bb3416971498193af1735d3be8b30": {
      "model_module": "@jupyter-widgets/controls",
      "model_module_version": "1.5.0",
      "model_name": "PlayModel",
      "state": {
       "interval": 200,
       "layout": "IPY_MODEL_ab701611bb9a4748878db826c02f493e",
       "style": "IPY_MODEL_150013df05774894b03386553435510c"
      }
     },
     "afa88ed0719e40469e72857c63382ae9": {
      "model_module": "@jupyter-widgets/controls",
      "model_module_version": "1.5.0",
      "model_name": "IntSliderModel",
      "state": {
       "description": "step",
       "layout": "IPY_MODEL_9a0589202dfd45b59b12cd8462448c47",
       "max": 10,
       "style": "IPY_MODEL_7180125e608a49958fb0d285f4f9cc90"
      }
     },
     "b1271b052f5747a6bcddbd9904c2e110": {
      "model_module": "@jupyter-widgets/controls",
      "model_module_version": "1.5.0",
      "model_name": "ButtonModel",
      "state": {
       "description": "Next",
       "layout": "IPY_MODEL_614d50f3193f43e7a079fe1fffb22d58",
       "style": "IPY_MODEL_d9f0ef34c4824e6ba243e30c06bedad4"
      }
     },
     "b4b296959fd64d31bc38f33e477f5465": {
      "model_module": "@jupyter-widgets/controls",
      "model_module_version": "1.5.0",
      "model_name": "VBoxModel",
      "state": {
       "_dom_classes": [
        "widget-interact"
       ],
       "children": [
        "IPY_MODEL_afa88ed0719e40469e72857c63382ae9",
        "IPY_MODEL_1eb4916c261a419b9dd2721f8d0c3838"
       ],
       "layout": "IPY_MODEL_8d8c2f75e5f24edbbf67a92f7a626cfd"
      }
     },
     "b7462f7e1eff4269961c319b6c486340": {
      "model_module": "@jupyter-widgets/controls",
      "model_module_version": "1.5.0",
      "model_name": "DescriptionStyleModel",
      "state": {
       "description_width": ""
      }
     },
     "bc2394e1a79d4ace946d47e422570835": {
      "model_module": "@jupyter-widgets/base",
      "model_module_version": "1.2.0",
      "model_name": "LayoutModel",
      "state": {}
     },
     "bc9b6c28343148daa52b1a798b67fd44": {
      "model_module": "@jupyter-widgets/controls",
      "model_module_version": "1.5.0",
      "model_name": "ButtonStyleModel",
      "state": {}
     },
     "c0376c433b0f44b4bee066883a91657d": {
      "model_module": "@jupyter-widgets/controls",
      "model_module_version": "1.5.0",
      "model_name": "HBoxModel",
      "state": {
       "children": [
        "IPY_MODEL_0b7b32632f1b43c29cd05d7b3964ad2e",
        "IPY_MODEL_43389d5621cd43e79d7a3334c7c5522f",
        "IPY_MODEL_e0f27a3bde344baa932b262ae503bb7f"
       ],
       "layout": "IPY_MODEL_e0f4663e785440849d6cbcaaf9c53d42"
      }
     },
     "c0cc6edb8ce646ef8be0fad4bd1c7674": {
      "model_module": "@jupyter-widgets/controls",
      "model_module_version": "1.5.0",
      "model_name": "IntSliderModel",
      "state": {
       "description": "step",
       "layout": "IPY_MODEL_450838bb4abf4948948d719aa9858ee0",
       "max": 99,
       "style": "IPY_MODEL_cfdd0fb843eb4f78a24a25951c20dec8"
      }
     },
     "c408216db07f40cd9821ffb6560fce35": {
      "model_module": "@jupyter-widgets/controls",
      "model_module_version": "1.5.0",
      "model_name": "ButtonStyleModel",
      "state": {}
     },
     "ce152f00925c4531bfb16dc6a73f5ebb": {
      "model_module": "@jupyter-widgets/output",
      "model_module_version": "1.0.0",
      "model_name": "OutputModel",
      "state": {
       "layout": "IPY_MODEL_1321d28a465343af8e85b4d3fb9d65f2",
       "outputs": [
        {
         "data": {
          "image/png": "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\n",
          "text/plain": "<Figure size 518.4x518.4 with 1 Axes>"
         },
         "metadata": {},
         "output_type": "display_data"
        }
       ]
      }
     },
     "cfdd0fb843eb4f78a24a25951c20dec8": {
      "model_module": "@jupyter-widgets/controls",
      "model_module_version": "1.5.0",
      "model_name": "SliderStyleModel",
      "state": {
       "description_width": ""
      }
     },
     "d2c4d0bfa2ff4063aa42bb3025b13291": {
      "model_module": "@jupyter-widgets/base",
      "model_module_version": "1.2.0",
      "model_name": "LayoutModel",
      "state": {}
     },
     "d2f62467467e40d192b196411f2f9fd8": {
      "model_module": "@jupyter-widgets/controls",
      "model_module_version": "1.5.0",
      "model_name": "LinkModel",
      "state": {
       "source": [
        "IPY_MODEL_90dad98aeeed4b93b0b68489c7da36b9",
        "value"
       ],
       "target": [
        "IPY_MODEL_a1eca959aa2740fe802e76b347e20d16",
        "value"
       ]
      }
     },
     "d327b013b1f94271934b842ccc1d206e": {
      "model_module": "@jupyter-widgets/base",
      "model_module_version": "1.2.0",
      "model_name": "LayoutModel",
      "state": {}
     },
     "d6cd995dfbe14b6aad6cea2a8bac89cb": {
      "model_module": "@jupyter-widgets/base",
      "model_module_version": "1.2.0",
      "model_name": "LayoutModel",
      "state": {}
     },
     "d991284ec9fa47a28f6f51a2af5393eb": {
      "model_module": "@jupyter-widgets/controls",
      "model_module_version": "1.5.0",
      "model_name": "LinkModel",
      "state": {
       "source": [
        "IPY_MODEL_0b7b32632f1b43c29cd05d7b3964ad2e",
        "value"
       ],
       "target": [
        "IPY_MODEL_afa88ed0719e40469e72857c63382ae9",
        "value"
       ]
      }
     },
     "d9f0ef34c4824e6ba243e30c06bedad4": {
      "model_module": "@jupyter-widgets/controls",
      "model_module_version": "1.5.0",
      "model_name": "ButtonStyleModel",
      "state": {}
     },
     "dceebb9692e44be4b9447f177328d427": {
      "model_module": "@jupyter-widgets/controls",
      "model_module_version": "1.5.0",
      "model_name": "ButtonStyleModel",
      "state": {}
     },
     "e0f27a3bde344baa932b262ae503bb7f": {
      "model_module": "@jupyter-widgets/controls",
      "model_module_version": "1.5.0",
      "model_name": "ButtonModel",
      "state": {
       "description": "Next",
       "layout": "IPY_MODEL_3f1c3af8e8ae4e4291a492d1a4142d66",
       "style": "IPY_MODEL_1dc825c7f93e4c72ba6e7d1b9eb01a04"
      }
     },
     "e0f4663e785440849d6cbcaaf9c53d42": {
      "model_module": "@jupyter-widgets/base",
      "model_module_version": "1.2.0",
      "model_name": "LayoutModel",
      "state": {}
     },
     "ea465941715d483387fa4365ae3c8406": {
      "model_module": "@jupyter-widgets/base",
      "model_module_version": "1.2.0",
      "model_name": "LayoutModel",
      "state": {}
     },
     "ec5b0f625554479db9b3358ee40ff5de": {
      "model_module": "@jupyter-widgets/controls",
      "model_module_version": "1.5.0",
      "model_name": "ButtonModel",
      "state": {
       "description": "Prev",
       "layout": "IPY_MODEL_3255f8159df24ef18e2fc9147be52683",
       "style": "IPY_MODEL_615690962e7447b88cfb4951b42aeefd"
      }
     },
     "fa43c47d5de2429592a03f478b358f4e": {
      "model_module": "@jupyter-widgets/base",
      "model_module_version": "1.2.0",
      "model_name": "LayoutModel",
      "state": {}
     },
     "fbf8beb82bec415f91171171e2f2f7e2": {
      "model_module": "@jupyter-widgets/controls",
      "model_module_version": "1.5.0",
      "model_name": "ButtonModel",
      "state": {
       "description": "Next",
       "layout": "IPY_MODEL_4a86133e7a144b849fad29f1d97ea461",
       "style": "IPY_MODEL_dceebb9692e44be4b9447f177328d427"
      }
     }
    },
    "version_major": 2,
    "version_minor": 0
   }
  }
 },
 "nbformat": 4,
 "nbformat_minor": 5
}
