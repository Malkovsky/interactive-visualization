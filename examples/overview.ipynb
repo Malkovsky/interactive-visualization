{
 "cells": [
  {
   "cell_type": "markdown",
   "metadata": {},
   "source": [
    "# Интерактивные анимационные примеры алгоритмов с помощью виджетов\n",
    "Jupyter уже давно зарекомендовал себя как удобную платформу для работы в различных областях на стыке программирования, анализа данных, машинного обучения, математики и других. Вот например очень известная \"[книга](https://jakevdp.github.io/PythonDataScienceHandbook/)\" по анализу данных, состоящая из Jupyter блокнотов. Поддержка $\\TeX$, markdown, html дает возможность использовать использовать Jupyter в качестве платформы для удобного оформления научного-технического материала. Преимущество таких блокнотов заключается в интерактивности, возможности сопровождать сухой материал примерами программ, при этом эта интерактивность очень естественна и проста в использовании. Этот репозиторий представляет собой набор примеров с различными алгоритмами, анимированными с помощью инструментов Jupyter, эти анимации построены на виджетах и стандартных инструментах визуализации. В этом блокноте можно увидеть несколько базовых примеров, как можно использовать виджеты для визуализации."
   ]
  },
  {
   "cell_type": "markdown",
   "metadata": {},
   "source": [
    "## IPyWidgets\n",
    "Основным инструментом для визуализации является `ipywidgets`, мы будем использовать простую обвертку, которая анимирует содержание списка"
   ]
  },
  {
   "cell_type": "code",
   "execution_count": 1,
   "metadata": {},
   "outputs": [
    {
     "data": {
      "application/vnd.jupyter.widget-view+json": {
       "model_id": "5a7f945125a44bf99e3fc44b9beeeeb0",
       "version_major": 2,
       "version_minor": 0
      },
      "text/plain": [
       "HBox(children=(Play(value=0, interval=400), Button(description='Prev', style=ButtonStyle()), Button(descriptio…"
      ]
     },
     "metadata": {},
     "output_type": "display_data"
    },
    {
     "data": {
      "application/vnd.jupyter.widget-view+json": {
       "model_id": "fa4ae697e9a3476fb571ca35f5e7019f",
       "version_major": 2,
       "version_minor": 0
      },
      "text/plain": [
       "interactive(children=(IntSlider(value=0, description='step', max=9), Output()), _dom_classes=('widget-interact…"
      ]
     },
     "metadata": {},
     "output_type": "display_data"
    }
   ],
   "source": [
    "from interactive_visualization.animation_utils import animate_list\n",
    "\n",
    "a = [10, 9, 8, 7, 6, 5, 4, 3, 2, 1]\n",
    "animate_list(a, play=True, interval=400);"
   ]
  },
  {
   "cell_type": "markdown",
   "metadata": {},
   "source": [
    "## Текстовые анимации\n",
    "Виджеты чтобы проилюстрировать а стандартные алгоритмы для работы с последовательностями. Начнем с классической быстрой сортировки, я буду использовать `IPython.display.Code` как один из способов сохранить объект из нескольких строк, хотя это можно сделать и проще"
   ]
  },
  {
   "cell_type": "code",
   "execution_count": 2,
   "metadata": {},
   "outputs": [],
   "source": [
    "from IPython.display import Code\n",
    "def qsort_state(array, left, right, x, p, q):\n",
    "    extended_array = list(map(str, array[:left])) + ['['] + list(map(str, array[left: right])) + [']'] + list(map(str, array[right:]))\n",
    "    offset_x = sum(list(map(len, extended_array[:left]))) + left + 2\n",
    "    zero_line = ''.join([' ' for i in range(offset_x)]) + f'x = {x}'\n",
    "    first_line = ' '.join(extended_array)\n",
    "    offset_p = sum(list(map(len, extended_array[:p + 1]))) + p + 1 + len(extended_array[p + 1]) // 2\n",
    "    offset_q = sum(list(map(len, extended_array[:q + 1]))) + q + 1 + len(extended_array[q + 1]) // 2\n",
    "    second_line = ''.join([' ' if i != offset_p and i != offset_q else '↑' for i in range(len(first_line))])\n",
    "\n",
    "    return Code(zero_line + '\\n' + first_line + '\\n' + second_line)"
   ]
  },
  {
   "cell_type": "code",
   "execution_count": 3,
   "metadata": {},
   "outputs": [],
   "source": [
    "import random\n",
    "\n",
    "def qsort(array, left, right, states):\n",
    "    if right - left <= 1:\n",
    "        return\n",
    "    x = array[random.randint(left, right - 1)]\n",
    "    p = left\n",
    "    q = right - 1\n",
    "    states.append(qsort_state(array, left, right, x, p, q))\n",
    "    while p <= q:\n",
    "        while array[p] < x:\n",
    "            p += 1\n",
    "            states.append(qsort_state(array, left, right, x, p, q))\n",
    "        while array[q] > x:\n",
    "            q -= 1\n",
    "            states.append(qsort_state(array, left, right, x, p, q))\n",
    "        if p <= q:\n",
    "            array[p], array[q] = (array[q], array[p])\n",
    "            states.append(qsort_state(array, left, right, x, p, q))\n",
    "            p += 1\n",
    "            q -= 1\n",
    "            if p <= q:\n",
    "                states.append(qsort_state(array, left, right, x, p, q))\n",
    "    qsort(array, left, q + 1, states)\n",
    "    qsort(array, p, right, states)   "
   ]
  },
  {
   "cell_type": "code",
   "execution_count": 4,
   "metadata": {},
   "outputs": [
    {
     "data": {
      "application/vnd.jupyter.widget-view+json": {
       "model_id": "5c47fde6478640c9b662c87a6e9a8ee8",
       "version_major": 2,
       "version_minor": 0
      },
      "text/plain": [
       "HBox(children=(Play(value=0, interval=400), Button(description='Prev', style=ButtonStyle()), Button(descriptio…"
      ]
     },
     "metadata": {},
     "output_type": "display_data"
    },
    {
     "data": {
      "application/vnd.jupyter.widget-view+json": {
       "model_id": "596856125bb946f2b31b6384c4e6d296",
       "version_major": 2,
       "version_minor": 0
      },
      "text/plain": [
       "interactive(children=(IntSlider(value=0, description='step', max=35), Output()), _dom_classes=('widget-interac…"
      ]
     },
     "metadata": {},
     "output_type": "display_data"
    }
   ],
   "source": [
    "a = [234, 1, 42, 3, 15, 3, 10, 9, 2]\n",
    "states = []\n",
    "qsort(a, 0, len(a), states)\n",
    "animate_list(states, play=True, interval=400);"
   ]
  },
  {
   "cell_type": "markdown",
   "metadata": {},
   "source": [
    "Раз уж затронули сортировку, давайте тогда и с бинарный поиск продемонстрируем"
   ]
  },
  {
   "cell_type": "code",
   "execution_count": 5,
   "metadata": {},
   "outputs": [],
   "source": [
    "def bs_state(array, left, right, x):\n",
    "    extended_array = list(map(str, array[:left])) + ['['] + list(map(str, array[left: right])) + [']'] + list(map(str, array[right:])) \n",
    "    mid = (left + right) // 2\n",
    "    offset_x = sum(list(map(len, extended_array[:mid + 1]))) + mid + 1\n",
    "    return Code(' '.join(extended_array) + '\\n' + ''.join([' ' for i in range(offset_x)]) + str(x))"
   ]
  },
  {
   "cell_type": "code",
   "execution_count": 6,
   "metadata": {},
   "outputs": [
    {
     "data": {
      "application/vnd.jupyter.widget-view+json": {
       "model_id": "8b3def8b6a9d410bbf1361d63658141e",
       "version_major": 2,
       "version_minor": 0
      },
      "text/plain": [
       "HBox(children=(Play(value=0, interval=400), Button(description='Prev', style=ButtonStyle()), Button(descriptio…"
      ]
     },
     "metadata": {},
     "output_type": "display_data"
    },
    {
     "data": {
      "application/vnd.jupyter.widget-view+json": {
       "model_id": "489130c197d4485286d12774887b2c46",
       "version_major": 2,
       "version_minor": 0
      },
      "text/plain": [
       "interactive(children=(IntSlider(value=0, description='step', max=3), Output()), _dom_classes=('widget-interact…"
      ]
     },
     "metadata": {},
     "output_type": "display_data"
    }
   ],
   "source": [
    "# Эта версия бинарного поиска находит последний элемент, который\n",
    "# меньше или равен искомого\n",
    "states = []\n",
    "left = 0\n",
    "right = len(a)\n",
    "x = 14\n",
    "while right - left > 1:\n",
    "    states.append(bs_state(a, left, right, x))\n",
    "    mid = (left + right) // 2\n",
    "    if a[mid] <= x:\n",
    "        left = mid\n",
    "    else:\n",
    "        right = mid\n",
    "states.append(bs_state(a, left, right, x))\n",
    "\n",
    "animate_list(states, play=True, interval=400);"
   ]
  },
  {
   "cell_type": "markdown",
   "metadata": {},
   "source": [
    "Можно визуализировать процесс построения префикс-функции"
   ]
  },
  {
   "cell_type": "code",
   "execution_count": 7,
   "metadata": {},
   "outputs": [],
   "source": [
    "def prefix_function_state(s, p, k, intermidiate=False):\n",
    "    third_string = ''.join([s[i] if i < k else ' ' for i in range(len(p))])\n",
    "    fourth_string = ''.join([s[i] if i >= len(p) - k else ' ' for i in range(len(p))])\n",
    "    return Code(s + '\\n' + ''.join(list(map(str, (p + ['*'] if intermidiate else p )))) \\\n",
    "                  + '\\n' + third_string + '\\n' + fourth_string)"
   ]
  },
  {
   "cell_type": "code",
   "execution_count": 8,
   "metadata": {},
   "outputs": [],
   "source": [
    "def prefix_function(s, states):\n",
    "    p = [0]\n",
    "    k = 0\n",
    "    states.append(prefix_function_state(s, p, k))\n",
    "    for letter in s[1:]:\n",
    "        states.append(prefix_function_state(s, p, k, True))\n",
    "        while k > 0 and s[k] != letter:\n",
    "            k = p[k - 1]\n",
    "            states.append(prefix_function_state(s, p, k, True))\n",
    "        if s[k] == letter:\n",
    "            k += 1\n",
    "        p.append(k)\n",
    "        states.append(prefix_function_state(s, p, k))\n",
    "    return p"
   ]
  },
  {
   "cell_type": "code",
   "execution_count": 9,
   "metadata": {},
   "outputs": [
    {
     "data": {
      "application/vnd.jupyter.widget-view+json": {
       "model_id": "d6e464d422bf4f15b98bb2ecd626ded2",
       "version_major": 2,
       "version_minor": 0
      },
      "text/plain": [
       "HBox(children=(Play(value=0, interval=400), Button(description='Prev', style=ButtonStyle()), Button(descriptio…"
      ]
     },
     "metadata": {},
     "output_type": "display_data"
    },
    {
     "data": {
      "application/vnd.jupyter.widget-view+json": {
       "model_id": "2382482b10fb44cfba5547495bedc494",
       "version_major": 2,
       "version_minor": 0
      },
      "text/plain": [
       "interactive(children=(IntSlider(value=0, description='step', max=22), Output()), _dom_classes=('widget-interac…"
      ]
     },
     "metadata": {},
     "output_type": "display_data"
    }
   ],
   "source": [
    "states = []\n",
    "p = prefix_function('ababadababa', states)\n",
    "animate_list(states, play=True, interval=400);"
   ]
  },
  {
   "cell_type": "markdown",
   "metadata": {},
   "source": [
    "## Matplotlib\n",
    "Matplotlib -- библиотека Python для отрисовки различных графиков. Вот несколько примеров как можно её использовать для визуализации алгоритмов. Начнем с примера итеративных алгоритмов поиска минимума функции, наиболее простым из которых является метод случайного локального поиска, которые делает локальное изменение текущего приближения и переходит в него если значение там оказалось лучше"
   ]
  },
  {
   "cell_type": "code",
   "execution_count": 10,
   "metadata": {},
   "outputs": [
    {
     "name": "stderr",
     "output_type": "stream",
     "text": [
      "d:\\anaconda3\\envs\\work\\lib\\site-packages\\numpy\\core\\_asarray.py:136: VisibleDeprecationWarning: Creating an ndarray from ragged nested sequences (which is a list-or-tuple of lists-or-tuples-or ndarrays with different lengths or shapes) is deprecated. If you meant to do this, you must specify 'dtype=object' when creating the ndarray\n",
      "  return array(a, dtype, copy=False, order=order, subok=True)\n"
     ]
    },
    {
     "data": {
      "application/vnd.jupyter.widget-view+json": {
       "model_id": "885cffe0f8514629aad5aef1c0ffb40a",
       "version_major": 2,
       "version_minor": 0
      },
      "text/plain": [
       "HBox(children=(Play(value=0, interval=400), Button(description='Prev', style=ButtonStyle()), Button(descriptio…"
      ]
     },
     "metadata": {},
     "output_type": "display_data"
    },
    {
     "data": {
      "application/vnd.jupyter.widget-view+json": {
       "model_id": "3247e91b1aaf46598d8ade679baa3e21",
       "version_major": 2,
       "version_minor": 0
      },
      "text/plain": [
       "interactive(children=(IntSlider(value=0, description='step', max=49), Output()), _dom_classes=('widget-interac…"
      ]
     },
     "metadata": {},
     "output_type": "display_data"
    }
   ],
   "source": [
    "import numpy as np\n",
    "import matplotlib.pyplot as plt\n",
    "\n",
    "# Функция, которую минимизируем, минимум в точке (0, 0)\n",
    "def f(x, y):\n",
    "    return 1.3 * (x - y) ** 2 + 0.7 * (x + y) ** 2\n",
    "\n",
    "# Отрисовка траектории и линий уровня функции\n",
    "def plot_trajectory(func, traj, limit_point=None):\n",
    "    fig = plt.figure(figsize=(7, 7))\n",
    "    ax = fig.add_axes([0, 0, 1, 1])    \n",
    "    \n",
    "    if limit_point:\n",
    "        ax.plot([limit_point[0]], [limit_point[1]], 'o', color='green')\n",
    "    #Level contours\n",
    "    delta = 0.025\n",
    "    x = np.arange(-2, 2, delta)\n",
    "    y = np.arange(-2, 2, delta)\n",
    "    X, Y = np.meshgrid(x, y)\n",
    "    Z = np.zeros_like(X)\n",
    "    for i in range(X.shape[0]):\n",
    "        for j in range(X.shape[1]):\n",
    "            Z[i][j] = func(X[i][j], Y[i][j])\n",
    "    CS = ax.contour(X, Y, Z, [0.5, 1.5, 3], colors=['blue', 'purple', 'red'])\n",
    "    ax.plot([u[0] for u in traj], [u[1] for u in traj], color='black')\n",
    "    ax.plot([u[0] for u in traj], [u[1] for u in traj], 'o', color='black')\n",
    "    \n",
    "    plt.close(fig)\n",
    "    return fig\n",
    "\n",
    "x, y = (1.0, 1.0)\n",
    "num_iters = 50\n",
    "trajectory = [(x, y)]\n",
    "plots = []\n",
    "# Итерируемся и сохраняем текущий путь на каждом шаге\n",
    "for i in range(num_iters):\n",
    "    angle = 2 * np.pi * np.random.rand(1)\n",
    "    dx, dy = (np.cos(angle) / 2 / (i + 1) ** 0.5, np.sin(angle) / 2 / (i + 1) ** 0.5)\n",
    "    trajectory.append((x + dx, y + dy))\n",
    "    plots.append(plot_trajectory(f, trajectory, limit_point=(0, 0)))\n",
    "    if f(x, y) > f(x + dx, y + dy):\n",
    "        x = x + dx\n",
    "        y = y + dy\n",
    "    else:\n",
    "        trajectory = trajectory[:-1]\n",
    "\n",
    "animate_list(plots, play=True, interval=400);"
   ]
  },
  {
   "cell_type": "markdown",
   "metadata": {},
   "source": [
    "А вот другой пример для воспроизведения ЕМ алгоритма для данных извержения Old Faithful гейзера с википедии"
   ]
  },
  {
   "cell_type": "code",
   "execution_count": 11,
   "metadata": {},
   "outputs": [],
   "source": [
    "# Данные можно взять например здесь\n",
    "# http://www.stat.cmu.edu/~larry/all-of-statistics/=data/faithful.dat\n",
    "data = []\n",
    "with open('data/faithful.csv') as f:\n",
    "    for line in f:\n",
    "        _, x, y = line.split(',')\n",
    "        try:\n",
    "            data.append((float(x), float(y)))\n",
    "        except ValueError:\n",
    "            pass"
   ]
  },
  {
   "cell_type": "code",
   "execution_count": 12,
   "metadata": {},
   "outputs": [],
   "source": [
    "colors = ['red', 'blue', 'yellow', 'green']\n",
    "\n",
    "# За основу взято https://jakevdp.github.io/PythonDataScienceHandbook/05.12-gaussian-mixtures.html\n",
    "from matplotlib.patches import Ellipse\n",
    "\n",
    "def draw_ellipse(position, covariance, ax=None, **kwargs):\n",
    "    \"\"\"Draw an ellipse with a given position and covariance\"\"\"\n",
    "    ax = ax or plt.gca()\n",
    "    \n",
    "    # Convert covariance to principal axes\n",
    "    if covariance.shape == (2, 2):\n",
    "        U, s, Vt = np.linalg.svd(covariance)\n",
    "        angle = np.degrees(np.arctan2(U[1, 0], U[0, 0]))\n",
    "        width, height = 2 * np.sqrt(s)\n",
    "    else:\n",
    "        angle = 0\n",
    "        width, height = 2 * np.sqrt(covariance)\n",
    "    \n",
    "    # Draw the Ellipse\n",
    "    for nsig in range(1, 4):\n",
    "        ax.add_patch(Ellipse(position, nsig * width, nsig * height,\n",
    "                             angle, color='red', **kwargs))\n",
    "        \n",
    "def plot_gmm(gmm, X, label=True, ax=None):\n",
    "    ax = ax or plt.gca()\n",
    "    if label:\n",
    "        labels = gmm.predict(X)\n",
    "        ax.scatter(X[:, 0], X[:, 1], c=labels, s=20, cmap='plasma', zorder=2)\n",
    "    else:\n",
    "        ax.scatter(X[:, 0], X[:, 1], s=20, zorder=2)\n",
    "    \n",
    "    w_factor = 0.2 / gmm.weights_.max()\n",
    "    for pos, covar, w in zip(gmm.means_, gmm.covariances_, gmm.weights_):\n",
    "        draw_ellipse(pos, covar, alpha=w * w_factor)\n",
    "        \n",
    "def step_figure(gmm, X, label=True):\n",
    "    fig = plt.figure(figsize=(7, 7))\n",
    "    ax = fig.add_axes([0, 0, 1, 1])\n",
    "    ax.set_ylim(30, 100)\n",
    "    ax.set_xlim(1, 6)\n",
    "    plot_gmm(gmm, X, label=True, ax=ax)\n",
    "    plt.close(fig)\n",
    "    return fig"
   ]
  },
  {
   "cell_type": "code",
   "execution_count": 13,
   "metadata": {
    "pycharm": {
     "name": "#%%\n"
    }
   },
   "outputs": [],
   "source": [
    "from sklearn.mixture import GaussianMixture\n",
    "\n",
    "x = np.array(data)\n",
    "# max_iters=1 и warm_start=True заставляют gmm.fit делать ровно одну итерацию\n",
    "# и сохранять состояние\n",
    "gmm = GaussianMixture(2, warm_start=True, init_params='random', max_iter=1)\n",
    "# GMM выдает предупреждения на то, что одной итерации мало\n",
    "import warnings \n",
    "warnings.simplefilter('ignore')\n",
    "# Инициализируем на небольшой порции данных\n",
    "gmm.fit(x[:10,:])\n",
    "steps = [step_figure(gmm, x)]   \n",
    "for i in range(17):\n",
    "    gmm.fit(x)\n",
    "    steps.append(step_figure(gmm, x))"
   ]
  },
  {
   "cell_type": "code",
   "execution_count": 14,
   "metadata": {},
   "outputs": [
    {
     "data": {
      "application/vnd.jupyter.widget-view+json": {
       "model_id": "2203955e8ce34b79963e6b5fc68972a7",
       "version_major": 2,
       "version_minor": 0
      },
      "text/plain": [
       "HBox(children=(Play(value=0, interval=400), Button(description='Prev', style=ButtonStyle()), Button(descriptio…"
      ]
     },
     "metadata": {},
     "output_type": "display_data"
    },
    {
     "data": {
      "application/vnd.jupyter.widget-view+json": {
       "model_id": "4275656fa73b4204af93dd8c0df707b1",
       "version_major": 2,
       "version_minor": 0
      },
      "text/plain": [
       "interactive(children=(IntSlider(value=0, description='step', max=17), Output()), _dom_classes=('widget-interac…"
      ]
     },
     "metadata": {},
     "output_type": "display_data"
    }
   ],
   "source": [
    "animate_list(steps, play=True, interval=400);"
   ]
  },
  {
   "cell_type": "markdown",
   "metadata": {},
   "source": [
    "Следующий пример скорее игрушечный, визуализация замощения фигуры на плоскости максимальным числом доминошек с помощью нахождения максимального паросочетания"
   ]
  },
  {
   "cell_type": "code",
   "execution_count": 15,
   "metadata": {},
   "outputs": [],
   "source": [
    "# Обертка над matplotlib для отрисовки прямоугольника, разделенного на квадраты разных цветов\n",
    "from interactive_visualization.animation_utils.matplotlib import draw_filling\n",
    "\n",
    "def check_valid(i, j, n, m, tiling):\n",
    "    return 0 <= i and i < n and 0 <= j and j < m and tiling[i][j] != '#'\n",
    "\n",
    "def find_augmenting_path(x, y, n, m, visited, matched, tiling):\n",
    "    if not check_valid(x, y, n, m, tiling):\n",
    "        return False\n",
    "    if (x, y) in visited:\n",
    "        return False\n",
    "    visited.add((x, y))\n",
    "    \n",
    "    for dx, dy in [(-1, 0), (1, 0), (0, -1), (0, 1)]:\n",
    "        if not check_valid(x + dx, y + dy, n, m, tiling):\n",
    "            continue\n",
    "        if (x + dx, y + dy) not in matched or find_augmenting_path(*matched[(x + dx , y + dy)], n, m, visited, matched, tiling):\n",
    "            matched[(x + dx, y + dy)] = (x, y)\n",
    "            return True\n",
    "    return False\n",
    "\n",
    "def convert_match(matched, tiling, n, m):\n",
    "    result = [[-1 if tiling[i][j] == '#' else -2 for j in range(m)] for i in range(n)]\n",
    "    num = 0\n",
    "    for x, y in matched:\n",
    "        _x, _y = matched[(x, y)]\n",
    "        result[x][y] = num\n",
    "        result[_x][_y] = num\n",
    "        num += 1\n",
    "    return result\n",
    "\n",
    "def match_with_flow(tiling):\n",
    "    result_slices = []\n",
    "    n = len(tiling)\n",
    "    m = len(tiling[0])\n",
    "    \n",
    "    matched = dict()\n",
    "    # Для наглядности визуализации\n",
    "    rows = list(range(n))\n",
    "    columns = list(range(m))\n",
    "    random.shuffle(rows)\n",
    "    random.shuffle(columns)\n",
    "    result_slices.append(convert_match(matched, tiling, n, m))\n",
    "            \n",
    "    for i in rows:\n",
    "        for j in columns:\n",
    "            if (i + j) % 2 == 1:\n",
    "                continue\n",
    "            visited = set()\n",
    "            if find_augmenting_path(i, j, n, m, visited, matched, tiling):\n",
    "                result_slices.append(convert_match(matched, tiling, n, m))\n",
    "            \n",
    "    return result_slices"
   ]
  },
  {
   "cell_type": "code",
   "execution_count": 16,
   "metadata": {},
   "outputs": [
    {
     "data": {
      "application/vnd.jupyter.widget-view+json": {
       "model_id": "42836d67fd51474a857faf5e6dd11273",
       "version_major": 2,
       "version_minor": 0
      },
      "text/plain": [
       "HBox(children=(Play(value=0, interval=200), Button(description='Prev', style=ButtonStyle()), Button(descriptio…"
      ]
     },
     "metadata": {},
     "output_type": "display_data"
    },
    {
     "data": {
      "application/vnd.jupyter.widget-view+json": {
       "model_id": "f4872211c4b145518178e5994bcfb982",
       "version_major": 2,
       "version_minor": 0
      },
      "text/plain": [
       "interactive(children=(IntSlider(value=0, description='step', max=15), Output()), _dom_classes=('widget-interac…"
      ]
     },
     "metadata": {},
     "output_type": "display_data"
    }
   ],
   "source": [
    "tiling_custom=[\n",
    "    '...####',\n",
    "    '....###',\n",
    "    '......#',\n",
    "    '#.#....',\n",
    "    '#......',\n",
    "    '##.....',\n",
    "    '###...#',\n",
    "]\n",
    "sequencial_match = match_with_flow(tiling_custom)\n",
    "animate_list(list(map(draw_filling, sequencial_match)), play=True);"
   ]
  },
  {
   "cell_type": "code",
   "execution_count": 17,
   "metadata": {},
   "outputs": [],
   "source": [
    "def color_5(filling):\n",
    "    result = [[i for i in row] for row in filling]\n",
    "    # Строим граф\n",
    "    domino_tiles = [[] for i in range(max(map(max, filling)) + 1)]\n",
    "    domino_neighbours = [set() for i in range(max(map(max, filling)) + 1)]\n",
    "    degree = [0 for i in range(max(map(max, filling)) + 1)]\n",
    "    \n",
    "    n = len(filling)\n",
    "    m = len(filling[0])\n",
    "    \n",
    "    for i, row in enumerate(filling):\n",
    "        for j, num in enumerate(row):\n",
    "            if num >= 0:\n",
    "                domino_tiles[num].append((i, j))\n",
    "                \n",
    "    for i, tiles in enumerate(domino_tiles):\n",
    "        for x, y in tiles:\n",
    "            for dx, dy in [(-1, 0), (1, 0), (0, -1), (0, 1), (-1, -1), (-1, 1), (1, -1), (1, 1)]:\n",
    "                a, b = x + dx, y + dy\n",
    "                if 0 <= a and a < n and 0 <= b and b < m and filling[a][b] >= 0 and filling[a][b] != i \\\n",
    "                        and filling[a][b] not in domino_neighbours[i]:\n",
    "                    domino_neighbours[i].add(filling[a][b])\n",
    "                    degree[i] += 1\n",
    "    \n",
    "    # Первым делом нужно найти такой порядок вершин, все вершины имели не больше 5 соседей среди\n",
    "    # предыдущих. Такой существует в силу того, что граф планарный, а найти его эффективнее всего\n",
    "    # по очереди находя вершину наименшей степени и удаляя её из графа, так мы получем обратный порядок\n",
    "    active_degrees = [set() for i in range(max(degree) + 1)]\n",
    "    for i, deg in enumerate(degree):\n",
    "        active_degrees[deg].add(i)\n",
    "    \n",
    "    reversed_order = []\n",
    "    \n",
    "    for step in range(len(domino_tiles)):\n",
    "        min_degree = min([i for i, dominoes in enumerate(active_degrees) if len(dominoes) > 0])\n",
    "        domino = active_degrees[min_degree].pop()\n",
    "        \n",
    "        reversed_order.append(domino)\n",
    "        for other in domino_neighbours[domino]:\n",
    "            if other in active_degrees[degree[other]]:\n",
    "                active_degrees[degree[other]].remove(other)\n",
    "                degree[other] -= 1\n",
    "                active_degrees[degree[other]].add(other)                \n",
    "        \n",
    "    # Теперь перебираем в обратном порядке и либо красим в еще не занятый цвет,\n",
    "    # если есть свободный из 5 цветов, иначе находим цепочку из чередующихся цветов,\n",
    "    # которые могут быть перекрашены. Такая найдется в силу планарности\n",
    "    colors = [-1 for domino in domino_tiles]\n",
    "    slices = [draw_filling(result)]\n",
    "    for domino in reversed(reversed_order):\n",
    "        used_colors = [colors[other] for other in domino_neighbours[domino] if colors[other] != -1]\n",
    "        \n",
    "        domino_color = len(used_colors)\n",
    "        for i, color in enumerate(sorted(set(used_colors))):\n",
    "            if i != color:\n",
    "                domino_color = i\n",
    "                break\n",
    "     \n",
    "        if domino_color < 5:\n",
    "            colors[domino] = domino_color\n",
    "            for x, y in domino_tiles[domino]:\n",
    "                result[x][y] = domino_color\n",
    "                \n",
    "            slices.append(draw_filling(result))        \n",
    "            continue\n",
    "           \n",
    "        # Начиная отсюда код я не тестировал, не нашел примера        \n",
    "        c = 0\n",
    "        other = [other for other in domino_neighbours[domino] if colors[other] == c]\n",
    "        visited = set([other])\n",
    "        q = Queue()\n",
    "        q.put(other)\n",
    "        domino_was_reached = False\n",
    "        while not q.empty():\n",
    "            cur = q.get()\n",
    "            for other in domino_neighbours[cur]:\n",
    "                if other == domino:\n",
    "                    domino_was_reached = True\n",
    "                    break\n",
    "                if color[other] == c or color[other] == c + 1 and other not in visited:\n",
    "                    visited.add(other)\n",
    "                    q.put(other)\n",
    "                    \n",
    "        if not domino_was_reached:\n",
    "            for other in visited:\n",
    "                color[other] = color[other] ^ 1\n",
    "                for x, y in domino_tiles[other]:\n",
    "                    result[x][y] = color[other]\n",
    "            color[domino] = c\n",
    "            for x, y in domino_tiles[domino]:\n",
    "                result[x][y] = c\n",
    "                \n",
    "            slices.append(draw_filling(result))\n",
    "            continue\n",
    "            \n",
    "        # Проделываем тоже самое для 2 и 3.\n",
    "        c = 2\n",
    "        other = [other for other in domino_neighbours[domino] if colors[other] == c]\n",
    "        visited = set([other])\n",
    "        q = Queue()\n",
    "        q.put(other)\n",
    "        domino_was_reached = False\n",
    "        while not q.empty():\n",
    "            cur = q.get()\n",
    "            for other in domino_neighbours[cur]:\n",
    "                if other == domino:\n",
    "                    domino_was_reached = True\n",
    "                    break\n",
    "                if color[other] == c or color[other] == c + 1 and other not in visited:\n",
    "                    visited.add(other)\n",
    "                    q.put(other)\n",
    "        for other in visited:\n",
    "            color[other] = color[other] ^ 1\n",
    "            for x, y in domino_tiles[other]:\n",
    "                result[x][y] = color[other]\n",
    "        color[domino] = c\n",
    "        for x, y in domino_tiles[domino]:\n",
    "            result[x][y] = c\n",
    "        slices.append(draw_filling(result))\n",
    "                    \n",
    "    return result, slices"
   ]
  },
  {
   "cell_type": "code",
   "execution_count": 18,
   "metadata": {},
   "outputs": [
    {
     "data": {
      "application/vnd.jupyter.widget-view+json": {
       "model_id": "a42d840e419f4fcea924c3436b2be52a",
       "version_major": 2,
       "version_minor": 0
      },
      "text/plain": [
       "HBox(children=(Play(value=0, interval=200), Button(description='Prev', style=ButtonStyle()), Button(descriptio…"
      ]
     },
     "metadata": {},
     "output_type": "display_data"
    },
    {
     "data": {
      "application/vnd.jupyter.widget-view+json": {
       "model_id": "56a1da70d1e5465c945fdb16b6865fb1",
       "version_major": 2,
       "version_minor": 0
      },
      "text/plain": [
       "interactive(children=(IntSlider(value=0, description='step', max=15), Output()), _dom_classes=('widget-interac…"
      ]
     },
     "metadata": {},
     "output_type": "display_data"
    }
   ],
   "source": [
    "filling_colored, slices =color_5(sequencial_match[-1])\n",
    "animate_list(slices, play=True);"
   ]
  },
  {
   "cell_type": "markdown",
   "metadata": {},
   "source": [
    "Вполне можно визуализировать алгоритмы вычислительной геометрии на плоскости, вот например алгоритм Грэхэма-Эндрю для построения выпуклой оболочки"
   ]
  },
  {
   "cell_type": "code",
   "execution_count": 19,
   "metadata": {},
   "outputs": [],
   "source": [
    "def convex_hull_state(points, lower_path, upper_path):\n",
    "    fig = plt.figure(figsize=(6, 6))\n",
    "    ax = fig.add_axes([0, 0, 1, 1])\n",
    "    \n",
    "    ax.get_xaxis().set_visible(False)\n",
    "    ax.get_yaxis().set_visible(False)\n",
    "\n",
    "    for name, spine in ax.spines.items():\n",
    "        spine.set_visible(False)\n",
    "        spine.set_visible(False)\n",
    "    \n",
    "    ax.scatter([x for x, y in points], [y for x, y in points])\n",
    "    ax.plot([x for x, _ in lower_path], [y for _, y in lower_path], color='red')\n",
    "    ax.plot([x for x, _ in upper_path], [y for _, y in upper_path], color='blue')\n",
    "    \n",
    "    plt.close(fig)\n",
    "    return fig\n",
    "\n",
    "def vector_prod(point_a, point_b):\n",
    "    return point_a[0] *  point_b[1] - point_a[1] * point_b[0]\n",
    "\n",
    "def convex_hull(poitns):\n",
    "    sorted_points = sorted(points, key=lambda x: x[1])\n",
    "    sorted_points = sorted(sorted_points, key=lambda x: x[0])\n",
    "    states = []\n",
    "    \n",
    "    upper_path = [sorted_points[0]]\n",
    "    lower_path = [sorted_points[0]]\n",
    "    states.append(convex_hull_state(points, lower_path, upper_path))\n",
    "    \n",
    "    for point in sorted_points[1:]:\n",
    "        while len(upper_path) > 1 and vector_prod(point - upper_path[-1], upper_path[-1] - upper_path[-2]) > 0:\n",
    "            upper_path.append(point)\n",
    "            states.append(convex_hull_state(poitns, lower_path, upper_path))\n",
    "            upper_path = upper_path[:-1]\n",
    "            upper_path = upper_path[:-1]\n",
    "        upper_path.append(point)\n",
    "        states.append(convex_hull_state(points, lower_path, upper_path))\n",
    "        \n",
    "    for point in sorted_points[1:]:\n",
    "        while len(lower_path) > 1 and vector_prod(point - lower_path[-1], lower_path[-1] - lower_path[-2]) < 0:\n",
    "            lower_path.append(point)\n",
    "            states.append(convex_hull_state(poitns, lower_path, upper_path))\n",
    "            lower_path = lower_path[:-1]\n",
    "            lower_path = lower_path[:-1]\n",
    "        lower_path.append(point)\n",
    "        states.append(convex_hull_state(poitns, lower_path, upper_path))\n",
    "    \n",
    "    return states"
   ]
  },
  {
   "cell_type": "code",
   "execution_count": 20,
   "metadata": {},
   "outputs": [
    {
     "data": {
      "application/vnd.jupyter.widget-view+json": {
       "model_id": "5c404d0d4fd640948c8df2b180e9e3e5",
       "version_major": 2,
       "version_minor": 0
      },
      "text/plain": [
       "HBox(children=(Play(value=0, interval=400), Button(description='Prev', style=ButtonStyle()), Button(descriptio…"
      ]
     },
     "metadata": {},
     "output_type": "display_data"
    },
    {
     "data": {
      "application/vnd.jupyter.widget-view+json": {
       "model_id": "3c311f397c5e4ebe983c4d0733f5940c",
       "version_major": 2,
       "version_minor": 0
      },
      "text/plain": [
       "interactive(children=(IntSlider(value=0, description='step', max=69), Output()), _dom_classes=('widget-interac…"
      ]
     },
     "metadata": {},
     "output_type": "display_data"
    }
   ],
   "source": [
    "points = [np.random.rand(2) for i in range(20)]\n",
    "states = convex_hull(points)\n",
    "animate_list(states, play=True, interval=400);"
   ]
  },
  {
   "cell_type": "markdown",
   "metadata": {},
   "source": [
    "Последнее, что хотелось бы отметить в контексте matplotlib -- это альтернативный способ создания анимаций через `matplotlib.animation.FuncAnimation`. У этого способа есть свои плюсы: его можно конвертировать в html с помощью `IPython.display.HTML`, результат будет более надежным, чем на виджетах (у меня виджеты периодически торомозят), не будет требовать рабочего ядра jupyter, но в этом случае анимация стоновится обычным видео и средства управления ограничены проигрывателем."
   ]
  },
  {
   "cell_type": "markdown",
   "metadata": {},
   "source": [
    "## Graphviz\n",
    "С помощью `graphviz` можно отрисовывать графы, в сочетании с виджетами можно сгенерировать примеры работы стандартных алгоритмов, начнем с обхода в глубину"
   ]
  },
  {
   "cell_type": "code",
   "execution_count": 21,
   "metadata": {},
   "outputs": [],
   "source": [
    "# Обертка для упрощения работы с графами\n",
    "from interactive_visualization.graph_utils.graph import Graph, Arc, Node"
   ]
  },
  {
   "cell_type": "code",
   "execution_count": 22,
   "metadata": {},
   "outputs": [],
   "source": [
    "def enter_node(node):\n",
    "    node.SetColor('blue')\n",
    "    \n",
    "def enter_arc(node, arc):\n",
    "    node.SetColor('green')\n",
    "    arc.attributes['style'] = 'dashed'\n",
    "    arc.attributes['color'] = 'green'\n",
    "    \n",
    "def return_from_arc(node, arc):\n",
    "    arc.attributes['style'] = 'solid'\n",
    "    arc.attributes['color'] = 'red'\n",
    "    node.SetColor('blue')\n",
    "    \n",
    "def ignore_arc(arc):\n",
    "    arc.attributes['color'] = 'blue'\n",
    "    \n",
    "def leave_node(node):\n",
    "    node.SetColor('red')\n",
    "    \n",
    "def dfs(graph, node_id, visited, outlist, path):\n",
    "    visited.add(node_id)\n",
    "    path.append(node_id)\n",
    "    enter_node(graph.nodes[node_id])\n",
    "    outlist.append(graph.Visualize())\n",
    "    for arc in graph.nodes[node_id].arcs:\n",
    "        if arc.end not in visited:\n",
    "            enter_arc(graph.nodes[node_id], arc)\n",
    "            dfs(graph, arc.end, visited, outlist, path) \n",
    "            return_from_arc(graph.nodes[node_id], arc)\n",
    "            path.append(node_id)\n",
    "        else:\n",
    "            ignore_arc(arc)\n",
    "        outlist.append(graph.Visualize())      \n",
    "    leave_node(graph.nodes[node_id])"
   ]
  },
  {
   "cell_type": "code",
   "execution_count": 23,
   "metadata": {},
   "outputs": [],
   "source": [
    "arcs = [\n",
    "    Arc(1, 3, 3),\n",
    "    Arc(1, 4, 7),\n",
    "    Arc(4, 3, 2),\n",
    "    Arc(4, 5, 3),\n",
    "    Arc(1, 5, 2),\n",
    "    Arc(6, 4, 2),\n",
    "    Arc(5, 6, 2),\n",
    "    Arc(6, 7, 1),\n",
    "    Arc(7, 2, 7),\n",
    "    Arc(4, 2, 2),\n",
    "    Arc(3, 2, 5)\n",
    "]"
   ]
  },
  {
   "cell_type": "code",
   "execution_count": 24,
   "metadata": {},
   "outputs": [
    {
     "data": {
      "application/vnd.jupyter.widget-view+json": {
       "model_id": "83e3e5434a7f4a1ebef31281d86632f1",
       "version_major": 2,
       "version_minor": 0
      },
      "text/plain": [
       "HBox(children=(Play(value=0, interval=400), Button(description='Prev', style=ButtonStyle()), Button(descriptio…"
      ]
     },
     "metadata": {},
     "output_type": "display_data"
    },
    {
     "data": {
      "application/vnd.jupyter.widget-view+json": {
       "model_id": "25b71af6f5a94e65a5b052acc2df0da6",
       "version_major": 2,
       "version_minor": 0
      },
      "text/plain": [
       "interactive(children=(IntSlider(value=0, description='step', max=19), Output()), _dom_classes=('widget-interac…"
      ]
     },
     "metadata": {},
     "output_type": "display_data"
    }
   ],
   "source": [
    "# Если следующий код выдает ошибку, что ему не удается выполнить `dot`, то\n",
    "# скорее всего придется отдельно поставить graphviz\n",
    "# https://graphviz.org/download/\n",
    "graph = Graph(arcs)\n",
    "visited = set()\n",
    "dfs_outlist = []\n",
    "path = []\n",
    "dfs_outlist.append(graph.Visualize())\n",
    "dfs(graph, 1, visited, dfs_outlist, path)\n",
    "dfs_outlist.append(graph.Visualize())\n",
    "animate_list(dfs_outlist, play=True, interval=400);"
   ]
  },
  {
   "cell_type": "markdown",
   "metadata": {},
   "source": [
    "Из хорошо известного -- алгоритм Дейкстры"
   ]
  },
  {
   "cell_type": "code",
   "execution_count": 25,
   "metadata": {},
   "outputs": [],
   "source": [
    "def mark_labelled(node):\n",
    "    node.SetColor('red')\n",
    "    \n",
    "def mark_scanned(node):\n",
    "    node.SetColor('green')\n",
    "    \n",
    "def process_node(node):\n",
    "    node.SetColor('blue')\n",
    "    \n",
    "def set_previous(arc):\n",
    "    arc.SetColor('green')\n",
    "    \n",
    "def unset_previous(arc):\n",
    "    arc.SetColor('black')\n",
    "\n",
    "def scan_arc(graph, arc, l, p, mark):\n",
    "    if l[arc.end] > l[arc.beginning] + arc.weight:\n",
    "        l[arc.end] = l[arc.beginning] + arc.weight\n",
    "        if p[arc.end] is not None:\n",
    "            unset_previous(p[arc.end])\n",
    "        # Сохраняем arc, а не arc.beginning, чтобы было больше информации\n",
    "        p[arc.end] = arc\n",
    "        set_previous(p[arc.end])\n",
    "        mark[arc.end] = True\n",
    "        mark_labelled(graph.nodes[arc.end])\n",
    "\n",
    "def scan_node(graph, node_id, l, p, mark):\n",
    "    for arc in graph.nodes[node_id].arcs:\n",
    "        scan_arc(graph, arc, l, p, mark)\n",
    "    mark[node_id] = False\n",
    "    mark_scanned(graph.nodes[node_id])\n",
    "     \n",
    "        \n",
    "# Это не традиционная реализация алгоритма Дейкстры, а реализация\n",
    "# сканирующего метода, подробности смотрите тут\n",
    "# http://forskning.diku.dk/PATH05/GoldbergSlides.pdf\n",
    "def base_scanning_method(graph, s, choice_function):\n",
    "    l    = {key: float('Inf') for key in graph.nodes.keys()}\n",
    "    p    = {key: None for key in graph.nodes.keys()}\n",
    "    mark = {key: False for key in graph.nodes.keys()}\n",
    "    \n",
    "    l[s] = 0\n",
    "    mark[s] = True\n",
    "    mark_labelled(graph.nodes[s])\n",
    "    \n",
    "    out_lst = []\n",
    "    \n",
    "    while True:\n",
    "        node_id = choice_function(l, mark)\n",
    "        if node_id is None:\n",
    "            break\n",
    "        process_node(graph.nodes[node_id])\n",
    "        out_lst.append(graph.Visualize(l))\n",
    "        scan_node(graph, node_id, l, p, mark)\n",
    "        out_lst.append(graph.Visualize(l))\n",
    "    return l, p, out_lst"
   ]
  },
  {
   "cell_type": "code",
   "execution_count": 26,
   "metadata": {},
   "outputs": [],
   "source": [
    "# Функция выбора в алгоритме Дейкстры\n",
    "def least_distance_choice(l, mark):\n",
    "    labelled = [node_id for node_id, value in mark.items() if value == True]\n",
    "    if len(labelled) == 0:\n",
    "        return None\n",
    "    return min(labelled, key=lambda x: l[x]) "
   ]
  },
  {
   "cell_type": "code",
   "execution_count": 27,
   "metadata": {},
   "outputs": [
    {
     "data": {
      "application/vnd.jupyter.widget-view+json": {
       "model_id": "712674acb86447aaaf9e814d90305f3b",
       "version_major": 2,
       "version_minor": 0
      },
      "text/plain": [
       "HBox(children=(Play(value=0, interval=600), Button(description='Prev', style=ButtonStyle()), Button(descriptio…"
      ]
     },
     "metadata": {},
     "output_type": "display_data"
    },
    {
     "data": {
      "application/vnd.jupyter.widget-view+json": {
       "model_id": "93af2591f3f04741b8ae53d8b3b0a425",
       "version_major": 2,
       "version_minor": 0
      },
      "text/plain": [
       "interactive(children=(IntSlider(value=0, description='step', max=13), Output()), _dom_classes=('widget-interac…"
      ]
     },
     "metadata": {},
     "output_type": "display_data"
    }
   ],
   "source": [
    "graph = Graph(arcs)\n",
    "l, p, bfs_shortest_path_lst = \\\n",
    "    base_scanning_method(graph, 1, least_distance_choice)\n",
    "animate_list(bfs_shortest_path_lst, play=True, interval=600);"
   ]
  },
  {
   "cell_type": "markdown",
   "metadata": {},
   "source": [
    "А вот таким образом происходит построение префиксного дерева"
   ]
  },
  {
   "cell_type": "code",
   "execution_count": 28,
   "metadata": {},
   "outputs": [],
   "source": [
    "class TrieNode:\n",
    "    def __init__(self, parent, word=None):\n",
    "        # Хранение этого поля очень расточительно, используется исключительно\n",
    "        # для демонстрации ленивого подсчета суффиксных ссылок\n",
    "        self.parent = parent\n",
    "        # Здесь аналогично, это поле чаще всего избыточно\n",
    "        self.word = word\n",
    "        self.children = {}\n",
    "        self.suff_link = None\n",
    "\n",
    "def init_trie():\n",
    "    trie = [TrieNode(-1)]\n",
    "    return trie\n",
    "\n",
    "def to_graph(trie):\n",
    "    arcs = []\n",
    "    for i, node in enumerate(trie):\n",
    "        for c, nextstate in node.children.items():\n",
    "            arcs.append(Arc(i, nextstate, c))\n",
    "        if node.suff_link is not None and node.suff_link != 0:\n",
    "            arcs.append(Arc(i, \n",
    "                            node.suff_link, \n",
    "                            attributes={\"constraint\" : \"False\", \"style\" : \"dashed\"}))\n",
    "            \n",
    "    return Graph(arcs)\n",
    "\n",
    "def add_word(trie, word, steps):\n",
    "    _num = 0\n",
    "    for ch in word:\n",
    "        if not ch in trie[_num].children:\n",
    "            _n = len(trie)\n",
    "            trie[_num].children[ch] = _n\n",
    "            trie.append(TrieNode((_num, ch)))\n",
    "        _num = trie[_num].children[ch]\n",
    "        graph = to_graph(trie)\n",
    "        graph.nodes[_num].SetColor('red')\n",
    "        steps.append(graph.Visualize())\n",
    "    trie[_num].word = word\n",
    "    \n",
    "def make_trie(words):\n",
    "    steps = []\n",
    "    trie = init_trie()\n",
    "    steps.append(to_graph(trie).Visualize())\n",
    "    for word in words:\n",
    "        add_word(trie, word, steps)\n",
    "        steps.append(to_graph(trie).Visualize())\n",
    "    return trie, steps"
   ]
  },
  {
   "cell_type": "code",
   "execution_count": 29,
   "metadata": {},
   "outputs": [
    {
     "data": {
      "application/vnd.jupyter.widget-view+json": {
       "model_id": "47e52069a35c47cca75ed1f883d35ba1",
       "version_major": 2,
       "version_minor": 0
      },
      "text/plain": [
       "HBox(children=(Play(value=0, interval=500), Button(description='Prev', style=ButtonStyle()), Button(descriptio…"
      ]
     },
     "metadata": {},
     "output_type": "display_data"
    },
    {
     "data": {
      "application/vnd.jupyter.widget-view+json": {
       "model_id": "68d6e1e8cb0d4c2ebd344ef8f765055f",
       "version_major": 2,
       "version_minor": 0
      },
      "text/plain": [
       "interactive(children=(IntSlider(value=0, description='step', max=31), Output()), _dom_classes=('widget-interac…"
      ]
     },
     "metadata": {},
     "output_type": "display_data"
    }
   ],
   "source": [
    "words = [\n",
    "    'мама',\n",
    "    'мать',\n",
    "    'мартышка',\n",
    "    'мыла',\n",
    "    'молоко'\n",
    "]\n",
    "trie, steps = make_trie(words)\n",
    "animate_list(steps, play=True, interval=500);"
   ]
  },
  {
   "cell_type": "markdown",
   "metadata": {},
   "source": [
    "Раз уж был пример замощения доминошками на плоскости с помощью сведения к задаче о максимальном паросочетании, давайте тогда и сам алгоритм визуализируем!"
   ]
  },
  {
   "cell_type": "code",
   "execution_count": 30,
   "metadata": {},
   "outputs": [],
   "source": [
    "def mark_for_delete(arc):\n",
    "    arc.SetColor('red')\n",
    "    arc.SetStyle('dashed')\n",
    "    \n",
    "def mark_for_add(arc):\n",
    "    arc.SetColor('blue')\n",
    "    \n",
    "def clear(arc):\n",
    "    arc.SetColor('black')\n",
    "    arc.SetStyle('solid')\n",
    "        \n",
    "def find_augmenting_path(graph, node_id, visited, match, deleted):\n",
    "    if node_id in visited:\n",
    "        return False\n",
    "    visited.add(node_id)\n",
    "    for arc in graph.nodes[node_id].arcs:\n",
    "        if arc.end not in match or find_augmenting_path(graph, match[arc.end].beginning, visited, match, deleted):\n",
    "            if arc.end in match:\n",
    "                mark_for_delete(match[arc.end])\n",
    "                deleted.append(match[arc.end])\n",
    "            match[arc.end] = arc\n",
    "            mark_for_add(arc)\n",
    "            return True\n",
    "    return False\n",
    "\n",
    "def kuhns_matching(graph, first_part):\n",
    "    states = [graph.Visualize()]\n",
    "    match = dict()\n",
    "    for node_id in first_part:\n",
    "        node = graph.nodes[node_id]\n",
    "        node.SetColor('Blue')\n",
    "        states.append(graph.Visualize())\n",
    "        deleted = []\n",
    "        if find_augmenting_path(graph, node_id, set(), match, deleted):\n",
    "            states.append(graph.Visualize())\n",
    "            for arc in deleted:\n",
    "                clear(arc)\n",
    "            states.append(graph.Visualize())\n",
    "        node.SetColor('red')\n",
    "    states.append(graph.Visualize())\n",
    "    return states"
   ]
  },
  {
   "cell_type": "code",
   "execution_count": 31,
   "metadata": {},
   "outputs": [],
   "source": [
    "arcs = [\n",
    "    Arc(1, 6),\n",
    "    Arc(1, 7),\n",
    "    Arc(2, 6),\n",
    "    Arc(3, 7),\n",
    "    Arc(3, 8),\n",
    "    Arc(4, 8),\n",
    "    Arc(4, 9),\n",
    "    Arc(4, 10),\n",
    "    Arc(5, 10),\n",
    "    Arc(2, 8)\n",
    "]\n",
    "first_part = [1, 2, 3, 4, 5]\n",
    "graph = Graph(arcs)\n",
    "states = kuhns_matching(graph, first_part)"
   ]
  },
  {
   "cell_type": "code",
   "execution_count": 32,
   "metadata": {},
   "outputs": [
    {
     "data": {
      "application/vnd.jupyter.widget-view+json": {
       "model_id": "3d6197b97099477a99a5dc675d4f5c78",
       "version_major": 2,
       "version_minor": 0
      },
      "text/plain": [
       "HBox(children=(Play(value=0, interval=400), Button(description='Prev', style=ButtonStyle()), Button(descriptio…"
      ]
     },
     "metadata": {},
     "output_type": "display_data"
    },
    {
     "data": {
      "application/vnd.jupyter.widget-view+json": {
       "model_id": "7b3a0ae4846e4a5f808e042fdb05fd73",
       "version_major": 2,
       "version_minor": 0
      },
      "text/plain": [
       "interactive(children=(IntSlider(value=0, description='step', max=16), Output()), _dom_classes=('widget-interac…"
      ]
     },
     "metadata": {},
     "output_type": "display_data"
    }
   ],
   "source": [
    "animate_list(states, play=True, interval=400);"
   ]
  },
  {
   "cell_type": "markdown",
   "metadata": {},
   "source": [
    "## Что пока не получилось\n",
    "Первое, что меня беспокоит -- довольно часто у меня виджеты тормозят, и я не совсем понимаю, в чем проблема. Второе -- это попытка применения этой парадигмы для алгебраических алгоритмов на визуализации $\\TeX$ с помощью `IPython.display.Math`. Вот, что у меня получилось при попытки проанимировать метод Гаусса для решения систем линейных уравнений (если быть более точным, тут $LU$ разложение)"
   ]
  },
  {
   "cell_type": "code",
   "execution_count": 33,
   "metadata": {},
   "outputs": [],
   "source": [
    "from interactive_visualization.animation_utils.latex import Matrix\n",
    "from IPython.display import Math\n",
    "\n",
    "n = 5\n",
    "A = np.random.rand(n, n)\n",
    "L = np.identity(n)\n",
    "U = np.array(A)\n",
    "steps = []\n",
    "steps.append(Math(str(Matrix(L)) + str(Matrix(U))))\n",
    "for k in range(n):\n",
    "    x = U[k,k]\n",
    "    for i in range(k+1, n):\n",
    "        L[i,k] = U[i,k] / x\n",
    "        U[i,k:] -= L[i,k] * U[k,k:]\n",
    "    steps.append(Math(str(Matrix(L)) + str(Matrix(U))))"
   ]
  },
  {
   "cell_type": "code",
   "execution_count": 34,
   "metadata": {
    "pycharm": {
     "name": "#%%\n"
    }
   },
   "outputs": [
    {
     "data": {
      "application/vnd.jupyter.widget-view+json": {
       "model_id": "8eda70211dcc4bb8910904a437e28ab0",
       "version_major": 2,
       "version_minor": 0
      },
      "text/plain": [
       "HBox(children=(Play(value=0, interval=500), Button(description='Prev', style=ButtonStyle()), Button(descriptio…"
      ]
     },
     "metadata": {},
     "output_type": "display_data"
    },
    {
     "data": {
      "application/vnd.jupyter.widget-view+json": {
       "model_id": "8161906f9e9146368ee50b1e8ba636b5",
       "version_major": 2,
       "version_minor": 0
      },
      "text/plain": [
       "interactive(children=(IntSlider(value=0, description='step', max=5), Output()), _dom_classes=('widget-interact…"
      ]
     },
     "metadata": {},
     "output_type": "display_data"
    }
   ],
   "source": [
    "animate_list(steps, play=True, interval=500);"
   ]
  },
  {
   "cell_type": "markdown",
   "metadata": {},
   "source": [
    "В целом проблема понятна, бэкэнд почему-то еще делает промежуточные шаги на рендеринг latex, но бороться с этим я не умею"
   ]
  }
 ],
 "metadata": {
  "kernelspec": {
   "display_name": "Python 3",
   "language": "python",
   "name": "python3"
  },
  "language_info": {
   "codemirror_mode": {
    "name": "ipython",
    "version": 3
   },
   "file_extension": ".py",
   "mimetype": "text/x-python",
   "name": "python",
   "nbconvert_exporter": "python",
   "pygments_lexer": "ipython3",
   "version": "3.8.5"
  },
  "widgets": {
   "application/vnd.jupyter.widget-state+json": {
    "state": {
     "010968d1d1ab40b7b687f1b7fb1fd509": {
      "model_module": "@jupyter-widgets/controls",
      "model_module_version": "1.5.0",
      "model_name": "ButtonStyleModel",
      "state": {}
     },
     "054e080ae2cd46c3a45fadd9d71ad9b3": {
      "model_module": "@jupyter-widgets/base",
      "model_module_version": "1.2.0",
      "model_name": "LayoutModel",
      "state": {}
     },
     "063a6997e6cc4a1db55549d970ea611a": {
      "model_module": "@jupyter-widgets/controls",
      "model_module_version": "1.5.0",
      "model_name": "DescriptionStyleModel",
      "state": {
       "description_width": ""
      }
     },
     "0736ef4da8624820bce7f2e060522a29": {
      "model_module": "@jupyter-widgets/base",
      "model_module_version": "1.2.0",
      "model_name": "LayoutModel",
      "state": {}
     },
     "0bce386e109c46f7af85acb700602cf5": {
      "model_module": "@jupyter-widgets/output",
      "model_module_version": "1.0.0",
      "model_name": "OutputModel",
      "state": {
       "layout": "IPY_MODEL_76062dc979cd4f97adee2fd3e23cd799",
       "outputs": [
        {
         "data": {
          "text/html": "<style>pre { line-height: 125%; }\ntd.linenos .normal { color: inherit; background-color: transparent; padding-left: 5px; padding-right: 5px; }\nspan.linenos { color: inherit; background-color: transparent; padding-left: 5px; padding-right: 5px; }\ntd.linenos .special { color: #000000; background-color: #ffffc0; padding-left: 5px; padding-right: 5px; }\nspan.linenos.special { color: #000000; background-color: #ffffc0; padding-left: 5px; padding-right: 5px; }\n.output_html .hll { background-color: #ffffcc }\n.output_html { background: #f8f8f8; }\n.output_html .c { color: #408080; font-style: italic } /* Comment */\n.output_html .err { border: 1px solid #FF0000 } /* Error */\n.output_html .k { color: #008000; font-weight: bold } /* Keyword */\n.output_html .o { color: #666666 } /* Operator */\n.output_html .ch { color: #408080; font-style: italic } /* Comment.Hashbang */\n.output_html .cm { color: #408080; font-style: italic } /* Comment.Multiline */\n.output_html .cp { color: #BC7A00 } /* Comment.Preproc */\n.output_html .cpf { color: #408080; font-style: italic } /* Comment.PreprocFile */\n.output_html .c1 { color: #408080; font-style: italic } /* Comment.Single */\n.output_html .cs { color: #408080; font-style: italic } /* Comment.Special */\n.output_html .gd { color: #A00000 } /* Generic.Deleted */\n.output_html .ge { font-style: italic } /* Generic.Emph */\n.output_html .gr { color: #FF0000 } /* Generic.Error */\n.output_html .gh { color: #000080; font-weight: bold } /* Generic.Heading */\n.output_html .gi { color: #00A000 } /* Generic.Inserted */\n.output_html .go { color: #888888 } /* Generic.Output */\n.output_html .gp { color: #000080; font-weight: bold } /* Generic.Prompt */\n.output_html .gs { font-weight: bold } /* Generic.Strong */\n.output_html .gu { color: #800080; font-weight: bold } /* Generic.Subheading */\n.output_html .gt { color: #0044DD } /* Generic.Traceback */\n.output_html .kc { color: #008000; font-weight: bold } /* Keyword.Constant */\n.output_html .kd { color: #008000; font-weight: bold } /* Keyword.Declaration */\n.output_html .kn { color: #008000; font-weight: bold } /* Keyword.Namespace */\n.output_html .kp { color: #008000 } /* Keyword.Pseudo */\n.output_html .kr { color: #008000; font-weight: bold } /* Keyword.Reserved */\n.output_html .kt { color: #B00040 } /* Keyword.Type */\n.output_html .m { color: #666666 } /* Literal.Number */\n.output_html .s { color: #BA2121 } /* Literal.String */\n.output_html .na { color: #7D9029 } /* Name.Attribute */\n.output_html .nb { color: #008000 } /* Name.Builtin */\n.output_html .nc { color: #0000FF; font-weight: bold } /* Name.Class */\n.output_html .no { color: #880000 } /* Name.Constant */\n.output_html .nd { color: #AA22FF } /* Name.Decorator */\n.output_html .ni { color: #999999; font-weight: bold } /* Name.Entity */\n.output_html .ne { color: #D2413A; font-weight: bold } /* Name.Exception */\n.output_html .nf { color: #0000FF } /* Name.Function */\n.output_html .nl { color: #A0A000 } /* Name.Label */\n.output_html .nn { color: #0000FF; font-weight: bold } /* Name.Namespace */\n.output_html .nt { color: #008000; font-weight: bold } /* Name.Tag */\n.output_html .nv { color: #19177C } /* Name.Variable */\n.output_html .ow { color: #AA22FF; font-weight: bold } /* Operator.Word */\n.output_html .w { color: #bbbbbb } /* Text.Whitespace */\n.output_html .mb { color: #666666 } /* Literal.Number.Bin */\n.output_html .mf { color: #666666 } /* Literal.Number.Float */\n.output_html .mh { color: #666666 } /* Literal.Number.Hex */\n.output_html .mi { color: #666666 } /* Literal.Number.Integer */\n.output_html .mo { color: #666666 } /* Literal.Number.Oct */\n.output_html .sa { color: #BA2121 } /* Literal.String.Affix */\n.output_html .sb { color: #BA2121 } /* Literal.String.Backtick */\n.output_html .sc { color: #BA2121 } /* Literal.String.Char */\n.output_html .dl { color: #BA2121 } /* Literal.String.Delimiter */\n.output_html .sd { color: #BA2121; font-style: italic } /* Literal.String.Doc */\n.output_html .s2 { color: #BA2121 } /* Literal.String.Double */\n.output_html .se { color: #BB6622; font-weight: bold } /* Literal.String.Escape */\n.output_html .sh { color: #BA2121 } /* Literal.String.Heredoc */\n.output_html .si { color: #BB6688; font-weight: bold } /* Literal.String.Interpol */\n.output_html .sx { color: #008000 } /* Literal.String.Other */\n.output_html .sr { color: #BB6688 } /* Literal.String.Regex */\n.output_html .s1 { color: #BA2121 } /* Literal.String.Single */\n.output_html .ss { color: #19177C } /* Literal.String.Symbol */\n.output_html .bp { color: #008000 } /* Name.Builtin.Pseudo */\n.output_html .fm { color: #0000FF } /* Name.Function.Magic */\n.output_html .vc { color: #19177C } /* Name.Variable.Class */\n.output_html .vg { color: #19177C } /* Name.Variable.Global */\n.output_html .vi { color: #19177C } /* Name.Variable.Instance */\n.output_html .vm { color: #19177C } /* Name.Variable.Magic */\n.output_html .il { color: #666666 } /* Literal.Number.Integer.Long */</style><div class=\"highlight\"><pre><span></span><span class=\"k\">[ 1 2 3 3 9 10 15 42 234 ]</span>\n          <span class=\"na\">14</span>\n</pre></div>\n",
          "text/latex": "\\begin{Verbatim}[commandchars=\\\\\\{\\}]\n\\PY{k}{[ 1 2 3 3 9 10 15 42 234 ]}\n          \\PY{n+na}{14}\n\\end{Verbatim}\n",
          "text/plain": "[ 1 2 3 3 9 10 15 42 234 ]\n          14"
         },
         "metadata": {},
         "output_type": "display_data"
        }
       ]
      }
     },
     "0e8572ead92b4ecc9f7bf2e1a799d3c2": {
      "model_module": "@jupyter-widgets/controls",
      "model_module_version": "1.5.0",
      "model_name": "ButtonStyleModel",
      "state": {}
     },
     "0effa879a97144a5a4e31e8f6ee4594b": {
      "model_module": "@jupyter-widgets/base",
      "model_module_version": "1.2.0",
      "model_name": "LayoutModel",
      "state": {}
     },
     "0f088d7fe994428a99ebcf9eec2ceeb9": {
      "model_module": "@jupyter-widgets/base",
      "model_module_version": "1.2.0",
      "model_name": "LayoutModel",
      "state": {}
     },
     "0f655b4f85cf4d159a3d3f052f2820e1": {
      "model_module": "@jupyter-widgets/controls",
      "model_module_version": "1.5.0",
      "model_name": "PlayModel",
      "state": {
       "interval": 400,
       "layout": "IPY_MODEL_cbed0b9dae6c4ed7a73279457dcad695",
       "style": "IPY_MODEL_2041267f8cbb4fa3aed04111fc0fff63"
      }
     },
     "0f8b1862b0874a6bb1fda58e5e56a019": {
      "model_module": "@jupyter-widgets/controls",
      "model_module_version": "1.5.0",
      "model_name": "ButtonModel",
      "state": {
       "description": "Next",
       "layout": "IPY_MODEL_25e6c5f0e66842b5b36f96527806003a",
       "style": "IPY_MODEL_688605807bf84fd490baca2826041255"
      }
     },
     "1119338ffde7415695637fc320cddb83": {
      "model_module": "@jupyter-widgets/controls",
      "model_module_version": "1.5.0",
      "model_name": "LinkModel",
      "state": {
       "source": [
        "IPY_MODEL_d1adbc12c61040c885e1263de432f6e7",
        "value"
       ],
       "target": [
        "IPY_MODEL_b9259cd97ce24ea78cfa6e63ab5691fc",
        "value"
       ]
      }
     },
     "12497b152bb44663855cb95a11ae5a89": {
      "model_module": "@jupyter-widgets/controls",
      "model_module_version": "1.5.0",
      "model_name": "LinkModel",
      "state": {
       "source": [
        "IPY_MODEL_15e95bbdc1ab4dc8a0e5a8458202420e",
        "value"
       ],
       "target": [
        "IPY_MODEL_982f5e5b5a4b499aa1b35d395bf4a228",
        "value"
       ]
      }
     },
     "13399a799cc54ec896b3cced997ce48e": {
      "model_module": "@jupyter-widgets/controls",
      "model_module_version": "1.5.0",
      "model_name": "IntSliderModel",
      "state": {
       "description": "step",
       "layout": "IPY_MODEL_26bba52ea6674749b6aa89c5991761ad",
       "max": 15,
       "style": "IPY_MODEL_90916c81be4e4c0f99abd2ac4818d3a9"
      }
     },
     "13aac70c07204d7e920969fdded48a4e": {
      "model_module": "@jupyter-widgets/base",
      "model_module_version": "1.2.0",
      "model_name": "LayoutModel",
      "state": {}
     },
     "15b92c5d6660438da836a1b239c3de50": {
      "model_module": "@jupyter-widgets/controls",
      "model_module_version": "1.5.0",
      "model_name": "ButtonStyleModel",
      "state": {}
     },
     "15e95bbdc1ab4dc8a0e5a8458202420e": {
      "model_module": "@jupyter-widgets/controls",
      "model_module_version": "1.5.0",
      "model_name": "PlayModel",
      "state": {
       "interval": 200,
       "layout": "IPY_MODEL_25037d711af740aa92ed8225b5ee58b7",
       "style": "IPY_MODEL_7f9cd6cb820b4064afbf6302774f7607"
      }
     },
     "160bf5f86e3343a5bd0ea1f1129b8b6a": {
      "model_module": "@jupyter-widgets/base",
      "model_module_version": "1.2.0",
      "model_name": "LayoutModel",
      "state": {}
     },
     "16671d3cab79434b888261e4b07282ce": {
      "model_module": "@jupyter-widgets/controls",
      "model_module_version": "1.5.0",
      "model_name": "PlayModel",
      "state": {
       "interval": 600,
       "layout": "IPY_MODEL_93d75183274d4e4a818d0988478ac40f",
       "style": "IPY_MODEL_5b815cfe525049c6992483de80f353db"
      }
     },
     "1700e350ccb74e9d9057a0ff5887e838": {
      "model_module": "@jupyter-widgets/controls",
      "model_module_version": "1.5.0",
      "model_name": "ButtonStyleModel",
      "state": {}
     },
     "180c058fcfe645448fb84d301e9ab572": {
      "model_module": "@jupyter-widgets/base",
      "model_module_version": "1.2.0",
      "model_name": "LayoutModel",
      "state": {}
     },
     "1b0e0c1ebe764d32a4b36e2ee50c0c88": {
      "model_module": "@jupyter-widgets/base",
      "model_module_version": "1.2.0",
      "model_name": "LayoutModel",
      "state": {}
     },
     "1b536e1c47cb4ed9b70bc553aeb35bbe": {
      "model_module": "@jupyter-widgets/controls",
      "model_module_version": "1.5.0",
      "model_name": "LinkModel",
      "state": {
       "source": [
        "IPY_MODEL_2c01ad73c1c24abaa56ea518a2d895c4",
        "value"
       ],
       "target": [
        "IPY_MODEL_fb51a6a862c14eb9a9a6a69771acce9e",
        "value"
       ]
      }
     },
     "1b9200ad60df4e7997375861fa227710": {
      "model_module": "@jupyter-widgets/controls",
      "model_module_version": "1.5.0",
      "model_name": "ButtonModel",
      "state": {
       "description": "Next",
       "layout": "IPY_MODEL_6ecdf29d869d41c7a836e9aac9b39aee",
       "style": "IPY_MODEL_ae904e7634a741a0b36252c2ed142ea4"
      }
     },
     "1c1c9e33510f42a3819baec78ade9cf7": {
      "model_module": "@jupyter-widgets/controls",
      "model_module_version": "1.5.0",
      "model_name": "LinkModel",
      "state": {
       "source": [
        "IPY_MODEL_d613d0bbbb7f4343b9ceea55aad67416",
        "value"
       ],
       "target": [
        "IPY_MODEL_ed275df8e8024b0e900e8504ef15d3b5",
        "value"
       ]
      }
     },
     "1c6f01d3f3e14abd9f3bfbd0925ddb57": {
      "model_module": "@jupyter-widgets/base",
      "model_module_version": "1.2.0",
      "model_name": "LayoutModel",
      "state": {}
     },
     "1cada90b9c694290b37e63698f4670e4": {
      "model_module": "@jupyter-widgets/controls",
      "model_module_version": "1.5.0",
      "model_name": "ButtonModel",
      "state": {
       "description": "Next",
       "layout": "IPY_MODEL_62f097324ed7458580c936734fe60449",
       "style": "IPY_MODEL_3a01f0ce5a6644d5ae05cc2c0ea86c10"
      }
     },
     "1d3ab8146ddd464999e93581f0db4d96": {
      "model_module": "@jupyter-widgets/base",
      "model_module_version": "1.2.0",
      "model_name": "LayoutModel",
      "state": {}
     },
     "1dd00634c1464235b46105e2374c54d3": {
      "model_module": "@jupyter-widgets/controls",
      "model_module_version": "1.5.0",
      "model_name": "ButtonModel",
      "state": {
       "description": "Prev",
       "layout": "IPY_MODEL_daf1e1e8267f4e9aa59d474e1de24759",
       "style": "IPY_MODEL_506a659c67bd4e6e961fc7d62223749d"
      }
     },
     "2041267f8cbb4fa3aed04111fc0fff63": {
      "model_module": "@jupyter-widgets/controls",
      "model_module_version": "1.5.0",
      "model_name": "DescriptionStyleModel",
      "state": {
       "description_width": ""
      }
     },
     "21c34e0664b544b38c6eda75c289cb78": {
      "model_module": "@jupyter-widgets/controls",
      "model_module_version": "1.5.0",
      "model_name": "ButtonModel",
      "state": {
       "description": "Prev",
       "layout": "IPY_MODEL_6687257f9da04c25be97a1bcec7bd8e2",
       "style": "IPY_MODEL_56849a3ee772448cb6c6493613703d45"
      }
     },
     "2203955e8ce34b79963e6b5fc68972a7": {
      "model_module": "@jupyter-widgets/controls",
      "model_module_version": "1.5.0",
      "model_name": "HBoxModel",
      "state": {
       "children": [
        "IPY_MODEL_db6a2b557c344eddbb5529bb36825a16",
        "IPY_MODEL_99fdf8e2538b45b8bb7fe2d82129324b",
        "IPY_MODEL_336c03558d954b99a15453740bde424c"
       ],
       "layout": "IPY_MODEL_4913b5c03f51432fac52594daff3a0be"
      }
     },
     "23020676d46248159bd88e19c60a20db": {
      "model_module": "@jupyter-widgets/controls",
      "model_module_version": "1.5.0",
      "model_name": "ButtonModel",
      "state": {
       "description": "Next",
       "layout": "IPY_MODEL_bba96189e4f44401b805b97c3430728c",
       "style": "IPY_MODEL_15b92c5d6660438da836a1b239c3de50"
      }
     },
     "2382482b10fb44cfba5547495bedc494": {
      "model_module": "@jupyter-widgets/controls",
      "model_module_version": "1.5.0",
      "model_name": "VBoxModel",
      "state": {
       "_dom_classes": [
        "widget-interact"
       ],
       "children": [
        "IPY_MODEL_e70089e59d9543b5a94f8d97e06ad43e",
        "IPY_MODEL_5759b29217cf40e9aca9256fcdf8f0a0"
       ],
       "layout": "IPY_MODEL_3c1dcf913bba4e4a9d1dada3f99f6f98"
      }
     },
     "239d95a12d22435497577e229493c883": {
      "model_module": "@jupyter-widgets/controls",
      "model_module_version": "1.5.0",
      "model_name": "IntSliderModel",
      "state": {
       "description": "step",
       "layout": "IPY_MODEL_2449fa341e7144048e178fac39983a08",
       "max": 35,
       "style": "IPY_MODEL_9dfbd7e8d61a4c849b70772d7e019673"
      }
     },
     "2449fa341e7144048e178fac39983a08": {
      "model_module": "@jupyter-widgets/base",
      "model_module_version": "1.2.0",
      "model_name": "LayoutModel",
      "state": {}
     },
     "25037d711af740aa92ed8225b5ee58b7": {
      "model_module": "@jupyter-widgets/base",
      "model_module_version": "1.2.0",
      "model_name": "LayoutModel",
      "state": {}
     },
     "25b71af6f5a94e65a5b052acc2df0da6": {
      "model_module": "@jupyter-widgets/controls",
      "model_module_version": "1.5.0",
      "model_name": "VBoxModel",
      "state": {
       "_dom_classes": [
        "widget-interact"
       ],
       "children": [
        "IPY_MODEL_4de6e4a7910f4a858ccf72d1a10700bc",
        "IPY_MODEL_8542916b449046069dacbf4788523182"
       ],
       "layout": "IPY_MODEL_0f088d7fe994428a99ebcf9eec2ceeb9"
      }
     },
     "25d44163487f4e5d9cfd828e85ce59c6": {
      "model_module": "@jupyter-widgets/controls",
      "model_module_version": "1.5.0",
      "model_name": "ButtonModel",
      "state": {
       "description": "Next",
       "layout": "IPY_MODEL_5a82445624664f1083a4b2aab4fd2dec",
       "style": "IPY_MODEL_010968d1d1ab40b7b687f1b7fb1fd509"
      }
     },
     "25e6c5f0e66842b5b36f96527806003a": {
      "model_module": "@jupyter-widgets/base",
      "model_module_version": "1.2.0",
      "model_name": "LayoutModel",
      "state": {}
     },
     "2614a75095c543d1b9eb4880df50218e": {
      "model_module": "@jupyter-widgets/output",
      "model_module_version": "1.0.0",
      "model_name": "OutputModel",
      "state": {
       "layout": "IPY_MODEL_69ab43c5396749e7bd15f2869ef56db4",
       "outputs": [
        {
         "data": {
          "image/png": "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\n",
          "text/plain": "<Figure size 504x504 with 1 Axes>"
         },
         "metadata": {},
         "output_type": "display_data"
        }
       ]
      }
     },
     "26bba52ea6674749b6aa89c5991761ad": {
      "model_module": "@jupyter-widgets/base",
      "model_module_version": "1.2.0",
      "model_name": "LayoutModel",
      "state": {}
     },
     "289ebd36f7bd4c509041e77a2d2a3490": {
      "model_module": "@jupyter-widgets/controls",
      "model_module_version": "1.5.0",
      "model_name": "PlayModel",
      "state": {
       "interval": 200,
       "layout": "IPY_MODEL_a79b4c14ea364684933429d9d64c7c2a",
       "style": "IPY_MODEL_a6236c45e289475ea72a859a6aff1ec8"
      }
     },
     "299b1a372f13412eb39fd9ee27343a28": {
      "model_module": "@jupyter-widgets/base",
      "model_module_version": "1.2.0",
      "model_name": "LayoutModel",
      "state": {}
     },
     "2b179b13a9034dd0bbff4d7442eaf95a": {
      "model_module": "@jupyter-widgets/controls",
      "model_module_version": "1.5.0",
      "model_name": "DescriptionStyleModel",
      "state": {
       "description_width": ""
      }
     },
     "2b9b8e66e01e453b942aac4d933ed969": {
      "model_module": "@jupyter-widgets/controls",
      "model_module_version": "1.5.0",
      "model_name": "DescriptionStyleModel",
      "state": {
       "description_width": ""
      }
     },
     "2c01ad73c1c24abaa56ea518a2d895c4": {
      "model_module": "@jupyter-widgets/controls",
      "model_module_version": "1.5.0",
      "model_name": "PlayModel",
      "state": {
       "interval": 500,
       "layout": "IPY_MODEL_299b1a372f13412eb39fd9ee27343a28",
       "style": "IPY_MODEL_2b179b13a9034dd0bbff4d7442eaf95a"
      }
     },
     "2e1fabed7c7442b5b0b9a80fda7748b0": {
      "model_module": "@jupyter-widgets/controls",
      "model_module_version": "1.5.0",
      "model_name": "SliderStyleModel",
      "state": {
       "description_width": ""
      }
     },
     "2f71e1c715914b989cc19fda16e94c6a": {
      "model_module": "@jupyter-widgets/base",
      "model_module_version": "1.2.0",
      "model_name": "LayoutModel",
      "state": {}
     },
     "30e5a35b0e4d498c8bbb5cb289ee1112": {
      "model_module": "@jupyter-widgets/controls",
      "model_module_version": "1.5.0",
      "model_name": "ButtonStyleModel",
      "state": {}
     },
     "310d4fb5bcd44b4caeb309cdb4182789": {
      "model_module": "@jupyter-widgets/controls",
      "model_module_version": "1.5.0",
      "model_name": "ButtonStyleModel",
      "state": {}
     },
     "321b8baf054f4294bbfdb30985558adf": {
      "model_module": "@jupyter-widgets/base",
      "model_module_version": "1.2.0",
      "model_name": "LayoutModel",
      "state": {}
     },
     "3247e91b1aaf46598d8ade679baa3e21": {
      "model_module": "@jupyter-widgets/controls",
      "model_module_version": "1.5.0",
      "model_name": "VBoxModel",
      "state": {
       "_dom_classes": [
        "widget-interact"
       ],
       "children": [
        "IPY_MODEL_9dcc56b123c0432db3c594069724730b",
        "IPY_MODEL_2614a75095c543d1b9eb4880df50218e"
       ],
       "layout": "IPY_MODEL_918dec20da9540d3934016e0398dc16b"
      }
     },
     "32ee1e5ca99d43e2a696799db0d704d1": {
      "model_module": "@jupyter-widgets/base",
      "model_module_version": "1.2.0",
      "model_name": "LayoutModel",
      "state": {}
     },
     "32fa9502044e462aa21b07d1f2aa853c": {
      "model_module": "@jupyter-widgets/base",
      "model_module_version": "1.2.0",
      "model_name": "LayoutModel",
      "state": {}
     },
     "336c03558d954b99a15453740bde424c": {
      "model_module": "@jupyter-widgets/controls",
      "model_module_version": "1.5.0",
      "model_name": "ButtonModel",
      "state": {
       "description": "Next",
       "layout": "IPY_MODEL_f862a9fca8d4426bbe51fd933b9cf311",
       "style": "IPY_MODEL_b969faa0757c4b7dbdafc8931275d0f3"
      }
     },
     "33a44f6d9f2749a0baa4c038b56fb10e": {
      "model_module": "@jupyter-widgets/base",
      "model_module_version": "1.2.0",
      "model_name": "LayoutModel",
      "state": {}
     },
     "33eff1e475bf4fb99e78c67eb6fd458c": {
      "model_module": "@jupyter-widgets/controls",
      "model_module_version": "1.5.0",
      "model_name": "LinkModel",
      "state": {
       "source": [
        "IPY_MODEL_289ebd36f7bd4c509041e77a2d2a3490",
        "value"
       ],
       "target": [
        "IPY_MODEL_13399a799cc54ec896b3cced997ce48e",
        "value"
       ]
      }
     },
     "34c260ed34454ff49f2e52a258f8f264": {
      "model_module": "@jupyter-widgets/base",
      "model_module_version": "1.2.0",
      "model_name": "LayoutModel",
      "state": {}
     },
     "36916723dbc244798e363f34271a6f82": {
      "model_module": "@jupyter-widgets/controls",
      "model_module_version": "1.5.0",
      "model_name": "ButtonModel",
      "state": {
       "description": "Prev",
       "layout": "IPY_MODEL_6fa5e8dd25704f72babd34fd4dbc493c",
       "style": "IPY_MODEL_3a89fa7d125a4d72a6f8805c855ea816"
      }
     },
     "3935c9505caf46fd8b1e5ea3f31d6d0c": {
      "model_module": "@jupyter-widgets/controls",
      "model_module_version": "1.5.0",
      "model_name": "ButtonStyleModel",
      "state": {}
     },
     "3a01f0ce5a6644d5ae05cc2c0ea86c10": {
      "model_module": "@jupyter-widgets/controls",
      "model_module_version": "1.5.0",
      "model_name": "ButtonStyleModel",
      "state": {}
     },
     "3a89fa7d125a4d72a6f8805c855ea816": {
      "model_module": "@jupyter-widgets/controls",
      "model_module_version": "1.5.0",
      "model_name": "ButtonStyleModel",
      "state": {}
     },
     "3bc16fff60f54a4f8d6c346d669fe4c6": {
      "model_module": "@jupyter-widgets/controls",
      "model_module_version": "1.5.0",
      "model_name": "ButtonModel",
      "state": {
       "description": "Next",
       "layout": "IPY_MODEL_a0339aac51774bd086a3c5609f266ec0",
       "style": "IPY_MODEL_b1d9e601bb4643e49985cdc5d03b37ce"
      }
     },
     "3bece3a253f9486c9522351b010644cf": {
      "model_module": "@jupyter-widgets/controls",
      "model_module_version": "1.5.0",
      "model_name": "ButtonStyleModel",
      "state": {}
     },
     "3c1dcf913bba4e4a9d1dada3f99f6f98": {
      "model_module": "@jupyter-widgets/base",
      "model_module_version": "1.2.0",
      "model_name": "LayoutModel",
      "state": {}
     },
     "3c311f397c5e4ebe983c4d0733f5940c": {
      "model_module": "@jupyter-widgets/controls",
      "model_module_version": "1.5.0",
      "model_name": "VBoxModel",
      "state": {
       "_dom_classes": [
        "widget-interact"
       ],
       "children": [
        "IPY_MODEL_842ff71765894442a1ef94e68286ea5b",
        "IPY_MODEL_a24eb1460b3547c9b1dbaaaf022cf50d"
       ],
       "layout": "IPY_MODEL_f2a27dd930c14cb682374b10faf96b8a"
      }
     },
     "3d6197b97099477a99a5dc675d4f5c78": {
      "model_module": "@jupyter-widgets/controls",
      "model_module_version": "1.5.0",
      "model_name": "HBoxModel",
      "state": {
       "children": [
        "IPY_MODEL_e3240237fb654ae7bebde78a7df0fe8d",
        "IPY_MODEL_577147ca48644cb9b2169fce23260454",
        "IPY_MODEL_d481069f55d0412f98aa63fd6d656b1b"
       ],
       "layout": "IPY_MODEL_c452ae07cc4343cab648d3164120b87e"
      }
     },
     "3f02c59b086d4e8e9e8ce14584f7f7f7": {
      "model_module": "@jupyter-widgets/base",
      "model_module_version": "1.2.0",
      "model_name": "LayoutModel",
      "state": {}
     },
     "3fe413a61e044a22af00fa884cd65d33": {
      "model_module": "@jupyter-widgets/controls",
      "model_module_version": "1.5.0",
      "model_name": "IntSliderModel",
      "state": {
       "description": "step",
       "layout": "IPY_MODEL_8c58519a8a944956b2ce3c9202881948",
       "max": 16,
       "style": "IPY_MODEL_706bf6f71892401f963bd331d728507c"
      }
     },
     "40350ae9d4024ae582084792d7efea14": {
      "model_module": "@jupyter-widgets/controls",
      "model_module_version": "1.5.0",
      "model_name": "SliderStyleModel",
      "state": {
       "description_width": ""
      }
     },
     "40e4defa58b34973ad115a0fcd88352a": {
      "model_module": "@jupyter-widgets/controls",
      "model_module_version": "1.5.0",
      "model_name": "ButtonStyleModel",
      "state": {}
     },
     "4275656fa73b4204af93dd8c0df707b1": {
      "model_module": "@jupyter-widgets/controls",
      "model_module_version": "1.5.0",
      "model_name": "VBoxModel",
      "state": {
       "_dom_classes": [
        "widget-interact"
       ],
       "children": [
        "IPY_MODEL_7a6f68af703f460cb4da529e7163c3f1",
        "IPY_MODEL_b4a07f504ec74f25bf488682d9912022"
       ],
       "layout": "IPY_MODEL_321b8baf054f4294bbfdb30985558adf"
      }
     },
     "42836d67fd51474a857faf5e6dd11273": {
      "model_module": "@jupyter-widgets/controls",
      "model_module_version": "1.5.0",
      "model_name": "HBoxModel",
      "state": {
       "children": [
        "IPY_MODEL_15e95bbdc1ab4dc8a0e5a8458202420e",
        "IPY_MODEL_73d1150638334d848c4e68a5375cd38c",
        "IPY_MODEL_3bc16fff60f54a4f8d6c346d669fe4c6"
       ],
       "layout": "IPY_MODEL_c2cdeeb89e92475e92eebbeb2192e3bc"
      }
     },
     "46dd66cd985a43098ef8282f84be23e3": {
      "model_module": "@jupyter-widgets/controls",
      "model_module_version": "1.5.0",
      "model_name": "PlayModel",
      "state": {
       "interval": 400,
       "layout": "IPY_MODEL_0effa879a97144a5a4e31e8f6ee4594b",
       "style": "IPY_MODEL_d58ff5ffaf564a578db453dbab931c67"
      }
     },
     "47e52069a35c47cca75ed1f883d35ba1": {
      "model_module": "@jupyter-widgets/controls",
      "model_module_version": "1.5.0",
      "model_name": "HBoxModel",
      "state": {
       "children": [
        "IPY_MODEL_2c01ad73c1c24abaa56ea518a2d895c4",
        "IPY_MODEL_aba0517767cc4b1bbdf1787474bdfc66",
        "IPY_MODEL_c715bc1c1ff5401696bba5d84387b046"
       ],
       "layout": "IPY_MODEL_737943a49f0649f3bee185db31154d21"
      }
     },
     "489130c197d4485286d12774887b2c46": {
      "model_module": "@jupyter-widgets/controls",
      "model_module_version": "1.5.0",
      "model_name": "VBoxModel",
      "state": {
       "_dom_classes": [
        "widget-interact"
       ],
       "children": [
        "IPY_MODEL_b9259cd97ce24ea78cfa6e63ab5691fc",
        "IPY_MODEL_0bce386e109c46f7af85acb700602cf5"
       ],
       "layout": "IPY_MODEL_c43279a4f81d4ac1830da7ded9fb979f"
      }
     },
     "48e9bff7e70b4af9a071bf817d3d1270": {
      "model_module": "@jupyter-widgets/controls",
      "model_module_version": "1.5.0",
      "model_name": "ButtonModel",
      "state": {
       "description": "Prev",
       "layout": "IPY_MODEL_bcb1dc786ba940d590bd633808faa5a4",
       "style": "IPY_MODEL_310d4fb5bcd44b4caeb309cdb4182789"
      }
     },
     "4913b5c03f51432fac52594daff3a0be": {
      "model_module": "@jupyter-widgets/base",
      "model_module_version": "1.2.0",
      "model_name": "LayoutModel",
      "state": {}
     },
     "4a60764a1ac346549dcbf4abdf163205": {
      "model_module": "@jupyter-widgets/controls",
      "model_module_version": "1.5.0",
      "model_name": "ButtonStyleModel",
      "state": {}
     },
     "4de6e4a7910f4a858ccf72d1a10700bc": {
      "model_module": "@jupyter-widgets/controls",
      "model_module_version": "1.5.0",
      "model_name": "IntSliderModel",
      "state": {
       "description": "step",
       "layout": "IPY_MODEL_99ee546bb545489d885cdb33247d1992",
       "max": 19,
       "style": "IPY_MODEL_40350ae9d4024ae582084792d7efea14"
      }
     },
     "4e127937e83e47c1a8cadad4902d1824": {
      "model_module": "@jupyter-widgets/base",
      "model_module_version": "1.2.0",
      "model_name": "LayoutModel",
      "state": {}
     },
     "4eb0fb1ad8584deab1b23547e3279e9b": {
      "model_module": "@jupyter-widgets/controls",
      "model_module_version": "1.5.0",
      "model_name": "SliderStyleModel",
      "state": {
       "description_width": ""
      }
     },
     "4f4117f0350b449b8dcea86a566257bb": {
      "model_module": "@jupyter-widgets/output",
      "model_module_version": "1.0.0",
      "model_name": "OutputModel",
      "state": {
       "layout": "IPY_MODEL_f79278be99354034b69473be37d69d8e",
       "outputs": [
        {
         "data": {
          "text/html": "<style>pre { line-height: 125%; }\ntd.linenos .normal { color: inherit; background-color: transparent; padding-left: 5px; padding-right: 5px; }\nspan.linenos { color: inherit; background-color: transparent; padding-left: 5px; padding-right: 5px; }\ntd.linenos .special { color: #000000; background-color: #ffffc0; padding-left: 5px; padding-right: 5px; }\nspan.linenos.special { color: #000000; background-color: #ffffc0; padding-left: 5px; padding-right: 5px; }\n.output_html .hll { background-color: #ffffcc }\n.output_html { background: #f8f8f8; }\n.output_html .c { color: #408080; font-style: italic } /* Comment */\n.output_html .err { border: 1px solid #FF0000 } /* Error */\n.output_html .k { color: #008000; font-weight: bold } /* Keyword */\n.output_html .o { color: #666666 } /* Operator */\n.output_html .ch { color: #408080; font-style: italic } /* Comment.Hashbang */\n.output_html .cm { color: #408080; font-style: italic } /* Comment.Multiline */\n.output_html .cp { color: #BC7A00 } /* Comment.Preproc */\n.output_html .cpf { color: #408080; font-style: italic } /* Comment.PreprocFile */\n.output_html .c1 { color: #408080; font-style: italic } /* Comment.Single */\n.output_html .cs { color: #408080; font-style: italic } /* Comment.Special */\n.output_html .gd { color: #A00000 } /* Generic.Deleted */\n.output_html .ge { font-style: italic } /* Generic.Emph */\n.output_html .gr { color: #FF0000 } /* Generic.Error */\n.output_html .gh { color: #000080; font-weight: bold } /* Generic.Heading */\n.output_html .gi { color: #00A000 } /* Generic.Inserted */\n.output_html .go { color: #888888 } /* Generic.Output */\n.output_html .gp { color: #000080; font-weight: bold } /* Generic.Prompt */\n.output_html .gs { font-weight: bold } /* Generic.Strong */\n.output_html .gu { color: #800080; font-weight: bold } /* Generic.Subheading */\n.output_html .gt { color: #0044DD } /* Generic.Traceback */\n.output_html .kc { color: #008000; font-weight: bold } /* Keyword.Constant */\n.output_html .kd { color: #008000; font-weight: bold } /* Keyword.Declaration */\n.output_html .kn { color: #008000; font-weight: bold } /* Keyword.Namespace */\n.output_html .kp { color: #008000 } /* Keyword.Pseudo */\n.output_html .kr { color: #008000; font-weight: bold } /* Keyword.Reserved */\n.output_html .kt { color: #B00040 } /* Keyword.Type */\n.output_html .m { color: #666666 } /* Literal.Number */\n.output_html .s { color: #BA2121 } /* Literal.String */\n.output_html .na { color: #7D9029 } /* Name.Attribute */\n.output_html .nb { color: #008000 } /* Name.Builtin */\n.output_html .nc { color: #0000FF; font-weight: bold } /* Name.Class */\n.output_html .no { color: #880000 } /* Name.Constant */\n.output_html .nd { color: #AA22FF } /* Name.Decorator */\n.output_html .ni { color: #999999; font-weight: bold } /* Name.Entity */\n.output_html .ne { color: #D2413A; font-weight: bold } /* Name.Exception */\n.output_html .nf { color: #0000FF } /* Name.Function */\n.output_html .nl { color: #A0A000 } /* Name.Label */\n.output_html .nn { color: #0000FF; font-weight: bold } /* Name.Namespace */\n.output_html .nt { color: #008000; font-weight: bold } /* Name.Tag */\n.output_html .nv { color: #19177C } /* Name.Variable */\n.output_html .ow { color: #AA22FF; font-weight: bold } /* Operator.Word */\n.output_html .w { color: #bbbbbb } /* Text.Whitespace */\n.output_html .mb { color: #666666 } /* Literal.Number.Bin */\n.output_html .mf { color: #666666 } /* Literal.Number.Float */\n.output_html .mh { color: #666666 } /* Literal.Number.Hex */\n.output_html .mi { color: #666666 } /* Literal.Number.Integer */\n.output_html .mo { color: #666666 } /* Literal.Number.Oct */\n.output_html .sa { color: #BA2121 } /* Literal.String.Affix */\n.output_html .sb { color: #BA2121 } /* Literal.String.Backtick */\n.output_html .sc { color: #BA2121 } /* Literal.String.Char */\n.output_html .dl { color: #BA2121 } /* Literal.String.Delimiter */\n.output_html .sd { color: #BA2121; font-style: italic } /* Literal.String.Doc */\n.output_html .s2 { color: #BA2121 } /* Literal.String.Double */\n.output_html .se { color: #BB6622; font-weight: bold } /* Literal.String.Escape */\n.output_html .sh { color: #BA2121 } /* Literal.String.Heredoc */\n.output_html .si { color: #BB6688; font-weight: bold } /* Literal.String.Interpol */\n.output_html .sx { color: #008000 } /* Literal.String.Other */\n.output_html .sr { color: #BB6688 } /* Literal.String.Regex */\n.output_html .s1 { color: #BA2121 } /* Literal.String.Single */\n.output_html .ss { color: #19177C } /* Literal.String.Symbol */\n.output_html .bp { color: #008000 } /* Name.Builtin.Pseudo */\n.output_html .fm { color: #0000FF } /* Name.Function.Magic */\n.output_html .vc { color: #19177C } /* Name.Variable.Class */\n.output_html .vg { color: #19177C } /* Name.Variable.Global */\n.output_html .vi { color: #19177C } /* Name.Variable.Instance */\n.output_html .vm { color: #19177C } /* Name.Variable.Magic */\n.output_html .il { color: #666666 } /* Literal.Number.Integer.Long */</style><div class=\"highlight\"><pre><span></span>  x = 9\n[ 234 1 42 3 15 3 10 9 2 ]\n   ↑                   ↑  \n</pre></div>\n",
          "text/latex": "\\begin{Verbatim}[commandchars=\\\\\\{\\}]\n  x = 9\n[ 234 1 42 3 15 3 10 9 2 ]\n   ↑                   ↑  \n\\end{Verbatim}\n",
          "text/plain": "  x = 9\n[ 234 1 42 3 15 3 10 9 2 ]\n   ↑                   ↑  "
         },
         "metadata": {},
         "output_type": "display_data"
        }
       ]
      }
     },
     "506a659c67bd4e6e961fc7d62223749d": {
      "model_module": "@jupyter-widgets/controls",
      "model_module_version": "1.5.0",
      "model_name": "ButtonStyleModel",
      "state": {}
     },
     "518071c0f9c64bbe99a19e9b33ed99ca": {
      "model_module": "@jupyter-widgets/base",
      "model_module_version": "1.2.0",
      "model_name": "LayoutModel",
      "state": {}
     },
     "51e4b603e7854299bde3c08d1754e20b": {
      "model_module": "@jupyter-widgets/controls",
      "model_module_version": "1.5.0",
      "model_name": "IntSliderModel",
      "state": {
       "description": "step",
       "layout": "IPY_MODEL_959c8ff2567f4fcb86f86a3a595bb460",
       "max": 5,
       "style": "IPY_MODEL_ec1e8f663bfa4c1a807bed764978822f"
      }
     },
     "52c5ff046b064311a9714da1a8f60f45": {
      "model_module": "@jupyter-widgets/base",
      "model_module_version": "1.2.0",
      "model_name": "LayoutModel",
      "state": {}
     },
     "532bb67ec7c54c42b1fa585e009a3db9": {
      "model_module": "@jupyter-widgets/base",
      "model_module_version": "1.2.0",
      "model_name": "LayoutModel",
      "state": {}
     },
     "532d9d7da3ad491894f45bdb59ac855d": {
      "model_module": "@jupyter-widgets/base",
      "model_module_version": "1.2.0",
      "model_name": "LayoutModel",
      "state": {}
     },
     "5354e38e681b4bcb81bb275237b07f23": {
      "model_module": "@jupyter-widgets/controls",
      "model_module_version": "1.5.0",
      "model_name": "LinkModel",
      "state": {
       "source": [
        "IPY_MODEL_46dd66cd985a43098ef8282f84be23e3",
        "value"
       ],
       "target": [
        "IPY_MODEL_239d95a12d22435497577e229493c883",
        "value"
       ]
      }
     },
     "535cc4941c7644fcae0878fed33d4677": {
      "model_module": "@jupyter-widgets/base",
      "model_module_version": "1.2.0",
      "model_name": "LayoutModel",
      "state": {}
     },
     "53a8e985d5154d48ad6ebe12d2e6bb31": {
      "model_module": "@jupyter-widgets/output",
      "model_module_version": "1.0.0",
      "model_name": "OutputModel",
      "state": {
       "layout": "IPY_MODEL_a863f6bcd911406e966b50baa0f6a6bd",
       "outputs": [
        {
         "data": {
          "text/plain": "10"
         },
         "metadata": {},
         "output_type": "display_data"
        }
       ]
      }
     },
     "55916e5079a94e72b6d9460fe10efd9b": {
      "model_module": "@jupyter-widgets/base",
      "model_module_version": "1.2.0",
      "model_name": "LayoutModel",
      "state": {}
     },
     "56849a3ee772448cb6c6493613703d45": {
      "model_module": "@jupyter-widgets/controls",
      "model_module_version": "1.5.0",
      "model_name": "ButtonStyleModel",
      "state": {}
     },
     "56a1da70d1e5465c945fdb16b6865fb1": {
      "model_module": "@jupyter-widgets/controls",
      "model_module_version": "1.5.0",
      "model_name": "VBoxModel",
      "state": {
       "_dom_classes": [
        "widget-interact"
       ],
       "children": [
        "IPY_MODEL_13399a799cc54ec896b3cced997ce48e",
        "IPY_MODEL_f0433848434f475b8729b80e69b7a710"
       ],
       "layout": "IPY_MODEL_5fbcdbd8aca7494ba514d6c4047ad1e7"
      }
     },
     "5759b29217cf40e9aca9256fcdf8f0a0": {
      "model_module": "@jupyter-widgets/output",
      "model_module_version": "1.0.0",
      "model_name": "OutputModel",
      "state": {
       "layout": "IPY_MODEL_ea4f3ceaa4324889bcfd50f6f5c5f1cc",
       "outputs": [
        {
         "data": {
          "text/html": "<style>pre { line-height: 125%; }\ntd.linenos .normal { color: inherit; background-color: transparent; padding-left: 5px; padding-right: 5px; }\nspan.linenos { color: inherit; background-color: transparent; padding-left: 5px; padding-right: 5px; }\ntd.linenos .special { color: #000000; background-color: #ffffc0; padding-left: 5px; padding-right: 5px; }\nspan.linenos.special { color: #000000; background-color: #ffffc0; padding-left: 5px; padding-right: 5px; }\n.output_html .hll { background-color: #ffffcc }\n.output_html { background: #f8f8f8; }\n.output_html .c { color: #408080; font-style: italic } /* Comment */\n.output_html .err { border: 1px solid #FF0000 } /* Error */\n.output_html .k { color: #008000; font-weight: bold } /* Keyword */\n.output_html .o { color: #666666 } /* Operator */\n.output_html .ch { color: #408080; font-style: italic } /* Comment.Hashbang */\n.output_html .cm { color: #408080; font-style: italic } /* Comment.Multiline */\n.output_html .cp { color: #BC7A00 } /* Comment.Preproc */\n.output_html .cpf { color: #408080; font-style: italic } /* Comment.PreprocFile */\n.output_html .c1 { color: #408080; font-style: italic } /* Comment.Single */\n.output_html .cs { color: #408080; font-style: italic } /* Comment.Special */\n.output_html .gd { color: #A00000 } /* Generic.Deleted */\n.output_html .ge { font-style: italic } /* Generic.Emph */\n.output_html .gr { color: #FF0000 } /* Generic.Error */\n.output_html .gh { color: #000080; font-weight: bold } /* Generic.Heading */\n.output_html .gi { color: #00A000 } /* Generic.Inserted */\n.output_html .go { color: #888888 } /* Generic.Output */\n.output_html .gp { color: #000080; font-weight: bold } /* Generic.Prompt */\n.output_html .gs { font-weight: bold } /* Generic.Strong */\n.output_html .gu { color: #800080; font-weight: bold } /* Generic.Subheading */\n.output_html .gt { color: #0044DD } /* Generic.Traceback */\n.output_html .kc { color: #008000; font-weight: bold } /* Keyword.Constant */\n.output_html .kd { color: #008000; font-weight: bold } /* Keyword.Declaration */\n.output_html .kn { color: #008000; font-weight: bold } /* Keyword.Namespace */\n.output_html .kp { color: #008000 } /* Keyword.Pseudo */\n.output_html .kr { color: #008000; font-weight: bold } /* Keyword.Reserved */\n.output_html .kt { color: #B00040 } /* Keyword.Type */\n.output_html .m { color: #666666 } /* Literal.Number */\n.output_html .s { color: #BA2121 } /* Literal.String */\n.output_html .na { color: #7D9029 } /* Name.Attribute */\n.output_html .nb { color: #008000 } /* Name.Builtin */\n.output_html .nc { color: #0000FF; font-weight: bold } /* Name.Class */\n.output_html .no { color: #880000 } /* Name.Constant */\n.output_html .nd { color: #AA22FF } /* Name.Decorator */\n.output_html .ni { color: #999999; font-weight: bold } /* Name.Entity */\n.output_html .ne { color: #D2413A; font-weight: bold } /* Name.Exception */\n.output_html .nf { color: #0000FF } /* Name.Function */\n.output_html .nl { color: #A0A000 } /* Name.Label */\n.output_html .nn { color: #0000FF; font-weight: bold } /* Name.Namespace */\n.output_html .nt { color: #008000; font-weight: bold } /* Name.Tag */\n.output_html .nv { color: #19177C } /* Name.Variable */\n.output_html .ow { color: #AA22FF; font-weight: bold } /* Operator.Word */\n.output_html .w { color: #bbbbbb } /* Text.Whitespace */\n.output_html .mb { color: #666666 } /* Literal.Number.Bin */\n.output_html .mf { color: #666666 } /* Literal.Number.Float */\n.output_html .mh { color: #666666 } /* Literal.Number.Hex */\n.output_html .mi { color: #666666 } /* Literal.Number.Integer */\n.output_html .mo { color: #666666 } /* Literal.Number.Oct */\n.output_html .sa { color: #BA2121 } /* Literal.String.Affix */\n.output_html .sb { color: #BA2121 } /* Literal.String.Backtick */\n.output_html .sc { color: #BA2121 } /* Literal.String.Char */\n.output_html .dl { color: #BA2121 } /* Literal.String.Delimiter */\n.output_html .sd { color: #BA2121; font-style: italic } /* Literal.String.Doc */\n.output_html .s2 { color: #BA2121 } /* Literal.String.Double */\n.output_html .se { color: #BB6622; font-weight: bold } /* Literal.String.Escape */\n.output_html .sh { color: #BA2121 } /* Literal.String.Heredoc */\n.output_html .si { color: #BB6688; font-weight: bold } /* Literal.String.Interpol */\n.output_html .sx { color: #008000 } /* Literal.String.Other */\n.output_html .sr { color: #BB6688 } /* Literal.String.Regex */\n.output_html .s1 { color: #BA2121 } /* Literal.String.Single */\n.output_html .ss { color: #19177C } /* Literal.String.Symbol */\n.output_html .bp { color: #008000 } /* Name.Builtin.Pseudo */\n.output_html .fm { color: #0000FF } /* Name.Function.Magic */\n.output_html .vc { color: #19177C } /* Name.Variable.Class */\n.output_html .vg { color: #19177C } /* Name.Variable.Global */\n.output_html .vi { color: #19177C } /* Name.Variable.Instance */\n.output_html .vm { color: #19177C } /* Name.Variable.Magic */\n.output_html .il { color: #666666 } /* Literal.Number.Integer.Long */</style><div class=\"highlight\"><pre><span></span>ababadababa\n0\n \n \n</pre></div>\n",
          "text/latex": "\\begin{Verbatim}[commandchars=\\\\\\{\\}]\nababadababa\n0\n \n \n\\end{Verbatim}\n",
          "text/plain": "ababadababa\n0\n \n "
         },
         "metadata": {},
         "output_type": "display_data"
        }
       ]
      }
     },
     "577147ca48644cb9b2169fce23260454": {
      "model_module": "@jupyter-widgets/controls",
      "model_module_version": "1.5.0",
      "model_name": "ButtonModel",
      "state": {
       "description": "Prev",
       "layout": "IPY_MODEL_d83e0900bcf4410bb9e0950b2dac9afd",
       "style": "IPY_MODEL_812b3615d9c94762aec47cd34e899390"
      }
     },
     "58ac8486b35f45b08c1a55788a0deb86": {
      "model_module": "@jupyter-widgets/controls",
      "model_module_version": "1.5.0",
      "model_name": "ButtonModel",
      "state": {
       "description": "Next",
       "layout": "IPY_MODEL_ce8947f544424abb88013579acc72c2f",
       "style": "IPY_MODEL_3935c9505caf46fd8b1e5ea3f31d6d0c"
      }
     },
     "5915189319ce43ffbf4e5511ccbd3d59": {
      "model_module": "@jupyter-widgets/base",
      "model_module_version": "1.2.0",
      "model_name": "LayoutModel",
      "state": {}
     },
     "596856125bb946f2b31b6384c4e6d296": {
      "model_module": "@jupyter-widgets/controls",
      "model_module_version": "1.5.0",
      "model_name": "VBoxModel",
      "state": {
       "_dom_classes": [
        "widget-interact"
       ],
       "children": [
        "IPY_MODEL_239d95a12d22435497577e229493c883",
        "IPY_MODEL_4f4117f0350b449b8dcea86a566257bb"
       ],
       "layout": "IPY_MODEL_76d4ec5d612449ce8803efcb20915cb8"
      }
     },
     "5a7f945125a44bf99e3fc44b9beeeeb0": {
      "model_module": "@jupyter-widgets/controls",
      "model_module_version": "1.5.0",
      "model_name": "HBoxModel",
      "state": {
       "children": [
        "IPY_MODEL_d613d0bbbb7f4343b9ceea55aad67416",
        "IPY_MODEL_c1637f06bb83447b853bbc12d6a3594d",
        "IPY_MODEL_58ac8486b35f45b08c1a55788a0deb86"
       ],
       "layout": "IPY_MODEL_5d3ff3d333e042cbad471eb6799db81f"
      }
     },
     "5a82445624664f1083a4b2aab4fd2dec": {
      "model_module": "@jupyter-widgets/base",
      "model_module_version": "1.2.0",
      "model_name": "LayoutModel",
      "state": {}
     },
     "5accf40212ba41e8bd9d11d162b2ff44": {
      "model_module": "@jupyter-widgets/controls",
      "model_module_version": "1.5.0",
      "model_name": "DescriptionStyleModel",
      "state": {
       "description_width": ""
      }
     },
     "5b815cfe525049c6992483de80f353db": {
      "model_module": "@jupyter-widgets/controls",
      "model_module_version": "1.5.0",
      "model_name": "DescriptionStyleModel",
      "state": {
       "description_width": ""
      }
     },
     "5c404d0d4fd640948c8df2b180e9e3e5": {
      "model_module": "@jupyter-widgets/controls",
      "model_module_version": "1.5.0",
      "model_name": "HBoxModel",
      "state": {
       "children": [
        "IPY_MODEL_0f655b4f85cf4d159a3d3f052f2820e1",
        "IPY_MODEL_21c34e0664b544b38c6eda75c289cb78",
        "IPY_MODEL_1b9200ad60df4e7997375861fa227710"
       ],
       "layout": "IPY_MODEL_535cc4941c7644fcae0878fed33d4677"
      }
     },
     "5c47fde6478640c9b662c87a6e9a8ee8": {
      "model_module": "@jupyter-widgets/controls",
      "model_module_version": "1.5.0",
      "model_name": "HBoxModel",
      "state": {
       "children": [
        "IPY_MODEL_46dd66cd985a43098ef8282f84be23e3",
        "IPY_MODEL_9cfebfe5e6aa44a7b0d73eacac0174a2",
        "IPY_MODEL_1cada90b9c694290b37e63698f4670e4"
       ],
       "layout": "IPY_MODEL_a10d3c2f5856458e8244f9f996bd6135"
      }
     },
     "5d068b7620254117b9823f729c7c0c58": {
      "model_module": "@jupyter-widgets/controls",
      "model_module_version": "1.5.0",
      "model_name": "SliderStyleModel",
      "state": {
       "description_width": ""
      }
     },
     "5d3ff3d333e042cbad471eb6799db81f": {
      "model_module": "@jupyter-widgets/base",
      "model_module_version": "1.2.0",
      "model_name": "LayoutModel",
      "state": {}
     },
     "5d780ac61ce4430bb261d8b6b62a3ebd": {
      "model_module": "@jupyter-widgets/controls",
      "model_module_version": "1.5.0",
      "model_name": "ButtonModel",
      "state": {
       "description": "Next",
       "layout": "IPY_MODEL_f74882635b634d16b7419ebbd1f2ab95",
       "style": "IPY_MODEL_1700e350ccb74e9d9057a0ff5887e838"
      }
     },
     "5fbcdbd8aca7494ba514d6c4047ad1e7": {
      "model_module": "@jupyter-widgets/base",
      "model_module_version": "1.2.0",
      "model_name": "LayoutModel",
      "state": {}
     },
     "6041bb0a5f3d4041980b9d0acf27e6d7": {
      "model_module": "@jupyter-widgets/output",
      "model_module_version": "1.0.0",
      "model_name": "OutputModel",
      "state": {
       "layout": "IPY_MODEL_e96dc4554033479e9636eeea27041d0a",
       "outputs": [
        {
         "data": {
          "image/png": "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\n",
          "text/plain": "<Figure size 378x378 with 1 Axes>"
         },
         "metadata": {},
         "output_type": "display_data"
        }
       ]
      }
     },
     "61b6975bf4614bf28db6512d14f5f8b1": {
      "model_module": "@jupyter-widgets/controls",
      "model_module_version": "1.5.0",
      "model_name": "ButtonStyleModel",
      "state": {}
     },
     "62f097324ed7458580c936734fe60449": {
      "model_module": "@jupyter-widgets/base",
      "model_module_version": "1.2.0",
      "model_name": "LayoutModel",
      "state": {}
     },
     "6687257f9da04c25be97a1bcec7bd8e2": {
      "model_module": "@jupyter-widgets/base",
      "model_module_version": "1.2.0",
      "model_name": "LayoutModel",
      "state": {}
     },
     "679870e6170a4cbabebe297e5bbab708": {
      "model_module": "@jupyter-widgets/base",
      "model_module_version": "1.2.0",
      "model_name": "LayoutModel",
      "state": {}
     },
     "688605807bf84fd490baca2826041255": {
      "model_module": "@jupyter-widgets/controls",
      "model_module_version": "1.5.0",
      "model_name": "ButtonStyleModel",
      "state": {}
     },
     "68d6e1e8cb0d4c2ebd344ef8f765055f": {
      "model_module": "@jupyter-widgets/controls",
      "model_module_version": "1.5.0",
      "model_name": "VBoxModel",
      "state": {
       "_dom_classes": [
        "widget-interact"
       ],
       "children": [
        "IPY_MODEL_fb51a6a862c14eb9a9a6a69771acce9e",
        "IPY_MODEL_d729ebcb264745de8863d69f781ade80"
       ],
       "layout": "IPY_MODEL_b43b577b851b4de1b27e506055a92c07"
      }
     },
     "68dee06bd0df495fa1e354caf303e833": {
      "model_module": "@jupyter-widgets/base",
      "model_module_version": "1.2.0",
      "model_name": "LayoutModel",
      "state": {}
     },
     "69301a26280d45029565f15457ced086": {
      "model_module": "@jupyter-widgets/base",
      "model_module_version": "1.2.0",
      "model_name": "LayoutModel",
      "state": {}
     },
     "69ab43c5396749e7bd15f2869ef56db4": {
      "model_module": "@jupyter-widgets/base",
      "model_module_version": "1.2.0",
      "model_name": "LayoutModel",
      "state": {}
     },
     "6a51dd0c19e94699a673467cc5bf0ca3": {
      "model_module": "@jupyter-widgets/controls",
      "model_module_version": "1.5.0",
      "model_name": "LinkModel",
      "state": {
       "source": [
        "IPY_MODEL_db6a2b557c344eddbb5529bb36825a16",
        "value"
       ],
       "target": [
        "IPY_MODEL_7a6f68af703f460cb4da529e7163c3f1",
        "value"
       ]
      }
     },
     "6c00acc45e684f7793f301c8878085e8": {
      "model_module": "@jupyter-widgets/output",
      "model_module_version": "1.0.0",
      "model_name": "OutputModel",
      "state": {
       "layout": "IPY_MODEL_ec09f0267a6c4ac180a1068e9ba969f8",
       "outputs": [
        {
         "data": {
          "image/svg+xml": "<?xml version=\"1.0\" encoding=\"UTF-8\" standalone=\"no\"?>\r\n<!DOCTYPE svg PUBLIC \"-//W3C//DTD SVG 1.1//EN\"\r\n \"http://www.w3.org/Graphics/SVG/1.1/DTD/svg11.dtd\">\r\n<!-- Generated by graphviz version 2.44.2~dev.20200826.1453 (20200826.1453)\r\n -->\r\n<!-- Pages: 1 -->\r\n<svg width=\"119pt\" height=\"262pt\"\r\n viewBox=\"0.00 0.00 119.00 262.50\" xmlns=\"http://www.w3.org/2000/svg\" xmlns:xlink=\"http://www.w3.org/1999/xlink\">\r\n<g id=\"graph0\" class=\"graph\" transform=\"scale(1 1) rotate(0) translate(4 258.5)\">\r\n<polygon fill=\"white\" stroke=\"transparent\" points=\"-4,4 -4,-258.5 115,-258.5 115,4 -4,4\"/>\r\n<!-- 1 -->\r\n<g id=\"node1\" class=\"node\">\r\n<title>1</title>\r\n<ellipse fill=\"none\" stroke=\"black\" cx=\"18\" cy=\"-236.5\" rx=\"18\" ry=\"18\"/>\r\n<text text-anchor=\"middle\" x=\"18\" y=\"-232.8\" font-family=\"Times New Roman,serif\" font-size=\"14.00\">1</text>\r\n</g>\r\n<!-- 6 -->\r\n<g id=\"node2\" class=\"node\">\r\n<title>6</title>\r\n<ellipse fill=\"none\" stroke=\"black\" cx=\"91.5\" cy=\"-236.5\" rx=\"18\" ry=\"18\"/>\r\n<text text-anchor=\"middle\" x=\"91.5\" y=\"-232.8\" font-family=\"Times New Roman,serif\" font-size=\"14.00\">6</text>\r\n</g>\r\n<!-- 1&#45;&gt;6 -->\r\n<g id=\"edge1\" class=\"edge\">\r\n<title>1:&#45;&gt;6:</title>\r\n<path fill=\"none\" stroke=\"black\" d=\"M36.31,-236.5C44.39,-236.5 54.2,-236.5 63.24,-236.5\"/>\r\n<polygon fill=\"black\" stroke=\"black\" points=\"73.35,-236.5 63.35,-241 68.35,-236.5 63.35,-236.5 63.35,-236.5 63.35,-236.5 68.35,-236.5 63.35,-232 73.35,-236.5 73.35,-236.5\"/>\r\n</g>\r\n<!-- 7 -->\r\n<g id=\"node3\" class=\"node\">\r\n<title>7</title>\r\n<ellipse fill=\"none\" stroke=\"black\" cx=\"91.5\" cy=\"-182.5\" rx=\"18\" ry=\"18\"/>\r\n<text text-anchor=\"middle\" x=\"91.5\" y=\"-178.8\" font-family=\"Times New Roman,serif\" font-size=\"14.00\">7</text>\r\n</g>\r\n<!-- 1&#45;&gt;7 -->\r\n<g id=\"edge2\" class=\"edge\">\r\n<title>1:&#45;&gt;7:</title>\r\n<path fill=\"none\" stroke=\"black\" d=\"M32.79,-226.09C42.97,-218.39 57.05,-207.76 68.75,-198.93\"/>\r\n<polygon fill=\"black\" stroke=\"black\" points=\"76.76,-192.88 71.49,-202.5 72.77,-195.89 68.78,-198.9 68.78,-198.9 68.78,-198.9 72.77,-195.89 66.06,-195.31 76.76,-192.88 76.76,-192.88\"/>\r\n</g>\r\n<!-- 2 -->\r\n<g id=\"node4\" class=\"node\">\r\n<title>2</title>\r\n<ellipse fill=\"none\" stroke=\"black\" cx=\"18\" cy=\"-182.5\" rx=\"18\" ry=\"18\"/>\r\n<text text-anchor=\"middle\" x=\"18\" y=\"-178.8\" font-family=\"Times New Roman,serif\" font-size=\"14.00\">2</text>\r\n</g>\r\n<!-- 2&#45;&gt;6 -->\r\n<g id=\"edge3\" class=\"edge\">\r\n<title>2:&#45;&gt;6:</title>\r\n<path fill=\"none\" stroke=\"black\" d=\"M32.79,-192.91C42.97,-200.6 57.05,-211.23 68.75,-220.07\"/>\r\n<polygon fill=\"black\" stroke=\"black\" points=\"76.76,-226.12 66.06,-223.68 72.77,-223.11 68.78,-220.09 68.78,-220.09 68.78,-220.09 72.77,-223.11 71.49,-216.5 76.76,-226.12 76.76,-226.12\"/>\r\n</g>\r\n<!-- 8 -->\r\n<g id=\"node6\" class=\"node\">\r\n<title>8</title>\r\n<ellipse fill=\"none\" stroke=\"black\" cx=\"91.5\" cy=\"-128.5\" rx=\"18\" ry=\"18\"/>\r\n<text text-anchor=\"middle\" x=\"91.5\" y=\"-124.8\" font-family=\"Times New Roman,serif\" font-size=\"14.00\">8</text>\r\n</g>\r\n<!-- 2&#45;&gt;8 -->\r\n<g id=\"edge4\" class=\"edge\">\r\n<title>2:&#45;&gt;8:</title>\r\n<path fill=\"none\" stroke=\"black\" d=\"M32.79,-172.09C42.97,-164.39 57.05,-153.76 68.75,-144.93\"/>\r\n<polygon fill=\"black\" stroke=\"black\" points=\"76.76,-138.88 71.49,-148.5 72.77,-141.89 68.78,-144.9 68.78,-144.9 68.78,-144.9 72.77,-141.89 66.06,-141.31 76.76,-138.88 76.76,-138.88\"/>\r\n</g>\r\n<!-- 3 -->\r\n<g id=\"node5\" class=\"node\">\r\n<title>3</title>\r\n<ellipse fill=\"none\" stroke=\"black\" cx=\"18\" cy=\"-128.5\" rx=\"18\" ry=\"18\"/>\r\n<text text-anchor=\"middle\" x=\"18\" y=\"-124.8\" font-family=\"Times New Roman,serif\" font-size=\"14.00\">3</text>\r\n</g>\r\n<!-- 3&#45;&gt;7 -->\r\n<g id=\"edge5\" class=\"edge\">\r\n<title>3:&#45;&gt;7:</title>\r\n<path fill=\"none\" stroke=\"black\" d=\"M32.79,-138.91C42.97,-146.6 57.05,-157.23 68.75,-166.07\"/>\r\n<polygon fill=\"black\" stroke=\"black\" points=\"76.76,-172.12 66.06,-169.68 72.77,-169.11 68.78,-166.09 68.78,-166.09 68.78,-166.09 72.77,-169.11 71.49,-162.5 76.76,-172.12 76.76,-172.12\"/>\r\n</g>\r\n<!-- 3&#45;&gt;8 -->\r\n<g id=\"edge6\" class=\"edge\">\r\n<title>3:&#45;&gt;8:</title>\r\n<path fill=\"none\" stroke=\"black\" d=\"M36.31,-128.5C44.39,-128.5 54.2,-128.5 63.24,-128.5\"/>\r\n<polygon fill=\"black\" stroke=\"black\" points=\"73.35,-128.5 63.35,-133 68.35,-128.5 63.35,-128.5 63.35,-128.5 63.35,-128.5 68.35,-128.5 63.35,-124 73.35,-128.5 73.35,-128.5\"/>\r\n</g>\r\n<!-- 4 -->\r\n<g id=\"node7\" class=\"node\">\r\n<title>4</title>\r\n<ellipse fill=\"none\" stroke=\"black\" cx=\"18\" cy=\"-74.5\" rx=\"18\" ry=\"18\"/>\r\n<text text-anchor=\"middle\" x=\"18\" y=\"-70.8\" font-family=\"Times New Roman,serif\" font-size=\"14.00\">4</text>\r\n</g>\r\n<!-- 4&#45;&gt;8 -->\r\n<g id=\"edge7\" class=\"edge\">\r\n<title>4:&#45;&gt;8:</title>\r\n<path fill=\"none\" stroke=\"black\" d=\"M32.79,-84.91C42.97,-92.6 57.05,-103.23 68.75,-112.07\"/>\r\n<polygon fill=\"black\" stroke=\"black\" points=\"76.76,-118.12 66.06,-115.68 72.77,-115.11 68.78,-112.09 68.78,-112.09 68.78,-112.09 72.77,-115.11 71.49,-108.5 76.76,-118.12 76.76,-118.12\"/>\r\n</g>\r\n<!-- 9 -->\r\n<g id=\"node8\" class=\"node\">\r\n<title>9</title>\r\n<ellipse fill=\"none\" stroke=\"black\" cx=\"91.5\" cy=\"-74.5\" rx=\"18\" ry=\"18\"/>\r\n<text text-anchor=\"middle\" x=\"91.5\" y=\"-70.8\" font-family=\"Times New Roman,serif\" font-size=\"14.00\">9</text>\r\n</g>\r\n<!-- 4&#45;&gt;9 -->\r\n<g id=\"edge8\" class=\"edge\">\r\n<title>4:&#45;&gt;9:</title>\r\n<path fill=\"none\" stroke=\"black\" d=\"M36.31,-74.5C44.39,-74.5 54.2,-74.5 63.24,-74.5\"/>\r\n<polygon fill=\"black\" stroke=\"black\" points=\"73.35,-74.5 63.35,-79 68.35,-74.5 63.35,-74.5 63.35,-74.5 63.35,-74.5 68.35,-74.5 63.35,-70 73.35,-74.5 73.35,-74.5\"/>\r\n</g>\r\n<!-- 10 -->\r\n<g id=\"node9\" class=\"node\">\r\n<title>10</title>\r\n<ellipse fill=\"none\" stroke=\"black\" cx=\"91.5\" cy=\"-19.5\" rx=\"19.5\" ry=\"19.5\"/>\r\n<text text-anchor=\"middle\" x=\"91.5\" y=\"-15.8\" font-family=\"Times New Roman,serif\" font-size=\"14.00\">10</text>\r\n</g>\r\n<!-- 4&#45;&gt;10 -->\r\n<g id=\"edge9\" class=\"edge\">\r\n<title>4:&#45;&gt;10:</title>\r\n<path fill=\"none\" stroke=\"black\" d=\"M32.79,-63.89C42.55,-56.38 55.89,-46.12 67.28,-37.36\"/>\r\n<polygon fill=\"black\" stroke=\"black\" points=\"75.52,-31.02 70.34,-40.68 71.56,-34.07 67.59,-37.12 67.59,-37.12 67.59,-37.12 71.56,-34.07 64.85,-33.55 75.52,-31.02 75.52,-31.02\"/>\r\n</g>\r\n<!-- 5 -->\r\n<g id=\"node10\" class=\"node\">\r\n<title>5</title>\r\n<ellipse fill=\"none\" stroke=\"black\" cx=\"18\" cy=\"-19.5\" rx=\"18\" ry=\"18\"/>\r\n<text text-anchor=\"middle\" x=\"18\" y=\"-15.8\" font-family=\"Times New Roman,serif\" font-size=\"14.00\">5</text>\r\n</g>\r\n<!-- 5&#45;&gt;10 -->\r\n<g id=\"edge10\" class=\"edge\">\r\n<title>5:&#45;&gt;10:</title>\r\n<path fill=\"none\" stroke=\"black\" d=\"M36.31,-19.5C43.95,-19.5 53.13,-19.5 61.75,-19.5\"/>\r\n<polygon fill=\"black\" stroke=\"black\" points=\"71.85,-19.5 61.85,-24 66.85,-19.5 61.85,-19.5 61.85,-19.5 61.85,-19.5 66.85,-19.5 61.85,-15 71.85,-19.5 71.85,-19.5\"/>\r\n</g>\r\n</g>\r\n</svg>\r\n",
          "text/plain": "<graphviz.dot.Digraph at 0x1a0fb4f1e50>"
         },
         "metadata": {},
         "output_type": "display_data"
        }
       ]
      }
     },
     "6cae2a7975714ce1a5e298da70c521c8": {
      "model_module": "@jupyter-widgets/base",
      "model_module_version": "1.2.0",
      "model_name": "LayoutModel",
      "state": {}
     },
     "6df618070f724ec48cf80a842aa11f5f": {
      "model_module": "@jupyter-widgets/base",
      "model_module_version": "1.2.0",
      "model_name": "LayoutModel",
      "state": {}
     },
     "6ecdf29d869d41c7a836e9aac9b39aee": {
      "model_module": "@jupyter-widgets/base",
      "model_module_version": "1.2.0",
      "model_name": "LayoutModel",
      "state": {}
     },
     "6efaddf006af4e86a16a945a3cbe5724": {
      "model_module": "@jupyter-widgets/base",
      "model_module_version": "1.2.0",
      "model_name": "LayoutModel",
      "state": {}
     },
     "6fa5e8dd25704f72babd34fd4dbc493c": {
      "model_module": "@jupyter-widgets/base",
      "model_module_version": "1.2.0",
      "model_name": "LayoutModel",
      "state": {}
     },
     "706bf6f71892401f963bd331d728507c": {
      "model_module": "@jupyter-widgets/controls",
      "model_module_version": "1.5.0",
      "model_name": "SliderStyleModel",
      "state": {
       "description_width": ""
      }
     },
     "712674acb86447aaaf9e814d90305f3b": {
      "model_module": "@jupyter-widgets/controls",
      "model_module_version": "1.5.0",
      "model_name": "HBoxModel",
      "state": {
       "children": [
        "IPY_MODEL_16671d3cab79434b888261e4b07282ce",
        "IPY_MODEL_8761e4cdf55a4c379f881d1f556703ef",
        "IPY_MODEL_0f8b1862b0874a6bb1fda58e5e56a019"
       ],
       "layout": "IPY_MODEL_32ee1e5ca99d43e2a696799db0d704d1"
      }
     },
     "737943a49f0649f3bee185db31154d21": {
      "model_module": "@jupyter-widgets/base",
      "model_module_version": "1.2.0",
      "model_name": "LayoutModel",
      "state": {}
     },
     "73b31eb525fa412f9a8e7995a2d0dfbc": {
      "model_module": "@jupyter-widgets/controls",
      "model_module_version": "1.5.0",
      "model_name": "ButtonStyleModel",
      "state": {}
     },
     "73d1150638334d848c4e68a5375cd38c": {
      "model_module": "@jupyter-widgets/controls",
      "model_module_version": "1.5.0",
      "model_name": "ButtonModel",
      "state": {
       "description": "Prev",
       "layout": "IPY_MODEL_a90f653185e84d13bf5a4c1f1d413176",
       "style": "IPY_MODEL_73b31eb525fa412f9a8e7995a2d0dfbc"
      }
     },
     "76062dc979cd4f97adee2fd3e23cd799": {
      "model_module": "@jupyter-widgets/base",
      "model_module_version": "1.2.0",
      "model_name": "LayoutModel",
      "state": {}
     },
     "76d4ec5d612449ce8803efcb20915cb8": {
      "model_module": "@jupyter-widgets/base",
      "model_module_version": "1.2.0",
      "model_name": "LayoutModel",
      "state": {}
     },
     "78079f95a9034b85bf23c0d731349739": {
      "model_module": "@jupyter-widgets/controls",
      "model_module_version": "1.5.0",
      "model_name": "SliderStyleModel",
      "state": {
       "description_width": ""
      }
     },
     "781d761213fe4586803dd17e870e8636": {
      "model_module": "@jupyter-widgets/base",
      "model_module_version": "1.2.0",
      "model_name": "LayoutModel",
      "state": {}
     },
     "7a6f68af703f460cb4da529e7163c3f1": {
      "model_module": "@jupyter-widgets/controls",
      "model_module_version": "1.5.0",
      "model_name": "IntSliderModel",
      "state": {
       "description": "step",
       "layout": "IPY_MODEL_180c058fcfe645448fb84d301e9ab572",
       "max": 17,
       "style": "IPY_MODEL_2e1fabed7c7442b5b0b9a80fda7748b0"
      }
     },
     "7b3a0ae4846e4a5f808e042fdb05fd73": {
      "model_module": "@jupyter-widgets/controls",
      "model_module_version": "1.5.0",
      "model_name": "VBoxModel",
      "state": {
       "_dom_classes": [
        "widget-interact"
       ],
       "children": [
        "IPY_MODEL_3fe413a61e044a22af00fa884cd65d33",
        "IPY_MODEL_6c00acc45e684f7793f301c8878085e8"
       ],
       "layout": "IPY_MODEL_0736ef4da8624820bce7f2e060522a29"
      }
     },
     "7ba9be76c6bc4746ad87f35e7c6b4fb0": {
      "model_module": "@jupyter-widgets/base",
      "model_module_version": "1.2.0",
      "model_name": "LayoutModel",
      "state": {}
     },
     "7f9cd6cb820b4064afbf6302774f7607": {
      "model_module": "@jupyter-widgets/controls",
      "model_module_version": "1.5.0",
      "model_name": "DescriptionStyleModel",
      "state": {
       "description_width": ""
      }
     },
     "812b3615d9c94762aec47cd34e899390": {
      "model_module": "@jupyter-widgets/controls",
      "model_module_version": "1.5.0",
      "model_name": "ButtonStyleModel",
      "state": {}
     },
     "8161906f9e9146368ee50b1e8ba636b5": {
      "model_module": "@jupyter-widgets/controls",
      "model_module_version": "1.5.0",
      "model_name": "VBoxModel",
      "state": {
       "_dom_classes": [
        "widget-interact"
       ],
       "children": [
        "IPY_MODEL_51e4b603e7854299bde3c08d1754e20b",
        "IPY_MODEL_f212b908fc274fcb80ff7a8b3a4e2d02"
       ],
       "layout": "IPY_MODEL_9e9a7534a54f42469ea3c6bd2f2bf1ad"
      }
     },
     "821115930ab74673a5ebbf1f0e2ae2ea": {
      "model_module": "@jupyter-widgets/controls",
      "model_module_version": "1.5.0",
      "model_name": "IntSliderModel",
      "state": {
       "description": "step",
       "layout": "IPY_MODEL_bc34865eb76f41d78fd76309465d174c",
       "max": 13,
       "style": "IPY_MODEL_8d3c7075a0cb4883a9ed0452d6c87139"
      }
     },
     "83e3e5434a7f4a1ebef31281d86632f1": {
      "model_module": "@jupyter-widgets/controls",
      "model_module_version": "1.5.0",
      "model_name": "HBoxModel",
      "state": {
       "children": [
        "IPY_MODEL_e7a177a32702432b8a0648d405751f9b",
        "IPY_MODEL_36916723dbc244798e363f34271a6f82",
        "IPY_MODEL_25d44163487f4e5d9cfd828e85ce59c6"
       ],
       "layout": "IPY_MODEL_3f02c59b086d4e8e9e8ce14584f7f7f7"
      }
     },
     "842ff71765894442a1ef94e68286ea5b": {
      "model_module": "@jupyter-widgets/controls",
      "model_module_version": "1.5.0",
      "model_name": "IntSliderModel",
      "state": {
       "description": "step",
       "layout": "IPY_MODEL_6efaddf006af4e86a16a945a3cbe5724",
       "max": 69,
       "style": "IPY_MODEL_c54ac193c6a64afba3a2465ff7956d99"
      }
     },
     "8542916b449046069dacbf4788523182": {
      "model_module": "@jupyter-widgets/output",
      "model_module_version": "1.0.0",
      "model_name": "OutputModel",
      "state": {
       "layout": "IPY_MODEL_e98679aa4c1f4f4c9acd47a1e204539c",
       "outputs": [
        {
         "data": {
          "image/svg+xml": "<?xml version=\"1.0\" encoding=\"UTF-8\" standalone=\"no\"?>\r\n<!DOCTYPE svg PUBLIC \"-//W3C//DTD SVG 1.1//EN\"\r\n \"http://www.w3.org/Graphics/SVG/1.1/DTD/svg11.dtd\">\r\n<!-- Generated by graphviz version 2.44.2~dev.20200826.1453 (20200826.1453)\r\n -->\r\n<!-- Pages: 1 -->\r\n<svg width=\"439pt\" height=\"177pt\"\r\n viewBox=\"0.00 0.00 439.00 177.00\" xmlns=\"http://www.w3.org/2000/svg\" xmlns:xlink=\"http://www.w3.org/1999/xlink\">\r\n<g id=\"graph0\" class=\"graph\" transform=\"scale(1 1) rotate(0) translate(4 173)\">\r\n<polygon fill=\"white\" stroke=\"transparent\" points=\"-4,4 -4,-173 435,-173 435,4 -4,4\"/>\r\n<!-- 1 -->\r\n<g id=\"node1\" class=\"node\">\r\n<title>1</title>\r\n<ellipse fill=\"none\" stroke=\"black\" cx=\"18\" cy=\"-79\" rx=\"18\" ry=\"18\"/>\r\n<text text-anchor=\"middle\" x=\"18\" y=\"-75.3\" font-family=\"Times New Roman,serif\" font-size=\"14.00\">1</text>\r\n</g>\r\n<!-- 3 -->\r\n<g id=\"node2\" class=\"node\">\r\n<title>3</title>\r\n<ellipse fill=\"none\" stroke=\"black\" cx=\"176\" cy=\"-151\" rx=\"18\" ry=\"18\"/>\r\n<text text-anchor=\"middle\" x=\"176\" y=\"-147.3\" font-family=\"Times New Roman,serif\" font-size=\"14.00\">3</text>\r\n</g>\r\n<!-- 1&#45;&gt;3 -->\r\n<g id=\"edge1\" class=\"edge\">\r\n<title>1:&#45;&gt;3:</title>\r\n<path fill=\"none\" stroke=\"black\" d=\"M34.25,-87.49C40.35,-90.83 47.48,-94.66 54,-98 88.69,-115.74 97.05,-120.98 133,-136 138.05,-138.11 143.51,-140.2 148.78,-142.12\"/>\r\n<polygon fill=\"black\" stroke=\"black\" points=\"158.49,-145.55 147.56,-146.46 153.78,-143.89 149.06,-142.22 149.06,-142.22 149.06,-142.22 153.78,-143.89 150.57,-137.98 158.49,-145.55 158.49,-145.55\"/>\r\n<text text-anchor=\"middle\" x=\"97\" y=\"-130.8\" font-family=\"Times New Roman,serif\" font-size=\"14.00\">3</text>\r\n</g>\r\n<!-- 4 -->\r\n<g id=\"node3\" class=\"node\">\r\n<title>4</title>\r\n<ellipse fill=\"none\" stroke=\"black\" cx=\"97\" cy=\"-79\" rx=\"18\" ry=\"18\"/>\r\n<text text-anchor=\"middle\" x=\"97\" y=\"-75.3\" font-family=\"Times New Roman,serif\" font-size=\"14.00\">4</text>\r\n</g>\r\n<!-- 1&#45;&gt;4 -->\r\n<g id=\"edge2\" class=\"edge\">\r\n<title>1:&#45;&gt;4:</title>\r\n<path fill=\"none\" stroke=\"black\" d=\"M36.09,-79C45.66,-79 57.82,-79 68.68,-79\"/>\r\n<polygon fill=\"black\" stroke=\"black\" points=\"78.96,-79 68.96,-83.5 73.96,-79 68.96,-79 68.96,-79 68.96,-79 73.96,-79 68.96,-74.5 78.96,-79 78.96,-79\"/>\r\n<text text-anchor=\"middle\" x=\"57.5\" y=\"-82.8\" font-family=\"Times New Roman,serif\" font-size=\"14.00\">7</text>\r\n</g>\r\n<!-- 5 -->\r\n<g id=\"node4\" class=\"node\">\r\n<title>5</title>\r\n<ellipse fill=\"none\" stroke=\"black\" cx=\"176\" cy=\"-46\" rx=\"18\" ry=\"18\"/>\r\n<text text-anchor=\"middle\" x=\"176\" y=\"-42.3\" font-family=\"Times New Roman,serif\" font-size=\"14.00\">5</text>\r\n</g>\r\n<!-- 1&#45;&gt;5 -->\r\n<g id=\"edge3\" class=\"edge\">\r\n<title>1:&#45;&gt;5:</title>\r\n<path fill=\"none\" stroke=\"black\" d=\"M31.53,-66.71C42.87,-56.53 60.57,-42.81 79,-37 101.87,-29.79 129.21,-33.47 148.85,-38.11\"/>\r\n<polygon fill=\"black\" stroke=\"black\" points=\"158.62,-40.64 147.81,-42.49 153.78,-39.39 148.94,-38.13 148.94,-38.13 148.94,-38.13 153.78,-39.39 150.07,-33.77 158.62,-40.64 158.62,-40.64\"/>\r\n<text text-anchor=\"middle\" x=\"97\" y=\"-40.8\" font-family=\"Times New Roman,serif\" font-size=\"14.00\">2</text>\r\n</g>\r\n<!-- 2 -->\r\n<g id=\"node7\" class=\"node\">\r\n<title>2</title>\r\n<ellipse fill=\"none\" stroke=\"black\" cx=\"413\" cy=\"-87\" rx=\"18\" ry=\"18\"/>\r\n<text text-anchor=\"middle\" x=\"413\" y=\"-83.3\" font-family=\"Times New Roman,serif\" font-size=\"14.00\">2</text>\r\n</g>\r\n<!-- 3&#45;&gt;2 -->\r\n<g id=\"edge4\" class=\"edge\">\r\n<title>3:&#45;&gt;2:</title>\r\n<path fill=\"none\" stroke=\"black\" d=\"M194.03,-147.99C225.47,-142.31 294.67,-129.19 352,-114 363.28,-111.01 366.27,-110.58 377,-106 380.58,-104.47 384.28,-102.7 387.87,-100.86\"/>\r\n<polygon fill=\"black\" stroke=\"black\" points=\"396.97,-95.96 390.3,-104.66 392.57,-98.33 388.17,-100.7 388.17,-100.7 388.17,-100.7 392.57,-98.33 386.04,-96.73 396.97,-95.96 396.97,-95.96\"/>\r\n<text text-anchor=\"middle\" x=\"294.5\" y=\"-131.8\" font-family=\"Times New Roman,serif\" font-size=\"14.00\">5</text>\r\n</g>\r\n<!-- 4&#45;&gt;3 -->\r\n<g id=\"edge5\" class=\"edge\">\r\n<title>4:&#45;&gt;3:</title>\r\n<path fill=\"none\" stroke=\"black\" d=\"M110.71,-90.89C122.64,-102.04 140.68,-118.91 154.61,-131.94\"/>\r\n<polygon fill=\"black\" stroke=\"black\" points=\"162.27,-139.09 151.89,-135.55 158.61,-135.68 154.96,-132.26 154.96,-132.26 154.96,-132.26 158.61,-135.68 158.04,-128.98 162.27,-139.09 162.27,-139.09\"/>\r\n<text text-anchor=\"middle\" x=\"136.5\" y=\"-120.8\" font-family=\"Times New Roman,serif\" font-size=\"14.00\">2</text>\r\n</g>\r\n<!-- 4&#45;&gt;5 -->\r\n<g id=\"edge6\" class=\"edge\">\r\n<title>4:&#45;&gt;5:</title>\r\n<path fill=\"none\" stroke=\"black\" d=\"M113.95,-72.16C124.28,-67.74 137.94,-61.88 149.73,-56.83\"/>\r\n<polygon fill=\"black\" stroke=\"black\" points=\"159.07,-52.83 151.65,-60.9 154.47,-54.8 149.87,-56.77 149.87,-56.77 149.87,-56.77 154.47,-54.8 148.1,-52.63 159.07,-52.83 159.07,-52.83\"/>\r\n<text text-anchor=\"middle\" x=\"136.5\" y=\"-66.8\" font-family=\"Times New Roman,serif\" font-size=\"14.00\">3</text>\r\n</g>\r\n<!-- 4&#45;&gt;2 -->\r\n<g id=\"edge7\" class=\"edge\">\r\n<title>4:&#45;&gt;2:</title>\r\n<path fill=\"none\" stroke=\"black\" d=\"M109.2,-65.6C128.29,-43.06 165.95,0 175,0 175,0 175,0 335,0 367.91,0 390.15,-35.34 401.95,-60.97\"/>\r\n<polygon fill=\"black\" stroke=\"black\" points=\"405.96,-70.23 397.85,-62.84 403.97,-65.64 401.98,-61.05 401.98,-61.05 401.98,-61.05 403.97,-65.64 406.11,-59.26 405.96,-70.23 405.96,-70.23\"/>\r\n<text text-anchor=\"middle\" x=\"255\" y=\"-3.8\" font-family=\"Times New Roman,serif\" font-size=\"14.00\">2</text>\r\n</g>\r\n<!-- 6 -->\r\n<g id=\"node5\" class=\"node\">\r\n<title>6</title>\r\n<ellipse fill=\"none\" stroke=\"black\" cx=\"255\" cy=\"-87\" rx=\"18\" ry=\"18\"/>\r\n<text text-anchor=\"middle\" x=\"255\" y=\"-83.3\" font-family=\"Times New Roman,serif\" font-size=\"14.00\">6</text>\r\n</g>\r\n<!-- 5&#45;&gt;6 -->\r\n<g id=\"edge8\" class=\"edge\">\r\n<title>5:&#45;&gt;6:</title>\r\n<path fill=\"none\" stroke=\"black\" d=\"M192.21,-54.1C202.97,-59.83 217.61,-67.62 229.94,-74.19\"/>\r\n<polygon fill=\"black\" stroke=\"black\" points=\"238.82,-78.92 227.88,-78.19 234.41,-76.57 229.99,-74.22 229.99,-74.22 229.99,-74.22 234.41,-76.57 232.11,-70.24 238.82,-78.92 238.82,-78.92\"/>\r\n<text text-anchor=\"middle\" x=\"215.5\" y=\"-70.8\" font-family=\"Times New Roman,serif\" font-size=\"14.00\">2</text>\r\n</g>\r\n<!-- 6&#45;&gt;4 -->\r\n<g id=\"edge9\" class=\"edge\">\r\n<title>6:&#45;&gt;4:</title>\r\n<path fill=\"none\" stroke=\"black\" d=\"M236.83,-86.7C229.22,-86.53 220.16,-86.3 212,-86 176.87,-84.69 168.07,-84.39 133,-82 130.44,-81.83 127.79,-81.63 125.13,-81.42\"/>\r\n<polygon fill=\"black\" stroke=\"black\" points=\"115.08,-80.58 125.42,-76.93 120.06,-81 125.05,-81.41 125.05,-81.41 125.05,-81.41 120.06,-81 124.67,-85.9 115.08,-80.58 115.08,-80.58\"/>\r\n<text text-anchor=\"middle\" x=\"176\" y=\"-88.8\" font-family=\"Times New Roman,serif\" font-size=\"14.00\">2</text>\r\n</g>\r\n<!-- 7 -->\r\n<g id=\"node6\" class=\"node\">\r\n<title>7</title>\r\n<ellipse fill=\"none\" stroke=\"black\" cx=\"334\" cy=\"-87\" rx=\"18\" ry=\"18\"/>\r\n<text text-anchor=\"middle\" x=\"334\" y=\"-83.3\" font-family=\"Times New Roman,serif\" font-size=\"14.00\">7</text>\r\n</g>\r\n<!-- 6&#45;&gt;7 -->\r\n<g id=\"edge10\" class=\"edge\">\r\n<title>6:&#45;&gt;7:</title>\r\n<path fill=\"none\" stroke=\"black\" d=\"M273.09,-87C282.66,-87 294.82,-87 305.68,-87\"/>\r\n<polygon fill=\"black\" stroke=\"black\" points=\"315.96,-87 305.96,-91.5 310.96,-87 305.96,-87 305.96,-87 305.96,-87 310.96,-87 305.96,-82.5 315.96,-87 315.96,-87\"/>\r\n<text text-anchor=\"middle\" x=\"294.5\" y=\"-90.8\" font-family=\"Times New Roman,serif\" font-size=\"14.00\">1</text>\r\n</g>\r\n<!-- 7&#45;&gt;2 -->\r\n<g id=\"edge11\" class=\"edge\">\r\n<title>7:&#45;&gt;2:</title>\r\n<path fill=\"none\" stroke=\"black\" d=\"M352.09,-87C361.66,-87 373.82,-87 384.68,-87\"/>\r\n<polygon fill=\"black\" stroke=\"black\" points=\"394.96,-87 384.96,-91.5 389.96,-87 384.96,-87 384.96,-87 384.96,-87 389.96,-87 384.96,-82.5 394.96,-87 394.96,-87\"/>\r\n<text text-anchor=\"middle\" x=\"373.5\" y=\"-90.8\" font-family=\"Times New Roman,serif\" font-size=\"14.00\">7</text>\r\n</g>\r\n</g>\r\n</svg>\r\n",
          "text/plain": "<graphviz.dot.Digraph at 0x1a0fa3ec9a0>"
         },
         "metadata": {},
         "output_type": "display_data"
        }
       ]
      }
     },
     "8569b801eac5463cacde39f673214d3b": {
      "model_module": "@jupyter-widgets/controls",
      "model_module_version": "1.5.0",
      "model_name": "ButtonStyleModel",
      "state": {}
     },
     "8761e4cdf55a4c379f881d1f556703ef": {
      "model_module": "@jupyter-widgets/controls",
      "model_module_version": "1.5.0",
      "model_name": "ButtonModel",
      "state": {
       "description": "Prev",
       "layout": "IPY_MODEL_518071c0f9c64bbe99a19e9b33ed99ca",
       "style": "IPY_MODEL_947f2f6d25f34f8ea3809b264aa254f6"
      }
     },
     "885cffe0f8514629aad5aef1c0ffb40a": {
      "model_module": "@jupyter-widgets/controls",
      "model_module_version": "1.5.0",
      "model_name": "HBoxModel",
      "state": {
       "children": [
        "IPY_MODEL_fd9d1fd949ee44cd84f2dc3eb2d6859a",
        "IPY_MODEL_b19246eee4004bdb9d433913cd17b967",
        "IPY_MODEL_89b15d8fd07846c282fdfc42c0e78b32"
       ],
       "layout": "IPY_MODEL_ba41e39ca5fe40e396ca284ec2b50c0e"
      }
     },
     "89b15d8fd07846c282fdfc42c0e78b32": {
      "model_module": "@jupyter-widgets/controls",
      "model_module_version": "1.5.0",
      "model_name": "ButtonModel",
      "state": {
       "description": "Next",
       "layout": "IPY_MODEL_9cc446d9d54242e991b6bf515fdabf7f",
       "style": "IPY_MODEL_3bece3a253f9486c9522351b010644cf"
      }
     },
     "8aa2ff56a49c493e9d6db16670920997": {
      "model_module": "@jupyter-widgets/controls",
      "model_module_version": "1.5.0",
      "model_name": "LinkModel",
      "state": {
       "source": [
        "IPY_MODEL_16671d3cab79434b888261e4b07282ce",
        "value"
       ],
       "target": [
        "IPY_MODEL_821115930ab74673a5ebbf1f0e2ae2ea",
        "value"
       ]
      }
     },
     "8b3def8b6a9d410bbf1361d63658141e": {
      "model_module": "@jupyter-widgets/controls",
      "model_module_version": "1.5.0",
      "model_name": "HBoxModel",
      "state": {
       "children": [
        "IPY_MODEL_d1adbc12c61040c885e1263de432f6e7",
        "IPY_MODEL_a9204cdf1bc846db9a5e30231e1ffade",
        "IPY_MODEL_5d780ac61ce4430bb261d8b6b62a3ebd"
       ],
       "layout": "IPY_MODEL_6cae2a7975714ce1a5e298da70c521c8"
      }
     },
     "8bdeaf86caff413b88216c4fe6205feb": {
      "model_module": "@jupyter-widgets/controls",
      "model_module_version": "1.5.0",
      "model_name": "ButtonStyleModel",
      "state": {}
     },
     "8c58519a8a944956b2ce3c9202881948": {
      "model_module": "@jupyter-widgets/base",
      "model_module_version": "1.2.0",
      "model_name": "LayoutModel",
      "state": {}
     },
     "8d3c7075a0cb4883a9ed0452d6c87139": {
      "model_module": "@jupyter-widgets/controls",
      "model_module_version": "1.5.0",
      "model_name": "SliderStyleModel",
      "state": {
       "description_width": ""
      }
     },
     "8e8daec61f134cfa93bb2c0e62832bc0": {
      "model_module": "@jupyter-widgets/controls",
      "model_module_version": "1.5.0",
      "model_name": "DescriptionStyleModel",
      "state": {
       "description_width": ""
      }
     },
     "8eda70211dcc4bb8910904a437e28ab0": {
      "model_module": "@jupyter-widgets/controls",
      "model_module_version": "1.5.0",
      "model_name": "HBoxModel",
      "state": {
       "children": [
        "IPY_MODEL_e3ffe1cc90954888a4b13d2d76296082",
        "IPY_MODEL_1dd00634c1464235b46105e2374c54d3",
        "IPY_MODEL_a812eca3746143a481cc16f28cbcec9d"
       ],
       "layout": "IPY_MODEL_160bf5f86e3343a5bd0ea1f1129b8b6a"
      }
     },
     "90916c81be4e4c0f99abd2ac4818d3a9": {
      "model_module": "@jupyter-widgets/controls",
      "model_module_version": "1.5.0",
      "model_name": "SliderStyleModel",
      "state": {
       "description_width": ""
      }
     },
     "918dec20da9540d3934016e0398dc16b": {
      "model_module": "@jupyter-widgets/base",
      "model_module_version": "1.2.0",
      "model_name": "LayoutModel",
      "state": {}
     },
     "93af2591f3f04741b8ae53d8b3b0a425": {
      "model_module": "@jupyter-widgets/controls",
      "model_module_version": "1.5.0",
      "model_name": "VBoxModel",
      "state": {
       "_dom_classes": [
        "widget-interact"
       ],
       "children": [
        "IPY_MODEL_821115930ab74673a5ebbf1f0e2ae2ea",
        "IPY_MODEL_e44cc08cf1f741f4bf829057723408f9"
       ],
       "layout": "IPY_MODEL_eabf5425aa314b1a86d4faad5bfcc018"
      }
     },
     "93bbe7ebb8404efcb5da685b09ca5ae8": {
      "model_module": "@jupyter-widgets/base",
      "model_module_version": "1.2.0",
      "model_name": "LayoutModel",
      "state": {}
     },
     "93d75183274d4e4a818d0988478ac40f": {
      "model_module": "@jupyter-widgets/base",
      "model_module_version": "1.2.0",
      "model_name": "LayoutModel",
      "state": {}
     },
     "947f2f6d25f34f8ea3809b264aa254f6": {
      "model_module": "@jupyter-widgets/controls",
      "model_module_version": "1.5.0",
      "model_name": "ButtonStyleModel",
      "state": {}
     },
     "959c8ff2567f4fcb86f86a3a595bb460": {
      "model_module": "@jupyter-widgets/base",
      "model_module_version": "1.2.0",
      "model_name": "LayoutModel",
      "state": {}
     },
     "982f5e5b5a4b499aa1b35d395bf4a228": {
      "model_module": "@jupyter-widgets/controls",
      "model_module_version": "1.5.0",
      "model_name": "IntSliderModel",
      "state": {
       "description": "step",
       "layout": "IPY_MODEL_b4ee2954494e4e8c8b7cade6a5a94f4d",
       "max": 15,
       "style": "IPY_MODEL_4eb0fb1ad8584deab1b23547e3279e9b"
      }
     },
     "990f963c15624bab9b7ad051a004b8ba": {
      "model_module": "@jupyter-widgets/controls",
      "model_module_version": "1.5.0",
      "model_name": "SliderStyleModel",
      "state": {
       "description_width": ""
      }
     },
     "9914ed1c5a2b4809bed843b97dbf524a": {
      "model_module": "@jupyter-widgets/controls",
      "model_module_version": "1.5.0",
      "model_name": "ButtonStyleModel",
      "state": {}
     },
     "995fc0af45bb4faf80d3ff7a5d7c910e": {
      "model_module": "@jupyter-widgets/controls",
      "model_module_version": "1.5.0",
      "model_name": "DescriptionStyleModel",
      "state": {
       "description_width": ""
      }
     },
     "99ee546bb545489d885cdb33247d1992": {
      "model_module": "@jupyter-widgets/base",
      "model_module_version": "1.2.0",
      "model_name": "LayoutModel",
      "state": {}
     },
     "99fdf8e2538b45b8bb7fe2d82129324b": {
      "model_module": "@jupyter-widgets/controls",
      "model_module_version": "1.5.0",
      "model_name": "ButtonModel",
      "state": {
       "description": "Prev",
       "layout": "IPY_MODEL_f9417692f39c452ca33c038c40d63585",
       "style": "IPY_MODEL_4a60764a1ac346549dcbf4abdf163205"
      }
     },
     "9cc446d9d54242e991b6bf515fdabf7f": {
      "model_module": "@jupyter-widgets/base",
      "model_module_version": "1.2.0",
      "model_name": "LayoutModel",
      "state": {}
     },
     "9cfebfe5e6aa44a7b0d73eacac0174a2": {
      "model_module": "@jupyter-widgets/controls",
      "model_module_version": "1.5.0",
      "model_name": "ButtonModel",
      "state": {
       "description": "Prev",
       "layout": "IPY_MODEL_33a44f6d9f2749a0baa4c038b56fb10e",
       "style": "IPY_MODEL_0e8572ead92b4ecc9f7bf2e1a799d3c2"
      }
     },
     "9dcc56b123c0432db3c594069724730b": {
      "model_module": "@jupyter-widgets/controls",
      "model_module_version": "1.5.0",
      "model_name": "IntSliderModel",
      "state": {
       "description": "step",
       "layout": "IPY_MODEL_6df618070f724ec48cf80a842aa11f5f",
       "max": 49,
       "style": "IPY_MODEL_990f963c15624bab9b7ad051a004b8ba"
      }
     },
     "9dfbd7e8d61a4c849b70772d7e019673": {
      "model_module": "@jupyter-widgets/controls",
      "model_module_version": "1.5.0",
      "model_name": "SliderStyleModel",
      "state": {
       "description_width": ""
      }
     },
     "9e9a7534a54f42469ea3c6bd2f2bf1ad": {
      "model_module": "@jupyter-widgets/base",
      "model_module_version": "1.2.0",
      "model_name": "LayoutModel",
      "state": {}
     },
     "a0339aac51774bd086a3c5609f266ec0": {
      "model_module": "@jupyter-widgets/base",
      "model_module_version": "1.2.0",
      "model_name": "LayoutModel",
      "state": {}
     },
     "a10d3c2f5856458e8244f9f996bd6135": {
      "model_module": "@jupyter-widgets/base",
      "model_module_version": "1.2.0",
      "model_name": "LayoutModel",
      "state": {}
     },
     "a24eb1460b3547c9b1dbaaaf022cf50d": {
      "model_module": "@jupyter-widgets/output",
      "model_module_version": "1.0.0",
      "model_name": "OutputModel",
      "state": {
       "layout": "IPY_MODEL_32fa9502044e462aa21b07d1f2aa853c",
       "outputs": [
        {
         "data": {
          "image/png": "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\n",
          "text/plain": "<Figure size 432x432 with 1 Axes>"
         },
         "metadata": {},
         "output_type": "display_data"
        }
       ]
      }
     },
     "a2b9161ec146470a8e399f8720bf3ba6": {
      "model_module": "@jupyter-widgets/controls",
      "model_module_version": "1.5.0",
      "model_name": "SliderStyleModel",
      "state": {
       "description_width": ""
      }
     },
     "a41cceea6815418e9a4f6c21dcb0a2f5": {
      "model_module": "@jupyter-widgets/controls",
      "model_module_version": "1.5.0",
      "model_name": "LinkModel",
      "state": {
       "source": [
        "IPY_MODEL_0f655b4f85cf4d159a3d3f052f2820e1",
        "value"
       ],
       "target": [
        "IPY_MODEL_842ff71765894442a1ef94e68286ea5b",
        "value"
       ]
      }
     },
     "a42d840e419f4fcea924c3436b2be52a": {
      "model_module": "@jupyter-widgets/controls",
      "model_module_version": "1.5.0",
      "model_name": "HBoxModel",
      "state": {
       "children": [
        "IPY_MODEL_289ebd36f7bd4c509041e77a2d2a3490",
        "IPY_MODEL_d91148b24d574927a959cb753ea3cc30",
        "IPY_MODEL_e6685f991920480681b79bee984de05d"
       ],
       "layout": "IPY_MODEL_2f71e1c715914b989cc19fda16e94c6a"
      }
     },
     "a55663d3390c4964a6a4613d2e68ce35": {
      "model_module": "@jupyter-widgets/controls",
      "model_module_version": "1.5.0",
      "model_name": "LinkModel",
      "state": {
       "source": [
        "IPY_MODEL_e7a177a32702432b8a0648d405751f9b",
        "value"
       ],
       "target": [
        "IPY_MODEL_4de6e4a7910f4a858ccf72d1a10700bc",
        "value"
       ]
      }
     },
     "a6236c45e289475ea72a859a6aff1ec8": {
      "model_module": "@jupyter-widgets/controls",
      "model_module_version": "1.5.0",
      "model_name": "DescriptionStyleModel",
      "state": {
       "description_width": ""
      }
     },
     "a79b4c14ea364684933429d9d64c7c2a": {
      "model_module": "@jupyter-widgets/base",
      "model_module_version": "1.2.0",
      "model_name": "LayoutModel",
      "state": {}
     },
     "a812eca3746143a481cc16f28cbcec9d": {
      "model_module": "@jupyter-widgets/controls",
      "model_module_version": "1.5.0",
      "model_name": "ButtonModel",
      "state": {
       "description": "Next",
       "layout": "IPY_MODEL_5915189319ce43ffbf4e5511ccbd3d59",
       "style": "IPY_MODEL_61b6975bf4614bf28db6512d14f5f8b1"
      }
     },
     "a863f6bcd911406e966b50baa0f6a6bd": {
      "model_module": "@jupyter-widgets/base",
      "model_module_version": "1.2.0",
      "model_name": "LayoutModel",
      "state": {}
     },
     "a90f653185e84d13bf5a4c1f1d413176": {
      "model_module": "@jupyter-widgets/base",
      "model_module_version": "1.2.0",
      "model_name": "LayoutModel",
      "state": {}
     },
     "a9204cdf1bc846db9a5e30231e1ffade": {
      "model_module": "@jupyter-widgets/controls",
      "model_module_version": "1.5.0",
      "model_name": "ButtonModel",
      "state": {
       "description": "Prev",
       "layout": "IPY_MODEL_69301a26280d45029565f15457ced086",
       "style": "IPY_MODEL_8569b801eac5463cacde39f673214d3b"
      }
     },
     "aa26f7c87e934e0cb6633368efb9b335": {
      "model_module": "@jupyter-widgets/controls",
      "model_module_version": "1.5.0",
      "model_name": "ButtonStyleModel",
      "state": {}
     },
     "aba0517767cc4b1bbdf1787474bdfc66": {
      "model_module": "@jupyter-widgets/controls",
      "model_module_version": "1.5.0",
      "model_name": "ButtonModel",
      "state": {
       "description": "Prev",
       "layout": "IPY_MODEL_781d761213fe4586803dd17e870e8636",
       "style": "IPY_MODEL_9914ed1c5a2b4809bed843b97dbf524a"
      }
     },
     "acf480577941462582b692eab062483b": {
      "model_module": "@jupyter-widgets/controls",
      "model_module_version": "1.5.0",
      "model_name": "LinkModel",
      "state": {
       "source": [
        "IPY_MODEL_fcd62a4d9c5447af975238ce950aefa5",
        "value"
       ],
       "target": [
        "IPY_MODEL_e70089e59d9543b5a94f8d97e06ad43e",
        "value"
       ]
      }
     },
     "ad249795cdff47028cc9b1bc334dbefa": {
      "model_module": "@jupyter-widgets/base",
      "model_module_version": "1.2.0",
      "model_name": "LayoutModel",
      "state": {}
     },
     "ae904e7634a741a0b36252c2ed142ea4": {
      "model_module": "@jupyter-widgets/controls",
      "model_module_version": "1.5.0",
      "model_name": "ButtonStyleModel",
      "state": {}
     },
     "b19246eee4004bdb9d433913cd17b967": {
      "model_module": "@jupyter-widgets/controls",
      "model_module_version": "1.5.0",
      "model_name": "ButtonModel",
      "state": {
       "description": "Prev",
       "layout": "IPY_MODEL_532d9d7da3ad491894f45bdb59ac855d",
       "style": "IPY_MODEL_8bdeaf86caff413b88216c4fe6205feb"
      }
     },
     "b1d9e601bb4643e49985cdc5d03b37ce": {
      "model_module": "@jupyter-widgets/controls",
      "model_module_version": "1.5.0",
      "model_name": "ButtonStyleModel",
      "state": {}
     },
     "b43b577b851b4de1b27e506055a92c07": {
      "model_module": "@jupyter-widgets/base",
      "model_module_version": "1.2.0",
      "model_name": "LayoutModel",
      "state": {}
     },
     "b4a07f504ec74f25bf488682d9912022": {
      "model_module": "@jupyter-widgets/output",
      "model_module_version": "1.0.0",
      "model_name": "OutputModel",
      "state": {
       "layout": "IPY_MODEL_532bb67ec7c54c42b1fa585e009a3db9",
       "outputs": [
        {
         "data": {
          "image/png": "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\n",
          "text/plain": "<Figure size 504x504 with 1 Axes>"
         },
         "metadata": {},
         "output_type": "display_data"
        }
       ]
      }
     },
     "b4ee2954494e4e8c8b7cade6a5a94f4d": {
      "model_module": "@jupyter-widgets/base",
      "model_module_version": "1.2.0",
      "model_name": "LayoutModel",
      "state": {}
     },
     "b9259cd97ce24ea78cfa6e63ab5691fc": {
      "model_module": "@jupyter-widgets/controls",
      "model_module_version": "1.5.0",
      "model_name": "IntSliderModel",
      "state": {
       "description": "step",
       "layout": "IPY_MODEL_ee92d267abf24b32b4ba50705380c9ae",
       "max": 3,
       "style": "IPY_MODEL_78079f95a9034b85bf23c0d731349739"
      }
     },
     "b966200ccca64fd68f2de7ceb815d6c7": {
      "model_module": "@jupyter-widgets/controls",
      "model_module_version": "1.5.0",
      "model_name": "ButtonStyleModel",
      "state": {}
     },
     "b969faa0757c4b7dbdafc8931275d0f3": {
      "model_module": "@jupyter-widgets/controls",
      "model_module_version": "1.5.0",
      "model_name": "ButtonStyleModel",
      "state": {}
     },
     "ba41e39ca5fe40e396ca284ec2b50c0e": {
      "model_module": "@jupyter-widgets/base",
      "model_module_version": "1.2.0",
      "model_name": "LayoutModel",
      "state": {}
     },
     "bba96189e4f44401b805b97c3430728c": {
      "model_module": "@jupyter-widgets/base",
      "model_module_version": "1.2.0",
      "model_name": "LayoutModel",
      "state": {}
     },
     "bc34865eb76f41d78fd76309465d174c": {
      "model_module": "@jupyter-widgets/base",
      "model_module_version": "1.2.0",
      "model_name": "LayoutModel",
      "state": {}
     },
     "bcb1dc786ba940d590bd633808faa5a4": {
      "model_module": "@jupyter-widgets/base",
      "model_module_version": "1.2.0",
      "model_name": "LayoutModel",
      "state": {}
     },
     "c1637f06bb83447b853bbc12d6a3594d": {
      "model_module": "@jupyter-widgets/controls",
      "model_module_version": "1.5.0",
      "model_name": "ButtonModel",
      "state": {
       "description": "Prev",
       "layout": "IPY_MODEL_93bbe7ebb8404efcb5da685b09ca5ae8",
       "style": "IPY_MODEL_e38c89ddd67340f8a8b23828a199cc14"
      }
     },
     "c1c83338996842b8a6f27087ff626b2b": {
      "model_module": "@jupyter-widgets/base",
      "model_module_version": "1.2.0",
      "model_name": "LayoutModel",
      "state": {}
     },
     "c2cdeeb89e92475e92eebbeb2192e3bc": {
      "model_module": "@jupyter-widgets/base",
      "model_module_version": "1.2.0",
      "model_name": "LayoutModel",
      "state": {}
     },
     "c3e5e12b29eb4585a81d53ff09fe5e4e": {
      "model_module": "@jupyter-widgets/controls",
      "model_module_version": "1.5.0",
      "model_name": "LinkModel",
      "state": {
       "source": [
        "IPY_MODEL_e3ffe1cc90954888a4b13d2d76296082",
        "value"
       ],
       "target": [
        "IPY_MODEL_51e4b603e7854299bde3c08d1754e20b",
        "value"
       ]
      }
     },
     "c43279a4f81d4ac1830da7ded9fb979f": {
      "model_module": "@jupyter-widgets/base",
      "model_module_version": "1.2.0",
      "model_name": "LayoutModel",
      "state": {}
     },
     "c452ae07cc4343cab648d3164120b87e": {
      "model_module": "@jupyter-widgets/base",
      "model_module_version": "1.2.0",
      "model_name": "LayoutModel",
      "state": {}
     },
     "c4e8453f62a94c63b7a23a442117fd94": {
      "model_module": "@jupyter-widgets/controls",
      "model_module_version": "1.5.0",
      "model_name": "DescriptionStyleModel",
      "state": {
       "description_width": ""
      }
     },
     "c54011949f1244f1931717dcd4ae9f2c": {
      "model_module": "@jupyter-widgets/base",
      "model_module_version": "1.2.0",
      "model_name": "LayoutModel",
      "state": {}
     },
     "c54ac193c6a64afba3a2465ff7956d99": {
      "model_module": "@jupyter-widgets/controls",
      "model_module_version": "1.5.0",
      "model_name": "SliderStyleModel",
      "state": {
       "description_width": ""
      }
     },
     "c715bc1c1ff5401696bba5d84387b046": {
      "model_module": "@jupyter-widgets/controls",
      "model_module_version": "1.5.0",
      "model_name": "ButtonModel",
      "state": {
       "description": "Next",
       "layout": "IPY_MODEL_7ba9be76c6bc4746ad87f35e7c6b4fb0",
       "style": "IPY_MODEL_30e5a35b0e4d498c8bbb5cb289ee1112"
      }
     },
     "cbed0b9dae6c4ed7a73279457dcad695": {
      "model_module": "@jupyter-widgets/base",
      "model_module_version": "1.2.0",
      "model_name": "LayoutModel",
      "state": {}
     },
     "ce8947f544424abb88013579acc72c2f": {
      "model_module": "@jupyter-widgets/base",
      "model_module_version": "1.2.0",
      "model_name": "LayoutModel",
      "state": {}
     },
     "d05c68e484ef4c758178803cb976bb8c": {
      "model_module": "@jupyter-widgets/base",
      "model_module_version": "1.2.0",
      "model_name": "LayoutModel",
      "state": {}
     },
     "d15e88a14fc14e18944953772073fb16": {
      "model_module": "@jupyter-widgets/base",
      "model_module_version": "1.2.0",
      "model_name": "LayoutModel",
      "state": {}
     },
     "d1adbc12c61040c885e1263de432f6e7": {
      "model_module": "@jupyter-widgets/controls",
      "model_module_version": "1.5.0",
      "model_name": "PlayModel",
      "state": {
       "interval": 400,
       "layout": "IPY_MODEL_d4b20654977b403693eb2c651e65a07c",
       "style": "IPY_MODEL_e1987b951b1c4ab89e41356242475524"
      }
     },
     "d481069f55d0412f98aa63fd6d656b1b": {
      "model_module": "@jupyter-widgets/controls",
      "model_module_version": "1.5.0",
      "model_name": "ButtonModel",
      "state": {
       "description": "Next",
       "layout": "IPY_MODEL_52c5ff046b064311a9714da1a8f60f45",
       "style": "IPY_MODEL_aa26f7c87e934e0cb6633368efb9b335"
      }
     },
     "d4b20654977b403693eb2c651e65a07c": {
      "model_module": "@jupyter-widgets/base",
      "model_module_version": "1.2.0",
      "model_name": "LayoutModel",
      "state": {}
     },
     "d58ff5ffaf564a578db453dbab931c67": {
      "model_module": "@jupyter-widgets/controls",
      "model_module_version": "1.5.0",
      "model_name": "DescriptionStyleModel",
      "state": {
       "description_width": ""
      }
     },
     "d613d0bbbb7f4343b9ceea55aad67416": {
      "model_module": "@jupyter-widgets/controls",
      "model_module_version": "1.5.0",
      "model_name": "PlayModel",
      "state": {
       "interval": 400,
       "layout": "IPY_MODEL_13aac70c07204d7e920969fdded48a4e",
       "style": "IPY_MODEL_5accf40212ba41e8bd9d11d162b2ff44"
      }
     },
     "d6e464d422bf4f15b98bb2ecd626ded2": {
      "model_module": "@jupyter-widgets/controls",
      "model_module_version": "1.5.0",
      "model_name": "HBoxModel",
      "state": {
       "children": [
        "IPY_MODEL_fcd62a4d9c5447af975238ce950aefa5",
        "IPY_MODEL_48e9bff7e70b4af9a071bf817d3d1270",
        "IPY_MODEL_23020676d46248159bd88e19c60a20db"
       ],
       "layout": "IPY_MODEL_55916e5079a94e72b6d9460fe10efd9b"
      }
     },
     "d729ebcb264745de8863d69f781ade80": {
      "model_module": "@jupyter-widgets/output",
      "model_module_version": "1.0.0",
      "model_name": "OutputModel",
      "state": {
       "layout": "IPY_MODEL_c1c83338996842b8a6f27087ff626b2b",
       "outputs": [
        {
         "data": {
          "image/svg+xml": "<?xml version=\"1.0\" encoding=\"UTF-8\" standalone=\"no\"?>\r\n<!DOCTYPE svg PUBLIC \"-//W3C//DTD SVG 1.1//EN\"\r\n \"http://www.w3.org/Graphics/SVG/1.1/DTD/svg11.dtd\">\r\n<!-- Generated by graphviz version 2.44.2~dev.20200826.1453 (20200826.1453)\r\n -->\r\n<!-- Pages: 1 -->\r\n<svg width=\"8pt\" height=\"8pt\"\r\n viewBox=\"0.00 0.00 8.00 8.00\" xmlns=\"http://www.w3.org/2000/svg\" xmlns:xlink=\"http://www.w3.org/1999/xlink\">\r\n<g id=\"graph0\" class=\"graph\" transform=\"scale(1 1) rotate(0) translate(4 4)\">\r\n<polygon fill=\"white\" stroke=\"transparent\" points=\"-4,4 -4,-4 4,-4 4,4 -4,4\"/>\r\n</g>\r\n</svg>\r\n",
          "text/plain": "<graphviz.dot.Digraph at 0x1a0fa3ecca0>"
         },
         "metadata": {},
         "output_type": "display_data"
        }
       ]
      }
     },
     "d7ce3602350445ccaebfba7d8eae7d2d": {
      "model_module": "@jupyter-widgets/controls",
      "model_module_version": "1.5.0",
      "model_name": "LinkModel",
      "state": {
       "source": [
        "IPY_MODEL_e3240237fb654ae7bebde78a7df0fe8d",
        "value"
       ],
       "target": [
        "IPY_MODEL_3fe413a61e044a22af00fa884cd65d33",
        "value"
       ]
      }
     },
     "d83e0900bcf4410bb9e0950b2dac9afd": {
      "model_module": "@jupyter-widgets/base",
      "model_module_version": "1.2.0",
      "model_name": "LayoutModel",
      "state": {}
     },
     "d857c5681fbe47499c937f7277327673": {
      "model_module": "@jupyter-widgets/base",
      "model_module_version": "1.2.0",
      "model_name": "LayoutModel",
      "state": {}
     },
     "d91148b24d574927a959cb753ea3cc30": {
      "model_module": "@jupyter-widgets/controls",
      "model_module_version": "1.5.0",
      "model_name": "ButtonModel",
      "state": {
       "description": "Prev",
       "layout": "IPY_MODEL_1c6f01d3f3e14abd9f3bfbd0925ddb57",
       "style": "IPY_MODEL_40e4defa58b34973ad115a0fcd88352a"
      }
     },
     "daf1e1e8267f4e9aa59d474e1de24759": {
      "model_module": "@jupyter-widgets/base",
      "model_module_version": "1.2.0",
      "model_name": "LayoutModel",
      "state": {}
     },
     "db6a2b557c344eddbb5529bb36825a16": {
      "model_module": "@jupyter-widgets/controls",
      "model_module_version": "1.5.0",
      "model_name": "PlayModel",
      "state": {
       "interval": 400,
       "layout": "IPY_MODEL_68dee06bd0df495fa1e354caf303e833",
       "style": "IPY_MODEL_c4e8453f62a94c63b7a23a442117fd94"
      }
     },
     "e1987b951b1c4ab89e41356242475524": {
      "model_module": "@jupyter-widgets/controls",
      "model_module_version": "1.5.0",
      "model_name": "DescriptionStyleModel",
      "state": {
       "description_width": ""
      }
     },
     "e3240237fb654ae7bebde78a7df0fe8d": {
      "model_module": "@jupyter-widgets/controls",
      "model_module_version": "1.5.0",
      "model_name": "PlayModel",
      "state": {
       "interval": 400,
       "layout": "IPY_MODEL_4e127937e83e47c1a8cadad4902d1824",
       "style": "IPY_MODEL_2b9b8e66e01e453b942aac4d933ed969"
      }
     },
     "e38c89ddd67340f8a8b23828a199cc14": {
      "model_module": "@jupyter-widgets/controls",
      "model_module_version": "1.5.0",
      "model_name": "ButtonStyleModel",
      "state": {}
     },
     "e3ffe1cc90954888a4b13d2d76296082": {
      "model_module": "@jupyter-widgets/controls",
      "model_module_version": "1.5.0",
      "model_name": "PlayModel",
      "state": {
       "interval": 500,
       "layout": "IPY_MODEL_fe7140c947474b2ebb1cc0039d2c906c",
       "style": "IPY_MODEL_995fc0af45bb4faf80d3ff7a5d7c910e"
      }
     },
     "e43b9aed8aca446f90c8e44b365db793": {
      "model_module": "@jupyter-widgets/controls",
      "model_module_version": "1.5.0",
      "model_name": "LinkModel",
      "state": {
       "source": [
        "IPY_MODEL_fd9d1fd949ee44cd84f2dc3eb2d6859a",
        "value"
       ],
       "target": [
        "IPY_MODEL_9dcc56b123c0432db3c594069724730b",
        "value"
       ]
      }
     },
     "e44cc08cf1f741f4bf829057723408f9": {
      "model_module": "@jupyter-widgets/output",
      "model_module_version": "1.0.0",
      "model_name": "OutputModel",
      "state": {
       "layout": "IPY_MODEL_c54011949f1244f1931717dcd4ae9f2c",
       "outputs": [
        {
         "data": {
          "image/svg+xml": "<?xml version=\"1.0\" encoding=\"UTF-8\" standalone=\"no\"?>\r\n<!DOCTYPE svg PUBLIC \"-//W3C//DTD SVG 1.1//EN\"\r\n \"http://www.w3.org/Graphics/SVG/1.1/DTD/svg11.dtd\">\r\n<!-- Generated by graphviz version 2.44.2~dev.20200826.1453 (20200826.1453)\r\n -->\r\n<!-- Pages: 1 -->\r\n<svg width=\"534pt\" height=\"213pt\"\r\n viewBox=\"0.00 0.00 533.67 212.65\" xmlns=\"http://www.w3.org/2000/svg\" xmlns:xlink=\"http://www.w3.org/1999/xlink\">\r\n<g id=\"graph0\" class=\"graph\" transform=\"scale(1 1) rotate(0) translate(4 208.65)\">\r\n<polygon fill=\"white\" stroke=\"transparent\" points=\"-4,4 -4,-208.65 529.67,-208.65 529.67,4 -4,4\"/>\r\n<!-- 1 -->\r\n<g id=\"node1\" class=\"node\">\r\n<title>1</title>\r\n<ellipse fill=\"none\" stroke=\"blue\" cx=\"22.1\" cy=\"-102\" rx=\"22.2\" ry=\"22.2\"/>\r\n<text text-anchor=\"middle\" x=\"22.1\" y=\"-98.3\" font-family=\"Times New Roman,serif\" font-size=\"14.00\">1/0</text>\r\n</g>\r\n<!-- 3 -->\r\n<g id=\"node2\" class=\"node\">\r\n<title>3</title>\r\n<ellipse fill=\"none\" stroke=\"black\" cx=\"210.14\" cy=\"-178\" rx=\"26.8\" ry=\"26.8\"/>\r\n<text text-anchor=\"middle\" x=\"210.14\" y=\"-174.3\" font-family=\"Times New Roman,serif\" font-size=\"14.00\">3/inf</text>\r\n</g>\r\n<!-- 1&#45;&gt;3 -->\r\n<g id=\"edge1\" class=\"edge\">\r\n<title>1:&#45;&gt;3:</title>\r\n<path fill=\"none\" stroke=\"black\" d=\"M41.12,-113.38C53.71,-121 71.07,-130.91 87.2,-138 115.7,-150.54 149.42,-161.3 174.17,-168.5\"/>\r\n<polygon fill=\"black\" stroke=\"black\" points=\"183.85,-171.27 173,-172.85 179.04,-169.89 174.24,-168.52 174.24,-168.52 174.24,-168.52 179.04,-169.89 175.47,-164.19 183.85,-171.27 183.85,-171.27\"/>\r\n<text text-anchor=\"middle\" x=\"113.84\" y=\"-160.8\" font-family=\"Times New Roman,serif\" font-size=\"14.00\">3</text>\r\n</g>\r\n<!-- 4 -->\r\n<g id=\"node3\" class=\"node\">\r\n<title>4</title>\r\n<ellipse fill=\"none\" stroke=\"black\" cx=\"113.84\" cy=\"-102\" rx=\"26.8\" ry=\"26.8\"/>\r\n<text text-anchor=\"middle\" x=\"113.84\" y=\"-98.3\" font-family=\"Times New Roman,serif\" font-size=\"14.00\">4/inf</text>\r\n</g>\r\n<!-- 1&#45;&gt;4 -->\r\n<g id=\"edge2\" class=\"edge\">\r\n<title>1:&#45;&gt;4:</title>\r\n<path fill=\"none\" stroke=\"black\" d=\"M44.37,-102C54.03,-102 65.73,-102 76.71,-102\"/>\r\n<polygon fill=\"black\" stroke=\"black\" points=\"86.93,-102 76.93,-106.5 81.93,-102 76.93,-102 76.93,-102 76.93,-102 81.93,-102 76.93,-97.5 86.93,-102 86.93,-102\"/>\r\n<text text-anchor=\"middle\" x=\"65.7\" y=\"-105.8\" font-family=\"Times New Roman,serif\" font-size=\"14.00\">7</text>\r\n</g>\r\n<!-- 5 -->\r\n<g id=\"node4\" class=\"node\">\r\n<title>5</title>\r\n<ellipse fill=\"none\" stroke=\"black\" cx=\"210.14\" cy=\"-55\" rx=\"26.8\" ry=\"26.8\"/>\r\n<text text-anchor=\"middle\" x=\"210.14\" y=\"-51.3\" font-family=\"Times New Roman,serif\" font-size=\"14.00\">5/inf</text>\r\n</g>\r\n<!-- 1&#45;&gt;5 -->\r\n<g id=\"edge3\" class=\"edge\">\r\n<title>1:&#45;&gt;5:</title>\r\n<path fill=\"none\" stroke=\"black\" d=\"M37.57,-85.64C49.5,-73.47 67.59,-57.85 87.2,-51 115.19,-41.22 149.04,-43.33 173.96,-47.26\"/>\r\n<polygon fill=\"black\" stroke=\"black\" points=\"184.05,-49.02 173.43,-51.73 179.13,-48.16 174.2,-47.3 174.2,-47.3 174.2,-47.3 179.13,-48.16 174.98,-42.87 184.05,-49.02 184.05,-49.02\"/>\r\n<text text-anchor=\"middle\" x=\"113.84\" y=\"-54.8\" font-family=\"Times New Roman,serif\" font-size=\"14.00\">2</text>\r\n</g>\r\n<!-- 2 -->\r\n<g id=\"node7\" class=\"node\">\r\n<title>2</title>\r\n<ellipse fill=\"none\" stroke=\"black\" cx=\"499.02\" cy=\"-82\" rx=\"26.8\" ry=\"26.8\"/>\r\n<text text-anchor=\"middle\" x=\"499.02\" y=\"-78.3\" font-family=\"Times New Roman,serif\" font-size=\"14.00\">2/inf</text>\r\n</g>\r\n<!-- 3&#45;&gt;2 -->\r\n<g id=\"edge4\" class=\"edge\">\r\n<title>3:&#45;&gt;2:</title>\r\n<path fill=\"none\" stroke=\"black\" d=\"M236.58,-172.87C277.9,-164.13 361.75,-144.67 429.38,-118 442.02,-113.01 455.37,-106.36 466.91,-100.13\"/>\r\n<polygon fill=\"black\" stroke=\"black\" points=\"475.72,-95.26 469.14,-104.03 471.34,-97.68 466.97,-100.09 466.97,-100.09 466.97,-100.09 471.34,-97.68 464.79,-96.16 475.72,-95.26 475.72,-95.26\"/>\r\n<text text-anchor=\"middle\" x=\"354.58\" y=\"-146.8\" font-family=\"Times New Roman,serif\" font-size=\"14.00\">5</text>\r\n</g>\r\n<!-- 4&#45;&gt;3 -->\r\n<g id=\"edge5\" class=\"edge\">\r\n<title>4:&#45;&gt;3:</title>\r\n<path fill=\"none\" stroke=\"black\" d=\"M135.3,-118.49C148.65,-129.25 166.25,-143.43 180.92,-155.25\"/>\r\n<polygon fill=\"black\" stroke=\"black\" points=\"188.72,-161.54 178.11,-158.77 184.83,-158.4 180.93,-155.27 180.93,-155.27 180.93,-155.27 184.83,-158.4 183.76,-151.76 188.72,-161.54 188.72,-161.54\"/>\r\n<text text-anchor=\"middle\" x=\"161.99\" y=\"-145.8\" font-family=\"Times New Roman,serif\" font-size=\"14.00\">2</text>\r\n</g>\r\n<!-- 4&#45;&gt;5 -->\r\n<g id=\"edge6\" class=\"edge\">\r\n<title>4:&#45;&gt;5:</title>\r\n<path fill=\"none\" stroke=\"black\" d=\"M138.15,-90.38C149.71,-84.62 163.87,-77.56 176.49,-71.27\"/>\r\n<polygon fill=\"black\" stroke=\"black\" points=\"185.77,-66.65 178.83,-75.14 181.3,-68.88 176.82,-71.11 176.82,-71.11 176.82,-71.11 181.3,-68.88 174.81,-67.08 185.77,-66.65 185.77,-66.65\"/>\r\n<text text-anchor=\"middle\" x=\"161.99\" y=\"-82.8\" font-family=\"Times New Roman,serif\" font-size=\"14.00\">3</text>\r\n</g>\r\n<!-- 4&#45;&gt;2 -->\r\n<g id=\"edge7\" class=\"edge\">\r\n<title>4:&#45;&gt;2:</title>\r\n<path fill=\"none\" stroke=\"black\" d=\"M131.25,-81.64C149.68,-58.87 177.76,-24.44 183.49,-19 193.79,-9.24 194.95,0 209.14,0 209.14,0 209.14,0 403.73,0 436,0 462.6,-27.68 479.23,-50.88\"/>\r\n<polygon fill=\"black\" stroke=\"black\" points=\"484.9,-59.16 475.53,-53.45 482.07,-55.03 479.25,-50.91 479.25,-50.91 479.25,-50.91 482.07,-55.03 482.96,-48.36 484.9,-59.16 484.9,-59.16\"/>\r\n<text text-anchor=\"middle\" x=\"306.43\" y=\"-3.8\" font-family=\"Times New Roman,serif\" font-size=\"14.00\">2</text>\r\n</g>\r\n<!-- 6 -->\r\n<g id=\"node5\" class=\"node\">\r\n<title>6</title>\r\n<ellipse fill=\"none\" stroke=\"black\" cx=\"306.43\" cy=\"-82\" rx=\"26.8\" ry=\"26.8\"/>\r\n<text text-anchor=\"middle\" x=\"306.43\" y=\"-78.3\" font-family=\"Times New Roman,serif\" font-size=\"14.00\">6/inf</text>\r\n</g>\r\n<!-- 5&#45;&gt;6 -->\r\n<g id=\"edge8\" class=\"edge\">\r\n<title>5:&#45;&gt;6:</title>\r\n<path fill=\"none\" stroke=\"black\" d=\"M235.91,-62.09C246.55,-65.14 259.16,-68.75 270.71,-72.06\"/>\r\n<polygon fill=\"black\" stroke=\"black\" points=\"280.5,-74.86 269.64,-76.43 275.69,-73.48 270.88,-72.11 270.88,-72.11 270.88,-72.11 275.69,-73.48 272.12,-67.78 280.5,-74.86 280.5,-74.86\"/>\r\n<text text-anchor=\"middle\" x=\"258.29\" y=\"-72.8\" font-family=\"Times New Roman,serif\" font-size=\"14.00\">2</text>\r\n</g>\r\n<!-- 6&#45;&gt;4 -->\r\n<g id=\"edge9\" class=\"edge\">\r\n<title>6:&#45;&gt;4:</title>\r\n<path fill=\"none\" stroke=\"black\" d=\"M279.59,-85.63C273.74,-86.43 267.55,-87.26 261.79,-88 224.1,-92.85 180.77,-96.78 150.98,-99.23\"/>\r\n<polygon fill=\"black\" stroke=\"black\" points=\"140.65,-100.06 150.25,-94.77 145.63,-99.66 150.62,-99.26 150.62,-99.26 150.62,-99.26 145.63,-99.66 150.98,-103.74 140.65,-100.06 140.65,-100.06\"/>\r\n<text text-anchor=\"middle\" x=\"210.14\" y=\"-99.8\" font-family=\"Times New Roman,serif\" font-size=\"14.00\">2</text>\r\n</g>\r\n<!-- 7 -->\r\n<g id=\"node6\" class=\"node\">\r\n<title>7</title>\r\n<ellipse fill=\"none\" stroke=\"black\" cx=\"402.73\" cy=\"-82\" rx=\"26.8\" ry=\"26.8\"/>\r\n<text text-anchor=\"middle\" x=\"402.73\" y=\"-78.3\" font-family=\"Times New Roman,serif\" font-size=\"14.00\">7/inf</text>\r\n</g>\r\n<!-- 6&#45;&gt;7 -->\r\n<g id=\"edge10\" class=\"edge\">\r\n<title>6:&#45;&gt;7:</title>\r\n<path fill=\"none\" stroke=\"black\" d=\"M333.2,-82C343.28,-82 355.02,-82 365.9,-82\"/>\r\n<polygon fill=\"black\" stroke=\"black\" points=\"375.99,-82 365.99,-86.5 370.99,-82 365.99,-82 365.99,-82 365.99,-82 370.99,-82 365.99,-77.5 375.99,-82 375.99,-82\"/>\r\n<text text-anchor=\"middle\" x=\"354.58\" y=\"-85.8\" font-family=\"Times New Roman,serif\" font-size=\"14.00\">1</text>\r\n</g>\r\n<!-- 7&#45;&gt;2 -->\r\n<g id=\"edge11\" class=\"edge\">\r\n<title>7:&#45;&gt;2:</title>\r\n<path fill=\"none\" stroke=\"black\" d=\"M429.5,-82C439.58,-82 451.32,-82 462.2,-82\"/>\r\n<polygon fill=\"black\" stroke=\"black\" points=\"472.29,-82 462.29,-86.5 467.29,-82 462.29,-82 462.29,-82 462.29,-82 467.29,-82 462.29,-77.5 472.29,-82 472.29,-82\"/>\r\n<text text-anchor=\"middle\" x=\"450.88\" y=\"-85.8\" font-family=\"Times New Roman,serif\" font-size=\"14.00\">7</text>\r\n</g>\r\n</g>\r\n</svg>\r\n",
          "text/plain": "<graphviz.dot.Digraph at 0x1a0fa3ecd90>"
         },
         "metadata": {},
         "output_type": "display_data"
        }
       ]
      }
     },
     "e6685f991920480681b79bee984de05d": {
      "model_module": "@jupyter-widgets/controls",
      "model_module_version": "1.5.0",
      "model_name": "ButtonModel",
      "state": {
       "description": "Next",
       "layout": "IPY_MODEL_679870e6170a4cbabebe297e5bbab708",
       "style": "IPY_MODEL_b966200ccca64fd68f2de7ceb815d6c7"
      }
     },
     "e70089e59d9543b5a94f8d97e06ad43e": {
      "model_module": "@jupyter-widgets/controls",
      "model_module_version": "1.5.0",
      "model_name": "IntSliderModel",
      "state": {
       "description": "step",
       "layout": "IPY_MODEL_e8e936e55ae4441981228825ff98b199",
       "max": 22,
       "style": "IPY_MODEL_f4a0cd86c4d0459caa749f15d004dbba"
      }
     },
     "e7a177a32702432b8a0648d405751f9b": {
      "model_module": "@jupyter-widgets/controls",
      "model_module_version": "1.5.0",
      "model_name": "PlayModel",
      "state": {
       "interval": 400,
       "layout": "IPY_MODEL_ee3d22528a6346c1b7c442c8d1440fef",
       "style": "IPY_MODEL_fb233abdf7c54c2d9beee31245afb8cd"
      }
     },
     "e8e936e55ae4441981228825ff98b199": {
      "model_module": "@jupyter-widgets/base",
      "model_module_version": "1.2.0",
      "model_name": "LayoutModel",
      "state": {}
     },
     "e96dc4554033479e9636eeea27041d0a": {
      "model_module": "@jupyter-widgets/base",
      "model_module_version": "1.2.0",
      "model_name": "LayoutModel",
      "state": {}
     },
     "e98679aa4c1f4f4c9acd47a1e204539c": {
      "model_module": "@jupyter-widgets/base",
      "model_module_version": "1.2.0",
      "model_name": "LayoutModel",
      "state": {}
     },
     "ea4f3ceaa4324889bcfd50f6f5c5f1cc": {
      "model_module": "@jupyter-widgets/base",
      "model_module_version": "1.2.0",
      "model_name": "LayoutModel",
      "state": {}
     },
     "eabf5425aa314b1a86d4faad5bfcc018": {
      "model_module": "@jupyter-widgets/base",
      "model_module_version": "1.2.0",
      "model_name": "LayoutModel",
      "state": {}
     },
     "ec09f0267a6c4ac180a1068e9ba969f8": {
      "model_module": "@jupyter-widgets/base",
      "model_module_version": "1.2.0",
      "model_name": "LayoutModel",
      "state": {}
     },
     "ec1e8f663bfa4c1a807bed764978822f": {
      "model_module": "@jupyter-widgets/controls",
      "model_module_version": "1.5.0",
      "model_name": "SliderStyleModel",
      "state": {
       "description_width": ""
      }
     },
     "ed275df8e8024b0e900e8504ef15d3b5": {
      "model_module": "@jupyter-widgets/controls",
      "model_module_version": "1.5.0",
      "model_name": "IntSliderModel",
      "state": {
       "description": "step",
       "layout": "IPY_MODEL_1b0e0c1ebe764d32a4b36e2ee50c0c88",
       "max": 9,
       "style": "IPY_MODEL_5d068b7620254117b9823f729c7c0c58"
      }
     },
     "ee3d22528a6346c1b7c442c8d1440fef": {
      "model_module": "@jupyter-widgets/base",
      "model_module_version": "1.2.0",
      "model_name": "LayoutModel",
      "state": {}
     },
     "ee92d267abf24b32b4ba50705380c9ae": {
      "model_module": "@jupyter-widgets/base",
      "model_module_version": "1.2.0",
      "model_name": "LayoutModel",
      "state": {}
     },
     "f0433848434f475b8729b80e69b7a710": {
      "model_module": "@jupyter-widgets/output",
      "model_module_version": "1.0.0",
      "model_name": "OutputModel",
      "state": {
       "layout": "IPY_MODEL_d05c68e484ef4c758178803cb976bb8c",
       "outputs": [
        {
         "data": {
          "image/png": "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\n",
          "text/plain": "<Figure size 378x378 with 1 Axes>"
         },
         "metadata": {},
         "output_type": "display_data"
        }
       ]
      }
     },
     "f212b908fc274fcb80ff7a8b3a4e2d02": {
      "model_module": "@jupyter-widgets/output",
      "model_module_version": "1.0.0",
      "model_name": "OutputModel",
      "state": {
       "layout": "IPY_MODEL_d15e88a14fc14e18944953772073fb16",
       "outputs": [
        {
         "data": {
          "text/latex": "$\\displaystyle \\left(\r\n\\begin{array}{c}\r\n1.000 & 0.000 & 0.000 & 0.000 & 0.000 \\\\\r\n0.000 & 1.000 & 0.000 & 0.000 & 0.000 \\\\\r\n0.000 & 0.000 & 1.000 & 0.000 & 0.000 \\\\\r\n0.000 & 0.000 & 0.000 & 1.000 & 0.000 \\\\\r\n0.000 & 0.000 & 0.000 & 0.000 & 1.000 \\\\\r\n\\end{array}\r\n\\right)\\left(\r\n\\begin{array}{c}\r\n0.705 & 0.282 & 0.361 & 0.091 & 0.804 \\\\\r\n0.123 & 0.099 & 0.656 & 0.230 & 0.008 \\\\\r\n0.901 & 0.962 & 0.431 & 0.881 & 0.448 \\\\\r\n0.341 & 0.034 & 0.776 & 0.503 & 0.758 \\\\\r\n0.741 & 0.378 & 0.151 & 0.774 & 0.175 \\\\\r\n\\end{array}\r\n\\right)$",
          "text/plain": "<IPython.core.display.Math object>"
         },
         "metadata": {},
         "output_type": "display_data"
        }
       ]
      }
     },
     "f2a27dd930c14cb682374b10faf96b8a": {
      "model_module": "@jupyter-widgets/base",
      "model_module_version": "1.2.0",
      "model_name": "LayoutModel",
      "state": {}
     },
     "f4872211c4b145518178e5994bcfb982": {
      "model_module": "@jupyter-widgets/controls",
      "model_module_version": "1.5.0",
      "model_name": "VBoxModel",
      "state": {
       "_dom_classes": [
        "widget-interact"
       ],
       "children": [
        "IPY_MODEL_982f5e5b5a4b499aa1b35d395bf4a228",
        "IPY_MODEL_6041bb0a5f3d4041980b9d0acf27e6d7"
       ],
       "layout": "IPY_MODEL_34c260ed34454ff49f2e52a258f8f264"
      }
     },
     "f4a0cd86c4d0459caa749f15d004dbba": {
      "model_module": "@jupyter-widgets/controls",
      "model_module_version": "1.5.0",
      "model_name": "SliderStyleModel",
      "state": {
       "description_width": ""
      }
     },
     "f74882635b634d16b7419ebbd1f2ab95": {
      "model_module": "@jupyter-widgets/base",
      "model_module_version": "1.2.0",
      "model_name": "LayoutModel",
      "state": {}
     },
     "f79278be99354034b69473be37d69d8e": {
      "model_module": "@jupyter-widgets/base",
      "model_module_version": "1.2.0",
      "model_name": "LayoutModel",
      "state": {}
     },
     "f862a9fca8d4426bbe51fd933b9cf311": {
      "model_module": "@jupyter-widgets/base",
      "model_module_version": "1.2.0",
      "model_name": "LayoutModel",
      "state": {}
     },
     "f9417692f39c452ca33c038c40d63585": {
      "model_module": "@jupyter-widgets/base",
      "model_module_version": "1.2.0",
      "model_name": "LayoutModel",
      "state": {}
     },
     "fa4ae697e9a3476fb571ca35f5e7019f": {
      "model_module": "@jupyter-widgets/controls",
      "model_module_version": "1.5.0",
      "model_name": "VBoxModel",
      "state": {
       "_dom_classes": [
        "widget-interact"
       ],
       "children": [
        "IPY_MODEL_ed275df8e8024b0e900e8504ef15d3b5",
        "IPY_MODEL_53a8e985d5154d48ad6ebe12d2e6bb31"
       ],
       "layout": "IPY_MODEL_1d3ab8146ddd464999e93581f0db4d96"
      }
     },
     "fb233abdf7c54c2d9beee31245afb8cd": {
      "model_module": "@jupyter-widgets/controls",
      "model_module_version": "1.5.0",
      "model_name": "DescriptionStyleModel",
      "state": {
       "description_width": ""
      }
     },
     "fb51a6a862c14eb9a9a6a69771acce9e": {
      "model_module": "@jupyter-widgets/controls",
      "model_module_version": "1.5.0",
      "model_name": "IntSliderModel",
      "state": {
       "description": "step",
       "layout": "IPY_MODEL_ad249795cdff47028cc9b1bc334dbefa",
       "max": 31,
       "style": "IPY_MODEL_a2b9161ec146470a8e399f8720bf3ba6"
      }
     },
     "fcd62a4d9c5447af975238ce950aefa5": {
      "model_module": "@jupyter-widgets/controls",
      "model_module_version": "1.5.0",
      "model_name": "PlayModel",
      "state": {
       "interval": 400,
       "layout": "IPY_MODEL_054e080ae2cd46c3a45fadd9d71ad9b3",
       "style": "IPY_MODEL_063a6997e6cc4a1db55549d970ea611a"
      }
     },
     "fd9d1fd949ee44cd84f2dc3eb2d6859a": {
      "model_module": "@jupyter-widgets/controls",
      "model_module_version": "1.5.0",
      "model_name": "PlayModel",
      "state": {
       "interval": 400,
       "layout": "IPY_MODEL_d857c5681fbe47499c937f7277327673",
       "style": "IPY_MODEL_8e8daec61f134cfa93bb2c0e62832bc0"
      }
     },
     "fe7140c947474b2ebb1cc0039d2c906c": {
      "model_module": "@jupyter-widgets/base",
      "model_module_version": "1.2.0",
      "model_name": "LayoutModel",
      "state": {}
     }
    },
    "version_major": 2,
    "version_minor": 0
   }
  }
 },
 "nbformat": 4,
 "nbformat_minor": 4
}
