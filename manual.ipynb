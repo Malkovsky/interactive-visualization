{
 "cells": [
  {
   "cell_type": "markdown",
   "metadata": {},
   "source": [
    "# Как подготовить визуализацию алгоритма с помощью этого репозитория?\n",
    "Для подготовки визуализации алгоритма нужно сделать три вещи:\n",
    "* Реализовать процедуру визуализации состояния алгоритма\n",
    "* Написать сам алгоритм, попутно сохраняя состояния алгоритма\n",
    "* Воспользоваться `animate_list` из `animation_utils`"
   ]
  },
  {
   "cell_type": "markdown",
   "metadata": {},
   "source": [
    "## Пример #1: быстрая сортировка\n",
    "Для описания состояния быстрой сортировки достаточно текстовых структур. Здесь можно использовать `IPython.display.Code`, так как он позволяет нормально отображать пробелы и переводы строки. Для описания самого состояния воспользуемся следующими параметрами:\n",
    "* `array` - массив, который сортируется\n",
    "* `left, right` - границы текущего рекурсивного вызова\n",
    "* `x` - разделительный элемент\n",
    "* `p, q` - текущие значения указателей, которые используются для разделения масссивы на 2 части\n",
    "В последующем коде `left, right` будут отграничивать подмассив с помощью скобок, а на элементы `p, q` будут указывать стрелочки. "
   ]
  },
  {
   "cell_type": "code",
   "execution_count": 1,
   "metadata": {},
   "outputs": [],
   "source": [
    "from IPython.display import Code\n",
    "def qsort_state(array, left, right, x, p, q):\n",
    "    extended_array = list(map(str, array[:left])) + ['['] + list(map(str, array[left: right])) + [']'] + list(map(str, array[right:]))\n",
    "    offset_x = sum(list(map(len, extended_array[:left]))) + left + 2\n",
    "    zero_line = ''.join([' ' for i in range(offset_x)]) + f'x = {x}'\n",
    "    first_line = ' '.join(extended_array)\n",
    "    offset_p = sum(list(map(len, extended_array[:p + 1]))) + p + 1 + len(extended_array[p + 1]) // 2\n",
    "    offset_q = sum(list(map(len, extended_array[:q + 1]))) + q + 1 + len(extended_array[q + 1]) // 2\n",
    "    second_line = ''.join([' ' if i != offset_p and i != offset_q else '↑' for i in range(len(first_line))])\n",
    "\n",
    "    return Code(zero_line + '\\n' + first_line + '\\n' + second_line)"
   ]
  },
  {
   "cell_type": "code",
   "execution_count": 5,
   "metadata": {},
   "outputs": [
    {
     "data": {
      "text/html": [
       "<style>.output_html .hll { background-color: #ffffcc }\n",
       ".output_html  { background: #f8f8f8; }\n",
       ".output_html .c { color: #408080; font-style: italic } /* Comment */\n",
       ".output_html .err { border: 1px solid #FF0000 } /* Error */\n",
       ".output_html .k { color: #008000; font-weight: bold } /* Keyword */\n",
       ".output_html .o { color: #666666 } /* Operator */\n",
       ".output_html .ch { color: #408080; font-style: italic } /* Comment.Hashbang */\n",
       ".output_html .cm { color: #408080; font-style: italic } /* Comment.Multiline */\n",
       ".output_html .cp { color: #BC7A00 } /* Comment.Preproc */\n",
       ".output_html .cpf { color: #408080; font-style: italic } /* Comment.PreprocFile */\n",
       ".output_html .c1 { color: #408080; font-style: italic } /* Comment.Single */\n",
       ".output_html .cs { color: #408080; font-style: italic } /* Comment.Special */\n",
       ".output_html .gd { color: #A00000 } /* Generic.Deleted */\n",
       ".output_html .ge { font-style: italic } /* Generic.Emph */\n",
       ".output_html .gr { color: #FF0000 } /* Generic.Error */\n",
       ".output_html .gh { color: #000080; font-weight: bold } /* Generic.Heading */\n",
       ".output_html .gi { color: #00A000 } /* Generic.Inserted */\n",
       ".output_html .go { color: #888888 } /* Generic.Output */\n",
       ".output_html .gp { color: #000080; font-weight: bold } /* Generic.Prompt */\n",
       ".output_html .gs { font-weight: bold } /* Generic.Strong */\n",
       ".output_html .gu { color: #800080; font-weight: bold } /* Generic.Subheading */\n",
       ".output_html .gt { color: #0044DD } /* Generic.Traceback */\n",
       ".output_html .kc { color: #008000; font-weight: bold } /* Keyword.Constant */\n",
       ".output_html .kd { color: #008000; font-weight: bold } /* Keyword.Declaration */\n",
       ".output_html .kn { color: #008000; font-weight: bold } /* Keyword.Namespace */\n",
       ".output_html .kp { color: #008000 } /* Keyword.Pseudo */\n",
       ".output_html .kr { color: #008000; font-weight: bold } /* Keyword.Reserved */\n",
       ".output_html .kt { color: #B00040 } /* Keyword.Type */\n",
       ".output_html .m { color: #666666 } /* Literal.Number */\n",
       ".output_html .s { color: #BA2121 } /* Literal.String */\n",
       ".output_html .na { color: #7D9029 } /* Name.Attribute */\n",
       ".output_html .nb { color: #008000 } /* Name.Builtin */\n",
       ".output_html .nc { color: #0000FF; font-weight: bold } /* Name.Class */\n",
       ".output_html .no { color: #880000 } /* Name.Constant */\n",
       ".output_html .nd { color: #AA22FF } /* Name.Decorator */\n",
       ".output_html .ni { color: #999999; font-weight: bold } /* Name.Entity */\n",
       ".output_html .ne { color: #D2413A; font-weight: bold } /* Name.Exception */\n",
       ".output_html .nf { color: #0000FF } /* Name.Function */\n",
       ".output_html .nl { color: #A0A000 } /* Name.Label */\n",
       ".output_html .nn { color: #0000FF; font-weight: bold } /* Name.Namespace */\n",
       ".output_html .nt { color: #008000; font-weight: bold } /* Name.Tag */\n",
       ".output_html .nv { color: #19177C } /* Name.Variable */\n",
       ".output_html .ow { color: #AA22FF; font-weight: bold } /* Operator.Word */\n",
       ".output_html .w { color: #bbbbbb } /* Text.Whitespace */\n",
       ".output_html .mb { color: #666666 } /* Literal.Number.Bin */\n",
       ".output_html .mf { color: #666666 } /* Literal.Number.Float */\n",
       ".output_html .mh { color: #666666 } /* Literal.Number.Hex */\n",
       ".output_html .mi { color: #666666 } /* Literal.Number.Integer */\n",
       ".output_html .mo { color: #666666 } /* Literal.Number.Oct */\n",
       ".output_html .sa { color: #BA2121 } /* Literal.String.Affix */\n",
       ".output_html .sb { color: #BA2121 } /* Literal.String.Backtick */\n",
       ".output_html .sc { color: #BA2121 } /* Literal.String.Char */\n",
       ".output_html .dl { color: #BA2121 } /* Literal.String.Delimiter */\n",
       ".output_html .sd { color: #BA2121; font-style: italic } /* Literal.String.Doc */\n",
       ".output_html .s2 { color: #BA2121 } /* Literal.String.Double */\n",
       ".output_html .se { color: #BB6622; font-weight: bold } /* Literal.String.Escape */\n",
       ".output_html .sh { color: #BA2121 } /* Literal.String.Heredoc */\n",
       ".output_html .si { color: #BB6688; font-weight: bold } /* Literal.String.Interpol */\n",
       ".output_html .sx { color: #008000 } /* Literal.String.Other */\n",
       ".output_html .sr { color: #BB6688 } /* Literal.String.Regex */\n",
       ".output_html .s1 { color: #BA2121 } /* Literal.String.Single */\n",
       ".output_html .ss { color: #19177C } /* Literal.String.Symbol */\n",
       ".output_html .bp { color: #008000 } /* Name.Builtin.Pseudo */\n",
       ".output_html .fm { color: #0000FF } /* Name.Function.Magic */\n",
       ".output_html .vc { color: #19177C } /* Name.Variable.Class */\n",
       ".output_html .vg { color: #19177C } /* Name.Variable.Global */\n",
       ".output_html .vi { color: #19177C } /* Name.Variable.Instance */\n",
       ".output_html .vm { color: #19177C } /* Name.Variable.Magic */\n",
       ".output_html .il { color: #666666 } /* Literal.Number.Integer.Long */</style><div class=\"highlight\"><pre><span></span><span class=\"err\">      x = 4</span>\n",
       "<span class=\"err\">1 2 [ 3 4 5 ] 6</span>\n",
       "<span class=\"err\">      ↑   ↑    </span>\n",
       "</pre></div>\n"
      ],
      "text/latex": [
       "\\begin{Verbatim}[commandchars=\\\\\\{\\}]\n",
       "\\PY{err}{ }\\PY{err}{ }\\PY{err}{ }\\PY{err}{ }\\PY{err}{ }\\PY{err}{ }\\PY{err}{x}\\PY{err}{ }\\PY{err}{=}\\PY{err}{ }\\PY{err}{4}\n",
       "\\PY{err}{1}\\PY{err}{ }\\PY{err}{2}\\PY{err}{ }\\PY{err}{[}\\PY{err}{ }\\PY{err}{3}\\PY{err}{ }\\PY{err}{4}\\PY{err}{ }\\PY{err}{5}\\PY{err}{ }\\PY{err}{]}\\PY{err}{ }\\PY{err}{6}\n",
       "\\PY{err}{ }\\PY{err}{ }\\PY{err}{ }\\PY{err}{ }\\PY{err}{ }\\PY{err}{ }\\PY{err}{↑}\\PY{err}{ }\\PY{err}{ }\\PY{err}{ }\\PY{err}{↑}\\PY{err}{ }\\PY{err}{ }\\PY{err}{ }\\PY{err}{ }\n",
       "\\end{Verbatim}\n"
      ],
      "text/plain": [
       "      x = 4\n",
       "1 2 [ 3 4 5 ] 6\n",
       "      ↑   ↑    "
      ]
     },
     "execution_count": 5,
     "metadata": {},
     "output_type": "execute_result"
    }
   ],
   "source": [
    "qsort_state([1, 2, 3, 4, 5, 6], 2, 5, 4, 2, 4)"
   ]
  },
  {
   "cell_type": "markdown",
   "metadata": {},
   "source": [
    "Теперь просто реализуем сам алгоритм попутно добавляя состояния алгоритма описанной процедурой в список, который передаем дополнительным параметром."
   ]
  },
  {
   "cell_type": "code",
   "execution_count": 6,
   "metadata": {},
   "outputs": [],
   "source": [
    "import random\n",
    "\n",
    "def qsort(array, left, right, states):\n",
    "    if right - left <= 1:\n",
    "        return\n",
    "    x = array[random.randint(left, right - 1)]\n",
    "    p = left\n",
    "    q = right - 1\n",
    "    states.append(qsort_state(array, left, right, x, p, q))\n",
    "    while p <= q:\n",
    "        while array[p] < x:\n",
    "            p += 1\n",
    "            states.append(qsort_state(array, left, right, x, p, q))\n",
    "        while array[q] > x:\n",
    "            q -= 1\n",
    "            states.append(qsort_state(array, left, right, x, p, q))\n",
    "        if p <= q:\n",
    "            array[p], array[q] = (array[q], array[p])\n",
    "            states.append(qsort_state(array, left, right, x, p, q))\n",
    "            p += 1\n",
    "            q -= 1\n",
    "            if p <= q:\n",
    "                states.append(qsort_state(array, left, right, x, p, q))\n",
    "    qsort(array, left, q + 1, states)\n",
    "    qsort(array, p, right, states)   "
   ]
  },
  {
   "cell_type": "markdown",
   "metadata": {},
   "source": [
    "Теперь запустим нашу функию на каком-нибудь массиве. В качестве `states` нужно передать пустой список."
   ]
  },
  {
   "cell_type": "code",
   "execution_count": 8,
   "metadata": {},
   "outputs": [],
   "source": [
    "from animation_utils import animate_list"
   ]
  },
  {
   "cell_type": "code",
   "execution_count": 9,
   "metadata": {},
   "outputs": [
    {
     "data": {
      "application/vnd.jupyter.widget-view+json": {
       "model_id": "1a9795f32d3e4e83b4a10efe53f9c531",
       "version_major": 2,
       "version_minor": 0
      },
      "text/plain": [
       "HBox(children=(Play(value=0, interval=400), Button(description='Prev', style=ButtonStyle()), Button(descriptio…"
      ]
     },
     "metadata": {},
     "output_type": "display_data"
    },
    {
     "data": {
      "application/vnd.jupyter.widget-view+json": {
       "model_id": "350e256be3a74dee848c6b3c431637fb",
       "version_major": 2,
       "version_minor": 0
      },
      "text/plain": [
       "interactive(children=(IntSlider(value=0, description='step', max=36), Output()), _dom_classes=('widget-interac…"
      ]
     },
     "metadata": {},
     "output_type": "display_data"
    }
   ],
   "source": [
    "a = [234, 1, 42, 3, 15, 3, 10, 9, 2]\n",
    "states = []\n",
    "qsort(a, 0, len(a), states)\n",
    "animate_list(states, play=True, interval=400);"
   ]
  },
  {
   "cell_type": "markdown",
   "metadata": {},
   "source": [
    "Стоит отметить, что бегунок `steps` является обязательным элементом управления. Проигрыватель и кнопки `назад` и `вперед` являются опциональными и указываются параметрами `play, navigation` (по умолчанию `False, True`)."
   ]
  },
  {
   "cell_type": "markdown",
   "metadata": {},
   "source": [
    "## Пример #2: Обход в глубину\n",
    "Более содержательный пример - визуализация обхода в глубину. Здесь мы воспользуемся `graphviz` для отображения графов. Кроме того, здесь будет удобно хранить состояние графа в виде отдельной структуры и немного видоизменять её, вместо того, чтобы каждый раз её строить. Здесь я воспользуюсь оберткой над `graphviz` из `graph_utils`, но можно использовать его и напрямую."
   ]
  },
  {
   "cell_type": "code",
   "execution_count": 10,
   "metadata": {},
   "outputs": [],
   "source": [
    "from graph_utils import Graph, Arc, Node"
   ]
  },
  {
   "cell_type": "markdown",
   "metadata": {},
   "source": [
    "В целом описание состояния будет иметь следующий вид:\n",
    "* Зеленые переходы - те, по которым мы перешли, но еще не вернулись обратно\n",
    "* Зеленые вершины - те, в которые мы зашли, но еще не вышли из них\n",
    "* Красные переходы - те, по которым мы перешли и уже вышли\n",
    "* Красные вершины - те, в которые мы зашли и вышли\n",
    "* Синие переходы - те, по которым мы не стали переходить, так как они ведут уже в посещенные вершины\n",
    "В итоге красные переходы должны будут образовать дерево обхода."
   ]
  },
  {
   "cell_type": "code",
   "execution_count": 11,
   "metadata": {},
   "outputs": [],
   "source": [
    "def enter_node(node):\n",
    "    node.SetColor('blue')\n",
    "    \n",
    "def enter_arc(node, arc):\n",
    "    node.SetColor('green')\n",
    "    arc.attributes['style'] = 'dashed'\n",
    "    arc.attributes['color'] = 'green'\n",
    "    \n",
    "def return_from_arc(node, arc):\n",
    "    arc.attributes['style'] = 'solid'\n",
    "    arc.attributes['color'] = 'red'\n",
    "    node.SetColor('blue')\n",
    "    \n",
    "def ignore_arc(arc):\n",
    "    arc.attributes['color'] = 'blue'\n",
    "    \n",
    "def leave_node(node):\n",
    "    node.SetColor('red')"
   ]
  },
  {
   "cell_type": "markdown",
   "metadata": {},
   "source": [
    "А теперь сам обход"
   ]
  },
  {
   "cell_type": "code",
   "execution_count": 12,
   "metadata": {},
   "outputs": [],
   "source": [
    "def dfs(graph, node_id, visited, outlist, path):\n",
    "    visited.add(node_id)\n",
    "    path.append(node_id)\n",
    "    enter_node(graph.nodes[node_id])\n",
    "    outlist.append(graph.Visualize())\n",
    "    for arc in graph.nodes[node_id].arcs:\n",
    "        if arc.end not in visited:\n",
    "            enter_arc(graph.nodes[node_id], arc)\n",
    "            dfs(graph, arc.end, visited, outlist, path) \n",
    "            return_from_arc(graph.nodes[node_id], arc)\n",
    "            path.append(node_id)\n",
    "        else:\n",
    "            ignore_arc(arc)\n",
    "        outlist.append(graph.Visualize())      \n",
    "    leave_node(graph.nodes[node_id])"
   ]
  },
  {
   "cell_type": "code",
   "execution_count": 13,
   "metadata": {},
   "outputs": [],
   "source": [
    "arcs = [\n",
    "    Arc(1, 3, 3),\n",
    "    Arc(1, 4, 7),\n",
    "    Arc(4, 3, 2),\n",
    "    Arc(4, 5, 3),\n",
    "    Arc(1, 5, 2),\n",
    "    Arc(6, 4, 2),\n",
    "    Arc(5, 6, 2),\n",
    "    Arc(6, 7, 1),\n",
    "    Arc(7, 2, 7),\n",
    "    Arc(4, 2, 2),\n",
    "    Arc(3, 2, 5)\n",
    "]"
   ]
  },
  {
   "cell_type": "code",
   "execution_count": 14,
   "metadata": {},
   "outputs": [
    {
     "data": {
      "application/vnd.jupyter.widget-view+json": {
       "model_id": "bf4f2622acfe4b41b40e010d074e0c7a",
       "version_major": 2,
       "version_minor": 0
      },
      "text/plain": [
       "HBox(children=(Play(value=0, interval=400), Button(description='Prev', style=ButtonStyle()), Button(descriptio…"
      ]
     },
     "metadata": {},
     "output_type": "display_data"
    },
    {
     "data": {
      "application/vnd.jupyter.widget-view+json": {
       "model_id": "fb3a08abc5e74dd0981c6372258db5e8",
       "version_major": 2,
       "version_minor": 0
      },
      "text/plain": [
       "interactive(children=(IntSlider(value=0, description='step', max=19), Output()), _dom_classes=('widget-interac…"
      ]
     },
     "metadata": {},
     "output_type": "display_data"
    }
   ],
   "source": [
    "# Если следующий код выдает ошибку, что ему не удается выполнить `dot`, то\n",
    "# скорее всего придется отдельно поставить graphviz\n",
    "# https://graphviz.org/download/\n",
    "graph = Graph(arcs)\n",
    "visited = set()\n",
    "dfs_outlist = []\n",
    "path = []\n",
    "dfs_outlist.append(graph.Visualize())\n",
    "dfs(graph, 1, visited, dfs_outlist, path)\n",
    "dfs_outlist.append(graph.Visualize())\n",
    "animate_list(dfs_outlist, play=True, interval=400);"
   ]
  }
 ],
 "metadata": {
  "kernelspec": {
   "display_name": "Python 3",
   "language": "python",
   "name": "python3"
  },
  "language_info": {
   "codemirror_mode": {
    "name": "ipython",
    "version": 3
   },
   "file_extension": ".py",
   "mimetype": "text/x-python",
   "name": "python",
   "nbconvert_exporter": "python",
   "pygments_lexer": "ipython3",
   "version": "3.8.3"
  },
  "widgets": {
   "application/vnd.jupyter.widget-state+json": {
    "state": {
     "0812ea63395f481da1a89335748e1373": {
      "model_module": "@jupyter-widgets/controls",
      "model_module_version": "1.5.0",
      "model_name": "IntSliderModel",
      "state": {
       "description": "step",
       "layout": "IPY_MODEL_ac32177b79244c30b0d3d7801f50bcbb",
       "max": 36,
       "style": "IPY_MODEL_260270bfb2614ab78f4177d588c5c530"
      }
     },
     "0a73d254fe654d2e9ad6a422b4ad80c0": {
      "model_module": "@jupyter-widgets/controls",
      "model_module_version": "1.5.0",
      "model_name": "ButtonStyleModel",
      "state": {}
     },
     "0afcb388ada94cb5a573001e3ca3a371": {
      "model_module": "@jupyter-widgets/output",
      "model_module_version": "1.0.0",
      "model_name": "OutputModel",
      "state": {
       "layout": "IPY_MODEL_fdf9410cea56484e93dc30ff98662d20",
       "outputs": [
        {
         "data": {
          "image/svg+xml": "<?xml version=\"1.0\" encoding=\"UTF-8\" standalone=\"no\"?>\r\n<!DOCTYPE svg PUBLIC \"-//W3C//DTD SVG 1.1//EN\"\r\n \"http://www.w3.org/Graphics/SVG/1.1/DTD/svg11.dtd\">\r\n<!-- Generated by graphviz version 2.44.2~dev.20200826.1453 (20200826.1453)\r\n -->\r\n<!-- Pages: 1 -->\r\n<svg width=\"439pt\" height=\"177pt\"\r\n viewBox=\"0.00 0.00 439.00 177.00\" xmlns=\"http://www.w3.org/2000/svg\" xmlns:xlink=\"http://www.w3.org/1999/xlink\">\r\n<g id=\"graph0\" class=\"graph\" transform=\"scale(1 1) rotate(0) translate(4 173)\">\r\n<polygon fill=\"white\" stroke=\"transparent\" points=\"-4,4 -4,-173 435,-173 435,4 -4,4\"/>\r\n<!-- 1 -->\r\n<g id=\"node1\" class=\"node\">\r\n<title>1</title>\r\n<ellipse fill=\"none\" stroke=\"black\" cx=\"18\" cy=\"-79\" rx=\"18\" ry=\"18\"/>\r\n<text text-anchor=\"middle\" x=\"18\" y=\"-75.3\" font-family=\"Times New Roman,serif\" font-size=\"14.00\">1</text>\r\n</g>\r\n<!-- 3 -->\r\n<g id=\"node2\" class=\"node\">\r\n<title>3</title>\r\n<ellipse fill=\"none\" stroke=\"black\" cx=\"176\" cy=\"-151\" rx=\"18\" ry=\"18\"/>\r\n<text text-anchor=\"middle\" x=\"176\" y=\"-147.3\" font-family=\"Times New Roman,serif\" font-size=\"14.00\">3</text>\r\n</g>\r\n<!-- 1&#45;&gt;3 -->\r\n<g id=\"edge1\" class=\"edge\">\r\n<title>1:&#45;&gt;3:</title>\r\n<path fill=\"none\" stroke=\"black\" d=\"M34.25,-87.49C40.35,-90.83 47.48,-94.66 54,-98 88.69,-115.74 97.05,-120.98 133,-136 138.05,-138.11 143.51,-140.2 148.78,-142.12\"/>\r\n<polygon fill=\"black\" stroke=\"black\" points=\"158.49,-145.55 147.56,-146.46 153.78,-143.89 149.06,-142.22 149.06,-142.22 149.06,-142.22 153.78,-143.89 150.57,-137.98 158.49,-145.55 158.49,-145.55\"/>\r\n<text text-anchor=\"middle\" x=\"97\" y=\"-130.8\" font-family=\"Times New Roman,serif\" font-size=\"14.00\">3</text>\r\n</g>\r\n<!-- 4 -->\r\n<g id=\"node3\" class=\"node\">\r\n<title>4</title>\r\n<ellipse fill=\"none\" stroke=\"black\" cx=\"97\" cy=\"-79\" rx=\"18\" ry=\"18\"/>\r\n<text text-anchor=\"middle\" x=\"97\" y=\"-75.3\" font-family=\"Times New Roman,serif\" font-size=\"14.00\">4</text>\r\n</g>\r\n<!-- 1&#45;&gt;4 -->\r\n<g id=\"edge2\" class=\"edge\">\r\n<title>1:&#45;&gt;4:</title>\r\n<path fill=\"none\" stroke=\"black\" d=\"M36.09,-79C45.66,-79 57.82,-79 68.68,-79\"/>\r\n<polygon fill=\"black\" stroke=\"black\" points=\"78.96,-79 68.96,-83.5 73.96,-79 68.96,-79 68.96,-79 68.96,-79 73.96,-79 68.96,-74.5 78.96,-79 78.96,-79\"/>\r\n<text text-anchor=\"middle\" x=\"57.5\" y=\"-82.8\" font-family=\"Times New Roman,serif\" font-size=\"14.00\">7</text>\r\n</g>\r\n<!-- 5 -->\r\n<g id=\"node4\" class=\"node\">\r\n<title>5</title>\r\n<ellipse fill=\"none\" stroke=\"black\" cx=\"176\" cy=\"-46\" rx=\"18\" ry=\"18\"/>\r\n<text text-anchor=\"middle\" x=\"176\" y=\"-42.3\" font-family=\"Times New Roman,serif\" font-size=\"14.00\">5</text>\r\n</g>\r\n<!-- 1&#45;&gt;5 -->\r\n<g id=\"edge3\" class=\"edge\">\r\n<title>1:&#45;&gt;5:</title>\r\n<path fill=\"none\" stroke=\"black\" d=\"M31.53,-66.71C42.87,-56.53 60.57,-42.81 79,-37 101.87,-29.79 129.21,-33.47 148.85,-38.11\"/>\r\n<polygon fill=\"black\" stroke=\"black\" points=\"158.62,-40.64 147.81,-42.49 153.78,-39.39 148.94,-38.13 148.94,-38.13 148.94,-38.13 153.78,-39.39 150.07,-33.77 158.62,-40.64 158.62,-40.64\"/>\r\n<text text-anchor=\"middle\" x=\"97\" y=\"-40.8\" font-family=\"Times New Roman,serif\" font-size=\"14.00\">2</text>\r\n</g>\r\n<!-- 2 -->\r\n<g id=\"node7\" class=\"node\">\r\n<title>2</title>\r\n<ellipse fill=\"none\" stroke=\"black\" cx=\"413\" cy=\"-87\" rx=\"18\" ry=\"18\"/>\r\n<text text-anchor=\"middle\" x=\"413\" y=\"-83.3\" font-family=\"Times New Roman,serif\" font-size=\"14.00\">2</text>\r\n</g>\r\n<!-- 3&#45;&gt;2 -->\r\n<g id=\"edge4\" class=\"edge\">\r\n<title>3:&#45;&gt;2:</title>\r\n<path fill=\"none\" stroke=\"black\" d=\"M194.03,-147.99C225.47,-142.31 294.67,-129.19 352,-114 363.28,-111.01 366.27,-110.58 377,-106 380.58,-104.47 384.28,-102.7 387.87,-100.86\"/>\r\n<polygon fill=\"black\" stroke=\"black\" points=\"396.97,-95.96 390.3,-104.66 392.57,-98.33 388.17,-100.7 388.17,-100.7 388.17,-100.7 392.57,-98.33 386.04,-96.73 396.97,-95.96 396.97,-95.96\"/>\r\n<text text-anchor=\"middle\" x=\"294.5\" y=\"-131.8\" font-family=\"Times New Roman,serif\" font-size=\"14.00\">5</text>\r\n</g>\r\n<!-- 4&#45;&gt;3 -->\r\n<g id=\"edge5\" class=\"edge\">\r\n<title>4:&#45;&gt;3:</title>\r\n<path fill=\"none\" stroke=\"black\" d=\"M110.71,-90.89C122.64,-102.04 140.68,-118.91 154.61,-131.94\"/>\r\n<polygon fill=\"black\" stroke=\"black\" points=\"162.27,-139.09 151.89,-135.55 158.61,-135.68 154.96,-132.26 154.96,-132.26 154.96,-132.26 158.61,-135.68 158.04,-128.98 162.27,-139.09 162.27,-139.09\"/>\r\n<text text-anchor=\"middle\" x=\"136.5\" y=\"-120.8\" font-family=\"Times New Roman,serif\" font-size=\"14.00\">2</text>\r\n</g>\r\n<!-- 4&#45;&gt;5 -->\r\n<g id=\"edge6\" class=\"edge\">\r\n<title>4:&#45;&gt;5:</title>\r\n<path fill=\"none\" stroke=\"black\" d=\"M113.95,-72.16C124.28,-67.74 137.94,-61.88 149.73,-56.83\"/>\r\n<polygon fill=\"black\" stroke=\"black\" points=\"159.07,-52.83 151.65,-60.9 154.47,-54.8 149.87,-56.77 149.87,-56.77 149.87,-56.77 154.47,-54.8 148.1,-52.63 159.07,-52.83 159.07,-52.83\"/>\r\n<text text-anchor=\"middle\" x=\"136.5\" y=\"-66.8\" font-family=\"Times New Roman,serif\" font-size=\"14.00\">3</text>\r\n</g>\r\n<!-- 4&#45;&gt;2 -->\r\n<g id=\"edge7\" class=\"edge\">\r\n<title>4:&#45;&gt;2:</title>\r\n<path fill=\"none\" stroke=\"black\" d=\"M109.2,-65.6C128.29,-43.06 165.95,0 175,0 175,0 175,0 335,0 367.91,0 390.15,-35.34 401.95,-60.97\"/>\r\n<polygon fill=\"black\" stroke=\"black\" points=\"405.96,-70.23 397.85,-62.84 403.97,-65.64 401.98,-61.05 401.98,-61.05 401.98,-61.05 403.97,-65.64 406.11,-59.26 405.96,-70.23 405.96,-70.23\"/>\r\n<text text-anchor=\"middle\" x=\"255\" y=\"-3.8\" font-family=\"Times New Roman,serif\" font-size=\"14.00\">2</text>\r\n</g>\r\n<!-- 6 -->\r\n<g id=\"node5\" class=\"node\">\r\n<title>6</title>\r\n<ellipse fill=\"none\" stroke=\"black\" cx=\"255\" cy=\"-87\" rx=\"18\" ry=\"18\"/>\r\n<text text-anchor=\"middle\" x=\"255\" y=\"-83.3\" font-family=\"Times New Roman,serif\" font-size=\"14.00\">6</text>\r\n</g>\r\n<!-- 5&#45;&gt;6 -->\r\n<g id=\"edge8\" class=\"edge\">\r\n<title>5:&#45;&gt;6:</title>\r\n<path fill=\"none\" stroke=\"black\" d=\"M192.21,-54.1C202.97,-59.83 217.61,-67.62 229.94,-74.19\"/>\r\n<polygon fill=\"black\" stroke=\"black\" points=\"238.82,-78.92 227.88,-78.19 234.41,-76.57 229.99,-74.22 229.99,-74.22 229.99,-74.22 234.41,-76.57 232.11,-70.24 238.82,-78.92 238.82,-78.92\"/>\r\n<text text-anchor=\"middle\" x=\"215.5\" y=\"-70.8\" font-family=\"Times New Roman,serif\" font-size=\"14.00\">2</text>\r\n</g>\r\n<!-- 6&#45;&gt;4 -->\r\n<g id=\"edge9\" class=\"edge\">\r\n<title>6:&#45;&gt;4:</title>\r\n<path fill=\"none\" stroke=\"black\" d=\"M236.83,-86.7C229.22,-86.53 220.16,-86.3 212,-86 176.87,-84.69 168.07,-84.39 133,-82 130.44,-81.83 127.79,-81.63 125.13,-81.42\"/>\r\n<polygon fill=\"black\" stroke=\"black\" points=\"115.08,-80.58 125.42,-76.93 120.06,-81 125.05,-81.41 125.05,-81.41 125.05,-81.41 120.06,-81 124.67,-85.9 115.08,-80.58 115.08,-80.58\"/>\r\n<text text-anchor=\"middle\" x=\"176\" y=\"-88.8\" font-family=\"Times New Roman,serif\" font-size=\"14.00\">2</text>\r\n</g>\r\n<!-- 7 -->\r\n<g id=\"node6\" class=\"node\">\r\n<title>7</title>\r\n<ellipse fill=\"none\" stroke=\"black\" cx=\"334\" cy=\"-87\" rx=\"18\" ry=\"18\"/>\r\n<text text-anchor=\"middle\" x=\"334\" y=\"-83.3\" font-family=\"Times New Roman,serif\" font-size=\"14.00\">7</text>\r\n</g>\r\n<!-- 6&#45;&gt;7 -->\r\n<g id=\"edge10\" class=\"edge\">\r\n<title>6:&#45;&gt;7:</title>\r\n<path fill=\"none\" stroke=\"black\" d=\"M273.09,-87C282.66,-87 294.82,-87 305.68,-87\"/>\r\n<polygon fill=\"black\" stroke=\"black\" points=\"315.96,-87 305.96,-91.5 310.96,-87 305.96,-87 305.96,-87 305.96,-87 310.96,-87 305.96,-82.5 315.96,-87 315.96,-87\"/>\r\n<text text-anchor=\"middle\" x=\"294.5\" y=\"-90.8\" font-family=\"Times New Roman,serif\" font-size=\"14.00\">1</text>\r\n</g>\r\n<!-- 7&#45;&gt;2 -->\r\n<g id=\"edge11\" class=\"edge\">\r\n<title>7:&#45;&gt;2:</title>\r\n<path fill=\"none\" stroke=\"black\" d=\"M352.09,-87C361.66,-87 373.82,-87 384.68,-87\"/>\r\n<polygon fill=\"black\" stroke=\"black\" points=\"394.96,-87 384.96,-91.5 389.96,-87 384.96,-87 384.96,-87 384.96,-87 389.96,-87 384.96,-82.5 394.96,-87 394.96,-87\"/>\r\n<text text-anchor=\"middle\" x=\"373.5\" y=\"-90.8\" font-family=\"Times New Roman,serif\" font-size=\"14.00\">7</text>\r\n</g>\r\n</g>\r\n</svg>\r\n",
          "text/plain": "<graphviz.dot.Digraph at 0x1c781444790>"
         },
         "metadata": {},
         "output_type": "display_data"
        }
       ]
      }
     },
     "0f5a844a8f494b588630f8e78f64f045": {
      "model_module": "@jupyter-widgets/controls",
      "model_module_version": "1.5.0",
      "model_name": "LinkModel",
      "state": {
       "source": [
        "IPY_MODEL_4a319e840c634a54a95fcf4ca7d12812",
        "value"
       ],
       "target": [
        "IPY_MODEL_b8c077b4c75e46ca862b0df5a1ce6ad9",
        "value"
       ]
      }
     },
     "11cfedaaf60a40d4b6eb0ab4d53b58e8": {
      "model_module": "@jupyter-widgets/base",
      "model_module_version": "1.2.0",
      "model_name": "LayoutModel",
      "state": {}
     },
     "13662008c585433eae1503489b91c216": {
      "model_module": "@jupyter-widgets/output",
      "model_module_version": "1.0.0",
      "model_name": "OutputModel",
      "state": {
       "layout": "IPY_MODEL_11cfedaaf60a40d4b6eb0ab4d53b58e8",
       "outputs": [
        {
         "data": {
          "text/html": "<style>.output_html .hll { background-color: #ffffcc }\n.output_html  { background: #f8f8f8; }\n.output_html .c { color: #408080; font-style: italic } /* Comment */\n.output_html .err { border: 1px solid #FF0000 } /* Error */\n.output_html .k { color: #008000; font-weight: bold } /* Keyword */\n.output_html .o { color: #666666 } /* Operator */\n.output_html .ch { color: #408080; font-style: italic } /* Comment.Hashbang */\n.output_html .cm { color: #408080; font-style: italic } /* Comment.Multiline */\n.output_html .cp { color: #BC7A00 } /* Comment.Preproc */\n.output_html .cpf { color: #408080; font-style: italic } /* Comment.PreprocFile */\n.output_html .c1 { color: #408080; font-style: italic } /* Comment.Single */\n.output_html .cs { color: #408080; font-style: italic } /* Comment.Special */\n.output_html .gd { color: #A00000 } /* Generic.Deleted */\n.output_html .ge { font-style: italic } /* Generic.Emph */\n.output_html .gr { color: #FF0000 } /* Generic.Error */\n.output_html .gh { color: #000080; font-weight: bold } /* Generic.Heading */\n.output_html .gi { color: #00A000 } /* Generic.Inserted */\n.output_html .go { color: #888888 } /* Generic.Output */\n.output_html .gp { color: #000080; font-weight: bold } /* Generic.Prompt */\n.output_html .gs { font-weight: bold } /* Generic.Strong */\n.output_html .gu { color: #800080; font-weight: bold } /* Generic.Subheading */\n.output_html .gt { color: #0044DD } /* Generic.Traceback */\n.output_html .kc { color: #008000; font-weight: bold } /* Keyword.Constant */\n.output_html .kd { color: #008000; font-weight: bold } /* Keyword.Declaration */\n.output_html .kn { color: #008000; font-weight: bold } /* Keyword.Namespace */\n.output_html .kp { color: #008000 } /* Keyword.Pseudo */\n.output_html .kr { color: #008000; font-weight: bold } /* Keyword.Reserved */\n.output_html .kt { color: #B00040 } /* Keyword.Type */\n.output_html .m { color: #666666 } /* Literal.Number */\n.output_html .s { color: #BA2121 } /* Literal.String */\n.output_html .na { color: #7D9029 } /* Name.Attribute */\n.output_html .nb { color: #008000 } /* Name.Builtin */\n.output_html .nc { color: #0000FF; font-weight: bold } /* Name.Class */\n.output_html .no { color: #880000 } /* Name.Constant */\n.output_html .nd { color: #AA22FF } /* Name.Decorator */\n.output_html .ni { color: #999999; font-weight: bold } /* Name.Entity */\n.output_html .ne { color: #D2413A; font-weight: bold } /* Name.Exception */\n.output_html .nf { color: #0000FF } /* Name.Function */\n.output_html .nl { color: #A0A000 } /* Name.Label */\n.output_html .nn { color: #0000FF; font-weight: bold } /* Name.Namespace */\n.output_html .nt { color: #008000; font-weight: bold } /* Name.Tag */\n.output_html .nv { color: #19177C } /* Name.Variable */\n.output_html .ow { color: #AA22FF; font-weight: bold } /* Operator.Word */\n.output_html .w { color: #bbbbbb } /* Text.Whitespace */\n.output_html .mb { color: #666666 } /* Literal.Number.Bin */\n.output_html .mf { color: #666666 } /* Literal.Number.Float */\n.output_html .mh { color: #666666 } /* Literal.Number.Hex */\n.output_html .mi { color: #666666 } /* Literal.Number.Integer */\n.output_html .mo { color: #666666 } /* Literal.Number.Oct */\n.output_html .sa { color: #BA2121 } /* Literal.String.Affix */\n.output_html .sb { color: #BA2121 } /* Literal.String.Backtick */\n.output_html .sc { color: #BA2121 } /* Literal.String.Char */\n.output_html .dl { color: #BA2121 } /* Literal.String.Delimiter */\n.output_html .sd { color: #BA2121; font-style: italic } /* Literal.String.Doc */\n.output_html .s2 { color: #BA2121 } /* Literal.String.Double */\n.output_html .se { color: #BB6622; font-weight: bold } /* Literal.String.Escape */\n.output_html .sh { color: #BA2121 } /* Literal.String.Heredoc */\n.output_html .si { color: #BB6688; font-weight: bold } /* Literal.String.Interpol */\n.output_html .sx { color: #008000 } /* Literal.String.Other */\n.output_html .sr { color: #BB6688 } /* Literal.String.Regex */\n.output_html .s1 { color: #BA2121 } /* Literal.String.Single */\n.output_html .ss { color: #19177C } /* Literal.String.Symbol */\n.output_html .bp { color: #008000 } /* Name.Builtin.Pseudo */\n.output_html .fm { color: #0000FF } /* Name.Function.Magic */\n.output_html .vc { color: #19177C } /* Name.Variable.Class */\n.output_html .vg { color: #19177C } /* Name.Variable.Global */\n.output_html .vi { color: #19177C } /* Name.Variable.Instance */\n.output_html .vm { color: #19177C } /* Name.Variable.Magic */\n.output_html .il { color: #666666 } /* Literal.Number.Integer.Long */</style><div class=\"highlight\"><pre><span></span><span class=\"err\">  x = 1</span>\n<span class=\"err\">[ 234 1 42 3 15 3 10 9 2 ]</span>\n<span class=\"err\">   ↑                   ↑  </span>\n</pre></div>\n",
          "text/latex": "\\begin{Verbatim}[commandchars=\\\\\\{\\}]\n\\PY{err}{ }\\PY{err}{ }\\PY{err}{x}\\PY{err}{ }\\PY{err}{=}\\PY{err}{ }\\PY{err}{1}\n\\PY{err}{[}\\PY{err}{ }\\PY{err}{2}\\PY{err}{3}\\PY{err}{4}\\PY{err}{ }\\PY{err}{1}\\PY{err}{ }\\PY{err}{4}\\PY{err}{2}\\PY{err}{ }\\PY{err}{3}\\PY{err}{ }\\PY{err}{1}\\PY{err}{5}\\PY{err}{ }\\PY{err}{3}\\PY{err}{ }\\PY{err}{1}\\PY{err}{0}\\PY{err}{ }\\PY{err}{9}\\PY{err}{ }\\PY{err}{2}\\PY{err}{ }\\PY{err}{]}\n\\PY{err}{ }\\PY{err}{ }\\PY{err}{ }\\PY{err}{↑}\\PY{err}{ }\\PY{err}{ }\\PY{err}{ }\\PY{err}{ }\\PY{err}{ }\\PY{err}{ }\\PY{err}{ }\\PY{err}{ }\\PY{err}{ }\\PY{err}{ }\\PY{err}{ }\\PY{err}{ }\\PY{err}{ }\\PY{err}{ }\\PY{err}{ }\\PY{err}{ }\\PY{err}{ }\\PY{err}{ }\\PY{err}{ }\\PY{err}{↑}\\PY{err}{ }\\PY{err}{ }\n\\end{Verbatim}\n",
          "text/plain": "  x = 1\n[ 234 1 42 3 15 3 10 9 2 ]\n   ↑                   ↑  "
         },
         "metadata": {},
         "output_type": "display_data"
        }
       ]
      }
     },
     "1937f3287fb047b5a3bd8777bb200e8b": {
      "model_module": "@jupyter-widgets/controls",
      "model_module_version": "1.5.0",
      "model_name": "ButtonModel",
      "state": {
       "description": "Next",
       "layout": "IPY_MODEL_58a3ddf513aa4d46ba89e2d95d2bc458",
       "style": "IPY_MODEL_6e829181252644659b9e828a62a9a5a4"
      }
     },
     "1a9795f32d3e4e83b4a10efe53f9c531": {
      "model_module": "@jupyter-widgets/controls",
      "model_module_version": "1.5.0",
      "model_name": "HBoxModel",
      "state": {
       "children": [
        "IPY_MODEL_5dc7119e6b4a447da739b5296d949a93",
        "IPY_MODEL_5fa06350db9140ecb9833aa232b4140b",
        "IPY_MODEL_1937f3287fb047b5a3bd8777bb200e8b"
       ],
       "layout": "IPY_MODEL_e3849a6d84f14da6a94524a4fec77d5e"
      }
     },
     "1f0593de75df4a20a84ac6b538ff69c8": {
      "model_module": "@jupyter-widgets/base",
      "model_module_version": "1.2.0",
      "model_name": "LayoutModel",
      "state": {}
     },
     "260270bfb2614ab78f4177d588c5c530": {
      "model_module": "@jupyter-widgets/controls",
      "model_module_version": "1.5.0",
      "model_name": "SliderStyleModel",
      "state": {
       "description_width": ""
      }
     },
     "271af03435b74c2b85ea0c37ac060193": {
      "model_module": "@jupyter-widgets/base",
      "model_module_version": "1.2.0",
      "model_name": "LayoutModel",
      "state": {}
     },
     "350e256be3a74dee848c6b3c431637fb": {
      "model_module": "@jupyter-widgets/controls",
      "model_module_version": "1.5.0",
      "model_name": "VBoxModel",
      "state": {
       "_dom_classes": [
        "widget-interact"
       ],
       "children": [
        "IPY_MODEL_0812ea63395f481da1a89335748e1373",
        "IPY_MODEL_13662008c585433eae1503489b91c216"
       ],
       "layout": "IPY_MODEL_f4b799fa3a7748a39b4e0f70c5d6f7b7"
      }
     },
     "3da83eada5e64d5cb652ea3c0963fb77": {
      "model_module": "@jupyter-widgets/controls",
      "model_module_version": "1.5.0",
      "model_name": "DescriptionStyleModel",
      "state": {
       "description_width": ""
      }
     },
     "43323d17f76746c5aebadcf977d9732b": {
      "model_module": "@jupyter-widgets/controls",
      "model_module_version": "1.5.0",
      "model_name": "DescriptionStyleModel",
      "state": {
       "description_width": ""
      }
     },
     "45b0fb2389fa486ebbd38dac8a385803": {
      "model_module": "@jupyter-widgets/base",
      "model_module_version": "1.2.0",
      "model_name": "LayoutModel",
      "state": {}
     },
     "4a319e840c634a54a95fcf4ca7d12812": {
      "model_module": "@jupyter-widgets/controls",
      "model_module_version": "1.5.0",
      "model_name": "PlayModel",
      "state": {
       "interval": 400,
       "layout": "IPY_MODEL_d1ccda94fb044f6c9dd1b14905e69f45",
       "style": "IPY_MODEL_43323d17f76746c5aebadcf977d9732b"
      }
     },
     "58a3ddf513aa4d46ba89e2d95d2bc458": {
      "model_module": "@jupyter-widgets/base",
      "model_module_version": "1.2.0",
      "model_name": "LayoutModel",
      "state": {}
     },
     "5dc7119e6b4a447da739b5296d949a93": {
      "model_module": "@jupyter-widgets/controls",
      "model_module_version": "1.5.0",
      "model_name": "PlayModel",
      "state": {
       "interval": 400,
       "layout": "IPY_MODEL_754c7b709c6b48079a929d0272d2e3dc",
       "style": "IPY_MODEL_3da83eada5e64d5cb652ea3c0963fb77"
      }
     },
     "5fa06350db9140ecb9833aa232b4140b": {
      "model_module": "@jupyter-widgets/controls",
      "model_module_version": "1.5.0",
      "model_name": "ButtonModel",
      "state": {
       "description": "Prev",
       "layout": "IPY_MODEL_1f0593de75df4a20a84ac6b538ff69c8",
       "style": "IPY_MODEL_69169d8d9dda4fcc9ea5b38750cb3d37"
      }
     },
     "5fe2d60e61774007a0fb59e63658fa62": {
      "model_module": "@jupyter-widgets/controls",
      "model_module_version": "1.5.0",
      "model_name": "ButtonModel",
      "state": {
       "description": "Next",
       "layout": "IPY_MODEL_6b02d8b2e455474abffd1cb27bb7a26e",
       "style": "IPY_MODEL_782171eba40846e589706ba458567f6b"
      }
     },
     "69169d8d9dda4fcc9ea5b38750cb3d37": {
      "model_module": "@jupyter-widgets/controls",
      "model_module_version": "1.5.0",
      "model_name": "ButtonStyleModel",
      "state": {}
     },
     "6b02d8b2e455474abffd1cb27bb7a26e": {
      "model_module": "@jupyter-widgets/base",
      "model_module_version": "1.2.0",
      "model_name": "LayoutModel",
      "state": {}
     },
     "6e829181252644659b9e828a62a9a5a4": {
      "model_module": "@jupyter-widgets/controls",
      "model_module_version": "1.5.0",
      "model_name": "ButtonStyleModel",
      "state": {}
     },
     "754c7b709c6b48079a929d0272d2e3dc": {
      "model_module": "@jupyter-widgets/base",
      "model_module_version": "1.2.0",
      "model_name": "LayoutModel",
      "state": {}
     },
     "782171eba40846e589706ba458567f6b": {
      "model_module": "@jupyter-widgets/controls",
      "model_module_version": "1.5.0",
      "model_name": "ButtonStyleModel",
      "state": {}
     },
     "87b018ece2ff44848bf8ec8dc20ae9fe": {
      "model_module": "@jupyter-widgets/controls",
      "model_module_version": "1.5.0",
      "model_name": "SliderStyleModel",
      "state": {
       "description_width": ""
      }
     },
     "919ce9b0eb2d42baa6d59938438c190a": {
      "model_module": "@jupyter-widgets/controls",
      "model_module_version": "1.5.0",
      "model_name": "ButtonModel",
      "state": {
       "description": "Prev",
       "layout": "IPY_MODEL_45b0fb2389fa486ebbd38dac8a385803",
       "style": "IPY_MODEL_0a73d254fe654d2e9ad6a422b4ad80c0"
      }
     },
     "ac32177b79244c30b0d3d7801f50bcbb": {
      "model_module": "@jupyter-widgets/base",
      "model_module_version": "1.2.0",
      "model_name": "LayoutModel",
      "state": {}
     },
     "b88efe80ef364452b4e98af1efcd1f01": {
      "model_module": "@jupyter-widgets/base",
      "model_module_version": "1.2.0",
      "model_name": "LayoutModel",
      "state": {}
     },
     "b8c077b4c75e46ca862b0df5a1ce6ad9": {
      "model_module": "@jupyter-widgets/controls",
      "model_module_version": "1.5.0",
      "model_name": "IntSliderModel",
      "state": {
       "description": "step",
       "layout": "IPY_MODEL_cac445b14b994d7ba37a5dff06a29635",
       "max": 19,
       "style": "IPY_MODEL_87b018ece2ff44848bf8ec8dc20ae9fe"
      }
     },
     "bf4f2622acfe4b41b40e010d074e0c7a": {
      "model_module": "@jupyter-widgets/controls",
      "model_module_version": "1.5.0",
      "model_name": "HBoxModel",
      "state": {
       "children": [
        "IPY_MODEL_4a319e840c634a54a95fcf4ca7d12812",
        "IPY_MODEL_919ce9b0eb2d42baa6d59938438c190a",
        "IPY_MODEL_5fe2d60e61774007a0fb59e63658fa62"
       ],
       "layout": "IPY_MODEL_271af03435b74c2b85ea0c37ac060193"
      }
     },
     "c2b4ba9d5f604b918dfee373833d26c5": {
      "model_module": "@jupyter-widgets/controls",
      "model_module_version": "1.5.0",
      "model_name": "LinkModel",
      "state": {
       "source": [
        "IPY_MODEL_5dc7119e6b4a447da739b5296d949a93",
        "value"
       ],
       "target": [
        "IPY_MODEL_0812ea63395f481da1a89335748e1373",
        "value"
       ]
      }
     },
     "cac445b14b994d7ba37a5dff06a29635": {
      "model_module": "@jupyter-widgets/base",
      "model_module_version": "1.2.0",
      "model_name": "LayoutModel",
      "state": {}
     },
     "d1ccda94fb044f6c9dd1b14905e69f45": {
      "model_module": "@jupyter-widgets/base",
      "model_module_version": "1.2.0",
      "model_name": "LayoutModel",
      "state": {}
     },
     "e3849a6d84f14da6a94524a4fec77d5e": {
      "model_module": "@jupyter-widgets/base",
      "model_module_version": "1.2.0",
      "model_name": "LayoutModel",
      "state": {}
     },
     "f4b799fa3a7748a39b4e0f70c5d6f7b7": {
      "model_module": "@jupyter-widgets/base",
      "model_module_version": "1.2.0",
      "model_name": "LayoutModel",
      "state": {}
     },
     "fb3a08abc5e74dd0981c6372258db5e8": {
      "model_module": "@jupyter-widgets/controls",
      "model_module_version": "1.5.0",
      "model_name": "VBoxModel",
      "state": {
       "_dom_classes": [
        "widget-interact"
       ],
       "children": [
        "IPY_MODEL_b8c077b4c75e46ca862b0df5a1ce6ad9",
        "IPY_MODEL_0afcb388ada94cb5a573001e3ca3a371"
       ],
       "layout": "IPY_MODEL_b88efe80ef364452b4e98af1efcd1f01"
      }
     },
     "fdf9410cea56484e93dc30ff98662d20": {
      "model_module": "@jupyter-widgets/base",
      "model_module_version": "1.2.0",
      "model_name": "LayoutModel",
      "state": {}
     }
    },
    "version_major": 2,
    "version_minor": 0
   }
  }
 },
 "nbformat": 4,
 "nbformat_minor": 4
}
