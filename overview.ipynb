{
 "cells": [
  {
   "cell_type": "markdown",
   "metadata": {},
   "source": [
    "# Интерактивные анимационные примеры алгоритмов с помощью виджетов\n",
    "Jupyter уже давно зарекомендовал себя как удобную платформу для работы в различных областях на стыке программирования, анализа данных, машинного обучения, математики и других. Вот например очень известная \"[книга](https://jakevdp.github.io/PythonDataScienceHandbook/)\" по анализу данных, состоящая из блокнотов на базе Jupyter. Поддержка $\\TeX$, markdown, html дает возможность использовать использовать Jupyter в качестве платформы для написания научного материала. Преимущество таких блокнотов заключается в интерактивности, возможности сопровождать сухой материал примерами программ, сопроваждающих материал. При этом эта интерактивность очень естественна и проста в использовании. Этот репозиторий представляет собой набор примеров с различными алгоритмами, анимизированными с помощью инструментов Jupyter, эти анимации построены на виджетах и стандартных инструментах визуализации. В этом блокноте можно увидеть несколько базовых примеров, как можно использовать виджеты для визуализации."
   ]
  },
  {
   "cell_type": "markdown",
   "metadata": {},
   "source": [
    "## IPyWidgets\n",
    "Основным инструментом для визуализации является `ipywidgets`, мы будем использовать простую обвертку, которая анимирует содержание списка"
   ]
  },
  {
   "cell_type": "code",
   "execution_count": 1,
   "metadata": {},
   "outputs": [
    {
     "data": {
      "application/vnd.jupyter.widget-view+json": {
       "model_id": "b0d92b1d1a7443f79381dd9c94b7b0a8",
       "version_major": 2,
       "version_minor": 0
      },
      "text/plain": [
       "Play(value=0, interval=400)"
      ]
     },
     "metadata": {},
     "output_type": "display_data"
    },
    {
     "data": {
      "application/vnd.jupyter.widget-view+json": {
       "model_id": "afc4a3680d9c48bba374fc8cb04aa249",
       "version_major": 2,
       "version_minor": 0
      },
      "text/plain": [
       "interactive(children=(IntSlider(value=0, description='step', max=9), Output()), _dom_classes=('widget-interact…"
      ]
     },
     "metadata": {},
     "output_type": "display_data"
    }
   ],
   "source": [
    "from animation_utils.animation import animate_list\n",
    "\n",
    "a = [10, 9, 8, 7, 6, 5, 4, 3, 2, 1]\n",
    "animate_list(a, play=True, interval=400);"
   ]
  },
  {
   "cell_type": "markdown",
   "metadata": {},
   "source": [
    "## Текстовые анимации\n",
    "Виджеты чтобы проилюстрировать а стандартные алгоритмы для работы с последовательностями. Начнем с классической быстрой сортировки, я буду использовать `IPython.display.Code` как один из способов сохранить объект из нескольких строк, хотя это можно сделать и проще"
   ]
  },
  {
   "cell_type": "code",
   "execution_count": 2,
   "metadata": {},
   "outputs": [],
   "source": [
    "from IPython.display import Code\n",
    "def qsort_state(array, left, right, x, p, q):\n",
    "    extended_array = list(map(str, array[:left])) + ['['] + list(map(str, array[left: right])) + [']'] + list(map(str, array[right:]))\n",
    "    offset_x = sum(list(map(len, extended_array[:left]))) + left + 2\n",
    "    zero_line = ''.join([' ' for i in range(offset_x)]) + f'x = {x}'\n",
    "    first_line = ' '.join(extended_array)\n",
    "    offset_p = sum(list(map(len, extended_array[:p + 1]))) + p + 1 + len(extended_array[p + 1]) // 2\n",
    "    offset_q = sum(list(map(len, extended_array[:q + 1]))) + q + 1 + len(extended_array[q + 1]) // 2\n",
    "    second_line = ''.join([' ' if i != offset_p and i != offset_q else '↑' for i in range(len(first_line))])\n",
    "\n",
    "    return Code(zero_line + '\\n' + first_line + '\\n' + second_line)"
   ]
  },
  {
   "cell_type": "code",
   "execution_count": 3,
   "metadata": {},
   "outputs": [],
   "source": [
    "import random\n",
    "\n",
    "def qsort(array, left, right, states):\n",
    "    if right - left <= 1:\n",
    "        return\n",
    "    x = array[random.randint(left, right - 1)]\n",
    "    p = left\n",
    "    q = right - 1\n",
    "    states.append(qsort_state(array, left, right, x, p, q))\n",
    "    while p <= q:\n",
    "        while array[p] < x:\n",
    "            p += 1\n",
    "            states.append(qsort_state(array, left, right, x, p, q))\n",
    "        while array[q] > x:\n",
    "            q -= 1\n",
    "            states.append(qsort_state(array, left, right, x, p, q))\n",
    "        if p <= q:\n",
    "            array[p], array[q] = (array[q], array[p])\n",
    "            states.append(qsort_state(array, left, right, x, p, q))\n",
    "            p += 1\n",
    "            q -= 1\n",
    "            if p <= q:\n",
    "                states.append(qsort_state(array, left, right, x, p, q))\n",
    "    qsort(array, left, q + 1, states)\n",
    "    qsort(array, p, right, states)   "
   ]
  },
  {
   "cell_type": "code",
   "execution_count": 4,
   "metadata": {},
   "outputs": [
    {
     "data": {
      "application/vnd.jupyter.widget-view+json": {
       "model_id": "925fdfc798164641a42417ac2ac26a29",
       "version_major": 2,
       "version_minor": 0
      },
      "text/plain": [
       "Play(value=0, interval=400)"
      ]
     },
     "metadata": {},
     "output_type": "display_data"
    },
    {
     "data": {
      "application/vnd.jupyter.widget-view+json": {
       "model_id": "e24fb917c9524ef3be98ea54d180a806",
       "version_major": 2,
       "version_minor": 0
      },
      "text/plain": [
       "interactive(children=(IntSlider(value=0, description='step', max=36), Output()), _dom_classes=('widget-interac…"
      ]
     },
     "metadata": {},
     "output_type": "display_data"
    }
   ],
   "source": [
    "a = [234, 1, 42, 3, 15, 3, 10, 9, 2]\n",
    "states = []\n",
    "qsort(a, 0, len(a), states)\n",
    "animate_list(states, play=True, interval=400);"
   ]
  },
  {
   "cell_type": "markdown",
   "metadata": {},
   "source": [
    "Раз уж затронули сортировку, давайте тогда и с бинарный поиск продемонстрируем"
   ]
  },
  {
   "cell_type": "code",
   "execution_count": 5,
   "metadata": {
    "jupyter": {
     "source_hidden": true
    }
   },
   "outputs": [],
   "source": [
    "def bs_state(array, left, right, x):\n",
    "    extended_array = list(map(str, array[:left])) + ['['] + list(map(str, array[left: right])) + [']'] + list(map(str, array[right:])) \n",
    "    mid = (left + right) // 2\n",
    "    offset_x = sum(list(map(len, extended_array[:mid + 1]))) + mid + 1\n",
    "    return Code(' '.join(extended_array) + '\\n' + ''.join([' ' for i in range(offset_x)]) + str(x))"
   ]
  },
  {
   "cell_type": "code",
   "execution_count": 6,
   "metadata": {},
   "outputs": [
    {
     "data": {
      "application/vnd.jupyter.widget-view+json": {
       "model_id": "0ec77df9f49440b7a6caa4ba9b1be3c0",
       "version_major": 2,
       "version_minor": 0
      },
      "text/plain": [
       "Play(value=0, interval=400)"
      ]
     },
     "metadata": {},
     "output_type": "display_data"
    },
    {
     "data": {
      "application/vnd.jupyter.widget-view+json": {
       "model_id": "7b6a9588717b418fa5c112d6bdbddcdd",
       "version_major": 2,
       "version_minor": 0
      },
      "text/plain": [
       "interactive(children=(IntSlider(value=0, description='step', max=3), Output()), _dom_classes=('widget-interact…"
      ]
     },
     "metadata": {},
     "output_type": "display_data"
    }
   ],
   "source": [
    "# Эта версия бинарного поиска находит последний элемент, который\n",
    "# меньше или равен искомого\n",
    "states = []\n",
    "left = 0\n",
    "right = len(a)\n",
    "x = 14\n",
    "while right - left > 1:\n",
    "    states.append(bs_state(a, left, right, x))\n",
    "    mid = (left + right) // 2\n",
    "    if a[mid] <= x:\n",
    "        left = mid\n",
    "    else:\n",
    "        right = mid\n",
    "states.append(bs_state(a, left, right, x))\n",
    "\n",
    "animate_list(states, play=True, interval=400);"
   ]
  },
  {
   "cell_type": "markdown",
   "metadata": {},
   "source": [
    "Можно визуализировать процесс построения префикс-функции"
   ]
  },
  {
   "cell_type": "code",
   "execution_count": 7,
   "metadata": {
    "jupyter": {
     "source_hidden": true
    }
   },
   "outputs": [],
   "source": [
    "def prefix_function_state(s, p, k, intermidiate=False):\n",
    "    third_string = ''.join([s[i] if i < k else ' ' for i in range(len(p))])\n",
    "    fourth_string = ''.join([s[i] if i >= len(p) - k else ' ' for i in range(len(p))])\n",
    "    return Code(s + '\\n' + ''.join(list(map(str, (p + ['*'] if intermidiate else p )))) \\\n",
    "                  + '\\n' + third_string + '\\n' + fourth_string)"
   ]
  },
  {
   "cell_type": "code",
   "execution_count": 8,
   "metadata": {
    "jupyter": {
     "source_hidden": true
    }
   },
   "outputs": [],
   "source": [
    "def prefix_function(s, states):\n",
    "    p = [0]\n",
    "    k = 0\n",
    "    states.append(prefix_function_state(s, p, k))\n",
    "    for letter in s[1:]:\n",
    "        states.append(prefix_function_state(s, p, k, True))\n",
    "        while k > 0 and s[k] != letter:\n",
    "            k = p[k - 1]\n",
    "            states.append(prefix_function_state(s, p, k, True))\n",
    "        if s[k] == letter:\n",
    "            k += 1\n",
    "        p.append(k)\n",
    "        states.append(prefix_function_state(s, p, k))\n",
    "    return p"
   ]
  },
  {
   "cell_type": "code",
   "execution_count": 9,
   "metadata": {},
   "outputs": [
    {
     "data": {
      "application/vnd.jupyter.widget-view+json": {
       "model_id": "dd7cfcb4fa8a484fbf11fa0d071bc03c",
       "version_major": 2,
       "version_minor": 0
      },
      "text/plain": [
       "Play(value=0, interval=400)"
      ]
     },
     "metadata": {},
     "output_type": "display_data"
    },
    {
     "data": {
      "application/vnd.jupyter.widget-view+json": {
       "model_id": "4450dcb273304bbc841d6785a6dc66c3",
       "version_major": 2,
       "version_minor": 0
      },
      "text/plain": [
       "interactive(children=(IntSlider(value=0, description='step', max=22), Output()), _dom_classes=('widget-interac…"
      ]
     },
     "metadata": {},
     "output_type": "display_data"
    }
   ],
   "source": [
    "states = []\n",
    "p = prefix_function('ababadababa', states)\n",
    "animate_list(states, play=True, interval=400);"
   ]
  },
  {
   "cell_type": "markdown",
   "metadata": {},
   "source": [
    "## Matplotlib\n",
    "Matplotlib -- библиотека Python для отрисовки различных графиков. Вот несколько примеров как можно её использовать для визуализации алгоритмов. Начнем с примера итеративных алгоритмов поиска минимума функции, наиболее простым из которых является метод случайного локального поиска, которые делает локальное изменение текущего приближения и переходит в него если значение там оказалось лучше"
   ]
  },
  {
   "cell_type": "code",
   "execution_count": 10,
   "metadata": {},
   "outputs": [
    {
     "data": {
      "application/vnd.jupyter.widget-view+json": {
       "model_id": "e49da8f27c654d74b0b57cc4ed633742",
       "version_major": 2,
       "version_minor": 0
      },
      "text/plain": [
       "Play(value=0, interval=400)"
      ]
     },
     "metadata": {},
     "output_type": "display_data"
    },
    {
     "data": {
      "application/vnd.jupyter.widget-view+json": {
       "model_id": "e1313b6734fc408aacef55f1a58207c0",
       "version_major": 2,
       "version_minor": 0
      },
      "text/plain": [
       "interactive(children=(IntSlider(value=0, description='step', max=49), Output()), _dom_classes=('widget-interac…"
      ]
     },
     "metadata": {},
     "output_type": "display_data"
    }
   ],
   "source": [
    "import numpy as np\n",
    "import matplotlib.pyplot as plt\n",
    "\n",
    "# Функция, которую минимизируем, минимум в точке (0, 0)\n",
    "def f(x, y):\n",
    "    return 1.3 * (x - y) ** 2 + 0.7 * (x + y) ** 2\n",
    "\n",
    "# Отрисовка траектории и линий уровня функции\n",
    "def plot_trajectory(func, traj, limit_point=None):\n",
    "    fig = plt.figure(figsize=(7, 7))\n",
    "    ax = fig.add_axes([0, 0, 1, 1])    \n",
    "    \n",
    "    if limit_point:\n",
    "        ax.plot([limit_point[0]], [limit_point[1]], 'o', color='green')\n",
    "    #Level contours\n",
    "    delta = 0.025\n",
    "    x = np.arange(-2, 2, delta)\n",
    "    y = np.arange(-2, 2, delta)\n",
    "    X, Y = np.meshgrid(x, y)\n",
    "    Z = np.zeros_like(X)\n",
    "    for i in range(X.shape[0]):\n",
    "        for j in range(X.shape[1]):\n",
    "            Z[i][j] = func(X[i][j], Y[i][j])\n",
    "    CS = ax.contour(X, Y, Z, [0.5, 1.5, 3], colors=['blue', 'purple', 'red'])\n",
    "    ax.plot([u[0] for u in traj], [u[1] for u in traj], color='black')\n",
    "    ax.plot([u[0] for u in traj], [u[1] for u in traj], 'o', color='black')\n",
    "    \n",
    "    plt.close(fig)\n",
    "    return fig\n",
    "\n",
    "x, y = (1.0, 1.0)\n",
    "num_iters = 50\n",
    "trajectory = [(x, y)]\n",
    "plots = []\n",
    "# Итерируемся и сохраняем текущий путь на каждом шаге\n",
    "for i in range(num_iters):\n",
    "    angle = 2 * np.pi * np.random.rand(1)\n",
    "    dx, dy = (np.cos(angle) / 2 / (i + 1) ** 0.5, np.sin(angle) / 2 / (i + 1) ** 0.5)\n",
    "    trajectory.append((x + dx, y + dy))\n",
    "    plots.append(plot_trajectory(f, trajectory, limit_point=(0, 0)))\n",
    "    if f(x, y) > f(x + dx, y + dy):\n",
    "        x = x + dx\n",
    "        y = y + dy\n",
    "    else:\n",
    "        trajectory = trajectory[:-1]\n",
    "\n",
    "animate_list(plots, play=True, interval=400);"
   ]
  },
  {
   "cell_type": "markdown",
   "metadata": {},
   "source": [
    "А вот другой пример для воспроизведения ЕМ алгоритма для данных извержения Old Faithful гейзера с википедии"
   ]
  },
  {
   "cell_type": "code",
   "execution_count": 11,
   "metadata": {
    "jupyter": {
     "source_hidden": true
    }
   },
   "outputs": [],
   "source": [
    "# Данные можно взять например здесь\n",
    "# http://www.stat.cmu.edu/~larry/all-of-statistics/=data/faithful.dat\n",
    "data = []\n",
    "with open('data/faithful.csv') as f:\n",
    "    for line in f:\n",
    "        _, x, y = line.split(',')\n",
    "        try:\n",
    "            data.append((float(x), float(y)))\n",
    "        except ValueError:\n",
    "            pass"
   ]
  },
  {
   "cell_type": "code",
   "execution_count": 12,
   "metadata": {
    "jupyter": {
     "source_hidden": true
    }
   },
   "outputs": [],
   "source": [
    "colors = ['red', 'blue', 'yellow', 'green']\n",
    "\n",
    "# За основу взято https://jakevdp.github.io/PythonDataScienceHandbook/05.12-gaussian-mixtures.html\n",
    "from matplotlib.patches import Ellipse\n",
    "\n",
    "def draw_ellipse(position, covariance, ax=None, **kwargs):\n",
    "    \"\"\"Draw an ellipse with a given position and covariance\"\"\"\n",
    "    ax = ax or plt.gca()\n",
    "    \n",
    "    # Convert covariance to principal axes\n",
    "    if covariance.shape == (2, 2):\n",
    "        U, s, Vt = np.linalg.svd(covariance)\n",
    "        angle = np.degrees(np.arctan2(U[1, 0], U[0, 0]))\n",
    "        width, height = 2 * np.sqrt(s)\n",
    "    else:\n",
    "        angle = 0\n",
    "        width, height = 2 * np.sqrt(covariance)\n",
    "    \n",
    "    # Draw the Ellipse\n",
    "    for nsig in range(1, 4):\n",
    "        ax.add_patch(Ellipse(position, nsig * width, nsig * height,\n",
    "                             angle, color='red', **kwargs))\n",
    "        \n",
    "def plot_gmm(gmm, X, label=True, ax=None):\n",
    "    ax = ax or plt.gca()\n",
    "    if label:\n",
    "        labels = gmm.predict(X)\n",
    "        ax.scatter(X[:, 0], X[:, 1], c=labels, s=20, cmap='plasma', zorder=2)\n",
    "    else:\n",
    "        ax.scatter(X[:, 0], X[:, 1], s=20, zorder=2)\n",
    "    \n",
    "    w_factor = 0.2 / gmm.weights_.max()\n",
    "    for pos, covar, w in zip(gmm.means_, gmm.covariances_, gmm.weights_):\n",
    "        draw_ellipse(pos, covar, alpha=w * w_factor)\n",
    "        \n",
    "def step_figure(gmm, X, label=True):\n",
    "    fig = plt.figure(figsize=(7, 7))\n",
    "    ax = fig.add_axes([0, 0, 1, 1])\n",
    "    ax.set_ylim(30, 100)\n",
    "    ax.set_xlim(1, 6)\n",
    "    plot_gmm(gmm, X, label=True, ax=ax)\n",
    "    plt.close(fig)\n",
    "    return fig"
   ]
  },
  {
   "cell_type": "code",
   "execution_count": 13,
   "metadata": {
    "jupyter": {
     "source_hidden": true
    },
    "pycharm": {
     "name": "#%%\n"
    }
   },
   "outputs": [],
   "source": [
    "from sklearn.mixture import GaussianMixture\n",
    "\n",
    "x = np.array(data)\n",
    "# max_iters=1 и warm_start=True заставляют gmm.fit делать ровно одну итерацию\n",
    "# и сохранять состояние\n",
    "gmm = GaussianMixture(2, warm_start=True, init_params='random', max_iter=1)\n",
    "# GMM выдает предупреждения на то, что одной итерации мало\n",
    "import warnings \n",
    "warnings.simplefilter('ignore')\n",
    "# Инициализируем на небольшой порции данных\n",
    "gmm.fit(x[:10,:])\n",
    "steps = [step_figure(gmm, x)]   \n",
    "for i in range(17):\n",
    "    gmm.fit(x)\n",
    "    steps.append(step_figure(gmm, x))"
   ]
  },
  {
   "cell_type": "code",
   "execution_count": 14,
   "metadata": {},
   "outputs": [
    {
     "data": {
      "application/vnd.jupyter.widget-view+json": {
       "model_id": "9518bcf2e40f4c7f8d84eef352ef9744",
       "version_major": 2,
       "version_minor": 0
      },
      "text/plain": [
       "Play(value=0, interval=400)"
      ]
     },
     "metadata": {},
     "output_type": "display_data"
    },
    {
     "data": {
      "application/vnd.jupyter.widget-view+json": {
       "model_id": "8a224873b41e436ca9d161e46a2c6033",
       "version_major": 2,
       "version_minor": 0
      },
      "text/plain": [
       "interactive(children=(IntSlider(value=0, description='step', max=17), Output()), _dom_classes=('widget-interac…"
      ]
     },
     "metadata": {},
     "output_type": "display_data"
    }
   ],
   "source": [
    "animate_list(steps, play=True, interval=400);"
   ]
  },
  {
   "cell_type": "markdown",
   "metadata": {},
   "source": [
    "Следующий пример скорее игрушечный, визуализация замощения фигуры на плоскости максимальным числом доминошек с помощью нахождения максимального паросочетания"
   ]
  },
  {
   "cell_type": "code",
   "execution_count": 15,
   "metadata": {
    "jupyter": {
     "source_hidden": true
    }
   },
   "outputs": [],
   "source": [
    "# Обертка над matplotlib для отрисовки прямоугольника, разделенного на квадраты разных цветов\n",
    "from animation_utils.matplotlib import draw_filling\n",
    "\n",
    "def check_valid(i, j, n, m, tiling):\n",
    "    return 0 <= i and i < n and 0 <= j and j < m and tiling[i][j] != '#'\n",
    "\n",
    "def find_augmenting_path(x, y, n, m, visited, matched, tiling):\n",
    "    if not check_valid(x, y, n, m, tiling):\n",
    "        return False\n",
    "    if (x, y) in visited:\n",
    "        return False\n",
    "    visited.add((x, y))\n",
    "    \n",
    "    for dx, dy in [(-1, 0), (1, 0), (0, -1), (0, 1)]:\n",
    "        if not check_valid(x + dx, y + dy, n, m, tiling):\n",
    "            continue\n",
    "        if (x + dx, y + dy) not in matched or find_augmenting_path(*matched[(x + dx , y + dy)], n, m, visited, matched, tiling):\n",
    "            matched[(x + dx, y + dy)] = (x, y)\n",
    "            return True\n",
    "    return False\n",
    "\n",
    "def convert_match(matched, tiling, n, m):\n",
    "    result = [[-1 if tiling[i][j] == '#' else -2 for j in range(m)] for i in range(n)]\n",
    "    num = 0\n",
    "    for x, y in matched:\n",
    "        _x, _y = matched[(x, y)]\n",
    "        result[x][y] = num\n",
    "        result[_x][_y] = num\n",
    "        num += 1\n",
    "    return result\n",
    "\n",
    "def match_with_flow(tiling):\n",
    "    result_slices = []\n",
    "    n = len(tiling)\n",
    "    m = len(tiling[0])\n",
    "    \n",
    "    matched = dict()\n",
    "    # Для наглядности визуализации\n",
    "    rows = list(range(n))\n",
    "    columns = list(range(m))\n",
    "    random.shuffle(rows)\n",
    "    random.shuffle(columns)\n",
    "    result_slices.append(convert_match(matched, tiling, n, m))\n",
    "            \n",
    "    for i in rows:\n",
    "        for j in columns:\n",
    "            if (i + j) % 2 == 1:\n",
    "                continue\n",
    "            visited = set()\n",
    "            if find_augmenting_path(i, j, n, m, visited, matched, tiling):\n",
    "                result_slices.append(convert_match(matched, tiling, n, m))\n",
    "            \n",
    "    return result_slices"
   ]
  },
  {
   "cell_type": "code",
   "execution_count": 16,
   "metadata": {
    "jupyter": {
     "source_hidden": true
    }
   },
   "outputs": [
    {
     "data": {
      "application/vnd.jupyter.widget-view+json": {
       "model_id": "1d74f37724cb48d28ff09ee33f8e7806",
       "version_major": 2,
       "version_minor": 0
      },
      "text/plain": [
       "Play(value=0, interval=200)"
      ]
     },
     "metadata": {},
     "output_type": "display_data"
    },
    {
     "data": {
      "application/vnd.jupyter.widget-view+json": {
       "model_id": "c57816a90dad4325b122ee9573507f03",
       "version_major": 2,
       "version_minor": 0
      },
      "text/plain": [
       "interactive(children=(IntSlider(value=0, description='step', max=15), Output()), _dom_classes=('widget-interac…"
      ]
     },
     "metadata": {},
     "output_type": "display_data"
    }
   ],
   "source": [
    "tiling_custom=[\n",
    "    '...####',\n",
    "    '....###',\n",
    "    '......#',\n",
    "    '#.#....',\n",
    "    '#......',\n",
    "    '##.....',\n",
    "    '###...#',\n",
    "]\n",
    "sequencial_match = match_with_flow(tiling_custom)\n",
    "animate_list(list(map(draw_filling, sequencial_match)), play=True);"
   ]
  },
  {
   "cell_type": "code",
   "execution_count": 17,
   "metadata": {
    "jupyter": {
     "source_hidden": true
    }
   },
   "outputs": [],
   "source": [
    "def color_5(filling):\n",
    "    result = [[i for i in row] for row in filling]\n",
    "    # Строим граф\n",
    "    domino_tiles = [[] for i in range(max(map(max, filling)) + 1)]\n",
    "    domino_neighbours = [set() for i in range(max(map(max, filling)) + 1)]\n",
    "    degree = [0 for i in range(max(map(max, filling)) + 1)]\n",
    "    \n",
    "    n = len(filling)\n",
    "    m = len(filling[0])\n",
    "    \n",
    "    for i, row in enumerate(filling):\n",
    "        for j, num in enumerate(row):\n",
    "            if num >= 0:\n",
    "                domino_tiles[num].append((i, j))\n",
    "                \n",
    "    for i, tiles in enumerate(domino_tiles):\n",
    "        for x, y in tiles:\n",
    "            for dx, dy in [(-1, 0), (1, 0), (0, -1), (0, 1), (-1, -1), (-1, 1), (1, -1), (1, 1)]:\n",
    "                a, b = x + dx, y + dy\n",
    "                if 0 <= a and a < n and 0 <= b and b < m and filling[a][b] >= 0 and filling[a][b] != i \\\n",
    "                        and filling[a][b] not in domino_neighbours[i]:\n",
    "                    domino_neighbours[i].add(filling[a][b])\n",
    "                    degree[i] += 1\n",
    "    \n",
    "    # Первым делом нужно найти такой порядок вершин, все вершины имели не больше 5 соседей среди\n",
    "    # предыдущих. Такой существует в силу того, что граф планарный, а найти его эффективнее всего\n",
    "    # по очереди находя вершину наименшей степени и удаляя её из графа, так мы получем обратный порядок\n",
    "    active_degrees = [set() for i in range(max(degree) + 1)]\n",
    "    for i, deg in enumerate(degree):\n",
    "        active_degrees[deg].add(i)\n",
    "    \n",
    "    reversed_order = []\n",
    "    \n",
    "    for step in range(len(domino_tiles)):\n",
    "        min_degree = min([i for i, dominoes in enumerate(active_degrees) if len(dominoes) > 0])\n",
    "        domino = active_degrees[min_degree].pop()\n",
    "        \n",
    "        reversed_order.append(domino)\n",
    "        for other in domino_neighbours[domino]:\n",
    "            if other in active_degrees[degree[other]]:\n",
    "                active_degrees[degree[other]].remove(other)\n",
    "                degree[other] -= 1\n",
    "                active_degrees[degree[other]].add(other)                \n",
    "        \n",
    "    # Теперь перебираем в обратном порядке и либо красим в еще не занятый цвет,\n",
    "    # если есть свободный из 5 цветов, иначе находим цепочку из чередующихся цветов,\n",
    "    # которые могут быть перекрашены. Такая найдется в силу планарности\n",
    "    colors = [-1 for domino in domino_tiles]\n",
    "    slices = [draw_filling(result)]\n",
    "    for domino in reversed(reversed_order):\n",
    "        used_colors = [colors[other] for other in domino_neighbours[domino] if colors[other] != -1]\n",
    "        \n",
    "        domino_color = len(used_colors)\n",
    "        for i, color in enumerate(sorted(set(used_colors))):\n",
    "            if i != color:\n",
    "                domino_color = i\n",
    "                break\n",
    "     \n",
    "        if domino_color < 5:\n",
    "            colors[domino] = domino_color\n",
    "            for x, y in domino_tiles[domino]:\n",
    "                result[x][y] = domino_color\n",
    "                \n",
    "            slices.append(draw_filling(result))        \n",
    "            continue\n",
    "           \n",
    "        # Начиная отсюда код я не тестировал, не нашел примера        \n",
    "        c = 0\n",
    "        other = [other for other in domino_neighbours[domino] if colors[other] == c]\n",
    "        visited = set([other])\n",
    "        q = Queue()\n",
    "        q.put(other)\n",
    "        domino_was_reached = False\n",
    "        while not q.empty():\n",
    "            cur = q.get()\n",
    "            for other in domino_neighbours[cur]:\n",
    "                if other == domino:\n",
    "                    domino_was_reached = True\n",
    "                    break\n",
    "                if color[other] == c or color[other] == c + 1 and other not in visited:\n",
    "                    visited.add(other)\n",
    "                    q.put(other)\n",
    "                    \n",
    "        if not domino_was_reached:\n",
    "            for other in visited:\n",
    "                color[other] = color[other] ^ 1\n",
    "                for x, y in domino_tiles[other]:\n",
    "                    result[x][y] = color[other]\n",
    "            color[domino] = c\n",
    "            for x, y in domino_tiles[domino]:\n",
    "                result[x][y] = c\n",
    "                \n",
    "            slices.append(draw_filling(result))\n",
    "            continue\n",
    "            \n",
    "        # Проделываем тоже самое для 2 и 3.\n",
    "        c = 2\n",
    "        other = [other for other in domino_neighbours[domino] if colors[other] == c]\n",
    "        visited = set([other])\n",
    "        q = Queue()\n",
    "        q.put(other)\n",
    "        domino_was_reached = False\n",
    "        while not q.empty():\n",
    "            cur = q.get()\n",
    "            for other in domino_neighbours[cur]:\n",
    "                if other == domino:\n",
    "                    domino_was_reached = True\n",
    "                    break\n",
    "                if color[other] == c or color[other] == c + 1 and other not in visited:\n",
    "                    visited.add(other)\n",
    "                    q.put(other)\n",
    "        for other in visited:\n",
    "            color[other] = color[other] ^ 1\n",
    "            for x, y in domino_tiles[other]:\n",
    "                result[x][y] = color[other]\n",
    "        color[domino] = c\n",
    "        for x, y in domino_tiles[domino]:\n",
    "            result[x][y] = c\n",
    "        slices.append(draw_filling(result))\n",
    "                    \n",
    "    return result, slices"
   ]
  },
  {
   "cell_type": "code",
   "execution_count": 18,
   "metadata": {
    "jupyter": {
     "source_hidden": true
    }
   },
   "outputs": [
    {
     "data": {
      "application/vnd.jupyter.widget-view+json": {
       "model_id": "23463a6488c2459d975d54c9f65a71b7",
       "version_major": 2,
       "version_minor": 0
      },
      "text/plain": [
       "Play(value=0, interval=200)"
      ]
     },
     "metadata": {},
     "output_type": "display_data"
    },
    {
     "data": {
      "application/vnd.jupyter.widget-view+json": {
       "model_id": "92cdc2a8b4464d94ba6196507c4119fa",
       "version_major": 2,
       "version_minor": 0
      },
      "text/plain": [
       "interactive(children=(IntSlider(value=0, description='step', max=15), Output()), _dom_classes=('widget-interac…"
      ]
     },
     "metadata": {},
     "output_type": "display_data"
    }
   ],
   "source": [
    "filling_colored, slices =color_5(sequencial_match[-1])\n",
    "animate_list(slices, play=True);"
   ]
  },
  {
   "cell_type": "markdown",
   "metadata": {},
   "source": [
    "Вполне можно визуализировать алгоритмы вычислительной геометрии на плоскости, вот например алгоритм Грэхэма-Эндрю для построения выпуклой оболочки"
   ]
  },
  {
   "cell_type": "code",
   "execution_count": 19,
   "metadata": {},
   "outputs": [],
   "source": [
    "def convex_hull_state(points, lower_path, upper_path):\n",
    "    fig = plt.figure(figsize=(6, 6))\n",
    "    ax = fig.add_axes([0, 0, 1, 1])\n",
    "    \n",
    "    ax.get_xaxis().set_visible(False)\n",
    "    ax.get_yaxis().set_visible(False)\n",
    "\n",
    "    for name, spine in ax.spines.items():\n",
    "        spine.set_visible(False)\n",
    "        spine.set_visible(False)\n",
    "    \n",
    "    ax.scatter([x for x, y in points], [y for x, y in points])\n",
    "    ax.plot([x for x, _ in lower_path], [y for _, y in lower_path], color='red')\n",
    "    ax.plot([x for x, _ in upper_path], [y for _, y in upper_path], color='blue')\n",
    "    \n",
    "    plt.close(fig)\n",
    "    return fig\n",
    "\n",
    "def vector_prod(point_a, point_b):\n",
    "    return point_a[0] *  point_b[1] - point_a[1] * point_b[0]\n",
    "\n",
    "def convex_hull(poitns):\n",
    "    sorted_points = sorted(points, key=lambda x: x[1])\n",
    "    sorted_points = sorted(sorted_points, key=lambda x: x[0])\n",
    "    states = []\n",
    "    \n",
    "    upper_path = [sorted_points[0]]\n",
    "    lower_path = [sorted_points[0]]\n",
    "    states.append(convex_hull_state(points, lower_path, upper_path))\n",
    "    \n",
    "    for point in sorted_points[1:]:\n",
    "        while len(upper_path) > 1 and vector_prod(point - upper_path[-1], upper_path[-1] - upper_path[-2]) > 0:\n",
    "            upper_path.append(point)\n",
    "            states.append(convex_hull_state(poitns, lower_path, upper_path))\n",
    "            upper_path = upper_path[:-1]\n",
    "            upper_path = upper_path[:-1]\n",
    "        upper_path.append(point)\n",
    "        states.append(convex_hull_state(points, lower_path, upper_path))\n",
    "        \n",
    "    for point in sorted_points[1:]:\n",
    "        while len(lower_path) > 1 and vector_prod(point - lower_path[-1], lower_path[-1] - lower_path[-2]) < 0:\n",
    "            lower_path.append(point)\n",
    "            states.append(convex_hull_state(poitns, lower_path, upper_path))\n",
    "            lower_path = lower_path[:-1]\n",
    "            lower_path = lower_path[:-1]\n",
    "        lower_path.append(point)\n",
    "        states.append(convex_hull_state(poitns, lower_path, upper_path))\n",
    "    \n",
    "    return states"
   ]
  },
  {
   "cell_type": "code",
   "execution_count": 20,
   "metadata": {},
   "outputs": [
    {
     "data": {
      "application/vnd.jupyter.widget-view+json": {
       "model_id": "a357e4002d054454803ccb6888f3c659",
       "version_major": 2,
       "version_minor": 0
      },
      "text/plain": [
       "Play(value=0, interval=400)"
      ]
     },
     "metadata": {},
     "output_type": "display_data"
    },
    {
     "data": {
      "application/vnd.jupyter.widget-view+json": {
       "model_id": "531c22c8318e4d8d85129042d2807f07",
       "version_major": 2,
       "version_minor": 0
      },
      "text/plain": [
       "interactive(children=(IntSlider(value=0, description='step', max=70), Output()), _dom_classes=('widget-interac…"
      ]
     },
     "metadata": {},
     "output_type": "display_data"
    }
   ],
   "source": [
    "points = [np.random.rand(2) for i in range(20)]\n",
    "states = convex_hull(points)\n",
    "animate_list(states, play=True, interval=400);"
   ]
  },
  {
   "cell_type": "markdown",
   "metadata": {},
   "source": [
    "Последнее, что хотелось бы отметить в контексте matplotlib -- это альтернативный способ создания анимаций через `matplotlib.animation.FuncAnimation`. У этого способа есть свои плюсы: его можно конвертировать в html с помощью `IPython.display.HTML`, результат будет более надежным, чем на виджетах (у меня виджеты периодически торомозят), не будет требовать рабочего ядра jupyter, но в этом случае анимация стоновится обычным видео и средства управления ограничены проигрывателем."
   ]
  },
  {
   "cell_type": "markdown",
   "metadata": {},
   "source": [
    "## Graphviz\n",
    "С помощью `graphviz` можно отрисовывать графы, в сочетании с виджетами можно сгенерировать примеры работы стандартных алгоритмов, начнем с обхода в глубину"
   ]
  },
  {
   "cell_type": "code",
   "execution_count": 21,
   "metadata": {
    "jupyter": {
     "source_hidden": true
    }
   },
   "outputs": [],
   "source": [
    "# Обертка для упрощения работы с графами\n",
    "from graph_utils.graph import Graph, Arc, Node"
   ]
  },
  {
   "cell_type": "code",
   "execution_count": 22,
   "metadata": {
    "jupyter": {
     "source_hidden": true
    }
   },
   "outputs": [],
   "source": [
    "def enter_node(node):\n",
    "    node.SetColor('blue')\n",
    "    \n",
    "def enter_arc(node, arc):\n",
    "    node.SetColor('green')\n",
    "    arc.attributes['style'] = 'dashed'\n",
    "    arc.attributes['color'] = 'green'\n",
    "    \n",
    "def return_from_arc(node, arc):\n",
    "    arc.attributes['style'] = 'solid'\n",
    "    arc.attributes['color'] = 'red'\n",
    "    node.SetColor('blue')\n",
    "    \n",
    "def ignore_arc(arc):\n",
    "    arc.attributes['color'] = 'blue'\n",
    "    \n",
    "def leave_node(node):\n",
    "    node.SetColor('red')\n",
    "    \n",
    "def dfs(graph, node_id, visited, outlist, path):\n",
    "    visited.add(node_id)\n",
    "    path.append(node_id)\n",
    "    enter_node(graph.nodes[node_id])\n",
    "    outlist.append(graph.Visualize())\n",
    "    for arc in graph.nodes[node_id].arcs:\n",
    "        if arc.end not in visited:\n",
    "            enter_arc(graph.nodes[node_id], arc)\n",
    "            dfs(graph, arc.end, visited, outlist, path) \n",
    "            return_from_arc(graph.nodes[node_id], arc)\n",
    "            path.append(node_id)\n",
    "        else:\n",
    "            ignore_arc(arc)\n",
    "        outlist.append(graph.Visualize())      \n",
    "    leave_node(graph.nodes[node_id])"
   ]
  },
  {
   "cell_type": "code",
   "execution_count": 23,
   "metadata": {
    "jupyter": {
     "source_hidden": true
    }
   },
   "outputs": [],
   "source": [
    "arcs = [\n",
    "    Arc(1, 3, 3),\n",
    "    Arc(1, 4, 7),\n",
    "    Arc(4, 3, 2),\n",
    "    Arc(4, 5, 3),\n",
    "    Arc(1, 5, 2),\n",
    "    Arc(6, 4, 2),\n",
    "    Arc(5, 6, 2),\n",
    "    Arc(6, 7, 1),\n",
    "    Arc(7, 2, 7),\n",
    "    Arc(4, 2, 2),\n",
    "    Arc(3, 2, 5)\n",
    "]"
   ]
  },
  {
   "cell_type": "code",
   "execution_count": 24,
   "metadata": {
    "jupyter": {
     "source_hidden": true
    }
   },
   "outputs": [
    {
     "data": {
      "application/vnd.jupyter.widget-view+json": {
       "model_id": "9b9a69b66a8847fa8088916e077966ad",
       "version_major": 2,
       "version_minor": 0
      },
      "text/plain": [
       "Play(value=0, interval=400)"
      ]
     },
     "metadata": {},
     "output_type": "display_data"
    },
    {
     "data": {
      "application/vnd.jupyter.widget-view+json": {
       "model_id": "f2b7532fad8145f2abd3a6436abdf586",
       "version_major": 2,
       "version_minor": 0
      },
      "text/plain": [
       "interactive(children=(IntSlider(value=0, description='step', max=19), Output()), _dom_classes=('widget-interac…"
      ]
     },
     "metadata": {},
     "output_type": "display_data"
    }
   ],
   "source": [
    "# Если следующий код выдает ошибку, что ему не удается выполнить `dot`, то\n",
    "# скорее всего придется отдельно поставить graphviz\n",
    "# https://graphviz.org/download/\n",
    "graph = Graph(arcs)\n",
    "visited = set()\n",
    "dfs_outlist = []\n",
    "path = []\n",
    "dfs_outlist.append(graph.Visualize())\n",
    "dfs(graph, 1, visited, dfs_outlist, path)\n",
    "dfs_outlist.append(graph.Visualize())\n",
    "animate_list(dfs_outlist, play=True, interval=400);"
   ]
  },
  {
   "cell_type": "markdown",
   "metadata": {},
   "source": [
    "Из хорошо известного -- алгоритм Дейкстры"
   ]
  },
  {
   "cell_type": "code",
   "execution_count": 25,
   "metadata": {
    "jupyter": {
     "source_hidden": true
    }
   },
   "outputs": [],
   "source": [
    "def mark_labelled(node):\n",
    "    node.SetColor('red')\n",
    "    \n",
    "def mark_scanned(node):\n",
    "    node.SetColor('green')\n",
    "    \n",
    "def process_node(node):\n",
    "    node.SetColor('blue')\n",
    "    \n",
    "def set_previous(arc):\n",
    "    arc.SetColor('green')\n",
    "    \n",
    "def unset_previous(arc):\n",
    "    arc.SetColor('black')\n",
    "\n",
    "def scan_arc(graph, arc, l, p, mark):\n",
    "    if l[arc.end] > l[arc.beginning] + arc.weight:\n",
    "        l[arc.end] = l[arc.beginning] + arc.weight\n",
    "        if p[arc.end] is not None:\n",
    "            unset_previous(p[arc.end])\n",
    "        # Сохраняем arc, а не arc.beginning, чтобы было больше информации\n",
    "        p[arc.end] = arc\n",
    "        set_previous(p[arc.end])\n",
    "        mark[arc.end] = True\n",
    "        mark_labelled(graph.nodes[arc.end])\n",
    "\n",
    "def scan_node(graph, node_id, l, p, mark):\n",
    "    for arc in graph.nodes[node_id].arcs:\n",
    "        scan_arc(graph, arc, l, p, mark)\n",
    "    mark[node_id] = False\n",
    "    mark_scanned(graph.nodes[node_id])\n",
    "     \n",
    "        \n",
    "# Это не традиционная реализация алгоритма Дейкстры, а реализация\n",
    "# сканирующего метода, подробности смотрите тут\n",
    "# http://forskning.diku.dk/PATH05/GoldbergSlides.pdf\n",
    "def base_scanning_method(graph, s, choice_function):\n",
    "    l    = {key: float('Inf') for key in graph.nodes.keys()}\n",
    "    p    = {key: None for key in graph.nodes.keys()}\n",
    "    mark = {key: False for key in graph.nodes.keys()}\n",
    "    \n",
    "    l[s] = 0\n",
    "    mark[s] = True\n",
    "    mark_labelled(graph.nodes[s])\n",
    "    \n",
    "    out_lst = []\n",
    "    \n",
    "    while True:\n",
    "        node_id = choice_function(l, mark)\n",
    "        if node_id is None:\n",
    "            break\n",
    "        process_node(graph.nodes[node_id])\n",
    "        out_lst.append(graph.Visualize(l))\n",
    "        scan_node(graph, node_id, l, p, mark)\n",
    "        out_lst.append(graph.Visualize(l))\n",
    "    return l, p, out_lst"
   ]
  },
  {
   "cell_type": "code",
   "execution_count": 26,
   "metadata": {
    "jupyter": {
     "source_hidden": true
    }
   },
   "outputs": [],
   "source": [
    "# Функция выбора в алгоритме Дейкстры\n",
    "def least_distance_choice(l, mark):\n",
    "    labelled = [node_id for node_id, value in mark.items() if value == True]\n",
    "    if len(labelled) == 0:\n",
    "        return None\n",
    "    return min(labelled, key=lambda x: l[x]) "
   ]
  },
  {
   "cell_type": "code",
   "execution_count": 27,
   "metadata": {},
   "outputs": [
    {
     "data": {
      "application/vnd.jupyter.widget-view+json": {
       "model_id": "9260a16240e746e8b47e783dd9b54dc7",
       "version_major": 2,
       "version_minor": 0
      },
      "text/plain": [
       "Play(value=0, interval=600)"
      ]
     },
     "metadata": {},
     "output_type": "display_data"
    },
    {
     "data": {
      "application/vnd.jupyter.widget-view+json": {
       "model_id": "51613d028bcb4f0693ba3ef180b759e4",
       "version_major": 2,
       "version_minor": 0
      },
      "text/plain": [
       "interactive(children=(IntSlider(value=0, description='step', max=13), Output()), _dom_classes=('widget-interac…"
      ]
     },
     "metadata": {},
     "output_type": "display_data"
    }
   ],
   "source": [
    "graph = Graph(arcs)\n",
    "l, p, bfs_shortest_path_lst = \\\n",
    "    base_scanning_method(graph, 1, least_distance_choice)\n",
    "animate_list(bfs_shortest_path_lst, play=True, interval=600);"
   ]
  },
  {
   "cell_type": "markdown",
   "metadata": {},
   "source": [
    "А вот таким образом происходит построение префиксного дерева"
   ]
  },
  {
   "cell_type": "code",
   "execution_count": 28,
   "metadata": {
    "jupyter": {
     "source_hidden": true
    }
   },
   "outputs": [],
   "source": [
    "class TrieNode:\n",
    "    def __init__(self, parent, word=None):\n",
    "        # Хранение этого поля очень расточительно, используется исключительно\n",
    "        # для демонстрации ленивого подсчета суффиксных ссылок\n",
    "        self.parent = parent\n",
    "        # Здесь аналогично, это поле чаще всего избыточно\n",
    "        self.word = word\n",
    "        self.children = {}\n",
    "        self.suff_link = None\n",
    "\n",
    "def init_trie():\n",
    "    trie = [TrieNode(-1)]\n",
    "    return trie\n",
    "\n",
    "def to_graph(trie):\n",
    "    arcs = []\n",
    "    for i, node in enumerate(trie):\n",
    "        for c, nextstate in node.children.items():\n",
    "            arcs.append(Arc(i, nextstate, c))\n",
    "        if node.suff_link is not None and node.suff_link != 0:\n",
    "            arcs.append(Arc(i, \n",
    "                            node.suff_link, \n",
    "                            attributes={\"constraint\" : \"False\", \"style\" : \"dashed\"}))\n",
    "            \n",
    "    return Graph(arcs)\n",
    "\n",
    "def add_word(trie, word, steps):\n",
    "    _num = 0\n",
    "    for ch in word:\n",
    "        if not ch in trie[_num].children:\n",
    "            _n = len(trie)\n",
    "            trie[_num].children[ch] = _n\n",
    "            trie.append(TrieNode((_num, ch)))\n",
    "        _num = trie[_num].children[ch]\n",
    "        graph = to_graph(trie)\n",
    "        graph.nodes[_num].SetColor('red')\n",
    "        steps.append(graph.Visualize())\n",
    "    trie[_num].word = word\n",
    "    \n",
    "def make_trie(words):\n",
    "    steps = []\n",
    "    trie = init_trie()\n",
    "    steps.append(to_graph(trie).Visualize())\n",
    "    for word in words:\n",
    "        add_word(trie, word, steps)\n",
    "        steps.append(to_graph(trie).Visualize())\n",
    "    return trie, steps"
   ]
  },
  {
   "cell_type": "code",
   "execution_count": 29,
   "metadata": {
    "jupyter": {
     "source_hidden": true
    }
   },
   "outputs": [
    {
     "data": {
      "application/vnd.jupyter.widget-view+json": {
       "model_id": "737e299307874ba2bb373b22a2795101",
       "version_major": 2,
       "version_minor": 0
      },
      "text/plain": [
       "Play(value=0, interval=500)"
      ]
     },
     "metadata": {},
     "output_type": "display_data"
    },
    {
     "data": {
      "application/vnd.jupyter.widget-view+json": {
       "model_id": "9df7d383f1d448e2848cd2f0cdb69c9e",
       "version_major": 2,
       "version_minor": 0
      },
      "text/plain": [
       "interactive(children=(IntSlider(value=0, description='step', max=31), Output()), _dom_classes=('widget-interac…"
      ]
     },
     "metadata": {},
     "output_type": "display_data"
    }
   ],
   "source": [
    "words = [\n",
    "    'мама',\n",
    "    'мать',\n",
    "    'мартышка',\n",
    "    'мыла',\n",
    "    'молоко'\n",
    "]\n",
    "trie, steps = make_trie(words)\n",
    "animate_list(steps, play=True, interval=500);"
   ]
  },
  {
   "cell_type": "markdown",
   "metadata": {},
   "source": [
    "Раз уж был пример замощения доминошками на плоскости с помощью сведения к задаче о максимальном паросочетании, давайте тогда и сам алгоритм визуализируем!"
   ]
  },
  {
   "cell_type": "code",
   "execution_count": 30,
   "metadata": {
    "jupyter": {
     "source_hidden": true
    }
   },
   "outputs": [],
   "source": [
    "def mark_for_delete(arc):\n",
    "    arc.SetColor('red')\n",
    "    arc.SetStyle('dashed')\n",
    "    \n",
    "def mark_for_add(arc):\n",
    "    arc.SetColor('blue')\n",
    "    \n",
    "def clear(arc):\n",
    "    arc.SetColor('black')\n",
    "    arc.SetStyle('solid')\n",
    "        \n",
    "def find_augmenting_path(graph, node_id, visited, match, deleted):\n",
    "    if node_id in visited:\n",
    "        return False\n",
    "    visited.add(node_id)\n",
    "    for arc in graph.nodes[node_id].arcs:\n",
    "        if arc.end not in match or find_augmenting_path(graph, match[arc.end].beginning, visited, match, deleted):\n",
    "            if arc.end in match:\n",
    "                mark_for_delete(match[arc.end])\n",
    "                deleted.append(match[arc.end])\n",
    "            match[arc.end] = arc\n",
    "            mark_for_add(arc)\n",
    "            return True\n",
    "    return False\n",
    "\n",
    "def kuhns_matching(graph, first_part):\n",
    "    states = [graph.Visualize()]\n",
    "    match = dict()\n",
    "    for node_id in first_part:\n",
    "        node = graph.nodes[node_id]\n",
    "        node.SetColor('Blue')\n",
    "        states.append(graph.Visualize())\n",
    "        deleted = []\n",
    "        if find_augmenting_path(graph, node_id, set(), match, deleted):\n",
    "            states.append(graph.Visualize())\n",
    "            for arc in deleted:\n",
    "                clear(arc)\n",
    "            states.append(graph.Visualize())\n",
    "        node.SetColor('red')\n",
    "    states.append(graph.Visualize())\n",
    "    return states"
   ]
  },
  {
   "cell_type": "code",
   "execution_count": 31,
   "metadata": {
    "jupyter": {
     "source_hidden": true
    }
   },
   "outputs": [],
   "source": [
    "arcs = [\n",
    "    Arc(1, 6),\n",
    "    Arc(1, 7),\n",
    "    Arc(2, 6),\n",
    "    Arc(3, 7),\n",
    "    Arc(3, 8),\n",
    "    Arc(4, 8),\n",
    "    Arc(4, 9),\n",
    "    Arc(4, 10),\n",
    "    Arc(5, 10),\n",
    "    Arc(2, 8)\n",
    "]\n",
    "first_part = [1, 2, 3, 4, 5]\n",
    "graph = Graph(arcs)\n",
    "states = kuhns_matching(graph, first_part)"
   ]
  },
  {
   "cell_type": "code",
   "execution_count": 32,
   "metadata": {
    "jupyter": {
     "source_hidden": true
    }
   },
   "outputs": [
    {
     "data": {
      "application/vnd.jupyter.widget-view+json": {
       "model_id": "bf539cc4265343c2b83a4d1afb9bc251",
       "version_major": 2,
       "version_minor": 0
      },
      "text/plain": [
       "Play(value=0, interval=400)"
      ]
     },
     "metadata": {},
     "output_type": "display_data"
    },
    {
     "data": {
      "application/vnd.jupyter.widget-view+json": {
       "model_id": "639a5723271f429caf9fa458f787e56a",
       "version_major": 2,
       "version_minor": 0
      },
      "text/plain": [
       "interactive(children=(IntSlider(value=0, description='step', max=16), Output()), _dom_classes=('widget-interac…"
      ]
     },
     "metadata": {},
     "output_type": "display_data"
    }
   ],
   "source": [
    "animate_list(states, play=True, interval=400);"
   ]
  },
  {
   "cell_type": "markdown",
   "metadata": {},
   "source": [
    "## Что пока не получилось\n",
    "Первое, что меня беспокоит -- довольно часто у меня виджеты тормозят, и я не совсем понимаю, в чем проблема. Второе -- это попытка применения этой парадигмы для алгебраических алгоритмов на визуализации $\\TeX$ с помощью `IPython.display.Math`. Вот, что у меня получилось при попытки проанимировать метод Гаусса для решения систем линейных уравнений (если быть более точным, тут $LU$ разложение)"
   ]
  },
  {
   "cell_type": "code",
   "execution_count": 33,
   "metadata": {
    "jupyter": {
     "source_hidden": true
    }
   },
   "outputs": [],
   "source": [
    "from animation_utils.latex import Matrix\n",
    "from IPython.display import Math\n",
    "\n",
    "n = 5\n",
    "A = np.random.rand(n, n)\n",
    "L = np.identity(n)\n",
    "U = np.array(A)\n",
    "steps = []\n",
    "steps.append(Math(str(Matrix(L)) + str(Matrix(U))))\n",
    "for k in range(n):\n",
    "    x = U[k,k]\n",
    "    for i in range(k+1, n):\n",
    "        L[i,k] = U[i,k] / x\n",
    "        U[i,k:] -= L[i,k] * U[k,k:]\n",
    "    steps.append(Math(str(Matrix(L)) + str(Matrix(U))))"
   ]
  },
  {
   "cell_type": "code",
   "execution_count": 34,
   "metadata": {
    "jupyter": {
     "source_hidden": true
    },
    "pycharm": {
     "name": "#%%\n"
    }
   },
   "outputs": [
    {
     "data": {
      "application/vnd.jupyter.widget-view+json": {
       "model_id": "8684980c99ee4e3a80521c19085c6ce0",
       "version_major": 2,
       "version_minor": 0
      },
      "text/plain": [
       "Play(value=0, interval=500)"
      ]
     },
     "metadata": {},
     "output_type": "display_data"
    },
    {
     "data": {
      "application/vnd.jupyter.widget-view+json": {
       "model_id": "ef8ff29391c74e9b84cf5d753e87a0e7",
       "version_major": 2,
       "version_minor": 0
      },
      "text/plain": [
       "interactive(children=(IntSlider(value=0, description='step', max=5), Output()), _dom_classes=('widget-interact…"
      ]
     },
     "metadata": {},
     "output_type": "display_data"
    }
   ],
   "source": [
    "animate_list(steps, play=True, interval=500);"
   ]
  },
  {
   "cell_type": "markdown",
   "metadata": {},
   "source": [
    "В целом проблема понятна, бэкэнд почему-то еще делает промежуточные шаги на рендеринг latex, но бороться с этим я не умею"
   ]
  }
 ],
 "metadata": {
  "kernelspec": {
   "display_name": "Python 3",
   "language": "python",
   "name": "python3"
  },
  "language_info": {
   "codemirror_mode": {
    "name": "ipython",
    "version": 3
   },
   "file_extension": ".py",
   "mimetype": "text/x-python",
   "name": "python",
   "nbconvert_exporter": "python",
   "pygments_lexer": "ipython3",
   "version": "3.8.3"
  }
 },
 "nbformat": 4,
 "nbformat_minor": 4
}
