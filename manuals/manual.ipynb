{
 "cells": [
  {
   "cell_type": "markdown",
   "metadata": {},
   "source": [
    "# How to do an algorithm visualization using the package?\n",
    "There are 3 major steps one needs to do:\n",
    "* Implement visualization function for single \"state\" of the algorithm\n",
    "* Implement the algorithm itself dumping the states with implemented function\n",
    "* Use `animate_list` from `interactive_visualization.animation_utils` to get an interactive visualization"
   ]
  },
  {
   "cell_type": "markdown",
   "metadata": {},
   "source": [
    "## Example #1: quicksort\n",
    "Here we use a simple text visualization based on `IPython.display.Code`. Note that this way we prevent regular frontends from messing the whitespace structure. The state can be described by the following parameters:\n",
    "* `array` - array to sort\n",
    "* `left, right` - bounds of the current recursive call\n",
    "* `x` - division element\n",
    "* `p, q` - two pointers used for division into two subarrays with values less then and greater then `x` respectively\n",
    "Visualization will mark `left, right` as square brackets and pointers `p, q` as arrows. "
   ]
  },
  {
   "cell_type": "code",
   "execution_count": 1,
   "metadata": {},
   "outputs": [],
   "source": [
    "from IPython.display import Code\n",
    "def qsort_state(array, left, right, x, p, q):\n",
    "    extended_array = list(map(str, array[:left])) + ['['] + list(map(str, array[left: right])) + [']'] + list(map(str, array[right:]))\n",
    "    offset_x = sum(list(map(len, extended_array[:left]))) + left + 2\n",
    "    zero_line = ''.join([' ' for i in range(offset_x)]) + f'x = {x}'\n",
    "    first_line = ' '.join(extended_array)\n",
    "    offset_p = sum(list(map(len, extended_array[:p + 1]))) + p + 1 + len(extended_array[p + 1]) // 2\n",
    "    offset_q = sum(list(map(len, extended_array[:q + 1]))) + q + 1 + len(extended_array[q + 1]) // 2\n",
    "    second_line = ''.join([' ' if i != offset_p and i != offset_q else '↑' for i in range(len(first_line))])\n",
    "\n",
    "    return Code(zero_line + '\\n' + first_line + '\\n' + second_line)"
   ]
  },
  {
   "cell_type": "code",
   "execution_count": 2,
   "metadata": {},
   "outputs": [
    {
     "data": {
      "text/html": [
       "<style>pre { line-height: 125%; }\n",
       "td.linenos .normal { color: inherit; background-color: transparent; padding-left: 5px; padding-right: 5px; }\n",
       "span.linenos { color: inherit; background-color: transparent; padding-left: 5px; padding-right: 5px; }\n",
       "td.linenos .special { color: #000000; background-color: #ffffc0; padding-left: 5px; padding-right: 5px; }\n",
       "span.linenos.special { color: #000000; background-color: #ffffc0; padding-left: 5px; padding-right: 5px; }\n",
       ".output_html .hll { background-color: #ffffcc }\n",
       ".output_html { background: #f8f8f8; }\n",
       ".output_html .c { color: #408080; font-style: italic } /* Comment */\n",
       ".output_html .err { border: 1px solid #FF0000 } /* Error */\n",
       ".output_html .k { color: #008000; font-weight: bold } /* Keyword */\n",
       ".output_html .o { color: #666666 } /* Operator */\n",
       ".output_html .ch { color: #408080; font-style: italic } /* Comment.Hashbang */\n",
       ".output_html .cm { color: #408080; font-style: italic } /* Comment.Multiline */\n",
       ".output_html .cp { color: #BC7A00 } /* Comment.Preproc */\n",
       ".output_html .cpf { color: #408080; font-style: italic } /* Comment.PreprocFile */\n",
       ".output_html .c1 { color: #408080; font-style: italic } /* Comment.Single */\n",
       ".output_html .cs { color: #408080; font-style: italic } /* Comment.Special */\n",
       ".output_html .gd { color: #A00000 } /* Generic.Deleted */\n",
       ".output_html .ge { font-style: italic } /* Generic.Emph */\n",
       ".output_html .gr { color: #FF0000 } /* Generic.Error */\n",
       ".output_html .gh { color: #000080; font-weight: bold } /* Generic.Heading */\n",
       ".output_html .gi { color: #00A000 } /* Generic.Inserted */\n",
       ".output_html .go { color: #888888 } /* Generic.Output */\n",
       ".output_html .gp { color: #000080; font-weight: bold } /* Generic.Prompt */\n",
       ".output_html .gs { font-weight: bold } /* Generic.Strong */\n",
       ".output_html .gu { color: #800080; font-weight: bold } /* Generic.Subheading */\n",
       ".output_html .gt { color: #0044DD } /* Generic.Traceback */\n",
       ".output_html .kc { color: #008000; font-weight: bold } /* Keyword.Constant */\n",
       ".output_html .kd { color: #008000; font-weight: bold } /* Keyword.Declaration */\n",
       ".output_html .kn { color: #008000; font-weight: bold } /* Keyword.Namespace */\n",
       ".output_html .kp { color: #008000 } /* Keyword.Pseudo */\n",
       ".output_html .kr { color: #008000; font-weight: bold } /* Keyword.Reserved */\n",
       ".output_html .kt { color: #B00040 } /* Keyword.Type */\n",
       ".output_html .m { color: #666666 } /* Literal.Number */\n",
       ".output_html .s { color: #BA2121 } /* Literal.String */\n",
       ".output_html .na { color: #7D9029 } /* Name.Attribute */\n",
       ".output_html .nb { color: #008000 } /* Name.Builtin */\n",
       ".output_html .nc { color: #0000FF; font-weight: bold } /* Name.Class */\n",
       ".output_html .no { color: #880000 } /* Name.Constant */\n",
       ".output_html .nd { color: #AA22FF } /* Name.Decorator */\n",
       ".output_html .ni { color: #999999; font-weight: bold } /* Name.Entity */\n",
       ".output_html .ne { color: #D2413A; font-weight: bold } /* Name.Exception */\n",
       ".output_html .nf { color: #0000FF } /* Name.Function */\n",
       ".output_html .nl { color: #A0A000 } /* Name.Label */\n",
       ".output_html .nn { color: #0000FF; font-weight: bold } /* Name.Namespace */\n",
       ".output_html .nt { color: #008000; font-weight: bold } /* Name.Tag */\n",
       ".output_html .nv { color: #19177C } /* Name.Variable */\n",
       ".output_html .ow { color: #AA22FF; font-weight: bold } /* Operator.Word */\n",
       ".output_html .w { color: #bbbbbb } /* Text.Whitespace */\n",
       ".output_html .mb { color: #666666 } /* Literal.Number.Bin */\n",
       ".output_html .mf { color: #666666 } /* Literal.Number.Float */\n",
       ".output_html .mh { color: #666666 } /* Literal.Number.Hex */\n",
       ".output_html .mi { color: #666666 } /* Literal.Number.Integer */\n",
       ".output_html .mo { color: #666666 } /* Literal.Number.Oct */\n",
       ".output_html .sa { color: #BA2121 } /* Literal.String.Affix */\n",
       ".output_html .sb { color: #BA2121 } /* Literal.String.Backtick */\n",
       ".output_html .sc { color: #BA2121 } /* Literal.String.Char */\n",
       ".output_html .dl { color: #BA2121 } /* Literal.String.Delimiter */\n",
       ".output_html .sd { color: #BA2121; font-style: italic } /* Literal.String.Doc */\n",
       ".output_html .s2 { color: #BA2121 } /* Literal.String.Double */\n",
       ".output_html .se { color: #BB6622; font-weight: bold } /* Literal.String.Escape */\n",
       ".output_html .sh { color: #BA2121 } /* Literal.String.Heredoc */\n",
       ".output_html .si { color: #BB6688; font-weight: bold } /* Literal.String.Interpol */\n",
       ".output_html .sx { color: #008000 } /* Literal.String.Other */\n",
       ".output_html .sr { color: #BB6688 } /* Literal.String.Regex */\n",
       ".output_html .s1 { color: #BA2121 } /* Literal.String.Single */\n",
       ".output_html .ss { color: #19177C } /* Literal.String.Symbol */\n",
       ".output_html .bp { color: #008000 } /* Name.Builtin.Pseudo */\n",
       ".output_html .fm { color: #0000FF } /* Name.Function.Magic */\n",
       ".output_html .vc { color: #19177C } /* Name.Variable.Class */\n",
       ".output_html .vg { color: #19177C } /* Name.Variable.Global */\n",
       ".output_html .vi { color: #19177C } /* Name.Variable.Instance */\n",
       ".output_html .vm { color: #19177C } /* Name.Variable.Magic */\n",
       ".output_html .il { color: #666666 } /* Literal.Number.Integer.Long */</style><div class=\"highlight\"><pre><span></span>      x = 4\n",
       "1 2 [ 3 4 5 ] 6\n",
       "      ↑   ↑    \n",
       "</pre></div>\n"
      ],
      "text/latex": [
       "\\begin{Verbatim}[commandchars=\\\\\\{\\}]\n",
       "      x = 4\n",
       "1 2 [ 3 4 5 ] 6\n",
       "      ↑   ↑    \n",
       "\\end{Verbatim}\n"
      ],
      "text/plain": [
       "      x = 4\n",
       "1 2 [ 3 4 5 ] 6\n",
       "      ↑   ↑    "
      ]
     },
     "execution_count": 2,
     "metadata": {},
     "output_type": "execute_result"
    }
   ],
   "source": [
    "qsort_state([1, 2, 3, 4, 5, 6], 2, 5, 4, 2, 4)"
   ]
  },
  {
   "cell_type": "markdown",
   "metadata": {},
   "source": [
    "Now lets implement the algorithm itself. Compared to quicksort itself we add an additional list parameter to dump states and state dumping insertions."
   ]
  },
  {
   "cell_type": "code",
   "execution_count": 3,
   "metadata": {},
   "outputs": [],
   "source": [
    "import random\n",
    "\n",
    "def qsort(array, left, right, states):\n",
    "    if right - left <= 1:\n",
    "        return\n",
    "    x = array[random.randint(left, right - 1)]\n",
    "    p = left\n",
    "    q = right - 1\n",
    "    states.append(qsort_state(array, left, right, x, p, q))\n",
    "    while p <= q:\n",
    "        while array[p] < x:\n",
    "            p += 1\n",
    "            states.append(qsort_state(array, left, right, x, p, q))\n",
    "        while array[q] > x:\n",
    "            q -= 1\n",
    "            states.append(qsort_state(array, left, right, x, p, q))\n",
    "        if p <= q:\n",
    "            array[p], array[q] = (array[q], array[p])\n",
    "            states.append(qsort_state(array, left, right, x, p, q))\n",
    "            p += 1\n",
    "            q -= 1\n",
    "            if p <= q:\n",
    "                states.append(qsort_state(array, left, right, x, p, q))\n",
    "    qsort(array, left, q + 1, states)\n",
    "    qsort(array, p, right, states)   "
   ]
  },
  {
   "cell_type": "markdown",
   "metadata": {},
   "source": [
    "Finally we can apply our function to some array passing an empty list as a `states` argument."
   ]
  },
  {
   "cell_type": "code",
   "execution_count": 4,
   "metadata": {},
   "outputs": [],
   "source": [
    "from interactive_visualization.animation_utils import animate_list"
   ]
  },
  {
   "cell_type": "code",
   "execution_count": 5,
   "metadata": {},
   "outputs": [
    {
     "data": {
      "application/vnd.jupyter.widget-view+json": {
       "model_id": "de15e92778254b48aaa6a8ba45194da1",
       "version_major": 2,
       "version_minor": 0
      },
      "text/plain": [
       "HBox(children=(Play(value=0, interval=400), Button(description='Prev', style=ButtonStyle()), Button(descriptio…"
      ]
     },
     "metadata": {},
     "output_type": "display_data"
    },
    {
     "data": {
      "application/vnd.jupyter.widget-view+json": {
       "model_id": "64c018df6fb74524b900586e9c2afbe1",
       "version_major": 2,
       "version_minor": 0
      },
      "text/plain": [
       "interactive(children=(IntSlider(value=0, description='step', max=33), Output()), _dom_classes=('widget-interac…"
      ]
     },
     "metadata": {},
     "output_type": "display_data"
    }
   ],
   "source": [
    "a = [234, 1, 42, 3, 15, 3, 10, 9, 2]\n",
    "states = []\n",
    "qsort(a, 0, len(a), states)\n",
    "animate_list(states, play=True, interval=400);"
   ]
  },
  {
   "cell_type": "markdown",
   "metadata": {},
   "source": [
    "Note that `steps` slider is mandatory. The player and `Next`, `prev` buttons are optional, one can specify them by `play, navigation` parameters respectively (`False, True` by default)."
   ]
  },
  {
   "cell_type": "markdown",
   "metadata": {},
   "source": [
    "## Example #2: Depth first search\n",
    "Now lets try a more challenging example - depth first search. Here we will use a `graphviz` package for visualization. Moreover, in this example the state of the algorithm is harder to build from scratch every time, rather we'll modify it according to algorithm progress. The package provides additional `graph_utils` wrapper over `graphviz`."
   ]
  },
  {
   "cell_type": "code",
   "execution_count": 6,
   "metadata": {},
   "outputs": [],
   "source": [
    "from interactive_visualization.graph_utils import Graph, Arc, Node"
   ]
  },
  {
   "cell_type": "markdown",
   "metadata": {},
   "source": [
    "Description of a DFS state consists of the following:\n",
    "* Green arcs are the ones we moved in the forward direction but haven't returned yet\n",
    "* Green verices are the ones we visited but haven't left yet\n",
    "* Red arcs are the ones we moved in the forward direction and have returned from them\n",
    "* Red vertices are the ones we visited and have already left\n",
    "* Blue arcs are the ones we ignored since they led to a vertice we've already visited\n",
    "At the algorithm's termination all the red arcs should form a search tree."
   ]
  },
  {
   "cell_type": "code",
   "execution_count": 7,
   "metadata": {},
   "outputs": [],
   "source": [
    "def enter_node(node):\n",
    "    node.SetColor('blue')\n",
    "    \n",
    "def enter_arc(node, arc):\n",
    "    node.SetColor('green')\n",
    "    arc.attributes['style'] = 'dashed'\n",
    "    arc.attributes['color'] = 'green'\n",
    "    \n",
    "def return_from_arc(node, arc):\n",
    "    arc.attributes['style'] = 'solid'\n",
    "    arc.attributes['color'] = 'red'\n",
    "    node.SetColor('blue')\n",
    "    \n",
    "def ignore_arc(arc):\n",
    "    arc.attributes['color'] = 'blue'\n",
    "    \n",
    "def leave_node(node):\n",
    "    node.SetColor('red')"
   ]
  },
  {
   "cell_type": "markdown",
   "metadata": {},
   "source": [
    "Now the search itself"
   ]
  },
  {
   "cell_type": "code",
   "execution_count": 8,
   "metadata": {},
   "outputs": [],
   "source": [
    "def dfs(graph, node_id, visited, outlist, path):\n",
    "    visited.add(node_id)\n",
    "    path.append(node_id)\n",
    "    enter_node(graph.nodes[node_id])\n",
    "    outlist.append(graph.Visualize())\n",
    "    for arc in graph.nodes[node_id].arcs:\n",
    "        if arc.end not in visited:\n",
    "            enter_arc(graph.nodes[node_id], arc)\n",
    "            dfs(graph, arc.end, visited, outlist, path) \n",
    "            return_from_arc(graph.nodes[node_id], arc)\n",
    "            path.append(node_id)\n",
    "        else:\n",
    "            ignore_arc(arc)\n",
    "        outlist.append(graph.Visualize())      \n",
    "    leave_node(graph.nodes[node_id])"
   ]
  },
  {
   "cell_type": "code",
   "execution_count": 9,
   "metadata": {},
   "outputs": [],
   "source": [
    "arcs = [\n",
    "    Arc(1, 3, 3),\n",
    "    Arc(1, 4, 7),\n",
    "    Arc(4, 3, 2),\n",
    "    Arc(4, 5, 3),\n",
    "    Arc(1, 5, 2),\n",
    "    Arc(6, 4, 2),\n",
    "    Arc(5, 6, 2),\n",
    "    Arc(6, 7, 1),\n",
    "    Arc(7, 2, 7),\n",
    "    Arc(4, 2, 2),\n",
    "    Arc(3, 2, 5)\n",
    "]"
   ]
  },
  {
   "cell_type": "code",
   "execution_count": 10,
   "metadata": {},
   "outputs": [
    {
     "data": {
      "application/vnd.jupyter.widget-view+json": {
       "model_id": "7298b827814f4a5fb8ae665496f7ea2f",
       "version_major": 2,
       "version_minor": 0
      },
      "text/plain": [
       "HBox(children=(Play(value=0, interval=400), Button(description='Prev', style=ButtonStyle()), Button(descriptio…"
      ]
     },
     "metadata": {},
     "output_type": "display_data"
    },
    {
     "data": {
      "application/vnd.jupyter.widget-view+json": {
       "model_id": "3e85c439d4884560a95a4bb5c49bf08b",
       "version_major": 2,
       "version_minor": 0
      },
      "text/plain": [
       "interactive(children=(IntSlider(value=0, description='step', max=19), Output()), _dom_classes=('widget-interac…"
      ]
     },
     "metadata": {},
     "output_type": "display_data"
    }
   ],
   "source": [
    "# If the following code fails to execute `dot`\n",
    "# It is most likely that you didn't install graphviz as a sytem package\n",
    "# See https://graphviz.org/download/\n",
    "graph = Graph(arcs)\n",
    "visited = set()\n",
    "dfs_outlist = []\n",
    "path = []\n",
    "dfs_outlist.append(graph.Visualize())\n",
    "dfs(graph, 1, visited, dfs_outlist, path)\n",
    "dfs_outlist.append(graph.Visualize())\n",
    "animate_list(dfs_outlist, play=True, interval=400);"
   ]
  }
 ],
 "metadata": {
  "kernelspec": {
   "display_name": "Python 3",
   "language": "python",
   "name": "python3"
  },
  "language_info": {
   "codemirror_mode": {
    "name": "ipython",
    "version": 3
   },
   "file_extension": ".py",
   "mimetype": "text/x-python",
   "name": "python",
   "nbconvert_exporter": "python",
   "pygments_lexer": "ipython3",
   "version": "3.8.5"
  },
  "widgets": {
   "application/vnd.jupyter.widget-state+json": {
    "state": {
     "014a2a541df047e588e995369d170096": {
      "model_module": "@jupyter-widgets/base",
      "model_module_version": "1.2.0",
      "model_name": "LayoutModel",
      "state": {}
     },
     "074ef8fbcdc7499aa2803297864703c4": {
      "model_module": "@jupyter-widgets/base",
      "model_module_version": "1.2.0",
      "model_name": "LayoutModel",
      "state": {}
     },
     "0ee0361f88334cc4943a52600e95c2bf": {
      "model_module": "@jupyter-widgets/base",
      "model_module_version": "1.2.0",
      "model_name": "LayoutModel",
      "state": {}
     },
     "0f98177f5a3d4abba5c562b4e937c109": {
      "model_module": "@jupyter-widgets/controls",
      "model_module_version": "1.5.0",
      "model_name": "ButtonStyleModel",
      "state": {}
     },
     "11887017f52d45be8fa7233b77941860": {
      "model_module": "@jupyter-widgets/base",
      "model_module_version": "1.2.0",
      "model_name": "LayoutModel",
      "state": {}
     },
     "1afa9b6872e548b6b8f3f6605c5d492d": {
      "model_module": "@jupyter-widgets/controls",
      "model_module_version": "1.5.0",
      "model_name": "ButtonStyleModel",
      "state": {}
     },
     "1eed7b674a9647638b9def1d88ab2a10": {
      "model_module": "@jupyter-widgets/controls",
      "model_module_version": "1.5.0",
      "model_name": "PlayModel",
      "state": {
       "interval": 400,
       "layout": "IPY_MODEL_28f88bb7da8044608102dc4d639f2fe2",
       "style": "IPY_MODEL_a869fedf63c549c393f705dd11d9191d"
      }
     },
     "20903e16e5fb4c19bc190f39ed4e6eb9": {
      "model_module": "@jupyter-widgets/controls",
      "model_module_version": "1.5.0",
      "model_name": "ButtonStyleModel",
      "state": {}
     },
     "28f88bb7da8044608102dc4d639f2fe2": {
      "model_module": "@jupyter-widgets/base",
      "model_module_version": "1.2.0",
      "model_name": "LayoutModel",
      "state": {}
     },
     "2a889252d6d045b39536ad5e9feb376e": {
      "model_module": "@jupyter-widgets/controls",
      "model_module_version": "1.5.0",
      "model_name": "PlayModel",
      "state": {
       "interval": 400,
       "layout": "IPY_MODEL_014a2a541df047e588e995369d170096",
       "style": "IPY_MODEL_f072eff6f7ed4b3eab3012d07fc27e90"
      }
     },
     "393c1590aaec42b580e00a4ff6e35f15": {
      "model_module": "@jupyter-widgets/controls",
      "model_module_version": "1.5.0",
      "model_name": "ButtonStyleModel",
      "state": {}
     },
     "3e85c439d4884560a95a4bb5c49bf08b": {
      "model_module": "@jupyter-widgets/controls",
      "model_module_version": "1.5.0",
      "model_name": "VBoxModel",
      "state": {
       "_dom_classes": [
        "widget-interact"
       ],
       "children": [
        "IPY_MODEL_ba4d260d3e134f9eae95a16acec8054a",
        "IPY_MODEL_e30767a1e4f14be2b7982e1050db16c9"
       ],
       "layout": "IPY_MODEL_11887017f52d45be8fa7233b77941860"
      }
     },
     "64608713ec5d4e94819d730d0f016718": {
      "model_module": "@jupyter-widgets/controls",
      "model_module_version": "1.5.0",
      "model_name": "SliderStyleModel",
      "state": {
       "description_width": ""
      }
     },
     "64c018df6fb74524b900586e9c2afbe1": {
      "model_module": "@jupyter-widgets/controls",
      "model_module_version": "1.5.0",
      "model_name": "VBoxModel",
      "state": {
       "_dom_classes": [
        "widget-interact"
       ],
       "children": [
        "IPY_MODEL_6ee64c9ef98a4fec822ccf070b63b797",
        "IPY_MODEL_caee519a24e4484298280d4e2ebff383"
       ],
       "layout": "IPY_MODEL_73e5fc21a19d45649666748926808070"
      }
     },
     "6ee64c9ef98a4fec822ccf070b63b797": {
      "model_module": "@jupyter-widgets/controls",
      "model_module_version": "1.5.0",
      "model_name": "IntSliderModel",
      "state": {
       "description": "step",
       "layout": "IPY_MODEL_ab7019bafbae4a759bb347b20909260b",
       "max": 33,
       "style": "IPY_MODEL_64608713ec5d4e94819d730d0f016718"
      }
     },
     "7083ad4d96184c9f99ae198d586a63fb": {
      "model_module": "@jupyter-widgets/base",
      "model_module_version": "1.2.0",
      "model_name": "LayoutModel",
      "state": {}
     },
     "7298b827814f4a5fb8ae665496f7ea2f": {
      "model_module": "@jupyter-widgets/controls",
      "model_module_version": "1.5.0",
      "model_name": "HBoxModel",
      "state": {
       "children": [
        "IPY_MODEL_2a889252d6d045b39536ad5e9feb376e",
        "IPY_MODEL_9ca31b816f8244fe9d156d33c54c3b3a",
        "IPY_MODEL_be9726e2fe8349c3a57727a2fddb0c23"
       ],
       "layout": "IPY_MODEL_0ee0361f88334cc4943a52600e95c2bf"
      }
     },
     "73e5fc21a19d45649666748926808070": {
      "model_module": "@jupyter-widgets/base",
      "model_module_version": "1.2.0",
      "model_name": "LayoutModel",
      "state": {}
     },
     "74d1a091ac5a46d7aa0534ea46c5c90a": {
      "model_module": "@jupyter-widgets/controls",
      "model_module_version": "1.5.0",
      "model_name": "ButtonModel",
      "state": {
       "description": "Next",
       "layout": "IPY_MODEL_7083ad4d96184c9f99ae198d586a63fb",
       "style": "IPY_MODEL_0f98177f5a3d4abba5c562b4e937c109"
      }
     },
     "81e48cd90d79469396bf3e306d62ab74": {
      "model_module": "@jupyter-widgets/controls",
      "model_module_version": "1.5.0",
      "model_name": "SliderStyleModel",
      "state": {
       "description_width": ""
      }
     },
     "8be2b7e4ff81459eb06b589dfc3b51f0": {
      "model_module": "@jupyter-widgets/controls",
      "model_module_version": "1.5.0",
      "model_name": "LinkModel",
      "state": {
       "source": [
        "IPY_MODEL_2a889252d6d045b39536ad5e9feb376e",
        "value"
       ],
       "target": [
        "IPY_MODEL_ba4d260d3e134f9eae95a16acec8054a",
        "value"
       ]
      }
     },
     "8e5c572e8e3c4f67b0eb5ecbebbeef5e": {
      "model_module": "@jupyter-widgets/base",
      "model_module_version": "1.2.0",
      "model_name": "LayoutModel",
      "state": {}
     },
     "92df223f322c4d2ca11527074592e118": {
      "model_module": "@jupyter-widgets/base",
      "model_module_version": "1.2.0",
      "model_name": "LayoutModel",
      "state": {}
     },
     "94766ab6ef184851b5c9127fb113147a": {
      "model_module": "@jupyter-widgets/base",
      "model_module_version": "1.2.0",
      "model_name": "LayoutModel",
      "state": {}
     },
     "9ca31b816f8244fe9d156d33c54c3b3a": {
      "model_module": "@jupyter-widgets/controls",
      "model_module_version": "1.5.0",
      "model_name": "ButtonModel",
      "state": {
       "description": "Prev",
       "layout": "IPY_MODEL_92df223f322c4d2ca11527074592e118",
       "style": "IPY_MODEL_20903e16e5fb4c19bc190f39ed4e6eb9"
      }
     },
     "a869fedf63c549c393f705dd11d9191d": {
      "model_module": "@jupyter-widgets/controls",
      "model_module_version": "1.5.0",
      "model_name": "DescriptionStyleModel",
      "state": {
       "description_width": ""
      }
     },
     "ab7019bafbae4a759bb347b20909260b": {
      "model_module": "@jupyter-widgets/base",
      "model_module_version": "1.2.0",
      "model_name": "LayoutModel",
      "state": {}
     },
     "ba4d260d3e134f9eae95a16acec8054a": {
      "model_module": "@jupyter-widgets/controls",
      "model_module_version": "1.5.0",
      "model_name": "IntSliderModel",
      "state": {
       "description": "step",
       "layout": "IPY_MODEL_d4756ec011624e7e82d76575b2491c87",
       "max": 19,
       "style": "IPY_MODEL_81e48cd90d79469396bf3e306d62ab74"
      }
     },
     "be9726e2fe8349c3a57727a2fddb0c23": {
      "model_module": "@jupyter-widgets/controls",
      "model_module_version": "1.5.0",
      "model_name": "ButtonModel",
      "state": {
       "description": "Next",
       "layout": "IPY_MODEL_f5ff89928f9944ffae1c79280370d91f",
       "style": "IPY_MODEL_393c1590aaec42b580e00a4ff6e35f15"
      }
     },
     "caee519a24e4484298280d4e2ebff383": {
      "model_module": "@jupyter-widgets/output",
      "model_module_version": "1.0.0",
      "model_name": "OutputModel",
      "state": {
       "layout": "IPY_MODEL_8e5c572e8e3c4f67b0eb5ecbebbeef5e",
       "outputs": [
        {
         "data": {
          "text/html": "<style>pre { line-height: 125%; }\ntd.linenos .normal { color: inherit; background-color: transparent; padding-left: 5px; padding-right: 5px; }\nspan.linenos { color: inherit; background-color: transparent; padding-left: 5px; padding-right: 5px; }\ntd.linenos .special { color: #000000; background-color: #ffffc0; padding-left: 5px; padding-right: 5px; }\nspan.linenos.special { color: #000000; background-color: #ffffc0; padding-left: 5px; padding-right: 5px; }\n.output_html .hll { background-color: #ffffcc }\n.output_html { background: #f8f8f8; }\n.output_html .c { color: #408080; font-style: italic } /* Comment */\n.output_html .err { border: 1px solid #FF0000 } /* Error */\n.output_html .k { color: #008000; font-weight: bold } /* Keyword */\n.output_html .o { color: #666666 } /* Operator */\n.output_html .ch { color: #408080; font-style: italic } /* Comment.Hashbang */\n.output_html .cm { color: #408080; font-style: italic } /* Comment.Multiline */\n.output_html .cp { color: #BC7A00 } /* Comment.Preproc */\n.output_html .cpf { color: #408080; font-style: italic } /* Comment.PreprocFile */\n.output_html .c1 { color: #408080; font-style: italic } /* Comment.Single */\n.output_html .cs { color: #408080; font-style: italic } /* Comment.Special */\n.output_html .gd { color: #A00000 } /* Generic.Deleted */\n.output_html .ge { font-style: italic } /* Generic.Emph */\n.output_html .gr { color: #FF0000 } /* Generic.Error */\n.output_html .gh { color: #000080; font-weight: bold } /* Generic.Heading */\n.output_html .gi { color: #00A000 } /* Generic.Inserted */\n.output_html .go { color: #888888 } /* Generic.Output */\n.output_html .gp { color: #000080; font-weight: bold } /* Generic.Prompt */\n.output_html .gs { font-weight: bold } /* Generic.Strong */\n.output_html .gu { color: #800080; font-weight: bold } /* Generic.Subheading */\n.output_html .gt { color: #0044DD } /* Generic.Traceback */\n.output_html .kc { color: #008000; font-weight: bold } /* Keyword.Constant */\n.output_html .kd { color: #008000; font-weight: bold } /* Keyword.Declaration */\n.output_html .kn { color: #008000; font-weight: bold } /* Keyword.Namespace */\n.output_html .kp { color: #008000 } /* Keyword.Pseudo */\n.output_html .kr { color: #008000; font-weight: bold } /* Keyword.Reserved */\n.output_html .kt { color: #B00040 } /* Keyword.Type */\n.output_html .m { color: #666666 } /* Literal.Number */\n.output_html .s { color: #BA2121 } /* Literal.String */\n.output_html .na { color: #7D9029 } /* Name.Attribute */\n.output_html .nb { color: #008000 } /* Name.Builtin */\n.output_html .nc { color: #0000FF; font-weight: bold } /* Name.Class */\n.output_html .no { color: #880000 } /* Name.Constant */\n.output_html .nd { color: #AA22FF } /* Name.Decorator */\n.output_html .ni { color: #999999; font-weight: bold } /* Name.Entity */\n.output_html .ne { color: #D2413A; font-weight: bold } /* Name.Exception */\n.output_html .nf { color: #0000FF } /* Name.Function */\n.output_html .nl { color: #A0A000 } /* Name.Label */\n.output_html .nn { color: #0000FF; font-weight: bold } /* Name.Namespace */\n.output_html .nt { color: #008000; font-weight: bold } /* Name.Tag */\n.output_html .nv { color: #19177C } /* Name.Variable */\n.output_html .ow { color: #AA22FF; font-weight: bold } /* Operator.Word */\n.output_html .w { color: #bbbbbb } /* Text.Whitespace */\n.output_html .mb { color: #666666 } /* Literal.Number.Bin */\n.output_html .mf { color: #666666 } /* Literal.Number.Float */\n.output_html .mh { color: #666666 } /* Literal.Number.Hex */\n.output_html .mi { color: #666666 } /* Literal.Number.Integer */\n.output_html .mo { color: #666666 } /* Literal.Number.Oct */\n.output_html .sa { color: #BA2121 } /* Literal.String.Affix */\n.output_html .sb { color: #BA2121 } /* Literal.String.Backtick */\n.output_html .sc { color: #BA2121 } /* Literal.String.Char */\n.output_html .dl { color: #BA2121 } /* Literal.String.Delimiter */\n.output_html .sd { color: #BA2121; font-style: italic } /* Literal.String.Doc */\n.output_html .s2 { color: #BA2121 } /* Literal.String.Double */\n.output_html .se { color: #BB6622; font-weight: bold } /* Literal.String.Escape */\n.output_html .sh { color: #BA2121 } /* Literal.String.Heredoc */\n.output_html .si { color: #BB6688; font-weight: bold } /* Literal.String.Interpol */\n.output_html .sx { color: #008000 } /* Literal.String.Other */\n.output_html .sr { color: #BB6688 } /* Literal.String.Regex */\n.output_html .s1 { color: #BA2121 } /* Literal.String.Single */\n.output_html .ss { color: #19177C } /* Literal.String.Symbol */\n.output_html .bp { color: #008000 } /* Name.Builtin.Pseudo */\n.output_html .fm { color: #0000FF } /* Name.Function.Magic */\n.output_html .vc { color: #19177C } /* Name.Variable.Class */\n.output_html .vg { color: #19177C } /* Name.Variable.Global */\n.output_html .vi { color: #19177C } /* Name.Variable.Instance */\n.output_html .vm { color: #19177C } /* Name.Variable.Magic */\n.output_html .il { color: #666666 } /* Literal.Number.Integer.Long */</style><div class=\"highlight\"><pre><span></span>  x = 2\n[ 234 1 42 3 15 3 10 9 2 ]\n   ↑                   ↑  \n</pre></div>\n",
          "text/latex": "\\begin{Verbatim}[commandchars=\\\\\\{\\}]\n  x = 2\n[ 234 1 42 3 15 3 10 9 2 ]\n   ↑                   ↑  \n\\end{Verbatim}\n",
          "text/plain": "  x = 2\n[ 234 1 42 3 15 3 10 9 2 ]\n   ↑                   ↑  "
         },
         "metadata": {},
         "output_type": "display_data"
        }
       ]
      }
     },
     "d4756ec011624e7e82d76575b2491c87": {
      "model_module": "@jupyter-widgets/base",
      "model_module_version": "1.2.0",
      "model_name": "LayoutModel",
      "state": {}
     },
     "dbe5de53cfc6457c9acfa9963861c4e8": {
      "model_module": "@jupyter-widgets/controls",
      "model_module_version": "1.5.0",
      "model_name": "LinkModel",
      "state": {
       "source": [
        "IPY_MODEL_1eed7b674a9647638b9def1d88ab2a10",
        "value"
       ],
       "target": [
        "IPY_MODEL_6ee64c9ef98a4fec822ccf070b63b797",
        "value"
       ]
      }
     },
     "de15e92778254b48aaa6a8ba45194da1": {
      "model_module": "@jupyter-widgets/controls",
      "model_module_version": "1.5.0",
      "model_name": "HBoxModel",
      "state": {
       "children": [
        "IPY_MODEL_1eed7b674a9647638b9def1d88ab2a10",
        "IPY_MODEL_ec35a3b8691a4095893d5db29e481695",
        "IPY_MODEL_74d1a091ac5a46d7aa0534ea46c5c90a"
       ],
       "layout": "IPY_MODEL_074ef8fbcdc7499aa2803297864703c4"
      }
     },
     "e30767a1e4f14be2b7982e1050db16c9": {
      "model_module": "@jupyter-widgets/output",
      "model_module_version": "1.0.0",
      "model_name": "OutputModel",
      "state": {
       "layout": "IPY_MODEL_94766ab6ef184851b5c9127fb113147a",
       "outputs": [
        {
         "data": {
          "image/svg+xml": "<?xml version=\"1.0\" encoding=\"UTF-8\" standalone=\"no\"?>\r\n<!DOCTYPE svg PUBLIC \"-//W3C//DTD SVG 1.1//EN\"\r\n \"http://www.w3.org/Graphics/SVG/1.1/DTD/svg11.dtd\">\r\n<!-- Generated by graphviz version 2.44.2~dev.20200826.1453 (20200826.1453)\r\n -->\r\n<!-- Pages: 1 -->\r\n<svg width=\"439pt\" height=\"177pt\"\r\n viewBox=\"0.00 0.00 439.00 177.00\" xmlns=\"http://www.w3.org/2000/svg\" xmlns:xlink=\"http://www.w3.org/1999/xlink\">\r\n<g id=\"graph0\" class=\"graph\" transform=\"scale(1 1) rotate(0) translate(4 173)\">\r\n<polygon fill=\"white\" stroke=\"transparent\" points=\"-4,4 -4,-173 435,-173 435,4 -4,4\"/>\r\n<!-- 1 -->\r\n<g id=\"node1\" class=\"node\">\r\n<title>1</title>\r\n<ellipse fill=\"none\" stroke=\"black\" cx=\"18\" cy=\"-79\" rx=\"18\" ry=\"18\"/>\r\n<text text-anchor=\"middle\" x=\"18\" y=\"-75.3\" font-family=\"Times New Roman,serif\" font-size=\"14.00\">1</text>\r\n</g>\r\n<!-- 3 -->\r\n<g id=\"node2\" class=\"node\">\r\n<title>3</title>\r\n<ellipse fill=\"none\" stroke=\"black\" cx=\"176\" cy=\"-151\" rx=\"18\" ry=\"18\"/>\r\n<text text-anchor=\"middle\" x=\"176\" y=\"-147.3\" font-family=\"Times New Roman,serif\" font-size=\"14.00\">3</text>\r\n</g>\r\n<!-- 1&#45;&gt;3 -->\r\n<g id=\"edge1\" class=\"edge\">\r\n<title>1:&#45;&gt;3:</title>\r\n<path fill=\"none\" stroke=\"black\" d=\"M34.25,-87.49C40.35,-90.83 47.48,-94.66 54,-98 88.69,-115.74 97.05,-120.98 133,-136 138.05,-138.11 143.51,-140.2 148.78,-142.12\"/>\r\n<polygon fill=\"black\" stroke=\"black\" points=\"158.49,-145.55 147.56,-146.46 153.78,-143.89 149.06,-142.22 149.06,-142.22 149.06,-142.22 153.78,-143.89 150.57,-137.98 158.49,-145.55 158.49,-145.55\"/>\r\n<text text-anchor=\"middle\" x=\"97\" y=\"-130.8\" font-family=\"Times New Roman,serif\" font-size=\"14.00\">3</text>\r\n</g>\r\n<!-- 4 -->\r\n<g id=\"node3\" class=\"node\">\r\n<title>4</title>\r\n<ellipse fill=\"none\" stroke=\"black\" cx=\"97\" cy=\"-79\" rx=\"18\" ry=\"18\"/>\r\n<text text-anchor=\"middle\" x=\"97\" y=\"-75.3\" font-family=\"Times New Roman,serif\" font-size=\"14.00\">4</text>\r\n</g>\r\n<!-- 1&#45;&gt;4 -->\r\n<g id=\"edge2\" class=\"edge\">\r\n<title>1:&#45;&gt;4:</title>\r\n<path fill=\"none\" stroke=\"black\" d=\"M36.09,-79C45.66,-79 57.82,-79 68.68,-79\"/>\r\n<polygon fill=\"black\" stroke=\"black\" points=\"78.96,-79 68.96,-83.5 73.96,-79 68.96,-79 68.96,-79 68.96,-79 73.96,-79 68.96,-74.5 78.96,-79 78.96,-79\"/>\r\n<text text-anchor=\"middle\" x=\"57.5\" y=\"-82.8\" font-family=\"Times New Roman,serif\" font-size=\"14.00\">7</text>\r\n</g>\r\n<!-- 5 -->\r\n<g id=\"node4\" class=\"node\">\r\n<title>5</title>\r\n<ellipse fill=\"none\" stroke=\"black\" cx=\"176\" cy=\"-46\" rx=\"18\" ry=\"18\"/>\r\n<text text-anchor=\"middle\" x=\"176\" y=\"-42.3\" font-family=\"Times New Roman,serif\" font-size=\"14.00\">5</text>\r\n</g>\r\n<!-- 1&#45;&gt;5 -->\r\n<g id=\"edge3\" class=\"edge\">\r\n<title>1:&#45;&gt;5:</title>\r\n<path fill=\"none\" stroke=\"black\" d=\"M31.53,-66.71C42.87,-56.53 60.57,-42.81 79,-37 101.87,-29.79 129.21,-33.47 148.85,-38.11\"/>\r\n<polygon fill=\"black\" stroke=\"black\" points=\"158.62,-40.64 147.81,-42.49 153.78,-39.39 148.94,-38.13 148.94,-38.13 148.94,-38.13 153.78,-39.39 150.07,-33.77 158.62,-40.64 158.62,-40.64\"/>\r\n<text text-anchor=\"middle\" x=\"97\" y=\"-40.8\" font-family=\"Times New Roman,serif\" font-size=\"14.00\">2</text>\r\n</g>\r\n<!-- 2 -->\r\n<g id=\"node7\" class=\"node\">\r\n<title>2</title>\r\n<ellipse fill=\"none\" stroke=\"black\" cx=\"413\" cy=\"-87\" rx=\"18\" ry=\"18\"/>\r\n<text text-anchor=\"middle\" x=\"413\" y=\"-83.3\" font-family=\"Times New Roman,serif\" font-size=\"14.00\">2</text>\r\n</g>\r\n<!-- 3&#45;&gt;2 -->\r\n<g id=\"edge4\" class=\"edge\">\r\n<title>3:&#45;&gt;2:</title>\r\n<path fill=\"none\" stroke=\"black\" d=\"M194.03,-147.99C225.47,-142.31 294.67,-129.19 352,-114 363.28,-111.01 366.27,-110.58 377,-106 380.58,-104.47 384.28,-102.7 387.87,-100.86\"/>\r\n<polygon fill=\"black\" stroke=\"black\" points=\"396.97,-95.96 390.3,-104.66 392.57,-98.33 388.17,-100.7 388.17,-100.7 388.17,-100.7 392.57,-98.33 386.04,-96.73 396.97,-95.96 396.97,-95.96\"/>\r\n<text text-anchor=\"middle\" x=\"294.5\" y=\"-131.8\" font-family=\"Times New Roman,serif\" font-size=\"14.00\">5</text>\r\n</g>\r\n<!-- 4&#45;&gt;3 -->\r\n<g id=\"edge5\" class=\"edge\">\r\n<title>4:&#45;&gt;3:</title>\r\n<path fill=\"none\" stroke=\"black\" d=\"M110.71,-90.89C122.64,-102.04 140.68,-118.91 154.61,-131.94\"/>\r\n<polygon fill=\"black\" stroke=\"black\" points=\"162.27,-139.09 151.89,-135.55 158.61,-135.68 154.96,-132.26 154.96,-132.26 154.96,-132.26 158.61,-135.68 158.04,-128.98 162.27,-139.09 162.27,-139.09\"/>\r\n<text text-anchor=\"middle\" x=\"136.5\" y=\"-120.8\" font-family=\"Times New Roman,serif\" font-size=\"14.00\">2</text>\r\n</g>\r\n<!-- 4&#45;&gt;5 -->\r\n<g id=\"edge6\" class=\"edge\">\r\n<title>4:&#45;&gt;5:</title>\r\n<path fill=\"none\" stroke=\"black\" d=\"M113.95,-72.16C124.28,-67.74 137.94,-61.88 149.73,-56.83\"/>\r\n<polygon fill=\"black\" stroke=\"black\" points=\"159.07,-52.83 151.65,-60.9 154.47,-54.8 149.87,-56.77 149.87,-56.77 149.87,-56.77 154.47,-54.8 148.1,-52.63 159.07,-52.83 159.07,-52.83\"/>\r\n<text text-anchor=\"middle\" x=\"136.5\" y=\"-66.8\" font-family=\"Times New Roman,serif\" font-size=\"14.00\">3</text>\r\n</g>\r\n<!-- 4&#45;&gt;2 -->\r\n<g id=\"edge7\" class=\"edge\">\r\n<title>4:&#45;&gt;2:</title>\r\n<path fill=\"none\" stroke=\"black\" d=\"M109.2,-65.6C128.29,-43.06 165.95,0 175,0 175,0 175,0 335,0 367.91,0 390.15,-35.34 401.95,-60.97\"/>\r\n<polygon fill=\"black\" stroke=\"black\" points=\"405.96,-70.23 397.85,-62.84 403.97,-65.64 401.98,-61.05 401.98,-61.05 401.98,-61.05 403.97,-65.64 406.11,-59.26 405.96,-70.23 405.96,-70.23\"/>\r\n<text text-anchor=\"middle\" x=\"255\" y=\"-3.8\" font-family=\"Times New Roman,serif\" font-size=\"14.00\">2</text>\r\n</g>\r\n<!-- 6 -->\r\n<g id=\"node5\" class=\"node\">\r\n<title>6</title>\r\n<ellipse fill=\"none\" stroke=\"black\" cx=\"255\" cy=\"-87\" rx=\"18\" ry=\"18\"/>\r\n<text text-anchor=\"middle\" x=\"255\" y=\"-83.3\" font-family=\"Times New Roman,serif\" font-size=\"14.00\">6</text>\r\n</g>\r\n<!-- 5&#45;&gt;6 -->\r\n<g id=\"edge8\" class=\"edge\">\r\n<title>5:&#45;&gt;6:</title>\r\n<path fill=\"none\" stroke=\"black\" d=\"M192.21,-54.1C202.97,-59.83 217.61,-67.62 229.94,-74.19\"/>\r\n<polygon fill=\"black\" stroke=\"black\" points=\"238.82,-78.92 227.88,-78.19 234.41,-76.57 229.99,-74.22 229.99,-74.22 229.99,-74.22 234.41,-76.57 232.11,-70.24 238.82,-78.92 238.82,-78.92\"/>\r\n<text text-anchor=\"middle\" x=\"215.5\" y=\"-70.8\" font-family=\"Times New Roman,serif\" font-size=\"14.00\">2</text>\r\n</g>\r\n<!-- 6&#45;&gt;4 -->\r\n<g id=\"edge9\" class=\"edge\">\r\n<title>6:&#45;&gt;4:</title>\r\n<path fill=\"none\" stroke=\"black\" d=\"M236.83,-86.7C229.22,-86.53 220.16,-86.3 212,-86 176.87,-84.69 168.07,-84.39 133,-82 130.44,-81.83 127.79,-81.63 125.13,-81.42\"/>\r\n<polygon fill=\"black\" stroke=\"black\" points=\"115.08,-80.58 125.42,-76.93 120.06,-81 125.05,-81.41 125.05,-81.41 125.05,-81.41 120.06,-81 124.67,-85.9 115.08,-80.58 115.08,-80.58\"/>\r\n<text text-anchor=\"middle\" x=\"176\" y=\"-88.8\" font-family=\"Times New Roman,serif\" font-size=\"14.00\">2</text>\r\n</g>\r\n<!-- 7 -->\r\n<g id=\"node6\" class=\"node\">\r\n<title>7</title>\r\n<ellipse fill=\"none\" stroke=\"black\" cx=\"334\" cy=\"-87\" rx=\"18\" ry=\"18\"/>\r\n<text text-anchor=\"middle\" x=\"334\" y=\"-83.3\" font-family=\"Times New Roman,serif\" font-size=\"14.00\">7</text>\r\n</g>\r\n<!-- 6&#45;&gt;7 -->\r\n<g id=\"edge10\" class=\"edge\">\r\n<title>6:&#45;&gt;7:</title>\r\n<path fill=\"none\" stroke=\"black\" d=\"M273.09,-87C282.66,-87 294.82,-87 305.68,-87\"/>\r\n<polygon fill=\"black\" stroke=\"black\" points=\"315.96,-87 305.96,-91.5 310.96,-87 305.96,-87 305.96,-87 305.96,-87 310.96,-87 305.96,-82.5 315.96,-87 315.96,-87\"/>\r\n<text text-anchor=\"middle\" x=\"294.5\" y=\"-90.8\" font-family=\"Times New Roman,serif\" font-size=\"14.00\">1</text>\r\n</g>\r\n<!-- 7&#45;&gt;2 -->\r\n<g id=\"edge11\" class=\"edge\">\r\n<title>7:&#45;&gt;2:</title>\r\n<path fill=\"none\" stroke=\"black\" d=\"M352.09,-87C361.66,-87 373.82,-87 384.68,-87\"/>\r\n<polygon fill=\"black\" stroke=\"black\" points=\"394.96,-87 384.96,-91.5 389.96,-87 384.96,-87 384.96,-87 384.96,-87 389.96,-87 384.96,-82.5 394.96,-87 394.96,-87\"/>\r\n<text text-anchor=\"middle\" x=\"373.5\" y=\"-90.8\" font-family=\"Times New Roman,serif\" font-size=\"14.00\">7</text>\r\n</g>\r\n</g>\r\n</svg>\r\n",
          "text/plain": "<graphviz.dot.Digraph at 0x22b4f4d9940>"
         },
         "metadata": {},
         "output_type": "display_data"
        }
       ]
      }
     },
     "e4c45a41d42947c7887705611d7ff1d5": {
      "model_module": "@jupyter-widgets/base",
      "model_module_version": "1.2.0",
      "model_name": "LayoutModel",
      "state": {}
     },
     "ec35a3b8691a4095893d5db29e481695": {
      "model_module": "@jupyter-widgets/controls",
      "model_module_version": "1.5.0",
      "model_name": "ButtonModel",
      "state": {
       "description": "Prev",
       "layout": "IPY_MODEL_e4c45a41d42947c7887705611d7ff1d5",
       "style": "IPY_MODEL_1afa9b6872e548b6b8f3f6605c5d492d"
      }
     },
     "f072eff6f7ed4b3eab3012d07fc27e90": {
      "model_module": "@jupyter-widgets/controls",
      "model_module_version": "1.5.0",
      "model_name": "DescriptionStyleModel",
      "state": {
       "description_width": ""
      }
     },
     "f5ff89928f9944ffae1c79280370d91f": {
      "model_module": "@jupyter-widgets/base",
      "model_module_version": "1.2.0",
      "model_name": "LayoutModel",
      "state": {}
     }
    },
    "version_major": 2,
    "version_minor": 0
   }
  }
 },
 "nbformat": 4,
 "nbformat_minor": 4
}
