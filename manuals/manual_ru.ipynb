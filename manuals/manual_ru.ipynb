{
 "cells": [
  {
   "cell_type": "markdown",
   "metadata": {},
   "source": [
    "# Как подготовить визуализацию алгоритма с помощью этого пакета?\n",
    "Для подготовки визуализации алгоритма нужно сделать три вещи:\n",
    "* Реализовать процедуру визуализации состояния алгоритма\n",
    "* Написать сам алгоритм, попутно сохраняя состояния алгоритма\n",
    "* Воспользоваться `animate_list` из `interactive_visualization.animation_utils`"
   ]
  },
  {
   "cell_type": "markdown",
   "metadata": {},
   "source": [
    "## Пример #1: быстрая сортировка\n",
    "Для описания состояния быстрой сортировки достаточно текстовых структур. Здесь можно использовать `IPython.display.Code`, так как он позволяет нормально отображать пробелы и переводы строки. Для описания самого состояния воспользуемся следующими параметрами:\n",
    "* `array` - массив, который сортируется\n",
    "* `left, right` - границы текущего рекурсивного вызова\n",
    "* `x` - разделительный элемент\n",
    "* `p, q` - текущие значения указателей, которые используются для разделения масссивы на 2 части\n",
    "В последующем коде `left, right` будут отграничивать подмассив с помощью скобок, а на элементы `p, q` будут указывать стрелочки. "
   ]
  },
  {
   "cell_type": "code",
   "execution_count": 1,
   "metadata": {},
   "outputs": [],
   "source": [
    "from IPython.display import Code\n",
    "def qsort_state(array, left, right, x, p, q):\n",
    "    extended_array = list(map(str, array[:left])) + ['['] + list(map(str, array[left: right])) + [']'] + list(map(str, array[right:]))\n",
    "    offset_x = sum(list(map(len, extended_array[:left]))) + left + 2\n",
    "    zero_line = ''.join([' ' for i in range(offset_x)]) + f'x = {x}'\n",
    "    first_line = ' '.join(extended_array)\n",
    "    offset_p = sum(list(map(len, extended_array[:p + 1]))) + p + 1 + len(extended_array[p + 1]) // 2\n",
    "    offset_q = sum(list(map(len, extended_array[:q + 1]))) + q + 1 + len(extended_array[q + 1]) // 2\n",
    "    second_line = ''.join([' ' if i != offset_p and i != offset_q else '↑' for i in range(len(first_line))])\n",
    "\n",
    "    return Code(zero_line + '\\n' + first_line + '\\n' + second_line)"
   ]
  },
  {
   "cell_type": "code",
   "execution_count": 2,
   "metadata": {},
   "outputs": [
    {
     "data": {
      "text/html": [
       "<style>pre { line-height: 125%; }\n",
       "td.linenos .normal { color: inherit; background-color: transparent; padding-left: 5px; padding-right: 5px; }\n",
       "span.linenos { color: inherit; background-color: transparent; padding-left: 5px; padding-right: 5px; }\n",
       "td.linenos .special { color: #000000; background-color: #ffffc0; padding-left: 5px; padding-right: 5px; }\n",
       "span.linenos.special { color: #000000; background-color: #ffffc0; padding-left: 5px; padding-right: 5px; }\n",
       ".output_html .hll { background-color: #ffffcc }\n",
       ".output_html { background: #f8f8f8; }\n",
       ".output_html .c { color: #408080; font-style: italic } /* Comment */\n",
       ".output_html .err { border: 1px solid #FF0000 } /* Error */\n",
       ".output_html .k { color: #008000; font-weight: bold } /* Keyword */\n",
       ".output_html .o { color: #666666 } /* Operator */\n",
       ".output_html .ch { color: #408080; font-style: italic } /* Comment.Hashbang */\n",
       ".output_html .cm { color: #408080; font-style: italic } /* Comment.Multiline */\n",
       ".output_html .cp { color: #BC7A00 } /* Comment.Preproc */\n",
       ".output_html .cpf { color: #408080; font-style: italic } /* Comment.PreprocFile */\n",
       ".output_html .c1 { color: #408080; font-style: italic } /* Comment.Single */\n",
       ".output_html .cs { color: #408080; font-style: italic } /* Comment.Special */\n",
       ".output_html .gd { color: #A00000 } /* Generic.Deleted */\n",
       ".output_html .ge { font-style: italic } /* Generic.Emph */\n",
       ".output_html .gr { color: #FF0000 } /* Generic.Error */\n",
       ".output_html .gh { color: #000080; font-weight: bold } /* Generic.Heading */\n",
       ".output_html .gi { color: #00A000 } /* Generic.Inserted */\n",
       ".output_html .go { color: #888888 } /* Generic.Output */\n",
       ".output_html .gp { color: #000080; font-weight: bold } /* Generic.Prompt */\n",
       ".output_html .gs { font-weight: bold } /* Generic.Strong */\n",
       ".output_html .gu { color: #800080; font-weight: bold } /* Generic.Subheading */\n",
       ".output_html .gt { color: #0044DD } /* Generic.Traceback */\n",
       ".output_html .kc { color: #008000; font-weight: bold } /* Keyword.Constant */\n",
       ".output_html .kd { color: #008000; font-weight: bold } /* Keyword.Declaration */\n",
       ".output_html .kn { color: #008000; font-weight: bold } /* Keyword.Namespace */\n",
       ".output_html .kp { color: #008000 } /* Keyword.Pseudo */\n",
       ".output_html .kr { color: #008000; font-weight: bold } /* Keyword.Reserved */\n",
       ".output_html .kt { color: #B00040 } /* Keyword.Type */\n",
       ".output_html .m { color: #666666 } /* Literal.Number */\n",
       ".output_html .s { color: #BA2121 } /* Literal.String */\n",
       ".output_html .na { color: #7D9029 } /* Name.Attribute */\n",
       ".output_html .nb { color: #008000 } /* Name.Builtin */\n",
       ".output_html .nc { color: #0000FF; font-weight: bold } /* Name.Class */\n",
       ".output_html .no { color: #880000 } /* Name.Constant */\n",
       ".output_html .nd { color: #AA22FF } /* Name.Decorator */\n",
       ".output_html .ni { color: #999999; font-weight: bold } /* Name.Entity */\n",
       ".output_html .ne { color: #D2413A; font-weight: bold } /* Name.Exception */\n",
       ".output_html .nf { color: #0000FF } /* Name.Function */\n",
       ".output_html .nl { color: #A0A000 } /* Name.Label */\n",
       ".output_html .nn { color: #0000FF; font-weight: bold } /* Name.Namespace */\n",
       ".output_html .nt { color: #008000; font-weight: bold } /* Name.Tag */\n",
       ".output_html .nv { color: #19177C } /* Name.Variable */\n",
       ".output_html .ow { color: #AA22FF; font-weight: bold } /* Operator.Word */\n",
       ".output_html .w { color: #bbbbbb } /* Text.Whitespace */\n",
       ".output_html .mb { color: #666666 } /* Literal.Number.Bin */\n",
       ".output_html .mf { color: #666666 } /* Literal.Number.Float */\n",
       ".output_html .mh { color: #666666 } /* Literal.Number.Hex */\n",
       ".output_html .mi { color: #666666 } /* Literal.Number.Integer */\n",
       ".output_html .mo { color: #666666 } /* Literal.Number.Oct */\n",
       ".output_html .sa { color: #BA2121 } /* Literal.String.Affix */\n",
       ".output_html .sb { color: #BA2121 } /* Literal.String.Backtick */\n",
       ".output_html .sc { color: #BA2121 } /* Literal.String.Char */\n",
       ".output_html .dl { color: #BA2121 } /* Literal.String.Delimiter */\n",
       ".output_html .sd { color: #BA2121; font-style: italic } /* Literal.String.Doc */\n",
       ".output_html .s2 { color: #BA2121 } /* Literal.String.Double */\n",
       ".output_html .se { color: #BB6622; font-weight: bold } /* Literal.String.Escape */\n",
       ".output_html .sh { color: #BA2121 } /* Literal.String.Heredoc */\n",
       ".output_html .si { color: #BB6688; font-weight: bold } /* Literal.String.Interpol */\n",
       ".output_html .sx { color: #008000 } /* Literal.String.Other */\n",
       ".output_html .sr { color: #BB6688 } /* Literal.String.Regex */\n",
       ".output_html .s1 { color: #BA2121 } /* Literal.String.Single */\n",
       ".output_html .ss { color: #19177C } /* Literal.String.Symbol */\n",
       ".output_html .bp { color: #008000 } /* Name.Builtin.Pseudo */\n",
       ".output_html .fm { color: #0000FF } /* Name.Function.Magic */\n",
       ".output_html .vc { color: #19177C } /* Name.Variable.Class */\n",
       ".output_html .vg { color: #19177C } /* Name.Variable.Global */\n",
       ".output_html .vi { color: #19177C } /* Name.Variable.Instance */\n",
       ".output_html .vm { color: #19177C } /* Name.Variable.Magic */\n",
       ".output_html .il { color: #666666 } /* Literal.Number.Integer.Long */</style><div class=\"highlight\"><pre><span></span>      x = 4\n",
       "1 2 [ 3 4 5 ] 6\n",
       "      ↑   ↑    \n",
       "</pre></div>\n"
      ],
      "text/latex": [
       "\\begin{Verbatim}[commandchars=\\\\\\{\\}]\n",
       "      x = 4\n",
       "1 2 [ 3 4 5 ] 6\n",
       "      ↑   ↑    \n",
       "\\end{Verbatim}\n"
      ],
      "text/plain": [
       "      x = 4\n",
       "1 2 [ 3 4 5 ] 6\n",
       "      ↑   ↑    "
      ]
     },
     "execution_count": 2,
     "metadata": {},
     "output_type": "execute_result"
    }
   ],
   "source": [
    "qsort_state([1, 2, 3, 4, 5, 6], 2, 5, 4, 2, 4)"
   ]
  },
  {
   "cell_type": "markdown",
   "metadata": {},
   "source": [
    "Теперь просто реализуем сам алгоритм попутно добавляя состояния алгоритма описанной процедурой в список, который передаем дополнительным параметром."
   ]
  },
  {
   "cell_type": "code",
   "execution_count": 3,
   "metadata": {},
   "outputs": [],
   "source": [
    "import random\n",
    "\n",
    "def qsort(array, left, right, states):\n",
    "    if right - left <= 1:\n",
    "        return\n",
    "    x = array[random.randint(left, right - 1)]\n",
    "    p = left\n",
    "    q = right - 1\n",
    "    states.append(qsort_state(array, left, right, x, p, q))\n",
    "    while p <= q:\n",
    "        while array[p] < x:\n",
    "            p += 1\n",
    "            states.append(qsort_state(array, left, right, x, p, q))\n",
    "        while array[q] > x:\n",
    "            q -= 1\n",
    "            states.append(qsort_state(array, left, right, x, p, q))\n",
    "        if p <= q:\n",
    "            array[p], array[q] = (array[q], array[p])\n",
    "            states.append(qsort_state(array, left, right, x, p, q))\n",
    "            p += 1\n",
    "            q -= 1\n",
    "            if p <= q:\n",
    "                states.append(qsort_state(array, left, right, x, p, q))\n",
    "    qsort(array, left, q + 1, states)\n",
    "    qsort(array, p, right, states)   "
   ]
  },
  {
   "cell_type": "markdown",
   "metadata": {},
   "source": [
    "Теперь запустим нашу функию на каком-нибудь массиве. В качестве `states` нужно передать пустой список."
   ]
  },
  {
   "cell_type": "code",
   "execution_count": 4,
   "metadata": {},
   "outputs": [],
   "source": [
    "from interactive_visualization.animation_utils import animate_list"
   ]
  },
  {
   "cell_type": "code",
   "execution_count": 5,
   "metadata": {},
   "outputs": [
    {
     "data": {
      "application/vnd.jupyter.widget-view+json": {
       "model_id": "95e46715fd3343deb911c2236d022655",
       "version_major": 2,
       "version_minor": 0
      },
      "text/plain": [
       "HBox(children=(Play(value=0, interval=400), Button(description='Prev', style=ButtonStyle()), Button(descriptio…"
      ]
     },
     "metadata": {},
     "output_type": "display_data"
    },
    {
     "data": {
      "application/vnd.jupyter.widget-view+json": {
       "model_id": "72479eadfd8b417a9d6bc87f2ab10b6d",
       "version_major": 2,
       "version_minor": 0
      },
      "text/plain": [
       "interactive(children=(IntSlider(value=0, description='step', max=39), Output()), _dom_classes=('widget-interac…"
      ]
     },
     "metadata": {},
     "output_type": "display_data"
    }
   ],
   "source": [
    "a = [234, 1, 42, 3, 15, 3, 10, 9, 2]\n",
    "states = []\n",
    "qsort(a, 0, len(a), states)\n",
    "animate_list(states, play=True, interval=400);"
   ]
  },
  {
   "cell_type": "markdown",
   "metadata": {},
   "source": [
    "Стоит отметить, что бегунок `steps` является обязательным элементом управления. Проигрыватель и кнопки `назад` и `вперед` являются опциональными и указываются параметрами `play, navigation` (по умолчанию `False, True`)."
   ]
  },
  {
   "cell_type": "markdown",
   "metadata": {},
   "source": [
    "## Пример #2: Обход в глубину\n",
    "Более содержательный пример - визуализация обхода в глубину. Здесь мы воспользуемся `graphviz` для отображения графов. Кроме того, здесь будет удобно хранить состояние графа в виде отдельной структуры и немного видоизменять её, вместо того, чтобы каждый раз её строить. Здесь я воспользуюсь оберткой над `graphviz` из `graph_utils`, но можно использовать его и напрямую."
   ]
  },
  {
   "cell_type": "code",
   "execution_count": 6,
   "metadata": {},
   "outputs": [],
   "source": [
    "from interactive_visualization.graph_utils import Graph, Arc, Node"
   ]
  },
  {
   "cell_type": "markdown",
   "metadata": {},
   "source": [
    "В целом описание состояния будет иметь следующий вид:\n",
    "* Зеленые переходы - те, по которым мы перешли, но еще не вернулись обратно\n",
    "* Зеленые вершины - те, в которые мы зашли, но еще не вышли из них\n",
    "* Красные переходы - те, по которым мы перешли и уже вышли\n",
    "* Красные вершины - те, в которые мы зашли и вышли\n",
    "* Синие переходы - те, по которым мы не стали переходить, так как они ведут уже в посещенные вершины\n",
    "В итоге красные переходы должны будут образовать дерево обхода."
   ]
  },
  {
   "cell_type": "code",
   "execution_count": 7,
   "metadata": {},
   "outputs": [],
   "source": [
    "def enter_node(node):\n",
    "    node.SetColor('blue')\n",
    "    \n",
    "def enter_arc(node, arc):\n",
    "    node.SetColor('green')\n",
    "    arc.attributes['style'] = 'dashed'\n",
    "    arc.attributes['color'] = 'green'\n",
    "    \n",
    "def return_from_arc(node, arc):\n",
    "    arc.attributes['style'] = 'solid'\n",
    "    arc.attributes['color'] = 'red'\n",
    "    node.SetColor('blue')\n",
    "    \n",
    "def ignore_arc(arc):\n",
    "    arc.attributes['color'] = 'blue'\n",
    "    \n",
    "def leave_node(node):\n",
    "    node.SetColor('red')"
   ]
  },
  {
   "cell_type": "markdown",
   "metadata": {},
   "source": [
    "А теперь сам обход"
   ]
  },
  {
   "cell_type": "code",
   "execution_count": 8,
   "metadata": {},
   "outputs": [],
   "source": [
    "def dfs(graph, node_id, visited, outlist, path):\n",
    "    visited.add(node_id)\n",
    "    path.append(node_id)\n",
    "    enter_node(graph.nodes[node_id])\n",
    "    outlist.append(graph.Visualize())\n",
    "    for arc in graph.nodes[node_id].arcs:\n",
    "        if arc.end not in visited:\n",
    "            enter_arc(graph.nodes[node_id], arc)\n",
    "            dfs(graph, arc.end, visited, outlist, path) \n",
    "            return_from_arc(graph.nodes[node_id], arc)\n",
    "            path.append(node_id)\n",
    "        else:\n",
    "            ignore_arc(arc)\n",
    "        outlist.append(graph.Visualize())      \n",
    "    leave_node(graph.nodes[node_id])"
   ]
  },
  {
   "cell_type": "code",
   "execution_count": 9,
   "metadata": {},
   "outputs": [],
   "source": [
    "arcs = [\n",
    "    Arc(1, 3, 3),\n",
    "    Arc(1, 4, 7),\n",
    "    Arc(4, 3, 2),\n",
    "    Arc(4, 5, 3),\n",
    "    Arc(1, 5, 2),\n",
    "    Arc(6, 4, 2),\n",
    "    Arc(5, 6, 2),\n",
    "    Arc(6, 7, 1),\n",
    "    Arc(7, 2, 7),\n",
    "    Arc(4, 2, 2),\n",
    "    Arc(3, 2, 5)\n",
    "]"
   ]
  },
  {
   "cell_type": "code",
   "execution_count": 10,
   "metadata": {},
   "outputs": [
    {
     "data": {
      "application/vnd.jupyter.widget-view+json": {
       "model_id": "7fcbcbf4c7294d0ca8353b1908f7c714",
       "version_major": 2,
       "version_minor": 0
      },
      "text/plain": [
       "HBox(children=(Play(value=0, interval=400), Button(description='Prev', style=ButtonStyle()), Button(descriptio…"
      ]
     },
     "metadata": {},
     "output_type": "display_data"
    },
    {
     "data": {
      "application/vnd.jupyter.widget-view+json": {
       "model_id": "9cada69f83b4494da77b6e795aaab4b2",
       "version_major": 2,
       "version_minor": 0
      },
      "text/plain": [
       "interactive(children=(IntSlider(value=0, description='step', max=19), Output()), _dom_classes=('widget-interac…"
      ]
     },
     "metadata": {},
     "output_type": "display_data"
    }
   ],
   "source": [
    "# Если следующий код выдает ошибку, что ему не удается выполнить `dot`, то\n",
    "# скорее всего придется отдельно поставить graphviz\n",
    "# https://graphviz.org/download/\n",
    "graph = Graph(arcs)\n",
    "visited = set()\n",
    "dfs_outlist = []\n",
    "path = []\n",
    "dfs_outlist.append(graph.Visualize())\n",
    "dfs(graph, 1, visited, dfs_outlist, path)\n",
    "dfs_outlist.append(graph.Visualize())\n",
    "animate_list(dfs_outlist, play=True, interval=400);"
   ]
  }
 ],
 "metadata": {
  "kernelspec": {
   "display_name": "Python 3",
   "language": "python",
   "name": "python3"
  },
  "language_info": {
   "codemirror_mode": {
    "name": "ipython",
    "version": 3
   },
   "file_extension": ".py",
   "mimetype": "text/x-python",
   "name": "python",
   "nbconvert_exporter": "python",
   "pygments_lexer": "ipython3",
   "version": "3.8.5"
  },
  "widgets": {
   "application/vnd.jupyter.widget-state+json": {
    "state": {},
    "version_major": 2,
    "version_minor": 0
   }
  }
 },
 "nbformat": 4,
 "nbformat_minor": 4
}
